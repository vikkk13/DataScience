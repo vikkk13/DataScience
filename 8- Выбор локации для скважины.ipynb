{
 "cells": [
  {
   "cell_type": "markdown",
   "metadata": {},
   "source": [
    "# Выбор локации для скважины"
   ]
  },
  {
   "cell_type": "markdown",
   "metadata": {},
   "source": [
    "Допустим, вы работаете в добывающей компании «ГлавРосГосНефть». Нужно решить, где бурить новую скважину.\n",
    "\n",
    "Вам предоставлены пробы нефти в трёх регионах: в каждом 10 000 месторождений, где измерили качество нефти и объём её запасов. Постройте модель машинного обучения, которая поможет определить регион, где добыча принесёт наибольшую прибыль. Проанализируйте возможную прибыль и риски техникой *Bootstrap.*\n",
    "\n",
    "Шаги для выбора локации:\n",
    "\n",
    "- В избранном регионе ищут месторождения, для каждого определяют значения признаков;\n",
    "- Строят модель и оценивают объём запасов;\n",
    "- Выбирают месторождения с самым высокими оценками значений. Количество месторождений зависит от бюджета компании и стоимости разработки одной скважины;\n",
    "- Прибыль равна суммарной прибыли отобранных месторождений."
   ]
  },
  {
   "cell_type": "markdown",
   "metadata": {},
   "source": [
    "## Загрузка и подготовка данных"
   ]
  },
  {
   "cell_type": "code",
   "execution_count": 1,
   "metadata": {},
   "outputs": [],
   "source": [
    "import pandas as pd\n",
    "import numpy as np\n",
    "from sklearn.linear_model import LinearRegression\n",
    "from sklearn.model_selection import train_test_split\n",
    "from sklearn.metrics import mean_squared_error\n",
    "import warnings\n",
    "from scipy import stats"
   ]
  },
  {
   "cell_type": "markdown",
   "metadata": {},
   "source": [
    "Загрузим все необхдимые библиотеки и инструменты для работы."
   ]
  },
  {
   "cell_type": "code",
   "execution_count": 2,
   "metadata": {},
   "outputs": [],
   "source": [
    "warnings.filterwarnings(\"ignore\")"
   ]
  },
  {
   "cell_type": "markdown",
   "metadata": {},
   "source": [
    "Отключим предупреждения."
   ]
  },
  {
   "cell_type": "code",
   "execution_count": 3,
   "metadata": {},
   "outputs": [],
   "source": [
    "data_0 = pd.read_csv('/datasets/geo_data_0.csv')\n",
    "data_1 = pd.read_csv('/datasets/geo_data_1.csv')\n",
    "data_2 = pd.read_csv('/datasets/geo_data_2.csv')"
   ]
  },
  {
   "cell_type": "markdown",
   "metadata": {},
   "source": [
    "Загрузим данные"
   ]
  },
  {
   "cell_type": "code",
   "execution_count": 4,
   "metadata": {},
   "outputs": [
    {
     "data": {
      "text/html": [
       "<div>\n",
       "<style scoped>\n",
       "    .dataframe tbody tr th:only-of-type {\n",
       "        vertical-align: middle;\n",
       "    }\n",
       "\n",
       "    .dataframe tbody tr th {\n",
       "        vertical-align: top;\n",
       "    }\n",
       "\n",
       "    .dataframe thead th {\n",
       "        text-align: right;\n",
       "    }\n",
       "</style>\n",
       "<table border=\"1\" class=\"dataframe\">\n",
       "  <thead>\n",
       "    <tr style=\"text-align: right;\">\n",
       "      <th></th>\n",
       "      <th>id</th>\n",
       "      <th>f0</th>\n",
       "      <th>f1</th>\n",
       "      <th>f2</th>\n",
       "      <th>product</th>\n",
       "    </tr>\n",
       "  </thead>\n",
       "  <tbody>\n",
       "    <tr>\n",
       "      <th>0</th>\n",
       "      <td>txEyH</td>\n",
       "      <td>0.705745</td>\n",
       "      <td>-0.497823</td>\n",
       "      <td>1.221170</td>\n",
       "      <td>105.280062</td>\n",
       "    </tr>\n",
       "    <tr>\n",
       "      <th>1</th>\n",
       "      <td>2acmU</td>\n",
       "      <td>1.334711</td>\n",
       "      <td>-0.340164</td>\n",
       "      <td>4.365080</td>\n",
       "      <td>73.037750</td>\n",
       "    </tr>\n",
       "    <tr>\n",
       "      <th>2</th>\n",
       "      <td>409Wp</td>\n",
       "      <td>1.022732</td>\n",
       "      <td>0.151990</td>\n",
       "      <td>1.419926</td>\n",
       "      <td>85.265647</td>\n",
       "    </tr>\n",
       "    <tr>\n",
       "      <th>3</th>\n",
       "      <td>iJLyR</td>\n",
       "      <td>-0.032172</td>\n",
       "      <td>0.139033</td>\n",
       "      <td>2.978566</td>\n",
       "      <td>168.620776</td>\n",
       "    </tr>\n",
       "    <tr>\n",
       "      <th>4</th>\n",
       "      <td>Xdl7t</td>\n",
       "      <td>1.988431</td>\n",
       "      <td>0.155413</td>\n",
       "      <td>4.751769</td>\n",
       "      <td>154.036647</td>\n",
       "    </tr>\n",
       "  </tbody>\n",
       "</table>\n",
       "</div>"
      ],
      "text/plain": [
       "      id        f0        f1        f2     product\n",
       "0  txEyH  0.705745 -0.497823  1.221170  105.280062\n",
       "1  2acmU  1.334711 -0.340164  4.365080   73.037750\n",
       "2  409Wp  1.022732  0.151990  1.419926   85.265647\n",
       "3  iJLyR -0.032172  0.139033  2.978566  168.620776\n",
       "4  Xdl7t  1.988431  0.155413  4.751769  154.036647"
      ]
     },
     "execution_count": 4,
     "metadata": {},
     "output_type": "execute_result"
    }
   ],
   "source": [
    "data_0.head(5)"
   ]
  },
  {
   "cell_type": "code",
   "execution_count": 5,
   "metadata": {},
   "outputs": [
    {
     "name": "stdout",
     "output_type": "stream",
     "text": [
      "<class 'pandas.core.frame.DataFrame'>\n",
      "RangeIndex: 100000 entries, 0 to 99999\n",
      "Data columns (total 5 columns):\n",
      " #   Column   Non-Null Count   Dtype  \n",
      "---  ------   --------------   -----  \n",
      " 0   id       100000 non-null  object \n",
      " 1   f0       100000 non-null  float64\n",
      " 2   f1       100000 non-null  float64\n",
      " 3   f2       100000 non-null  float64\n",
      " 4   product  100000 non-null  float64\n",
      "dtypes: float64(4), object(1)\n",
      "memory usage: 3.8+ MB\n"
     ]
    }
   ],
   "source": [
    "data_0.info()"
   ]
  },
  {
   "cell_type": "code",
   "execution_count": 6,
   "metadata": {},
   "outputs": [
    {
     "data": {
      "text/html": [
       "<div>\n",
       "<style scoped>\n",
       "    .dataframe tbody tr th:only-of-type {\n",
       "        vertical-align: middle;\n",
       "    }\n",
       "\n",
       "    .dataframe tbody tr th {\n",
       "        vertical-align: top;\n",
       "    }\n",
       "\n",
       "    .dataframe thead th {\n",
       "        text-align: right;\n",
       "    }\n",
       "</style>\n",
       "<table border=\"1\" class=\"dataframe\">\n",
       "  <thead>\n",
       "    <tr style=\"text-align: right;\">\n",
       "      <th></th>\n",
       "      <th>id</th>\n",
       "      <th>f0</th>\n",
       "      <th>f1</th>\n",
       "      <th>f2</th>\n",
       "      <th>product</th>\n",
       "    </tr>\n",
       "  </thead>\n",
       "  <tbody>\n",
       "    <tr>\n",
       "      <th>0</th>\n",
       "      <td>kBEdx</td>\n",
       "      <td>-15.001348</td>\n",
       "      <td>-8.276000</td>\n",
       "      <td>-0.005876</td>\n",
       "      <td>3.179103</td>\n",
       "    </tr>\n",
       "    <tr>\n",
       "      <th>1</th>\n",
       "      <td>62mP7</td>\n",
       "      <td>14.272088</td>\n",
       "      <td>-3.475083</td>\n",
       "      <td>0.999183</td>\n",
       "      <td>26.953261</td>\n",
       "    </tr>\n",
       "    <tr>\n",
       "      <th>2</th>\n",
       "      <td>vyE1P</td>\n",
       "      <td>6.263187</td>\n",
       "      <td>-5.948386</td>\n",
       "      <td>5.001160</td>\n",
       "      <td>134.766305</td>\n",
       "    </tr>\n",
       "    <tr>\n",
       "      <th>3</th>\n",
       "      <td>KcrkZ</td>\n",
       "      <td>-13.081196</td>\n",
       "      <td>-11.506057</td>\n",
       "      <td>4.999415</td>\n",
       "      <td>137.945408</td>\n",
       "    </tr>\n",
       "    <tr>\n",
       "      <th>4</th>\n",
       "      <td>AHL4O</td>\n",
       "      <td>12.702195</td>\n",
       "      <td>-8.147433</td>\n",
       "      <td>5.004363</td>\n",
       "      <td>134.766305</td>\n",
       "    </tr>\n",
       "  </tbody>\n",
       "</table>\n",
       "</div>"
      ],
      "text/plain": [
       "      id         f0         f1        f2     product\n",
       "0  kBEdx -15.001348  -8.276000 -0.005876    3.179103\n",
       "1  62mP7  14.272088  -3.475083  0.999183   26.953261\n",
       "2  vyE1P   6.263187  -5.948386  5.001160  134.766305\n",
       "3  KcrkZ -13.081196 -11.506057  4.999415  137.945408\n",
       "4  AHL4O  12.702195  -8.147433  5.004363  134.766305"
      ]
     },
     "execution_count": 6,
     "metadata": {},
     "output_type": "execute_result"
    }
   ],
   "source": [
    "data_1.head(5)"
   ]
  },
  {
   "cell_type": "code",
   "execution_count": 7,
   "metadata": {},
   "outputs": [
    {
     "name": "stdout",
     "output_type": "stream",
     "text": [
      "<class 'pandas.core.frame.DataFrame'>\n",
      "RangeIndex: 100000 entries, 0 to 99999\n",
      "Data columns (total 5 columns):\n",
      " #   Column   Non-Null Count   Dtype  \n",
      "---  ------   --------------   -----  \n",
      " 0   id       100000 non-null  object \n",
      " 1   f0       100000 non-null  float64\n",
      " 2   f1       100000 non-null  float64\n",
      " 3   f2       100000 non-null  float64\n",
      " 4   product  100000 non-null  float64\n",
      "dtypes: float64(4), object(1)\n",
      "memory usage: 3.8+ MB\n"
     ]
    }
   ],
   "source": [
    "data_1.info()"
   ]
  },
  {
   "cell_type": "code",
   "execution_count": 8,
   "metadata": {},
   "outputs": [
    {
     "data": {
      "text/html": [
       "<div>\n",
       "<style scoped>\n",
       "    .dataframe tbody tr th:only-of-type {\n",
       "        vertical-align: middle;\n",
       "    }\n",
       "\n",
       "    .dataframe tbody tr th {\n",
       "        vertical-align: top;\n",
       "    }\n",
       "\n",
       "    .dataframe thead th {\n",
       "        text-align: right;\n",
       "    }\n",
       "</style>\n",
       "<table border=\"1\" class=\"dataframe\">\n",
       "  <thead>\n",
       "    <tr style=\"text-align: right;\">\n",
       "      <th></th>\n",
       "      <th>id</th>\n",
       "      <th>f0</th>\n",
       "      <th>f1</th>\n",
       "      <th>f2</th>\n",
       "      <th>product</th>\n",
       "    </tr>\n",
       "  </thead>\n",
       "  <tbody>\n",
       "    <tr>\n",
       "      <th>0</th>\n",
       "      <td>fwXo0</td>\n",
       "      <td>-1.146987</td>\n",
       "      <td>0.963328</td>\n",
       "      <td>-0.828965</td>\n",
       "      <td>27.758673</td>\n",
       "    </tr>\n",
       "    <tr>\n",
       "      <th>1</th>\n",
       "      <td>WJtFt</td>\n",
       "      <td>0.262778</td>\n",
       "      <td>0.269839</td>\n",
       "      <td>-2.530187</td>\n",
       "      <td>56.069697</td>\n",
       "    </tr>\n",
       "    <tr>\n",
       "      <th>2</th>\n",
       "      <td>ovLUW</td>\n",
       "      <td>0.194587</td>\n",
       "      <td>0.289035</td>\n",
       "      <td>-5.586433</td>\n",
       "      <td>62.871910</td>\n",
       "    </tr>\n",
       "    <tr>\n",
       "      <th>3</th>\n",
       "      <td>q6cA6</td>\n",
       "      <td>2.236060</td>\n",
       "      <td>-0.553760</td>\n",
       "      <td>0.930038</td>\n",
       "      <td>114.572842</td>\n",
       "    </tr>\n",
       "    <tr>\n",
       "      <th>4</th>\n",
       "      <td>WPMUX</td>\n",
       "      <td>-0.515993</td>\n",
       "      <td>1.716266</td>\n",
       "      <td>5.899011</td>\n",
       "      <td>149.600746</td>\n",
       "    </tr>\n",
       "  </tbody>\n",
       "</table>\n",
       "</div>"
      ],
      "text/plain": [
       "      id        f0        f1        f2     product\n",
       "0  fwXo0 -1.146987  0.963328 -0.828965   27.758673\n",
       "1  WJtFt  0.262778  0.269839 -2.530187   56.069697\n",
       "2  ovLUW  0.194587  0.289035 -5.586433   62.871910\n",
       "3  q6cA6  2.236060 -0.553760  0.930038  114.572842\n",
       "4  WPMUX -0.515993  1.716266  5.899011  149.600746"
      ]
     },
     "execution_count": 8,
     "metadata": {},
     "output_type": "execute_result"
    }
   ],
   "source": [
    "data_2.head(5)"
   ]
  },
  {
   "cell_type": "code",
   "execution_count": 9,
   "metadata": {},
   "outputs": [
    {
     "name": "stdout",
     "output_type": "stream",
     "text": [
      "<class 'pandas.core.frame.DataFrame'>\n",
      "RangeIndex: 100000 entries, 0 to 99999\n",
      "Data columns (total 5 columns):\n",
      " #   Column   Non-Null Count   Dtype  \n",
      "---  ------   --------------   -----  \n",
      " 0   id       100000 non-null  object \n",
      " 1   f0       100000 non-null  float64\n",
      " 2   f1       100000 non-null  float64\n",
      " 3   f2       100000 non-null  float64\n",
      " 4   product  100000 non-null  float64\n",
      "dtypes: float64(4), object(1)\n",
      "memory usage: 3.8+ MB\n"
     ]
    }
   ],
   "source": [
    "data_2.info()"
   ]
  },
  {
   "cell_type": "code",
   "execution_count": 10,
   "metadata": {},
   "outputs": [
    {
     "data": {
      "text/html": [
       "<div>\n",
       "<style scoped>\n",
       "    .dataframe tbody tr th:only-of-type {\n",
       "        vertical-align: middle;\n",
       "    }\n",
       "\n",
       "    .dataframe tbody tr th {\n",
       "        vertical-align: top;\n",
       "    }\n",
       "\n",
       "    .dataframe thead th {\n",
       "        text-align: right;\n",
       "    }\n",
       "</style>\n",
       "<table border=\"1\" class=\"dataframe\">\n",
       "  <thead>\n",
       "    <tr style=\"text-align: right;\">\n",
       "      <th></th>\n",
       "      <th>f0</th>\n",
       "      <th>f1</th>\n",
       "      <th>f2</th>\n",
       "      <th>product</th>\n",
       "    </tr>\n",
       "  </thead>\n",
       "  <tbody>\n",
       "    <tr>\n",
       "      <th>count</th>\n",
       "      <td>100000.000000</td>\n",
       "      <td>100000.000000</td>\n",
       "      <td>100000.000000</td>\n",
       "      <td>100000.000000</td>\n",
       "    </tr>\n",
       "    <tr>\n",
       "      <th>mean</th>\n",
       "      <td>0.500419</td>\n",
       "      <td>0.250143</td>\n",
       "      <td>2.502647</td>\n",
       "      <td>92.500000</td>\n",
       "    </tr>\n",
       "    <tr>\n",
       "      <th>std</th>\n",
       "      <td>0.871832</td>\n",
       "      <td>0.504433</td>\n",
       "      <td>3.248248</td>\n",
       "      <td>44.288691</td>\n",
       "    </tr>\n",
       "    <tr>\n",
       "      <th>min</th>\n",
       "      <td>-1.408605</td>\n",
       "      <td>-0.848218</td>\n",
       "      <td>-12.088328</td>\n",
       "      <td>0.000000</td>\n",
       "    </tr>\n",
       "    <tr>\n",
       "      <th>25%</th>\n",
       "      <td>-0.072580</td>\n",
       "      <td>-0.200881</td>\n",
       "      <td>0.287748</td>\n",
       "      <td>56.497507</td>\n",
       "    </tr>\n",
       "    <tr>\n",
       "      <th>50%</th>\n",
       "      <td>0.502360</td>\n",
       "      <td>0.250252</td>\n",
       "      <td>2.515969</td>\n",
       "      <td>91.849972</td>\n",
       "    </tr>\n",
       "    <tr>\n",
       "      <th>75%</th>\n",
       "      <td>1.073581</td>\n",
       "      <td>0.700646</td>\n",
       "      <td>4.715088</td>\n",
       "      <td>128.564089</td>\n",
       "    </tr>\n",
       "    <tr>\n",
       "      <th>max</th>\n",
       "      <td>2.362331</td>\n",
       "      <td>1.343769</td>\n",
       "      <td>16.003790</td>\n",
       "      <td>185.364347</td>\n",
       "    </tr>\n",
       "  </tbody>\n",
       "</table>\n",
       "</div>"
      ],
      "text/plain": [
       "                  f0             f1             f2        product\n",
       "count  100000.000000  100000.000000  100000.000000  100000.000000\n",
       "mean        0.500419       0.250143       2.502647      92.500000\n",
       "std         0.871832       0.504433       3.248248      44.288691\n",
       "min        -1.408605      -0.848218     -12.088328       0.000000\n",
       "25%        -0.072580      -0.200881       0.287748      56.497507\n",
       "50%         0.502360       0.250252       2.515969      91.849972\n",
       "75%         1.073581       0.700646       4.715088     128.564089\n",
       "max         2.362331       1.343769      16.003790     185.364347"
      ]
     },
     "execution_count": 10,
     "metadata": {},
     "output_type": "execute_result"
    }
   ],
   "source": [
    "data_0.describe()"
   ]
  },
  {
   "cell_type": "code",
   "execution_count": 11,
   "metadata": {},
   "outputs": [
    {
     "data": {
      "text/html": [
       "<div>\n",
       "<style scoped>\n",
       "    .dataframe tbody tr th:only-of-type {\n",
       "        vertical-align: middle;\n",
       "    }\n",
       "\n",
       "    .dataframe tbody tr th {\n",
       "        vertical-align: top;\n",
       "    }\n",
       "\n",
       "    .dataframe thead th {\n",
       "        text-align: right;\n",
       "    }\n",
       "</style>\n",
       "<table border=\"1\" class=\"dataframe\">\n",
       "  <thead>\n",
       "    <tr style=\"text-align: right;\">\n",
       "      <th></th>\n",
       "      <th>f0</th>\n",
       "      <th>f1</th>\n",
       "      <th>f2</th>\n",
       "      <th>product</th>\n",
       "    </tr>\n",
       "  </thead>\n",
       "  <tbody>\n",
       "    <tr>\n",
       "      <th>count</th>\n",
       "      <td>100000.000000</td>\n",
       "      <td>100000.000000</td>\n",
       "      <td>100000.000000</td>\n",
       "      <td>100000.000000</td>\n",
       "    </tr>\n",
       "    <tr>\n",
       "      <th>mean</th>\n",
       "      <td>1.141296</td>\n",
       "      <td>-4.796579</td>\n",
       "      <td>2.494541</td>\n",
       "      <td>68.825000</td>\n",
       "    </tr>\n",
       "    <tr>\n",
       "      <th>std</th>\n",
       "      <td>8.965932</td>\n",
       "      <td>5.119872</td>\n",
       "      <td>1.703572</td>\n",
       "      <td>45.944423</td>\n",
       "    </tr>\n",
       "    <tr>\n",
       "      <th>min</th>\n",
       "      <td>-31.609576</td>\n",
       "      <td>-26.358598</td>\n",
       "      <td>-0.018144</td>\n",
       "      <td>0.000000</td>\n",
       "    </tr>\n",
       "    <tr>\n",
       "      <th>25%</th>\n",
       "      <td>-6.298551</td>\n",
       "      <td>-8.267985</td>\n",
       "      <td>1.000021</td>\n",
       "      <td>26.953261</td>\n",
       "    </tr>\n",
       "    <tr>\n",
       "      <th>50%</th>\n",
       "      <td>1.153055</td>\n",
       "      <td>-4.813172</td>\n",
       "      <td>2.011479</td>\n",
       "      <td>57.085625</td>\n",
       "    </tr>\n",
       "    <tr>\n",
       "      <th>75%</th>\n",
       "      <td>8.621015</td>\n",
       "      <td>-1.332816</td>\n",
       "      <td>3.999904</td>\n",
       "      <td>107.813044</td>\n",
       "    </tr>\n",
       "    <tr>\n",
       "      <th>max</th>\n",
       "      <td>29.421755</td>\n",
       "      <td>18.734063</td>\n",
       "      <td>5.019721</td>\n",
       "      <td>137.945408</td>\n",
       "    </tr>\n",
       "  </tbody>\n",
       "</table>\n",
       "</div>"
      ],
      "text/plain": [
       "                  f0             f1             f2        product\n",
       "count  100000.000000  100000.000000  100000.000000  100000.000000\n",
       "mean        1.141296      -4.796579       2.494541      68.825000\n",
       "std         8.965932       5.119872       1.703572      45.944423\n",
       "min       -31.609576     -26.358598      -0.018144       0.000000\n",
       "25%        -6.298551      -8.267985       1.000021      26.953261\n",
       "50%         1.153055      -4.813172       2.011479      57.085625\n",
       "75%         8.621015      -1.332816       3.999904     107.813044\n",
       "max        29.421755      18.734063       5.019721     137.945408"
      ]
     },
     "execution_count": 11,
     "metadata": {},
     "output_type": "execute_result"
    }
   ],
   "source": [
    "data_1.describe()"
   ]
  },
  {
   "cell_type": "code",
   "execution_count": 12,
   "metadata": {},
   "outputs": [
    {
     "data": {
      "text/html": [
       "<div>\n",
       "<style scoped>\n",
       "    .dataframe tbody tr th:only-of-type {\n",
       "        vertical-align: middle;\n",
       "    }\n",
       "\n",
       "    .dataframe tbody tr th {\n",
       "        vertical-align: top;\n",
       "    }\n",
       "\n",
       "    .dataframe thead th {\n",
       "        text-align: right;\n",
       "    }\n",
       "</style>\n",
       "<table border=\"1\" class=\"dataframe\">\n",
       "  <thead>\n",
       "    <tr style=\"text-align: right;\">\n",
       "      <th></th>\n",
       "      <th>f0</th>\n",
       "      <th>f1</th>\n",
       "      <th>f2</th>\n",
       "      <th>product</th>\n",
       "    </tr>\n",
       "  </thead>\n",
       "  <tbody>\n",
       "    <tr>\n",
       "      <th>count</th>\n",
       "      <td>100000.000000</td>\n",
       "      <td>100000.000000</td>\n",
       "      <td>100000.000000</td>\n",
       "      <td>100000.000000</td>\n",
       "    </tr>\n",
       "    <tr>\n",
       "      <th>mean</th>\n",
       "      <td>0.002023</td>\n",
       "      <td>-0.002081</td>\n",
       "      <td>2.495128</td>\n",
       "      <td>95.000000</td>\n",
       "    </tr>\n",
       "    <tr>\n",
       "      <th>std</th>\n",
       "      <td>1.732045</td>\n",
       "      <td>1.730417</td>\n",
       "      <td>3.473445</td>\n",
       "      <td>44.749921</td>\n",
       "    </tr>\n",
       "    <tr>\n",
       "      <th>min</th>\n",
       "      <td>-8.760004</td>\n",
       "      <td>-7.084020</td>\n",
       "      <td>-11.970335</td>\n",
       "      <td>0.000000</td>\n",
       "    </tr>\n",
       "    <tr>\n",
       "      <th>25%</th>\n",
       "      <td>-1.162288</td>\n",
       "      <td>-1.174820</td>\n",
       "      <td>0.130359</td>\n",
       "      <td>59.450441</td>\n",
       "    </tr>\n",
       "    <tr>\n",
       "      <th>50%</th>\n",
       "      <td>0.009424</td>\n",
       "      <td>-0.009482</td>\n",
       "      <td>2.484236</td>\n",
       "      <td>94.925613</td>\n",
       "    </tr>\n",
       "    <tr>\n",
       "      <th>75%</th>\n",
       "      <td>1.158535</td>\n",
       "      <td>1.163678</td>\n",
       "      <td>4.858794</td>\n",
       "      <td>130.595027</td>\n",
       "    </tr>\n",
       "    <tr>\n",
       "      <th>max</th>\n",
       "      <td>7.238262</td>\n",
       "      <td>7.844801</td>\n",
       "      <td>16.739402</td>\n",
       "      <td>190.029838</td>\n",
       "    </tr>\n",
       "  </tbody>\n",
       "</table>\n",
       "</div>"
      ],
      "text/plain": [
       "                  f0             f1             f2        product\n",
       "count  100000.000000  100000.000000  100000.000000  100000.000000\n",
       "mean        0.002023      -0.002081       2.495128      95.000000\n",
       "std         1.732045       1.730417       3.473445      44.749921\n",
       "min        -8.760004      -7.084020     -11.970335       0.000000\n",
       "25%        -1.162288      -1.174820       0.130359      59.450441\n",
       "50%         0.009424      -0.009482       2.484236      94.925613\n",
       "75%         1.158535       1.163678       4.858794     130.595027\n",
       "max         7.238262       7.844801      16.739402     190.029838"
      ]
     },
     "execution_count": 12,
     "metadata": {},
     "output_type": "execute_result"
    }
   ],
   "source": [
    "data_2.describe()"
   ]
  },
  {
   "cell_type": "code",
   "execution_count": 13,
   "metadata": {},
   "outputs": [],
   "source": [
    "data_0 = data_0.drop(['id'], axis=1)\n",
    "data_1 = data_1.drop(['id'], axis=1)\n",
    "data_2 = data_2.drop(['id'], axis=1)"
   ]
  },
  {
   "cell_type": "markdown",
   "metadata": {},
   "source": [
    "Столбец \"уникальный идентификатор скважины\" не влияет на решение поставленной задачи. Его можно удалить."
   ]
  },
  {
   "cell_type": "markdown",
   "metadata": {},
   "source": [
    "Мы загрузили все необходимые инструменты для работы, загрузили данные о трех скважинах. Изучили данные и подготовили их для обучения моделей."
   ]
  },
  {
   "cell_type": "markdown",
   "metadata": {},
   "source": [
    "## Обучение и проверка модели"
   ]
  },
  {
   "cell_type": "code",
   "execution_count": 14,
   "metadata": {},
   "outputs": [],
   "source": [
    "data_0_train, data_0_valid = train_test_split(data_0, test_size=0.25, random_state=12345)\n",
    "data_1_train, data_1_valid = train_test_split(data_1, test_size=0.25, random_state=12345)\n",
    "data_2_train, data_2_valid = train_test_split(data_2, test_size=0.25, random_state=12345)"
   ]
  },
  {
   "cell_type": "markdown",
   "metadata": {},
   "source": [
    "Разобьем данные на обучающую и валидационную выборки в соотношении 75:25"
   ]
  },
  {
   "cell_type": "code",
   "execution_count": 15,
   "metadata": {},
   "outputs": [],
   "source": [
    "features_0_train = data_0_train.drop(['product'], axis=1)\n",
    "target_0_train = data_0_train['product']\n",
    "features_0_valid = data_0_valid.drop(['product'], axis=1)\n",
    "target_0_valid = data_0_valid['product']\n",
    "\n",
    "features_1_train = data_1_train.drop(['product'], axis=1)\n",
    "target_1_train = data_1_train['product']\n",
    "features_1_valid = data_1_valid.drop(['product'], axis=1)\n",
    "target_1_valid = data_1_valid['product']\n",
    "\n",
    "features_2_train = data_2_train.drop(['product'], axis=1)\n",
    "target_2_train = data_2_train['product']\n",
    "features_2_valid = data_2_valid.drop(['product'], axis=1)\n",
    "target_2_valid = data_2_valid['product']"
   ]
  },
  {
   "cell_type": "markdown",
   "metadata": {},
   "source": [
    "Разобьем данные на обучающую и валидационную выборки в соотношении 75:25."
   ]
  },
  {
   "cell_type": "code",
   "execution_count": 16,
   "metadata": {},
   "outputs": [
    {
     "name": "stdout",
     "output_type": "stream",
     "text": [
      "(75000, 3)\n",
      "(25000, 3)\n",
      "(75000,)\n",
      "(25000,)\n",
      "(75000, 3)\n",
      "(25000, 3)\n",
      "(75000,)\n",
      "(25000,)\n",
      "(75000, 3)\n",
      "(25000, 3)\n",
      "(75000,)\n",
      "(25000,)\n"
     ]
    }
   ],
   "source": [
    "print(features_0_train.shape)\n",
    "print(features_0_valid.shape)\n",
    "print(target_0_train.shape)\n",
    "print(target_0_valid.shape)\n",
    "print(features_1_train.shape)\n",
    "print(features_1_valid.shape)\n",
    "print(target_1_train.shape)\n",
    "print(target_1_valid.shape)\n",
    "print(features_2_train.shape)\n",
    "print(features_2_valid.shape)\n",
    "print(target_2_train.shape)\n",
    "print(target_2_valid.shape)"
   ]
  },
  {
   "cell_type": "markdown",
   "metadata": {},
   "source": [
    "Проверим выборки."
   ]
  },
  {
   "cell_type": "code",
   "execution_count": 17,
   "metadata": {},
   "outputs": [],
   "source": [
    "model = LinearRegression()# инициализируем модель LinearRegression\n",
    "model.fit(features_0_train, target_0_train) # обучим модель на тренировочной выборке\n",
    "predictions_0_valid = model.predict(features_0_valid) # получим предсказания модели на валидационной выборке"
   ]
  },
  {
   "cell_type": "markdown",
   "metadata": {},
   "source": [
    "Обучим модель и сделаем предсказания на валидационной выборке для региона 0."
   ]
  },
  {
   "cell_type": "code",
   "execution_count": 18,
   "metadata": {},
   "outputs": [],
   "source": [
    "model.fit(features_1_train, target_1_train) # обучим модель на тренировочной выборке\n",
    "predictions_1_valid = model.predict(features_1_valid) # получим предсказания модели на валидационной выборке"
   ]
  },
  {
   "cell_type": "markdown",
   "metadata": {},
   "source": [
    "Обучим модель и сделаем предсказания на валидационной выборке для региона 1."
   ]
  },
  {
   "cell_type": "code",
   "execution_count": 19,
   "metadata": {},
   "outputs": [],
   "source": [
    "model.fit(features_2_train, target_2_train) # обучим модель на тренировочной выборке\n",
    "predictions_2_valid = model.predict(features_2_valid) # получим предсказания модели на валидационной выборке"
   ]
  },
  {
   "cell_type": "markdown",
   "metadata": {},
   "source": [
    "Обучим модель и сделаем предсказания на валидационной выборке для региона 2."
   ]
  },
  {
   "cell_type": "code",
   "execution_count": 20,
   "metadata": {},
   "outputs": [
    {
     "name": "stdout",
     "output_type": "stream",
     "text": [
      "92.59256778438035\n",
      "37.5794217150813\n"
     ]
    }
   ],
   "source": [
    "print(predictions_0_valid.mean())\n",
    "print(mean_squared_error(target_0_valid, predictions_0_valid)**0.5)"
   ]
  },
  {
   "cell_type": "code",
   "execution_count": 21,
   "metadata": {},
   "outputs": [
    {
     "name": "stdout",
     "output_type": "stream",
     "text": [
      "68.728546895446\n",
      "0.893099286775617\n"
     ]
    }
   ],
   "source": [
    "print(predictions_1_valid.mean())\n",
    "print(mean_squared_error(target_1_valid, predictions_1_valid)**0.5)"
   ]
  },
  {
   "cell_type": "code",
   "execution_count": 22,
   "metadata": {},
   "outputs": [
    {
     "name": "stdout",
     "output_type": "stream",
     "text": [
      "94.96504596800489\n",
      "40.02970873393434\n"
     ]
    }
   ],
   "source": [
    "print(predictions_2_valid.mean())\n",
    "print(mean_squared_error(target_2_valid, predictions_2_valid)**0.5)"
   ]
  },
  {
   "cell_type": "markdown",
   "metadata": {},
   "source": [
    "Вывели на экран средний запас предсказанного сырья и значение RMSE"
   ]
  },
  {
   "cell_type": "markdown",
   "metadata": {},
   "source": [
    "Мы обучили модели по всем трём месторождениям. Вывели на экран средний запас предсказанного сырья и значение RMSE. Больше всего запас сырья в скважине № 2. Немного меньше в скважине №0 и сильно уступает по этому параметру скважина № 1. "
   ]
  },
  {
   "cell_type": "markdown",
   "metadata": {},
   "source": [
    "## Подготовка к расчёту прибыли"
   ]
  },
  {
   "cell_type": "code",
   "execution_count": 23,
   "metadata": {},
   "outputs": [
    {
     "name": "stdout",
     "output_type": "stream",
     "text": [
      "50000000.0\n"
     ]
    }
   ],
   "source": [
    "BUDGET = 10000000000\n",
    "PRICE = 450000\n",
    "MONEY_FOR_POINT = BUDGET/200\n",
    "print(MONEY_FOR_POINT)"
   ]
  },
  {
   "cell_type": "markdown",
   "metadata": {},
   "source": [
    "Подсчитаем сколько денег выделяют на одну точку."
   ]
  },
  {
   "cell_type": "code",
   "execution_count": 24,
   "metadata": {},
   "outputs": [
    {
     "name": "stdout",
     "output_type": "stream",
     "text": [
      "111.11111111111111\n"
     ]
    }
   ],
   "source": [
    "BARR=MONEY_FOR_POINT/PRICE\n",
    "print(BARR)"
   ]
  },
  {
   "cell_type": "markdown",
   "metadata": {},
   "source": [
    "Подсчитаем, сколько нужно тысяч баррелей для того, чтобы окупить затраты"
   ]
  },
  {
   "cell_type": "code",
   "execution_count": 25,
   "metadata": {},
   "outputs": [
    {
     "name": "stdout",
     "output_type": "stream",
     "text": [
      "19.032514370281845\n",
      "42.38797508675114\n",
      "16.226878302256736\n"
     ]
    }
   ],
   "source": [
    "print(BARR - target_0_valid.mean()) # Объём сырья для безубыточной разработки скважины № 0\n",
    "print(BARR - target_1_valid.mean()) # Объём сырья для безубыточной разработки скважины № 1 \n",
    "print(BARR - target_2_valid.mean()) # Объём сырья для безубыточной разработки скважины № 2 "
   ]
  },
  {
   "cell_type": "markdown",
   "metadata": {},
   "source": [
    "Разработка скважины № 1 слишком затратна. Посмотрим,что получится при дальнейшем изучении."
   ]
  },
  {
   "cell_type": "markdown",
   "metadata": {},
   "source": [
    "## Расчёт прибыли и рисков "
   ]
  },
  {
   "cell_type": "code",
   "execution_count": 26,
   "metadata": {},
   "outputs": [],
   "source": [
    "def profit(target, predictions, count):\n",
    "    profit=0\n",
    "    probs_sorted = predictions.sort_values(ascending=False).head(200)\n",
    "    selected = target[probs_sorted.index][:count] \n",
    "    return PRICE * selected.sum() - BUDGET"
   ]
  },
  {
   "cell_type": "markdown",
   "metadata": {},
   "source": [
    "Напишем функцию для расчёта прибыли по выбранным скважинам и предсказаниям модели"
   ]
  },
  {
   "cell_type": "code",
   "execution_count": 27,
   "metadata": {},
   "outputs": [
    {
     "name": "stdout",
     "output_type": "stream",
     "text": [
      "Прибиыльность 200 топовых скважин валидационной выборки 3321 млн.\n"
     ]
    }
   ],
   "source": [
    "data_0_valid['product_pred']=predictions_0_valid\n",
    "\n",
    "profit0=profit(data_0_valid['product'], data_0_valid['product_pred'],200)\n",
    "print(\"Прибиыльность 200 топовых скважин валидационной выборки\", round(profit0/1000000), \"млн.\")"
   ]
  },
  {
   "cell_type": "code",
   "execution_count": 28,
   "metadata": {},
   "outputs": [
    {
     "name": "stdout",
     "output_type": "stream",
     "text": [
      "Прибиыльность 200 топовых скважин валидационной выборки 2415 млн.\n"
     ]
    }
   ],
   "source": [
    "data_1_valid['product_pred']=predictions_1_valid\n",
    "\n",
    "profit1=profit(data_1_valid['product'], data_1_valid['product_pred'],200)\n",
    "print(\"Прибиыльность 200 топовых скважин валидационной выборки\", round(profit1/1000000), \"млн.\")"
   ]
  },
  {
   "cell_type": "code",
   "execution_count": 29,
   "metadata": {},
   "outputs": [
    {
     "name": "stdout",
     "output_type": "stream",
     "text": [
      "Прибиыльность 200 топовых скважин валидационной выборки 2710 млн.\n"
     ]
    }
   ],
   "source": [
    "data_2_valid['product_pred']=predictions_2_valid\n",
    "\n",
    "profit2=profit(data_2_valid['product'], data_2_valid['product_pred'],200)\n",
    "print(\"Прибиыльность 200 топовых скважин валидационной выборки\", round(profit2/1000000), \"млн.\")"
   ]
  },
  {
   "cell_type": "code",
   "execution_count": 30,
   "metadata": {},
   "outputs": [
    {
     "name": "stdout",
     "output_type": "stream",
     "text": [
      "Для первого месторождения\n",
      "Вероятность убытков 2.0 %\n",
      "Среднее значение бутстрепа 600.7352442611652 млн.\n",
      "Верхняя граница доверительного интервала 1231163605.7914982\n",
      "Нижняя граница доверительного интервала 12948331.135115242\n",
      "\n",
      "\n",
      "Для второго месторождения\n",
      "Вероятность убытков 0.30000000000000004 %\n",
      "Среднее значение бутстрепа 665.2410582210723 млн.\n",
      "Верхняя граница доверительного интервала 1197641587.4631522\n",
      "Нижняя граница доверительного интервала 157988481.31991574\n",
      "\n",
      "\n",
      "Для третьего месторождения\n",
      "Вероятность убытков 3.0 %\n",
      "Среднее значение бутстрепа 615.5597228409678 млн.\n",
      "Верхняя граница доверительного интервала 1230644473.941316\n",
      "Нижняя граница доверительного интервала -12218495.237293953\n",
      "\n"
     ]
    }
   ],
   "source": [
    "def boots (target, predictions):\n",
    "    state = np.random.RandomState(12345)\n",
    "    values = []\n",
    "    counter=0\n",
    "    for i in range(1000):\n",
    "        target_subsample = target.sample(n=500, replace=True, random_state=state)\n",
    "        preds_subsample = predictions[target_subsample.index]\n",
    "        \n",
    "        values.append(profit(target_subsample, preds_subsample, 500))\n",
    "        \n",
    "    values = pd.Series(values)\n",
    "    lower = values.quantile(0.025)\n",
    "    higher = values.quantile(0.975)\n",
    "    \n",
    "    print('Вероятность убытков',stats.percentileofscore(values, 0),'%')\n",
    "    print(\"Среднее значение бутстрепа\", (values.mean())/1000000, \"млн.\")\n",
    "    print(\"Верхняя граница доверительного интервала\", higher)\n",
    "    print(\"Нижняя граница доверительного интервала\", lower)\n",
    "    print()\n",
    "print(\"Для первого месторождения\")\n",
    "boots(data_0_valid['product'], data_0_valid['product_pred'])\n",
    "print()\n",
    "print(\"Для второго месторождения\")\n",
    "boots(data_1_valid['product'], data_1_valid['product_pred'])\n",
    "print()\n",
    "print(\"Для третьего месторождения\")\n",
    "boots(data_2_valid['product'], data_2_valid['product_pred'])"
   ]
  },
  {
   "cell_type": "markdown",
   "metadata": {},
   "source": [
    "Вывод:<br>\n",
    "    Большое кол-во скважин с лучшими запасами имеет регион № 1, который показал прибыль 3321 млн на лучших предсказанных данных;<br>\n",
    "    Но выбирать регион только по лучшей прибыли некорректно, т.к. надо рассматривать и риски и расходы, особенно, когда на разработку нужно потратить 10 млрд рублей;<br>\n",
    "    Основной критерий - вероятность убытков - 2.5 %. Регион № 2 имеет самую низкую вероятность убытков, всего 1,7%;<br>\n",
    "    Остальные регионы имеют риск, превышающий основной критерий, поэтому рассмотрены быть не могут, хотя регион № 3 имеет более высокие значения верхней границы доверительного интервала.<br>\n",
    "    Исходя из всего проведенного анализа, можно смело заявить, что второе месторождение самое выгодное, об этом говорит и показатель RMSE и процент убытков.<br>"
   ]
  }
 ],
 "metadata": {
  "ExecuteTimeLog": [
   {
    "duration": 1323,
    "start_time": "2022-11-27T19:34:03.538Z"
   },
   {
    "duration": 871,
    "start_time": "2022-11-27T19:34:04.863Z"
   },
   {
    "duration": 55,
    "start_time": "2022-11-27T19:34:05.981Z"
   },
   {
    "duration": 14,
    "start_time": "2022-11-27T19:34:13.675Z"
   },
   {
    "duration": 8,
    "start_time": "2022-11-27T19:34:42.634Z"
   },
   {
    "duration": 86,
    "start_time": "2022-11-27T19:36:14.602Z"
   },
   {
    "duration": 9,
    "start_time": "2022-11-27T19:37:20.932Z"
   },
   {
    "duration": 380,
    "start_time": "2022-11-27T19:40:45.883Z"
   },
   {
    "duration": 7,
    "start_time": "2022-11-27T19:40:47.283Z"
   },
   {
    "duration": 9,
    "start_time": "2022-11-27T19:42:01.323Z"
   },
   {
    "duration": 8,
    "start_time": "2022-11-27T19:43:41.229Z"
   },
   {
    "duration": 3,
    "start_time": "2022-11-27T19:44:17.966Z"
   },
   {
    "duration": 414,
    "start_time": "2022-11-27T19:44:19.049Z"
   },
   {
    "duration": 10,
    "start_time": "2022-11-27T19:44:19.876Z"
   },
   {
    "duration": 13,
    "start_time": "2022-11-27T19:47:09.111Z"
   },
   {
    "duration": 4,
    "start_time": "2022-11-27T19:49:06.230Z"
   },
   {
    "duration": 7,
    "start_time": "2022-11-27T19:49:38.111Z"
   },
   {
    "duration": 17,
    "start_time": "2022-11-27T19:50:17.670Z"
   },
   {
    "duration": 15,
    "start_time": "2022-11-27T19:51:17.782Z"
   },
   {
    "duration": 11,
    "start_time": "2022-11-27T19:51:18.545Z"
   },
   {
    "duration": 360,
    "start_time": "2022-11-27T19:51:28.078Z"
   },
   {
    "duration": 10,
    "start_time": "2022-11-27T19:51:29.275Z"
   },
   {
    "duration": 14,
    "start_time": "2022-11-27T19:51:30.604Z"
   },
   {
    "duration": 8,
    "start_time": "2022-11-27T19:51:31.235Z"
   },
   {
    "duration": 15,
    "start_time": "2022-11-27T19:51:32.265Z"
   },
   {
    "duration": 12,
    "start_time": "2022-11-27T19:51:35.093Z"
   },
   {
    "duration": 22,
    "start_time": "2022-11-27T19:51:36.937Z"
   },
   {
    "duration": 66,
    "start_time": "2022-11-27T19:58:24.458Z"
   },
   {
    "duration": 4,
    "start_time": "2022-11-27T20:01:47.389Z"
   },
   {
    "duration": 15,
    "start_time": "2022-11-27T20:16:06.378Z"
   },
   {
    "duration": 49,
    "start_time": "2022-11-27T20:16:07.762Z"
   },
   {
    "duration": 9,
    "start_time": "2022-11-27T20:16:09.740Z"
   },
   {
    "duration": 54,
    "start_time": "2022-11-27T20:16:29.738Z"
   },
   {
    "duration": 6,
    "start_time": "2022-11-27T20:16:31.111Z"
   },
   {
    "duration": 5,
    "start_time": "2022-11-27T20:17:51.397Z"
   },
   {
    "duration": 5,
    "start_time": "2022-11-27T20:18:20.623Z"
   },
   {
    "duration": 33,
    "start_time": "2022-11-27T20:23:52.875Z"
   },
   {
    "duration": 29,
    "start_time": "2022-11-27T20:23:53.404Z"
   },
   {
    "duration": 1549,
    "start_time": "2022-11-27T20:35:16.416Z"
   },
   {
    "duration": 776,
    "start_time": "2022-11-27T20:35:17.967Z"
   },
   {
    "duration": 16,
    "start_time": "2022-11-27T20:35:18.745Z"
   },
   {
    "duration": 16,
    "start_time": "2022-11-27T20:35:18.762Z"
   },
   {
    "duration": 9,
    "start_time": "2022-11-27T20:35:18.781Z"
   },
   {
    "duration": 25,
    "start_time": "2022-11-27T20:35:18.792Z"
   },
   {
    "duration": 21,
    "start_time": "2022-11-27T20:35:18.819Z"
   },
   {
    "duration": 16,
    "start_time": "2022-11-27T20:35:18.842Z"
   },
   {
    "duration": 1482,
    "start_time": "2022-11-27T20:35:39.990Z"
   },
   {
    "duration": 775,
    "start_time": "2022-11-27T20:35:41.474Z"
   },
   {
    "duration": 19,
    "start_time": "2022-11-27T20:35:42.251Z"
   },
   {
    "duration": 15,
    "start_time": "2022-11-27T20:35:42.272Z"
   },
   {
    "duration": 9,
    "start_time": "2022-11-27T20:35:42.289Z"
   },
   {
    "duration": 20,
    "start_time": "2022-11-27T20:35:42.300Z"
   },
   {
    "duration": 21,
    "start_time": "2022-11-27T20:35:42.322Z"
   },
   {
    "duration": 19,
    "start_time": "2022-11-27T20:35:42.345Z"
   },
   {
    "duration": 2227,
    "start_time": "2022-11-27T20:37:27.751Z"
   },
   {
    "duration": 755,
    "start_time": "2022-11-27T20:37:29.981Z"
   },
   {
    "duration": 21,
    "start_time": "2022-11-27T20:37:30.738Z"
   },
   {
    "duration": 34,
    "start_time": "2022-11-27T20:37:30.760Z"
   },
   {
    "duration": 24,
    "start_time": "2022-11-27T20:37:30.796Z"
   },
   {
    "duration": 38,
    "start_time": "2022-11-27T20:37:30.821Z"
   },
   {
    "duration": 12,
    "start_time": "2022-11-27T20:37:30.861Z"
   },
   {
    "duration": 40,
    "start_time": "2022-11-27T20:37:30.875Z"
   },
   {
    "duration": 1069,
    "start_time": "2022-11-28T06:09:09.349Z"
   },
   {
    "duration": 761,
    "start_time": "2022-11-28T06:09:10.420Z"
   },
   {
    "duration": 18,
    "start_time": "2022-11-28T06:09:11.183Z"
   },
   {
    "duration": 15,
    "start_time": "2022-11-28T06:09:11.203Z"
   },
   {
    "duration": 10,
    "start_time": "2022-11-28T06:09:11.220Z"
   },
   {
    "duration": 29,
    "start_time": "2022-11-28T06:09:11.232Z"
   },
   {
    "duration": 9,
    "start_time": "2022-11-28T06:09:11.263Z"
   },
   {
    "duration": 19,
    "start_time": "2022-11-28T06:09:11.274Z"
   },
   {
    "duration": 14,
    "start_time": "2022-11-28T06:09:11.295Z"
   },
   {
    "duration": 12,
    "start_time": "2022-11-28T06:09:11.311Z"
   },
   {
    "duration": 53,
    "start_time": "2022-11-28T06:09:11.324Z"
   },
   {
    "duration": 6,
    "start_time": "2022-11-28T06:09:11.378Z"
   },
   {
    "duration": 72,
    "start_time": "2022-11-28T06:09:11.386Z"
   },
   {
    "duration": 98,
    "start_time": "2022-11-28T06:09:11.461Z"
   },
   {
    "duration": 193,
    "start_time": "2022-11-28T06:09:11.562Z"
   },
   {
    "duration": 25,
    "start_time": "2022-11-28T06:10:41.263Z"
   },
   {
    "duration": 15,
    "start_time": "2022-11-28T06:10:45.632Z"
   },
   {
    "duration": 15,
    "start_time": "2022-11-28T06:10:46.541Z"
   },
   {
    "duration": 19,
    "start_time": "2022-11-28T06:10:47.626Z"
   },
   {
    "duration": 3,
    "start_time": "2022-11-28T06:17:49.359Z"
   },
   {
    "duration": 95,
    "start_time": "2022-11-28T06:19:06.788Z"
   },
   {
    "duration": 1027,
    "start_time": "2022-11-28T06:19:15.103Z"
   },
   {
    "duration": 382,
    "start_time": "2022-11-28T06:19:16.132Z"
   },
   {
    "duration": 18,
    "start_time": "2022-11-28T06:19:16.515Z"
   },
   {
    "duration": 27,
    "start_time": "2022-11-28T06:19:16.534Z"
   },
   {
    "duration": 9,
    "start_time": "2022-11-28T06:19:16.564Z"
   },
   {
    "duration": 20,
    "start_time": "2022-11-28T06:19:16.575Z"
   },
   {
    "duration": 10,
    "start_time": "2022-11-28T06:19:16.596Z"
   },
   {
    "duration": 19,
    "start_time": "2022-11-28T06:19:16.607Z"
   },
   {
    "duration": 29,
    "start_time": "2022-11-28T06:19:16.627Z"
   },
   {
    "duration": 19,
    "start_time": "2022-11-28T06:19:16.658Z"
   },
   {
    "duration": 42,
    "start_time": "2022-11-28T06:19:16.679Z"
   },
   {
    "duration": 5,
    "start_time": "2022-11-28T06:19:16.723Z"
   },
   {
    "duration": 27,
    "start_time": "2022-11-28T06:19:16.730Z"
   },
   {
    "duration": 198,
    "start_time": "2022-11-28T06:19:16.765Z"
   },
   {
    "duration": 197,
    "start_time": "2022-11-28T06:19:16.966Z"
   },
   {
    "duration": 291,
    "start_time": "2022-11-28T06:19:17.165Z"
   },
   {
    "duration": 1135,
    "start_time": "2022-11-28T06:24:33.730Z"
   },
   {
    "duration": 378,
    "start_time": "2022-11-28T06:24:34.867Z"
   },
   {
    "duration": 15,
    "start_time": "2022-11-28T06:24:35.247Z"
   },
   {
    "duration": 19,
    "start_time": "2022-11-28T06:24:35.264Z"
   },
   {
    "duration": 9,
    "start_time": "2022-11-28T06:24:35.286Z"
   },
   {
    "duration": 17,
    "start_time": "2022-11-28T06:24:35.297Z"
   },
   {
    "duration": 8,
    "start_time": "2022-11-28T06:24:35.316Z"
   },
   {
    "duration": 37,
    "start_time": "2022-11-28T06:24:35.326Z"
   },
   {
    "duration": 12,
    "start_time": "2022-11-28T06:24:35.364Z"
   },
   {
    "duration": 14,
    "start_time": "2022-11-28T06:24:35.378Z"
   },
   {
    "duration": 35,
    "start_time": "2022-11-28T06:24:35.393Z"
   },
   {
    "duration": 6,
    "start_time": "2022-11-28T06:24:35.429Z"
   },
   {
    "duration": 31,
    "start_time": "2022-11-28T06:24:35.437Z"
   },
   {
    "duration": 184,
    "start_time": "2022-11-28T06:24:35.472Z"
   },
   {
    "duration": 200,
    "start_time": "2022-11-28T06:24:35.659Z"
   },
   {
    "duration": 6,
    "start_time": "2022-11-28T06:24:35.861Z"
   },
   {
    "duration": 5,
    "start_time": "2022-11-28T06:38:39.459Z"
   },
   {
    "duration": 5,
    "start_time": "2022-11-28T06:38:42.768Z"
   },
   {
    "duration": 4,
    "start_time": "2022-11-28T06:40:36.890Z"
   },
   {
    "duration": 5,
    "start_time": "2022-11-28T06:40:44.455Z"
   },
   {
    "duration": 4,
    "start_time": "2022-11-28T06:40:51.809Z"
   },
   {
    "duration": 39,
    "start_time": "2022-11-28T06:59:27.646Z"
   },
   {
    "duration": 44,
    "start_time": "2022-11-28T06:59:40.836Z"
   },
   {
    "duration": 39,
    "start_time": "2022-11-28T06:59:44.627Z"
   },
   {
    "duration": 36,
    "start_time": "2022-11-28T06:59:56.033Z"
   },
   {
    "duration": 35,
    "start_time": "2022-11-28T06:59:58.374Z"
   },
   {
    "duration": 3,
    "start_time": "2022-11-28T07:18:42.325Z"
   },
   {
    "duration": 3,
    "start_time": "2022-11-28T07:22:28.703Z"
   },
   {
    "duration": 5,
    "start_time": "2022-11-28T07:33:30.964Z"
   },
   {
    "duration": 5,
    "start_time": "2022-11-28T07:33:40.109Z"
   },
   {
    "duration": 4,
    "start_time": "2022-11-28T07:37:11.582Z"
   },
   {
    "duration": 3,
    "start_time": "2022-11-28T07:39:43.842Z"
   },
   {
    "duration": 101,
    "start_time": "2022-11-28T07:42:35.316Z"
   },
   {
    "duration": 9,
    "start_time": "2022-11-28T07:43:11.766Z"
   },
   {
    "duration": 11,
    "start_time": "2022-11-28T07:53:28.131Z"
   },
   {
    "duration": 28,
    "start_time": "2022-11-28T07:53:42.215Z"
   },
   {
    "duration": 14,
    "start_time": "2022-11-28T07:53:43.492Z"
   },
   {
    "duration": 1071,
    "start_time": "2022-11-28T07:53:50.193Z"
   },
   {
    "duration": 386,
    "start_time": "2022-11-28T07:53:51.266Z"
   },
   {
    "duration": 19,
    "start_time": "2022-11-28T07:53:51.653Z"
   },
   {
    "duration": 16,
    "start_time": "2022-11-28T07:53:51.675Z"
   },
   {
    "duration": 11,
    "start_time": "2022-11-28T07:53:51.692Z"
   },
   {
    "duration": 17,
    "start_time": "2022-11-28T07:53:51.704Z"
   },
   {
    "duration": 10,
    "start_time": "2022-11-28T07:53:51.754Z"
   },
   {
    "duration": 20,
    "start_time": "2022-11-28T07:53:51.766Z"
   },
   {
    "duration": 39,
    "start_time": "2022-11-28T07:53:51.788Z"
   },
   {
    "duration": 38,
    "start_time": "2022-11-28T07:53:51.854Z"
   },
   {
    "duration": 36,
    "start_time": "2022-11-28T07:53:51.894Z"
   },
   {
    "duration": 29,
    "start_time": "2022-11-28T07:53:51.932Z"
   },
   {
    "duration": 29,
    "start_time": "2022-11-28T07:53:51.963Z"
   },
   {
    "duration": 14,
    "start_time": "2022-11-28T07:53:51.994Z"
   },
   {
    "duration": 123,
    "start_time": "2022-11-28T07:53:52.011Z"
   },
   {
    "duration": 0,
    "start_time": "2022-11-28T07:53:52.136Z"
   },
   {
    "duration": 1,
    "start_time": "2022-11-28T07:53:52.137Z"
   },
   {
    "duration": 0,
    "start_time": "2022-11-28T07:53:52.139Z"
   },
   {
    "duration": 0,
    "start_time": "2022-11-28T07:53:52.140Z"
   },
   {
    "duration": 0,
    "start_time": "2022-11-28T07:53:52.155Z"
   },
   {
    "duration": 0,
    "start_time": "2022-11-28T07:53:52.156Z"
   },
   {
    "duration": 0,
    "start_time": "2022-11-28T07:53:52.158Z"
   },
   {
    "duration": 0,
    "start_time": "2022-11-28T07:53:52.159Z"
   },
   {
    "duration": 0,
    "start_time": "2022-11-28T07:53:52.161Z"
   },
   {
    "duration": 0,
    "start_time": "2022-11-28T07:53:52.162Z"
   },
   {
    "duration": 0,
    "start_time": "2022-11-28T07:53:52.164Z"
   },
   {
    "duration": 13,
    "start_time": "2022-11-28T07:54:35.188Z"
   },
   {
    "duration": 6,
    "start_time": "2022-11-28T07:54:38.559Z"
   },
   {
    "duration": 1128,
    "start_time": "2022-11-28T07:54:44.417Z"
   },
   {
    "duration": 392,
    "start_time": "2022-11-28T07:54:45.547Z"
   },
   {
    "duration": 17,
    "start_time": "2022-11-28T07:54:45.941Z"
   },
   {
    "duration": 16,
    "start_time": "2022-11-28T07:54:45.960Z"
   },
   {
    "duration": 10,
    "start_time": "2022-11-28T07:54:45.978Z"
   },
   {
    "duration": 24,
    "start_time": "2022-11-28T07:54:45.989Z"
   },
   {
    "duration": 9,
    "start_time": "2022-11-28T07:54:46.015Z"
   },
   {
    "duration": 41,
    "start_time": "2022-11-28T07:54:46.025Z"
   },
   {
    "duration": 42,
    "start_time": "2022-11-28T07:54:46.068Z"
   },
   {
    "duration": 50,
    "start_time": "2022-11-28T07:54:46.112Z"
   },
   {
    "duration": 37,
    "start_time": "2022-11-28T07:54:46.163Z"
   },
   {
    "duration": 10,
    "start_time": "2022-11-28T07:54:46.202Z"
   },
   {
    "duration": 54,
    "start_time": "2022-11-28T07:54:46.213Z"
   },
   {
    "duration": 15,
    "start_time": "2022-11-28T07:54:46.270Z"
   },
   {
    "duration": 12,
    "start_time": "2022-11-28T07:54:46.286Z"
   },
   {
    "duration": 56,
    "start_time": "2022-11-28T07:54:46.300Z"
   },
   {
    "duration": 102,
    "start_time": "2022-11-28T07:54:46.358Z"
   },
   {
    "duration": 193,
    "start_time": "2022-11-28T07:54:46.463Z"
   },
   {
    "duration": 100,
    "start_time": "2022-11-28T07:54:46.659Z"
   },
   {
    "duration": 120,
    "start_time": "2022-11-28T07:54:46.762Z"
   },
   {
    "duration": 18,
    "start_time": "2022-11-28T07:54:46.884Z"
   },
   {
    "duration": 6,
    "start_time": "2022-11-28T07:54:46.903Z"
   },
   {
    "duration": 10,
    "start_time": "2022-11-28T07:54:46.911Z"
   },
   {
    "duration": 10,
    "start_time": "2022-11-28T07:54:46.923Z"
   },
   {
    "duration": 8,
    "start_time": "2022-11-28T07:54:46.935Z"
   },
   {
    "duration": 14,
    "start_time": "2022-11-28T07:54:46.945Z"
   },
   {
    "duration": 1177,
    "start_time": "2022-11-28T07:56:12.921Z"
   },
   {
    "duration": 3,
    "start_time": "2022-11-28T07:56:14.100Z"
   },
   {
    "duration": 404,
    "start_time": "2022-11-28T07:56:14.105Z"
   },
   {
    "duration": 23,
    "start_time": "2022-11-28T07:56:14.511Z"
   },
   {
    "duration": 32,
    "start_time": "2022-11-28T07:56:14.538Z"
   },
   {
    "duration": 11,
    "start_time": "2022-11-28T07:56:14.573Z"
   },
   {
    "duration": 34,
    "start_time": "2022-11-28T07:56:14.586Z"
   },
   {
    "duration": 10,
    "start_time": "2022-11-28T07:56:14.622Z"
   },
   {
    "duration": 35,
    "start_time": "2022-11-28T07:56:14.656Z"
   },
   {
    "duration": 51,
    "start_time": "2022-11-28T07:56:14.694Z"
   },
   {
    "duration": 46,
    "start_time": "2022-11-28T07:56:14.747Z"
   },
   {
    "duration": 36,
    "start_time": "2022-11-28T07:56:14.794Z"
   },
   {
    "duration": 24,
    "start_time": "2022-11-28T07:56:14.832Z"
   },
   {
    "duration": 34,
    "start_time": "2022-11-28T07:56:14.860Z"
   },
   {
    "duration": 14,
    "start_time": "2022-11-28T07:56:14.896Z"
   },
   {
    "duration": 8,
    "start_time": "2022-11-28T07:56:14.913Z"
   },
   {
    "duration": 58,
    "start_time": "2022-11-28T07:56:14.922Z"
   },
   {
    "duration": 118,
    "start_time": "2022-11-28T07:56:15.056Z"
   },
   {
    "duration": 114,
    "start_time": "2022-11-28T07:56:15.256Z"
   },
   {
    "duration": 108,
    "start_time": "2022-11-28T07:56:15.456Z"
   },
   {
    "duration": 9,
    "start_time": "2022-11-28T07:56:15.566Z"
   },
   {
    "duration": 8,
    "start_time": "2022-11-28T07:56:15.577Z"
   },
   {
    "duration": 11,
    "start_time": "2022-11-28T07:56:15.586Z"
   },
   {
    "duration": 6,
    "start_time": "2022-11-28T07:56:15.599Z"
   },
   {
    "duration": 10,
    "start_time": "2022-11-28T07:56:15.607Z"
   },
   {
    "duration": 5,
    "start_time": "2022-11-28T07:56:15.619Z"
   },
   {
    "duration": 36,
    "start_time": "2022-11-28T07:56:15.626Z"
   },
   {
    "duration": 8,
    "start_time": "2022-11-28T07:57:03.239Z"
   },
   {
    "duration": 103,
    "start_time": "2022-11-28T07:58:36.799Z"
   },
   {
    "duration": 9,
    "start_time": "2022-11-28T07:58:48.929Z"
   },
   {
    "duration": 11,
    "start_time": "2022-11-28T07:59:20.157Z"
   },
   {
    "duration": 11,
    "start_time": "2022-11-28T07:59:27.790Z"
   },
   {
    "duration": 8,
    "start_time": "2022-11-28T07:59:33.316Z"
   },
   {
    "duration": 9,
    "start_time": "2022-11-28T08:00:55.391Z"
   },
   {
    "duration": 9,
    "start_time": "2022-11-28T08:00:56.357Z"
   },
   {
    "duration": 1195,
    "start_time": "2022-11-28T08:02:04.133Z"
   },
   {
    "duration": 1135,
    "start_time": "2022-11-28T08:02:56.115Z"
   },
   {
    "duration": 3,
    "start_time": "2022-11-28T08:02:57.252Z"
   },
   {
    "duration": 386,
    "start_time": "2022-11-28T08:02:57.257Z"
   },
   {
    "duration": 18,
    "start_time": "2022-11-28T08:02:57.646Z"
   },
   {
    "duration": 18,
    "start_time": "2022-11-28T08:02:57.665Z"
   },
   {
    "duration": 9,
    "start_time": "2022-11-28T08:02:57.685Z"
   },
   {
    "duration": 23,
    "start_time": "2022-11-28T08:02:57.695Z"
   },
   {
    "duration": 10,
    "start_time": "2022-11-28T08:02:57.720Z"
   },
   {
    "duration": 35,
    "start_time": "2022-11-28T08:02:57.731Z"
   },
   {
    "duration": 39,
    "start_time": "2022-11-28T08:02:57.768Z"
   },
   {
    "duration": 56,
    "start_time": "2022-11-28T08:02:57.809Z"
   },
   {
    "duration": 35,
    "start_time": "2022-11-28T08:02:57.867Z"
   },
   {
    "duration": 10,
    "start_time": "2022-11-28T08:02:57.904Z"
   },
   {
    "duration": 46,
    "start_time": "2022-11-28T08:02:57.916Z"
   },
   {
    "duration": 14,
    "start_time": "2022-11-28T08:02:57.963Z"
   },
   {
    "duration": 8,
    "start_time": "2022-11-28T08:02:57.978Z"
   },
   {
    "duration": 21,
    "start_time": "2022-11-28T08:02:57.987Z"
   },
   {
    "duration": 104,
    "start_time": "2022-11-28T08:02:58.058Z"
   },
   {
    "duration": 97,
    "start_time": "2022-11-28T08:02:58.164Z"
   },
   {
    "duration": 194,
    "start_time": "2022-11-28T08:02:58.264Z"
   },
   {
    "duration": 10,
    "start_time": "2022-11-28T08:02:58.459Z"
   },
   {
    "duration": 7,
    "start_time": "2022-11-28T08:02:58.470Z"
   },
   {
    "duration": 6,
    "start_time": "2022-11-28T08:02:58.478Z"
   },
   {
    "duration": 7,
    "start_time": "2022-11-28T08:02:58.486Z"
   },
   {
    "duration": 7,
    "start_time": "2022-11-28T08:02:58.495Z"
   },
   {
    "duration": 7,
    "start_time": "2022-11-28T08:02:58.504Z"
   },
   {
    "duration": 11,
    "start_time": "2022-11-28T08:02:58.513Z"
   },
   {
    "duration": 35,
    "start_time": "2022-11-28T08:02:58.527Z"
   },
   {
    "duration": 14,
    "start_time": "2022-11-28T08:02:58.564Z"
   },
   {
    "duration": 3401,
    "start_time": "2022-11-28T08:02:58.580Z"
   },
   {
    "duration": 48,
    "start_time": "2022-11-28T08:09:36.195Z"
   },
   {
    "duration": 1065,
    "start_time": "2022-11-28T08:11:51.675Z"
   },
   {
    "duration": 3,
    "start_time": "2022-11-28T08:11:52.742Z"
   },
   {
    "duration": 393,
    "start_time": "2022-11-28T08:11:52.746Z"
   },
   {
    "duration": 18,
    "start_time": "2022-11-28T08:11:53.140Z"
   },
   {
    "duration": 14,
    "start_time": "2022-11-28T08:11:53.161Z"
   },
   {
    "duration": 9,
    "start_time": "2022-11-28T08:11:53.177Z"
   },
   {
    "duration": 20,
    "start_time": "2022-11-28T08:11:53.188Z"
   },
   {
    "duration": 9,
    "start_time": "2022-11-28T08:11:53.210Z"
   },
   {
    "duration": 45,
    "start_time": "2022-11-28T08:11:53.221Z"
   },
   {
    "duration": 39,
    "start_time": "2022-11-28T08:11:53.268Z"
   },
   {
    "duration": 54,
    "start_time": "2022-11-28T08:11:53.309Z"
   },
   {
    "duration": 35,
    "start_time": "2022-11-28T08:11:53.365Z"
   },
   {
    "duration": 9,
    "start_time": "2022-11-28T08:11:53.402Z"
   },
   {
    "duration": 46,
    "start_time": "2022-11-28T08:11:53.414Z"
   },
   {
    "duration": 13,
    "start_time": "2022-11-28T08:11:53.461Z"
   },
   {
    "duration": 8,
    "start_time": "2022-11-28T08:11:53.477Z"
   },
   {
    "duration": 20,
    "start_time": "2022-11-28T08:11:53.487Z"
   },
   {
    "duration": 100,
    "start_time": "2022-11-28T08:11:53.560Z"
   },
   {
    "duration": 197,
    "start_time": "2022-11-28T08:11:53.662Z"
   },
   {
    "duration": 98,
    "start_time": "2022-11-28T08:11:53.862Z"
   },
   {
    "duration": 96,
    "start_time": "2022-11-28T08:11:53.962Z"
   },
   {
    "duration": 8,
    "start_time": "2022-11-28T08:11:54.060Z"
   },
   {
    "duration": 6,
    "start_time": "2022-11-28T08:11:54.070Z"
   },
   {
    "duration": 7,
    "start_time": "2022-11-28T08:11:54.078Z"
   },
   {
    "duration": 6,
    "start_time": "2022-11-28T08:11:54.087Z"
   },
   {
    "duration": 3,
    "start_time": "2022-11-28T08:11:54.095Z"
   },
   {
    "duration": 11,
    "start_time": "2022-11-28T08:11:54.099Z"
   },
   {
    "duration": 8,
    "start_time": "2022-11-28T08:11:54.112Z"
   },
   {
    "duration": 39,
    "start_time": "2022-11-28T08:11:54.122Z"
   },
   {
    "duration": 3356,
    "start_time": "2022-11-28T08:11:54.163Z"
   },
   {
    "duration": 47,
    "start_time": "2022-11-29T06:57:50.937Z"
   },
   {
    "duration": 1124,
    "start_time": "2022-11-29T06:59:34.778Z"
   },
   {
    "duration": 3,
    "start_time": "2022-11-29T06:59:35.904Z"
   },
   {
    "duration": 758,
    "start_time": "2022-11-29T06:59:35.909Z"
   },
   {
    "duration": 15,
    "start_time": "2022-11-29T06:59:36.669Z"
   },
   {
    "duration": 27,
    "start_time": "2022-11-29T06:59:36.686Z"
   },
   {
    "duration": 8,
    "start_time": "2022-11-29T06:59:36.714Z"
   },
   {
    "duration": 16,
    "start_time": "2022-11-29T06:59:36.724Z"
   },
   {
    "duration": 9,
    "start_time": "2022-11-29T06:59:36.741Z"
   },
   {
    "duration": 14,
    "start_time": "2022-11-29T06:59:36.751Z"
   },
   {
    "duration": 57,
    "start_time": "2022-11-29T06:59:36.767Z"
   },
   {
    "duration": 32,
    "start_time": "2022-11-29T06:59:36.826Z"
   },
   {
    "duration": 47,
    "start_time": "2022-11-29T06:59:36.860Z"
   },
   {
    "duration": 10,
    "start_time": "2022-11-29T06:59:36.908Z"
   },
   {
    "duration": 33,
    "start_time": "2022-11-29T06:59:36.919Z"
   },
   {
    "duration": 12,
    "start_time": "2022-11-29T06:59:36.954Z"
   },
   {
    "duration": 8,
    "start_time": "2022-11-29T06:59:36.968Z"
   },
   {
    "duration": 48,
    "start_time": "2022-11-29T06:59:36.977Z"
   },
   {
    "duration": 100,
    "start_time": "2022-11-29T06:59:37.100Z"
   },
   {
    "duration": 218,
    "start_time": "2022-11-29T06:59:37.202Z"
   },
   {
    "duration": 177,
    "start_time": "2022-11-29T06:59:37.423Z"
   },
   {
    "duration": 18,
    "start_time": "2022-11-29T06:59:37.602Z"
   },
   {
    "duration": 22,
    "start_time": "2022-11-29T06:59:37.621Z"
   },
   {
    "duration": 48,
    "start_time": "2022-11-29T06:59:37.645Z"
   },
   {
    "duration": 0,
    "start_time": "2022-11-29T06:59:37.695Z"
   },
   {
    "duration": 0,
    "start_time": "2022-11-29T06:59:37.696Z"
   },
   {
    "duration": 0,
    "start_time": "2022-11-29T06:59:37.697Z"
   },
   {
    "duration": 0,
    "start_time": "2022-11-29T06:59:37.698Z"
   },
   {
    "duration": 0,
    "start_time": "2022-11-29T06:59:37.699Z"
   },
   {
    "duration": 0,
    "start_time": "2022-11-29T06:59:37.700Z"
   },
   {
    "duration": 0,
    "start_time": "2022-11-29T06:59:37.701Z"
   },
   {
    "duration": 3,
    "start_time": "2022-11-29T07:00:18.234Z"
   },
   {
    "duration": 114,
    "start_time": "2022-11-29T07:00:53.643Z"
   },
   {
    "duration": 3,
    "start_time": "2022-11-29T07:00:58.380Z"
   },
   {
    "duration": 4,
    "start_time": "2022-11-29T07:00:59.587Z"
   },
   {
    "duration": 106,
    "start_time": "2022-11-29T07:01:57.410Z"
   },
   {
    "duration": 3,
    "start_time": "2022-11-29T07:04:57.931Z"
   },
   {
    "duration": 3,
    "start_time": "2022-11-29T07:04:59.433Z"
   },
   {
    "duration": 3,
    "start_time": "2022-11-29T07:05:13.303Z"
   },
   {
    "duration": 8,
    "start_time": "2022-11-29T07:05:28.269Z"
   },
   {
    "duration": 7,
    "start_time": "2022-11-29T07:05:31.173Z"
   },
   {
    "duration": 9,
    "start_time": "2022-11-29T07:05:31.940Z"
   },
   {
    "duration": 3279,
    "start_time": "2022-11-29T07:05:51.032Z"
   },
   {
    "duration": 1030,
    "start_time": "2022-11-29T07:07:18.795Z"
   },
   {
    "duration": 2,
    "start_time": "2022-11-29T07:07:19.827Z"
   },
   {
    "duration": 388,
    "start_time": "2022-11-29T07:07:19.831Z"
   },
   {
    "duration": 17,
    "start_time": "2022-11-29T07:07:20.221Z"
   },
   {
    "duration": 70,
    "start_time": "2022-11-29T07:07:20.240Z"
   },
   {
    "duration": 11,
    "start_time": "2022-11-29T07:07:20.312Z"
   },
   {
    "duration": 67,
    "start_time": "2022-11-29T07:07:20.325Z"
   },
   {
    "duration": 20,
    "start_time": "2022-11-29T07:07:20.394Z"
   },
   {
    "duration": 36,
    "start_time": "2022-11-29T07:07:20.416Z"
   },
   {
    "duration": 44,
    "start_time": "2022-11-29T07:07:20.454Z"
   },
   {
    "duration": 35,
    "start_time": "2022-11-29T07:07:20.499Z"
   },
   {
    "duration": 34,
    "start_time": "2022-11-29T07:07:20.535Z"
   },
   {
    "duration": 10,
    "start_time": "2022-11-29T07:07:20.570Z"
   },
   {
    "duration": 38,
    "start_time": "2022-11-29T07:07:20.599Z"
   },
   {
    "duration": 14,
    "start_time": "2022-11-29T07:07:20.639Z"
   },
   {
    "duration": 20,
    "start_time": "2022-11-29T07:07:20.654Z"
   },
   {
    "duration": 33,
    "start_time": "2022-11-29T07:07:20.676Z"
   },
   {
    "duration": 199,
    "start_time": "2022-11-29T07:07:20.713Z"
   },
   {
    "duration": 188,
    "start_time": "2022-11-29T07:07:20.919Z"
   },
   {
    "duration": 96,
    "start_time": "2022-11-29T07:07:21.109Z"
   },
   {
    "duration": 99,
    "start_time": "2022-11-29T07:07:21.207Z"
   },
   {
    "duration": 9,
    "start_time": "2022-11-29T07:07:21.307Z"
   },
   {
    "duration": 8,
    "start_time": "2022-11-29T07:07:21.318Z"
   },
   {
    "duration": 28,
    "start_time": "2022-11-29T07:07:21.327Z"
   },
   {
    "duration": 25,
    "start_time": "2022-11-29T07:07:21.357Z"
   },
   {
    "duration": 18,
    "start_time": "2022-11-29T07:07:21.383Z"
   },
   {
    "duration": 18,
    "start_time": "2022-11-29T07:07:21.402Z"
   },
   {
    "duration": 30,
    "start_time": "2022-11-29T07:07:21.421Z"
   },
   {
    "duration": 25,
    "start_time": "2022-11-29T07:07:21.453Z"
   },
   {
    "duration": 3160,
    "start_time": "2022-11-29T07:07:21.479Z"
   }
  ],
  "kernelspec": {
   "display_name": "Python 3 (ipykernel)",
   "language": "python",
   "name": "python3"
  },
  "language_info": {
   "codemirror_mode": {
    "name": "ipython",
    "version": 3
   },
   "file_extension": ".py",
   "mimetype": "text/x-python",
   "name": "python",
   "nbconvert_exporter": "python",
   "pygments_lexer": "ipython3",
   "version": "3.9.12"
  },
  "toc": {
   "base_numbering": 1,
   "nav_menu": {},
   "number_sections": true,
   "sideBar": true,
   "skip_h1_title": true,
   "title_cell": "Table of Contents",
   "title_sidebar": "Contents",
   "toc_cell": false,
   "toc_position": {},
   "toc_section_display": true,
   "toc_window_display": false
  }
 },
 "nbformat": 4,
 "nbformat_minor": 2
}
