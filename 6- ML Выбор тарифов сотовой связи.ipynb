{
 "cells": [
  {
   "cell_type": "markdown",
   "metadata": {},
   "source": [
    "# Рекомендация тарифов"
   ]
  },
  {
   "cell_type": "markdown",
   "metadata": {},
   "source": [
    "В нашем распоряжении данные о поведении клиентов, которые уже перешли на эти тарифы (из проекта курса «Статистический анализ данных»). Нужно построить модель для задачи классификации, которая выберет подходящий тариф. Предобработка данных не понадобится — мы её уже сделали.\n",
    "\n",
    "Необходимо построить модель с максимально большим значением *accuracy*. Чтобы сдать проект успешно, нужно довести долю правильных ответов по крайней мере до 0.75. Необходимо проверить *accuracy* на тестовой выборке самостоятельно."
   ]
  },
  {
   "cell_type": "markdown",
   "metadata": {},
   "source": [
    "## Откройте и изучите файл"
   ]
  },
  {
   "cell_type": "code",
   "execution_count": 1,
   "metadata": {},
   "outputs": [],
   "source": [
    "import pandas as pd\n",
    "import numpy as np\n",
    "\n",
    "from sklearn.tree import DecisionTreeClassifier\n",
    "from sklearn.ensemble import RandomForestClassifier\n",
    "from sklearn.linear_model import LogisticRegression\n",
    "from sklearn.model_selection import train_test_split\n",
    "from sklearn.metrics import mean_squared_error\n",
    "from sklearn.metrics import accuracy_score"
   ]
  },
  {
   "cell_type": "markdown",
   "metadata": {},
   "source": [
    "Загрузим необходимые библиотеки и структуры данных"
   ]
  },
  {
   "cell_type": "code",
   "execution_count": 2,
   "metadata": {},
   "outputs": [],
   "source": [
    "df = pd.read_csv('/datasets/users_behavior.csv')"
   ]
  },
  {
   "cell_type": "markdown",
   "metadata": {},
   "source": [
    "Откроем файл с данными"
   ]
  },
  {
   "cell_type": "code",
   "execution_count": 3,
   "metadata": {},
   "outputs": [
    {
     "name": "stdout",
     "output_type": "stream",
     "text": [
      "(3214, 5)\n",
      "   calls  minutes  messages   mb_used  is_ultra\n",
      "0   40.0   311.90      83.0  19915.42         0\n",
      "1   85.0   516.75      56.0  22696.96         0\n",
      "2   77.0   467.66      86.0  21060.45         0\n",
      "3  106.0   745.53      81.0   8437.39         1\n",
      "4   66.0   418.74       1.0  14502.75         0\n"
     ]
    }
   ],
   "source": [
    "print(df.shape)\n",
    "print(df.head(5))"
   ]
  },
  {
   "cell_type": "markdown",
   "metadata": {},
   "source": [
    "Изучим датафрейм."
   ]
  },
  {
   "cell_type": "markdown",
   "metadata": {},
   "source": [
    "## Разбейте данные на выборки"
   ]
  },
  {
   "cell_type": "code",
   "execution_count": 4,
   "metadata": {},
   "outputs": [],
   "source": [
    "df_train, df_other = train_test_split(df, test_size=0.40, random_state=12345)\n"
   ]
  },
  {
   "cell_type": "markdown",
   "metadata": {},
   "source": [
    "Создадим тренировочную выборку."
   ]
  },
  {
   "cell_type": "code",
   "execution_count": 5,
   "metadata": {},
   "outputs": [],
   "source": [
    "df_test, df_valid = train_test_split(df_other, test_size=0.50, random_state=12345)"
   ]
  },
  {
   "cell_type": "markdown",
   "metadata": {},
   "source": [
    "Создадим тестовую и валидационную выборки."
   ]
  },
  {
   "cell_type": "code",
   "execution_count": 6,
   "metadata": {},
   "outputs": [
    {
     "name": "stdout",
     "output_type": "stream",
     "text": [
      "(1928, 5)\n",
      "(643, 5)\n",
      "(643, 5)\n"
     ]
    }
   ],
   "source": [
    "print(df_train.shape)\n",
    "print(df_valid.shape)\n",
    "print(df_test.shape)"
   ]
  },
  {
   "cell_type": "markdown",
   "metadata": {},
   "source": [
    "Проверим выборки. Учитывая, что у нас признак категориальный(бинарный, пользование тарифтм либо \"Ультра\" либо \"Смарт\" речь идет о бинарной классификации) будем исследовать три соответствующие модели(решающее дерево, случайный лес и логистическая регрессия)."
   ]
  },
  {
   "cell_type": "markdown",
   "metadata": {},
   "source": [
    "## Исследуйте модели"
   ]
  },
  {
   "cell_type": "code",
   "execution_count": 7,
   "metadata": {},
   "outputs": [],
   "source": [
    "features_train = df_train.drop(['is_ultra'], axis=1)\n",
    "target_train = df_train['is_ultra']"
   ]
  },
  {
   "cell_type": "markdown",
   "metadata": {},
   "source": [
    "Запишем признаки и целевые признаки обучающей выборки."
   ]
  },
  {
   "cell_type": "code",
   "execution_count": 8,
   "metadata": {},
   "outputs": [],
   "source": [
    "features_valid = df_valid.drop(['is_ultra'], axis=1)\n",
    "target_valid = df_valid['is_ultra']"
   ]
  },
  {
   "cell_type": "markdown",
   "metadata": {},
   "source": [
    "Запишем признаки и целевые признаки валидационной выборки."
   ]
  },
  {
   "cell_type": "code",
   "execution_count": 10,
   "metadata": {},
   "outputs": [
    {
     "name": "stdout",
     "output_type": "stream",
     "text": [
      "max_depth = 1 : 0.7356143079315708\n",
      "max_depth = 2 : 0.7744945567651633\n",
      "max_depth = 3 : 0.7791601866251944\n",
      "max_depth = 4 : 0.7744945567651633\n",
      "max_depth = 5 : 0.7838258164852255\n"
     ]
    }
   ],
   "source": [
    "for depth in range(1, 6):\n",
    "    model = DecisionTreeClassifier(random_state=12345, max_depth=depth)\n",
    "    model.fit(features_train, target_train)\n",
    "\n",
    "    predictions_valid = model.predict(features_valid) \n",
    "    print(\"max_depth =\", depth, \": \", end='')\n",
    "    print(accuracy_score(target_valid, predictions_valid))\n",
    "   "
   ]
  },
  {
   "cell_type": "markdown",
   "metadata": {},
   "source": [
    "Исследуем первую модель (дерево решений). Лучший показатель Accuracy при глубине дерева 5 и составляет 0.7838258164852255."
   ]
  },
  {
   "cell_type": "code",
   "execution_count": 11,
   "metadata": {},
   "outputs": [],
   "source": [
    "best_model = None\n",
    "best_result = 0\n",
    "for est in range(1, 11):\n",
    "    model = RandomForestClassifier(random_state=12345, n_estimators=est) \n",
    "    model.fit(features_train, target_train) \n",
    "    result = model.score(features_valid, target_valid) \n",
    "    if result > best_result:\n",
    "        best_model = model \n",
    "        best_result = result "
   ]
  },
  {
   "cell_type": "code",
   "execution_count": 12,
   "metadata": {},
   "outputs": [
    {
     "name": "stdout",
     "output_type": "stream",
     "text": [
      "Accuracy лучшей модели: 0.7869362363919129\n"
     ]
    }
   ],
   "source": [
    "print(\"Accuracy лучшей модели:\", best_result)"
   ]
  },
  {
   "cell_type": "markdown",
   "metadata": {},
   "source": [
    "Исследуем вторую модель (случайный лес). Лучший показатель Accuracy составляет 0.7869362363919129."
   ]
  },
  {
   "cell_type": "code",
   "execution_count": 13,
   "metadata": {},
   "outputs": [],
   "source": [
    "model = LogisticRegression(random_state=12345, solver='lbfgs', max_iter=1000) "
   ]
  },
  {
   "cell_type": "code",
   "execution_count": 14,
   "metadata": {},
   "outputs": [
    {
     "data": {
      "text/plain": [
       "LogisticRegression(max_iter=1000, random_state=12345)"
      ]
     },
     "execution_count": 14,
     "metadata": {},
     "output_type": "execute_result"
    }
   ],
   "source": [
    "model.fit(features_train, target_train)"
   ]
  },
  {
   "cell_type": "code",
   "execution_count": 15,
   "metadata": {},
   "outputs": [
    {
     "data": {
      "text/plain": [
       "array([0, 0, 0, 0, 0, 0, 0, 0, 0, 0, 0, 0, 0, 0, 0, 0, 0, 0, 0, 0, 0, 0,\n",
       "       0, 0, 0, 0, 0, 0, 0, 0, 0, 0, 0, 0, 0, 0, 0, 0, 0, 0, 0, 0, 0, 0,\n",
       "       0, 0, 0, 0, 0, 0, 0, 0, 0, 0, 0, 0, 0, 0, 0, 0, 0, 0, 0, 0, 0, 0,\n",
       "       0, 0, 0, 0, 0, 0, 0, 0, 0, 0, 0, 0, 0, 0, 0, 0, 0, 1, 0, 0, 0, 0,\n",
       "       0, 0, 0, 0, 0, 0, 0, 1, 0, 0, 0, 0, 0, 0, 0, 0, 0, 0, 0, 0, 0, 0,\n",
       "       0, 0, 0, 0, 0, 0, 0, 0, 0, 0, 0, 0, 0, 0, 0, 0, 0, 0, 0, 0, 0, 0,\n",
       "       0, 0, 0, 0, 0, 0, 0, 0, 0, 0, 0, 0, 0, 0, 0, 0, 0, 0, 0, 0, 0, 0,\n",
       "       0, 0, 0, 0, 0, 0, 0, 0, 0, 0, 0, 0, 0, 0, 0, 0, 0, 1, 0, 0, 0, 0,\n",
       "       0, 0, 0, 0, 0, 0, 0, 1, 0, 0, 0, 0, 0, 1, 0, 0, 0, 0, 0, 0, 0, 0,\n",
       "       0, 0, 0, 0, 0, 0, 0, 0, 0, 0, 0, 0, 0, 0, 0, 0, 0, 0, 0, 0, 0, 0,\n",
       "       0, 0, 0, 0, 0, 0, 0, 0, 0, 0, 0, 0, 0, 0, 0, 0, 0, 0, 0, 0, 0, 0,\n",
       "       0, 0, 0, 0, 0, 0, 0, 0, 0, 0, 0, 0, 0, 0, 0, 0, 0, 0, 0, 0, 0, 0,\n",
       "       0, 0, 0, 0, 0, 0, 0, 0, 0, 0, 0, 0, 0, 0, 0, 0, 0, 0, 0, 0, 0, 0,\n",
       "       0, 0, 1, 0, 0, 0, 0, 0, 0, 0, 0, 0, 0, 0, 0, 0, 0, 0, 0, 0, 0, 0,\n",
       "       0, 0, 0, 0, 0, 0, 0, 0, 0, 0, 0, 0, 0, 0, 0, 0, 0, 0, 0, 0, 0, 0,\n",
       "       0, 0, 0, 0, 0, 0, 0, 0, 0, 0, 0, 0, 0, 0, 0, 0, 0, 0, 0, 0, 0, 0,\n",
       "       0, 0, 0, 0, 0, 0, 0, 0, 0, 0, 0, 0, 0, 0, 0, 0, 0, 0, 0, 0, 0, 0,\n",
       "       0, 0, 0, 0, 0, 0, 0, 0, 0, 0, 0, 0, 0, 0, 0, 0, 0, 0, 0, 0, 0, 0,\n",
       "       0, 0, 0, 0, 1, 0, 0, 0, 0, 0, 0, 0, 0, 0, 0, 0, 0, 0, 0, 0, 0, 0,\n",
       "       0, 0, 0, 0, 0, 0, 1, 0, 0, 0, 0, 0, 0, 0, 1, 0, 0, 0, 0, 0, 0, 0,\n",
       "       0, 0, 0, 0, 0, 0, 0, 0, 0, 0, 0, 0, 0, 0, 0, 0, 0, 0, 0, 0, 0, 0,\n",
       "       0, 0, 0, 0, 0, 0, 0, 0, 0, 0, 0, 1, 0, 0, 0, 0, 0, 0, 0, 0, 0, 0,\n",
       "       0, 0, 0, 0, 0, 0, 0, 0, 0, 0, 0, 0, 0, 0, 0, 0, 0, 0, 0, 0, 0, 0,\n",
       "       0, 0, 0, 0, 0, 0, 0, 0, 0, 0, 0, 0, 1, 0, 0, 0, 0, 0, 1, 0, 0, 0,\n",
       "       0, 0, 0, 0, 0, 0, 0, 0, 0, 0, 0, 0, 0, 0, 0, 0, 0, 0, 0, 0, 0, 0,\n",
       "       0, 0, 0, 0, 0, 0, 0, 0, 0, 0, 0, 0, 0, 0, 0, 0, 0, 0, 0, 0, 0, 0,\n",
       "       0, 0, 0, 0, 0, 0, 0, 0, 0, 0, 0, 0, 0, 0, 0, 0, 0, 0, 0, 0, 1, 0,\n",
       "       0, 0, 0, 0, 0, 0, 0, 0, 0, 0, 0, 0, 1, 0, 1, 0, 0, 0, 0, 0, 0, 0,\n",
       "       0, 0, 0, 0, 0, 0, 0, 0, 0, 0, 0, 0, 0, 0, 0, 0, 0, 0, 0, 0, 0, 0,\n",
       "       0, 0, 0, 0, 1])"
      ]
     },
     "execution_count": 15,
     "metadata": {},
     "output_type": "execute_result"
    }
   ],
   "source": [
    "model.predict(features_valid)"
   ]
  },
  {
   "cell_type": "code",
   "execution_count": 16,
   "metadata": {},
   "outputs": [
    {
     "data": {
      "text/plain": [
       "0.6842923794712286"
      ]
     },
     "execution_count": 16,
     "metadata": {},
     "output_type": "execute_result"
    }
   ],
   "source": [
    "model.score(features_valid, target_valid)"
   ]
  },
  {
   "cell_type": "markdown",
   "metadata": {},
   "source": [
    "Исследуем третью модель (логистическая регрессия). Показатель Accuracy составляет 0.6842923794712286."
   ]
  },
  {
   "cell_type": "markdown",
   "metadata": {},
   "source": [
    "По результатам видим, что самый лучший показатель accuracy у модели \"случайный лес\", а самый худший у \"логистической регрессии\", Что логично. Возьмем модель \"случайный лес\"."
   ]
  },
  {
   "cell_type": "markdown",
   "metadata": {},
   "source": [
    "## Проверьте модель на тестовой выборке"
   ]
  },
  {
   "cell_type": "code",
   "execution_count": 19,
   "metadata": {},
   "outputs": [],
   "source": [
    "features_test = df_test.drop(['is_ultra'], axis=1)\n",
    "target_test = df_test['is_ultra']"
   ]
  },
  {
   "cell_type": "code",
   "execution_count": 20,
   "metadata": {},
   "outputs": [],
   "source": [
    "best_model = None\n",
    "best_result = 0\n",
    "for est in range(1, 11):\n",
    "    model = RandomForestClassifier(random_state=12345, n_estimators=est) \n",
    "    model.fit(features_train, target_train) \n",
    "    result = model.score(features_test, target_test) \n",
    "    if result > best_result:\n",
    "        best_model = model \n",
    "        best_result = result "
   ]
  },
  {
   "cell_type": "code",
   "execution_count": 21,
   "metadata": {},
   "outputs": [
    {
     "name": "stdout",
     "output_type": "stream",
     "text": [
      "Accuracy лучшей модели: 0.7853810264385692\n"
     ]
    }
   ],
   "source": [
    "print(\"Accuracy лучшей модели:\", best_result)"
   ]
  },
  {
   "cell_type": "markdown",
   "metadata": {},
   "source": [
    "Проверили выбранную модель на тестовой выборке получили значение 0.7853810264385692 у модели было значение 0.7869362363919129. Различие незначительное. Значение тестовой выборки немного меньше. "
   ]
  },
  {
   "cell_type": "markdown",
   "metadata": {},
   "source": [
    "## (бонус) Проверьте модели на адекватность"
   ]
  },
  {
   "cell_type": "code",
   "execution_count": 22,
   "metadata": {},
   "outputs": [],
   "source": [
    "random_answers = np.random.randint(0, 2, size=643)"
   ]
  },
  {
   "cell_type": "code",
   "execution_count": 25,
   "metadata": {},
   "outputs": [
    {
     "data": {
      "text/plain": [
       "0.4976671850699845"
      ]
     },
     "execution_count": 25,
     "metadata": {},
     "output_type": "execute_result"
    }
   ],
   "source": [
    "accuracy_random_test = accuracy_score(target_test, random_answers)\n",
    "accuracy_random_test"
   ]
  },
  {
   "cell_type": "markdown",
   "metadata": {},
   "source": [
    "Сравнили модель со случайной (проверили на адекватность). По итгам проверки видим, что качество ответов выбранной модели достаточно высокое."
   ]
  },
  {
   "cell_type": "code",
   "execution_count": null,
   "metadata": {},
   "outputs": [],
   "source": []
  }
 ],
 "metadata": {
  "ExecuteTimeLog": [
   {
    "duration": 1253,
    "start_time": "2022-10-26T07:48:38.373Z"
   },
   {
    "duration": 1170,
    "start_time": "2022-10-26T08:16:47.894Z"
   },
   {
    "duration": 9,
    "start_time": "2022-10-26T08:16:49.066Z"
   },
   {
    "duration": 20,
    "start_time": "2022-10-26T08:16:49.077Z"
   },
   {
    "duration": 47,
    "start_time": "2022-10-26T08:26:00.465Z"
   },
   {
    "duration": 92,
    "start_time": "2022-10-26T08:26:27.937Z"
   },
   {
    "duration": 4,
    "start_time": "2022-10-26T08:26:38.749Z"
   },
   {
    "duration": 40,
    "start_time": "2022-10-26T08:26:58.841Z"
   },
   {
    "duration": 41,
    "start_time": "2022-10-26T08:28:53.799Z"
   },
   {
    "duration": 50,
    "start_time": "2022-10-26T08:29:34.758Z"
   },
   {
    "duration": 1144,
    "start_time": "2022-10-26T08:29:59.690Z"
   },
   {
    "duration": 8,
    "start_time": "2022-10-26T08:30:00.836Z"
   },
   {
    "duration": 68,
    "start_time": "2022-10-26T08:30:00.846Z"
   },
   {
    "duration": 67,
    "start_time": "2022-10-26T08:30:00.915Z"
   },
   {
    "duration": 50,
    "start_time": "2022-10-26T08:30:26.509Z"
   },
   {
    "duration": 1051,
    "start_time": "2022-10-26T08:31:34.983Z"
   },
   {
    "duration": 7,
    "start_time": "2022-10-26T08:31:36.036Z"
   },
   {
    "duration": 11,
    "start_time": "2022-10-26T08:31:36.044Z"
   },
   {
    "duration": 66,
    "start_time": "2022-10-26T08:31:36.057Z"
   },
   {
    "duration": 0,
    "start_time": "2022-10-26T08:31:36.125Z"
   },
   {
    "duration": 5,
    "start_time": "2022-10-26T08:32:14.956Z"
   },
   {
    "duration": 6,
    "start_time": "2022-10-26T08:32:38.645Z"
   },
   {
    "duration": 6,
    "start_time": "2022-10-26T08:32:47.056Z"
   },
   {
    "duration": 4,
    "start_time": "2022-10-26T08:33:22.573Z"
   },
   {
    "duration": 4,
    "start_time": "2022-10-26T08:38:40.347Z"
   },
   {
    "duration": 3,
    "start_time": "2022-10-26T08:44:26.994Z"
   },
   {
    "duration": 3,
    "start_time": "2022-10-26T08:44:27.745Z"
   },
   {
    "duration": 102,
    "start_time": "2022-10-26T08:45:43.145Z"
   },
   {
    "duration": 1093,
    "start_time": "2022-10-26T08:46:23.553Z"
   },
   {
    "duration": 7,
    "start_time": "2022-10-26T08:46:24.648Z"
   },
   {
    "duration": 14,
    "start_time": "2022-10-26T08:46:24.656Z"
   },
   {
    "duration": 8,
    "start_time": "2022-10-26T08:46:24.671Z"
   },
   {
    "duration": 4,
    "start_time": "2022-10-26T08:46:24.681Z"
   },
   {
    "duration": 6,
    "start_time": "2022-10-26T08:46:24.687Z"
   },
   {
    "duration": 6,
    "start_time": "2022-10-26T08:46:24.694Z"
   },
   {
    "duration": 32,
    "start_time": "2022-10-26T08:46:24.701Z"
   },
   {
    "duration": 100,
    "start_time": "2022-10-26T08:46:24.736Z"
   },
   {
    "duration": 1060,
    "start_time": "2022-10-26T08:46:57.062Z"
   },
   {
    "duration": 9,
    "start_time": "2022-10-26T08:46:58.124Z"
   },
   {
    "duration": 19,
    "start_time": "2022-10-26T08:46:58.134Z"
   },
   {
    "duration": 10,
    "start_time": "2022-10-26T08:46:58.155Z"
   },
   {
    "duration": 5,
    "start_time": "2022-10-26T08:46:58.167Z"
   },
   {
    "duration": 7,
    "start_time": "2022-10-26T08:46:58.173Z"
   },
   {
    "duration": 8,
    "start_time": "2022-10-26T08:46:58.181Z"
   },
   {
    "duration": 42,
    "start_time": "2022-10-26T08:46:58.190Z"
   },
   {
    "duration": 5,
    "start_time": "2022-10-26T08:46:58.234Z"
   },
   {
    "duration": 3,
    "start_time": "2022-10-26T08:47:30.406Z"
   },
   {
    "duration": 51,
    "start_time": "2022-10-26T08:48:08.745Z"
   },
   {
    "duration": 3,
    "start_time": "2022-10-26T08:48:09.365Z"
   },
   {
    "duration": 4,
    "start_time": "2022-10-26T08:48:30.051Z"
   },
   {
    "duration": 20,
    "start_time": "2022-10-26T08:49:52.388Z"
   },
   {
    "duration": 4,
    "start_time": "2022-10-26T08:49:52.947Z"
   },
   {
    "duration": 25,
    "start_time": "2022-10-26T08:50:00.879Z"
   },
   {
    "duration": 4,
    "start_time": "2022-10-26T08:50:01.786Z"
   },
   {
    "duration": 28,
    "start_time": "2022-10-26T08:52:58.891Z"
   },
   {
    "duration": 4,
    "start_time": "2022-10-26T08:52:59.481Z"
   },
   {
    "duration": 29,
    "start_time": "2022-10-26T08:53:52.861Z"
   },
   {
    "duration": 70,
    "start_time": "2022-10-26T08:54:13.581Z"
   },
   {
    "duration": 96,
    "start_time": "2022-10-26T08:56:56.568Z"
   },
   {
    "duration": 1130,
    "start_time": "2022-10-26T08:57:37.203Z"
   },
   {
    "duration": 8,
    "start_time": "2022-10-26T08:57:38.336Z"
   },
   {
    "duration": 16,
    "start_time": "2022-10-26T08:57:38.346Z"
   },
   {
    "duration": 18,
    "start_time": "2022-10-26T08:57:38.365Z"
   },
   {
    "duration": 20,
    "start_time": "2022-10-26T08:57:38.384Z"
   },
   {
    "duration": 28,
    "start_time": "2022-10-26T08:57:38.405Z"
   },
   {
    "duration": 29,
    "start_time": "2022-10-26T08:57:38.434Z"
   },
   {
    "duration": 87,
    "start_time": "2022-10-26T08:57:38.465Z"
   },
   {
    "duration": 251,
    "start_time": "2022-10-26T08:57:38.554Z"
   },
   {
    "duration": 237,
    "start_time": "2022-10-26T08:58:33.449Z"
   },
   {
    "duration": 95,
    "start_time": "2022-10-26T09:02:54.276Z"
   },
   {
    "duration": 1033,
    "start_time": "2022-10-26T09:03:31.288Z"
   },
   {
    "duration": 12,
    "start_time": "2022-10-26T09:03:32.323Z"
   },
   {
    "duration": 7,
    "start_time": "2022-10-26T09:03:32.337Z"
   },
   {
    "duration": 4,
    "start_time": "2022-10-26T09:03:32.347Z"
   },
   {
    "duration": 6,
    "start_time": "2022-10-26T09:03:32.353Z"
   },
   {
    "duration": 8,
    "start_time": "2022-10-26T09:03:32.360Z"
   },
   {
    "duration": 13,
    "start_time": "2022-10-26T09:03:32.370Z"
   },
   {
    "duration": 83,
    "start_time": "2022-10-26T09:03:32.384Z"
   },
   {
    "duration": 235,
    "start_time": "2022-10-26T09:03:32.469Z"
   },
   {
    "duration": 3,
    "start_time": "2022-10-26T09:03:32.705Z"
   },
   {
    "duration": 111,
    "start_time": "2022-10-26T09:03:32.709Z"
   },
   {
    "duration": 0,
    "start_time": "2022-10-26T09:03:32.822Z"
   },
   {
    "duration": 1,
    "start_time": "2022-10-26T09:03:32.823Z"
   },
   {
    "duration": 32,
    "start_time": "2022-10-26T09:04:12.745Z"
   },
   {
    "duration": 8,
    "start_time": "2022-10-26T09:04:25.401Z"
   },
   {
    "duration": 6,
    "start_time": "2022-10-26T09:05:29.891Z"
   },
   {
    "duration": 6,
    "start_time": "2022-10-26T09:05:53.945Z"
   },
   {
    "duration": 31,
    "start_time": "2022-10-26T09:19:55.089Z"
   },
   {
    "duration": 1061,
    "start_time": "2022-10-26T09:21:10.780Z"
   },
   {
    "duration": 7,
    "start_time": "2022-10-26T09:21:11.843Z"
   },
   {
    "duration": 10,
    "start_time": "2022-10-26T09:21:11.851Z"
   },
   {
    "duration": 4,
    "start_time": "2022-10-26T09:21:11.863Z"
   },
   {
    "duration": 12,
    "start_time": "2022-10-26T09:21:11.868Z"
   },
   {
    "duration": 18,
    "start_time": "2022-10-26T09:21:11.882Z"
   },
   {
    "duration": 16,
    "start_time": "2022-10-26T09:21:11.901Z"
   },
   {
    "duration": 48,
    "start_time": "2022-10-26T09:21:11.918Z"
   },
   {
    "duration": 242,
    "start_time": "2022-10-26T09:21:11.968Z"
   },
   {
    "duration": 3,
    "start_time": "2022-10-26T09:21:12.213Z"
   },
   {
    "duration": 17,
    "start_time": "2022-10-26T09:21:12.233Z"
   },
   {
    "duration": 31,
    "start_time": "2022-10-26T09:21:12.252Z"
   },
   {
    "duration": 6,
    "start_time": "2022-10-26T09:21:12.285Z"
   },
   {
    "duration": 7,
    "start_time": "2022-10-26T09:21:12.293Z"
   },
   {
    "duration": 37,
    "start_time": "2022-10-26T09:21:12.302Z"
   },
   {
    "duration": 258,
    "start_time": "2022-10-26T09:21:12.341Z"
   },
   {
    "duration": 3,
    "start_time": "2022-10-26T09:21:12.601Z"
   },
   {
    "duration": 4,
    "start_time": "2022-10-26T09:22:28.950Z"
   },
   {
    "duration": 146,
    "start_time": "2022-10-26T09:22:29.909Z"
   },
   {
    "duration": 3,
    "start_time": "2022-10-26T09:22:31.360Z"
   },
   {
    "duration": 45,
    "start_time": "2022-10-26T09:38:50.805Z"
   },
   {
    "duration": 1072,
    "start_time": "2022-10-26T09:39:45.085Z"
   },
   {
    "duration": 7,
    "start_time": "2022-10-26T09:39:46.159Z"
   },
   {
    "duration": 10,
    "start_time": "2022-10-26T09:39:46.167Z"
   },
   {
    "duration": 15,
    "start_time": "2022-10-26T09:39:46.178Z"
   },
   {
    "duration": 9,
    "start_time": "2022-10-26T09:39:46.195Z"
   },
   {
    "duration": 22,
    "start_time": "2022-10-26T09:39:46.205Z"
   },
   {
    "duration": 17,
    "start_time": "2022-10-26T09:39:46.228Z"
   },
   {
    "duration": 35,
    "start_time": "2022-10-26T09:39:46.246Z"
   },
   {
    "duration": 258,
    "start_time": "2022-10-26T09:39:46.282Z"
   },
   {
    "duration": 3,
    "start_time": "2022-10-26T09:39:46.541Z"
   },
   {
    "duration": 6,
    "start_time": "2022-10-26T09:39:46.546Z"
   },
   {
    "duration": 29,
    "start_time": "2022-10-26T09:39:46.553Z"
   },
   {
    "duration": 6,
    "start_time": "2022-10-26T09:39:46.583Z"
   },
   {
    "duration": 7,
    "start_time": "2022-10-26T09:39:46.592Z"
   },
   {
    "duration": 27,
    "start_time": "2022-10-26T09:39:46.600Z"
   },
   {
    "duration": 43,
    "start_time": "2022-10-26T09:39:46.633Z"
   },
   {
    "duration": 6,
    "start_time": "2022-10-26T09:39:46.678Z"
   },
   {
    "duration": 843,
    "start_time": "2022-10-26T09:39:46.685Z"
   },
   {
    "duration": 0,
    "start_time": "2022-10-26T09:39:47.532Z"
   },
   {
    "duration": 266,
    "start_time": "2022-10-26T09:44:21.036Z"
   },
   {
    "duration": 3,
    "start_time": "2022-10-26T09:44:22.757Z"
   },
   {
    "duration": 169,
    "start_time": "2022-10-26T09:44:40.357Z"
   },
   {
    "duration": 3,
    "start_time": "2022-10-26T09:44:41.247Z"
   },
   {
    "duration": 286,
    "start_time": "2022-10-26T09:44:47.277Z"
   },
   {
    "duration": 6,
    "start_time": "2022-10-26T09:44:48.333Z"
   },
   {
    "duration": 4,
    "start_time": "2022-10-26T09:58:44.005Z"
   },
   {
    "duration": 9,
    "start_time": "2022-10-26T10:01:34.365Z"
   },
   {
    "duration": 1096,
    "start_time": "2022-10-26T10:01:41.410Z"
   },
   {
    "duration": 37,
    "start_time": "2022-10-26T10:01:42.508Z"
   },
   {
    "duration": 7,
    "start_time": "2022-10-26T10:01:42.547Z"
   },
   {
    "duration": 8,
    "start_time": "2022-10-26T10:01:42.556Z"
   },
   {
    "duration": 6,
    "start_time": "2022-10-26T10:01:42.565Z"
   },
   {
    "duration": 6,
    "start_time": "2022-10-26T10:01:42.572Z"
   },
   {
    "duration": 8,
    "start_time": "2022-10-26T10:01:42.579Z"
   },
   {
    "duration": 10,
    "start_time": "2022-10-26T10:01:42.588Z"
   },
   {
    "duration": 50,
    "start_time": "2022-10-26T10:01:42.600Z"
   },
   {
    "duration": 244,
    "start_time": "2022-10-26T10:01:42.651Z"
   },
   {
    "duration": 3,
    "start_time": "2022-10-26T10:01:42.897Z"
   },
   {
    "duration": 7,
    "start_time": "2022-10-26T10:01:42.901Z"
   },
   {
    "duration": 56,
    "start_time": "2022-10-26T10:01:42.909Z"
   },
   {
    "duration": 7,
    "start_time": "2022-10-26T10:01:42.967Z"
   },
   {
    "duration": 11,
    "start_time": "2022-10-26T10:01:42.975Z"
   },
   {
    "duration": 28,
    "start_time": "2022-10-26T10:01:42.988Z"
   },
   {
    "duration": 272,
    "start_time": "2022-10-26T10:01:43.018Z"
   },
   {
    "duration": 3,
    "start_time": "2022-10-26T10:01:43.291Z"
   },
   {
    "duration": 27,
    "start_time": "2022-10-26T10:01:43.296Z"
   },
   {
    "duration": 128,
    "start_time": "2022-10-26T10:01:43.332Z"
   },
   {
    "duration": 4,
    "start_time": "2022-10-26T10:02:09.955Z"
   },
   {
    "duration": 6,
    "start_time": "2022-10-26T10:02:12.838Z"
   },
   {
    "duration": 47,
    "start_time": "2022-10-26T16:53:40.857Z"
   },
   {
    "duration": 1189,
    "start_time": "2022-10-26T16:55:19.774Z"
   },
   {
    "duration": 68,
    "start_time": "2022-10-26T16:55:20.965Z"
   },
   {
    "duration": 8,
    "start_time": "2022-10-26T16:55:21.035Z"
   },
   {
    "duration": 5,
    "start_time": "2022-10-26T16:55:21.045Z"
   },
   {
    "duration": 6,
    "start_time": "2022-10-26T16:55:21.052Z"
   },
   {
    "duration": 4,
    "start_time": "2022-10-26T16:55:21.059Z"
   },
   {
    "duration": 6,
    "start_time": "2022-10-26T16:55:21.065Z"
   },
   {
    "duration": 6,
    "start_time": "2022-10-26T16:55:21.073Z"
   },
   {
    "duration": 71,
    "start_time": "2022-10-26T16:55:21.080Z"
   },
   {
    "duration": 0,
    "start_time": "2022-10-26T16:55:21.153Z"
   },
   {
    "duration": 0,
    "start_time": "2022-10-26T16:55:21.155Z"
   },
   {
    "duration": 0,
    "start_time": "2022-10-26T16:55:21.156Z"
   },
   {
    "duration": 0,
    "start_time": "2022-10-26T16:55:21.157Z"
   },
   {
    "duration": 0,
    "start_time": "2022-10-26T16:55:21.159Z"
   },
   {
    "duration": 0,
    "start_time": "2022-10-26T16:55:21.160Z"
   },
   {
    "duration": 0,
    "start_time": "2022-10-26T16:55:21.161Z"
   },
   {
    "duration": 0,
    "start_time": "2022-10-26T16:55:21.162Z"
   },
   {
    "duration": 0,
    "start_time": "2022-10-26T16:55:21.163Z"
   },
   {
    "duration": 0,
    "start_time": "2022-10-26T16:55:21.163Z"
   },
   {
    "duration": 0,
    "start_time": "2022-10-26T16:55:21.164Z"
   },
   {
    "duration": 0,
    "start_time": "2022-10-26T16:55:21.165Z"
   },
   {
    "duration": 0,
    "start_time": "2022-10-26T16:55:21.166Z"
   },
   {
    "duration": 36,
    "start_time": "2022-10-26T16:55:39.305Z"
   },
   {
    "duration": 282,
    "start_time": "2022-10-26T16:55:40.374Z"
   },
   {
    "duration": 4,
    "start_time": "2022-10-26T16:55:41.154Z"
   },
   {
    "duration": 3,
    "start_time": "2022-10-26T16:55:42.169Z"
   },
   {
    "duration": 30,
    "start_time": "2022-10-26T16:55:42.561Z"
   },
   {
    "duration": 8,
    "start_time": "2022-10-26T16:55:42.757Z"
   },
   {
    "duration": 6,
    "start_time": "2022-10-26T16:55:42.990Z"
   },
   {
    "duration": 72,
    "start_time": "2022-10-26T16:55:43.198Z"
   },
   {
    "duration": 4,
    "start_time": "2022-10-26T16:55:43.825Z"
   },
   {
    "duration": 4,
    "start_time": "2022-10-26T16:58:00.376Z"
   },
   {
    "duration": 282,
    "start_time": "2022-10-26T16:58:01.417Z"
   },
   {
    "duration": 4,
    "start_time": "2022-10-26T16:58:02.523Z"
   },
   {
    "duration": 4,
    "start_time": "2022-10-26T17:00:22.584Z"
   },
   {
    "duration": 5,
    "start_time": "2022-10-26T17:00:23.621Z"
   },
   {
    "duration": 76,
    "start_time": "2022-10-26T17:02:12.110Z"
   },
   {
    "duration": 5,
    "start_time": "2022-10-26T17:02:28.684Z"
   }
  ],
  "kernelspec": {
   "display_name": "Python 3 (ipykernel)",
   "language": "python",
   "name": "python3"
  },
  "language_info": {
   "codemirror_mode": {
    "name": "ipython",
    "version": 3
   },
   "file_extension": ".py",
   "mimetype": "text/x-python",
   "name": "python",
   "nbconvert_exporter": "python",
   "pygments_lexer": "ipython3",
   "version": "3.9.12"
  },
  "toc": {
   "base_numbering": 1,
   "nav_menu": {},
   "number_sections": true,
   "sideBar": true,
   "skip_h1_title": true,
   "title_cell": "Table of Contents",
   "title_sidebar": "Contents",
   "toc_cell": false,
   "toc_position": {},
   "toc_section_display": true,
   "toc_window_display": false
  }
 },
 "nbformat": 4,
 "nbformat_minor": 2
}
