{
 "cells": [
  {
   "cell_type": "markdown",
   "id": "0dcd1c62",
   "metadata": {
    "deletable": false,
    "editable": false,
    "id": "c81daeeb"
   },
   "source": [
    "# Исследование надежности заемщиков\n"
   ]
  },
  {
   "cell_type": "markdown",
   "id": "97aa8cfa",
   "metadata": {
    "deletable": false,
    "editable": false,
    "id": "827c20bf"
   },
   "source": [
    "Во второй части проекта вы выполните шаги 3 и 4. Их вручную проверит ревьюер.\n",
    "Чтобы вам не пришлось писать код заново для шагов 1 и 2, мы добавили авторские решения в ячейки с кодом. \n",
    "\n"
   ]
  },
  {
   "cell_type": "markdown",
   "id": "60793145",
   "metadata": {
    "deletable": false,
    "editable": false,
    "id": "744d7639"
   },
   "source": [
    "## Откройте таблицу и изучите общую информацию о данных"
   ]
  },
  {
   "cell_type": "markdown",
   "id": "793ef669",
   "metadata": {
    "deletable": false,
    "editable": false,
    "id": "e7a14c31"
   },
   "source": [
    "**Задание 1. Импортируйте библиотеку pandas. Считайте данные из csv-файла в датафрейм и сохраните в переменную `data`. Путь к файлу:**\n",
    "\n",
    "`/datasets/data.csv`"
   ]
  },
  {
   "cell_type": "code",
   "execution_count": 1,
   "id": "68f25d38",
   "metadata": {
    "deletable": false,
    "id": "7bcf75c9"
   },
   "outputs": [],
   "source": [
    "import pandas as pd\n",
    "\n",
    "try:\n",
    "    data = pd.read_csv('/datasets/data.csv')\n",
    "except:\n",
    "    data = pd.read_csv('https://code.s3.yandex.net/datasets/data.csv')"
   ]
  },
  {
   "cell_type": "markdown",
   "id": "b0356b45",
   "metadata": {
    "deletable": false,
    "editable": false,
    "id": "b8038fe3"
   },
   "source": [
    "**Задание 2. Выведите первые 20 строчек датафрейма `data` на экран.**"
   ]
  },
  {
   "cell_type": "code",
   "execution_count": 2,
   "id": "884e09ee",
   "metadata": {
    "deletable": false,
    "id": "2a7cab99",
    "outputId": "1a8f3ef2-d323-4ec2-ddf7-89670b5944c4"
   },
   "outputs": [
    {
     "data": {
      "text/html": [
       "<div>\n",
       "<style scoped>\n",
       "    .dataframe tbody tr th:only-of-type {\n",
       "        vertical-align: middle;\n",
       "    }\n",
       "\n",
       "    .dataframe tbody tr th {\n",
       "        vertical-align: top;\n",
       "    }\n",
       "\n",
       "    .dataframe thead th {\n",
       "        text-align: right;\n",
       "    }\n",
       "</style>\n",
       "<table border=\"1\" class=\"dataframe\">\n",
       "  <thead>\n",
       "    <tr style=\"text-align: right;\">\n",
       "      <th></th>\n",
       "      <th>children</th>\n",
       "      <th>days_employed</th>\n",
       "      <th>dob_years</th>\n",
       "      <th>education</th>\n",
       "      <th>education_id</th>\n",
       "      <th>family_status</th>\n",
       "      <th>family_status_id</th>\n",
       "      <th>gender</th>\n",
       "      <th>income_type</th>\n",
       "      <th>debt</th>\n",
       "      <th>total_income</th>\n",
       "      <th>purpose</th>\n",
       "    </tr>\n",
       "  </thead>\n",
       "  <tbody>\n",
       "    <tr>\n",
       "      <th>0</th>\n",
       "      <td>1</td>\n",
       "      <td>-8437.673028</td>\n",
       "      <td>42</td>\n",
       "      <td>высшее</td>\n",
       "      <td>0</td>\n",
       "      <td>женат / замужем</td>\n",
       "      <td>0</td>\n",
       "      <td>F</td>\n",
       "      <td>сотрудник</td>\n",
       "      <td>0</td>\n",
       "      <td>253875.639453</td>\n",
       "      <td>покупка жилья</td>\n",
       "    </tr>\n",
       "    <tr>\n",
       "      <th>1</th>\n",
       "      <td>1</td>\n",
       "      <td>-4024.803754</td>\n",
       "      <td>36</td>\n",
       "      <td>среднее</td>\n",
       "      <td>1</td>\n",
       "      <td>женат / замужем</td>\n",
       "      <td>0</td>\n",
       "      <td>F</td>\n",
       "      <td>сотрудник</td>\n",
       "      <td>0</td>\n",
       "      <td>112080.014102</td>\n",
       "      <td>приобретение автомобиля</td>\n",
       "    </tr>\n",
       "    <tr>\n",
       "      <th>2</th>\n",
       "      <td>0</td>\n",
       "      <td>-5623.422610</td>\n",
       "      <td>33</td>\n",
       "      <td>Среднее</td>\n",
       "      <td>1</td>\n",
       "      <td>женат / замужем</td>\n",
       "      <td>0</td>\n",
       "      <td>M</td>\n",
       "      <td>сотрудник</td>\n",
       "      <td>0</td>\n",
       "      <td>145885.952297</td>\n",
       "      <td>покупка жилья</td>\n",
       "    </tr>\n",
       "    <tr>\n",
       "      <th>3</th>\n",
       "      <td>3</td>\n",
       "      <td>-4124.747207</td>\n",
       "      <td>32</td>\n",
       "      <td>среднее</td>\n",
       "      <td>1</td>\n",
       "      <td>женат / замужем</td>\n",
       "      <td>0</td>\n",
       "      <td>M</td>\n",
       "      <td>сотрудник</td>\n",
       "      <td>0</td>\n",
       "      <td>267628.550329</td>\n",
       "      <td>дополнительное образование</td>\n",
       "    </tr>\n",
       "    <tr>\n",
       "      <th>4</th>\n",
       "      <td>0</td>\n",
       "      <td>340266.072047</td>\n",
       "      <td>53</td>\n",
       "      <td>среднее</td>\n",
       "      <td>1</td>\n",
       "      <td>гражданский брак</td>\n",
       "      <td>1</td>\n",
       "      <td>F</td>\n",
       "      <td>пенсионер</td>\n",
       "      <td>0</td>\n",
       "      <td>158616.077870</td>\n",
       "      <td>сыграть свадьбу</td>\n",
       "    </tr>\n",
       "    <tr>\n",
       "      <th>5</th>\n",
       "      <td>0</td>\n",
       "      <td>-926.185831</td>\n",
       "      <td>27</td>\n",
       "      <td>высшее</td>\n",
       "      <td>0</td>\n",
       "      <td>гражданский брак</td>\n",
       "      <td>1</td>\n",
       "      <td>M</td>\n",
       "      <td>компаньон</td>\n",
       "      <td>0</td>\n",
       "      <td>255763.565419</td>\n",
       "      <td>покупка жилья</td>\n",
       "    </tr>\n",
       "    <tr>\n",
       "      <th>6</th>\n",
       "      <td>0</td>\n",
       "      <td>-2879.202052</td>\n",
       "      <td>43</td>\n",
       "      <td>высшее</td>\n",
       "      <td>0</td>\n",
       "      <td>женат / замужем</td>\n",
       "      <td>0</td>\n",
       "      <td>F</td>\n",
       "      <td>компаньон</td>\n",
       "      <td>0</td>\n",
       "      <td>240525.971920</td>\n",
       "      <td>операции с жильем</td>\n",
       "    </tr>\n",
       "    <tr>\n",
       "      <th>7</th>\n",
       "      <td>0</td>\n",
       "      <td>-152.779569</td>\n",
       "      <td>50</td>\n",
       "      <td>СРЕДНЕЕ</td>\n",
       "      <td>1</td>\n",
       "      <td>женат / замужем</td>\n",
       "      <td>0</td>\n",
       "      <td>M</td>\n",
       "      <td>сотрудник</td>\n",
       "      <td>0</td>\n",
       "      <td>135823.934197</td>\n",
       "      <td>образование</td>\n",
       "    </tr>\n",
       "    <tr>\n",
       "      <th>8</th>\n",
       "      <td>2</td>\n",
       "      <td>-6929.865299</td>\n",
       "      <td>35</td>\n",
       "      <td>ВЫСШЕЕ</td>\n",
       "      <td>0</td>\n",
       "      <td>гражданский брак</td>\n",
       "      <td>1</td>\n",
       "      <td>F</td>\n",
       "      <td>сотрудник</td>\n",
       "      <td>0</td>\n",
       "      <td>95856.832424</td>\n",
       "      <td>на проведение свадьбы</td>\n",
       "    </tr>\n",
       "    <tr>\n",
       "      <th>9</th>\n",
       "      <td>0</td>\n",
       "      <td>-2188.756445</td>\n",
       "      <td>41</td>\n",
       "      <td>среднее</td>\n",
       "      <td>1</td>\n",
       "      <td>женат / замужем</td>\n",
       "      <td>0</td>\n",
       "      <td>M</td>\n",
       "      <td>сотрудник</td>\n",
       "      <td>0</td>\n",
       "      <td>144425.938277</td>\n",
       "      <td>покупка жилья для семьи</td>\n",
       "    </tr>\n",
       "    <tr>\n",
       "      <th>10</th>\n",
       "      <td>2</td>\n",
       "      <td>-4171.483647</td>\n",
       "      <td>36</td>\n",
       "      <td>высшее</td>\n",
       "      <td>0</td>\n",
       "      <td>женат / замужем</td>\n",
       "      <td>0</td>\n",
       "      <td>M</td>\n",
       "      <td>компаньон</td>\n",
       "      <td>0</td>\n",
       "      <td>113943.491460</td>\n",
       "      <td>покупка недвижимости</td>\n",
       "    </tr>\n",
       "    <tr>\n",
       "      <th>11</th>\n",
       "      <td>0</td>\n",
       "      <td>-792.701887</td>\n",
       "      <td>40</td>\n",
       "      <td>среднее</td>\n",
       "      <td>1</td>\n",
       "      <td>женат / замужем</td>\n",
       "      <td>0</td>\n",
       "      <td>F</td>\n",
       "      <td>сотрудник</td>\n",
       "      <td>0</td>\n",
       "      <td>77069.234271</td>\n",
       "      <td>покупка коммерческой недвижимости</td>\n",
       "    </tr>\n",
       "    <tr>\n",
       "      <th>12</th>\n",
       "      <td>0</td>\n",
       "      <td>NaN</td>\n",
       "      <td>65</td>\n",
       "      <td>среднее</td>\n",
       "      <td>1</td>\n",
       "      <td>гражданский брак</td>\n",
       "      <td>1</td>\n",
       "      <td>M</td>\n",
       "      <td>пенсионер</td>\n",
       "      <td>0</td>\n",
       "      <td>NaN</td>\n",
       "      <td>сыграть свадьбу</td>\n",
       "    </tr>\n",
       "    <tr>\n",
       "      <th>13</th>\n",
       "      <td>0</td>\n",
       "      <td>-1846.641941</td>\n",
       "      <td>54</td>\n",
       "      <td>неоконченное высшее</td>\n",
       "      <td>2</td>\n",
       "      <td>женат / замужем</td>\n",
       "      <td>0</td>\n",
       "      <td>F</td>\n",
       "      <td>сотрудник</td>\n",
       "      <td>0</td>\n",
       "      <td>130458.228857</td>\n",
       "      <td>приобретение автомобиля</td>\n",
       "    </tr>\n",
       "    <tr>\n",
       "      <th>14</th>\n",
       "      <td>0</td>\n",
       "      <td>-1844.956182</td>\n",
       "      <td>56</td>\n",
       "      <td>высшее</td>\n",
       "      <td>0</td>\n",
       "      <td>гражданский брак</td>\n",
       "      <td>1</td>\n",
       "      <td>F</td>\n",
       "      <td>компаньон</td>\n",
       "      <td>1</td>\n",
       "      <td>165127.911772</td>\n",
       "      <td>покупка жилой недвижимости</td>\n",
       "    </tr>\n",
       "    <tr>\n",
       "      <th>15</th>\n",
       "      <td>1</td>\n",
       "      <td>-972.364419</td>\n",
       "      <td>26</td>\n",
       "      <td>среднее</td>\n",
       "      <td>1</td>\n",
       "      <td>женат / замужем</td>\n",
       "      <td>0</td>\n",
       "      <td>F</td>\n",
       "      <td>сотрудник</td>\n",
       "      <td>0</td>\n",
       "      <td>116820.904450</td>\n",
       "      <td>строительство собственной недвижимости</td>\n",
       "    </tr>\n",
       "    <tr>\n",
       "      <th>16</th>\n",
       "      <td>0</td>\n",
       "      <td>-1719.934226</td>\n",
       "      <td>35</td>\n",
       "      <td>среднее</td>\n",
       "      <td>1</td>\n",
       "      <td>женат / замужем</td>\n",
       "      <td>0</td>\n",
       "      <td>F</td>\n",
       "      <td>сотрудник</td>\n",
       "      <td>0</td>\n",
       "      <td>289202.704229</td>\n",
       "      <td>недвижимость</td>\n",
       "    </tr>\n",
       "    <tr>\n",
       "      <th>17</th>\n",
       "      <td>0</td>\n",
       "      <td>-2369.999720</td>\n",
       "      <td>33</td>\n",
       "      <td>высшее</td>\n",
       "      <td>0</td>\n",
       "      <td>гражданский брак</td>\n",
       "      <td>1</td>\n",
       "      <td>M</td>\n",
       "      <td>сотрудник</td>\n",
       "      <td>0</td>\n",
       "      <td>90410.586745</td>\n",
       "      <td>строительство недвижимости</td>\n",
       "    </tr>\n",
       "    <tr>\n",
       "      <th>18</th>\n",
       "      <td>0</td>\n",
       "      <td>400281.136913</td>\n",
       "      <td>53</td>\n",
       "      <td>среднее</td>\n",
       "      <td>1</td>\n",
       "      <td>вдовец / вдова</td>\n",
       "      <td>2</td>\n",
       "      <td>F</td>\n",
       "      <td>пенсионер</td>\n",
       "      <td>0</td>\n",
       "      <td>56823.777243</td>\n",
       "      <td>на покупку подержанного автомобиля</td>\n",
       "    </tr>\n",
       "    <tr>\n",
       "      <th>19</th>\n",
       "      <td>0</td>\n",
       "      <td>-10038.818549</td>\n",
       "      <td>48</td>\n",
       "      <td>СРЕДНЕЕ</td>\n",
       "      <td>1</td>\n",
       "      <td>в разводе</td>\n",
       "      <td>3</td>\n",
       "      <td>F</td>\n",
       "      <td>сотрудник</td>\n",
       "      <td>0</td>\n",
       "      <td>242831.107982</td>\n",
       "      <td>на покупку своего автомобиля</td>\n",
       "    </tr>\n",
       "  </tbody>\n",
       "</table>\n",
       "</div>"
      ],
      "text/plain": [
       "    children  days_employed  dob_years            education  education_id  \\\n",
       "0          1   -8437.673028         42               высшее             0   \n",
       "1          1   -4024.803754         36              среднее             1   \n",
       "2          0   -5623.422610         33              Среднее             1   \n",
       "3          3   -4124.747207         32              среднее             1   \n",
       "4          0  340266.072047         53              среднее             1   \n",
       "5          0    -926.185831         27               высшее             0   \n",
       "6          0   -2879.202052         43               высшее             0   \n",
       "7          0    -152.779569         50              СРЕДНЕЕ             1   \n",
       "8          2   -6929.865299         35               ВЫСШЕЕ             0   \n",
       "9          0   -2188.756445         41              среднее             1   \n",
       "10         2   -4171.483647         36               высшее             0   \n",
       "11         0    -792.701887         40              среднее             1   \n",
       "12         0            NaN         65              среднее             1   \n",
       "13         0   -1846.641941         54  неоконченное высшее             2   \n",
       "14         0   -1844.956182         56               высшее             0   \n",
       "15         1    -972.364419         26              среднее             1   \n",
       "16         0   -1719.934226         35              среднее             1   \n",
       "17         0   -2369.999720         33               высшее             0   \n",
       "18         0  400281.136913         53              среднее             1   \n",
       "19         0  -10038.818549         48              СРЕДНЕЕ             1   \n",
       "\n",
       "       family_status  family_status_id gender income_type  debt  \\\n",
       "0    женат / замужем                 0      F   сотрудник     0   \n",
       "1    женат / замужем                 0      F   сотрудник     0   \n",
       "2    женат / замужем                 0      M   сотрудник     0   \n",
       "3    женат / замужем                 0      M   сотрудник     0   \n",
       "4   гражданский брак                 1      F   пенсионер     0   \n",
       "5   гражданский брак                 1      M   компаньон     0   \n",
       "6    женат / замужем                 0      F   компаньон     0   \n",
       "7    женат / замужем                 0      M   сотрудник     0   \n",
       "8   гражданский брак                 1      F   сотрудник     0   \n",
       "9    женат / замужем                 0      M   сотрудник     0   \n",
       "10   женат / замужем                 0      M   компаньон     0   \n",
       "11   женат / замужем                 0      F   сотрудник     0   \n",
       "12  гражданский брак                 1      M   пенсионер     0   \n",
       "13   женат / замужем                 0      F   сотрудник     0   \n",
       "14  гражданский брак                 1      F   компаньон     1   \n",
       "15   женат / замужем                 0      F   сотрудник     0   \n",
       "16   женат / замужем                 0      F   сотрудник     0   \n",
       "17  гражданский брак                 1      M   сотрудник     0   \n",
       "18    вдовец / вдова                 2      F   пенсионер     0   \n",
       "19         в разводе                 3      F   сотрудник     0   \n",
       "\n",
       "     total_income                                 purpose  \n",
       "0   253875.639453                           покупка жилья  \n",
       "1   112080.014102                 приобретение автомобиля  \n",
       "2   145885.952297                           покупка жилья  \n",
       "3   267628.550329              дополнительное образование  \n",
       "4   158616.077870                         сыграть свадьбу  \n",
       "5   255763.565419                           покупка жилья  \n",
       "6   240525.971920                       операции с жильем  \n",
       "7   135823.934197                             образование  \n",
       "8    95856.832424                   на проведение свадьбы  \n",
       "9   144425.938277                 покупка жилья для семьи  \n",
       "10  113943.491460                    покупка недвижимости  \n",
       "11   77069.234271       покупка коммерческой недвижимости  \n",
       "12            NaN                         сыграть свадьбу  \n",
       "13  130458.228857                 приобретение автомобиля  \n",
       "14  165127.911772              покупка жилой недвижимости  \n",
       "15  116820.904450  строительство собственной недвижимости  \n",
       "16  289202.704229                            недвижимость  \n",
       "17   90410.586745              строительство недвижимости  \n",
       "18   56823.777243      на покупку подержанного автомобиля  \n",
       "19  242831.107982            на покупку своего автомобиля  "
      ]
     },
     "execution_count": 2,
     "metadata": {},
     "output_type": "execute_result"
    }
   ],
   "source": [
    "data.head(20)"
   ]
  },
  {
   "cell_type": "markdown",
   "id": "9c4e5b00",
   "metadata": {
    "deletable": false,
    "editable": false,
    "id": "1c12e233"
   },
   "source": [
    "**Задание 3. Выведите основную информацию о датафрейме с помощью метода `info()`.**"
   ]
  },
  {
   "cell_type": "code",
   "execution_count": 3,
   "id": "b02b2fe0",
   "metadata": {
    "deletable": false,
    "id": "2b757bca",
    "outputId": "15376089-8dad-46c9-b520-c05248d43158"
   },
   "outputs": [
    {
     "name": "stdout",
     "output_type": "stream",
     "text": [
      "<class 'pandas.core.frame.DataFrame'>\n",
      "RangeIndex: 21525 entries, 0 to 21524\n",
      "Data columns (total 12 columns):\n",
      " #   Column            Non-Null Count  Dtype  \n",
      "---  ------            --------------  -----  \n",
      " 0   children          21525 non-null  int64  \n",
      " 1   days_employed     19351 non-null  float64\n",
      " 2   dob_years         21525 non-null  int64  \n",
      " 3   education         21525 non-null  object \n",
      " 4   education_id      21525 non-null  int64  \n",
      " 5   family_status     21525 non-null  object \n",
      " 6   family_status_id  21525 non-null  int64  \n",
      " 7   gender            21525 non-null  object \n",
      " 8   income_type       21525 non-null  object \n",
      " 9   debt              21525 non-null  int64  \n",
      " 10  total_income      19351 non-null  float64\n",
      " 11  purpose           21525 non-null  object \n",
      "dtypes: float64(2), int64(5), object(5)\n",
      "memory usage: 2.0+ MB\n"
     ]
    }
   ],
   "source": [
    "data.info()"
   ]
  },
  {
   "cell_type": "markdown",
   "id": "5a948402",
   "metadata": {
    "deletable": false,
    "editable": false,
    "id": "333ec665"
   },
   "source": [
    "## Предобработка данных"
   ]
  },
  {
   "cell_type": "markdown",
   "id": "1c072fb1",
   "metadata": {
    "deletable": false,
    "editable": false,
    "id": "02d92d53"
   },
   "source": [
    "### Удаление пропусков"
   ]
  },
  {
   "cell_type": "markdown",
   "id": "a0e46644",
   "metadata": {
    "deletable": false,
    "editable": false,
    "id": "cd84967c"
   },
   "source": [
    "**Задание 4. Выведите количество пропущенных значений для каждого столбца. Используйте комбинацию двух методов.**"
   ]
  },
  {
   "cell_type": "code",
   "execution_count": 4,
   "id": "6edccd16",
   "metadata": {
    "deletable": false,
    "id": "7f9b2309",
    "outputId": "81f4d817-781c-465c-ed15-91ce4446810d"
   },
   "outputs": [
    {
     "data": {
      "text/plain": [
       "children               0\n",
       "days_employed       2174\n",
       "dob_years              0\n",
       "education              0\n",
       "education_id           0\n",
       "family_status          0\n",
       "family_status_id       0\n",
       "gender                 0\n",
       "income_type            0\n",
       "debt                   0\n",
       "total_income        2174\n",
       "purpose                0\n",
       "dtype: int64"
      ]
     },
     "execution_count": 4,
     "metadata": {},
     "output_type": "execute_result"
    }
   ],
   "source": [
    "data.isna().sum()"
   ]
  },
  {
   "cell_type": "markdown",
   "id": "4dee7740",
   "metadata": {
    "deletable": false,
    "editable": false,
    "id": "db86e27b"
   },
   "source": [
    "**Задание 5. В двух столбцах есть пропущенные значения. Один из них — `days_employed`. Пропуски в этом столбце вы обработаете на следующем этапе. Другой столбец с пропущенными значениями — `total_income` — хранит данные о доходах. На сумму дохода сильнее всего влияет тип занятости, поэтому заполнить пропуски в этом столбце нужно медианным значением по каждому типу из столбца `income_type`. Например, у человека с типом занятости `сотрудник` пропуск в столбце `total_income` должен быть заполнен медианным доходом среди всех записей с тем же типом.**"
   ]
  },
  {
   "cell_type": "code",
   "execution_count": 5,
   "id": "8a4c94e5",
   "metadata": {
    "deletable": false,
    "id": "42006a93"
   },
   "outputs": [],
   "source": [
    "for t in data['income_type'].unique():\n",
    "    data.loc[(data['income_type'] == t) & (data['total_income'].isna()), 'total_income'] = \\\n",
    "    data.loc[(data['income_type'] == t), 'total_income'].median()"
   ]
  },
  {
   "cell_type": "markdown",
   "id": "760efc1e",
   "metadata": {
    "deletable": false,
    "editable": false,
    "id": "89da5ece"
   },
   "source": [
    "### Обработка аномальных значений"
   ]
  },
  {
   "cell_type": "markdown",
   "id": "af154050",
   "metadata": {
    "deletable": false,
    "editable": false,
    "id": "57964554"
   },
   "source": [
    "**Задание 6. В данных могут встречаться артефакты (аномалии) — значения, которые не отражают действительность и появились по какой-то ошибке. таким артефактом будет отрицательное количество дней трудового стажа в столбце `days_employed`. Для реальных данных это нормально. Обработайте значения в этом столбце: замените все отрицательные значения положительными с помощью метода `abs()`.**"
   ]
  },
  {
   "cell_type": "code",
   "execution_count": 6,
   "id": "bcaff5ac",
   "metadata": {
    "deletable": false,
    "id": "f6f055bf"
   },
   "outputs": [],
   "source": [
    "data['days_employed'] = data['days_employed'].abs()"
   ]
  },
  {
   "cell_type": "markdown",
   "id": "7b2ee552",
   "metadata": {
    "deletable": false,
    "editable": false,
    "id": "6107dd2f"
   },
   "source": [
    "**Задание 7. Для каждого типа занятости выведите медианное значение трудового стажа `days_employed` в днях.**"
   ]
  },
  {
   "cell_type": "code",
   "execution_count": 7,
   "id": "cd861a90",
   "metadata": {
    "deletable": false,
    "id": "85a5faf6",
    "outputId": "801ef80e-522b-4668-f34e-565af7432bcf"
   },
   "outputs": [
    {
     "data": {
      "text/plain": [
       "income_type\n",
       "безработный        366413.652744\n",
       "в декрете            3296.759962\n",
       "госслужащий          2689.368353\n",
       "компаньон            1547.382223\n",
       "пенсионер          365213.306266\n",
       "предприниматель       520.848083\n",
       "сотрудник            1574.202821\n",
       "студент               578.751554\n",
       "Name: days_employed, dtype: float64"
      ]
     },
     "execution_count": 7,
     "metadata": {},
     "output_type": "execute_result"
    }
   ],
   "source": [
    "data.groupby('income_type')['days_employed'].agg('median')"
   ]
  },
  {
   "cell_type": "markdown",
   "id": "e30bc541",
   "metadata": {
    "deletable": false,
    "editable": false,
    "id": "38d1a030"
   },
   "source": [
    "У двух типов (безработные и пенсионеры) получатся аномально большие значения. Исправить такие значения сложно, поэтому оставьте их как есть. Тем более этот столбец не понадобится вам для исследования."
   ]
  },
  {
   "cell_type": "markdown",
   "id": "85b91fc5",
   "metadata": {
    "deletable": false,
    "editable": false,
    "id": "d8a9f147"
   },
   "source": [
    "**Задание 8. Выведите перечень уникальных значений столбца `children`.**"
   ]
  },
  {
   "cell_type": "code",
   "execution_count": 8,
   "id": "73fdbaaa",
   "metadata": {
    "deletable": false,
    "id": "ef5056eb",
    "outputId": "6975b15c-7f95-4697-d16d-a0c79b657b03"
   },
   "outputs": [
    {
     "data": {
      "text/plain": [
       "array([ 1,  0,  3,  2, -1,  4, 20,  5])"
      ]
     },
     "execution_count": 8,
     "metadata": {},
     "output_type": "execute_result"
    }
   ],
   "source": [
    "data['children'].unique()"
   ]
  },
  {
   "cell_type": "markdown",
   "id": "2629eecf",
   "metadata": {
    "deletable": false,
    "editable": false,
    "id": "40b9ebf2"
   },
   "source": [
    "**Задание 9. В столбце `children` есть два аномальных значения. Удалите строки, в которых встречаются такие аномальные значения из датафрейма `data`.**"
   ]
  },
  {
   "cell_type": "code",
   "execution_count": 9,
   "id": "2fa6963e",
   "metadata": {
    "deletable": false,
    "id": "3ff9801d"
   },
   "outputs": [],
   "source": [
    "data = data[(data['children'] != -1) & (data['children'] != 20)]"
   ]
  },
  {
   "cell_type": "markdown",
   "id": "ddd6052d",
   "metadata": {
    "deletable": false,
    "editable": false,
    "id": "bbc4d0ce"
   },
   "source": [
    "**Задание 10. Ещё раз выведите перечень уникальных значений столбца `children`, чтобы убедиться, что артефакты удалены.**"
   ]
  },
  {
   "cell_type": "code",
   "execution_count": 10,
   "id": "662e0234",
   "metadata": {
    "deletable": false,
    "id": "ad4fa8b7",
    "outputId": "b2097101-d49d-44d9-901b-32a65c9463d1"
   },
   "outputs": [
    {
     "data": {
      "text/plain": [
       "array([1, 0, 3, 2, 4, 5])"
      ]
     },
     "execution_count": 10,
     "metadata": {},
     "output_type": "execute_result"
    }
   ],
   "source": [
    "data['children'].unique()"
   ]
  },
  {
   "cell_type": "markdown",
   "id": "5854aec3",
   "metadata": {
    "deletable": false,
    "editable": false,
    "id": "75440b63"
   },
   "source": [
    "### Удаление пропусков (продолжение)"
   ]
  },
  {
   "cell_type": "markdown",
   "id": "284c7f78",
   "metadata": {
    "deletable": false,
    "editable": false,
    "id": "f4ea573f"
   },
   "source": [
    "**Задание 11. Заполните пропуски в столбце `days_employed` медианными значениями по каждого типа занятости `income_type`.**"
   ]
  },
  {
   "cell_type": "code",
   "execution_count": 11,
   "id": "8bc71833",
   "metadata": {
    "deletable": false,
    "id": "af6b1a7e"
   },
   "outputs": [],
   "source": [
    "for t in data['income_type'].unique():\n",
    "    data.loc[(data['income_type'] == t) & (data['days_employed'].isna()), 'days_employed'] = \\\n",
    "    data.loc[(data['income_type'] == t), 'days_employed'].median()"
   ]
  },
  {
   "cell_type": "markdown",
   "id": "2b571634",
   "metadata": {
    "deletable": false,
    "editable": false,
    "id": "2753f40d"
   },
   "source": [
    "**Задание 12. Убедитесь, что все пропуски заполнены. Проверьте себя и ещё раз выведите количество пропущенных значений для каждого столбца с помощью двух методов.**"
   ]
  },
  {
   "cell_type": "code",
   "execution_count": 12,
   "id": "7fbbc8be",
   "metadata": {
    "deletable": false,
    "id": "55f78bc2",
    "outputId": "8da1e4e1-358e-4e87-98c9-f261bce0a7b2"
   },
   "outputs": [
    {
     "data": {
      "text/plain": [
       "children            0\n",
       "days_employed       0\n",
       "dob_years           0\n",
       "education           0\n",
       "education_id        0\n",
       "family_status       0\n",
       "family_status_id    0\n",
       "gender              0\n",
       "income_type         0\n",
       "debt                0\n",
       "total_income        0\n",
       "purpose             0\n",
       "dtype: int64"
      ]
     },
     "execution_count": 12,
     "metadata": {},
     "output_type": "execute_result"
    }
   ],
   "source": [
    "data.isna().sum()"
   ]
  },
  {
   "cell_type": "markdown",
   "id": "bfed6c36",
   "metadata": {
    "deletable": false,
    "editable": false,
    "id": "ddc81e43"
   },
   "source": [
    "### Изменение типов данных"
   ]
  },
  {
   "cell_type": "markdown",
   "id": "a5c273f2",
   "metadata": {
    "deletable": false,
    "editable": false,
    "id": "42d19d24"
   },
   "source": [
    "**Задание 13. Замените вещественный тип данных в столбце `total_income` на целочисленный с помощью метода `astype()`.**"
   ]
  },
  {
   "cell_type": "code",
   "execution_count": 13,
   "id": "8c3d6ede",
   "metadata": {
    "deletable": false,
    "id": "920b65ad"
   },
   "outputs": [],
   "source": [
    "data['total_income'] = data['total_income'].astype(int)"
   ]
  },
  {
   "cell_type": "markdown",
   "id": "f4c1ac09",
   "metadata": {
    "deletable": false,
    "editable": false,
    "id": "80c420ba"
   },
   "source": [
    "### Обработка дубликатов"
   ]
  },
  {
   "cell_type": "markdown",
   "id": "abb512c7",
   "metadata": {
    "deletable": false,
    "editable": false
   },
   "source": [
    "**Задание 14. Обработайте неявные дубликаты в столбце `education`. В этом столбце есть одни и те же значения, но записанные по-разному: с использованием заглавных и строчных букв. Приведите их к нижнему регистру. Проверьте остальные столбцы.**"
   ]
  },
  {
   "cell_type": "code",
   "execution_count": 14,
   "id": "8e0acb5e",
   "metadata": {
    "deletable": false
   },
   "outputs": [],
   "source": [
    "data['education'] = data['education'].str.lower()"
   ]
  },
  {
   "cell_type": "markdown",
   "id": "ea214809",
   "metadata": {
    "deletable": false,
    "editable": false,
    "id": "dc587695"
   },
   "source": [
    "**Задание 15. Выведите на экран количество строк-дубликатов в данных. Если такие строки присутствуют, удалите их.**"
   ]
  },
  {
   "cell_type": "code",
   "execution_count": 15,
   "id": "dad4424c",
   "metadata": {
    "deletable": false,
    "id": "3ee445e4",
    "outputId": "9684deba-1934-42d1-99e1-cda61740f822"
   },
   "outputs": [
    {
     "data": {
      "text/plain": [
       "71"
      ]
     },
     "execution_count": 15,
     "metadata": {},
     "output_type": "execute_result"
    }
   ],
   "source": [
    "data.duplicated().sum()"
   ]
  },
  {
   "cell_type": "code",
   "execution_count": 16,
   "id": "306cf133",
   "metadata": {
    "deletable": false,
    "id": "8575fe05"
   },
   "outputs": [],
   "source": [
    "data = data.drop_duplicates()"
   ]
  },
  {
   "cell_type": "markdown",
   "id": "237f29c7",
   "metadata": {
    "deletable": false,
    "editable": false,
    "id": "9904cf55"
   },
   "source": [
    "### Категоризация данных"
   ]
  },
  {
   "cell_type": "markdown",
   "id": "da173db8",
   "metadata": {
    "deletable": false,
    "editable": false,
    "id": "72fcc8a2"
   },
   "source": [
    "**Задание 16. На основании диапазонов, указанных ниже, создайте в датафрейме `data` столбец `total_income_category` с категориями:**\n",
    "\n",
    "- 0–30000 — `'E'`;\n",
    "- 30001–50000 — `'D'`;\n",
    "- 50001–200000 — `'C'`;\n",
    "- 200001–1000000 — `'B'`;\n",
    "- 1000001 и выше — `'A'`.\n",
    "\n",
    "\n",
    "**Например, кредитополучателю с доходом 25000 нужно назначить категорию `'E'`, а клиенту, получающему 235000, — `'B'`. Используйте собственную функцию с именем `categorize_income()` и метод `apply()`.**"
   ]
  },
  {
   "cell_type": "code",
   "execution_count": 17,
   "id": "e7b85fa7",
   "metadata": {
    "deletable": false,
    "id": "e1771346"
   },
   "outputs": [],
   "source": [
    "def categorize_income(income):\n",
    "    try:\n",
    "        if 0 <= income <= 30000:\n",
    "            return 'E'\n",
    "        elif 30001 <= income <= 50000:\n",
    "            return 'D'\n",
    "        elif 50001 <= income <= 200000:\n",
    "            return 'C'\n",
    "        elif 200001 <= income <= 1000000:\n",
    "            return 'B'\n",
    "        elif income >= 1000001:\n",
    "            return 'A'\n",
    "    except:\n",
    "        pass"
   ]
  },
  {
   "cell_type": "code",
   "execution_count": 18,
   "id": "07797269",
   "metadata": {
    "deletable": false,
    "id": "d5f3586d"
   },
   "outputs": [],
   "source": [
    "data['total_income_category'] = data['total_income'].apply(categorize_income)"
   ]
  },
  {
   "cell_type": "markdown",
   "id": "68b7a3c4",
   "metadata": {
    "deletable": false,
    "editable": false,
    "id": "dde49b5c"
   },
   "source": [
    "**Задание 17. Выведите на экран перечень уникальных целей взятия кредита из столбца `purpose`.**"
   ]
  },
  {
   "cell_type": "code",
   "execution_count": 19,
   "id": "29acd250",
   "metadata": {
    "deletable": false,
    "id": "f67ce9b3",
    "outputId": "673c12d9-7d7e-4ae0-9812-c622c89dd244"
   },
   "outputs": [
    {
     "data": {
      "text/plain": [
       "array(['покупка жилья', 'приобретение автомобиля',\n",
       "       'дополнительное образование', 'сыграть свадьбу',\n",
       "       'операции с жильем', 'образование', 'на проведение свадьбы',\n",
       "       'покупка жилья для семьи', 'покупка недвижимости',\n",
       "       'покупка коммерческой недвижимости', 'покупка жилой недвижимости',\n",
       "       'строительство собственной недвижимости', 'недвижимость',\n",
       "       'строительство недвижимости', 'на покупку подержанного автомобиля',\n",
       "       'на покупку своего автомобиля',\n",
       "       'операции с коммерческой недвижимостью',\n",
       "       'строительство жилой недвижимости', 'жилье',\n",
       "       'операции со своей недвижимостью', 'автомобили',\n",
       "       'заняться образованием', 'сделка с подержанным автомобилем',\n",
       "       'получение образования', 'автомобиль', 'свадьба',\n",
       "       'получение дополнительного образования', 'покупка своего жилья',\n",
       "       'операции с недвижимостью', 'получение высшего образования',\n",
       "       'свой автомобиль', 'сделка с автомобилем',\n",
       "       'профильное образование', 'высшее образование',\n",
       "       'покупка жилья для сдачи', 'на покупку автомобиля', 'ремонт жилью',\n",
       "       'заняться высшим образованием'], dtype=object)"
      ]
     },
     "execution_count": 19,
     "metadata": {},
     "output_type": "execute_result"
    }
   ],
   "source": [
    "data['purpose'].unique()"
   ]
  },
  {
   "cell_type": "markdown",
   "id": "a9129373",
   "metadata": {
    "deletable": false,
    "editable": false,
    "id": "85d0aef0"
   },
   "source": [
    "**Задание 18. Создайте функцию, которая на основании данных из столбца `purpose` сформирует новый столбец `purpose_category`, в который войдут следующие категории:**\n",
    "\n",
    "- `'операции с автомобилем'`,\n",
    "- `'операции с недвижимостью'`,\n",
    "- `'проведение свадьбы'`,\n",
    "- `'получение образования'`.\n",
    "\n",
    "**Например, если в столбце `purpose` находится подстрока `'на покупку автомобиля'`, то в столбце `purpose_category` должна появиться строка `'операции с автомобилем'`.**\n",
    "\n",
    "**Используйте собственную функцию с именем `categorize_purpose()` и метод `apply()`. Изучите данные в столбце `purpose` и определите, какие подстроки помогут вам правильно определить категорию.**"
   ]
  },
  {
   "cell_type": "code",
   "execution_count": 20,
   "id": "47f4c943",
   "metadata": {
    "deletable": false,
    "id": "e149fab4"
   },
   "outputs": [],
   "source": [
    "def categorize_purpose(row):\n",
    "    try:\n",
    "        if 'автом' in row:\n",
    "            return 'операции с автомобилем'\n",
    "        elif 'жил' in row or 'недвиж' in row:\n",
    "            return 'операции с недвижимостью'\n",
    "        elif 'свад' in row:\n",
    "            return 'проведение свадьбы'\n",
    "        elif 'образов' in row:\n",
    "            return 'получение образования'\n",
    "    except:\n",
    "        return 'нет категории'"
   ]
  },
  {
   "cell_type": "code",
   "execution_count": 21,
   "id": "0a6543a2",
   "metadata": {
    "deletable": false,
    "id": "bf36e69b"
   },
   "outputs": [],
   "source": [
    "data['purpose_category'] = data['purpose'].apply(categorize_purpose)"
   ]
  },
  {
   "cell_type": "markdown",
   "id": "4fe3cfa0",
   "metadata": {
    "deletable": false,
    "editable": false,
    "id": "09b242bf"
   },
   "source": [
    "### Шаг 3. Исследуйте данные и ответьте на вопросы"
   ]
  },
  {
   "cell_type": "markdown",
   "id": "c4aa617e",
   "metadata": {
    "deletable": false,
    "editable": false,
    "id": "c5d66278"
   },
   "source": [
    "#### 3.1 Есть ли зависимость между количеством детей и возвратом кредита в срок?"
   ]
  },
  {
   "cell_type": "code",
   "execution_count": 22,
   "id": "13e43973",
   "metadata": {
    "deletable": false,
    "id": "2cacfc4a"
   },
   "outputs": [
    {
     "name": "stdout",
     "output_type": "stream",
     "text": [
      "[1 0 3 2 4 5]\n"
     ]
    },
    {
     "data": {
      "text/html": [
       "<div>\n",
       "<style scoped>\n",
       "    .dataframe tbody tr th:only-of-type {\n",
       "        vertical-align: middle;\n",
       "    }\n",
       "\n",
       "    .dataframe tbody tr th {\n",
       "        vertical-align: top;\n",
       "    }\n",
       "\n",
       "    .dataframe thead th {\n",
       "        text-align: right;\n",
       "    }\n",
       "</style>\n",
       "<table border=\"1\" class=\"dataframe\">\n",
       "  <thead>\n",
       "    <tr style=\"text-align: right;\">\n",
       "      <th></th>\n",
       "      <th>children_count</th>\n",
       "      <th>children_sum</th>\n",
       "      <th>children_result</th>\n",
       "    </tr>\n",
       "    <tr>\n",
       "      <th>children</th>\n",
       "      <th></th>\n",
       "      <th></th>\n",
       "      <th></th>\n",
       "    </tr>\n",
       "  </thead>\n",
       "  <tbody>\n",
       "    <tr>\n",
       "      <th>4</th>\n",
       "      <td>41</td>\n",
       "      <td>4</td>\n",
       "      <td>0.097561</td>\n",
       "    </tr>\n",
       "    <tr>\n",
       "      <th>2</th>\n",
       "      <td>2052</td>\n",
       "      <td>194</td>\n",
       "      <td>0.094542</td>\n",
       "    </tr>\n",
       "    <tr>\n",
       "      <th>1</th>\n",
       "      <td>4808</td>\n",
       "      <td>444</td>\n",
       "      <td>0.092346</td>\n",
       "    </tr>\n",
       "    <tr>\n",
       "      <th>3</th>\n",
       "      <td>330</td>\n",
       "      <td>27</td>\n",
       "      <td>0.081818</td>\n",
       "    </tr>\n",
       "    <tr>\n",
       "      <th>0</th>\n",
       "      <td>14091</td>\n",
       "      <td>1063</td>\n",
       "      <td>0.075438</td>\n",
       "    </tr>\n",
       "    <tr>\n",
       "      <th>5</th>\n",
       "      <td>9</td>\n",
       "      <td>0</td>\n",
       "      <td>0.000000</td>\n",
       "    </tr>\n",
       "  </tbody>\n",
       "</table>\n",
       "</div>"
      ],
      "text/plain": [
       "          children_count  children_sum  children_result\n",
       "children                                               \n",
       "4                     41             4         0.097561\n",
       "2                   2052           194         0.094542\n",
       "1                   4808           444         0.092346\n",
       "3                    330            27         0.081818\n",
       "0                  14091          1063         0.075438\n",
       "5                      9             0         0.000000"
      ]
     },
     "execution_count": 22,
     "metadata": {},
     "output_type": "execute_result"
    }
   ],
   "source": [
    "print(data['children'].unique())\n",
    "children_for_credit = pd.DataFrame()\n",
    "children_for_credit['children_count'] = data.groupby('children')['debt'].count()\n",
    "children_for_credit['children_sum'] = data.groupby('children')['debt'].sum()\n",
    "children_for_credit['children_result'] = children_for_credit['children_sum'] / children_for_credit['children_count'] \n",
    "children_for_credit.sort_values('children_result', ascending = False)\n",
    "# Ваш код будет здесь. Вы можете создавать новые ячейки."
   ]
  },
  {
   "cell_type": "markdown",
   "id": "f608097d",
   "metadata": {
    "deletable": false,
    "id": "3a6b99ec"
   },
   "source": [
    "**Вывод: Примем количество детей за категорию, так как их всего 6. Из полученного дата фрейма мы видим, что данные не позволяют сделать однозначных выводов, наверное, нужна выборка с большим количеством людей. Несмотря на повышение количства просрочек по кредиту с увеличением количества детей, люди с 3 детьми чаще платят вовремя, нежели люди с 1 ребенком. Также видно, что люди без детей реже остальных допускают просрочку по кредиту.** "
   ]
  },
  {
   "cell_type": "markdown",
   "id": "b34b10a9",
   "metadata": {
    "deletable": false,
    "editable": false,
    "id": "97be82ca"
   },
   "source": [
    "#### 3.2 Есть ли зависимость между семейным положением и возвратом кредита в срок?"
   ]
  },
  {
   "cell_type": "code",
   "execution_count": 23,
   "id": "01b536b9",
   "metadata": {
    "deletable": false,
    "id": "dc3f7ee8"
   },
   "outputs": [
    {
     "name": "stdout",
     "output_type": "stream",
     "text": [
      "['женат / замужем' 'гражданский брак' 'вдовец / вдова' 'в разводе'\n",
      " 'Не женат / не замужем']\n"
     ]
    },
    {
     "data": {
      "text/html": [
       "<div>\n",
       "<style scoped>\n",
       "    .dataframe tbody tr th:only-of-type {\n",
       "        vertical-align: middle;\n",
       "    }\n",
       "\n",
       "    .dataframe tbody tr th {\n",
       "        vertical-align: top;\n",
       "    }\n",
       "\n",
       "    .dataframe thead th {\n",
       "        text-align: right;\n",
       "    }\n",
       "</style>\n",
       "<table border=\"1\" class=\"dataframe\">\n",
       "  <thead>\n",
       "    <tr style=\"text-align: right;\">\n",
       "      <th></th>\n",
       "      <th>family_status_sum</th>\n",
       "      <th>family_status_count</th>\n",
       "      <th>family_status_result</th>\n",
       "    </tr>\n",
       "    <tr>\n",
       "      <th>family_status</th>\n",
       "      <th></th>\n",
       "      <th></th>\n",
       "      <th></th>\n",
       "    </tr>\n",
       "  </thead>\n",
       "  <tbody>\n",
       "    <tr>\n",
       "      <th>Не женат / не замужем</th>\n",
       "      <td>273</td>\n",
       "      <td>2796</td>\n",
       "      <td>0.097639</td>\n",
       "    </tr>\n",
       "    <tr>\n",
       "      <th>гражданский брак</th>\n",
       "      <td>385</td>\n",
       "      <td>4134</td>\n",
       "      <td>0.093130</td>\n",
       "    </tr>\n",
       "    <tr>\n",
       "      <th>женат / замужем</th>\n",
       "      <td>927</td>\n",
       "      <td>12261</td>\n",
       "      <td>0.075606</td>\n",
       "    </tr>\n",
       "    <tr>\n",
       "      <th>в разводе</th>\n",
       "      <td>84</td>\n",
       "      <td>1189</td>\n",
       "      <td>0.070648</td>\n",
       "    </tr>\n",
       "    <tr>\n",
       "      <th>вдовец / вдова</th>\n",
       "      <td>63</td>\n",
       "      <td>951</td>\n",
       "      <td>0.066246</td>\n",
       "    </tr>\n",
       "  </tbody>\n",
       "</table>\n",
       "</div>"
      ],
      "text/plain": [
       "                       family_status_sum  family_status_count  \\\n",
       "family_status                                                   \n",
       "Не женат / не замужем                273                 2796   \n",
       "гражданский брак                     385                 4134   \n",
       "женат / замужем                      927                12261   \n",
       "в разводе                             84                 1189   \n",
       "вдовец / вдова                        63                  951   \n",
       "\n",
       "                       family_status_result  \n",
       "family_status                                \n",
       "Не женат / не замужем              0.097639  \n",
       "гражданский брак                   0.093130  \n",
       "женат / замужем                    0.075606  \n",
       "в разводе                          0.070648  \n",
       "вдовец / вдова                     0.066246  "
      ]
     },
     "execution_count": 23,
     "metadata": {},
     "output_type": "execute_result"
    }
   ],
   "source": [
    "print(data['family_status'].unique())\n",
    "family_status_for_credit = pd.DataFrame()\n",
    "family_status_for_credit['family_status_sum'] = data.groupby('family_status')['debt'].sum()\n",
    "family_status_for_credit['family_status_count'] = data.groupby('family_status')['debt'].count()\n",
    "family_status_for_credit['family_status_result'] = family_status_for_credit['family_status_sum'] / family_status_for_credit['family_status_count'] \n",
    "family_status_for_credit.sort_values('family_status_result', ascending = False)# Ваш код будет здесь. Вы можете создавать новые ячейки."
   ]
  },
  {
   "cell_type": "markdown",
   "id": "d043525d",
   "metadata": {
    "deletable": false,
    "id": "1cef7837"
   },
   "source": [
    "**Вывод: Тут мы уже наблюдаем определенную зависимость.  Люди не состоящие в браке и никогда в нем не бывавшие имеют больший процент невозвратов в срок.  разведенные и вдовцы чаще платят вовремя, чем те, кто браке.** "
   ]
  },
  {
   "cell_type": "markdown",
   "id": "7d5e51b3",
   "metadata": {
    "deletable": false,
    "editable": false,
    "id": "1e8b2fca"
   },
   "source": [
    "#### 3.3 Есть ли зависимость между уровнем дохода и возвратом кредита в срок?"
   ]
  },
  {
   "cell_type": "code",
   "execution_count": 24,
   "id": "e20bf1ae",
   "metadata": {
    "deletable": false,
    "id": "cd7e3720"
   },
   "outputs": [
    {
     "data": {
      "text/html": [
       "<div>\n",
       "<style scoped>\n",
       "    .dataframe tbody tr th:only-of-type {\n",
       "        vertical-align: middle;\n",
       "    }\n",
       "\n",
       "    .dataframe tbody tr th {\n",
       "        vertical-align: top;\n",
       "    }\n",
       "\n",
       "    .dataframe thead th {\n",
       "        text-align: right;\n",
       "    }\n",
       "</style>\n",
       "<table border=\"1\" class=\"dataframe\">\n",
       "  <thead>\n",
       "    <tr style=\"text-align: right;\">\n",
       "      <th></th>\n",
       "      <th>sum</th>\n",
       "      <th>count</th>\n",
       "      <th>conversion</th>\n",
       "    </tr>\n",
       "    <tr>\n",
       "      <th>total_income_id</th>\n",
       "      <th></th>\n",
       "      <th></th>\n",
       "      <th></th>\n",
       "    </tr>\n",
       "  </thead>\n",
       "  <tbody>\n",
       "    <tr>\n",
       "      <th>E</th>\n",
       "      <td>2</td>\n",
       "      <td>22</td>\n",
       "      <td>0.090909</td>\n",
       "    </tr>\n",
       "    <tr>\n",
       "      <th>C</th>\n",
       "      <td>1353</td>\n",
       "      <td>15921</td>\n",
       "      <td>0.084982</td>\n",
       "    </tr>\n",
       "    <tr>\n",
       "      <th>A</th>\n",
       "      <td>2</td>\n",
       "      <td>25</td>\n",
       "      <td>0.080000</td>\n",
       "    </tr>\n",
       "    <tr>\n",
       "      <th>B</th>\n",
       "      <td>354</td>\n",
       "      <td>5014</td>\n",
       "      <td>0.070602</td>\n",
       "    </tr>\n",
       "    <tr>\n",
       "      <th>D</th>\n",
       "      <td>21</td>\n",
       "      <td>349</td>\n",
       "      <td>0.060172</td>\n",
       "    </tr>\n",
       "  </tbody>\n",
       "</table>\n",
       "</div>"
      ],
      "text/plain": [
       "                  sum  count  conversion\n",
       "total_income_id                         \n",
       "E                   2     22    0.090909\n",
       "C                1353  15921    0.084982\n",
       "A                   2     25    0.080000\n",
       "B                 354   5014    0.070602\n",
       "D                  21    349    0.060172"
      ]
     },
     "execution_count": 24,
     "metadata": {},
     "output_type": "execute_result"
    }
   ],
   "source": [
    "def categorize_income(income):\n",
    "    try:\n",
    "        if 0 <= income <= 30000:\n",
    "            return 'E'\n",
    "        elif 30001 <= income <= 50000:\n",
    "            return 'D'\n",
    "        elif 50001 <= income <= 200000:\n",
    "            return 'C'\n",
    "        elif 200001 <= income <= 1000000:\n",
    "            return 'B'\n",
    "        elif income >= 1000001:\n",
    "            return 'A'\n",
    "    except:\n",
    "        pass\n",
    "data['total_income_id'] = data['total_income'].apply(categorize_income)\n",
    "data['total_income_id'].value_counts()\n",
    "total_income_for_credit = pd.DataFrame()\n",
    "total_income_for_credit['sum'] = data.groupby('total_income_id')['debt'].sum()\n",
    "total_income_for_credit['count'] = data.groupby('total_income_id')['debt'].count()\n",
    "total_income_for_credit['conversion'] = total_income_for_credit['sum'] / total_income_for_credit['count']\n",
    "total_income_for_credit.sort_values('conversion', ascending = False)\n",
    "\n",
    "\n"
   ]
  },
  {
   "cell_type": "markdown",
   "id": "bb5a793f",
   "metadata": {
    "deletable": false,
    "id": "e8593def"
   },
   "source": [
    "**Вывод:Зависимости между уровнем дохода и возвратом кредита в срок не наблюдаем.** "
   ]
  },
  {
   "cell_type": "markdown",
   "id": "4a2f3903",
   "metadata": {
    "deletable": false,
    "editable": false,
    "id": "99ecbd1f"
   },
   "source": [
    "#### 3.4 Как разные цели кредита влияют на его возврат в срок?"
   ]
  },
  {
   "cell_type": "code",
   "execution_count": 25,
   "id": "a146d69c",
   "metadata": {
    "deletable": false,
    "id": "2b687290"
   },
   "outputs": [
    {
     "data": {
      "text/html": [
       "<div>\n",
       "<style scoped>\n",
       "    .dataframe tbody tr th:only-of-type {\n",
       "        vertical-align: middle;\n",
       "    }\n",
       "\n",
       "    .dataframe tbody tr th {\n",
       "        vertical-align: top;\n",
       "    }\n",
       "\n",
       "    .dataframe thead th {\n",
       "        text-align: right;\n",
       "    }\n",
       "</style>\n",
       "<table border=\"1\" class=\"dataframe\">\n",
       "  <thead>\n",
       "    <tr style=\"text-align: right;\">\n",
       "      <th></th>\n",
       "      <th>sum_purpose_category</th>\n",
       "      <th>count_purpose_category</th>\n",
       "      <th>result_purpose_category</th>\n",
       "    </tr>\n",
       "    <tr>\n",
       "      <th>purpose_category</th>\n",
       "      <th></th>\n",
       "      <th></th>\n",
       "      <th></th>\n",
       "    </tr>\n",
       "  </thead>\n",
       "  <tbody>\n",
       "    <tr>\n",
       "      <th>операции с автомобилем</th>\n",
       "      <td>400</td>\n",
       "      <td>4279</td>\n",
       "      <td>0.093480</td>\n",
       "    </tr>\n",
       "    <tr>\n",
       "      <th>получение образования</th>\n",
       "      <td>369</td>\n",
       "      <td>3988</td>\n",
       "      <td>0.092528</td>\n",
       "    </tr>\n",
       "    <tr>\n",
       "      <th>проведение свадьбы</th>\n",
       "      <td>183</td>\n",
       "      <td>2313</td>\n",
       "      <td>0.079118</td>\n",
       "    </tr>\n",
       "    <tr>\n",
       "      <th>операции с недвижимостью</th>\n",
       "      <td>780</td>\n",
       "      <td>10751</td>\n",
       "      <td>0.072551</td>\n",
       "    </tr>\n",
       "  </tbody>\n",
       "</table>\n",
       "</div>"
      ],
      "text/plain": [
       "                          sum_purpose_category  count_purpose_category  \\\n",
       "purpose_category                                                         \n",
       "операции с автомобилем                     400                    4279   \n",
       "получение образования                      369                    3988   \n",
       "проведение свадьбы                         183                    2313   \n",
       "операции с недвижимостью                   780                   10751   \n",
       "\n",
       "                          result_purpose_category  \n",
       "purpose_category                                   \n",
       "операции с автомобилем                   0.093480  \n",
       "получение образования                    0.092528  \n",
       "проведение свадьбы                       0.079118  \n",
       "операции с недвижимостью                 0.072551  "
      ]
     },
     "execution_count": 25,
     "metadata": {},
     "output_type": "execute_result"
    }
   ],
   "source": [
    "purpose_category_for_credit = pd.DataFrame()\n",
    "purpose_category_for_credit['sum_purpose_category'] = data.groupby('purpose_category')['debt'].sum()\n",
    "purpose_category_for_credit['count_purpose_category'] = data.groupby('purpose_category')['debt'].count()\n",
    "purpose_category_for_credit['result_purpose_category'] = purpose_category_for_credit['sum_purpose_category'] / purpose_category_for_credit['count_purpose_category'] \n",
    "purpose_category_for_credit.sort_values('result_purpose_category', ascending = False)# Ваш код будет здесь. Вы можете создавать новые ячейки."
   ]
  },
  {
   "cell_type": "markdown",
   "id": "2314d258",
   "metadata": {
    "deletable": false,
    "id": "b4bb2ce6"
   },
   "source": [
    "**Вывод:Взявшие кредит на операции с недвижимостью и на проведения свадьбы имеют примерно одинаковые просрочки кредитов. Также в этих двух группировках чаще платят в срок, нежели взявшие кредит на операции с автомобилем и на получение образования,с у которых тоже, примерно, одинаковые значения.. ** "
   ]
  },
  {
   "cell_type": "markdown",
   "id": "bf9e6fd6",
   "metadata": {
    "deletable": false,
    "editable": false,
    "id": "09c3ac4c"
   },
   "source": [
    "#### 3.5 Приведите возможные причины появления пропусков в исходных данных."
   ]
  },
  {
   "cell_type": "markdown",
   "id": "0510862b",
   "metadata": {
    "deletable": false,
    "id": "9da2ceda"
   },
   "source": [
    "*Ответ:Человечиский фактор, либо технический сбой при выгрузки таблицы.* "
   ]
  },
  {
   "cell_type": "markdown",
   "id": "4a7425f5",
   "metadata": {
    "deletable": false,
    "editable": false,
    "id": "7b0487d6"
   },
   "source": [
    "#### 3.6 Объясните, почему заполнить пропуски медианным значением — лучшее решение для количественных переменных."
   ]
  },
  {
   "cell_type": "markdown",
   "id": "729a09c3",
   "metadata": {
    "deletable": false,
    "id": "7ecf2b8e"
   },
   "source": [
    "*Ответ:Среднее значение может быть не совсем верным, учитывая выбросы(сильно завышенные или сильно заниженные значения)* "
   ]
  },
  {
   "cell_type": "markdown",
   "id": "5bebaa4e",
   "metadata": {
    "deletable": false,
    "editable": false,
    "id": "6db5255a"
   },
   "source": [
    "### Шаг 4: общий вывод."
   ]
  },
  {
   "cell_type": "markdown",
   "id": "f6255a01",
   "metadata": {
    "deletable": false,
    "id": "bad65432"
   },
   "source": [
    "Семейное положение влияет на вероятность своевременных платежей по кредиту - люди, те кто был в браке чаще плятят вовремя нежели те, кто не бывали в браке, также в разводе и вдовцы платят в срок чаще, чем люди женатые. Чем больше детей, тем чаще платят не вовремя, без детей реже возникают просрочки."
   ]
  }
 ],
 "metadata": {
  "ExecuteTimeLog": [
   {
    "duration": 9,
    "start_time": "2022-09-05T17:35:31.211Z"
   },
   {
    "duration": 43,
    "start_time": "2022-09-05T17:35:49.124Z"
   },
   {
    "duration": 691,
    "start_time": "2022-09-05T17:35:54.479Z"
   },
   {
    "duration": 23,
    "start_time": "2022-09-05T17:35:55.172Z"
   },
   {
    "duration": 15,
    "start_time": "2022-09-05T17:35:55.197Z"
   },
   {
    "duration": 10,
    "start_time": "2022-09-05T17:35:55.214Z"
   },
   {
    "duration": 63,
    "start_time": "2022-09-05T17:35:55.226Z"
   },
   {
    "duration": 4,
    "start_time": "2022-09-05T17:35:55.290Z"
   },
   {
    "duration": 11,
    "start_time": "2022-09-05T17:35:55.296Z"
   },
   {
    "duration": 4,
    "start_time": "2022-09-05T17:35:55.309Z"
   },
   {
    "duration": 12,
    "start_time": "2022-09-05T17:35:55.314Z"
   },
   {
    "duration": 5,
    "start_time": "2022-09-05T17:35:55.328Z"
   },
   {
    "duration": 57,
    "start_time": "2022-09-05T17:35:55.334Z"
   },
   {
    "duration": 9,
    "start_time": "2022-09-05T17:35:55.393Z"
   },
   {
    "duration": 4,
    "start_time": "2022-09-05T17:35:55.404Z"
   },
   {
    "duration": 15,
    "start_time": "2022-09-05T17:35:55.410Z"
   },
   {
    "duration": 23,
    "start_time": "2022-09-05T17:35:55.427Z"
   },
   {
    "duration": 27,
    "start_time": "2022-09-05T17:35:55.468Z"
   },
   {
    "duration": 5,
    "start_time": "2022-09-05T17:35:55.498Z"
   },
   {
    "duration": 18,
    "start_time": "2022-09-05T17:35:55.505Z"
   },
   {
    "duration": 9,
    "start_time": "2022-09-05T17:35:55.525Z"
   },
   {
    "duration": 4,
    "start_time": "2022-09-05T17:35:55.536Z"
   },
   {
    "duration": 25,
    "start_time": "2022-09-05T17:35:55.542Z"
   },
   {
    "duration": 8,
    "start_time": "2022-09-05T17:35:55.569Z"
   },
   {
    "duration": 4,
    "start_time": "2022-09-05T17:35:56.151Z"
   },
   {
    "duration": 73,
    "start_time": "2022-09-05T18:57:07.840Z"
   },
   {
    "duration": 17,
    "start_time": "2022-09-05T18:57:07.915Z"
   },
   {
    "duration": 37,
    "start_time": "2022-09-05T18:57:07.934Z"
   },
   {
    "duration": 12,
    "start_time": "2022-09-05T18:57:07.974Z"
   },
   {
    "duration": 53,
    "start_time": "2022-09-05T18:57:07.988Z"
   },
   {
    "duration": 4,
    "start_time": "2022-09-05T18:57:08.043Z"
   },
   {
    "duration": 26,
    "start_time": "2022-09-05T18:57:08.049Z"
   },
   {
    "duration": 14,
    "start_time": "2022-09-05T18:57:08.077Z"
   },
   {
    "duration": 22,
    "start_time": "2022-09-05T18:57:08.093Z"
   },
   {
    "duration": 7,
    "start_time": "2022-09-05T18:57:08.118Z"
   },
   {
    "duration": 46,
    "start_time": "2022-09-05T18:57:08.126Z"
   },
   {
    "duration": 12,
    "start_time": "2022-09-05T18:57:08.173Z"
   },
   {
    "duration": 4,
    "start_time": "2022-09-05T18:57:08.187Z"
   },
   {
    "duration": 16,
    "start_time": "2022-09-05T18:57:08.193Z"
   },
   {
    "duration": 21,
    "start_time": "2022-09-05T18:57:08.210Z"
   },
   {
    "duration": 43,
    "start_time": "2022-09-05T18:57:08.233Z"
   },
   {
    "duration": 5,
    "start_time": "2022-09-05T18:57:08.278Z"
   },
   {
    "duration": 14,
    "start_time": "2022-09-05T18:57:08.284Z"
   },
   {
    "duration": 18,
    "start_time": "2022-09-05T18:57:08.299Z"
   },
   {
    "duration": 26,
    "start_time": "2022-09-05T18:57:08.319Z"
   },
   {
    "duration": 20,
    "start_time": "2022-09-05T18:57:08.347Z"
   },
   {
    "duration": 31,
    "start_time": "2022-09-05T18:57:10.916Z"
   },
   {
    "duration": 13,
    "start_time": "2022-09-05T18:57:28.266Z"
   },
   {
    "duration": 14,
    "start_time": "2022-09-05T18:57:52.982Z"
   },
   {
    "duration": 15,
    "start_time": "2022-09-05T18:58:03.782Z"
   },
   {
    "duration": 15,
    "start_time": "2022-09-05T18:59:48.159Z"
   },
   {
    "duration": 14,
    "start_time": "2022-09-05T19:16:56.684Z"
   },
   {
    "duration": 23,
    "start_time": "2022-09-05T19:19:08.916Z"
   },
   {
    "duration": 694,
    "start_time": "2022-09-06T05:59:43.731Z"
   },
   {
    "duration": 19,
    "start_time": "2022-09-06T05:59:44.428Z"
   },
   {
    "duration": 25,
    "start_time": "2022-09-06T05:59:44.449Z"
   },
   {
    "duration": 11,
    "start_time": "2022-09-06T05:59:44.476Z"
   },
   {
    "duration": 45,
    "start_time": "2022-09-06T05:59:44.489Z"
   },
   {
    "duration": 3,
    "start_time": "2022-09-06T05:59:44.536Z"
   },
   {
    "duration": 13,
    "start_time": "2022-09-06T05:59:44.540Z"
   },
   {
    "duration": 14,
    "start_time": "2022-09-06T05:59:44.555Z"
   },
   {
    "duration": 9,
    "start_time": "2022-09-06T05:59:44.571Z"
   },
   {
    "duration": 13,
    "start_time": "2022-09-06T05:59:44.582Z"
   },
   {
    "duration": 38,
    "start_time": "2022-09-06T05:59:44.596Z"
   },
   {
    "duration": 10,
    "start_time": "2022-09-06T05:59:44.635Z"
   },
   {
    "duration": 14,
    "start_time": "2022-09-06T05:59:44.647Z"
   },
   {
    "duration": 18,
    "start_time": "2022-09-06T05:59:44.664Z"
   },
   {
    "duration": 19,
    "start_time": "2022-09-06T05:59:44.683Z"
   },
   {
    "duration": 15,
    "start_time": "2022-09-06T05:59:44.703Z"
   },
   {
    "duration": 3,
    "start_time": "2022-09-06T05:59:44.719Z"
   },
   {
    "duration": 21,
    "start_time": "2022-09-06T05:59:44.723Z"
   },
   {
    "duration": 5,
    "start_time": "2022-09-06T05:59:44.746Z"
   },
   {
    "duration": 3,
    "start_time": "2022-09-06T05:59:44.753Z"
   },
   {
    "duration": 16,
    "start_time": "2022-09-06T05:59:44.758Z"
   },
   {
    "duration": 14,
    "start_time": "2022-09-06T05:59:44.775Z"
   },
   {
    "duration": 16,
    "start_time": "2022-09-06T05:59:44.790Z"
   },
   {
    "duration": 21,
    "start_time": "2022-09-06T05:59:49.096Z"
   },
   {
    "duration": 16,
    "start_time": "2022-09-06T06:02:55.224Z"
   },
   {
    "duration": 510,
    "start_time": "2022-09-06T08:08:03.755Z"
   },
   {
    "duration": 24,
    "start_time": "2022-09-06T08:08:04.267Z"
   },
   {
    "duration": 15,
    "start_time": "2022-09-06T08:08:04.292Z"
   },
   {
    "duration": 8,
    "start_time": "2022-09-06T08:08:04.309Z"
   },
   {
    "duration": 61,
    "start_time": "2022-09-06T08:08:04.319Z"
   },
   {
    "duration": 3,
    "start_time": "2022-09-06T08:08:04.382Z"
   },
   {
    "duration": 25,
    "start_time": "2022-09-06T08:08:04.387Z"
   },
   {
    "duration": 8,
    "start_time": "2022-09-06T08:08:04.413Z"
   },
   {
    "duration": 20,
    "start_time": "2022-09-06T08:08:04.422Z"
   },
   {
    "duration": 10,
    "start_time": "2022-09-06T08:08:04.444Z"
   },
   {
    "duration": 42,
    "start_time": "2022-09-06T08:08:04.456Z"
   },
   {
    "duration": 8,
    "start_time": "2022-09-06T08:08:04.500Z"
   },
   {
    "duration": 4,
    "start_time": "2022-09-06T08:08:04.510Z"
   },
   {
    "duration": 13,
    "start_time": "2022-09-06T08:08:04.517Z"
   },
   {
    "duration": 42,
    "start_time": "2022-09-06T08:08:04.532Z"
   },
   {
    "duration": 20,
    "start_time": "2022-09-06T08:08:04.576Z"
   },
   {
    "duration": 10,
    "start_time": "2022-09-06T08:08:04.598Z"
   },
   {
    "duration": 15,
    "start_time": "2022-09-06T08:08:04.610Z"
   },
   {
    "duration": 9,
    "start_time": "2022-09-06T08:08:04.626Z"
   },
   {
    "duration": 4,
    "start_time": "2022-09-06T08:08:04.636Z"
   },
   {
    "duration": 13,
    "start_time": "2022-09-06T08:08:04.641Z"
   },
   {
    "duration": 16,
    "start_time": "2022-09-06T08:08:04.668Z"
   },
   {
    "duration": 18,
    "start_time": "2022-09-06T08:08:04.686Z"
   },
   {
    "duration": 23,
    "start_time": "2022-09-06T08:08:04.706Z"
   },
   {
    "duration": 51,
    "start_time": "2022-09-06T08:08:04.730Z"
   },
   {
    "duration": 432,
    "start_time": "2022-09-06T08:08:17.101Z"
   },
   {
    "duration": 24,
    "start_time": "2022-09-06T08:08:17.535Z"
   },
   {
    "duration": 14,
    "start_time": "2022-09-06T08:08:17.562Z"
   },
   {
    "duration": 9,
    "start_time": "2022-09-06T08:08:17.578Z"
   },
   {
    "duration": 35,
    "start_time": "2022-09-06T08:08:17.588Z"
   },
   {
    "duration": 4,
    "start_time": "2022-09-06T08:08:17.624Z"
   },
   {
    "duration": 11,
    "start_time": "2022-09-06T08:08:17.629Z"
   },
   {
    "duration": 28,
    "start_time": "2022-09-06T08:08:17.642Z"
   },
   {
    "duration": 10,
    "start_time": "2022-09-06T08:08:17.672Z"
   },
   {
    "duration": 4,
    "start_time": "2022-09-06T08:08:17.684Z"
   },
   {
    "duration": 37,
    "start_time": "2022-09-06T08:08:17.690Z"
   },
   {
    "duration": 9,
    "start_time": "2022-09-06T08:08:17.729Z"
   },
   {
    "duration": 4,
    "start_time": "2022-09-06T08:08:17.740Z"
   },
   {
    "duration": 11,
    "start_time": "2022-09-06T08:08:17.768Z"
   },
   {
    "duration": 27,
    "start_time": "2022-09-06T08:08:17.780Z"
   },
   {
    "duration": 16,
    "start_time": "2022-09-06T08:08:17.808Z"
   },
   {
    "duration": 3,
    "start_time": "2022-09-06T08:08:17.826Z"
   },
   {
    "duration": 15,
    "start_time": "2022-09-06T08:08:17.830Z"
   },
   {
    "duration": 25,
    "start_time": "2022-09-06T08:08:17.847Z"
   },
   {
    "duration": 7,
    "start_time": "2022-09-06T08:08:17.873Z"
   },
   {
    "duration": 11,
    "start_time": "2022-09-06T08:08:17.882Z"
   },
   {
    "duration": 15,
    "start_time": "2022-09-06T08:08:17.894Z"
   },
   {
    "duration": 18,
    "start_time": "2022-09-06T08:08:17.910Z"
   },
   {
    "duration": 45,
    "start_time": "2022-09-06T08:08:17.930Z"
   },
   {
    "duration": 15,
    "start_time": "2022-09-06T08:08:17.977Z"
   },
   {
    "duration": 527,
    "start_time": "2022-09-07T10:43:02.895Z"
   },
   {
    "duration": 35,
    "start_time": "2022-09-07T10:43:03.424Z"
   },
   {
    "duration": 18,
    "start_time": "2022-09-07T10:43:03.461Z"
   },
   {
    "duration": 15,
    "start_time": "2022-09-07T10:43:03.482Z"
   },
   {
    "duration": 35,
    "start_time": "2022-09-07T10:43:03.500Z"
   },
   {
    "duration": 3,
    "start_time": "2022-09-07T10:43:03.537Z"
   },
   {
    "duration": 31,
    "start_time": "2022-09-07T10:43:03.542Z"
   },
   {
    "duration": 5,
    "start_time": "2022-09-07T10:43:03.575Z"
   },
   {
    "duration": 9,
    "start_time": "2022-09-07T10:43:03.582Z"
   },
   {
    "duration": 25,
    "start_time": "2022-09-07T10:43:03.593Z"
   },
   {
    "duration": 36,
    "start_time": "2022-09-07T10:43:03.620Z"
   },
   {
    "duration": 14,
    "start_time": "2022-09-07T10:43:03.658Z"
   },
   {
    "duration": 10,
    "start_time": "2022-09-07T10:43:03.674Z"
   },
   {
    "duration": 18,
    "start_time": "2022-09-07T10:43:03.685Z"
   },
   {
    "duration": 34,
    "start_time": "2022-09-07T10:43:03.705Z"
   },
   {
    "duration": 39,
    "start_time": "2022-09-07T10:43:03.741Z"
   },
   {
    "duration": 4,
    "start_time": "2022-09-07T10:43:03.781Z"
   },
   {
    "duration": 17,
    "start_time": "2022-09-07T10:43:03.786Z"
   },
   {
    "duration": 9,
    "start_time": "2022-09-07T10:43:03.805Z"
   },
   {
    "duration": 4,
    "start_time": "2022-09-07T10:43:03.816Z"
   },
   {
    "duration": 16,
    "start_time": "2022-09-07T10:43:03.821Z"
   },
   {
    "duration": 30,
    "start_time": "2022-09-07T10:43:03.839Z"
   },
   {
    "duration": 20,
    "start_time": "2022-09-07T10:43:03.870Z"
   },
   {
    "duration": 508,
    "start_time": "2022-09-07T10:44:06.083Z"
   },
   {
    "duration": 31,
    "start_time": "2022-09-07T10:44:06.594Z"
   },
   {
    "duration": 20,
    "start_time": "2022-09-07T10:44:06.627Z"
   },
   {
    "duration": 13,
    "start_time": "2022-09-07T10:44:06.667Z"
   },
   {
    "duration": 51,
    "start_time": "2022-09-07T10:44:06.683Z"
   },
   {
    "duration": 3,
    "start_time": "2022-09-07T10:44:06.736Z"
   },
   {
    "duration": 13,
    "start_time": "2022-09-07T10:44:06.741Z"
   },
   {
    "duration": 5,
    "start_time": "2022-09-07T10:44:06.768Z"
   },
   {
    "duration": 17,
    "start_time": "2022-09-07T10:44:06.775Z"
   },
   {
    "duration": 8,
    "start_time": "2022-09-07T10:44:06.794Z"
   },
   {
    "duration": 33,
    "start_time": "2022-09-07T10:44:06.804Z"
   },
   {
    "duration": 9,
    "start_time": "2022-09-07T10:44:06.839Z"
   },
   {
    "duration": 20,
    "start_time": "2022-09-07T10:44:06.850Z"
   },
   {
    "duration": 17,
    "start_time": "2022-09-07T10:44:06.873Z"
   },
   {
    "duration": 23,
    "start_time": "2022-09-07T10:44:06.892Z"
   },
   {
    "duration": 17,
    "start_time": "2022-09-07T10:44:06.916Z"
   },
   {
    "duration": 3,
    "start_time": "2022-09-07T10:44:06.935Z"
   },
   {
    "duration": 32,
    "start_time": "2022-09-07T10:44:06.940Z"
   },
   {
    "duration": 9,
    "start_time": "2022-09-07T10:44:06.974Z"
   },
   {
    "duration": 4,
    "start_time": "2022-09-07T10:44:06.985Z"
   },
   {
    "duration": 10,
    "start_time": "2022-09-07T10:44:06.990Z"
   },
   {
    "duration": 15,
    "start_time": "2022-09-07T10:44:07.002Z"
   },
   {
    "duration": 18,
    "start_time": "2022-09-07T10:44:07.018Z"
   },
   {
    "duration": 53,
    "start_time": "2022-09-07T10:44:07.037Z"
   },
   {
    "duration": 17,
    "start_time": "2022-09-07T10:44:07.092Z"
   },
   {
    "duration": 428,
    "start_time": "2022-09-07T21:50:54.648Z"
   },
   {
    "duration": 22,
    "start_time": "2022-09-07T21:50:55.078Z"
   },
   {
    "duration": 18,
    "start_time": "2022-09-07T21:50:55.102Z"
   },
   {
    "duration": 11,
    "start_time": "2022-09-07T21:50:55.122Z"
   },
   {
    "duration": 58,
    "start_time": "2022-09-07T21:50:55.136Z"
   },
   {
    "duration": 5,
    "start_time": "2022-09-07T21:50:55.195Z"
   },
   {
    "duration": 16,
    "start_time": "2022-09-07T21:50:55.201Z"
   },
   {
    "duration": 10,
    "start_time": "2022-09-07T21:50:55.219Z"
   },
   {
    "duration": 17,
    "start_time": "2022-09-07T21:50:55.231Z"
   },
   {
    "duration": 7,
    "start_time": "2022-09-07T21:50:55.250Z"
   },
   {
    "duration": 61,
    "start_time": "2022-09-07T21:50:55.259Z"
   },
   {
    "duration": 13,
    "start_time": "2022-09-07T21:50:55.321Z"
   },
   {
    "duration": 11,
    "start_time": "2022-09-07T21:50:55.336Z"
   },
   {
    "duration": 13,
    "start_time": "2022-09-07T21:50:55.350Z"
   },
   {
    "duration": 40,
    "start_time": "2022-09-07T21:50:55.364Z"
   },
   {
    "duration": 18,
    "start_time": "2022-09-07T21:50:55.406Z"
   },
   {
    "duration": 5,
    "start_time": "2022-09-07T21:50:55.426Z"
   },
   {
    "duration": 18,
    "start_time": "2022-09-07T21:50:55.433Z"
   },
   {
    "duration": 14,
    "start_time": "2022-09-07T21:50:55.453Z"
   },
   {
    "duration": 5,
    "start_time": "2022-09-07T21:50:55.469Z"
   },
   {
    "duration": 24,
    "start_time": "2022-09-07T21:50:55.475Z"
   },
   {
    "duration": 27,
    "start_time": "2022-09-07T21:50:55.501Z"
   },
   {
    "duration": 21,
    "start_time": "2022-09-07T21:50:55.530Z"
   },
   {
    "duration": 66,
    "start_time": "2022-09-07T21:50:55.553Z"
   },
   {
    "duration": 24,
    "start_time": "2022-09-07T21:50:55.622Z"
   }
  ],
  "colab": {
   "name": "dpp_template_part2.ipynb",
   "provenance": []
  },
  "kernelspec": {
   "display_name": "Python 3 (ipykernel)",
   "language": "python",
   "name": "python3"
  },
  "language_info": {
   "codemirror_mode": {
    "name": "ipython",
    "version": 3
   },
   "file_extension": ".py",
   "mimetype": "text/x-python",
   "name": "python",
   "nbconvert_exporter": "python",
   "pygments_lexer": "ipython3",
   "version": "3.9.12"
  },
  "toc": {
   "base_numbering": 1,
   "nav_menu": {},
   "number_sections": true,
   "sideBar": true,
   "skip_h1_title": true,
   "title_cell": "Table of Contents",
   "title_sidebar": "Contents",
   "toc_cell": false,
   "toc_position": {},
   "toc_section_display": true,
   "toc_window_display": false
  }
 },
 "nbformat": 4,
 "nbformat_minor": 5
}
