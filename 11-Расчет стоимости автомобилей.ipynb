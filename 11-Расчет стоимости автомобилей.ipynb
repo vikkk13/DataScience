{
 "cells": [
  {
   "cell_type": "markdown",
   "metadata": {},
   "source": [
    "# Определение стоимости автомобилей"
   ]
  },
  {
   "cell_type": "markdown",
   "metadata": {},
   "source": [
    "Сервис по продаже автомобилей с пробегом «Не бит, не крашен» разрабатывает приложение для привлечения новых клиентов. В нём можно быстро узнать рыночную стоимость своего автомобиля. В вашем распоряжении исторические данные: технические характеристики, комплектации и цены автомобилей. Вам нужно построить модель для определения стоимости. \n",
    "\n",
    "Заказчику важны:\n",
    "\n",
    "- качество предсказания;\n",
    "- скорость предсказания;\n",
    "- время обучения."
   ]
  },
  {
   "cell_type": "markdown",
   "metadata": {},
   "source": [
    "## Подготовка данных"
   ]
  },
  {
   "cell_type": "code",
   "execution_count": 54,
   "metadata": {},
   "outputs": [],
   "source": [
    "import pandas as pd \n",
    "import numpy as np \n",
    "import matplotlib.pyplot as plt\n",
    "import seaborn as sns\n",
    "\n",
    "import time \n",
    "\n",
    "from sklearn.metrics import mean_squared_error as mse \n",
    "from sklearn.metrics import mean_absolute_error as mae\n",
    "from sklearn.model_selection import train_test_split, GridSearchCV\n",
    "from sklearn.preprocessing import LabelEncoder, StandardScaler, OneHotEncoder\n",
    "\n",
    "\n",
    "from sklearn.tree import DecisionTreeRegressor\n",
    "from catboost import CatBoostRegressor \n",
    "from lightgbm import LGBMRegressor\n",
    "from xgboost import XGBRegressor\n",
    "\n",
    "import warnings\n",
    "warnings.filterwarnings('ignore')\n",
    "\n",
    "RND = 12345"
   ]
  },
  {
   "cell_type": "markdown",
   "metadata": {},
   "source": [
    "Загрузим все необходимые библиотеки и инструменты"
   ]
  },
  {
   "cell_type": "code",
   "execution_count": 2,
   "metadata": {},
   "outputs": [],
   "source": [
    "df = pd.read_csv('https://code.s3.yandex.net/datasets/autos.csv')"
   ]
  },
  {
   "cell_type": "markdown",
   "metadata": {},
   "source": [
    "Загрузим датасет"
   ]
  },
  {
   "cell_type": "code",
   "execution_count": 3,
   "metadata": {},
   "outputs": [
    {
     "name": "stdout",
     "output_type": "stream",
     "text": [
      "<class 'pandas.core.frame.DataFrame'>\n",
      "RangeIndex: 354369 entries, 0 to 354368\n",
      "Data columns (total 16 columns):\n",
      " #   Column             Non-Null Count   Dtype \n",
      "---  ------             --------------   ----- \n",
      " 0   DateCrawled        354369 non-null  object\n",
      " 1   Price              354369 non-null  int64 \n",
      " 2   VehicleType        316879 non-null  object\n",
      " 3   RegistrationYear   354369 non-null  int64 \n",
      " 4   Gearbox            334536 non-null  object\n",
      " 5   Power              354369 non-null  int64 \n",
      " 6   Model              334664 non-null  object\n",
      " 7   Kilometer          354369 non-null  int64 \n",
      " 8   RegistrationMonth  354369 non-null  int64 \n",
      " 9   FuelType           321474 non-null  object\n",
      " 10  Brand              354369 non-null  object\n",
      " 11  Repaired           283215 non-null  object\n",
      " 12  DateCreated        354369 non-null  object\n",
      " 13  NumberOfPictures   354369 non-null  int64 \n",
      " 14  PostalCode         354369 non-null  int64 \n",
      " 15  LastSeen           354369 non-null  object\n",
      "dtypes: int64(7), object(9)\n",
      "memory usage: 43.3+ MB\n",
      "None\n"
     ]
    }
   ],
   "source": [
    "print(df.info())"
   ]
  },
  {
   "cell_type": "code",
   "execution_count": 4,
   "metadata": {},
   "outputs": [
    {
     "data": {
      "text/html": [
       "<div>\n",
       "<style scoped>\n",
       "    .dataframe tbody tr th:only-of-type {\n",
       "        vertical-align: middle;\n",
       "    }\n",
       "\n",
       "    .dataframe tbody tr th {\n",
       "        vertical-align: top;\n",
       "    }\n",
       "\n",
       "    .dataframe thead th {\n",
       "        text-align: right;\n",
       "    }\n",
       "</style>\n",
       "<table border=\"1\" class=\"dataframe\">\n",
       "  <thead>\n",
       "    <tr style=\"text-align: right;\">\n",
       "      <th></th>\n",
       "      <th>DateCrawled</th>\n",
       "      <th>Price</th>\n",
       "      <th>VehicleType</th>\n",
       "      <th>RegistrationYear</th>\n",
       "      <th>Gearbox</th>\n",
       "      <th>Power</th>\n",
       "      <th>Model</th>\n",
       "      <th>Kilometer</th>\n",
       "      <th>RegistrationMonth</th>\n",
       "      <th>FuelType</th>\n",
       "      <th>Brand</th>\n",
       "      <th>Repaired</th>\n",
       "      <th>DateCreated</th>\n",
       "      <th>NumberOfPictures</th>\n",
       "      <th>PostalCode</th>\n",
       "      <th>LastSeen</th>\n",
       "    </tr>\n",
       "  </thead>\n",
       "  <tbody>\n",
       "    <tr>\n",
       "      <th>0</th>\n",
       "      <td>2016-03-24 11:52:17</td>\n",
       "      <td>480</td>\n",
       "      <td>NaN</td>\n",
       "      <td>1993</td>\n",
       "      <td>manual</td>\n",
       "      <td>0</td>\n",
       "      <td>golf</td>\n",
       "      <td>150000</td>\n",
       "      <td>0</td>\n",
       "      <td>petrol</td>\n",
       "      <td>volkswagen</td>\n",
       "      <td>NaN</td>\n",
       "      <td>2016-03-24 00:00:00</td>\n",
       "      <td>0</td>\n",
       "      <td>70435</td>\n",
       "      <td>2016-04-07 03:16:57</td>\n",
       "    </tr>\n",
       "    <tr>\n",
       "      <th>1</th>\n",
       "      <td>2016-03-24 10:58:45</td>\n",
       "      <td>18300</td>\n",
       "      <td>coupe</td>\n",
       "      <td>2011</td>\n",
       "      <td>manual</td>\n",
       "      <td>190</td>\n",
       "      <td>NaN</td>\n",
       "      <td>125000</td>\n",
       "      <td>5</td>\n",
       "      <td>gasoline</td>\n",
       "      <td>audi</td>\n",
       "      <td>yes</td>\n",
       "      <td>2016-03-24 00:00:00</td>\n",
       "      <td>0</td>\n",
       "      <td>66954</td>\n",
       "      <td>2016-04-07 01:46:50</td>\n",
       "    </tr>\n",
       "    <tr>\n",
       "      <th>2</th>\n",
       "      <td>2016-03-14 12:52:21</td>\n",
       "      <td>9800</td>\n",
       "      <td>suv</td>\n",
       "      <td>2004</td>\n",
       "      <td>auto</td>\n",
       "      <td>163</td>\n",
       "      <td>grand</td>\n",
       "      <td>125000</td>\n",
       "      <td>8</td>\n",
       "      <td>gasoline</td>\n",
       "      <td>jeep</td>\n",
       "      <td>NaN</td>\n",
       "      <td>2016-03-14 00:00:00</td>\n",
       "      <td>0</td>\n",
       "      <td>90480</td>\n",
       "      <td>2016-04-05 12:47:46</td>\n",
       "    </tr>\n",
       "    <tr>\n",
       "      <th>3</th>\n",
       "      <td>2016-03-17 16:54:04</td>\n",
       "      <td>1500</td>\n",
       "      <td>small</td>\n",
       "      <td>2001</td>\n",
       "      <td>manual</td>\n",
       "      <td>75</td>\n",
       "      <td>golf</td>\n",
       "      <td>150000</td>\n",
       "      <td>6</td>\n",
       "      <td>petrol</td>\n",
       "      <td>volkswagen</td>\n",
       "      <td>no</td>\n",
       "      <td>2016-03-17 00:00:00</td>\n",
       "      <td>0</td>\n",
       "      <td>91074</td>\n",
       "      <td>2016-03-17 17:40:17</td>\n",
       "    </tr>\n",
       "    <tr>\n",
       "      <th>4</th>\n",
       "      <td>2016-03-31 17:25:20</td>\n",
       "      <td>3600</td>\n",
       "      <td>small</td>\n",
       "      <td>2008</td>\n",
       "      <td>manual</td>\n",
       "      <td>69</td>\n",
       "      <td>fabia</td>\n",
       "      <td>90000</td>\n",
       "      <td>7</td>\n",
       "      <td>gasoline</td>\n",
       "      <td>skoda</td>\n",
       "      <td>no</td>\n",
       "      <td>2016-03-31 00:00:00</td>\n",
       "      <td>0</td>\n",
       "      <td>60437</td>\n",
       "      <td>2016-04-06 10:17:21</td>\n",
       "    </tr>\n",
       "  </tbody>\n",
       "</table>\n",
       "</div>"
      ],
      "text/plain": [
       "           DateCrawled  Price VehicleType  RegistrationYear Gearbox  Power  \\\n",
       "0  2016-03-24 11:52:17    480         NaN              1993  manual      0   \n",
       "1  2016-03-24 10:58:45  18300       coupe              2011  manual    190   \n",
       "2  2016-03-14 12:52:21   9800         suv              2004    auto    163   \n",
       "3  2016-03-17 16:54:04   1500       small              2001  manual     75   \n",
       "4  2016-03-31 17:25:20   3600       small              2008  manual     69   \n",
       "\n",
       "   Model  Kilometer  RegistrationMonth  FuelType       Brand Repaired  \\\n",
       "0   golf     150000                  0    petrol  volkswagen      NaN   \n",
       "1    NaN     125000                  5  gasoline        audi      yes   \n",
       "2  grand     125000                  8  gasoline        jeep      NaN   \n",
       "3   golf     150000                  6    petrol  volkswagen       no   \n",
       "4  fabia      90000                  7  gasoline       skoda       no   \n",
       "\n",
       "           DateCreated  NumberOfPictures  PostalCode             LastSeen  \n",
       "0  2016-03-24 00:00:00                 0       70435  2016-04-07 03:16:57  \n",
       "1  2016-03-24 00:00:00                 0       66954  2016-04-07 01:46:50  \n",
       "2  2016-03-14 00:00:00                 0       90480  2016-04-05 12:47:46  \n",
       "3  2016-03-17 00:00:00                 0       91074  2016-03-17 17:40:17  \n",
       "4  2016-03-31 00:00:00                 0       60437  2016-04-06 10:17:21  "
      ]
     },
     "metadata": {},
     "output_type": "display_data"
    }
   ],
   "source": [
    "display(df.head())"
   ]
  },
  {
   "cell_type": "code",
   "execution_count": 5,
   "metadata": {},
   "outputs": [
    {
     "data": {
      "text/html": [
       "<div>\n",
       "<style scoped>\n",
       "    .dataframe tbody tr th:only-of-type {\n",
       "        vertical-align: middle;\n",
       "    }\n",
       "\n",
       "    .dataframe tbody tr th {\n",
       "        vertical-align: top;\n",
       "    }\n",
       "\n",
       "    .dataframe thead th {\n",
       "        text-align: right;\n",
       "    }\n",
       "</style>\n",
       "<table border=\"1\" class=\"dataframe\">\n",
       "  <thead>\n",
       "    <tr style=\"text-align: right;\">\n",
       "      <th></th>\n",
       "      <th>Price</th>\n",
       "      <th>RegistrationYear</th>\n",
       "      <th>Power</th>\n",
       "      <th>Kilometer</th>\n",
       "      <th>RegistrationMonth</th>\n",
       "      <th>NumberOfPictures</th>\n",
       "      <th>PostalCode</th>\n",
       "    </tr>\n",
       "  </thead>\n",
       "  <tbody>\n",
       "    <tr>\n",
       "      <th>count</th>\n",
       "      <td>354369.000000</td>\n",
       "      <td>354369.000000</td>\n",
       "      <td>354369.000000</td>\n",
       "      <td>354369.000000</td>\n",
       "      <td>354369.000000</td>\n",
       "      <td>354369.0</td>\n",
       "      <td>354369.000000</td>\n",
       "    </tr>\n",
       "    <tr>\n",
       "      <th>mean</th>\n",
       "      <td>4416.656776</td>\n",
       "      <td>2004.234448</td>\n",
       "      <td>110.094337</td>\n",
       "      <td>128211.172535</td>\n",
       "      <td>5.714645</td>\n",
       "      <td>0.0</td>\n",
       "      <td>50508.689087</td>\n",
       "    </tr>\n",
       "    <tr>\n",
       "      <th>std</th>\n",
       "      <td>4514.158514</td>\n",
       "      <td>90.227958</td>\n",
       "      <td>189.850405</td>\n",
       "      <td>37905.341530</td>\n",
       "      <td>3.726421</td>\n",
       "      <td>0.0</td>\n",
       "      <td>25783.096248</td>\n",
       "    </tr>\n",
       "    <tr>\n",
       "      <th>min</th>\n",
       "      <td>0.000000</td>\n",
       "      <td>1000.000000</td>\n",
       "      <td>0.000000</td>\n",
       "      <td>5000.000000</td>\n",
       "      <td>0.000000</td>\n",
       "      <td>0.0</td>\n",
       "      <td>1067.000000</td>\n",
       "    </tr>\n",
       "    <tr>\n",
       "      <th>25%</th>\n",
       "      <td>1050.000000</td>\n",
       "      <td>1999.000000</td>\n",
       "      <td>69.000000</td>\n",
       "      <td>125000.000000</td>\n",
       "      <td>3.000000</td>\n",
       "      <td>0.0</td>\n",
       "      <td>30165.000000</td>\n",
       "    </tr>\n",
       "    <tr>\n",
       "      <th>50%</th>\n",
       "      <td>2700.000000</td>\n",
       "      <td>2003.000000</td>\n",
       "      <td>105.000000</td>\n",
       "      <td>150000.000000</td>\n",
       "      <td>6.000000</td>\n",
       "      <td>0.0</td>\n",
       "      <td>49413.000000</td>\n",
       "    </tr>\n",
       "    <tr>\n",
       "      <th>75%</th>\n",
       "      <td>6400.000000</td>\n",
       "      <td>2008.000000</td>\n",
       "      <td>143.000000</td>\n",
       "      <td>150000.000000</td>\n",
       "      <td>9.000000</td>\n",
       "      <td>0.0</td>\n",
       "      <td>71083.000000</td>\n",
       "    </tr>\n",
       "    <tr>\n",
       "      <th>max</th>\n",
       "      <td>20000.000000</td>\n",
       "      <td>9999.000000</td>\n",
       "      <td>20000.000000</td>\n",
       "      <td>150000.000000</td>\n",
       "      <td>12.000000</td>\n",
       "      <td>0.0</td>\n",
       "      <td>99998.000000</td>\n",
       "    </tr>\n",
       "  </tbody>\n",
       "</table>\n",
       "</div>"
      ],
      "text/plain": [
       "               Price  RegistrationYear          Power      Kilometer  \\\n",
       "count  354369.000000     354369.000000  354369.000000  354369.000000   \n",
       "mean     4416.656776       2004.234448     110.094337  128211.172535   \n",
       "std      4514.158514         90.227958     189.850405   37905.341530   \n",
       "min         0.000000       1000.000000       0.000000    5000.000000   \n",
       "25%      1050.000000       1999.000000      69.000000  125000.000000   \n",
       "50%      2700.000000       2003.000000     105.000000  150000.000000   \n",
       "75%      6400.000000       2008.000000     143.000000  150000.000000   \n",
       "max     20000.000000       9999.000000   20000.000000  150000.000000   \n",
       "\n",
       "       RegistrationMonth  NumberOfPictures     PostalCode  \n",
       "count      354369.000000          354369.0  354369.000000  \n",
       "mean            5.714645               0.0   50508.689087  \n",
       "std             3.726421               0.0   25783.096248  \n",
       "min             0.000000               0.0    1067.000000  \n",
       "25%             3.000000               0.0   30165.000000  \n",
       "50%             6.000000               0.0   49413.000000  \n",
       "75%             9.000000               0.0   71083.000000  \n",
       "max            12.000000               0.0   99998.000000  "
      ]
     },
     "metadata": {},
     "output_type": "display_data"
    }
   ],
   "source": [
    "display(df.describe())"
   ]
  },
  {
   "cell_type": "code",
   "execution_count": 6,
   "metadata": {},
   "outputs": [
    {
     "data": {
      "text/html": [
       "<div>\n",
       "<style scoped>\n",
       "    .dataframe tbody tr th:only-of-type {\n",
       "        vertical-align: middle;\n",
       "    }\n",
       "\n",
       "    .dataframe tbody tr th {\n",
       "        vertical-align: top;\n",
       "    }\n",
       "\n",
       "    .dataframe thead th {\n",
       "        text-align: right;\n",
       "    }\n",
       "</style>\n",
       "<table border=\"1\" class=\"dataframe\">\n",
       "  <thead>\n",
       "    <tr style=\"text-align: right;\">\n",
       "      <th></th>\n",
       "      <th>DateCrawled</th>\n",
       "      <th>VehicleType</th>\n",
       "      <th>Gearbox</th>\n",
       "      <th>Model</th>\n",
       "      <th>FuelType</th>\n",
       "      <th>Brand</th>\n",
       "      <th>Repaired</th>\n",
       "      <th>DateCreated</th>\n",
       "      <th>LastSeen</th>\n",
       "    </tr>\n",
       "  </thead>\n",
       "  <tbody>\n",
       "    <tr>\n",
       "      <th>count</th>\n",
       "      <td>354369</td>\n",
       "      <td>316879</td>\n",
       "      <td>334536</td>\n",
       "      <td>334664</td>\n",
       "      <td>321474</td>\n",
       "      <td>354369</td>\n",
       "      <td>283215</td>\n",
       "      <td>354369</td>\n",
       "      <td>354369</td>\n",
       "    </tr>\n",
       "    <tr>\n",
       "      <th>unique</th>\n",
       "      <td>271174</td>\n",
       "      <td>8</td>\n",
       "      <td>2</td>\n",
       "      <td>250</td>\n",
       "      <td>7</td>\n",
       "      <td>40</td>\n",
       "      <td>2</td>\n",
       "      <td>109</td>\n",
       "      <td>179150</td>\n",
       "    </tr>\n",
       "    <tr>\n",
       "      <th>top</th>\n",
       "      <td>2016-03-24 14:49:47</td>\n",
       "      <td>sedan</td>\n",
       "      <td>manual</td>\n",
       "      <td>golf</td>\n",
       "      <td>petrol</td>\n",
       "      <td>volkswagen</td>\n",
       "      <td>no</td>\n",
       "      <td>2016-04-03 00:00:00</td>\n",
       "      <td>2016-04-06 13:45:54</td>\n",
       "    </tr>\n",
       "    <tr>\n",
       "      <th>freq</th>\n",
       "      <td>7</td>\n",
       "      <td>91457</td>\n",
       "      <td>268251</td>\n",
       "      <td>29232</td>\n",
       "      <td>216352</td>\n",
       "      <td>77013</td>\n",
       "      <td>247161</td>\n",
       "      <td>13719</td>\n",
       "      <td>17</td>\n",
       "    </tr>\n",
       "  </tbody>\n",
       "</table>\n",
       "</div>"
      ],
      "text/plain": [
       "                DateCrawled VehicleType Gearbox   Model FuelType       Brand  \\\n",
       "count                354369      316879  334536  334664   321474      354369   \n",
       "unique               271174           8       2     250        7          40   \n",
       "top     2016-03-24 14:49:47       sedan  manual    golf   petrol  volkswagen   \n",
       "freq                      7       91457  268251   29232   216352       77013   \n",
       "\n",
       "       Repaired          DateCreated             LastSeen  \n",
       "count    283215               354369               354369  \n",
       "unique        2                  109               179150  \n",
       "top          no  2016-04-03 00:00:00  2016-04-06 13:45:54  \n",
       "freq     247161                13719                   17  "
      ]
     },
     "metadata": {},
     "output_type": "display_data"
    }
   ],
   "source": [
    "display(df.describe(include=['object', 'bool']))"
   ]
  },
  {
   "cell_type": "code",
   "execution_count": 7,
   "metadata": {},
   "outputs": [
    {
     "name": "stdout",
     "output_type": "stream",
     "text": [
      "Duplicates:  4\n"
     ]
    }
   ],
   "source": [
    "print('Duplicates: ', df.duplicated().sum())"
   ]
  },
  {
   "cell_type": "markdown",
   "metadata": {},
   "source": [
    "Изучим данные"
   ]
  },
  {
   "cell_type": "code",
   "execution_count": 8,
   "metadata": {},
   "outputs": [],
   "source": [
    "new_columns = df.columns.str.lower()\n",
    "df.set_axis(new_columns, axis = 'columns', inplace = True)"
   ]
  },
  {
   "cell_type": "markdown",
   "metadata": {},
   "source": [
    "Приведем названия столбцов к нижнему регистру"
   ]
  },
  {
   "cell_type": "code",
   "execution_count": 9,
   "metadata": {},
   "outputs": [],
   "source": [
    "df = df.drop(['datecrawled', 'datecreated', 'numberofpictures', 'postalcode', 'lastseen', 'registrationmonth'], axis=1)"
   ]
  },
  {
   "cell_type": "markdown",
   "metadata": {},
   "source": [
    "Удалим ненужные столбцы"
   ]
  },
  {
   "cell_type": "code",
   "execution_count": 10,
   "metadata": {},
   "outputs": [
    {
     "name": "stdout",
     "output_type": "stream",
     "text": [
      "<class 'pandas.core.frame.DataFrame'>\n",
      "RangeIndex: 354369 entries, 0 to 354368\n",
      "Data columns (total 10 columns):\n",
      " #   Column            Non-Null Count   Dtype \n",
      "---  ------            --------------   ----- \n",
      " 0   price             354369 non-null  int64 \n",
      " 1   vehicletype       316879 non-null  object\n",
      " 2   registrationyear  354369 non-null  int64 \n",
      " 3   gearbox           334536 non-null  object\n",
      " 4   power             354369 non-null  int64 \n",
      " 5   model             334664 non-null  object\n",
      " 6   kilometer         354369 non-null  int64 \n",
      " 7   fueltype          321474 non-null  object\n",
      " 8   brand             354369 non-null  object\n",
      " 9   repaired          283215 non-null  object\n",
      "dtypes: int64(4), object(6)\n",
      "memory usage: 27.0+ MB\n",
      "None\n"
     ]
    }
   ],
   "source": [
    "print(df.info())"
   ]
  },
  {
   "cell_type": "markdown",
   "metadata": {},
   "source": [
    "<h1>Вывод по данным:</h1>"
   ]
  },
  {
   "cell_type": "markdown",
   "metadata": {},
   "source": [
    "<ol>354365 строк и 16 столбцов\n",
    "<li>Присутствуют пропуски</li>\n",
    "<li>Средняя стоимость авто 2700 евро</li>\n",
    "<li>Минимальный год регистриции автомобиля 1000, максимальный - 9999. Предлагаю обозначить диапазон в годах, выделенных из процентилей</li>\n",
    "<li>Макс.значение в мощности автомобиля в лошадинных силах = 20 000. Показатель весьма фантастический. Выберем диапазон из процентилей</li>\n",
    "<li>Минимальный пробег авто 5000, максимальный - 150000, но при этом много авто имееют максимальный пробег. Возможно просто ограничение ввода данных на сайте</li>\n",
    "<li>Неправильно выставлены месяцы. Если первый месяц 0, то последний месяц не должен быть 12</li>\n",
    "<li>8 уникальных типов автомобильного кузова</li>\n",
    "<li>Чаще встречаются авто с ручной коробкой передач</li>\n",
    "<li>Чаще встречаются автомобиле на бензине</li>\n",
    "<li>Самый популярный бренд автомо Volkswagen</li>\n",
    "<li>Много пропусков в столбце о ремонте авто, но чаще встречаютс автомобили без ремонта</ol>"
   ]
  },
  {
   "cell_type": "markdown",
   "metadata": {},
   "source": [
    "<h1>Анализ данных и обработка:</h1>"
   ]
  },
  {
   "cell_type": "code",
   "execution_count": 11,
   "metadata": {},
   "outputs": [
    {
     "data": {
      "image/png": "[encoded data removed]",
      "text/plain": [
       "<Figure size 432x288 with 1 Axes>"
      ]
     },
     "metadata": {
      "needs_background": "light"
     },
     "output_type": "display_data"
    }
   ],
   "source": [
    "(df.isna().sum().sort_values(ascending=False) / df.shape[0] * 100).plot(kind='bar');"
   ]
  },
  {
   "cell_type": "markdown",
   "metadata": {},
   "source": [
    "Посмотрим на пропущенные значения:\n",
    "<ul><li>20% в столбце repaired. Скорее всего владельцы пропустили это значения потому что авто прежде не ремонтировалось. Либо просто скрыли информацию, чтобы автомобиль не казался менее привлекательным к покупке</li>\n",
    "<li>10% в столбце vehicletype</li>\n",
    "<li>9% в столбце fueltype</li>\n",
    "<li>5% в столбце gearbox</li>\n",
    "<li>5% в столбце model</li></ul>\n",
    "Остальные столбцы имеют пропуски возможно по причине проблем с выгрузкой данных, так как на эти вопросы может ответить только владельцы автомобилей. Заполним пропуски модами с помощью группировки по другим признакам объектов."
   ]
  },
  {
   "cell_type": "code",
   "execution_count": 12,
   "metadata": {},
   "outputs": [],
   "source": [
    "df['repaired'] = df['repaired'].fillna('no')"
   ]
  },
  {
   "cell_type": "markdown",
   "metadata": {},
   "source": [
    "Заменим пропуски в столбце reparied"
   ]
  },
  {
   "cell_type": "code",
   "execution_count": 13,
   "metadata": {},
   "outputs": [],
   "source": [
    "def fill_with_mode(column, column1, column2):\n",
    "    df[column] = df.groupby([column1, column2])[column].transform(lambda x: x.fillna((x.mode()[0] if not x.mode().empty else \"Empty\")))"
   ]
  },
  {
   "cell_type": "code",
   "execution_count": 14,
   "metadata": {},
   "outputs": [],
   "source": [
    "fill_with_mode('model', 'brand', 'registrationyear')\n",
    "fill_with_mode('fueltype', 'brand', 'model')\n",
    "fill_with_mode('vehicletype', 'brand', 'model')\n",
    "fill_with_mode('gearbox', 'brand', 'model')"
   ]
  },
  {
   "cell_type": "code",
   "execution_count": 15,
   "metadata": {},
   "outputs": [],
   "source": [
    "filled_columns = ['model', 'gearbox', 'brand', 'vehicletype', 'fueltype']\n",
    "def count_empty_category(column):\n",
    "    print(column, ' : ' ,df[column][df[column] == 'Empty'].count())"
   ]
  },
  {
   "cell_type": "code",
   "execution_count": 16,
   "metadata": {},
   "outputs": [
    {
     "name": "stdout",
     "output_type": "stream",
     "text": [
      "model  :  3442\n",
      "gearbox  :  21\n",
      "brand  :  0\n",
      "vehicletype  :  25\n",
      "fueltype  :  14\n"
     ]
    }
   ],
   "source": [
    "for column in filled_columns:\n",
    "    count_empty_category(column)"
   ]
  },
  {
   "cell_type": "markdown",
   "metadata": {},
   "source": [
    "3442 объекта продажи с неизвестными моделями авто. Предлагаю их переименовать в Other. Остальные показатели малы."
   ]
  },
  {
   "cell_type": "code",
   "execution_count": 17,
   "metadata": {},
   "outputs": [],
   "source": [
    "df['model'] = df['model'].replace('Empty', 'other')"
   ]
  },
  {
   "cell_type": "code",
   "execution_count": 18,
   "metadata": {},
   "outputs": [],
   "source": [
    "def make_plotbar(index, title):\n",
    "    pivot = pd.DataFrame(df.pivot_table(index=index, aggfunc=\"size\").sort_values(ascending=False)).head(10)\n",
    "    pivot.columns = ['count']\n",
    "    plt.figure(figsize=(12,6))\n",
    "    plt.title(title)\n",
    "    sns.barplot(x='count', y=pivot.index, data=pivot)"
   ]
  },
  {
   "cell_type": "code",
   "execution_count": 19,
   "metadata": {},
   "outputs": [
    {
     "data": {
      "image/png": "[encoded data removed]",
      "text/plain": [
       "<Figure size 864x432 with 1 Axes>"
      ]
     },
     "metadata": {
      "needs_background": "light"
     },
     "output_type": "display_data"
    }
   ],
   "source": [
    "make_plotbar('model', '10 популярных моделей авто')"
   ]
  },
  {
   "cell_type": "code",
   "execution_count": 20,
   "metadata": {},
   "outputs": [
    {
     "data": {
      "image/png": "[encoded data removed]",
      "text/plain": [
       "<Figure size 864x432 with 1 Axes>"
      ]
     },
     "metadata": {
      "needs_background": "light"
     },
     "output_type": "display_data"
    }
   ],
   "source": [
    "make_plotbar('vehicletype', 'Типы автомобильного кузова')"
   ]
  },
  {
   "cell_type": "code",
   "execution_count": 21,
   "metadata": {},
   "outputs": [
    {
     "data": {
      "image/png": "[encoded data removed]",
      "text/plain": [
       "<Figure size 864x432 with 1 Axes>"
      ]
     },
     "metadata": {
      "needs_background": "light"
     },
     "output_type": "display_data"
    }
   ],
   "source": [
    "make_plotbar('gearbox', 'Коробки передач')"
   ]
  },
  {
   "cell_type": "code",
   "execution_count": 22,
   "metadata": {},
   "outputs": [
    {
     "data": {
      "image/png": "[encoded data removed]",
      "text/plain": [
       "<Figure size 864x432 with 1 Axes>"
      ]
     },
     "metadata": {
      "needs_background": "light"
     },
     "output_type": "display_data"
    }
   ],
   "source": [
    "make_plotbar('brand', '10 популярных производителей')"
   ]
  },
  {
   "cell_type": "code",
   "execution_count": 23,
   "metadata": {},
   "outputs": [
    {
     "data": {
      "image/png": "[encoded data removed]",
      "text/plain": [
       "<Figure size 864x432 with 1 Axes>"
      ]
     },
     "metadata": {
      "needs_background": "light"
     },
     "output_type": "display_data"
    }
   ],
   "source": [
    "make_plotbar('fueltype', 'Типы топлива для авто')"
   ]
  },
  {
   "cell_type": "markdown",
   "metadata": {},
   "source": [
    "По итогам изучения категориальных признаков видим, что: \n",
    "    <ul><li>Самая популярная модель авто - golf</li>\n",
    "    <li>Самый популярный тип автомобильного кузова - седан</li>\n",
    "    <li>Автомобили с ручной коробкой передач превышают по количеству автомобили с автоматической коробкой передач</li>\n",
    "    <li>Volskwagen - самый продаваемый автомобиль</li>\n",
    "    <li>Бензин - самое популярное топливо</li></ul>"
   ]
  },
  {
   "cell_type": "code",
   "execution_count": 24,
   "metadata": {},
   "outputs": [
    {
     "data": {
      "text/plain": [
       "(10772, 10)"
      ]
     },
     "execution_count": 24,
     "metadata": {},
     "output_type": "execute_result"
    }
   ],
   "source": [
    "cars_for_free = df.query('price == 0')\n",
    "cars_for_free.shape"
   ]
  },
  {
   "cell_type": "markdown",
   "metadata": {},
   "source": [
    "10772 автомобиля отдаются бесплатно. На фоне остального датасета это немного строк. Думаю их можно просто убрать"
   ]
  },
  {
   "cell_type": "code",
   "execution_count": 25,
   "metadata": {},
   "outputs": [],
   "source": [
    "df = df.query('price != 0')"
   ]
  },
  {
   "cell_type": "markdown",
   "metadata": {},
   "source": [
    "Убрали"
   ]
  },
  {
   "cell_type": "code",
   "execution_count": 26,
   "metadata": {},
   "outputs": [],
   "source": [
    "perc = np.arange(0,1,0.05)"
   ]
  },
  {
   "cell_type": "code",
   "execution_count": 27,
   "metadata": {},
   "outputs": [
    {
     "data": {
      "text/plain": [
       "count    343597.000000\n",
       "mean        111.000192\n",
       "std         188.177974\n",
       "min           0.000000\n",
       "0%            0.000000\n",
       "5%            0.000000\n",
       "10%           0.000000\n",
       "15%          54.000000\n",
       "20%          60.000000\n",
       "25%          69.000000\n",
       "30%          75.000000\n",
       "35%          82.000000\n",
       "40%          90.000000\n",
       "45%         101.000000\n",
       "50%         105.000000\n",
       "55%         110.000000\n",
       "60%         116.000000\n",
       "65%         125.000000\n",
       "70%         136.000000\n",
       "75%         143.000000\n",
       "80%         150.000000\n",
       "85%         170.000000\n",
       "90%         180.000000\n",
       "95%         218.000000\n",
       "max       20000.000000\n",
       "Name: power, dtype: float64"
      ]
     },
     "execution_count": 27,
     "metadata": {},
     "output_type": "execute_result"
    }
   ],
   "source": [
    "df['power'].describe(percentiles = perc)"
   ]
  },
  {
   "cell_type": "code",
   "execution_count": 28,
   "metadata": {},
   "outputs": [
    {
     "data": {
      "image/png": "[encoded data removed]",
      "text/plain": [
       "<Figure size 864x432 with 2 Axes>"
      ]
     },
     "metadata": {
      "needs_background": "light"
     },
     "output_type": "display_data"
    }
   ],
   "source": [
    "fig, axes = plt.subplots(1, 2, figsize=(12, 6))\n",
    "\n",
    "axes[0].set_title('power')\n",
    "sns.boxplot(y = 'power', data=df, ax = axes[0])\n",
    "axes[0].set_xlabel('Количество')\n",
    "     \n",
    "axes[1].set_title('power')\n",
    "sns.distplot(df['power'], kde=False, bins=50, ax = axes[1])\n",
    "axes[1].set_ylabel('Количество')\n",
    "            \n",
    "plt.show()"
   ]
  },
  {
   "cell_type": "markdown",
   "metadata": {},
   "source": [
    "Увы, много выбросов."
   ]
  },
  {
   "cell_type": "code",
   "execution_count": 29,
   "metadata": {},
   "outputs": [
    {
     "data": {
      "image/png": "[encoded data removed]",
      "text/plain": [
       "<Figure size 864x432 with 1 Axes>"
      ]
     },
     "metadata": {
      "needs_background": "light"
     },
     "output_type": "display_data"
    }
   ],
   "source": [
    "Q1 = df['power'].quantile(0.25)\n",
    "Q3 = df['power'].quantile(0.75)\n",
    "IQR = Q3 - Q1\n",
    "fig, ax = plt.subplots()\n",
    "df['power'].plot(kind = 'hist', bins = 100, grid = True, range = (Q1 - IQR, Q3 + 3*IQR), figsize = (12, 6))\n",
    "ax.set_xlabel('Лошадиные силы')\n",
    "ax.set_ylabel('Количество');"
   ]
  },
  {
   "cell_type": "markdown",
   "metadata": {},
   "source": [
    "Мы взяли квантили от показателей столбца для графика, и судя по нему в основном встречаются авто с мощностью до 350 лс. Примем 350 лс как максимум диапазона, а нули заменим на медианы относительно групп моделей объектов"
   ]
  },
  {
   "cell_type": "code",
   "execution_count": 30,
   "metadata": {},
   "outputs": [],
   "source": [
    "df = df.query('power <= 350')"
   ]
  },
  {
   "cell_type": "code",
   "execution_count": 31,
   "metadata": {},
   "outputs": [],
   "source": [
    "medians  = df.groupby('model')['power'].median().to_dict()\n",
    "def fill_with_median (row):\n",
    "    if row['power'] == 0:\n",
    "        return medians [row['model']]\n",
    "    return row ['power']\n",
    "df['power'] = df.apply(lambda row: fill_with_median(row), axis = 1)"
   ]
  },
  {
   "cell_type": "code",
   "execution_count": 32,
   "metadata": {},
   "outputs": [
    {
     "data": {
      "image/png": "[encoded data removed]",
      "text/plain": [
       "<Figure size 864x432 with 1 Axes>"
      ]
     },
     "metadata": {
      "needs_background": "light"
     },
     "output_type": "display_data"
    }
   ],
   "source": [
    "fig, ax = plt.subplots(figsize=(12, 6))\n",
    "ax.set_title('power')\n",
    "sns.distplot(df['power'], kde=False, bins=50, ax = ax)\n",
    "ax.set_ylabel('Количество')          \n",
    "plt.show()"
   ]
  },
  {
   "cell_type": "markdown",
   "metadata": {},
   "source": [
    "Убрали выбросы и нули. Стало лучше."
   ]
  },
  {
   "cell_type": "code",
   "execution_count": 33,
   "metadata": {},
   "outputs": [
    {
     "data": {
      "text/plain": [
       "count    342441.000000\n",
       "mean       2004.074962\n",
       "std          77.973936\n",
       "min        1000.000000\n",
       "0%         1000.000000\n",
       "5%         1993.000000\n",
       "10%        1996.000000\n",
       "15%        1997.000000\n",
       "20%        1998.000000\n",
       "25%        1999.000000\n",
       "30%        2000.000000\n",
       "35%        2000.000000\n",
       "40%        2001.000000\n",
       "45%        2002.000000\n",
       "50%        2003.000000\n",
       "55%        2004.000000\n",
       "60%        2005.000000\n",
       "65%        2006.000000\n",
       "70%        2007.000000\n",
       "75%        2008.000000\n",
       "80%        2009.000000\n",
       "85%        2010.000000\n",
       "90%        2012.000000\n",
       "95%        2016.000000\n",
       "max        9999.000000\n",
       "Name: registrationyear, dtype: float64"
      ]
     },
     "execution_count": 33,
     "metadata": {},
     "output_type": "execute_result"
    }
   ],
   "source": [
    "df['registrationyear'].describe(percentiles=perc)"
   ]
  },
  {
   "cell_type": "markdown",
   "metadata": {},
   "source": [
    "Возьмем область от 5% в столбе года регистрации"
   ]
  },
  {
   "cell_type": "code",
   "execution_count": 34,
   "metadata": {},
   "outputs": [],
   "source": [
    "df = df.query('registrationyear >= 1992 and registrationyear < 2016')"
   ]
  },
  {
   "cell_type": "code",
   "execution_count": 35,
   "metadata": {},
   "outputs": [],
   "source": [
    "df = df.drop_duplicates().reset_index(drop=True)"
   ]
  },
  {
   "cell_type": "markdown",
   "metadata": {},
   "source": [
    "Удалим дубликаты"
   ]
  },
  {
   "cell_type": "code",
   "execution_count": 36,
   "metadata": {},
   "outputs": [],
   "source": [
    "def make_price_plot(feature, title):\n",
    "    mean_price = df[[feature, 'price']].groupby(feature, as_index=False).mean().astype('int')\n",
    "    plt.figure(figsize=(12,6))\n",
    "    plt.grid(axis = 'both')\n",
    "    sns.lineplot(x=feature, y='price', data=mean_price)\n",
    "    plt.xlabel(feature, size=12)\n",
    "    plt.ylabel('Средняя цена в евро', size=12)\n",
    "    plt.title(title, size=15, y=1.02)\n",
    "    plt.show()"
   ]
  },
  {
   "cell_type": "code",
   "execution_count": 37,
   "metadata": {},
   "outputs": [
    {
     "data": {
      "image/png": "[encoded data removed]",
      "text/plain": [
       "<Figure size 864x432 with 1 Axes>"
      ]
     },
     "metadata": {
      "needs_background": "light"
     },
     "output_type": "display_data"
    }
   ],
   "source": [
    "make_price_plot('registrationyear', 'Изменение цены в зависимости от года регистрации')"
   ]
  },
  {
   "cell_type": "markdown",
   "metadata": {},
   "source": [
    "С чем связано резкое падение цен в 2015 году можно только предпологать. Может быть кризис?"
   ]
  },
  {
   "cell_type": "code",
   "execution_count": 38,
   "metadata": {},
   "outputs": [
    {
     "data": {
      "image/png": "[encoded data removed]",
      "text/plain": [
       "<Figure size 864x432 with 1 Axes>"
      ]
     },
     "metadata": {
      "needs_background": "light"
     },
     "output_type": "display_data"
    }
   ],
   "source": [
    "make_price_plot('power', 'Изменение цены в зависимости от мощности')"
   ]
  },
  {
   "cell_type": "code",
   "execution_count": 39,
   "metadata": {},
   "outputs": [
    {
     "data": {
      "image/png": "[encoded data removed]",
      "text/plain": [
       "<Figure size 864x432 with 1 Axes>"
      ]
     },
     "metadata": {
      "needs_background": "light"
     },
     "output_type": "display_data"
    }
   ],
   "source": [
    "make_price_plot('kilometer', 'Изменение цены в зависимости от пробега')"
   ]
  },
  {
   "cell_type": "code",
   "execution_count": 40,
   "metadata": {},
   "outputs": [
    {
     "data": {
      "text/plain": [
       "(251317, 10)"
      ]
     },
     "execution_count": 40,
     "metadata": {},
     "output_type": "execute_result"
    }
   ],
   "source": [
    "df.shape"
   ]
  },
  {
   "cell_type": "markdown",
   "metadata": {},
   "source": [
    "После анализа и обработки мы потеряли 1\\10 данных. Думаю это не сильно повлияет на дальнейшую работу"
   ]
  },
  {
   "cell_type": "markdown",
   "metadata": {},
   "source": [
    "## Обучение моделей"
   ]
  },
  {
   "cell_type": "code",
   "execution_count": 43,
   "metadata": {},
   "outputs": [],
   "source": [
    "features = df.drop('price', axis=1)\n",
    "target = df['price']"
   ]
  },
  {
   "cell_type": "markdown",
   "metadata": {},
   "source": [
    "Разделим датасет на признаки и целевой признак"
   ]
  },
  {
   "cell_type": "code",
   "execution_count": 45,
   "metadata": {},
   "outputs": [],
   "source": [
    "cats_cols = list(features.select_dtypes(include='object').columns)\n",
    "label_encode = LabelEncoder()\n",
    "for column in cats_cols:\n",
    "    label_encode.fit(features[column].astype('str'))\n",
    "    features[column] = label_encode.transform(features[column].astype('str'))"
   ]
  },
  {
   "cell_type": "code",
   "execution_count": 46,
   "metadata": {},
   "outputs": [
    {
     "data": {
      "text/plain": [
       "['vehicletype', 'gearbox', 'model', 'fueltype', 'brand', 'repaired']"
      ]
     },
     "execution_count": 46,
     "metadata": {},
     "output_type": "execute_result"
    }
   ],
   "source": [
    "cats_cols"
   ]
  },
  {
   "cell_type": "code",
   "execution_count": 47,
   "metadata": {},
   "outputs": [],
   "source": [
    "X_train, X_test, y_train, y_test = train_test_split(features, target, test_size=0.25, random_state=RND)\n",
    "X_train_valid, X_test_valid, y_train_valid, y_test_valid = train_test_split(X_test, y_test, test_size=0.5, random_state=RND)"
   ]
  },
  {
   "cell_type": "markdown",
   "metadata": {},
   "source": [
    "Поделили данные на обучающую, тестовую и валидационную выборки"
   ]
  },
  {
   "cell_type": "code",
   "execution_count": 48,
   "metadata": {},
   "outputs": [],
   "source": [
    "def scale_to_standard(train, test, valid):\n",
    "    scaler = StandardScaler()\n",
    "    quanti_columns = ['registrationyear', 'power', 'kilometer']\n",
    "    scaler.fit(train[quanti_columns])\n",
    "    train[quanti_columns] = scaler.transform(train[quanti_columns])\n",
    "    valid[quanti_columns]=scaler.transform(valid[quanti_columns])\n",
    "    test[quanti_columns] = scaler.transform(test[quanti_columns])"
   ]
  },
  {
   "cell_type": "code",
   "execution_count": 49,
   "metadata": {},
   "outputs": [],
   "source": [
    "scale_to_standard(X_train, X_test, X_train_valid)"
   ]
  },
  {
   "cell_type": "markdown",
   "metadata": {},
   "source": [
    "Стандартизировали их"
   ]
  },
  {
   "cell_type": "code",
   "execution_count": 50,
   "metadata": {},
   "outputs": [],
   "source": [
    "def rmse(test,predict):\n",
    "    return ((mse(test,predict))**0.5).round(2)"
   ]
  },
  {
   "cell_type": "markdown",
   "metadata": {},
   "source": [
    "Создадим функцию rmse"
   ]
  },
  {
   "cell_type": "markdown",
   "metadata": {},
   "source": [
    "<h1>DecisionTreeRegressor</h1>"
   ]
  },
  {
   "cell_type": "code",
   "execution_count": 51,
   "metadata": {},
   "outputs": [],
   "source": [
    "def DTR (features, target):\n",
    "    model = DecisionTreeRegressor()\n",
    "    params = {\n",
    "        'max_depth' : [5, 7, 10]\n",
    "                }\n",
    "    grid_cv = GridSearchCV(estimator=model, \n",
    "    param_grid=params, scoring='neg_mean_squared_error')\n",
    "    grid_cv.fit(features, target)\n",
    "    print('Best hyperparams: ', grid_cv.best_params_)\n",
    "    print('RMSE score on train sample: {:.2f}'.format((-grid_cv.best_score_) ** 0.5))\n",
    "    return grid_cv.best_params_"
   ]
  },
  {
   "cell_type": "code",
   "execution_count": 55,
   "metadata": {},
   "outputs": [
    {
     "name": "stdout",
     "output_type": "stream",
     "text": [
      "Best hyperparams:  {'max_depth': 10}\n",
      "RMSE score on train sample: 1940.90\n",
      "CPU times: user 3.74 s, sys: 15.4 ms, total: 3.75 s\n",
      "Wall time: 3.76 s\n"
     ]
    }
   ],
   "source": [
    "%%time\n",
    "lr_params = DTR(X_train, y_train)"
   ]
  },
  {
   "cell_type": "code",
   "execution_count": 56,
   "metadata": {},
   "outputs": [
    {
     "name": "stdout",
     "output_type": "stream",
     "text": [
      "Test RMSE = 1804.57\n",
      "CPU times: user 113 ms, sys: 3.24 ms, total: 116 ms\n",
      "Wall time: 117 ms\n"
     ]
    }
   ],
   "source": [
    "%%time\n",
    "model_lr = DecisionTreeRegressor(**lr_params)\n",
    "model_lr.fit(X_test, y_test)\n",
    "predict_lr = model_lr.predict(X_train_valid)\n",
    "print('Test RMSE = {:.2f}'.format(mse(y_train_valid, predict_lr)**0.5))"
   ]
  },
  {
   "cell_type": "markdown",
   "metadata": {},
   "source": [
    "Использовав модель DecisionTreeRegressor мы получили показатели:\n",
    "\n",
    "на обучающей выборке: 1940.90 на валидационной выборке: 1804.57"
   ]
  },
  {
   "cell_type": "markdown",
   "metadata": {},
   "source": [
    "<h1>LightGBM </h1>"
   ]
  },
  {
   "cell_type": "code",
   "execution_count": null,
   "metadata": {},
   "outputs": [],
   "source": [
    "def lgb_regr(features, target):\n",
    "    model = LGBMRegressor()\n",
    "    params = {\n",
    "        'boosting_type' : ['gbdt'],\n",
    "        'n_estimators' : [50, 100],\n",
    "        'max_depth' : [5, 7, 10],\n",
    "        'verbose' : [10],        \n",
    "        'random_state' : [RND],\n",
    "        'force_col_wise': [True],\n",
    "        'num_leaves' : [127]}\n",
    "    grid_cv = GridSearchCV(estimator=model, param_grid=params, cv=3, n_jobs=-1, scoring='neg_mean_squared_error')\n",
    "    grid_cv.fit(features, target, categorical_feature=cats_cols)\n",
    "    print('Best hyperparams: ', grid_cv.best_params_)\n",
    "    print('RMSE score on train sample: {:.2f}'.format((-grid_cv.best_score_) ** 0.5))\n",
    "    return grid_cv.best_params_"
   ]
  },
  {
   "cell_type": "code",
   "execution_count": null,
   "metadata": {},
   "outputs": [],
   "source": [
    "%%time\n",
    "lgb_params = lgb_regr(X_train, y_train)"
   ]
  },
  {
   "cell_type": "code",
   "execution_count": null,
   "metadata": {},
   "outputs": [],
   "source": [
    "%%time\n",
    "model_lgb = LGBMRegressor(**lgb_params)\n",
    "model_lgb.fit(X_train, y_train, eval_set=(X_test, y_test), verbose=10, eval_metric='rmse')\n",
    "predict_lgb = model_lgb.predict(X_train_valid)\n",
    "print('Test RMSE = {:.2f}'.format(mse(y_train_valid, predict_lgb)**0.5))"
   ]
  },
  {
   "cell_type": "markdown",
   "metadata": {},
   "source": [
    "Использовав модель LightGBM  мы получили показатели:\n",
    "\n",
    "на обучающей выборке: 1573.23\n",
    "на валидационной выборке: 1594.86"
   ]
  },
  {
   "cell_type": "markdown",
   "metadata": {},
   "source": [
    "<h1>CatBoost</h1>"
   ]
  },
  {
   "cell_type": "code",
   "execution_count": null,
   "metadata": {},
   "outputs": [],
   "source": [
    "def catboost_regr(features, target):\n",
    "    model = CatBoostRegressor()\n",
    "    params = {\n",
    "            'n_estimators' : [50, 100],\n",
    "            'verbose' : [10],\n",
    "            'random_state' : [RND],\n",
    "            'max_depth' : [5, 7, 10]\n",
    "    }\n",
    "    grid_cv = GridSearchCV(estimator=model, \n",
    "    param_grid=params, cv=3, n_jobs=-1, scoring='neg_mean_squared_error')\n",
    "    grid_cv.fit(features, target, cat_features=cats_cols, verbose=10)\n",
    "    print('Best hyperparams: ', grid_cv.best_params_)\n",
    "    print('RMSE score on train sample: {:.2f}'.format((-grid_cv.best_score_) ** 0.5))\n",
    "    return grid_cv.best_params_"
   ]
  },
  {
   "cell_type": "code",
   "execution_count": null,
   "metadata": {},
   "outputs": [],
   "source": [
    "%%time\n",
    "catb_params = catboost_regr(X_train, y_train)"
   ]
  },
  {
   "cell_type": "code",
   "execution_count": null,
   "metadata": {},
   "outputs": [],
   "source": [
    "%%time\n",
    "catb_model = CatBoostRegressor(**catb_params)\n",
    "catb_model.fit(X_train, y_train, verbose=10)\n",
    "catb_pred = catb_model.predict(X_train_valid)\n",
    "print('Test RMSE : {:.2f} '.format(mse(y_train_valid, catb_pred)**0.5))"
   ]
  },
  {
   "cell_type": "markdown",
   "metadata": {},
   "source": [
    "Использовав модель CatBoostRegressor мы получили показатели:\n",
    "\n",
    "на обучающей выборке: 1614.76\n",
    "на валидационной выборке: 1586.72"
   ]
  },
  {
   "cell_type": "markdown",
   "metadata": {},
   "source": [
    "<h1>XGBRegressor</h1>"
   ]
  },
  {
   "cell_type": "code",
   "execution_count": null,
   "metadata": {},
   "outputs": [],
   "source": [
    "def xgb_regr(features, target):\n",
    "    model = XGBRegressor()\n",
    "    params = {\n",
    "        'max_depth': [3, 5, 7], \n",
    "         'eta': [0.5], \n",
    "         'min_child_weight':[4],\n",
    "         'sampling_method':['gradient_based'], \n",
    "         'verbosity':[1],  \n",
    "         'seed':[RND]}\n",
    "    grid_cv = GridSearchCV(estimator=model, param_grid=params, cv=2, n_jobs=-1, scoring='neg_mean_squared_error')\n",
    "    grid_cv.fit(features, target, eval_metric='rmse', verbose = 10, eval_set = [(X_test, y_test)])\n",
    "    print('Best hyperparams: ', grid_cv.best_params_)\n",
    "    print('Best RMSE score: {:.2f}'.format((-grid_cv.best_score_) ** 0.5))\n",
    "    return grid_cv.best_params_"
   ]
  },
  {
   "cell_type": "code",
   "execution_count": null,
   "metadata": {
    "scrolled": true
   },
   "outputs": [],
   "source": [
    "%%time\n",
    "xgb_params = xgb_regr(X_train, y_train)"
   ]
  },
  {
   "cell_type": "code",
   "execution_count": null,
   "metadata": {},
   "outputs": [],
   "source": [
    "%%time\n",
    "model_xgb = XGBRegressor(**xgb_params)\n",
    "model_xgb.fit(X_train, y_train, eval_metric='rmse', verbose = 10, eval_set = [(X_test, y_test)])\n",
    "xgb_pred = model_xgb.predict(X_train_valid)\n",
    "print('Test RMSE : {:.2f}'.format(mse(y_train_valid, xgb_pred)**0.5))"
   ]
  },
  {
   "cell_type": "markdown",
   "metadata": {},
   "source": [
    "Использовав модель XGBRegressor мы получили показатели:\n",
    "\n",
    "на обучающей выборке: 1653.25\n",
    "на валидационной выборке: 1595.20 \n"
   ]
  },
  {
   "cell_type": "markdown",
   "metadata": {},
   "source": [
    "## Анализ моделей"
   ]
  },
  {
   "cell_type": "code",
   "execution_count": 59,
   "metadata": {},
   "outputs": [
    {
     "data": {
      "text/html": [
       "<div>\n",
       "<style scoped>\n",
       "    .dataframe tbody tr th:only-of-type {\n",
       "        vertical-align: middle;\n",
       "    }\n",
       "\n",
       "    .dataframe tbody tr th {\n",
       "        vertical-align: top;\n",
       "    }\n",
       "\n",
       "    .dataframe thead th {\n",
       "        text-align: right;\n",
       "    }\n",
       "</style>\n",
       "<table border=\"1\" class=\"dataframe\">\n",
       "  <thead>\n",
       "    <tr style=\"text-align: right;\">\n",
       "      <th></th>\n",
       "      <th>Model</th>\n",
       "      <th>Train RMSE</th>\n",
       "      <th>Train Time, sec</th>\n",
       "      <th>Test RMSE</th>\n",
       "      <th>Test Time, sec</th>\n",
       "    </tr>\n",
       "  </thead>\n",
       "  <tbody>\n",
       "    <tr>\n",
       "      <th>0</th>\n",
       "      <td>DecisionTreeRegressor</td>\n",
       "      <td>1940.90</td>\n",
       "      <td>3.76</td>\n",
       "      <td>1804.57</td>\n",
       "      <td>0.12</td>\n",
       "    </tr>\n",
       "    <tr>\n",
       "      <th>1</th>\n",
       "      <td>LightGBM</td>\n",
       "      <td>1573.23</td>\n",
       "      <td>144.00</td>\n",
       "      <td>1594.86</td>\n",
       "      <td>15.20</td>\n",
       "    </tr>\n",
       "    <tr>\n",
       "      <th>2</th>\n",
       "      <td>CatBoost</td>\n",
       "      <td>1614.76</td>\n",
       "      <td>96.00</td>\n",
       "      <td>1586.72</td>\n",
       "      <td>5.93</td>\n",
       "    </tr>\n",
       "    <tr>\n",
       "      <th>3</th>\n",
       "      <td>XGBRegressor</td>\n",
       "      <td>1653.25</td>\n",
       "      <td>194.00</td>\n",
       "      <td>1595.20</td>\n",
       "      <td>59.50</td>\n",
       "    </tr>\n",
       "  </tbody>\n",
       "</table>\n",
       "</div>"
      ],
      "text/plain": [
       "                   Model  Train RMSE  Train Time, sec  Test RMSE  \\\n",
       "0  DecisionTreeRegressor     1940.90             3.76    1804.57   \n",
       "1               LightGBM     1573.23           144.00    1594.86   \n",
       "2               CatBoost     1614.76            96.00    1586.72   \n",
       "3           XGBRegressor     1653.25           194.00    1595.20   \n",
       "\n",
       "   Test Time, sec  \n",
       "0            0.12  \n",
       "1           15.20  \n",
       "2            5.93  \n",
       "3           59.50  "
      ]
     },
     "metadata": {},
     "output_type": "display_data"
    }
   ],
   "source": [
    "results = {\n",
    "    'Model' : ['DecisionTreeRegressor', 'LightGBM', 'CatBoost', 'XGBRegressor' ],\n",
    "    'Train RMSE' :pd.Series([1940.90, 1573.23, 1614.76, 1653.25]),\n",
    "    'Train Time, sec': pd.Series([3.76, 144, 96, 194]),\n",
    "    'Test RMSE' :pd.Series([1804.57, 1594.86, 1586.72, 1595.20]),\n",
    "    'Test Time, sec': pd.Series([0.12, 15.2, 5.93, 59.5])\n",
    "    }\n",
    "display(pd.DataFrame(results))"
   ]
  },
  {
   "cell_type": "markdown",
   "metadata": {},
   "source": [
    "<h1>Вывод по данным:</h1>"
   ]
  },
  {
   "cell_type": "markdown",
   "metadata": {},
   "source": [
    "DecisionTreeRegressor показала худшие результаты метрики, но с лучшем временем. По соотношению время, результат метрики в совокупности обучающей и валидационной выборки считаю модель CatBoost."
   ]
  }
 ],
 "metadata": {
  "ExecuteTimeLog": [
   {
    "duration": 1543,
    "start_time": "2023-01-13T07:54:35.565Z"
   },
   {
    "duration": 1672,
    "start_time": "2023-01-13T07:54:37.110Z"
   },
   {
    "duration": 108,
    "start_time": "2023-01-13T07:54:38.783Z"
   },
   {
    "duration": 143,
    "start_time": "2023-01-13T07:54:48.074Z"
   },
   {
    "duration": 8,
    "start_time": "2023-01-13T07:54:53.710Z"
   },
   {
    "duration": 16,
    "start_time": "2023-01-13T07:55:15.806Z"
   },
   {
    "duration": 99,
    "start_time": "2023-01-13T07:55:28.923Z"
   },
   {
    "duration": 823,
    "start_time": "2023-01-13T07:55:59.748Z"
   },
   {
    "duration": 418,
    "start_time": "2023-01-13T07:56:17.261Z"
   },
   {
    "duration": 48,
    "start_time": "2023-01-13T07:56:50.322Z"
   },
   {
    "duration": 16,
    "start_time": "2023-01-13T07:59:18.117Z"
   },
   {
    "duration": 4,
    "start_time": "2023-01-13T08:00:16.940Z"
   },
   {
    "duration": 3,
    "start_time": "2023-01-13T08:00:25.444Z"
   },
   {
    "duration": 430,
    "start_time": "2023-01-13T08:00:32.478Z"
   },
   {
    "duration": 3,
    "start_time": "2023-01-13T08:00:33.868Z"
   },
   {
    "duration": 1370,
    "start_time": "2023-01-13T08:00:43.357Z"
   },
   {
    "duration": 1260,
    "start_time": "2023-01-13T08:00:44.729Z"
   },
   {
    "duration": 145,
    "start_time": "2023-01-13T08:00:45.991Z"
   },
   {
    "duration": 16,
    "start_time": "2023-01-13T08:00:46.138Z"
   },
   {
    "duration": 104,
    "start_time": "2023-01-13T08:00:46.155Z"
   },
   {
    "duration": 882,
    "start_time": "2023-01-13T08:00:46.260Z"
   },
   {
    "duration": 443,
    "start_time": "2023-01-13T08:00:47.144Z"
   },
   {
    "duration": 3,
    "start_time": "2023-01-13T08:00:47.589Z"
   },
   {
    "duration": 53,
    "start_time": "2023-01-13T08:00:47.594Z"
   },
   {
    "duration": 94,
    "start_time": "2023-01-13T08:00:47.649Z"
   },
   {
    "duration": 46,
    "start_time": "2023-01-13T09:57:09.408Z"
   },
   {
    "duration": 249,
    "start_time": "2023-01-13T10:02:18.428Z"
   },
   {
    "duration": 223,
    "start_time": "2023-01-13T10:13:39.850Z"
   },
   {
    "duration": 812,
    "start_time": "2023-01-13T10:30:24.280Z"
   },
   {
    "duration": 26,
    "start_time": "2023-01-13T10:31:16.406Z"
   },
   {
    "duration": 3,
    "start_time": "2023-01-13T10:31:20.719Z"
   },
   {
    "duration": 2131,
    "start_time": "2023-01-13T10:31:23.802Z"
   },
   {
    "duration": 4,
    "start_time": "2023-01-13T10:31:26.622Z"
   },
   {
    "duration": 88,
    "start_time": "2023-01-13T10:31:29.071Z"
   },
   {
    "duration": 14,
    "start_time": "2023-01-13T10:35:29.713Z"
   },
   {
    "duration": 4,
    "start_time": "2023-01-13T10:36:46.581Z"
   },
   {
    "duration": 189,
    "start_time": "2023-01-13T10:36:47.045Z"
   },
   {
    "duration": 174,
    "start_time": "2023-01-13T10:37:08.141Z"
   },
   {
    "duration": 159,
    "start_time": "2023-01-13T10:37:28.388Z"
   },
   {
    "duration": 197,
    "start_time": "2023-01-13T10:37:57.637Z"
   },
   {
    "duration": 170,
    "start_time": "2023-01-13T10:38:17.676Z"
   },
   {
    "duration": 43,
    "start_time": "2023-01-13T10:42:16.208Z"
   },
   {
    "duration": 11,
    "start_time": "2023-01-13T10:43:37.335Z"
   },
   {
    "duration": 104,
    "start_time": "2023-01-13T10:45:09.732Z"
   },
   {
    "duration": 8,
    "start_time": "2023-01-13T10:45:10.478Z"
   },
   {
    "duration": 2,
    "start_time": "2023-01-13T10:46:21.594Z"
   },
   {
    "duration": 20,
    "start_time": "2023-01-13T10:46:22.136Z"
   },
   {
    "duration": 333,
    "start_time": "2023-01-13T10:46:37.925Z"
   },
   {
    "duration": 3,
    "start_time": "2023-01-13T10:47:08.829Z"
   },
   {
    "duration": 318,
    "start_time": "2023-01-13T10:47:16.646Z"
   },
   {
    "duration": 293,
    "start_time": "2023-01-13T10:48:27.111Z"
   },
   {
    "duration": 294,
    "start_time": "2023-01-13T10:48:42.917Z"
   },
   {
    "duration": 33,
    "start_time": "2023-01-13T10:52:43.128Z"
   },
   {
    "duration": 2877,
    "start_time": "2023-01-13T10:52:43.687Z"
   },
   {
    "duration": 193,
    "start_time": "2023-01-13T10:52:46.566Z"
   },
   {
    "duration": 19,
    "start_time": "2023-01-13T10:53:34.596Z"
   },
   {
    "duration": 29,
    "start_time": "2023-01-13T10:54:55.099Z"
   },
   {
    "duration": 181,
    "start_time": "2023-01-13T10:54:55.720Z"
   },
   {
    "duration": 4,
    "start_time": "2023-01-13T10:55:20.564Z"
   },
   {
    "duration": 25,
    "start_time": "2023-01-13T10:55:33.363Z"
   },
   {
    "duration": 148,
    "start_time": "2023-01-13T10:55:33.935Z"
   },
   {
    "duration": 4,
    "start_time": "2023-01-13T10:55:35.140Z"
   },
   {
    "duration": 177,
    "start_time": "2023-01-13T10:55:49.043Z"
   },
   {
    "duration": 309,
    "start_time": "2023-01-13T10:57:33.034Z"
   },
   {
    "duration": 269,
    "start_time": "2023-01-13T10:57:34.467Z"
   },
   {
    "duration": 4,
    "start_time": "2023-01-13T10:57:50.149Z"
   },
   {
    "duration": 385,
    "start_time": "2023-01-13T10:59:38.213Z"
   },
   {
    "duration": 15,
    "start_time": "2023-01-13T11:00:48.233Z"
   },
   {
    "duration": 4,
    "start_time": "2023-01-13T11:00:49.365Z"
   },
   {
    "duration": 3,
    "start_time": "2023-01-13T11:02:01.978Z"
   },
   {
    "duration": 1442,
    "start_time": "2023-01-13T11:02:14.552Z"
   },
   {
    "duration": 48,
    "start_time": "2023-01-13T11:02:15.996Z"
   },
   {
    "duration": 0,
    "start_time": "2023-01-13T11:02:16.047Z"
   },
   {
    "duration": 1,
    "start_time": "2023-01-13T11:02:16.048Z"
   },
   {
    "duration": 0,
    "start_time": "2023-01-13T11:02:16.050Z"
   },
   {
    "duration": 0,
    "start_time": "2023-01-13T11:02:16.051Z"
   },
   {
    "duration": 0,
    "start_time": "2023-01-13T11:02:16.053Z"
   },
   {
    "duration": 0,
    "start_time": "2023-01-13T11:02:16.055Z"
   },
   {
    "duration": 0,
    "start_time": "2023-01-13T11:02:16.056Z"
   },
   {
    "duration": 0,
    "start_time": "2023-01-13T11:02:16.057Z"
   },
   {
    "duration": 0,
    "start_time": "2023-01-13T11:02:16.058Z"
   },
   {
    "duration": 0,
    "start_time": "2023-01-13T11:02:16.059Z"
   },
   {
    "duration": 0,
    "start_time": "2023-01-13T11:02:16.061Z"
   },
   {
    "duration": 0,
    "start_time": "2023-01-13T11:02:16.062Z"
   },
   {
    "duration": 0,
    "start_time": "2023-01-13T11:02:16.063Z"
   },
   {
    "duration": 0,
    "start_time": "2023-01-13T11:02:16.065Z"
   },
   {
    "duration": 0,
    "start_time": "2023-01-13T11:02:16.066Z"
   },
   {
    "duration": 0,
    "start_time": "2023-01-13T11:02:16.068Z"
   },
   {
    "duration": 0,
    "start_time": "2023-01-13T11:02:16.069Z"
   },
   {
    "duration": 0,
    "start_time": "2023-01-13T11:02:16.071Z"
   },
   {
    "duration": 0,
    "start_time": "2023-01-13T11:02:16.072Z"
   },
   {
    "duration": 0,
    "start_time": "2023-01-13T11:02:16.074Z"
   },
   {
    "duration": 0,
    "start_time": "2023-01-13T11:02:16.075Z"
   },
   {
    "duration": 0,
    "start_time": "2023-01-13T11:02:16.077Z"
   },
   {
    "duration": 0,
    "start_time": "2023-01-13T11:02:16.078Z"
   },
   {
    "duration": 0,
    "start_time": "2023-01-13T11:02:16.079Z"
   },
   {
    "duration": 0,
    "start_time": "2023-01-13T11:02:16.080Z"
   },
   {
    "duration": 0,
    "start_time": "2023-01-13T11:02:16.081Z"
   },
   {
    "duration": 0,
    "start_time": "2023-01-13T11:02:16.083Z"
   },
   {
    "duration": 0,
    "start_time": "2023-01-13T11:02:16.116Z"
   },
   {
    "duration": 0,
    "start_time": "2023-01-13T11:02:16.118Z"
   },
   {
    "duration": 0,
    "start_time": "2023-01-13T11:02:16.120Z"
   },
   {
    "duration": 0,
    "start_time": "2023-01-13T11:02:16.121Z"
   },
   {
    "duration": 0,
    "start_time": "2023-01-13T11:02:16.123Z"
   },
   {
    "duration": 0,
    "start_time": "2023-01-13T11:02:16.124Z"
   },
   {
    "duration": 0,
    "start_time": "2023-01-13T11:02:16.126Z"
   },
   {
    "duration": 0,
    "start_time": "2023-01-13T11:02:16.127Z"
   },
   {
    "duration": 0,
    "start_time": "2023-01-13T11:02:16.128Z"
   },
   {
    "duration": 0,
    "start_time": "2023-01-13T11:02:16.130Z"
   },
   {
    "duration": 0,
    "start_time": "2023-01-13T11:02:16.131Z"
   },
   {
    "duration": 0,
    "start_time": "2023-01-13T11:02:16.132Z"
   },
   {
    "duration": 0,
    "start_time": "2023-01-13T11:02:16.134Z"
   },
   {
    "duration": 0,
    "start_time": "2023-01-13T11:02:16.136Z"
   },
   {
    "duration": 0,
    "start_time": "2023-01-13T11:02:16.137Z"
   },
   {
    "duration": 0,
    "start_time": "2023-01-13T11:02:16.139Z"
   },
   {
    "duration": 0,
    "start_time": "2023-01-13T11:02:16.140Z"
   },
   {
    "duration": 0,
    "start_time": "2023-01-13T11:02:16.142Z"
   },
   {
    "duration": 5,
    "start_time": "2023-01-13T11:03:47.510Z"
   },
   {
    "duration": 1419,
    "start_time": "2023-01-13T11:04:10.759Z"
   },
   {
    "duration": 1608,
    "start_time": "2023-01-13T11:04:12.179Z"
   },
   {
    "duration": 44,
    "start_time": "2023-01-13T11:04:13.789Z"
   },
   {
    "duration": 0,
    "start_time": "2023-01-13T11:04:13.835Z"
   },
   {
    "duration": 0,
    "start_time": "2023-01-13T11:04:13.836Z"
   },
   {
    "duration": 0,
    "start_time": "2023-01-13T11:04:13.837Z"
   },
   {
    "duration": 0,
    "start_time": "2023-01-13T11:04:13.838Z"
   },
   {
    "duration": 0,
    "start_time": "2023-01-13T11:04:13.840Z"
   },
   {
    "duration": 0,
    "start_time": "2023-01-13T11:04:13.841Z"
   },
   {
    "duration": 0,
    "start_time": "2023-01-13T11:04:13.842Z"
   },
   {
    "duration": 0,
    "start_time": "2023-01-13T11:04:13.844Z"
   },
   {
    "duration": 0,
    "start_time": "2023-01-13T11:04:13.845Z"
   },
   {
    "duration": 0,
    "start_time": "2023-01-13T11:04:13.847Z"
   },
   {
    "duration": 0,
    "start_time": "2023-01-13T11:04:13.849Z"
   },
   {
    "duration": 0,
    "start_time": "2023-01-13T11:04:13.850Z"
   },
   {
    "duration": 0,
    "start_time": "2023-01-13T11:04:13.851Z"
   },
   {
    "duration": 0,
    "start_time": "2023-01-13T11:04:13.853Z"
   },
   {
    "duration": 0,
    "start_time": "2023-01-13T11:04:13.854Z"
   },
   {
    "duration": 0,
    "start_time": "2023-01-13T11:04:13.856Z"
   },
   {
    "duration": 0,
    "start_time": "2023-01-13T11:04:13.858Z"
   },
   {
    "duration": 0,
    "start_time": "2023-01-13T11:04:13.859Z"
   },
   {
    "duration": 0,
    "start_time": "2023-01-13T11:04:13.860Z"
   },
   {
    "duration": 0,
    "start_time": "2023-01-13T11:04:13.862Z"
   },
   {
    "duration": 0,
    "start_time": "2023-01-13T11:04:13.864Z"
   },
   {
    "duration": 0,
    "start_time": "2023-01-13T11:04:13.865Z"
   },
   {
    "duration": 0,
    "start_time": "2023-01-13T11:04:13.867Z"
   },
   {
    "duration": 0,
    "start_time": "2023-01-13T11:04:13.868Z"
   },
   {
    "duration": 0,
    "start_time": "2023-01-13T11:04:13.869Z"
   },
   {
    "duration": 0,
    "start_time": "2023-01-13T11:04:13.870Z"
   },
   {
    "duration": 0,
    "start_time": "2023-01-13T11:04:13.872Z"
   },
   {
    "duration": 0,
    "start_time": "2023-01-13T11:04:13.873Z"
   },
   {
    "duration": 0,
    "start_time": "2023-01-13T11:04:13.915Z"
   },
   {
    "duration": 0,
    "start_time": "2023-01-13T11:04:13.917Z"
   },
   {
    "duration": 0,
    "start_time": "2023-01-13T11:04:13.919Z"
   },
   {
    "duration": 0,
    "start_time": "2023-01-13T11:04:13.920Z"
   },
   {
    "duration": 0,
    "start_time": "2023-01-13T11:04:13.922Z"
   },
   {
    "duration": 0,
    "start_time": "2023-01-13T11:04:13.923Z"
   },
   {
    "duration": 0,
    "start_time": "2023-01-13T11:04:13.924Z"
   },
   {
    "duration": 0,
    "start_time": "2023-01-13T11:04:13.926Z"
   },
   {
    "duration": 0,
    "start_time": "2023-01-13T11:04:13.928Z"
   },
   {
    "duration": 0,
    "start_time": "2023-01-13T11:04:13.929Z"
   },
   {
    "duration": 0,
    "start_time": "2023-01-13T11:04:13.930Z"
   },
   {
    "duration": 0,
    "start_time": "2023-01-13T11:04:13.932Z"
   },
   {
    "duration": 0,
    "start_time": "2023-01-13T11:04:13.933Z"
   },
   {
    "duration": 0,
    "start_time": "2023-01-13T11:04:13.934Z"
   },
   {
    "duration": 0,
    "start_time": "2023-01-13T11:04:13.935Z"
   },
   {
    "duration": 135,
    "start_time": "2023-01-13T11:04:45.884Z"
   },
   {
    "duration": 16,
    "start_time": "2023-01-13T11:04:46.828Z"
   },
   {
    "duration": 1396,
    "start_time": "2023-01-13T11:04:52.598Z"
   },
   {
    "duration": 1471,
    "start_time": "2023-01-13T11:04:53.996Z"
   },
   {
    "duration": 173,
    "start_time": "2023-01-13T11:04:55.469Z"
   },
   {
    "duration": 16,
    "start_time": "2023-01-13T11:04:55.644Z"
   },
   {
    "duration": 110,
    "start_time": "2023-01-13T11:04:55.662Z"
   },
   {
    "duration": 925,
    "start_time": "2023-01-13T11:04:55.774Z"
   },
   {
    "duration": 475,
    "start_time": "2023-01-13T11:04:56.700Z"
   },
   {
    "duration": 46,
    "start_time": "2023-01-13T11:04:57.177Z"
   },
   {
    "duration": 0,
    "start_time": "2023-01-13T11:04:57.226Z"
   },
   {
    "duration": 0,
    "start_time": "2023-01-13T11:04:57.227Z"
   },
   {
    "duration": 0,
    "start_time": "2023-01-13T11:04:57.229Z"
   },
   {
    "duration": 0,
    "start_time": "2023-01-13T11:04:57.230Z"
   },
   {
    "duration": 0,
    "start_time": "2023-01-13T11:04:57.231Z"
   },
   {
    "duration": 0,
    "start_time": "2023-01-13T11:04:57.233Z"
   },
   {
    "duration": 0,
    "start_time": "2023-01-13T11:04:57.234Z"
   },
   {
    "duration": 0,
    "start_time": "2023-01-13T11:04:57.235Z"
   },
   {
    "duration": 0,
    "start_time": "2023-01-13T11:04:57.236Z"
   },
   {
    "duration": 0,
    "start_time": "2023-01-13T11:04:57.238Z"
   },
   {
    "duration": 0,
    "start_time": "2023-01-13T11:04:57.239Z"
   },
   {
    "duration": 0,
    "start_time": "2023-01-13T11:04:57.241Z"
   },
   {
    "duration": 0,
    "start_time": "2023-01-13T11:04:57.242Z"
   },
   {
    "duration": 0,
    "start_time": "2023-01-13T11:04:57.244Z"
   },
   {
    "duration": 0,
    "start_time": "2023-01-13T11:04:57.245Z"
   },
   {
    "duration": 0,
    "start_time": "2023-01-13T11:04:57.247Z"
   },
   {
    "duration": 0,
    "start_time": "2023-01-13T11:04:57.248Z"
   },
   {
    "duration": 0,
    "start_time": "2023-01-13T11:04:57.250Z"
   },
   {
    "duration": 0,
    "start_time": "2023-01-13T11:04:57.251Z"
   },
   {
    "duration": 0,
    "start_time": "2023-01-13T11:04:57.253Z"
   },
   {
    "duration": 0,
    "start_time": "2023-01-13T11:04:57.254Z"
   },
   {
    "duration": 0,
    "start_time": "2023-01-13T11:04:57.256Z"
   },
   {
    "duration": 1,
    "start_time": "2023-01-13T11:04:57.257Z"
   },
   {
    "duration": 0,
    "start_time": "2023-01-13T11:04:57.259Z"
   },
   {
    "duration": 0,
    "start_time": "2023-01-13T11:04:57.260Z"
   },
   {
    "duration": 0,
    "start_time": "2023-01-13T11:04:57.261Z"
   },
   {
    "duration": 0,
    "start_time": "2023-01-13T11:04:57.315Z"
   },
   {
    "duration": 0,
    "start_time": "2023-01-13T11:04:57.316Z"
   },
   {
    "duration": 0,
    "start_time": "2023-01-13T11:04:57.318Z"
   },
   {
    "duration": 0,
    "start_time": "2023-01-13T11:04:57.319Z"
   },
   {
    "duration": 0,
    "start_time": "2023-01-13T11:04:57.321Z"
   },
   {
    "duration": 0,
    "start_time": "2023-01-13T11:04:57.322Z"
   },
   {
    "duration": 0,
    "start_time": "2023-01-13T11:04:57.323Z"
   },
   {
    "duration": 0,
    "start_time": "2023-01-13T11:04:57.324Z"
   },
   {
    "duration": 0,
    "start_time": "2023-01-13T11:04:57.325Z"
   },
   {
    "duration": 0,
    "start_time": "2023-01-13T11:04:57.327Z"
   },
   {
    "duration": 0,
    "start_time": "2023-01-13T11:04:57.327Z"
   },
   {
    "duration": 1379,
    "start_time": "2023-01-13T11:05:25.704Z"
   },
   {
    "duration": 1568,
    "start_time": "2023-01-13T11:05:27.085Z"
   },
   {
    "duration": 134,
    "start_time": "2023-01-13T11:05:28.655Z"
   },
   {
    "duration": 29,
    "start_time": "2023-01-13T11:05:28.791Z"
   },
   {
    "duration": 97,
    "start_time": "2023-01-13T11:05:28.822Z"
   },
   {
    "duration": 840,
    "start_time": "2023-01-13T11:05:28.921Z"
   },
   {
    "duration": 462,
    "start_time": "2023-01-13T11:05:29.763Z"
   },
   {
    "duration": 4,
    "start_time": "2023-01-13T11:05:30.227Z"
   },
   {
    "duration": 45,
    "start_time": "2023-01-13T11:05:30.233Z"
   },
   {
    "duration": 0,
    "start_time": "2023-01-13T11:05:30.280Z"
   },
   {
    "duration": 0,
    "start_time": "2023-01-13T11:05:30.282Z"
   },
   {
    "duration": 0,
    "start_time": "2023-01-13T11:05:30.283Z"
   },
   {
    "duration": 0,
    "start_time": "2023-01-13T11:05:30.284Z"
   },
   {
    "duration": 0,
    "start_time": "2023-01-13T11:05:30.286Z"
   },
   {
    "duration": 0,
    "start_time": "2023-01-13T11:05:30.287Z"
   },
   {
    "duration": 0,
    "start_time": "2023-01-13T11:05:30.288Z"
   },
   {
    "duration": 0,
    "start_time": "2023-01-13T11:05:30.289Z"
   },
   {
    "duration": 0,
    "start_time": "2023-01-13T11:05:30.291Z"
   },
   {
    "duration": 0,
    "start_time": "2023-01-13T11:05:30.293Z"
   },
   {
    "duration": 0,
    "start_time": "2023-01-13T11:05:30.294Z"
   },
   {
    "duration": 0,
    "start_time": "2023-01-13T11:05:30.295Z"
   },
   {
    "duration": 0,
    "start_time": "2023-01-13T11:05:30.296Z"
   },
   {
    "duration": 0,
    "start_time": "2023-01-13T11:05:30.297Z"
   },
   {
    "duration": 0,
    "start_time": "2023-01-13T11:05:30.299Z"
   },
   {
    "duration": 0,
    "start_time": "2023-01-13T11:05:30.300Z"
   },
   {
    "duration": 0,
    "start_time": "2023-01-13T11:05:30.301Z"
   },
   {
    "duration": 0,
    "start_time": "2023-01-13T11:05:30.302Z"
   },
   {
    "duration": 0,
    "start_time": "2023-01-13T11:05:30.304Z"
   },
   {
    "duration": 0,
    "start_time": "2023-01-13T11:05:30.316Z"
   },
   {
    "duration": 0,
    "start_time": "2023-01-13T11:05:30.317Z"
   },
   {
    "duration": 0,
    "start_time": "2023-01-13T11:05:30.318Z"
   },
   {
    "duration": 0,
    "start_time": "2023-01-13T11:05:30.320Z"
   },
   {
    "duration": 0,
    "start_time": "2023-01-13T11:05:30.321Z"
   },
   {
    "duration": 0,
    "start_time": "2023-01-13T11:05:30.322Z"
   },
   {
    "duration": 0,
    "start_time": "2023-01-13T11:05:30.324Z"
   },
   {
    "duration": 0,
    "start_time": "2023-01-13T11:05:30.325Z"
   },
   {
    "duration": 0,
    "start_time": "2023-01-13T11:05:30.327Z"
   },
   {
    "duration": 0,
    "start_time": "2023-01-13T11:05:30.328Z"
   },
   {
    "duration": 0,
    "start_time": "2023-01-13T11:05:30.329Z"
   },
   {
    "duration": 0,
    "start_time": "2023-01-13T11:05:30.331Z"
   },
   {
    "duration": 1,
    "start_time": "2023-01-13T11:05:30.332Z"
   },
   {
    "duration": 0,
    "start_time": "2023-01-13T11:05:30.334Z"
   },
   {
    "duration": 0,
    "start_time": "2023-01-13T11:05:30.335Z"
   },
   {
    "duration": 0,
    "start_time": "2023-01-13T11:05:30.337Z"
   },
   {
    "duration": 1439,
    "start_time": "2023-01-13T11:05:43.550Z"
   },
   {
    "duration": 1319,
    "start_time": "2023-01-13T11:05:44.991Z"
   },
   {
    "duration": 151,
    "start_time": "2023-01-13T11:05:46.311Z"
   },
   {
    "duration": 23,
    "start_time": "2023-01-13T11:05:46.465Z"
   },
   {
    "duration": 126,
    "start_time": "2023-01-13T11:05:46.490Z"
   },
   {
    "duration": 870,
    "start_time": "2023-01-13T11:05:46.617Z"
   },
   {
    "duration": 455,
    "start_time": "2023-01-13T11:05:47.489Z"
   },
   {
    "duration": 4,
    "start_time": "2023-01-13T11:05:47.945Z"
   },
   {
    "duration": 41,
    "start_time": "2023-01-13T11:05:47.950Z"
   },
   {
    "duration": 106,
    "start_time": "2023-01-13T11:05:47.993Z"
   },
   {
    "duration": 245,
    "start_time": "2023-01-13T11:05:48.101Z"
   },
   {
    "duration": 20,
    "start_time": "2023-01-13T11:05:48.348Z"
   },
   {
    "duration": 4,
    "start_time": "2023-01-13T11:05:48.370Z"
   },
   {
    "duration": 2227,
    "start_time": "2023-01-13T11:05:48.377Z"
   },
   {
    "duration": 3,
    "start_time": "2023-01-13T11:05:50.606Z"
   },
   {
    "duration": 102,
    "start_time": "2023-01-13T11:05:50.615Z"
   },
   {
    "duration": 13,
    "start_time": "2023-01-13T11:05:50.720Z"
   },
   {
    "duration": 4,
    "start_time": "2023-01-13T11:05:50.735Z"
   },
   {
    "duration": 207,
    "start_time": "2023-01-13T11:05:50.740Z"
   },
   {
    "duration": 195,
    "start_time": "2023-01-13T11:05:50.950Z"
   },
   {
    "duration": 187,
    "start_time": "2023-01-13T11:05:51.147Z"
   },
   {
    "duration": 209,
    "start_time": "2023-01-13T11:05:51.336Z"
   },
   {
    "duration": 171,
    "start_time": "2023-01-13T11:05:51.546Z"
   },
   {
    "duration": 12,
    "start_time": "2023-01-13T11:05:51.718Z"
   },
   {
    "duration": 26,
    "start_time": "2023-01-13T11:05:51.732Z"
   },
   {
    "duration": 3,
    "start_time": "2023-01-13T11:05:51.759Z"
   },
   {
    "duration": 22,
    "start_time": "2023-01-13T11:05:51.763Z"
   },
   {
    "duration": 445,
    "start_time": "2023-01-13T11:05:51.788Z"
   },
   {
    "duration": 336,
    "start_time": "2023-01-13T11:05:52.235Z"
   },
   {
    "duration": 45,
    "start_time": "2023-01-13T11:05:52.573Z"
   },
   {
    "duration": 2908,
    "start_time": "2023-01-13T11:05:52.620Z"
   },
   {
    "duration": 209,
    "start_time": "2023-01-13T11:05:55.530Z"
   },
   {
    "duration": 19,
    "start_time": "2023-01-13T11:05:55.740Z"
   },
   {
    "duration": 30,
    "start_time": "2023-01-13T11:05:55.760Z"
   },
   {
    "duration": 205,
    "start_time": "2023-01-13T11:05:55.792Z"
   },
   {
    "duration": 4,
    "start_time": "2023-01-13T11:05:55.998Z"
   },
   {
    "duration": 192,
    "start_time": "2023-01-13T11:05:56.004Z"
   },
   {
    "duration": 334,
    "start_time": "2023-01-13T11:05:56.198Z"
   },
   {
    "duration": 210,
    "start_time": "2023-01-13T11:05:56.534Z"
   },
   {
    "duration": 4,
    "start_time": "2023-01-13T11:05:56.746Z"
   },
   {
    "duration": 51,
    "start_time": "2023-01-13T11:05:56.751Z"
   },
   {
    "duration": 0,
    "start_time": "2023-01-13T11:05:56.804Z"
   },
   {
    "duration": 0,
    "start_time": "2023-01-13T11:05:56.805Z"
   },
   {
    "duration": 1410,
    "start_time": "2023-01-13T11:06:16.708Z"
   },
   {
    "duration": 1256,
    "start_time": "2023-01-13T11:06:18.120Z"
   },
   {
    "duration": 127,
    "start_time": "2023-01-13T11:06:19.378Z"
   },
   {
    "duration": 16,
    "start_time": "2023-01-13T11:06:19.515Z"
   },
   {
    "duration": 102,
    "start_time": "2023-01-13T11:06:19.533Z"
   },
   {
    "duration": 814,
    "start_time": "2023-01-13T11:06:19.637Z"
   },
   {
    "duration": 474,
    "start_time": "2023-01-13T11:06:20.452Z"
   },
   {
    "duration": 3,
    "start_time": "2023-01-13T11:06:20.928Z"
   },
   {
    "duration": 56,
    "start_time": "2023-01-13T11:06:20.933Z"
   },
   {
    "duration": 93,
    "start_time": "2023-01-13T11:06:20.990Z"
   },
   {
    "duration": 252,
    "start_time": "2023-01-13T11:06:21.085Z"
   },
   {
    "duration": 22,
    "start_time": "2023-01-13T11:06:21.339Z"
   },
   {
    "duration": 4,
    "start_time": "2023-01-13T11:06:21.363Z"
   },
   {
    "duration": 2307,
    "start_time": "2023-01-13T11:06:21.370Z"
   },
   {
    "duration": 3,
    "start_time": "2023-01-13T11:06:23.679Z"
   },
   {
    "duration": 110,
    "start_time": "2023-01-13T11:06:23.683Z"
   },
   {
    "duration": 22,
    "start_time": "2023-01-13T11:06:23.795Z"
   },
   {
    "duration": 8,
    "start_time": "2023-01-13T11:06:23.818Z"
   },
   {
    "duration": 201,
    "start_time": "2023-01-13T11:06:23.828Z"
   },
   {
    "duration": 212,
    "start_time": "2023-01-13T11:06:24.031Z"
   },
   {
    "duration": 142,
    "start_time": "2023-01-13T11:06:24.245Z"
   },
   {
    "duration": 218,
    "start_time": "2023-01-13T11:06:24.388Z"
   },
   {
    "duration": 178,
    "start_time": "2023-01-13T11:06:24.608Z"
   },
   {
    "duration": 13,
    "start_time": "2023-01-13T11:06:24.788Z"
   },
   {
    "duration": 27,
    "start_time": "2023-01-13T11:06:24.818Z"
   },
   {
    "duration": 3,
    "start_time": "2023-01-13T11:06:24.847Z"
   },
   {
    "duration": 26,
    "start_time": "2023-01-13T11:06:24.851Z"
   },
   {
    "duration": 432,
    "start_time": "2023-01-13T11:06:24.878Z"
   },
   {
    "duration": 325,
    "start_time": "2023-01-13T11:06:25.315Z"
   },
   {
    "duration": 32,
    "start_time": "2023-01-13T11:06:25.642Z"
   },
   {
    "duration": 2860,
    "start_time": "2023-01-13T11:06:25.675Z"
   },
   {
    "duration": 200,
    "start_time": "2023-01-13T11:06:28.536Z"
   },
   {
    "duration": 20,
    "start_time": "2023-01-13T11:06:28.737Z"
   },
   {
    "duration": 26,
    "start_time": "2023-01-13T11:06:28.758Z"
   },
   {
    "duration": 206,
    "start_time": "2023-01-13T11:06:28.786Z"
   },
   {
    "duration": 4,
    "start_time": "2023-01-13T11:06:28.994Z"
   },
   {
    "duration": 166,
    "start_time": "2023-01-13T11:06:28.999Z"
   },
   {
    "duration": 318,
    "start_time": "2023-01-13T11:06:29.167Z"
   },
   {
    "duration": 187,
    "start_time": "2023-01-13T11:06:29.487Z"
   },
   {
    "duration": 4,
    "start_time": "2023-01-13T11:06:29.676Z"
   },
   {
    "duration": 418,
    "start_time": "2023-01-13T11:06:29.685Z"
   },
   {
    "duration": 4,
    "start_time": "2023-01-13T11:06:30.104Z"
   },
   {
    "duration": 22,
    "start_time": "2023-01-13T11:07:44.953Z"
   },
   {
    "duration": 52,
    "start_time": "2023-01-13T11:08:33.315Z"
   },
   {
    "duration": 61,
    "start_time": "2023-01-13T11:08:49.094Z"
   },
   {
    "duration": 112,
    "start_time": "2023-01-13T11:09:10.503Z"
   },
   {
    "duration": 3,
    "start_time": "2023-01-13T11:09:15.352Z"
   },
   {
    "duration": 181,
    "start_time": "2023-01-13T11:09:16.486Z"
   },
   {
    "duration": 67,
    "start_time": "2023-01-13T11:17:10.603Z"
   },
   {
    "duration": 22,
    "start_time": "2023-01-13T11:17:46.975Z"
   },
   {
    "duration": 56,
    "start_time": "2023-01-13T11:17:54.010Z"
   },
   {
    "duration": 69,
    "start_time": "2023-01-13T11:22:02.517Z"
   },
   {
    "duration": 60,
    "start_time": "2023-01-13T11:22:15.689Z"
   },
   {
    "duration": 47,
    "start_time": "2023-01-13T11:22:40.110Z"
   },
   {
    "duration": 17,
    "start_time": "2023-01-13T11:22:58.080Z"
   },
   {
    "duration": 5,
    "start_time": "2023-01-13T11:23:26.418Z"
   },
   {
    "duration": 54,
    "start_time": "2023-01-13T11:23:30.655Z"
   },
   {
    "duration": 10,
    "start_time": "2023-01-13T11:23:31.242Z"
   },
   {
    "duration": 4,
    "start_time": "2023-01-13T11:23:32.043Z"
   },
   {
    "duration": 13,
    "start_time": "2023-01-13T11:24:20.801Z"
   },
   {
    "duration": 5,
    "start_time": "2023-01-13T11:25:35.500Z"
   },
   {
    "duration": 10,
    "start_time": "2023-01-13T11:25:56.843Z"
   },
   {
    "duration": 14,
    "start_time": "2023-01-13T11:26:46.246Z"
   },
   {
    "duration": 3,
    "start_time": "2023-01-13T11:30:11.869Z"
   },
   {
    "duration": 22,
    "start_time": "2023-01-13T11:30:15.176Z"
   },
   {
    "duration": 1420,
    "start_time": "2023-01-13T11:30:58.716Z"
   },
   {
    "duration": 1442,
    "start_time": "2023-01-13T11:31:00.138Z"
   },
   {
    "duration": 125,
    "start_time": "2023-01-13T11:31:01.582Z"
   },
   {
    "duration": 16,
    "start_time": "2023-01-13T11:31:01.716Z"
   },
   {
    "duration": 140,
    "start_time": "2023-01-13T11:31:01.734Z"
   },
   {
    "duration": 921,
    "start_time": "2023-01-13T11:31:01.876Z"
   },
   {
    "duration": 458,
    "start_time": "2023-01-13T11:31:02.799Z"
   },
   {
    "duration": 4,
    "start_time": "2023-01-13T11:31:03.258Z"
   },
   {
    "duration": 52,
    "start_time": "2023-01-13T11:31:03.264Z"
   },
   {
    "duration": 87,
    "start_time": "2023-01-13T11:31:03.318Z"
   },
   {
    "duration": 247,
    "start_time": "2023-01-13T11:31:03.416Z"
   },
   {
    "duration": 22,
    "start_time": "2023-01-13T11:31:03.665Z"
   },
   {
    "duration": 3,
    "start_time": "2023-01-13T11:31:03.689Z"
   },
   {
    "duration": 2186,
    "start_time": "2023-01-13T11:31:03.694Z"
   },
   {
    "duration": 3,
    "start_time": "2023-01-13T11:31:05.882Z"
   },
   {
    "duration": 104,
    "start_time": "2023-01-13T11:31:05.887Z"
   },
   {
    "duration": 22,
    "start_time": "2023-01-13T11:31:05.993Z"
   },
   {
    "duration": 4,
    "start_time": "2023-01-13T11:31:06.017Z"
   },
   {
    "duration": 219,
    "start_time": "2023-01-13T11:31:06.022Z"
   },
   {
    "duration": 190,
    "start_time": "2023-01-13T11:31:06.243Z"
   },
   {
    "duration": 224,
    "start_time": "2023-01-13T11:31:06.436Z"
   },
   {
    "duration": 212,
    "start_time": "2023-01-13T11:31:06.662Z"
   },
   {
    "duration": 174,
    "start_time": "2023-01-13T11:31:06.876Z"
   },
   {
    "duration": 14,
    "start_time": "2023-01-13T11:31:07.051Z"
   },
   {
    "duration": 52,
    "start_time": "2023-01-13T11:31:07.067Z"
   },
   {
    "duration": 3,
    "start_time": "2023-01-13T11:31:07.121Z"
   },
   {
    "duration": 27,
    "start_time": "2023-01-13T11:31:07.126Z"
   },
   {
    "duration": 419,
    "start_time": "2023-01-13T11:31:07.159Z"
   },
   {
    "duration": 301,
    "start_time": "2023-01-13T11:31:07.580Z"
   },
   {
    "duration": 42,
    "start_time": "2023-01-13T11:31:07.883Z"
   },
   {
    "duration": 3007,
    "start_time": "2023-01-13T11:31:07.927Z"
   },
   {
    "duration": 237,
    "start_time": "2023-01-13T11:31:10.935Z"
   },
   {
    "duration": 19,
    "start_time": "2023-01-13T11:31:11.174Z"
   },
   {
    "duration": 51,
    "start_time": "2023-01-13T11:31:11.195Z"
   },
   {
    "duration": 188,
    "start_time": "2023-01-13T11:31:11.248Z"
   },
   {
    "duration": 4,
    "start_time": "2023-01-13T11:31:11.438Z"
   },
   {
    "duration": 187,
    "start_time": "2023-01-13T11:31:11.446Z"
   },
   {
    "duration": 357,
    "start_time": "2023-01-13T11:31:11.635Z"
   },
   {
    "duration": 220,
    "start_time": "2023-01-13T11:31:11.994Z"
   },
   {
    "duration": 3,
    "start_time": "2023-01-13T11:31:12.216Z"
   },
   {
    "duration": 483,
    "start_time": "2023-01-13T11:31:12.222Z"
   },
   {
    "duration": 4,
    "start_time": "2023-01-13T11:31:12.707Z"
   },
   {
    "duration": 34,
    "start_time": "2023-01-13T11:31:12.716Z"
   },
   {
    "duration": 52,
    "start_time": "2023-01-13T11:31:12.752Z"
   },
   {
    "duration": 10,
    "start_time": "2023-01-13T11:31:12.806Z"
   },
   {
    "duration": 184,
    "start_time": "2023-01-13T11:31:12.818Z"
   },
   {
    "duration": 4,
    "start_time": "2023-01-13T11:31:13.004Z"
   },
   {
    "duration": 107,
    "start_time": "2023-01-13T11:31:13.010Z"
   },
   {
    "duration": 98,
    "start_time": "2023-01-13T11:31:13.120Z"
   },
   {
    "duration": 13,
    "start_time": "2023-01-13T11:31:13.219Z"
   },
   {
    "duration": 274,
    "start_time": "2023-01-13T11:31:13.234Z"
   },
   {
    "duration": 3,
    "start_time": "2023-01-13T11:31:46.097Z"
   },
   {
    "duration": 8,
    "start_time": "2023-01-13T11:31:48.995Z"
   },
   {
    "duration": 5,
    "start_time": "2023-01-13T11:34:19.307Z"
   },
   {
    "duration": 45,
    "start_time": "2023-01-13T11:35:22.075Z"
   },
   {
    "duration": 6,
    "start_time": "2023-01-13T11:35:28.810Z"
   },
   {
    "duration": 1480,
    "start_time": "2023-01-13T11:36:43.434Z"
   },
   {
    "duration": 1120,
    "start_time": "2023-01-13T11:36:44.916Z"
   },
   {
    "duration": 160,
    "start_time": "2023-01-13T11:36:46.038Z"
   },
   {
    "duration": 26,
    "start_time": "2023-01-13T11:36:46.200Z"
   },
   {
    "duration": 139,
    "start_time": "2023-01-13T11:36:46.229Z"
   },
   {
    "duration": 913,
    "start_time": "2023-01-13T11:36:46.369Z"
   },
   {
    "duration": 475,
    "start_time": "2023-01-13T11:36:47.284Z"
   },
   {
    "duration": 4,
    "start_time": "2023-01-13T11:36:47.762Z"
   },
   {
    "duration": 67,
    "start_time": "2023-01-13T11:36:47.769Z"
   },
   {
    "duration": 148,
    "start_time": "2023-01-13T11:36:47.838Z"
   },
   {
    "duration": 281,
    "start_time": "2023-01-13T11:36:47.988Z"
   },
   {
    "duration": 22,
    "start_time": "2023-01-13T11:36:48.271Z"
   },
   {
    "duration": 3,
    "start_time": "2023-01-13T11:36:48.295Z"
   },
   {
    "duration": 2167,
    "start_time": "2023-01-13T11:36:48.315Z"
   },
   {
    "duration": 4,
    "start_time": "2023-01-13T11:36:50.484Z"
   },
   {
    "duration": 145,
    "start_time": "2023-01-13T11:36:50.490Z"
   },
   {
    "duration": 14,
    "start_time": "2023-01-13T11:36:50.636Z"
   },
   {
    "duration": 9,
    "start_time": "2023-01-13T11:36:50.652Z"
   },
   {
    "duration": 217,
    "start_time": "2023-01-13T11:36:50.663Z"
   },
   {
    "duration": 198,
    "start_time": "2023-01-13T11:36:50.882Z"
   },
   {
    "duration": 161,
    "start_time": "2023-01-13T11:36:51.082Z"
   },
   {
    "duration": 225,
    "start_time": "2023-01-13T11:36:51.245Z"
   },
   {
    "duration": 174,
    "start_time": "2023-01-13T11:36:51.471Z"
   },
   {
    "duration": 13,
    "start_time": "2023-01-13T11:36:51.647Z"
   },
   {
    "duration": 31,
    "start_time": "2023-01-13T11:36:51.662Z"
   },
   {
    "duration": 20,
    "start_time": "2023-01-13T11:36:51.695Z"
   },
   {
    "duration": 20,
    "start_time": "2023-01-13T11:36:51.717Z"
   },
   {
    "duration": 449,
    "start_time": "2023-01-13T11:36:51.738Z"
   },
   {
    "duration": 328,
    "start_time": "2023-01-13T11:36:52.188Z"
   },
   {
    "duration": 32,
    "start_time": "2023-01-13T11:36:52.518Z"
   },
   {
    "duration": 2881,
    "start_time": "2023-01-13T11:36:52.551Z"
   },
   {
    "duration": 197,
    "start_time": "2023-01-13T11:36:55.434Z"
   },
   {
    "duration": 19,
    "start_time": "2023-01-13T11:36:55.633Z"
   },
   {
    "duration": 27,
    "start_time": "2023-01-13T11:36:55.653Z"
   },
   {
    "duration": 211,
    "start_time": "2023-01-13T11:36:55.682Z"
   },
   {
    "duration": 5,
    "start_time": "2023-01-13T11:36:55.895Z"
   },
   {
    "duration": 187,
    "start_time": "2023-01-13T11:36:55.901Z"
   },
   {
    "duration": 362,
    "start_time": "2023-01-13T11:36:56.090Z"
   },
   {
    "duration": 216,
    "start_time": "2023-01-13T11:36:56.455Z"
   },
   {
    "duration": 4,
    "start_time": "2023-01-13T11:36:56.672Z"
   },
   {
    "duration": 398,
    "start_time": "2023-01-13T11:36:56.680Z"
   },
   {
    "duration": 4,
    "start_time": "2023-01-13T11:36:57.081Z"
   },
   {
    "duration": 37,
    "start_time": "2023-01-13T11:36:57.087Z"
   },
   {
    "duration": 55,
    "start_time": "2023-01-13T11:36:57.126Z"
   },
   {
    "duration": 3,
    "start_time": "2023-01-13T11:36:57.183Z"
   },
   {
    "duration": 177,
    "start_time": "2023-01-13T11:36:57.188Z"
   },
   {
    "duration": 4,
    "start_time": "2023-01-13T11:36:57.367Z"
   },
   {
    "duration": 71,
    "start_time": "2023-01-13T11:36:57.372Z"
   },
   {
    "duration": 174,
    "start_time": "2023-01-13T11:36:57.444Z"
   },
   {
    "duration": 6,
    "start_time": "2023-01-13T11:36:57.620Z"
   },
   {
    "duration": 88,
    "start_time": "2023-01-13T11:36:57.628Z"
   },
   {
    "duration": 6,
    "start_time": "2023-01-13T11:36:57.718Z"
   },
   {
    "duration": 1588,
    "start_time": "2023-01-13T12:16:09.698Z"
   },
   {
    "duration": 1307,
    "start_time": "2023-01-13T12:16:11.289Z"
   },
   {
    "duration": 128,
    "start_time": "2023-01-13T12:16:12.597Z"
   },
   {
    "duration": 15,
    "start_time": "2023-01-13T12:16:12.727Z"
   },
   {
    "duration": 146,
    "start_time": "2023-01-13T12:16:12.743Z"
   },
   {
    "duration": 804,
    "start_time": "2023-01-13T12:16:12.891Z"
   },
   {
    "duration": 448,
    "start_time": "2023-01-13T12:16:13.696Z"
   },
   {
    "duration": 4,
    "start_time": "2023-01-13T12:16:14.146Z"
   },
   {
    "duration": 46,
    "start_time": "2023-01-13T12:16:14.152Z"
   },
   {
    "duration": 95,
    "start_time": "2023-01-13T12:16:14.201Z"
   },
   {
    "duration": 244,
    "start_time": "2023-01-13T12:16:14.297Z"
   },
   {
    "duration": 20,
    "start_time": "2023-01-13T12:16:14.543Z"
   },
   {
    "duration": 13,
    "start_time": "2023-01-13T12:16:14.564Z"
   },
   {
    "duration": 2231,
    "start_time": "2023-01-13T12:16:14.578Z"
   },
   {
    "duration": 3,
    "start_time": "2023-01-13T12:16:16.810Z"
   },
   {
    "duration": 98,
    "start_time": "2023-01-13T12:16:16.814Z"
   },
   {
    "duration": 12,
    "start_time": "2023-01-13T12:16:16.913Z"
   },
   {
    "duration": 5,
    "start_time": "2023-01-13T12:16:16.926Z"
   },
   {
    "duration": 194,
    "start_time": "2023-01-13T12:16:16.932Z"
   },
   {
    "duration": 174,
    "start_time": "2023-01-13T12:16:17.127Z"
   },
   {
    "duration": 138,
    "start_time": "2023-01-13T12:16:17.303Z"
   },
   {
    "duration": 194,
    "start_time": "2023-01-13T12:16:17.443Z"
   },
   {
    "duration": 165,
    "start_time": "2023-01-13T12:16:17.638Z"
   },
   {
    "duration": 10,
    "start_time": "2023-01-13T12:16:17.805Z"
   },
   {
    "duration": 24,
    "start_time": "2023-01-13T12:16:17.817Z"
   },
   {
    "duration": 3,
    "start_time": "2023-01-13T12:16:17.843Z"
   },
   {
    "duration": 43,
    "start_time": "2023-01-13T12:16:17.847Z"
   },
   {
    "duration": 378,
    "start_time": "2023-01-13T12:16:17.894Z"
   },
   {
    "duration": 283,
    "start_time": "2023-01-13T12:16:18.275Z"
   },
   {
    "duration": 36,
    "start_time": "2023-01-13T12:16:18.560Z"
   },
   {
    "duration": 2869,
    "start_time": "2023-01-13T12:16:18.598Z"
   },
   {
    "duration": 192,
    "start_time": "2023-01-13T12:16:21.469Z"
   },
   {
    "duration": 26,
    "start_time": "2023-01-13T12:16:21.663Z"
   },
   {
    "duration": 24,
    "start_time": "2023-01-13T12:16:21.690Z"
   },
   {
    "duration": 176,
    "start_time": "2023-01-13T12:16:21.716Z"
   },
   {
    "duration": 4,
    "start_time": "2023-01-13T12:16:21.893Z"
   },
   {
    "duration": 165,
    "start_time": "2023-01-13T12:16:21.899Z"
   },
   {
    "duration": 304,
    "start_time": "2023-01-13T12:16:22.065Z"
   },
   {
    "duration": 169,
    "start_time": "2023-01-13T12:16:22.371Z"
   },
   {
    "duration": 4,
    "start_time": "2023-01-13T12:16:22.541Z"
   },
   {
    "duration": 390,
    "start_time": "2023-01-13T12:16:22.546Z"
   },
   {
    "duration": 4,
    "start_time": "2023-01-13T12:16:22.938Z"
   },
   {
    "duration": 33,
    "start_time": "2023-01-13T12:16:22.943Z"
   },
   {
    "duration": 51,
    "start_time": "2023-01-13T12:16:22.978Z"
   },
   {
    "duration": 4,
    "start_time": "2023-01-13T12:16:23.030Z"
   },
   {
    "duration": 198,
    "start_time": "2023-01-13T12:16:23.035Z"
   },
   {
    "duration": 2,
    "start_time": "2023-01-13T12:16:23.235Z"
   },
   {
    "duration": 79,
    "start_time": "2023-01-13T12:16:23.239Z"
   },
   {
    "duration": 102,
    "start_time": "2023-01-13T12:16:23.376Z"
   },
   {
    "duration": 101,
    "start_time": "2023-01-13T12:16:23.481Z"
   },
   {
    "duration": 6,
    "start_time": "2023-01-13T12:16:23.584Z"
   },
   {
    "duration": 53,
    "start_time": "2023-01-13T12:16:23.592Z"
   },
   {
    "duration": 0,
    "start_time": "2023-01-13T12:16:23.646Z"
   },
   {
    "duration": 0,
    "start_time": "2023-01-13T12:16:23.647Z"
   },
   {
    "duration": 5,
    "start_time": "2023-01-13T12:17:40.617Z"
   },
   {
    "duration": 206110,
    "start_time": "2023-01-13T12:17:45.173Z"
   },
   {
    "duration": 33854,
    "start_time": "2023-01-13T12:21:58.643Z"
   },
   {
    "duration": 57,
    "start_time": "2023-01-13T12:29:10.398Z"
   },
   {
    "duration": 4,
    "start_time": "2023-01-13T12:35:10.857Z"
   },
   {
    "duration": 1562,
    "start_time": "2023-01-13T12:36:09.694Z"
   },
   {
    "duration": 1135,
    "start_time": "2023-01-13T12:36:11.258Z"
   },
   {
    "duration": 130,
    "start_time": "2023-01-13T12:36:12.395Z"
   },
   {
    "duration": 14,
    "start_time": "2023-01-13T12:36:12.527Z"
   },
   {
    "duration": 153,
    "start_time": "2023-01-13T12:36:12.543Z"
   },
   {
    "duration": 853,
    "start_time": "2023-01-13T12:36:12.697Z"
   },
   {
    "duration": 475,
    "start_time": "2023-01-13T12:36:13.552Z"
   },
   {
    "duration": 3,
    "start_time": "2023-01-13T12:36:14.029Z"
   },
   {
    "duration": 59,
    "start_time": "2023-01-13T12:36:14.034Z"
   },
   {
    "duration": 95,
    "start_time": "2023-01-13T12:36:14.096Z"
   },
   {
    "duration": 258,
    "start_time": "2023-01-13T12:36:14.192Z"
   },
   {
    "duration": 43,
    "start_time": "2023-01-13T12:36:14.452Z"
   },
   {
    "duration": 5,
    "start_time": "2023-01-13T12:36:14.498Z"
   },
   {
    "duration": 2405,
    "start_time": "2023-01-13T12:36:14.504Z"
   },
   {
    "duration": 3,
    "start_time": "2023-01-13T12:36:16.910Z"
   },
   {
    "duration": 116,
    "start_time": "2023-01-13T12:36:16.915Z"
   },
   {
    "duration": 13,
    "start_time": "2023-01-13T12:36:17.033Z"
   },
   {
    "duration": 17,
    "start_time": "2023-01-13T12:36:17.047Z"
   },
   {
    "duration": 241,
    "start_time": "2023-01-13T12:36:17.065Z"
   },
   {
    "duration": 190,
    "start_time": "2023-01-13T12:36:17.308Z"
   },
   {
    "duration": 149,
    "start_time": "2023-01-13T12:36:17.500Z"
   },
   {
    "duration": 208,
    "start_time": "2023-01-13T12:36:17.650Z"
   },
   {
    "duration": 192,
    "start_time": "2023-01-13T12:36:17.860Z"
   },
   {
    "duration": 11,
    "start_time": "2023-01-13T12:36:18.054Z"
   },
   {
    "duration": 35,
    "start_time": "2023-01-13T12:36:18.067Z"
   },
   {
    "duration": 6,
    "start_time": "2023-01-13T12:36:18.104Z"
   },
   {
    "duration": 38,
    "start_time": "2023-01-13T12:36:18.111Z"
   },
   {
    "duration": 426,
    "start_time": "2023-01-13T12:36:18.153Z"
   },
   {
    "duration": 317,
    "start_time": "2023-01-13T12:36:18.589Z"
   },
   {
    "duration": 33,
    "start_time": "2023-01-13T12:36:18.908Z"
   },
   {
    "duration": 3155,
    "start_time": "2023-01-13T12:36:18.943Z"
   },
   {
    "duration": 219,
    "start_time": "2023-01-13T12:36:22.100Z"
   },
   {
    "duration": 20,
    "start_time": "2023-01-13T12:36:22.321Z"
   },
   {
    "duration": 48,
    "start_time": "2023-01-13T12:36:22.342Z"
   },
   {
    "duration": 204,
    "start_time": "2023-01-13T12:36:22.392Z"
   },
   {
    "duration": 5,
    "start_time": "2023-01-13T12:36:22.597Z"
   },
   {
    "duration": 196,
    "start_time": "2023-01-13T12:36:22.603Z"
   },
   {
    "duration": 336,
    "start_time": "2023-01-13T12:36:22.801Z"
   },
   {
    "duration": 175,
    "start_time": "2023-01-13T12:36:23.139Z"
   },
   {
    "duration": 3,
    "start_time": "2023-01-13T12:36:23.315Z"
   },
   {
    "duration": 450,
    "start_time": "2023-01-13T12:36:23.320Z"
   },
   {
    "duration": 16,
    "start_time": "2023-01-13T12:36:23.772Z"
   },
   {
    "duration": 31,
    "start_time": "2023-01-13T12:36:23.790Z"
   },
   {
    "duration": 50,
    "start_time": "2023-01-13T12:36:23.823Z"
   },
   {
    "duration": 13,
    "start_time": "2023-01-13T12:36:23.875Z"
   },
   {
    "duration": 199,
    "start_time": "2023-01-13T12:36:23.891Z"
   },
   {
    "duration": 3,
    "start_time": "2023-01-13T12:36:24.091Z"
   },
   {
    "duration": 93,
    "start_time": "2023-01-13T12:36:24.098Z"
   },
   {
    "duration": 81,
    "start_time": "2023-01-13T12:36:24.195Z"
   },
   {
    "duration": 105,
    "start_time": "2023-01-13T12:36:24.285Z"
   },
   {
    "duration": 21,
    "start_time": "2023-01-13T12:36:24.392Z"
   },
   {
    "duration": 1547,
    "start_time": "2023-01-13T12:40:19.174Z"
   },
   {
    "duration": 1192,
    "start_time": "2023-01-13T12:40:20.723Z"
   },
   {
    "duration": 162,
    "start_time": "2023-01-13T12:40:21.917Z"
   },
   {
    "duration": 24,
    "start_time": "2023-01-13T12:40:22.082Z"
   },
   {
    "duration": 104,
    "start_time": "2023-01-13T12:40:22.108Z"
   },
   {
    "duration": 932,
    "start_time": "2023-01-13T12:40:22.213Z"
   },
   {
    "duration": 482,
    "start_time": "2023-01-13T12:40:23.147Z"
   },
   {
    "duration": 4,
    "start_time": "2023-01-13T12:40:23.631Z"
   },
   {
    "duration": 65,
    "start_time": "2023-01-13T12:40:23.637Z"
   },
   {
    "duration": 121,
    "start_time": "2023-01-13T12:40:23.705Z"
   },
   {
    "duration": 277,
    "start_time": "2023-01-13T12:40:23.828Z"
   },
   {
    "duration": 21,
    "start_time": "2023-01-13T12:40:24.107Z"
   },
   {
    "duration": 3,
    "start_time": "2023-01-13T12:40:24.130Z"
   },
   {
    "duration": 2448,
    "start_time": "2023-01-13T12:40:24.134Z"
   },
   {
    "duration": 4,
    "start_time": "2023-01-13T12:40:26.587Z"
   },
   {
    "duration": 105,
    "start_time": "2023-01-13T12:40:26.592Z"
   },
   {
    "duration": 13,
    "start_time": "2023-01-13T12:40:26.699Z"
   },
   {
    "duration": 4,
    "start_time": "2023-01-13T12:40:26.713Z"
   },
   {
    "duration": 215,
    "start_time": "2023-01-13T12:40:26.719Z"
   },
   {
    "duration": 193,
    "start_time": "2023-01-13T12:40:26.936Z"
   },
   {
    "duration": 165,
    "start_time": "2023-01-13T12:40:27.130Z"
   },
   {
    "duration": 216,
    "start_time": "2023-01-13T12:40:27.296Z"
   },
   {
    "duration": 189,
    "start_time": "2023-01-13T12:40:27.514Z"
   },
   {
    "duration": 12,
    "start_time": "2023-01-13T12:40:27.705Z"
   },
   {
    "duration": 27,
    "start_time": "2023-01-13T12:40:27.719Z"
   },
   {
    "duration": 2,
    "start_time": "2023-01-13T12:40:27.748Z"
   },
   {
    "duration": 46,
    "start_time": "2023-01-13T12:40:27.752Z"
   },
   {
    "duration": 420,
    "start_time": "2023-01-13T12:40:27.802Z"
   },
   {
    "duration": 339,
    "start_time": "2023-01-13T12:40:28.224Z"
   },
   {
    "duration": 44,
    "start_time": "2023-01-13T12:40:28.564Z"
   },
   {
    "duration": 3129,
    "start_time": "2023-01-13T12:40:28.609Z"
   },
   {
    "duration": 226,
    "start_time": "2023-01-13T12:40:31.740Z"
   },
   {
    "duration": 33,
    "start_time": "2023-01-13T12:40:31.967Z"
   },
   {
    "duration": 28,
    "start_time": "2023-01-13T12:40:32.001Z"
   },
   {
    "duration": 217,
    "start_time": "2023-01-13T12:40:32.030Z"
   },
   {
    "duration": 4,
    "start_time": "2023-01-13T12:40:32.249Z"
   },
   {
    "duration": 184,
    "start_time": "2023-01-13T12:40:32.254Z"
   },
   {
    "duration": 346,
    "start_time": "2023-01-13T12:40:32.440Z"
   },
   {
    "duration": 201,
    "start_time": "2023-01-13T12:40:32.788Z"
   },
   {
    "duration": 4,
    "start_time": "2023-01-13T12:40:32.991Z"
   },
   {
    "duration": 444,
    "start_time": "2023-01-13T12:40:32.996Z"
   },
   {
    "duration": 4,
    "start_time": "2023-01-13T12:40:33.442Z"
   },
   {
    "duration": 43,
    "start_time": "2023-01-13T12:40:33.447Z"
   },
   {
    "duration": 54,
    "start_time": "2023-01-13T12:40:33.491Z"
   },
   {
    "duration": 4,
    "start_time": "2023-01-13T12:40:33.546Z"
   },
   {
    "duration": 191,
    "start_time": "2023-01-13T12:40:33.551Z"
   },
   {
    "duration": 3,
    "start_time": "2023-01-13T12:40:33.744Z"
   },
   {
    "duration": 77,
    "start_time": "2023-01-13T12:40:33.748Z"
   },
   {
    "duration": 149,
    "start_time": "2023-01-13T12:40:33.827Z"
   },
   {
    "duration": 111,
    "start_time": "2023-01-13T12:40:33.985Z"
   },
   {
    "duration": 24,
    "start_time": "2023-01-13T12:40:34.097Z"
   },
   {
    "duration": 1467,
    "start_time": "2023-01-13T13:03:30.963Z"
   },
   {
    "duration": 1260,
    "start_time": "2023-01-13T13:03:32.431Z"
   },
   {
    "duration": 148,
    "start_time": "2023-01-13T13:03:33.693Z"
   },
   {
    "duration": 17,
    "start_time": "2023-01-13T13:03:33.843Z"
   },
   {
    "duration": 105,
    "start_time": "2023-01-13T13:03:33.862Z"
   },
   {
    "duration": 927,
    "start_time": "2023-01-13T13:03:33.968Z"
   },
   {
    "duration": 547,
    "start_time": "2023-01-13T13:03:34.897Z"
   },
   {
    "duration": 4,
    "start_time": "2023-01-13T13:03:35.445Z"
   },
   {
    "duration": 50,
    "start_time": "2023-01-13T13:03:35.451Z"
   },
   {
    "duration": 147,
    "start_time": "2023-01-13T13:03:35.505Z"
   },
   {
    "duration": 258,
    "start_time": "2023-01-13T13:03:35.654Z"
   },
   {
    "duration": 20,
    "start_time": "2023-01-13T13:03:35.914Z"
   },
   {
    "duration": 3,
    "start_time": "2023-01-13T13:03:35.936Z"
   },
   {
    "duration": 2458,
    "start_time": "2023-01-13T13:03:35.940Z"
   },
   {
    "duration": 3,
    "start_time": "2023-01-13T13:03:38.400Z"
   },
   {
    "duration": 136,
    "start_time": "2023-01-13T13:03:38.405Z"
   },
   {
    "duration": 14,
    "start_time": "2023-01-13T13:03:38.543Z"
   },
   {
    "duration": 24,
    "start_time": "2023-01-13T13:03:38.558Z"
   },
   {
    "duration": 259,
    "start_time": "2023-01-13T13:03:38.585Z"
   },
   {
    "duration": 200,
    "start_time": "2023-01-13T13:03:38.846Z"
   },
   {
    "duration": 163,
    "start_time": "2023-01-13T13:03:39.048Z"
   },
   {
    "duration": 227,
    "start_time": "2023-01-13T13:03:39.213Z"
   },
   {
    "duration": 180,
    "start_time": "2023-01-13T13:03:39.441Z"
   },
   {
    "duration": 12,
    "start_time": "2023-01-13T13:03:39.623Z"
   },
   {
    "duration": 51,
    "start_time": "2023-01-13T13:03:39.636Z"
   },
   {
    "duration": 5,
    "start_time": "2023-01-13T13:03:39.691Z"
   },
   {
    "duration": 38,
    "start_time": "2023-01-13T13:03:39.697Z"
   },
   {
    "duration": 401,
    "start_time": "2023-01-13T13:03:39.738Z"
   },
   {
    "duration": 305,
    "start_time": "2023-01-13T13:03:40.141Z"
   },
   {
    "duration": 45,
    "start_time": "2023-01-13T13:03:40.447Z"
   },
   {
    "duration": 3168,
    "start_time": "2023-01-13T13:03:40.495Z"
   },
   {
    "duration": 233,
    "start_time": "2023-01-13T13:03:43.664Z"
   },
   {
    "duration": 23,
    "start_time": "2023-01-13T13:03:43.899Z"
   },
   {
    "duration": 27,
    "start_time": "2023-01-13T13:03:43.924Z"
   },
   {
    "duration": 240,
    "start_time": "2023-01-13T13:03:43.953Z"
   },
   {
    "duration": 6,
    "start_time": "2023-01-13T13:03:44.196Z"
   },
   {
    "duration": 199,
    "start_time": "2023-01-13T13:03:44.203Z"
   },
   {
    "duration": 360,
    "start_time": "2023-01-13T13:03:44.403Z"
   },
   {
    "duration": 257,
    "start_time": "2023-01-13T13:03:44.765Z"
   },
   {
    "duration": 5,
    "start_time": "2023-01-13T13:03:45.025Z"
   },
   {
    "duration": 578,
    "start_time": "2023-01-13T13:03:45.033Z"
   },
   {
    "duration": 6,
    "start_time": "2023-01-13T13:03:45.613Z"
   },
   {
    "duration": 30,
    "start_time": "2023-01-13T13:03:45.620Z"
   },
   {
    "duration": 81,
    "start_time": "2023-01-13T13:03:45.654Z"
   },
   {
    "duration": 5,
    "start_time": "2023-01-13T13:03:45.737Z"
   },
   {
    "duration": 259,
    "start_time": "2023-01-13T13:03:45.745Z"
   },
   {
    "duration": 5,
    "start_time": "2023-01-13T13:03:46.006Z"
   },
   {
    "duration": 86,
    "start_time": "2023-01-13T13:03:46.013Z"
   },
   {
    "duration": 179,
    "start_time": "2023-01-13T13:03:46.101Z"
   },
   {
    "duration": 133,
    "start_time": "2023-01-13T13:03:46.282Z"
   },
   {
    "duration": 0,
    "start_time": "2023-01-13T13:03:46.417Z"
   },
   {
    "duration": 0,
    "start_time": "2023-01-13T13:03:46.418Z"
   },
   {
    "duration": 0,
    "start_time": "2023-01-13T13:03:46.419Z"
   },
   {
    "duration": 0,
    "start_time": "2023-01-13T13:03:46.419Z"
   },
   {
    "duration": 0,
    "start_time": "2023-01-13T13:03:46.420Z"
   },
   {
    "duration": 0,
    "start_time": "2023-01-13T13:03:46.421Z"
   },
   {
    "duration": 2,
    "start_time": "2023-01-13T13:04:47.843Z"
   },
   {
    "duration": 3,
    "start_time": "2023-01-13T13:04:48.613Z"
   },
   {
    "duration": 74,
    "start_time": "2023-01-13T13:05:05.340Z"
   },
   {
    "duration": 55,
    "start_time": "2023-01-13T13:05:26.352Z"
   },
   {
    "duration": 74,
    "start_time": "2023-01-13T13:05:46.684Z"
   },
   {
    "duration": 4,
    "start_time": "2023-01-13T13:06:28.481Z"
   },
   {
    "duration": 85,
    "start_time": "2023-01-13T13:06:29.189Z"
   },
   {
    "duration": 1504,
    "start_time": "2023-01-13T13:08:14.122Z"
   },
   {
    "duration": 1537,
    "start_time": "2023-01-13T13:08:15.628Z"
   },
   {
    "duration": 137,
    "start_time": "2023-01-13T13:08:17.167Z"
   },
   {
    "duration": 16,
    "start_time": "2023-01-13T13:08:17.305Z"
   },
   {
    "duration": 108,
    "start_time": "2023-01-13T13:08:17.323Z"
   },
   {
    "duration": 766,
    "start_time": "2023-01-13T13:08:17.433Z"
   },
   {
    "duration": 412,
    "start_time": "2023-01-13T13:08:18.201Z"
   },
   {
    "duration": 3,
    "start_time": "2023-01-13T13:08:18.615Z"
   },
   {
    "duration": 53,
    "start_time": "2023-01-13T13:08:18.620Z"
   },
   {
    "duration": 87,
    "start_time": "2023-01-13T13:08:18.674Z"
   },
   {
    "duration": 241,
    "start_time": "2023-01-13T13:08:18.763Z"
   },
   {
    "duration": 20,
    "start_time": "2023-01-13T13:08:19.006Z"
   },
   {
    "duration": 3,
    "start_time": "2023-01-13T13:08:19.028Z"
   },
   {
    "duration": 2166,
    "start_time": "2023-01-13T13:08:19.035Z"
   },
   {
    "duration": 3,
    "start_time": "2023-01-13T13:08:21.203Z"
   },
   {
    "duration": 126,
    "start_time": "2023-01-13T13:08:21.207Z"
   },
   {
    "duration": 13,
    "start_time": "2023-01-13T13:08:21.336Z"
   },
   {
    "duration": 4,
    "start_time": "2023-01-13T13:08:21.350Z"
   },
   {
    "duration": 189,
    "start_time": "2023-01-13T13:08:21.356Z"
   },
   {
    "duration": 172,
    "start_time": "2023-01-13T13:08:21.547Z"
   },
   {
    "duration": 140,
    "start_time": "2023-01-13T13:08:21.721Z"
   },
   {
    "duration": 183,
    "start_time": "2023-01-13T13:08:21.863Z"
   },
   {
    "duration": 161,
    "start_time": "2023-01-13T13:08:22.048Z"
   },
   {
    "duration": 12,
    "start_time": "2023-01-13T13:08:22.210Z"
   },
   {
    "duration": 27,
    "start_time": "2023-01-13T13:08:22.223Z"
   },
   {
    "duration": 2,
    "start_time": "2023-01-13T13:08:22.252Z"
   },
   {
    "duration": 37,
    "start_time": "2023-01-13T13:08:22.256Z"
   },
   {
    "duration": 383,
    "start_time": "2023-01-13T13:08:22.295Z"
   },
   {
    "duration": 315,
    "start_time": "2023-01-13T13:08:22.679Z"
   },
   {
    "duration": 29,
    "start_time": "2023-01-13T13:08:22.996Z"
   },
   {
    "duration": 2902,
    "start_time": "2023-01-13T13:08:23.027Z"
   },
   {
    "duration": 194,
    "start_time": "2023-01-13T13:08:25.931Z"
   },
   {
    "duration": 18,
    "start_time": "2023-01-13T13:08:26.127Z"
   },
   {
    "duration": 38,
    "start_time": "2023-01-13T13:08:26.146Z"
   },
   {
    "duration": 181,
    "start_time": "2023-01-13T13:08:26.186Z"
   },
   {
    "duration": 7,
    "start_time": "2023-01-13T13:08:26.369Z"
   },
   {
    "duration": 159,
    "start_time": "2023-01-13T13:08:26.377Z"
   },
   {
    "duration": 285,
    "start_time": "2023-01-13T13:08:26.538Z"
   },
   {
    "duration": 183,
    "start_time": "2023-01-13T13:08:26.824Z"
   },
   {
    "duration": 4,
    "start_time": "2023-01-13T13:08:27.009Z"
   },
   {
    "duration": 399,
    "start_time": "2023-01-13T13:08:27.016Z"
   },
   {
    "duration": 4,
    "start_time": "2023-01-13T13:08:27.417Z"
   },
   {
    "duration": 26,
    "start_time": "2023-01-13T13:08:27.422Z"
   },
   {
    "duration": 64,
    "start_time": "2023-01-13T13:08:27.450Z"
   },
   {
    "duration": 4,
    "start_time": "2023-01-13T13:08:27.516Z"
   },
   {
    "duration": 191,
    "start_time": "2023-01-13T13:08:27.522Z"
   },
   {
    "duration": 3,
    "start_time": "2023-01-13T13:08:27.715Z"
   },
   {
    "duration": 7,
    "start_time": "2023-01-13T13:08:27.720Z"
   },
   {
    "duration": 7,
    "start_time": "2023-01-13T13:08:27.729Z"
   },
   {
    "duration": 7,
    "start_time": "2023-01-13T13:08:27.738Z"
   },
   {
    "duration": 6,
    "start_time": "2023-01-13T13:08:27.747Z"
   },
   {
    "duration": 158,
    "start_time": "2023-01-13T13:08:27.754Z"
   },
   {
    "duration": 3,
    "start_time": "2023-01-13T13:08:27.914Z"
   },
   {
    "duration": 1468,
    "start_time": "2023-01-13T13:09:01.213Z"
   },
   {
    "duration": 1312,
    "start_time": "2023-01-13T13:09:02.682Z"
   },
   {
    "duration": 144,
    "start_time": "2023-01-13T13:09:03.996Z"
   },
   {
    "duration": 16,
    "start_time": "2023-01-13T13:09:04.142Z"
   },
   {
    "duration": 103,
    "start_time": "2023-01-13T13:09:04.160Z"
   },
   {
    "duration": 946,
    "start_time": "2023-01-13T13:09:04.265Z"
   },
   {
    "duration": 482,
    "start_time": "2023-01-13T13:09:05.212Z"
   },
   {
    "duration": 4,
    "start_time": "2023-01-13T13:09:05.696Z"
   },
   {
    "duration": 43,
    "start_time": "2023-01-13T13:09:05.701Z"
   },
   {
    "duration": 117,
    "start_time": "2023-01-13T13:09:05.746Z"
   },
   {
    "duration": 271,
    "start_time": "2023-01-13T13:09:05.864Z"
   },
   {
    "duration": 24,
    "start_time": "2023-01-13T13:09:06.137Z"
   },
   {
    "duration": 16,
    "start_time": "2023-01-13T13:09:06.162Z"
   },
   {
    "duration": 2253,
    "start_time": "2023-01-13T13:09:06.181Z"
   },
   {
    "duration": 3,
    "start_time": "2023-01-13T13:09:08.436Z"
   },
   {
    "duration": 108,
    "start_time": "2023-01-13T13:09:08.440Z"
   },
   {
    "duration": 13,
    "start_time": "2023-01-13T13:09:08.550Z"
   },
   {
    "duration": 3,
    "start_time": "2023-01-13T13:09:08.576Z"
   },
   {
    "duration": 196,
    "start_time": "2023-01-13T13:09:08.581Z"
   },
   {
    "duration": 186,
    "start_time": "2023-01-13T13:09:08.780Z"
   },
   {
    "duration": 145,
    "start_time": "2023-01-13T13:09:08.968Z"
   },
   {
    "duration": 218,
    "start_time": "2023-01-13T13:09:09.115Z"
   },
   {
    "duration": 181,
    "start_time": "2023-01-13T13:09:09.335Z"
   },
   {
    "duration": 16,
    "start_time": "2023-01-13T13:09:09.517Z"
   },
   {
    "duration": 44,
    "start_time": "2023-01-13T13:09:09.535Z"
   },
   {
    "duration": 3,
    "start_time": "2023-01-13T13:09:09.580Z"
   },
   {
    "duration": 26,
    "start_time": "2023-01-13T13:09:09.585Z"
   },
   {
    "duration": 405,
    "start_time": "2023-01-13T13:09:09.612Z"
   },
   {
    "duration": 305,
    "start_time": "2023-01-13T13:09:10.018Z"
   },
   {
    "duration": 31,
    "start_time": "2023-01-13T13:09:10.324Z"
   },
   {
    "duration": 2943,
    "start_time": "2023-01-13T13:09:10.357Z"
   },
   {
    "duration": 225,
    "start_time": "2023-01-13T13:09:13.302Z"
   },
   {
    "duration": 25,
    "start_time": "2023-01-13T13:09:13.528Z"
   },
   {
    "duration": 43,
    "start_time": "2023-01-13T13:09:13.555Z"
   },
   {
    "duration": 208,
    "start_time": "2023-01-13T13:09:13.600Z"
   },
   {
    "duration": 4,
    "start_time": "2023-01-13T13:09:13.810Z"
   },
   {
    "duration": 188,
    "start_time": "2023-01-13T13:09:13.815Z"
   },
   {
    "duration": 333,
    "start_time": "2023-01-13T13:09:14.004Z"
   },
   {
    "duration": 211,
    "start_time": "2023-01-13T13:09:14.339Z"
   },
   {
    "duration": 4,
    "start_time": "2023-01-13T13:09:14.552Z"
   },
   {
    "duration": 427,
    "start_time": "2023-01-13T13:09:14.560Z"
   },
   {
    "duration": 4,
    "start_time": "2023-01-13T13:09:14.989Z"
   },
   {
    "duration": 44,
    "start_time": "2023-01-13T13:09:14.995Z"
   },
   {
    "duration": 69,
    "start_time": "2023-01-13T13:09:15.041Z"
   },
   {
    "duration": 5,
    "start_time": "2023-01-13T13:09:15.112Z"
   },
   {
    "duration": 223,
    "start_time": "2023-01-13T13:09:15.118Z"
   },
   {
    "duration": 4,
    "start_time": "2023-01-13T13:09:15.343Z"
   },
   {
    "duration": 26,
    "start_time": "2023-01-13T13:09:15.349Z"
   },
   {
    "duration": 29,
    "start_time": "2023-01-13T13:09:15.377Z"
   },
   {
    "duration": 18,
    "start_time": "2023-01-13T13:09:15.408Z"
   },
   {
    "duration": 23,
    "start_time": "2023-01-13T13:09:15.428Z"
   },
   {
    "duration": 219,
    "start_time": "2023-01-13T13:09:15.453Z"
   },
   {
    "duration": 6,
    "start_time": "2023-01-13T13:09:15.674Z"
   },
   {
    "duration": 1400,
    "start_time": "2023-01-13T13:10:21.184Z"
   },
   {
    "duration": 1083,
    "start_time": "2023-01-13T13:10:22.586Z"
   },
   {
    "duration": 130,
    "start_time": "2023-01-13T13:10:23.672Z"
   },
   {
    "duration": 22,
    "start_time": "2023-01-13T13:10:23.804Z"
   },
   {
    "duration": 134,
    "start_time": "2023-01-13T13:10:23.828Z"
   },
   {
    "duration": 761,
    "start_time": "2023-01-13T13:10:23.964Z"
   },
   {
    "duration": 467,
    "start_time": "2023-01-13T13:10:24.727Z"
   },
   {
    "duration": 3,
    "start_time": "2023-01-13T13:10:25.196Z"
   },
   {
    "duration": 43,
    "start_time": "2023-01-13T13:10:25.201Z"
   },
   {
    "duration": 113,
    "start_time": "2023-01-13T13:10:25.246Z"
   },
   {
    "duration": 255,
    "start_time": "2023-01-13T13:10:25.361Z"
   },
   {
    "duration": 24,
    "start_time": "2023-01-13T13:10:25.617Z"
   },
   {
    "duration": 4,
    "start_time": "2023-01-13T13:10:25.643Z"
   },
   {
    "duration": 2201,
    "start_time": "2023-01-13T13:10:25.651Z"
   },
   {
    "duration": 3,
    "start_time": "2023-01-13T13:10:27.854Z"
   },
   {
    "duration": 101,
    "start_time": "2023-01-13T13:10:27.858Z"
   },
   {
    "duration": 17,
    "start_time": "2023-01-13T13:10:27.960Z"
   },
   {
    "duration": 6,
    "start_time": "2023-01-13T13:10:27.978Z"
   },
   {
    "duration": 198,
    "start_time": "2023-01-13T13:10:27.985Z"
   },
   {
    "duration": 191,
    "start_time": "2023-01-13T13:10:28.185Z"
   },
   {
    "duration": 151,
    "start_time": "2023-01-13T13:10:28.378Z"
   },
   {
    "duration": 235,
    "start_time": "2023-01-13T13:10:28.531Z"
   },
   {
    "duration": 171,
    "start_time": "2023-01-13T13:10:28.767Z"
   },
   {
    "duration": 12,
    "start_time": "2023-01-13T13:10:28.940Z"
   },
   {
    "duration": 38,
    "start_time": "2023-01-13T13:10:28.953Z"
   },
   {
    "duration": 2,
    "start_time": "2023-01-13T13:10:28.993Z"
   },
   {
    "duration": 26,
    "start_time": "2023-01-13T13:10:28.997Z"
   },
   {
    "duration": 385,
    "start_time": "2023-01-13T13:10:29.025Z"
   },
   {
    "duration": 297,
    "start_time": "2023-01-13T13:10:29.412Z"
   },
   {
    "duration": 31,
    "start_time": "2023-01-13T13:10:29.710Z"
   },
   {
    "duration": 2768,
    "start_time": "2023-01-13T13:10:29.743Z"
   },
   {
    "duration": 204,
    "start_time": "2023-01-13T13:10:32.513Z"
   },
   {
    "duration": 20,
    "start_time": "2023-01-13T13:10:32.719Z"
   },
   {
    "duration": 53,
    "start_time": "2023-01-13T13:10:32.741Z"
   },
   {
    "duration": 180,
    "start_time": "2023-01-13T13:10:32.796Z"
   },
   {
    "duration": 4,
    "start_time": "2023-01-13T13:10:32.978Z"
   },
   {
    "duration": 170,
    "start_time": "2023-01-13T13:10:32.983Z"
   },
   {
    "duration": 293,
    "start_time": "2023-01-13T13:10:33.154Z"
   },
   {
    "duration": 192,
    "start_time": "2023-01-13T13:10:33.448Z"
   },
   {
    "duration": 3,
    "start_time": "2023-01-13T13:10:33.642Z"
   },
   {
    "duration": 436,
    "start_time": "2023-01-13T13:10:33.648Z"
   },
   {
    "duration": 4,
    "start_time": "2023-01-13T13:10:34.085Z"
   },
   {
    "duration": 26,
    "start_time": "2023-01-13T13:10:34.090Z"
   },
   {
    "duration": 63,
    "start_time": "2023-01-13T13:10:34.118Z"
   },
   {
    "duration": 4,
    "start_time": "2023-01-13T13:10:34.182Z"
   },
   {
    "duration": 163,
    "start_time": "2023-01-13T13:10:34.187Z"
   },
   {
    "duration": 2,
    "start_time": "2023-01-13T13:10:34.352Z"
   },
   {
    "duration": 11,
    "start_time": "2023-01-13T13:10:34.356Z"
   },
   {
    "duration": 7,
    "start_time": "2023-01-13T13:10:34.368Z"
   },
   {
    "duration": 3,
    "start_time": "2023-01-13T13:10:34.377Z"
   },
   {
    "duration": 66,
    "start_time": "2023-01-13T13:10:34.382Z"
   },
   {
    "duration": 0,
    "start_time": "2023-01-13T13:10:34.449Z"
   },
   {
    "duration": 0,
    "start_time": "2023-01-13T13:10:34.451Z"
   },
   {
    "duration": 0,
    "start_time": "2023-01-13T13:10:34.452Z"
   },
   {
    "duration": 0,
    "start_time": "2023-01-13T13:10:34.453Z"
   },
   {
    "duration": 0,
    "start_time": "2023-01-13T13:10:34.454Z"
   },
   {
    "duration": 0,
    "start_time": "2023-01-13T13:10:34.455Z"
   },
   {
    "duration": 4,
    "start_time": "2023-01-13T13:10:56.711Z"
   },
   {
    "duration": 1113,
    "start_time": "2023-01-13T13:11:02.398Z"
   },
   {
    "duration": 4,
    "start_time": "2023-01-13T13:13:06.418Z"
   },
   {
    "duration": 1044,
    "start_time": "2023-01-13T13:13:07.470Z"
   },
   {
    "duration": 174,
    "start_time": "2023-01-13T13:13:10.474Z"
   },
   {
    "duration": 71,
    "start_time": "2023-01-13T13:13:49.231Z"
   },
   {
    "duration": 5,
    "start_time": "2023-01-13T13:14:28.382Z"
   },
   {
    "duration": 1645,
    "start_time": "2023-01-13T13:18:14.375Z"
   },
   {
    "duration": 1371,
    "start_time": "2023-01-13T13:18:16.022Z"
   },
   {
    "duration": 188,
    "start_time": "2023-01-13T13:18:17.396Z"
   },
   {
    "duration": 23,
    "start_time": "2023-01-13T13:18:17.587Z"
   },
   {
    "duration": 109,
    "start_time": "2023-01-13T13:18:17.613Z"
   },
   {
    "duration": 890,
    "start_time": "2023-01-13T13:18:17.724Z"
   },
   {
    "duration": 508,
    "start_time": "2023-01-13T13:18:18.616Z"
   },
   {
    "duration": 4,
    "start_time": "2023-01-13T13:18:19.126Z"
   },
   {
    "duration": 55,
    "start_time": "2023-01-13T13:18:19.132Z"
   },
   {
    "duration": 106,
    "start_time": "2023-01-13T13:18:19.189Z"
   },
   {
    "duration": 259,
    "start_time": "2023-01-13T13:18:19.297Z"
   },
   {
    "duration": 33,
    "start_time": "2023-01-13T13:18:19.558Z"
   },
   {
    "duration": 4,
    "start_time": "2023-01-13T13:18:19.593Z"
   },
   {
    "duration": 2326,
    "start_time": "2023-01-13T13:18:19.600Z"
   },
   {
    "duration": 2,
    "start_time": "2023-01-13T13:18:21.928Z"
   },
   {
    "duration": 114,
    "start_time": "2023-01-13T13:18:21.932Z"
   },
   {
    "duration": 28,
    "start_time": "2023-01-13T13:18:22.048Z"
   },
   {
    "duration": 5,
    "start_time": "2023-01-13T13:18:22.078Z"
   },
   {
    "duration": 216,
    "start_time": "2023-01-13T13:18:22.084Z"
   },
   {
    "duration": 186,
    "start_time": "2023-01-13T13:18:22.302Z"
   },
   {
    "duration": 154,
    "start_time": "2023-01-13T13:18:22.490Z"
   },
   {
    "duration": 228,
    "start_time": "2023-01-13T13:18:22.646Z"
   },
   {
    "duration": 192,
    "start_time": "2023-01-13T13:18:22.876Z"
   },
   {
    "duration": 18,
    "start_time": "2023-01-13T13:18:23.070Z"
   },
   {
    "duration": 31,
    "start_time": "2023-01-13T13:18:23.090Z"
   },
   {
    "duration": 3,
    "start_time": "2023-01-13T13:18:23.123Z"
   },
   {
    "duration": 24,
    "start_time": "2023-01-13T13:18:23.127Z"
   },
   {
    "duration": 465,
    "start_time": "2023-01-13T13:18:23.153Z"
   },
   {
    "duration": 346,
    "start_time": "2023-01-13T13:18:23.620Z"
   },
   {
    "duration": 37,
    "start_time": "2023-01-13T13:18:23.968Z"
   },
   {
    "duration": 3536,
    "start_time": "2023-01-13T13:18:24.008Z"
   },
   {
    "duration": 254,
    "start_time": "2023-01-13T13:18:27.547Z"
   },
   {
    "duration": 26,
    "start_time": "2023-01-13T13:18:27.804Z"
   },
   {
    "duration": 54,
    "start_time": "2023-01-13T13:18:27.832Z"
   },
   {
    "duration": 225,
    "start_time": "2023-01-13T13:18:27.888Z"
   },
   {
    "duration": 4,
    "start_time": "2023-01-13T13:18:28.114Z"
   },
   {
    "duration": 202,
    "start_time": "2023-01-13T13:18:28.120Z"
   },
   {
    "duration": 338,
    "start_time": "2023-01-13T13:18:28.323Z"
   },
   {
    "duration": 238,
    "start_time": "2023-01-13T13:18:28.663Z"
   },
   {
    "duration": 5,
    "start_time": "2023-01-13T13:18:28.902Z"
   },
   {
    "duration": 462,
    "start_time": "2023-01-13T13:18:28.910Z"
   },
   {
    "duration": 8,
    "start_time": "2023-01-13T13:18:29.374Z"
   },
   {
    "duration": 33,
    "start_time": "2023-01-13T13:18:29.384Z"
   },
   {
    "duration": 64,
    "start_time": "2023-01-13T13:18:29.419Z"
   },
   {
    "duration": 5,
    "start_time": "2023-01-13T13:18:29.485Z"
   },
   {
    "duration": 216,
    "start_time": "2023-01-13T13:18:29.491Z"
   },
   {
    "duration": 4,
    "start_time": "2023-01-13T13:18:29.709Z"
   },
   {
    "duration": 29,
    "start_time": "2023-01-13T13:18:29.715Z"
   },
   {
    "duration": 30,
    "start_time": "2023-01-13T13:18:29.746Z"
   },
   {
    "duration": 41,
    "start_time": "2023-01-13T13:18:29.778Z"
   },
   {
    "duration": 44,
    "start_time": "2023-01-13T13:18:29.821Z"
   },
   {
    "duration": 1357,
    "start_time": "2023-01-13T13:18:29.866Z"
   },
   {
    "duration": 529,
    "start_time": "2023-01-13T13:18:31.224Z"
   },
   {
    "duration": 4,
    "start_time": "2023-01-13T13:18:31.755Z"
   },
   {
    "duration": 188726,
    "start_time": "2023-01-13T13:18:31.761Z"
   },
   {
    "duration": 17009,
    "start_time": "2023-01-13T13:21:40.489Z"
   },
   {
    "duration": 4,
    "start_time": "2023-01-13T13:21:57.500Z"
   },
   {
    "duration": 1564,
    "start_time": "2023-01-13T13:22:46.552Z"
   },
   {
    "duration": 1812,
    "start_time": "2023-01-13T13:22:48.118Z"
   },
   {
    "duration": 139,
    "start_time": "2023-01-13T13:22:49.932Z"
   },
   {
    "duration": 15,
    "start_time": "2023-01-13T13:22:50.076Z"
   },
   {
    "duration": 103,
    "start_time": "2023-01-13T13:22:50.093Z"
   },
   {
    "duration": 852,
    "start_time": "2023-01-13T13:22:50.198Z"
   },
   {
    "duration": 447,
    "start_time": "2023-01-13T13:22:51.052Z"
   },
   {
    "duration": 3,
    "start_time": "2023-01-13T13:22:51.501Z"
   },
   {
    "duration": 55,
    "start_time": "2023-01-13T13:22:51.506Z"
   },
   {
    "duration": 87,
    "start_time": "2023-01-13T13:22:51.563Z"
   },
   {
    "duration": 234,
    "start_time": "2023-01-13T13:22:51.652Z"
   },
   {
    "duration": 20,
    "start_time": "2023-01-13T13:22:51.888Z"
   },
   {
    "duration": 9,
    "start_time": "2023-01-13T13:22:51.910Z"
   },
   {
    "duration": 2287,
    "start_time": "2023-01-13T13:22:51.922Z"
   },
   {
    "duration": 4,
    "start_time": "2023-01-13T13:22:54.210Z"
   },
   {
    "duration": 106,
    "start_time": "2023-01-13T13:22:54.215Z"
   },
   {
    "duration": 13,
    "start_time": "2023-01-13T13:22:54.322Z"
   },
   {
    "duration": 4,
    "start_time": "2023-01-13T13:22:54.336Z"
   },
   {
    "duration": 198,
    "start_time": "2023-01-13T13:22:54.341Z"
   },
   {
    "duration": 178,
    "start_time": "2023-01-13T13:22:54.541Z"
   },
   {
    "duration": 141,
    "start_time": "2023-01-13T13:22:54.721Z"
   },
   {
    "duration": 221,
    "start_time": "2023-01-13T13:22:54.864Z"
   },
   {
    "duration": 229,
    "start_time": "2023-01-13T13:22:55.087Z"
   },
   {
    "duration": 13,
    "start_time": "2023-01-13T13:22:55.318Z"
   },
   {
    "duration": 47,
    "start_time": "2023-01-13T13:22:55.332Z"
   },
   {
    "duration": 4,
    "start_time": "2023-01-13T13:22:55.381Z"
   },
   {
    "duration": 24,
    "start_time": "2023-01-13T13:22:55.387Z"
   },
   {
    "duration": 416,
    "start_time": "2023-01-13T13:22:55.412Z"
   },
   {
    "duration": 280,
    "start_time": "2023-01-13T13:22:55.829Z"
   },
   {
    "duration": 25,
    "start_time": "2023-01-13T13:22:56.110Z"
   },
   {
    "duration": 2891,
    "start_time": "2023-01-13T13:22:56.136Z"
   },
   {
    "duration": 199,
    "start_time": "2023-01-13T13:22:59.029Z"
   },
   {
    "duration": 19,
    "start_time": "2023-01-13T13:22:59.230Z"
   },
   {
    "duration": 37,
    "start_time": "2023-01-13T13:22:59.250Z"
   },
   {
    "duration": 189,
    "start_time": "2023-01-13T13:22:59.289Z"
   },
   {
    "duration": 4,
    "start_time": "2023-01-13T13:22:59.479Z"
   },
   {
    "duration": 174,
    "start_time": "2023-01-13T13:22:59.485Z"
   },
   {
    "duration": 287,
    "start_time": "2023-01-13T13:22:59.662Z"
   },
   {
    "duration": 184,
    "start_time": "2023-01-13T13:22:59.951Z"
   },
   {
    "duration": 4,
    "start_time": "2023-01-13T13:23:00.137Z"
   },
   {
    "duration": 412,
    "start_time": "2023-01-13T13:23:00.145Z"
   },
   {
    "duration": 4,
    "start_time": "2023-01-13T13:23:00.558Z"
   },
   {
    "duration": 39,
    "start_time": "2023-01-13T13:23:00.564Z"
   },
   {
    "duration": 52,
    "start_time": "2023-01-13T13:23:00.605Z"
   },
   {
    "duration": 3,
    "start_time": "2023-01-13T13:23:00.659Z"
   },
   {
    "duration": 192,
    "start_time": "2023-01-13T13:23:00.664Z"
   },
   {
    "duration": 2,
    "start_time": "2023-01-13T13:23:00.858Z"
   },
   {
    "duration": 20,
    "start_time": "2023-01-13T13:23:00.861Z"
   },
   {
    "duration": 24,
    "start_time": "2023-01-13T13:23:00.883Z"
   },
   {
    "duration": 16,
    "start_time": "2023-01-13T13:23:00.909Z"
   },
   {
    "duration": 20,
    "start_time": "2023-01-13T13:23:00.926Z"
   },
   {
    "duration": 1266,
    "start_time": "2023-01-13T13:23:00.948Z"
   },
   {
    "duration": 416,
    "start_time": "2023-01-13T13:23:02.277Z"
   },
   {
    "duration": 4,
    "start_time": "2023-01-13T13:23:02.694Z"
   },
   {
    "duration": 1472,
    "start_time": "2023-01-13T13:23:42.238Z"
   },
   {
    "duration": 1185,
    "start_time": "2023-01-13T13:23:43.712Z"
   },
   {
    "duration": 185,
    "start_time": "2023-01-13T13:23:44.898Z"
   },
   {
    "duration": 16,
    "start_time": "2023-01-13T13:23:45.085Z"
   },
   {
    "duration": 109,
    "start_time": "2023-01-13T13:23:45.104Z"
   },
   {
    "duration": 902,
    "start_time": "2023-01-13T13:23:45.215Z"
   },
   {
    "duration": 450,
    "start_time": "2023-01-13T13:23:46.119Z"
   },
   {
    "duration": 7,
    "start_time": "2023-01-13T13:23:46.571Z"
   },
   {
    "duration": 42,
    "start_time": "2023-01-13T13:23:46.579Z"
   },
   {
    "duration": 99,
    "start_time": "2023-01-13T13:23:46.623Z"
   },
   {
    "duration": 279,
    "start_time": "2023-01-13T13:23:46.724Z"
   },
   {
    "duration": 22,
    "start_time": "2023-01-13T13:23:47.004Z"
   },
   {
    "duration": 15,
    "start_time": "2023-01-13T13:23:47.027Z"
   },
   {
    "duration": 2246,
    "start_time": "2023-01-13T13:23:47.046Z"
   },
   {
    "duration": 3,
    "start_time": "2023-01-13T13:23:49.294Z"
   },
   {
    "duration": 109,
    "start_time": "2023-01-13T13:23:49.299Z"
   },
   {
    "duration": 12,
    "start_time": "2023-01-13T13:23:49.410Z"
   },
   {
    "duration": 3,
    "start_time": "2023-01-13T13:23:49.424Z"
   },
   {
    "duration": 223,
    "start_time": "2023-01-13T13:23:49.429Z"
   },
   {
    "duration": 191,
    "start_time": "2023-01-13T13:23:49.654Z"
   },
   {
    "duration": 144,
    "start_time": "2023-01-13T13:23:49.847Z"
   },
   {
    "duration": 213,
    "start_time": "2023-01-13T13:23:49.992Z"
   },
   {
    "duration": 176,
    "start_time": "2023-01-13T13:23:50.206Z"
   },
   {
    "duration": 11,
    "start_time": "2023-01-13T13:23:50.384Z"
   },
   {
    "duration": 26,
    "start_time": "2023-01-13T13:23:50.397Z"
   },
   {
    "duration": 2,
    "start_time": "2023-01-13T13:23:50.425Z"
   },
   {
    "duration": 26,
    "start_time": "2023-01-13T13:23:50.429Z"
   },
   {
    "duration": 422,
    "start_time": "2023-01-13T13:23:50.456Z"
   },
   {
    "duration": 301,
    "start_time": "2023-01-13T13:23:50.879Z"
   },
   {
    "duration": 34,
    "start_time": "2023-01-13T13:23:51.182Z"
   },
   {
    "duration": 2875,
    "start_time": "2023-01-13T13:23:51.218Z"
   },
   {
    "duration": 208,
    "start_time": "2023-01-13T13:23:54.095Z"
   },
   {
    "duration": 23,
    "start_time": "2023-01-13T13:23:54.305Z"
   },
   {
    "duration": 46,
    "start_time": "2023-01-13T13:23:54.330Z"
   },
   {
    "duration": 184,
    "start_time": "2023-01-13T13:23:54.378Z"
   },
   {
    "duration": 4,
    "start_time": "2023-01-13T13:23:54.564Z"
   },
   {
    "duration": 173,
    "start_time": "2023-01-13T13:23:54.569Z"
   },
   {
    "duration": 333,
    "start_time": "2023-01-13T13:23:54.744Z"
   },
   {
    "duration": 187,
    "start_time": "2023-01-13T13:23:55.079Z"
   },
   {
    "duration": 11,
    "start_time": "2023-01-13T13:23:55.268Z"
   },
   {
    "duration": 431,
    "start_time": "2023-01-13T13:23:55.283Z"
   },
   {
    "duration": 4,
    "start_time": "2023-01-13T13:23:55.715Z"
   },
   {
    "duration": 25,
    "start_time": "2023-01-13T13:23:55.721Z"
   },
   {
    "duration": 62,
    "start_time": "2023-01-13T13:23:55.747Z"
   },
   {
    "duration": 4,
    "start_time": "2023-01-13T13:23:55.811Z"
   },
   {
    "duration": 167,
    "start_time": "2023-01-13T13:23:55.817Z"
   },
   {
    "duration": 3,
    "start_time": "2023-01-13T13:23:55.985Z"
   },
   {
    "duration": 6,
    "start_time": "2023-01-13T13:23:55.990Z"
   },
   {
    "duration": 5,
    "start_time": "2023-01-13T13:23:55.998Z"
   },
   {
    "duration": 6,
    "start_time": "2023-01-13T13:23:56.004Z"
   },
   {
    "duration": 40,
    "start_time": "2023-01-13T13:23:56.011Z"
   },
   {
    "duration": 1133,
    "start_time": "2023-01-13T13:23:56.053Z"
   },
   {
    "duration": 192,
    "start_time": "2023-01-13T13:23:57.189Z"
   },
   {
    "duration": 94,
    "start_time": "2023-01-13T13:23:57.384Z"
   },
   {
    "duration": 142301,
    "start_time": "2023-01-13T13:23:57.480Z"
   },
   {
    "duration": 15294,
    "start_time": "2023-01-13T13:26:19.783Z"
   },
   {
    "duration": 5,
    "start_time": "2023-01-13T13:26:35.080Z"
   },
   {
    "duration": 96740,
    "start_time": "2023-01-13T13:26:35.087Z"
   },
   {
    "duration": 5929,
    "start_time": "2023-01-13T13:28:11.828Z"
   },
   {
    "duration": 4,
    "start_time": "2023-01-13T13:29:44.342Z"
   },
   {
    "duration": 195000,
    "start_time": "2023-01-13T13:29:45.143Z"
   },
   {
    "duration": 59486,
    "start_time": "2023-01-13T13:47:13.495Z"
   },
   {
    "duration": 112,
    "start_time": "2023-01-13T14:10:08.716Z"
   },
   {
    "duration": 4,
    "start_time": "2023-01-13T14:11:49.395Z"
   },
   {
    "duration": 15,
    "start_time": "2023-01-13T14:12:33.461Z"
   },
   {
    "duration": 14,
    "start_time": "2023-01-13T14:14:58.286Z"
   },
   {
    "duration": 11,
    "start_time": "2023-01-13T14:15:33.392Z"
   },
   {
    "duration": 12,
    "start_time": "2023-01-13T14:15:51.775Z"
   },
   {
    "duration": 13,
    "start_time": "2023-01-13T14:16:09.764Z"
   },
   {
    "duration": 16,
    "start_time": "2023-01-13T14:16:33.047Z"
   },
   {
    "duration": 16,
    "start_time": "2023-01-13T14:18:06.983Z"
   },
   {
    "duration": 13,
    "start_time": "2023-01-13T14:20:09.229Z"
   },
   {
    "duration": 12,
    "start_time": "2023-01-13T14:21:29.721Z"
   },
   {
    "duration": 11,
    "start_time": "2023-01-13T14:21:59.560Z"
   },
   {
    "duration": 11,
    "start_time": "2023-01-13T14:22:14.493Z"
   },
   {
    "duration": 11,
    "start_time": "2023-01-13T14:22:33.935Z"
   },
   {
    "duration": 11,
    "start_time": "2023-01-13T14:22:50.441Z"
   },
   {
    "duration": 12,
    "start_time": "2023-01-13T14:26:55.847Z"
   },
   {
    "duration": 10,
    "start_time": "2023-01-13T14:29:10.946Z"
   },
   {
    "duration": 1700,
    "start_time": "2023-01-14T17:01:17.368Z"
   },
   {
    "duration": 1575,
    "start_time": "2023-01-14T17:01:19.071Z"
   },
   {
    "duration": 131,
    "start_time": "2023-01-14T17:01:20.647Z"
   },
   {
    "duration": 16,
    "start_time": "2023-01-14T17:01:20.780Z"
   },
   {
    "duration": 140,
    "start_time": "2023-01-14T17:01:20.798Z"
   },
   {
    "duration": 880,
    "start_time": "2023-01-14T17:01:20.939Z"
   },
   {
    "duration": 450,
    "start_time": "2023-01-14T17:01:21.821Z"
   },
   {
    "duration": 4,
    "start_time": "2023-01-14T17:01:22.275Z"
   },
   {
    "duration": 52,
    "start_time": "2023-01-14T17:01:22.282Z"
   },
   {
    "duration": 92,
    "start_time": "2023-01-14T17:01:22.336Z"
   },
   {
    "duration": 253,
    "start_time": "2023-01-14T17:01:22.429Z"
   },
   {
    "duration": 22,
    "start_time": "2023-01-14T17:01:22.684Z"
   },
   {
    "duration": 13,
    "start_time": "2023-01-14T17:01:22.708Z"
   },
   {
    "duration": 2204,
    "start_time": "2023-01-14T17:01:22.725Z"
   },
   {
    "duration": 4,
    "start_time": "2023-01-14T17:01:24.931Z"
   },
   {
    "duration": 102,
    "start_time": "2023-01-14T17:01:24.936Z"
   },
   {
    "duration": 12,
    "start_time": "2023-01-14T17:01:25.040Z"
   },
   {
    "duration": 6,
    "start_time": "2023-01-14T17:01:25.054Z"
   },
   {
    "duration": 209,
    "start_time": "2023-01-14T17:01:25.061Z"
   },
   {
    "duration": 230,
    "start_time": "2023-01-14T17:01:25.272Z"
   },
   {
    "duration": 168,
    "start_time": "2023-01-14T17:01:25.504Z"
   },
   {
    "duration": 218,
    "start_time": "2023-01-14T17:01:25.673Z"
   },
   {
    "duration": 177,
    "start_time": "2023-01-14T17:01:25.893Z"
   },
   {
    "duration": 12,
    "start_time": "2023-01-14T17:01:26.072Z"
   },
   {
    "duration": 41,
    "start_time": "2023-01-14T17:01:26.086Z"
   },
   {
    "duration": 2,
    "start_time": "2023-01-14T17:01:26.129Z"
   },
   {
    "duration": 22,
    "start_time": "2023-01-14T17:01:26.133Z"
   },
   {
    "duration": 419,
    "start_time": "2023-01-14T17:01:26.157Z"
   },
   {
    "duration": 308,
    "start_time": "2023-01-14T17:01:26.577Z"
   },
   {
    "duration": 35,
    "start_time": "2023-01-14T17:01:26.887Z"
   },
   {
    "duration": 2874,
    "start_time": "2023-01-14T17:01:26.924Z"
   },
   {
    "duration": 204,
    "start_time": "2023-01-14T17:01:29.800Z"
   },
   {
    "duration": 30,
    "start_time": "2023-01-14T17:01:30.006Z"
   },
   {
    "duration": 29,
    "start_time": "2023-01-14T17:01:30.037Z"
   },
   {
    "duration": 166,
    "start_time": "2023-01-14T17:01:30.067Z"
   },
   {
    "duration": 4,
    "start_time": "2023-01-14T17:01:30.235Z"
   },
   {
    "duration": 173,
    "start_time": "2023-01-14T17:01:30.240Z"
   },
   {
    "duration": 331,
    "start_time": "2023-01-14T17:01:30.421Z"
   },
   {
    "duration": 192,
    "start_time": "2023-01-14T17:01:30.754Z"
   },
   {
    "duration": 4,
    "start_time": "2023-01-14T17:01:30.947Z"
   },
   {
    "duration": 28,
    "start_time": "2023-01-14T17:01:30.955Z"
   },
   {
    "duration": 23,
    "start_time": "2023-01-14T17:01:30.985Z"
   },
   {
    "duration": 39,
    "start_time": "2023-01-14T17:01:31.010Z"
   },
   {
    "duration": 74,
    "start_time": "2023-01-14T17:01:31.050Z"
   },
   {
    "duration": 4,
    "start_time": "2023-01-14T17:01:31.125Z"
   },
   {
    "duration": 185,
    "start_time": "2023-01-14T17:01:31.130Z"
   },
   {
    "duration": 3,
    "start_time": "2023-01-14T17:01:31.317Z"
   },
   {
    "duration": 497,
    "start_time": "2023-01-14T17:01:31.322Z"
   },
   {
    "duration": 3,
    "start_time": "2023-01-14T17:01:31.821Z"
   },
   {
    "duration": 451,
    "start_time": "2023-01-14T17:01:31.826Z"
   },
   {
    "duration": 52,
    "start_time": "2023-01-14T17:01:32.279Z"
   },
   {
    "duration": 325,
    "start_time": "2023-01-14T17:01:32.332Z"
   },
   {
    "duration": 4,
    "start_time": "2023-01-14T17:01:32.659Z"
   },
   {
    "duration": 401,
    "start_time": "2023-01-14T17:01:32.665Z"
   },
   {
    "duration": 54,
    "start_time": "2023-01-14T17:01:33.068Z"
   },
   {
    "duration": 4,
    "start_time": "2023-01-14T17:01:33.123Z"
   },
   {
    "duration": 78999,
    "start_time": "2023-01-14T17:01:33.129Z"
   },
   {
    "duration": 1618,
    "start_time": "2023-01-14T17:02:52.129Z"
   },
   {
    "duration": 4,
    "start_time": "2023-01-14T17:02:53.749Z"
   },
   {
    "duration": 158,
    "start_time": "2023-01-14T17:02:53.754Z"
   },
   {
    "duration": 53,
    "start_time": "2023-01-14T17:02:53.913Z"
   },
   {
    "duration": 11,
    "start_time": "2023-01-14T17:02:53.968Z"
   },
   {
    "duration": 1513,
    "start_time": "2023-01-14T17:10:44.089Z"
   },
   {
    "duration": 1154,
    "start_time": "2023-01-14T17:10:45.604Z"
   },
   {
    "duration": 138,
    "start_time": "2023-01-14T17:10:46.760Z"
   },
   {
    "duration": 25,
    "start_time": "2023-01-14T17:10:46.899Z"
   },
   {
    "duration": 98,
    "start_time": "2023-01-14T17:10:46.926Z"
   },
   {
    "duration": 807,
    "start_time": "2023-01-14T17:10:47.025Z"
   },
   {
    "duration": 430,
    "start_time": "2023-01-14T17:10:47.834Z"
   },
   {
    "duration": 3,
    "start_time": "2023-01-14T17:10:48.266Z"
   },
   {
    "duration": 60,
    "start_time": "2023-01-14T17:10:48.271Z"
   },
   {
    "duration": 91,
    "start_time": "2023-01-14T17:10:48.334Z"
   },
   {
    "duration": 232,
    "start_time": "2023-01-14T17:10:48.427Z"
   },
   {
    "duration": 22,
    "start_time": "2023-01-14T17:10:48.660Z"
   },
   {
    "duration": 4,
    "start_time": "2023-01-14T17:10:48.684Z"
   },
   {
    "duration": 2115,
    "start_time": "2023-01-14T17:10:48.690Z"
   },
   {
    "duration": 3,
    "start_time": "2023-01-14T17:10:50.806Z"
   },
   {
    "duration": 94,
    "start_time": "2023-01-14T17:10:50.811Z"
   },
   {
    "duration": 18,
    "start_time": "2023-01-14T17:10:50.907Z"
   },
   {
    "duration": 3,
    "start_time": "2023-01-14T17:10:50.927Z"
   },
   {
    "duration": 196,
    "start_time": "2023-01-14T17:10:50.932Z"
   },
   {
    "duration": 177,
    "start_time": "2023-01-14T17:10:51.129Z"
   },
   {
    "duration": 137,
    "start_time": "2023-01-14T17:10:51.308Z"
   },
   {
    "duration": 226,
    "start_time": "2023-01-14T17:10:51.446Z"
   },
   {
    "duration": 166,
    "start_time": "2023-01-14T17:10:51.674Z"
   },
   {
    "duration": 14,
    "start_time": "2023-01-14T17:10:51.842Z"
   },
   {
    "duration": 29,
    "start_time": "2023-01-14T17:10:51.857Z"
   },
   {
    "duration": 2,
    "start_time": "2023-01-14T17:10:51.888Z"
   },
   {
    "duration": 43,
    "start_time": "2023-01-14T17:10:51.892Z"
   },
   {
    "duration": 306,
    "start_time": "2023-01-14T17:10:52.015Z"
   },
   {
    "duration": 299,
    "start_time": "2023-01-14T17:10:52.322Z"
   },
   {
    "duration": 30,
    "start_time": "2023-01-14T17:10:52.623Z"
   },
   {
    "duration": 2850,
    "start_time": "2023-01-14T17:10:52.654Z"
   },
   {
    "duration": 209,
    "start_time": "2023-01-14T17:10:55.506Z"
   },
   {
    "duration": 18,
    "start_time": "2023-01-14T17:10:55.720Z"
   },
   {
    "duration": 24,
    "start_time": "2023-01-14T17:10:55.739Z"
   },
   {
    "duration": 166,
    "start_time": "2023-01-14T17:10:55.764Z"
   },
   {
    "duration": 4,
    "start_time": "2023-01-14T17:10:55.932Z"
   },
   {
    "duration": 161,
    "start_time": "2023-01-14T17:10:55.937Z"
   },
   {
    "duration": 320,
    "start_time": "2023-01-14T17:10:56.100Z"
   },
   {
    "duration": 176,
    "start_time": "2023-01-14T17:10:56.422Z"
   },
   {
    "duration": 4,
    "start_time": "2023-01-14T17:10:56.600Z"
   },
   {
    "duration": 5,
    "start_time": "2023-01-14T17:10:56.605Z"
   },
   {
    "duration": 7,
    "start_time": "2023-01-14T17:10:56.621Z"
   },
   {
    "duration": 15,
    "start_time": "2023-01-14T17:10:56.629Z"
   },
   {
    "duration": 58,
    "start_time": "2023-01-14T17:10:56.646Z"
   },
   {
    "duration": 133,
    "start_time": "2023-01-14T17:10:56.706Z"
   },
   {
    "duration": 0,
    "start_time": "2023-01-14T17:10:56.842Z"
   },
   {
    "duration": 0,
    "start_time": "2023-01-14T17:10:56.843Z"
   },
   {
    "duration": 0,
    "start_time": "2023-01-14T17:10:56.845Z"
   },
   {
    "duration": 1,
    "start_time": "2023-01-14T17:10:56.846Z"
   },
   {
    "duration": 0,
    "start_time": "2023-01-14T17:10:56.848Z"
   },
   {
    "duration": 0,
    "start_time": "2023-01-14T17:10:56.849Z"
   },
   {
    "duration": 0,
    "start_time": "2023-01-14T17:10:56.850Z"
   },
   {
    "duration": 0,
    "start_time": "2023-01-14T17:10:56.852Z"
   },
   {
    "duration": 0,
    "start_time": "2023-01-14T17:10:56.854Z"
   },
   {
    "duration": 0,
    "start_time": "2023-01-14T17:10:56.855Z"
   },
   {
    "duration": 0,
    "start_time": "2023-01-14T17:10:56.856Z"
   },
   {
    "duration": 0,
    "start_time": "2023-01-14T17:10:56.858Z"
   },
   {
    "duration": 0,
    "start_time": "2023-01-14T17:10:56.859Z"
   },
   {
    "duration": 0,
    "start_time": "2023-01-14T17:10:56.860Z"
   },
   {
    "duration": 0,
    "start_time": "2023-01-14T17:10:56.861Z"
   },
   {
    "duration": 0,
    "start_time": "2023-01-14T17:10:56.863Z"
   },
   {
    "duration": 0,
    "start_time": "2023-01-14T17:10:56.864Z"
   },
   {
    "duration": 0,
    "start_time": "2023-01-14T17:10:56.865Z"
   },
   {
    "duration": 0,
    "start_time": "2023-01-14T17:10:56.866Z"
   },
   {
    "duration": 0,
    "start_time": "2023-01-14T17:10:56.867Z"
   },
   {
    "duration": 0,
    "start_time": "2023-01-14T17:10:56.868Z"
   },
   {
    "duration": 0,
    "start_time": "2023-01-14T17:10:56.869Z"
   },
   {
    "duration": 1406,
    "start_time": "2023-01-14T17:13:26.568Z"
   },
   {
    "duration": 1778,
    "start_time": "2023-01-14T17:13:27.976Z"
   },
   {
    "duration": 127,
    "start_time": "2023-01-14T17:13:29.755Z"
   },
   {
    "duration": 32,
    "start_time": "2023-01-14T17:13:29.884Z"
   },
   {
    "duration": 134,
    "start_time": "2023-01-14T17:13:29.918Z"
   },
   {
    "duration": 845,
    "start_time": "2023-01-14T17:13:30.054Z"
   },
   {
    "duration": 458,
    "start_time": "2023-01-14T17:13:30.901Z"
   },
   {
    "duration": 4,
    "start_time": "2023-01-14T17:13:31.361Z"
   },
   {
    "duration": 56,
    "start_time": "2023-01-14T17:13:31.367Z"
   },
   {
    "duration": 86,
    "start_time": "2023-01-14T17:13:31.426Z"
   },
   {
    "duration": 252,
    "start_time": "2023-01-14T17:13:31.513Z"
   },
   {
    "duration": 21,
    "start_time": "2023-01-14T17:13:31.766Z"
   },
   {
    "duration": 24,
    "start_time": "2023-01-14T17:13:31.789Z"
   },
   {
    "duration": 2150,
    "start_time": "2023-01-14T17:13:31.816Z"
   },
   {
    "duration": 3,
    "start_time": "2023-01-14T17:13:33.968Z"
   },
   {
    "duration": 118,
    "start_time": "2023-01-14T17:13:33.972Z"
   },
   {
    "duration": 13,
    "start_time": "2023-01-14T17:13:34.091Z"
   },
   {
    "duration": 18,
    "start_time": "2023-01-14T17:13:34.105Z"
   },
   {
    "duration": 205,
    "start_time": "2023-01-14T17:13:34.124Z"
   },
   {
    "duration": 181,
    "start_time": "2023-01-14T17:13:34.330Z"
   },
   {
    "duration": 145,
    "start_time": "2023-01-14T17:13:34.513Z"
   },
   {
    "duration": 205,
    "start_time": "2023-01-14T17:13:34.660Z"
   },
   {
    "duration": 175,
    "start_time": "2023-01-14T17:13:34.867Z"
   },
   {
    "duration": 12,
    "start_time": "2023-01-14T17:13:35.043Z"
   },
   {
    "duration": 41,
    "start_time": "2023-01-14T17:13:35.057Z"
   },
   {
    "duration": 3,
    "start_time": "2023-01-14T17:13:35.099Z"
   },
   {
    "duration": 49,
    "start_time": "2023-01-14T17:13:35.103Z"
   },
   {
    "duration": 381,
    "start_time": "2023-01-14T17:13:35.154Z"
   },
   {
    "duration": 380,
    "start_time": "2023-01-14T17:13:35.537Z"
   },
   {
    "duration": 31,
    "start_time": "2023-01-14T17:13:35.920Z"
   },
   {
    "duration": 2894,
    "start_time": "2023-01-14T17:13:35.953Z"
   },
   {
    "duration": 209,
    "start_time": "2023-01-14T17:13:38.849Z"
   },
   {
    "duration": 24,
    "start_time": "2023-01-14T17:13:39.060Z"
   },
   {
    "duration": 43,
    "start_time": "2023-01-14T17:13:39.085Z"
   },
   {
    "duration": 168,
    "start_time": "2023-01-14T17:13:39.130Z"
   },
   {
    "duration": 4,
    "start_time": "2023-01-14T17:13:39.300Z"
   },
   {
    "duration": 171,
    "start_time": "2023-01-14T17:13:39.306Z"
   },
   {
    "duration": 289,
    "start_time": "2023-01-14T17:13:39.479Z"
   },
   {
    "duration": 181,
    "start_time": "2023-01-14T17:13:39.769Z"
   },
   {
    "duration": 4,
    "start_time": "2023-01-14T17:13:39.951Z"
   },
   {
    "duration": 14,
    "start_time": "2023-01-14T17:13:39.960Z"
   },
   {
    "duration": 17,
    "start_time": "2023-01-14T17:13:39.975Z"
   },
   {
    "duration": 38,
    "start_time": "2023-01-14T17:13:39.994Z"
   },
   {
    "duration": 69,
    "start_time": "2023-01-14T17:13:40.034Z"
   },
   {
    "duration": 118,
    "start_time": "2023-01-14T17:13:40.105Z"
   },
   {
    "duration": 0,
    "start_time": "2023-01-14T17:13:40.225Z"
   },
   {
    "duration": 0,
    "start_time": "2023-01-14T17:13:40.226Z"
   },
   {
    "duration": 0,
    "start_time": "2023-01-14T17:13:40.227Z"
   },
   {
    "duration": 0,
    "start_time": "2023-01-14T17:13:40.228Z"
   },
   {
    "duration": 0,
    "start_time": "2023-01-14T17:13:40.229Z"
   },
   {
    "duration": 0,
    "start_time": "2023-01-14T17:13:40.230Z"
   },
   {
    "duration": 0,
    "start_time": "2023-01-14T17:13:40.231Z"
   },
   {
    "duration": 0,
    "start_time": "2023-01-14T17:13:40.232Z"
   },
   {
    "duration": 0,
    "start_time": "2023-01-14T17:13:40.233Z"
   },
   {
    "duration": 0,
    "start_time": "2023-01-14T17:13:40.234Z"
   },
   {
    "duration": 0,
    "start_time": "2023-01-14T17:13:40.235Z"
   },
   {
    "duration": 0,
    "start_time": "2023-01-14T17:13:40.236Z"
   },
   {
    "duration": 0,
    "start_time": "2023-01-14T17:13:40.238Z"
   },
   {
    "duration": 0,
    "start_time": "2023-01-14T17:13:40.239Z"
   },
   {
    "duration": 0,
    "start_time": "2023-01-14T17:13:40.239Z"
   },
   {
    "duration": 0,
    "start_time": "2023-01-14T17:13:40.240Z"
   },
   {
    "duration": 0,
    "start_time": "2023-01-14T17:13:40.241Z"
   },
   {
    "duration": 0,
    "start_time": "2023-01-14T17:13:40.242Z"
   },
   {
    "duration": 0,
    "start_time": "2023-01-14T17:13:40.243Z"
   },
   {
    "duration": 0,
    "start_time": "2023-01-14T17:13:40.244Z"
   },
   {
    "duration": 0,
    "start_time": "2023-01-14T17:13:40.246Z"
   },
   {
    "duration": 0,
    "start_time": "2023-01-14T17:13:40.247Z"
   },
   {
    "duration": 0,
    "start_time": "2023-01-14T17:13:40.248Z"
   },
   {
    "duration": 339,
    "start_time": "2023-01-14T17:17:34.445Z"
   },
   {
    "duration": 4,
    "start_time": "2023-01-14T17:17:36.461Z"
   },
   {
    "duration": 1377,
    "start_time": "2023-01-14T17:18:32.051Z"
   },
   {
    "duration": 1753,
    "start_time": "2023-01-14T17:18:33.429Z"
   },
   {
    "duration": 170,
    "start_time": "2023-01-14T17:18:35.184Z"
   },
   {
    "duration": 19,
    "start_time": "2023-01-14T17:18:35.356Z"
   },
   {
    "duration": 116,
    "start_time": "2023-01-14T17:18:35.377Z"
   },
   {
    "duration": 805,
    "start_time": "2023-01-14T17:18:35.495Z"
   },
   {
    "duration": 426,
    "start_time": "2023-01-14T17:18:36.302Z"
   },
   {
    "duration": 3,
    "start_time": "2023-01-14T17:18:36.730Z"
   },
   {
    "duration": 42,
    "start_time": "2023-01-14T17:18:36.735Z"
   },
   {
    "duration": 98,
    "start_time": "2023-01-14T17:18:36.780Z"
   },
   {
    "duration": 223,
    "start_time": "2023-01-14T17:18:36.880Z"
   },
   {
    "duration": 27,
    "start_time": "2023-01-14T17:18:37.105Z"
   },
   {
    "duration": 4,
    "start_time": "2023-01-14T17:18:37.133Z"
   },
   {
    "duration": 2094,
    "start_time": "2023-01-14T17:18:37.139Z"
   },
   {
    "duration": 4,
    "start_time": "2023-01-14T17:18:39.234Z"
   },
   {
    "duration": 100,
    "start_time": "2023-01-14T17:18:39.240Z"
   },
   {
    "duration": 15,
    "start_time": "2023-01-14T17:18:39.342Z"
   },
   {
    "duration": 3,
    "start_time": "2023-01-14T17:18:39.359Z"
   },
   {
    "duration": 199,
    "start_time": "2023-01-14T17:18:39.363Z"
   },
   {
    "duration": 173,
    "start_time": "2023-01-14T17:18:39.564Z"
   },
   {
    "duration": 137,
    "start_time": "2023-01-14T17:18:39.738Z"
   },
   {
    "duration": 207,
    "start_time": "2023-01-14T17:18:39.876Z"
   },
   {
    "duration": 175,
    "start_time": "2023-01-14T17:18:40.085Z"
   },
   {
    "duration": 12,
    "start_time": "2023-01-14T17:18:40.261Z"
   },
   {
    "duration": 24,
    "start_time": "2023-01-14T17:18:40.274Z"
   },
   {
    "duration": 2,
    "start_time": "2023-01-14T17:18:40.300Z"
   },
   {
    "duration": 19,
    "start_time": "2023-01-14T17:18:40.320Z"
   },
   {
    "duration": 303,
    "start_time": "2023-01-14T17:18:40.437Z"
   },
   {
    "duration": 280,
    "start_time": "2023-01-14T17:18:40.741Z"
   },
   {
    "duration": 30,
    "start_time": "2023-01-14T17:18:41.023Z"
   },
   {
    "duration": 2877,
    "start_time": "2023-01-14T17:18:41.055Z"
   },
   {
    "duration": 199,
    "start_time": "2023-01-14T17:18:43.933Z"
   },
   {
    "duration": 19,
    "start_time": "2023-01-14T17:18:44.133Z"
   },
   {
    "duration": 24,
    "start_time": "2023-01-14T17:18:44.153Z"
   },
   {
    "duration": 187,
    "start_time": "2023-01-14T17:18:44.179Z"
   },
   {
    "duration": 4,
    "start_time": "2023-01-14T17:18:44.368Z"
   },
   {
    "duration": 166,
    "start_time": "2023-01-14T17:18:44.373Z"
   },
   {
    "duration": 296,
    "start_time": "2023-01-14T17:18:44.540Z"
   },
   {
    "duration": 173,
    "start_time": "2023-01-14T17:18:44.837Z"
   },
   {
    "duration": 3,
    "start_time": "2023-01-14T17:18:45.012Z"
   },
   {
    "duration": 15,
    "start_time": "2023-01-14T17:18:45.017Z"
   },
   {
    "duration": 8,
    "start_time": "2023-01-14T17:18:45.034Z"
   },
   {
    "duration": 15,
    "start_time": "2023-01-14T17:18:45.044Z"
   },
   {
    "duration": 53,
    "start_time": "2023-01-14T17:18:45.061Z"
   },
   {
    "duration": 354,
    "start_time": "2023-01-14T17:18:45.115Z"
   },
   {
    "duration": 5,
    "start_time": "2023-01-14T17:18:45.471Z"
   },
   {
    "duration": 16,
    "start_time": "2023-01-14T17:18:45.478Z"
   },
   {
    "duration": 151,
    "start_time": "2023-01-14T17:18:45.496Z"
   },
   {
    "duration": 3,
    "start_time": "2023-01-14T17:18:45.649Z"
   },
   {
    "duration": 7,
    "start_time": "2023-01-14T17:18:45.654Z"
   },
   {
    "duration": 6,
    "start_time": "2023-01-14T17:18:45.662Z"
   },
   {
    "duration": 5,
    "start_time": "2023-01-14T17:18:45.670Z"
   },
   {
    "duration": 5,
    "start_time": "2023-01-14T17:18:45.677Z"
   },
   {
    "duration": 449,
    "start_time": "2023-01-14T17:18:45.683Z"
   },
   {
    "duration": 51,
    "start_time": "2023-01-14T17:18:46.134Z"
   },
   {
    "duration": 4,
    "start_time": "2023-01-14T17:18:46.187Z"
   },
   {
    "duration": 78619,
    "start_time": "2023-01-14T17:18:46.193Z"
   },
   {
    "duration": 2180,
    "start_time": "2023-01-14T17:20:04.814Z"
   },
   {
    "duration": 5,
    "start_time": "2023-01-14T17:20:06.995Z"
   },
   {
    "duration": 148,
    "start_time": "2023-01-14T17:20:07.002Z"
   },
   {
    "duration": 62,
    "start_time": "2023-01-14T17:20:07.153Z"
   },
   {
    "duration": 54,
    "start_time": "2023-01-14T17:20:07.216Z"
   },
   {
    "duration": 0,
    "start_time": "2023-01-14T17:20:07.272Z"
   },
   {
    "duration": 0,
    "start_time": "2023-01-14T17:20:07.273Z"
   },
   {
    "duration": 0,
    "start_time": "2023-01-14T17:20:07.274Z"
   },
   {
    "duration": 0,
    "start_time": "2023-01-14T17:20:07.275Z"
   },
   {
    "duration": 0,
    "start_time": "2023-01-14T17:20:07.276Z"
   },
   {
    "duration": 1733,
    "start_time": "2023-01-19T06:57:27.469Z"
   },
   {
    "duration": 1581,
    "start_time": "2023-01-19T06:57:29.204Z"
   },
   {
    "duration": 124,
    "start_time": "2023-01-19T06:57:30.787Z"
   },
   {
    "duration": 37,
    "start_time": "2023-01-19T06:57:30.914Z"
   },
   {
    "duration": 105,
    "start_time": "2023-01-19T06:57:30.953Z"
   },
   {
    "duration": 781,
    "start_time": "2023-01-19T06:57:31.060Z"
   },
   {
    "duration": 430,
    "start_time": "2023-01-19T06:57:31.843Z"
   },
   {
    "duration": 4,
    "start_time": "2023-01-19T06:57:32.274Z"
   },
   {
    "duration": 51,
    "start_time": "2023-01-19T06:57:32.279Z"
   },
   {
    "duration": 73,
    "start_time": "2023-01-19T06:57:32.332Z"
   },
   {
    "duration": 218,
    "start_time": "2023-01-19T06:57:32.407Z"
   },
   {
    "duration": 20,
    "start_time": "2023-01-19T06:57:32.626Z"
   },
   {
    "duration": 14,
    "start_time": "2023-01-19T06:57:32.647Z"
   },
   {
    "duration": 2210,
    "start_time": "2023-01-19T06:57:32.662Z"
   },
   {
    "duration": 3,
    "start_time": "2023-01-19T06:57:34.874Z"
   },
   {
    "duration": 100,
    "start_time": "2023-01-19T06:57:34.878Z"
   },
   {
    "duration": 23,
    "start_time": "2023-01-19T06:57:34.980Z"
   },
   {
    "duration": 7,
    "start_time": "2023-01-19T06:57:35.005Z"
   },
   {
    "duration": 246,
    "start_time": "2023-01-19T06:57:35.014Z"
   },
   {
    "duration": 184,
    "start_time": "2023-01-19T06:57:35.262Z"
   },
   {
    "duration": 155,
    "start_time": "2023-01-19T06:57:35.448Z"
   },
   {
    "duration": 208,
    "start_time": "2023-01-19T06:57:35.605Z"
   },
   {
    "duration": 178,
    "start_time": "2023-01-19T06:57:35.815Z"
   },
   {
    "duration": 16,
    "start_time": "2023-01-19T06:57:35.995Z"
   },
   {
    "duration": 25,
    "start_time": "2023-01-19T06:57:36.013Z"
   },
   {
    "duration": 3,
    "start_time": "2023-01-19T06:57:36.040Z"
   },
   {
    "duration": 22,
    "start_time": "2023-01-19T06:57:36.045Z"
   },
   {
    "duration": 431,
    "start_time": "2023-01-19T06:57:36.072Z"
   },
   {
    "duration": 302,
    "start_time": "2023-01-19T06:57:36.504Z"
   },
   {
    "duration": 24,
    "start_time": "2023-01-19T06:57:36.807Z"
   },
   {
    "duration": 2899,
    "start_time": "2023-01-19T06:57:36.833Z"
   },
   {
    "duration": 229,
    "start_time": "2023-01-19T06:57:39.733Z"
   },
   {
    "duration": 21,
    "start_time": "2023-01-19T06:57:39.964Z"
   },
   {
    "duration": 42,
    "start_time": "2023-01-19T06:57:39.986Z"
   },
   {
    "duration": 165,
    "start_time": "2023-01-19T06:57:40.030Z"
   },
   {
    "duration": 7,
    "start_time": "2023-01-19T06:57:40.197Z"
   },
   {
    "duration": 180,
    "start_time": "2023-01-19T06:57:40.206Z"
   },
   {
    "duration": 301,
    "start_time": "2023-01-19T06:57:40.388Z"
   },
   {
    "duration": 186,
    "start_time": "2023-01-19T06:57:40.690Z"
   },
   {
    "duration": 3,
    "start_time": "2023-01-19T06:57:40.878Z"
   },
   {
    "duration": 10,
    "start_time": "2023-01-19T06:57:40.883Z"
   },
   {
    "duration": 7,
    "start_time": "2023-01-19T06:57:40.894Z"
   },
   {
    "duration": 16,
    "start_time": "2023-01-19T06:57:40.903Z"
   },
   {
    "duration": 59,
    "start_time": "2023-01-19T06:57:40.921Z"
   },
   {
    "duration": 654,
    "start_time": "2023-01-19T06:57:40.982Z"
   },
   {
    "duration": 3,
    "start_time": "2023-01-19T06:57:41.638Z"
   },
   {
    "duration": 184,
    "start_time": "2023-01-19T06:57:41.642Z"
   },
   {
    "duration": 3,
    "start_time": "2023-01-19T06:57:41.828Z"
   },
   {
    "duration": 7,
    "start_time": "2023-01-19T06:57:41.832Z"
   },
   {
    "duration": 1555,
    "start_time": "2023-01-19T06:58:36.851Z"
   },
   {
    "duration": 1989,
    "start_time": "2023-01-19T06:58:38.408Z"
   },
   {
    "duration": 115,
    "start_time": "2023-01-19T06:58:40.398Z"
   },
   {
    "duration": 15,
    "start_time": "2023-01-19T06:58:40.516Z"
   },
   {
    "duration": 106,
    "start_time": "2023-01-19T06:58:40.533Z"
   },
   {
    "duration": 797,
    "start_time": "2023-01-19T06:58:40.640Z"
   },
   {
    "duration": 417,
    "start_time": "2023-01-19T06:58:41.438Z"
   },
   {
    "duration": 3,
    "start_time": "2023-01-19T06:58:41.858Z"
   },
   {
    "duration": 51,
    "start_time": "2023-01-19T06:58:41.862Z"
   },
   {
    "duration": 69,
    "start_time": "2023-01-19T06:58:41.916Z"
   },
   {
    "duration": 237,
    "start_time": "2023-01-19T06:58:41.987Z"
   },
   {
    "duration": 18,
    "start_time": "2023-01-19T06:58:42.226Z"
   },
   {
    "duration": 8,
    "start_time": "2023-01-19T06:58:42.246Z"
   },
   {
    "duration": 2233,
    "start_time": "2023-01-19T06:58:42.255Z"
   },
   {
    "duration": 3,
    "start_time": "2023-01-19T06:58:44.490Z"
   },
   {
    "duration": 92,
    "start_time": "2023-01-19T06:58:44.495Z"
   },
   {
    "duration": 20,
    "start_time": "2023-01-19T06:58:44.589Z"
   },
   {
    "duration": 9,
    "start_time": "2023-01-19T06:58:44.611Z"
   },
   {
    "duration": 195,
    "start_time": "2023-01-19T06:58:44.621Z"
   },
   {
    "duration": 189,
    "start_time": "2023-01-19T06:58:44.818Z"
   },
   {
    "duration": 157,
    "start_time": "2023-01-19T06:58:45.009Z"
   },
   {
    "duration": 229,
    "start_time": "2023-01-19T06:58:45.169Z"
   },
   {
    "duration": 182,
    "start_time": "2023-01-19T06:58:45.403Z"
   },
   {
    "duration": 17,
    "start_time": "2023-01-19T06:58:45.587Z"
   },
   {
    "duration": 44,
    "start_time": "2023-01-19T06:58:45.606Z"
   },
   {
    "duration": 3,
    "start_time": "2023-01-19T06:58:45.652Z"
   },
   {
    "duration": 47,
    "start_time": "2023-01-19T06:58:45.656Z"
   },
   {
    "duration": 407,
    "start_time": "2023-01-19T06:58:45.707Z"
   },
   {
    "duration": 302,
    "start_time": "2023-01-19T06:58:46.116Z"
   },
   {
    "duration": 28,
    "start_time": "2023-01-19T06:58:46.420Z"
   },
   {
    "duration": 2861,
    "start_time": "2023-01-19T06:58:46.450Z"
   },
   {
    "duration": 205,
    "start_time": "2023-01-19T06:58:49.313Z"
   },
   {
    "duration": 20,
    "start_time": "2023-01-19T06:58:49.519Z"
   },
   {
    "duration": 36,
    "start_time": "2023-01-19T06:58:49.541Z"
   },
   {
    "duration": 149,
    "start_time": "2023-01-19T06:58:49.579Z"
   },
   {
    "duration": 4,
    "start_time": "2023-01-19T06:58:49.730Z"
   },
   {
    "duration": 184,
    "start_time": "2023-01-19T06:58:49.736Z"
   },
   {
    "duration": 330,
    "start_time": "2023-01-19T06:58:49.923Z"
   },
   {
    "duration": 214,
    "start_time": "2023-01-19T06:58:50.255Z"
   },
   {
    "duration": 5,
    "start_time": "2023-01-19T06:58:50.472Z"
   },
   {
    "duration": 15,
    "start_time": "2023-01-19T06:58:50.478Z"
   },
   {
    "duration": 8,
    "start_time": "2023-01-19T06:58:50.495Z"
   },
   {
    "duration": 25,
    "start_time": "2023-01-19T06:58:50.505Z"
   },
   {
    "duration": 91,
    "start_time": "2023-01-19T06:58:50.532Z"
   },
   {
    "duration": 679,
    "start_time": "2023-01-19T06:58:50.624Z"
   },
   {
    "duration": 3,
    "start_time": "2023-01-19T06:58:51.305Z"
   },
   {
    "duration": 187,
    "start_time": "2023-01-19T06:58:51.310Z"
   },
   {
    "duration": 5,
    "start_time": "2023-01-19T06:58:51.499Z"
   },
   {
    "duration": 6,
    "start_time": "2023-01-19T06:58:51.506Z"
   },
   {
    "duration": 1574,
    "start_time": "2023-01-19T07:04:16.848Z"
   },
   {
    "duration": 1173,
    "start_time": "2023-01-19T07:04:18.424Z"
   },
   {
    "duration": 117,
    "start_time": "2023-01-19T07:04:19.599Z"
   },
   {
    "duration": 15,
    "start_time": "2023-01-19T07:04:19.719Z"
   },
   {
    "duration": 136,
    "start_time": "2023-01-19T07:04:19.736Z"
   },
   {
    "duration": 831,
    "start_time": "2023-01-19T07:04:19.873Z"
   },
   {
    "duration": 443,
    "start_time": "2023-01-19T07:04:20.706Z"
   },
   {
    "duration": 4,
    "start_time": "2023-01-19T07:04:21.152Z"
   },
   {
    "duration": 68,
    "start_time": "2023-01-19T07:04:21.158Z"
   },
   {
    "duration": 84,
    "start_time": "2023-01-19T07:04:21.229Z"
   },
   {
    "duration": 230,
    "start_time": "2023-01-19T07:04:21.315Z"
   },
   {
    "duration": 18,
    "start_time": "2023-01-19T07:04:21.546Z"
   },
   {
    "duration": 3,
    "start_time": "2023-01-19T07:04:21.566Z"
   },
   {
    "duration": 2221,
    "start_time": "2023-01-19T07:04:21.570Z"
   },
   {
    "duration": 3,
    "start_time": "2023-01-19T07:04:23.793Z"
   },
   {
    "duration": 318,
    "start_time": "2023-01-19T07:04:23.802Z"
   },
   {
    "duration": 14,
    "start_time": "2023-01-19T07:04:24.122Z"
   },
   {
    "duration": 7,
    "start_time": "2023-01-19T07:04:24.138Z"
   },
   {
    "duration": 273,
    "start_time": "2023-01-19T07:04:24.148Z"
   },
   {
    "duration": 210,
    "start_time": "2023-01-19T07:04:24.423Z"
   },
   {
    "duration": 179,
    "start_time": "2023-01-19T07:04:24.635Z"
   },
   {
    "duration": 219,
    "start_time": "2023-01-19T07:04:24.816Z"
   },
   {
    "duration": 182,
    "start_time": "2023-01-19T07:04:25.037Z"
   },
   {
    "duration": 11,
    "start_time": "2023-01-19T07:04:25.221Z"
   },
   {
    "duration": 29,
    "start_time": "2023-01-19T07:04:25.235Z"
   },
   {
    "duration": 3,
    "start_time": "2023-01-19T07:04:25.266Z"
   },
   {
    "duration": 47,
    "start_time": "2023-01-19T07:04:25.271Z"
   },
   {
    "duration": 425,
    "start_time": "2023-01-19T07:04:25.321Z"
   },
   {
    "duration": 319,
    "start_time": "2023-01-19T07:04:25.748Z"
   },
   {
    "duration": 36,
    "start_time": "2023-01-19T07:04:26.068Z"
   },
   {
    "duration": 2910,
    "start_time": "2023-01-19T07:04:26.106Z"
   },
   {
    "duration": 218,
    "start_time": "2023-01-19T07:04:29.018Z"
   },
   {
    "duration": 20,
    "start_time": "2023-01-19T07:04:29.238Z"
   },
   {
    "duration": 27,
    "start_time": "2023-01-19T07:04:29.260Z"
   },
   {
    "duration": 153,
    "start_time": "2023-01-19T07:04:29.303Z"
   },
   {
    "duration": 4,
    "start_time": "2023-01-19T07:04:29.458Z"
   },
   {
    "duration": 182,
    "start_time": "2023-01-19T07:04:29.463Z"
   },
   {
    "duration": 322,
    "start_time": "2023-01-19T07:04:29.647Z"
   },
   {
    "duration": 192,
    "start_time": "2023-01-19T07:04:29.971Z"
   },
   {
    "duration": 4,
    "start_time": "2023-01-19T07:04:30.165Z"
   },
   {
    "duration": 17,
    "start_time": "2023-01-19T07:04:30.170Z"
   },
   {
    "duration": 16,
    "start_time": "2023-01-19T07:04:30.189Z"
   },
   {
    "duration": 21,
    "start_time": "2023-01-19T07:04:30.207Z"
   },
   {
    "duration": 88,
    "start_time": "2023-01-19T07:04:30.230Z"
   },
   {
    "duration": 683,
    "start_time": "2023-01-19T07:04:30.320Z"
   },
   {
    "duration": 3,
    "start_time": "2023-01-19T07:04:31.005Z"
   },
   {
    "duration": 233,
    "start_time": "2023-01-19T07:04:31.010Z"
   },
   {
    "duration": 4,
    "start_time": "2023-01-19T07:04:31.245Z"
   },
   {
    "duration": 34,
    "start_time": "2023-01-19T07:04:31.250Z"
   },
   {
    "duration": 127,
    "start_time": "2023-01-19T07:05:10.696Z"
   },
   {
    "duration": 3,
    "start_time": "2023-01-19T07:05:15.466Z"
   },
   {
    "duration": 78,
    "start_time": "2023-01-19T07:05:17.134Z"
   },
   {
    "duration": 1604,
    "start_time": "2023-01-19T07:05:30.830Z"
   },
   {
    "duration": 1195,
    "start_time": "2023-01-19T07:05:32.436Z"
   },
   {
    "duration": 114,
    "start_time": "2023-01-19T07:05:33.633Z"
   },
   {
    "duration": 17,
    "start_time": "2023-01-19T07:05:33.748Z"
   },
   {
    "duration": 138,
    "start_time": "2023-01-19T07:05:33.767Z"
   },
   {
    "duration": 859,
    "start_time": "2023-01-19T07:05:33.906Z"
   },
   {
    "duration": 448,
    "start_time": "2023-01-19T07:05:34.767Z"
   },
   {
    "duration": 4,
    "start_time": "2023-01-19T07:05:35.217Z"
   },
   {
    "duration": 36,
    "start_time": "2023-01-19T07:05:35.969Z"
   },
   {
    "duration": 75,
    "start_time": "2023-01-19T07:05:39.481Z"
   },
   {
    "duration": 230,
    "start_time": "2023-01-19T07:05:42.373Z"
   },
   {
    "duration": 20,
    "start_time": "2023-01-19T07:05:43.925Z"
   },
   {
    "duration": 4,
    "start_time": "2023-01-19T07:05:45.850Z"
   },
   {
    "duration": 2307,
    "start_time": "2023-01-19T07:05:46.475Z"
   },
   {
    "duration": 4,
    "start_time": "2023-01-19T07:05:48.785Z"
   },
   {
    "duration": 88,
    "start_time": "2023-01-19T07:05:48.956Z"
   },
   {
    "duration": 14,
    "start_time": "2023-01-19T07:05:49.964Z"
   },
   {
    "duration": 4,
    "start_time": "2023-01-19T07:05:51.057Z"
   },
   {
    "duration": 196,
    "start_time": "2023-01-19T07:05:51.742Z"
   },
   {
    "duration": 197,
    "start_time": "2023-01-19T07:05:52.296Z"
   },
   {
    "duration": 150,
    "start_time": "2023-01-19T07:05:52.779Z"
   },
   {
    "duration": 209,
    "start_time": "2023-01-19T07:05:53.270Z"
   },
   {
    "duration": 182,
    "start_time": "2023-01-19T07:05:53.833Z"
   },
   {
    "duration": 12,
    "start_time": "2023-01-19T07:05:54.888Z"
   },
   {
    "duration": 26,
    "start_time": "2023-01-19T07:05:56.254Z"
   },
   {
    "duration": 4,
    "start_time": "2023-01-19T07:05:57.790Z"
   },
   {
    "duration": 20,
    "start_time": "2023-01-19T07:05:58.365Z"
   },
   {
    "duration": 430,
    "start_time": "2023-01-19T07:05:59.257Z"
   },
   {
    "duration": 319,
    "start_time": "2023-01-19T07:06:00.732Z"
   },
   {
    "duration": 31,
    "start_time": "2023-01-19T07:06:02.389Z"
   },
   {
    "duration": 3038,
    "start_time": "2023-01-19T07:06:03.105Z"
   },
   {
    "duration": 234,
    "start_time": "2023-01-19T07:06:06.145Z"
   },
   {
    "duration": 29,
    "start_time": "2023-01-19T07:06:06.381Z"
   },
   {
    "duration": 29,
    "start_time": "2023-01-19T07:06:06.838Z"
   },
   {
    "duration": 175,
    "start_time": "2023-01-19T07:06:09.109Z"
   },
   {
    "duration": 5,
    "start_time": "2023-01-19T07:06:12.604Z"
   },
   {
    "duration": 206,
    "start_time": "2023-01-19T07:06:14.034Z"
   },
   {
    "duration": 333,
    "start_time": "2023-01-19T07:06:15.176Z"
   },
   {
    "duration": 196,
    "start_time": "2023-01-19T07:06:15.687Z"
   },
   {
    "duration": 4,
    "start_time": "2023-01-19T07:06:16.286Z"
   },
   {
    "duration": 2,
    "start_time": "2023-01-19T07:06:18.724Z"
   },
   {
    "duration": 5,
    "start_time": "2023-01-19T07:06:28.056Z"
   },
   {
    "duration": 12,
    "start_time": "2023-01-19T07:06:28.791Z"
   },
   {
    "duration": 63,
    "start_time": "2023-01-19T07:06:30.600Z"
   },
   {
    "duration": 630,
    "start_time": "2023-01-19T07:06:33.504Z"
   },
   {
    "duration": 4,
    "start_time": "2023-01-19T07:06:35.996Z"
   },
   {
    "duration": 184,
    "start_time": "2023-01-19T07:06:37.725Z"
   },
   {
    "duration": 3,
    "start_time": "2023-01-19T07:06:40.322Z"
   },
   {
    "duration": 4,
    "start_time": "2023-01-19T07:06:43.749Z"
   },
   {
    "duration": 49,
    "start_time": "2023-01-19T07:12:43.132Z"
   },
   {
    "duration": 1631,
    "start_time": "2023-01-19T07:18:21.720Z"
   },
   {
    "duration": 1799,
    "start_time": "2023-01-19T07:18:23.353Z"
   },
   {
    "duration": 123,
    "start_time": "2023-01-19T07:18:25.154Z"
   },
   {
    "duration": 25,
    "start_time": "2023-01-19T07:18:25.279Z"
   },
   {
    "duration": 137,
    "start_time": "2023-01-19T07:18:25.306Z"
   },
   {
    "duration": 800,
    "start_time": "2023-01-19T07:18:25.445Z"
   },
   {
    "duration": 417,
    "start_time": "2023-01-19T07:18:26.247Z"
   },
   {
    "duration": 3,
    "start_time": "2023-01-19T07:18:26.666Z"
   },
   {
    "duration": 44,
    "start_time": "2023-01-19T07:18:26.671Z"
   },
   {
    "duration": 85,
    "start_time": "2023-01-19T07:18:26.718Z"
   },
   {
    "duration": 231,
    "start_time": "2023-01-19T07:18:26.805Z"
   },
   {
    "duration": 21,
    "start_time": "2023-01-19T07:18:27.038Z"
   },
   {
    "duration": 3,
    "start_time": "2023-01-19T07:18:27.061Z"
   },
   {
    "duration": 2281,
    "start_time": "2023-01-19T07:18:27.066Z"
   },
   {
    "duration": 3,
    "start_time": "2023-01-19T07:18:29.349Z"
   },
   {
    "duration": 96,
    "start_time": "2023-01-19T07:18:29.353Z"
   },
   {
    "duration": 12,
    "start_time": "2023-01-19T07:18:29.451Z"
   },
   {
    "duration": 10,
    "start_time": "2023-01-19T07:18:29.465Z"
   },
   {
    "duration": 218,
    "start_time": "2023-01-19T07:18:29.476Z"
   },
   {
    "duration": 190,
    "start_time": "2023-01-19T07:18:29.696Z"
   },
   {
    "duration": 154,
    "start_time": "2023-01-19T07:18:29.888Z"
   },
   {
    "duration": 223,
    "start_time": "2023-01-19T07:18:30.044Z"
   },
   {
    "duration": 202,
    "start_time": "2023-01-19T07:18:30.269Z"
   },
   {
    "duration": 13,
    "start_time": "2023-01-19T07:18:30.473Z"
   },
   {
    "duration": 51,
    "start_time": "2023-01-19T07:18:30.488Z"
   },
   {
    "duration": 2,
    "start_time": "2023-01-19T07:18:30.541Z"
   },
   {
    "duration": 56,
    "start_time": "2023-01-19T07:18:30.545Z"
   },
   {
    "duration": 440,
    "start_time": "2023-01-19T07:18:30.605Z"
   },
   {
    "duration": 336,
    "start_time": "2023-01-19T07:18:31.047Z"
   },
   {
    "duration": 37,
    "start_time": "2023-01-19T07:18:31.384Z"
   },
   {
    "duration": 3096,
    "start_time": "2023-01-19T07:18:31.423Z"
   },
   {
    "duration": 233,
    "start_time": "2023-01-19T07:18:34.521Z"
   },
   {
    "duration": 21,
    "start_time": "2023-01-19T07:18:34.756Z"
   },
   {
    "duration": 39,
    "start_time": "2023-01-19T07:18:34.778Z"
   },
   {
    "duration": 156,
    "start_time": "2023-01-19T07:18:34.819Z"
   },
   {
    "duration": 4,
    "start_time": "2023-01-19T07:18:34.977Z"
   },
   {
    "duration": 187,
    "start_time": "2023-01-19T07:18:34.983Z"
   },
   {
    "duration": 333,
    "start_time": "2023-01-19T07:18:35.172Z"
   },
   {
    "duration": 199,
    "start_time": "2023-01-19T07:18:35.507Z"
   },
   {
    "duration": 5,
    "start_time": "2023-01-19T07:18:35.708Z"
   },
   {
    "duration": 9,
    "start_time": "2023-01-19T07:18:35.714Z"
   },
   {
    "duration": 9,
    "start_time": "2023-01-19T07:18:35.725Z"
   },
   {
    "duration": 22,
    "start_time": "2023-01-19T07:18:35.735Z"
   },
   {
    "duration": 73,
    "start_time": "2023-01-19T07:18:35.759Z"
   },
   {
    "duration": 675,
    "start_time": "2023-01-19T07:18:35.834Z"
   },
   {
    "duration": 4,
    "start_time": "2023-01-19T07:18:36.511Z"
   },
   {
    "duration": 189,
    "start_time": "2023-01-19T07:18:36.516Z"
   },
   {
    "duration": 3,
    "start_time": "2023-01-19T07:18:36.707Z"
   },
   {
    "duration": 11,
    "start_time": "2023-01-19T07:18:36.711Z"
   },
   {
    "duration": 1575,
    "start_time": "2023-01-19T07:20:27.647Z"
   },
   {
    "duration": 1216,
    "start_time": "2023-01-19T07:20:29.224Z"
   },
   {
    "duration": 118,
    "start_time": "2023-01-19T07:20:30.442Z"
   },
   {
    "duration": 18,
    "start_time": "2023-01-19T07:20:30.563Z"
   },
   {
    "duration": 105,
    "start_time": "2023-01-19T07:20:30.603Z"
   },
   {
    "duration": 830,
    "start_time": "2023-01-19T07:20:30.710Z"
   },
   {
    "duration": 422,
    "start_time": "2023-01-19T07:20:31.542Z"
   },
   {
    "duration": 4,
    "start_time": "2023-01-19T07:20:31.966Z"
   },
   {
    "duration": 47,
    "start_time": "2023-01-19T07:20:31.972Z"
   },
   {
    "duration": 86,
    "start_time": "2023-01-19T07:20:32.022Z"
   },
   {
    "duration": 236,
    "start_time": "2023-01-19T07:20:32.110Z"
   },
   {
    "duration": 19,
    "start_time": "2023-01-19T07:20:32.347Z"
   },
   {
    "duration": 4,
    "start_time": "2023-01-19T07:20:32.368Z"
   },
   {
    "duration": 2258,
    "start_time": "2023-01-19T07:20:32.373Z"
   },
   {
    "duration": 3,
    "start_time": "2023-01-19T07:20:34.633Z"
   },
   {
    "duration": 92,
    "start_time": "2023-01-19T07:20:34.638Z"
   },
   {
    "duration": 12,
    "start_time": "2023-01-19T07:20:34.732Z"
   },
   {
    "duration": 5,
    "start_time": "2023-01-19T07:20:34.746Z"
   },
   {
    "duration": 217,
    "start_time": "2023-01-19T07:20:34.752Z"
   },
   {
    "duration": 217,
    "start_time": "2023-01-19T07:20:34.971Z"
   },
   {
    "duration": 169,
    "start_time": "2023-01-19T07:20:35.189Z"
   },
   {
    "duration": 220,
    "start_time": "2023-01-19T07:20:35.360Z"
   },
   {
    "duration": 190,
    "start_time": "2023-01-19T07:20:35.582Z"
   },
   {
    "duration": 11,
    "start_time": "2023-01-19T07:20:35.774Z"
   },
   {
    "duration": 42,
    "start_time": "2023-01-19T07:20:35.787Z"
   },
   {
    "duration": 3,
    "start_time": "2023-01-19T07:20:35.831Z"
   },
   {
    "duration": 56,
    "start_time": "2023-01-19T07:20:35.836Z"
   },
   {
    "duration": 418,
    "start_time": "2023-01-19T07:20:35.895Z"
   },
   {
    "duration": 319,
    "start_time": "2023-01-19T07:20:36.314Z"
   },
   {
    "duration": 25,
    "start_time": "2023-01-19T07:20:36.635Z"
   },
   {
    "duration": 3063,
    "start_time": "2023-01-19T07:20:36.662Z"
   },
   {
    "duration": 221,
    "start_time": "2023-01-19T07:20:39.727Z"
   },
   {
    "duration": 20,
    "start_time": "2023-01-19T07:20:39.949Z"
   },
   {
    "duration": 38,
    "start_time": "2023-01-19T07:20:39.971Z"
   },
   {
    "duration": 164,
    "start_time": "2023-01-19T07:20:40.011Z"
   },
   {
    "duration": 4,
    "start_time": "2023-01-19T07:20:40.177Z"
   },
   {
    "duration": 179,
    "start_time": "2023-01-19T07:20:40.183Z"
   },
   {
    "duration": 336,
    "start_time": "2023-01-19T07:20:40.364Z"
   },
   {
    "duration": 201,
    "start_time": "2023-01-19T07:20:40.702Z"
   },
   {
    "duration": 4,
    "start_time": "2023-01-19T07:20:40.904Z"
   },
   {
    "duration": 11,
    "start_time": "2023-01-19T07:20:40.909Z"
   },
   {
    "duration": 5,
    "start_time": "2023-01-19T07:20:40.922Z"
   },
   {
    "duration": 17,
    "start_time": "2023-01-19T07:20:40.929Z"
   },
   {
    "duration": 69,
    "start_time": "2023-01-19T07:20:40.948Z"
   },
   {
    "duration": 644,
    "start_time": "2023-01-19T07:20:41.018Z"
   },
   {
    "duration": 4,
    "start_time": "2023-01-19T07:20:41.663Z"
   },
   {
    "duration": 187,
    "start_time": "2023-01-19T07:20:41.668Z"
   },
   {
    "duration": 3,
    "start_time": "2023-01-19T07:20:41.857Z"
   },
   {
    "duration": 6,
    "start_time": "2023-01-19T07:20:41.861Z"
   },
   {
    "duration": 7,
    "start_time": "2023-01-19T07:20:41.869Z"
   },
   {
    "duration": 5,
    "start_time": "2023-01-19T07:20:41.877Z"
   },
   {
    "duration": 5,
    "start_time": "2023-01-19T07:20:41.884Z"
   },
   {
    "duration": 194,
    "start_time": "2023-01-19T07:20:41.890Z"
   },
   {
    "duration": 86,
    "start_time": "2023-01-19T07:20:42.085Z"
   },
   {
    "duration": 4,
    "start_time": "2023-01-19T07:20:42.173Z"
   },
   {
    "duration": 139,
    "start_time": "2023-01-19T07:20:42.179Z"
   },
   {
    "duration": 74,
    "start_time": "2023-01-19T07:20:42.320Z"
   },
   {
    "duration": 5,
    "start_time": "2023-01-19T07:20:42.395Z"
   },
   {
    "duration": 79306,
    "start_time": "2023-01-19T07:20:42.401Z"
   },
   {
    "duration": 116,
    "start_time": "2023-01-19T07:22:01.708Z"
   },
   {
    "duration": 10,
    "start_time": "2023-01-19T07:22:01.826Z"
   },
   {
    "duration": 0,
    "start_time": "2023-01-19T07:22:01.838Z"
   },
   {
    "duration": 4,
    "start_time": "2023-01-19T07:23:29.655Z"
   },
   {
    "duration": 2599,
    "start_time": "2023-01-19T07:26:27.027Z"
   },
   {
    "duration": 2290,
    "start_time": "2023-01-19T07:26:29.628Z"
   },
   {
    "duration": 210,
    "start_time": "2023-01-19T07:26:31.919Z"
   },
   {
    "duration": 74,
    "start_time": "2023-01-19T07:26:32.131Z"
   },
   {
    "duration": 235,
    "start_time": "2023-01-19T07:26:32.207Z"
   },
   {
    "duration": 1681,
    "start_time": "2023-01-19T07:26:32.444Z"
   },
   {
    "duration": 1002,
    "start_time": "2023-01-19T07:26:34.127Z"
   },
   {
    "duration": 4,
    "start_time": "2023-01-19T07:26:35.131Z"
   },
   {
    "duration": 96,
    "start_time": "2023-01-19T07:26:35.137Z"
   },
   {
    "duration": 184,
    "start_time": "2023-01-19T07:26:35.235Z"
   },
   {
    "duration": 512,
    "start_time": "2023-01-19T07:26:35.421Z"
   },
   {
    "duration": 71,
    "start_time": "2023-01-19T07:26:35.934Z"
   },
   {
    "duration": 4,
    "start_time": "2023-01-19T07:26:36.007Z"
   },
   {
    "duration": 4622,
    "start_time": "2023-01-19T07:26:36.014Z"
   },
   {
    "duration": 3,
    "start_time": "2023-01-19T07:26:40.638Z"
   },
   {
    "duration": 197,
    "start_time": "2023-01-19T07:26:40.642Z"
   },
   {
    "duration": 68,
    "start_time": "2023-01-19T07:26:40.841Z"
   },
   {
    "duration": 4,
    "start_time": "2023-01-19T07:26:40.910Z"
   },
   {
    "duration": 414,
    "start_time": "2023-01-19T07:26:40.916Z"
   },
   {
    "duration": 389,
    "start_time": "2023-01-19T07:26:41.331Z"
   },
   {
    "duration": 313,
    "start_time": "2023-01-19T07:26:41.722Z"
   },
   {
    "duration": 411,
    "start_time": "2023-01-19T07:26:42.036Z"
   },
   {
    "duration": 380,
    "start_time": "2023-01-19T07:26:42.449Z"
   },
   {
    "duration": 12,
    "start_time": "2023-01-19T07:26:42.831Z"
   },
   {
    "duration": 90,
    "start_time": "2023-01-19T07:26:42.845Z"
   },
   {
    "duration": 3,
    "start_time": "2023-01-19T07:26:42.937Z"
   },
   {
    "duration": 80,
    "start_time": "2023-01-19T07:26:42.942Z"
   },
   {
    "duration": 881,
    "start_time": "2023-01-19T07:26:43.024Z"
   },
   {
    "duration": 717,
    "start_time": "2023-01-19T07:26:43.909Z"
   },
   {
    "duration": 85,
    "start_time": "2023-01-19T07:26:44.628Z"
   },
   {
    "duration": 6133,
    "start_time": "2023-01-19T07:26:44.715Z"
   },
   {
    "duration": 487,
    "start_time": "2023-01-19T07:26:50.850Z"
   },
   {
    "duration": 77,
    "start_time": "2023-01-19T07:26:51.338Z"
   },
   {
    "duration": 27,
    "start_time": "2023-01-19T07:26:51.417Z"
   },
   {
    "duration": 300,
    "start_time": "2023-01-19T07:26:51.504Z"
   },
   {
    "duration": 4,
    "start_time": "2023-01-19T07:26:51.806Z"
   },
   {
    "duration": 330,
    "start_time": "2023-01-19T07:26:51.812Z"
   },
   {
    "duration": 689,
    "start_time": "2023-01-19T07:26:52.144Z"
   },
   {
    "duration": 400,
    "start_time": "2023-01-19T07:26:52.835Z"
   },
   {
    "duration": 5,
    "start_time": "2023-01-19T07:26:53.237Z"
   },
   {
    "duration": 3,
    "start_time": "2023-01-19T07:26:53.303Z"
   },
   {
    "duration": 15,
    "start_time": "2023-01-19T07:26:53.307Z"
   },
   {
    "duration": 31,
    "start_time": "2023-01-19T07:26:53.324Z"
   },
   {
    "duration": 163,
    "start_time": "2023-01-19T07:26:53.357Z"
   },
   {
    "duration": 1430,
    "start_time": "2023-01-19T07:26:53.522Z"
   },
   {
    "duration": 4,
    "start_time": "2023-01-19T07:26:55.004Z"
   },
   {
    "duration": 403,
    "start_time": "2023-01-19T07:26:55.010Z"
   },
   {
    "duration": 3,
    "start_time": "2023-01-19T07:26:55.414Z"
   },
   {
    "duration": 6,
    "start_time": "2023-01-19T07:26:55.419Z"
   },
   {
    "duration": 7,
    "start_time": "2023-01-19T07:26:55.426Z"
   },
   {
    "duration": 5,
    "start_time": "2023-01-19T07:26:55.435Z"
   },
   {
    "duration": 62,
    "start_time": "2023-01-19T07:26:55.441Z"
   },
   {
    "duration": 307,
    "start_time": "2023-01-19T07:26:55.505Z"
   },
   {
    "duration": 104,
    "start_time": "2023-01-19T07:26:55.814Z"
   },
   {
    "duration": 6,
    "start_time": "2023-01-19T07:26:55.920Z"
   },
   {
    "duration": 120,
    "start_time": "2023-01-19T07:26:55.928Z"
   },
   {
    "duration": 100,
    "start_time": "2023-01-19T07:26:56.049Z"
   },
   {
    "duration": 5,
    "start_time": "2023-01-19T07:26:56.151Z"
   },
   {
    "duration": 160067,
    "start_time": "2023-01-19T07:26:56.158Z"
   },
   {
    "duration": 179,
    "start_time": "2023-01-19T07:29:36.227Z"
   },
   {
    "duration": 12,
    "start_time": "2023-01-19T07:29:36.408Z"
   },
   {
    "duration": 1,
    "start_time": "2023-01-19T07:29:36.421Z"
   },
   {
    "duration": 2777,
    "start_time": "2023-01-19T07:29:43.241Z"
   },
   {
    "duration": 2215,
    "start_time": "2023-01-19T07:29:46.020Z"
   },
   {
    "duration": 271,
    "start_time": "2023-01-19T07:29:48.237Z"
   },
   {
    "duration": 16,
    "start_time": "2023-01-19T07:29:48.510Z"
   },
   {
    "duration": 204,
    "start_time": "2023-01-19T07:29:48.528Z"
   },
   {
    "duration": 1678,
    "start_time": "2023-01-19T07:29:48.734Z"
   },
   {
    "duration": 922,
    "start_time": "2023-01-19T07:29:50.415Z"
   },
   {
    "duration": 3,
    "start_time": "2023-01-19T07:29:51.339Z"
   },
   {
    "duration": 92,
    "start_time": "2023-01-19T07:29:51.344Z"
   },
   {
    "duration": 175,
    "start_time": "2023-01-19T07:29:51.438Z"
   },
   {
    "duration": 427,
    "start_time": "2023-01-19T07:29:51.614Z"
   },
   {
    "duration": 77,
    "start_time": "2023-01-19T07:29:52.043Z"
   },
   {
    "duration": 22,
    "start_time": "2023-01-19T07:29:52.122Z"
   },
   {
    "duration": 4658,
    "start_time": "2023-01-19T07:29:52.146Z"
   },
   {
    "duration": 3,
    "start_time": "2023-01-19T07:29:56.806Z"
   },
   {
    "duration": 226,
    "start_time": "2023-01-19T07:29:56.812Z"
   },
   {
    "duration": 72,
    "start_time": "2023-01-19T07:29:57.040Z"
   },
   {
    "duration": 4,
    "start_time": "2023-01-19T07:29:57.114Z"
   },
   {
    "duration": 419,
    "start_time": "2023-01-19T07:29:57.120Z"
   },
   {
    "duration": 399,
    "start_time": "2023-01-19T07:29:57.541Z"
   },
   {
    "duration": 301,
    "start_time": "2023-01-19T07:29:57.942Z"
   },
   {
    "duration": 461,
    "start_time": "2023-01-19T07:29:58.245Z"
   },
   {
    "duration": 340,
    "start_time": "2023-01-19T07:29:58.707Z"
   },
   {
    "duration": 13,
    "start_time": "2023-01-19T07:29:59.102Z"
   },
   {
    "duration": 26,
    "start_time": "2023-01-19T07:29:59.118Z"
   },
   {
    "duration": 3,
    "start_time": "2023-01-19T07:29:59.203Z"
   },
   {
    "duration": 25,
    "start_time": "2023-01-19T07:29:59.207Z"
   },
   {
    "duration": 872,
    "start_time": "2023-01-19T07:29:59.237Z"
   },
   {
    "duration": 629,
    "start_time": "2023-01-19T07:30:00.111Z"
   },
   {
    "duration": 87,
    "start_time": "2023-01-19T07:30:00.742Z"
   },
   {
    "duration": 6115,
    "start_time": "2023-01-19T07:30:00.831Z"
   },
   {
    "duration": 498,
    "start_time": "2023-01-19T07:30:06.949Z"
   },
   {
    "duration": 21,
    "start_time": "2023-01-19T07:30:07.504Z"
   },
   {
    "duration": 90,
    "start_time": "2023-01-19T07:30:07.526Z"
   },
   {
    "duration": 314,
    "start_time": "2023-01-19T07:30:07.618Z"
   },
   {
    "duration": 4,
    "start_time": "2023-01-19T07:30:07.934Z"
   },
   {
    "duration": 374,
    "start_time": "2023-01-19T07:30:07.941Z"
   },
   {
    "duration": 636,
    "start_time": "2023-01-19T07:30:08.317Z"
   },
   {
    "duration": 390,
    "start_time": "2023-01-19T07:30:08.955Z"
   },
   {
    "duration": 57,
    "start_time": "2023-01-19T07:30:09.347Z"
   },
   {
    "duration": 36,
    "start_time": "2023-01-19T07:30:09.406Z"
   },
   {
    "duration": 60,
    "start_time": "2023-01-19T07:30:09.443Z"
   },
   {
    "duration": 25,
    "start_time": "2023-01-19T07:30:09.506Z"
   },
   {
    "duration": 171,
    "start_time": "2023-01-19T07:30:09.533Z"
   },
   {
    "duration": 1326,
    "start_time": "2023-01-19T07:30:09.706Z"
   },
   {
    "duration": 4,
    "start_time": "2023-01-19T07:30:11.034Z"
   },
   {
    "duration": 398,
    "start_time": "2023-01-19T07:30:11.040Z"
   },
   {
    "duration": 3,
    "start_time": "2023-01-19T07:30:11.440Z"
   },
   {
    "duration": 66,
    "start_time": "2023-01-19T07:30:11.444Z"
   },
   {
    "duration": 15,
    "start_time": "2023-01-19T07:30:11.512Z"
   },
   {
    "duration": 13,
    "start_time": "2023-01-19T07:30:11.530Z"
   },
   {
    "duration": 683,
    "start_time": "2023-01-19T07:30:11.544Z"
   },
   {
    "duration": 5,
    "start_time": "2023-01-19T07:30:12.229Z"
   },
   {
    "duration": 1630,
    "start_time": "2023-01-19T07:32:34.722Z"
   },
   {
    "duration": 1439,
    "start_time": "2023-01-19T07:32:36.354Z"
   },
   {
    "duration": 126,
    "start_time": "2023-01-19T07:32:37.798Z"
   },
   {
    "duration": 18,
    "start_time": "2023-01-19T07:32:37.925Z"
   },
   {
    "duration": 162,
    "start_time": "2023-01-19T07:32:37.945Z"
   },
   {
    "duration": 804,
    "start_time": "2023-01-19T07:32:38.109Z"
   },
   {
    "duration": 460,
    "start_time": "2023-01-19T07:32:38.914Z"
   },
   {
    "duration": 4,
    "start_time": "2023-01-19T07:32:39.376Z"
   },
   {
    "duration": 49,
    "start_time": "2023-01-19T07:32:39.382Z"
   },
   {
    "duration": 86,
    "start_time": "2023-01-19T07:32:39.433Z"
   },
   {
    "duration": 235,
    "start_time": "2023-01-19T07:32:39.521Z"
   },
   {
    "duration": 20,
    "start_time": "2023-01-19T07:32:39.757Z"
   },
   {
    "duration": 3,
    "start_time": "2023-01-19T07:32:39.779Z"
   },
   {
    "duration": 2279,
    "start_time": "2023-01-19T07:32:39.784Z"
   },
   {
    "duration": 3,
    "start_time": "2023-01-19T07:32:42.065Z"
   },
   {
    "duration": 133,
    "start_time": "2023-01-19T07:32:42.071Z"
   },
   {
    "duration": 13,
    "start_time": "2023-01-19T07:32:42.206Z"
   },
   {
    "duration": 7,
    "start_time": "2023-01-19T07:32:42.221Z"
   },
   {
    "duration": 223,
    "start_time": "2023-01-19T07:32:42.229Z"
   },
   {
    "duration": 206,
    "start_time": "2023-01-19T07:32:42.454Z"
   },
   {
    "duration": 162,
    "start_time": "2023-01-19T07:32:42.661Z"
   },
   {
    "duration": 234,
    "start_time": "2023-01-19T07:32:42.824Z"
   },
   {
    "duration": 206,
    "start_time": "2023-01-19T07:32:43.059Z"
   },
   {
    "duration": 15,
    "start_time": "2023-01-19T07:32:43.267Z"
   },
   {
    "duration": 33,
    "start_time": "2023-01-19T07:32:43.285Z"
   },
   {
    "duration": 8,
    "start_time": "2023-01-19T07:32:43.320Z"
   },
   {
    "duration": 51,
    "start_time": "2023-01-19T07:32:43.333Z"
   },
   {
    "duration": 441,
    "start_time": "2023-01-19T07:32:43.386Z"
   },
   {
    "duration": 347,
    "start_time": "2023-01-19T07:32:43.829Z"
   },
   {
    "duration": 47,
    "start_time": "2023-01-19T07:32:44.178Z"
   },
   {
    "duration": 3117,
    "start_time": "2023-01-19T07:32:44.228Z"
   },
   {
    "duration": 228,
    "start_time": "2023-01-19T07:32:47.347Z"
   },
   {
    "duration": 28,
    "start_time": "2023-01-19T07:32:47.577Z"
   },
   {
    "duration": 29,
    "start_time": "2023-01-19T07:32:47.606Z"
   },
   {
    "duration": 176,
    "start_time": "2023-01-19T07:32:47.637Z"
   },
   {
    "duration": 4,
    "start_time": "2023-01-19T07:32:47.815Z"
   },
   {
    "duration": 185,
    "start_time": "2023-01-19T07:32:47.821Z"
   },
   {
    "duration": 341,
    "start_time": "2023-01-19T07:32:48.008Z"
   },
   {
    "duration": 206,
    "start_time": "2023-01-19T07:32:48.351Z"
   },
   {
    "duration": 4,
    "start_time": "2023-01-19T07:32:48.559Z"
   },
   {
    "duration": 22,
    "start_time": "2023-01-19T07:32:48.564Z"
   },
   {
    "duration": 11,
    "start_time": "2023-01-19T07:32:48.588Z"
   },
   {
    "duration": 28,
    "start_time": "2023-01-19T07:32:48.601Z"
   },
   {
    "duration": 64,
    "start_time": "2023-01-19T07:32:48.631Z"
   },
   {
    "duration": 2,
    "start_time": "2023-01-19T07:32:48.697Z"
   },
   {
    "duration": 382,
    "start_time": "2023-01-19T07:32:48.702Z"
   },
   {
    "duration": 4,
    "start_time": "2023-01-19T07:32:49.086Z"
   },
   {
    "duration": 50,
    "start_time": "2023-01-19T07:32:49.092Z"
   },
   {
    "duration": 197,
    "start_time": "2023-01-19T07:32:49.143Z"
   },
   {
    "duration": 3,
    "start_time": "2023-01-19T07:32:49.342Z"
   },
   {
    "duration": 37,
    "start_time": "2023-01-19T07:32:49.347Z"
   },
   {
    "duration": 490,
    "start_time": "2023-01-19T07:32:49.386Z"
   },
   {
    "duration": 86,
    "start_time": "2023-01-19T07:32:49.878Z"
   },
   {
    "duration": 6,
    "start_time": "2023-01-19T07:32:49.966Z"
   },
   {
    "duration": 521,
    "start_time": "2023-01-19T07:32:49.974Z"
   },
   {
    "duration": 84,
    "start_time": "2023-01-19T07:32:50.497Z"
   },
   {
    "duration": 5,
    "start_time": "2023-01-19T07:32:50.583Z"
   },
   {
    "duration": 91922,
    "start_time": "2023-01-19T07:32:50.590Z"
   },
   {
    "duration": 2740,
    "start_time": "2023-01-19T07:34:22.513Z"
   },
   {
    "duration": 7,
    "start_time": "2023-01-19T07:34:25.255Z"
   },
   {
    "duration": 196,
    "start_time": "2023-01-19T07:34:25.264Z"
   },
   {
    "duration": 77,
    "start_time": "2023-01-19T07:34:25.461Z"
   },
   {
    "duration": 11,
    "start_time": "2023-01-19T07:34:25.540Z"
   },
   {
    "duration": 0,
    "start_time": "2023-01-19T07:34:25.552Z"
   },
   {
    "duration": 1510,
    "start_time": "2023-01-19T07:42:15.528Z"
   },
   {
    "duration": 1164,
    "start_time": "2023-01-19T07:42:17.040Z"
   },
   {
    "duration": 108,
    "start_time": "2023-01-19T07:42:18.206Z"
   },
   {
    "duration": 21,
    "start_time": "2023-01-19T07:42:18.316Z"
   },
   {
    "duration": 154,
    "start_time": "2023-01-19T07:42:18.338Z"
   },
   {
    "duration": 846,
    "start_time": "2023-01-19T07:42:18.493Z"
   },
   {
    "duration": 464,
    "start_time": "2023-01-19T07:42:19.340Z"
   },
   {
    "duration": 3,
    "start_time": "2023-01-19T07:42:19.805Z"
   },
   {
    "duration": 43,
    "start_time": "2023-01-19T07:42:19.810Z"
   },
   {
    "duration": 84,
    "start_time": "2023-01-19T07:42:19.857Z"
   },
   {
    "duration": 241,
    "start_time": "2023-01-19T07:42:19.943Z"
   },
   {
    "duration": 28,
    "start_time": "2023-01-19T07:42:20.185Z"
   },
   {
    "duration": 35,
    "start_time": "2023-01-19T07:42:20.215Z"
   },
   {
    "duration": 2304,
    "start_time": "2023-01-19T07:42:20.251Z"
   },
   {
    "duration": 3,
    "start_time": "2023-01-19T07:42:22.556Z"
   },
   {
    "duration": 110,
    "start_time": "2023-01-19T07:42:22.561Z"
   },
   {
    "duration": 13,
    "start_time": "2023-01-19T07:42:22.673Z"
   },
   {
    "duration": 28,
    "start_time": "2023-01-19T07:42:22.687Z"
   },
   {
    "duration": 232,
    "start_time": "2023-01-19T07:42:22.717Z"
   },
   {
    "duration": 194,
    "start_time": "2023-01-19T07:42:22.951Z"
   },
   {
    "duration": 151,
    "start_time": "2023-01-19T07:42:23.147Z"
   },
   {
    "duration": 204,
    "start_time": "2023-01-19T07:42:23.302Z"
   },
   {
    "duration": 188,
    "start_time": "2023-01-19T07:42:23.508Z"
   },
   {
    "duration": 15,
    "start_time": "2023-01-19T07:42:23.698Z"
   },
   {
    "duration": 47,
    "start_time": "2023-01-19T07:42:23.714Z"
   },
   {
    "duration": 14,
    "start_time": "2023-01-19T07:42:23.763Z"
   },
   {
    "duration": 61,
    "start_time": "2023-01-19T07:42:23.779Z"
   },
   {
    "duration": 515,
    "start_time": "2023-01-19T07:42:23.844Z"
   },
   {
    "duration": 319,
    "start_time": "2023-01-19T07:42:24.360Z"
   },
   {
    "duration": 37,
    "start_time": "2023-01-19T07:42:24.681Z"
   },
   {
    "duration": 2992,
    "start_time": "2023-01-19T07:42:24.720Z"
   },
   {
    "duration": 234,
    "start_time": "2023-01-19T07:42:27.714Z"
   },
   {
    "duration": 20,
    "start_time": "2023-01-19T07:42:27.950Z"
   },
   {
    "duration": 42,
    "start_time": "2023-01-19T07:42:27.972Z"
   },
   {
    "duration": 158,
    "start_time": "2023-01-19T07:42:28.016Z"
   },
   {
    "duration": 4,
    "start_time": "2023-01-19T07:42:28.176Z"
   },
   {
    "duration": 197,
    "start_time": "2023-01-19T07:42:28.181Z"
   },
   {
    "duration": 305,
    "start_time": "2023-01-19T07:42:28.379Z"
   },
   {
    "duration": 189,
    "start_time": "2023-01-19T07:42:28.686Z"
   },
   {
    "duration": 4,
    "start_time": "2023-01-19T07:42:28.877Z"
   },
   {
    "duration": 137,
    "start_time": "2023-01-19T07:42:28.883Z"
   },
   {
    "duration": 0,
    "start_time": "2023-01-19T07:42:29.022Z"
   },
   {
    "duration": 0,
    "start_time": "2023-01-19T07:42:29.023Z"
   },
   {
    "duration": 0,
    "start_time": "2023-01-19T07:42:29.024Z"
   },
   {
    "duration": 0,
    "start_time": "2023-01-19T07:42:29.025Z"
   },
   {
    "duration": 0,
    "start_time": "2023-01-19T07:42:29.026Z"
   },
   {
    "duration": 0,
    "start_time": "2023-01-19T07:42:29.027Z"
   },
   {
    "duration": 0,
    "start_time": "2023-01-19T07:42:29.028Z"
   },
   {
    "duration": 0,
    "start_time": "2023-01-19T07:42:29.029Z"
   },
   {
    "duration": 0,
    "start_time": "2023-01-19T07:42:29.030Z"
   },
   {
    "duration": 0,
    "start_time": "2023-01-19T07:42:29.031Z"
   },
   {
    "duration": 0,
    "start_time": "2023-01-19T07:42:29.032Z"
   },
   {
    "duration": 0,
    "start_time": "2023-01-19T07:42:29.033Z"
   },
   {
    "duration": 0,
    "start_time": "2023-01-19T07:42:29.034Z"
   },
   {
    "duration": 0,
    "start_time": "2023-01-19T07:42:29.035Z"
   },
   {
    "duration": 0,
    "start_time": "2023-01-19T07:42:29.036Z"
   },
   {
    "duration": 0,
    "start_time": "2023-01-19T07:42:29.037Z"
   },
   {
    "duration": 0,
    "start_time": "2023-01-19T07:42:29.038Z"
   },
   {
    "duration": 0,
    "start_time": "2023-01-19T07:42:29.039Z"
   },
   {
    "duration": 0,
    "start_time": "2023-01-19T07:42:29.040Z"
   },
   {
    "duration": 0,
    "start_time": "2023-01-19T07:42:29.041Z"
   },
   {
    "duration": 338,
    "start_time": "2023-01-19T07:43:52.445Z"
   },
   {
    "duration": 4,
    "start_time": "2023-01-19T07:43:54.622Z"
   },
   {
    "duration": 18,
    "start_time": "2023-01-19T07:43:59.705Z"
   },
   {
    "duration": 52,
    "start_time": "2023-01-19T07:44:01.270Z"
   },
   {
    "duration": 3,
    "start_time": "2023-01-19T07:44:04.978Z"
   },
   {
    "duration": 151,
    "start_time": "2023-01-19T07:44:05.510Z"
   },
   {
    "duration": 3,
    "start_time": "2023-01-19T07:44:10.062Z"
   },
   {
    "duration": 4,
    "start_time": "2023-01-19T07:44:14.670Z"
   },
   {
    "duration": 1054,
    "start_time": "2023-01-19T07:44:15.163Z"
   },
   {
    "duration": 79,
    "start_time": "2023-01-19T07:44:19.128Z"
   },
   {
    "duration": 4,
    "start_time": "2023-01-19T07:44:20.793Z"
   },
   {
    "duration": 4184759,
    "start_time": "2023-01-19T07:44:20.964Z"
   },
   {
    "duration": 12188,
    "start_time": "2023-01-19T08:54:05.725Z"
   },
   {
    "duration": 4,
    "start_time": "2023-01-19T08:54:17.915Z"
   },
   {
    "duration": 89303,
    "start_time": "2023-01-19T08:54:17.921Z"
   },
   {
    "duration": 5742,
    "start_time": "2023-01-19T08:55:47.226Z"
   },
   {
    "duration": 5,
    "start_time": "2023-01-19T08:57:08.131Z"
   },
   {
    "duration": 354520,
    "start_time": "2023-01-19T08:57:09.385Z"
   },
   {
    "duration": 107556,
    "start_time": "2023-01-19T09:08:05.576Z"
   },
   {
    "duration": 11,
    "start_time": "2023-01-19T09:10:43.377Z"
   },
   {
    "duration": 9,
    "start_time": "2023-01-19T09:11:01.826Z"
   },
   {
    "duration": 12,
    "start_time": "2023-01-19T09:14:47.138Z"
   },
   {
    "duration": 88570,
    "start_time": "2023-01-19T09:15:17.745Z"
   },
   {
    "duration": 0,
    "start_time": "2023-01-19T09:16:46.320Z"
   },
   {
    "duration": 1553,
    "start_time": "2023-01-19T09:53:45.603Z"
   },
   {
    "duration": 2269,
    "start_time": "2023-01-19T09:53:47.159Z"
   },
   {
    "duration": 121,
    "start_time": "2023-01-19T09:53:49.430Z"
   },
   {
    "duration": 16,
    "start_time": "2023-01-19T09:53:49.553Z"
   },
   {
    "duration": 153,
    "start_time": "2023-01-19T09:53:49.571Z"
   },
   {
    "duration": 883,
    "start_time": "2023-01-19T09:53:49.725Z"
   },
   {
    "duration": 467,
    "start_time": "2023-01-19T09:53:50.610Z"
   },
   {
    "duration": 4,
    "start_time": "2023-01-19T09:53:51.079Z"
   },
   {
    "duration": 58,
    "start_time": "2023-01-19T09:53:51.084Z"
   },
   {
    "duration": 76,
    "start_time": "2023-01-19T09:53:51.144Z"
   },
   {
    "duration": 295,
    "start_time": "2023-01-19T09:53:51.222Z"
   },
   {
    "duration": 22,
    "start_time": "2023-01-19T09:53:51.519Z"
   },
   {
    "duration": 14,
    "start_time": "2023-01-19T09:53:51.543Z"
   },
   {
    "duration": 2356,
    "start_time": "2023-01-19T09:53:51.560Z"
   },
   {
    "duration": 3,
    "start_time": "2023-01-19T09:53:53.917Z"
   },
   {
    "duration": 99,
    "start_time": "2023-01-19T09:53:53.922Z"
   },
   {
    "duration": 13,
    "start_time": "2023-01-19T09:53:54.023Z"
   },
   {
    "duration": 4,
    "start_time": "2023-01-19T09:53:54.038Z"
   },
   {
    "duration": 271,
    "start_time": "2023-01-19T09:53:54.044Z"
   },
   {
    "duration": 209,
    "start_time": "2023-01-19T09:53:54.318Z"
   },
   {
    "duration": 156,
    "start_time": "2023-01-19T09:53:54.529Z"
   },
   {
    "duration": 227,
    "start_time": "2023-01-19T09:53:54.686Z"
   },
   {
    "duration": 198,
    "start_time": "2023-01-19T09:53:54.915Z"
   },
   {
    "duration": 13,
    "start_time": "2023-01-19T09:53:55.114Z"
   },
   {
    "duration": 27,
    "start_time": "2023-01-19T09:53:55.129Z"
   },
   {
    "duration": 3,
    "start_time": "2023-01-19T09:53:55.158Z"
   },
   {
    "duration": 44,
    "start_time": "2023-01-19T09:53:55.163Z"
   },
   {
    "duration": 459,
    "start_time": "2023-01-19T09:53:55.209Z"
   },
   {
    "duration": 336,
    "start_time": "2023-01-19T09:53:55.670Z"
   },
   {
    "duration": 32,
    "start_time": "2023-01-19T09:53:56.008Z"
   },
   {
    "duration": 3033,
    "start_time": "2023-01-19T09:53:56.042Z"
   },
   {
    "duration": 228,
    "start_time": "2023-01-19T09:53:59.077Z"
   },
   {
    "duration": 21,
    "start_time": "2023-01-19T09:53:59.307Z"
   },
   {
    "duration": 29,
    "start_time": "2023-01-19T09:53:59.329Z"
   },
   {
    "duration": 172,
    "start_time": "2023-01-19T09:53:59.360Z"
   },
   {
    "duration": 5,
    "start_time": "2023-01-19T09:53:59.534Z"
   },
   {
    "duration": 179,
    "start_time": "2023-01-19T09:53:59.540Z"
   },
   {
    "duration": 324,
    "start_time": "2023-01-19T09:53:59.721Z"
   },
   {
    "duration": 196,
    "start_time": "2023-01-19T09:54:00.046Z"
   },
   {
    "duration": 4,
    "start_time": "2023-01-19T09:54:00.244Z"
   },
   {
    "duration": 30,
    "start_time": "2023-01-19T09:54:00.252Z"
   },
   {
    "duration": 39,
    "start_time": "2023-01-19T09:54:00.283Z"
   },
   {
    "duration": 33,
    "start_time": "2023-01-19T09:54:00.324Z"
   },
   {
    "duration": 351,
    "start_time": "2023-01-19T09:54:00.359Z"
   },
   {
    "duration": 4,
    "start_time": "2023-01-19T09:54:00.712Z"
   },
   {
    "duration": 114,
    "start_time": "2023-01-19T09:54:00.717Z"
   },
   {
    "duration": 5,
    "start_time": "2023-01-19T09:54:00.833Z"
   },
   {
    "duration": 207,
    "start_time": "2023-01-19T09:54:00.839Z"
   },
   {
    "duration": 3,
    "start_time": "2023-01-19T09:54:01.048Z"
   },
   {
    "duration": 37,
    "start_time": "2023-01-19T09:54:01.052Z"
   },
   {
    "duration": 1143,
    "start_time": "2023-01-19T09:54:01.091Z"
   },
   {
    "duration": 70,
    "start_time": "2023-01-19T09:54:02.236Z"
   },
   {
    "duration": 110,
    "start_time": "2023-01-19T09:54:02.308Z"
   },
   {
    "duration": 152890,
    "start_time": "2023-01-19T09:54:02.420Z"
   },
   {
    "duration": 13691,
    "start_time": "2023-01-19T09:56:35.312Z"
   },
   {
    "duration": 4,
    "start_time": "2023-01-19T09:56:49.005Z"
   },
   {
    "duration": 1596,
    "start_time": "2023-01-19T09:57:28.268Z"
   },
   {
    "duration": 1290,
    "start_time": "2023-01-19T09:57:29.866Z"
   },
   {
    "duration": 125,
    "start_time": "2023-01-19T09:57:31.158Z"
   },
   {
    "duration": 47,
    "start_time": "2023-01-19T09:57:31.284Z"
   },
   {
    "duration": 120,
    "start_time": "2023-01-19T09:57:31.334Z"
   },
   {
    "duration": 837,
    "start_time": "2023-01-19T09:57:31.456Z"
   },
   {
    "duration": 470,
    "start_time": "2023-01-19T09:57:32.295Z"
   },
   {
    "duration": 4,
    "start_time": "2023-01-19T09:57:32.766Z"
   },
   {
    "duration": 59,
    "start_time": "2023-01-19T09:57:32.772Z"
   },
   {
    "duration": 82,
    "start_time": "2023-01-19T09:57:32.833Z"
   },
   {
    "duration": 305,
    "start_time": "2023-01-19T09:57:32.918Z"
   },
   {
    "duration": 23,
    "start_time": "2023-01-19T09:57:33.225Z"
   },
   {
    "duration": 29,
    "start_time": "2023-01-19T09:57:33.249Z"
   },
   {
    "duration": 2402,
    "start_time": "2023-01-19T09:57:33.281Z"
   },
   {
    "duration": 3,
    "start_time": "2023-01-19T09:57:35.685Z"
   },
   {
    "duration": 118,
    "start_time": "2023-01-19T09:57:35.690Z"
   },
   {
    "duration": 13,
    "start_time": "2023-01-19T09:57:35.810Z"
   },
   {
    "duration": 10,
    "start_time": "2023-01-19T09:57:35.824Z"
   },
   {
    "duration": 219,
    "start_time": "2023-01-19T09:57:35.836Z"
   },
   {
    "duration": 198,
    "start_time": "2023-01-19T09:57:36.056Z"
   },
   {
    "duration": 164,
    "start_time": "2023-01-19T09:57:36.256Z"
   },
   {
    "duration": 224,
    "start_time": "2023-01-19T09:57:36.421Z"
   },
   {
    "duration": 192,
    "start_time": "2023-01-19T09:57:36.647Z"
   },
   {
    "duration": 13,
    "start_time": "2023-01-19T09:57:36.841Z"
   },
   {
    "duration": 29,
    "start_time": "2023-01-19T09:57:36.855Z"
   },
   {
    "duration": 17,
    "start_time": "2023-01-19T09:57:36.886Z"
   },
   {
    "duration": 28,
    "start_time": "2023-01-19T09:57:36.905Z"
   },
   {
    "duration": 477,
    "start_time": "2023-01-19T09:57:36.935Z"
   },
   {
    "duration": 321,
    "start_time": "2023-01-19T09:57:37.414Z"
   },
   {
    "duration": 27,
    "start_time": "2023-01-19T09:57:37.736Z"
   },
   {
    "duration": 3033,
    "start_time": "2023-01-19T09:57:37.765Z"
   },
   {
    "duration": 220,
    "start_time": "2023-01-19T09:57:40.802Z"
   },
   {
    "duration": 20,
    "start_time": "2023-01-19T09:57:41.024Z"
   },
   {
    "duration": 55,
    "start_time": "2023-01-19T09:57:41.046Z"
   },
   {
    "duration": 186,
    "start_time": "2023-01-19T09:57:41.102Z"
   },
   {
    "duration": 5,
    "start_time": "2023-01-19T09:57:41.289Z"
   },
   {
    "duration": 197,
    "start_time": "2023-01-19T09:57:41.296Z"
   },
   {
    "duration": 342,
    "start_time": "2023-01-19T09:57:41.495Z"
   },
   {
    "duration": 202,
    "start_time": "2023-01-19T09:57:41.839Z"
   },
   {
    "duration": 4,
    "start_time": "2023-01-19T09:57:42.044Z"
   },
   {
    "duration": 26,
    "start_time": "2023-01-19T09:57:42.052Z"
   },
   {
    "duration": 29,
    "start_time": "2023-01-19T09:57:42.080Z"
   },
   {
    "duration": 35,
    "start_time": "2023-01-19T09:57:42.111Z"
   },
   {
    "duration": 151,
    "start_time": "2023-01-19T09:57:42.148Z"
   },
   {
    "duration": 0,
    "start_time": "2023-01-19T09:57:42.303Z"
   },
   {
    "duration": 0,
    "start_time": "2023-01-19T09:57:42.304Z"
   },
   {
    "duration": 0,
    "start_time": "2023-01-19T09:57:42.305Z"
   },
   {
    "duration": 0,
    "start_time": "2023-01-19T09:57:42.306Z"
   },
   {
    "duration": 0,
    "start_time": "2023-01-19T09:57:42.307Z"
   },
   {
    "duration": 0,
    "start_time": "2023-01-19T09:57:42.308Z"
   },
   {
    "duration": 0,
    "start_time": "2023-01-19T09:57:42.309Z"
   },
   {
    "duration": 0,
    "start_time": "2023-01-19T09:57:42.310Z"
   },
   {
    "duration": 0,
    "start_time": "2023-01-19T09:57:42.310Z"
   },
   {
    "duration": 0,
    "start_time": "2023-01-19T09:57:42.311Z"
   },
   {
    "duration": 0,
    "start_time": "2023-01-19T09:57:42.312Z"
   },
   {
    "duration": 0,
    "start_time": "2023-01-19T09:57:42.314Z"
   },
   {
    "duration": 0,
    "start_time": "2023-01-19T09:57:42.315Z"
   },
   {
    "duration": 0,
    "start_time": "2023-01-19T09:57:42.316Z"
   },
   {
    "duration": 0,
    "start_time": "2023-01-19T09:57:42.316Z"
   },
   {
    "duration": 0,
    "start_time": "2023-01-19T09:57:42.318Z"
   },
   {
    "duration": 0,
    "start_time": "2023-01-19T09:57:42.318Z"
   },
   {
    "duration": 0,
    "start_time": "2023-01-19T09:57:42.320Z"
   },
   {
    "duration": 334,
    "start_time": "2023-01-19T10:04:43.019Z"
   },
   {
    "duration": 3,
    "start_time": "2023-01-19T10:04:46.012Z"
   },
   {
    "duration": 57,
    "start_time": "2023-01-19T10:07:29.036Z"
   },
   {
    "duration": 4,
    "start_time": "2023-01-19T10:07:31.340Z"
   },
   {
    "duration": 148,
    "start_time": "2023-01-19T10:07:31.964Z"
   },
   {
    "duration": 3,
    "start_time": "2023-01-19T10:07:33.910Z"
   },
   {
    "duration": 4,
    "start_time": "2023-01-19T10:07:36.693Z"
   },
   {
    "duration": 38,
    "start_time": "2023-01-19T10:07:37.929Z"
   },
   {
    "duration": 79,
    "start_time": "2023-01-19T10:08:31.821Z"
   },
   {
    "duration": 25,
    "start_time": "2023-01-19T10:08:45.895Z"
   },
   {
    "duration": 3758,
    "start_time": "2023-01-19T10:08:55.068Z"
   },
   {
    "duration": 121,
    "start_time": "2023-01-19T10:09:02.103Z"
   },
   {
    "duration": 20,
    "start_time": "2023-01-19T10:11:46.180Z"
   },
   {
    "duration": 13,
    "start_time": "2023-01-19T10:12:04.677Z"
   },
   {
    "duration": 16,
    "start_time": "2023-01-19T10:12:36.316Z"
   }
  ],
  "kernelspec": {
   "display_name": "Python 3 (ipykernel)",
   "language": "python",
   "name": "python3"
  },
  "language_info": {
   "codemirror_mode": {
    "name": "ipython",
    "version": 3
   },
   "file_extension": ".py",
   "mimetype": "text/x-python",
   "name": "python",
   "nbconvert_exporter": "python",
   "pygments_lexer": "ipython3",
   "version": "3.9.12"
  },
  "toc": {
   "base_numbering": 1,
   "nav_menu": {},
   "number_sections": true,
   "sideBar": true,
   "skip_h1_title": true,
   "title_cell": "Table of Contents",
   "title_sidebar": "Contents",
   "toc_cell": false,
   "toc_position": {},
   "toc_section_display": true,
   "toc_window_display": false
  }
 },
 "nbformat": 4,
 "nbformat_minor": 2
}
