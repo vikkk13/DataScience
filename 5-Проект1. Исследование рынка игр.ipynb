{
 "cells": [
  {
   "cell_type": "markdown",
   "metadata": {},
   "source": [
    "#### Анализ GameDev индустрии.\n",
    "Необходимо изучить данные по играм разного жанра на разных консолях в разных регионах.\n",
    "Цель проекта, понять какие продукты потенциально популярны, для дальнейшего планирования рекламных компаний на 2017г.\n",
    "Описание данных:\n",
    "Name — название игры\n",
    "Platform — платформа\n",
    "Year_of_Release — год выпуска\n",
    "Genre — жанр игры\n",
    "NA_sales — продажи в Северной Америке (миллионы проданных копий)\n",
    "EU_sales — продажи в Европе (миллионы проданных копий)\n",
    "JP_sales — продажи в Японии (миллионы проданных копий)\n",
    "Other_sales — продажи в других странах (миллионы проданных копий)\n",
    "Critic_Score — оценка критиков (максимум 100)\n",
    "User_Score — оценка пользователей (максимум 10)\n",
    "Rating — рейтинг от организации ESRB (англ. Entertainment Software Rating Board). Эта ассоциация определяет рейтинг компьютерных игр и присваивает им подходящую возрастную категорию.\n",
    "В процессе работы необходимо произвести следующие работы:\n",
    "-Открыть файл с данным и изучить информацию;\n",
    "-Подготовить данные;\n",
    "-Провести исследовательский анализ данных;\n",
    "-Составить портрет пользователя каждого региона;\n",
    "-Сформулировать и проверить гипотезы;\n",
    "-Оформить общий вывод"
   ]
  },
  {
   "cell_type": "markdown",
   "metadata": {},
   "source": [
    "### Открытие файла с данными и изучение общей информации"
   ]
  },
  {
   "cell_type": "code",
   "execution_count": 1,
   "metadata": {},
   "outputs": [],
   "source": [
    "import pandas as pd\n",
    "import numpy as np\n",
    "import matplotlib.pyplot as plt\n",
    "import seaborn as sns\n",
    "import scipy.stats as st\n",
    "import warnings\n",
    "warnings.filterwarnings('ignore')"
   ]
  },
  {
   "cell_type": "markdown",
   "metadata": {},
   "source": [
    "Импортируем все необходимые библиотеки"
   ]
  },
  {
   "cell_type": "code",
   "execution_count": 2,
   "metadata": {},
   "outputs": [],
   "source": [
    "df = pd.read_csv('/datasets/games.csv')"
   ]
  },
  {
   "cell_type": "code",
   "execution_count": 3,
   "metadata": {},
   "outputs": [
    {
     "data": {
      "text/html": [
       "<div>\n",
       "<style scoped>\n",
       "    .dataframe tbody tr th:only-of-type {\n",
       "        vertical-align: middle;\n",
       "    }\n",
       "\n",
       "    .dataframe tbody tr th {\n",
       "        vertical-align: top;\n",
       "    }\n",
       "\n",
       "    .dataframe thead th {\n",
       "        text-align: right;\n",
       "    }\n",
       "</style>\n",
       "<table border=\"1\" class=\"dataframe\">\n",
       "  <thead>\n",
       "    <tr style=\"text-align: right;\">\n",
       "      <th></th>\n",
       "      <th>Name</th>\n",
       "      <th>Platform</th>\n",
       "      <th>Year_of_Release</th>\n",
       "      <th>Genre</th>\n",
       "      <th>NA_sales</th>\n",
       "      <th>EU_sales</th>\n",
       "      <th>JP_sales</th>\n",
       "      <th>Other_sales</th>\n",
       "      <th>Critic_Score</th>\n",
       "      <th>User_Score</th>\n",
       "      <th>Rating</th>\n",
       "    </tr>\n",
       "  </thead>\n",
       "  <tbody>\n",
       "    <tr>\n",
       "      <th>0</th>\n",
       "      <td>Wii Sports</td>\n",
       "      <td>Wii</td>\n",
       "      <td>2006.0</td>\n",
       "      <td>Sports</td>\n",
       "      <td>41.36</td>\n",
       "      <td>28.96</td>\n",
       "      <td>3.77</td>\n",
       "      <td>8.45</td>\n",
       "      <td>76.0</td>\n",
       "      <td>8</td>\n",
       "      <td>E</td>\n",
       "    </tr>\n",
       "    <tr>\n",
       "      <th>1</th>\n",
       "      <td>Super Mario Bros.</td>\n",
       "      <td>NES</td>\n",
       "      <td>1985.0</td>\n",
       "      <td>Platform</td>\n",
       "      <td>29.08</td>\n",
       "      <td>3.58</td>\n",
       "      <td>6.81</td>\n",
       "      <td>0.77</td>\n",
       "      <td>NaN</td>\n",
       "      <td>NaN</td>\n",
       "      <td>NaN</td>\n",
       "    </tr>\n",
       "    <tr>\n",
       "      <th>2</th>\n",
       "      <td>Mario Kart Wii</td>\n",
       "      <td>Wii</td>\n",
       "      <td>2008.0</td>\n",
       "      <td>Racing</td>\n",
       "      <td>15.68</td>\n",
       "      <td>12.76</td>\n",
       "      <td>3.79</td>\n",
       "      <td>3.29</td>\n",
       "      <td>82.0</td>\n",
       "      <td>8.3</td>\n",
       "      <td>E</td>\n",
       "    </tr>\n",
       "    <tr>\n",
       "      <th>3</th>\n",
       "      <td>Wii Sports Resort</td>\n",
       "      <td>Wii</td>\n",
       "      <td>2009.0</td>\n",
       "      <td>Sports</td>\n",
       "      <td>15.61</td>\n",
       "      <td>10.93</td>\n",
       "      <td>3.28</td>\n",
       "      <td>2.95</td>\n",
       "      <td>80.0</td>\n",
       "      <td>8</td>\n",
       "      <td>E</td>\n",
       "    </tr>\n",
       "    <tr>\n",
       "      <th>4</th>\n",
       "      <td>Pokemon Red/Pokemon Blue</td>\n",
       "      <td>GB</td>\n",
       "      <td>1996.0</td>\n",
       "      <td>Role-Playing</td>\n",
       "      <td>11.27</td>\n",
       "      <td>8.89</td>\n",
       "      <td>10.22</td>\n",
       "      <td>1.00</td>\n",
       "      <td>NaN</td>\n",
       "      <td>NaN</td>\n",
       "      <td>NaN</td>\n",
       "    </tr>\n",
       "  </tbody>\n",
       "</table>\n",
       "</div>"
      ],
      "text/plain": [
       "                       Name Platform  Year_of_Release         Genre  NA_sales  \\\n",
       "0                Wii Sports      Wii           2006.0        Sports     41.36   \n",
       "1         Super Mario Bros.      NES           1985.0      Platform     29.08   \n",
       "2            Mario Kart Wii      Wii           2008.0        Racing     15.68   \n",
       "3         Wii Sports Resort      Wii           2009.0        Sports     15.61   \n",
       "4  Pokemon Red/Pokemon Blue       GB           1996.0  Role-Playing     11.27   \n",
       "\n",
       "   EU_sales  JP_sales  Other_sales  Critic_Score User_Score Rating  \n",
       "0     28.96      3.77         8.45          76.0          8      E  \n",
       "1      3.58      6.81         0.77           NaN        NaN    NaN  \n",
       "2     12.76      3.79         3.29          82.0        8.3      E  \n",
       "3     10.93      3.28         2.95          80.0          8      E  \n",
       "4      8.89     10.22         1.00           NaN        NaN    NaN  "
      ]
     },
     "execution_count": 3,
     "metadata": {},
     "output_type": "execute_result"
    }
   ],
   "source": [
    "df.head()"
   ]
  },
  {
   "cell_type": "code",
   "execution_count": 4,
   "metadata": {},
   "outputs": [
    {
     "name": "stdout",
     "output_type": "stream",
     "text": [
      "<class 'pandas.core.frame.DataFrame'>\n",
      "RangeIndex: 16715 entries, 0 to 16714\n",
      "Data columns (total 11 columns):\n",
      " #   Column           Non-Null Count  Dtype  \n",
      "---  ------           --------------  -----  \n",
      " 0   Name             16713 non-null  object \n",
      " 1   Platform         16715 non-null  object \n",
      " 2   Year_of_Release  16446 non-null  float64\n",
      " 3   Genre            16713 non-null  object \n",
      " 4   NA_sales         16715 non-null  float64\n",
      " 5   EU_sales         16715 non-null  float64\n",
      " 6   JP_sales         16715 non-null  float64\n",
      " 7   Other_sales      16715 non-null  float64\n",
      " 8   Critic_Score     8137 non-null   float64\n",
      " 9   User_Score       10014 non-null  object \n",
      " 10  Rating           9949 non-null   object \n",
      "dtypes: float64(6), object(5)\n",
      "memory usage: 1.4+ MB\n"
     ]
    }
   ],
   "source": [
    "df.info()"
   ]
  },
  {
   "cell_type": "code",
   "execution_count": 5,
   "metadata": {},
   "outputs": [
    {
     "data": {
      "text/html": [
       "<div>\n",
       "<style scoped>\n",
       "    .dataframe tbody tr th:only-of-type {\n",
       "        vertical-align: middle;\n",
       "    }\n",
       "\n",
       "    .dataframe tbody tr th {\n",
       "        vertical-align: top;\n",
       "    }\n",
       "\n",
       "    .dataframe thead th {\n",
       "        text-align: right;\n",
       "    }\n",
       "</style>\n",
       "<table border=\"1\" class=\"dataframe\">\n",
       "  <thead>\n",
       "    <tr style=\"text-align: right;\">\n",
       "      <th></th>\n",
       "      <th>Year_of_Release</th>\n",
       "      <th>NA_sales</th>\n",
       "      <th>EU_sales</th>\n",
       "      <th>JP_sales</th>\n",
       "      <th>Other_sales</th>\n",
       "      <th>Critic_Score</th>\n",
       "    </tr>\n",
       "  </thead>\n",
       "  <tbody>\n",
       "    <tr>\n",
       "      <th>count</th>\n",
       "      <td>16446.000000</td>\n",
       "      <td>16715.000000</td>\n",
       "      <td>16715.000000</td>\n",
       "      <td>16715.000000</td>\n",
       "      <td>16715.000000</td>\n",
       "      <td>8137.000000</td>\n",
       "    </tr>\n",
       "    <tr>\n",
       "      <th>mean</th>\n",
       "      <td>2006.484616</td>\n",
       "      <td>0.263377</td>\n",
       "      <td>0.145060</td>\n",
       "      <td>0.077617</td>\n",
       "      <td>0.047342</td>\n",
       "      <td>68.967679</td>\n",
       "    </tr>\n",
       "    <tr>\n",
       "      <th>std</th>\n",
       "      <td>5.877050</td>\n",
       "      <td>0.813604</td>\n",
       "      <td>0.503339</td>\n",
       "      <td>0.308853</td>\n",
       "      <td>0.186731</td>\n",
       "      <td>13.938165</td>\n",
       "    </tr>\n",
       "    <tr>\n",
       "      <th>min</th>\n",
       "      <td>1980.000000</td>\n",
       "      <td>0.000000</td>\n",
       "      <td>0.000000</td>\n",
       "      <td>0.000000</td>\n",
       "      <td>0.000000</td>\n",
       "      <td>13.000000</td>\n",
       "    </tr>\n",
       "    <tr>\n",
       "      <th>25%</th>\n",
       "      <td>2003.000000</td>\n",
       "      <td>0.000000</td>\n",
       "      <td>0.000000</td>\n",
       "      <td>0.000000</td>\n",
       "      <td>0.000000</td>\n",
       "      <td>60.000000</td>\n",
       "    </tr>\n",
       "    <tr>\n",
       "      <th>50%</th>\n",
       "      <td>2007.000000</td>\n",
       "      <td>0.080000</td>\n",
       "      <td>0.020000</td>\n",
       "      <td>0.000000</td>\n",
       "      <td>0.010000</td>\n",
       "      <td>71.000000</td>\n",
       "    </tr>\n",
       "    <tr>\n",
       "      <th>75%</th>\n",
       "      <td>2010.000000</td>\n",
       "      <td>0.240000</td>\n",
       "      <td>0.110000</td>\n",
       "      <td>0.040000</td>\n",
       "      <td>0.030000</td>\n",
       "      <td>79.000000</td>\n",
       "    </tr>\n",
       "    <tr>\n",
       "      <th>max</th>\n",
       "      <td>2016.000000</td>\n",
       "      <td>41.360000</td>\n",
       "      <td>28.960000</td>\n",
       "      <td>10.220000</td>\n",
       "      <td>10.570000</td>\n",
       "      <td>98.000000</td>\n",
       "    </tr>\n",
       "  </tbody>\n",
       "</table>\n",
       "</div>"
      ],
      "text/plain": [
       "       Year_of_Release      NA_sales      EU_sales      JP_sales  \\\n",
       "count     16446.000000  16715.000000  16715.000000  16715.000000   \n",
       "mean       2006.484616      0.263377      0.145060      0.077617   \n",
       "std           5.877050      0.813604      0.503339      0.308853   \n",
       "min        1980.000000      0.000000      0.000000      0.000000   \n",
       "25%        2003.000000      0.000000      0.000000      0.000000   \n",
       "50%        2007.000000      0.080000      0.020000      0.000000   \n",
       "75%        2010.000000      0.240000      0.110000      0.040000   \n",
       "max        2016.000000     41.360000     28.960000     10.220000   \n",
       "\n",
       "        Other_sales  Critic_Score  \n",
       "count  16715.000000   8137.000000  \n",
       "mean       0.047342     68.967679  \n",
       "std        0.186731     13.938165  \n",
       "min        0.000000     13.000000  \n",
       "25%        0.000000     60.000000  \n",
       "50%        0.010000     71.000000  \n",
       "75%        0.030000     79.000000  \n",
       "max       10.570000     98.000000  "
      ]
     },
     "execution_count": 5,
     "metadata": {},
     "output_type": "execute_result"
    }
   ],
   "source": [
    "df.describe()"
   ]
  },
  {
   "cell_type": "markdown",
   "metadata": {},
   "source": [
    "Загрузили необходимые библиотеки, открыли файл и изучили информацию. Необходимо привести названия столбцов к нижнему регистру, навести порядок в типах данных, обработать пропуски и создать столбец с суммарными продажами во всех регионах. "
   ]
  },
  {
   "cell_type": "markdown",
   "metadata": {},
   "source": [
    "### Подготовка данных"
   ]
  },
  {
   "cell_type": "code",
   "execution_count": 6,
   "metadata": {},
   "outputs": [
    {
     "name": "stdout",
     "output_type": "stream",
     "text": [
      "<class 'pandas.core.frame.DataFrame'>\n",
      "RangeIndex: 16715 entries, 0 to 16714\n",
      "Data columns (total 11 columns):\n",
      " #   Column           Non-Null Count  Dtype  \n",
      "---  ------           --------------  -----  \n",
      " 0   name             16713 non-null  object \n",
      " 1   platform         16715 non-null  object \n",
      " 2   year_of_release  16446 non-null  float64\n",
      " 3   genre            16713 non-null  object \n",
      " 4   na_sales         16715 non-null  float64\n",
      " 5   eu_sales         16715 non-null  float64\n",
      " 6   jp_sales         16715 non-null  float64\n",
      " 7   other_sales      16715 non-null  float64\n",
      " 8   critic_score     8137 non-null   float64\n",
      " 9   user_score       10014 non-null  object \n",
      " 10  rating           9949 non-null   object \n",
      "dtypes: float64(6), object(5)\n",
      "memory usage: 1.4+ MB\n"
     ]
    }
   ],
   "source": [
    "df.columns = df.columns.str.lower()\n",
    "df.info()"
   ]
  },
  {
   "cell_type": "markdown",
   "metadata": {},
   "source": [
    "Привели наименования столбцов к нижнему регистру."
   ]
  },
  {
   "cell_type": "code",
   "execution_count": 7,
   "metadata": {},
   "outputs": [
    {
     "data": {
      "text/html": [
       "<div>\n",
       "<style scoped>\n",
       "    .dataframe tbody tr th:only-of-type {\n",
       "        vertical-align: middle;\n",
       "    }\n",
       "\n",
       "    .dataframe tbody tr th {\n",
       "        vertical-align: top;\n",
       "    }\n",
       "\n",
       "    .dataframe thead th {\n",
       "        text-align: right;\n",
       "    }\n",
       "</style>\n",
       "<table border=\"1\" class=\"dataframe\">\n",
       "  <thead>\n",
       "    <tr style=\"text-align: right;\">\n",
       "      <th></th>\n",
       "      <th>name</th>\n",
       "      <th>platform</th>\n",
       "      <th>year_of_release</th>\n",
       "      <th>genre</th>\n",
       "      <th>na_sales</th>\n",
       "      <th>eu_sales</th>\n",
       "      <th>jp_sales</th>\n",
       "      <th>other_sales</th>\n",
       "      <th>critic_score</th>\n",
       "      <th>user_score</th>\n",
       "      <th>rating</th>\n",
       "    </tr>\n",
       "  </thead>\n",
       "  <tbody>\n",
       "    <tr>\n",
       "      <th>659</th>\n",
       "      <td>NaN</td>\n",
       "      <td>GEN</td>\n",
       "      <td>1993.0</td>\n",
       "      <td>NaN</td>\n",
       "      <td>1.78</td>\n",
       "      <td>0.53</td>\n",
       "      <td>0.00</td>\n",
       "      <td>0.08</td>\n",
       "      <td>NaN</td>\n",
       "      <td>NaN</td>\n",
       "      <td>NaN</td>\n",
       "    </tr>\n",
       "    <tr>\n",
       "      <th>14244</th>\n",
       "      <td>NaN</td>\n",
       "      <td>GEN</td>\n",
       "      <td>1993.0</td>\n",
       "      <td>NaN</td>\n",
       "      <td>0.00</td>\n",
       "      <td>0.00</td>\n",
       "      <td>0.03</td>\n",
       "      <td>0.00</td>\n",
       "      <td>NaN</td>\n",
       "      <td>NaN</td>\n",
       "      <td>NaN</td>\n",
       "    </tr>\n",
       "  </tbody>\n",
       "</table>\n",
       "</div>"
      ],
      "text/plain": [
       "      name platform  year_of_release genre  na_sales  eu_sales  jp_sales  \\\n",
       "659    NaN      GEN           1993.0   NaN      1.78      0.53      0.00   \n",
       "14244  NaN      GEN           1993.0   NaN      0.00      0.00      0.03   \n",
       "\n",
       "       other_sales  critic_score user_score rating  \n",
       "659           0.08           NaN        NaN    NaN  \n",
       "14244         0.00           NaN        NaN    NaN  "
      ]
     },
     "execution_count": 7,
     "metadata": {},
     "output_type": "execute_result"
    }
   ],
   "source": [
    "df[df['name'].isnull()]"
   ]
  },
  {
   "cell_type": "markdown",
   "metadata": {},
   "source": [
    "Данные строки не информативны (слишком много пропусков) и их крайне мало. Можно удалить их без ущерба для анализа."
   ]
  },
  {
   "cell_type": "code",
   "execution_count": 8,
   "metadata": {},
   "outputs": [],
   "source": [
    "df = df.dropna(subset = ['name'])"
   ]
  },
  {
   "cell_type": "markdown",
   "metadata": {},
   "source": [
    "Удалили строки."
   ]
  },
  {
   "cell_type": "code",
   "execution_count": 9,
   "metadata": {},
   "outputs": [
    {
     "data": {
      "text/html": [
       "<div>\n",
       "<style scoped>\n",
       "    .dataframe tbody tr th:only-of-type {\n",
       "        vertical-align: middle;\n",
       "    }\n",
       "\n",
       "    .dataframe tbody tr th {\n",
       "        vertical-align: top;\n",
       "    }\n",
       "\n",
       "    .dataframe thead th {\n",
       "        text-align: right;\n",
       "    }\n",
       "</style>\n",
       "<table border=\"1\" class=\"dataframe\">\n",
       "  <thead>\n",
       "    <tr style=\"text-align: right;\">\n",
       "      <th></th>\n",
       "      <th>name</th>\n",
       "      <th>platform</th>\n",
       "      <th>year_of_release</th>\n",
       "      <th>genre</th>\n",
       "      <th>na_sales</th>\n",
       "      <th>eu_sales</th>\n",
       "      <th>jp_sales</th>\n",
       "      <th>other_sales</th>\n",
       "      <th>critic_score</th>\n",
       "      <th>user_score</th>\n",
       "      <th>rating</th>\n",
       "    </tr>\n",
       "  </thead>\n",
       "  <tbody>\n",
       "    <tr>\n",
       "      <th>183</th>\n",
       "      <td>Madden NFL 2004</td>\n",
       "      <td>PS2</td>\n",
       "      <td>NaN</td>\n",
       "      <td>Sports</td>\n",
       "      <td>4.26</td>\n",
       "      <td>0.26</td>\n",
       "      <td>0.01</td>\n",
       "      <td>0.71</td>\n",
       "      <td>94.0</td>\n",
       "      <td>8.5</td>\n",
       "      <td>E</td>\n",
       "    </tr>\n",
       "    <tr>\n",
       "      <th>377</th>\n",
       "      <td>FIFA Soccer 2004</td>\n",
       "      <td>PS2</td>\n",
       "      <td>NaN</td>\n",
       "      <td>Sports</td>\n",
       "      <td>0.59</td>\n",
       "      <td>2.36</td>\n",
       "      <td>0.04</td>\n",
       "      <td>0.51</td>\n",
       "      <td>84.0</td>\n",
       "      <td>6.4</td>\n",
       "      <td>E</td>\n",
       "    </tr>\n",
       "    <tr>\n",
       "      <th>456</th>\n",
       "      <td>LEGO Batman: The Videogame</td>\n",
       "      <td>Wii</td>\n",
       "      <td>NaN</td>\n",
       "      <td>Action</td>\n",
       "      <td>1.80</td>\n",
       "      <td>0.97</td>\n",
       "      <td>0.00</td>\n",
       "      <td>0.29</td>\n",
       "      <td>74.0</td>\n",
       "      <td>7.9</td>\n",
       "      <td>E10+</td>\n",
       "    </tr>\n",
       "    <tr>\n",
       "      <th>475</th>\n",
       "      <td>wwe Smackdown vs. Raw 2006</td>\n",
       "      <td>PS2</td>\n",
       "      <td>NaN</td>\n",
       "      <td>Fighting</td>\n",
       "      <td>1.57</td>\n",
       "      <td>1.02</td>\n",
       "      <td>0.00</td>\n",
       "      <td>0.41</td>\n",
       "      <td>NaN</td>\n",
       "      <td>NaN</td>\n",
       "      <td>NaN</td>\n",
       "    </tr>\n",
       "    <tr>\n",
       "      <th>609</th>\n",
       "      <td>Space Invaders</td>\n",
       "      <td>2600</td>\n",
       "      <td>NaN</td>\n",
       "      <td>Shooter</td>\n",
       "      <td>2.36</td>\n",
       "      <td>0.14</td>\n",
       "      <td>0.00</td>\n",
       "      <td>0.03</td>\n",
       "      <td>NaN</td>\n",
       "      <td>NaN</td>\n",
       "      <td>NaN</td>\n",
       "    </tr>\n",
       "  </tbody>\n",
       "</table>\n",
       "</div>"
      ],
      "text/plain": [
       "                           name platform  year_of_release     genre  na_sales  \\\n",
       "183             Madden NFL 2004      PS2              NaN    Sports      4.26   \n",
       "377            FIFA Soccer 2004      PS2              NaN    Sports      0.59   \n",
       "456  LEGO Batman: The Videogame      Wii              NaN    Action      1.80   \n",
       "475  wwe Smackdown vs. Raw 2006      PS2              NaN  Fighting      1.57   \n",
       "609              Space Invaders     2600              NaN   Shooter      2.36   \n",
       "\n",
       "     eu_sales  jp_sales  other_sales  critic_score user_score rating  \n",
       "183      0.26      0.01         0.71          94.0        8.5      E  \n",
       "377      2.36      0.04         0.51          84.0        6.4      E  \n",
       "456      0.97      0.00         0.29          74.0        7.9   E10+  \n",
       "475      1.02      0.00         0.41           NaN        NaN    NaN  \n",
       "609      0.14      0.00         0.03           NaN        NaN    NaN  "
      ]
     },
     "execution_count": 9,
     "metadata": {},
     "output_type": "execute_result"
    }
   ],
   "source": [
    "df[df['year_of_release'].isnull()].head()"
   ]
  },
  {
   "cell_type": "markdown",
   "metadata": {},
   "source": [
    "Учитывая, что строк крайне мало их тоже удаляем."
   ]
  },
  {
   "cell_type": "code",
   "execution_count": 10,
   "metadata": {},
   "outputs": [],
   "source": [
    "df = df.dropna(subset = ['year_of_release'])\n",
    "df['year_of_release'] = df['year_of_release'].astype('int')"
   ]
  },
  {
   "cell_type": "markdown",
   "metadata": {},
   "source": [
    "Удалили строки с пустыми значениями и привели тип в целочисленный."
   ]
  },
  {
   "cell_type": "code",
   "execution_count": 11,
   "metadata": {},
   "outputs": [],
   "source": [
    "df.loc[df['user_score'] =='tbd','user_score'] = np.nan\n",
    "\n",
    "df['user_score'] = df['user_score'].astype('float')"
   ]
  },
  {
   "cell_type": "markdown",
   "metadata": {},
   "source": [
    "TBD - аббревиатура от английского To Be Determined (будет определено). Можно заменить на NaN. Привели тип к дробному. "
   ]
  },
  {
   "cell_type": "code",
   "execution_count": 12,
   "metadata": {},
   "outputs": [],
   "source": [
    "df.loc[df.loc[:,'rating'].isnull(),'rating'] = 'undefined'"
   ]
  },
  {
   "cell_type": "code",
   "execution_count": 13,
   "metadata": {},
   "outputs": [
    {
     "name": "stdout",
     "output_type": "stream",
     "text": [
      "<class 'pandas.core.frame.DataFrame'>\n",
      "Int64Index: 16444 entries, 0 to 16714\n",
      "Data columns (total 11 columns):\n",
      " #   Column           Non-Null Count  Dtype  \n",
      "---  ------           --------------  -----  \n",
      " 0   name             16444 non-null  object \n",
      " 1   platform         16444 non-null  object \n",
      " 2   year_of_release  16444 non-null  int64  \n",
      " 3   genre            16444 non-null  object \n",
      " 4   na_sales         16444 non-null  float64\n",
      " 5   eu_sales         16444 non-null  float64\n",
      " 6   jp_sales         16444 non-null  float64\n",
      " 7   other_sales      16444 non-null  float64\n",
      " 8   critic_score     7983 non-null   float64\n",
      " 9   user_score       7463 non-null   float64\n",
      " 10  rating           16444 non-null  object \n",
      "dtypes: float64(6), int64(1), object(4)\n",
      "memory usage: 1.5+ MB\n"
     ]
    }
   ],
   "source": [
    "df.info()"
   ]
  },
  {
   "cell_type": "markdown",
   "metadata": {},
   "source": [
    "Заполнять попуски в critic_score, user_score и rating будет некорректно, тк в этом случае мы получим неточные результаты в стат анализе."
   ]
  },
  {
   "cell_type": "code",
   "execution_count": 14,
   "metadata": {},
   "outputs": [
    {
     "data": {
      "text/plain": [
       "0"
      ]
     },
     "execution_count": 14,
     "metadata": {},
     "output_type": "execute_result"
    }
   ],
   "source": [
    "df.duplicated().sum()"
   ]
  },
  {
   "cell_type": "markdown",
   "metadata": {},
   "source": [
    "Сделали проверку на дубликаты. Дубликатов нет."
   ]
  },
  {
   "cell_type": "code",
   "execution_count": 15,
   "metadata": {},
   "outputs": [
    {
     "name": "stdout",
     "output_type": "stream",
     "text": [
      "<class 'pandas.core.frame.DataFrame'>\n",
      "Int64Index: 16444 entries, 0 to 16714\n",
      "Data columns (total 12 columns):\n",
      " #   Column           Non-Null Count  Dtype  \n",
      "---  ------           --------------  -----  \n",
      " 0   name             16444 non-null  object \n",
      " 1   platform         16444 non-null  object \n",
      " 2   year_of_release  16444 non-null  int64  \n",
      " 3   genre            16444 non-null  object \n",
      " 4   na_sales         16444 non-null  float64\n",
      " 5   eu_sales         16444 non-null  float64\n",
      " 6   jp_sales         16444 non-null  float64\n",
      " 7   other_sales      16444 non-null  float64\n",
      " 8   critic_score     7983 non-null   float64\n",
      " 9   user_score       7463 non-null   float64\n",
      " 10  rating           16444 non-null  object \n",
      " 11  total_sales      16444 non-null  float64\n",
      "dtypes: float64(7), int64(1), object(4)\n",
      "memory usage: 1.6+ MB\n"
     ]
    }
   ],
   "source": [
    "df['total_sales'] = df.apply(lambda row: sum(row[['na_sales','eu_sales','jp_sales','other_sales']]),axis =1)\n",
    "df.info()"
   ]
  },
  {
   "cell_type": "markdown",
   "metadata": {},
   "source": [
    "Создали столбец с суммарными продажами."
   ]
  },
  {
   "cell_type": "markdown",
   "metadata": {},
   "source": [
    "### Исследовательский анализ данных"
   ]
  },
  {
   "cell_type": "code",
   "execution_count": 16,
   "metadata": {},
   "outputs": [
    {
     "data": {
      "image/png": "[encoded data removed]",
      "text/plain": [
       "<Figure size 1800x720 with 1 Axes>"
      ]
     },
     "metadata": {
      "needs_background": "light"
     },
     "output_type": "display_data"
    }
   ],
   "source": [
    "years_groupby = df.groupby('year_of_release').agg({'name':'count'})\n",
    "years_groupby.loc[1992:].plot(y = 'name', kind= 'bar', figsize = (25,10));"
   ]
  },
  {
   "cell_type": "markdown",
   "metadata": {},
   "source": [
    "Видно, что больше всего игр было выпущено с 2006 по 2011 года с пиком в 2008-2009 годах."
   ]
  },
  {
   "cell_type": "code",
   "execution_count": 17,
   "metadata": {},
   "outputs": [
    {
     "data": {
      "text/html": [
       "<div>\n",
       "<style scoped>\n",
       "    .dataframe tbody tr th:only-of-type {\n",
       "        vertical-align: middle;\n",
       "    }\n",
       "\n",
       "    .dataframe tbody tr th {\n",
       "        vertical-align: top;\n",
       "    }\n",
       "\n",
       "    .dataframe thead th {\n",
       "        text-align: right;\n",
       "    }\n",
       "</style>\n",
       "<table border=\"1\" class=\"dataframe\">\n",
       "  <thead>\n",
       "    <tr style=\"text-align: right;\">\n",
       "      <th></th>\n",
       "      <th></th>\n",
       "      <th>total_sales</th>\n",
       "      <th>years</th>\n",
       "    </tr>\n",
       "    <tr>\n",
       "      <th>platform</th>\n",
       "      <th>year_of_release</th>\n",
       "      <th></th>\n",
       "      <th></th>\n",
       "    </tr>\n",
       "  </thead>\n",
       "  <tbody>\n",
       "    <tr>\n",
       "      <th rowspan=\"5\" valign=\"top\">2600</th>\n",
       "      <th>1980</th>\n",
       "      <td>11.38</td>\n",
       "      <td>1980</td>\n",
       "    </tr>\n",
       "    <tr>\n",
       "      <th>1981</th>\n",
       "      <td>35.68</td>\n",
       "      <td>1981</td>\n",
       "    </tr>\n",
       "    <tr>\n",
       "      <th>1982</th>\n",
       "      <td>28.88</td>\n",
       "      <td>1982</td>\n",
       "    </tr>\n",
       "    <tr>\n",
       "      <th>1983</th>\n",
       "      <td>5.84</td>\n",
       "      <td>1983</td>\n",
       "    </tr>\n",
       "    <tr>\n",
       "      <th>1984</th>\n",
       "      <td>0.27</td>\n",
       "      <td>1984</td>\n",
       "    </tr>\n",
       "    <tr>\n",
       "      <th>...</th>\n",
       "      <th>...</th>\n",
       "      <td>...</td>\n",
       "      <td>...</td>\n",
       "    </tr>\n",
       "    <tr>\n",
       "      <th>XB</th>\n",
       "      <th>2008</th>\n",
       "      <td>0.18</td>\n",
       "      <td>2008</td>\n",
       "    </tr>\n",
       "    <tr>\n",
       "      <th rowspan=\"4\" valign=\"top\">XOne</th>\n",
       "      <th>2013</th>\n",
       "      <td>18.96</td>\n",
       "      <td>2013</td>\n",
       "    </tr>\n",
       "    <tr>\n",
       "      <th>2014</th>\n",
       "      <td>54.07</td>\n",
       "      <td>2014</td>\n",
       "    </tr>\n",
       "    <tr>\n",
       "      <th>2015</th>\n",
       "      <td>60.14</td>\n",
       "      <td>2015</td>\n",
       "    </tr>\n",
       "    <tr>\n",
       "      <th>2016</th>\n",
       "      <td>26.15</td>\n",
       "      <td>2016</td>\n",
       "    </tr>\n",
       "  </tbody>\n",
       "</table>\n",
       "<p>238 rows × 2 columns</p>\n",
       "</div>"
      ],
      "text/plain": [
       "                          total_sales  years\n",
       "platform year_of_release                    \n",
       "2600     1980                   11.38   1980\n",
       "         1981                   35.68   1981\n",
       "         1982                   28.88   1982\n",
       "         1983                    5.84   1983\n",
       "         1984                    0.27   1984\n",
       "...                               ...    ...\n",
       "XB       2008                    0.18   2008\n",
       "XOne     2013                   18.96   2013\n",
       "         2014                   54.07   2014\n",
       "         2015                   60.14   2015\n",
       "         2016                   26.15   2016\n",
       "\n",
       "[238 rows x 2 columns]"
      ]
     },
     "execution_count": 17,
     "metadata": {},
     "output_type": "execute_result"
    }
   ],
   "source": [
    "top10_platforms = df.groupby('platform').agg({'total_sales':'sum'}).sort_values(by = 'total_sales', ascending = False)[:10].index\n",
    "\n",
    "platform_pivot_table_years = df.pivot_table(index=['platform','year_of_release'], values = 'total_sales', aggfunc = 'sum')\n",
    "\n",
    "platform_pivot_table_years['years'] =  platform_pivot_table_years.index\n",
    "platform_pivot_table_years['years'] = platform_pivot_table_years['years'].apply (lambda row: row[1]).astype('int')\n",
    "\n",
    "platform_pivot_table_years"
   ]
  },
  {
   "cell_type": "markdown",
   "metadata": {},
   "source": [
    "Собрали таблицу из 10 самых популярных платформ"
   ]
  },
  {
   "cell_type": "code",
   "execution_count": 18,
   "metadata": {},
   "outputs": [
    {
     "data": {
      "image/png": "[encoded data removed]",
      "text/plain": [
       "<Figure size 720x360 with 1 Axes>"
      ]
     },
     "metadata": {
      "needs_background": "light"
     },
     "output_type": "display_data"
    }
   ],
   "source": [
    "fig, ax = plt.subplots(figsize =(10,5))\n",
    "for platform in top10_platforms:\n",
    "    platform_pivot_table_years.loc[platform].plot('years','total_sales', ax=ax)\n",
    "ax.legend(top10_platforms,prop = {'size':10})\n",
    "ax.set_xlim([2000,2017])\n",
    "ax.set_xticks(np.arange(2000,2017))\n",
    "ax.set_xticklabels(range(2000,2017))\n",
    "plt.show()"
   ]
  },
  {
   "cell_type": "markdown",
   "metadata": {},
   "source": [
    "Учитывая, что игровые консоли со временем теряют популярность(примерно \"живут\" 10 лет), необходимо определить наиболее актуальные период времени. Из графика видно, что это 2013-2016 гг."
   ]
  },
  {
   "cell_type": "code",
   "execution_count": 19,
   "metadata": {},
   "outputs": [],
   "source": [
    "period = (2013, 2016)\n",
    "actual_data = df.query('@period[0] <= year_of_release <= @period[1]') \n",
    "\n",
    "actual_data['year_of_release'] = actual_data['year_of_release'].astype('int')"
   ]
  },
  {
   "cell_type": "markdown",
   "metadata": {},
   "source": [
    "Возьмем актуальный период"
   ]
  },
  {
   "cell_type": "code",
   "execution_count": 20,
   "metadata": {},
   "outputs": [
    {
     "data": {
      "text/html": [
       "<div>\n",
       "<style scoped>\n",
       "    .dataframe tbody tr th:only-of-type {\n",
       "        vertical-align: middle;\n",
       "    }\n",
       "\n",
       "    .dataframe tbody tr th {\n",
       "        vertical-align: top;\n",
       "    }\n",
       "\n",
       "    .dataframe thead th {\n",
       "        text-align: right;\n",
       "    }\n",
       "</style>\n",
       "<table border=\"1\" class=\"dataframe\">\n",
       "  <thead>\n",
       "    <tr style=\"text-align: right;\">\n",
       "      <th></th>\n",
       "      <th>name</th>\n",
       "      <th>platform</th>\n",
       "      <th>year_of_release</th>\n",
       "      <th>genre</th>\n",
       "      <th>na_sales</th>\n",
       "      <th>eu_sales</th>\n",
       "      <th>jp_sales</th>\n",
       "      <th>other_sales</th>\n",
       "      <th>critic_score</th>\n",
       "      <th>user_score</th>\n",
       "      <th>rating</th>\n",
       "      <th>total_sales</th>\n",
       "    </tr>\n",
       "  </thead>\n",
       "  <tbody>\n",
       "    <tr>\n",
       "      <th>16</th>\n",
       "      <td>Grand Theft Auto V</td>\n",
       "      <td>PS3</td>\n",
       "      <td>2013</td>\n",
       "      <td>Action</td>\n",
       "      <td>7.02</td>\n",
       "      <td>9.09</td>\n",
       "      <td>0.98</td>\n",
       "      <td>3.96</td>\n",
       "      <td>97.0</td>\n",
       "      <td>8.2</td>\n",
       "      <td>M</td>\n",
       "      <td>21.05</td>\n",
       "    </tr>\n",
       "    <tr>\n",
       "      <th>23</th>\n",
       "      <td>Grand Theft Auto V</td>\n",
       "      <td>X360</td>\n",
       "      <td>2013</td>\n",
       "      <td>Action</td>\n",
       "      <td>9.66</td>\n",
       "      <td>5.14</td>\n",
       "      <td>0.06</td>\n",
       "      <td>1.41</td>\n",
       "      <td>97.0</td>\n",
       "      <td>8.1</td>\n",
       "      <td>M</td>\n",
       "      <td>16.27</td>\n",
       "    </tr>\n",
       "    <tr>\n",
       "      <th>31</th>\n",
       "      <td>Call of Duty: Black Ops 3</td>\n",
       "      <td>PS4</td>\n",
       "      <td>2015</td>\n",
       "      <td>Shooter</td>\n",
       "      <td>6.03</td>\n",
       "      <td>5.86</td>\n",
       "      <td>0.36</td>\n",
       "      <td>2.38</td>\n",
       "      <td>NaN</td>\n",
       "      <td>NaN</td>\n",
       "      <td>undefined</td>\n",
       "      <td>14.63</td>\n",
       "    </tr>\n",
       "    <tr>\n",
       "      <th>33</th>\n",
       "      <td>Pokemon X/Pokemon Y</td>\n",
       "      <td>3DS</td>\n",
       "      <td>2013</td>\n",
       "      <td>Role-Playing</td>\n",
       "      <td>5.28</td>\n",
       "      <td>4.19</td>\n",
       "      <td>4.35</td>\n",
       "      <td>0.78</td>\n",
       "      <td>NaN</td>\n",
       "      <td>NaN</td>\n",
       "      <td>undefined</td>\n",
       "      <td>14.60</td>\n",
       "    </tr>\n",
       "    <tr>\n",
       "      <th>42</th>\n",
       "      <td>Grand Theft Auto V</td>\n",
       "      <td>PS4</td>\n",
       "      <td>2014</td>\n",
       "      <td>Action</td>\n",
       "      <td>3.96</td>\n",
       "      <td>6.31</td>\n",
       "      <td>0.38</td>\n",
       "      <td>1.97</td>\n",
       "      <td>97.0</td>\n",
       "      <td>8.3</td>\n",
       "      <td>M</td>\n",
       "      <td>12.62</td>\n",
       "    </tr>\n",
       "  </tbody>\n",
       "</table>\n",
       "</div>"
      ],
      "text/plain": [
       "                         name platform  year_of_release         genre  \\\n",
       "16         Grand Theft Auto V      PS3             2013        Action   \n",
       "23         Grand Theft Auto V     X360             2013        Action   \n",
       "31  Call of Duty: Black Ops 3      PS4             2015       Shooter   \n",
       "33        Pokemon X/Pokemon Y      3DS             2013  Role-Playing   \n",
       "42         Grand Theft Auto V      PS4             2014        Action   \n",
       "\n",
       "    na_sales  eu_sales  jp_sales  other_sales  critic_score  user_score  \\\n",
       "16      7.02      9.09      0.98         3.96          97.0         8.2   \n",
       "23      9.66      5.14      0.06         1.41          97.0         8.1   \n",
       "31      6.03      5.86      0.36         2.38           NaN         NaN   \n",
       "33      5.28      4.19      4.35         0.78           NaN         NaN   \n",
       "42      3.96      6.31      0.38         1.97          97.0         8.3   \n",
       "\n",
       "       rating  total_sales  \n",
       "16          M        21.05  \n",
       "23          M        16.27  \n",
       "31  undefined        14.63  \n",
       "33  undefined        14.60  \n",
       "42          M        12.62  "
      ]
     },
     "execution_count": 20,
     "metadata": {},
     "output_type": "execute_result"
    }
   ],
   "source": [
    "actual_data.head()"
   ]
  },
  {
   "cell_type": "code",
   "execution_count": 21,
   "metadata": {},
   "outputs": [
    {
     "data": {
      "text/html": [
       "<div>\n",
       "<style scoped>\n",
       "    .dataframe tbody tr th:only-of-type {\n",
       "        vertical-align: middle;\n",
       "    }\n",
       "\n",
       "    .dataframe tbody tr th {\n",
       "        vertical-align: top;\n",
       "    }\n",
       "\n",
       "    .dataframe thead th {\n",
       "        text-align: right;\n",
       "    }\n",
       "</style>\n",
       "<table border=\"1\" class=\"dataframe\">\n",
       "  <thead>\n",
       "    <tr style=\"text-align: right;\">\n",
       "      <th></th>\n",
       "      <th>total_sales</th>\n",
       "      <th>years</th>\n",
       "    </tr>\n",
       "  </thead>\n",
       "  <tbody>\n",
       "    <tr>\n",
       "      <th>3DS</th>\n",
       "      <td>56.57</td>\n",
       "      <td>2013</td>\n",
       "    </tr>\n",
       "    <tr>\n",
       "      <th>DS</th>\n",
       "      <td>1.54</td>\n",
       "      <td>2013</td>\n",
       "    </tr>\n",
       "    <tr>\n",
       "      <th>PC</th>\n",
       "      <td>12.38</td>\n",
       "      <td>2013</td>\n",
       "    </tr>\n",
       "    <tr>\n",
       "      <th>PS3</th>\n",
       "      <td>113.25</td>\n",
       "      <td>2013</td>\n",
       "    </tr>\n",
       "    <tr>\n",
       "      <th>PS4</th>\n",
       "      <td>25.99</td>\n",
       "      <td>2013</td>\n",
       "    </tr>\n",
       "    <tr>\n",
       "      <th>PSP</th>\n",
       "      <td>3.14</td>\n",
       "      <td>2013</td>\n",
       "    </tr>\n",
       "    <tr>\n",
       "      <th>PSV</th>\n",
       "      <td>10.59</td>\n",
       "      <td>2013</td>\n",
       "    </tr>\n",
       "    <tr>\n",
       "      <th>Wii</th>\n",
       "      <td>8.59</td>\n",
       "      <td>2013</td>\n",
       "    </tr>\n",
       "    <tr>\n",
       "      <th>WiiU</th>\n",
       "      <td>21.65</td>\n",
       "      <td>2013</td>\n",
       "    </tr>\n",
       "    <tr>\n",
       "      <th>X360</th>\n",
       "      <td>88.58</td>\n",
       "      <td>2013</td>\n",
       "    </tr>\n",
       "    <tr>\n",
       "      <th>XOne</th>\n",
       "      <td>18.96</td>\n",
       "      <td>2013</td>\n",
       "    </tr>\n",
       "    <tr>\n",
       "      <th>3DS</th>\n",
       "      <td>43.76</td>\n",
       "      <td>2014</td>\n",
       "    </tr>\n",
       "    <tr>\n",
       "      <th>PC</th>\n",
       "      <td>13.28</td>\n",
       "      <td>2014</td>\n",
       "    </tr>\n",
       "    <tr>\n",
       "      <th>PS3</th>\n",
       "      <td>47.76</td>\n",
       "      <td>2014</td>\n",
       "    </tr>\n",
       "    <tr>\n",
       "      <th>PS4</th>\n",
       "      <td>100.00</td>\n",
       "      <td>2014</td>\n",
       "    </tr>\n",
       "    <tr>\n",
       "      <th>PSP</th>\n",
       "      <td>0.24</td>\n",
       "      <td>2014</td>\n",
       "    </tr>\n",
       "    <tr>\n",
       "      <th>PSV</th>\n",
       "      <td>11.90</td>\n",
       "      <td>2014</td>\n",
       "    </tr>\n",
       "    <tr>\n",
       "      <th>Wii</th>\n",
       "      <td>3.75</td>\n",
       "      <td>2014</td>\n",
       "    </tr>\n",
       "    <tr>\n",
       "      <th>WiiU</th>\n",
       "      <td>22.03</td>\n",
       "      <td>2014</td>\n",
       "    </tr>\n",
       "    <tr>\n",
       "      <th>X360</th>\n",
       "      <td>34.74</td>\n",
       "      <td>2014</td>\n",
       "    </tr>\n",
       "    <tr>\n",
       "      <th>XOne</th>\n",
       "      <td>54.07</td>\n",
       "      <td>2014</td>\n",
       "    </tr>\n",
       "    <tr>\n",
       "      <th>3DS</th>\n",
       "      <td>27.78</td>\n",
       "      <td>2015</td>\n",
       "    </tr>\n",
       "    <tr>\n",
       "      <th>PC</th>\n",
       "      <td>8.52</td>\n",
       "      <td>2015</td>\n",
       "    </tr>\n",
       "    <tr>\n",
       "      <th>PS3</th>\n",
       "      <td>16.82</td>\n",
       "      <td>2015</td>\n",
       "    </tr>\n",
       "    <tr>\n",
       "      <th>PS4</th>\n",
       "      <td>118.90</td>\n",
       "      <td>2015</td>\n",
       "    </tr>\n",
       "    <tr>\n",
       "      <th>PSP</th>\n",
       "      <td>0.12</td>\n",
       "      <td>2015</td>\n",
       "    </tr>\n",
       "    <tr>\n",
       "      <th>PSV</th>\n",
       "      <td>6.25</td>\n",
       "      <td>2015</td>\n",
       "    </tr>\n",
       "    <tr>\n",
       "      <th>Wii</th>\n",
       "      <td>1.14</td>\n",
       "      <td>2015</td>\n",
       "    </tr>\n",
       "    <tr>\n",
       "      <th>WiiU</th>\n",
       "      <td>16.35</td>\n",
       "      <td>2015</td>\n",
       "    </tr>\n",
       "    <tr>\n",
       "      <th>X360</th>\n",
       "      <td>11.96</td>\n",
       "      <td>2015</td>\n",
       "    </tr>\n",
       "    <tr>\n",
       "      <th>XOne</th>\n",
       "      <td>60.14</td>\n",
       "      <td>2015</td>\n",
       "    </tr>\n",
       "    <tr>\n",
       "      <th>3DS</th>\n",
       "      <td>15.14</td>\n",
       "      <td>2016</td>\n",
       "    </tr>\n",
       "    <tr>\n",
       "      <th>PC</th>\n",
       "      <td>5.25</td>\n",
       "      <td>2016</td>\n",
       "    </tr>\n",
       "    <tr>\n",
       "      <th>PS3</th>\n",
       "      <td>3.60</td>\n",
       "      <td>2016</td>\n",
       "    </tr>\n",
       "    <tr>\n",
       "      <th>PS4</th>\n",
       "      <td>69.25</td>\n",
       "      <td>2016</td>\n",
       "    </tr>\n",
       "    <tr>\n",
       "      <th>PSV</th>\n",
       "      <td>4.25</td>\n",
       "      <td>2016</td>\n",
       "    </tr>\n",
       "    <tr>\n",
       "      <th>Wii</th>\n",
       "      <td>0.18</td>\n",
       "      <td>2016</td>\n",
       "    </tr>\n",
       "    <tr>\n",
       "      <th>WiiU</th>\n",
       "      <td>4.60</td>\n",
       "      <td>2016</td>\n",
       "    </tr>\n",
       "    <tr>\n",
       "      <th>X360</th>\n",
       "      <td>1.52</td>\n",
       "      <td>2016</td>\n",
       "    </tr>\n",
       "    <tr>\n",
       "      <th>XOne</th>\n",
       "      <td>26.15</td>\n",
       "      <td>2016</td>\n",
       "    </tr>\n",
       "  </tbody>\n",
       "</table>\n",
       "</div>"
      ],
      "text/plain": [
       "      total_sales  years\n",
       "3DS         56.57   2013\n",
       "DS           1.54   2013\n",
       "PC          12.38   2013\n",
       "PS3        113.25   2013\n",
       "PS4         25.99   2013\n",
       "PSP          3.14   2013\n",
       "PSV         10.59   2013\n",
       "Wii          8.59   2013\n",
       "WiiU        21.65   2013\n",
       "X360        88.58   2013\n",
       "XOne        18.96   2013\n",
       "3DS         43.76   2014\n",
       "PC          13.28   2014\n",
       "PS3         47.76   2014\n",
       "PS4        100.00   2014\n",
       "PSP          0.24   2014\n",
       "PSV         11.90   2014\n",
       "Wii          3.75   2014\n",
       "WiiU        22.03   2014\n",
       "X360        34.74   2014\n",
       "XOne        54.07   2014\n",
       "3DS         27.78   2015\n",
       "PC           8.52   2015\n",
       "PS3         16.82   2015\n",
       "PS4        118.90   2015\n",
       "PSP          0.12   2015\n",
       "PSV          6.25   2015\n",
       "Wii          1.14   2015\n",
       "WiiU        16.35   2015\n",
       "X360        11.96   2015\n",
       "XOne        60.14   2015\n",
       "3DS         15.14   2016\n",
       "PC           5.25   2016\n",
       "PS3          3.60   2016\n",
       "PS4         69.25   2016\n",
       "PSV          4.25   2016\n",
       "Wii          0.18   2016\n",
       "WiiU         4.60   2016\n",
       "X360         1.52   2016\n",
       "XOne        26.15   2016"
      ]
     },
     "execution_count": 21,
     "metadata": {},
     "output_type": "execute_result"
    }
   ],
   "source": [
    "actual_data_pivot_table = actual_data.pivot_table(index = ['year_of_release','platform'], \n",
    "                                                    values = 'total_sales',\n",
    "                                                    aggfunc = 'sum')\n",
    "\n",
    "pivot_table_index = actual_data_pivot_table.index.to_list()\n",
    "\n",
    "actual_data_pivot_table[\"years\"] = [year for year, platform in pivot_table_index]\n",
    "\n",
    "actual_data_pivot_table.index = [platform for year, platform in pivot_table_index]\n",
    "\n",
    "actual_data_pivot_table"
   ]
  },
  {
   "cell_type": "markdown",
   "metadata": {},
   "source": [
    "Cобрали таблицу с продажами по годам для каждой консоли."
   ]
  },
  {
   "cell_type": "code",
   "execution_count": 22,
   "metadata": {},
   "outputs": [
    {
     "data": {
      "image/png": "[encoded data removed]",
      "text/plain": [
       "<Figure size 720x360 with 1 Axes>"
      ]
     },
     "metadata": {
      "needs_background": "light"
     },
     "output_type": "display_data"
    }
   ],
   "source": [
    "fig, ax = plt.subplots(figsize =(10,5))\n",
    "for platform in actual_data_pivot_table.index:\n",
    "    ax.plot(actual_data_pivot_table.loc[platform]['years'],\n",
    "            actual_data_pivot_table.loc[platform]['total_sales'])\n",
    "ax.legend(actual_data_pivot_table.index.unique(),prop = {'size':10})\n",
    "plt.show()"
   ]
  },
  {
   "cell_type": "markdown",
   "metadata": {},
   "source": [
    "Из графика видно, что все консоли на данный момент снижаются по продажам. Некоторую стабильность показывают PSV, XOne и PC, их можно считать потенциально прибыльными. "
   ]
  },
  {
   "cell_type": "code",
   "execution_count": 23,
   "metadata": {},
   "outputs": [
    {
     "data": {
      "image/png": "[encoded data removed]",
      "text/plain": [
       "<Figure size 1080x360 with 1 Axes>"
      ]
     },
     "metadata": {
      "needs_background": "light"
     },
     "output_type": "display_data"
    }
   ],
   "source": [
    "top_quantile = actual_data['total_sales'].quantile(0.75)\n",
    "low_quantile = actual_data['total_sales'].quantile(0.25)\n",
    "threshold = top_quantile + 2*low_quantile\n",
    "fig, ax = plt.subplots(figsize =(15,5))\n",
    "sns.boxplot(x = 'platform', \n",
    "            y = 'total_sales',\n",
    "            data = actual_data.query('total_sales <= @threshold'),ax=ax);"
   ]
  },
  {
   "cell_type": "code",
   "execution_count": 24,
   "metadata": {},
   "outputs": [
    {
     "data": {
      "image/png": "[encoded data removed]",
      "text/plain": [
       "<Figure size 1080x360 with 1 Axes>"
      ]
     },
     "metadata": {
      "needs_background": "light"
     },
     "output_type": "display_data"
    }
   ],
   "source": [
    "fig, ax = plt.subplots(figsize =(15,5))\n",
    "sns.boxplot(x = actual_data['platform'], \n",
    "            y = actual_data['total_sales']);\n",
    "            "
   ]
  },
  {
   "cell_type": "markdown",
   "metadata": {},
   "source": [
    "У большинства консолей значительная часть значений больше медианного. Наиболее равномерно распределены значения у платформы xone, ds. Если смотреть по полным данным, то видим, что выбросов нет у приставок PSP и DS. А самые далекие выбросы (и их много) у PS3, X360, PS4,3DS. Это популярные консоли и, выбросы, скорее всего, связаны с тем, что отдельные игры (типа GTA) являются сверхпопулярными и бьют все рекорды продаж на фоне остальных."
   ]
  },
  {
   "cell_type": "code",
   "execution_count": 25,
   "metadata": {},
   "outputs": [
    {
     "data": {
      "image/png": "[encoded data removed]",
      "text/plain": [
       "<Figure size 1440x504 with 2 Axes>"
      ]
     },
     "metadata": {
      "needs_background": "light"
     },
     "output_type": "display_data"
    }
   ],
   "source": [
    "fig_scatter, (scatter_ax,scatter_ax2) = plt.subplots(2,1, figsize = (20,7))\n",
    "scatter_ax.scatter(y= 'critic_score', x = 'total_sales',data =actual_data.query('platform == \"PS4\"').dropna());\n",
    "scatter_ax2.scatter(y= 'user_score', x = 'total_sales',data =actual_data.query('platform == \"PS4\"').dropna());"
   ]
  },
  {
   "cell_type": "markdown",
   "metadata": {},
   "source": [
    "Из графика можно сделать вывод что, что корреляция между продажами и оценкой критиков сильнее"
   ]
  },
  {
   "cell_type": "code",
   "execution_count": 26,
   "metadata": {},
   "outputs": [
    {
     "name": "stdout",
     "output_type": "stream",
     "text": [
      "0.40656790206178095\n",
      "-0.031957110204556376\n"
     ]
    }
   ],
   "source": [
    "ps4_critic_score = actual_data.query('platform == \"PS4\"')['critic_score']\n",
    "ps4_user_score = actual_data.query('platform == \"PS4\"')['user_score']\n",
    "ps4_total_sales = actual_data.query('platform == \"PS4\"')['total_sales']\n",
    "\n",
    "print(ps4_critic_score.corr(ps4_total_sales))\n",
    "print(ps4_user_score.corr(ps4_total_sales))"
   ]
  },
  {
   "cell_type": "markdown",
   "metadata": {},
   "source": [
    "Корреляция с оценками критиков достаточно большая, около 40%. Корреляция с оценками пользователей отрицательная. вполне возможно, что при покупке игры, люди не обращают внимание на низкие оценки других пользователей, а смотрят на отзывы критиков."
   ]
  },
  {
   "cell_type": "code",
   "execution_count": 27,
   "metadata": {},
   "outputs": [
    {
     "data": {
      "image/png": "[encoded data removed]",
      "text/plain": [
       "<Figure size 1440x504 with 2 Axes>"
      ]
     },
     "metadata": {
      "needs_background": "light"
     },
     "output_type": "display_data"
    }
   ],
   "source": [
    "fig_scatter, (scatter_ax,scatter_ax2) = plt.subplots(2,1, figsize = (20,7))\n",
    "scatter_ax.scatter(y= 'critic_score', x = 'total_sales',data =actual_data.query('platform == \"PC\"').dropna());\n",
    "scatter_ax2.scatter(y= 'user_score', x = 'total_sales',data =actual_data.query('platform == \"PC\"').dropna());"
   ]
  },
  {
   "cell_type": "code",
   "execution_count": 28,
   "metadata": {},
   "outputs": [
    {
     "name": "stdout",
     "output_type": "stream",
     "text": [
      "0.19603028294369382\n",
      "-0.0938418695247674\n"
     ]
    }
   ],
   "source": [
    "ps4_critic_score = actual_data.query('platform == \"PC\"')['critic_score']\n",
    "ps4_user_score = actual_data.query('platform == \"PC\"')['user_score']\n",
    "ps4_total_sales = actual_data.query('platform == \"PC\"')['total_sales']\n",
    "\n",
    "print(ps4_critic_score.corr(ps4_total_sales))\n",
    "print(ps4_user_score.corr(ps4_total_sales))"
   ]
  },
  {
   "cell_type": "markdown",
   "metadata": {},
   "source": [
    "На персональном компьютере наблюдается такая тенденция как и на PS4. Мееньше влияние критиков на продажи, отрицательная корреляция по оценкам пользователей практически такая же."
   ]
  },
  {
   "cell_type": "markdown",
   "metadata": {},
   "source": [
    "Из корреляционного анализа по двум платформам видно, что покупатели игр прислушиваются к мнению критиков. Но с оценками пользователей ситуация обратная. Кореляция хоть незначительная, но отрицательная. С чем это связано можно только предположить. Например, что покупатели не читают отрицательные отзывы пользователей. Либо пользователи пишут больше отрицательных отзывов, чем критики. Людям вообще свойствено писать плохие отзывы и забывать про хорошие.  "
   ]
  },
  {
   "cell_type": "code",
   "execution_count": 29,
   "metadata": {},
   "outputs": [
    {
     "data": {
      "text/html": [
       "<div>\n",
       "<style scoped>\n",
       "    .dataframe tbody tr th:only-of-type {\n",
       "        vertical-align: middle;\n",
       "    }\n",
       "\n",
       "    .dataframe tbody tr th {\n",
       "        vertical-align: top;\n",
       "    }\n",
       "\n",
       "    .dataframe thead th {\n",
       "        text-align: right;\n",
       "    }\n",
       "</style>\n",
       "<table border=\"1\" class=\"dataframe\">\n",
       "  <thead>\n",
       "    <tr style=\"text-align: right;\">\n",
       "      <th></th>\n",
       "      <th>genre</th>\n",
       "      <th>count</th>\n",
       "      <th>median</th>\n",
       "      <th>sum</th>\n",
       "    </tr>\n",
       "  </thead>\n",
       "  <tbody>\n",
       "    <tr>\n",
       "      <th>0</th>\n",
       "      <td>Action</td>\n",
       "      <td>766</td>\n",
       "      <td>0.110</td>\n",
       "      <td>321.87</td>\n",
       "    </tr>\n",
       "    <tr>\n",
       "      <th>8</th>\n",
       "      <td>Shooter</td>\n",
       "      <td>187</td>\n",
       "      <td>0.450</td>\n",
       "      <td>232.98</td>\n",
       "    </tr>\n",
       "    <tr>\n",
       "      <th>10</th>\n",
       "      <td>Sports</td>\n",
       "      <td>214</td>\n",
       "      <td>0.240</td>\n",
       "      <td>150.65</td>\n",
       "    </tr>\n",
       "    <tr>\n",
       "      <th>7</th>\n",
       "      <td>Role-Playing</td>\n",
       "      <td>292</td>\n",
       "      <td>0.125</td>\n",
       "      <td>145.89</td>\n",
       "    </tr>\n",
       "    <tr>\n",
       "      <th>3</th>\n",
       "      <td>Misc</td>\n",
       "      <td>155</td>\n",
       "      <td>0.100</td>\n",
       "      <td>62.82</td>\n",
       "    </tr>\n",
       "  </tbody>\n",
       "</table>\n",
       "</div>"
      ],
      "text/plain": [
       "           genre  count  median     sum\n",
       "0         Action    766   0.110  321.87\n",
       "8        Shooter    187   0.450  232.98\n",
       "10        Sports    214   0.240  150.65\n",
       "7   Role-Playing    292   0.125  145.89\n",
       "3           Misc    155   0.100   62.82"
      ]
     },
     "execution_count": 29,
     "metadata": {},
     "output_type": "execute_result"
    }
   ],
   "source": [
    "genre_analysis_pivot_table = actual_data.groupby('genre').agg({'name':'count','total_sales':['median','sum']}).reset_index()\n",
    "\n",
    "genre_analysis_pivot_table.columns = ['genre', 'count', 'median','sum']\n",
    "\n",
    "genre_analysis_pivot_table = genre_analysis_pivot_table.sort_values(by = 'sum', ascending = False)\n",
    "\n",
    "genre_analysis_pivot_table.head()"
   ]
  },
  {
   "cell_type": "code",
   "execution_count": 30,
   "metadata": {},
   "outputs": [
    {
     "data": {
      "image/png": "[encoded data removed]",
      "text/plain": [
       "<Figure size 864x360 with 1 Axes>"
      ]
     },
     "metadata": {
      "needs_background": "light"
     },
     "output_type": "display_data"
    }
   ],
   "source": [
    "(\n",
    "genre_analysis_pivot_table.pivot_table(index='genre', values='median')\n",
    ".plot(grid=True, figsize=(12, 5), kind ='bar')\n",
    ");"
   ]
  },
  {
   "cell_type": "markdown",
   "metadata": {},
   "source": [
    "Видно, что не всегда количество игр жанра гарантирует высокие продажи, например, в жанре adventure выпущено много игр, но они имеют очень маленькое медианное значение продаж.  Если рассматривать только самые прибыльные жанры, то можно заметить, что в них сочетаются два параметра, у них большое количество игр и высокое медианное значение. Самые популярные жанры по медианному значению это  Shooter, Sports, Platform и Action. Наименее прибыльные Puzzle и Adventure."
   ]
  },
  {
   "cell_type": "code",
   "execution_count": 31,
   "metadata": {},
   "outputs": [
    {
     "name": "stdout",
     "output_type": "stream",
     "text": [
      "<class 'pandas.core.frame.DataFrame'>\n",
      "Int64Index: 2233 entries, 16 to 16714\n",
      "Data columns (total 12 columns):\n",
      " #   Column           Non-Null Count  Dtype  \n",
      "---  ------           --------------  -----  \n",
      " 0   name             2233 non-null   object \n",
      " 1   platform         2233 non-null   object \n",
      " 2   year_of_release  2233 non-null   int64  \n",
      " 3   genre            2233 non-null   object \n",
      " 4   na_sales         2233 non-null   float64\n",
      " 5   eu_sales         2233 non-null   float64\n",
      " 6   jp_sales         2233 non-null   float64\n",
      " 7   other_sales      2233 non-null   float64\n",
      " 8   critic_score     991 non-null    float64\n",
      " 9   user_score       1192 non-null   float64\n",
      " 10  rating           2233 non-null   object \n",
      " 11  total_sales      2233 non-null   float64\n",
      "dtypes: float64(7), int64(1), object(4)\n",
      "memory usage: 291.3+ KB\n"
     ]
    }
   ],
   "source": [
    "actual_data.info()"
   ]
  },
  {
   "cell_type": "code",
   "execution_count": 32,
   "metadata": {},
   "outputs": [
    {
     "data": {
      "image/png": "[encoded data removed]",
      "text/plain": [
       "<Figure size 1080x360 with 1 Axes>"
      ]
     },
     "metadata": {
      "needs_background": "light"
     },
     "output_type": "display_data"
    }
   ],
   "source": [
    "actual_data.pivot_table(index = 'platform', values = 'na_sales', aggfunc = 'sum').sort_values(ascending=False, by = 'na_sales').plot(kind = 'bar', figsize=(15,5))\n",
    "plt.xlim([0, 4]);"
   ]
  },
  {
   "cell_type": "markdown",
   "metadata": {},
   "source": [
    "Пользователи Северной Америки больше всего предпочитают Xbox360, потому что консоль американская. Платформы Wii, PS3, DS - пользуются также значительной популярностью, но они японские. В сумме продаж преобладают игры на японских консолях."
   ]
  },
  {
   "cell_type": "code",
   "execution_count": 33,
   "metadata": {},
   "outputs": [
    {
     "data": {
      "image/png": "[encoded data removed]",
      "text/plain": [
       "<Figure size 1080x360 with 1 Axes>"
      ]
     },
     "metadata": {
      "needs_background": "light"
     },
     "output_type": "display_data"
    }
   ],
   "source": [
    "actual_data.pivot_table(index = 'platform', values = 'eu_sales', aggfunc = 'sum').sort_values(ascending=False, by = 'eu_sales').plot(kind = 'bar', figsize=(15,5))\n",
    "plt.xlim([0, 4]);"
   ]
  },
  {
   "cell_type": "markdown",
   "metadata": {},
   "source": [
    "У пользователей Европы популярны и японские платформы, и американская консоль Xbox360. В целом запросы такие же как у пользователей из Северной Америки"
   ]
  },
  {
   "cell_type": "code",
   "execution_count": 34,
   "metadata": {},
   "outputs": [
    {
     "data": {
      "image/png": "[encoded data removed]",
      "text/plain": [
       "<Figure size 1080x360 with 1 Axes>"
      ]
     },
     "metadata": {
      "needs_background": "light"
     },
     "output_type": "display_data"
    }
   ],
   "source": [
    "actual_data.pivot_table(index = 'platform', values = 'jp_sales', aggfunc = 'sum').sort_values(ascending=False, by = 'jp_sales').plot(kind = 'bar', figsize=(15,5))\n",
    "plt.xlim([0, 4]);"
   ]
  },
  {
   "cell_type": "markdown",
   "metadata": {},
   "source": [
    "Подавляющее большинство японских пользователей играют в японские платформы, что неудивительно из-за большого разнообразия платформ"
   ]
  },
  {
   "cell_type": "markdown",
   "metadata": {},
   "source": [
    "Из гистограмм следует, что пользователи играют на консолях производства их стран.\n"
   ]
  },
  {
   "cell_type": "code",
   "execution_count": 35,
   "metadata": {},
   "outputs": [
    {
     "data": {
      "text/html": [
       "<div>\n",
       "<style scoped>\n",
       "    .dataframe tbody tr th:only-of-type {\n",
       "        vertical-align: middle;\n",
       "    }\n",
       "\n",
       "    .dataframe tbody tr th {\n",
       "        vertical-align: top;\n",
       "    }\n",
       "\n",
       "    .dataframe thead th {\n",
       "        text-align: right;\n",
       "    }\n",
       "</style>\n",
       "<table border=\"1\" class=\"dataframe\">\n",
       "  <thead>\n",
       "    <tr style=\"text-align: right;\">\n",
       "      <th></th>\n",
       "      <th>na_sales</th>\n",
       "    </tr>\n",
       "    <tr>\n",
       "      <th>genre</th>\n",
       "      <th></th>\n",
       "    </tr>\n",
       "  </thead>\n",
       "  <tbody>\n",
       "    <tr>\n",
       "      <th>Action</th>\n",
       "      <td>126.05</td>\n",
       "    </tr>\n",
       "    <tr>\n",
       "      <th>Shooter</th>\n",
       "      <td>109.74</td>\n",
       "    </tr>\n",
       "    <tr>\n",
       "      <th>Sports</th>\n",
       "      <td>65.27</td>\n",
       "    </tr>\n",
       "    <tr>\n",
       "      <th>Role-Playing</th>\n",
       "      <td>46.40</td>\n",
       "    </tr>\n",
       "    <tr>\n",
       "      <th>Misc</th>\n",
       "      <td>27.49</td>\n",
       "    </tr>\n",
       "    <tr>\n",
       "      <th>Platform</th>\n",
       "      <td>18.14</td>\n",
       "    </tr>\n",
       "    <tr>\n",
       "      <th>Fighting</th>\n",
       "      <td>15.55</td>\n",
       "    </tr>\n",
       "    <tr>\n",
       "      <th>Racing</th>\n",
       "      <td>12.96</td>\n",
       "    </tr>\n",
       "    <tr>\n",
       "      <th>Adventure</th>\n",
       "      <td>7.14</td>\n",
       "    </tr>\n",
       "    <tr>\n",
       "      <th>Simulation</th>\n",
       "      <td>4.86</td>\n",
       "    </tr>\n",
       "    <tr>\n",
       "      <th>Strategy</th>\n",
       "      <td>3.28</td>\n",
       "    </tr>\n",
       "    <tr>\n",
       "      <th>Puzzle</th>\n",
       "      <td>0.83</td>\n",
       "    </tr>\n",
       "  </tbody>\n",
       "</table>\n",
       "</div>"
      ],
      "text/plain": [
       "              na_sales\n",
       "genre                 \n",
       "Action          126.05\n",
       "Shooter         109.74\n",
       "Sports           65.27\n",
       "Role-Playing     46.40\n",
       "Misc             27.49\n",
       "Platform         18.14\n",
       "Fighting         15.55\n",
       "Racing           12.96\n",
       "Adventure         7.14\n",
       "Simulation        4.86\n",
       "Strategy          3.28\n",
       "Puzzle            0.83"
      ]
     },
     "execution_count": 35,
     "metadata": {},
     "output_type": "execute_result"
    }
   ],
   "source": [
    "actual_data.pivot_table(index = 'genre', values = 'na_sales', aggfunc = 'sum').sort_values(ascending=False, by = 'na_sales')"
   ]
  },
  {
   "cell_type": "code",
   "execution_count": 36,
   "metadata": {},
   "outputs": [
    {
     "data": {
      "text/html": [
       "<div>\n",
       "<style scoped>\n",
       "    .dataframe tbody tr th:only-of-type {\n",
       "        vertical-align: middle;\n",
       "    }\n",
       "\n",
       "    .dataframe tbody tr th {\n",
       "        vertical-align: top;\n",
       "    }\n",
       "\n",
       "    .dataframe thead th {\n",
       "        text-align: right;\n",
       "    }\n",
       "</style>\n",
       "<table border=\"1\" class=\"dataframe\">\n",
       "  <thead>\n",
       "    <tr style=\"text-align: right;\">\n",
       "      <th></th>\n",
       "      <th>eu_sales</th>\n",
       "    </tr>\n",
       "    <tr>\n",
       "      <th>genre</th>\n",
       "      <th></th>\n",
       "    </tr>\n",
       "  </thead>\n",
       "  <tbody>\n",
       "    <tr>\n",
       "      <th>Action</th>\n",
       "      <td>118.13</td>\n",
       "    </tr>\n",
       "    <tr>\n",
       "      <th>Shooter</th>\n",
       "      <td>87.86</td>\n",
       "    </tr>\n",
       "    <tr>\n",
       "      <th>Sports</th>\n",
       "      <td>60.52</td>\n",
       "    </tr>\n",
       "    <tr>\n",
       "      <th>Role-Playing</th>\n",
       "      <td>36.97</td>\n",
       "    </tr>\n",
       "    <tr>\n",
       "      <th>Racing</th>\n",
       "      <td>20.19</td>\n",
       "    </tr>\n",
       "    <tr>\n",
       "      <th>Misc</th>\n",
       "      <td>20.04</td>\n",
       "    </tr>\n",
       "    <tr>\n",
       "      <th>Platform</th>\n",
       "      <td>15.58</td>\n",
       "    </tr>\n",
       "    <tr>\n",
       "      <th>Simulation</th>\n",
       "      <td>10.92</td>\n",
       "    </tr>\n",
       "    <tr>\n",
       "      <th>Fighting</th>\n",
       "      <td>8.55</td>\n",
       "    </tr>\n",
       "    <tr>\n",
       "      <th>Adventure</th>\n",
       "      <td>8.25</td>\n",
       "    </tr>\n",
       "    <tr>\n",
       "      <th>Strategy</th>\n",
       "      <td>4.22</td>\n",
       "    </tr>\n",
       "    <tr>\n",
       "      <th>Puzzle</th>\n",
       "      <td>1.00</td>\n",
       "    </tr>\n",
       "  </tbody>\n",
       "</table>\n",
       "</div>"
      ],
      "text/plain": [
       "              eu_sales\n",
       "genre                 \n",
       "Action          118.13\n",
       "Shooter          87.86\n",
       "Sports           60.52\n",
       "Role-Playing     36.97\n",
       "Racing           20.19\n",
       "Misc             20.04\n",
       "Platform         15.58\n",
       "Simulation       10.92\n",
       "Fighting          8.55\n",
       "Adventure         8.25\n",
       "Strategy          4.22\n",
       "Puzzle            1.00"
      ]
     },
     "execution_count": 36,
     "metadata": {},
     "output_type": "execute_result"
    }
   ],
   "source": [
    "actual_data.pivot_table(index = 'genre', values = 'eu_sales', aggfunc = 'sum').sort_values(ascending=False, by = 'eu_sales')"
   ]
  },
  {
   "cell_type": "code",
   "execution_count": 37,
   "metadata": {},
   "outputs": [
    {
     "data": {
      "text/html": [
       "<div>\n",
       "<style scoped>\n",
       "    .dataframe tbody tr th:only-of-type {\n",
       "        vertical-align: middle;\n",
       "    }\n",
       "\n",
       "    .dataframe tbody tr th {\n",
       "        vertical-align: top;\n",
       "    }\n",
       "\n",
       "    .dataframe thead th {\n",
       "        text-align: right;\n",
       "    }\n",
       "</style>\n",
       "<table border=\"1\" class=\"dataframe\">\n",
       "  <thead>\n",
       "    <tr style=\"text-align: right;\">\n",
       "      <th></th>\n",
       "      <th>jp_sales</th>\n",
       "    </tr>\n",
       "    <tr>\n",
       "      <th>genre</th>\n",
       "      <th></th>\n",
       "    </tr>\n",
       "  </thead>\n",
       "  <tbody>\n",
       "    <tr>\n",
       "      <th>Role-Playing</th>\n",
       "      <td>51.04</td>\n",
       "    </tr>\n",
       "    <tr>\n",
       "      <th>Action</th>\n",
       "      <td>40.49</td>\n",
       "    </tr>\n",
       "    <tr>\n",
       "      <th>Misc</th>\n",
       "      <td>9.20</td>\n",
       "    </tr>\n",
       "    <tr>\n",
       "      <th>Fighting</th>\n",
       "      <td>7.65</td>\n",
       "    </tr>\n",
       "    <tr>\n",
       "      <th>Shooter</th>\n",
       "      <td>6.61</td>\n",
       "    </tr>\n",
       "    <tr>\n",
       "      <th>Adventure</th>\n",
       "      <td>5.82</td>\n",
       "    </tr>\n",
       "    <tr>\n",
       "      <th>Sports</th>\n",
       "      <td>5.41</td>\n",
       "    </tr>\n",
       "    <tr>\n",
       "      <th>Platform</th>\n",
       "      <td>4.79</td>\n",
       "    </tr>\n",
       "    <tr>\n",
       "      <th>Simulation</th>\n",
       "      <td>4.52</td>\n",
       "    </tr>\n",
       "    <tr>\n",
       "      <th>Racing</th>\n",
       "      <td>2.30</td>\n",
       "    </tr>\n",
       "    <tr>\n",
       "      <th>Strategy</th>\n",
       "      <td>1.77</td>\n",
       "    </tr>\n",
       "    <tr>\n",
       "      <th>Puzzle</th>\n",
       "      <td>1.18</td>\n",
       "    </tr>\n",
       "  </tbody>\n",
       "</table>\n",
       "</div>"
      ],
      "text/plain": [
       "              jp_sales\n",
       "genre                 \n",
       "Role-Playing     51.04\n",
       "Action           40.49\n",
       "Misc              9.20\n",
       "Fighting          7.65\n",
       "Shooter           6.61\n",
       "Adventure         5.82\n",
       "Sports            5.41\n",
       "Platform          4.79\n",
       "Simulation        4.52\n",
       "Racing            2.30\n",
       "Strategy          1.77\n",
       "Puzzle            1.18"
      ]
     },
     "execution_count": 37,
     "metadata": {},
     "output_type": "execute_result"
    }
   ],
   "source": [
    "actual_data.pivot_table(index = 'genre', values = 'jp_sales', aggfunc = 'sum').sort_values(ascending=False, by = 'jp_sales')"
   ]
  },
  {
   "cell_type": "markdown",
   "metadata": {},
   "source": [
    "Пользователи Европы и Северной Америки играют в целом в одни и те же консоли и игровая индустрия больше развита в домашнем уюте, поэтому популярны жанры - Action, Sports, Shooter. В японии преобладают пользователи с портативными консолями, в которые можно играть не только дома, поэтому они предпочитают жанр - Role-Playing и редко играют в игры с жанром - shooter."
   ]
  },
  {
   "cell_type": "code",
   "execution_count": 38,
   "metadata": {},
   "outputs": [
    {
     "data": {
      "text/plain": [
       "16       17.09\n",
       "23       14.86\n",
       "31       12.25\n",
       "33       13.82\n",
       "42       10.65\n",
       "         ...  \n",
       "16703     0.01\n",
       "16707     0.01\n",
       "16710     0.01\n",
       "16712     0.01\n",
       "16714     0.01\n",
       "Name: region, Length: 2233, dtype: float64"
      ]
     },
     "execution_count": 38,
     "metadata": {},
     "output_type": "execute_result"
    }
   ],
   "source": [
    "actual_data['region'] = actual_data['eu_sales'] + actual_data['jp_sales'] + actual_data['na_sales']\n",
    "actual_data['region']"
   ]
  },
  {
   "cell_type": "code",
   "execution_count": 39,
   "metadata": {},
   "outputs": [
    {
     "data": {
      "text/html": [
       "<div>\n",
       "<style scoped>\n",
       "    .dataframe tbody tr th:only-of-type {\n",
       "        vertical-align: middle;\n",
       "    }\n",
       "\n",
       "    .dataframe tbody tr th {\n",
       "        vertical-align: top;\n",
       "    }\n",
       "\n",
       "    .dataframe thead th {\n",
       "        text-align: right;\n",
       "    }\n",
       "</style>\n",
       "<table border=\"1\" class=\"dataframe\">\n",
       "  <thead>\n",
       "    <tr style=\"text-align: right;\">\n",
       "      <th></th>\n",
       "      <th>eu_sales</th>\n",
       "      <th>jp_sales</th>\n",
       "      <th>na_sales</th>\n",
       "    </tr>\n",
       "    <tr>\n",
       "      <th>rating</th>\n",
       "      <th></th>\n",
       "      <th></th>\n",
       "      <th></th>\n",
       "    </tr>\n",
       "  </thead>\n",
       "  <tbody>\n",
       "    <tr>\n",
       "      <th>E</th>\n",
       "      <td>83.36</td>\n",
       "      <td>15.14</td>\n",
       "      <td>79.05</td>\n",
       "    </tr>\n",
       "    <tr>\n",
       "      <th>E10+</th>\n",
       "      <td>42.69</td>\n",
       "      <td>5.89</td>\n",
       "      <td>54.24</td>\n",
       "    </tr>\n",
       "    <tr>\n",
       "      <th>M</th>\n",
       "      <td>145.32</td>\n",
       "      <td>14.11</td>\n",
       "      <td>165.21</td>\n",
       "    </tr>\n",
       "    <tr>\n",
       "      <th>T</th>\n",
       "      <td>41.95</td>\n",
       "      <td>20.59</td>\n",
       "      <td>49.79</td>\n",
       "    </tr>\n",
       "    <tr>\n",
       "      <th>undefined</th>\n",
       "      <td>78.91</td>\n",
       "      <td>85.05</td>\n",
       "      <td>89.42</td>\n",
       "    </tr>\n",
       "  </tbody>\n",
       "</table>\n",
       "</div>"
      ],
      "text/plain": [
       "           eu_sales  jp_sales  na_sales\n",
       "rating                                 \n",
       "E             83.36     15.14     79.05\n",
       "E10+          42.69      5.89     54.24\n",
       "M            145.32     14.11    165.21\n",
       "T             41.95     20.59     49.79\n",
       "undefined     78.91     85.05     89.42"
      ]
     },
     "execution_count": 39,
     "metadata": {},
     "output_type": "execute_result"
    }
   ],
   "source": [
    "ESRB = actual_data.pivot_table(index = 'rating', values = ['eu_sales','jp_sales','na_sales'], aggfunc = 'sum')\n",
    "ESRB"
   ]
  },
  {
   "cell_type": "markdown",
   "metadata": {},
   "source": [
    "Рейтинг влияет на продажи в отдельных регионах. Так, например, игры с рейтингом EC продавались в основном только в Северной Америке"
   ]
  },
  {
   "cell_type": "markdown",
   "metadata": {},
   "source": [
    "Пользователи Европы и Северной Америки играют в целом в одни и те же консоли и игровая индустрия больше развита в домашнем уюте, поэтому популярны жанры - Action, Sports, Shooter. В японии преобладают пользователи с портативными консолями, в которые можно играть не только дома, поэтому они предпочитают жанр - Role-Playing и редко играют в игры с жанром - shooter."
   ]
  },
  {
   "cell_type": "markdown",
   "metadata": {},
   "source": [
    "H0: Средние пользовательские рейтинги платформ Xbox One и PC одинаковые\n",
    "\n",
    "H1: Средние пользовательские рейтинги платформ Xbox One и PC разные"
   ]
  },
  {
   "cell_type": "code",
   "execution_count": 40,
   "metadata": {},
   "outputs": [
    {
     "name": "stdout",
     "output_type": "stream",
     "text": [
      "р-значение:  0.14759594013430463\n",
      "Не получилось отвергнуть нулевую гипотезу\n"
     ]
    }
   ],
   "source": [
    "alpha = 0.05\n",
    "\n",
    "sample_1 = actual_data[actual_data['platform'] =='XOne']['user_score']\n",
    "sample_2 = actual_data[actual_data['platform'] =='PC']['user_score']\n",
    "\n",
    "results = st.ttest_ind(sample_1.dropna(), sample_2.dropna(), equal_var=False)\n",
    "\n",
    "\n",
    "print('р-значение: ', results.pvalue)\n",
    "if results.pvalue < alpha:\n",
    "    print(\"Отвергаем нулевую гипотезу\")\n",
    "else:\n",
    "    print(\"Не получилось отвергнуть нулевую гипотезу\")"
   ]
  },
  {
   "cell_type": "markdown",
   "metadata": {},
   "source": [
    "Тест показал, что нулевая гипотеза подтвердилась. Можем сделать вывод, что средние пользовательские рейтинги платформ Xbox One и PC примерно равны."
   ]
  },
  {
   "cell_type": "markdown",
   "metadata": {},
   "source": [
    "H0: Средние пользовательские рейтинги жанров Action  и Sports  одинаковые\n",
    "\n",
    "H1: Средние пользовательские рейтинги жанров Action  и Sports  разные"
   ]
  },
  {
   "cell_type": "code",
   "execution_count": 41,
   "metadata": {},
   "outputs": [
    {
     "name": "stdout",
     "output_type": "stream",
     "text": [
      "р-значение:  1.4460039700704315e-20\n",
      "Отвергаем нулевую гипотезу\n"
     ]
    }
   ],
   "source": [
    "alpha = 0.05\n",
    "\n",
    "sample_3 = actual_data[actual_data['genre'] =='Action']['user_score']\n",
    "sample_4 = actual_data[actual_data['genre'] =='Sports']['user_score']\n",
    "\n",
    "results = st.ttest_ind(sample_3.dropna(), sample_4.dropna(), equal_var=False)\n",
    "\n",
    "\n",
    "print('р-значение: ', results.pvalue)\n",
    "if results.pvalue < alpha:\n",
    "    print(\"Отвергаем нулевую гипотезу\")\n",
    "else:\n",
    "    print(\"Не получилось отвергнуть нулевую гипотезу\")"
   ]
  },
  {
   "cell_type": "markdown",
   "metadata": {},
   "source": [
    "Тест показал, что нулевая гипотеза не подтвердилась. Можем сделать вывод, что средние пользовательские рейтинги жанров Action и Sports разные."
   ]
  },
  {
   "cell_type": "markdown",
   "metadata": {},
   "source": [
    "Был использован метод для проверки гипотезы о равенстве среднего двух генеральных совокупностей по взятым из них выборкам st.ttest_ind. alpha была принята со значением 0,05"
   ]
  },
  {
   "cell_type": "markdown",
   "metadata": {},
   "source": [
    "### Итоговый вывод:  "
   ]
  },
  {
   "cell_type": "markdown",
   "metadata": {},
   "source": [
    "1. Мы привели в порядок датафрейм (изменили типы данных, убрали пропуски, привели столбци к нижнему регистру).\n",
    "\n",
    "2. Провели исследовательский анализ данных:\n",
    "-Посмотрели, сколько игр выпускалось в разные годы. Установили, важны ли данные за все периоды.\n",
    "-Посмотрели, как менялись продажи по платформам. Выбрали платформы с наибольшими суммарными продажами и построили распределение по годам. Установили за какой характерный срок появляются новые и исчезают старые платформы.\n",
    "-Взяли данные за соответствующий актуальный период. Период выбрали так, чтобы эти данные помогли построить прогноз на 2017 год.\n",
    "Выяснили какие платформы лидируют по продажам, растут или падают. Выбрали несколько потенциально прибыльных платформ.\n",
    "-Построили график «ящик с усами» по глобальным продажам игр в разбивке по платформам. Описали результат.\n",
    "-Посмотрели, как влияют на продажи внутри одной популярной платформы отзывы пользователей и критиков. Построили диаграмму рассеяния и посчитали корреляцию между отзывами и продажами. Написали выводы.\n",
    "-Соотнесли выводы с продажами игр на других платформах.\n",
    "-Оценили общее распределение игр по жанрам. \n",
    "\n",
    "3. Составили портрет пользователя каждого региона.\n",
    "\n",
    "4. Проверили гипотезы.\n",
    "\n",
    "Определили критерии успешности игры на конец 2016 года (можно предположить, что и в 2017 году критерии не изменятся):\n",
    "\n",
    "1. Регион\n",
    "-Рейтинг ассоциации, определяющей возрастной рейтинг компьютерных игр\n",
    "-Платформа, которая наиболее распространена в данном регионе\n",
    "-Жанр\n",
    "\n",
    "2. Рейтинг критиков (влияет на количество продаж во всех регионах)\n",
    "\n",
    "-Игры, которые будут продаваться в Северной Америке лучше всего:\n",
    "-ESRB: E, M, T\n",
    "-Платформ(в порядке убывания): Xbox360, Wii, PS3, DS\n",
    "-Жанры: Action, Sports, Shooter, Misc, Role-Playing\n",
    "\n",
    "Игры, которые будут продаваться в Европе лучше всего:\n",
    "ESRB: E, M, T\n",
    "Платформы: в PS3, Xbox360, Wii, DS\n",
    "Жанры: Action, Sports, Shooter, Misc, Racing\n",
    "\n",
    "Игры, которые будут продаваться в Японии лучше всего:\n",
    "ESRB: E, T, M\n",
    "Платформы: DS, 3DS, PS3, PSP, Wii\n",
    "Жанры: Role-Playing, Action, Misc, Sports, Platform\n",
    "\n"
   ]
  }
 ],
 "metadata": {
  "ExecuteTimeLog": [
   {
    "duration": 1622,
    "start_time": "2022-10-13T05:04:51.512Z"
   },
   {
    "duration": 5,
    "start_time": "2022-10-13T05:05:24.423Z"
   },
   {
    "duration": 72,
    "start_time": "2022-10-13T05:05:46.140Z"
   },
   {
    "duration": 21,
    "start_time": "2022-10-13T05:06:13.098Z"
   },
   {
    "duration": 16,
    "start_time": "2022-10-13T05:06:49.409Z"
   },
   {
    "duration": 33,
    "start_time": "2022-10-13T05:10:13.088Z"
   },
   {
    "duration": 34,
    "start_time": "2022-10-13T05:18:02.147Z"
   },
   {
    "duration": 70,
    "start_time": "2022-10-13T05:18:19.299Z"
   },
   {
    "duration": 53,
    "start_time": "2022-10-13T05:18:25.137Z"
   },
   {
    "duration": 32,
    "start_time": "2022-10-13T05:19:21.056Z"
   },
   {
    "duration": 23,
    "start_time": "2022-10-13T05:19:36.422Z"
   },
   {
    "duration": 21,
    "start_time": "2022-10-13T05:19:48.652Z"
   },
   {
    "duration": 14,
    "start_time": "2022-10-13T05:22:47.632Z"
   },
   {
    "duration": 15,
    "start_time": "2022-10-13T05:27:40.143Z"
   },
   {
    "duration": 99,
    "start_time": "2022-10-13T05:29:15.933Z"
   },
   {
    "duration": 14,
    "start_time": "2022-10-13T05:29:33.324Z"
   },
   {
    "duration": 13,
    "start_time": "2022-10-13T05:31:47.265Z"
   },
   {
    "duration": 29,
    "start_time": "2022-10-13T05:32:05.523Z"
   },
   {
    "duration": 73,
    "start_time": "2022-10-13T05:33:02.957Z"
   },
   {
    "duration": 16,
    "start_time": "2022-10-13T05:34:15.174Z"
   },
   {
    "duration": 49,
    "start_time": "2022-10-13T05:36:47.815Z"
   },
   {
    "duration": 11,
    "start_time": "2022-10-13T05:37:12.369Z"
   },
   {
    "duration": 10,
    "start_time": "2022-10-13T05:37:27.515Z"
   },
   {
    "duration": 10,
    "start_time": "2022-10-13T05:41:47.567Z"
   },
   {
    "duration": 21,
    "start_time": "2022-10-13T05:42:22.238Z"
   },
   {
    "duration": 21,
    "start_time": "2022-10-13T05:43:57.771Z"
   },
   {
    "duration": 16,
    "start_time": "2022-10-13T05:44:23.575Z"
   },
   {
    "duration": 1310,
    "start_time": "2022-10-13T05:53:00.989Z"
   },
   {
    "duration": 43,
    "start_time": "2022-10-13T05:53:02.302Z"
   },
   {
    "duration": 26,
    "start_time": "2022-10-13T05:53:02.347Z"
   },
   {
    "duration": 29,
    "start_time": "2022-10-13T05:53:02.377Z"
   },
   {
    "duration": 34,
    "start_time": "2022-10-13T05:53:02.408Z"
   },
   {
    "duration": 19,
    "start_time": "2022-10-13T05:53:02.458Z"
   },
   {
    "duration": 129,
    "start_time": "2022-10-13T05:53:02.479Z"
   },
   {
    "duration": 0,
    "start_time": "2022-10-13T05:53:02.610Z"
   },
   {
    "duration": 0,
    "start_time": "2022-10-13T05:53:02.612Z"
   },
   {
    "duration": 0,
    "start_time": "2022-10-13T05:53:02.613Z"
   },
   {
    "duration": 0,
    "start_time": "2022-10-13T05:53:02.614Z"
   },
   {
    "duration": 16,
    "start_time": "2022-10-13T05:53:49.307Z"
   },
   {
    "duration": 1291,
    "start_time": "2022-10-13T05:53:58.183Z"
   },
   {
    "duration": 48,
    "start_time": "2022-10-13T05:53:59.476Z"
   },
   {
    "duration": 20,
    "start_time": "2022-10-13T05:53:59.525Z"
   },
   {
    "duration": 22,
    "start_time": "2022-10-13T05:53:59.547Z"
   },
   {
    "duration": 65,
    "start_time": "2022-10-13T05:53:59.571Z"
   },
   {
    "duration": 14,
    "start_time": "2022-10-13T05:53:59.637Z"
   },
   {
    "duration": 23,
    "start_time": "2022-10-13T05:53:59.654Z"
   },
   {
    "duration": 18,
    "start_time": "2022-10-13T05:53:59.680Z"
   },
   {
    "duration": 18,
    "start_time": "2022-10-13T05:53:59.700Z"
   },
   {
    "duration": 17,
    "start_time": "2022-10-13T05:53:59.721Z"
   },
   {
    "duration": 11,
    "start_time": "2022-10-13T05:55:25.944Z"
   },
   {
    "duration": 116,
    "start_time": "2022-10-13T05:57:42.289Z"
   },
   {
    "duration": 10,
    "start_time": "2022-10-13T05:58:07.724Z"
   },
   {
    "duration": 14,
    "start_time": "2022-10-13T06:00:09.175Z"
   },
   {
    "duration": 12,
    "start_time": "2022-10-13T06:02:15.452Z"
   },
   {
    "duration": 17,
    "start_time": "2022-10-13T06:02:22.471Z"
   },
   {
    "duration": 15,
    "start_time": "2022-10-13T06:05:34.085Z"
   },
   {
    "duration": 5950,
    "start_time": "2022-10-13T06:06:00.176Z"
   },
   {
    "duration": 5681,
    "start_time": "2022-10-13T06:06:18.700Z"
   },
   {
    "duration": 10,
    "start_time": "2022-10-13T06:29:51.907Z"
   },
   {
    "duration": 10,
    "start_time": "2022-10-13T06:30:14.990Z"
   },
   {
    "duration": 384,
    "start_time": "2022-10-13T06:30:27.035Z"
   },
   {
    "duration": 363,
    "start_time": "2022-10-13T06:30:33.321Z"
   },
   {
    "duration": 362,
    "start_time": "2022-10-13T06:30:55.104Z"
   },
   {
    "duration": 38,
    "start_time": "2022-10-13T06:54:42.195Z"
   },
   {
    "duration": 431,
    "start_time": "2022-10-13T06:56:40.654Z"
   },
   {
    "duration": 13,
    "start_time": "2022-10-13T07:07:21.234Z"
   },
   {
    "duration": 31,
    "start_time": "2022-10-13T07:07:56.800Z"
   },
   {
    "duration": 1379,
    "start_time": "2022-10-13T07:08:46.655Z"
   },
   {
    "duration": 55,
    "start_time": "2022-10-13T07:08:48.038Z"
   },
   {
    "duration": 20,
    "start_time": "2022-10-13T07:08:48.095Z"
   },
   {
    "duration": 14,
    "start_time": "2022-10-13T07:08:48.117Z"
   },
   {
    "duration": 68,
    "start_time": "2022-10-13T07:08:48.133Z"
   },
   {
    "duration": 23,
    "start_time": "2022-10-13T07:08:48.203Z"
   },
   {
    "duration": 43,
    "start_time": "2022-10-13T07:08:48.229Z"
   },
   {
    "duration": 29,
    "start_time": "2022-10-13T07:08:48.274Z"
   },
   {
    "duration": 16,
    "start_time": "2022-10-13T07:08:48.304Z"
   },
   {
    "duration": 15,
    "start_time": "2022-10-13T07:08:48.322Z"
   },
   {
    "duration": 9,
    "start_time": "2022-10-13T07:08:48.339Z"
   },
   {
    "duration": 47,
    "start_time": "2022-10-13T07:08:48.350Z"
   },
   {
    "duration": 21,
    "start_time": "2022-10-13T07:08:48.399Z"
   },
   {
    "duration": 5819,
    "start_time": "2022-10-13T07:08:48.423Z"
   },
   {
    "duration": 457,
    "start_time": "2022-10-13T07:08:54.245Z"
   },
   {
    "duration": 40,
    "start_time": "2022-10-13T07:08:54.705Z"
   },
   {
    "duration": 467,
    "start_time": "2022-10-13T07:08:54.754Z"
   },
   {
    "duration": 145,
    "start_time": "2022-10-13T07:08:55.223Z"
   },
   {
    "duration": 22,
    "start_time": "2022-10-13T07:10:57.191Z"
   },
   {
    "duration": 29,
    "start_time": "2022-10-13T07:16:53.679Z"
   },
   {
    "duration": 162,
    "start_time": "2022-10-13T07:18:26.261Z"
   },
   {
    "duration": 466,
    "start_time": "2022-10-13T07:19:07.112Z"
   },
   {
    "duration": 155,
    "start_time": "2022-10-13T07:25:50.531Z"
   },
   {
    "duration": 404,
    "start_time": "2022-10-13T07:26:01.786Z"
   },
   {
    "duration": 25,
    "start_time": "2022-10-13T07:48:12.288Z"
   },
   {
    "duration": 405,
    "start_time": "2022-10-13T07:52:24.331Z"
   },
   {
    "duration": 309,
    "start_time": "2022-10-13T07:53:57.972Z"
   },
   {
    "duration": 252,
    "start_time": "2022-10-13T07:54:08.828Z"
   },
   {
    "duration": 161,
    "start_time": "2022-10-13T07:54:47.346Z"
   },
   {
    "duration": 1389,
    "start_time": "2022-10-13T07:58:10.274Z"
   },
   {
    "duration": 77,
    "start_time": "2022-10-13T07:58:11.670Z"
   },
   {
    "duration": 40,
    "start_time": "2022-10-13T07:58:11.750Z"
   },
   {
    "duration": 51,
    "start_time": "2022-10-13T07:58:11.793Z"
   },
   {
    "duration": 51,
    "start_time": "2022-10-13T07:58:11.847Z"
   },
   {
    "duration": 41,
    "start_time": "2022-10-13T07:58:11.900Z"
   },
   {
    "duration": 56,
    "start_time": "2022-10-13T07:58:11.943Z"
   },
   {
    "duration": 12,
    "start_time": "2022-10-13T07:58:12.001Z"
   },
   {
    "duration": 22,
    "start_time": "2022-10-13T07:58:12.015Z"
   },
   {
    "duration": 20,
    "start_time": "2022-10-13T07:58:12.041Z"
   },
   {
    "duration": 34,
    "start_time": "2022-10-13T07:58:12.069Z"
   },
   {
    "duration": 23,
    "start_time": "2022-10-13T07:58:12.105Z"
   },
   {
    "duration": 49,
    "start_time": "2022-10-13T07:58:12.131Z"
   },
   {
    "duration": 5447,
    "start_time": "2022-10-13T07:58:12.182Z"
   },
   {
    "duration": 140,
    "start_time": "2022-10-13T07:58:17.631Z"
   },
   {
    "duration": 0,
    "start_time": "2022-10-13T07:58:17.774Z"
   },
   {
    "duration": 0,
    "start_time": "2022-10-13T07:58:17.776Z"
   },
   {
    "duration": 0,
    "start_time": "2022-10-13T07:58:17.777Z"
   },
   {
    "duration": 0,
    "start_time": "2022-10-13T07:58:17.778Z"
   },
   {
    "duration": 0,
    "start_time": "2022-10-13T07:58:17.780Z"
   },
   {
    "duration": 0,
    "start_time": "2022-10-13T07:58:17.781Z"
   },
   {
    "duration": 0,
    "start_time": "2022-10-13T07:58:17.782Z"
   },
   {
    "duration": 0,
    "start_time": "2022-10-13T07:58:17.784Z"
   },
   {
    "duration": 0,
    "start_time": "2022-10-13T07:58:17.785Z"
   },
   {
    "duration": 0,
    "start_time": "2022-10-13T07:58:17.786Z"
   },
   {
    "duration": 387,
    "start_time": "2022-10-13T07:58:29.385Z"
   },
   {
    "duration": 35,
    "start_time": "2022-10-13T07:58:31.511Z"
   },
   {
    "duration": 460,
    "start_time": "2022-10-13T07:58:33.173Z"
   },
   {
    "duration": 47,
    "start_time": "2022-10-13T07:58:35.123Z"
   },
   {
    "duration": 16,
    "start_time": "2022-10-13T07:58:37.075Z"
   },
   {
    "duration": 35,
    "start_time": "2022-10-13T07:58:38.431Z"
   },
   {
    "duration": 443,
    "start_time": "2022-10-13T07:58:44.651Z"
   },
   {
    "duration": 350,
    "start_time": "2022-10-13T07:58:48.188Z"
   },
   {
    "duration": 357,
    "start_time": "2022-10-13T07:58:52.992Z"
   },
   {
    "duration": 21,
    "start_time": "2022-10-13T08:00:10.191Z"
   },
   {
    "duration": 352,
    "start_time": "2022-10-13T08:00:11.582Z"
   },
   {
    "duration": 1273,
    "start_time": "2022-10-13T08:02:36.024Z"
   },
   {
    "duration": 45,
    "start_time": "2022-10-13T08:02:37.299Z"
   },
   {
    "duration": 28,
    "start_time": "2022-10-13T08:02:37.345Z"
   },
   {
    "duration": 42,
    "start_time": "2022-10-13T08:02:37.376Z"
   },
   {
    "duration": 53,
    "start_time": "2022-10-13T08:02:37.421Z"
   },
   {
    "duration": 16,
    "start_time": "2022-10-13T08:02:37.476Z"
   },
   {
    "duration": 15,
    "start_time": "2022-10-13T08:02:37.493Z"
   },
   {
    "duration": 15,
    "start_time": "2022-10-13T08:02:37.509Z"
   },
   {
    "duration": 33,
    "start_time": "2022-10-13T08:02:37.525Z"
   },
   {
    "duration": 20,
    "start_time": "2022-10-13T08:02:37.561Z"
   },
   {
    "duration": 7,
    "start_time": "2022-10-13T08:02:37.583Z"
   },
   {
    "duration": 18,
    "start_time": "2022-10-13T08:02:37.592Z"
   },
   {
    "duration": 16,
    "start_time": "2022-10-13T08:02:37.612Z"
   },
   {
    "duration": 5703,
    "start_time": "2022-10-13T08:02:37.632Z"
   },
   {
    "duration": 391,
    "start_time": "2022-10-13T08:02:43.338Z"
   },
   {
    "duration": 49,
    "start_time": "2022-10-13T08:02:43.730Z"
   },
   {
    "duration": 457,
    "start_time": "2022-10-13T08:02:43.780Z"
   },
   {
    "duration": 169,
    "start_time": "2022-10-13T08:02:44.239Z"
   },
   {
    "duration": 15,
    "start_time": "2022-10-13T08:02:44.410Z"
   },
   {
    "duration": 46,
    "start_time": "2022-10-13T08:02:44.428Z"
   },
   {
    "duration": 438,
    "start_time": "2022-10-13T08:02:44.478Z"
   },
   {
    "duration": 302,
    "start_time": "2022-10-13T08:02:44.917Z"
   },
   {
    "duration": 383,
    "start_time": "2022-10-13T08:02:45.222Z"
   },
   {
    "duration": 21,
    "start_time": "2022-10-13T08:02:45.607Z"
   },
   {
    "duration": 37,
    "start_time": "2022-10-13T08:02:45.630Z"
   },
   {
    "duration": 269,
    "start_time": "2022-10-13T08:03:18.020Z"
   },
   {
    "duration": 303,
    "start_time": "2022-10-13T08:04:04.668Z"
   },
   {
    "duration": 12,
    "start_time": "2022-10-13T08:06:01.841Z"
   },
   {
    "duration": 18,
    "start_time": "2022-10-13T08:06:27.456Z"
   },
   {
    "duration": 13,
    "start_time": "2022-10-13T08:06:56.710Z"
   },
   {
    "duration": 1254,
    "start_time": "2022-10-13T08:15:57.891Z"
   },
   {
    "duration": 51,
    "start_time": "2022-10-13T08:15:59.147Z"
   },
   {
    "duration": 19,
    "start_time": "2022-10-13T08:15:59.200Z"
   },
   {
    "duration": 15,
    "start_time": "2022-10-13T08:15:59.222Z"
   },
   {
    "duration": 54,
    "start_time": "2022-10-13T08:15:59.239Z"
   },
   {
    "duration": 15,
    "start_time": "2022-10-13T08:15:59.295Z"
   },
   {
    "duration": 17,
    "start_time": "2022-10-13T08:15:59.313Z"
   },
   {
    "duration": 47,
    "start_time": "2022-10-13T08:15:59.332Z"
   },
   {
    "duration": 17,
    "start_time": "2022-10-13T08:15:59.381Z"
   },
   {
    "duration": 10,
    "start_time": "2022-10-13T08:15:59.401Z"
   },
   {
    "duration": 8,
    "start_time": "2022-10-13T08:15:59.413Z"
   },
   {
    "duration": 44,
    "start_time": "2022-10-13T08:15:59.423Z"
   },
   {
    "duration": 14,
    "start_time": "2022-10-13T08:15:59.473Z"
   },
   {
    "duration": 7590,
    "start_time": "2022-10-13T08:15:59.489Z"
   },
   {
    "duration": 693,
    "start_time": "2022-10-13T08:16:07.081Z"
   },
   {
    "duration": 31,
    "start_time": "2022-10-13T08:16:07.777Z"
   },
   {
    "duration": 461,
    "start_time": "2022-10-13T08:16:07.809Z"
   },
   {
    "duration": 133,
    "start_time": "2022-10-13T08:16:08.274Z"
   },
   {
    "duration": 17,
    "start_time": "2022-10-13T08:16:08.409Z"
   },
   {
    "duration": 38,
    "start_time": "2022-10-13T08:16:08.428Z"
   },
   {
    "duration": 444,
    "start_time": "2022-10-13T08:16:08.468Z"
   },
   {
    "duration": 308,
    "start_time": "2022-10-13T08:16:08.914Z"
   },
   {
    "duration": 382,
    "start_time": "2022-10-13T08:16:09.224Z"
   },
   {
    "duration": 13,
    "start_time": "2022-10-13T08:16:09.608Z"
   },
   {
    "duration": 290,
    "start_time": "2022-10-13T08:22:26.149Z"
   },
   {
    "duration": 20,
    "start_time": "2022-10-13T08:22:49.924Z"
   },
   {
    "duration": 240,
    "start_time": "2022-10-13T08:25:47.752Z"
   },
   {
    "duration": 267,
    "start_time": "2022-10-13T08:26:21.715Z"
   },
   {
    "duration": 11,
    "start_time": "2022-10-13T08:27:14.927Z"
   },
   {
    "duration": 21,
    "start_time": "2022-10-13T08:27:31.527Z"
   },
   {
    "duration": 15,
    "start_time": "2022-10-13T08:29:43.512Z"
   },
   {
    "duration": 34,
    "start_time": "2022-10-13T08:30:06.141Z"
   },
   {
    "duration": 18,
    "start_time": "2022-10-13T08:33:31.085Z"
   },
   {
    "duration": 21,
    "start_time": "2022-10-13T08:36:09.884Z"
   },
   {
    "duration": 68,
    "start_time": "2022-10-13T08:38:57.049Z"
   },
   {
    "duration": 10,
    "start_time": "2022-10-13T08:39:05.887Z"
   },
   {
    "duration": 11,
    "start_time": "2022-10-13T08:39:20.595Z"
   },
   {
    "duration": 12,
    "start_time": "2022-10-13T08:40:00.295Z"
   },
   {
    "duration": 10,
    "start_time": "2022-10-13T08:41:36.490Z"
   },
   {
    "duration": 12,
    "start_time": "2022-10-13T08:42:42.391Z"
   },
   {
    "duration": 13,
    "start_time": "2022-10-13T08:44:33.255Z"
   },
   {
    "duration": 11,
    "start_time": "2022-10-13T08:49:54.623Z"
   },
   {
    "duration": 1209,
    "start_time": "2022-10-13T08:50:09.178Z"
   },
   {
    "duration": 44,
    "start_time": "2022-10-13T08:50:10.389Z"
   },
   {
    "duration": 26,
    "start_time": "2022-10-13T08:50:10.435Z"
   },
   {
    "duration": 17,
    "start_time": "2022-10-13T08:50:10.464Z"
   },
   {
    "duration": 36,
    "start_time": "2022-10-13T08:50:10.482Z"
   },
   {
    "duration": 35,
    "start_time": "2022-10-13T08:50:10.520Z"
   },
   {
    "duration": 15,
    "start_time": "2022-10-13T08:50:10.557Z"
   },
   {
    "duration": 15,
    "start_time": "2022-10-13T08:50:10.574Z"
   },
   {
    "duration": 16,
    "start_time": "2022-10-13T08:50:10.592Z"
   },
   {
    "duration": 8,
    "start_time": "2022-10-13T08:50:10.611Z"
   },
   {
    "duration": 37,
    "start_time": "2022-10-13T08:50:10.621Z"
   },
   {
    "duration": 15,
    "start_time": "2022-10-13T08:50:10.660Z"
   },
   {
    "duration": 15,
    "start_time": "2022-10-13T08:50:10.676Z"
   },
   {
    "duration": 5053,
    "start_time": "2022-10-13T08:50:10.693Z"
   },
   {
    "duration": 357,
    "start_time": "2022-10-13T08:50:15.747Z"
   },
   {
    "duration": 31,
    "start_time": "2022-10-13T08:50:16.105Z"
   },
   {
    "duration": 418,
    "start_time": "2022-10-13T08:50:16.138Z"
   },
   {
    "duration": 127,
    "start_time": "2022-10-13T08:50:16.558Z"
   },
   {
    "duration": 22,
    "start_time": "2022-10-13T08:50:16.687Z"
   },
   {
    "duration": 45,
    "start_time": "2022-10-13T08:50:16.711Z"
   },
   {
    "duration": 396,
    "start_time": "2022-10-13T08:50:16.759Z"
   },
   {
    "duration": 290,
    "start_time": "2022-10-13T08:50:17.157Z"
   },
   {
    "duration": 357,
    "start_time": "2022-10-13T08:50:17.454Z"
   },
   {
    "duration": 13,
    "start_time": "2022-10-13T08:50:17.813Z"
   },
   {
    "duration": 285,
    "start_time": "2022-10-13T08:50:17.827Z"
   },
   {
    "duration": 12,
    "start_time": "2022-10-13T08:50:18.114Z"
   },
   {
    "duration": 31,
    "start_time": "2022-10-13T08:50:18.128Z"
   },
   {
    "duration": 35,
    "start_time": "2022-10-13T08:50:18.162Z"
   },
   {
    "duration": 15,
    "start_time": "2022-10-13T08:50:18.199Z"
   },
   {
    "duration": 45,
    "start_time": "2022-10-13T08:50:18.216Z"
   },
   {
    "duration": 11,
    "start_time": "2022-10-13T08:50:18.263Z"
   },
   {
    "duration": 14,
    "start_time": "2022-10-13T08:51:03.755Z"
   },
   {
    "duration": 16,
    "start_time": "2022-10-13T08:51:14.144Z"
   },
   {
    "duration": 16,
    "start_time": "2022-10-13T08:51:27.498Z"
   },
   {
    "duration": 8,
    "start_time": "2022-10-13T08:52:17.244Z"
   },
   {
    "duration": 5,
    "start_time": "2022-10-13T08:53:26.913Z"
   },
   {
    "duration": 8,
    "start_time": "2022-10-13T08:55:05.090Z"
   },
   {
    "duration": 7,
    "start_time": "2022-10-13T08:58:12.004Z"
   },
   {
    "duration": 9,
    "start_time": "2022-10-13T09:05:44.581Z"
   },
   {
    "duration": 1284,
    "start_time": "2022-10-13T09:06:45.401Z"
   },
   {
    "duration": 42,
    "start_time": "2022-10-13T09:06:46.687Z"
   },
   {
    "duration": 18,
    "start_time": "2022-10-13T09:06:46.731Z"
   },
   {
    "duration": 14,
    "start_time": "2022-10-13T09:06:46.755Z"
   },
   {
    "duration": 35,
    "start_time": "2022-10-13T09:06:46.771Z"
   },
   {
    "duration": 14,
    "start_time": "2022-10-13T09:06:46.808Z"
   },
   {
    "duration": 43,
    "start_time": "2022-10-13T09:06:46.824Z"
   },
   {
    "duration": 11,
    "start_time": "2022-10-13T09:06:46.868Z"
   },
   {
    "duration": 16,
    "start_time": "2022-10-13T09:06:46.881Z"
   },
   {
    "duration": 21,
    "start_time": "2022-10-13T09:06:46.900Z"
   },
   {
    "duration": 12,
    "start_time": "2022-10-13T09:06:46.923Z"
   },
   {
    "duration": 28,
    "start_time": "2022-10-13T09:06:46.937Z"
   },
   {
    "duration": 11,
    "start_time": "2022-10-13T09:06:46.966Z"
   },
   {
    "duration": 2266,
    "start_time": "2022-10-13T09:06:46.978Z"
   },
   {
    "duration": 341,
    "start_time": "2022-10-13T09:06:49.246Z"
   },
   {
    "duration": 27,
    "start_time": "2022-10-13T09:06:49.589Z"
   },
   {
    "duration": 448,
    "start_time": "2022-10-13T09:06:49.617Z"
   },
   {
    "duration": 119,
    "start_time": "2022-10-13T09:06:50.067Z"
   },
   {
    "duration": 15,
    "start_time": "2022-10-13T09:06:50.188Z"
   },
   {
    "duration": 45,
    "start_time": "2022-10-13T09:06:50.205Z"
   },
   {
    "duration": 380,
    "start_time": "2022-10-13T09:06:50.252Z"
   },
   {
    "duration": 301,
    "start_time": "2022-10-13T09:06:50.634Z"
   },
   {
    "duration": 342,
    "start_time": "2022-10-13T09:06:50.937Z"
   },
   {
    "duration": 12,
    "start_time": "2022-10-13T09:06:51.281Z"
   },
   {
    "duration": 348,
    "start_time": "2022-10-13T09:06:51.295Z"
   },
   {
    "duration": 23,
    "start_time": "2022-10-13T09:06:51.645Z"
   },
   {
    "duration": 35,
    "start_time": "2022-10-13T09:06:51.671Z"
   },
   {
    "duration": 45,
    "start_time": "2022-10-13T09:06:51.711Z"
   },
   {
    "duration": 19,
    "start_time": "2022-10-13T09:06:51.759Z"
   },
   {
    "duration": 28,
    "start_time": "2022-10-13T09:06:51.780Z"
   },
   {
    "duration": 19,
    "start_time": "2022-10-13T09:06:51.810Z"
   },
   {
    "duration": 27,
    "start_time": "2022-10-13T09:06:51.831Z"
   },
   {
    "duration": 8,
    "start_time": "2022-10-13T09:07:55.172Z"
   },
   {
    "duration": 8,
    "start_time": "2022-10-13T09:10:38.297Z"
   },
   {
    "duration": 1250,
    "start_time": "2022-10-13T09:11:06.344Z"
   },
   {
    "duration": 43,
    "start_time": "2022-10-13T09:11:07.596Z"
   },
   {
    "duration": 26,
    "start_time": "2022-10-13T09:11:07.641Z"
   },
   {
    "duration": 15,
    "start_time": "2022-10-13T09:11:07.669Z"
   },
   {
    "duration": 31,
    "start_time": "2022-10-13T09:11:07.686Z"
   },
   {
    "duration": 44,
    "start_time": "2022-10-13T09:11:07.718Z"
   },
   {
    "duration": 22,
    "start_time": "2022-10-13T09:11:07.764Z"
   },
   {
    "duration": 17,
    "start_time": "2022-10-13T09:11:07.788Z"
   },
   {
    "duration": 17,
    "start_time": "2022-10-13T09:11:07.806Z"
   },
   {
    "duration": 9,
    "start_time": "2022-10-13T09:11:07.825Z"
   },
   {
    "duration": 15,
    "start_time": "2022-10-13T09:11:07.855Z"
   },
   {
    "duration": 17,
    "start_time": "2022-10-13T09:11:07.872Z"
   },
   {
    "duration": 22,
    "start_time": "2022-10-13T09:11:07.891Z"
   },
   {
    "duration": 2343,
    "start_time": "2022-10-13T09:11:07.915Z"
   },
   {
    "duration": 344,
    "start_time": "2022-10-13T09:11:10.260Z"
   },
   {
    "duration": 27,
    "start_time": "2022-10-13T09:11:10.606Z"
   },
   {
    "duration": 442,
    "start_time": "2022-10-13T09:11:10.635Z"
   },
   {
    "duration": 126,
    "start_time": "2022-10-13T09:11:11.079Z"
   },
   {
    "duration": 22,
    "start_time": "2022-10-13T09:11:11.206Z"
   },
   {
    "duration": 42,
    "start_time": "2022-10-13T09:11:11.230Z"
   },
   {
    "duration": 508,
    "start_time": "2022-10-13T09:11:11.274Z"
   },
   {
    "duration": 317,
    "start_time": "2022-10-13T09:11:11.785Z"
   },
   {
    "duration": 365,
    "start_time": "2022-10-13T09:11:12.104Z"
   },
   {
    "duration": 13,
    "start_time": "2022-10-13T09:11:12.472Z"
   },
   {
    "duration": 287,
    "start_time": "2022-10-13T09:11:12.487Z"
   },
   {
    "duration": 13,
    "start_time": "2022-10-13T09:11:12.776Z"
   },
   {
    "duration": 26,
    "start_time": "2022-10-13T09:11:12.791Z"
   },
   {
    "duration": 53,
    "start_time": "2022-10-13T09:11:12.821Z"
   },
   {
    "duration": 17,
    "start_time": "2022-10-13T09:11:12.876Z"
   },
   {
    "duration": 19,
    "start_time": "2022-10-13T09:11:12.895Z"
   },
   {
    "duration": 42,
    "start_time": "2022-10-13T09:11:12.916Z"
   },
   {
    "duration": 7,
    "start_time": "2022-10-13T09:11:12.960Z"
   },
   {
    "duration": 8,
    "start_time": "2022-10-13T09:11:35.372Z"
   },
   {
    "duration": 3,
    "start_time": "2022-10-13T09:25:07.786Z"
   },
   {
    "duration": 1216,
    "start_time": "2022-10-13T09:32:26.200Z"
   },
   {
    "duration": 46,
    "start_time": "2022-10-13T09:32:27.418Z"
   },
   {
    "duration": 19,
    "start_time": "2022-10-13T09:32:27.469Z"
   },
   {
    "duration": 15,
    "start_time": "2022-10-13T09:32:27.490Z"
   },
   {
    "duration": 52,
    "start_time": "2022-10-13T09:32:27.507Z"
   },
   {
    "duration": 24,
    "start_time": "2022-10-13T09:32:27.561Z"
   },
   {
    "duration": 17,
    "start_time": "2022-10-13T09:32:27.587Z"
   },
   {
    "duration": 22,
    "start_time": "2022-10-13T09:32:27.606Z"
   },
   {
    "duration": 45,
    "start_time": "2022-10-13T09:32:27.631Z"
   },
   {
    "duration": 12,
    "start_time": "2022-10-13T09:32:27.681Z"
   },
   {
    "duration": 14,
    "start_time": "2022-10-13T09:32:27.696Z"
   },
   {
    "duration": 43,
    "start_time": "2022-10-13T09:32:27.713Z"
   },
   {
    "duration": 11,
    "start_time": "2022-10-13T09:32:27.758Z"
   },
   {
    "duration": 2372,
    "start_time": "2022-10-13T09:32:27.772Z"
   },
   {
    "duration": 369,
    "start_time": "2022-10-13T09:32:30.146Z"
   },
   {
    "duration": 42,
    "start_time": "2022-10-13T09:32:30.517Z"
   },
   {
    "duration": 477,
    "start_time": "2022-10-13T09:32:30.561Z"
   },
   {
    "duration": 133,
    "start_time": "2022-10-13T09:32:31.041Z"
   },
   {
    "duration": 17,
    "start_time": "2022-10-13T09:32:31.176Z"
   },
   {
    "duration": 77,
    "start_time": "2022-10-13T09:32:31.195Z"
   },
   {
    "duration": 524,
    "start_time": "2022-10-13T09:32:31.274Z"
   },
   {
    "duration": 365,
    "start_time": "2022-10-13T09:32:31.801Z"
   },
   {
    "duration": 380,
    "start_time": "2022-10-13T09:32:32.168Z"
   },
   {
    "duration": 17,
    "start_time": "2022-10-13T09:32:32.550Z"
   },
   {
    "duration": 311,
    "start_time": "2022-10-13T09:32:32.569Z"
   },
   {
    "duration": 16,
    "start_time": "2022-10-13T09:32:32.882Z"
   },
   {
    "duration": 21,
    "start_time": "2022-10-13T09:32:32.900Z"
   },
   {
    "duration": 67,
    "start_time": "2022-10-13T09:32:32.924Z"
   },
   {
    "duration": 23,
    "start_time": "2022-10-13T09:32:32.993Z"
   },
   {
    "duration": 56,
    "start_time": "2022-10-13T09:32:33.018Z"
   },
   {
    "duration": 18,
    "start_time": "2022-10-13T09:32:33.077Z"
   },
   {
    "duration": 12,
    "start_time": "2022-10-13T09:32:33.097Z"
   },
   {
    "duration": 1261,
    "start_time": "2022-10-13T12:14:33.160Z"
   },
   {
    "duration": 51,
    "start_time": "2022-10-13T12:14:34.424Z"
   },
   {
    "duration": 18,
    "start_time": "2022-10-13T12:14:34.477Z"
   },
   {
    "duration": 20,
    "start_time": "2022-10-13T12:14:34.498Z"
   },
   {
    "duration": 31,
    "start_time": "2022-10-13T12:14:34.520Z"
   },
   {
    "duration": 13,
    "start_time": "2022-10-13T12:14:34.553Z"
   },
   {
    "duration": 45,
    "start_time": "2022-10-13T12:14:34.567Z"
   },
   {
    "duration": 13,
    "start_time": "2022-10-13T12:14:34.614Z"
   },
   {
    "duration": 19,
    "start_time": "2022-10-13T12:14:34.629Z"
   },
   {
    "duration": 9,
    "start_time": "2022-10-13T12:14:34.651Z"
   },
   {
    "duration": 13,
    "start_time": "2022-10-13T12:14:34.662Z"
   },
   {
    "duration": 31,
    "start_time": "2022-10-13T12:14:34.677Z"
   },
   {
    "duration": 11,
    "start_time": "2022-10-13T12:14:34.710Z"
   },
   {
    "duration": 2456,
    "start_time": "2022-10-13T12:14:34.723Z"
   },
   {
    "duration": 368,
    "start_time": "2022-10-13T12:14:37.181Z"
   },
   {
    "duration": 25,
    "start_time": "2022-10-13T12:14:37.551Z"
   },
   {
    "duration": 472,
    "start_time": "2022-10-13T12:14:37.578Z"
   },
   {
    "duration": 134,
    "start_time": "2022-10-13T12:14:38.052Z"
   },
   {
    "duration": 22,
    "start_time": "2022-10-13T12:14:38.187Z"
   },
   {
    "duration": 30,
    "start_time": "2022-10-13T12:14:38.211Z"
   },
   {
    "duration": 350,
    "start_time": "2022-10-13T12:14:38.242Z"
   },
   {
    "duration": 286,
    "start_time": "2022-10-13T12:14:38.594Z"
   },
   {
    "duration": 335,
    "start_time": "2022-10-13T12:14:38.882Z"
   },
   {
    "duration": 15,
    "start_time": "2022-10-13T12:14:39.220Z"
   },
   {
    "duration": 266,
    "start_time": "2022-10-13T12:14:39.236Z"
   },
   {
    "duration": 18,
    "start_time": "2022-10-13T12:14:39.504Z"
   },
   {
    "duration": 21,
    "start_time": "2022-10-13T12:14:39.524Z"
   },
   {
    "duration": 50,
    "start_time": "2022-10-13T12:14:39.548Z"
   },
   {
    "duration": 17,
    "start_time": "2022-10-13T12:14:39.600Z"
   },
   {
    "duration": 23,
    "start_time": "2022-10-13T12:14:39.619Z"
   },
   {
    "duration": 13,
    "start_time": "2022-10-13T12:14:39.644Z"
   },
   {
    "duration": 8,
    "start_time": "2022-10-13T12:14:39.659Z"
   },
   {
    "duration": 6,
    "start_time": "2022-10-13T13:06:38.112Z"
   },
   {
    "duration": 5,
    "start_time": "2022-10-13T13:06:47.817Z"
   },
   {
    "duration": 14,
    "start_time": "2022-10-13T13:08:19.469Z"
   },
   {
    "duration": 17,
    "start_time": "2022-10-13T13:08:25.571Z"
   },
   {
    "duration": 19,
    "start_time": "2022-10-13T13:11:22.310Z"
   },
   {
    "duration": 9,
    "start_time": "2022-10-13T13:14:47.725Z"
   },
   {
    "duration": 9,
    "start_time": "2022-10-13T13:14:55.789Z"
   },
   {
    "duration": 9,
    "start_time": "2022-10-13T13:15:39.089Z"
   },
   {
    "duration": 17,
    "start_time": "2022-10-13T13:16:24.786Z"
   },
   {
    "duration": 12,
    "start_time": "2022-10-13T13:17:12.960Z"
   },
   {
    "duration": 5,
    "start_time": "2022-10-13T13:17:39.107Z"
   },
   {
    "duration": 45,
    "start_time": "2022-10-13T13:40:37.309Z"
   },
   {
    "duration": 1240,
    "start_time": "2022-10-13T13:40:45.762Z"
   },
   {
    "duration": 192,
    "start_time": "2022-10-13T13:40:47.004Z"
   },
   {
    "duration": 17,
    "start_time": "2022-10-13T13:40:47.198Z"
   },
   {
    "duration": 12,
    "start_time": "2022-10-13T13:40:47.216Z"
   },
   {
    "duration": 28,
    "start_time": "2022-10-13T13:40:47.230Z"
   },
   {
    "duration": 12,
    "start_time": "2022-10-13T13:40:47.259Z"
   },
   {
    "duration": 12,
    "start_time": "2022-10-13T13:40:47.272Z"
   },
   {
    "duration": 35,
    "start_time": "2022-10-13T13:40:47.287Z"
   },
   {
    "duration": 18,
    "start_time": "2022-10-13T13:40:47.324Z"
   },
   {
    "duration": 16,
    "start_time": "2022-10-13T13:40:47.343Z"
   },
   {
    "duration": 21,
    "start_time": "2022-10-13T13:40:47.360Z"
   },
   {
    "duration": 27,
    "start_time": "2022-10-13T13:40:47.383Z"
   },
   {
    "duration": 20,
    "start_time": "2022-10-13T13:40:47.412Z"
   },
   {
    "duration": 4391,
    "start_time": "2022-10-13T13:40:47.434Z"
   },
   {
    "duration": 312,
    "start_time": "2022-10-13T13:40:51.827Z"
   },
   {
    "duration": 27,
    "start_time": "2022-10-13T13:40:52.141Z"
   },
   {
    "duration": 382,
    "start_time": "2022-10-13T13:40:52.170Z"
   },
   {
    "duration": 105,
    "start_time": "2022-10-13T13:40:52.553Z"
   },
   {
    "duration": 14,
    "start_time": "2022-10-13T13:40:52.659Z"
   },
   {
    "duration": 24,
    "start_time": "2022-10-13T13:40:52.674Z"
   },
   {
    "duration": 359,
    "start_time": "2022-10-13T13:40:52.699Z"
   },
   {
    "duration": 238,
    "start_time": "2022-10-13T13:40:53.059Z"
   },
   {
    "duration": 283,
    "start_time": "2022-10-13T13:40:53.298Z"
   },
   {
    "duration": 11,
    "start_time": "2022-10-13T13:40:53.582Z"
   },
   {
    "duration": 245,
    "start_time": "2022-10-13T13:40:53.595Z"
   },
   {
    "duration": 11,
    "start_time": "2022-10-13T13:40:53.842Z"
   },
   {
    "duration": 16,
    "start_time": "2022-10-13T13:40:53.854Z"
   },
   {
    "duration": 50,
    "start_time": "2022-10-13T13:40:53.872Z"
   },
   {
    "duration": 14,
    "start_time": "2022-10-13T13:40:53.923Z"
   },
   {
    "duration": 23,
    "start_time": "2022-10-13T13:40:53.939Z"
   },
   {
    "duration": 7,
    "start_time": "2022-10-13T13:40:53.963Z"
   },
   {
    "duration": 7,
    "start_time": "2022-10-13T13:40:53.972Z"
   },
   {
    "duration": 1035,
    "start_time": "2022-10-13T14:49:52.263Z"
   },
   {
    "duration": 64,
    "start_time": "2022-10-13T14:49:53.299Z"
   },
   {
    "duration": 17,
    "start_time": "2022-10-13T14:49:53.365Z"
   },
   {
    "duration": 14,
    "start_time": "2022-10-13T14:49:53.385Z"
   },
   {
    "duration": 35,
    "start_time": "2022-10-13T14:49:53.401Z"
   },
   {
    "duration": 11,
    "start_time": "2022-10-13T14:49:53.438Z"
   },
   {
    "duration": 12,
    "start_time": "2022-10-13T14:49:53.451Z"
   },
   {
    "duration": 11,
    "start_time": "2022-10-13T14:49:53.464Z"
   },
   {
    "duration": 16,
    "start_time": "2022-10-13T14:49:53.477Z"
   },
   {
    "duration": 7,
    "start_time": "2022-10-13T14:49:53.495Z"
   },
   {
    "duration": 8,
    "start_time": "2022-10-13T14:49:53.532Z"
   },
   {
    "duration": 15,
    "start_time": "2022-10-13T14:49:53.542Z"
   },
   {
    "duration": 14,
    "start_time": "2022-10-13T14:49:53.558Z"
   },
   {
    "duration": 4423,
    "start_time": "2022-10-13T14:49:53.573Z"
   },
   {
    "duration": 311,
    "start_time": "2022-10-13T14:49:57.998Z"
   },
   {
    "duration": 37,
    "start_time": "2022-10-13T14:49:58.310Z"
   },
   {
    "duration": 355,
    "start_time": "2022-10-13T14:49:58.349Z"
   },
   {
    "duration": 107,
    "start_time": "2022-10-13T14:49:58.706Z"
   },
   {
    "duration": 22,
    "start_time": "2022-10-13T14:49:58.815Z"
   },
   {
    "duration": 28,
    "start_time": "2022-10-13T14:49:58.839Z"
   },
   {
    "duration": 350,
    "start_time": "2022-10-13T14:49:58.868Z"
   },
   {
    "duration": 231,
    "start_time": "2022-10-13T14:49:59.231Z"
   },
   {
    "duration": 294,
    "start_time": "2022-10-13T14:49:59.463Z"
   },
   {
    "duration": 11,
    "start_time": "2022-10-13T14:49:59.759Z"
   },
   {
    "duration": 238,
    "start_time": "2022-10-13T14:49:59.771Z"
   },
   {
    "duration": 16,
    "start_time": "2022-10-13T14:50:00.011Z"
   },
   {
    "duration": 24,
    "start_time": "2022-10-13T14:50:00.031Z"
   },
   {
    "duration": 28,
    "start_time": "2022-10-13T14:50:00.058Z"
   },
   {
    "duration": 14,
    "start_time": "2022-10-13T14:50:00.087Z"
   },
   {
    "duration": 41,
    "start_time": "2022-10-13T14:50:00.102Z"
   },
   {
    "duration": 9,
    "start_time": "2022-10-13T14:50:00.145Z"
   },
   {
    "duration": 22,
    "start_time": "2022-10-13T14:50:00.155Z"
   },
   {
    "duration": 76,
    "start_time": "2022-10-13T14:56:10.534Z"
   },
   {
    "duration": 77,
    "start_time": "2022-10-13T15:07:21.874Z"
   },
   {
    "duration": 5,
    "start_time": "2022-10-13T15:10:14.336Z"
   },
   {
    "duration": 16,
    "start_time": "2022-10-13T15:10:16.155Z"
   },
   {
    "duration": 4,
    "start_time": "2022-10-13T15:10:26.404Z"
   },
   {
    "duration": 1161,
    "start_time": "2022-10-13T15:10:35.443Z"
   },
   {
    "duration": 53,
    "start_time": "2022-10-13T15:10:36.606Z"
   },
   {
    "duration": 18,
    "start_time": "2022-10-13T15:10:36.661Z"
   },
   {
    "duration": 24,
    "start_time": "2022-10-13T15:10:36.680Z"
   },
   {
    "duration": 38,
    "start_time": "2022-10-13T15:10:36.706Z"
   },
   {
    "duration": 14,
    "start_time": "2022-10-13T15:10:36.746Z"
   },
   {
    "duration": 26,
    "start_time": "2022-10-13T15:10:36.761Z"
   },
   {
    "duration": 18,
    "start_time": "2022-10-13T15:10:36.789Z"
   },
   {
    "duration": 39,
    "start_time": "2022-10-13T15:10:36.809Z"
   },
   {
    "duration": 15,
    "start_time": "2022-10-13T15:10:36.850Z"
   },
   {
    "duration": 28,
    "start_time": "2022-10-13T15:10:36.867Z"
   },
   {
    "duration": 17,
    "start_time": "2022-10-13T15:10:36.896Z"
   },
   {
    "duration": 46,
    "start_time": "2022-10-13T15:10:36.915Z"
   },
   {
    "duration": 22,
    "start_time": "2022-10-13T15:10:36.962Z"
   },
   {
    "duration": 4805,
    "start_time": "2022-10-13T15:10:36.986Z"
   },
   {
    "duration": 313,
    "start_time": "2022-10-13T15:10:41.793Z"
   },
   {
    "duration": 30,
    "start_time": "2022-10-13T15:10:42.108Z"
   },
   {
    "duration": 389,
    "start_time": "2022-10-13T15:10:42.139Z"
   },
   {
    "duration": 111,
    "start_time": "2022-10-13T15:10:42.529Z"
   },
   {
    "duration": 13,
    "start_time": "2022-10-13T15:10:42.642Z"
   },
   {
    "duration": 22,
    "start_time": "2022-10-13T15:10:42.656Z"
   },
   {
    "duration": 359,
    "start_time": "2022-10-13T15:10:42.679Z"
   },
   {
    "duration": 237,
    "start_time": "2022-10-13T15:10:43.040Z"
   },
   {
    "duration": 315,
    "start_time": "2022-10-13T15:10:43.278Z"
   },
   {
    "duration": 12,
    "start_time": "2022-10-13T15:10:43.595Z"
   },
   {
    "duration": 246,
    "start_time": "2022-10-13T15:10:43.610Z"
   },
   {
    "duration": 11,
    "start_time": "2022-10-13T15:10:43.858Z"
   },
   {
    "duration": 25,
    "start_time": "2022-10-13T15:10:43.872Z"
   },
   {
    "duration": 43,
    "start_time": "2022-10-13T15:10:43.899Z"
   },
   {
    "duration": 15,
    "start_time": "2022-10-13T15:10:43.943Z"
   },
   {
    "duration": 33,
    "start_time": "2022-10-13T15:10:43.960Z"
   },
   {
    "duration": 87,
    "start_time": "2022-10-13T15:10:43.995Z"
   },
   {
    "duration": 0,
    "start_time": "2022-10-13T15:10:44.084Z"
   },
   {
    "duration": 0,
    "start_time": "2022-10-13T15:10:44.085Z"
   },
   {
    "duration": 0,
    "start_time": "2022-10-13T15:10:44.087Z"
   },
   {
    "duration": 3,
    "start_time": "2022-10-13T15:12:56.162Z"
   },
   {
    "duration": 1280,
    "start_time": "2022-10-14T05:32:12.932Z"
   },
   {
    "duration": 68,
    "start_time": "2022-10-14T05:32:14.214Z"
   },
   {
    "duration": 18,
    "start_time": "2022-10-14T05:32:14.284Z"
   },
   {
    "duration": 14,
    "start_time": "2022-10-14T05:32:14.304Z"
   },
   {
    "duration": 26,
    "start_time": "2022-10-14T05:32:14.320Z"
   },
   {
    "duration": 12,
    "start_time": "2022-10-14T05:32:14.347Z"
   },
   {
    "duration": 11,
    "start_time": "2022-10-14T05:32:14.361Z"
   },
   {
    "duration": 38,
    "start_time": "2022-10-14T05:32:14.374Z"
   },
   {
    "duration": 16,
    "start_time": "2022-10-14T05:32:14.414Z"
   },
   {
    "duration": 13,
    "start_time": "2022-10-14T05:32:14.433Z"
   },
   {
    "duration": 9,
    "start_time": "2022-10-14T05:32:14.449Z"
   },
   {
    "duration": 6,
    "start_time": "2022-10-14T05:32:14.460Z"
   },
   {
    "duration": 19,
    "start_time": "2022-10-14T05:32:14.469Z"
   },
   {
    "duration": 20,
    "start_time": "2022-10-14T05:32:14.509Z"
   },
   {
    "duration": 4354,
    "start_time": "2022-10-14T05:32:14.530Z"
   },
   {
    "duration": 299,
    "start_time": "2022-10-14T05:32:18.885Z"
   },
   {
    "duration": 28,
    "start_time": "2022-10-14T05:32:19.186Z"
   },
   {
    "duration": 344,
    "start_time": "2022-10-14T05:32:19.216Z"
   },
   {
    "duration": 126,
    "start_time": "2022-10-14T05:32:19.562Z"
   },
   {
    "duration": 12,
    "start_time": "2022-10-14T05:32:19.689Z"
   },
   {
    "duration": 18,
    "start_time": "2022-10-14T05:32:19.703Z"
   },
   {
    "duration": 336,
    "start_time": "2022-10-14T05:32:19.722Z"
   },
   {
    "duration": 236,
    "start_time": "2022-10-14T05:32:20.060Z"
   },
   {
    "duration": 180,
    "start_time": "2022-10-14T05:32:20.297Z"
   },
   {
    "duration": 0,
    "start_time": "2022-10-14T05:32:20.478Z"
   },
   {
    "duration": 0,
    "start_time": "2022-10-14T05:32:20.479Z"
   },
   {
    "duration": 0,
    "start_time": "2022-10-14T05:32:20.480Z"
   },
   {
    "duration": 0,
    "start_time": "2022-10-14T05:32:20.481Z"
   },
   {
    "duration": 0,
    "start_time": "2022-10-14T05:32:20.482Z"
   },
   {
    "duration": 0,
    "start_time": "2022-10-14T05:32:20.483Z"
   },
   {
    "duration": 0,
    "start_time": "2022-10-14T05:32:20.484Z"
   },
   {
    "duration": 0,
    "start_time": "2022-10-14T05:32:20.484Z"
   },
   {
    "duration": 0,
    "start_time": "2022-10-14T05:32:20.486Z"
   },
   {
    "duration": 0,
    "start_time": "2022-10-14T05:32:20.487Z"
   },
   {
    "duration": 0,
    "start_time": "2022-10-14T05:32:20.488Z"
   },
   {
    "duration": 0,
    "start_time": "2022-10-14T05:32:20.509Z"
   },
   {
    "duration": 225,
    "start_time": "2022-10-14T05:34:45.773Z"
   },
   {
    "duration": 214,
    "start_time": "2022-10-14T05:35:09.339Z"
   },
   {
    "duration": 47,
    "start_time": "2022-10-14T05:44:53.380Z"
   },
   {
    "duration": 1106,
    "start_time": "2022-10-14T05:45:32.196Z"
   },
   {
    "duration": 41,
    "start_time": "2022-10-14T05:45:33.304Z"
   },
   {
    "duration": 17,
    "start_time": "2022-10-14T05:45:33.347Z"
   },
   {
    "duration": 13,
    "start_time": "2022-10-14T05:45:33.365Z"
   },
   {
    "duration": 35,
    "start_time": "2022-10-14T05:45:33.380Z"
   },
   {
    "duration": 12,
    "start_time": "2022-10-14T05:45:33.416Z"
   },
   {
    "duration": 12,
    "start_time": "2022-10-14T05:45:33.430Z"
   },
   {
    "duration": 7,
    "start_time": "2022-10-14T05:45:33.443Z"
   },
   {
    "duration": 11,
    "start_time": "2022-10-14T05:45:33.452Z"
   },
   {
    "duration": 7,
    "start_time": "2022-10-14T05:45:33.466Z"
   },
   {
    "duration": 37,
    "start_time": "2022-10-14T05:45:33.475Z"
   },
   {
    "duration": 4,
    "start_time": "2022-10-14T05:45:33.514Z"
   },
   {
    "duration": 14,
    "start_time": "2022-10-14T05:45:33.520Z"
   },
   {
    "duration": 13,
    "start_time": "2022-10-14T05:45:33.535Z"
   },
   {
    "duration": 4378,
    "start_time": "2022-10-14T05:45:33.549Z"
   },
   {
    "duration": 304,
    "start_time": "2022-10-14T05:45:37.929Z"
   },
   {
    "duration": 24,
    "start_time": "2022-10-14T05:45:38.236Z"
   },
   {
    "duration": 362,
    "start_time": "2022-10-14T05:45:38.262Z"
   },
   {
    "duration": 119,
    "start_time": "2022-10-14T05:45:38.626Z"
   },
   {
    "duration": 13,
    "start_time": "2022-10-14T05:45:38.746Z"
   },
   {
    "duration": 23,
    "start_time": "2022-10-14T05:45:38.760Z"
   },
   {
    "duration": 332,
    "start_time": "2022-10-14T05:45:38.784Z"
   },
   {
    "duration": 230,
    "start_time": "2022-10-14T05:45:39.117Z"
   },
   {
    "duration": 281,
    "start_time": "2022-10-14T05:45:39.349Z"
   },
   {
    "duration": 229,
    "start_time": "2022-10-14T05:45:39.631Z"
   },
   {
    "duration": 11,
    "start_time": "2022-10-14T05:45:39.862Z"
   },
   {
    "duration": 234,
    "start_time": "2022-10-14T05:45:39.887Z"
   },
   {
    "duration": 10,
    "start_time": "2022-10-14T05:45:40.125Z"
   },
   {
    "duration": 17,
    "start_time": "2022-10-14T05:45:40.137Z"
   },
   {
    "duration": 28,
    "start_time": "2022-10-14T05:45:40.156Z"
   },
   {
    "duration": 37,
    "start_time": "2022-10-14T05:45:40.185Z"
   },
   {
    "duration": 18,
    "start_time": "2022-10-14T05:45:40.224Z"
   },
   {
    "duration": 45,
    "start_time": "2022-10-14T05:45:40.244Z"
   },
   {
    "duration": 0,
    "start_time": "2022-10-14T05:45:40.290Z"
   },
   {
    "duration": 0,
    "start_time": "2022-10-14T05:45:40.291Z"
   },
   {
    "duration": 0,
    "start_time": "2022-10-14T05:45:40.292Z"
   },
   {
    "duration": 1118,
    "start_time": "2022-10-14T05:45:58.696Z"
   },
   {
    "duration": 42,
    "start_time": "2022-10-14T05:45:59.816Z"
   },
   {
    "duration": 16,
    "start_time": "2022-10-14T05:45:59.859Z"
   },
   {
    "duration": 15,
    "start_time": "2022-10-14T05:45:59.877Z"
   },
   {
    "duration": 31,
    "start_time": "2022-10-14T05:45:59.894Z"
   },
   {
    "duration": 12,
    "start_time": "2022-10-14T05:45:59.926Z"
   },
   {
    "duration": 11,
    "start_time": "2022-10-14T05:45:59.940Z"
   },
   {
    "duration": 17,
    "start_time": "2022-10-14T05:45:59.953Z"
   },
   {
    "duration": 46,
    "start_time": "2022-10-14T05:45:59.972Z"
   },
   {
    "duration": 7,
    "start_time": "2022-10-14T05:46:00.020Z"
   },
   {
    "duration": 13,
    "start_time": "2022-10-14T05:46:00.029Z"
   },
   {
    "duration": 15,
    "start_time": "2022-10-14T05:46:00.044Z"
   },
   {
    "duration": 40,
    "start_time": "2022-10-14T05:46:00.060Z"
   },
   {
    "duration": 47,
    "start_time": "2022-10-14T05:46:00.102Z"
   },
   {
    "duration": 4357,
    "start_time": "2022-10-14T05:46:00.151Z"
   },
   {
    "duration": 338,
    "start_time": "2022-10-14T05:46:04.510Z"
   },
   {
    "duration": 26,
    "start_time": "2022-10-14T05:46:04.849Z"
   },
   {
    "duration": 384,
    "start_time": "2022-10-14T05:46:04.876Z"
   },
   {
    "duration": 129,
    "start_time": "2022-10-14T05:46:05.262Z"
   },
   {
    "duration": 19,
    "start_time": "2022-10-14T05:46:05.393Z"
   },
   {
    "duration": 20,
    "start_time": "2022-10-14T05:46:05.414Z"
   },
   {
    "duration": 361,
    "start_time": "2022-10-14T05:46:05.435Z"
   },
   {
    "duration": 245,
    "start_time": "2022-10-14T05:46:05.797Z"
   },
   {
    "duration": 321,
    "start_time": "2022-10-14T05:46:06.044Z"
   },
   {
    "duration": 269,
    "start_time": "2022-10-14T05:46:06.366Z"
   },
   {
    "duration": 11,
    "start_time": "2022-10-14T05:46:06.637Z"
   },
   {
    "duration": 247,
    "start_time": "2022-10-14T05:46:06.650Z"
   },
   {
    "duration": 18,
    "start_time": "2022-10-14T05:46:06.900Z"
   },
   {
    "duration": 21,
    "start_time": "2022-10-14T05:46:06.920Z"
   },
   {
    "duration": 27,
    "start_time": "2022-10-14T05:46:06.942Z"
   },
   {
    "duration": 40,
    "start_time": "2022-10-14T05:46:06.970Z"
   },
   {
    "duration": 15,
    "start_time": "2022-10-14T05:46:07.012Z"
   },
   {
    "duration": 10,
    "start_time": "2022-10-14T05:46:07.029Z"
   },
   {
    "duration": 9,
    "start_time": "2022-10-14T05:46:07.040Z"
   },
   {
    "duration": 1303,
    "start_time": "2022-10-14T10:41:10.002Z"
   },
   {
    "duration": 195,
    "start_time": "2022-10-14T10:41:11.307Z"
   },
   {
    "duration": 15,
    "start_time": "2022-10-14T10:41:11.504Z"
   },
   {
    "duration": 29,
    "start_time": "2022-10-14T10:41:11.520Z"
   },
   {
    "duration": 52,
    "start_time": "2022-10-14T10:41:11.551Z"
   },
   {
    "duration": 15,
    "start_time": "2022-10-14T10:41:11.605Z"
   },
   {
    "duration": 34,
    "start_time": "2022-10-14T10:41:11.622Z"
   },
   {
    "duration": 41,
    "start_time": "2022-10-14T10:41:11.659Z"
   },
   {
    "duration": 32,
    "start_time": "2022-10-14T10:41:11.702Z"
   },
   {
    "duration": 40,
    "start_time": "2022-10-14T10:41:11.735Z"
   },
   {
    "duration": 17,
    "start_time": "2022-10-14T10:41:11.777Z"
   },
   {
    "duration": 40,
    "start_time": "2022-10-14T10:41:11.796Z"
   },
   {
    "duration": 34,
    "start_time": "2022-10-14T10:41:11.837Z"
   },
   {
    "duration": 44,
    "start_time": "2022-10-14T10:41:11.875Z"
   },
   {
    "duration": 4360,
    "start_time": "2022-10-14T10:41:11.920Z"
   },
   {
    "duration": 319,
    "start_time": "2022-10-14T10:41:16.281Z"
   },
   {
    "duration": 26,
    "start_time": "2022-10-14T10:41:16.602Z"
   },
   {
    "duration": 381,
    "start_time": "2022-10-14T10:41:16.629Z"
   },
   {
    "duration": 138,
    "start_time": "2022-10-14T10:41:17.012Z"
   },
   {
    "duration": 19,
    "start_time": "2022-10-14T10:41:17.152Z"
   },
   {
    "duration": 39,
    "start_time": "2022-10-14T10:41:17.172Z"
   },
   {
    "duration": 375,
    "start_time": "2022-10-14T10:41:17.213Z"
   },
   {
    "duration": 252,
    "start_time": "2022-10-14T10:41:17.589Z"
   },
   {
    "duration": 297,
    "start_time": "2022-10-14T10:41:17.843Z"
   },
   {
    "duration": 229,
    "start_time": "2022-10-14T10:41:18.141Z"
   },
   {
    "duration": 23,
    "start_time": "2022-10-14T10:41:18.371Z"
   },
   {
    "duration": 236,
    "start_time": "2022-10-14T10:41:18.395Z"
   },
   {
    "duration": 12,
    "start_time": "2022-10-14T10:41:18.632Z"
   },
   {
    "duration": 17,
    "start_time": "2022-10-14T10:41:18.645Z"
   },
   {
    "duration": 43,
    "start_time": "2022-10-14T10:41:18.663Z"
   },
   {
    "duration": 13,
    "start_time": "2022-10-14T10:41:18.708Z"
   },
   {
    "duration": 16,
    "start_time": "2022-10-14T10:41:18.723Z"
   },
   {
    "duration": 7,
    "start_time": "2022-10-14T10:41:18.741Z"
   },
   {
    "duration": 37,
    "start_time": "2022-10-14T10:41:18.750Z"
   },
   {
    "duration": 74,
    "start_time": "2022-10-14T10:47:19.958Z"
   },
   {
    "duration": 110,
    "start_time": "2022-10-14T10:54:23.143Z"
   },
   {
    "duration": 93,
    "start_time": "2022-10-14T10:54:42.651Z"
   },
   {
    "duration": 13,
    "start_time": "2022-10-14T10:54:53.906Z"
   },
   {
    "duration": 1337,
    "start_time": "2022-10-14T10:55:19.135Z"
   },
   {
    "duration": 257,
    "start_time": "2022-10-14T10:55:35.725Z"
   },
   {
    "duration": 221,
    "start_time": "2022-10-14T10:57:27.675Z"
   },
   {
    "duration": 230,
    "start_time": "2022-10-14T10:57:49.281Z"
   },
   {
    "duration": 1327,
    "start_time": "2022-10-14T10:58:11.803Z"
   },
   {
    "duration": 1455,
    "start_time": "2022-10-14T10:59:17.078Z"
   },
   {
    "duration": 8,
    "start_time": "2022-10-14T11:01:29.327Z"
   },
   {
    "duration": 1331,
    "start_time": "2022-10-14T11:01:38.305Z"
   },
   {
    "duration": 15,
    "start_time": "2022-10-14T11:02:41.351Z"
   },
   {
    "duration": 16,
    "start_time": "2022-10-14T11:04:53.543Z"
   },
   {
    "duration": 32907,
    "start_time": "2022-10-14T11:04:53.561Z"
   },
   {
    "duration": 374,
    "start_time": "2022-10-14T11:06:17.639Z"
   },
   {
    "duration": 12,
    "start_time": "2022-10-14T11:12:46.268Z"
   },
   {
    "duration": 13,
    "start_time": "2022-10-14T11:14:28.973Z"
   },
   {
    "duration": 10,
    "start_time": "2022-10-14T11:14:49.433Z"
   },
   {
    "duration": 19,
    "start_time": "2022-10-14T11:15:11.217Z"
   },
   {
    "duration": 10,
    "start_time": "2022-10-14T11:15:33.117Z"
   },
   {
    "duration": 182,
    "start_time": "2022-10-14T11:15:48.854Z"
   },
   {
    "duration": 206,
    "start_time": "2022-10-14T11:16:07.692Z"
   },
   {
    "duration": 173,
    "start_time": "2022-10-14T11:17:38.509Z"
   },
   {
    "duration": 195,
    "start_time": "2022-10-14T11:18:45.785Z"
   },
   {
    "duration": 118,
    "start_time": "2022-10-14T11:20:31.748Z"
   },
   {
    "duration": 14,
    "start_time": "2022-10-14T11:22:20.707Z"
   },
   {
    "duration": 13,
    "start_time": "2022-10-14T11:22:49.638Z"
   },
   {
    "duration": 13,
    "start_time": "2022-10-14T11:23:24.737Z"
   },
   {
    "duration": 9,
    "start_time": "2022-10-14T11:26:38.548Z"
   },
   {
    "duration": 14,
    "start_time": "2022-10-14T11:27:02.547Z"
   },
   {
    "duration": 15,
    "start_time": "2022-10-14T11:27:20.477Z"
   },
   {
    "duration": 1070,
    "start_time": "2022-10-14T11:42:41.191Z"
   },
   {
    "duration": 51,
    "start_time": "2022-10-14T11:42:42.263Z"
   },
   {
    "duration": 16,
    "start_time": "2022-10-14T11:42:42.315Z"
   },
   {
    "duration": 21,
    "start_time": "2022-10-14T11:42:42.333Z"
   },
   {
    "duration": 30,
    "start_time": "2022-10-14T11:42:42.356Z"
   },
   {
    "duration": 12,
    "start_time": "2022-10-14T11:42:42.387Z"
   },
   {
    "duration": 15,
    "start_time": "2022-10-14T11:42:42.400Z"
   },
   {
    "duration": 30,
    "start_time": "2022-10-14T11:42:42.416Z"
   },
   {
    "duration": 24,
    "start_time": "2022-10-14T11:42:42.447Z"
   },
   {
    "duration": 19,
    "start_time": "2022-10-14T11:42:42.473Z"
   },
   {
    "duration": 7,
    "start_time": "2022-10-14T11:42:42.494Z"
   },
   {
    "duration": 10,
    "start_time": "2022-10-14T11:42:42.502Z"
   },
   {
    "duration": 16,
    "start_time": "2022-10-14T11:42:42.514Z"
   },
   {
    "duration": 13,
    "start_time": "2022-10-14T11:42:42.531Z"
   },
   {
    "duration": 4554,
    "start_time": "2022-10-14T11:42:42.545Z"
   },
   {
    "duration": 328,
    "start_time": "2022-10-14T11:42:47.101Z"
   },
   {
    "duration": 26,
    "start_time": "2022-10-14T11:42:47.431Z"
   },
   {
    "duration": 385,
    "start_time": "2022-10-14T11:42:47.458Z"
   },
   {
    "duration": 107,
    "start_time": "2022-10-14T11:42:47.845Z"
   },
   {
    "duration": 14,
    "start_time": "2022-10-14T11:42:47.953Z"
   },
   {
    "duration": 27,
    "start_time": "2022-10-14T11:42:47.968Z"
   },
   {
    "duration": 339,
    "start_time": "2022-10-14T11:42:47.997Z"
   },
   {
    "duration": 243,
    "start_time": "2022-10-14T11:42:48.338Z"
   },
   {
    "duration": 297,
    "start_time": "2022-10-14T11:42:48.582Z"
   },
   {
    "duration": 245,
    "start_time": "2022-10-14T11:42:48.884Z"
   },
   {
    "duration": 12,
    "start_time": "2022-10-14T11:42:49.130Z"
   },
   {
    "duration": 242,
    "start_time": "2022-10-14T11:42:49.143Z"
   },
   {
    "duration": 11,
    "start_time": "2022-10-14T11:42:49.389Z"
   },
   {
    "duration": 21,
    "start_time": "2022-10-14T11:42:49.401Z"
   },
   {
    "duration": 319,
    "start_time": "2022-10-14T11:42:49.423Z"
   },
   {
    "duration": 12,
    "start_time": "2022-10-14T11:42:49.744Z"
   },
   {
    "duration": 205,
    "start_time": "2022-10-14T11:42:49.757Z"
   },
   {
    "duration": 165,
    "start_time": "2022-10-14T11:42:49.964Z"
   },
   {
    "duration": 174,
    "start_time": "2022-10-14T11:42:50.131Z"
   },
   {
    "duration": 13,
    "start_time": "2022-10-14T11:42:50.307Z"
   },
   {
    "duration": 18,
    "start_time": "2022-10-14T11:42:50.321Z"
   },
   {
    "duration": 28,
    "start_time": "2022-10-14T11:42:50.340Z"
   },
   {
    "duration": 11,
    "start_time": "2022-10-14T11:42:50.369Z"
   },
   {
    "duration": 24,
    "start_time": "2022-10-14T11:42:50.385Z"
   },
   {
    "duration": 15,
    "start_time": "2022-10-14T11:42:50.411Z"
   },
   {
    "duration": 8,
    "start_time": "2022-10-14T11:42:50.427Z"
   },
   {
    "duration": 64,
    "start_time": "2022-10-14T11:46:49.408Z"
   },
   {
    "duration": 1242,
    "start_time": "2022-10-14T12:17:17.747Z"
   },
   {
    "duration": 56,
    "start_time": "2022-10-14T12:17:18.991Z"
   },
   {
    "duration": 20,
    "start_time": "2022-10-14T12:17:19.049Z"
   },
   {
    "duration": 15,
    "start_time": "2022-10-14T12:17:19.072Z"
   },
   {
    "duration": 31,
    "start_time": "2022-10-14T12:17:19.089Z"
   },
   {
    "duration": 15,
    "start_time": "2022-10-14T12:17:19.122Z"
   },
   {
    "duration": 14,
    "start_time": "2022-10-14T12:17:19.139Z"
   },
   {
    "duration": 35,
    "start_time": "2022-10-14T12:17:19.154Z"
   },
   {
    "duration": 16,
    "start_time": "2022-10-14T12:17:19.191Z"
   },
   {
    "duration": 9,
    "start_time": "2022-10-14T12:17:19.210Z"
   },
   {
    "duration": 10,
    "start_time": "2022-10-14T12:17:19.221Z"
   },
   {
    "duration": 7,
    "start_time": "2022-10-14T12:17:19.232Z"
   },
   {
    "duration": 20,
    "start_time": "2022-10-14T12:17:19.240Z"
   },
   {
    "duration": 18,
    "start_time": "2022-10-14T12:17:19.291Z"
   },
   {
    "duration": 5190,
    "start_time": "2022-10-14T12:17:19.310Z"
   },
   {
    "duration": 367,
    "start_time": "2022-10-14T12:17:24.501Z"
   },
   {
    "duration": 34,
    "start_time": "2022-10-14T12:17:24.870Z"
   },
   {
    "duration": 418,
    "start_time": "2022-10-14T12:17:24.906Z"
   },
   {
    "duration": 141,
    "start_time": "2022-10-14T12:17:25.326Z"
   },
   {
    "duration": 21,
    "start_time": "2022-10-14T12:17:25.469Z"
   },
   {
    "duration": 22,
    "start_time": "2022-10-14T12:17:25.493Z"
   },
   {
    "duration": 422,
    "start_time": "2022-10-14T12:17:25.517Z"
   },
   {
    "duration": 305,
    "start_time": "2022-10-14T12:17:25.941Z"
   },
   {
    "duration": 358,
    "start_time": "2022-10-14T12:17:26.249Z"
   },
   {
    "duration": 265,
    "start_time": "2022-10-14T12:17:26.609Z"
   },
   {
    "duration": 20,
    "start_time": "2022-10-14T12:17:26.875Z"
   },
   {
    "duration": 294,
    "start_time": "2022-10-14T12:17:26.897Z"
   },
   {
    "duration": 12,
    "start_time": "2022-10-14T12:17:27.194Z"
   },
   {
    "duration": 18,
    "start_time": "2022-10-14T12:17:27.208Z"
   },
   {
    "duration": 406,
    "start_time": "2022-10-14T12:17:27.228Z"
   },
   {
    "duration": 13,
    "start_time": "2022-10-14T12:17:27.635Z"
   },
   {
    "duration": 204,
    "start_time": "2022-10-14T12:17:27.650Z"
   },
   {
    "duration": 199,
    "start_time": "2022-10-14T12:17:27.856Z"
   },
   {
    "duration": 226,
    "start_time": "2022-10-14T12:17:28.057Z"
   },
   {
    "duration": 20,
    "start_time": "2022-10-14T12:17:28.289Z"
   },
   {
    "duration": 25,
    "start_time": "2022-10-14T12:17:28.311Z"
   },
   {
    "duration": 30,
    "start_time": "2022-10-14T12:17:28.338Z"
   },
   {
    "duration": 17,
    "start_time": "2022-10-14T12:17:28.369Z"
   },
   {
    "duration": 25,
    "start_time": "2022-10-14T12:17:28.389Z"
   },
   {
    "duration": 10,
    "start_time": "2022-10-14T12:17:28.416Z"
   },
   {
    "duration": 8,
    "start_time": "2022-10-14T12:17:28.428Z"
   },
   {
    "duration": 9,
    "start_time": "2022-10-14T12:17:43.413Z"
   },
   {
    "duration": 16,
    "start_time": "2022-10-14T12:18:00.106Z"
   },
   {
    "duration": 1129,
    "start_time": "2022-10-14T12:58:04.380Z"
   },
   {
    "duration": 50,
    "start_time": "2022-10-14T12:58:05.511Z"
   },
   {
    "duration": 17,
    "start_time": "2022-10-14T12:58:05.563Z"
   },
   {
    "duration": 13,
    "start_time": "2022-10-14T12:58:05.581Z"
   },
   {
    "duration": 25,
    "start_time": "2022-10-14T12:58:05.596Z"
   },
   {
    "duration": 13,
    "start_time": "2022-10-14T12:58:05.623Z"
   },
   {
    "duration": 13,
    "start_time": "2022-10-14T12:58:05.637Z"
   },
   {
    "duration": 10,
    "start_time": "2022-10-14T12:58:05.652Z"
   },
   {
    "duration": 14,
    "start_time": "2022-10-14T12:58:05.685Z"
   },
   {
    "duration": 11,
    "start_time": "2022-10-14T12:58:05.702Z"
   },
   {
    "duration": 11,
    "start_time": "2022-10-14T12:58:05.714Z"
   },
   {
    "duration": 5,
    "start_time": "2022-10-14T12:58:05.726Z"
   },
   {
    "duration": 19,
    "start_time": "2022-10-14T12:58:05.733Z"
   },
   {
    "duration": 13,
    "start_time": "2022-10-14T12:58:05.753Z"
   },
   {
    "duration": 4507,
    "start_time": "2022-10-14T12:58:05.786Z"
   },
   {
    "duration": 309,
    "start_time": "2022-10-14T12:58:10.294Z"
   },
   {
    "duration": 26,
    "start_time": "2022-10-14T12:58:10.604Z"
   },
   {
    "duration": 371,
    "start_time": "2022-10-14T12:58:10.632Z"
   },
   {
    "duration": 105,
    "start_time": "2022-10-14T12:58:11.004Z"
   },
   {
    "duration": 16,
    "start_time": "2022-10-14T12:58:11.110Z"
   },
   {
    "duration": 36,
    "start_time": "2022-10-14T12:58:11.127Z"
   },
   {
    "duration": 371,
    "start_time": "2022-10-14T12:58:11.165Z"
   },
   {
    "duration": 279,
    "start_time": "2022-10-14T12:58:11.537Z"
   },
   {
    "duration": 305,
    "start_time": "2022-10-14T12:58:11.818Z"
   },
   {
    "duration": 255,
    "start_time": "2022-10-14T12:58:12.125Z"
   },
   {
    "duration": 11,
    "start_time": "2022-10-14T12:58:12.384Z"
   },
   {
    "duration": 250,
    "start_time": "2022-10-14T12:58:12.397Z"
   },
   {
    "duration": 11,
    "start_time": "2022-10-14T12:58:12.650Z"
   },
   {
    "duration": 68,
    "start_time": "2022-10-14T12:58:12.663Z"
   },
   {
    "duration": 0,
    "start_time": "2022-10-14T12:58:12.732Z"
   },
   {
    "duration": 0,
    "start_time": "2022-10-14T12:58:12.733Z"
   },
   {
    "duration": 0,
    "start_time": "2022-10-14T12:58:12.734Z"
   },
   {
    "duration": 0,
    "start_time": "2022-10-14T12:58:12.736Z"
   },
   {
    "duration": 0,
    "start_time": "2022-10-14T12:58:12.736Z"
   },
   {
    "duration": 0,
    "start_time": "2022-10-14T12:58:12.737Z"
   },
   {
    "duration": 0,
    "start_time": "2022-10-14T12:58:12.739Z"
   },
   {
    "duration": 0,
    "start_time": "2022-10-14T12:58:12.740Z"
   },
   {
    "duration": 0,
    "start_time": "2022-10-14T12:58:12.741Z"
   },
   {
    "duration": 0,
    "start_time": "2022-10-14T12:58:12.742Z"
   },
   {
    "duration": 0,
    "start_time": "2022-10-14T12:58:12.742Z"
   },
   {
    "duration": 0,
    "start_time": "2022-10-14T12:58:12.744Z"
   },
   {
    "duration": 15,
    "start_time": "2022-10-14T12:59:36.289Z"
   },
   {
    "duration": 298,
    "start_time": "2022-10-14T12:59:55.296Z"
   },
   {
    "duration": 17,
    "start_time": "2022-10-14T13:01:05.596Z"
   },
   {
    "duration": 16,
    "start_time": "2022-10-14T13:01:21.328Z"
   },
   {
    "duration": 25,
    "start_time": "2022-10-14T13:02:05.826Z"
   },
   {
    "duration": 18,
    "start_time": "2022-10-14T13:02:41.543Z"
   },
   {
    "duration": 16,
    "start_time": "2022-10-14T13:03:19.288Z"
   },
   {
    "duration": 319,
    "start_time": "2022-10-14T13:03:48.545Z"
   },
   {
    "duration": 165,
    "start_time": "2022-10-14T13:04:11.310Z"
   },
   {
    "duration": 14,
    "start_time": "2022-10-14T13:04:41.079Z"
   },
   {
    "duration": 168,
    "start_time": "2022-10-14T13:04:42.204Z"
   },
   {
    "duration": 159,
    "start_time": "2022-10-14T13:09:36.676Z"
   },
   {
    "duration": 268,
    "start_time": "2022-10-14T13:10:53.960Z"
   },
   {
    "duration": 121,
    "start_time": "2022-10-14T13:11:43.539Z"
   },
   {
    "duration": 201,
    "start_time": "2022-10-14T13:11:52.895Z"
   },
   {
    "duration": 1104,
    "start_time": "2022-10-14T13:16:54.272Z"
   },
   {
    "duration": 84,
    "start_time": "2022-10-14T13:17:33.454Z"
   },
   {
    "duration": 866,
    "start_time": "2022-10-14T13:17:45.241Z"
   },
   {
    "duration": 1179,
    "start_time": "2022-10-14T13:22:22.292Z"
   },
   {
    "duration": 70,
    "start_time": "2022-10-14T13:22:40.615Z"
   },
   {
    "duration": 299,
    "start_time": "2022-10-14T13:25:26.643Z"
   },
   {
    "duration": 14,
    "start_time": "2022-10-14T13:26:02.177Z"
   },
   {
    "duration": 4,
    "start_time": "2022-10-14T13:28:55.241Z"
   },
   {
    "duration": 5,
    "start_time": "2022-10-14T13:29:51.099Z"
   },
   {
    "duration": 16,
    "start_time": "2022-10-14T13:29:58.955Z"
   },
   {
    "duration": 303,
    "start_time": "2022-10-14T13:32:46.219Z"
   },
   {
    "duration": 17,
    "start_time": "2022-10-14T13:33:10.617Z"
   },
   {
    "duration": 1209,
    "start_time": "2022-10-14T13:34:05.548Z"
   },
   {
    "duration": 4,
    "start_time": "2022-10-14T13:36:23.289Z"
   },
   {
    "duration": 245,
    "start_time": "2022-10-14T13:36:29.066Z"
   },
   {
    "duration": 3,
    "start_time": "2022-10-14T13:38:30.005Z"
   },
   {
    "duration": 21,
    "start_time": "2022-10-14T13:38:46.048Z"
   },
   {
    "duration": 302,
    "start_time": "2022-10-14T13:39:06.198Z"
   },
   {
    "duration": 148,
    "start_time": "2022-10-14T13:40:25.148Z"
   },
   {
    "duration": 145,
    "start_time": "2022-10-14T13:45:49.341Z"
   },
   {
    "duration": 134,
    "start_time": "2022-10-14T13:46:01.243Z"
   },
   {
    "duration": 19,
    "start_time": "2022-10-14T13:46:21.598Z"
   },
   {
    "duration": 15,
    "start_time": "2022-10-14T13:47:10.759Z"
   },
   {
    "duration": 80,
    "start_time": "2022-10-14T13:49:35.855Z"
   },
   {
    "duration": 18,
    "start_time": "2022-10-14T13:50:07.197Z"
   },
   {
    "duration": 195,
    "start_time": "2022-10-14T13:50:31.204Z"
   },
   {
    "duration": 77,
    "start_time": "2022-10-14T13:50:57.491Z"
   },
   {
    "duration": 202,
    "start_time": "2022-10-14T13:51:10.669Z"
   },
   {
    "duration": 1068,
    "start_time": "2022-10-14T13:56:28.123Z"
   },
   {
    "duration": 52,
    "start_time": "2022-10-14T13:56:29.192Z"
   },
   {
    "duration": 16,
    "start_time": "2022-10-14T13:56:29.246Z"
   },
   {
    "duration": 35,
    "start_time": "2022-10-14T13:56:29.265Z"
   },
   {
    "duration": 30,
    "start_time": "2022-10-14T13:56:29.302Z"
   },
   {
    "duration": 14,
    "start_time": "2022-10-14T13:56:29.333Z"
   },
   {
    "duration": 33,
    "start_time": "2022-10-14T13:56:29.348Z"
   },
   {
    "duration": 43,
    "start_time": "2022-10-14T13:56:29.382Z"
   },
   {
    "duration": 46,
    "start_time": "2022-10-14T13:56:29.427Z"
   },
   {
    "duration": 16,
    "start_time": "2022-10-14T13:56:29.475Z"
   },
   {
    "duration": 42,
    "start_time": "2022-10-14T13:56:29.492Z"
   },
   {
    "duration": 21,
    "start_time": "2022-10-14T13:56:29.536Z"
   },
   {
    "duration": 46,
    "start_time": "2022-10-14T13:56:29.559Z"
   },
   {
    "duration": 24,
    "start_time": "2022-10-14T13:56:29.607Z"
   },
   {
    "duration": 4463,
    "start_time": "2022-10-14T13:56:29.632Z"
   },
   {
    "duration": 335,
    "start_time": "2022-10-14T13:56:34.097Z"
   },
   {
    "duration": 28,
    "start_time": "2022-10-14T13:56:34.435Z"
   },
   {
    "duration": 398,
    "start_time": "2022-10-14T13:56:34.465Z"
   },
   {
    "duration": 111,
    "start_time": "2022-10-14T13:56:34.864Z"
   },
   {
    "duration": 15,
    "start_time": "2022-10-14T13:56:34.977Z"
   },
   {
    "duration": 44,
    "start_time": "2022-10-14T13:56:34.993Z"
   },
   {
    "duration": 367,
    "start_time": "2022-10-14T13:56:35.039Z"
   },
   {
    "duration": 245,
    "start_time": "2022-10-14T13:56:35.408Z"
   },
   {
    "duration": 324,
    "start_time": "2022-10-14T13:56:35.655Z"
   },
   {
    "duration": 234,
    "start_time": "2022-10-14T13:56:35.981Z"
   },
   {
    "duration": 13,
    "start_time": "2022-10-14T13:56:36.217Z"
   },
   {
    "duration": 261,
    "start_time": "2022-10-14T13:56:36.231Z"
   },
   {
    "duration": 10,
    "start_time": "2022-10-14T13:56:36.495Z"
   },
   {
    "duration": 19,
    "start_time": "2022-10-14T13:56:36.507Z"
   },
   {
    "duration": 204,
    "start_time": "2022-10-14T13:56:36.528Z"
   },
   {
    "duration": 10,
    "start_time": "2022-10-14T13:56:36.733Z"
   },
   {
    "duration": 188,
    "start_time": "2022-10-14T13:56:36.745Z"
   },
   {
    "duration": 214,
    "start_time": "2022-10-14T13:56:36.935Z"
   },
   {
    "duration": 250,
    "start_time": "2022-10-14T13:56:37.151Z"
   },
   {
    "duration": 20,
    "start_time": "2022-10-14T13:56:37.403Z"
   },
   {
    "duration": 23,
    "start_time": "2022-10-14T13:56:37.425Z"
   },
   {
    "duration": 35,
    "start_time": "2022-10-14T13:56:37.451Z"
   },
   {
    "duration": 9,
    "start_time": "2022-10-14T13:56:37.488Z"
   },
   {
    "duration": 19,
    "start_time": "2022-10-14T13:56:37.499Z"
   },
   {
    "duration": 16,
    "start_time": "2022-10-14T13:56:37.520Z"
   },
   {
    "duration": 0,
    "start_time": "2022-10-14T13:56:37.538Z"
   },
   {
    "duration": 105,
    "start_time": "2022-10-14T14:04:21.893Z"
   },
   {
    "duration": 166,
    "start_time": "2022-10-14T14:04:42.339Z"
   },
   {
    "duration": 151,
    "start_time": "2022-10-14T14:04:53.500Z"
   },
   {
    "duration": 180,
    "start_time": "2022-10-14T14:05:20.036Z"
   },
   {
    "duration": 280,
    "start_time": "2022-10-14T14:05:30.281Z"
   },
   {
    "duration": 76,
    "start_time": "2022-10-14T14:06:32.964Z"
   },
   {
    "duration": 98,
    "start_time": "2022-10-14T14:08:34.137Z"
   },
   {
    "duration": 1143,
    "start_time": "2022-10-14T14:11:15.443Z"
   },
   {
    "duration": 53,
    "start_time": "2022-10-14T14:11:16.588Z"
   },
   {
    "duration": 22,
    "start_time": "2022-10-14T14:11:16.643Z"
   },
   {
    "duration": 17,
    "start_time": "2022-10-14T14:11:16.667Z"
   },
   {
    "duration": 29,
    "start_time": "2022-10-14T14:11:16.686Z"
   },
   {
    "duration": 14,
    "start_time": "2022-10-14T14:11:16.717Z"
   },
   {
    "duration": 18,
    "start_time": "2022-10-14T14:11:16.733Z"
   },
   {
    "duration": 32,
    "start_time": "2022-10-14T14:11:16.753Z"
   },
   {
    "duration": 23,
    "start_time": "2022-10-14T14:11:16.787Z"
   },
   {
    "duration": 8,
    "start_time": "2022-10-14T14:11:16.813Z"
   },
   {
    "duration": 11,
    "start_time": "2022-10-14T14:11:16.823Z"
   },
   {
    "duration": 8,
    "start_time": "2022-10-14T14:11:16.835Z"
   },
   {
    "duration": 28,
    "start_time": "2022-10-14T14:11:16.844Z"
   },
   {
    "duration": 29,
    "start_time": "2022-10-14T14:11:16.884Z"
   },
   {
    "duration": 4699,
    "start_time": "2022-10-14T14:11:16.915Z"
   },
   {
    "duration": 376,
    "start_time": "2022-10-14T14:11:21.616Z"
   },
   {
    "duration": 34,
    "start_time": "2022-10-14T14:11:21.994Z"
   },
   {
    "duration": 413,
    "start_time": "2022-10-14T14:11:22.030Z"
   },
   {
    "duration": 113,
    "start_time": "2022-10-14T14:11:22.444Z"
   },
   {
    "duration": 15,
    "start_time": "2022-10-14T14:11:22.558Z"
   },
   {
    "duration": 19,
    "start_time": "2022-10-14T14:11:22.585Z"
   },
   {
    "duration": 381,
    "start_time": "2022-10-14T14:11:22.606Z"
   },
   {
    "duration": 257,
    "start_time": "2022-10-14T14:11:22.989Z"
   },
   {
    "duration": 370,
    "start_time": "2022-10-14T14:11:23.248Z"
   },
   {
    "duration": 259,
    "start_time": "2022-10-14T14:11:23.620Z"
   },
   {
    "duration": 13,
    "start_time": "2022-10-14T14:11:23.884Z"
   },
   {
    "duration": 266,
    "start_time": "2022-10-14T14:11:23.899Z"
   },
   {
    "duration": 12,
    "start_time": "2022-10-14T14:11:24.170Z"
   },
   {
    "duration": 23,
    "start_time": "2022-10-14T14:11:24.184Z"
   },
   {
    "duration": 197,
    "start_time": "2022-10-14T14:11:24.208Z"
   },
   {
    "duration": 12,
    "start_time": "2022-10-14T14:11:24.407Z"
   },
   {
    "duration": 175,
    "start_time": "2022-10-14T14:11:24.421Z"
   },
   {
    "duration": 171,
    "start_time": "2022-10-14T14:11:24.598Z"
   },
   {
    "duration": 170,
    "start_time": "2022-10-14T14:11:24.771Z"
   },
   {
    "duration": 13,
    "start_time": "2022-10-14T14:11:24.943Z"
   },
   {
    "duration": 33,
    "start_time": "2022-10-14T14:11:24.958Z"
   },
   {
    "duration": 24,
    "start_time": "2022-10-14T14:11:24.993Z"
   },
   {
    "duration": 37,
    "start_time": "2022-10-14T14:11:25.018Z"
   },
   {
    "duration": 28,
    "start_time": "2022-10-14T14:11:25.057Z"
   },
   {
    "duration": 19,
    "start_time": "2022-10-14T14:11:25.087Z"
   },
   {
    "duration": 0,
    "start_time": "2022-10-14T14:11:25.108Z"
   },
   {
    "duration": 10,
    "start_time": "2022-10-14T14:12:55.436Z"
   },
   {
    "duration": 15,
    "start_time": "2022-10-14T14:13:17.639Z"
   },
   {
    "duration": 11,
    "start_time": "2022-10-14T14:13:26.835Z"
   },
   {
    "duration": 1161,
    "start_time": "2022-10-14T14:23:38.503Z"
   },
   {
    "duration": 51,
    "start_time": "2022-10-14T14:23:39.665Z"
   },
   {
    "duration": 15,
    "start_time": "2022-10-14T14:23:39.718Z"
   },
   {
    "duration": 28,
    "start_time": "2022-10-14T14:23:39.735Z"
   },
   {
    "duration": 51,
    "start_time": "2022-10-14T14:23:39.764Z"
   },
   {
    "duration": 12,
    "start_time": "2022-10-14T14:23:39.817Z"
   },
   {
    "duration": 46,
    "start_time": "2022-10-14T14:23:39.831Z"
   },
   {
    "duration": 27,
    "start_time": "2022-10-14T14:23:39.879Z"
   },
   {
    "duration": 35,
    "start_time": "2022-10-14T14:23:39.907Z"
   },
   {
    "duration": 26,
    "start_time": "2022-10-14T14:23:39.944Z"
   },
   {
    "duration": 24,
    "start_time": "2022-10-14T14:23:39.972Z"
   },
   {
    "duration": 25,
    "start_time": "2022-10-14T14:23:39.998Z"
   },
   {
    "duration": 23,
    "start_time": "2022-10-14T14:23:40.024Z"
   },
   {
    "duration": 25,
    "start_time": "2022-10-14T14:23:40.049Z"
   },
   {
    "duration": 4462,
    "start_time": "2022-10-14T14:23:40.075Z"
   },
   {
    "duration": 321,
    "start_time": "2022-10-14T14:23:44.538Z"
   },
   {
    "duration": 31,
    "start_time": "2022-10-14T14:23:44.861Z"
   },
   {
    "duration": 373,
    "start_time": "2022-10-14T14:23:44.894Z"
   },
   {
    "duration": 108,
    "start_time": "2022-10-14T14:23:45.269Z"
   },
   {
    "duration": 14,
    "start_time": "2022-10-14T14:23:45.379Z"
   },
   {
    "duration": 32,
    "start_time": "2022-10-14T14:23:45.394Z"
   },
   {
    "duration": 382,
    "start_time": "2022-10-14T14:23:45.428Z"
   },
   {
    "duration": 251,
    "start_time": "2022-10-14T14:23:45.811Z"
   },
   {
    "duration": 304,
    "start_time": "2022-10-14T14:23:46.064Z"
   },
   {
    "duration": 252,
    "start_time": "2022-10-14T14:23:46.369Z"
   },
   {
    "duration": 12,
    "start_time": "2022-10-14T14:23:46.622Z"
   },
   {
    "duration": 248,
    "start_time": "2022-10-14T14:23:46.635Z"
   },
   {
    "duration": 12,
    "start_time": "2022-10-14T14:23:46.886Z"
   },
   {
    "duration": 44,
    "start_time": "2022-10-14T14:23:46.899Z"
   },
   {
    "duration": 232,
    "start_time": "2022-10-14T14:23:46.945Z"
   },
   {
    "duration": 18,
    "start_time": "2022-10-14T14:23:47.179Z"
   },
   {
    "duration": 204,
    "start_time": "2022-10-14T14:23:47.198Z"
   },
   {
    "duration": 191,
    "start_time": "2022-10-14T14:23:47.404Z"
   },
   {
    "duration": 166,
    "start_time": "2022-10-14T14:23:47.597Z"
   },
   {
    "duration": 24,
    "start_time": "2022-10-14T14:23:47.765Z"
   },
   {
    "duration": 16,
    "start_time": "2022-10-14T14:23:47.791Z"
   },
   {
    "duration": 22,
    "start_time": "2022-10-14T14:23:47.809Z"
   },
   {
    "duration": 13,
    "start_time": "2022-10-14T14:23:47.832Z"
   },
   {
    "duration": 30,
    "start_time": "2022-10-14T14:23:47.847Z"
   },
   {
    "duration": 11,
    "start_time": "2022-10-14T14:23:47.879Z"
   },
   {
    "duration": 11,
    "start_time": "2022-10-14T14:23:47.892Z"
   }
  ],
  "kernelspec": {
   "display_name": "Python 3 (ipykernel)",
   "language": "python",
   "name": "python3"
  },
  "language_info": {
   "codemirror_mode": {
    "name": "ipython",
    "version": 3
   },
   "file_extension": ".py",
   "mimetype": "text/x-python",
   "name": "python",
   "nbconvert_exporter": "python",
   "pygments_lexer": "ipython3",
   "version": "3.9.12"
  },
  "toc": {
   "base_numbering": 1,
   "nav_menu": {},
   "number_sections": true,
   "sideBar": true,
   "skip_h1_title": true,
   "title_cell": "Table of Contents",
   "title_sidebar": "Contents",
   "toc_cell": false,
   "toc_position": {},
   "toc_section_display": true,
   "toc_window_display": false
  }
 },
 "nbformat": 4,
 "nbformat_minor": 2
}
