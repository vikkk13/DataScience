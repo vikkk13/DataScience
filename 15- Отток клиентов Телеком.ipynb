{
 "cells": [
  {
   "cell_type": "markdown",
   "id": "76e17d4d",
   "metadata": {},
   "source": [
    "<h1>Описание проекта:</h1>"
   ]
  },
  {
   "cell_type": "markdown",
   "id": "937597ee",
   "metadata": {},
   "source": [
    "Оператор связи «Ниединогоразрыва.ком» хочет научиться прогнозировать отток клиентов. Если выяснится, что пользователь планирует уйти, ему будут предложены промокоды и специальные условия. Команда оператора собрала персональные данные о некоторых клиентах, информацию об их тарифах и договорах."
   ]
  },
  {
   "cell_type": "markdown",
   "id": "13f1b9cb",
   "metadata": {},
   "source": [
    "<h1>Цель проекта:</h1>"
   ]
  },
  {
   "cell_type": "markdown",
   "id": "e7e07606",
   "metadata": {},
   "source": [
    "Выполнить работу по предсказанию того, откажется ли клиент от услуг оператора сотовой связи или нет. Обучить модели, выбрать модель с лучшими значениями метрики AUC-ROC и дополнительной метрикой accuracy(значение должно быть не менее 0.85). Написать вывод."
   ]
  },
  {
   "cell_type": "markdown",
   "id": "2068513a",
   "metadata": {},
   "source": [
    "<h1>Описание данных:</h1>"
   ]
  },
  {
   "cell_type": "markdown",
   "id": "fd512e9f",
   "metadata": {},
   "source": [
    "Данные состоят из файлов, полученных из разных источников:\n",
    "\n",
    "\n",
    "- contract_new.csv — информация о договоре;\n",
    "- personal_new.csv — персональные данные клиента;\n",
    "- internet_new.csv — информация об интернет-услугах;\n",
    "- phone_new.csv — информация об услугах телефонии.\n",
    "\n",
    "\n",
    "Во всех файлах столбец customerID содержит код клиента.\n",
    "\n",
    "\n",
    "Информация о договорах актуальна на 1 февраля 2020."
   ]
  },
  {
   "cell_type": "markdown",
   "id": "e98befe9",
   "metadata": {},
   "source": [
    "<h1>Содержание:</h1>"
   ]
  },
  {
   "cell_type": "markdown",
   "id": "0f2e9a0d",
   "metadata": {},
   "source": [
    "- Изучение файлов;\n",
    "- Вопросы;\n",
    "- План;\n",
    "- Подготовка данных\n",
    "- Анализ данных\n"
   ]
  },
  {
   "cell_type": "code",
   "execution_count": 1,
   "id": "a1109cb2",
   "metadata": {},
   "outputs": [
    {
     "name": "stdout",
     "output_type": "stream",
     "text": [
      "Requirement already satisfied: scikit-learn==1.1.3 in /opt/conda/lib/python3.9/site-packages (1.1.3)\n",
      "Requirement already satisfied: numpy>=1.17.3 in /opt/conda/lib/python3.9/site-packages (from scikit-learn==1.1.3) (1.21.1)\n",
      "Requirement already satisfied: joblib>=1.0.0 in /opt/conda/lib/python3.9/site-packages (from scikit-learn==1.1.3) (1.1.0)\n",
      "Requirement already satisfied: threadpoolctl>=2.0.0 in /opt/conda/lib/python3.9/site-packages (from scikit-learn==1.1.3) (3.1.0)\n",
      "Requirement already satisfied: scipy>=1.3.2 in /opt/conda/lib/python3.9/site-packages (from scikit-learn==1.1.3) (1.9.1)\n"
     ]
    }
   ],
   "source": [
    "!pip install scikit-learn==1.1.3"
   ]
  },
  {
   "cell_type": "code",
   "execution_count": 2,
   "id": "5b60cfeb",
   "metadata": {},
   "outputs": [],
   "source": [
    "import pandas as pd\n",
    "import matplotlib.pyplot as plt\n",
    "import seaborn as sns\n",
    "import numpy as np\n",
    "\n",
    "RANDOM_STATE = 30423\n",
    "\n",
    "from sklearn.preprocessing import OneHotEncoder, StandardScaler\n",
    "from sklearn.utils import shuffle\n",
    "\n",
    "from sklearn.model_selection import train_test_split, GridSearchCV\n",
    "from sklearn.metrics import roc_auc_score, roc_curve, confusion_matrix\n",
    "\n",
    "from sklearn.preprocessing import StandardScaler\n",
    "from sklearn.tree import DecisionTreeClassifier\n",
    "from sklearn.ensemble import RandomForestClassifier\n",
    "from catboost import CatBoostClassifier, Pool\n",
    "from sklearn.metrics import roc_auc_score, roc_curve, accuracy_score\n"
   ]
  },
  {
   "cell_type": "code",
   "execution_count": 3,
   "id": "5195b77a",
   "metadata": {},
   "outputs": [],
   "source": [
    "def analyze_data(df):\n",
    "    rows_count, columns_count = df.shape\n",
    "    print('Количество стобцов:', columns_count)\n",
    "    print('Количество строк:', rows_count)\n",
    "    display(df.head(5))\n",
    "    display(df.describe())\n",
    "    df.info()"
   ]
  },
  {
   "cell_type": "code",
   "execution_count": 4,
   "id": "9ef58cde",
   "metadata": {},
   "outputs": [],
   "source": [
    "df_contract = pd.read_csv('/datasets/contract_new.csv') \n",
    "df_internet = pd.read_csv('/datasets/internet_new.csv')\n",
    "df_personal = pd.read_csv('/datasets/personal_new.csv') \n",
    "df_phone = pd.read_csv('/datasets/phone_new.csv') "
   ]
  },
  {
   "cell_type": "code",
   "execution_count": 5,
   "id": "a3ba5a32",
   "metadata": {},
   "outputs": [
    {
     "name": "stdout",
     "output_type": "stream",
     "text": [
      "Количество стобцов: 8\n",
      "Количество строк: 7043\n"
     ]
    },
    {
     "data": {
      "text/html": [
       "<div>\n",
       "<style scoped>\n",
       "    .dataframe tbody tr th:only-of-type {\n",
       "        vertical-align: middle;\n",
       "    }\n",
       "\n",
       "    .dataframe tbody tr th {\n",
       "        vertical-align: top;\n",
       "    }\n",
       "\n",
       "    .dataframe thead th {\n",
       "        text-align: right;\n",
       "    }\n",
       "</style>\n",
       "<table border=\"1\" class=\"dataframe\">\n",
       "  <thead>\n",
       "    <tr style=\"text-align: right;\">\n",
       "      <th></th>\n",
       "      <th>customerID</th>\n",
       "      <th>BeginDate</th>\n",
       "      <th>EndDate</th>\n",
       "      <th>Type</th>\n",
       "      <th>PaperlessBilling</th>\n",
       "      <th>PaymentMethod</th>\n",
       "      <th>MonthlyCharges</th>\n",
       "      <th>TotalCharges</th>\n",
       "    </tr>\n",
       "  </thead>\n",
       "  <tbody>\n",
       "    <tr>\n",
       "      <th>0</th>\n",
       "      <td>7590-VHVEG</td>\n",
       "      <td>2020-01-01</td>\n",
       "      <td>No</td>\n",
       "      <td>Month-to-month</td>\n",
       "      <td>Yes</td>\n",
       "      <td>Electronic check</td>\n",
       "      <td>29.85</td>\n",
       "      <td>31.04</td>\n",
       "    </tr>\n",
       "    <tr>\n",
       "      <th>1</th>\n",
       "      <td>5575-GNVDE</td>\n",
       "      <td>2017-04-01</td>\n",
       "      <td>No</td>\n",
       "      <td>One year</td>\n",
       "      <td>No</td>\n",
       "      <td>Mailed check</td>\n",
       "      <td>56.95</td>\n",
       "      <td>2071.84</td>\n",
       "    </tr>\n",
       "    <tr>\n",
       "      <th>2</th>\n",
       "      <td>3668-QPYBK</td>\n",
       "      <td>2019-10-01</td>\n",
       "      <td>No</td>\n",
       "      <td>Month-to-month</td>\n",
       "      <td>Yes</td>\n",
       "      <td>Mailed check</td>\n",
       "      <td>53.85</td>\n",
       "      <td>226.17</td>\n",
       "    </tr>\n",
       "    <tr>\n",
       "      <th>3</th>\n",
       "      <td>7795-CFOCW</td>\n",
       "      <td>2016-05-01</td>\n",
       "      <td>No</td>\n",
       "      <td>One year</td>\n",
       "      <td>No</td>\n",
       "      <td>Bank transfer (automatic)</td>\n",
       "      <td>42.30</td>\n",
       "      <td>1960.6</td>\n",
       "    </tr>\n",
       "    <tr>\n",
       "      <th>4</th>\n",
       "      <td>9237-HQITU</td>\n",
       "      <td>2019-09-01</td>\n",
       "      <td>No</td>\n",
       "      <td>Month-to-month</td>\n",
       "      <td>Yes</td>\n",
       "      <td>Electronic check</td>\n",
       "      <td>70.70</td>\n",
       "      <td>353.5</td>\n",
       "    </tr>\n",
       "  </tbody>\n",
       "</table>\n",
       "</div>"
      ],
      "text/plain": [
       "   customerID   BeginDate EndDate            Type PaperlessBilling  \\\n",
       "0  7590-VHVEG  2020-01-01      No  Month-to-month              Yes   \n",
       "1  5575-GNVDE  2017-04-01      No        One year               No   \n",
       "2  3668-QPYBK  2019-10-01      No  Month-to-month              Yes   \n",
       "3  7795-CFOCW  2016-05-01      No        One year               No   \n",
       "4  9237-HQITU  2019-09-01      No  Month-to-month              Yes   \n",
       "\n",
       "               PaymentMethod  MonthlyCharges TotalCharges  \n",
       "0           Electronic check           29.85        31.04  \n",
       "1               Mailed check           56.95      2071.84  \n",
       "2               Mailed check           53.85       226.17  \n",
       "3  Bank transfer (automatic)           42.30       1960.6  \n",
       "4           Electronic check           70.70        353.5  "
      ]
     },
     "metadata": {},
     "output_type": "display_data"
    },
    {
     "data": {
      "text/html": [
       "<div>\n",
       "<style scoped>\n",
       "    .dataframe tbody tr th:only-of-type {\n",
       "        vertical-align: middle;\n",
       "    }\n",
       "\n",
       "    .dataframe tbody tr th {\n",
       "        vertical-align: top;\n",
       "    }\n",
       "\n",
       "    .dataframe thead th {\n",
       "        text-align: right;\n",
       "    }\n",
       "</style>\n",
       "<table border=\"1\" class=\"dataframe\">\n",
       "  <thead>\n",
       "    <tr style=\"text-align: right;\">\n",
       "      <th></th>\n",
       "      <th>MonthlyCharges</th>\n",
       "    </tr>\n",
       "  </thead>\n",
       "  <tbody>\n",
       "    <tr>\n",
       "      <th>count</th>\n",
       "      <td>7043.000000</td>\n",
       "    </tr>\n",
       "    <tr>\n",
       "      <th>mean</th>\n",
       "      <td>64.761692</td>\n",
       "    </tr>\n",
       "    <tr>\n",
       "      <th>std</th>\n",
       "      <td>30.090047</td>\n",
       "    </tr>\n",
       "    <tr>\n",
       "      <th>min</th>\n",
       "      <td>18.250000</td>\n",
       "    </tr>\n",
       "    <tr>\n",
       "      <th>25%</th>\n",
       "      <td>35.500000</td>\n",
       "    </tr>\n",
       "    <tr>\n",
       "      <th>50%</th>\n",
       "      <td>70.350000</td>\n",
       "    </tr>\n",
       "    <tr>\n",
       "      <th>75%</th>\n",
       "      <td>89.850000</td>\n",
       "    </tr>\n",
       "    <tr>\n",
       "      <th>max</th>\n",
       "      <td>118.750000</td>\n",
       "    </tr>\n",
       "  </tbody>\n",
       "</table>\n",
       "</div>"
      ],
      "text/plain": [
       "       MonthlyCharges\n",
       "count     7043.000000\n",
       "mean        64.761692\n",
       "std         30.090047\n",
       "min         18.250000\n",
       "25%         35.500000\n",
       "50%         70.350000\n",
       "75%         89.850000\n",
       "max        118.750000"
      ]
     },
     "metadata": {},
     "output_type": "display_data"
    },
    {
     "name": "stdout",
     "output_type": "stream",
     "text": [
      "<class 'pandas.core.frame.DataFrame'>\n",
      "RangeIndex: 7043 entries, 0 to 7042\n",
      "Data columns (total 8 columns):\n",
      " #   Column            Non-Null Count  Dtype  \n",
      "---  ------            --------------  -----  \n",
      " 0   customerID        7043 non-null   object \n",
      " 1   BeginDate         7043 non-null   object \n",
      " 2   EndDate           7043 non-null   object \n",
      " 3   Type              7043 non-null   object \n",
      " 4   PaperlessBilling  7043 non-null   object \n",
      " 5   PaymentMethod     7043 non-null   object \n",
      " 6   MonthlyCharges    7043 non-null   float64\n",
      " 7   TotalCharges      7043 non-null   object \n",
      "dtypes: float64(1), object(7)\n",
      "memory usage: 440.3+ KB\n"
     ]
    }
   ],
   "source": [
    "analyze_data(df_contract)"
   ]
  },
  {
   "cell_type": "markdown",
   "id": "eaef1f98",
   "metadata": {},
   "source": [
    "<b>Выводы по датафрейму с информацией по договору:</b>"
   ]
  },
  {
   "cell_type": "markdown",
   "id": "1f85ba46",
   "metadata": {},
   "source": [
    "- В данных нет пропусков;\n",
    "- Надо переименовать customerID в CustomerID;\n",
    "- Столбец BeginDate и EndDate необходимо привести к формату \"datetime\";\n",
    "- Столбец EndDate наш целевой признак, любая дата в этом поле соответствует оттоку клиента, если стоит значение \"No\" - клиент остался. После выделения целевого признака для значения \"No\" можно установить дату актуальности датасета - 2020-02-01.\n",
    "- TotalCharges надо перевести в числовой тип;\n",
    "- К PaymentMethod, Type и PaperlessBilling надо применить One Hot Encoding."
   ]
  },
  {
   "cell_type": "code",
   "execution_count": 6,
   "id": "36021d47",
   "metadata": {},
   "outputs": [
    {
     "name": "stdout",
     "output_type": "stream",
     "text": [
      "Количество стобцов: 5\n",
      "Количество строк: 7043\n"
     ]
    },
    {
     "data": {
      "text/html": [
       "<div>\n",
       "<style scoped>\n",
       "    .dataframe tbody tr th:only-of-type {\n",
       "        vertical-align: middle;\n",
       "    }\n",
       "\n",
       "    .dataframe tbody tr th {\n",
       "        vertical-align: top;\n",
       "    }\n",
       "\n",
       "    .dataframe thead th {\n",
       "        text-align: right;\n",
       "    }\n",
       "</style>\n",
       "<table border=\"1\" class=\"dataframe\">\n",
       "  <thead>\n",
       "    <tr style=\"text-align: right;\">\n",
       "      <th></th>\n",
       "      <th>customerID</th>\n",
       "      <th>gender</th>\n",
       "      <th>SeniorCitizen</th>\n",
       "      <th>Partner</th>\n",
       "      <th>Dependents</th>\n",
       "    </tr>\n",
       "  </thead>\n",
       "  <tbody>\n",
       "    <tr>\n",
       "      <th>0</th>\n",
       "      <td>7590-VHVEG</td>\n",
       "      <td>Female</td>\n",
       "      <td>0</td>\n",
       "      <td>Yes</td>\n",
       "      <td>No</td>\n",
       "    </tr>\n",
       "    <tr>\n",
       "      <th>1</th>\n",
       "      <td>5575-GNVDE</td>\n",
       "      <td>Male</td>\n",
       "      <td>0</td>\n",
       "      <td>No</td>\n",
       "      <td>No</td>\n",
       "    </tr>\n",
       "    <tr>\n",
       "      <th>2</th>\n",
       "      <td>3668-QPYBK</td>\n",
       "      <td>Male</td>\n",
       "      <td>0</td>\n",
       "      <td>No</td>\n",
       "      <td>No</td>\n",
       "    </tr>\n",
       "    <tr>\n",
       "      <th>3</th>\n",
       "      <td>7795-CFOCW</td>\n",
       "      <td>Male</td>\n",
       "      <td>0</td>\n",
       "      <td>No</td>\n",
       "      <td>No</td>\n",
       "    </tr>\n",
       "    <tr>\n",
       "      <th>4</th>\n",
       "      <td>9237-HQITU</td>\n",
       "      <td>Female</td>\n",
       "      <td>0</td>\n",
       "      <td>No</td>\n",
       "      <td>No</td>\n",
       "    </tr>\n",
       "  </tbody>\n",
       "</table>\n",
       "</div>"
      ],
      "text/plain": [
       "   customerID  gender  SeniorCitizen Partner Dependents\n",
       "0  7590-VHVEG  Female              0     Yes         No\n",
       "1  5575-GNVDE    Male              0      No         No\n",
       "2  3668-QPYBK    Male              0      No         No\n",
       "3  7795-CFOCW    Male              0      No         No\n",
       "4  9237-HQITU  Female              0      No         No"
      ]
     },
     "metadata": {},
     "output_type": "display_data"
    },
    {
     "data": {
      "text/html": [
       "<div>\n",
       "<style scoped>\n",
       "    .dataframe tbody tr th:only-of-type {\n",
       "        vertical-align: middle;\n",
       "    }\n",
       "\n",
       "    .dataframe tbody tr th {\n",
       "        vertical-align: top;\n",
       "    }\n",
       "\n",
       "    .dataframe thead th {\n",
       "        text-align: right;\n",
       "    }\n",
       "</style>\n",
       "<table border=\"1\" class=\"dataframe\">\n",
       "  <thead>\n",
       "    <tr style=\"text-align: right;\">\n",
       "      <th></th>\n",
       "      <th>SeniorCitizen</th>\n",
       "    </tr>\n",
       "  </thead>\n",
       "  <tbody>\n",
       "    <tr>\n",
       "      <th>count</th>\n",
       "      <td>7043.000000</td>\n",
       "    </tr>\n",
       "    <tr>\n",
       "      <th>mean</th>\n",
       "      <td>0.162147</td>\n",
       "    </tr>\n",
       "    <tr>\n",
       "      <th>std</th>\n",
       "      <td>0.368612</td>\n",
       "    </tr>\n",
       "    <tr>\n",
       "      <th>min</th>\n",
       "      <td>0.000000</td>\n",
       "    </tr>\n",
       "    <tr>\n",
       "      <th>25%</th>\n",
       "      <td>0.000000</td>\n",
       "    </tr>\n",
       "    <tr>\n",
       "      <th>50%</th>\n",
       "      <td>0.000000</td>\n",
       "    </tr>\n",
       "    <tr>\n",
       "      <th>75%</th>\n",
       "      <td>0.000000</td>\n",
       "    </tr>\n",
       "    <tr>\n",
       "      <th>max</th>\n",
       "      <td>1.000000</td>\n",
       "    </tr>\n",
       "  </tbody>\n",
       "</table>\n",
       "</div>"
      ],
      "text/plain": [
       "       SeniorCitizen\n",
       "count    7043.000000\n",
       "mean        0.162147\n",
       "std         0.368612\n",
       "min         0.000000\n",
       "25%         0.000000\n",
       "50%         0.000000\n",
       "75%         0.000000\n",
       "max         1.000000"
      ]
     },
     "metadata": {},
     "output_type": "display_data"
    },
    {
     "name": "stdout",
     "output_type": "stream",
     "text": [
      "<class 'pandas.core.frame.DataFrame'>\n",
      "RangeIndex: 7043 entries, 0 to 7042\n",
      "Data columns (total 5 columns):\n",
      " #   Column         Non-Null Count  Dtype \n",
      "---  ------         --------------  ----- \n",
      " 0   customerID     7043 non-null   object\n",
      " 1   gender         7043 non-null   object\n",
      " 2   SeniorCitizen  7043 non-null   int64 \n",
      " 3   Partner        7043 non-null   object\n",
      " 4   Dependents     7043 non-null   object\n",
      "dtypes: int64(1), object(4)\n",
      "memory usage: 275.2+ KB\n"
     ]
    }
   ],
   "source": [
    "analyze_data(df_personal)"
   ]
  },
  {
   "cell_type": "markdown",
   "id": "78005556",
   "metadata": {},
   "source": [
    "<b>Выводы по датафрейму с персональными данными клиента:</b>"
   ]
  },
  {
   "cell_type": "markdown",
   "id": "60b89f58",
   "metadata": {},
   "source": [
    "- В данных нет пропусков;\n",
    "- Надо переименовать customerID в CustomerID и gender в Gender;\n",
    "- К gender, Partner и Dependents надо применить One Hot Encoding."
   ]
  },
  {
   "cell_type": "code",
   "execution_count": 7,
   "id": "8147e728",
   "metadata": {},
   "outputs": [
    {
     "name": "stdout",
     "output_type": "stream",
     "text": [
      "Количество стобцов: 8\n",
      "Количество строк: 5517\n"
     ]
    },
    {
     "data": {
      "text/html": [
       "<div>\n",
       "<style scoped>\n",
       "    .dataframe tbody tr th:only-of-type {\n",
       "        vertical-align: middle;\n",
       "    }\n",
       "\n",
       "    .dataframe tbody tr th {\n",
       "        vertical-align: top;\n",
       "    }\n",
       "\n",
       "    .dataframe thead th {\n",
       "        text-align: right;\n",
       "    }\n",
       "</style>\n",
       "<table border=\"1\" class=\"dataframe\">\n",
       "  <thead>\n",
       "    <tr style=\"text-align: right;\">\n",
       "      <th></th>\n",
       "      <th>customerID</th>\n",
       "      <th>InternetService</th>\n",
       "      <th>OnlineSecurity</th>\n",
       "      <th>OnlineBackup</th>\n",
       "      <th>DeviceProtection</th>\n",
       "      <th>TechSupport</th>\n",
       "      <th>StreamingTV</th>\n",
       "      <th>StreamingMovies</th>\n",
       "    </tr>\n",
       "  </thead>\n",
       "  <tbody>\n",
       "    <tr>\n",
       "      <th>0</th>\n",
       "      <td>7590-VHVEG</td>\n",
       "      <td>DSL</td>\n",
       "      <td>No</td>\n",
       "      <td>Yes</td>\n",
       "      <td>No</td>\n",
       "      <td>No</td>\n",
       "      <td>No</td>\n",
       "      <td>No</td>\n",
       "    </tr>\n",
       "    <tr>\n",
       "      <th>1</th>\n",
       "      <td>5575-GNVDE</td>\n",
       "      <td>DSL</td>\n",
       "      <td>Yes</td>\n",
       "      <td>No</td>\n",
       "      <td>Yes</td>\n",
       "      <td>No</td>\n",
       "      <td>No</td>\n",
       "      <td>No</td>\n",
       "    </tr>\n",
       "    <tr>\n",
       "      <th>2</th>\n",
       "      <td>3668-QPYBK</td>\n",
       "      <td>DSL</td>\n",
       "      <td>Yes</td>\n",
       "      <td>Yes</td>\n",
       "      <td>No</td>\n",
       "      <td>No</td>\n",
       "      <td>No</td>\n",
       "      <td>No</td>\n",
       "    </tr>\n",
       "    <tr>\n",
       "      <th>3</th>\n",
       "      <td>7795-CFOCW</td>\n",
       "      <td>DSL</td>\n",
       "      <td>Yes</td>\n",
       "      <td>No</td>\n",
       "      <td>Yes</td>\n",
       "      <td>Yes</td>\n",
       "      <td>No</td>\n",
       "      <td>No</td>\n",
       "    </tr>\n",
       "    <tr>\n",
       "      <th>4</th>\n",
       "      <td>9237-HQITU</td>\n",
       "      <td>Fiber optic</td>\n",
       "      <td>No</td>\n",
       "      <td>No</td>\n",
       "      <td>No</td>\n",
       "      <td>No</td>\n",
       "      <td>No</td>\n",
       "      <td>No</td>\n",
       "    </tr>\n",
       "  </tbody>\n",
       "</table>\n",
       "</div>"
      ],
      "text/plain": [
       "   customerID InternetService OnlineSecurity OnlineBackup DeviceProtection  \\\n",
       "0  7590-VHVEG             DSL             No          Yes               No   \n",
       "1  5575-GNVDE             DSL            Yes           No              Yes   \n",
       "2  3668-QPYBK             DSL            Yes          Yes               No   \n",
       "3  7795-CFOCW             DSL            Yes           No              Yes   \n",
       "4  9237-HQITU     Fiber optic             No           No               No   \n",
       "\n",
       "  TechSupport StreamingTV StreamingMovies  \n",
       "0          No          No              No  \n",
       "1          No          No              No  \n",
       "2          No          No              No  \n",
       "3         Yes          No              No  \n",
       "4          No          No              No  "
      ]
     },
     "metadata": {},
     "output_type": "display_data"
    },
    {
     "data": {
      "text/html": [
       "<div>\n",
       "<style scoped>\n",
       "    .dataframe tbody tr th:only-of-type {\n",
       "        vertical-align: middle;\n",
       "    }\n",
       "\n",
       "    .dataframe tbody tr th {\n",
       "        vertical-align: top;\n",
       "    }\n",
       "\n",
       "    .dataframe thead th {\n",
       "        text-align: right;\n",
       "    }\n",
       "</style>\n",
       "<table border=\"1\" class=\"dataframe\">\n",
       "  <thead>\n",
       "    <tr style=\"text-align: right;\">\n",
       "      <th></th>\n",
       "      <th>customerID</th>\n",
       "      <th>InternetService</th>\n",
       "      <th>OnlineSecurity</th>\n",
       "      <th>OnlineBackup</th>\n",
       "      <th>DeviceProtection</th>\n",
       "      <th>TechSupport</th>\n",
       "      <th>StreamingTV</th>\n",
       "      <th>StreamingMovies</th>\n",
       "    </tr>\n",
       "  </thead>\n",
       "  <tbody>\n",
       "    <tr>\n",
       "      <th>count</th>\n",
       "      <td>5517</td>\n",
       "      <td>5517</td>\n",
       "      <td>5517</td>\n",
       "      <td>5517</td>\n",
       "      <td>5517</td>\n",
       "      <td>5517</td>\n",
       "      <td>5517</td>\n",
       "      <td>5517</td>\n",
       "    </tr>\n",
       "    <tr>\n",
       "      <th>unique</th>\n",
       "      <td>5517</td>\n",
       "      <td>2</td>\n",
       "      <td>2</td>\n",
       "      <td>2</td>\n",
       "      <td>2</td>\n",
       "      <td>2</td>\n",
       "      <td>2</td>\n",
       "      <td>2</td>\n",
       "    </tr>\n",
       "    <tr>\n",
       "      <th>top</th>\n",
       "      <td>2018-QKYGT</td>\n",
       "      <td>Fiber optic</td>\n",
       "      <td>No</td>\n",
       "      <td>No</td>\n",
       "      <td>No</td>\n",
       "      <td>No</td>\n",
       "      <td>No</td>\n",
       "      <td>No</td>\n",
       "    </tr>\n",
       "    <tr>\n",
       "      <th>freq</th>\n",
       "      <td>1</td>\n",
       "      <td>3096</td>\n",
       "      <td>3498</td>\n",
       "      <td>3088</td>\n",
       "      <td>3095</td>\n",
       "      <td>3473</td>\n",
       "      <td>2810</td>\n",
       "      <td>2785</td>\n",
       "    </tr>\n",
       "  </tbody>\n",
       "</table>\n",
       "</div>"
      ],
      "text/plain": [
       "        customerID InternetService OnlineSecurity OnlineBackup  \\\n",
       "count         5517            5517           5517         5517   \n",
       "unique        5517               2              2            2   \n",
       "top     2018-QKYGT     Fiber optic             No           No   \n",
       "freq             1            3096           3498         3088   \n",
       "\n",
       "       DeviceProtection TechSupport StreamingTV StreamingMovies  \n",
       "count              5517        5517        5517            5517  \n",
       "unique                2           2           2               2  \n",
       "top                  No          No          No              No  \n",
       "freq               3095        3473        2810            2785  "
      ]
     },
     "metadata": {},
     "output_type": "display_data"
    },
    {
     "name": "stdout",
     "output_type": "stream",
     "text": [
      "<class 'pandas.core.frame.DataFrame'>\n",
      "RangeIndex: 5517 entries, 0 to 5516\n",
      "Data columns (total 8 columns):\n",
      " #   Column            Non-Null Count  Dtype \n",
      "---  ------            --------------  ----- \n",
      " 0   customerID        5517 non-null   object\n",
      " 1   InternetService   5517 non-null   object\n",
      " 2   OnlineSecurity    5517 non-null   object\n",
      " 3   OnlineBackup      5517 non-null   object\n",
      " 4   DeviceProtection  5517 non-null   object\n",
      " 5   TechSupport       5517 non-null   object\n",
      " 6   StreamingTV       5517 non-null   object\n",
      " 7   StreamingMovies   5517 non-null   object\n",
      "dtypes: object(8)\n",
      "memory usage: 344.9+ KB\n"
     ]
    }
   ],
   "source": [
    "analyze_data(df_internet)"
   ]
  },
  {
   "cell_type": "markdown",
   "id": "6987f1f0",
   "metadata": {},
   "source": [
    "<b>Выводы по датафрейму с информацией об интернет-услугах:</b>"
   ]
  },
  {
   "cell_type": "markdown",
   "id": "e8beb28a",
   "metadata": {},
   "source": [
    "- В данных нет пропусков;\n",
    "- Данные есть не по всем клиентам;\n",
    "- Надо переименовать customerID в CustomerID;\n",
    "- К InternetService, OnlineSecurity, OnlineBackup, DeviceProtection, TechSupport, StreamingTV, StreamingMovies надо применить One Hot Encoding."
   ]
  },
  {
   "cell_type": "code",
   "execution_count": 8,
   "id": "ac7c2fc8",
   "metadata": {},
   "outputs": [
    {
     "name": "stdout",
     "output_type": "stream",
     "text": [
      "Количество стобцов: 2\n",
      "Количество строк: 6361\n"
     ]
    },
    {
     "data": {
      "text/html": [
       "<div>\n",
       "<style scoped>\n",
       "    .dataframe tbody tr th:only-of-type {\n",
       "        vertical-align: middle;\n",
       "    }\n",
       "\n",
       "    .dataframe tbody tr th {\n",
       "        vertical-align: top;\n",
       "    }\n",
       "\n",
       "    .dataframe thead th {\n",
       "        text-align: right;\n",
       "    }\n",
       "</style>\n",
       "<table border=\"1\" class=\"dataframe\">\n",
       "  <thead>\n",
       "    <tr style=\"text-align: right;\">\n",
       "      <th></th>\n",
       "      <th>customerID</th>\n",
       "      <th>MultipleLines</th>\n",
       "    </tr>\n",
       "  </thead>\n",
       "  <tbody>\n",
       "    <tr>\n",
       "      <th>0</th>\n",
       "      <td>5575-GNVDE</td>\n",
       "      <td>No</td>\n",
       "    </tr>\n",
       "    <tr>\n",
       "      <th>1</th>\n",
       "      <td>3668-QPYBK</td>\n",
       "      <td>No</td>\n",
       "    </tr>\n",
       "    <tr>\n",
       "      <th>2</th>\n",
       "      <td>9237-HQITU</td>\n",
       "      <td>No</td>\n",
       "    </tr>\n",
       "    <tr>\n",
       "      <th>3</th>\n",
       "      <td>9305-CDSKC</td>\n",
       "      <td>Yes</td>\n",
       "    </tr>\n",
       "    <tr>\n",
       "      <th>4</th>\n",
       "      <td>1452-KIOVK</td>\n",
       "      <td>Yes</td>\n",
       "    </tr>\n",
       "  </tbody>\n",
       "</table>\n",
       "</div>"
      ],
      "text/plain": [
       "   customerID MultipleLines\n",
       "0  5575-GNVDE            No\n",
       "1  3668-QPYBK            No\n",
       "2  9237-HQITU            No\n",
       "3  9305-CDSKC           Yes\n",
       "4  1452-KIOVK           Yes"
      ]
     },
     "metadata": {},
     "output_type": "display_data"
    },
    {
     "data": {
      "text/html": [
       "<div>\n",
       "<style scoped>\n",
       "    .dataframe tbody tr th:only-of-type {\n",
       "        vertical-align: middle;\n",
       "    }\n",
       "\n",
       "    .dataframe tbody tr th {\n",
       "        vertical-align: top;\n",
       "    }\n",
       "\n",
       "    .dataframe thead th {\n",
       "        text-align: right;\n",
       "    }\n",
       "</style>\n",
       "<table border=\"1\" class=\"dataframe\">\n",
       "  <thead>\n",
       "    <tr style=\"text-align: right;\">\n",
       "      <th></th>\n",
       "      <th>customerID</th>\n",
       "      <th>MultipleLines</th>\n",
       "    </tr>\n",
       "  </thead>\n",
       "  <tbody>\n",
       "    <tr>\n",
       "      <th>count</th>\n",
       "      <td>6361</td>\n",
       "      <td>6361</td>\n",
       "    </tr>\n",
       "    <tr>\n",
       "      <th>unique</th>\n",
       "      <td>6361</td>\n",
       "      <td>2</td>\n",
       "    </tr>\n",
       "    <tr>\n",
       "      <th>top</th>\n",
       "      <td>1658-XUHBX</td>\n",
       "      <td>No</td>\n",
       "    </tr>\n",
       "    <tr>\n",
       "      <th>freq</th>\n",
       "      <td>1</td>\n",
       "      <td>3390</td>\n",
       "    </tr>\n",
       "  </tbody>\n",
       "</table>\n",
       "</div>"
      ],
      "text/plain": [
       "        customerID MultipleLines\n",
       "count         6361          6361\n",
       "unique        6361             2\n",
       "top     1658-XUHBX            No\n",
       "freq             1          3390"
      ]
     },
     "metadata": {},
     "output_type": "display_data"
    },
    {
     "name": "stdout",
     "output_type": "stream",
     "text": [
      "<class 'pandas.core.frame.DataFrame'>\n",
      "RangeIndex: 6361 entries, 0 to 6360\n",
      "Data columns (total 2 columns):\n",
      " #   Column         Non-Null Count  Dtype \n",
      "---  ------         --------------  ----- \n",
      " 0   customerID     6361 non-null   object\n",
      " 1   MultipleLines  6361 non-null   object\n",
      "dtypes: object(2)\n",
      "memory usage: 99.5+ KB\n"
     ]
    }
   ],
   "source": [
    "analyze_data(df_phone)"
   ]
  },
  {
   "cell_type": "markdown",
   "id": "42a11991",
   "metadata": {},
   "source": [
    "<b>Выводы по датафрейму с информацией об услугах телефонии:</b>"
   ]
  },
  {
   "cell_type": "markdown",
   "id": "25abcba1",
   "metadata": {},
   "source": [
    "- В данных нет пропусков;\n",
    "- Данные есть не по всем клиентам;\n",
    "- Надо переименовать customerID в CustomerID;\n",
    "- К MultipleLines надо применить One Hot Encoding;"
   ]
  },
  {
   "cell_type": "markdown",
   "id": "f5fd9cab",
   "metadata": {},
   "source": [
    "<h1>План</h1>"
   ]
  },
  {
   "cell_type": "markdown",
   "id": "d1cae6f8",
   "metadata": {},
   "source": [
    "- Изучить данные в файлах - проверить типы, есть ли пропуски, надо ли преобразовывать данные;\n",
    "- Подготовить данных на основе выводов, полученных на предыдущем шаге;\n",
    "- Провести исследовательский анализ данных - вузализация данных, избавление от выбросов;\n",
    "- Перебор моделей и подбор их параметров;\n",
    "- Вывод по итогам работы."
   ]
  },
  {
   "cell_type": "markdown",
   "id": "d475d0b9",
   "metadata": {},
   "source": [
    "<h1>Подготовка данных</h1>"
   ]
  },
  {
   "cell_type": "code",
   "execution_count": 9,
   "id": "f7d0cddb",
   "metadata": {},
   "outputs": [
    {
     "name": "stdout",
     "output_type": "stream",
     "text": [
      "['CustomerID' 'BeginDate' 'EndDate' 'Type' 'PaperlessBilling'\n",
      " 'PaymentMethod' 'MonthlyCharges' 'TotalCharges']\n"
     ]
    }
   ],
   "source": [
    "df_contract = df_contract.rename(columns={'customerID': 'CustomerID'})\n",
    "print(df_contract.columns.values)"
   ]
  },
  {
   "cell_type": "code",
   "execution_count": 10,
   "id": "78540b6e",
   "metadata": {},
   "outputs": [
    {
     "name": "stdout",
     "output_type": "stream",
     "text": [
      "['CustomerID' 'Gender' 'SeniorCitizen' 'Partner' 'Dependents']\n"
     ]
    }
   ],
   "source": [
    "df_personal = df_personal.rename(columns={'customerID': 'CustomerID', 'gender': 'Gender'})\n",
    "print(df_personal.columns.values)"
   ]
  },
  {
   "cell_type": "code",
   "execution_count": 11,
   "id": "1e7f81cc",
   "metadata": {},
   "outputs": [
    {
     "name": "stdout",
     "output_type": "stream",
     "text": [
      "['CustomerID' 'InternetService' 'OnlineSecurity' 'OnlineBackup'\n",
      " 'DeviceProtection' 'TechSupport' 'StreamingTV' 'StreamingMovies']\n"
     ]
    }
   ],
   "source": [
    "df_internet = df_internet.rename(columns={'customerID': 'CustomerID'})\n",
    "print(df_internet.columns.values)"
   ]
  },
  {
   "cell_type": "code",
   "execution_count": 12,
   "id": "11c19ccf",
   "metadata": {},
   "outputs": [
    {
     "name": "stdout",
     "output_type": "stream",
     "text": [
      "['CustomerID' 'MultipleLines']\n"
     ]
    }
   ],
   "source": [
    "df_phone = df_phone.rename(columns={'customerID': 'CustomerID'})\n",
    "print(df_phone.columns.values)"
   ]
  },
  {
   "cell_type": "markdown",
   "id": "0ad8728c",
   "metadata": {},
   "source": [
    "Привели сназвания столбцов к единому виду"
   ]
  },
  {
   "cell_type": "code",
   "execution_count": 13,
   "id": "17c1a5b9",
   "metadata": {},
   "outputs": [
    {
     "data": {
      "text/html": [
       "<div>\n",
       "<style scoped>\n",
       "    .dataframe tbody tr th:only-of-type {\n",
       "        vertical-align: middle;\n",
       "    }\n",
       "\n",
       "    .dataframe tbody tr th {\n",
       "        vertical-align: top;\n",
       "    }\n",
       "\n",
       "    .dataframe thead th {\n",
       "        text-align: right;\n",
       "    }\n",
       "</style>\n",
       "<table border=\"1\" class=\"dataframe\">\n",
       "  <thead>\n",
       "    <tr style=\"text-align: right;\">\n",
       "      <th></th>\n",
       "      <th>CustomerID</th>\n",
       "      <th>BeginDate</th>\n",
       "      <th>EndDate</th>\n",
       "      <th>Type</th>\n",
       "      <th>PaperlessBilling</th>\n",
       "      <th>PaymentMethod</th>\n",
       "      <th>MonthlyCharges</th>\n",
       "      <th>TotalCharges</th>\n",
       "      <th>CO</th>\n",
       "    </tr>\n",
       "  </thead>\n",
       "  <tbody>\n",
       "    <tr>\n",
       "      <th>0</th>\n",
       "      <td>7590-VHVEG</td>\n",
       "      <td>2020-01-01</td>\n",
       "      <td>No</td>\n",
       "      <td>Month-to-month</td>\n",
       "      <td>Yes</td>\n",
       "      <td>Electronic check</td>\n",
       "      <td>29.85</td>\n",
       "      <td>31.04</td>\n",
       "      <td>0</td>\n",
       "    </tr>\n",
       "    <tr>\n",
       "      <th>1</th>\n",
       "      <td>5575-GNVDE</td>\n",
       "      <td>2017-04-01</td>\n",
       "      <td>No</td>\n",
       "      <td>One year</td>\n",
       "      <td>No</td>\n",
       "      <td>Mailed check</td>\n",
       "      <td>56.95</td>\n",
       "      <td>2071.84</td>\n",
       "      <td>0</td>\n",
       "    </tr>\n",
       "    <tr>\n",
       "      <th>2</th>\n",
       "      <td>3668-QPYBK</td>\n",
       "      <td>2019-10-01</td>\n",
       "      <td>No</td>\n",
       "      <td>Month-to-month</td>\n",
       "      <td>Yes</td>\n",
       "      <td>Mailed check</td>\n",
       "      <td>53.85</td>\n",
       "      <td>226.17</td>\n",
       "      <td>0</td>\n",
       "    </tr>\n",
       "    <tr>\n",
       "      <th>3</th>\n",
       "      <td>7795-CFOCW</td>\n",
       "      <td>2016-05-01</td>\n",
       "      <td>No</td>\n",
       "      <td>One year</td>\n",
       "      <td>No</td>\n",
       "      <td>Bank transfer (automatic)</td>\n",
       "      <td>42.30</td>\n",
       "      <td>1960.6</td>\n",
       "      <td>0</td>\n",
       "    </tr>\n",
       "    <tr>\n",
       "      <th>4</th>\n",
       "      <td>9237-HQITU</td>\n",
       "      <td>2019-09-01</td>\n",
       "      <td>No</td>\n",
       "      <td>Month-to-month</td>\n",
       "      <td>Yes</td>\n",
       "      <td>Electronic check</td>\n",
       "      <td>70.70</td>\n",
       "      <td>353.5</td>\n",
       "      <td>0</td>\n",
       "    </tr>\n",
       "  </tbody>\n",
       "</table>\n",
       "</div>"
      ],
      "text/plain": [
       "   CustomerID   BeginDate EndDate            Type PaperlessBilling  \\\n",
       "0  7590-VHVEG  2020-01-01      No  Month-to-month              Yes   \n",
       "1  5575-GNVDE  2017-04-01      No        One year               No   \n",
       "2  3668-QPYBK  2019-10-01      No  Month-to-month              Yes   \n",
       "3  7795-CFOCW  2016-05-01      No        One year               No   \n",
       "4  9237-HQITU  2019-09-01      No  Month-to-month              Yes   \n",
       "\n",
       "               PaymentMethod  MonthlyCharges TotalCharges  CO  \n",
       "0           Electronic check           29.85        31.04   0  \n",
       "1               Mailed check           56.95      2071.84   0  \n",
       "2               Mailed check           53.85       226.17   0  \n",
       "3  Bank transfer (automatic)           42.30       1960.6   0  \n",
       "4           Electronic check           70.70        353.5   0  "
      ]
     },
     "execution_count": 13,
     "metadata": {},
     "output_type": "execute_result"
    }
   ],
   "source": [
    "df_contract['CO'] = (df_contract['EndDate'] != 'No').astype(int)\n",
    "df_contract.head()"
   ]
  },
  {
   "cell_type": "markdown",
   "id": "b37d960e",
   "metadata": {},
   "source": [
    "Добавили новый столбец CO (customer outflow) с целевым признаком, который будет означать отказался клиент от услуг или нет.\n",
    "При значении EndDate равном \"No\", клиент не ушел и целевой признак равен 0.\n",
    "А при наличии даты ухода, целевой признак равен 1."
   ]
  },
  {
   "cell_type": "code",
   "execution_count": 14,
   "id": "d96b4489",
   "metadata": {},
   "outputs": [
    {
     "name": "stdout",
     "output_type": "stream",
     "text": [
      "0\n"
     ]
    }
   ],
   "source": [
    "df_contract['EndDate'] = df_contract['EndDate'].replace(['No'], ['2020-02-01'])\n",
    "print(df_contract[df_contract['EndDate'] == 'No'].shape[0])"
   ]
  },
  {
   "cell_type": "markdown",
   "id": "aec05694",
   "metadata": {},
   "source": [
    "Поменяли \"No\" в столбце EndDate на дату актуальной информации датасета (01.02.2020)"
   ]
  },
  {
   "cell_type": "code",
   "execution_count": 15,
   "id": "90b0cce5",
   "metadata": {},
   "outputs": [
    {
     "name": "stdout",
     "output_type": "stream",
     "text": [
      "<class 'pandas.core.frame.DataFrame'>\n",
      "RangeIndex: 7043 entries, 0 to 7042\n",
      "Data columns (total 9 columns):\n",
      " #   Column            Non-Null Count  Dtype         \n",
      "---  ------            --------------  -----         \n",
      " 0   CustomerID        7043 non-null   object        \n",
      " 1   BeginDate         7043 non-null   datetime64[ns]\n",
      " 2   EndDate           7043 non-null   datetime64[ns]\n",
      " 3   Type              7043 non-null   object        \n",
      " 4   PaperlessBilling  7043 non-null   object        \n",
      " 5   PaymentMethod     7043 non-null   object        \n",
      " 6   MonthlyCharges    7043 non-null   float64       \n",
      " 7   TotalCharges      7043 non-null   object        \n",
      " 8   CO                7043 non-null   int64         \n",
      "dtypes: datetime64[ns](2), float64(1), int64(1), object(5)\n",
      "memory usage: 495.3+ KB\n"
     ]
    }
   ],
   "source": [
    "df_contract['BeginDate'] = pd.to_datetime(df_contract['BeginDate'], format='%Y-%m-%d')\n",
    "df_contract['EndDate'] = pd.to_datetime(df_contract['EndDate'], format='%Y-%m-%d')\n",
    "df_contract.info()"
   ]
  },
  {
   "cell_type": "markdown",
   "id": "4ce016a7",
   "metadata": {},
   "source": [
    "Привели столбцы к фрмату даты"
   ]
  },
  {
   "cell_type": "code",
   "execution_count": 16,
   "id": "9ab92fd2",
   "metadata": {},
   "outputs": [],
   "source": [
    "df_contract['AllDays'] = (df_contract['EndDate'] - df_contract['BeginDate']).dt.days"
   ]
  },
  {
   "cell_type": "markdown",
   "id": "da4da852",
   "metadata": {},
   "source": [
    "Создали столбец с данными, сколько абонент пользовался услугами"
   ]
  },
  {
   "cell_type": "code",
   "execution_count": 17,
   "id": "d2ccbfa0",
   "metadata": {},
   "outputs": [
    {
     "name": "stdout",
     "output_type": "stream",
     "text": [
      "<class 'pandas.core.frame.DataFrame'>\n",
      "RangeIndex: 7043 entries, 0 to 7042\n",
      "Data columns (total 10 columns):\n",
      " #   Column            Non-Null Count  Dtype         \n",
      "---  ------            --------------  -----         \n",
      " 0   CustomerID        7043 non-null   object        \n",
      " 1   BeginDate         7043 non-null   datetime64[ns]\n",
      " 2   EndDate           7043 non-null   datetime64[ns]\n",
      " 3   Type              7043 non-null   object        \n",
      " 4   PaperlessBilling  7043 non-null   object        \n",
      " 5   PaymentMethod     7043 non-null   object        \n",
      " 6   MonthlyCharges    7043 non-null   float64       \n",
      " 7   TotalCharges      7032 non-null   float64       \n",
      " 8   CO                7043 non-null   int64         \n",
      " 9   AllDays           7043 non-null   int64         \n",
      "dtypes: datetime64[ns](2), float64(2), int64(2), object(4)\n",
      "memory usage: 550.4+ KB\n"
     ]
    }
   ],
   "source": [
    "df_contract['TotalCharges'] = pd.to_numeric(df_contract['TotalCharges'], errors ='coerce')\n",
    "df_contract.info()"
   ]
  },
  {
   "cell_type": "markdown",
   "id": "9b15d43b",
   "metadata": {},
   "source": [
    "Привели к числовому виду, увидели наличие пропусков."
   ]
  },
  {
   "cell_type": "code",
   "execution_count": 18,
   "id": "81f8b097",
   "metadata": {},
   "outputs": [
    {
     "data": {
      "text/html": [
       "<div>\n",
       "<style scoped>\n",
       "    .dataframe tbody tr th:only-of-type {\n",
       "        vertical-align: middle;\n",
       "    }\n",
       "\n",
       "    .dataframe tbody tr th {\n",
       "        vertical-align: top;\n",
       "    }\n",
       "\n",
       "    .dataframe thead th {\n",
       "        text-align: right;\n",
       "    }\n",
       "</style>\n",
       "<table border=\"1\" class=\"dataframe\">\n",
       "  <thead>\n",
       "    <tr style=\"text-align: right;\">\n",
       "      <th></th>\n",
       "      <th>CustomerID</th>\n",
       "      <th>BeginDate</th>\n",
       "      <th>EndDate</th>\n",
       "      <th>Type</th>\n",
       "      <th>PaperlessBilling</th>\n",
       "      <th>PaymentMethod</th>\n",
       "      <th>MonthlyCharges</th>\n",
       "      <th>TotalCharges</th>\n",
       "      <th>CO</th>\n",
       "      <th>AllDays</th>\n",
       "    </tr>\n",
       "  </thead>\n",
       "  <tbody>\n",
       "    <tr>\n",
       "      <th>488</th>\n",
       "      <td>4472-LVYGI</td>\n",
       "      <td>2020-02-01</td>\n",
       "      <td>2020-02-01</td>\n",
       "      <td>Two year</td>\n",
       "      <td>Yes</td>\n",
       "      <td>Bank transfer (automatic)</td>\n",
       "      <td>52.55</td>\n",
       "      <td>NaN</td>\n",
       "      <td>0</td>\n",
       "      <td>0</td>\n",
       "    </tr>\n",
       "    <tr>\n",
       "      <th>753</th>\n",
       "      <td>3115-CZMZD</td>\n",
       "      <td>2020-02-01</td>\n",
       "      <td>2020-02-01</td>\n",
       "      <td>Two year</td>\n",
       "      <td>No</td>\n",
       "      <td>Mailed check</td>\n",
       "      <td>20.25</td>\n",
       "      <td>NaN</td>\n",
       "      <td>0</td>\n",
       "      <td>0</td>\n",
       "    </tr>\n",
       "    <tr>\n",
       "      <th>936</th>\n",
       "      <td>5709-LVOEQ</td>\n",
       "      <td>2020-02-01</td>\n",
       "      <td>2020-02-01</td>\n",
       "      <td>Two year</td>\n",
       "      <td>No</td>\n",
       "      <td>Mailed check</td>\n",
       "      <td>80.85</td>\n",
       "      <td>NaN</td>\n",
       "      <td>0</td>\n",
       "      <td>0</td>\n",
       "    </tr>\n",
       "    <tr>\n",
       "      <th>1082</th>\n",
       "      <td>4367-NUYAO</td>\n",
       "      <td>2020-02-01</td>\n",
       "      <td>2020-02-01</td>\n",
       "      <td>Two year</td>\n",
       "      <td>No</td>\n",
       "      <td>Mailed check</td>\n",
       "      <td>25.75</td>\n",
       "      <td>NaN</td>\n",
       "      <td>0</td>\n",
       "      <td>0</td>\n",
       "    </tr>\n",
       "    <tr>\n",
       "      <th>1340</th>\n",
       "      <td>1371-DWPAZ</td>\n",
       "      <td>2020-02-01</td>\n",
       "      <td>2020-02-01</td>\n",
       "      <td>Two year</td>\n",
       "      <td>No</td>\n",
       "      <td>Credit card (automatic)</td>\n",
       "      <td>56.05</td>\n",
       "      <td>NaN</td>\n",
       "      <td>0</td>\n",
       "      <td>0</td>\n",
       "    </tr>\n",
       "    <tr>\n",
       "      <th>3331</th>\n",
       "      <td>7644-OMVMY</td>\n",
       "      <td>2020-02-01</td>\n",
       "      <td>2020-02-01</td>\n",
       "      <td>Two year</td>\n",
       "      <td>No</td>\n",
       "      <td>Mailed check</td>\n",
       "      <td>19.85</td>\n",
       "      <td>NaN</td>\n",
       "      <td>0</td>\n",
       "      <td>0</td>\n",
       "    </tr>\n",
       "    <tr>\n",
       "      <th>3826</th>\n",
       "      <td>3213-VVOLG</td>\n",
       "      <td>2020-02-01</td>\n",
       "      <td>2020-02-01</td>\n",
       "      <td>Two year</td>\n",
       "      <td>No</td>\n",
       "      <td>Mailed check</td>\n",
       "      <td>25.35</td>\n",
       "      <td>NaN</td>\n",
       "      <td>0</td>\n",
       "      <td>0</td>\n",
       "    </tr>\n",
       "    <tr>\n",
       "      <th>4380</th>\n",
       "      <td>2520-SGTTA</td>\n",
       "      <td>2020-02-01</td>\n",
       "      <td>2020-02-01</td>\n",
       "      <td>Two year</td>\n",
       "      <td>No</td>\n",
       "      <td>Mailed check</td>\n",
       "      <td>20.00</td>\n",
       "      <td>NaN</td>\n",
       "      <td>0</td>\n",
       "      <td>0</td>\n",
       "    </tr>\n",
       "    <tr>\n",
       "      <th>5218</th>\n",
       "      <td>2923-ARZLG</td>\n",
       "      <td>2020-02-01</td>\n",
       "      <td>2020-02-01</td>\n",
       "      <td>One year</td>\n",
       "      <td>Yes</td>\n",
       "      <td>Mailed check</td>\n",
       "      <td>19.70</td>\n",
       "      <td>NaN</td>\n",
       "      <td>0</td>\n",
       "      <td>0</td>\n",
       "    </tr>\n",
       "    <tr>\n",
       "      <th>6670</th>\n",
       "      <td>4075-WKNIU</td>\n",
       "      <td>2020-02-01</td>\n",
       "      <td>2020-02-01</td>\n",
       "      <td>Two year</td>\n",
       "      <td>No</td>\n",
       "      <td>Mailed check</td>\n",
       "      <td>73.35</td>\n",
       "      <td>NaN</td>\n",
       "      <td>0</td>\n",
       "      <td>0</td>\n",
       "    </tr>\n",
       "    <tr>\n",
       "      <th>6754</th>\n",
       "      <td>2775-SEFEE</td>\n",
       "      <td>2020-02-01</td>\n",
       "      <td>2020-02-01</td>\n",
       "      <td>Two year</td>\n",
       "      <td>Yes</td>\n",
       "      <td>Bank transfer (automatic)</td>\n",
       "      <td>61.90</td>\n",
       "      <td>NaN</td>\n",
       "      <td>0</td>\n",
       "      <td>0</td>\n",
       "    </tr>\n",
       "  </tbody>\n",
       "</table>\n",
       "</div>"
      ],
      "text/plain": [
       "      CustomerID  BeginDate    EndDate      Type PaperlessBilling  \\\n",
       "488   4472-LVYGI 2020-02-01 2020-02-01  Two year              Yes   \n",
       "753   3115-CZMZD 2020-02-01 2020-02-01  Two year               No   \n",
       "936   5709-LVOEQ 2020-02-01 2020-02-01  Two year               No   \n",
       "1082  4367-NUYAO 2020-02-01 2020-02-01  Two year               No   \n",
       "1340  1371-DWPAZ 2020-02-01 2020-02-01  Two year               No   \n",
       "3331  7644-OMVMY 2020-02-01 2020-02-01  Two year               No   \n",
       "3826  3213-VVOLG 2020-02-01 2020-02-01  Two year               No   \n",
       "4380  2520-SGTTA 2020-02-01 2020-02-01  Two year               No   \n",
       "5218  2923-ARZLG 2020-02-01 2020-02-01  One year              Yes   \n",
       "6670  4075-WKNIU 2020-02-01 2020-02-01  Two year               No   \n",
       "6754  2775-SEFEE 2020-02-01 2020-02-01  Two year              Yes   \n",
       "\n",
       "                  PaymentMethod  MonthlyCharges  TotalCharges  CO  AllDays  \n",
       "488   Bank transfer (automatic)           52.55           NaN   0        0  \n",
       "753                Mailed check           20.25           NaN   0        0  \n",
       "936                Mailed check           80.85           NaN   0        0  \n",
       "1082               Mailed check           25.75           NaN   0        0  \n",
       "1340    Credit card (automatic)           56.05           NaN   0        0  \n",
       "3331               Mailed check           19.85           NaN   0        0  \n",
       "3826               Mailed check           25.35           NaN   0        0  \n",
       "4380               Mailed check           20.00           NaN   0        0  \n",
       "5218               Mailed check           19.70           NaN   0        0  \n",
       "6670               Mailed check           73.35           NaN   0        0  \n",
       "6754  Bank transfer (automatic)           61.90           NaN   0        0  "
      ]
     },
     "execution_count": 18,
     "metadata": {},
     "output_type": "execute_result"
    }
   ],
   "source": [
    "df_contract[df_contract['TotalCharges'].isnull()]"
   ]
  },
  {
   "cell_type": "markdown",
   "id": "ec335937",
   "metadata": {},
   "source": [
    "При изучении пропусков видно, что это абоненты, которые подключены в этот день. Можно пропуски заменить на 0."
   ]
  },
  {
   "cell_type": "code",
   "execution_count": 19,
   "id": "12e36cbd",
   "metadata": {},
   "outputs": [
    {
     "data": {
      "text/plain": [
       "0"
      ]
     },
     "execution_count": 19,
     "metadata": {},
     "output_type": "execute_result"
    }
   ],
   "source": [
    "df_contract['TotalCharges'] = df_contract['TotalCharges'].fillna(0)\n",
    "df_contract['TotalCharges'].isnull().sum()"
   ]
  },
  {
   "cell_type": "code",
   "execution_count": 20,
   "id": "9be9ff8b",
   "metadata": {},
   "outputs": [],
   "source": [
    "total_df = df_contract \\\n",
    "    .merge(df_personal, how='left', on='CustomerID') \\\n",
    "    .merge(df_internet, how='left', on='CustomerID') \\\n",
    "    .merge(df_phone, how='left', on='CustomerID')"
   ]
  },
  {
   "cell_type": "markdown",
   "id": "f5a65805",
   "metadata": {},
   "source": [
    "Обьединим датафреймы в один"
   ]
  },
  {
   "cell_type": "code",
   "execution_count": 21,
   "id": "e9375c8f",
   "metadata": {},
   "outputs": [
    {
     "data": {
      "text/plain": [
       "True"
      ]
     },
     "execution_count": 21,
     "metadata": {},
     "output_type": "execute_result"
    }
   ],
   "source": [
    "total_df['CustomerID'].is_unique\n"
   ]
  },
  {
   "cell_type": "code",
   "execution_count": 22,
   "id": "08cf0736",
   "metadata": {},
   "outputs": [],
   "source": [
    "total_df = total_df.set_index('CustomerID')"
   ]
  },
  {
   "cell_type": "markdown",
   "id": "dff52a65",
   "metadata": {},
   "source": [
    "Сделали CustomerID в качестве индекса"
   ]
  },
  {
   "cell_type": "code",
   "execution_count": 23,
   "id": "34813077",
   "metadata": {},
   "outputs": [
    {
     "name": "stdout",
     "output_type": "stream",
     "text": [
      "Количество стобцов: 21\n",
      "Количество строк: 7043\n"
     ]
    },
    {
     "data": {
      "text/html": [
       "<div>\n",
       "<style scoped>\n",
       "    .dataframe tbody tr th:only-of-type {\n",
       "        vertical-align: middle;\n",
       "    }\n",
       "\n",
       "    .dataframe tbody tr th {\n",
       "        vertical-align: top;\n",
       "    }\n",
       "\n",
       "    .dataframe thead th {\n",
       "        text-align: right;\n",
       "    }\n",
       "</style>\n",
       "<table border=\"1\" class=\"dataframe\">\n",
       "  <thead>\n",
       "    <tr style=\"text-align: right;\">\n",
       "      <th></th>\n",
       "      <th>BeginDate</th>\n",
       "      <th>EndDate</th>\n",
       "      <th>Type</th>\n",
       "      <th>PaperlessBilling</th>\n",
       "      <th>PaymentMethod</th>\n",
       "      <th>MonthlyCharges</th>\n",
       "      <th>TotalCharges</th>\n",
       "      <th>CO</th>\n",
       "      <th>AllDays</th>\n",
       "      <th>Gender</th>\n",
       "      <th>...</th>\n",
       "      <th>Partner</th>\n",
       "      <th>Dependents</th>\n",
       "      <th>InternetService</th>\n",
       "      <th>OnlineSecurity</th>\n",
       "      <th>OnlineBackup</th>\n",
       "      <th>DeviceProtection</th>\n",
       "      <th>TechSupport</th>\n",
       "      <th>StreamingTV</th>\n",
       "      <th>StreamingMovies</th>\n",
       "      <th>MultipleLines</th>\n",
       "    </tr>\n",
       "    <tr>\n",
       "      <th>CustomerID</th>\n",
       "      <th></th>\n",
       "      <th></th>\n",
       "      <th></th>\n",
       "      <th></th>\n",
       "      <th></th>\n",
       "      <th></th>\n",
       "      <th></th>\n",
       "      <th></th>\n",
       "      <th></th>\n",
       "      <th></th>\n",
       "      <th></th>\n",
       "      <th></th>\n",
       "      <th></th>\n",
       "      <th></th>\n",
       "      <th></th>\n",
       "      <th></th>\n",
       "      <th></th>\n",
       "      <th></th>\n",
       "      <th></th>\n",
       "      <th></th>\n",
       "      <th></th>\n",
       "    </tr>\n",
       "  </thead>\n",
       "  <tbody>\n",
       "    <tr>\n",
       "      <th>7590-VHVEG</th>\n",
       "      <td>2020-01-01</td>\n",
       "      <td>2020-02-01</td>\n",
       "      <td>Month-to-month</td>\n",
       "      <td>Yes</td>\n",
       "      <td>Electronic check</td>\n",
       "      <td>29.85</td>\n",
       "      <td>31.04</td>\n",
       "      <td>0</td>\n",
       "      <td>31</td>\n",
       "      <td>Female</td>\n",
       "      <td>...</td>\n",
       "      <td>Yes</td>\n",
       "      <td>No</td>\n",
       "      <td>DSL</td>\n",
       "      <td>No</td>\n",
       "      <td>Yes</td>\n",
       "      <td>No</td>\n",
       "      <td>No</td>\n",
       "      <td>No</td>\n",
       "      <td>No</td>\n",
       "      <td>NaN</td>\n",
       "    </tr>\n",
       "    <tr>\n",
       "      <th>5575-GNVDE</th>\n",
       "      <td>2017-04-01</td>\n",
       "      <td>2020-02-01</td>\n",
       "      <td>One year</td>\n",
       "      <td>No</td>\n",
       "      <td>Mailed check</td>\n",
       "      <td>56.95</td>\n",
       "      <td>2071.84</td>\n",
       "      <td>0</td>\n",
       "      <td>1036</td>\n",
       "      <td>Male</td>\n",
       "      <td>...</td>\n",
       "      <td>No</td>\n",
       "      <td>No</td>\n",
       "      <td>DSL</td>\n",
       "      <td>Yes</td>\n",
       "      <td>No</td>\n",
       "      <td>Yes</td>\n",
       "      <td>No</td>\n",
       "      <td>No</td>\n",
       "      <td>No</td>\n",
       "      <td>No</td>\n",
       "    </tr>\n",
       "    <tr>\n",
       "      <th>3668-QPYBK</th>\n",
       "      <td>2019-10-01</td>\n",
       "      <td>2020-02-01</td>\n",
       "      <td>Month-to-month</td>\n",
       "      <td>Yes</td>\n",
       "      <td>Mailed check</td>\n",
       "      <td>53.85</td>\n",
       "      <td>226.17</td>\n",
       "      <td>0</td>\n",
       "      <td>123</td>\n",
       "      <td>Male</td>\n",
       "      <td>...</td>\n",
       "      <td>No</td>\n",
       "      <td>No</td>\n",
       "      <td>DSL</td>\n",
       "      <td>Yes</td>\n",
       "      <td>Yes</td>\n",
       "      <td>No</td>\n",
       "      <td>No</td>\n",
       "      <td>No</td>\n",
       "      <td>No</td>\n",
       "      <td>No</td>\n",
       "    </tr>\n",
       "    <tr>\n",
       "      <th>7795-CFOCW</th>\n",
       "      <td>2016-05-01</td>\n",
       "      <td>2020-02-01</td>\n",
       "      <td>One year</td>\n",
       "      <td>No</td>\n",
       "      <td>Bank transfer (automatic)</td>\n",
       "      <td>42.30</td>\n",
       "      <td>1960.60</td>\n",
       "      <td>0</td>\n",
       "      <td>1371</td>\n",
       "      <td>Male</td>\n",
       "      <td>...</td>\n",
       "      <td>No</td>\n",
       "      <td>No</td>\n",
       "      <td>DSL</td>\n",
       "      <td>Yes</td>\n",
       "      <td>No</td>\n",
       "      <td>Yes</td>\n",
       "      <td>Yes</td>\n",
       "      <td>No</td>\n",
       "      <td>No</td>\n",
       "      <td>NaN</td>\n",
       "    </tr>\n",
       "    <tr>\n",
       "      <th>9237-HQITU</th>\n",
       "      <td>2019-09-01</td>\n",
       "      <td>2020-02-01</td>\n",
       "      <td>Month-to-month</td>\n",
       "      <td>Yes</td>\n",
       "      <td>Electronic check</td>\n",
       "      <td>70.70</td>\n",
       "      <td>353.50</td>\n",
       "      <td>0</td>\n",
       "      <td>153</td>\n",
       "      <td>Female</td>\n",
       "      <td>...</td>\n",
       "      <td>No</td>\n",
       "      <td>No</td>\n",
       "      <td>Fiber optic</td>\n",
       "      <td>No</td>\n",
       "      <td>No</td>\n",
       "      <td>No</td>\n",
       "      <td>No</td>\n",
       "      <td>No</td>\n",
       "      <td>No</td>\n",
       "      <td>No</td>\n",
       "    </tr>\n",
       "  </tbody>\n",
       "</table>\n",
       "<p>5 rows × 21 columns</p>\n",
       "</div>"
      ],
      "text/plain": [
       "            BeginDate    EndDate            Type PaperlessBilling  \\\n",
       "CustomerID                                                          \n",
       "7590-VHVEG 2020-01-01 2020-02-01  Month-to-month              Yes   \n",
       "5575-GNVDE 2017-04-01 2020-02-01        One year               No   \n",
       "3668-QPYBK 2019-10-01 2020-02-01  Month-to-month              Yes   \n",
       "7795-CFOCW 2016-05-01 2020-02-01        One year               No   \n",
       "9237-HQITU 2019-09-01 2020-02-01  Month-to-month              Yes   \n",
       "\n",
       "                        PaymentMethod  MonthlyCharges  TotalCharges  CO  \\\n",
       "CustomerID                                                                \n",
       "7590-VHVEG           Electronic check           29.85         31.04   0   \n",
       "5575-GNVDE               Mailed check           56.95       2071.84   0   \n",
       "3668-QPYBK               Mailed check           53.85        226.17   0   \n",
       "7795-CFOCW  Bank transfer (automatic)           42.30       1960.60   0   \n",
       "9237-HQITU           Electronic check           70.70        353.50   0   \n",
       "\n",
       "            AllDays  Gender  ...  Partner Dependents InternetService  \\\n",
       "CustomerID                   ...                                       \n",
       "7590-VHVEG       31  Female  ...      Yes         No             DSL   \n",
       "5575-GNVDE     1036    Male  ...       No         No             DSL   \n",
       "3668-QPYBK      123    Male  ...       No         No             DSL   \n",
       "7795-CFOCW     1371    Male  ...       No         No             DSL   \n",
       "9237-HQITU      153  Female  ...       No         No     Fiber optic   \n",
       "\n",
       "           OnlineSecurity OnlineBackup DeviceProtection TechSupport  \\\n",
       "CustomerID                                                            \n",
       "7590-VHVEG             No          Yes               No          No   \n",
       "5575-GNVDE            Yes           No              Yes          No   \n",
       "3668-QPYBK            Yes          Yes               No          No   \n",
       "7795-CFOCW            Yes           No              Yes         Yes   \n",
       "9237-HQITU             No           No               No          No   \n",
       "\n",
       "           StreamingTV StreamingMovies MultipleLines  \n",
       "CustomerID                                            \n",
       "7590-VHVEG          No              No           NaN  \n",
       "5575-GNVDE          No              No            No  \n",
       "3668-QPYBK          No              No            No  \n",
       "7795-CFOCW          No              No           NaN  \n",
       "9237-HQITU          No              No            No  \n",
       "\n",
       "[5 rows x 21 columns]"
      ]
     },
     "metadata": {},
     "output_type": "display_data"
    },
    {
     "data": {
      "text/html": [
       "<div>\n",
       "<style scoped>\n",
       "    .dataframe tbody tr th:only-of-type {\n",
       "        vertical-align: middle;\n",
       "    }\n",
       "\n",
       "    .dataframe tbody tr th {\n",
       "        vertical-align: top;\n",
       "    }\n",
       "\n",
       "    .dataframe thead th {\n",
       "        text-align: right;\n",
       "    }\n",
       "</style>\n",
       "<table border=\"1\" class=\"dataframe\">\n",
       "  <thead>\n",
       "    <tr style=\"text-align: right;\">\n",
       "      <th></th>\n",
       "      <th>MonthlyCharges</th>\n",
       "      <th>TotalCharges</th>\n",
       "      <th>CO</th>\n",
       "      <th>AllDays</th>\n",
       "      <th>SeniorCitizen</th>\n",
       "    </tr>\n",
       "  </thead>\n",
       "  <tbody>\n",
       "    <tr>\n",
       "      <th>count</th>\n",
       "      <td>7043.000000</td>\n",
       "      <td>7043.000000</td>\n",
       "      <td>7043.000000</td>\n",
       "      <td>7043.000000</td>\n",
       "      <td>7043.000000</td>\n",
       "    </tr>\n",
       "    <tr>\n",
       "      <th>mean</th>\n",
       "      <td>64.761692</td>\n",
       "      <td>2115.312885</td>\n",
       "      <td>0.156325</td>\n",
       "      <td>898.555729</td>\n",
       "      <td>0.162147</td>\n",
       "    </tr>\n",
       "    <tr>\n",
       "      <th>std</th>\n",
       "      <td>30.090047</td>\n",
       "      <td>2112.742814</td>\n",
       "      <td>0.363189</td>\n",
       "      <td>683.130510</td>\n",
       "      <td>0.368612</td>\n",
       "    </tr>\n",
       "    <tr>\n",
       "      <th>min</th>\n",
       "      <td>18.250000</td>\n",
       "      <td>0.000000</td>\n",
       "      <td>0.000000</td>\n",
       "      <td>0.000000</td>\n",
       "      <td>0.000000</td>\n",
       "    </tr>\n",
       "    <tr>\n",
       "      <th>25%</th>\n",
       "      <td>35.500000</td>\n",
       "      <td>436.750000</td>\n",
       "      <td>0.000000</td>\n",
       "      <td>276.000000</td>\n",
       "      <td>0.000000</td>\n",
       "    </tr>\n",
       "    <tr>\n",
       "      <th>50%</th>\n",
       "      <td>70.350000</td>\n",
       "      <td>1343.350000</td>\n",
       "      <td>0.000000</td>\n",
       "      <td>761.000000</td>\n",
       "      <td>0.000000</td>\n",
       "    </tr>\n",
       "    <tr>\n",
       "      <th>75%</th>\n",
       "      <td>89.850000</td>\n",
       "      <td>3236.690000</td>\n",
       "      <td>0.000000</td>\n",
       "      <td>1461.000000</td>\n",
       "      <td>0.000000</td>\n",
       "    </tr>\n",
       "    <tr>\n",
       "      <th>max</th>\n",
       "      <td>118.750000</td>\n",
       "      <td>9221.380000</td>\n",
       "      <td>1.000000</td>\n",
       "      <td>2314.000000</td>\n",
       "      <td>1.000000</td>\n",
       "    </tr>\n",
       "  </tbody>\n",
       "</table>\n",
       "</div>"
      ],
      "text/plain": [
       "       MonthlyCharges  TotalCharges           CO      AllDays  SeniorCitizen\n",
       "count     7043.000000   7043.000000  7043.000000  7043.000000    7043.000000\n",
       "mean        64.761692   2115.312885     0.156325   898.555729       0.162147\n",
       "std         30.090047   2112.742814     0.363189   683.130510       0.368612\n",
       "min         18.250000      0.000000     0.000000     0.000000       0.000000\n",
       "25%         35.500000    436.750000     0.000000   276.000000       0.000000\n",
       "50%         70.350000   1343.350000     0.000000   761.000000       0.000000\n",
       "75%         89.850000   3236.690000     0.000000  1461.000000       0.000000\n",
       "max        118.750000   9221.380000     1.000000  2314.000000       1.000000"
      ]
     },
     "metadata": {},
     "output_type": "display_data"
    },
    {
     "name": "stdout",
     "output_type": "stream",
     "text": [
      "<class 'pandas.core.frame.DataFrame'>\n",
      "Index: 7043 entries, 7590-VHVEG to 3186-AJIEK\n",
      "Data columns (total 21 columns):\n",
      " #   Column            Non-Null Count  Dtype         \n",
      "---  ------            --------------  -----         \n",
      " 0   BeginDate         7043 non-null   datetime64[ns]\n",
      " 1   EndDate           7043 non-null   datetime64[ns]\n",
      " 2   Type              7043 non-null   object        \n",
      " 3   PaperlessBilling  7043 non-null   object        \n",
      " 4   PaymentMethod     7043 non-null   object        \n",
      " 5   MonthlyCharges    7043 non-null   float64       \n",
      " 6   TotalCharges      7043 non-null   float64       \n",
      " 7   CO                7043 non-null   int64         \n",
      " 8   AllDays           7043 non-null   int64         \n",
      " 9   Gender            7043 non-null   object        \n",
      " 10  SeniorCitizen     7043 non-null   int64         \n",
      " 11  Partner           7043 non-null   object        \n",
      " 12  Dependents        7043 non-null   object        \n",
      " 13  InternetService   5517 non-null   object        \n",
      " 14  OnlineSecurity    5517 non-null   object        \n",
      " 15  OnlineBackup      5517 non-null   object        \n",
      " 16  DeviceProtection  5517 non-null   object        \n",
      " 17  TechSupport       5517 non-null   object        \n",
      " 18  StreamingTV       5517 non-null   object        \n",
      " 19  StreamingMovies   5517 non-null   object        \n",
      " 20  MultipleLines     6361 non-null   object        \n",
      "dtypes: datetime64[ns](2), float64(2), int64(3), object(14)\n",
      "memory usage: 1.2+ MB\n"
     ]
    }
   ],
   "source": [
    "analyze_data(total_df)"
   ]
  },
  {
   "cell_type": "markdown",
   "id": "3905ca9d",
   "metadata": {},
   "source": [
    "Видим пропуски в InternetService, OnlineSecurity, OnlineBackup, DeviceProtection, TechSupport, StreamingTV, StreamingMovies и MultipleLines. Они скорее всего означают, что абонент не подключил услуги. Можно заменить пропуски на \"No\"."
   ]
  },
  {
   "cell_type": "code",
   "execution_count": 24,
   "id": "2b4b66e1",
   "metadata": {},
   "outputs": [],
   "source": [
    "for column in ('InternetService', 'OnlineSecurity', 'OnlineBackup', 'DeviceProtection', 'TechSupport', 'StreamingTV', 'StreamingMovies', 'MultipleLines'):\n",
    "    total_df[column] = total_df[column].fillna('No')"
   ]
  },
  {
   "cell_type": "code",
   "execution_count": 25,
   "id": "db768434",
   "metadata": {},
   "outputs": [
    {
     "name": "stdout",
     "output_type": "stream",
     "text": [
      "<class 'pandas.core.frame.DataFrame'>\n",
      "Index: 7043 entries, 7590-VHVEG to 3186-AJIEK\n",
      "Data columns (total 21 columns):\n",
      " #   Column            Non-Null Count  Dtype         \n",
      "---  ------            --------------  -----         \n",
      " 0   BeginDate         7043 non-null   datetime64[ns]\n",
      " 1   EndDate           7043 non-null   datetime64[ns]\n",
      " 2   Type              7043 non-null   object        \n",
      " 3   PaperlessBilling  7043 non-null   object        \n",
      " 4   PaymentMethod     7043 non-null   object        \n",
      " 5   MonthlyCharges    7043 non-null   float64       \n",
      " 6   TotalCharges      7043 non-null   float64       \n",
      " 7   CO                7043 non-null   int64         \n",
      " 8   AllDays           7043 non-null   int64         \n",
      " 9   Gender            7043 non-null   object        \n",
      " 10  SeniorCitizen     7043 non-null   int64         \n",
      " 11  Partner           7043 non-null   object        \n",
      " 12  Dependents        7043 non-null   object        \n",
      " 13  InternetService   7043 non-null   object        \n",
      " 14  OnlineSecurity    7043 non-null   object        \n",
      " 15  OnlineBackup      7043 non-null   object        \n",
      " 16  DeviceProtection  7043 non-null   object        \n",
      " 17  TechSupport       7043 non-null   object        \n",
      " 18  StreamingTV       7043 non-null   object        \n",
      " 19  StreamingMovies   7043 non-null   object        \n",
      " 20  MultipleLines     7043 non-null   object        \n",
      "dtypes: datetime64[ns](2), float64(2), int64(3), object(14)\n",
      "memory usage: 1.2+ MB\n"
     ]
    }
   ],
   "source": [
    "total_df.info()"
   ]
  },
  {
   "cell_type": "markdown",
   "id": "6657eb31",
   "metadata": {},
   "source": [
    "Стало лучше"
   ]
  },
  {
   "cell_type": "code",
   "execution_count": 26,
   "id": "ba31a3c8",
   "metadata": {},
   "outputs": [],
   "source": [
    "total_df['SeniorCitizen'] = total_df['SeniorCitizen'].astype('object')"
   ]
  },
  {
   "cell_type": "code",
   "execution_count": 27,
   "id": "455de713",
   "metadata": {},
   "outputs": [
    {
     "name": "stdout",
     "output_type": "stream",
     "text": [
      "<class 'pandas.core.frame.DataFrame'>\n",
      "Index: 7043 entries, 7590-VHVEG to 3186-AJIEK\n",
      "Data columns (total 21 columns):\n",
      " #   Column            Non-Null Count  Dtype         \n",
      "---  ------            --------------  -----         \n",
      " 0   BeginDate         7043 non-null   datetime64[ns]\n",
      " 1   EndDate           7043 non-null   datetime64[ns]\n",
      " 2   Type              7043 non-null   object        \n",
      " 3   PaperlessBilling  7043 non-null   object        \n",
      " 4   PaymentMethod     7043 non-null   object        \n",
      " 5   MonthlyCharges    7043 non-null   float64       \n",
      " 6   TotalCharges      7043 non-null   float64       \n",
      " 7   CO                7043 non-null   int64         \n",
      " 8   AllDays           7043 non-null   int64         \n",
      " 9   Gender            7043 non-null   object        \n",
      " 10  SeniorCitizen     7043 non-null   object        \n",
      " 11  Partner           7043 non-null   object        \n",
      " 12  Dependents        7043 non-null   object        \n",
      " 13  InternetService   7043 non-null   object        \n",
      " 14  OnlineSecurity    7043 non-null   object        \n",
      " 15  OnlineBackup      7043 non-null   object        \n",
      " 16  DeviceProtection  7043 non-null   object        \n",
      " 17  TechSupport       7043 non-null   object        \n",
      " 18  StreamingTV       7043 non-null   object        \n",
      " 19  StreamingMovies   7043 non-null   object        \n",
      " 20  MultipleLines     7043 non-null   object        \n",
      "dtypes: datetime64[ns](2), float64(2), int64(2), object(15)\n",
      "memory usage: 1.2+ MB\n"
     ]
    }
   ],
   "source": [
    "total_df.info()"
   ]
  },
  {
   "cell_type": "markdown",
   "id": "6cd422bd",
   "metadata": {},
   "source": [
    "<h1>Анализ данных</h1>"
   ]
  },
  {
   "cell_type": "code",
   "execution_count": 28,
   "id": "25b8b22e",
   "metadata": {},
   "outputs": [],
   "source": [
    "categorial_columns = [\n",
    "    'Type',\n",
    "    'PaperlessBilling',\n",
    "    'PaymentMethod',\n",
    "    'Gender',\n",
    "    'SeniorCitizen',\n",
    "    'Partner',\n",
    "    'Dependents',\n",
    "    'InternetService', \n",
    "    'OnlineSecurity', \n",
    "    'OnlineBackup', \n",
    "    'DeviceProtection', \n",
    "    'TechSupport', \n",
    "    'StreamingTV', \n",
    "    'StreamingMovies', \n",
    "    'MultipleLines',\n",
    "]"
   ]
  },
  {
   "cell_type": "code",
   "execution_count": 29,
   "id": "9f9da922",
   "metadata": {
    "scrolled": true
   },
   "outputs": [
    {
     "data": {
      "image/png": "[encoded data removed]",
      "text/plain": [
       "<Figure size 1440x2520 with 15 Axes>"
      ]
     },
     "metadata": {
      "needs_background": "light"
     },
     "output_type": "display_data"
    }
   ],
   "source": [
    "cols = 2\n",
    "rows = int(np.ceil(len(categorial_columns) / cols))\n",
    "\n",
    "plt.figure(figsize=(20, 35))\n",
    "\n",
    "for idx, column in enumerate(categorial_columns):\n",
    "    ax = plt.subplot(rows, cols, idx + 1)\n",
    "    \n",
    "    total_df[column].value_counts().plot(\n",
    "        kind='bar', \n",
    "        title=column, \n",
    "        ax=ax,\n",
    "        rot=0,\n",
    "    )\n",
    "        \n",
    "plt.show()"
   ]
  },
  {
   "cell_type": "markdown",
   "id": "1a4b8e8c",
   "metadata": {},
   "source": [
    "Посмотрели распределение значений для категориальных данных"
   ]
  },
  {
   "cell_type": "markdown",
   "id": "c425bc76",
   "metadata": {},
   "source": [
    "<b>Выводы:</b>\n",
    "\n",
    "- Самый популярный способ оплаты - помесячный\n",
    "- Люди чаще предпочитают получать счета в электронном виде и оплачивать их при помощи электронного чека\n",
    "- Среди абонентов равное количество мужчин и женщин\n",
    "- Пенсионеров немного\n",
    "- Холстых\\в браке примерно равное количество\n",
    "- Иждевенцев у абонентов немного\n",
    "- Самый частый способ подключения - оптоволокно\n",
    "- Дополнительные услуги OnlineSecurity, OnlineBackup, DeviceProtection, TechSupport, StreamingTV, StreamingMovies, MultipleLines не пользуются популярностью у пользователей"
   ]
  },
  {
   "cell_type": "code",
   "execution_count": 30,
   "id": "dc806f2a",
   "metadata": {},
   "outputs": [],
   "source": [
    "numeric_columns = ['MonthlyCharges', 'TotalCharges', 'AllDays']"
   ]
  },
  {
   "cell_type": "code",
   "execution_count": 31,
   "id": "71347b0b",
   "metadata": {},
   "outputs": [],
   "source": [
    "def plot_numerical(df):\n",
    "    cols = 3\n",
    "    rows = 2\n",
    "\n",
    "    plt.figure(figsize=(15, 10))\n",
    "\n",
    "    idx = 0\n",
    "    for column in numeric_columns:\n",
    "        idx += 1 \n",
    "    \n",
    "        plt.subplot(rows, cols, idx)\n",
    "        plt.hist(df[column])\n",
    "        plt.title(column)\n",
    "    \n",
    "    for column in numeric_columns:\n",
    "        idx += 1 \n",
    "    \n",
    "        plt.subplot(rows, cols, idx)\n",
    "        plt.boxplot(df[column])\n",
    "        plt.title(column)\n",
    "        \n",
    "    plt.show()\n"
   ]
  },
  {
   "cell_type": "code",
   "execution_count": 32,
   "id": "d91cfeb5",
   "metadata": {},
   "outputs": [
    {
     "data": {
      "image/png": "[encoded data removed]",
      "text/plain": [
       "<Figure size 1080x720 with 6 Axes>"
      ]
     },
     "metadata": {
      "needs_background": "light"
     },
     "output_type": "display_data"
    }
   ],
   "source": [
    "plot_numerical(total_df)"
   ]
  },
  {
   "cell_type": "markdown",
   "id": "bf43decb",
   "metadata": {},
   "source": [
    "Выводы:\n",
    "\n",
    "- Значения в столбце TotalCharges убывают, в то же время в столбце MonthlyCharges виден пик в райне 85 - это значит, что пользователи, которые платят за тариф много на долго не остаются\n",
    "- Также у MonthlyCharges виден пик в районе 20, что является минимальным значением\n",
    "- В столбце TotalDays видно 2 пика - в районе новых клиентов и лояльных, которые долго пользуются услугами\n",
    "- Видны небольшие выбросы в потраченых деньгах на услуги. Скорее всего это люди, которые приобретают максимальные пакеты услуг."
   ]
  },
  {
   "cell_type": "code",
   "execution_count": 33,
   "id": "700dcc63",
   "metadata": {},
   "outputs": [
    {
     "data": {
      "image/png": "[encoded data removed]",
      "text/plain": [
       "<Figure size 1440x2160 with 15 Axes>"
      ]
     },
     "metadata": {
      "needs_background": "light"
     },
     "output_type": "display_data"
    }
   ],
   "source": [
    "cols = 2\n",
    "rows = int(np.ceil(len(categorial_columns) / cols))\n",
    "\n",
    "plt.figure(figsize=(20, 30))\n",
    "\n",
    "for idx, column in enumerate(categorial_columns):\n",
    "    CO_grouped_df = total_df.groupby([column, 'CO'])['CO'].count()\n",
    "    CO_grouped_df = CO_grouped_df.unstack()\n",
    "    \n",
    "    ax = plt.subplot(rows, cols, idx + 1)\n",
    "\n",
    "    ax.bar(CO_grouped_df.T.index, CO_grouped_df.T[CO_grouped_df.T.columns[0]], label=CO_grouped_df.T.columns[0])\n",
    "    bottom = np.array(CO_grouped_df.T[CO_grouped_df.T.columns[0]])\n",
    "    for color_idx, value in enumerate(CO_grouped_df.T.columns[1:]): \n",
    "        ax.bar(CO_grouped_df.T.index, CO_grouped_df.T[value], bottom=bottom, label=value)\n",
    "        bottom += np.array(CO_grouped_df.T[value])\n",
    "    plt.title(column)\n",
    "    plt.legend()\n",
    "        \n",
    "plt.show()"
   ]
  },
  {
   "cell_type": "markdown",
   "id": "2b4b6fd6",
   "metadata": {},
   "source": [
    "Посмотрев на распределение категорильных признаков относительно целевого признака пришли к выводам, что:\n",
    "- Доля отказов среди тех, кто использует помесячную оплату выше, чем среди тех, кто сразу платит за 1/2 года\n",
    "- Дополнительные услуги слабо влияют на отказы\n",
    "- Пользователи использующие \"Electronic check\" для оплаты чаще отказываются от услуг, возможно в оплате онлайн есть какие-то неудобства\n",
    "- Пенсионеры уходят чаще, но скорее всего не из-за качества услуг\n",
    "- Если пользователь не пользуется интернетом, то вероятность отказа ниже. Скорее всего это связано с тем, что более возрастные люди не хотят разбираться в том, как сменить поставщика услуг"
   ]
  },
  {
   "cell_type": "code",
   "execution_count": 34,
   "id": "d29887ad",
   "metadata": {},
   "outputs": [
    {
     "data": {
      "image/png": "[encoded data removed]",
      "text/plain": [
       "<Figure size 1080x720 with 6 Axes>"
      ]
     },
     "metadata": {
      "needs_background": "light"
     },
     "output_type": "display_data"
    }
   ],
   "source": [
    "plot_numerical(total_df[total_df['CO'] == 1])"
   ]
  },
  {
   "cell_type": "code",
   "execution_count": 35,
   "id": "6031b462",
   "metadata": {},
   "outputs": [
    {
     "data": {
      "image/png": "[encoded data removed]",
      "text/plain": [
       "<Figure size 1080x720 with 6 Axes>"
      ]
     },
     "metadata": {
      "needs_background": "light"
     },
     "output_type": "display_data"
    }
   ],
   "source": [
    "plot_numerical(total_df[total_df['CO'] == 0])"
   ]
  },
  {
   "cell_type": "markdown",
   "id": "998a47f8",
   "metadata": {},
   "source": [
    "Посмотрев на распределение количественных признаков относительно целевого признака приходим к выводам:\n",
    "- Со временем вероятность отказа от услуг снижается\n",
    "- Обычно отказывались от услуг те, кто платил больше\n",
    "- Текущие клиенты платят немного меньше в месяц, чем те, кто отказался"
   ]
  },
  {
   "cell_type": "code",
   "execution_count": 36,
   "id": "741cbf55",
   "metadata": {},
   "outputs": [
    {
     "data": {
      "text/html": [
       "<div>\n",
       "<style scoped>\n",
       "    .dataframe tbody tr th:only-of-type {\n",
       "        vertical-align: middle;\n",
       "    }\n",
       "\n",
       "    .dataframe tbody tr th {\n",
       "        vertical-align: top;\n",
       "    }\n",
       "\n",
       "    .dataframe thead th {\n",
       "        text-align: right;\n",
       "    }\n",
       "</style>\n",
       "<table border=\"1\" class=\"dataframe\">\n",
       "  <thead>\n",
       "    <tr style=\"text-align: right;\">\n",
       "      <th></th>\n",
       "      <th>MonthlyCharges</th>\n",
       "      <th>TotalCharges</th>\n",
       "      <th>AllDays</th>\n",
       "    </tr>\n",
       "  </thead>\n",
       "  <tbody>\n",
       "    <tr>\n",
       "      <th>MonthlyCharges</th>\n",
       "      <td>1.000000</td>\n",
       "      <td>0.630440</td>\n",
       "      <td>0.220054</td>\n",
       "    </tr>\n",
       "    <tr>\n",
       "      <th>TotalCharges</th>\n",
       "      <td>0.630440</td>\n",
       "      <td>1.000000</td>\n",
       "      <td>0.821746</td>\n",
       "    </tr>\n",
       "    <tr>\n",
       "      <th>AllDays</th>\n",
       "      <td>0.220054</td>\n",
       "      <td>0.821746</td>\n",
       "      <td>1.000000</td>\n",
       "    </tr>\n",
       "  </tbody>\n",
       "</table>\n",
       "</div>"
      ],
      "text/plain": [
       "                MonthlyCharges  TotalCharges   AllDays\n",
       "MonthlyCharges        1.000000      0.630440  0.220054\n",
       "TotalCharges          0.630440      1.000000  0.821746\n",
       "AllDays               0.220054      0.821746  1.000000"
      ]
     },
     "execution_count": 36,
     "metadata": {},
     "output_type": "execute_result"
    }
   ],
   "source": [
    "total_df[numeric_columns].corr()"
   ]
  },
  {
   "cell_type": "markdown",
   "id": "eea4a945",
   "metadata": {},
   "source": [
    "У нас видна проблема мультиколлинеарности - корреляция между TotalCharges и TotalDays - 0.82, что логично - чем дольше клиент платит, тем больше итоговая сумма. Поле TotalCharges можем удалить."
   ]
  },
  {
   "cell_type": "code",
   "execution_count": 37,
   "id": "80d28e22",
   "metadata": {},
   "outputs": [],
   "source": [
    "del total_df['TotalCharges']\n",
    "numeric_columns = ['MonthlyCharges', 'AllDays']"
   ]
  },
  {
   "cell_type": "markdown",
   "id": "e2f158cd",
   "metadata": {},
   "source": [
    "<h1>Подготовка данных для обучения</h1>"
   ]
  },
  {
   "cell_type": "code",
   "execution_count": 38,
   "id": "729235fe",
   "metadata": {},
   "outputs": [],
   "source": [
    "del total_df['BeginDate'], total_df['EndDate']"
   ]
  },
  {
   "cell_type": "markdown",
   "id": "1dd56ccd",
   "metadata": {},
   "source": [
    "Удалили столбцы, они нам не нужны для обучения."
   ]
  },
  {
   "cell_type": "code",
   "execution_count": 39,
   "id": "adff394c",
   "metadata": {},
   "outputs": [],
   "source": [
    "target = total_df['CO'] \n",
    "features = total_df.drop(columns=['CO'])"
   ]
  },
  {
   "cell_type": "markdown",
   "id": "7f92fd17",
   "metadata": {},
   "source": [
    "Разделим датасет на признаки и целевой признак"
   ]
  },
  {
   "cell_type": "code",
   "execution_count": 40,
   "id": "6bb3a8c7",
   "metadata": {},
   "outputs": [],
   "source": [
    "features_train, features_test, target_train, target_test = train_test_split(features, target, test_size=0.25, random_state=RANDOM_STATE)"
   ]
  },
  {
   "cell_type": "markdown",
   "id": "211c231e",
   "metadata": {},
   "source": [
    "Разделим датасет на выборки"
   ]
  },
  {
   "cell_type": "code",
   "execution_count": 41,
   "id": "e5e911f4",
   "metadata": {},
   "outputs": [
    {
     "name": "stdout",
     "output_type": "stream",
     "text": [
      "Размер тренировочной выборки- 75%\n",
      "Размер тестовой выборки - 25%\n"
     ]
    }
   ],
   "source": [
    "tv=features_train.shape[0]/features.shape[0]\n",
    "tt=target_test.shape[0]/target.shape[0]\n",
    "\n",
    "print('Размер тренировочной выборки- {:.0%}'.format(tv))\n",
    "print('Размер тестовой выборки - {:.0%}'.format(tt))"
   ]
  },
  {
   "cell_type": "code",
   "execution_count": 43,
   "id": "9c309445",
   "metadata": {},
   "outputs": [
    {
     "name": "stdout",
     "output_type": "stream",
     "text": [
      "['Type', 'PaperlessBilling', 'PaymentMethod', 'Gender', 'SeniorCitizen', 'Partner', 'Dependents', 'InternetService', 'OnlineSecurity', 'OnlineBackup', 'DeviceProtection', 'TechSupport', 'StreamingTV', 'StreamingMovies', 'MultipleLines']\n"
     ]
    }
   ],
   "source": [
    "\n",
    "ohe_features_ridge = features_train.select_dtypes(include='object').columns.to_list()\n",
    "print(ohe_features_ridge)\n",
    "\n",
    "\n"
   ]
  },
  {
   "cell_type": "code",
   "execution_count": 44,
   "id": "dd78cdb0",
   "metadata": {},
   "outputs": [
    {
     "data": {
      "text/plain": [
       "['MonthlyCharges', 'AllDays']"
      ]
     },
     "execution_count": 44,
     "metadata": {},
     "output_type": "execute_result"
    }
   ],
   "source": [
    "num_features = features_train.select_dtypes(exclude='object').columns.to_list()\n",
    "num_features"
   ]
  },
  {
   "cell_type": "code",
   "execution_count": 45,
   "id": "fe62a3ab",
   "metadata": {},
   "outputs": [],
   "source": [
    "X_train_ridge = features_train.copy()\n",
    "X_test_ridge = features_test.copy()"
   ]
  },
  {
   "cell_type": "code",
   "execution_count": 46,
   "id": "1c868170",
   "metadata": {},
   "outputs": [
    {
     "data": {
      "text/html": [
       "<div>\n",
       "<style scoped>\n",
       "    .dataframe tbody tr th:only-of-type {\n",
       "        vertical-align: middle;\n",
       "    }\n",
       "\n",
       "    .dataframe tbody tr th {\n",
       "        vertical-align: top;\n",
       "    }\n",
       "\n",
       "    .dataframe thead th {\n",
       "        text-align: right;\n",
       "    }\n",
       "</style>\n",
       "<table border=\"1\" class=\"dataframe\">\n",
       "  <thead>\n",
       "    <tr style=\"text-align: right;\">\n",
       "      <th></th>\n",
       "      <th>MonthlyCharges</th>\n",
       "      <th>AllDays</th>\n",
       "      <th>Type_One year</th>\n",
       "      <th>Type_Two year</th>\n",
       "      <th>PaperlessBilling_Yes</th>\n",
       "      <th>PaymentMethod_Credit card (automatic)</th>\n",
       "      <th>PaymentMethod_Electronic check</th>\n",
       "      <th>PaymentMethod_Mailed check</th>\n",
       "      <th>Gender_Male</th>\n",
       "      <th>SeniorCitizen_1</th>\n",
       "      <th>...</th>\n",
       "      <th>Dependents_Yes</th>\n",
       "      <th>InternetService_Fiber optic</th>\n",
       "      <th>InternetService_No</th>\n",
       "      <th>OnlineSecurity_Yes</th>\n",
       "      <th>OnlineBackup_Yes</th>\n",
       "      <th>DeviceProtection_Yes</th>\n",
       "      <th>TechSupport_Yes</th>\n",
       "      <th>StreamingTV_Yes</th>\n",
       "      <th>StreamingMovies_Yes</th>\n",
       "      <th>MultipleLines_Yes</th>\n",
       "    </tr>\n",
       "    <tr>\n",
       "      <th>CustomerID</th>\n",
       "      <th></th>\n",
       "      <th></th>\n",
       "      <th></th>\n",
       "      <th></th>\n",
       "      <th></th>\n",
       "      <th></th>\n",
       "      <th></th>\n",
       "      <th></th>\n",
       "      <th></th>\n",
       "      <th></th>\n",
       "      <th></th>\n",
       "      <th></th>\n",
       "      <th></th>\n",
       "      <th></th>\n",
       "      <th></th>\n",
       "      <th></th>\n",
       "      <th></th>\n",
       "      <th></th>\n",
       "      <th></th>\n",
       "      <th></th>\n",
       "      <th></th>\n",
       "    </tr>\n",
       "  </thead>\n",
       "  <tbody>\n",
       "    <tr>\n",
       "      <th>6311-UEUME</th>\n",
       "      <td>0.479471</td>\n",
       "      <td>0.076298</td>\n",
       "      <td>0.0</td>\n",
       "      <td>0.0</td>\n",
       "      <td>1.0</td>\n",
       "      <td>0.0</td>\n",
       "      <td>1.0</td>\n",
       "      <td>0.0</td>\n",
       "      <td>0.0</td>\n",
       "      <td>0.0</td>\n",
       "      <td>...</td>\n",
       "      <td>0.0</td>\n",
       "      <td>1.0</td>\n",
       "      <td>0.0</td>\n",
       "      <td>0.0</td>\n",
       "      <td>0.0</td>\n",
       "      <td>0.0</td>\n",
       "      <td>0.0</td>\n",
       "      <td>1.0</td>\n",
       "      <td>0.0</td>\n",
       "      <td>0.0</td>\n",
       "    </tr>\n",
       "    <tr>\n",
       "      <th>8908-NMQTX</th>\n",
       "      <td>0.035851</td>\n",
       "      <td>-0.771384</td>\n",
       "      <td>0.0</td>\n",
       "      <td>1.0</td>\n",
       "      <td>1.0</td>\n",
       "      <td>0.0</td>\n",
       "      <td>0.0</td>\n",
       "      <td>0.0</td>\n",
       "      <td>1.0</td>\n",
       "      <td>0.0</td>\n",
       "      <td>...</td>\n",
       "      <td>0.0</td>\n",
       "      <td>0.0</td>\n",
       "      <td>0.0</td>\n",
       "      <td>1.0</td>\n",
       "      <td>1.0</td>\n",
       "      <td>1.0</td>\n",
       "      <td>1.0</td>\n",
       "      <td>1.0</td>\n",
       "      <td>1.0</td>\n",
       "      <td>0.0</td>\n",
       "    </tr>\n",
       "    <tr>\n",
       "      <th>2951-QOQTK</th>\n",
       "      <td>0.542845</td>\n",
       "      <td>-1.081226</td>\n",
       "      <td>0.0</td>\n",
       "      <td>0.0</td>\n",
       "      <td>0.0</td>\n",
       "      <td>1.0</td>\n",
       "      <td>0.0</td>\n",
       "      <td>0.0</td>\n",
       "      <td>1.0</td>\n",
       "      <td>0.0</td>\n",
       "      <td>...</td>\n",
       "      <td>1.0</td>\n",
       "      <td>1.0</td>\n",
       "      <td>0.0</td>\n",
       "      <td>0.0</td>\n",
       "      <td>0.0</td>\n",
       "      <td>0.0</td>\n",
       "      <td>1.0</td>\n",
       "      <td>0.0</td>\n",
       "      <td>0.0</td>\n",
       "      <td>1.0</td>\n",
       "    </tr>\n",
       "    <tr>\n",
       "      <th>8051-HJRLT</th>\n",
       "      <td>0.200957</td>\n",
       "      <td>-1.081226</td>\n",
       "      <td>0.0</td>\n",
       "      <td>0.0</td>\n",
       "      <td>1.0</td>\n",
       "      <td>0.0</td>\n",
       "      <td>1.0</td>\n",
       "      <td>0.0</td>\n",
       "      <td>0.0</td>\n",
       "      <td>1.0</td>\n",
       "      <td>...</td>\n",
       "      <td>0.0</td>\n",
       "      <td>1.0</td>\n",
       "      <td>0.0</td>\n",
       "      <td>0.0</td>\n",
       "      <td>0.0</td>\n",
       "      <td>0.0</td>\n",
       "      <td>0.0</td>\n",
       "      <td>0.0</td>\n",
       "      <td>0.0</td>\n",
       "      <td>0.0</td>\n",
       "    </tr>\n",
       "    <tr>\n",
       "      <th>7695-PKLCZ</th>\n",
       "      <td>-1.468454</td>\n",
       "      <td>1.721971</td>\n",
       "      <td>0.0</td>\n",
       "      <td>1.0</td>\n",
       "      <td>0.0</td>\n",
       "      <td>1.0</td>\n",
       "      <td>0.0</td>\n",
       "      <td>0.0</td>\n",
       "      <td>0.0</td>\n",
       "      <td>0.0</td>\n",
       "      <td>...</td>\n",
       "      <td>0.0</td>\n",
       "      <td>0.0</td>\n",
       "      <td>1.0</td>\n",
       "      <td>0.0</td>\n",
       "      <td>0.0</td>\n",
       "      <td>0.0</td>\n",
       "      <td>0.0</td>\n",
       "      <td>0.0</td>\n",
       "      <td>0.0</td>\n",
       "      <td>0.0</td>\n",
       "    </tr>\n",
       "  </tbody>\n",
       "</table>\n",
       "<p>5 rows × 21 columns</p>\n",
       "</div>"
      ],
      "text/plain": [
       "            MonthlyCharges   AllDays  Type_One year  Type_Two year  \\\n",
       "CustomerID                                                           \n",
       "6311-UEUME        0.479471  0.076298            0.0            0.0   \n",
       "8908-NMQTX        0.035851 -0.771384            0.0            1.0   \n",
       "2951-QOQTK        0.542845 -1.081226            0.0            0.0   \n",
       "8051-HJRLT        0.200957 -1.081226            0.0            0.0   \n",
       "7695-PKLCZ       -1.468454  1.721971            0.0            1.0   \n",
       "\n",
       "            PaperlessBilling_Yes  PaymentMethod_Credit card (automatic)  \\\n",
       "CustomerID                                                                \n",
       "6311-UEUME                   1.0                                    0.0   \n",
       "8908-NMQTX                   1.0                                    0.0   \n",
       "2951-QOQTK                   0.0                                    1.0   \n",
       "8051-HJRLT                   1.0                                    0.0   \n",
       "7695-PKLCZ                   0.0                                    1.0   \n",
       "\n",
       "            PaymentMethod_Electronic check  PaymentMethod_Mailed check  \\\n",
       "CustomerID                                                               \n",
       "6311-UEUME                             1.0                         0.0   \n",
       "8908-NMQTX                             0.0                         0.0   \n",
       "2951-QOQTK                             0.0                         0.0   \n",
       "8051-HJRLT                             1.0                         0.0   \n",
       "7695-PKLCZ                             0.0                         0.0   \n",
       "\n",
       "            Gender_Male  SeniorCitizen_1  ...  Dependents_Yes  \\\n",
       "CustomerID                                ...                   \n",
       "6311-UEUME          0.0              0.0  ...             0.0   \n",
       "8908-NMQTX          1.0              0.0  ...             0.0   \n",
       "2951-QOQTK          1.0              0.0  ...             1.0   \n",
       "8051-HJRLT          0.0              1.0  ...             0.0   \n",
       "7695-PKLCZ          0.0              0.0  ...             0.0   \n",
       "\n",
       "            InternetService_Fiber optic  InternetService_No  \\\n",
       "CustomerID                                                    \n",
       "6311-UEUME                          1.0                 0.0   \n",
       "8908-NMQTX                          0.0                 0.0   \n",
       "2951-QOQTK                          1.0                 0.0   \n",
       "8051-HJRLT                          1.0                 0.0   \n",
       "7695-PKLCZ                          0.0                 1.0   \n",
       "\n",
       "            OnlineSecurity_Yes  OnlineBackup_Yes  DeviceProtection_Yes  \\\n",
       "CustomerID                                                               \n",
       "6311-UEUME                 0.0               0.0                   0.0   \n",
       "8908-NMQTX                 1.0               1.0                   1.0   \n",
       "2951-QOQTK                 0.0               0.0                   0.0   \n",
       "8051-HJRLT                 0.0               0.0                   0.0   \n",
       "7695-PKLCZ                 0.0               0.0                   0.0   \n",
       "\n",
       "            TechSupport_Yes  StreamingTV_Yes  StreamingMovies_Yes  \\\n",
       "CustomerID                                                          \n",
       "6311-UEUME              0.0              1.0                  0.0   \n",
       "8908-NMQTX              1.0              1.0                  1.0   \n",
       "2951-QOQTK              1.0              0.0                  0.0   \n",
       "8051-HJRLT              0.0              0.0                  0.0   \n",
       "7695-PKLCZ              0.0              0.0                  0.0   \n",
       "\n",
       "            MultipleLines_Yes  \n",
       "CustomerID                     \n",
       "6311-UEUME                0.0  \n",
       "8908-NMQTX                0.0  \n",
       "2951-QOQTK                1.0  \n",
       "8051-HJRLT                0.0  \n",
       "7695-PKLCZ                0.0  \n",
       "\n",
       "[5 rows x 21 columns]"
      ]
     },
     "execution_count": 46,
     "metadata": {},
     "output_type": "execute_result"
    }
   ],
   "source": [
    "encoder_ohe = OneHotEncoder(drop='first', handle_unknown='ignore', sparse=False)\n",
    "\n",
    "encoder_ohe.fit(X_train_ridge[ohe_features_ridge])\n",
    "\n",
    "X_train_ridge[\n",
    "    encoder_ohe.get_feature_names_out()\n",
    "] = encoder_ohe.transform(X_train_ridge[ohe_features_ridge])\n",
    "\n",
    "\n",
    "X_train_ridge = X_train_ridge.drop(ohe_features_ridge, axis=1)\n",
    "\n",
    "\n",
    "scaler = StandardScaler()\n",
    "\n",
    "\n",
    "X_train_ridge[num_features] = scaler.fit_transform(X_train_ridge[num_features])\n",
    "\n",
    "\n",
    "X_train_ridge.head()"
   ]
  },
  {
   "cell_type": "code",
   "execution_count": 47,
   "id": "02684688",
   "metadata": {},
   "outputs": [
    {
     "data": {
      "text/html": [
       "<div>\n",
       "<style scoped>\n",
       "    .dataframe tbody tr th:only-of-type {\n",
       "        vertical-align: middle;\n",
       "    }\n",
       "\n",
       "    .dataframe tbody tr th {\n",
       "        vertical-align: top;\n",
       "    }\n",
       "\n",
       "    .dataframe thead th {\n",
       "        text-align: right;\n",
       "    }\n",
       "</style>\n",
       "<table border=\"1\" class=\"dataframe\">\n",
       "  <thead>\n",
       "    <tr style=\"text-align: right;\">\n",
       "      <th></th>\n",
       "      <th>MonthlyCharges</th>\n",
       "      <th>AllDays</th>\n",
       "      <th>Type_One year</th>\n",
       "      <th>Type_Two year</th>\n",
       "      <th>PaperlessBilling_Yes</th>\n",
       "      <th>PaymentMethod_Credit card (automatic)</th>\n",
       "      <th>PaymentMethod_Electronic check</th>\n",
       "      <th>PaymentMethod_Mailed check</th>\n",
       "      <th>Gender_Male</th>\n",
       "      <th>SeniorCitizen_1</th>\n",
       "      <th>...</th>\n",
       "      <th>Dependents_Yes</th>\n",
       "      <th>InternetService_Fiber optic</th>\n",
       "      <th>InternetService_No</th>\n",
       "      <th>OnlineSecurity_Yes</th>\n",
       "      <th>OnlineBackup_Yes</th>\n",
       "      <th>DeviceProtection_Yes</th>\n",
       "      <th>TechSupport_Yes</th>\n",
       "      <th>StreamingTV_Yes</th>\n",
       "      <th>StreamingMovies_Yes</th>\n",
       "      <th>MultipleLines_Yes</th>\n",
       "    </tr>\n",
       "    <tr>\n",
       "      <th>CustomerID</th>\n",
       "      <th></th>\n",
       "      <th></th>\n",
       "      <th></th>\n",
       "      <th></th>\n",
       "      <th></th>\n",
       "      <th></th>\n",
       "      <th></th>\n",
       "      <th></th>\n",
       "      <th></th>\n",
       "      <th></th>\n",
       "      <th></th>\n",
       "      <th></th>\n",
       "      <th></th>\n",
       "      <th></th>\n",
       "      <th></th>\n",
       "      <th></th>\n",
       "      <th></th>\n",
       "      <th></th>\n",
       "      <th></th>\n",
       "      <th></th>\n",
       "      <th></th>\n",
       "    </tr>\n",
       "  </thead>\n",
       "  <tbody>\n",
       "    <tr>\n",
       "      <th>4660-IRIBM</th>\n",
       "      <td>0.779665</td>\n",
       "      <td>-0.502464</td>\n",
       "      <td>0.0</td>\n",
       "      <td>0.0</td>\n",
       "      <td>1.0</td>\n",
       "      <td>0.0</td>\n",
       "      <td>0.0</td>\n",
       "      <td>1.0</td>\n",
       "      <td>1.0</td>\n",
       "      <td>0.0</td>\n",
       "      <td>...</td>\n",
       "      <td>1.0</td>\n",
       "      <td>1.0</td>\n",
       "      <td>0.0</td>\n",
       "      <td>1.0</td>\n",
       "      <td>0.0</td>\n",
       "      <td>1.0</td>\n",
       "      <td>0.0</td>\n",
       "      <td>1.0</td>\n",
       "      <td>0.0</td>\n",
       "      <td>0.0</td>\n",
       "    </tr>\n",
       "    <tr>\n",
       "      <th>6994-ORCWG</th>\n",
       "      <td>-0.342727</td>\n",
       "      <td>-0.680770</td>\n",
       "      <td>1.0</td>\n",
       "      <td>0.0</td>\n",
       "      <td>1.0</td>\n",
       "      <td>0.0</td>\n",
       "      <td>0.0</td>\n",
       "      <td>1.0</td>\n",
       "      <td>0.0</td>\n",
       "      <td>0.0</td>\n",
       "      <td>...</td>\n",
       "      <td>0.0</td>\n",
       "      <td>0.0</td>\n",
       "      <td>0.0</td>\n",
       "      <td>0.0</td>\n",
       "      <td>1.0</td>\n",
       "      <td>0.0</td>\n",
       "      <td>0.0</td>\n",
       "      <td>0.0</td>\n",
       "      <td>0.0</td>\n",
       "      <td>1.0</td>\n",
       "    </tr>\n",
       "    <tr>\n",
       "      <th>6834-NXDCA</th>\n",
       "      <td>-1.355047</td>\n",
       "      <td>-0.636924</td>\n",
       "      <td>0.0</td>\n",
       "      <td>0.0</td>\n",
       "      <td>1.0</td>\n",
       "      <td>0.0</td>\n",
       "      <td>1.0</td>\n",
       "      <td>0.0</td>\n",
       "      <td>0.0</td>\n",
       "      <td>0.0</td>\n",
       "      <td>...</td>\n",
       "      <td>0.0</td>\n",
       "      <td>0.0</td>\n",
       "      <td>0.0</td>\n",
       "      <td>0.0</td>\n",
       "      <td>0.0</td>\n",
       "      <td>0.0</td>\n",
       "      <td>0.0</td>\n",
       "      <td>0.0</td>\n",
       "      <td>0.0</td>\n",
       "      <td>0.0</td>\n",
       "    </tr>\n",
       "    <tr>\n",
       "      <th>2979-SXESE</th>\n",
       "      <td>0.996471</td>\n",
       "      <td>-1.259532</td>\n",
       "      <td>0.0</td>\n",
       "      <td>0.0</td>\n",
       "      <td>0.0</td>\n",
       "      <td>0.0</td>\n",
       "      <td>1.0</td>\n",
       "      <td>0.0</td>\n",
       "      <td>0.0</td>\n",
       "      <td>0.0</td>\n",
       "      <td>...</td>\n",
       "      <td>1.0</td>\n",
       "      <td>1.0</td>\n",
       "      <td>0.0</td>\n",
       "      <td>1.0</td>\n",
       "      <td>0.0</td>\n",
       "      <td>1.0</td>\n",
       "      <td>0.0</td>\n",
       "      <td>1.0</td>\n",
       "      <td>0.0</td>\n",
       "      <td>1.0</td>\n",
       "    </tr>\n",
       "    <tr>\n",
       "      <th>0812-WUPTB</th>\n",
       "      <td>0.210964</td>\n",
       "      <td>-1.125072</td>\n",
       "      <td>0.0</td>\n",
       "      <td>0.0</td>\n",
       "      <td>0.0</td>\n",
       "      <td>0.0</td>\n",
       "      <td>0.0</td>\n",
       "      <td>1.0</td>\n",
       "      <td>1.0</td>\n",
       "      <td>1.0</td>\n",
       "      <td>...</td>\n",
       "      <td>0.0</td>\n",
       "      <td>1.0</td>\n",
       "      <td>0.0</td>\n",
       "      <td>0.0</td>\n",
       "      <td>0.0</td>\n",
       "      <td>0.0</td>\n",
       "      <td>0.0</td>\n",
       "      <td>0.0</td>\n",
       "      <td>0.0</td>\n",
       "      <td>0.0</td>\n",
       "    </tr>\n",
       "  </tbody>\n",
       "</table>\n",
       "<p>5 rows × 21 columns</p>\n",
       "</div>"
      ],
      "text/plain": [
       "            MonthlyCharges   AllDays  Type_One year  Type_Two year  \\\n",
       "CustomerID                                                           \n",
       "4660-IRIBM        0.779665 -0.502464            0.0            0.0   \n",
       "6994-ORCWG       -0.342727 -0.680770            1.0            0.0   \n",
       "6834-NXDCA       -1.355047 -0.636924            0.0            0.0   \n",
       "2979-SXESE        0.996471 -1.259532            0.0            0.0   \n",
       "0812-WUPTB        0.210964 -1.125072            0.0            0.0   \n",
       "\n",
       "            PaperlessBilling_Yes  PaymentMethod_Credit card (automatic)  \\\n",
       "CustomerID                                                                \n",
       "4660-IRIBM                   1.0                                    0.0   \n",
       "6994-ORCWG                   1.0                                    0.0   \n",
       "6834-NXDCA                   1.0                                    0.0   \n",
       "2979-SXESE                   0.0                                    0.0   \n",
       "0812-WUPTB                   0.0                                    0.0   \n",
       "\n",
       "            PaymentMethod_Electronic check  PaymentMethod_Mailed check  \\\n",
       "CustomerID                                                               \n",
       "4660-IRIBM                             0.0                         1.0   \n",
       "6994-ORCWG                             0.0                         1.0   \n",
       "6834-NXDCA                             1.0                         0.0   \n",
       "2979-SXESE                             1.0                         0.0   \n",
       "0812-WUPTB                             0.0                         1.0   \n",
       "\n",
       "            Gender_Male  SeniorCitizen_1  ...  Dependents_Yes  \\\n",
       "CustomerID                                ...                   \n",
       "4660-IRIBM          1.0              0.0  ...             1.0   \n",
       "6994-ORCWG          0.0              0.0  ...             0.0   \n",
       "6834-NXDCA          0.0              0.0  ...             0.0   \n",
       "2979-SXESE          0.0              0.0  ...             1.0   \n",
       "0812-WUPTB          1.0              1.0  ...             0.0   \n",
       "\n",
       "            InternetService_Fiber optic  InternetService_No  \\\n",
       "CustomerID                                                    \n",
       "4660-IRIBM                          1.0                 0.0   \n",
       "6994-ORCWG                          0.0                 0.0   \n",
       "6834-NXDCA                          0.0                 0.0   \n",
       "2979-SXESE                          1.0                 0.0   \n",
       "0812-WUPTB                          1.0                 0.0   \n",
       "\n",
       "            OnlineSecurity_Yes  OnlineBackup_Yes  DeviceProtection_Yes  \\\n",
       "CustomerID                                                               \n",
       "4660-IRIBM                 1.0               0.0                   1.0   \n",
       "6994-ORCWG                 0.0               1.0                   0.0   \n",
       "6834-NXDCA                 0.0               0.0                   0.0   \n",
       "2979-SXESE                 1.0               0.0                   1.0   \n",
       "0812-WUPTB                 0.0               0.0                   0.0   \n",
       "\n",
       "            TechSupport_Yes  StreamingTV_Yes  StreamingMovies_Yes  \\\n",
       "CustomerID                                                          \n",
       "4660-IRIBM              0.0              1.0                  0.0   \n",
       "6994-ORCWG              0.0              0.0                  0.0   \n",
       "6834-NXDCA              0.0              0.0                  0.0   \n",
       "2979-SXESE              0.0              1.0                  0.0   \n",
       "0812-WUPTB              0.0              0.0                  0.0   \n",
       "\n",
       "            MultipleLines_Yes  \n",
       "CustomerID                     \n",
       "4660-IRIBM                0.0  \n",
       "6994-ORCWG                1.0  \n",
       "6834-NXDCA                0.0  \n",
       "2979-SXESE                1.0  \n",
       "0812-WUPTB                0.0  \n",
       "\n",
       "[5 rows x 21 columns]"
      ]
     },
     "execution_count": 47,
     "metadata": {},
     "output_type": "execute_result"
    }
   ],
   "source": [
    "\n",
    "X_test_ridge[\n",
    "    encoder_ohe.get_feature_names_out()\n",
    "] = encoder_ohe.transform(X_test_ridge[ohe_features_ridge])\n",
    "\n",
    "X_test_ridge = X_test_ridge.drop(ohe_features_ridge, axis=1)\n",
    "\n",
    "\n",
    "X_test_ridge[num_features] = scaler.transform(\n",
    "    X_test_ridge[num_features]\n",
    ")\n",
    "\n",
    "X_test_ridge.head()"
   ]
  },
  {
   "cell_type": "markdown",
   "id": "b0d724da",
   "metadata": {},
   "source": [
    "<h1>Обучение моделей</h1>"
   ]
  },
  {
   "cell_type": "code",
   "execution_count": 48,
   "id": "2978b5b2",
   "metadata": {},
   "outputs": [],
   "source": [
    "def plot_roc_curve(target_train, predictions):\n",
    "        \n",
    "    fpr, tpr, thresholds = roc_curve(target_train, predictions)\n",
    "\n",
    "    plt.figure(figsize=(11, 5))\n",
    "    \n",
    "    plt.plot(fpr, tpr)\n",
    "    \n",
    "    plt.plot([0, 1], [0, 1], linestyle='--')\n",
    "    \n",
    "    plt.xlim([0.0, 1.0])\n",
    "    plt.ylim([0.0, 1.0])\n",
    "    \n",
    "    plt.xlabel('False Positive Rate')\n",
    "    plt.ylabel('True Positive Rate')\n",
    "    \n",
    "    plt.title('ROC-кривая')\n",
    "    \n",
    "    plt.show()"
   ]
  },
  {
   "cell_type": "markdown",
   "id": "a657ca3d",
   "metadata": {},
   "source": [
    "Функция для графического отображения AUC-ROC"
   ]
  },
  {
   "cell_type": "markdown",
   "id": "050ffd6a",
   "metadata": {},
   "source": [
    "<h1>RandomForestClassifier</h1>"
   ]
  },
  {
   "cell_type": "code",
   "execution_count": 49,
   "id": "42543fa5",
   "metadata": {},
   "outputs": [
    {
     "name": "stdout",
     "output_type": "stream",
     "text": [
      "{'max_depth': 10, 'min_samples_leaf': 10, 'min_samples_split': 2, 'n_estimators': 100}\n",
      "ROC-AUC score: 0.8166460891017359\n"
     ]
    }
   ],
   "source": [
    "param_grid = {\n",
    "    'max_depth': [5, 10, 20],\n",
    "    'min_samples_split': [2, 10],\n",
    "    'min_samples_leaf': [2, 10],\n",
    "    'n_estimators': [10, 50, 100], \n",
    "}\n",
    "\n",
    "model = RandomForestClassifier(random_state=RANDOM_STATE)\n",
    "\n",
    "search = GridSearchCV(model, param_grid, cv=5, scoring='roc_auc')\n",
    "search.fit(X_train_ridge, target_train)\n",
    "\n",
    "print(search.best_params_)\n",
    "print('ROC-AUC score:', search.best_score_)\n",
    "\n",
    "predicted_probalities = search.best_estimator_.predict_proba(X_train_ridge)[:, 1]"
   ]
  },
  {
   "cell_type": "code",
   "execution_count": 50,
   "id": "b5d1f1c1",
   "metadata": {},
   "outputs": [
    {
     "data": {
      "image/png": "[encoded data removed]",
      "text/plain": [
       "<Figure size 792x360 with 1 Axes>"
      ]
     },
     "metadata": {
      "needs_background": "light"
     },
     "output_type": "display_data"
    }
   ],
   "source": [
    "plot_roc_curve(target_train, predicted_probalities)"
   ]
  },
  {
   "cell_type": "markdown",
   "id": "1131be8a",
   "metadata": {},
   "source": [
    "<h1>CatBoostClassifier</h1>"
   ]
  },
  {
   "cell_type": "code",
   "execution_count": 51,
   "id": "db311eda",
   "metadata": {},
   "outputs": [
    {
     "name": "stdout",
     "output_type": "stream",
     "text": [
      "{'iterations': 100, 'l2_leaf_reg': 3, 'learning_rate': 0.3}\n",
      "ROC-AUC score: 0.8888764435755607\n"
     ]
    }
   ],
   "source": [
    "param_grid = {\n",
    "    'learning_rate': [0.1, 0.3],\n",
    "    'iterations': [50, 100],\n",
    "    'l2_leaf_reg': [3, 9]\n",
    "}\n",
    "\n",
    "model = CatBoostClassifier(random_state=RANDOM_STATE, verbose=0)\n",
    "\n",
    "search_с = GridSearchCV(model, param_grid, cv=5, scoring='roc_auc')\n",
    "search_с.fit(X_train_ridge, target_train)\n",
    "\n",
    "print(search_с.best_params_)\n",
    "print('ROC-AUC score:',search_с.best_score_)\n",
    "\n",
    "predicted_probalities = search_с.best_estimator_.predict_proba(X_train_ridge)[:, 1]"
   ]
  },
  {
   "cell_type": "code",
   "execution_count": 52,
   "id": "21bcc866",
   "metadata": {},
   "outputs": [
    {
     "data": {
      "image/png": "[encoded data removed]",
      "text/plain": [
       "<Figure size 792x360 with 1 Axes>"
      ]
     },
     "metadata": {
      "needs_background": "light"
     },
     "output_type": "display_data"
    }
   ],
   "source": [
    "plot_roc_curve(target_train, predicted_probalities)"
   ]
  },
  {
   "cell_type": "markdown",
   "id": "1cbd0930",
   "metadata": {},
   "source": [
    "<h1>DecisionTreeClassifier</h1>"
   ]
  },
  {
   "cell_type": "code",
   "execution_count": 53,
   "id": "d5bf9ecd",
   "metadata": {},
   "outputs": [
    {
     "name": "stdout",
     "output_type": "stream",
     "text": [
      "{'max_depth': 6}\n",
      "ROC-AUC score: 0.7819663059613375\n"
     ]
    }
   ],
   "source": [
    "param_grid = {'max_depth' : [5, 6, 7, 8, 9]     \n",
    "        }\n",
    "        \n",
    "\n",
    "model = DecisionTreeClassifier(random_state=RANDOM_STATE)\n",
    "\n",
    "search_d = GridSearchCV(model, param_grid, cv=5, scoring='roc_auc')\n",
    "search_d.fit(X_train_ridge, target_train)\n",
    "\n",
    "print(search_d.best_params_)\n",
    "print('ROC-AUC score:',search_d.best_score_)\n",
    "\n",
    "predicted_probalities = search_d.best_estimator_.predict_proba(X_train_ridge)[:, 1]\n"
   ]
  },
  {
   "cell_type": "code",
   "execution_count": 54,
   "id": "804b68d4",
   "metadata": {},
   "outputs": [
    {
     "data": {
      "image/png": "[encoded data removed]",
      "text/plain": [
       "<Figure size 792x360 with 1 Axes>"
      ]
     },
     "metadata": {
      "needs_background": "light"
     },
     "output_type": "display_data"
    }
   ],
   "source": [
    "plot_roc_curve(target_train, predicted_probalities)"
   ]
  },
  {
   "cell_type": "markdown",
   "id": "17649f26",
   "metadata": {},
   "source": [
    "Лучший показатель у CatBoostClassifier, он равен 0.89"
   ]
  },
  {
   "cell_type": "markdown",
   "id": "18e6c6b2",
   "metadata": {},
   "source": [
    "<h1>Проверка CatBoostClassifier на метрике Accuracy и тестовой выборке</h1>"
   ]
  },
  {
   "cell_type": "code",
   "execution_count": 55,
   "id": "31b40740",
   "metadata": {},
   "outputs": [],
   "source": [
    "def plot_roc_curve_test(X_test_ridge, predictions):\n",
    "        \n",
    "    print('ROC-AUC score', roc_auc_score(X_test_ridge, predictions))\n",
    "    \n",
    "    fpr, tpr, thresholds = roc_curve(X_test_ridge, predictions)\n",
    "\n",
    "    plt.figure(figsize=(11, 5))\n",
    "    \n",
    "    plt.plot(fpr, tpr)\n",
    "    \n",
    "    plt.plot([0, 1], [0, 1], linestyle='--')\n",
    "    \n",
    "    plt.xlim([0.0, 1.0])\n",
    "    plt.ylim([0.0, 1.0])\n",
    "    \n",
    "    plt.xlabel('False Positive Rate')\n",
    "    plt.ylabel('True Positive Rate')\n",
    "    \n",
    "    plt.title('ROC-кривая')\n",
    "    \n",
    "    plt.show()\n",
    "    \n",
    "    "
   ]
  },
  {
   "cell_type": "code",
   "execution_count": 56,
   "id": "efe7ac5d",
   "metadata": {},
   "outputs": [],
   "source": [
    "\n",
    "model = CatBoostClassifier(random_state=RANDOM_STATE, iterations=100, l2_leaf_reg=3, learning_rate=0.3, verbose=0)\n",
    "\n",
    "\n",
    "model.fit(X_train_ridge, target_train)\n",
    "\n",
    "\n",
    "\n",
    "\n",
    "\n",
    "predicted_probalities = model.predict_proba(X_test_ridge)[:, 1]\n",
    "predictions_test = model.predict(X_test_ridge)\n",
    "\n",
    "\n",
    "\n"
   ]
  },
  {
   "cell_type": "code",
   "execution_count": 57,
   "id": "f04cac95",
   "metadata": {},
   "outputs": [
    {
     "name": "stdout",
     "output_type": "stream",
     "text": [
      "ROC-AUC score 0.9179933928789918\n"
     ]
    },
    {
     "data": {
      "image/png": "[encoded data removed]",
      "text/plain": [
       "<Figure size 792x360 with 1 Axes>"
      ]
     },
     "metadata": {
      "needs_background": "light"
     },
     "output_type": "display_data"
    }
   ],
   "source": [
    "plot_roc_curve_test(target_test, predicted_probalities)"
   ]
  },
  {
   "cell_type": "code",
   "execution_count": 58,
   "id": "d11fb12d",
   "metadata": {},
   "outputs": [
    {
     "data": {
      "image/png": "[encoded data removed]",
      "text/plain": [
       "<Figure size 576x576 with 2 Axes>"
      ]
     },
     "metadata": {
      "needs_background": "light"
     },
     "output_type": "display_data"
    }
   ],
   "source": [
    "cmatrix = confusion_matrix(target_test, predictions_test)\n",
    "plt.figure(figsize=(8, 8))\n",
    "sns.heatmap(cmatrix, \n",
    "                annot=True,  \n",
    "                cmap='Blues', \n",
    "                fmt='d').set(title='Матрица ошибок', xlabel='Предсказания', ylabel='Правильные ответы')\n",
    "plt.show();"
   ]
  },
  {
   "cell_type": "code",
   "execution_count": 59,
   "id": "d4752217",
   "metadata": {},
   "outputs": [],
   "source": [
    "train_dataset = Pool(X_train_ridge, target_train)"
   ]
  },
  {
   "cell_type": "code",
   "execution_count": 61,
   "id": "bffb9c6c",
   "metadata": {},
   "outputs": [],
   "source": [
    "feature_importance = search_с.best_estimator_.get_feature_importance(train_dataset, prettified = True)"
   ]
  },
  {
   "cell_type": "code",
   "execution_count": 62,
   "id": "d9fb9d3a",
   "metadata": {},
   "outputs": [
    {
     "data": {
      "text/html": [
       "<div>\n",
       "<style scoped>\n",
       "    .dataframe tbody tr th:only-of-type {\n",
       "        vertical-align: middle;\n",
       "    }\n",
       "\n",
       "    .dataframe tbody tr th {\n",
       "        vertical-align: top;\n",
       "    }\n",
       "\n",
       "    .dataframe thead th {\n",
       "        text-align: right;\n",
       "    }\n",
       "</style>\n",
       "<table border=\"1\" class=\"dataframe\">\n",
       "  <thead>\n",
       "    <tr style=\"text-align: right;\">\n",
       "      <th></th>\n",
       "      <th>Feature Id</th>\n",
       "      <th>Importances</th>\n",
       "    </tr>\n",
       "  </thead>\n",
       "  <tbody>\n",
       "    <tr>\n",
       "      <th>0</th>\n",
       "      <td>AllDays</td>\n",
       "      <td>49.481421</td>\n",
       "    </tr>\n",
       "    <tr>\n",
       "      <th>1</th>\n",
       "      <td>MonthlyCharges</td>\n",
       "      <td>10.823882</td>\n",
       "    </tr>\n",
       "    <tr>\n",
       "      <th>2</th>\n",
       "      <td>Type_Two year</td>\n",
       "      <td>4.801426</td>\n",
       "    </tr>\n",
       "    <tr>\n",
       "      <th>3</th>\n",
       "      <td>Partner_Yes</td>\n",
       "      <td>4.011144</td>\n",
       "    </tr>\n",
       "    <tr>\n",
       "      <th>4</th>\n",
       "      <td>MultipleLines_Yes</td>\n",
       "      <td>3.487647</td>\n",
       "    </tr>\n",
       "    <tr>\n",
       "      <th>5</th>\n",
       "      <td>OnlineBackup_Yes</td>\n",
       "      <td>2.921427</td>\n",
       "    </tr>\n",
       "    <tr>\n",
       "      <th>6</th>\n",
       "      <td>Type_One year</td>\n",
       "      <td>2.787313</td>\n",
       "    </tr>\n",
       "    <tr>\n",
       "      <th>7</th>\n",
       "      <td>PaymentMethod_Mailed check</td>\n",
       "      <td>2.709159</td>\n",
       "    </tr>\n",
       "    <tr>\n",
       "      <th>8</th>\n",
       "      <td>DeviceProtection_Yes</td>\n",
       "      <td>2.602148</td>\n",
       "    </tr>\n",
       "    <tr>\n",
       "      <th>9</th>\n",
       "      <td>StreamingMovies_Yes</td>\n",
       "      <td>2.271890</td>\n",
       "    </tr>\n",
       "    <tr>\n",
       "      <th>10</th>\n",
       "      <td>Dependents_Yes</td>\n",
       "      <td>2.163191</td>\n",
       "    </tr>\n",
       "    <tr>\n",
       "      <th>11</th>\n",
       "      <td>PaymentMethod_Electronic check</td>\n",
       "      <td>2.060271</td>\n",
       "    </tr>\n",
       "    <tr>\n",
       "      <th>12</th>\n",
       "      <td>StreamingTV_Yes</td>\n",
       "      <td>1.506981</td>\n",
       "    </tr>\n",
       "    <tr>\n",
       "      <th>13</th>\n",
       "      <td>TechSupport_Yes</td>\n",
       "      <td>1.499155</td>\n",
       "    </tr>\n",
       "    <tr>\n",
       "      <th>14</th>\n",
       "      <td>OnlineSecurity_Yes</td>\n",
       "      <td>1.328263</td>\n",
       "    </tr>\n",
       "    <tr>\n",
       "      <th>15</th>\n",
       "      <td>PaymentMethod_Credit card (automatic)</td>\n",
       "      <td>1.314375</td>\n",
       "    </tr>\n",
       "    <tr>\n",
       "      <th>16</th>\n",
       "      <td>SeniorCitizen_1</td>\n",
       "      <td>1.078256</td>\n",
       "    </tr>\n",
       "    <tr>\n",
       "      <th>17</th>\n",
       "      <td>Gender_Male</td>\n",
       "      <td>1.046869</td>\n",
       "    </tr>\n",
       "    <tr>\n",
       "      <th>18</th>\n",
       "      <td>PaperlessBilling_Yes</td>\n",
       "      <td>1.008857</td>\n",
       "    </tr>\n",
       "    <tr>\n",
       "      <th>19</th>\n",
       "      <td>InternetService_Fiber optic</td>\n",
       "      <td>0.862789</td>\n",
       "    </tr>\n",
       "    <tr>\n",
       "      <th>20</th>\n",
       "      <td>InternetService_No</td>\n",
       "      <td>0.233535</td>\n",
       "    </tr>\n",
       "  </tbody>\n",
       "</table>\n",
       "</div>"
      ],
      "text/plain": [
       "                               Feature Id  Importances\n",
       "0                                 AllDays    49.481421\n",
       "1                          MonthlyCharges    10.823882\n",
       "2                           Type_Two year     4.801426\n",
       "3                             Partner_Yes     4.011144\n",
       "4                       MultipleLines_Yes     3.487647\n",
       "5                        OnlineBackup_Yes     2.921427\n",
       "6                           Type_One year     2.787313\n",
       "7              PaymentMethod_Mailed check     2.709159\n",
       "8                    DeviceProtection_Yes     2.602148\n",
       "9                     StreamingMovies_Yes     2.271890\n",
       "10                         Dependents_Yes     2.163191\n",
       "11         PaymentMethod_Electronic check     2.060271\n",
       "12                        StreamingTV_Yes     1.506981\n",
       "13                        TechSupport_Yes     1.499155\n",
       "14                     OnlineSecurity_Yes     1.328263\n",
       "15  PaymentMethod_Credit card (automatic)     1.314375\n",
       "16                        SeniorCitizen_1     1.078256\n",
       "17                            Gender_Male     1.046869\n",
       "18                   PaperlessBilling_Yes     1.008857\n",
       "19            InternetService_Fiber optic     0.862789\n",
       "20                     InternetService_No     0.233535"
      ]
     },
     "execution_count": 62,
     "metadata": {},
     "output_type": "execute_result"
    }
   ],
   "source": [
    "feature_importance"
   ]
  },
  {
   "cell_type": "code",
   "execution_count": 63,
   "id": "7c8f8601",
   "metadata": {},
   "outputs": [
    {
     "data": {
      "image/png": "[encoded data removed]",
      "text/plain": [
       "<Figure size 432x288 with 1 Axes>"
      ]
     },
     "metadata": {
      "needs_background": "light"
     },
     "output_type": "display_data"
    }
   ],
   "source": [
    "sns.barplot(y=feature_importance['Feature Id'], x=feature_importance['Importances']);"
   ]
  },
  {
   "cell_type": "markdown",
   "id": "32dce923",
   "metadata": {},
   "source": [
    "Достаточно логично, что на лояльность клиентов виляет время использования услуг. Как правило, чем дольше ты пользуешься услугами компании, тем меньше вероятность что ты от туда уйдешь. Второй и третий признак - месячные траты, тоже достаточно логично, учитывая исследовательский анализ данных проведенных ранее. Затем идут признаки, отвечающие за срок договора, гендер и т.д."
   ]
  },
  {
   "cell_type": "markdown",
   "id": "59144905",
   "metadata": {},
   "source": [
    "<h1> Выводы</h1>"
   ]
  },
  {
   "cell_type": "markdown",
   "id": "09b46f05",
   "metadata": {},
   "source": [
    "- В данной работе проведена работа по предсказанию того, откажется ли клиент от услуг оператора сотовой связи или нет\n",
    "- Сначала данные были прочитаны и по ним были сделаны предварительные выводы\n",
    "- После этого была произведена первичная обработка данных - переименованы столбцы, изменены типы данных\n",
    "- Были добавлены 2 новых столбца - целевой признак CO (customer outflow), который означает отказался ли клиент от услуг и AllDays, который обозначает сколько по времени пользователь пользовался услугами\n",
    "- После этого был проведен исследовательский анализ данных - проанализированы количественные и категоральные признаки, проведена попытка найти связь между ними и целевым признаком\n",
    "- Были сделаны следующие выводы: со временем вероятность отказа от услуг снижается и обычно отказывались от услуг те, кто платил больше\n",
    "- После этого была проведена подготовка данных к обучению моделей: удалены ненужные столбцы, применена техника OHE, датафрейм был разделен на обучающую и тестовую выборки, проведено масштабирование количественных признаков и проведен upsample\n",
    "- Затем на данных были обучены 3 модели: DecisionTreeClassifier, RandomForestClassifier и CatBoostClassifier\n",
    "- Лучший результат показала модель CatBoostClassifier со значением метрики ROC-AUC в 0.0.891, что выше, чем значение, требуемое в задании\n",
    "- Самые важные факторы - сколько клиент пользуется услугами и сколько он платит в месяц"
   ]
  },
  {
   "cell_type": "markdown",
   "id": "eca0ab78",
   "metadata": {},
   "source": [
    "<h1>Общие выводы</h1>"
   ]
  },
  {
   "attachments": {
    "ROC-AUC.png": {
     "image/png": "[encoded data removed]"
    }
   },
   "cell_type": "markdown",
   "id": "afa2f835",
   "metadata": {},
   "source": [
    "При выполнении работы были загружены и рассмотрены таблицы с данными:\n",
    "\n",
    "- df_contract;\n",
    "- df_internet;\n",
    "- df_personal;\n",
    "- df_phone.\n",
    "\n",
    "I. Исследовательская часть\n",
    "\n",
    "Всего в выборке представлены договоры с 7043 клиентами, из которых пользователей интернета - 5517, пользователей телефона - 6361. Явные пропуски и дубликаты не найдены.\n",
    "\n",
    "В процессе были решены проблемы для предобработки данных:\n",
    "\n",
    "- Привели названия столбцов к единому виду\n",
    "\n",
    "- Добавили новый столбец CO (customer outflow) с целевым признаком, который будет означать отказался клиент от услуг или нет. При значении EndDate равном \"No\", клиент не ушел и целевой признак равен 0. А при наличии даты ухода, целевой признак равен 1.\n",
    "\n",
    "\n",
    "- BeginDate – поле приведено к типу datetime;\n",
    "\n",
    "- EndDate – для значений \"No\" установлена \"заглушка\", соответствующая дате актуальности датасета - 2020-02-01), после чего поле было приведено к формату datetime;\n",
    "\n",
    "- Создали столбец с данными, сколько абонент пользовался услугами\n",
    "\n",
    "- В столбце TotalCharges - неявные пропуски (пустые значения) заменены 0, так как пропуски маркеруют клиентов, начавших пользоваться услагми компании в феврале 2020 года.\n",
    "\n",
    "После чего все датафреймы были объединены.\n",
    "\n",
    "Из статистических характеристик объедененного датафрейма можно выделить интересные особенности:\n",
    "\n",
    "- Практически две трети пользователей предпочитают безналичный расчет;\n",
    "\n",
    "- Среднее значение месячных трат практически совпадает с медианным значением, то есть имеет распределение с небольшим отрицательным смещением;\n",
    "\n",
    "- Распределение значений суммарных трат наоборот, сильное положительное смещение - медиана практически на 40% меньше среднего. Возможно это связано с наличием нулей - неявных пропусков. Это нужно выяснить далее;\n",
    "\n",
    "- Относительно демографии: 16% пенсионеров, 48% имеют супруга(у), у 29% клиентов имеются иждевенцы. Баланс классов гендера соблюдается;\n",
    "\n",
    "- 34% пользователей продолжают использовать интернет соединение через через телефонную линию, 42% пользователей имеют возможность использовать вторую линию во время звонка;\n",
    "\n",
    "Было исследовано распределение даты регистрации клиентов во времени: наблюдается пик в начале 2014 года, что связано с началом работы компании. С начала 2015 по конец 2018 года - величина вновь привлеченных клиентов стабильна. Далее с начала 2019 по начало 2020 года снова наблюдаем бурный рост количества новых клиентов.\n",
    "\n",
    "На протяжении 4 месяцев подряд происходил равномерный отток клиентов (октябрь 2019 - январь 2020).\n",
    "\n",
    "Среди оттекших клиентов есть представители каждой из выделенной ранее групп. Примечательно, что оттекшие клиенты пользовались в основном дорогими тарифами.\n",
    "\n",
    "Средняя длительность пользования услугами у оттекших клиентов практически в два раза меньше, чем у тех, которые остались.\n",
    "\n",
    "Данные были Разбиты на 2 выборки в соотношении 75:25. Проведено кодирование и масштабирование.\n",
    "\n",
    "II. Модельная часть\n",
    "\n",
    "Было выбрано три модели:\n",
    "- RandomForestClassifier\n",
    "- CatBoostClassifier\n",
    "- DecisionTreeClassifier\n",
    "\n",
    "Лучше всего на выбранной метрике ROC-AUC, равной 0,88, что выше установленного минимума показала себя модель CatBoostClassifier c следующими параметрами: random_state=30423, iterations=100, l2_leaf_reg=3, learning_rate=0.3, verbose=0.\n",
    "При данных параметрах ROC-кривая на графике выглядит так:\n",
    "![ROC-AUC.png](attachment:ROC-AUC.png)"
   ]
  },
  {
   "attachments": {
    "Matrix.png": {
     "image/png": "[encoded data removed]"
    }
   },
   "cell_type": "markdown",
   "id": "92cce4b9",
   "metadata": {},
   "source": [
    "А Матрица ошибок так:\n",
    "![Matrix.png](attachment:Matrix.png)\n",
    "\n",
    "\n",
    "Остальные модели не показали, установленного в 0,85, минимумуа выбранной метрики \n",
    "\n",
    "На тестовой выборке модель CatBoostClassifier показала значение метрики, равное 0,91, что подверждает достаточный уровень."
   ]
  },
  {
   "attachments": {
    "Importance.png": {
     "image/png": "[encoded data removed]"
    }
   },
   "cell_type": "markdown",
   "id": "e5be9241",
   "metadata": {},
   "source": [
    "III. Анализ важности признаков модели\n",
    "\n",
    "Признаки, оказывающие на модель влияние:\n",
    "![Importance.png](attachment:Importance.png)\n",
    "\n",
    "Достаточно логично, что на лояльность клиентов виляет время использования услуг. Как правило, чем дольше ты пользуешься услугами компании, тем меньше вероятность что ты от туда уйдешь. Второй и третий признак - месячные траты, тоже достаточно логично, учитывая исследовательский анализ данных проведенных ранее. Затем идут признаки, отвечающие за срок договора, гендер и т.д."
   ]
  },
  {
   "cell_type": "markdown",
   "id": "9eaaeeab",
   "metadata": {},
   "source": [
    "План на данную работу был следующий:\n",
    "- Изучить данные в файлах - проверить типы, есть ли пропуски, надо ли преобразовывать данные;\n",
    "- Подготовить данных на основе выводов, полученных на предыдущем шаге;\n",
    "- Провести исследовательский анализ данных - вузализация данных, избавление от выбросов;\n",
    "- Перебор моделей и подбор их параметров;\n",
    "- Вывод по итогам работы.\n",
    "\n",
    "Все пункты плана были выполнины и получен результат, превосходящий минимальный, что является хорошим итогом работы.\n",
    "Во время работы возикли сложности с кодированием данных, так как не сразу удалось сообразить, что для корректного выполнения выбранного кода, необходимо было обновить библиотеку scikit-learn до версии 1.1.3\n"
   ]
  }
 ],
 "metadata": {
  "ExecuteTimeLog": [
   {
    "duration": 876,
    "start_time": "2023-04-04T11:30:38.351Z"
   },
   {
    "duration": 4,
    "start_time": "2023-04-04T11:30:40.642Z"
   },
   {
    "duration": 263,
    "start_time": "2023-04-04T11:30:41.352Z"
   },
   {
    "duration": 45,
    "start_time": "2023-04-04T11:31:52.591Z"
   },
   {
    "duration": 373,
    "start_time": "2023-04-04T11:33:07.249Z"
   },
   {
    "duration": 52,
    "start_time": "2023-04-04T11:33:10.048Z"
   },
   {
    "duration": 9,
    "start_time": "2023-04-04T11:35:47.704Z"
   },
   {
    "duration": 5,
    "start_time": "2023-04-04T11:36:23.113Z"
   },
   {
    "duration": 6,
    "start_time": "2023-04-04T11:37:13.190Z"
   },
   {
    "duration": 4,
    "start_time": "2023-04-04T11:38:22.105Z"
   },
   {
    "duration": 4,
    "start_time": "2023-04-04T11:39:00.227Z"
   },
   {
    "duration": 10,
    "start_time": "2023-04-04T11:46:21.336Z"
   },
   {
    "duration": 9,
    "start_time": "2023-04-04T11:46:47.020Z"
   },
   {
    "duration": 14,
    "start_time": "2023-04-04T11:46:53.707Z"
   },
   {
    "duration": 10,
    "start_time": "2023-04-04T11:48:40.993Z"
   },
   {
    "duration": 45,
    "start_time": "2023-04-04T13:31:52.292Z"
   },
   {
    "duration": 8,
    "start_time": "2023-04-04T13:33:13.614Z"
   },
   {
    "duration": 17,
    "start_time": "2023-04-04T13:34:07.601Z"
   },
   {
    "duration": 8,
    "start_time": "2023-04-04T13:35:48.115Z"
   },
   {
    "duration": 4,
    "start_time": "2023-04-04T13:36:00.611Z"
   },
   {
    "duration": 19,
    "start_time": "2023-04-04T13:37:44.097Z"
   },
   {
    "duration": 7,
    "start_time": "2023-04-04T13:39:03.848Z"
   },
   {
    "duration": 17,
    "start_time": "2023-04-04T13:39:26.205Z"
   },
   {
    "duration": 7,
    "start_time": "2023-04-04T13:41:05.326Z"
   },
   {
    "duration": 6,
    "start_time": "2023-04-04T13:41:37.528Z"
   },
   {
    "duration": 10,
    "start_time": "2023-04-04T13:42:30.201Z"
   },
   {
    "duration": 39,
    "start_time": "2023-04-04T13:43:03.058Z"
   },
   {
    "duration": 5,
    "start_time": "2023-04-04T13:44:32.687Z"
   },
   {
    "duration": 10,
    "start_time": "2023-04-04T13:44:44.650Z"
   },
   {
    "duration": 41,
    "start_time": "2023-04-04T13:44:58.354Z"
   },
   {
    "duration": 27,
    "start_time": "2023-04-04T13:44:59.658Z"
   },
   {
    "duration": 4,
    "start_time": "2023-04-04T13:45:01.015Z"
   },
   {
    "duration": 7,
    "start_time": "2023-04-04T13:45:59.142Z"
   },
   {
    "duration": 56,
    "start_time": "2023-04-04T13:47:38.487Z"
   },
   {
    "duration": 65,
    "start_time": "2023-04-04T13:48:45.644Z"
   },
   {
    "duration": 876,
    "start_time": "2023-04-05T11:41:41.520Z"
   },
   {
    "duration": 4,
    "start_time": "2023-04-05T11:41:42.398Z"
   },
   {
    "duration": 360,
    "start_time": "2023-04-05T11:41:42.405Z"
   },
   {
    "duration": 53,
    "start_time": "2023-04-05T11:41:42.767Z"
   },
   {
    "duration": 39,
    "start_time": "2023-04-05T11:41:42.824Z"
   },
   {
    "duration": 85,
    "start_time": "2023-04-05T11:41:42.865Z"
   },
   {
    "duration": 37,
    "start_time": "2023-04-05T11:41:42.955Z"
   },
   {
    "duration": 32,
    "start_time": "2023-04-05T11:41:42.993Z"
   },
   {
    "duration": 5,
    "start_time": "2023-04-05T11:41:43.027Z"
   },
   {
    "duration": 9,
    "start_time": "2023-04-05T11:41:43.035Z"
   },
   {
    "duration": 12,
    "start_time": "2023-04-05T11:41:43.046Z"
   },
   {
    "duration": 37,
    "start_time": "2023-04-05T11:41:43.061Z"
   },
   {
    "duration": 28,
    "start_time": "2023-04-05T11:41:43.100Z"
   },
   {
    "duration": 27,
    "start_time": "2023-04-05T11:41:43.132Z"
   },
   {
    "duration": 6,
    "start_time": "2023-04-05T11:41:43.161Z"
   },
   {
    "duration": 25,
    "start_time": "2023-04-05T11:41:43.169Z"
   },
   {
    "duration": 49,
    "start_time": "2023-04-05T11:41:43.196Z"
   },
   {
    "duration": 8,
    "start_time": "2023-04-05T11:41:43.247Z"
   },
   {
    "duration": 67,
    "start_time": "2023-04-05T11:41:43.258Z"
   },
   {
    "duration": 7,
    "start_time": "2023-04-05T11:41:43.328Z"
   },
   {
    "duration": 6,
    "start_time": "2023-04-05T11:41:43.337Z"
   },
   {
    "duration": 97,
    "start_time": "2023-04-05T11:41:43.344Z"
   },
   {
    "duration": 10,
    "start_time": "2023-04-05T18:46:59.847Z"
   },
   {
    "duration": 3,
    "start_time": "2023-04-05T18:47:12.586Z"
   },
   {
    "duration": 791,
    "start_time": "2023-04-05T18:48:44.676Z"
   },
   {
    "duration": 78,
    "start_time": "2023-04-05T18:53:21.534Z"
   },
   {
    "duration": 8,
    "start_time": "2023-04-05T18:53:57.477Z"
   },
   {
    "duration": 1425,
    "start_time": "2023-04-05T18:54:06.948Z"
   },
   {
    "duration": 3,
    "start_time": "2023-04-05T18:54:08.375Z"
   },
   {
    "duration": 358,
    "start_time": "2023-04-05T18:54:08.380Z"
   },
   {
    "duration": 38,
    "start_time": "2023-04-05T18:54:08.740Z"
   },
   {
    "duration": 43,
    "start_time": "2023-04-05T18:54:08.780Z"
   },
   {
    "duration": 47,
    "start_time": "2023-04-05T18:54:08.826Z"
   },
   {
    "duration": 57,
    "start_time": "2023-04-05T18:54:08.875Z"
   },
   {
    "duration": 5,
    "start_time": "2023-04-05T18:54:08.933Z"
   },
   {
    "duration": 8,
    "start_time": "2023-04-05T18:54:08.940Z"
   },
   {
    "duration": 7,
    "start_time": "2023-04-05T18:54:08.949Z"
   },
   {
    "duration": 7,
    "start_time": "2023-04-05T18:54:08.958Z"
   },
   {
    "duration": 18,
    "start_time": "2023-04-05T18:54:08.967Z"
   },
   {
    "duration": 39,
    "start_time": "2023-04-05T18:54:08.987Z"
   },
   {
    "duration": 24,
    "start_time": "2023-04-05T18:54:09.030Z"
   },
   {
    "duration": 5,
    "start_time": "2023-04-05T18:54:09.057Z"
   },
   {
    "duration": 22,
    "start_time": "2023-04-05T18:54:09.064Z"
   },
   {
    "duration": 38,
    "start_time": "2023-04-05T18:54:09.088Z"
   },
   {
    "duration": 6,
    "start_time": "2023-04-05T18:54:09.128Z"
   },
   {
    "duration": 47,
    "start_time": "2023-04-05T18:54:09.136Z"
   },
   {
    "duration": 7,
    "start_time": "2023-04-05T18:54:09.184Z"
   },
   {
    "duration": 6,
    "start_time": "2023-04-05T18:54:09.193Z"
   },
   {
    "duration": 77,
    "start_time": "2023-04-05T18:54:09.201Z"
   },
   {
    "duration": 10,
    "start_time": "2023-04-05T18:54:09.279Z"
   },
   {
    "duration": 17,
    "start_time": "2023-04-05T18:56:16.649Z"
   },
   {
    "duration": 115,
    "start_time": "2023-04-05T18:58:18.552Z"
   },
   {
    "duration": 4,
    "start_time": "2023-04-05T18:58:58.919Z"
   },
   {
    "duration": 136,
    "start_time": "2023-04-05T18:59:29.276Z"
   },
   {
    "duration": 1671,
    "start_time": "2023-04-05T18:59:44.545Z"
   },
   {
    "duration": 4,
    "start_time": "2023-04-05T19:04:06.431Z"
   },
   {
    "duration": 15,
    "start_time": "2023-04-05T19:04:36.399Z"
   },
   {
    "duration": 6,
    "start_time": "2023-04-05T19:06:09.309Z"
   },
   {
    "duration": 11,
    "start_time": "2023-04-05T19:07:23.583Z"
   },
   {
    "duration": 5,
    "start_time": "2023-04-05T19:07:33.682Z"
   },
   {
    "duration": 1151,
    "start_time": "2023-04-05T19:07:34.695Z"
   },
   {
    "duration": 4,
    "start_time": "2023-04-05T19:10:43.334Z"
   },
   {
    "duration": 5,
    "start_time": "2023-04-05T19:10:43.849Z"
   },
   {
    "duration": 1248,
    "start_time": "2023-04-05T19:10:44.822Z"
   },
   {
    "duration": 4,
    "start_time": "2023-04-05T19:10:58.111Z"
   },
   {
    "duration": 4,
    "start_time": "2023-04-05T19:10:58.893Z"
   },
   {
    "duration": 664,
    "start_time": "2023-04-05T19:10:59.933Z"
   },
   {
    "duration": 6,
    "start_time": "2023-04-05T19:13:13.092Z"
   },
   {
    "duration": 6,
    "start_time": "2023-04-05T19:18:07.653Z"
   },
   {
    "duration": 741,
    "start_time": "2023-04-05T19:18:08.508Z"
   },
   {
    "duration": 5,
    "start_time": "2023-04-05T19:18:33.755Z"
   },
   {
    "duration": 422,
    "start_time": "2023-04-05T19:18:34.396Z"
   },
   {
    "duration": 4,
    "start_time": "2023-04-05T19:21:07.816Z"
   },
   {
    "duration": 21,
    "start_time": "2023-04-05T19:21:11.998Z"
   },
   {
    "duration": 10,
    "start_time": "2023-04-05T19:23:41.869Z"
   },
   {
    "duration": 10,
    "start_time": "2023-04-05T19:24:41.911Z"
   },
   {
    "duration": 13,
    "start_time": "2023-04-05T19:24:46.255Z"
   },
   {
    "duration": 88,
    "start_time": "2023-04-05T19:25:03.526Z"
   },
   {
    "duration": 3,
    "start_time": "2023-04-05T19:25:11.238Z"
   },
   {
    "duration": 15,
    "start_time": "2023-04-05T19:26:22.428Z"
   },
   {
    "duration": 258,
    "start_time": "2023-04-05T19:26:37.264Z"
   },
   {
    "duration": 10,
    "start_time": "2023-04-05T19:28:27.029Z"
   },
   {
    "duration": 13,
    "start_time": "2023-04-05T19:31:12.058Z"
   },
   {
    "duration": 265,
    "start_time": "2023-04-05T19:31:21.653Z"
   },
   {
    "duration": 10,
    "start_time": "2023-04-05T19:32:23.982Z"
   },
   {
    "duration": 9,
    "start_time": "2023-04-05T19:33:41.458Z"
   },
   {
    "duration": 11,
    "start_time": "2023-04-05T19:33:42.110Z"
   },
   {
    "duration": 401,
    "start_time": "2023-04-05T19:33:53.269Z"
   },
   {
    "duration": 10,
    "start_time": "2023-04-05T19:34:13.297Z"
   },
   {
    "duration": 268,
    "start_time": "2023-04-05T19:35:54.189Z"
   },
   {
    "duration": 4,
    "start_time": "2023-04-05T19:46:12.926Z"
   },
   {
    "duration": 141,
    "start_time": "2023-04-05T19:53:49.885Z"
   },
   {
    "duration": 2609,
    "start_time": "2023-04-05T19:55:55.892Z"
   },
   {
    "duration": 3,
    "start_time": "2023-04-05T20:03:27.281Z"
   },
   {
    "duration": 10,
    "start_time": "2023-04-05T20:03:56.554Z"
   },
   {
    "duration": 1178,
    "start_time": "2023-04-05T20:04:07.993Z"
   },
   {
    "duration": 3,
    "start_time": "2023-04-05T20:04:21.066Z"
   },
   {
    "duration": 870,
    "start_time": "2023-04-05T20:04:22.864Z"
   },
   {
    "duration": 720,
    "start_time": "2023-04-05T20:12:23.856Z"
   },
   {
    "duration": 3,
    "start_time": "2023-04-05T20:13:29.862Z"
   },
   {
    "duration": 735,
    "start_time": "2023-04-05T20:13:30.699Z"
   },
   {
    "duration": 2738,
    "start_time": "2023-04-05T20:13:35.915Z"
   },
   {
    "duration": 742,
    "start_time": "2023-04-05T20:13:38.655Z"
   },
   {
    "duration": 10,
    "start_time": "2023-04-05T20:13:41.185Z"
   },
   {
    "duration": 709,
    "start_time": "2023-04-05T20:14:02.767Z"
   },
   {
    "duration": 10,
    "start_time": "2023-04-05T20:17:24.592Z"
   },
   {
    "duration": 10,
    "start_time": "2023-04-05T20:17:37.793Z"
   },
   {
    "duration": 10,
    "start_time": "2023-04-05T20:19:35.740Z"
   },
   {
    "duration": 4,
    "start_time": "2023-04-05T20:19:51.048Z"
   },
   {
    "duration": 85,
    "start_time": "2023-04-06T16:19:31.540Z"
   },
   {
    "duration": 2316,
    "start_time": "2023-04-06T16:19:49.056Z"
   },
   {
    "duration": 5,
    "start_time": "2023-04-06T16:19:51.378Z"
   },
   {
    "duration": 710,
    "start_time": "2023-04-06T16:19:51.385Z"
   },
   {
    "duration": 60,
    "start_time": "2023-04-06T16:19:52.098Z"
   },
   {
    "duration": 54,
    "start_time": "2023-04-06T16:19:52.168Z"
   },
   {
    "duration": 69,
    "start_time": "2023-04-06T16:19:52.224Z"
   },
   {
    "duration": 54,
    "start_time": "2023-04-06T16:19:52.295Z"
   },
   {
    "duration": 6,
    "start_time": "2023-04-06T16:19:52.351Z"
   },
   {
    "duration": 31,
    "start_time": "2023-04-06T16:19:52.359Z"
   },
   {
    "duration": 88,
    "start_time": "2023-04-06T16:19:52.392Z"
   },
   {
    "duration": 80,
    "start_time": "2023-04-06T16:19:52.482Z"
   },
   {
    "duration": 42,
    "start_time": "2023-04-06T16:19:52.567Z"
   },
   {
    "duration": 69,
    "start_time": "2023-04-06T16:19:52.612Z"
   },
   {
    "duration": 128,
    "start_time": "2023-04-06T16:19:52.685Z"
   },
   {
    "duration": 82,
    "start_time": "2023-04-06T16:19:52.816Z"
   },
   {
    "duration": 108,
    "start_time": "2023-04-06T16:19:52.900Z"
   },
   {
    "duration": 28,
    "start_time": "2023-04-06T16:19:53.011Z"
   },
   {
    "duration": 54,
    "start_time": "2023-04-06T16:19:53.042Z"
   },
   {
    "duration": 123,
    "start_time": "2023-04-06T16:19:53.098Z"
   },
   {
    "duration": 58,
    "start_time": "2023-04-06T16:19:53.224Z"
   },
   {
    "duration": 16,
    "start_time": "2023-04-06T16:19:53.285Z"
   },
   {
    "duration": 90,
    "start_time": "2023-04-06T16:19:53.303Z"
   },
   {
    "duration": 25,
    "start_time": "2023-04-06T16:19:53.395Z"
   },
   {
    "duration": 103,
    "start_time": "2023-04-06T16:19:53.422Z"
   },
   {
    "duration": 52,
    "start_time": "2023-04-06T16:19:53.526Z"
   },
   {
    "duration": 2003,
    "start_time": "2023-04-06T16:19:53.581Z"
   },
   {
    "duration": 3,
    "start_time": "2023-04-06T16:19:55.586Z"
   },
   {
    "duration": 228,
    "start_time": "2023-04-06T16:19:55.590Z"
   },
   {
    "duration": 0,
    "start_time": "2023-04-06T16:19:55.820Z"
   },
   {
    "duration": 1,
    "start_time": "2023-04-06T16:19:55.821Z"
   },
   {
    "duration": 0,
    "start_time": "2023-04-06T16:19:55.824Z"
   },
   {
    "duration": 0,
    "start_time": "2023-04-06T16:19:55.825Z"
   },
   {
    "duration": 0,
    "start_time": "2023-04-06T16:19:55.827Z"
   },
   {
    "duration": 0,
    "start_time": "2023-04-06T16:19:55.828Z"
   },
   {
    "duration": 208,
    "start_time": "2023-04-06T16:21:04.360Z"
   },
   {
    "duration": 14,
    "start_time": "2023-04-06T16:21:05.791Z"
   },
   {
    "duration": 143,
    "start_time": "2023-04-06T16:21:24.236Z"
   },
   {
    "duration": 11,
    "start_time": "2023-04-06T16:21:40.436Z"
   },
   {
    "duration": 853,
    "start_time": "2023-04-06T16:21:41.958Z"
   },
   {
    "duration": 3279,
    "start_time": "2023-04-06T16:21:55.068Z"
   },
   {
    "duration": 781,
    "start_time": "2023-04-06T16:22:03.510Z"
   },
   {
    "duration": 725,
    "start_time": "2023-04-06T16:22:05.484Z"
   },
   {
    "duration": 16,
    "start_time": "2023-04-06T16:22:06.895Z"
   },
   {
    "duration": 5,
    "start_time": "2023-04-06T16:22:08.187Z"
   },
   {
    "duration": 5,
    "start_time": "2023-04-06T16:22:09.398Z"
   },
   {
    "duration": 5,
    "start_time": "2023-04-06T16:34:51.261Z"
   },
   {
    "duration": 14,
    "start_time": "2023-04-06T16:36:09.888Z"
   },
   {
    "duration": 4,
    "start_time": "2023-04-06T16:36:47.075Z"
   },
   {
    "duration": 64,
    "start_time": "2023-04-06T16:36:57.185Z"
   },
   {
    "duration": 5,
    "start_time": "2023-04-06T16:39:14.082Z"
   },
   {
    "duration": 8,
    "start_time": "2023-04-06T16:40:10.106Z"
   },
   {
    "duration": 18,
    "start_time": "2023-04-06T16:41:07.983Z"
   },
   {
    "duration": 3,
    "start_time": "2023-04-06T16:45:42.881Z"
   },
   {
    "duration": 4,
    "start_time": "2023-04-06T16:45:45.027Z"
   },
   {
    "duration": 2054,
    "start_time": "2023-04-06T16:45:45.787Z"
   },
   {
    "duration": 4,
    "start_time": "2023-04-06T16:46:19.264Z"
   },
   {
    "duration": 4,
    "start_time": "2023-04-06T16:46:19.771Z"
   },
   {
    "duration": 90,
    "start_time": "2023-04-06T16:46:20.823Z"
   },
   {
    "duration": 33,
    "start_time": "2023-04-06T16:46:24.060Z"
   },
   {
    "duration": 27,
    "start_time": "2023-04-06T16:46:28.216Z"
   },
   {
    "duration": 59,
    "start_time": "2023-04-06T16:46:30.715Z"
   },
   {
    "duration": 39,
    "start_time": "2023-04-06T16:46:33.200Z"
   },
   {
    "duration": 5,
    "start_time": "2023-04-06T16:46:39.730Z"
   },
   {
    "duration": 6,
    "start_time": "2023-04-06T16:46:42.886Z"
   },
   {
    "duration": 5,
    "start_time": "2023-04-06T16:46:45.164Z"
   },
   {
    "duration": 5,
    "start_time": "2023-04-06T16:46:47.710Z"
   },
   {
    "duration": 14,
    "start_time": "2023-04-06T16:46:59.880Z"
   },
   {
    "duration": 7,
    "start_time": "2023-04-06T16:47:15.021Z"
   },
   {
    "duration": 21,
    "start_time": "2023-04-06T16:47:21.340Z"
   },
   {
    "duration": 5,
    "start_time": "2023-04-06T16:47:27.531Z"
   },
   {
    "duration": 16,
    "start_time": "2023-04-06T16:47:32.064Z"
   },
   {
    "duration": 17,
    "start_time": "2023-04-06T16:47:34.793Z"
   },
   {
    "duration": 5,
    "start_time": "2023-04-06T16:47:38.371Z"
   },
   {
    "duration": 26,
    "start_time": "2023-04-06T16:47:41.439Z"
   },
   {
    "duration": 7,
    "start_time": "2023-04-06T16:47:44.175Z"
   },
   {
    "duration": 6,
    "start_time": "2023-04-06T16:47:45.014Z"
   },
   {
    "duration": 59,
    "start_time": "2023-04-06T16:47:50.665Z"
   },
   {
    "duration": 10,
    "start_time": "2023-04-06T16:47:58.719Z"
   },
   {
    "duration": 15,
    "start_time": "2023-04-06T16:47:59.763Z"
   },
   {
    "duration": 3,
    "start_time": "2023-04-06T16:48:02.331Z"
   },
   {
    "duration": 1661,
    "start_time": "2023-04-06T16:48:05.717Z"
   },
   {
    "duration": 3,
    "start_time": "2023-04-06T16:48:11.187Z"
   },
   {
    "duration": 4,
    "start_time": "2023-04-06T16:48:14.193Z"
   },
   {
    "duration": 1631,
    "start_time": "2023-04-06T16:49:35.517Z"
   },
   {
    "duration": 4,
    "start_time": "2023-04-06T16:49:37.150Z"
   },
   {
    "duration": 138,
    "start_time": "2023-04-06T16:49:37.157Z"
   },
   {
    "duration": 52,
    "start_time": "2023-04-06T16:49:37.299Z"
   },
   {
    "duration": 35,
    "start_time": "2023-04-06T16:49:37.353Z"
   },
   {
    "duration": 73,
    "start_time": "2023-04-06T16:49:37.390Z"
   },
   {
    "duration": 59,
    "start_time": "2023-04-06T16:49:37.465Z"
   },
   {
    "duration": 5,
    "start_time": "2023-04-06T16:49:37.526Z"
   },
   {
    "duration": 14,
    "start_time": "2023-04-06T16:49:37.532Z"
   },
   {
    "duration": 10,
    "start_time": "2023-04-06T16:49:37.549Z"
   },
   {
    "duration": 13,
    "start_time": "2023-04-06T16:49:37.561Z"
   },
   {
    "duration": 27,
    "start_time": "2023-04-06T16:49:37.576Z"
   },
   {
    "duration": 28,
    "start_time": "2023-04-06T16:49:37.605Z"
   },
   {
    "duration": 35,
    "start_time": "2023-04-06T16:49:37.635Z"
   },
   {
    "duration": 15,
    "start_time": "2023-04-06T16:49:37.672Z"
   },
   {
    "duration": 30,
    "start_time": "2023-04-06T16:49:37.689Z"
   },
   {
    "duration": 18,
    "start_time": "2023-04-06T16:49:37.721Z"
   },
   {
    "duration": 6,
    "start_time": "2023-04-06T16:49:37.740Z"
   },
   {
    "duration": 34,
    "start_time": "2023-04-06T16:49:37.748Z"
   },
   {
    "duration": 6,
    "start_time": "2023-04-06T16:49:37.783Z"
   },
   {
    "duration": 30,
    "start_time": "2023-04-06T16:49:37.791Z"
   },
   {
    "duration": 84,
    "start_time": "2023-04-06T16:49:37.823Z"
   },
   {
    "duration": 12,
    "start_time": "2023-04-06T16:49:37.909Z"
   },
   {
    "duration": 39,
    "start_time": "2023-04-06T16:49:37.923Z"
   },
   {
    "duration": 15,
    "start_time": "2023-04-06T16:49:37.965Z"
   },
   {
    "duration": 1657,
    "start_time": "2023-04-06T16:49:37.981Z"
   },
   {
    "duration": 3,
    "start_time": "2023-04-06T16:49:39.640Z"
   },
   {
    "duration": 31,
    "start_time": "2023-04-06T16:49:39.646Z"
   },
   {
    "duration": 616,
    "start_time": "2023-04-06T16:49:39.679Z"
   },
   {
    "duration": 2134,
    "start_time": "2023-04-06T16:49:40.297Z"
   },
   {
    "duration": 677,
    "start_time": "2023-04-06T16:49:42.437Z"
   },
   {
    "duration": 582,
    "start_time": "2023-04-06T16:49:43.119Z"
   },
   {
    "duration": 17,
    "start_time": "2023-04-06T16:49:43.703Z"
   },
   {
    "duration": 36,
    "start_time": "2023-04-06T16:49:43.722Z"
   },
   {
    "duration": 34,
    "start_time": "2023-04-06T16:49:43.760Z"
   },
   {
    "duration": 66,
    "start_time": "2023-04-06T16:49:43.796Z"
   },
   {
    "duration": 94,
    "start_time": "2023-04-06T16:49:43.864Z"
   },
   {
    "duration": 26,
    "start_time": "2023-04-06T16:49:43.960Z"
   },
   {
    "duration": 89,
    "start_time": "2023-04-06T16:49:43.988Z"
   },
   {
    "duration": 172,
    "start_time": "2023-04-06T16:49:44.079Z"
   },
   {
    "duration": 2142,
    "start_time": "2023-04-06T16:50:36.309Z"
   },
   {
    "duration": 1651,
    "start_time": "2023-04-06T16:50:52.383Z"
   },
   {
    "duration": 5,
    "start_time": "2023-04-06T16:50:54.036Z"
   },
   {
    "duration": 149,
    "start_time": "2023-04-06T16:50:54.042Z"
   },
   {
    "duration": 57,
    "start_time": "2023-04-06T16:50:54.195Z"
   },
   {
    "duration": 27,
    "start_time": "2023-04-06T16:50:54.254Z"
   },
   {
    "duration": 73,
    "start_time": "2023-04-06T16:50:54.283Z"
   },
   {
    "duration": 30,
    "start_time": "2023-04-06T16:50:54.357Z"
   },
   {
    "duration": 32,
    "start_time": "2023-04-06T16:50:54.389Z"
   },
   {
    "duration": 35,
    "start_time": "2023-04-06T16:50:54.423Z"
   },
   {
    "duration": 22,
    "start_time": "2023-04-06T16:50:54.464Z"
   },
   {
    "duration": 24,
    "start_time": "2023-04-06T16:50:54.488Z"
   },
   {
    "duration": 44,
    "start_time": "2023-04-06T16:50:54.514Z"
   },
   {
    "duration": 16,
    "start_time": "2023-04-06T16:50:54.561Z"
   },
   {
    "duration": 21,
    "start_time": "2023-04-06T16:50:54.579Z"
   },
   {
    "duration": 8,
    "start_time": "2023-04-06T16:50:54.602Z"
   },
   {
    "duration": 31,
    "start_time": "2023-04-06T16:50:54.611Z"
   },
   {
    "duration": 24,
    "start_time": "2023-04-06T16:50:54.644Z"
   },
   {
    "duration": 11,
    "start_time": "2023-04-06T16:50:54.669Z"
   },
   {
    "duration": 35,
    "start_time": "2023-04-06T16:50:54.682Z"
   },
   {
    "duration": 7,
    "start_time": "2023-04-06T16:50:54.720Z"
   },
   {
    "duration": 23,
    "start_time": "2023-04-06T16:50:54.730Z"
   },
   {
    "duration": 71,
    "start_time": "2023-04-06T16:50:54.755Z"
   },
   {
    "duration": 12,
    "start_time": "2023-04-06T16:50:54.828Z"
   },
   {
    "duration": 34,
    "start_time": "2023-04-06T16:50:54.842Z"
   },
   {
    "duration": 29,
    "start_time": "2023-04-06T16:50:54.878Z"
   },
   {
    "duration": 1607,
    "start_time": "2023-04-06T16:50:54.909Z"
   },
   {
    "duration": 2,
    "start_time": "2023-04-06T16:50:56.518Z"
   },
   {
    "duration": 10,
    "start_time": "2023-04-06T16:50:56.523Z"
   },
   {
    "duration": 582,
    "start_time": "2023-04-06T16:50:56.535Z"
   },
   {
    "duration": 2082,
    "start_time": "2023-04-06T16:50:57.119Z"
   },
   {
    "duration": 620,
    "start_time": "2023-04-06T16:50:59.202Z"
   },
   {
    "duration": 620,
    "start_time": "2023-04-06T16:50:59.824Z"
   },
   {
    "duration": 14,
    "start_time": "2023-04-06T16:51:00.446Z"
   },
   {
    "duration": 29,
    "start_time": "2023-04-06T16:51:00.463Z"
   },
   {
    "duration": 31,
    "start_time": "2023-04-06T16:51:00.495Z"
   },
   {
    "duration": 43,
    "start_time": "2023-04-06T16:51:00.529Z"
   },
   {
    "duration": 94,
    "start_time": "2023-04-06T16:51:00.575Z"
   },
   {
    "duration": 47,
    "start_time": "2023-04-06T16:51:00.670Z"
   },
   {
    "duration": 58,
    "start_time": "2023-04-06T16:51:00.719Z"
   },
   {
    "duration": 47,
    "start_time": "2023-04-06T16:51:00.780Z"
   },
   {
    "duration": 154,
    "start_time": "2023-04-06T16:51:48.037Z"
   },
   {
    "duration": 118,
    "start_time": "2023-04-06T16:52:58.803Z"
   },
   {
    "duration": 5,
    "start_time": "2023-04-06T16:54:09.032Z"
   },
   {
    "duration": 13,
    "start_time": "2023-04-06T16:54:09.751Z"
   },
   {
    "duration": 131,
    "start_time": "2023-04-06T16:54:36.639Z"
   },
   {
    "duration": 44955,
    "start_time": "2023-04-06T16:56:43.411Z"
   },
   {
    "duration": 13,
    "start_time": "2023-04-06T16:57:48.015Z"
   },
   {
    "duration": 6,
    "start_time": "2023-04-06T16:59:28.445Z"
   },
   {
    "duration": 203,
    "start_time": "2023-04-06T16:59:29.200Z"
   },
   {
    "duration": 19,
    "start_time": "2023-04-06T17:00:47.659Z"
   },
   {
    "duration": 22,
    "start_time": "2023-04-06T17:01:56.375Z"
   },
   {
    "duration": 47576,
    "start_time": "2023-04-06T17:02:09.267Z"
   },
   {
    "duration": 167,
    "start_time": "2023-04-06T17:03:33.430Z"
   },
   {
    "duration": 12464,
    "start_time": "2023-04-06T17:05:42.671Z"
   },
   {
    "duration": 156,
    "start_time": "2023-04-06T17:06:00.483Z"
   },
   {
    "duration": 15,
    "start_time": "2023-04-06T17:14:07.669Z"
   },
   {
    "duration": 12120,
    "start_time": "2023-04-06T17:14:08.920Z"
   },
   {
    "duration": 161,
    "start_time": "2023-04-06T17:14:23.611Z"
   },
   {
    "duration": 13321,
    "start_time": "2023-04-06T17:16:28.938Z"
   },
   {
    "duration": 11,
    "start_time": "2023-04-06T17:17:07.067Z"
   },
   {
    "duration": 13705,
    "start_time": "2023-04-06T17:18:45.941Z"
   },
   {
    "duration": 274,
    "start_time": "2023-04-06T17:18:59.730Z"
   },
   {
    "duration": 21,
    "start_time": "2023-04-06T17:19:06.912Z"
   },
   {
    "duration": 12371,
    "start_time": "2023-04-06T17:19:25.348Z"
   },
   {
    "duration": 169,
    "start_time": "2023-04-06T17:19:49.568Z"
   },
   {
    "duration": 12,
    "start_time": "2023-04-06T17:19:57.650Z"
   },
   {
    "duration": 19421,
    "start_time": "2023-04-06T17:20:30.033Z"
   },
   {
    "duration": 178,
    "start_time": "2023-04-06T17:20:51.690Z"
   },
   {
    "duration": 11,
    "start_time": "2023-04-06T17:20:53.553Z"
   },
   {
    "duration": 4,
    "start_time": "2023-04-06T17:22:47.545Z"
   },
   {
    "duration": 33,
    "start_time": "2023-04-06T17:22:50.237Z"
   },
   {
    "duration": 7,
    "start_time": "2023-04-06T17:24:46.845Z"
   },
   {
    "duration": 48934,
    "start_time": "2023-04-06T17:24:47.830Z"
   },
   {
    "duration": 185,
    "start_time": "2023-04-06T17:25:36.767Z"
   },
   {
    "duration": 137,
    "start_time": "2023-04-06T17:25:47.401Z"
   },
   {
    "duration": 94,
    "start_time": "2023-04-06T17:32:13.703Z"
   },
   {
    "duration": 171,
    "start_time": "2023-04-06T17:32:28.674Z"
   },
   {
    "duration": 26,
    "start_time": "2023-04-06T17:32:45.589Z"
   },
   {
    "duration": 93,
    "start_time": "2023-04-06T17:32:46.467Z"
   },
   {
    "duration": 217,
    "start_time": "2023-04-06T17:33:06.481Z"
   },
   {
    "duration": 119,
    "start_time": "2023-04-06T17:33:25.436Z"
   },
   {
    "duration": 144,
    "start_time": "2023-04-06T17:37:17.402Z"
   },
   {
    "duration": 24,
    "start_time": "2023-04-06T17:38:07.808Z"
   },
   {
    "duration": 16,
    "start_time": "2023-04-06T17:39:11.347Z"
   },
   {
    "duration": 1932,
    "start_time": "2023-04-06T17:43:38.662Z"
   },
   {
    "duration": 4,
    "start_time": "2023-04-06T17:43:40.596Z"
   },
   {
    "duration": 166,
    "start_time": "2023-04-06T17:43:40.601Z"
   },
   {
    "duration": 42,
    "start_time": "2023-04-06T17:43:40.769Z"
   },
   {
    "duration": 50,
    "start_time": "2023-04-06T17:43:40.812Z"
   },
   {
    "duration": 77,
    "start_time": "2023-04-06T17:43:40.865Z"
   },
   {
    "duration": 42,
    "start_time": "2023-04-06T17:43:40.944Z"
   },
   {
    "duration": 5,
    "start_time": "2023-04-06T17:43:40.988Z"
   },
   {
    "duration": 22,
    "start_time": "2023-04-06T17:43:40.994Z"
   },
   {
    "duration": 58,
    "start_time": "2023-04-06T17:43:41.032Z"
   },
   {
    "duration": 58,
    "start_time": "2023-04-06T17:43:41.092Z"
   },
   {
    "duration": 45,
    "start_time": "2023-04-06T17:43:41.153Z"
   },
   {
    "duration": 9,
    "start_time": "2023-04-06T17:43:41.201Z"
   },
   {
    "duration": 87,
    "start_time": "2023-04-06T17:43:41.212Z"
   },
   {
    "duration": 73,
    "start_time": "2023-04-06T17:43:41.301Z"
   },
   {
    "duration": 44,
    "start_time": "2023-04-06T17:43:41.376Z"
   },
   {
    "duration": 79,
    "start_time": "2023-04-06T17:43:41.422Z"
   },
   {
    "duration": 42,
    "start_time": "2023-04-06T17:43:41.504Z"
   },
   {
    "duration": 54,
    "start_time": "2023-04-06T17:43:41.549Z"
   },
   {
    "duration": 5,
    "start_time": "2023-04-06T17:43:41.605Z"
   },
   {
    "duration": 65,
    "start_time": "2023-04-06T17:43:41.611Z"
   },
   {
    "duration": 101,
    "start_time": "2023-04-06T17:43:41.678Z"
   },
   {
    "duration": 10,
    "start_time": "2023-04-06T17:43:41.782Z"
   },
   {
    "duration": 104,
    "start_time": "2023-04-06T17:43:41.797Z"
   },
   {
    "duration": 39,
    "start_time": "2023-04-06T17:43:41.904Z"
   },
   {
    "duration": 2449,
    "start_time": "2023-04-06T17:43:41.947Z"
   },
   {
    "duration": 4,
    "start_time": "2023-04-06T17:43:44.397Z"
   },
   {
    "duration": 98,
    "start_time": "2023-04-06T17:43:44.405Z"
   },
   {
    "duration": 887,
    "start_time": "2023-04-06T17:43:44.505Z"
   },
   {
    "duration": 3323,
    "start_time": "2023-04-06T17:43:45.394Z"
   },
   {
    "duration": 824,
    "start_time": "2023-04-06T17:43:48.720Z"
   },
   {
    "duration": 733,
    "start_time": "2023-04-06T17:43:49.546Z"
   },
   {
    "duration": 12,
    "start_time": "2023-04-06T17:43:50.281Z"
   },
   {
    "duration": 4,
    "start_time": "2023-04-06T17:43:50.295Z"
   },
   {
    "duration": 11,
    "start_time": "2023-04-06T17:43:50.325Z"
   },
   {
    "duration": 41,
    "start_time": "2023-04-06T17:43:50.340Z"
   },
   {
    "duration": 97,
    "start_time": "2023-04-06T17:43:50.383Z"
   },
   {
    "duration": 6,
    "start_time": "2023-04-06T17:43:50.487Z"
   },
   {
    "duration": 16,
    "start_time": "2023-04-06T17:43:50.496Z"
   },
   {
    "duration": 59,
    "start_time": "2023-04-06T17:43:50.517Z"
   },
   {
    "duration": 179,
    "start_time": "2023-04-06T17:43:50.578Z"
   },
   {
    "duration": 5,
    "start_time": "2023-04-06T17:43:50.759Z"
   },
   {
    "duration": 204,
    "start_time": "2023-04-06T17:43:50.766Z"
   },
   {
    "duration": 0,
    "start_time": "2023-04-06T17:43:50.972Z"
   },
   {
    "duration": 0,
    "start_time": "2023-04-06T17:43:50.974Z"
   },
   {
    "duration": 0,
    "start_time": "2023-04-06T17:43:50.975Z"
   },
   {
    "duration": 0,
    "start_time": "2023-04-06T17:43:50.977Z"
   },
   {
    "duration": 0,
    "start_time": "2023-04-06T17:43:50.979Z"
   },
   {
    "duration": 0,
    "start_time": "2023-04-06T17:43:50.981Z"
   },
   {
    "duration": 0,
    "start_time": "2023-04-06T17:43:50.982Z"
   },
   {
    "duration": 0,
    "start_time": "2023-04-06T17:43:50.983Z"
   },
   {
    "duration": 0,
    "start_time": "2023-04-06T17:43:50.985Z"
   },
   {
    "duration": 0,
    "start_time": "2023-04-06T17:43:50.986Z"
   },
   {
    "duration": 6,
    "start_time": "2023-04-06T17:48:02.751Z"
   },
   {
    "duration": 17,
    "start_time": "2023-04-06T17:48:17.296Z"
   },
   {
    "duration": 326,
    "start_time": "2023-04-06T17:48:18.943Z"
   },
   {
    "duration": 5,
    "start_time": "2023-04-06T17:48:30.832Z"
   },
   {
    "duration": 47991,
    "start_time": "2023-04-06T17:48:38.891Z"
   },
   {
    "duration": 178,
    "start_time": "2023-04-06T17:50:09.604Z"
   },
   {
    "duration": 45399,
    "start_time": "2023-04-06T17:50:14.801Z"
   },
   {
    "duration": 180,
    "start_time": "2023-04-06T17:51:00.201Z"
   },
   {
    "duration": 3,
    "start_time": "2023-04-06T17:51:09.456Z"
   },
   {
    "duration": 648,
    "start_time": "2023-04-06T17:51:10.809Z"
   },
   {
    "duration": 190,
    "start_time": "2023-04-06T17:51:13.994Z"
   },
   {
    "duration": 9,
    "start_time": "2023-04-06T17:51:20.459Z"
   },
   {
    "duration": 334,
    "start_time": "2023-04-06T17:52:06.770Z"
   },
   {
    "duration": 53479,
    "start_time": "2023-04-06T17:56:31.008Z"
   },
   {
    "duration": 649,
    "start_time": "2023-04-06T17:58:48.798Z"
   },
   {
    "duration": 109,
    "start_time": "2023-04-06T18:00:29.289Z"
   },
   {
    "duration": 109,
    "start_time": "2023-04-06T18:01:08.142Z"
   },
   {
    "duration": 50303,
    "start_time": "2023-04-06T18:01:18.613Z"
   },
   {
    "duration": 54641,
    "start_time": "2023-04-06T18:06:20.511Z"
   },
   {
    "duration": 61402,
    "start_time": "2023-04-06T18:10:37.695Z"
   },
   {
    "duration": 611,
    "start_time": "2023-04-06T18:17:06.343Z"
   },
   {
    "duration": 0,
    "start_time": "2023-04-06T18:36:08.490Z"
   },
   {
    "duration": 47038,
    "start_time": "2023-04-06T18:36:16.357Z"
   },
   {
    "duration": 54085,
    "start_time": "2023-04-06T18:37:38.299Z"
   },
   {
    "duration": 62599,
    "start_time": "2023-04-06T18:41:21.049Z"
   },
   {
    "duration": 59795,
    "start_time": "2023-04-06T18:43:08.504Z"
   },
   {
    "duration": 53571,
    "start_time": "2023-04-06T18:44:24.482Z"
   },
   {
    "duration": 109,
    "start_time": "2023-04-06T18:45:22.883Z"
   },
   {
    "duration": 51491,
    "start_time": "2023-04-06T18:45:37.457Z"
   },
   {
    "duration": 2002,
    "start_time": "2023-04-07T13:48:55.470Z"
   },
   {
    "duration": 3,
    "start_time": "2023-04-07T13:48:57.475Z"
   },
   {
    "duration": 409,
    "start_time": "2023-04-07T13:48:57.479Z"
   },
   {
    "duration": 42,
    "start_time": "2023-04-07T13:48:57.890Z"
   },
   {
    "duration": 28,
    "start_time": "2023-04-07T13:48:57.934Z"
   },
   {
    "duration": 77,
    "start_time": "2023-04-07T13:48:57.965Z"
   },
   {
    "duration": 36,
    "start_time": "2023-04-07T13:48:58.043Z"
   },
   {
    "duration": 6,
    "start_time": "2023-04-07T13:48:58.082Z"
   },
   {
    "duration": 12,
    "start_time": "2023-04-07T13:48:58.090Z"
   },
   {
    "duration": 32,
    "start_time": "2023-04-07T13:48:58.105Z"
   },
   {
    "duration": 5,
    "start_time": "2023-04-07T13:48:58.139Z"
   },
   {
    "duration": 18,
    "start_time": "2023-04-07T13:48:58.146Z"
   },
   {
    "duration": 7,
    "start_time": "2023-04-07T13:48:58.166Z"
   },
   {
    "duration": 20,
    "start_time": "2023-04-07T13:48:58.176Z"
   },
   {
    "duration": 35,
    "start_time": "2023-04-07T13:48:58.198Z"
   },
   {
    "duration": 17,
    "start_time": "2023-04-07T13:48:58.235Z"
   },
   {
    "duration": 17,
    "start_time": "2023-04-07T13:48:58.253Z"
   },
   {
    "duration": 6,
    "start_time": "2023-04-07T13:48:58.271Z"
   },
   {
    "duration": 60,
    "start_time": "2023-04-07T13:48:58.279Z"
   },
   {
    "duration": 5,
    "start_time": "2023-04-07T13:48:58.341Z"
   },
   {
    "duration": 18,
    "start_time": "2023-04-07T13:48:58.348Z"
   },
   {
    "duration": 76,
    "start_time": "2023-04-07T13:48:58.368Z"
   },
   {
    "duration": 10,
    "start_time": "2023-04-07T13:48:58.446Z"
   },
   {
    "duration": 18,
    "start_time": "2023-04-07T13:48:58.457Z"
   },
   {
    "duration": 3,
    "start_time": "2023-04-07T13:48:58.477Z"
   },
   {
    "duration": 1620,
    "start_time": "2023-04-07T13:48:58.482Z"
   },
   {
    "duration": 3,
    "start_time": "2023-04-07T13:49:00.104Z"
   },
   {
    "duration": 32,
    "start_time": "2023-04-07T13:49:00.109Z"
   },
   {
    "duration": 621,
    "start_time": "2023-04-07T13:49:00.143Z"
   },
   {
    "duration": 2144,
    "start_time": "2023-04-07T13:49:00.766Z"
   },
   {
    "duration": 610,
    "start_time": "2023-04-07T13:49:02.912Z"
   },
   {
    "duration": 628,
    "start_time": "2023-04-07T13:49:03.526Z"
   },
   {
    "duration": 12,
    "start_time": "2023-04-07T13:49:04.156Z"
   },
   {
    "duration": 19,
    "start_time": "2023-04-07T13:49:04.170Z"
   },
   {
    "duration": 21,
    "start_time": "2023-04-07T13:49:04.191Z"
   },
   {
    "duration": 28,
    "start_time": "2023-04-07T13:49:04.214Z"
   },
   {
    "duration": 53,
    "start_time": "2023-04-07T13:49:04.244Z"
   },
   {
    "duration": 4,
    "start_time": "2023-04-07T13:49:04.299Z"
   },
   {
    "duration": 15,
    "start_time": "2023-04-07T13:49:04.305Z"
   },
   {
    "duration": 22,
    "start_time": "2023-04-07T13:49:04.322Z"
   },
   {
    "duration": 141,
    "start_time": "2023-04-07T13:49:04.348Z"
   },
   {
    "duration": 4,
    "start_time": "2023-04-07T13:49:04.491Z"
   },
   {
    "duration": 40,
    "start_time": "2023-04-07T13:49:04.498Z"
   },
   {
    "duration": 254,
    "start_time": "2023-04-07T13:49:04.540Z"
   },
   {
    "duration": 5,
    "start_time": "2023-04-07T13:49:04.796Z"
   },
   {
    "duration": 41779,
    "start_time": "2023-04-07T13:49:04.803Z"
   },
   {
    "duration": 164,
    "start_time": "2023-04-07T13:49:46.584Z"
   },
   {
    "duration": 42148,
    "start_time": "2023-04-07T13:49:46.750Z"
   },
   {
    "duration": 142,
    "start_time": "2023-04-07T13:50:28.900Z"
   },
   {
    "duration": 518,
    "start_time": "2023-04-07T13:50:29.043Z"
   },
   {
    "duration": 172,
    "start_time": "2023-04-07T13:50:29.563Z"
   },
   {
    "duration": 10,
    "start_time": "2023-04-07T13:50:29.737Z"
   },
   {
    "duration": 248,
    "start_time": "2023-04-07T13:50:29.749Z"
   },
   {
    "duration": 33437,
    "start_time": "2023-04-07T13:50:29.999Z"
   },
   {
    "duration": 2564,
    "start_time": "2023-04-08T13:53:07.227Z"
   },
   {
    "duration": 4,
    "start_time": "2023-04-08T13:53:09.793Z"
   },
   {
    "duration": 418,
    "start_time": "2023-04-08T13:53:09.798Z"
   },
   {
    "duration": 37,
    "start_time": "2023-04-08T13:53:10.218Z"
   },
   {
    "duration": 24,
    "start_time": "2023-04-08T13:53:10.257Z"
   },
   {
    "duration": 71,
    "start_time": "2023-04-08T13:53:10.283Z"
   },
   {
    "duration": 26,
    "start_time": "2023-04-08T13:53:10.356Z"
   },
   {
    "duration": 5,
    "start_time": "2023-04-08T13:53:10.383Z"
   },
   {
    "duration": 8,
    "start_time": "2023-04-08T13:53:10.389Z"
   },
   {
    "duration": 33,
    "start_time": "2023-04-08T13:53:10.400Z"
   },
   {
    "duration": 4,
    "start_time": "2023-04-08T13:53:10.435Z"
   },
   {
    "duration": 18,
    "start_time": "2023-04-08T13:53:10.440Z"
   },
   {
    "duration": 6,
    "start_time": "2023-04-08T13:53:10.460Z"
   },
   {
    "duration": 21,
    "start_time": "2023-04-08T13:53:10.468Z"
   },
   {
    "duration": 5,
    "start_time": "2023-04-08T13:53:10.491Z"
   },
   {
    "duration": 42,
    "start_time": "2023-04-08T13:53:10.497Z"
   },
   {
    "duration": 14,
    "start_time": "2023-04-08T13:53:10.541Z"
   },
   {
    "duration": 5,
    "start_time": "2023-04-08T13:53:10.557Z"
   },
   {
    "duration": 35,
    "start_time": "2023-04-08T13:53:10.564Z"
   },
   {
    "duration": 5,
    "start_time": "2023-04-08T13:53:10.600Z"
   },
   {
    "duration": 28,
    "start_time": "2023-04-08T13:53:10.607Z"
   },
   {
    "duration": 63,
    "start_time": "2023-04-08T13:53:10.636Z"
   },
   {
    "duration": 10,
    "start_time": "2023-04-08T13:53:10.701Z"
   },
   {
    "duration": 34,
    "start_time": "2023-04-08T13:53:10.712Z"
   },
   {
    "duration": 5,
    "start_time": "2023-04-08T13:53:10.747Z"
   },
   {
    "duration": 1582,
    "start_time": "2023-04-08T13:53:10.755Z"
   },
   {
    "duration": 3,
    "start_time": "2023-04-08T13:53:12.339Z"
   },
   {
    "duration": 19,
    "start_time": "2023-04-08T13:53:12.345Z"
   },
   {
    "duration": 584,
    "start_time": "2023-04-08T13:53:12.365Z"
   },
   {
    "duration": 1783,
    "start_time": "2023-04-08T13:53:12.951Z"
   },
   {
    "duration": 497,
    "start_time": "2023-04-08T13:53:14.736Z"
   },
   {
    "duration": 475,
    "start_time": "2023-04-08T13:53:15.235Z"
   },
   {
    "duration": 10,
    "start_time": "2023-04-08T13:53:15.711Z"
   },
   {
    "duration": 12,
    "start_time": "2023-04-08T13:53:15.722Z"
   },
   {
    "duration": 6,
    "start_time": "2023-04-08T13:53:15.735Z"
   },
   {
    "duration": 8,
    "start_time": "2023-04-08T13:53:15.742Z"
   },
   {
    "duration": 33,
    "start_time": "2023-04-08T13:53:15.751Z"
   },
   {
    "duration": 3,
    "start_time": "2023-04-08T13:53:15.785Z"
   },
   {
    "duration": 9,
    "start_time": "2023-04-08T13:53:15.790Z"
   },
   {
    "duration": 32,
    "start_time": "2023-04-08T13:53:15.801Z"
   },
   {
    "duration": 111,
    "start_time": "2023-04-08T13:53:15.835Z"
   },
   {
    "duration": 4,
    "start_time": "2023-04-08T13:53:15.947Z"
   },
   {
    "duration": 21,
    "start_time": "2023-04-08T13:53:15.952Z"
   },
   {
    "duration": 228,
    "start_time": "2023-04-08T13:53:15.974Z"
   },
   {
    "duration": 4,
    "start_time": "2023-04-08T13:53:16.203Z"
   },
   {
    "duration": 37202,
    "start_time": "2023-04-08T13:53:16.208Z"
   },
   {
    "duration": 121,
    "start_time": "2023-04-08T13:53:53.412Z"
   },
   {
    "duration": 28941,
    "start_time": "2023-04-08T13:53:53.534Z"
   },
   {
    "duration": 134,
    "start_time": "2023-04-08T13:54:22.477Z"
   },
   {
    "duration": 468,
    "start_time": "2023-04-08T13:54:22.612Z"
   },
   {
    "duration": 163,
    "start_time": "2023-04-08T13:54:23.082Z"
   },
   {
    "duration": 10,
    "start_time": "2023-04-08T13:54:23.246Z"
   },
   {
    "duration": 249,
    "start_time": "2023-04-08T13:54:23.257Z"
   },
   {
    "duration": 23679,
    "start_time": "2023-04-08T13:54:23.507Z"
   },
   {
    "duration": 137,
    "start_time": "2023-04-08T15:09:52.294Z"
   },
   {
    "duration": 2438,
    "start_time": "2023-04-08T15:11:52.992Z"
   },
   {
    "duration": 7,
    "start_time": "2023-04-08T15:11:55.435Z"
   },
   {
    "duration": 594,
    "start_time": "2023-04-08T15:11:55.445Z"
   },
   {
    "duration": 58,
    "start_time": "2023-04-08T15:11:56.041Z"
   },
   {
    "duration": 35,
    "start_time": "2023-04-08T15:11:56.102Z"
   },
   {
    "duration": 90,
    "start_time": "2023-04-08T15:11:56.139Z"
   },
   {
    "duration": 68,
    "start_time": "2023-04-08T15:11:56.232Z"
   },
   {
    "duration": 7,
    "start_time": "2023-04-08T15:11:56.302Z"
   },
   {
    "duration": 7,
    "start_time": "2023-04-08T15:11:56.315Z"
   },
   {
    "duration": 5,
    "start_time": "2023-04-08T15:11:56.324Z"
   },
   {
    "duration": 4,
    "start_time": "2023-04-08T15:11:56.331Z"
   },
   {
    "duration": 18,
    "start_time": "2023-04-08T15:11:56.337Z"
   },
   {
    "duration": 10,
    "start_time": "2023-04-08T15:11:56.370Z"
   },
   {
    "duration": 28,
    "start_time": "2023-04-08T15:11:56.384Z"
   },
   {
    "duration": 5,
    "start_time": "2023-04-08T15:11:56.414Z"
   },
   {
    "duration": 20,
    "start_time": "2023-04-08T15:11:56.422Z"
   },
   {
    "duration": 43,
    "start_time": "2023-04-08T15:11:56.444Z"
   },
   {
    "duration": 6,
    "start_time": "2023-04-08T15:11:56.489Z"
   },
   {
    "duration": 40,
    "start_time": "2023-04-08T15:11:56.497Z"
   },
   {
    "duration": 6,
    "start_time": "2023-04-08T15:11:56.540Z"
   },
   {
    "duration": 25,
    "start_time": "2023-04-08T15:11:56.548Z"
   },
   {
    "duration": 82,
    "start_time": "2023-04-08T15:11:56.575Z"
   },
   {
    "duration": 12,
    "start_time": "2023-04-08T15:11:56.669Z"
   },
   {
    "duration": 20,
    "start_time": "2023-04-08T15:11:56.685Z"
   },
   {
    "duration": 9,
    "start_time": "2023-04-08T15:11:56.711Z"
   },
   {
    "duration": 2551,
    "start_time": "2023-04-08T15:11:56.723Z"
   },
   {
    "duration": 6,
    "start_time": "2023-04-08T15:11:59.277Z"
   },
   {
    "duration": 11,
    "start_time": "2023-04-08T15:11:59.286Z"
   },
   {
    "duration": 981,
    "start_time": "2023-04-08T15:11:59.300Z"
   },
   {
    "duration": 2711,
    "start_time": "2023-04-08T15:12:00.284Z"
   },
   {
    "duration": 748,
    "start_time": "2023-04-08T15:12:02.998Z"
   },
   {
    "duration": 781,
    "start_time": "2023-04-08T15:12:03.749Z"
   },
   {
    "duration": 15,
    "start_time": "2023-04-08T15:12:04.532Z"
   },
   {
    "duration": 7,
    "start_time": "2023-04-08T15:12:04.549Z"
   },
   {
    "duration": 14,
    "start_time": "2023-04-08T15:12:04.558Z"
   },
   {
    "duration": 15,
    "start_time": "2023-04-08T15:12:04.574Z"
   },
   {
    "duration": 33,
    "start_time": "2023-04-08T15:12:04.594Z"
   },
   {
    "duration": 24,
    "start_time": "2023-04-08T15:12:04.633Z"
   },
   {
    "duration": 169,
    "start_time": "2023-04-08T15:12:04.660Z"
   },
   {
    "duration": 1289,
    "start_time": "2023-04-08T15:12:04.831Z"
   },
   {
    "duration": 0,
    "start_time": "2023-04-08T15:12:06.127Z"
   },
   {
    "duration": 0,
    "start_time": "2023-04-08T15:12:06.132Z"
   },
   {
    "duration": 0,
    "start_time": "2023-04-08T15:12:06.137Z"
   },
   {
    "duration": 0,
    "start_time": "2023-04-08T15:12:06.142Z"
   },
   {
    "duration": 0,
    "start_time": "2023-04-08T15:12:06.146Z"
   },
   {
    "duration": 0,
    "start_time": "2023-04-08T15:12:06.149Z"
   },
   {
    "duration": 0,
    "start_time": "2023-04-08T15:12:06.151Z"
   },
   {
    "duration": 0,
    "start_time": "2023-04-08T15:12:06.154Z"
   },
   {
    "duration": 11,
    "start_time": "2023-04-08T15:31:54.428Z"
   },
   {
    "duration": 19,
    "start_time": "2023-04-08T15:32:27.906Z"
   },
   {
    "duration": 1019,
    "start_time": "2023-04-08T15:46:01.426Z"
   },
   {
    "duration": 197,
    "start_time": "2023-04-08T15:48:06.067Z"
   },
   {
    "duration": 13,
    "start_time": "2023-04-08T15:54:21.652Z"
   },
   {
    "duration": 4,
    "start_time": "2023-04-08T15:54:35.462Z"
   },
   {
    "duration": 133,
    "start_time": "2023-04-08T15:54:54.188Z"
   },
   {
    "duration": 12,
    "start_time": "2023-04-08T15:54:58.292Z"
   },
   {
    "duration": 43554,
    "start_time": "2023-04-08T15:55:01.801Z"
   },
   {
    "duration": 67,
    "start_time": "2023-04-08T15:56:30.599Z"
   },
   {
    "duration": 227,
    "start_time": "2023-04-08T15:56:43.293Z"
   },
   {
    "duration": 81908,
    "start_time": "2023-04-08T15:56:47.319Z"
   },
   {
    "duration": 147,
    "start_time": "2023-04-08T15:59:34.035Z"
   },
   {
    "duration": 947,
    "start_time": "2023-04-08T16:01:11.430Z"
   },
   {
    "duration": 284,
    "start_time": "2023-04-08T16:01:49.371Z"
   },
   {
    "duration": 20,
    "start_time": "2023-04-08T16:02:02.388Z"
   },
   {
    "duration": 15,
    "start_time": "2023-04-08T16:02:30.649Z"
   },
   {
    "duration": 2288,
    "start_time": "2023-04-09T12:53:36.111Z"
   },
   {
    "duration": 4,
    "start_time": "2023-04-09T12:53:38.401Z"
   },
   {
    "duration": 265,
    "start_time": "2023-04-09T12:53:38.406Z"
   },
   {
    "duration": 40,
    "start_time": "2023-04-09T12:53:38.673Z"
   },
   {
    "duration": 29,
    "start_time": "2023-04-09T12:53:38.715Z"
   },
   {
    "duration": 48,
    "start_time": "2023-04-09T12:53:38.762Z"
   },
   {
    "duration": 57,
    "start_time": "2023-04-09T12:53:38.812Z"
   },
   {
    "duration": 5,
    "start_time": "2023-04-09T12:53:38.870Z"
   },
   {
    "duration": 5,
    "start_time": "2023-04-09T12:53:38.876Z"
   },
   {
    "duration": 5,
    "start_time": "2023-04-09T12:53:38.883Z"
   },
   {
    "duration": 10,
    "start_time": "2023-04-09T12:53:38.890Z"
   },
   {
    "duration": 14,
    "start_time": "2023-04-09T12:53:38.902Z"
   },
   {
    "duration": 15,
    "start_time": "2023-04-09T12:53:38.917Z"
   },
   {
    "duration": 49,
    "start_time": "2023-04-09T12:53:38.934Z"
   },
   {
    "duration": 5,
    "start_time": "2023-04-09T12:53:38.985Z"
   },
   {
    "duration": 25,
    "start_time": "2023-04-09T12:53:38.992Z"
   },
   {
    "duration": 15,
    "start_time": "2023-04-09T12:53:39.019Z"
   },
   {
    "duration": 6,
    "start_time": "2023-04-09T12:53:39.036Z"
   },
   {
    "duration": 43,
    "start_time": "2023-04-09T12:53:39.043Z"
   },
   {
    "duration": 6,
    "start_time": "2023-04-09T12:53:39.088Z"
   },
   {
    "duration": 11,
    "start_time": "2023-04-09T12:53:39.095Z"
   },
   {
    "duration": 77,
    "start_time": "2023-04-09T12:53:39.108Z"
   },
   {
    "duration": 9,
    "start_time": "2023-04-09T12:53:39.186Z"
   },
   {
    "duration": 15,
    "start_time": "2023-04-09T12:53:39.197Z"
   },
   {
    "duration": 3,
    "start_time": "2023-04-09T12:53:39.213Z"
   },
   {
    "duration": 1469,
    "start_time": "2023-04-09T12:53:39.218Z"
   },
   {
    "duration": 3,
    "start_time": "2023-04-09T12:53:40.688Z"
   },
   {
    "duration": 4,
    "start_time": "2023-04-09T12:53:40.695Z"
   },
   {
    "duration": 564,
    "start_time": "2023-04-09T12:53:40.701Z"
   },
   {
    "duration": 2014,
    "start_time": "2023-04-09T12:53:41.267Z"
   },
   {
    "duration": 575,
    "start_time": "2023-04-09T12:53:43.282Z"
   },
   {
    "duration": 635,
    "start_time": "2023-04-09T12:53:43.859Z"
   },
   {
    "duration": 9,
    "start_time": "2023-04-09T12:53:44.496Z"
   },
   {
    "duration": 3,
    "start_time": "2023-04-09T12:53:44.507Z"
   },
   {
    "duration": 5,
    "start_time": "2023-04-09T12:53:44.512Z"
   },
   {
    "duration": 4,
    "start_time": "2023-04-09T12:53:44.519Z"
   },
   {
    "duration": 13,
    "start_time": "2023-04-09T12:53:44.524Z"
   },
   {
    "duration": 25,
    "start_time": "2023-04-09T12:53:44.539Z"
   },
   {
    "duration": 22,
    "start_time": "2023-04-09T12:53:44.566Z"
   },
   {
    "duration": 80,
    "start_time": "2023-04-09T12:53:44.591Z"
   },
   {
    "duration": 6,
    "start_time": "2023-04-09T12:53:44.672Z"
   },
   {
    "duration": 33774,
    "start_time": "2023-04-09T12:53:44.679Z"
   },
   {
    "duration": 175,
    "start_time": "2023-04-09T12:54:18.455Z"
   },
   {
    "duration": 56137,
    "start_time": "2023-04-09T12:54:18.632Z"
   },
   {
    "duration": 152,
    "start_time": "2023-04-09T12:55:14.771Z"
   },
   {
    "duration": 682,
    "start_time": "2023-04-09T12:55:14.925Z"
   },
   {
    "duration": 139,
    "start_time": "2023-04-09T12:55:15.608Z"
   },
   {
    "duration": 43553,
    "start_time": "2023-04-09T12:55:15.749Z"
   },
   {
    "duration": 8,
    "start_time": "2023-04-09T14:26:13.557Z"
   },
   {
    "duration": 4,
    "start_time": "2023-04-09T14:26:38.340Z"
   },
   {
    "duration": 2069,
    "start_time": "2023-04-11T16:04:12.348Z"
   },
   {
    "duration": 5,
    "start_time": "2023-04-11T16:04:14.421Z"
   },
   {
    "duration": 501,
    "start_time": "2023-04-11T16:04:14.436Z"
   },
   {
    "duration": 55,
    "start_time": "2023-04-11T16:04:14.941Z"
   },
   {
    "duration": 53,
    "start_time": "2023-04-11T16:04:15.000Z"
   },
   {
    "duration": 57,
    "start_time": "2023-04-11T16:04:15.055Z"
   },
   {
    "duration": 39,
    "start_time": "2023-04-11T16:04:15.136Z"
   },
   {
    "duration": 5,
    "start_time": "2023-04-11T16:04:15.177Z"
   },
   {
    "duration": 7,
    "start_time": "2023-04-11T16:04:15.184Z"
   },
   {
    "duration": 7,
    "start_time": "2023-04-11T16:04:15.193Z"
   },
   {
    "duration": 34,
    "start_time": "2023-04-11T16:04:15.202Z"
   },
   {
    "duration": 41,
    "start_time": "2023-04-11T16:04:15.237Z"
   },
   {
    "duration": 10,
    "start_time": "2023-04-11T16:04:15.281Z"
   },
   {
    "duration": 50,
    "start_time": "2023-04-11T16:04:15.298Z"
   },
   {
    "duration": 7,
    "start_time": "2023-04-11T16:04:15.350Z"
   },
   {
    "duration": 24,
    "start_time": "2023-04-11T16:04:15.359Z"
   },
   {
    "duration": 17,
    "start_time": "2023-04-11T16:04:15.386Z"
   },
   {
    "duration": 7,
    "start_time": "2023-04-11T16:04:15.405Z"
   },
   {
    "duration": 45,
    "start_time": "2023-04-11T16:04:15.434Z"
   },
   {
    "duration": 6,
    "start_time": "2023-04-11T16:04:15.481Z"
   },
   {
    "duration": 16,
    "start_time": "2023-04-11T16:04:15.489Z"
   },
   {
    "duration": 85,
    "start_time": "2023-04-11T16:04:15.507Z"
   },
   {
    "duration": 11,
    "start_time": "2023-04-11T16:04:15.594Z"
   },
   {
    "duration": 40,
    "start_time": "2023-04-11T16:04:15.607Z"
   },
   {
    "duration": 8,
    "start_time": "2023-04-11T16:04:15.651Z"
   },
   {
    "duration": 1897,
    "start_time": "2023-04-11T16:04:15.661Z"
   },
   {
    "duration": 4,
    "start_time": "2023-04-11T16:04:17.560Z"
   },
   {
    "duration": 13,
    "start_time": "2023-04-11T16:04:17.566Z"
   },
   {
    "duration": 709,
    "start_time": "2023-04-11T16:04:17.581Z"
   },
   {
    "duration": 2435,
    "start_time": "2023-04-11T16:04:18.292Z"
   },
   {
    "duration": 669,
    "start_time": "2023-04-11T16:04:20.735Z"
   },
   {
    "duration": 694,
    "start_time": "2023-04-11T16:04:21.407Z"
   },
   {
    "duration": 13,
    "start_time": "2023-04-11T16:04:22.103Z"
   },
   {
    "duration": 18,
    "start_time": "2023-04-11T16:04:22.119Z"
   },
   {
    "duration": 24,
    "start_time": "2023-04-11T16:04:22.141Z"
   },
   {
    "duration": 8,
    "start_time": "2023-04-11T16:04:22.166Z"
   },
   {
    "duration": 18,
    "start_time": "2023-04-11T16:04:22.176Z"
   },
   {
    "duration": 6,
    "start_time": "2023-04-11T16:04:22.196Z"
   },
   {
    "duration": 20,
    "start_time": "2023-04-11T16:04:22.205Z"
   },
   {
    "duration": 78,
    "start_time": "2023-04-11T16:04:22.228Z"
   },
   {
    "duration": 5,
    "start_time": "2023-04-11T16:04:22.311Z"
   },
   {
    "duration": 88,
    "start_time": "2023-04-11T16:04:22.318Z"
   },
   {
    "duration": 0,
    "start_time": "2023-04-11T16:04:22.408Z"
   },
   {
    "duration": 0,
    "start_time": "2023-04-11T16:04:22.410Z"
   },
   {
    "duration": 0,
    "start_time": "2023-04-11T16:04:22.411Z"
   },
   {
    "duration": 0,
    "start_time": "2023-04-11T16:04:22.413Z"
   },
   {
    "duration": 0,
    "start_time": "2023-04-11T16:04:22.414Z"
   },
   {
    "duration": 0,
    "start_time": "2023-04-11T16:04:22.416Z"
   },
   {
    "duration": 0,
    "start_time": "2023-04-11T16:04:22.418Z"
   },
   {
    "duration": 38509,
    "start_time": "2023-04-11T16:08:22.350Z"
   },
   {
    "duration": 38683,
    "start_time": "2023-04-11T16:10:05.259Z"
   },
   {
    "duration": 5,
    "start_time": "2023-04-11T16:10:43.944Z"
   },
   {
    "duration": 132,
    "start_time": "2023-04-11T16:10:55.743Z"
   },
   {
    "duration": 72674,
    "start_time": "2023-04-11T16:10:59.675Z"
   },
   {
    "duration": 158,
    "start_time": "2023-04-11T16:14:47.741Z"
   },
   {
    "duration": 777,
    "start_time": "2023-04-11T16:14:49.758Z"
   },
   {
    "duration": 162,
    "start_time": "2023-04-11T16:14:52.361Z"
   },
   {
    "duration": 4,
    "start_time": "2023-04-11T16:16:01.678Z"
   },
   {
    "duration": 65850,
    "start_time": "2023-04-11T16:16:05.033Z"
   },
   {
    "duration": 58760,
    "start_time": "2023-04-11T16:19:34.061Z"
   },
   {
    "duration": 1642,
    "start_time": "2023-04-11T16:21:03.355Z"
   },
   {
    "duration": 4,
    "start_time": "2023-04-11T16:21:04.999Z"
   },
   {
    "duration": 171,
    "start_time": "2023-04-11T16:21:05.004Z"
   },
   {
    "duration": 42,
    "start_time": "2023-04-11T16:21:05.177Z"
   },
   {
    "duration": 35,
    "start_time": "2023-04-11T16:21:05.222Z"
   },
   {
    "duration": 80,
    "start_time": "2023-04-11T16:21:05.260Z"
   },
   {
    "duration": 36,
    "start_time": "2023-04-11T16:21:05.342Z"
   },
   {
    "duration": 6,
    "start_time": "2023-04-11T16:21:05.380Z"
   },
   {
    "duration": 39,
    "start_time": "2023-04-11T16:21:05.388Z"
   },
   {
    "duration": 16,
    "start_time": "2023-04-11T16:21:05.433Z"
   },
   {
    "duration": 27,
    "start_time": "2023-04-11T16:21:05.451Z"
   },
   {
    "duration": 47,
    "start_time": "2023-04-11T16:21:05.480Z"
   },
   {
    "duration": 26,
    "start_time": "2023-04-11T16:21:05.528Z"
   },
   {
    "duration": 28,
    "start_time": "2023-04-11T16:21:05.558Z"
   },
   {
    "duration": 8,
    "start_time": "2023-04-11T16:21:05.588Z"
   },
   {
    "duration": 36,
    "start_time": "2023-04-11T16:21:05.599Z"
   },
   {
    "duration": 26,
    "start_time": "2023-04-11T16:21:05.637Z"
   },
   {
    "duration": 6,
    "start_time": "2023-04-11T16:21:05.665Z"
   },
   {
    "duration": 48,
    "start_time": "2023-04-11T16:21:05.673Z"
   },
   {
    "duration": 7,
    "start_time": "2023-04-11T16:21:05.723Z"
   },
   {
    "duration": 20,
    "start_time": "2023-04-11T16:21:05.732Z"
   },
   {
    "duration": 86,
    "start_time": "2023-04-11T16:21:05.754Z"
   },
   {
    "duration": 10,
    "start_time": "2023-04-11T16:21:05.842Z"
   },
   {
    "duration": 41,
    "start_time": "2023-04-11T16:21:05.854Z"
   },
   {
    "duration": 13,
    "start_time": "2023-04-11T16:21:05.896Z"
   },
   {
    "duration": 1771,
    "start_time": "2023-04-11T16:21:05.911Z"
   },
   {
    "duration": 4,
    "start_time": "2023-04-11T16:21:07.684Z"
   },
   {
    "duration": 10,
    "start_time": "2023-04-11T16:21:07.690Z"
   },
   {
    "duration": 609,
    "start_time": "2023-04-11T16:21:07.702Z"
   },
   {
    "duration": 2226,
    "start_time": "2023-04-11T16:21:08.312Z"
   },
   {
    "duration": 599,
    "start_time": "2023-04-11T16:21:10.540Z"
   },
   {
    "duration": 571,
    "start_time": "2023-04-11T16:21:11.141Z"
   },
   {
    "duration": 21,
    "start_time": "2023-04-11T16:21:11.713Z"
   },
   {
    "duration": 5,
    "start_time": "2023-04-11T16:21:11.736Z"
   },
   {
    "duration": 9,
    "start_time": "2023-04-11T16:21:11.742Z"
   },
   {
    "duration": 9,
    "start_time": "2023-04-11T16:21:11.754Z"
   },
   {
    "duration": 11,
    "start_time": "2023-04-11T16:21:11.765Z"
   },
   {
    "duration": 8,
    "start_time": "2023-04-11T16:21:11.778Z"
   },
   {
    "duration": 45,
    "start_time": "2023-04-11T16:21:11.788Z"
   },
   {
    "duration": 102,
    "start_time": "2023-04-11T16:21:11.836Z"
   },
   {
    "duration": 4,
    "start_time": "2023-04-11T16:21:11.943Z"
   },
   {
    "duration": 33319,
    "start_time": "2023-04-11T16:21:11.949Z"
   },
   {
    "duration": 133,
    "start_time": "2023-04-11T16:21:45.270Z"
   },
   {
    "duration": 61800,
    "start_time": "2023-04-11T16:21:45.405Z"
   },
   {
    "duration": 135,
    "start_time": "2023-04-11T16:22:47.207Z"
   },
   {
    "duration": 724,
    "start_time": "2023-04-11T16:22:47.344Z"
   },
   {
    "duration": 150,
    "start_time": "2023-04-11T16:22:48.070Z"
   },
   {
    "duration": 12,
    "start_time": "2023-04-11T16:22:48.222Z"
   },
   {
    "duration": 49886,
    "start_time": "2023-04-11T16:22:48.235Z"
   },
   {
    "duration": 0,
    "start_time": "2023-04-11T16:23:38.123Z"
   },
   {
    "duration": 0,
    "start_time": "2023-04-11T16:23:38.124Z"
   },
   {
    "duration": 0,
    "start_time": "2023-04-11T16:23:38.125Z"
   },
   {
    "duration": 58018,
    "start_time": "2023-04-11T16:26:27.082Z"
   },
   {
    "duration": 61975,
    "start_time": "2023-04-11T16:29:44.057Z"
   },
   {
    "duration": 62461,
    "start_time": "2023-04-11T16:33:47.782Z"
   },
   {
    "duration": 6,
    "start_time": "2023-04-11T16:35:59.309Z"
   },
   {
    "duration": 6,
    "start_time": "2023-04-11T16:36:03.689Z"
   },
   {
    "duration": 64184,
    "start_time": "2023-04-11T16:36:05.204Z"
   },
   {
    "duration": 50046,
    "start_time": "2023-04-11T16:38:13.248Z"
   },
   {
    "duration": 67360,
    "start_time": "2023-04-11T16:39:50.099Z"
   },
   {
    "duration": 55329,
    "start_time": "2023-04-11T16:41:58.126Z"
   },
   {
    "duration": 20,
    "start_time": "2023-04-11T16:44:14.969Z"
   },
   {
    "duration": 17,
    "start_time": "2023-04-11T16:46:25.842Z"
   },
   {
    "duration": 11,
    "start_time": "2023-04-11T16:50:13.412Z"
   },
   {
    "duration": 46358,
    "start_time": "2023-04-11T16:50:24.550Z"
   },
   {
    "duration": 7,
    "start_time": "2023-04-11T16:52:49.592Z"
   },
   {
    "duration": 13,
    "start_time": "2023-04-11T16:52:55.040Z"
   },
   {
    "duration": 7,
    "start_time": "2023-04-11T16:54:27.122Z"
   },
   {
    "duration": 21,
    "start_time": "2023-04-11T16:54:28.144Z"
   },
   {
    "duration": 47592,
    "start_time": "2023-04-11T16:54:42.338Z"
   },
   {
    "duration": 7,
    "start_time": "2023-04-11T16:55:29.933Z"
   },
   {
    "duration": 27,
    "start_time": "2023-04-11T16:55:29.942Z"
   },
   {
    "duration": 130,
    "start_time": "2023-04-11T16:58:20.178Z"
   },
   {
    "duration": 48911,
    "start_time": "2023-04-11T16:58:47.414Z"
   },
   {
    "duration": 54529,
    "start_time": "2023-04-11T17:01:02.178Z"
   },
   {
    "duration": 56647,
    "start_time": "2023-04-11T17:07:01.197Z"
   },
   {
    "duration": 56888,
    "start_time": "2023-04-11T17:10:04.485Z"
   },
   {
    "duration": 55932,
    "start_time": "2023-04-11T17:13:05.529Z"
   },
   {
    "duration": 58378,
    "start_time": "2023-04-11T17:14:53.230Z"
   },
   {
    "duration": 52475,
    "start_time": "2023-04-11T17:16:11.102Z"
   },
   {
    "duration": 62772,
    "start_time": "2023-04-11T17:18:17.642Z"
   },
   {
    "duration": 105,
    "start_time": "2023-04-11T17:20:16.904Z"
   },
   {
    "duration": 15,
    "start_time": "2023-04-11T17:20:34.338Z"
   },
   {
    "duration": 49341,
    "start_time": "2023-04-11T17:29:47.600Z"
   },
   {
    "duration": 55340,
    "start_time": "2023-04-11T17:31:23.506Z"
   },
   {
    "duration": 11,
    "start_time": "2023-04-11T17:32:18.856Z"
   },
   {
    "duration": 64686,
    "start_time": "2023-04-11T17:34:43.386Z"
   },
   {
    "duration": 13,
    "start_time": "2023-04-11T17:38:49.168Z"
   },
   {
    "duration": 0,
    "start_time": "2023-04-11T17:40:37.886Z"
   },
   {
    "duration": 56283,
    "start_time": "2023-04-11T17:41:51.478Z"
   },
   {
    "duration": 60992,
    "start_time": "2023-04-11T17:43:16.551Z"
   },
   {
    "duration": 16,
    "start_time": "2023-04-11T17:44:47.688Z"
   },
   {
    "duration": 118,
    "start_time": "2023-04-11T17:48:21.325Z"
   },
   {
    "duration": 13,
    "start_time": "2023-04-11T17:48:31.444Z"
   },
   {
    "duration": 6,
    "start_time": "2023-04-11T17:49:29.872Z"
   },
   {
    "duration": 21,
    "start_time": "2023-04-11T17:49:45.699Z"
   },
   {
    "duration": 1613,
    "start_time": "2023-04-11T17:51:53.663Z"
   },
   {
    "duration": 4,
    "start_time": "2023-04-11T17:51:55.278Z"
   },
   {
    "duration": 127,
    "start_time": "2023-04-11T17:51:55.284Z"
   },
   {
    "duration": 34,
    "start_time": "2023-04-11T17:51:55.413Z"
   },
   {
    "duration": 25,
    "start_time": "2023-04-11T17:51:55.450Z"
   },
   {
    "duration": 68,
    "start_time": "2023-04-11T17:51:55.476Z"
   },
   {
    "duration": 27,
    "start_time": "2023-04-11T17:51:55.546Z"
   },
   {
    "duration": 4,
    "start_time": "2023-04-11T17:51:55.575Z"
   },
   {
    "duration": 8,
    "start_time": "2023-04-11T17:51:55.581Z"
   },
   {
    "duration": 6,
    "start_time": "2023-04-11T17:51:55.591Z"
   },
   {
    "duration": 37,
    "start_time": "2023-04-11T17:51:55.598Z"
   },
   {
    "duration": 20,
    "start_time": "2023-04-11T17:51:55.637Z"
   },
   {
    "duration": 12,
    "start_time": "2023-04-11T17:51:55.659Z"
   },
   {
    "duration": 32,
    "start_time": "2023-04-11T17:51:55.675Z"
   },
   {
    "duration": 5,
    "start_time": "2023-04-11T17:51:55.709Z"
   },
   {
    "duration": 33,
    "start_time": "2023-04-11T17:51:55.715Z"
   },
   {
    "duration": 16,
    "start_time": "2023-04-11T17:51:55.749Z"
   },
   {
    "duration": 5,
    "start_time": "2023-04-11T17:51:55.767Z"
   },
   {
    "duration": 35,
    "start_time": "2023-04-11T17:51:55.773Z"
   },
   {
    "duration": 6,
    "start_time": "2023-04-11T17:51:55.809Z"
   },
   {
    "duration": 4,
    "start_time": "2023-04-11T17:51:55.834Z"
   },
   {
    "duration": 66,
    "start_time": "2023-04-11T17:51:55.840Z"
   },
   {
    "duration": 26,
    "start_time": "2023-04-11T17:51:55.908Z"
   },
   {
    "duration": 19,
    "start_time": "2023-04-11T17:51:55.936Z"
   },
   {
    "duration": 3,
    "start_time": "2023-04-11T17:51:55.957Z"
   },
   {
    "duration": 1591,
    "start_time": "2023-04-11T17:51:55.962Z"
   },
   {
    "duration": 3,
    "start_time": "2023-04-11T17:51:57.555Z"
   },
   {
    "duration": 8,
    "start_time": "2023-04-11T17:51:57.560Z"
   },
   {
    "duration": 566,
    "start_time": "2023-04-11T17:51:57.570Z"
   },
   {
    "duration": 2025,
    "start_time": "2023-04-11T17:51:58.138Z"
   },
   {
    "duration": 580,
    "start_time": "2023-04-11T17:52:00.165Z"
   },
   {
    "duration": 591,
    "start_time": "2023-04-11T17:52:00.747Z"
   },
   {
    "duration": 11,
    "start_time": "2023-04-11T17:52:01.339Z"
   },
   {
    "duration": 42,
    "start_time": "2023-04-11T17:52:01.352Z"
   },
   {
    "duration": 35,
    "start_time": "2023-04-11T17:52:01.396Z"
   },
   {
    "duration": 21,
    "start_time": "2023-04-11T17:52:01.433Z"
   },
   {
    "duration": 34,
    "start_time": "2023-04-11T17:52:01.455Z"
   },
   {
    "duration": 31,
    "start_time": "2023-04-11T17:52:01.491Z"
   },
   {
    "duration": 39,
    "start_time": "2023-04-11T17:52:01.524Z"
   },
   {
    "duration": 14,
    "start_time": "2023-04-11T17:52:01.565Z"
   },
   {
    "duration": 1046,
    "start_time": "2023-04-11T17:52:01.583Z"
   },
   {
    "duration": 0,
    "start_time": "2023-04-11T17:52:02.633Z"
   },
   {
    "duration": 0,
    "start_time": "2023-04-11T17:52:02.635Z"
   },
   {
    "duration": 0,
    "start_time": "2023-04-11T17:52:02.636Z"
   },
   {
    "duration": 0,
    "start_time": "2023-04-11T17:52:02.637Z"
   },
   {
    "duration": 0,
    "start_time": "2023-04-11T17:52:02.638Z"
   },
   {
    "duration": 0,
    "start_time": "2023-04-11T17:52:02.639Z"
   },
   {
    "duration": 0,
    "start_time": "2023-04-11T17:52:02.640Z"
   },
   {
    "duration": 0,
    "start_time": "2023-04-11T17:52:02.641Z"
   },
   {
    "duration": 0,
    "start_time": "2023-04-11T17:52:02.642Z"
   },
   {
    "duration": 11,
    "start_time": "2023-04-11T17:57:00.527Z"
   },
   {
    "duration": 6,
    "start_time": "2023-04-11T17:58:50.493Z"
   },
   {
    "duration": 15,
    "start_time": "2023-04-11T17:59:02.270Z"
   },
   {
    "duration": 15,
    "start_time": "2023-04-11T18:03:27.502Z"
   },
   {
    "duration": 4,
    "start_time": "2023-04-11T18:04:59.381Z"
   },
   {
    "duration": 21,
    "start_time": "2023-04-11T18:05:04.108Z"
   },
   {
    "duration": 23,
    "start_time": "2023-04-11T18:06:17.576Z"
   },
   {
    "duration": 43,
    "start_time": "2023-04-11T18:06:52.451Z"
   },
   {
    "duration": 40,
    "start_time": "2023-04-11T18:07:26.851Z"
   },
   {
    "duration": 44,
    "start_time": "2023-04-11T18:10:27.502Z"
   },
   {
    "duration": 7243,
    "start_time": "2023-04-11T18:13:45.146Z"
   },
   {
    "duration": 23,
    "start_time": "2023-04-11T18:14:44.483Z"
   },
   {
    "duration": 2412,
    "start_time": "2023-04-11T18:15:43.635Z"
   },
   {
    "duration": 4,
    "start_time": "2023-04-11T18:15:51.137Z"
   },
   {
    "duration": 28,
    "start_time": "2023-04-11T18:16:15.375Z"
   },
   {
    "duration": 54,
    "start_time": "2023-04-11T18:16:36.840Z"
   },
   {
    "duration": 2506,
    "start_time": "2023-04-11T18:17:12.473Z"
   },
   {
    "duration": 1313,
    "start_time": "2023-04-11T18:17:14.982Z"
   },
   {
    "duration": 3,
    "start_time": "2023-04-11T18:17:16.297Z"
   },
   {
    "duration": 105,
    "start_time": "2023-04-11T18:17:16.303Z"
   },
   {
    "duration": 38,
    "start_time": "2023-04-11T18:17:16.410Z"
   },
   {
    "duration": 27,
    "start_time": "2023-04-11T18:17:16.450Z"
   },
   {
    "duration": 73,
    "start_time": "2023-04-11T18:17:16.479Z"
   },
   {
    "duration": 31,
    "start_time": "2023-04-11T18:17:16.555Z"
   },
   {
    "duration": 5,
    "start_time": "2023-04-11T18:17:16.588Z"
   },
   {
    "duration": 10,
    "start_time": "2023-04-11T18:17:16.596Z"
   },
   {
    "duration": 6,
    "start_time": "2023-04-11T18:17:16.634Z"
   },
   {
    "duration": 14,
    "start_time": "2023-04-11T18:17:16.642Z"
   },
   {
    "duration": 37,
    "start_time": "2023-04-11T18:17:16.658Z"
   },
   {
    "duration": 34,
    "start_time": "2023-04-11T18:17:16.697Z"
   },
   {
    "duration": 45,
    "start_time": "2023-04-11T18:17:16.732Z"
   },
   {
    "duration": 5,
    "start_time": "2023-04-11T18:17:16.779Z"
   },
   {
    "duration": 24,
    "start_time": "2023-04-11T18:17:16.786Z"
   },
   {
    "duration": 29,
    "start_time": "2023-04-11T18:17:16.812Z"
   },
   {
    "duration": 7,
    "start_time": "2023-04-11T18:17:16.842Z"
   },
   {
    "duration": 40,
    "start_time": "2023-04-11T18:17:16.851Z"
   },
   {
    "duration": 6,
    "start_time": "2023-04-11T18:17:16.893Z"
   },
   {
    "duration": 7,
    "start_time": "2023-04-11T18:17:16.901Z"
   },
   {
    "duration": 86,
    "start_time": "2023-04-11T18:17:16.909Z"
   },
   {
    "duration": 12,
    "start_time": "2023-04-11T18:17:16.996Z"
   },
   {
    "duration": 40,
    "start_time": "2023-04-11T18:17:17.009Z"
   },
   {
    "duration": 3,
    "start_time": "2023-04-11T18:17:17.051Z"
   },
   {
    "duration": 1735,
    "start_time": "2023-04-11T18:17:17.056Z"
   },
   {
    "duration": 5,
    "start_time": "2023-04-11T18:17:18.798Z"
   },
   {
    "duration": 10,
    "start_time": "2023-04-11T18:17:18.808Z"
   },
   {
    "duration": 627,
    "start_time": "2023-04-11T18:17:18.835Z"
   },
   {
    "duration": 2216,
    "start_time": "2023-04-11T18:17:19.464Z"
   },
   {
    "duration": 638,
    "start_time": "2023-04-11T18:17:21.682Z"
   },
   {
    "duration": 614,
    "start_time": "2023-04-11T18:17:22.322Z"
   },
   {
    "duration": 12,
    "start_time": "2023-04-11T18:17:22.938Z"
   },
   {
    "duration": 28,
    "start_time": "2023-04-11T18:17:22.952Z"
   },
   {
    "duration": 17,
    "start_time": "2023-04-11T18:17:22.982Z"
   },
   {
    "duration": 7,
    "start_time": "2023-04-11T18:17:23.001Z"
   },
   {
    "duration": 11,
    "start_time": "2023-04-11T18:17:23.010Z"
   },
   {
    "duration": 6,
    "start_time": "2023-04-11T18:17:23.022Z"
   },
   {
    "duration": 12,
    "start_time": "2023-04-11T18:17:23.030Z"
   },
   {
    "duration": 28,
    "start_time": "2023-04-11T18:17:23.044Z"
   },
   {
    "duration": 9,
    "start_time": "2023-04-11T18:17:23.074Z"
   },
   {
    "duration": 184,
    "start_time": "2023-04-11T18:17:23.084Z"
   },
   {
    "duration": 0,
    "start_time": "2023-04-11T18:17:23.270Z"
   },
   {
    "duration": 0,
    "start_time": "2023-04-11T18:17:23.271Z"
   },
   {
    "duration": 0,
    "start_time": "2023-04-11T18:17:23.272Z"
   },
   {
    "duration": 0,
    "start_time": "2023-04-11T18:17:23.274Z"
   },
   {
    "duration": 0,
    "start_time": "2023-04-11T18:17:23.275Z"
   },
   {
    "duration": 0,
    "start_time": "2023-04-11T18:17:23.276Z"
   },
   {
    "duration": 0,
    "start_time": "2023-04-11T18:17:23.277Z"
   },
   {
    "duration": 0,
    "start_time": "2023-04-11T18:17:23.278Z"
   },
   {
    "duration": 0,
    "start_time": "2023-04-11T18:17:23.279Z"
   },
   {
    "duration": 0,
    "start_time": "2023-04-11T18:17:23.281Z"
   },
   {
    "duration": 0,
    "start_time": "2023-04-11T18:17:23.282Z"
   },
   {
    "duration": 35,
    "start_time": "2023-04-11T18:19:19.984Z"
   },
   {
    "duration": 15,
    "start_time": "2023-04-11T18:20:10.154Z"
   },
   {
    "duration": 12,
    "start_time": "2023-04-11T18:22:00.386Z"
   },
   {
    "duration": 12,
    "start_time": "2023-04-11T18:24:39.726Z"
   },
   {
    "duration": 6,
    "start_time": "2023-04-11T18:24:50.073Z"
   },
   {
    "duration": 7,
    "start_time": "2023-04-11T18:25:35.632Z"
   },
   {
    "duration": 2393,
    "start_time": "2023-04-11T18:28:35.494Z"
   },
   {
    "duration": 1222,
    "start_time": "2023-04-11T18:28:37.890Z"
   },
   {
    "duration": 3,
    "start_time": "2023-04-11T18:28:39.114Z"
   },
   {
    "duration": 102,
    "start_time": "2023-04-11T18:28:39.119Z"
   },
   {
    "duration": 34,
    "start_time": "2023-04-11T18:28:39.222Z"
   },
   {
    "duration": 24,
    "start_time": "2023-04-11T18:28:39.258Z"
   },
   {
    "duration": 66,
    "start_time": "2023-04-11T18:28:39.283Z"
   },
   {
    "duration": 25,
    "start_time": "2023-04-11T18:28:39.351Z"
   },
   {
    "duration": 5,
    "start_time": "2023-04-11T18:28:39.377Z"
   },
   {
    "duration": 9,
    "start_time": "2023-04-11T18:28:39.384Z"
   },
   {
    "duration": 13,
    "start_time": "2023-04-11T18:28:39.394Z"
   },
   {
    "duration": 4,
    "start_time": "2023-04-11T18:28:39.434Z"
   },
   {
    "duration": 23,
    "start_time": "2023-04-11T18:28:39.439Z"
   },
   {
    "duration": 7,
    "start_time": "2023-04-11T18:28:39.463Z"
   },
   {
    "duration": 20,
    "start_time": "2023-04-11T18:28:39.471Z"
   },
   {
    "duration": 32,
    "start_time": "2023-04-11T18:28:39.492Z"
   },
   {
    "duration": 17,
    "start_time": "2023-04-11T18:28:39.525Z"
   },
   {
    "duration": 19,
    "start_time": "2023-04-11T18:28:39.544Z"
   },
   {
    "duration": 5,
    "start_time": "2023-04-11T18:28:39.565Z"
   },
   {
    "duration": 29,
    "start_time": "2023-04-11T18:28:39.571Z"
   },
   {
    "duration": 5,
    "start_time": "2023-04-11T18:28:39.602Z"
   },
   {
    "duration": 26,
    "start_time": "2023-04-11T18:28:39.609Z"
   },
   {
    "duration": 56,
    "start_time": "2023-04-11T18:28:39.637Z"
   },
   {
    "duration": 10,
    "start_time": "2023-04-11T18:28:39.695Z"
   },
   {
    "duration": 36,
    "start_time": "2023-04-11T18:28:39.707Z"
   },
   {
    "duration": 10,
    "start_time": "2023-04-11T18:28:39.745Z"
   },
   {
    "duration": 1468,
    "start_time": "2023-04-11T18:28:39.757Z"
   },
   {
    "duration": 2,
    "start_time": "2023-04-11T18:28:41.229Z"
   },
   {
    "duration": 7,
    "start_time": "2023-04-11T18:28:41.233Z"
   },
   {
    "duration": 554,
    "start_time": "2023-04-11T18:28:41.241Z"
   },
   {
    "duration": 2101,
    "start_time": "2023-04-11T18:28:41.797Z"
   },
   {
    "duration": 605,
    "start_time": "2023-04-11T18:28:43.900Z"
   },
   {
    "duration": 564,
    "start_time": "2023-04-11T18:28:44.507Z"
   },
   {
    "duration": 11,
    "start_time": "2023-04-11T18:28:45.073Z"
   },
   {
    "duration": 26,
    "start_time": "2023-04-11T18:28:45.085Z"
   },
   {
    "duration": 14,
    "start_time": "2023-04-11T18:28:45.112Z"
   },
   {
    "duration": 12,
    "start_time": "2023-04-11T18:28:45.128Z"
   },
   {
    "duration": 15,
    "start_time": "2023-04-11T18:28:45.142Z"
   },
   {
    "duration": 16,
    "start_time": "2023-04-11T18:28:45.158Z"
   },
   {
    "duration": 8,
    "start_time": "2023-04-11T18:28:45.176Z"
   },
   {
    "duration": 22,
    "start_time": "2023-04-11T18:28:45.186Z"
   },
   {
    "duration": 9,
    "start_time": "2023-04-11T18:28:45.209Z"
   },
   {
    "duration": 11,
    "start_time": "2023-04-11T18:28:45.219Z"
   },
   {
    "duration": 79,
    "start_time": "2023-04-11T18:28:45.232Z"
   },
   {
    "duration": 4,
    "start_time": "2023-04-11T18:28:45.313Z"
   },
   {
    "duration": 960,
    "start_time": "2023-04-11T18:28:45.320Z"
   },
   {
    "duration": 0,
    "start_time": "2023-04-11T18:28:46.282Z"
   },
   {
    "duration": 0,
    "start_time": "2023-04-11T18:28:46.283Z"
   },
   {
    "duration": 0,
    "start_time": "2023-04-11T18:28:46.285Z"
   },
   {
    "duration": 0,
    "start_time": "2023-04-11T18:28:46.286Z"
   },
   {
    "duration": 0,
    "start_time": "2023-04-11T18:28:46.287Z"
   },
   {
    "duration": 1,
    "start_time": "2023-04-11T18:28:46.288Z"
   },
   {
    "duration": 0,
    "start_time": "2023-04-11T18:28:46.290Z"
   },
   {
    "duration": 0,
    "start_time": "2023-04-11T18:28:46.291Z"
   },
   {
    "duration": 1,
    "start_time": "2023-04-11T18:28:46.292Z"
   },
   {
    "duration": 50,
    "start_time": "2023-04-11T18:31:27.873Z"
   },
   {
    "duration": 2246,
    "start_time": "2023-04-11T18:33:18.956Z"
   },
   {
    "duration": 1254,
    "start_time": "2023-04-11T18:33:21.205Z"
   },
   {
    "duration": 4,
    "start_time": "2023-04-11T18:33:22.461Z"
   },
   {
    "duration": 110,
    "start_time": "2023-04-11T18:33:22.466Z"
   },
   {
    "duration": 37,
    "start_time": "2023-04-11T18:33:22.578Z"
   },
   {
    "duration": 27,
    "start_time": "2023-04-11T18:33:22.617Z"
   },
   {
    "duration": 44,
    "start_time": "2023-04-11T18:33:22.646Z"
   },
   {
    "duration": 56,
    "start_time": "2023-04-11T18:33:22.692Z"
   },
   {
    "duration": 6,
    "start_time": "2023-04-11T18:33:22.750Z"
   },
   {
    "duration": 17,
    "start_time": "2023-04-11T18:33:22.757Z"
   },
   {
    "duration": 11,
    "start_time": "2023-04-11T18:33:22.776Z"
   },
   {
    "duration": 15,
    "start_time": "2023-04-11T18:33:22.789Z"
   },
   {
    "duration": 20,
    "start_time": "2023-04-11T18:33:22.806Z"
   },
   {
    "duration": 8,
    "start_time": "2023-04-11T18:33:22.837Z"
   },
   {
    "duration": 23,
    "start_time": "2023-04-11T18:33:22.847Z"
   },
   {
    "duration": 5,
    "start_time": "2023-04-11T18:33:22.872Z"
   },
   {
    "duration": 18,
    "start_time": "2023-04-11T18:33:22.879Z"
   },
   {
    "duration": 44,
    "start_time": "2023-04-11T18:33:22.898Z"
   },
   {
    "duration": 5,
    "start_time": "2023-04-11T18:33:22.944Z"
   },
   {
    "duration": 28,
    "start_time": "2023-04-11T18:33:22.950Z"
   },
   {
    "duration": 5,
    "start_time": "2023-04-11T18:33:22.980Z"
   },
   {
    "duration": 10,
    "start_time": "2023-04-11T18:33:22.987Z"
   },
   {
    "duration": 80,
    "start_time": "2023-04-11T18:33:22.998Z"
   },
   {
    "duration": 9,
    "start_time": "2023-04-11T18:33:23.080Z"
   },
   {
    "duration": 28,
    "start_time": "2023-04-11T18:33:23.090Z"
   },
   {
    "duration": 17,
    "start_time": "2023-04-11T18:33:23.119Z"
   },
   {
    "duration": 1639,
    "start_time": "2023-04-11T18:33:23.139Z"
   },
   {
    "duration": 3,
    "start_time": "2023-04-11T18:33:24.780Z"
   },
   {
    "duration": 9,
    "start_time": "2023-04-11T18:33:24.784Z"
   },
   {
    "duration": 593,
    "start_time": "2023-04-11T18:33:24.795Z"
   },
   {
    "duration": 2025,
    "start_time": "2023-04-11T18:33:25.390Z"
   },
   {
    "duration": 527,
    "start_time": "2023-04-11T18:33:27.417Z"
   },
   {
    "duration": 540,
    "start_time": "2023-04-11T18:33:27.946Z"
   },
   {
    "duration": 10,
    "start_time": "2023-04-11T18:33:28.488Z"
   },
   {
    "duration": 4,
    "start_time": "2023-04-11T18:33:28.499Z"
   },
   {
    "duration": 6,
    "start_time": "2023-04-11T18:33:28.504Z"
   },
   {
    "duration": 25,
    "start_time": "2023-04-11T18:33:28.512Z"
   },
   {
    "duration": 15,
    "start_time": "2023-04-11T18:33:28.539Z"
   },
   {
    "duration": 7,
    "start_time": "2023-04-11T18:33:28.556Z"
   },
   {
    "duration": 16,
    "start_time": "2023-04-11T18:33:28.565Z"
   },
   {
    "duration": 6,
    "start_time": "2023-04-11T18:33:28.584Z"
   },
   {
    "duration": 8,
    "start_time": "2023-04-11T18:33:28.592Z"
   },
   {
    "duration": 7,
    "start_time": "2023-04-11T18:33:28.601Z"
   },
   {
    "duration": 97,
    "start_time": "2023-04-11T18:33:28.610Z"
   },
   {
    "duration": 60,
    "start_time": "2023-04-11T18:33:28.709Z"
   },
   {
    "duration": 6,
    "start_time": "2023-04-11T18:33:28.770Z"
   },
   {
    "duration": 30337,
    "start_time": "2023-04-11T18:33:28.778Z"
   },
   {
    "duration": 128,
    "start_time": "2023-04-11T18:33:59.117Z"
   },
   {
    "duration": 33889,
    "start_time": "2023-04-11T18:33:59.247Z"
   },
   {
    "duration": 149,
    "start_time": "2023-04-11T18:34:33.138Z"
   },
   {
    "duration": 241,
    "start_time": "2023-04-11T18:34:33.289Z"
   },
   {
    "duration": 0,
    "start_time": "2023-04-11T18:34:33.532Z"
   },
   {
    "duration": 0,
    "start_time": "2023-04-11T18:34:33.534Z"
   },
   {
    "duration": 0,
    "start_time": "2023-04-11T18:34:33.540Z"
   },
   {
    "duration": 0,
    "start_time": "2023-04-11T18:34:33.541Z"
   },
   {
    "duration": 0,
    "start_time": "2023-04-11T18:34:33.543Z"
   },
   {
    "duration": 370,
    "start_time": "2023-04-11T18:35:12.155Z"
   },
   {
    "duration": 124,
    "start_time": "2023-04-11T18:35:14.276Z"
   },
   {
    "duration": 6,
    "start_time": "2023-04-11T18:37:21.412Z"
   },
   {
    "duration": 16660,
    "start_time": "2023-04-11T18:37:23.353Z"
   },
   {
    "duration": 16966,
    "start_time": "2023-04-11T18:37:57.512Z"
   },
   {
    "duration": 36549,
    "start_time": "2023-04-11T18:39:07.482Z"
   },
   {
    "duration": 169,
    "start_time": "2023-04-11T18:40:03.017Z"
   },
   {
    "duration": 10,
    "start_time": "2023-04-11T18:40:53.438Z"
   },
   {
    "duration": 6,
    "start_time": "2023-04-11T18:40:58.430Z"
   },
   {
    "duration": 21,
    "start_time": "2023-04-11T18:41:13.852Z"
   },
   {
    "duration": 6,
    "start_time": "2023-04-11T18:41:35.900Z"
   },
   {
    "duration": 18,
    "start_time": "2023-04-11T18:41:40.662Z"
   },
   {
    "duration": 20,
    "start_time": "2023-04-11T18:42:05.257Z"
   },
   {
    "duration": 111,
    "start_time": "2023-04-11T18:43:33.146Z"
   },
   {
    "duration": 15,
    "start_time": "2023-04-11T18:43:48.546Z"
   },
   {
    "duration": 12,
    "start_time": "2023-04-11T18:44:15.052Z"
   },
   {
    "duration": 33878,
    "start_time": "2023-04-11T18:45:39.032Z"
   },
   {
    "duration": 32309,
    "start_time": "2023-04-11T18:46:13.856Z"
   },
   {
    "duration": 35244,
    "start_time": "2023-04-11T18:47:08.408Z"
   },
   {
    "duration": 12,
    "start_time": "2023-04-11T18:48:04.346Z"
   },
   {
    "duration": 13,
    "start_time": "2023-04-11T18:48:31.250Z"
   },
   {
    "duration": 32647,
    "start_time": "2023-04-11T18:52:38.860Z"
   },
   {
    "duration": 86,
    "start_time": "2023-04-11T18:53:11.509Z"
   },
   {
    "duration": 16,
    "start_time": "2023-04-11T18:53:31.416Z"
   },
   {
    "duration": 23,
    "start_time": "2023-04-11T18:55:48.186Z"
   },
   {
    "duration": 2680,
    "start_time": "2023-04-11T18:56:23.147Z"
   },
   {
    "duration": 1495,
    "start_time": "2023-04-11T18:56:25.830Z"
   },
   {
    "duration": 5,
    "start_time": "2023-04-11T18:56:27.328Z"
   },
   {
    "duration": 104,
    "start_time": "2023-04-11T18:56:27.336Z"
   },
   {
    "duration": 40,
    "start_time": "2023-04-11T18:56:27.443Z"
   },
   {
    "duration": 64,
    "start_time": "2023-04-11T18:56:27.485Z"
   },
   {
    "duration": 82,
    "start_time": "2023-04-11T18:56:27.552Z"
   },
   {
    "duration": 31,
    "start_time": "2023-04-11T18:56:27.636Z"
   },
   {
    "duration": 22,
    "start_time": "2023-04-11T18:56:27.669Z"
   },
   {
    "duration": 20,
    "start_time": "2023-04-11T18:56:27.692Z"
   },
   {
    "duration": 24,
    "start_time": "2023-04-11T18:56:27.714Z"
   },
   {
    "duration": 34,
    "start_time": "2023-04-11T18:56:27.741Z"
   },
   {
    "duration": 31,
    "start_time": "2023-04-11T18:56:27.778Z"
   },
   {
    "duration": 23,
    "start_time": "2023-04-11T18:56:27.816Z"
   },
   {
    "duration": 43,
    "start_time": "2023-04-11T18:56:27.842Z"
   },
   {
    "duration": 6,
    "start_time": "2023-04-11T18:56:27.888Z"
   },
   {
    "duration": 29,
    "start_time": "2023-04-11T18:56:27.896Z"
   },
   {
    "duration": 28,
    "start_time": "2023-04-11T18:56:27.927Z"
   },
   {
    "duration": 17,
    "start_time": "2023-04-11T18:56:27.957Z"
   },
   {
    "duration": 58,
    "start_time": "2023-04-11T18:56:27.976Z"
   },
   {
    "duration": 16,
    "start_time": "2023-04-11T18:56:28.037Z"
   },
   {
    "duration": 26,
    "start_time": "2023-04-11T18:56:28.055Z"
   },
   {
    "duration": 80,
    "start_time": "2023-04-11T18:56:28.083Z"
   },
   {
    "duration": 15,
    "start_time": "2023-04-11T18:56:28.166Z"
   },
   {
    "duration": 40,
    "start_time": "2023-04-11T18:56:28.184Z"
   },
   {
    "duration": 10,
    "start_time": "2023-04-11T18:56:28.227Z"
   },
   {
    "duration": 1694,
    "start_time": "2023-04-11T18:56:28.240Z"
   },
   {
    "duration": 3,
    "start_time": "2023-04-11T18:56:29.936Z"
   },
   {
    "duration": 8,
    "start_time": "2023-04-11T18:56:29.941Z"
   },
   {
    "duration": 653,
    "start_time": "2023-04-11T18:56:29.952Z"
   },
   {
    "duration": 2381,
    "start_time": "2023-04-11T18:56:30.607Z"
   },
   {
    "duration": 663,
    "start_time": "2023-04-11T18:56:32.990Z"
   },
   {
    "duration": 647,
    "start_time": "2023-04-11T18:56:33.655Z"
   },
   {
    "duration": 12,
    "start_time": "2023-04-11T18:56:34.304Z"
   },
   {
    "duration": 15,
    "start_time": "2023-04-11T18:56:34.319Z"
   },
   {
    "duration": 10,
    "start_time": "2023-04-11T18:56:34.336Z"
   },
   {
    "duration": 12,
    "start_time": "2023-04-11T18:56:34.348Z"
   },
   {
    "duration": 13,
    "start_time": "2023-04-11T18:56:34.362Z"
   },
   {
    "duration": 7,
    "start_time": "2023-04-11T18:56:34.377Z"
   },
   {
    "duration": 9,
    "start_time": "2023-04-11T18:56:34.386Z"
   },
   {
    "duration": 37,
    "start_time": "2023-04-11T18:56:34.399Z"
   },
   {
    "duration": 8,
    "start_time": "2023-04-11T18:56:34.438Z"
   },
   {
    "duration": 11,
    "start_time": "2023-04-11T18:56:34.448Z"
   },
   {
    "duration": 116,
    "start_time": "2023-04-11T18:56:34.462Z"
   },
   {
    "duration": 94,
    "start_time": "2023-04-11T18:56:34.580Z"
   },
   {
    "duration": 6,
    "start_time": "2023-04-11T18:56:34.676Z"
   },
   {
    "duration": 33896,
    "start_time": "2023-04-11T18:56:34.684Z"
   },
   {
    "duration": 171,
    "start_time": "2023-04-11T18:57:08.582Z"
   },
   {
    "duration": 35738,
    "start_time": "2023-04-11T18:57:08.755Z"
   },
   {
    "duration": 131,
    "start_time": "2023-04-11T18:57:44.495Z"
   },
   {
    "duration": 417,
    "start_time": "2023-04-11T18:57:44.628Z"
   },
   {
    "duration": 130,
    "start_time": "2023-04-11T18:57:45.046Z"
   },
   {
    "duration": 4,
    "start_time": "2023-04-11T18:57:45.178Z"
   },
   {
    "duration": 36518,
    "start_time": "2023-04-11T18:57:45.184Z"
   },
   {
    "duration": 144,
    "start_time": "2023-04-11T18:58:21.705Z"
   },
   {
    "duration": 164,
    "start_time": "2023-04-11T19:00:28.688Z"
   },
   {
    "duration": 0,
    "start_time": "2023-04-11T19:02:40.260Z"
   },
   {
    "duration": 38632,
    "start_time": "2023-04-11T19:03:57.794Z"
   },
   {
    "duration": 78,
    "start_time": "2023-04-11T19:05:49.783Z"
   },
   {
    "duration": 307,
    "start_time": "2023-04-11T19:05:58.814Z"
   },
   {
    "duration": 11,
    "start_time": "2023-04-11T19:06:36.236Z"
   },
   {
    "duration": 5,
    "start_time": "2023-04-11T19:07:17.465Z"
   },
   {
    "duration": 5,
    "start_time": "2023-04-11T19:07:27.214Z"
   },
   {
    "duration": 910,
    "start_time": "2023-04-11T19:07:28.491Z"
   },
   {
    "duration": 9,
    "start_time": "2023-04-11T19:07:57.320Z"
   },
   {
    "duration": 11,
    "start_time": "2023-04-11T19:08:05.753Z"
   },
   {
    "duration": 284,
    "start_time": "2023-04-11T19:08:47.370Z"
   },
   {
    "duration": 125,
    "start_time": "2023-04-11T19:14:50.922Z"
   },
   {
    "duration": 299,
    "start_time": "2023-04-11T19:14:54.100Z"
   },
   {
    "duration": 2223,
    "start_time": "2023-04-11T19:15:04.390Z"
   },
   {
    "duration": 1346,
    "start_time": "2023-04-11T19:15:06.616Z"
   },
   {
    "duration": 3,
    "start_time": "2023-04-11T19:15:07.964Z"
   },
   {
    "duration": 115,
    "start_time": "2023-04-11T19:15:07.969Z"
   },
   {
    "duration": 33,
    "start_time": "2023-04-11T19:15:08.086Z"
   },
   {
    "duration": 25,
    "start_time": "2023-04-11T19:15:08.121Z"
   },
   {
    "duration": 45,
    "start_time": "2023-04-11T19:15:08.147Z"
   },
   {
    "duration": 47,
    "start_time": "2023-04-11T19:15:08.194Z"
   },
   {
    "duration": 5,
    "start_time": "2023-04-11T19:15:08.242Z"
   },
   {
    "duration": 5,
    "start_time": "2023-04-11T19:15:08.249Z"
   },
   {
    "duration": 10,
    "start_time": "2023-04-11T19:15:08.256Z"
   },
   {
    "duration": 5,
    "start_time": "2023-04-11T19:15:08.268Z"
   },
   {
    "duration": 27,
    "start_time": "2023-04-11T19:15:08.275Z"
   },
   {
    "duration": 30,
    "start_time": "2023-04-11T19:15:08.307Z"
   },
   {
    "duration": 22,
    "start_time": "2023-04-11T19:15:08.339Z"
   },
   {
    "duration": 5,
    "start_time": "2023-04-11T19:15:08.362Z"
   },
   {
    "duration": 17,
    "start_time": "2023-04-11T19:15:08.368Z"
   },
   {
    "duration": 15,
    "start_time": "2023-04-11T19:15:08.386Z"
   },
   {
    "duration": 31,
    "start_time": "2023-04-11T19:15:08.402Z"
   },
   {
    "duration": 27,
    "start_time": "2023-04-11T19:15:08.435Z"
   },
   {
    "duration": 6,
    "start_time": "2023-04-11T19:15:08.464Z"
   },
   {
    "duration": 5,
    "start_time": "2023-04-11T19:15:08.471Z"
   },
   {
    "duration": 82,
    "start_time": "2023-04-11T19:15:08.477Z"
   },
   {
    "duration": 11,
    "start_time": "2023-04-11T19:15:08.560Z"
   },
   {
    "duration": 21,
    "start_time": "2023-04-11T19:15:08.573Z"
   },
   {
    "duration": 3,
    "start_time": "2023-04-11T19:15:08.596Z"
   },
   {
    "duration": 1481,
    "start_time": "2023-04-11T19:15:08.601Z"
   },
   {
    "duration": 3,
    "start_time": "2023-04-11T19:15:10.084Z"
   },
   {
    "duration": 7,
    "start_time": "2023-04-11T19:15:10.088Z"
   },
   {
    "duration": 554,
    "start_time": "2023-04-11T19:15:10.096Z"
   },
   {
    "duration": 2000,
    "start_time": "2023-04-11T19:15:10.652Z"
   },
   {
    "duration": 602,
    "start_time": "2023-04-11T19:15:12.654Z"
   },
   {
    "duration": 546,
    "start_time": "2023-04-11T19:15:13.258Z"
   },
   {
    "duration": 11,
    "start_time": "2023-04-11T19:15:13.806Z"
   },
   {
    "duration": 17,
    "start_time": "2023-04-11T19:15:13.818Z"
   },
   {
    "duration": 9,
    "start_time": "2023-04-11T19:15:13.837Z"
   },
   {
    "duration": 7,
    "start_time": "2023-04-11T19:15:13.848Z"
   },
   {
    "duration": 9,
    "start_time": "2023-04-11T19:15:13.857Z"
   },
   {
    "duration": 6,
    "start_time": "2023-04-11T19:15:13.867Z"
   },
   {
    "duration": 13,
    "start_time": "2023-04-11T19:15:13.874Z"
   },
   {
    "duration": 6,
    "start_time": "2023-04-11T19:15:13.891Z"
   },
   {
    "duration": 12,
    "start_time": "2023-04-11T19:15:13.899Z"
   },
   {
    "duration": 21,
    "start_time": "2023-04-11T19:15:13.913Z"
   },
   {
    "duration": 82,
    "start_time": "2023-04-11T19:15:13.936Z"
   },
   {
    "duration": 70,
    "start_time": "2023-04-11T19:15:14.020Z"
   },
   {
    "duration": 5,
    "start_time": "2023-04-11T19:15:14.092Z"
   },
   {
    "duration": 30560,
    "start_time": "2023-04-11T19:15:14.099Z"
   },
   {
    "duration": 136,
    "start_time": "2023-04-11T19:15:44.661Z"
   },
   {
    "duration": 36929,
    "start_time": "2023-04-11T19:15:44.799Z"
   },
   {
    "duration": 139,
    "start_time": "2023-04-11T19:16:21.730Z"
   },
   {
    "duration": 451,
    "start_time": "2023-04-11T19:16:21.870Z"
   },
   {
    "duration": 155,
    "start_time": "2023-04-11T19:16:22.323Z"
   },
   {
    "duration": 5,
    "start_time": "2023-04-11T19:16:22.480Z"
   },
   {
    "duration": 35733,
    "start_time": "2023-04-11T19:16:22.487Z"
   },
   {
    "duration": 143,
    "start_time": "2023-04-11T19:16:58.222Z"
   },
   {
    "duration": 291,
    "start_time": "2023-04-11T19:16:58.368Z"
   },
   {
    "duration": 4,
    "start_time": "2023-04-11T19:16:58.661Z"
   },
   {
    "duration": 11,
    "start_time": "2023-04-11T19:16:58.667Z"
   },
   {
    "duration": 10,
    "start_time": "2023-04-11T19:16:58.680Z"
   },
   {
    "duration": 313,
    "start_time": "2023-04-11T19:16:58.692Z"
   },
   {
    "duration": 7689,
    "start_time": "2023-04-12T19:22:57.939Z"
   },
   {
    "duration": 1392,
    "start_time": "2023-04-12T19:23:07.963Z"
   },
   {
    "duration": 4,
    "start_time": "2023-04-12T19:23:13.593Z"
   },
   {
    "duration": 456,
    "start_time": "2023-04-12T19:23:14.463Z"
   },
   {
    "duration": 33,
    "start_time": "2023-04-12T19:23:23.033Z"
   },
   {
    "duration": 29,
    "start_time": "2023-04-12T19:23:26.774Z"
   },
   {
    "duration": 45,
    "start_time": "2023-04-12T19:23:28.670Z"
   },
   {
    "duration": 29,
    "start_time": "2023-04-12T19:23:30.440Z"
   },
   {
    "duration": 5,
    "start_time": "2023-04-12T19:23:36.360Z"
   },
   {
    "duration": 4,
    "start_time": "2023-04-12T19:23:38.439Z"
   },
   {
    "duration": 6,
    "start_time": "2023-04-12T19:23:39.170Z"
   },
   {
    "duration": 5,
    "start_time": "2023-04-12T19:23:39.799Z"
   },
   {
    "duration": 14,
    "start_time": "2023-04-12T19:23:41.472Z"
   },
   {
    "duration": 6,
    "start_time": "2023-04-12T19:23:43.110Z"
   },
   {
    "duration": 19,
    "start_time": "2023-04-12T19:23:43.977Z"
   },
   {
    "duration": 4,
    "start_time": "2023-04-12T19:23:46.735Z"
   },
   {
    "duration": 17,
    "start_time": "2023-04-12T19:23:48.890Z"
   },
   {
    "duration": 19,
    "start_time": "2023-04-12T19:23:52.471Z"
   },
   {
    "duration": 5,
    "start_time": "2023-04-12T19:23:54.897Z"
   },
   {
    "duration": 28,
    "start_time": "2023-04-12T19:23:58.125Z"
   },
   {
    "duration": 6,
    "start_time": "2023-04-12T19:23:59.106Z"
   },
   {
    "duration": 4,
    "start_time": "2023-04-12T19:23:59.527Z"
   },
   {
    "duration": 57,
    "start_time": "2023-04-12T19:24:00.936Z"
   },
   {
    "duration": 9,
    "start_time": "2023-04-12T19:24:03.934Z"
   },
   {
    "duration": 16,
    "start_time": "2023-04-12T19:24:05.203Z"
   },
   {
    "duration": 4,
    "start_time": "2023-04-12T19:24:09.921Z"
   },
   {
    "duration": 18,
    "start_time": "2023-04-12T19:24:20.936Z"
   },
   {
    "duration": 3,
    "start_time": "2023-04-12T19:24:25.707Z"
   },
   {
    "duration": 1514,
    "start_time": "2023-04-12T19:24:26.534Z"
   },
   {
    "duration": 3,
    "start_time": "2023-04-12T19:24:29.621Z"
   },
   {
    "duration": 5,
    "start_time": "2023-04-12T19:24:30.158Z"
   },
   {
    "duration": 596,
    "start_time": "2023-04-12T19:24:30.702Z"
   },
   {
    "duration": 2041,
    "start_time": "2023-04-12T19:24:33.234Z"
   },
   {
    "duration": 556,
    "start_time": "2023-04-12T19:24:35.277Z"
   },
   {
    "duration": 553,
    "start_time": "2023-04-12T19:24:35.835Z"
   },
   {
    "duration": 12,
    "start_time": "2023-04-12T19:24:36.765Z"
   },
   {
    "duration": 4,
    "start_time": "2023-04-12T19:24:38.930Z"
   },
   {
    "duration": 4,
    "start_time": "2023-04-12T19:24:40.081Z"
   },
   {
    "duration": 5,
    "start_time": "2023-04-12T19:24:41.208Z"
   },
   {
    "duration": 7,
    "start_time": "2023-04-12T19:24:42.166Z"
   },
   {
    "duration": 5,
    "start_time": "2023-04-12T19:24:44.062Z"
   },
   {
    "duration": 2,
    "start_time": "2023-04-12T19:24:46.022Z"
   },
   {
    "duration": 7,
    "start_time": "2023-04-12T19:24:48.362Z"
   },
   {
    "duration": 6,
    "start_time": "2023-04-12T19:24:49.056Z"
   },
   {
    "duration": 5,
    "start_time": "2023-04-12T19:27:30.945Z"
   },
   {
    "duration": 102,
    "start_time": "2023-04-12T19:27:31.753Z"
   },
   {
    "duration": 53,
    "start_time": "2023-04-12T19:27:32.804Z"
   },
   {
    "duration": 5,
    "start_time": "2023-04-12T19:27:38.420Z"
   },
   {
    "duration": 33118,
    "start_time": "2023-04-12T19:27:40.632Z"
   },
   {
    "duration": 153,
    "start_time": "2023-04-12T19:28:13.752Z"
   },
   {
    "duration": 35168,
    "start_time": "2023-04-12T19:28:13.906Z"
   },
   {
    "duration": 143,
    "start_time": "2023-04-12T19:28:49.076Z"
   },
   {
    "duration": 5,
    "start_time": "2023-04-12T19:34:26.428Z"
   },
   {
    "duration": 3131,
    "start_time": "2023-04-12T19:34:39.394Z"
   },
   {
    "duration": 1231,
    "start_time": "2023-04-12T19:35:30.045Z"
   },
   {
    "duration": 148,
    "start_time": "2023-04-12T19:35:54.953Z"
   },
   {
    "duration": 42180,
    "start_time": "2023-04-12T19:37:05.664Z"
   },
   {
    "duration": 966,
    "start_time": "2023-04-12T19:38:09.827Z"
   },
   {
    "duration": 177,
    "start_time": "2023-04-12T19:38:27.149Z"
   },
   {
    "duration": 36874,
    "start_time": "2023-04-12T19:38:41.940Z"
   },
   {
    "duration": 308,
    "start_time": "2023-04-12T19:40:33.737Z"
   },
   {
    "duration": 3,
    "start_time": "2023-04-12T19:40:38.827Z"
   },
   {
    "duration": 9,
    "start_time": "2023-04-12T19:40:39.463Z"
   },
   {
    "duration": 5,
    "start_time": "2023-04-12T19:41:00.377Z"
   },
   {
    "duration": 11,
    "start_time": "2023-04-12T19:41:01.276Z"
   },
   {
    "duration": 2431,
    "start_time": "2023-04-12T19:41:14.734Z"
   },
   {
    "duration": 1345,
    "start_time": "2023-04-12T19:41:17.170Z"
   },
   {
    "duration": 4,
    "start_time": "2023-04-12T19:41:18.517Z"
   },
   {
    "duration": 119,
    "start_time": "2023-04-12T19:41:18.522Z"
   },
   {
    "duration": 35,
    "start_time": "2023-04-12T19:41:18.643Z"
   },
   {
    "duration": 50,
    "start_time": "2023-04-12T19:41:18.681Z"
   },
   {
    "duration": 53,
    "start_time": "2023-04-12T19:41:18.733Z"
   },
   {
    "duration": 52,
    "start_time": "2023-04-12T19:41:18.788Z"
   },
   {
    "duration": 25,
    "start_time": "2023-04-12T19:41:18.842Z"
   },
   {
    "duration": 30,
    "start_time": "2023-04-12T19:41:18.869Z"
   },
   {
    "duration": 13,
    "start_time": "2023-04-12T19:41:18.901Z"
   },
   {
    "duration": 14,
    "start_time": "2023-04-12T19:41:18.916Z"
   },
   {
    "duration": 32,
    "start_time": "2023-04-12T19:41:18.933Z"
   },
   {
    "duration": 29,
    "start_time": "2023-04-12T19:41:18.970Z"
   },
   {
    "duration": 33,
    "start_time": "2023-04-12T19:41:19.001Z"
   },
   {
    "duration": 16,
    "start_time": "2023-04-12T19:41:19.036Z"
   },
   {
    "duration": 37,
    "start_time": "2023-04-12T19:41:19.055Z"
   },
   {
    "duration": 16,
    "start_time": "2023-04-12T19:41:19.095Z"
   },
   {
    "duration": 17,
    "start_time": "2023-04-12T19:41:19.113Z"
   },
   {
    "duration": 39,
    "start_time": "2023-04-12T19:41:19.132Z"
   },
   {
    "duration": 18,
    "start_time": "2023-04-12T19:41:19.173Z"
   },
   {
    "duration": 37,
    "start_time": "2023-04-12T19:41:19.192Z"
   },
   {
    "duration": 77,
    "start_time": "2023-04-12T19:41:19.231Z"
   },
   {
    "duration": 14,
    "start_time": "2023-04-12T19:41:19.311Z"
   },
   {
    "duration": 28,
    "start_time": "2023-04-12T19:41:19.327Z"
   },
   {
    "duration": 5,
    "start_time": "2023-04-12T19:41:19.358Z"
   },
   {
    "duration": 42,
    "start_time": "2023-04-12T19:41:19.365Z"
   },
   {
    "duration": 6,
    "start_time": "2023-04-12T19:41:19.410Z"
   },
   {
    "duration": 1694,
    "start_time": "2023-04-12T19:41:19.418Z"
   },
   {
    "duration": 3,
    "start_time": "2023-04-12T19:41:21.114Z"
   },
   {
    "duration": 8,
    "start_time": "2023-04-12T19:41:21.119Z"
   },
   {
    "duration": 635,
    "start_time": "2023-04-12T19:41:21.129Z"
   },
   {
    "duration": 2336,
    "start_time": "2023-04-12T19:41:21.766Z"
   },
   {
    "duration": 599,
    "start_time": "2023-04-12T19:41:24.103Z"
   },
   {
    "duration": 631,
    "start_time": "2023-04-12T19:41:24.704Z"
   },
   {
    "duration": 15,
    "start_time": "2023-04-12T19:41:25.337Z"
   },
   {
    "duration": 7,
    "start_time": "2023-04-12T19:41:25.354Z"
   },
   {
    "duration": 15,
    "start_time": "2023-04-12T19:41:25.363Z"
   },
   {
    "duration": 20,
    "start_time": "2023-04-12T19:41:25.380Z"
   },
   {
    "duration": 27,
    "start_time": "2023-04-12T19:41:25.403Z"
   },
   {
    "duration": 6,
    "start_time": "2023-04-12T19:41:25.437Z"
   },
   {
    "duration": 13,
    "start_time": "2023-04-12T19:41:25.445Z"
   },
   {
    "duration": 27,
    "start_time": "2023-04-12T19:41:25.461Z"
   },
   {
    "duration": 32,
    "start_time": "2023-04-12T19:41:25.490Z"
   },
   {
    "duration": 12,
    "start_time": "2023-04-12T19:41:25.525Z"
   },
   {
    "duration": 106,
    "start_time": "2023-04-12T19:41:25.539Z"
   },
   {
    "duration": 94,
    "start_time": "2023-04-12T19:41:25.649Z"
   },
   {
    "duration": 6,
    "start_time": "2023-04-12T19:41:25.745Z"
   },
   {
    "duration": 32956,
    "start_time": "2023-04-12T19:41:25.753Z"
   },
   {
    "duration": 148,
    "start_time": "2023-04-12T19:41:58.718Z"
   },
   {
    "duration": 35076,
    "start_time": "2023-04-12T19:41:58.868Z"
   },
   {
    "duration": 129,
    "start_time": "2023-04-12T19:42:33.945Z"
   },
   {
    "duration": 411,
    "start_time": "2023-04-12T19:42:34.076Z"
   },
   {
    "duration": 147,
    "start_time": "2023-04-12T19:42:34.489Z"
   },
   {
    "duration": 4,
    "start_time": "2023-04-12T19:42:34.638Z"
   },
   {
    "duration": 843,
    "start_time": "2023-04-12T19:42:34.644Z"
   },
   {
    "duration": 137,
    "start_time": "2023-04-12T19:42:35.489Z"
   },
   {
    "duration": 314,
    "start_time": "2023-04-12T19:42:35.627Z"
   },
   {
    "duration": 3,
    "start_time": "2023-04-12T19:42:35.943Z"
   },
   {
    "duration": 160,
    "start_time": "2023-04-12T19:42:35.948Z"
   },
   {
    "duration": 0,
    "start_time": "2023-04-12T19:42:36.110Z"
   },
   {
    "duration": 0,
    "start_time": "2023-04-12T19:42:36.117Z"
   },
   {
    "duration": 11,
    "start_time": "2023-04-12T19:48:13.036Z"
   },
   {
    "duration": 3,
    "start_time": "2023-04-12T19:48:20.270Z"
   },
   {
    "duration": 12,
    "start_time": "2023-04-12T19:48:20.837Z"
   },
   {
    "duration": 10,
    "start_time": "2023-04-12T19:51:45.522Z"
   },
   {
    "duration": 14,
    "start_time": "2023-04-12T19:52:02.649Z"
   },
   {
    "duration": 33192,
    "start_time": "2023-04-12T19:54:40.149Z"
   },
   {
    "duration": 143,
    "start_time": "2023-04-12T19:55:19.824Z"
   },
   {
    "duration": 34134,
    "start_time": "2023-04-12T19:55:20.858Z"
   },
   {
    "duration": 139,
    "start_time": "2023-04-12T19:55:54.994Z"
   },
   {
    "duration": 412,
    "start_time": "2023-04-12T19:56:39.696Z"
   },
   {
    "duration": 132,
    "start_time": "2023-04-12T19:56:45.616Z"
   },
   {
    "duration": 5,
    "start_time": "2023-04-12T19:56:50.942Z"
   },
   {
    "duration": 916,
    "start_time": "2023-04-12T19:56:51.619Z"
   },
   {
    "duration": 157,
    "start_time": "2023-04-12T19:56:52.587Z"
   },
   {
    "duration": 322,
    "start_time": "2023-04-12T19:56:55.175Z"
   },
   {
    "duration": 5,
    "start_time": "2023-04-12T19:56:58.596Z"
   },
   {
    "duration": 11,
    "start_time": "2023-04-12T19:56:59.294Z"
   },
   {
    "duration": 10,
    "start_time": "2023-04-12T19:57:10.752Z"
   },
   {
    "duration": 11,
    "start_time": "2023-04-12T19:57:12.532Z"
   },
   {
    "duration": 272,
    "start_time": "2023-04-12T19:57:16.398Z"
   },
   {
    "duration": 6904,
    "start_time": "2023-04-13T18:00:19.308Z"
   },
   {
    "duration": 1200,
    "start_time": "2023-04-13T18:00:26.214Z"
   },
   {
    "duration": 3,
    "start_time": "2023-04-13T18:00:27.416Z"
   },
   {
    "duration": 285,
    "start_time": "2023-04-13T18:00:27.421Z"
   },
   {
    "duration": 35,
    "start_time": "2023-04-13T18:00:27.708Z"
   },
   {
    "duration": 25,
    "start_time": "2023-04-13T18:00:27.745Z"
   },
   {
    "duration": 59,
    "start_time": "2023-04-13T18:00:27.771Z"
   },
   {
    "duration": 26,
    "start_time": "2023-04-13T18:00:27.832Z"
   },
   {
    "duration": 33,
    "start_time": "2023-04-13T18:00:27.860Z"
   },
   {
    "duration": 5,
    "start_time": "2023-04-13T18:00:27.897Z"
   },
   {
    "duration": 6,
    "start_time": "2023-04-13T18:00:27.904Z"
   },
   {
    "duration": 16,
    "start_time": "2023-04-13T18:00:27.912Z"
   },
   {
    "duration": 20,
    "start_time": "2023-04-13T18:00:27.929Z"
   },
   {
    "duration": 9,
    "start_time": "2023-04-13T18:00:27.951Z"
   },
   {
    "duration": 38,
    "start_time": "2023-04-13T18:00:27.962Z"
   },
   {
    "duration": 4,
    "start_time": "2023-04-13T18:00:28.002Z"
   },
   {
    "duration": 20,
    "start_time": "2023-04-13T18:00:28.008Z"
   },
   {
    "duration": 18,
    "start_time": "2023-04-13T18:00:28.030Z"
   },
   {
    "duration": 6,
    "start_time": "2023-04-13T18:00:28.049Z"
   },
   {
    "duration": 59,
    "start_time": "2023-04-13T18:00:28.056Z"
   },
   {
    "duration": 5,
    "start_time": "2023-04-13T18:00:28.117Z"
   },
   {
    "duration": 12,
    "start_time": "2023-04-13T18:00:28.123Z"
   },
   {
    "duration": 72,
    "start_time": "2023-04-13T18:00:28.136Z"
   },
   {
    "duration": 10,
    "start_time": "2023-04-13T18:00:28.210Z"
   },
   {
    "duration": 23,
    "start_time": "2023-04-13T18:00:28.222Z"
   },
   {
    "duration": 4,
    "start_time": "2023-04-13T18:00:28.246Z"
   },
   {
    "duration": 18,
    "start_time": "2023-04-13T18:00:28.252Z"
   },
   {
    "duration": 3,
    "start_time": "2023-04-13T18:00:28.295Z"
   },
   {
    "duration": 1516,
    "start_time": "2023-04-13T18:00:28.299Z"
   },
   {
    "duration": 3,
    "start_time": "2023-04-13T18:00:29.816Z"
   },
   {
    "duration": 5,
    "start_time": "2023-04-13T18:00:29.820Z"
   },
   {
    "duration": 582,
    "start_time": "2023-04-13T18:00:29.827Z"
   },
   {
    "duration": 2110,
    "start_time": "2023-04-13T18:00:30.411Z"
   },
   {
    "duration": 622,
    "start_time": "2023-04-13T18:00:32.523Z"
   },
   {
    "duration": 557,
    "start_time": "2023-04-13T18:00:33.148Z"
   },
   {
    "duration": 11,
    "start_time": "2023-04-13T18:00:33.707Z"
   },
   {
    "duration": 9,
    "start_time": "2023-04-13T18:00:33.720Z"
   },
   {
    "duration": 17,
    "start_time": "2023-04-13T18:00:33.731Z"
   },
   {
    "duration": 12,
    "start_time": "2023-04-13T18:00:33.750Z"
   },
   {
    "duration": 13,
    "start_time": "2023-04-13T18:00:33.764Z"
   },
   {
    "duration": 4,
    "start_time": "2023-04-13T18:00:33.779Z"
   },
   {
    "duration": 9,
    "start_time": "2023-04-13T18:00:33.785Z"
   },
   {
    "duration": 13,
    "start_time": "2023-04-13T18:00:33.796Z"
   },
   {
    "duration": 6,
    "start_time": "2023-04-13T18:00:33.811Z"
   },
   {
    "duration": 4,
    "start_time": "2023-04-13T18:00:33.818Z"
   },
   {
    "duration": 100,
    "start_time": "2023-04-13T18:00:33.824Z"
   },
   {
    "duration": 46,
    "start_time": "2023-04-13T18:00:33.926Z"
   },
   {
    "duration": 4,
    "start_time": "2023-04-13T18:00:33.974Z"
   },
   {
    "duration": 30794,
    "start_time": "2023-04-13T18:00:33.993Z"
   },
   {
    "duration": 142,
    "start_time": "2023-04-13T18:01:04.793Z"
   },
   {
    "duration": 29737,
    "start_time": "2023-04-13T18:01:04.937Z"
   },
   {
    "duration": 0,
    "start_time": "2023-04-13T18:01:34.676Z"
   },
   {
    "duration": 0,
    "start_time": "2023-04-13T18:01:34.677Z"
   },
   {
    "duration": 0,
    "start_time": "2023-04-13T18:01:34.678Z"
   },
   {
    "duration": 0,
    "start_time": "2023-04-13T18:01:34.679Z"
   },
   {
    "duration": 0,
    "start_time": "2023-04-13T18:01:34.681Z"
   },
   {
    "duration": 0,
    "start_time": "2023-04-13T18:01:34.692Z"
   },
   {
    "duration": 1,
    "start_time": "2023-04-13T18:01:34.693Z"
   },
   {
    "duration": 0,
    "start_time": "2023-04-13T18:01:34.695Z"
   },
   {
    "duration": 0,
    "start_time": "2023-04-13T18:01:34.696Z"
   },
   {
    "duration": 0,
    "start_time": "2023-04-13T18:01:34.697Z"
   },
   {
    "duration": 0,
    "start_time": "2023-04-13T18:01:34.698Z"
   },
   {
    "duration": 30088,
    "start_time": "2023-04-13T18:02:12.413Z"
   },
   {
    "duration": 29633,
    "start_time": "2023-04-13T18:03:08.555Z"
   },
   {
    "duration": 136,
    "start_time": "2023-04-13T18:04:56.603Z"
   },
   {
    "duration": 387,
    "start_time": "2023-04-13T18:04:57.303Z"
   },
   {
    "duration": 132,
    "start_time": "2023-04-13T18:04:57.693Z"
   },
   {
    "duration": 6,
    "start_time": "2023-04-13T18:04:58.220Z"
   },
   {
    "duration": 829,
    "start_time": "2023-04-13T18:04:58.402Z"
   },
   {
    "duration": 139,
    "start_time": "2023-04-13T18:04:59.233Z"
   },
   {
    "duration": 287,
    "start_time": "2023-04-13T18:05:00.399Z"
   },
   {
    "duration": 3,
    "start_time": "2023-04-13T18:05:00.694Z"
   },
   {
    "duration": 7,
    "start_time": "2023-04-13T18:05:00.953Z"
   },
   {
    "duration": 9,
    "start_time": "2023-04-13T18:05:01.299Z"
   },
   {
    "duration": 299,
    "start_time": "2023-04-13T18:05:01.779Z"
   },
   {
    "duration": 2078,
    "start_time": "2023-04-13T18:08:39.063Z"
   },
   {
    "duration": 1286,
    "start_time": "2023-04-13T18:08:41.144Z"
   },
   {
    "duration": 3,
    "start_time": "2023-04-13T18:08:42.432Z"
   },
   {
    "duration": 102,
    "start_time": "2023-04-13T18:08:42.437Z"
   },
   {
    "duration": 34,
    "start_time": "2023-04-13T18:08:42.540Z"
   },
   {
    "duration": 24,
    "start_time": "2023-04-13T18:08:42.576Z"
   },
   {
    "duration": 48,
    "start_time": "2023-04-13T18:08:42.602Z"
   },
   {
    "duration": 49,
    "start_time": "2023-04-13T18:08:42.652Z"
   },
   {
    "duration": 4,
    "start_time": "2023-04-13T18:08:42.703Z"
   },
   {
    "duration": 4,
    "start_time": "2023-04-13T18:08:42.710Z"
   },
   {
    "duration": 4,
    "start_time": "2023-04-13T18:08:42.716Z"
   },
   {
    "duration": 4,
    "start_time": "2023-04-13T18:08:42.722Z"
   },
   {
    "duration": 13,
    "start_time": "2023-04-13T18:08:42.727Z"
   },
   {
    "duration": 6,
    "start_time": "2023-04-13T18:08:42.741Z"
   },
   {
    "duration": 60,
    "start_time": "2023-04-13T18:08:42.749Z"
   },
   {
    "duration": 5,
    "start_time": "2023-04-13T18:08:42.810Z"
   },
   {
    "duration": 29,
    "start_time": "2023-04-13T18:08:42.816Z"
   },
   {
    "duration": 52,
    "start_time": "2023-04-13T18:08:42.846Z"
   },
   {
    "duration": 5,
    "start_time": "2023-04-13T18:08:42.900Z"
   },
   {
    "duration": 26,
    "start_time": "2023-04-13T18:08:42.906Z"
   },
   {
    "duration": 5,
    "start_time": "2023-04-13T18:08:42.933Z"
   },
   {
    "duration": 5,
    "start_time": "2023-04-13T18:08:42.940Z"
   },
   {
    "duration": 79,
    "start_time": "2023-04-13T18:08:42.947Z"
   },
   {
    "duration": 9,
    "start_time": "2023-04-13T18:08:43.028Z"
   },
   {
    "duration": 23,
    "start_time": "2023-04-13T18:08:43.038Z"
   },
   {
    "duration": 3,
    "start_time": "2023-04-13T18:08:43.063Z"
   },
   {
    "duration": 33,
    "start_time": "2023-04-13T18:08:43.067Z"
   },
   {
    "duration": 3,
    "start_time": "2023-04-13T18:08:43.104Z"
   },
   {
    "duration": 1490,
    "start_time": "2023-04-13T18:08:43.109Z"
   },
   {
    "duration": 3,
    "start_time": "2023-04-13T18:08:44.601Z"
   },
   {
    "duration": 8,
    "start_time": "2023-04-13T18:08:44.605Z"
   },
   {
    "duration": 572,
    "start_time": "2023-04-13T18:08:44.615Z"
   },
   {
    "duration": 2049,
    "start_time": "2023-04-13T18:08:45.194Z"
   },
   {
    "duration": 584,
    "start_time": "2023-04-13T18:08:47.244Z"
   },
   {
    "duration": 570,
    "start_time": "2023-04-13T18:08:47.829Z"
   },
   {
    "duration": 11,
    "start_time": "2023-04-13T18:08:48.400Z"
   },
   {
    "duration": 3,
    "start_time": "2023-04-13T18:08:48.413Z"
   },
   {
    "duration": 5,
    "start_time": "2023-04-13T18:08:48.418Z"
   },
   {
    "duration": 7,
    "start_time": "2023-04-13T18:08:48.424Z"
   },
   {
    "duration": 9,
    "start_time": "2023-04-13T18:08:48.432Z"
   },
   {
    "duration": 6,
    "start_time": "2023-04-13T18:08:48.443Z"
   },
   {
    "duration": 3,
    "start_time": "2023-04-13T18:08:48.451Z"
   },
   {
    "duration": 37,
    "start_time": "2023-04-13T18:08:48.456Z"
   },
   {
    "duration": 6,
    "start_time": "2023-04-13T18:08:48.495Z"
   },
   {
    "duration": 9,
    "start_time": "2023-04-13T18:08:48.503Z"
   },
   {
    "duration": 92,
    "start_time": "2023-04-13T18:08:48.514Z"
   },
   {
    "duration": 48,
    "start_time": "2023-04-13T18:08:48.608Z"
   },
   {
    "duration": 4,
    "start_time": "2023-04-13T18:08:48.658Z"
   },
   {
    "duration": 30621,
    "start_time": "2023-04-13T18:08:48.664Z"
   },
   {
    "duration": 147,
    "start_time": "2023-04-13T18:09:19.286Z"
   },
   {
    "duration": 29061,
    "start_time": "2023-04-13T18:09:19.435Z"
   },
   {
    "duration": 133,
    "start_time": "2023-04-13T18:09:48.497Z"
   },
   {
    "duration": 387,
    "start_time": "2023-04-13T18:09:48.631Z"
   },
   {
    "duration": 136,
    "start_time": "2023-04-13T18:09:49.020Z"
   },
   {
    "duration": 4,
    "start_time": "2023-04-13T18:09:49.158Z"
   },
   {
    "duration": 771,
    "start_time": "2023-04-13T18:09:49.164Z"
   },
   {
    "duration": 134,
    "start_time": "2023-04-13T18:09:49.937Z"
   },
   {
    "duration": 303,
    "start_time": "2023-04-13T18:09:50.073Z"
   },
   {
    "duration": 4,
    "start_time": "2023-04-13T18:09:50.377Z"
   },
   {
    "duration": 129,
    "start_time": "2023-04-13T18:09:50.392Z"
   },
   {
    "duration": 0,
    "start_time": "2023-04-13T18:09:50.523Z"
   },
   {
    "duration": 0,
    "start_time": "2023-04-13T18:09:50.524Z"
   },
   {
    "duration": 385,
    "start_time": "2023-04-13T18:21:43.526Z"
   },
   {
    "duration": 131,
    "start_time": "2023-04-13T18:21:45.399Z"
   },
   {
    "duration": 9,
    "start_time": "2023-04-13T18:22:59.723Z"
   },
   {
    "duration": 7,
    "start_time": "2023-04-13T18:23:17.024Z"
   },
   {
    "duration": 8,
    "start_time": "2023-04-13T18:23:20.124Z"
   },
   {
    "duration": 264,
    "start_time": "2023-04-13T18:23:24.126Z"
   },
   {
    "duration": 2014,
    "start_time": "2023-04-13T18:24:09.117Z"
   },
   {
    "duration": 1218,
    "start_time": "2023-04-13T18:24:11.134Z"
   },
   {
    "duration": 4,
    "start_time": "2023-04-13T18:24:12.354Z"
   },
   {
    "duration": 91,
    "start_time": "2023-04-13T18:24:12.361Z"
   },
   {
    "duration": 34,
    "start_time": "2023-04-13T18:24:12.453Z"
   },
   {
    "duration": 25,
    "start_time": "2023-04-13T18:24:12.489Z"
   },
   {
    "duration": 48,
    "start_time": "2023-04-13T18:24:12.516Z"
   },
   {
    "duration": 47,
    "start_time": "2023-04-13T18:24:12.565Z"
   },
   {
    "duration": 5,
    "start_time": "2023-04-13T18:24:12.614Z"
   },
   {
    "duration": 6,
    "start_time": "2023-04-13T18:24:12.621Z"
   },
   {
    "duration": 5,
    "start_time": "2023-04-13T18:24:12.628Z"
   },
   {
    "duration": 6,
    "start_time": "2023-04-13T18:24:12.634Z"
   },
   {
    "duration": 52,
    "start_time": "2023-04-13T18:24:12.641Z"
   },
   {
    "duration": 8,
    "start_time": "2023-04-13T18:24:12.695Z"
   },
   {
    "duration": 18,
    "start_time": "2023-04-13T18:24:12.705Z"
   },
   {
    "duration": 6,
    "start_time": "2023-04-13T18:24:12.725Z"
   },
   {
    "duration": 16,
    "start_time": "2023-04-13T18:24:12.733Z"
   },
   {
    "duration": 53,
    "start_time": "2023-04-13T18:24:12.751Z"
   },
   {
    "duration": 6,
    "start_time": "2023-04-13T18:24:12.805Z"
   },
   {
    "duration": 32,
    "start_time": "2023-04-13T18:24:12.812Z"
   },
   {
    "duration": 5,
    "start_time": "2023-04-13T18:24:12.845Z"
   },
   {
    "duration": 9,
    "start_time": "2023-04-13T18:24:12.852Z"
   },
   {
    "duration": 81,
    "start_time": "2023-04-13T18:24:12.862Z"
   },
   {
    "duration": 8,
    "start_time": "2023-04-13T18:24:12.945Z"
   },
   {
    "duration": 17,
    "start_time": "2023-04-13T18:24:12.955Z"
   },
   {
    "duration": 21,
    "start_time": "2023-04-13T18:24:12.974Z"
   },
   {
    "duration": 18,
    "start_time": "2023-04-13T18:24:12.996Z"
   },
   {
    "duration": 3,
    "start_time": "2023-04-13T18:24:13.018Z"
   },
   {
    "duration": 1531,
    "start_time": "2023-04-13T18:24:13.023Z"
   },
   {
    "duration": 4,
    "start_time": "2023-04-13T18:24:14.555Z"
   },
   {
    "duration": 5,
    "start_time": "2023-04-13T18:24:14.561Z"
   },
   {
    "duration": 583,
    "start_time": "2023-04-13T18:24:14.568Z"
   },
   {
    "duration": 2084,
    "start_time": "2023-04-13T18:24:15.153Z"
   },
   {
    "duration": 600,
    "start_time": "2023-04-13T18:24:17.239Z"
   },
   {
    "duration": 583,
    "start_time": "2023-04-13T18:24:17.841Z"
   },
   {
    "duration": 11,
    "start_time": "2023-04-13T18:24:18.426Z"
   },
   {
    "duration": 4,
    "start_time": "2023-04-13T18:24:18.438Z"
   },
   {
    "duration": 8,
    "start_time": "2023-04-13T18:24:18.443Z"
   },
   {
    "duration": 12,
    "start_time": "2023-04-13T18:24:18.453Z"
   },
   {
    "duration": 9,
    "start_time": "2023-04-13T18:24:18.467Z"
   },
   {
    "duration": 3,
    "start_time": "2023-04-13T18:24:18.493Z"
   },
   {
    "duration": 25,
    "start_time": "2023-04-13T18:24:18.498Z"
   },
   {
    "duration": 15,
    "start_time": "2023-04-13T18:24:18.525Z"
   },
   {
    "duration": 6,
    "start_time": "2023-04-13T18:24:18.542Z"
   },
   {
    "duration": 11,
    "start_time": "2023-04-13T18:24:18.549Z"
   },
   {
    "duration": 85,
    "start_time": "2023-04-13T18:24:18.562Z"
   },
   {
    "duration": 52,
    "start_time": "2023-04-13T18:24:18.649Z"
   },
   {
    "duration": 5,
    "start_time": "2023-04-13T18:24:18.703Z"
   },
   {
    "duration": 30640,
    "start_time": "2023-04-13T18:24:18.710Z"
   },
   {
    "duration": 132,
    "start_time": "2023-04-13T18:24:49.352Z"
   },
   {
    "duration": 30083,
    "start_time": "2023-04-13T18:24:49.486Z"
   },
   {
    "duration": 135,
    "start_time": "2023-04-13T18:25:19.570Z"
   },
   {
    "duration": 395,
    "start_time": "2023-04-13T18:25:19.707Z"
   },
   {
    "duration": 147,
    "start_time": "2023-04-13T18:25:20.104Z"
   },
   {
    "duration": 5,
    "start_time": "2023-04-13T18:25:20.253Z"
   },
   {
    "duration": 770,
    "start_time": "2023-04-13T18:25:20.260Z"
   },
   {
    "duration": 138,
    "start_time": "2023-04-13T18:25:21.032Z"
   },
   {
    "duration": 312,
    "start_time": "2023-04-13T18:25:21.172Z"
   },
   {
    "duration": 3,
    "start_time": "2023-04-13T18:25:21.493Z"
   },
   {
    "duration": 125,
    "start_time": "2023-04-13T18:25:21.498Z"
   },
   {
    "duration": 0,
    "start_time": "2023-04-13T18:25:21.625Z"
   },
   {
    "duration": 0,
    "start_time": "2023-04-13T18:25:21.626Z"
   },
   {
    "duration": 7,
    "start_time": "2023-04-13T18:31:34.784Z"
   },
   {
    "duration": 9,
    "start_time": "2023-04-13T18:31:36.246Z"
   },
   {
    "duration": 269,
    "start_time": "2023-04-13T18:31:36.814Z"
   }
  ],
  "kernelspec": {
   "display_name": "Python 3 (ipykernel)",
   "language": "python",
   "name": "python3"
  },
  "language_info": {
   "codemirror_mode": {
    "name": "ipython",
    "version": 3
   },
   "file_extension": ".py",
   "mimetype": "text/x-python",
   "name": "python",
   "nbconvert_exporter": "python",
   "pygments_lexer": "ipython3",
   "version": "3.9.12"
  },
  "toc": {
   "base_numbering": 1,
   "nav_menu": {},
   "number_sections": true,
   "sideBar": true,
   "skip_h1_title": true,
   "title_cell": "Table of Contents",
   "title_sidebar": "Contents",
   "toc_cell": false,
   "toc_position": {},
   "toc_section_display": true,
   "toc_window_display": false
  }
 },
 "nbformat": 4,
 "nbformat_minor": 5
}
