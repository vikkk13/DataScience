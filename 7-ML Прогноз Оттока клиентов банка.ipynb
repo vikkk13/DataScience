{
 "cells": [
  {
   "cell_type": "markdown",
   "metadata": {
    "toc": true
   },
   "source": [
    "<h1>Содержание<span class=\"tocSkip\"></span></h1>\n",
    "<div class=\"toc\"><ul class=\"toc-item\"><li><span><a href=\"#Подготовка-данных\" data-toc-modified-id=\"Подготовка-данных-1\"><span class=\"toc-item-num\">1&nbsp;&nbsp;</span>Подготовка данных</a></span></li><li><span><a href=\"#Исследование-задачи\" data-toc-modified-id=\"Исследование-задачи-2\"><span class=\"toc-item-num\">2&nbsp;&nbsp;</span>Исследование задачи</a></span></li><li><span><a href=\"#Борьба-с-дисбалансом\" data-toc-modified-id=\"Борьба-с-дисбалансом-3\"><span class=\"toc-item-num\">3&nbsp;&nbsp;</span>Борьба с дисбалансом</a></span></li><li><span><a href=\"#Тестирование-модели\" data-toc-modified-id=\"Тестирование-модели-4\"><span class=\"toc-item-num\">4&nbsp;&nbsp;</span>Тестирование модели</a></span></li><li><span><a href=\"#Чек-лист-готовности-проекта\" data-toc-modified-id=\"Чек-лист-готовности-проекта-5\"><span class=\"toc-item-num\">5&nbsp;&nbsp;</span>Чек-лист готовности проекта</a></span></li></ul></div>"
   ]
  },
  {
   "cell_type": "markdown",
   "metadata": {},
   "source": [
    "# Отток клиентов"
   ]
  },
  {
   "cell_type": "markdown",
   "metadata": {},
   "source": [
    "Из «Бета-Банка» стали уходить клиенты. Каждый месяц. Немного, но заметно. Банковские маркетологи посчитали: сохранять текущих клиентов дешевле, чем привлекать новых.\n",
    "\n",
    "Нужно спрогнозировать, уйдёт клиент из банка в ближайшее время или нет. Вам предоставлены исторические данные о поведении клиентов и расторжении договоров с банком. \n",
    "\n",
    "Постройте модель с предельно большим значением *F1*-меры. Чтобы сдать проект успешно, нужно довести метрику до 0.59. Проверьте *F1*-меру на тестовой выборке самостоятельно.\n",
    "\n",
    "Дополнительно измеряйте *AUC-ROC*, сравнивайте её значение с *F1*-мерой.\n",
    "\n",
    "Источник данных: [https://www.kaggle.com/barelydedicated/bank-customer-churn-modeling](https://www.kaggle.com/barelydedicated/bank-customer-churn-modeling)"
   ]
  },
  {
   "cell_type": "markdown",
   "metadata": {},
   "source": [
    "## Подготовка данных"
   ]
  },
  {
   "cell_type": "code",
   "execution_count": 1,
   "metadata": {},
   "outputs": [],
   "source": [
    "import pandas as pd\n",
    "from sklearn.model_selection import train_test_split\n",
    "from sklearn.tree import DecisionTreeClassifier\n",
    "from sklearn.linear_model import LogisticRegression\n",
    "from sklearn.ensemble import RandomForestClassifier\n",
    "from sklearn.metrics import f1_score\n",
    "from sklearn.metrics import auc\n",
    "from sklearn.metrics import roc_curve\n",
    "from sklearn.metrics import roc_auc_score\n",
    "from sklearn.metrics import confusion_matrix\n",
    "from sklearn.preprocessing import StandardScaler\n",
    "from sklearn.metrics import accuracy_score\n",
    "from sklearn.utils import shuffle\n",
    "import seaborn as sb\n",
    "import matplotlib.pyplot as plt\n"
   ]
  },
  {
   "cell_type": "markdown",
   "metadata": {},
   "source": [
    "Загрузим все библиотеки и функции, необходимые для работы."
   ]
  },
  {
   "cell_type": "code",
   "execution_count": 2,
   "metadata": {},
   "outputs": [],
   "source": [
    "import warnings \n",
    "warnings.filterwarnings('ignore')"
   ]
  },
  {
   "cell_type": "markdown",
   "metadata": {},
   "source": [
    "Отключим предупреждения"
   ]
  },
  {
   "cell_type": "code",
   "execution_count": 3,
   "metadata": {},
   "outputs": [],
   "source": [
    "data=pd.read_csv('/datasets/Churn.csv')"
   ]
  },
  {
   "cell_type": "markdown",
   "metadata": {},
   "source": [
    "Загрузим датасет."
   ]
  },
  {
   "cell_type": "code",
   "execution_count": 4,
   "metadata": {},
   "outputs": [
    {
     "data": {
      "text/html": [
       "<div>\n",
       "<style scoped>\n",
       "    .dataframe tbody tr th:only-of-type {\n",
       "        vertical-align: middle;\n",
       "    }\n",
       "\n",
       "    .dataframe tbody tr th {\n",
       "        vertical-align: top;\n",
       "    }\n",
       "\n",
       "    .dataframe thead th {\n",
       "        text-align: right;\n",
       "    }\n",
       "</style>\n",
       "<table border=\"1\" class=\"dataframe\">\n",
       "  <thead>\n",
       "    <tr style=\"text-align: right;\">\n",
       "      <th></th>\n",
       "      <th>RowNumber</th>\n",
       "      <th>CustomerId</th>\n",
       "      <th>Surname</th>\n",
       "      <th>CreditScore</th>\n",
       "      <th>Geography</th>\n",
       "      <th>Gender</th>\n",
       "      <th>Age</th>\n",
       "      <th>Tenure</th>\n",
       "      <th>Balance</th>\n",
       "      <th>NumOfProducts</th>\n",
       "      <th>HasCrCard</th>\n",
       "      <th>IsActiveMember</th>\n",
       "      <th>EstimatedSalary</th>\n",
       "      <th>Exited</th>\n",
       "    </tr>\n",
       "  </thead>\n",
       "  <tbody>\n",
       "    <tr>\n",
       "      <th>0</th>\n",
       "      <td>1</td>\n",
       "      <td>15634602</td>\n",
       "      <td>Hargrave</td>\n",
       "      <td>619</td>\n",
       "      <td>France</td>\n",
       "      <td>Female</td>\n",
       "      <td>42</td>\n",
       "      <td>2.0</td>\n",
       "      <td>0.00</td>\n",
       "      <td>1</td>\n",
       "      <td>1</td>\n",
       "      <td>1</td>\n",
       "      <td>101348.88</td>\n",
       "      <td>1</td>\n",
       "    </tr>\n",
       "    <tr>\n",
       "      <th>1</th>\n",
       "      <td>2</td>\n",
       "      <td>15647311</td>\n",
       "      <td>Hill</td>\n",
       "      <td>608</td>\n",
       "      <td>Spain</td>\n",
       "      <td>Female</td>\n",
       "      <td>41</td>\n",
       "      <td>1.0</td>\n",
       "      <td>83807.86</td>\n",
       "      <td>1</td>\n",
       "      <td>0</td>\n",
       "      <td>1</td>\n",
       "      <td>112542.58</td>\n",
       "      <td>0</td>\n",
       "    </tr>\n",
       "    <tr>\n",
       "      <th>2</th>\n",
       "      <td>3</td>\n",
       "      <td>15619304</td>\n",
       "      <td>Onio</td>\n",
       "      <td>502</td>\n",
       "      <td>France</td>\n",
       "      <td>Female</td>\n",
       "      <td>42</td>\n",
       "      <td>8.0</td>\n",
       "      <td>159660.80</td>\n",
       "      <td>3</td>\n",
       "      <td>1</td>\n",
       "      <td>0</td>\n",
       "      <td>113931.57</td>\n",
       "      <td>1</td>\n",
       "    </tr>\n",
       "    <tr>\n",
       "      <th>3</th>\n",
       "      <td>4</td>\n",
       "      <td>15701354</td>\n",
       "      <td>Boni</td>\n",
       "      <td>699</td>\n",
       "      <td>France</td>\n",
       "      <td>Female</td>\n",
       "      <td>39</td>\n",
       "      <td>1.0</td>\n",
       "      <td>0.00</td>\n",
       "      <td>2</td>\n",
       "      <td>0</td>\n",
       "      <td>0</td>\n",
       "      <td>93826.63</td>\n",
       "      <td>0</td>\n",
       "    </tr>\n",
       "    <tr>\n",
       "      <th>4</th>\n",
       "      <td>5</td>\n",
       "      <td>15737888</td>\n",
       "      <td>Mitchell</td>\n",
       "      <td>850</td>\n",
       "      <td>Spain</td>\n",
       "      <td>Female</td>\n",
       "      <td>43</td>\n",
       "      <td>2.0</td>\n",
       "      <td>125510.82</td>\n",
       "      <td>1</td>\n",
       "      <td>1</td>\n",
       "      <td>1</td>\n",
       "      <td>79084.10</td>\n",
       "      <td>0</td>\n",
       "    </tr>\n",
       "  </tbody>\n",
       "</table>\n",
       "</div>"
      ],
      "text/plain": [
       "   RowNumber  CustomerId   Surname  CreditScore Geography  Gender  Age  \\\n",
       "0          1    15634602  Hargrave          619    France  Female   42   \n",
       "1          2    15647311      Hill          608     Spain  Female   41   \n",
       "2          3    15619304      Onio          502    France  Female   42   \n",
       "3          4    15701354      Boni          699    France  Female   39   \n",
       "4          5    15737888  Mitchell          850     Spain  Female   43   \n",
       "\n",
       "   Tenure    Balance  NumOfProducts  HasCrCard  IsActiveMember  \\\n",
       "0     2.0       0.00              1          1               1   \n",
       "1     1.0   83807.86              1          0               1   \n",
       "2     8.0  159660.80              3          1               0   \n",
       "3     1.0       0.00              2          0               0   \n",
       "4     2.0  125510.82              1          1               1   \n",
       "\n",
       "   EstimatedSalary  Exited  \n",
       "0        101348.88       1  \n",
       "1        112542.58       0  \n",
       "2        113931.57       1  \n",
       "3         93826.63       0  \n",
       "4         79084.10       0  "
      ]
     },
     "execution_count": 4,
     "metadata": {},
     "output_type": "execute_result"
    }
   ],
   "source": [
    "data.head()"
   ]
  },
  {
   "cell_type": "code",
   "execution_count": 5,
   "metadata": {},
   "outputs": [
    {
     "name": "stdout",
     "output_type": "stream",
     "text": [
      "<class 'pandas.core.frame.DataFrame'>\n",
      "RangeIndex: 10000 entries, 0 to 9999\n",
      "Data columns (total 14 columns):\n",
      " #   Column           Non-Null Count  Dtype  \n",
      "---  ------           --------------  -----  \n",
      " 0   RowNumber        10000 non-null  int64  \n",
      " 1   CustomerId       10000 non-null  int64  \n",
      " 2   Surname          10000 non-null  object \n",
      " 3   CreditScore      10000 non-null  int64  \n",
      " 4   Geography        10000 non-null  object \n",
      " 5   Gender           10000 non-null  object \n",
      " 6   Age              10000 non-null  int64  \n",
      " 7   Tenure           9091 non-null   float64\n",
      " 8   Balance          10000 non-null  float64\n",
      " 9   NumOfProducts    10000 non-null  int64  \n",
      " 10  HasCrCard        10000 non-null  int64  \n",
      " 11  IsActiveMember   10000 non-null  int64  \n",
      " 12  EstimatedSalary  10000 non-null  float64\n",
      " 13  Exited           10000 non-null  int64  \n",
      "dtypes: float64(3), int64(8), object(3)\n",
      "memory usage: 1.1+ MB\n"
     ]
    }
   ],
   "source": [
    "data.info()"
   ]
  },
  {
   "cell_type": "markdown",
   "metadata": {},
   "source": [
    "Видим пропуски в столбце \"Tenure\". Это менее 10% от общего количества, поэтому их можно удалить."
   ]
  },
  {
   "cell_type": "code",
   "execution_count": 6,
   "metadata": {},
   "outputs": [
    {
     "name": "stdout",
     "output_type": "stream",
     "text": [
      "<class 'pandas.core.frame.DataFrame'>\n",
      "RangeIndex: 10000 entries, 0 to 9999\n",
      "Data columns (total 14 columns):\n",
      " #   Column           Non-Null Count  Dtype  \n",
      "---  ------           --------------  -----  \n",
      " 0   RowNumber        10000 non-null  int64  \n",
      " 1   CustomerId       10000 non-null  int64  \n",
      " 2   Surname          10000 non-null  object \n",
      " 3   CreditScore      10000 non-null  int64  \n",
      " 4   Geography        10000 non-null  object \n",
      " 5   Gender           10000 non-null  object \n",
      " 6   Age              10000 non-null  int64  \n",
      " 7   Tenure           10000 non-null  object \n",
      " 8   Balance          10000 non-null  float64\n",
      " 9   NumOfProducts    10000 non-null  int64  \n",
      " 10  HasCrCard        10000 non-null  int64  \n",
      " 11  IsActiveMember   10000 non-null  int64  \n",
      " 12  EstimatedSalary  10000 non-null  float64\n",
      " 13  Exited           10000 non-null  int64  \n",
      "dtypes: float64(2), int64(8), object(4)\n",
      "memory usage: 1.1+ MB\n"
     ]
    }
   ],
   "source": [
    "data['Tenure'] = data['Tenure'].fillna(-1)\n",
    "data['Tenure'] = data['Tenure'].astype(object)\n",
    "data.info()"
   ]
  },
  {
   "cell_type": "code",
   "execution_count": 7,
   "metadata": {},
   "outputs": [
    {
     "name": "stdout",
     "output_type": "stream",
     "text": [
      "<class 'pandas.core.frame.DataFrame'>\n",
      "RangeIndex: 10000 entries, 0 to 9999\n",
      "Data columns (total 14 columns):\n",
      " #   Column           Non-Null Count  Dtype  \n",
      "---  ------           --------------  -----  \n",
      " 0   RowNumber        10000 non-null  int64  \n",
      " 1   CustomerId       10000 non-null  int64  \n",
      " 2   Surname          10000 non-null  object \n",
      " 3   CreditScore      10000 non-null  int64  \n",
      " 4   Geography        10000 non-null  object \n",
      " 5   Gender           10000 non-null  object \n",
      " 6   Age              10000 non-null  int64  \n",
      " 7   Tenure           10000 non-null  object \n",
      " 8   Balance          10000 non-null  float64\n",
      " 9   NumOfProducts    10000 non-null  int64  \n",
      " 10  HasCrCard        10000 non-null  int64  \n",
      " 11  IsActiveMember   10000 non-null  int64  \n",
      " 12  EstimatedSalary  10000 non-null  float64\n",
      " 13  Exited           10000 non-null  int64  \n",
      "dtypes: float64(2), int64(8), object(4)\n",
      "memory usage: 1.1+ MB\n"
     ]
    }
   ],
   "source": [
    "data.info()"
   ]
  },
  {
   "cell_type": "code",
   "execution_count": 8,
   "metadata": {},
   "outputs": [
    {
     "data": {
      "text/plain": [
       "0"
      ]
     },
     "execution_count": 8,
     "metadata": {},
     "output_type": "execute_result"
    }
   ],
   "source": [
    "data.duplicated().sum()"
   ]
  },
  {
   "cell_type": "markdown",
   "metadata": {},
   "source": [
    "Дубликатов нет"
   ]
  },
  {
   "cell_type": "code",
   "execution_count": 9,
   "metadata": {},
   "outputs": [],
   "source": [
    "data = data.drop(['RowNumber', 'CustomerId', \"Surname\"], axis=1)"
   ]
  },
  {
   "cell_type": "markdown",
   "metadata": {},
   "source": [
    "Столбцы \"индекс строки\", \"уникальный идентификатор клиента\" и \"Фамилия\" никак не влияют на уход клиента, поэтому их можно удалить."
   ]
  },
  {
   "cell_type": "code",
   "execution_count": 10,
   "metadata": {},
   "outputs": [
    {
     "name": "stdout",
     "output_type": "stream",
     "text": [
      "<class 'pandas.core.frame.DataFrame'>\n",
      "RangeIndex: 10000 entries, 0 to 9999\n",
      "Data columns (total 11 columns):\n",
      " #   Column           Non-Null Count  Dtype  \n",
      "---  ------           --------------  -----  \n",
      " 0   CreditScore      10000 non-null  int64  \n",
      " 1   Geography        10000 non-null  object \n",
      " 2   Gender           10000 non-null  object \n",
      " 3   Age              10000 non-null  int64  \n",
      " 4   Tenure           10000 non-null  object \n",
      " 5   Balance          10000 non-null  float64\n",
      " 6   NumOfProducts    10000 non-null  int64  \n",
      " 7   HasCrCard        10000 non-null  int64  \n",
      " 8   IsActiveMember   10000 non-null  int64  \n",
      " 9   EstimatedSalary  10000 non-null  float64\n",
      " 10  Exited           10000 non-null  int64  \n",
      "dtypes: float64(2), int64(6), object(3)\n",
      "memory usage: 859.5+ KB\n"
     ]
    }
   ],
   "source": [
    "data.info()"
   ]
  },
  {
   "cell_type": "code",
   "execution_count": 11,
   "metadata": {},
   "outputs": [
    {
     "data": {
      "text/html": [
       "<div>\n",
       "<style scoped>\n",
       "    .dataframe tbody tr th:only-of-type {\n",
       "        vertical-align: middle;\n",
       "    }\n",
       "\n",
       "    .dataframe tbody tr th {\n",
       "        vertical-align: top;\n",
       "    }\n",
       "\n",
       "    .dataframe thead th {\n",
       "        text-align: right;\n",
       "    }\n",
       "</style>\n",
       "<table border=\"1\" class=\"dataframe\">\n",
       "  <thead>\n",
       "    <tr style=\"text-align: right;\">\n",
       "      <th></th>\n",
       "      <th>CreditScore</th>\n",
       "      <th>Age</th>\n",
       "      <th>Balance</th>\n",
       "      <th>NumOfProducts</th>\n",
       "      <th>HasCrCard</th>\n",
       "      <th>IsActiveMember</th>\n",
       "      <th>EstimatedSalary</th>\n",
       "      <th>Exited</th>\n",
       "      <th>Geography_Germany</th>\n",
       "      <th>Geography_Spain</th>\n",
       "      <th>...</th>\n",
       "      <th>Tenure_1.0</th>\n",
       "      <th>Tenure_2.0</th>\n",
       "      <th>Tenure_3.0</th>\n",
       "      <th>Tenure_4.0</th>\n",
       "      <th>Tenure_5.0</th>\n",
       "      <th>Tenure_6.0</th>\n",
       "      <th>Tenure_7.0</th>\n",
       "      <th>Tenure_8.0</th>\n",
       "      <th>Tenure_9.0</th>\n",
       "      <th>Tenure_10.0</th>\n",
       "    </tr>\n",
       "  </thead>\n",
       "  <tbody>\n",
       "    <tr>\n",
       "      <th>0</th>\n",
       "      <td>619</td>\n",
       "      <td>42</td>\n",
       "      <td>0.00</td>\n",
       "      <td>1</td>\n",
       "      <td>1</td>\n",
       "      <td>1</td>\n",
       "      <td>101348.88</td>\n",
       "      <td>1</td>\n",
       "      <td>0</td>\n",
       "      <td>0</td>\n",
       "      <td>...</td>\n",
       "      <td>0</td>\n",
       "      <td>1</td>\n",
       "      <td>0</td>\n",
       "      <td>0</td>\n",
       "      <td>0</td>\n",
       "      <td>0</td>\n",
       "      <td>0</td>\n",
       "      <td>0</td>\n",
       "      <td>0</td>\n",
       "      <td>0</td>\n",
       "    </tr>\n",
       "    <tr>\n",
       "      <th>1</th>\n",
       "      <td>608</td>\n",
       "      <td>41</td>\n",
       "      <td>83807.86</td>\n",
       "      <td>1</td>\n",
       "      <td>0</td>\n",
       "      <td>1</td>\n",
       "      <td>112542.58</td>\n",
       "      <td>0</td>\n",
       "      <td>0</td>\n",
       "      <td>1</td>\n",
       "      <td>...</td>\n",
       "      <td>1</td>\n",
       "      <td>0</td>\n",
       "      <td>0</td>\n",
       "      <td>0</td>\n",
       "      <td>0</td>\n",
       "      <td>0</td>\n",
       "      <td>0</td>\n",
       "      <td>0</td>\n",
       "      <td>0</td>\n",
       "      <td>0</td>\n",
       "    </tr>\n",
       "    <tr>\n",
       "      <th>2</th>\n",
       "      <td>502</td>\n",
       "      <td>42</td>\n",
       "      <td>159660.80</td>\n",
       "      <td>3</td>\n",
       "      <td>1</td>\n",
       "      <td>0</td>\n",
       "      <td>113931.57</td>\n",
       "      <td>1</td>\n",
       "      <td>0</td>\n",
       "      <td>0</td>\n",
       "      <td>...</td>\n",
       "      <td>0</td>\n",
       "      <td>0</td>\n",
       "      <td>0</td>\n",
       "      <td>0</td>\n",
       "      <td>0</td>\n",
       "      <td>0</td>\n",
       "      <td>0</td>\n",
       "      <td>1</td>\n",
       "      <td>0</td>\n",
       "      <td>0</td>\n",
       "    </tr>\n",
       "    <tr>\n",
       "      <th>3</th>\n",
       "      <td>699</td>\n",
       "      <td>39</td>\n",
       "      <td>0.00</td>\n",
       "      <td>2</td>\n",
       "      <td>0</td>\n",
       "      <td>0</td>\n",
       "      <td>93826.63</td>\n",
       "      <td>0</td>\n",
       "      <td>0</td>\n",
       "      <td>0</td>\n",
       "      <td>...</td>\n",
       "      <td>1</td>\n",
       "      <td>0</td>\n",
       "      <td>0</td>\n",
       "      <td>0</td>\n",
       "      <td>0</td>\n",
       "      <td>0</td>\n",
       "      <td>0</td>\n",
       "      <td>0</td>\n",
       "      <td>0</td>\n",
       "      <td>0</td>\n",
       "    </tr>\n",
       "    <tr>\n",
       "      <th>4</th>\n",
       "      <td>850</td>\n",
       "      <td>43</td>\n",
       "      <td>125510.82</td>\n",
       "      <td>1</td>\n",
       "      <td>1</td>\n",
       "      <td>1</td>\n",
       "      <td>79084.10</td>\n",
       "      <td>0</td>\n",
       "      <td>0</td>\n",
       "      <td>1</td>\n",
       "      <td>...</td>\n",
       "      <td>0</td>\n",
       "      <td>1</td>\n",
       "      <td>0</td>\n",
       "      <td>0</td>\n",
       "      <td>0</td>\n",
       "      <td>0</td>\n",
       "      <td>0</td>\n",
       "      <td>0</td>\n",
       "      <td>0</td>\n",
       "      <td>0</td>\n",
       "    </tr>\n",
       "  </tbody>\n",
       "</table>\n",
       "<p>5 rows × 22 columns</p>\n",
       "</div>"
      ],
      "text/plain": [
       "   CreditScore  Age    Balance  NumOfProducts  HasCrCard  IsActiveMember  \\\n",
       "0          619   42       0.00              1          1               1   \n",
       "1          608   41   83807.86              1          0               1   \n",
       "2          502   42  159660.80              3          1               0   \n",
       "3          699   39       0.00              2          0               0   \n",
       "4          850   43  125510.82              1          1               1   \n",
       "\n",
       "   EstimatedSalary  Exited  Geography_Germany  Geography_Spain  ...  \\\n",
       "0        101348.88       1                  0                0  ...   \n",
       "1        112542.58       0                  0                1  ...   \n",
       "2        113931.57       1                  0                0  ...   \n",
       "3         93826.63       0                  0                0  ...   \n",
       "4         79084.10       0                  0                1  ...   \n",
       "\n",
       "   Tenure_1.0  Tenure_2.0  Tenure_3.0  Tenure_4.0  Tenure_5.0  Tenure_6.0  \\\n",
       "0           0           1           0           0           0           0   \n",
       "1           1           0           0           0           0           0   \n",
       "2           0           0           0           0           0           0   \n",
       "3           1           0           0           0           0           0   \n",
       "4           0           1           0           0           0           0   \n",
       "\n",
       "   Tenure_7.0  Tenure_8.0  Tenure_9.0  Tenure_10.0  \n",
       "0           0           0           0            0  \n",
       "1           0           0           0            0  \n",
       "2           0           1           0            0  \n",
       "3           0           0           0            0  \n",
       "4           0           0           0            0  \n",
       "\n",
       "[5 rows x 22 columns]"
      ]
     },
     "execution_count": 11,
     "metadata": {},
     "output_type": "execute_result"
    }
   ],
   "source": [
    "data_ohe = pd.get_dummies(data, drop_first=True)\n",
    "data_ohe.head()"
   ]
  },
  {
   "cell_type": "markdown",
   "metadata": {},
   "source": [
    "Преобразоваваем категориальные признаки в численные прямым кодированием (OHE), так как OHE работает со всеми моделями.. "
   ]
  },
  {
   "cell_type": "code",
   "execution_count": 12,
   "metadata": {},
   "outputs": [
    {
     "name": "stdout",
     "output_type": "stream",
     "text": [
      "(6000, 21) (2000, 21) (2000, 21)\n",
      "(6000,) (2000,) (2000,)\n"
     ]
    }
   ],
   "source": [
    "target = data_ohe['Exited']\n",
    "features = data_ohe.drop('Exited', axis=1)\n",
    "\n",
    "features_train, features_other, target_train, target_other = train_test_split(features, target, test_size=0.4)\n",
    "features_valid, features_test, target_valid, target_test = train_test_split(features_other, target_other, test_size=0.5) \n",
    "                                                                              \n",
    "print(features_train.shape, features_valid.shape, features_test.shape)\n",
    "print(target_train.shape, target_valid.shape, target_test.shape)"
   ]
  },
  {
   "cell_type": "markdown",
   "metadata": {},
   "source": [
    "Разделим выборку на обучающую, валидационную и тестовую."
   ]
  },
  {
   "cell_type": "code",
   "execution_count": 13,
   "metadata": {},
   "outputs": [],
   "source": [
    "numeric = ['CreditScore', 'Age', 'Balance', 'EstimatedSalary']\n",
    "scaler = StandardScaler()\n",
    "scaler.fit(features_train[numeric])\n",
    "features_train[numeric] = scaler.transform(features_train[numeric])\n",
    "features_valid[numeric] = scaler.transform(features_valid[numeric])\n",
    "features_test[numeric] = scaler.transform(features_test[numeric])\n"
   ]
  },
  {
   "cell_type": "markdown",
   "metadata": {},
   "source": [
    "Стандартизировали численные признаки."
   ]
  },
  {
   "cell_type": "markdown",
   "metadata": {},
   "source": [
    "## Исследование задачи"
   ]
  },
  {
   "cell_type": "code",
   "execution_count": 14,
   "metadata": {},
   "outputs": [
    {
     "data": {
      "text/plain": [
       "0    0.7963\n",
       "1    0.2037\n",
       "Name: Exited, dtype: float64"
      ]
     },
     "execution_count": 14,
     "metadata": {},
     "output_type": "execute_result"
    }
   ],
   "source": [
    "bal_0_1 = data['Exited'].value_counts(normalize=True)\n",
    "bal_0_1"
   ]
  },
  {
   "cell_type": "markdown",
   "metadata": {},
   "source": [
    "Соотношение классов 1 к 4."
   ]
  },
  {
   "cell_type": "code",
   "execution_count": 15,
   "metadata": {},
   "outputs": [
    {
     "name": "stdout",
     "output_type": "stream",
     "text": [
      "F1 0.3460207612456747\n",
      "CPU times: user 37.8 ms, sys: 49 ms, total: 86.8 ms\n",
      "Wall time: 64.7 ms\n"
     ]
    }
   ],
   "source": [
    "%%time\n",
    "\n",
    "model = LogisticRegression(random_state=12345, solver='liblinear')\n",
    "model.fit(features_train, target_train)\n",
    "predicted_valid = model.predict(features_valid)\n",
    "print('F1', f1_score(target_valid, predicted_valid))"
   ]
  },
  {
   "cell_type": "code",
   "execution_count": 16,
   "metadata": {},
   "outputs": [
    {
     "name": "stdout",
     "output_type": "stream",
     "text": [
      "Лучшая F-мера 0.6085714285714287 cо значением глубины = 29\n",
      "CPU times: user 780 ms, sys: 33.2 ms, total: 813 ms\n",
      "Wall time: 826 ms\n"
     ]
    }
   ],
   "source": [
    "%%time\n",
    "\n",
    "best_model_tree = None\n",
    "best_result = 0\n",
    "accuracy_arr_tree = []\n",
    "\n",
    "for depth in range(2, 30):\n",
    "    model_tree = DecisionTreeClassifier(random_state=12345, max_depth=depth)\n",
    "    model_tree.fit(features_train, target_train)\n",
    "    predicted_valid = model_tree.predict(features_valid)\n",
    "    result = f1_score(target_valid, predicted_valid)\n",
    "    \n",
    "    if best_result < result:\n",
    "        best_result = result\n",
    "        max_depth = depth\n",
    "        best_model_tree = model_tree\n",
    "\n",
    "print(\"Лучшая F-мера\", best_result, 'cо значением глубины =', depth)"
   ]
  },
  {
   "cell_type": "code",
   "execution_count": 17,
   "metadata": {},
   "outputs": [
    {
     "name": "stdout",
     "output_type": "stream",
     "text": [
      "Лучшая F-мера 0.6035502958579883 при глубине = 19 и количестве деревьев = 20\n",
      "CPU times: user 35.3 s, sys: 232 ms, total: 35.5 s\n",
      "Wall time: 1min 2s\n"
     ]
    }
   ],
   "source": [
    "%%time\n",
    "\n",
    "best_model_rf = None\n",
    "best_result = 0\n",
    "best_depth = 0\n",
    "best_est = 0\n",
    "\n",
    "for estimator in range(10, 50, 2):\n",
    "    for depth in range(10, 20):\n",
    "        model_rf =  RandomForestClassifier(random_state=12345, n_estimators=estimator, max_depth = depth)\n",
    "        model_rf.fit(features_train, target_train)\n",
    "        predicted_valid = model_rf.predict(features_valid)\n",
    "        result = f1_score(target_valid, predicted_valid) \n",
    "        \n",
    "        if result > best_result:\n",
    "            best_model_rf = model_rf\n",
    "            best_result = result\n",
    "            best_depth = depth\n",
    "            best_est = estimator\n",
    "\n",
    "print(\"Лучшая F-мера\", best_result, 'при глубине = {0} и количестве деревьев = {1}'.format(best_depth, best_est))"
   ]
  },
  {
   "cell_type": "markdown",
   "metadata": {},
   "source": [
    "Лучший показатель F1 без учета дисбаланса колассов оказался у модели случайного лееса: 0.6024464831804281 при глубине = 16 и количестве деревьев = 30."
   ]
  },
  {
   "cell_type": "markdown",
   "metadata": {},
   "source": [
    "## Борьба с дисбалансом"
   ]
  },
  {
   "cell_type": "markdown",
   "metadata": {},
   "source": [
    "Придадим объектам редкого класса 1 больший вес используя гиперпараметр class_weight='balanced'"
   ]
  },
  {
   "cell_type": "code",
   "execution_count": 18,
   "metadata": {},
   "outputs": [
    {
     "name": "stdout",
     "output_type": "stream",
     "text": [
      "F1 0.49705139005897225\n",
      "\n",
      "CPU times: user 34.5 ms, sys: 301 µs, total: 34.8 ms\n",
      "Wall time: 19.3 ms\n"
     ]
    }
   ],
   "source": [
    "%%time\n",
    "\n",
    "model = LogisticRegression(random_state=12345, solver='liblinear', class_weight='balanced')\n",
    "model.fit(features_train, target_train)\n",
    "predicted_valid = model.predict(features_valid)\n",
    "print('F1', f1_score(target_valid, predicted_valid))\n",
    "print()"
   ]
  },
  {
   "cell_type": "code",
   "execution_count": 19,
   "metadata": {},
   "outputs": [
    {
     "name": "stdout",
     "output_type": "stream",
     "text": [
      "Лучшая F-мера 0.5821782178217823 cо значением глубины = 8\n",
      "CPU times: user 487 ms, sys: 65 ms, total: 552 ms\n",
      "Wall time: 1.09 s\n"
     ]
    }
   ],
   "source": [
    "%%time\n",
    "\n",
    "best_model_tree_balance = None\n",
    "best_result_balance = 0\n",
    "\n",
    "for depth in range(2, 20):\n",
    "    model_tree_balance = DecisionTreeClassifier(random_state=12345, max_depth=depth, class_weight='balanced')\n",
    "    model_tree_balance.fit(features_train, target_train)\n",
    "    predicted_valid = model_tree_balance.predict(features_valid)\n",
    "    result = f1_score(target_valid, predicted_valid)\n",
    "    \n",
    "    if best_result_balance < result:\n",
    "        best_result_balance = result\n",
    "        max_depth = depth\n",
    "        best_model_tree_balance = model_tree_balance\n",
    "\n",
    "print(\"Лучшая F-мера\", best_result_balance, 'cо значением глубины =', max_depth)"
   ]
  },
  {
   "cell_type": "code",
   "execution_count": 20,
   "metadata": {},
   "outputs": [
    {
     "name": "stdout",
     "output_type": "stream",
     "text": [
      "Лучшая F-мера 0.6444708680142687 при глубине = 11 и количестве деревьев = 70\n",
      "CPU times: user 15.9 s, sys: 136 ms, total: 16 s\n",
      "Wall time: 34.5 s\n"
     ]
    }
   ],
   "source": [
    "%%time\n",
    "\n",
    "best_model_rf_balance = None\n",
    "best_result_balance = 0\n",
    "best_depth_balance = 0\n",
    "best_est_balance = 0\n",
    "\n",
    "for estimator in range(10, 100, 20):\n",
    "    for depth in range(10, 20):\n",
    "        model_rf_balance =  RandomForestClassifier(random_state=12345, n_estimators=estimator, \n",
    "                                                   max_depth = depth, class_weight='balanced')\n",
    "        model_rf_balance.fit(features_train, target_train)\n",
    "        predicted_valid = model_rf_balance.predict(features_valid)\n",
    "        result = f1_score(target_valid, predicted_valid) \n",
    "        \n",
    "        if result > best_result_balance:\n",
    "            best_model_rf_balance = model_rf_balance\n",
    "            best_result_balance = result\n",
    "            best_depth_balance = depth\n",
    "            best_est_balance = estimator\n",
    "\n",
    "print(\"Лучшая F-мера\", best_result_balance, 'при глубине = {0} и количестве деревьев = {1}'.format(best_depth_balance,\n",
    "                                                                                           best_est_balance))"
   ]
  },
  {
   "cell_type": "markdown",
   "metadata": {},
   "source": [
    "Случайный лес и тут впереди."
   ]
  },
  {
   "cell_type": "markdown",
   "metadata": {},
   "source": [
    "Увеличим объекты редкого класса методом upsampling и заново обучим модели."
   ]
  },
  {
   "cell_type": "code",
   "execution_count": 21,
   "metadata": {},
   "outputs": [
    {
     "name": "stdout",
     "output_type": "stream",
     "text": [
      "1    4904\n",
      "0    4774\n",
      "Name: Exited, dtype: int64\n"
     ]
    }
   ],
   "source": [
    "def upsample(features, target, repeat):\n",
    "    features_zeros = features[target == 0]\n",
    "    features_ones = features[target == 1]\n",
    "    target_zeros = target[target == 0]\n",
    "    target_ones = target[target == 1]\n",
    "\n",
    "    features_upsampled = pd.concat([features_zeros] + [features_ones] * repeat)\n",
    "    target_upsampled = pd.concat([target_zeros] + [target_ones] * repeat)\n",
    "    \n",
    "    features_upsampled, target_upsampled = shuffle(\n",
    "        features_upsampled, target_upsampled, random_state=12345)\n",
    "    \n",
    "    return features_upsampled, target_upsampled\n",
    "\n",
    "features_upsampled, target_upsampled = upsample(features_train, target_train, 4)\n",
    "\n",
    "print(target_upsampled.value_counts())"
   ]
  },
  {
   "cell_type": "code",
   "execution_count": 22,
   "metadata": {},
   "outputs": [
    {
     "name": "stdout",
     "output_type": "stream",
     "text": [
      "F1 0.4958540630182422\n",
      "\n",
      "CPU times: user 41 ms, sys: 22.5 ms, total: 63.5 ms\n",
      "Wall time: 111 ms\n"
     ]
    }
   ],
   "source": [
    "%%time\n",
    "\n",
    "model = LogisticRegression(random_state=12345, solver='liblinear')\n",
    "model.fit(features_upsampled, target_upsampled)\n",
    "predicted_valid = model.predict(features_valid)\n",
    "print('F1', f1_score(target_valid, predicted_valid))\n",
    "print()"
   ]
  },
  {
   "cell_type": "code",
   "execution_count": 23,
   "metadata": {},
   "outputs": [
    {
     "name": "stdout",
     "output_type": "stream",
     "text": [
      "Лучшая F-мера 0.5734126984126984 cо значением глубины = 8\n",
      "CPU times: user 607 ms, sys: 11.5 ms, total: 618 ms\n",
      "Wall time: 1.23 s\n"
     ]
    }
   ],
   "source": [
    "%%time\n",
    "\n",
    "\n",
    "best_model_tree_upsmple = None\n",
    "best_result_upsmple = 0\n",
    "\n",
    "for depth in range(2, 20):\n",
    "    model_tree_upsmple = DecisionTreeClassifier(random_state=12345, max_depth=depth)\n",
    "    model_tree_upsmple.fit(features_upsampled, target_upsampled)\n",
    "    predicted_valid = model_tree_upsmple.predict(features_valid)\n",
    "    result = f1_score(target_valid, predicted_valid)\n",
    "    \n",
    "    if best_result_upsmple < result:\n",
    "        best_result_upsmple = result\n",
    "        max_depth_upsmple = depth\n",
    "        best_model_tree_upsmple = model_tree_upsmple\n",
    "\n",
    "print(\"Лучшая F-мера\", best_result_upsmple, 'cо значением глубины =', max_depth_upsmple)"
   ]
  },
  {
   "cell_type": "code",
   "execution_count": 24,
   "metadata": {},
   "outputs": [
    {
     "name": "stdout",
     "output_type": "stream",
     "text": [
      "Лучшая F-мера 0.6494724501758499 при глубине = 14 и количестве деревьев = 110\n",
      "CPU times: user 1min 24s, sys: 593 ms, total: 1min 24s\n",
      "Wall time: 2min 51s\n"
     ]
    }
   ],
   "source": [
    "%%time\n",
    "\n",
    "best_model_rf_upsample = None\n",
    "best_result_upsample = 0\n",
    "best_depth_upsample = 0\n",
    "best_est_upsample = 0\n",
    "\n",
    "\n",
    "for estimator in range(10, 200, 20):\n",
    "    for depth in range(10, 20):\n",
    "        model_rf_upsample =  RandomForestClassifier(random_state=12345, n_estimators=estimator, \n",
    "                                                   max_depth = depth)\n",
    "        model_rf_upsample.fit(features_upsampled, target_upsampled)\n",
    "        predicted_valid = model_rf_upsample.predict(features_valid)\n",
    "        result = f1_score(target_valid, predicted_valid) \n",
    "        \n",
    "        if result > best_result_upsample:\n",
    "            best_model_rf_upsample = model_rf_upsample\n",
    "            best_result_upsample = result\n",
    "            best_depth_upsample = depth\n",
    "            best_est_upsample = estimator\n",
    "            \n",
    "           \n",
    "\n",
    "print(\"Лучшая F-мера\", best_result_upsample, 'при глубине = {0} и количестве деревьев = {1}'.format(best_depth_upsample,\n",
    "                                                                                           best_est_upsample))"
   ]
  },
  {
   "cell_type": "markdown",
   "metadata": {},
   "source": [
    "Уменьшим выборку методом downsampling."
   ]
  },
  {
   "cell_type": "code",
   "execution_count": 25,
   "metadata": {},
   "outputs": [
    {
     "name": "stdout",
     "output_type": "stream",
     "text": [
      "1    1226\n",
      "0    1194\n",
      "Name: Exited, dtype: int64\n"
     ]
    }
   ],
   "source": [
    "def downsample(features, target, fraction):\n",
    "    features_zeros = features[target == 0]\n",
    "    features_ones = features[target == 1]\n",
    "    target_zeros = target[target == 0]\n",
    "    target_ones = target[target == 1]\n",
    "\n",
    "    features_downsampled = pd.concat(\n",
    "        [features_zeros.sample(frac=fraction, random_state=12345)] + [features_ones])\n",
    "    target_downsampled = pd.concat(\n",
    "        [target_zeros.sample(frac=fraction, random_state=12345)] + [target_ones])\n",
    "    \n",
    "    features_downsampled, target_downsampled = shuffle(\n",
    "        features_downsampled, target_downsampled, random_state=12345)\n",
    "    \n",
    "    return features_downsampled, target_downsampled\n",
    "\n",
    "features_downsampled, target_downsampled = downsample(features_train, target_train, 0.25)\n",
    "\n",
    "print(target_downsampled.value_counts())"
   ]
  },
  {
   "cell_type": "code",
   "execution_count": 26,
   "metadata": {},
   "outputs": [
    {
     "name": "stdout",
     "output_type": "stream",
     "text": [
      "F1 0.49489795918367346\n",
      "\n",
      "CPU times: user 24.5 ms, sys: 11.5 ms, total: 36 ms\n",
      "Wall time: 15 ms\n"
     ]
    }
   ],
   "source": [
    "%%time\n",
    "\n",
    "model = LogisticRegression(random_state=12345, solver='liblinear')\n",
    "model.fit(features_downsampled, target_downsampled)\n",
    "predicted_valid = model.predict(features_valid)\n",
    "print('F1', f1_score(target_valid, predicted_valid))\n",
    "print()"
   ]
  },
  {
   "cell_type": "code",
   "execution_count": 27,
   "metadata": {},
   "outputs": [
    {
     "name": "stdout",
     "output_type": "stream",
     "text": [
      "Лучшая F-мера 0.569215876089061 cо значением глубины = 5\n"
     ]
    }
   ],
   "source": [
    "best_model_tree_downsample = None\n",
    "best_result_downsample = 0\n",
    "\n",
    "for depth in range(2, 20):\n",
    "    model_tree_downsample = DecisionTreeClassifier(random_state=12345, max_depth=depth)\n",
    "    model_tree_downsample.fit(features_downsampled, target_downsampled)\n",
    "    predicted_valid = model_tree_downsample.predict(features_valid)\n",
    "    result = f1_score(target_valid, predicted_valid)\n",
    "    \n",
    "    if best_result_downsample < result:\n",
    "        best_result_downsample = result\n",
    "        max_depth_downsample = depth\n",
    "        best_model_tree_downsample = model_tree_downsample\n",
    "\n",
    "print(\"Лучшая F-мера\", best_result_downsample, 'cо значением глубины =', max_depth_downsample)"
   ]
  },
  {
   "cell_type": "code",
   "execution_count": 28,
   "metadata": {},
   "outputs": [
    {
     "name": "stdout",
     "output_type": "stream",
     "text": [
      "Лучшая F-мера 0.6146435452793834 при глубине = 10 и количестве деревьев = 50\n",
      "CPU times: user 9.06 s, sys: 75.2 ms, total: 9.13 s\n",
      "Wall time: 18.5 s\n"
     ]
    }
   ],
   "source": [
    "%%time\n",
    "\n",
    "best_model_rf_downsample = None\n",
    "best_result_downsample = 0\n",
    "best_depth_downsample = 0\n",
    "best_est_downsample = 0\n",
    "\n",
    "for estimator in range(10, 100, 20):\n",
    "    for depth in range(10, 20):\n",
    "        model_rf_downsample =  RandomForestClassifier(random_state=12345, n_estimators=estimator, \n",
    "                                                   max_depth = depth)\n",
    "        model_rf_downsample.fit(features_downsampled, target_downsampled)\n",
    "        predicted_valid = model_rf_downsample.predict(features_valid)\n",
    "        result = f1_score(target_valid, predicted_valid) \n",
    "        \n",
    "        if result > best_result_downsample:\n",
    "            best_model_rf_downsample = model_rf_downsample\n",
    "            best_result_downsample = result\n",
    "            best_depth_downsample = depth\n",
    "            best_est_downsample = estimator\n",
    "\n",
    "print(\"Лучшая F-мера\", best_result_downsample, 'при глубине = {0} и количестве деревьев = {1}'.format(best_depth_downsample,\n",
    "                                                                                           best_est_downsample))"
   ]
  },
  {
   "cell_type": "markdown",
   "metadata": {},
   "source": [
    "Вывод: Лучше всего себя показала модель Случайный лес с F-мерой 0.6264150943396227 при глубине = 10 и количестве деревьев = 70"
   ]
  },
  {
   "cell_type": "code",
   "execution_count": 29,
   "metadata": {
    "scrolled": true
   },
   "outputs": [
    {
     "name": "stdout",
     "output_type": "stream",
     "text": [
      "AUC-ROC RandomForestClassifier 0.7750089856290855\n"
     ]
    },
    {
     "data": {
      "image/png": "[encoded data removed]",
      "text/plain": [
       "<Figure size 720x216 with 1 Axes>"
      ]
     },
     "metadata": {
      "needs_background": "light"
     },
     "output_type": "display_data"
    }
   ],
   "source": [
    "plt.figure(figsize=[10,3])\n",
    "\n",
    "plt.plot([0, 1], [0, 1], linestyle='--', label='RandomModel')\n",
    "\n",
    "model_rf_upsample =  RandomForestClassifier(random_state=12345, n_estimators=70, \n",
    "                                                   max_depth = 10)\n",
    "model_rf_upsample.fit(features_upsampled, target_upsampled)\n",
    "predicted_valid = model_rf_upsample.predict(features_valid)\n",
    "probabilities_valid = model.predict_proba(features_valid)\n",
    "probabilities_one_valid = probabilities_valid[:, 1]\n",
    "fpr, tpr, thresholds = roc_curve(target_valid, probabilities_one_valid)\n",
    "auc_roc = roc_auc_score(target_valid, probabilities_one_valid)\n",
    "print('AUC-ROC RandomForestClassifier',auc_roc)\n",
    "plt.plot(fpr, tpr, label='RandomForestClassifier')\n",
    "\n",
    "plt.xlim([0,1])\n",
    "plt.ylim([0,1])\n",
    "\n",
    "plt.xlabel(\"False Positive Rate\")\n",
    "plt.ylabel(\"True Positive Rate\")\n",
    "\n",
    "plt.legend(loc='lower right', fontsize='x-large')\n",
    "\n",
    "plt.grid(True)\n",
    "\n",
    "plt.title(\"ROC-кривая\")\n",
    "plt.show()"
   ]
  },
  {
   "cell_type": "markdown",
   "metadata": {},
   "source": [
    "Вывели значение AUC-ROC и построили ROC кривую."
   ]
  },
  {
   "cell_type": "markdown",
   "metadata": {},
   "source": [
    "## Тестирование модели"
   ]
  },
  {
   "cell_type": "code",
   "execution_count": 30,
   "metadata": {},
   "outputs": [
    {
     "data": {
      "text/plain": [
       "0.6153846153846154"
      ]
     },
     "execution_count": 30,
     "metadata": {},
     "output_type": "execute_result"
    }
   ],
   "source": [
    "model = RandomForestClassifier(random_state=12345, n_estimators=190, \n",
    "                                                   max_depth = 12)\n",
    "model.fit(features_upsampled, target_upsampled)\n",
    "predicted_test = model.predict(features_test)\n",
    "f1_score(target_test, predicted_test)"
   ]
  },
  {
   "cell_type": "markdown",
   "metadata": {},
   "source": [
    "###### Вывод\n",
    "\n",
    "Изучил и подготовил данные. Классы оказались не сбалансированы. Тех кто остался в Бета-Банке 80%, тех, кто ушел, 20%.\n",
    "Разбил данные на тренировочную, валидационную и тестовую выборки.\n",
    "Проверил модели на данных без изменений.\n",
    "Скоректировал балланс класса. Изменил вес класса.\n",
    "Получил улучшенную модель. Провёл поиск гиперпараметров.\n",
    "Провёл финальный тест.\n",
    "Обученная модель случайного леса с увеличением выборки имеет достаточную адекватность, подтвержденная ее значением AUC-ROC = 0.7. Это лучше, чем случайная модель предсказывания (AUC-ROC = 0.5). На тестовой выборке показала значение F-меры - 0.6, что соответствует критерию задания/заказчика."
   ]
  }
 ],
 "metadata": {
  "ExecuteTimeLog": [
   {
    "duration": 52,
    "start_time": "2022-11-11T12:32:42.314Z"
   },
   {
    "duration": 1241,
    "start_time": "2022-11-11T12:32:45.924Z"
   },
   {
    "duration": 75,
    "start_time": "2022-11-11T12:32:47.784Z"
   },
   {
    "duration": 98,
    "start_time": "2022-11-11T12:34:19.452Z"
   },
   {
    "duration": 17,
    "start_time": "2022-11-11T12:34:33.443Z"
   },
   {
    "duration": 17,
    "start_time": "2022-11-11T12:34:59.244Z"
   },
   {
    "duration": 20,
    "start_time": "2022-11-11T12:35:07.884Z"
   },
   {
    "duration": 13,
    "start_time": "2022-11-11T12:35:25.209Z"
   },
   {
    "duration": 12,
    "start_time": "2022-11-11T12:35:30.697Z"
   },
   {
    "duration": 19,
    "start_time": "2022-11-11T12:35:51.937Z"
   },
   {
    "duration": 13,
    "start_time": "2022-11-11T12:35:52.859Z"
   },
   {
    "duration": 1067,
    "start_time": "2022-11-11T14:41:18.737Z"
   },
   {
    "duration": 75,
    "start_time": "2022-11-11T14:41:19.806Z"
   },
   {
    "duration": 18,
    "start_time": "2022-11-11T14:41:19.883Z"
   },
   {
    "duration": 12,
    "start_time": "2022-11-11T14:41:19.902Z"
   },
   {
    "duration": 8,
    "start_time": "2022-11-11T14:41:19.915Z"
   },
   {
    "duration": 7,
    "start_time": "2022-11-11T14:50:18.235Z"
   },
   {
    "duration": 12,
    "start_time": "2022-11-11T14:51:00.306Z"
   },
   {
    "duration": 8,
    "start_time": "2022-11-11T14:58:24.899Z"
   },
   {
    "duration": 11,
    "start_time": "2022-11-11T14:58:25.860Z"
   },
   {
    "duration": 10,
    "start_time": "2022-11-11T15:01:11.545Z"
   },
   {
    "duration": 7,
    "start_time": "2022-11-11T15:07:00.855Z"
   },
   {
    "duration": 1029,
    "start_time": "2022-11-12T06:02:48.785Z"
   },
   {
    "duration": 174,
    "start_time": "2022-11-12T06:02:50.525Z"
   },
   {
    "duration": 18,
    "start_time": "2022-11-12T06:02:50.905Z"
   },
   {
    "duration": 11,
    "start_time": "2022-11-12T06:02:51.063Z"
   },
   {
    "duration": 13,
    "start_time": "2022-11-12T06:02:51.995Z"
   },
   {
    "duration": 11,
    "start_time": "2022-11-12T06:02:52.463Z"
   },
   {
    "duration": 8,
    "start_time": "2022-11-12T06:02:55.635Z"
   },
   {
    "duration": 8,
    "start_time": "2022-11-12T06:05:06.408Z"
   },
   {
    "duration": 93,
    "start_time": "2022-11-12T06:07:43.026Z"
   },
   {
    "duration": 9,
    "start_time": "2022-11-12T06:08:56.887Z"
   },
   {
    "duration": 3,
    "start_time": "2022-11-12T06:10:03.373Z"
   },
   {
    "duration": 31,
    "start_time": "2022-11-12T06:10:09.764Z"
   },
   {
    "duration": 13,
    "start_time": "2022-11-12T06:11:29.486Z"
   },
   {
    "duration": 3,
    "start_time": "2022-11-12T06:14:00.455Z"
   },
   {
    "duration": 4,
    "start_time": "2022-11-12T06:14:40.555Z"
   },
   {
    "duration": 812,
    "start_time": "2022-11-12T06:14:47.792Z"
   },
   {
    "duration": 774,
    "start_time": "2022-11-12T06:15:12.185Z"
   },
   {
    "duration": 675,
    "start_time": "2022-11-12T06:17:06.108Z"
   },
   {
    "duration": 1062,
    "start_time": "2022-11-12T06:17:16.960Z"
   },
   {
    "duration": 40,
    "start_time": "2022-11-12T06:17:18.024Z"
   },
   {
    "duration": 18,
    "start_time": "2022-11-12T06:17:18.066Z"
   },
   {
    "duration": 12,
    "start_time": "2022-11-12T06:17:18.085Z"
   },
   {
    "duration": 6,
    "start_time": "2022-11-12T06:17:18.099Z"
   },
   {
    "duration": 10,
    "start_time": "2022-11-12T06:17:18.106Z"
   },
   {
    "duration": 31,
    "start_time": "2022-11-12T06:17:18.117Z"
   },
   {
    "duration": 842,
    "start_time": "2022-11-12T06:17:18.150Z"
   },
   {
    "duration": 0,
    "start_time": "2022-11-12T06:17:18.994Z"
   },
   {
    "duration": 12,
    "start_time": "2022-11-12T06:19:13.792Z"
   },
   {
    "duration": 1109,
    "start_time": "2022-11-12T06:19:24.401Z"
   },
   {
    "duration": 40,
    "start_time": "2022-11-12T06:19:25.512Z"
   },
   {
    "duration": 19,
    "start_time": "2022-11-12T06:19:25.554Z"
   },
   {
    "duration": 12,
    "start_time": "2022-11-12T06:19:25.575Z"
   },
   {
    "duration": 7,
    "start_time": "2022-11-12T06:19:25.588Z"
   },
   {
    "duration": 12,
    "start_time": "2022-11-12T06:19:25.596Z"
   },
   {
    "duration": 314,
    "start_time": "2022-11-12T06:19:25.609Z"
   },
   {
    "duration": 8,
    "start_time": "2022-11-12T06:19:25.925Z"
   },
   {
    "duration": 116,
    "start_time": "2022-11-12T06:19:25.934Z"
   },
   {
    "duration": 234,
    "start_time": "2022-11-12T06:20:11.121Z"
   },
   {
    "duration": 171,
    "start_time": "2022-11-12T06:20:33.722Z"
   },
   {
    "duration": 112,
    "start_time": "2022-11-12T06:21:28.541Z"
   },
   {
    "duration": 892,
    "start_time": "2022-11-12T06:21:30.882Z"
   },
   {
    "duration": 1139,
    "start_time": "2022-11-12T08:35:43.548Z"
   },
   {
    "duration": 75,
    "start_time": "2022-11-12T08:35:44.689Z"
   },
   {
    "duration": 22,
    "start_time": "2022-11-12T08:35:44.766Z"
   },
   {
    "duration": 22,
    "start_time": "2022-11-12T08:35:44.789Z"
   },
   {
    "duration": 14,
    "start_time": "2022-11-12T08:35:44.814Z"
   },
   {
    "duration": 25,
    "start_time": "2022-11-12T08:35:44.829Z"
   },
   {
    "duration": 200,
    "start_time": "2022-11-12T08:35:44.856Z"
   },
   {
    "duration": 121,
    "start_time": "2022-11-12T08:35:45.058Z"
   },
   {
    "duration": 1081,
    "start_time": "2022-11-12T08:35:45.181Z"
   },
   {
    "duration": 4,
    "start_time": "2022-11-12T08:52:20.175Z"
   },
   {
    "duration": 15,
    "start_time": "2022-11-12T08:52:39.835Z"
   },
   {
    "duration": 1071,
    "start_time": "2022-11-12T08:54:55.965Z"
   },
   {
    "duration": 37,
    "start_time": "2022-11-12T08:54:57.038Z"
   },
   {
    "duration": 20,
    "start_time": "2022-11-12T08:54:57.077Z"
   },
   {
    "duration": 14,
    "start_time": "2022-11-12T08:54:57.099Z"
   },
   {
    "duration": 12,
    "start_time": "2022-11-12T08:54:57.114Z"
   },
   {
    "duration": 11,
    "start_time": "2022-11-12T08:54:57.128Z"
   },
   {
    "duration": 5,
    "start_time": "2022-11-12T08:54:57.141Z"
   },
   {
    "duration": 14,
    "start_time": "2022-11-12T08:54:57.147Z"
   },
   {
    "duration": 221,
    "start_time": "2022-11-12T08:54:57.163Z"
   },
   {
    "duration": 2,
    "start_time": "2022-11-12T08:54:57.387Z"
   },
   {
    "duration": 118,
    "start_time": "2022-11-12T08:54:57.391Z"
   },
   {
    "duration": 987,
    "start_time": "2022-11-12T08:54:57.510Z"
   },
   {
    "duration": 137,
    "start_time": "2022-11-12T08:58:54.240Z"
   },
   {
    "duration": 1149,
    "start_time": "2022-11-12T08:59:21.827Z"
   },
   {
    "duration": 36,
    "start_time": "2022-11-12T08:59:22.978Z"
   },
   {
    "duration": 21,
    "start_time": "2022-11-12T08:59:23.015Z"
   },
   {
    "duration": 28,
    "start_time": "2022-11-12T08:59:23.038Z"
   },
   {
    "duration": 16,
    "start_time": "2022-11-12T08:59:23.069Z"
   },
   {
    "duration": 24,
    "start_time": "2022-11-12T08:59:23.087Z"
   },
   {
    "duration": 8,
    "start_time": "2022-11-12T08:59:23.113Z"
   },
   {
    "duration": 32,
    "start_time": "2022-11-12T08:59:23.123Z"
   },
   {
    "duration": 195,
    "start_time": "2022-11-12T08:59:23.157Z"
   },
   {
    "duration": 152,
    "start_time": "2022-11-12T08:59:23.354Z"
   },
   {
    "duration": 0,
    "start_time": "2022-11-12T08:59:23.507Z"
   },
   {
    "duration": 0,
    "start_time": "2022-11-12T08:59:23.509Z"
   },
   {
    "duration": 115,
    "start_time": "2022-11-12T09:00:12.676Z"
   },
   {
    "duration": 35,
    "start_time": "2022-11-12T09:00:19.890Z"
   },
   {
    "duration": 74,
    "start_time": "2022-11-12T09:07:14.078Z"
   },
   {
    "duration": 1100,
    "start_time": "2022-11-12T09:07:18.460Z"
   },
   {
    "duration": 69,
    "start_time": "2022-11-12T09:07:19.562Z"
   },
   {
    "duration": 0,
    "start_time": "2022-11-12T09:07:19.634Z"
   },
   {
    "duration": 0,
    "start_time": "2022-11-12T09:07:19.635Z"
   },
   {
    "duration": 0,
    "start_time": "2022-11-12T09:07:19.636Z"
   },
   {
    "duration": 0,
    "start_time": "2022-11-12T09:07:19.637Z"
   },
   {
    "duration": 0,
    "start_time": "2022-11-12T09:07:19.638Z"
   },
   {
    "duration": 0,
    "start_time": "2022-11-12T09:07:19.640Z"
   },
   {
    "duration": 0,
    "start_time": "2022-11-12T09:07:19.641Z"
   },
   {
    "duration": 0,
    "start_time": "2022-11-12T09:07:19.643Z"
   },
   {
    "duration": 0,
    "start_time": "2022-11-12T09:07:19.644Z"
   },
   {
    "duration": 0,
    "start_time": "2022-11-12T09:07:19.645Z"
   },
   {
    "duration": 0,
    "start_time": "2022-11-12T09:07:19.646Z"
   },
   {
    "duration": 0,
    "start_time": "2022-11-12T09:07:19.647Z"
   },
   {
    "duration": 1062,
    "start_time": "2022-11-12T09:07:41.279Z"
   },
   {
    "duration": 2,
    "start_time": "2022-11-12T09:07:42.343Z"
   },
   {
    "duration": 69,
    "start_time": "2022-11-12T09:07:42.347Z"
   },
   {
    "duration": 0,
    "start_time": "2022-11-12T09:07:42.418Z"
   },
   {
    "duration": 0,
    "start_time": "2022-11-12T09:07:42.419Z"
   },
   {
    "duration": 0,
    "start_time": "2022-11-12T09:07:42.420Z"
   },
   {
    "duration": 0,
    "start_time": "2022-11-12T09:07:42.421Z"
   },
   {
    "duration": 0,
    "start_time": "2022-11-12T09:07:42.422Z"
   },
   {
    "duration": 0,
    "start_time": "2022-11-12T09:07:42.424Z"
   },
   {
    "duration": 0,
    "start_time": "2022-11-12T09:07:42.425Z"
   },
   {
    "duration": 0,
    "start_time": "2022-11-12T09:07:42.425Z"
   },
   {
    "duration": 0,
    "start_time": "2022-11-12T09:07:42.427Z"
   },
   {
    "duration": 0,
    "start_time": "2022-11-12T09:07:42.427Z"
   },
   {
    "duration": 0,
    "start_time": "2022-11-12T09:07:42.428Z"
   },
   {
    "duration": 1124,
    "start_time": "2022-11-12T09:08:32.868Z"
   },
   {
    "duration": 2,
    "start_time": "2022-11-12T09:08:33.995Z"
   },
   {
    "duration": 48,
    "start_time": "2022-11-12T09:08:33.999Z"
   },
   {
    "duration": 25,
    "start_time": "2022-11-12T09:08:34.049Z"
   },
   {
    "duration": 17,
    "start_time": "2022-11-12T09:08:34.077Z"
   },
   {
    "duration": 12,
    "start_time": "2022-11-12T09:08:34.096Z"
   },
   {
    "duration": 24,
    "start_time": "2022-11-12T09:08:34.111Z"
   },
   {
    "duration": 6,
    "start_time": "2022-11-12T09:08:34.137Z"
   },
   {
    "duration": 18,
    "start_time": "2022-11-12T09:08:34.145Z"
   },
   {
    "duration": 235,
    "start_time": "2022-11-12T09:08:34.166Z"
   },
   {
    "duration": 122,
    "start_time": "2022-11-12T09:08:34.402Z"
   },
   {
    "duration": 32,
    "start_time": "2022-11-12T09:08:34.526Z"
   },
   {
    "duration": 1016,
    "start_time": "2022-11-12T09:08:34.559Z"
   },
   {
    "duration": 68,
    "start_time": "2022-11-12T09:10:26.728Z"
   },
   {
    "duration": 28,
    "start_time": "2022-11-12T09:10:50.548Z"
   },
   {
    "duration": 79,
    "start_time": "2022-11-12T09:11:23.348Z"
   },
   {
    "duration": 4,
    "start_time": "2022-11-12T09:11:53.788Z"
   },
   {
    "duration": 4,
    "start_time": "2022-11-12T09:11:54.559Z"
   },
   {
    "duration": 97,
    "start_time": "2022-11-12T09:12:47.957Z"
   },
   {
    "duration": 1072,
    "start_time": "2022-11-12T09:15:12.428Z"
   },
   {
    "duration": 975,
    "start_time": "2022-11-12T09:15:28.373Z"
   },
   {
    "duration": 1067,
    "start_time": "2022-11-12T09:15:50.368Z"
   },
   {
    "duration": 3,
    "start_time": "2022-11-12T09:15:51.437Z"
   },
   {
    "duration": 42,
    "start_time": "2022-11-12T09:15:51.441Z"
   },
   {
    "duration": 22,
    "start_time": "2022-11-12T09:15:51.486Z"
   },
   {
    "duration": 13,
    "start_time": "2022-11-12T09:15:51.509Z"
   },
   {
    "duration": 7,
    "start_time": "2022-11-12T09:15:51.524Z"
   },
   {
    "duration": 12,
    "start_time": "2022-11-12T09:15:51.533Z"
   },
   {
    "duration": 6,
    "start_time": "2022-11-12T09:15:51.546Z"
   },
   {
    "duration": 14,
    "start_time": "2022-11-12T09:15:51.554Z"
   },
   {
    "duration": 220,
    "start_time": "2022-11-12T09:15:51.570Z"
   },
   {
    "duration": 120,
    "start_time": "2022-11-12T09:15:51.792Z"
   },
   {
    "duration": 9,
    "start_time": "2022-11-12T09:15:51.914Z"
   },
   {
    "duration": 6,
    "start_time": "2022-11-12T09:15:51.925Z"
   },
   {
    "duration": 35,
    "start_time": "2022-11-12T09:15:51.932Z"
   },
   {
    "duration": 947,
    "start_time": "2022-11-12T09:15:51.969Z"
   },
   {
    "duration": 42,
    "start_time": "2022-11-12T12:38:47.186Z"
   },
   {
    "duration": 1100,
    "start_time": "2022-11-12T12:38:55.245Z"
   },
   {
    "duration": 3,
    "start_time": "2022-11-12T12:38:56.346Z"
   },
   {
    "duration": 168,
    "start_time": "2022-11-12T12:38:56.350Z"
   },
   {
    "duration": 17,
    "start_time": "2022-11-12T12:38:56.520Z"
   },
   {
    "duration": 14,
    "start_time": "2022-11-12T12:38:56.539Z"
   },
   {
    "duration": 7,
    "start_time": "2022-11-12T12:38:56.554Z"
   },
   {
    "duration": 10,
    "start_time": "2022-11-12T12:38:56.562Z"
   },
   {
    "duration": 3,
    "start_time": "2022-11-12T12:38:56.574Z"
   },
   {
    "duration": 13,
    "start_time": "2022-11-12T12:38:56.578Z"
   },
   {
    "duration": 195,
    "start_time": "2022-11-12T12:38:56.592Z"
   },
   {
    "duration": 109,
    "start_time": "2022-11-12T12:38:56.789Z"
   },
   {
    "duration": 4,
    "start_time": "2022-11-12T12:38:56.900Z"
   },
   {
    "duration": 15,
    "start_time": "2022-11-12T12:38:56.905Z"
   },
   {
    "duration": 30,
    "start_time": "2022-11-12T12:38:56.921Z"
   },
   {
    "duration": 830,
    "start_time": "2022-11-12T12:38:56.953Z"
   },
   {
    "duration": 6,
    "start_time": "2022-11-12T12:38:57.784Z"
   },
   {
    "duration": 931,
    "start_time": "2022-11-12T12:47:02.843Z"
   },
   {
    "duration": 48,
    "start_time": "2022-11-12T12:47:03.890Z"
   },
   {
    "duration": 6,
    "start_time": "2022-11-12T12:47:04.390Z"
   },
   {
    "duration": 837,
    "start_time": "2022-11-12T12:47:10.000Z"
   },
   {
    "duration": 7,
    "start_time": "2022-11-12T12:47:11.674Z"
   },
   {
    "duration": 37,
    "start_time": "2022-11-12T12:51:35.697Z"
   },
   {
    "duration": 5,
    "start_time": "2022-11-12T12:51:43.988Z"
   },
   {
    "duration": 514,
    "start_time": "2022-11-12T12:54:38.347Z"
   },
   {
    "duration": 176,
    "start_time": "2022-11-12T12:58:20.827Z"
   },
   {
    "duration": 1120,
    "start_time": "2022-11-12T12:59:24.237Z"
   },
   {
    "duration": 6,
    "start_time": "2022-11-12T12:59:25.360Z"
   },
   {
    "duration": 67,
    "start_time": "2022-11-12T12:59:25.367Z"
   },
   {
    "duration": 32,
    "start_time": "2022-11-12T12:59:25.437Z"
   },
   {
    "duration": 26,
    "start_time": "2022-11-12T12:59:25.471Z"
   },
   {
    "duration": 9,
    "start_time": "2022-11-12T12:59:25.499Z"
   },
   {
    "duration": 13,
    "start_time": "2022-11-12T12:59:25.509Z"
   },
   {
    "duration": 5,
    "start_time": "2022-11-12T12:59:25.524Z"
   },
   {
    "duration": 27,
    "start_time": "2022-11-12T12:59:25.531Z"
   },
   {
    "duration": 214,
    "start_time": "2022-11-12T12:59:25.562Z"
   },
   {
    "duration": 113,
    "start_time": "2022-11-12T12:59:25.777Z"
   },
   {
    "duration": 4,
    "start_time": "2022-11-12T12:59:25.892Z"
   },
   {
    "duration": 18,
    "start_time": "2022-11-12T12:59:25.898Z"
   },
   {
    "duration": 44,
    "start_time": "2022-11-12T12:59:25.918Z"
   },
   {
    "duration": 891,
    "start_time": "2022-11-12T12:59:25.964Z"
   },
   {
    "duration": 15,
    "start_time": "2022-11-12T12:59:26.860Z"
   },
   {
    "duration": 7,
    "start_time": "2022-11-12T12:59:26.877Z"
   },
   {
    "duration": 1478,
    "start_time": "2022-11-12T12:59:26.886Z"
   },
   {
    "duration": 117,
    "start_time": "2022-11-12T13:07:28.545Z"
   },
   {
    "duration": 1001,
    "start_time": "2022-11-12T13:07:46.706Z"
   },
   {
    "duration": 3,
    "start_time": "2022-11-12T13:07:47.708Z"
   },
   {
    "duration": 52,
    "start_time": "2022-11-12T13:07:47.712Z"
   },
   {
    "duration": 19,
    "start_time": "2022-11-12T13:07:47.766Z"
   },
   {
    "duration": 12,
    "start_time": "2022-11-12T13:07:47.786Z"
   },
   {
    "duration": 6,
    "start_time": "2022-11-12T13:07:47.799Z"
   },
   {
    "duration": 11,
    "start_time": "2022-11-12T13:07:47.806Z"
   },
   {
    "duration": 4,
    "start_time": "2022-11-12T13:07:47.818Z"
   },
   {
    "duration": 35,
    "start_time": "2022-11-12T13:07:47.823Z"
   },
   {
    "duration": 26,
    "start_time": "2022-11-12T13:07:47.860Z"
   },
   {
    "duration": 7,
    "start_time": "2022-11-12T13:07:47.887Z"
   },
   {
    "duration": 5,
    "start_time": "2022-11-12T13:07:47.895Z"
   },
   {
    "duration": 7,
    "start_time": "2022-11-12T13:07:47.901Z"
   },
   {
    "duration": 42,
    "start_time": "2022-11-12T13:07:47.909Z"
   },
   {
    "duration": 37,
    "start_time": "2022-11-12T13:07:47.954Z"
   },
   {
    "duration": 6,
    "start_time": "2022-11-12T13:07:47.992Z"
   },
   {
    "duration": 7,
    "start_time": "2022-11-12T13:07:47.999Z"
   },
   {
    "duration": 141,
    "start_time": "2022-11-12T13:07:48.007Z"
   },
   {
    "duration": 102,
    "start_time": "2022-11-12T13:09:11.388Z"
   },
   {
    "duration": 8,
    "start_time": "2022-11-12T13:09:30.628Z"
   },
   {
    "duration": 1269,
    "start_time": "2022-11-12T13:15:57.776Z"
   },
   {
    "duration": 11,
    "start_time": "2022-11-12T13:16:20.928Z"
   },
   {
    "duration": 10,
    "start_time": "2022-11-12T13:19:23.550Z"
   },
   {
    "duration": 14,
    "start_time": "2022-11-12T13:21:48.937Z"
   },
   {
    "duration": 28,
    "start_time": "2022-11-12T13:22:00.264Z"
   },
   {
    "duration": 25,
    "start_time": "2022-11-12T13:22:24.937Z"
   },
   {
    "duration": 19,
    "start_time": "2022-11-12T13:22:33.327Z"
   },
   {
    "duration": 1036,
    "start_time": "2022-11-12T13:22:41.707Z"
   },
   {
    "duration": 5,
    "start_time": "2022-11-12T13:22:42.746Z"
   },
   {
    "duration": 55,
    "start_time": "2022-11-12T13:22:42.753Z"
   },
   {
    "duration": 17,
    "start_time": "2022-11-12T13:22:42.810Z"
   },
   {
    "duration": 11,
    "start_time": "2022-11-12T13:22:42.829Z"
   },
   {
    "duration": 12,
    "start_time": "2022-11-12T13:22:42.841Z"
   },
   {
    "duration": 15,
    "start_time": "2022-11-12T13:22:42.859Z"
   },
   {
    "duration": 12,
    "start_time": "2022-11-12T13:22:42.876Z"
   },
   {
    "duration": 44,
    "start_time": "2022-11-12T13:22:42.889Z"
   },
   {
    "duration": 0,
    "start_time": "2022-11-12T13:22:42.935Z"
   },
   {
    "duration": 0,
    "start_time": "2022-11-12T13:22:42.936Z"
   },
   {
    "duration": 0,
    "start_time": "2022-11-12T13:22:42.937Z"
   },
   {
    "duration": 0,
    "start_time": "2022-11-12T13:22:42.939Z"
   },
   {
    "duration": 0,
    "start_time": "2022-11-12T13:22:42.940Z"
   },
   {
    "duration": 0,
    "start_time": "2022-11-12T13:22:42.941Z"
   },
   {
    "duration": 0,
    "start_time": "2022-11-12T13:22:42.942Z"
   },
   {
    "duration": 0,
    "start_time": "2022-11-12T13:22:42.942Z"
   },
   {
    "duration": 0,
    "start_time": "2022-11-12T13:22:42.943Z"
   },
   {
    "duration": 4,
    "start_time": "2022-11-12T13:23:09.667Z"
   },
   {
    "duration": 11,
    "start_time": "2022-11-12T13:23:11.117Z"
   },
   {
    "duration": 18,
    "start_time": "2022-11-12T13:23:11.896Z"
   },
   {
    "duration": 11,
    "start_time": "2022-11-12T13:23:17.268Z"
   },
   {
    "duration": 21,
    "start_time": "2022-11-12T13:23:23.197Z"
   },
   {
    "duration": 24,
    "start_time": "2022-11-12T13:25:52.728Z"
   },
   {
    "duration": 106,
    "start_time": "2022-11-12T13:26:24.388Z"
   },
   {
    "duration": 8,
    "start_time": "2022-11-12T13:26:55.063Z"
   },
   {
    "duration": 6,
    "start_time": "2022-11-12T13:27:39.339Z"
   },
   {
    "duration": 75,
    "start_time": "2022-11-12T13:28:51.188Z"
   },
   {
    "duration": 21,
    "start_time": "2022-11-12T13:29:03.586Z"
   },
   {
    "duration": 696,
    "start_time": "2022-11-12T13:30:56.242Z"
   },
   {
    "duration": 34442,
    "start_time": "2022-11-12T13:33:13.222Z"
   },
   {
    "duration": 19,
    "start_time": "2022-11-12T13:38:00.358Z"
   },
   {
    "duration": 13,
    "start_time": "2022-11-12T13:38:16.940Z"
   },
   {
    "duration": 62,
    "start_time": "2022-11-12T13:39:13.409Z"
   },
   {
    "duration": 184,
    "start_time": "2022-11-12T13:39:22.079Z"
   },
   {
    "duration": 1110,
    "start_time": "2022-11-12T13:40:10.539Z"
   },
   {
    "duration": 8,
    "start_time": "2022-11-12T13:40:11.656Z"
   },
   {
    "duration": 53,
    "start_time": "2022-11-12T13:40:11.665Z"
   },
   {
    "duration": 21,
    "start_time": "2022-11-12T13:40:11.719Z"
   },
   {
    "duration": 14,
    "start_time": "2022-11-12T13:40:11.742Z"
   },
   {
    "duration": 18,
    "start_time": "2022-11-12T13:40:11.758Z"
   },
   {
    "duration": 32,
    "start_time": "2022-11-12T13:40:11.778Z"
   },
   {
    "duration": 12,
    "start_time": "2022-11-12T13:40:11.812Z"
   },
   {
    "duration": 4,
    "start_time": "2022-11-12T13:40:11.825Z"
   },
   {
    "duration": 20,
    "start_time": "2022-11-12T13:40:11.831Z"
   },
   {
    "duration": 30,
    "start_time": "2022-11-12T13:40:11.853Z"
   },
   {
    "duration": 11,
    "start_time": "2022-11-12T13:40:11.885Z"
   },
   {
    "duration": 22,
    "start_time": "2022-11-12T13:40:11.897Z"
   },
   {
    "duration": 6,
    "start_time": "2022-11-12T13:40:11.921Z"
   },
   {
    "duration": 46,
    "start_time": "2022-11-12T13:40:11.928Z"
   },
   {
    "duration": 811,
    "start_time": "2022-11-12T13:40:12.049Z"
   },
   {
    "duration": 35128,
    "start_time": "2022-11-12T13:40:12.865Z"
   },
   {
    "duration": 12,
    "start_time": "2022-11-12T13:40:47.994Z"
   },
   {
    "duration": 320,
    "start_time": "2022-11-12T13:40:48.007Z"
   },
   {
    "duration": 1141,
    "start_time": "2022-11-12T13:41:24.161Z"
   },
   {
    "duration": 4,
    "start_time": "2022-11-12T13:41:25.304Z"
   },
   {
    "duration": 70,
    "start_time": "2022-11-12T13:41:25.309Z"
   },
   {
    "duration": 19,
    "start_time": "2022-11-12T13:41:25.382Z"
   },
   {
    "duration": 13,
    "start_time": "2022-11-12T13:41:25.402Z"
   },
   {
    "duration": 8,
    "start_time": "2022-11-12T13:41:25.416Z"
   },
   {
    "duration": 10,
    "start_time": "2022-11-12T13:41:25.426Z"
   },
   {
    "duration": 27,
    "start_time": "2022-11-12T13:41:25.437Z"
   },
   {
    "duration": 5,
    "start_time": "2022-11-12T13:41:25.466Z"
   },
   {
    "duration": 21,
    "start_time": "2022-11-12T13:41:25.473Z"
   },
   {
    "duration": 22,
    "start_time": "2022-11-12T13:41:25.496Z"
   },
   {
    "duration": 17,
    "start_time": "2022-11-12T13:41:25.520Z"
   },
   {
    "duration": 34,
    "start_time": "2022-11-12T13:41:25.540Z"
   },
   {
    "duration": 19,
    "start_time": "2022-11-12T13:41:25.576Z"
   },
   {
    "duration": 69,
    "start_time": "2022-11-12T13:41:25.597Z"
   },
   {
    "duration": 870,
    "start_time": "2022-11-12T13:41:25.668Z"
   },
   {
    "duration": 35441,
    "start_time": "2022-11-12T13:41:26.540Z"
   },
   {
    "duration": 12,
    "start_time": "2022-11-12T13:42:01.983Z"
   },
   {
    "duration": 72,
    "start_time": "2022-11-12T13:42:01.996Z"
   },
   {
    "duration": 1032,
    "start_time": "2022-11-12T13:44:09.179Z"
   },
   {
    "duration": 2,
    "start_time": "2022-11-12T13:44:10.213Z"
   },
   {
    "duration": 86,
    "start_time": "2022-11-12T13:44:10.217Z"
   },
   {
    "duration": 17,
    "start_time": "2022-11-12T13:44:10.304Z"
   },
   {
    "duration": 21,
    "start_time": "2022-11-12T13:44:10.323Z"
   },
   {
    "duration": 26,
    "start_time": "2022-11-12T13:44:10.345Z"
   },
   {
    "duration": 22,
    "start_time": "2022-11-12T13:44:10.373Z"
   },
   {
    "duration": 26,
    "start_time": "2022-11-12T13:44:10.396Z"
   },
   {
    "duration": 30,
    "start_time": "2022-11-12T13:44:10.423Z"
   },
   {
    "duration": 30,
    "start_time": "2022-11-12T13:44:10.459Z"
   },
   {
    "duration": 25,
    "start_time": "2022-11-12T13:44:10.491Z"
   },
   {
    "duration": 30,
    "start_time": "2022-11-12T13:44:10.518Z"
   },
   {
    "duration": 41,
    "start_time": "2022-11-12T13:44:10.549Z"
   },
   {
    "duration": 18,
    "start_time": "2022-11-12T13:44:10.593Z"
   },
   {
    "duration": 47,
    "start_time": "2022-11-12T13:44:10.612Z"
   },
   {
    "duration": 902,
    "start_time": "2022-11-12T13:44:10.661Z"
   },
   {
    "duration": 34965,
    "start_time": "2022-11-12T13:44:11.564Z"
   },
   {
    "duration": 23,
    "start_time": "2022-11-12T13:44:46.530Z"
   },
   {
    "duration": 29,
    "start_time": "2022-11-12T13:44:46.554Z"
   },
   {
    "duration": 23,
    "start_time": "2022-11-12T13:45:22.109Z"
   },
   {
    "duration": 413,
    "start_time": "2022-11-12T13:47:46.847Z"
   },
   {
    "duration": 398,
    "start_time": "2022-11-12T13:48:17.216Z"
   },
   {
    "duration": 1091,
    "start_time": "2022-11-12T13:49:06.246Z"
   },
   {
    "duration": 3,
    "start_time": "2022-11-12T13:49:07.339Z"
   },
   {
    "duration": 54,
    "start_time": "2022-11-12T13:49:07.344Z"
   },
   {
    "duration": 18,
    "start_time": "2022-11-12T13:49:07.400Z"
   },
   {
    "duration": 12,
    "start_time": "2022-11-12T13:49:07.419Z"
   },
   {
    "duration": 6,
    "start_time": "2022-11-12T13:49:07.433Z"
   },
   {
    "duration": 19,
    "start_time": "2022-11-12T13:49:07.440Z"
   },
   {
    "duration": 13,
    "start_time": "2022-11-12T13:49:07.464Z"
   },
   {
    "duration": 4,
    "start_time": "2022-11-12T13:49:07.478Z"
   },
   {
    "duration": 15,
    "start_time": "2022-11-12T13:49:07.484Z"
   },
   {
    "duration": 21,
    "start_time": "2022-11-12T13:49:07.501Z"
   },
   {
    "duration": 12,
    "start_time": "2022-11-12T13:49:07.524Z"
   },
   {
    "duration": 39,
    "start_time": "2022-11-12T13:49:07.537Z"
   },
   {
    "duration": 6,
    "start_time": "2022-11-12T13:49:07.579Z"
   },
   {
    "duration": 73,
    "start_time": "2022-11-12T13:49:07.587Z"
   },
   {
    "duration": 706,
    "start_time": "2022-11-12T13:49:07.663Z"
   },
   {
    "duration": 34524,
    "start_time": "2022-11-12T13:49:08.371Z"
   },
   {
    "duration": 14,
    "start_time": "2022-11-12T13:49:42.897Z"
   },
   {
    "duration": 46,
    "start_time": "2022-11-12T13:49:42.912Z"
   },
   {
    "duration": 541,
    "start_time": "2022-11-12T13:49:42.960Z"
   },
   {
    "duration": 12,
    "start_time": "2022-11-12T13:53:57.989Z"
   },
   {
    "duration": 30,
    "start_time": "2022-11-12T13:54:19.009Z"
   },
   {
    "duration": 402,
    "start_time": "2022-11-12T13:54:19.887Z"
   },
   {
    "duration": 128655,
    "start_time": "2022-11-12T13:55:26.938Z"
   },
   {
    "duration": 14389,
    "start_time": "2022-11-12T13:57:38.962Z"
   },
   {
    "duration": 9318,
    "start_time": "2022-11-12T13:58:09.591Z"
   },
   {
    "duration": 121,
    "start_time": "2022-11-12T13:59:05.091Z"
   },
   {
    "duration": 11,
    "start_time": "2022-11-12T13:59:14.872Z"
   },
   {
    "duration": 39,
    "start_time": "2022-11-12T13:59:57.330Z"
   },
   {
    "duration": 481,
    "start_time": "2022-11-12T14:02:31.832Z"
   },
   {
    "duration": 19802,
    "start_time": "2022-11-12T14:03:29.191Z"
   },
   {
    "duration": 1060,
    "start_time": "2022-11-12T14:06:28.262Z"
   },
   {
    "duration": 2,
    "start_time": "2022-11-12T14:06:29.324Z"
   },
   {
    "duration": 48,
    "start_time": "2022-11-12T14:06:29.328Z"
   },
   {
    "duration": 17,
    "start_time": "2022-11-12T14:06:29.378Z"
   },
   {
    "duration": 12,
    "start_time": "2022-11-12T14:06:29.396Z"
   },
   {
    "duration": 6,
    "start_time": "2022-11-12T14:06:29.409Z"
   },
   {
    "duration": 13,
    "start_time": "2022-11-12T14:06:29.416Z"
   },
   {
    "duration": 20,
    "start_time": "2022-11-12T14:06:29.431Z"
   },
   {
    "duration": 8,
    "start_time": "2022-11-12T14:06:29.452Z"
   },
   {
    "duration": 18,
    "start_time": "2022-11-12T14:06:29.463Z"
   },
   {
    "duration": 19,
    "start_time": "2022-11-12T14:06:29.482Z"
   },
   {
    "duration": 9,
    "start_time": "2022-11-12T14:06:29.503Z"
   },
   {
    "duration": 24,
    "start_time": "2022-11-12T14:06:29.513Z"
   },
   {
    "duration": 11,
    "start_time": "2022-11-12T14:06:29.548Z"
   },
   {
    "duration": 87,
    "start_time": "2022-11-12T14:06:29.562Z"
   },
   {
    "duration": 762,
    "start_time": "2022-11-12T14:06:29.652Z"
   },
   {
    "duration": 34989,
    "start_time": "2022-11-12T14:06:30.416Z"
   },
   {
    "duration": 158,
    "start_time": "2022-11-12T14:07:05.407Z"
   },
   {
    "duration": 402,
    "start_time": "2022-11-12T14:07:05.567Z"
   },
   {
    "duration": 14693,
    "start_time": "2022-11-12T14:07:05.971Z"
   },
   {
    "duration": 12,
    "start_time": "2022-11-12T14:07:20.666Z"
   },
   {
    "duration": 80,
    "start_time": "2022-11-12T14:07:20.680Z"
   },
   {
    "duration": 585,
    "start_time": "2022-11-12T14:07:20.762Z"
   },
   {
    "duration": 20146,
    "start_time": "2022-11-12T14:07:21.349Z"
   },
   {
    "duration": 20,
    "start_time": "2022-11-12T14:07:41.497Z"
   },
   {
    "duration": 20,
    "start_time": "2022-11-12T14:08:06.920Z"
   },
   {
    "duration": 13,
    "start_time": "2022-11-12T14:08:16.580Z"
   },
   {
    "duration": 19,
    "start_time": "2022-11-12T14:10:11.700Z"
   },
   {
    "duration": 385,
    "start_time": "2022-11-12T14:10:13.540Z"
   },
   {
    "duration": 18,
    "start_time": "2022-11-12T14:10:22.034Z"
   },
   {
    "duration": 387,
    "start_time": "2022-11-12T14:10:52.336Z"
   },
   {
    "duration": 32,
    "start_time": "2022-11-12T14:11:31.858Z"
   },
   {
    "duration": 14619,
    "start_time": "2022-11-12T14:11:52.886Z"
   },
   {
    "duration": 187,
    "start_time": "2022-11-12T14:13:20.540Z"
   },
   {
    "duration": 7823,
    "start_time": "2022-11-12T14:14:26.670Z"
   },
   {
    "duration": 375,
    "start_time": "2022-11-12T14:20:12.728Z"
   },
   {
    "duration": 1872,
    "start_time": "2022-11-12T14:20:19.928Z"
   },
   {
    "duration": 798,
    "start_time": "2022-11-12T14:22:14.955Z"
   },
   {
    "duration": 1342,
    "start_time": "2022-11-12T14:22:35.736Z"
   },
   {
    "duration": 3,
    "start_time": "2022-11-12T14:22:37.079Z"
   },
   {
    "duration": 42,
    "start_time": "2022-11-12T14:22:37.083Z"
   },
   {
    "duration": 15,
    "start_time": "2022-11-12T14:22:37.127Z"
   },
   {
    "duration": 11,
    "start_time": "2022-11-12T14:22:37.144Z"
   },
   {
    "duration": 6,
    "start_time": "2022-11-12T14:22:37.156Z"
   },
   {
    "duration": 10,
    "start_time": "2022-11-12T14:22:37.163Z"
   },
   {
    "duration": 10,
    "start_time": "2022-11-12T14:22:37.174Z"
   },
   {
    "duration": 5,
    "start_time": "2022-11-12T14:22:37.185Z"
   },
   {
    "duration": 18,
    "start_time": "2022-11-12T14:22:37.191Z"
   },
   {
    "duration": 42,
    "start_time": "2022-11-12T14:22:37.210Z"
   },
   {
    "duration": 8,
    "start_time": "2022-11-12T14:22:37.254Z"
   },
   {
    "duration": 23,
    "start_time": "2022-11-12T14:22:37.264Z"
   },
   {
    "duration": 6,
    "start_time": "2022-11-12T14:22:37.290Z"
   },
   {
    "duration": 52,
    "start_time": "2022-11-12T14:22:37.298Z"
   },
   {
    "duration": 733,
    "start_time": "2022-11-12T14:22:37.354Z"
   },
   {
    "duration": 33030,
    "start_time": "2022-11-12T14:22:38.088Z"
   },
   {
    "duration": 29,
    "start_time": "2022-11-12T14:23:11.120Z"
   },
   {
    "duration": 552,
    "start_time": "2022-11-12T14:23:11.151Z"
   },
   {
    "duration": 14165,
    "start_time": "2022-11-12T14:23:11.705Z"
   },
   {
    "duration": 16,
    "start_time": "2022-11-12T14:23:25.871Z"
   },
   {
    "duration": 66,
    "start_time": "2022-11-12T14:23:25.889Z"
   },
   {
    "duration": 571,
    "start_time": "2022-11-12T14:23:25.958Z"
   },
   {
    "duration": 19027,
    "start_time": "2022-11-12T14:23:26.531Z"
   },
   {
    "duration": 11,
    "start_time": "2022-11-12T14:23:45.560Z"
   },
   {
    "duration": 18,
    "start_time": "2022-11-12T14:23:45.572Z"
   },
   {
    "duration": 278,
    "start_time": "2022-11-12T14:23:45.650Z"
   },
   {
    "duration": 7754,
    "start_time": "2022-11-12T14:23:45.929Z"
   },
   {
    "duration": 824,
    "start_time": "2022-11-12T14:23:53.684Z"
   },
   {
    "duration": 752,
    "start_time": "2022-11-12T14:25:12.434Z"
   },
   {
    "duration": 9,
    "start_time": "2022-11-12T14:27:44.096Z"
   },
   {
    "duration": 113,
    "start_time": "2022-11-12T14:28:03.197Z"
   },
   {
    "duration": 710,
    "start_time": "2022-11-12T14:28:11.167Z"
   },
   {
    "duration": 1318,
    "start_time": "2022-11-12T14:30:14.386Z"
   },
   {
    "duration": 3,
    "start_time": "2022-11-12T14:30:15.706Z"
   },
   {
    "duration": 41,
    "start_time": "2022-11-12T14:30:15.710Z"
   },
   {
    "duration": 14,
    "start_time": "2022-11-12T14:30:15.753Z"
   },
   {
    "duration": 11,
    "start_time": "2022-11-12T14:30:15.769Z"
   },
   {
    "duration": 6,
    "start_time": "2022-11-12T14:30:15.781Z"
   },
   {
    "duration": 11,
    "start_time": "2022-11-12T14:30:15.788Z"
   },
   {
    "duration": 10,
    "start_time": "2022-11-12T14:30:15.800Z"
   },
   {
    "duration": 4,
    "start_time": "2022-11-12T14:30:15.811Z"
   },
   {
    "duration": 39,
    "start_time": "2022-11-12T14:30:15.816Z"
   },
   {
    "duration": 16,
    "start_time": "2022-11-12T14:30:15.856Z"
   },
   {
    "duration": 9,
    "start_time": "2022-11-12T14:30:15.874Z"
   },
   {
    "duration": 27,
    "start_time": "2022-11-12T14:30:15.884Z"
   },
   {
    "duration": 5,
    "start_time": "2022-11-12T14:30:15.913Z"
   },
   {
    "duration": 42,
    "start_time": "2022-11-12T14:30:15.919Z"
   },
   {
    "duration": 787,
    "start_time": "2022-11-12T14:30:15.963Z"
   },
   {
    "duration": 32656,
    "start_time": "2022-11-12T14:30:16.752Z"
   },
   {
    "duration": 39,
    "start_time": "2022-11-12T14:30:49.410Z"
   },
   {
    "duration": 492,
    "start_time": "2022-11-12T14:30:49.451Z"
   },
   {
    "duration": 13941,
    "start_time": "2022-11-12T14:30:49.944Z"
   },
   {
    "duration": 12,
    "start_time": "2022-11-12T14:31:03.886Z"
   },
   {
    "duration": 49,
    "start_time": "2022-11-12T14:31:03.900Z"
   },
   {
    "duration": 575,
    "start_time": "2022-11-12T14:31:03.952Z"
   },
   {
    "duration": 19001,
    "start_time": "2022-11-12T14:31:04.528Z"
   },
   {
    "duration": 18,
    "start_time": "2022-11-12T14:31:23.530Z"
   },
   {
    "duration": 14,
    "start_time": "2022-11-12T14:31:23.549Z"
   },
   {
    "duration": 371,
    "start_time": "2022-11-12T14:31:23.565Z"
   },
   {
    "duration": 8137,
    "start_time": "2022-11-12T14:31:23.937Z"
   },
   {
    "duration": 822,
    "start_time": "2022-11-12T14:31:32.075Z"
   },
   {
    "duration": 9,
    "start_time": "2022-11-12T14:31:32.898Z"
   },
   {
    "duration": 687,
    "start_time": "2022-11-12T14:31:32.908Z"
   },
   {
    "duration": 446,
    "start_time": "2022-11-12T14:32:23.697Z"
   },
   {
    "duration": 631,
    "start_time": "2022-11-12T14:33:08.818Z"
   },
   {
    "duration": 448,
    "start_time": "2022-11-12T14:33:26.437Z"
   },
   {
    "duration": 444,
    "start_time": "2022-11-12T14:33:40.197Z"
   },
   {
    "duration": 424,
    "start_time": "2022-11-12T14:33:55.447Z"
   },
   {
    "duration": 440,
    "start_time": "2022-11-12T14:34:21.788Z"
   },
   {
    "duration": 423,
    "start_time": "2022-11-12T14:34:32.549Z"
   },
   {
    "duration": 433,
    "start_time": "2022-11-12T14:34:42.019Z"
   },
   {
    "duration": 1765,
    "start_time": "2022-11-12T17:45:21.373Z"
   },
   {
    "duration": 3,
    "start_time": "2022-11-12T17:45:23.141Z"
   },
   {
    "duration": 77,
    "start_time": "2022-11-12T17:45:23.150Z"
   },
   {
    "duration": 19,
    "start_time": "2022-11-12T17:45:23.229Z"
   },
   {
    "duration": 15,
    "start_time": "2022-11-12T17:45:23.250Z"
   },
   {
    "duration": 9,
    "start_time": "2022-11-12T17:45:23.266Z"
   },
   {
    "duration": 17,
    "start_time": "2022-11-12T17:45:23.277Z"
   },
   {
    "duration": 13,
    "start_time": "2022-11-12T17:45:23.296Z"
   },
   {
    "duration": 40,
    "start_time": "2022-11-12T17:45:23.311Z"
   },
   {
    "duration": 15,
    "start_time": "2022-11-12T17:45:23.353Z"
   },
   {
    "duration": 21,
    "start_time": "2022-11-12T17:45:23.370Z"
   },
   {
    "duration": 12,
    "start_time": "2022-11-12T17:45:23.393Z"
   },
   {
    "duration": 60,
    "start_time": "2022-11-12T17:45:23.407Z"
   },
   {
    "duration": 7,
    "start_time": "2022-11-12T17:45:23.470Z"
   },
   {
    "duration": 77,
    "start_time": "2022-11-12T17:45:23.479Z"
   },
   {
    "duration": 915,
    "start_time": "2022-11-12T17:45:23.559Z"
   },
   {
    "duration": 41432,
    "start_time": "2022-11-12T17:45:24.476Z"
   },
   {
    "duration": 54,
    "start_time": "2022-11-12T17:46:05.910Z"
   },
   {
    "duration": 485,
    "start_time": "2022-11-12T17:46:06.051Z"
   },
   {
    "duration": 17421,
    "start_time": "2022-11-12T17:46:06.538Z"
   },
   {
    "duration": 15,
    "start_time": "2022-11-12T17:46:23.961Z"
   },
   {
    "duration": 74,
    "start_time": "2022-11-12T17:46:23.978Z"
   },
   {
    "duration": 696,
    "start_time": "2022-11-12T17:46:24.055Z"
   },
   {
    "duration": 24319,
    "start_time": "2022-11-12T17:46:24.753Z"
   },
   {
    "duration": 17,
    "start_time": "2022-11-12T17:46:49.074Z"
   },
   {
    "duration": 62,
    "start_time": "2022-11-12T17:46:49.092Z"
   },
   {
    "duration": 329,
    "start_time": "2022-11-12T17:46:49.157Z"
   },
   {
    "duration": 9909,
    "start_time": "2022-11-12T17:46:49.488Z"
   },
   {
    "duration": 1008,
    "start_time": "2022-11-12T17:46:59.399Z"
   },
   {
    "duration": 13,
    "start_time": "2022-11-12T17:47:00.409Z"
   },
   {
    "duration": 942,
    "start_time": "2022-11-12T17:47:00.424Z"
   },
   {
    "duration": 1371,
    "start_time": "2022-11-12T17:50:20.313Z"
   },
   {
    "duration": 18,
    "start_time": "2022-11-12T17:50:33.092Z"
   },
   {
    "duration": 1616,
    "start_time": "2022-11-12T17:50:50.986Z"
   },
   {
    "duration": 4,
    "start_time": "2022-11-12T17:50:52.604Z"
   },
   {
    "duration": 74,
    "start_time": "2022-11-12T17:50:52.610Z"
   },
   {
    "duration": 28,
    "start_time": "2022-11-12T17:50:52.687Z"
   },
   {
    "duration": 37,
    "start_time": "2022-11-12T17:50:52.718Z"
   },
   {
    "duration": 18,
    "start_time": "2022-11-12T17:50:52.758Z"
   },
   {
    "duration": 17,
    "start_time": "2022-11-12T17:50:52.779Z"
   },
   {
    "duration": 16,
    "start_time": "2022-11-12T17:50:52.798Z"
   },
   {
    "duration": 37,
    "start_time": "2022-11-12T17:50:52.816Z"
   },
   {
    "duration": 21,
    "start_time": "2022-11-12T17:50:52.856Z"
   },
   {
    "duration": 23,
    "start_time": "2022-11-12T17:50:52.879Z"
   },
   {
    "duration": 14,
    "start_time": "2022-11-12T17:50:52.904Z"
   },
   {
    "duration": 38,
    "start_time": "2022-11-12T17:50:52.951Z"
   },
   {
    "duration": 9,
    "start_time": "2022-11-12T17:50:52.992Z"
   },
   {
    "duration": 51,
    "start_time": "2022-11-12T17:50:53.004Z"
   },
   {
    "duration": 1105,
    "start_time": "2022-11-12T17:50:53.057Z"
   },
   {
    "duration": 45805,
    "start_time": "2022-11-12T17:50:54.164Z"
   },
   {
    "duration": 26,
    "start_time": "2022-11-12T17:51:39.972Z"
   },
   {
    "duration": 662,
    "start_time": "2022-11-12T17:51:40.000Z"
   },
   {
    "duration": 19962,
    "start_time": "2022-11-12T17:51:40.665Z"
   },
   {
    "duration": 33,
    "start_time": "2022-11-12T17:52:00.629Z"
   },
   {
    "duration": 90,
    "start_time": "2022-11-12T17:52:00.664Z"
   },
   {
    "duration": 833,
    "start_time": "2022-11-12T17:52:00.757Z"
   },
   {
    "duration": 27159,
    "start_time": "2022-11-12T17:52:01.593Z"
   },
   {
    "duration": 15,
    "start_time": "2022-11-12T17:52:28.754Z"
   },
   {
    "duration": 82,
    "start_time": "2022-11-12T17:52:28.772Z"
   },
   {
    "duration": 361,
    "start_time": "2022-11-12T17:52:28.857Z"
   },
   {
    "duration": 10071,
    "start_time": "2022-11-12T17:52:29.222Z"
   },
   {
    "duration": 1013,
    "start_time": "2022-11-12T17:52:39.295Z"
   },
   {
    "duration": 10,
    "start_time": "2022-11-12T17:52:40.311Z"
   },
   {
    "duration": 939,
    "start_time": "2022-11-12T17:52:40.323Z"
   },
   {
    "duration": 142,
    "start_time": "2022-11-12T17:57:51.515Z"
   },
   {
    "duration": 19,
    "start_time": "2022-11-12T17:58:05.266Z"
   },
   {
    "duration": 52,
    "start_time": "2022-11-12T18:04:40.245Z"
   },
   {
    "duration": 1679,
    "start_time": "2022-11-12T18:04:47.476Z"
   },
   {
    "duration": 4,
    "start_time": "2022-11-12T18:04:49.157Z"
   },
   {
    "duration": 86,
    "start_time": "2022-11-12T18:04:49.164Z"
   },
   {
    "duration": 35,
    "start_time": "2022-11-12T18:04:49.253Z"
   },
   {
    "duration": 45,
    "start_time": "2022-11-12T18:04:49.292Z"
   },
   {
    "duration": 35,
    "start_time": "2022-11-12T18:04:49.339Z"
   },
   {
    "duration": 46,
    "start_time": "2022-11-12T18:04:49.377Z"
   },
   {
    "duration": 28,
    "start_time": "2022-11-12T18:04:49.425Z"
   },
   {
    "duration": 10,
    "start_time": "2022-11-12T18:04:49.455Z"
   },
   {
    "duration": 41,
    "start_time": "2022-11-12T18:04:49.467Z"
   },
   {
    "duration": 51,
    "start_time": "2022-11-12T18:04:49.510Z"
   },
   {
    "duration": 13,
    "start_time": "2022-11-12T18:04:49.563Z"
   },
   {
    "duration": 175,
    "start_time": "2022-11-12T18:04:49.578Z"
   },
   {
    "duration": 0,
    "start_time": "2022-11-12T18:04:49.757Z"
   },
   {
    "duration": 0,
    "start_time": "2022-11-12T18:04:49.758Z"
   },
   {
    "duration": 0,
    "start_time": "2022-11-12T18:04:49.761Z"
   },
   {
    "duration": 0,
    "start_time": "2022-11-12T18:04:49.763Z"
   },
   {
    "duration": 0,
    "start_time": "2022-11-12T18:04:49.765Z"
   },
   {
    "duration": 0,
    "start_time": "2022-11-12T18:04:49.768Z"
   },
   {
    "duration": 0,
    "start_time": "2022-11-12T18:04:49.769Z"
   },
   {
    "duration": 0,
    "start_time": "2022-11-12T18:04:49.771Z"
   },
   {
    "duration": 0,
    "start_time": "2022-11-12T18:04:49.772Z"
   },
   {
    "duration": 0,
    "start_time": "2022-11-12T18:04:49.774Z"
   },
   {
    "duration": 0,
    "start_time": "2022-11-12T18:04:49.776Z"
   },
   {
    "duration": 0,
    "start_time": "2022-11-12T18:04:49.777Z"
   },
   {
    "duration": 0,
    "start_time": "2022-11-12T18:04:49.779Z"
   },
   {
    "duration": 0,
    "start_time": "2022-11-12T18:04:49.781Z"
   },
   {
    "duration": 0,
    "start_time": "2022-11-12T18:04:49.782Z"
   },
   {
    "duration": 0,
    "start_time": "2022-11-12T18:04:49.784Z"
   },
   {
    "duration": 0,
    "start_time": "2022-11-12T18:04:49.786Z"
   },
   {
    "duration": 0,
    "start_time": "2022-11-12T18:04:49.787Z"
   },
   {
    "duration": 28,
    "start_time": "2022-11-12T18:05:51.136Z"
   },
   {
    "duration": 1599,
    "start_time": "2022-11-12T18:09:40.797Z"
   },
   {
    "duration": 3,
    "start_time": "2022-11-12T18:09:42.398Z"
   },
   {
    "duration": 42,
    "start_time": "2022-11-12T18:09:42.403Z"
   },
   {
    "duration": 19,
    "start_time": "2022-11-12T18:09:42.446Z"
   },
   {
    "duration": 19,
    "start_time": "2022-11-12T18:09:42.468Z"
   },
   {
    "duration": 22,
    "start_time": "2022-11-12T18:09:42.489Z"
   },
   {
    "duration": 42,
    "start_time": "2022-11-12T18:09:42.513Z"
   },
   {
    "duration": 14,
    "start_time": "2022-11-12T18:09:42.557Z"
   },
   {
    "duration": 7,
    "start_time": "2022-11-12T18:09:42.572Z"
   },
   {
    "duration": 14,
    "start_time": "2022-11-12T18:09:42.581Z"
   },
   {
    "duration": 60,
    "start_time": "2022-11-12T18:09:42.597Z"
   },
   {
    "duration": 14,
    "start_time": "2022-11-12T18:09:42.659Z"
   },
   {
    "duration": 34,
    "start_time": "2022-11-12T18:09:42.676Z"
   },
   {
    "duration": 8,
    "start_time": "2022-11-12T18:09:42.714Z"
   },
   {
    "duration": 56,
    "start_time": "2022-11-12T18:09:42.723Z"
   },
   {
    "duration": 938,
    "start_time": "2022-11-12T18:09:42.850Z"
   },
   {
    "duration": 41073,
    "start_time": "2022-11-12T18:09:43.790Z"
   },
   {
    "duration": 91,
    "start_time": "2022-11-12T18:10:24.865Z"
   },
   {
    "duration": 630,
    "start_time": "2022-11-12T18:10:24.959Z"
   },
   {
    "duration": 17479,
    "start_time": "2022-11-12T18:10:25.590Z"
   },
   {
    "duration": 20,
    "start_time": "2022-11-12T18:10:43.071Z"
   },
   {
    "duration": 71,
    "start_time": "2022-11-12T18:10:43.093Z"
   },
   {
    "duration": 691,
    "start_time": "2022-11-12T18:10:43.252Z"
   },
   {
    "duration": 24266,
    "start_time": "2022-11-12T18:10:43.945Z"
   },
   {
    "duration": 18,
    "start_time": "2022-11-12T18:11:08.213Z"
   },
   {
    "duration": 37,
    "start_time": "2022-11-12T18:11:08.234Z"
   },
   {
    "duration": 445,
    "start_time": "2022-11-12T18:11:08.274Z"
   },
   {
    "duration": 10048,
    "start_time": "2022-11-12T18:11:08.721Z"
   },
   {
    "duration": 1064,
    "start_time": "2022-11-12T18:11:18.771Z"
   },
   {
    "duration": 21,
    "start_time": "2022-11-12T18:11:19.837Z"
   },
   {
    "duration": 2881,
    "start_time": "2022-11-12T18:11:19.860Z"
   },
   {
    "duration": 22,
    "start_time": "2022-11-12T18:11:43.186Z"
   },
   {
    "duration": 278,
    "start_time": "2022-11-12T18:20:47.559Z"
   },
   {
    "duration": 1630,
    "start_time": "2022-11-12T18:25:16.764Z"
   },
   {
    "duration": 3,
    "start_time": "2022-11-12T18:25:18.396Z"
   },
   {
    "duration": 46,
    "start_time": "2022-11-12T18:25:18.401Z"
   },
   {
    "duration": 25,
    "start_time": "2022-11-12T18:25:18.449Z"
   },
   {
    "duration": 15,
    "start_time": "2022-11-12T18:25:18.478Z"
   },
   {
    "duration": 21,
    "start_time": "2022-11-12T18:25:18.496Z"
   },
   {
    "duration": 46,
    "start_time": "2022-11-12T18:25:18.519Z"
   },
   {
    "duration": 18,
    "start_time": "2022-11-12T18:25:18.567Z"
   },
   {
    "duration": 6,
    "start_time": "2022-11-12T18:25:18.587Z"
   },
   {
    "duration": 22,
    "start_time": "2022-11-12T18:25:18.595Z"
   },
   {
    "duration": 64,
    "start_time": "2022-11-12T18:25:18.620Z"
   },
   {
    "duration": 15,
    "start_time": "2022-11-12T18:25:18.686Z"
   },
   {
    "duration": 49,
    "start_time": "2022-11-12T18:25:18.704Z"
   },
   {
    "duration": 9,
    "start_time": "2022-11-12T18:25:18.757Z"
   },
   {
    "duration": 82,
    "start_time": "2022-11-12T18:25:18.768Z"
   },
   {
    "duration": 1116,
    "start_time": "2022-11-12T18:25:18.853Z"
   },
   {
    "duration": 40787,
    "start_time": "2022-11-12T18:25:19.971Z"
   },
   {
    "duration": 35,
    "start_time": "2022-11-12T18:26:00.760Z"
   },
   {
    "duration": 643,
    "start_time": "2022-11-12T18:26:00.852Z"
   },
   {
    "duration": 16908,
    "start_time": "2022-11-12T18:26:01.497Z"
   },
   {
    "duration": 16,
    "start_time": "2022-11-12T18:26:18.407Z"
   },
   {
    "duration": 132,
    "start_time": "2022-11-12T18:26:18.425Z"
   },
   {
    "duration": 802,
    "start_time": "2022-11-12T18:26:18.560Z"
   },
   {
    "duration": 23880,
    "start_time": "2022-11-12T18:26:19.364Z"
   },
   {
    "duration": 19,
    "start_time": "2022-11-12T18:26:43.245Z"
   },
   {
    "duration": 86,
    "start_time": "2022-11-12T18:26:43.266Z"
   },
   {
    "duration": 358,
    "start_time": "2022-11-12T18:26:43.356Z"
   },
   {
    "duration": 9670,
    "start_time": "2022-11-12T18:26:43.716Z"
   },
   {
    "duration": 913,
    "start_time": "2022-11-12T18:26:53.388Z"
   },
   {
    "duration": 10,
    "start_time": "2022-11-12T18:26:54.303Z"
   },
   {
    "duration": 278,
    "start_time": "2022-11-12T18:26:54.315Z"
   },
   {
    "duration": 207,
    "start_time": "2022-11-12T18:29:31.813Z"
   },
   {
    "duration": 1548,
    "start_time": "2022-11-12T20:39:57.628Z"
   },
   {
    "duration": 3,
    "start_time": "2022-11-12T20:39:59.178Z"
   },
   {
    "duration": 172,
    "start_time": "2022-11-12T20:39:59.183Z"
   },
   {
    "duration": 20,
    "start_time": "2022-11-12T20:39:59.357Z"
   },
   {
    "duration": 18,
    "start_time": "2022-11-12T20:39:59.380Z"
   },
   {
    "duration": 16,
    "start_time": "2022-11-12T20:39:59.400Z"
   },
   {
    "duration": 13,
    "start_time": "2022-11-12T20:39:59.418Z"
   },
   {
    "duration": 12,
    "start_time": "2022-11-12T20:39:59.433Z"
   },
   {
    "duration": 5,
    "start_time": "2022-11-12T20:39:59.446Z"
   },
   {
    "duration": 14,
    "start_time": "2022-11-12T20:39:59.453Z"
   },
   {
    "duration": 53,
    "start_time": "2022-11-12T20:39:59.469Z"
   },
   {
    "duration": 11,
    "start_time": "2022-11-12T20:39:59.523Z"
   },
   {
    "duration": 32,
    "start_time": "2022-11-12T20:39:59.536Z"
   },
   {
    "duration": 7,
    "start_time": "2022-11-12T20:39:59.570Z"
   },
   {
    "duration": 44,
    "start_time": "2022-11-12T20:39:59.579Z"
   },
   {
    "duration": 952,
    "start_time": "2022-11-12T20:39:59.625Z"
   },
   {
    "duration": 33853,
    "start_time": "2022-11-12T20:40:00.579Z"
   },
   {
    "duration": 26,
    "start_time": "2022-11-12T20:40:34.433Z"
   },
   {
    "duration": 622,
    "start_time": "2022-11-12T20:40:34.460Z"
   },
   {
    "duration": 15237,
    "start_time": "2022-11-12T20:40:35.084Z"
   },
   {
    "duration": 14,
    "start_time": "2022-11-12T20:40:50.323Z"
   },
   {
    "duration": 82,
    "start_time": "2022-11-12T20:40:50.339Z"
   },
   {
    "duration": 683,
    "start_time": "2022-11-12T20:40:50.422Z"
   },
   {
    "duration": 20498,
    "start_time": "2022-11-12T20:40:51.107Z"
   },
   {
    "duration": 14,
    "start_time": "2022-11-12T20:41:11.607Z"
   },
   {
    "duration": 20,
    "start_time": "2022-11-12T20:41:11.623Z"
   },
   {
    "duration": 328,
    "start_time": "2022-11-12T20:41:11.721Z"
   },
   {
    "duration": 8496,
    "start_time": "2022-11-12T20:41:12.051Z"
   },
   {
    "duration": 801,
    "start_time": "2022-11-12T20:41:20.548Z"
   },
   {
    "duration": 401,
    "start_time": "2022-11-12T20:41:21.351Z"
   },
   {
    "duration": 732,
    "start_time": "2022-11-12T20:45:22.626Z"
   },
   {
    "duration": 78495,
    "start_time": "2022-11-12T20:45:50.337Z"
   },
   {
    "duration": 1233,
    "start_time": "2022-11-12T20:47:25.539Z"
   },
   {
    "duration": 1524,
    "start_time": "2022-11-12T20:51:07.799Z"
   },
   {
    "duration": 0,
    "start_time": "2022-11-12T20:51:09.326Z"
   },
   {
    "duration": 0,
    "start_time": "2022-11-12T20:51:09.327Z"
   },
   {
    "duration": 0,
    "start_time": "2022-11-12T20:51:09.328Z"
   },
   {
    "duration": 0,
    "start_time": "2022-11-12T20:51:09.330Z"
   },
   {
    "duration": 0,
    "start_time": "2022-11-12T20:51:09.331Z"
   },
   {
    "duration": 0,
    "start_time": "2022-11-12T20:51:09.333Z"
   },
   {
    "duration": 0,
    "start_time": "2022-11-12T20:51:09.334Z"
   },
   {
    "duration": 0,
    "start_time": "2022-11-12T20:51:09.335Z"
   },
   {
    "duration": 0,
    "start_time": "2022-11-12T20:51:09.337Z"
   },
   {
    "duration": 0,
    "start_time": "2022-11-12T20:51:09.338Z"
   },
   {
    "duration": 0,
    "start_time": "2022-11-12T20:51:09.339Z"
   },
   {
    "duration": 0,
    "start_time": "2022-11-12T20:51:09.340Z"
   },
   {
    "duration": 0,
    "start_time": "2022-11-12T20:51:09.341Z"
   },
   {
    "duration": 0,
    "start_time": "2022-11-12T20:51:09.342Z"
   },
   {
    "duration": 0,
    "start_time": "2022-11-12T20:51:09.343Z"
   },
   {
    "duration": 0,
    "start_time": "2022-11-12T20:51:09.344Z"
   },
   {
    "duration": 0,
    "start_time": "2022-11-12T20:51:09.345Z"
   },
   {
    "duration": 0,
    "start_time": "2022-11-12T20:51:09.346Z"
   },
   {
    "duration": 0,
    "start_time": "2022-11-12T20:51:09.347Z"
   },
   {
    "duration": 0,
    "start_time": "2022-11-12T20:51:09.348Z"
   },
   {
    "duration": 0,
    "start_time": "2022-11-12T20:51:09.349Z"
   },
   {
    "duration": 0,
    "start_time": "2022-11-12T20:51:09.350Z"
   },
   {
    "duration": 0,
    "start_time": "2022-11-12T20:51:09.351Z"
   },
   {
    "duration": 0,
    "start_time": "2022-11-12T20:51:09.352Z"
   },
   {
    "duration": 0,
    "start_time": "2022-11-12T20:51:09.353Z"
   },
   {
    "duration": 0,
    "start_time": "2022-11-12T20:51:09.354Z"
   },
   {
    "duration": 0,
    "start_time": "2022-11-12T20:51:09.356Z"
   },
   {
    "duration": 0,
    "start_time": "2022-11-12T20:51:09.357Z"
   },
   {
    "duration": 0,
    "start_time": "2022-11-12T20:51:09.358Z"
   },
   {
    "duration": 0,
    "start_time": "2022-11-12T20:51:09.360Z"
   },
   {
    "duration": 16,
    "start_time": "2022-11-12T20:52:15.288Z"
   },
   {
    "duration": 1465,
    "start_time": "2022-11-12T20:53:32.779Z"
   },
   {
    "duration": 3,
    "start_time": "2022-11-12T20:53:34.246Z"
   },
   {
    "duration": 58,
    "start_time": "2022-11-12T20:53:34.251Z"
   },
   {
    "duration": 21,
    "start_time": "2022-11-12T20:53:34.312Z"
   },
   {
    "duration": 42,
    "start_time": "2022-11-12T20:53:34.335Z"
   },
   {
    "duration": 27,
    "start_time": "2022-11-12T20:53:34.379Z"
   },
   {
    "duration": 35,
    "start_time": "2022-11-12T20:53:34.408Z"
   },
   {
    "duration": 28,
    "start_time": "2022-11-12T20:53:34.446Z"
   },
   {
    "duration": 12,
    "start_time": "2022-11-12T20:53:34.476Z"
   },
   {
    "duration": 17,
    "start_time": "2022-11-12T20:53:34.491Z"
   },
   {
    "duration": 40,
    "start_time": "2022-11-12T20:53:34.509Z"
   },
   {
    "duration": 11,
    "start_time": "2022-11-12T20:53:34.551Z"
   },
   {
    "duration": 41,
    "start_time": "2022-11-12T20:53:34.564Z"
   },
   {
    "duration": 8,
    "start_time": "2022-11-12T20:53:34.606Z"
   },
   {
    "duration": 33,
    "start_time": "2022-11-12T20:53:34.615Z"
   },
   {
    "duration": 937,
    "start_time": "2022-11-12T20:53:34.650Z"
   },
   {
    "duration": 34926,
    "start_time": "2022-11-12T20:53:35.589Z"
   },
   {
    "duration": 26,
    "start_time": "2022-11-12T20:54:10.516Z"
   },
   {
    "duration": 662,
    "start_time": "2022-11-12T20:54:10.544Z"
   },
   {
    "duration": 14904,
    "start_time": "2022-11-12T20:54:11.208Z"
   },
   {
    "duration": 13,
    "start_time": "2022-11-12T20:54:26.119Z"
   },
   {
    "duration": 89,
    "start_time": "2022-11-12T20:54:26.134Z"
   },
   {
    "duration": 734,
    "start_time": "2022-11-12T20:54:26.225Z"
   },
   {
    "duration": 81722,
    "start_time": "2022-11-12T20:54:26.960Z"
   },
   {
    "duration": 17,
    "start_time": "2022-11-12T20:55:48.684Z"
   },
   {
    "duration": 119,
    "start_time": "2022-11-12T20:55:48.703Z"
   },
   {
    "duration": 342,
    "start_time": "2022-11-12T20:55:48.824Z"
   },
   {
    "duration": 8818,
    "start_time": "2022-11-12T20:55:49.169Z"
   },
   {
    "duration": 812,
    "start_time": "2022-11-12T20:55:57.989Z"
   },
   {
    "duration": 41,
    "start_time": "2022-11-12T20:55:58.803Z"
   },
   {
    "duration": 0,
    "start_time": "2022-11-12T20:55:58.846Z"
   },
   {
    "duration": 1756,
    "start_time": "2022-11-12T20:56:34.520Z"
   },
   {
    "duration": 1394,
    "start_time": "2023-01-19T07:26:14.033Z"
   },
   {
    "duration": 3,
    "start_time": "2023-01-19T07:26:15.429Z"
   },
   {
    "duration": 87,
    "start_time": "2023-01-19T07:26:15.434Z"
   },
   {
    "duration": 18,
    "start_time": "2023-01-19T07:26:15.523Z"
   },
   {
    "duration": 13,
    "start_time": "2023-01-19T07:26:15.543Z"
   },
   {
    "duration": 14,
    "start_time": "2023-01-19T07:26:15.558Z"
   },
   {
    "duration": 29,
    "start_time": "2023-01-19T07:26:15.574Z"
   },
   {
    "duration": 13,
    "start_time": "2023-01-19T07:26:15.605Z"
   },
   {
    "duration": 5,
    "start_time": "2023-01-19T07:26:15.620Z"
   },
   {
    "duration": 13,
    "start_time": "2023-01-19T07:26:15.627Z"
   },
   {
    "duration": 26,
    "start_time": "2023-01-19T07:26:15.642Z"
   },
   {
    "duration": 39,
    "start_time": "2023-01-19T07:26:15.669Z"
   },
   {
    "duration": 21,
    "start_time": "2023-01-19T07:26:15.710Z"
   },
   {
    "duration": 7,
    "start_time": "2023-01-19T07:26:15.734Z"
   },
   {
    "duration": 69,
    "start_time": "2023-01-19T07:26:15.742Z"
   },
   {
    "duration": 919,
    "start_time": "2023-01-19T07:26:15.813Z"
   },
   {
    "duration": 62812,
    "start_time": "2023-01-19T07:26:16.734Z"
   },
   {
    "duration": 77,
    "start_time": "2023-01-19T07:27:19.547Z"
   },
   {
    "duration": 1092,
    "start_time": "2023-01-19T07:27:19.626Z"
   },
   {
    "duration": 34584,
    "start_time": "2023-01-19T07:27:20.720Z"
   },
   {
    "duration": 17,
    "start_time": "2023-01-19T07:27:55.306Z"
   },
   {
    "duration": 180,
    "start_time": "2023-01-19T07:27:55.326Z"
   },
   {
    "duration": 1241,
    "start_time": "2023-01-19T07:27:55.508Z"
   },
   {
    "duration": 171601,
    "start_time": "2023-01-19T07:27:56.803Z"
   },
   {
    "duration": 13,
    "start_time": "2023-01-19T07:30:48.406Z"
   },
   {
    "duration": 182,
    "start_time": "2023-01-19T07:30:48.421Z"
   },
   {
    "duration": 543,
    "start_time": "2023-01-19T07:30:48.606Z"
   },
   {
    "duration": 18521,
    "start_time": "2023-01-19T07:30:49.203Z"
   },
   {
    "duration": 1520,
    "start_time": "2023-01-19T07:31:07.728Z"
   },
   {
    "duration": 3142,
    "start_time": "2023-01-19T07:31:09.302Z"
   }
  ],
  "kernelspec": {
   "display_name": "Python 3 (ipykernel)",
   "language": "python",
   "name": "python3"
  },
  "language_info": {
   "codemirror_mode": {
    "name": "ipython",
    "version": 3
   },
   "file_extension": ".py",
   "mimetype": "text/x-python",
   "name": "python",
   "nbconvert_exporter": "python",
   "pygments_lexer": "ipython3",
   "version": "3.9.12"
  },
  "toc": {
   "base_numbering": 1,
   "nav_menu": {},
   "number_sections": true,
   "sideBar": true,
   "skip_h1_title": true,
   "title_cell": "Содержание",
   "title_sidebar": "Contents",
   "toc_cell": true,
   "toc_position": {},
   "toc_section_display": true,
   "toc_window_display": false
  }
 },
 "nbformat": 4,
 "nbformat_minor": 2
}
