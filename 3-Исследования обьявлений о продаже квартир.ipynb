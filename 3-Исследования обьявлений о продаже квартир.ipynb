{
 "cells": [
  {
   "cell_type": "markdown",
   "metadata": {},
   "source": [
    "# Исследование объявлений о продаже квартир\n",
    "\n",
    "В моем распоряжении данные сервиса Яндекс.Недвижимость — архив объявлений о продаже квартир в Санкт-Петербурге и соседних населённых пунктов за несколько лет. Нужно научиться определять рыночную стоимость объектов недвижимости. Ваша задача — установить параметры. Это позволит построить автоматизированную систему: она отследит аномалии и мошенническую деятельность. \n",
    "\n",
    "По каждой квартире на продажу доступны два вида данных. Первые вписаны пользователем, вторые — получены автоматически на основе картографических данных. Например, расстояние до центра, аэропорта, ближайшего парка и водоёма. "
   ]
  },
  {
   "cell_type": "markdown",
   "metadata": {},
   "source": [
    "### Откройте файл с данными и изучите общую информацию. "
   ]
  },
  {
   "cell_type": "code",
   "execution_count": 1,
   "metadata": {},
   "outputs": [
    {
     "data": {
      "text/html": [
       "<div>\n",
       "<style scoped>\n",
       "    .dataframe tbody tr th:only-of-type {\n",
       "        vertical-align: middle;\n",
       "    }\n",
       "\n",
       "    .dataframe tbody tr th {\n",
       "        vertical-align: top;\n",
       "    }\n",
       "\n",
       "    .dataframe thead th {\n",
       "        text-align: right;\n",
       "    }\n",
       "</style>\n",
       "<table border=\"1\" class=\"dataframe\">\n",
       "  <thead>\n",
       "    <tr style=\"text-align: right;\">\n",
       "      <th></th>\n",
       "      <th>total_images</th>\n",
       "      <th>last_price</th>\n",
       "      <th>total_area</th>\n",
       "      <th>first_day_exposition</th>\n",
       "      <th>rooms</th>\n",
       "      <th>ceiling_height</th>\n",
       "      <th>floors_total</th>\n",
       "      <th>living_area</th>\n",
       "      <th>floor</th>\n",
       "      <th>is_apartment</th>\n",
       "      <th>...</th>\n",
       "      <th>kitchen_area</th>\n",
       "      <th>balcony</th>\n",
       "      <th>locality_name</th>\n",
       "      <th>airports_nearest</th>\n",
       "      <th>cityCenters_nearest</th>\n",
       "      <th>parks_around3000</th>\n",
       "      <th>parks_nearest</th>\n",
       "      <th>ponds_around3000</th>\n",
       "      <th>ponds_nearest</th>\n",
       "      <th>days_exposition</th>\n",
       "    </tr>\n",
       "  </thead>\n",
       "  <tbody>\n",
       "    <tr>\n",
       "      <th>0</th>\n",
       "      <td>20</td>\n",
       "      <td>13000000.0</td>\n",
       "      <td>108.00</td>\n",
       "      <td>2019-03-07T00:00:00</td>\n",
       "      <td>3</td>\n",
       "      <td>2.70</td>\n",
       "      <td>16.0</td>\n",
       "      <td>51.0</td>\n",
       "      <td>8</td>\n",
       "      <td>NaN</td>\n",
       "      <td>...</td>\n",
       "      <td>25.00</td>\n",
       "      <td>NaN</td>\n",
       "      <td>Санкт-Петербург</td>\n",
       "      <td>18863.0</td>\n",
       "      <td>16028.0</td>\n",
       "      <td>1.0</td>\n",
       "      <td>482.0</td>\n",
       "      <td>2.0</td>\n",
       "      <td>755.0</td>\n",
       "      <td>NaN</td>\n",
       "    </tr>\n",
       "    <tr>\n",
       "      <th>1</th>\n",
       "      <td>7</td>\n",
       "      <td>3350000.0</td>\n",
       "      <td>40.40</td>\n",
       "      <td>2018-12-04T00:00:00</td>\n",
       "      <td>1</td>\n",
       "      <td>NaN</td>\n",
       "      <td>11.0</td>\n",
       "      <td>18.6</td>\n",
       "      <td>1</td>\n",
       "      <td>NaN</td>\n",
       "      <td>...</td>\n",
       "      <td>11.00</td>\n",
       "      <td>2.0</td>\n",
       "      <td>посёлок Шушары</td>\n",
       "      <td>12817.0</td>\n",
       "      <td>18603.0</td>\n",
       "      <td>0.0</td>\n",
       "      <td>NaN</td>\n",
       "      <td>0.0</td>\n",
       "      <td>NaN</td>\n",
       "      <td>81.0</td>\n",
       "    </tr>\n",
       "    <tr>\n",
       "      <th>2</th>\n",
       "      <td>10</td>\n",
       "      <td>5196000.0</td>\n",
       "      <td>56.00</td>\n",
       "      <td>2015-08-20T00:00:00</td>\n",
       "      <td>2</td>\n",
       "      <td>NaN</td>\n",
       "      <td>5.0</td>\n",
       "      <td>34.3</td>\n",
       "      <td>4</td>\n",
       "      <td>NaN</td>\n",
       "      <td>...</td>\n",
       "      <td>8.30</td>\n",
       "      <td>0.0</td>\n",
       "      <td>Санкт-Петербург</td>\n",
       "      <td>21741.0</td>\n",
       "      <td>13933.0</td>\n",
       "      <td>1.0</td>\n",
       "      <td>90.0</td>\n",
       "      <td>2.0</td>\n",
       "      <td>574.0</td>\n",
       "      <td>558.0</td>\n",
       "    </tr>\n",
       "    <tr>\n",
       "      <th>3</th>\n",
       "      <td>0</td>\n",
       "      <td>64900000.0</td>\n",
       "      <td>159.00</td>\n",
       "      <td>2015-07-24T00:00:00</td>\n",
       "      <td>3</td>\n",
       "      <td>NaN</td>\n",
       "      <td>14.0</td>\n",
       "      <td>NaN</td>\n",
       "      <td>9</td>\n",
       "      <td>NaN</td>\n",
       "      <td>...</td>\n",
       "      <td>NaN</td>\n",
       "      <td>0.0</td>\n",
       "      <td>Санкт-Петербург</td>\n",
       "      <td>28098.0</td>\n",
       "      <td>6800.0</td>\n",
       "      <td>2.0</td>\n",
       "      <td>84.0</td>\n",
       "      <td>3.0</td>\n",
       "      <td>234.0</td>\n",
       "      <td>424.0</td>\n",
       "    </tr>\n",
       "    <tr>\n",
       "      <th>4</th>\n",
       "      <td>2</td>\n",
       "      <td>10000000.0</td>\n",
       "      <td>100.00</td>\n",
       "      <td>2018-06-19T00:00:00</td>\n",
       "      <td>2</td>\n",
       "      <td>3.03</td>\n",
       "      <td>14.0</td>\n",
       "      <td>32.0</td>\n",
       "      <td>13</td>\n",
       "      <td>NaN</td>\n",
       "      <td>...</td>\n",
       "      <td>41.00</td>\n",
       "      <td>NaN</td>\n",
       "      <td>Санкт-Петербург</td>\n",
       "      <td>31856.0</td>\n",
       "      <td>8098.0</td>\n",
       "      <td>2.0</td>\n",
       "      <td>112.0</td>\n",
       "      <td>1.0</td>\n",
       "      <td>48.0</td>\n",
       "      <td>121.0</td>\n",
       "    </tr>\n",
       "    <tr>\n",
       "      <th>...</th>\n",
       "      <td>...</td>\n",
       "      <td>...</td>\n",
       "      <td>...</td>\n",
       "      <td>...</td>\n",
       "      <td>...</td>\n",
       "      <td>...</td>\n",
       "      <td>...</td>\n",
       "      <td>...</td>\n",
       "      <td>...</td>\n",
       "      <td>...</td>\n",
       "      <td>...</td>\n",
       "      <td>...</td>\n",
       "      <td>...</td>\n",
       "      <td>...</td>\n",
       "      <td>...</td>\n",
       "      <td>...</td>\n",
       "      <td>...</td>\n",
       "      <td>...</td>\n",
       "      <td>...</td>\n",
       "      <td>...</td>\n",
       "      <td>...</td>\n",
       "    </tr>\n",
       "    <tr>\n",
       "      <th>23694</th>\n",
       "      <td>9</td>\n",
       "      <td>9700000.0</td>\n",
       "      <td>133.81</td>\n",
       "      <td>2017-03-21T00:00:00</td>\n",
       "      <td>3</td>\n",
       "      <td>3.70</td>\n",
       "      <td>5.0</td>\n",
       "      <td>73.3</td>\n",
       "      <td>3</td>\n",
       "      <td>NaN</td>\n",
       "      <td>...</td>\n",
       "      <td>13.83</td>\n",
       "      <td>NaN</td>\n",
       "      <td>Санкт-Петербург</td>\n",
       "      <td>24665.0</td>\n",
       "      <td>4232.0</td>\n",
       "      <td>1.0</td>\n",
       "      <td>796.0</td>\n",
       "      <td>3.0</td>\n",
       "      <td>381.0</td>\n",
       "      <td>NaN</td>\n",
       "    </tr>\n",
       "    <tr>\n",
       "      <th>23695</th>\n",
       "      <td>14</td>\n",
       "      <td>3100000.0</td>\n",
       "      <td>59.00</td>\n",
       "      <td>2018-01-15T00:00:00</td>\n",
       "      <td>3</td>\n",
       "      <td>NaN</td>\n",
       "      <td>5.0</td>\n",
       "      <td>38.0</td>\n",
       "      <td>4</td>\n",
       "      <td>NaN</td>\n",
       "      <td>...</td>\n",
       "      <td>8.50</td>\n",
       "      <td>NaN</td>\n",
       "      <td>Тосно</td>\n",
       "      <td>NaN</td>\n",
       "      <td>NaN</td>\n",
       "      <td>NaN</td>\n",
       "      <td>NaN</td>\n",
       "      <td>NaN</td>\n",
       "      <td>NaN</td>\n",
       "      <td>45.0</td>\n",
       "    </tr>\n",
       "    <tr>\n",
       "      <th>23696</th>\n",
       "      <td>18</td>\n",
       "      <td>2500000.0</td>\n",
       "      <td>56.70</td>\n",
       "      <td>2018-02-11T00:00:00</td>\n",
       "      <td>2</td>\n",
       "      <td>NaN</td>\n",
       "      <td>3.0</td>\n",
       "      <td>29.7</td>\n",
       "      <td>1</td>\n",
       "      <td>NaN</td>\n",
       "      <td>...</td>\n",
       "      <td>NaN</td>\n",
       "      <td>NaN</td>\n",
       "      <td>село Рождествено</td>\n",
       "      <td>NaN</td>\n",
       "      <td>NaN</td>\n",
       "      <td>NaN</td>\n",
       "      <td>NaN</td>\n",
       "      <td>NaN</td>\n",
       "      <td>NaN</td>\n",
       "      <td>NaN</td>\n",
       "    </tr>\n",
       "    <tr>\n",
       "      <th>23697</th>\n",
       "      <td>13</td>\n",
       "      <td>11475000.0</td>\n",
       "      <td>76.75</td>\n",
       "      <td>2017-03-28T00:00:00</td>\n",
       "      <td>2</td>\n",
       "      <td>3.00</td>\n",
       "      <td>17.0</td>\n",
       "      <td>NaN</td>\n",
       "      <td>12</td>\n",
       "      <td>NaN</td>\n",
       "      <td>...</td>\n",
       "      <td>23.30</td>\n",
       "      <td>2.0</td>\n",
       "      <td>Санкт-Петербург</td>\n",
       "      <td>39140.0</td>\n",
       "      <td>10364.0</td>\n",
       "      <td>2.0</td>\n",
       "      <td>173.0</td>\n",
       "      <td>3.0</td>\n",
       "      <td>196.0</td>\n",
       "      <td>602.0</td>\n",
       "    </tr>\n",
       "    <tr>\n",
       "      <th>23698</th>\n",
       "      <td>4</td>\n",
       "      <td>1350000.0</td>\n",
       "      <td>32.30</td>\n",
       "      <td>2017-07-21T00:00:00</td>\n",
       "      <td>1</td>\n",
       "      <td>2.50</td>\n",
       "      <td>5.0</td>\n",
       "      <td>12.3</td>\n",
       "      <td>1</td>\n",
       "      <td>NaN</td>\n",
       "      <td>...</td>\n",
       "      <td>9.00</td>\n",
       "      <td>NaN</td>\n",
       "      <td>поселок Новый Учхоз</td>\n",
       "      <td>NaN</td>\n",
       "      <td>NaN</td>\n",
       "      <td>NaN</td>\n",
       "      <td>NaN</td>\n",
       "      <td>NaN</td>\n",
       "      <td>NaN</td>\n",
       "      <td>NaN</td>\n",
       "    </tr>\n",
       "  </tbody>\n",
       "</table>\n",
       "<p>23699 rows × 22 columns</p>\n",
       "</div>"
      ],
      "text/plain": [
       "       total_images  last_price  total_area first_day_exposition  rooms  \\\n",
       "0                20  13000000.0      108.00  2019-03-07T00:00:00      3   \n",
       "1                 7   3350000.0       40.40  2018-12-04T00:00:00      1   \n",
       "2                10   5196000.0       56.00  2015-08-20T00:00:00      2   \n",
       "3                 0  64900000.0      159.00  2015-07-24T00:00:00      3   \n",
       "4                 2  10000000.0      100.00  2018-06-19T00:00:00      2   \n",
       "...             ...         ...         ...                  ...    ...   \n",
       "23694             9   9700000.0      133.81  2017-03-21T00:00:00      3   \n",
       "23695            14   3100000.0       59.00  2018-01-15T00:00:00      3   \n",
       "23696            18   2500000.0       56.70  2018-02-11T00:00:00      2   \n",
       "23697            13  11475000.0       76.75  2017-03-28T00:00:00      2   \n",
       "23698             4   1350000.0       32.30  2017-07-21T00:00:00      1   \n",
       "\n",
       "       ceiling_height  floors_total  living_area  floor is_apartment  ...  \\\n",
       "0                2.70          16.0         51.0      8          NaN  ...   \n",
       "1                 NaN          11.0         18.6      1          NaN  ...   \n",
       "2                 NaN           5.0         34.3      4          NaN  ...   \n",
       "3                 NaN          14.0          NaN      9          NaN  ...   \n",
       "4                3.03          14.0         32.0     13          NaN  ...   \n",
       "...               ...           ...          ...    ...          ...  ...   \n",
       "23694            3.70           5.0         73.3      3          NaN  ...   \n",
       "23695             NaN           5.0         38.0      4          NaN  ...   \n",
       "23696             NaN           3.0         29.7      1          NaN  ...   \n",
       "23697            3.00          17.0          NaN     12          NaN  ...   \n",
       "23698            2.50           5.0         12.3      1          NaN  ...   \n",
       "\n",
       "       kitchen_area  balcony        locality_name  airports_nearest  \\\n",
       "0             25.00      NaN      Санкт-Петербург           18863.0   \n",
       "1             11.00      2.0       посёлок Шушары           12817.0   \n",
       "2              8.30      0.0      Санкт-Петербург           21741.0   \n",
       "3               NaN      0.0      Санкт-Петербург           28098.0   \n",
       "4             41.00      NaN      Санкт-Петербург           31856.0   \n",
       "...             ...      ...                  ...               ...   \n",
       "23694         13.83      NaN      Санкт-Петербург           24665.0   \n",
       "23695          8.50      NaN                Тосно               NaN   \n",
       "23696           NaN      NaN     село Рождествено               NaN   \n",
       "23697         23.30      2.0      Санкт-Петербург           39140.0   \n",
       "23698          9.00      NaN  поселок Новый Учхоз               NaN   \n",
       "\n",
       "      cityCenters_nearest  parks_around3000  parks_nearest  ponds_around3000  \\\n",
       "0                 16028.0               1.0          482.0               2.0   \n",
       "1                 18603.0               0.0            NaN               0.0   \n",
       "2                 13933.0               1.0           90.0               2.0   \n",
       "3                  6800.0               2.0           84.0               3.0   \n",
       "4                  8098.0               2.0          112.0               1.0   \n",
       "...                   ...               ...            ...               ...   \n",
       "23694              4232.0               1.0          796.0               3.0   \n",
       "23695                 NaN               NaN            NaN               NaN   \n",
       "23696                 NaN               NaN            NaN               NaN   \n",
       "23697             10364.0               2.0          173.0               3.0   \n",
       "23698                 NaN               NaN            NaN               NaN   \n",
       "\n",
       "       ponds_nearest  days_exposition  \n",
       "0              755.0              NaN  \n",
       "1                NaN             81.0  \n",
       "2              574.0            558.0  \n",
       "3              234.0            424.0  \n",
       "4               48.0            121.0  \n",
       "...              ...              ...  \n",
       "23694          381.0              NaN  \n",
       "23695            NaN             45.0  \n",
       "23696            NaN              NaN  \n",
       "23697          196.0            602.0  \n",
       "23698            NaN              NaN  \n",
       "\n",
       "[23699 rows x 22 columns]"
      ]
     },
     "execution_count": 1,
     "metadata": {},
     "output_type": "execute_result"
    }
   ],
   "source": [
    "import pandas as pd \n",
    "import matplotlib.pyplot as plt\n",
    "import numpy as np\n",
    "data = pd.read_csv('/datasets/real_estate_data.csv', sep='\\t') \n",
    "data \n"
   ]
  },
  {
   "cell_type": "code",
   "execution_count": 2,
   "metadata": {},
   "outputs": [
    {
     "name": "stdout",
     "output_type": "stream",
     "text": [
      "<class 'pandas.core.frame.DataFrame'>\n",
      "RangeIndex: 23699 entries, 0 to 23698\n",
      "Data columns (total 22 columns):\n",
      " #   Column                Non-Null Count  Dtype  \n",
      "---  ------                --------------  -----  \n",
      " 0   total_images          23699 non-null  int64  \n",
      " 1   last_price            23699 non-null  float64\n",
      " 2   total_area            23699 non-null  float64\n",
      " 3   first_day_exposition  23699 non-null  object \n",
      " 4   rooms                 23699 non-null  int64  \n",
      " 5   ceiling_height        14504 non-null  float64\n",
      " 6   floors_total          23613 non-null  float64\n",
      " 7   living_area           21796 non-null  float64\n",
      " 8   floor                 23699 non-null  int64  \n",
      " 9   is_apartment          2775 non-null   object \n",
      " 10  studio                23699 non-null  bool   \n",
      " 11  open_plan             23699 non-null  bool   \n",
      " 12  kitchen_area          21421 non-null  float64\n",
      " 13  balcony               12180 non-null  float64\n",
      " 14  locality_name         23650 non-null  object \n",
      " 15  airports_nearest      18157 non-null  float64\n",
      " 16  cityCenters_nearest   18180 non-null  float64\n",
      " 17  parks_around3000      18181 non-null  float64\n",
      " 18  parks_nearest         8079 non-null   float64\n",
      " 19  ponds_around3000      18181 non-null  float64\n",
      " 20  ponds_nearest         9110 non-null   float64\n",
      " 21  days_exposition       20518 non-null  float64\n",
      "dtypes: bool(2), float64(14), int64(3), object(3)\n",
      "memory usage: 3.7+ MB\n"
     ]
    }
   ],
   "source": [
    "data.info() "
   ]
  },
  {
   "cell_type": "code",
   "execution_count": 3,
   "metadata": {},
   "outputs": [
    {
     "data": {
      "image/png": "[encoded data removed]",
      "text/plain": [
       "<Figure size 1080x1440 with 20 Axes>"
      ]
     },
     "metadata": {
      "needs_background": "light"
     },
     "output_type": "display_data"
    }
   ],
   "source": [
    "data.hist(figsize=(15, 20)); "
   ]
  },
  {
   "cell_type": "code",
   "execution_count": 4,
   "metadata": {},
   "outputs": [
    {
     "data": {
      "text/html": [
       "<div>\n",
       "<style scoped>\n",
       "    .dataframe tbody tr th:only-of-type {\n",
       "        vertical-align: middle;\n",
       "    }\n",
       "\n",
       "    .dataframe tbody tr th {\n",
       "        vertical-align: top;\n",
       "    }\n",
       "\n",
       "    .dataframe thead th {\n",
       "        text-align: right;\n",
       "    }\n",
       "</style>\n",
       "<table border=\"1\" class=\"dataframe\">\n",
       "  <thead>\n",
       "    <tr style=\"text-align: right;\">\n",
       "      <th></th>\n",
       "      <th>total_images</th>\n",
       "      <th>last_price</th>\n",
       "      <th>total_area</th>\n",
       "      <th>rooms</th>\n",
       "      <th>ceiling_height</th>\n",
       "      <th>floors_total</th>\n",
       "      <th>living_area</th>\n",
       "      <th>floor</th>\n",
       "      <th>kitchen_area</th>\n",
       "      <th>balcony</th>\n",
       "      <th>airports_nearest</th>\n",
       "      <th>cityCenters_nearest</th>\n",
       "      <th>parks_around3000</th>\n",
       "      <th>parks_nearest</th>\n",
       "      <th>ponds_around3000</th>\n",
       "      <th>ponds_nearest</th>\n",
       "      <th>days_exposition</th>\n",
       "    </tr>\n",
       "  </thead>\n",
       "  <tbody>\n",
       "    <tr>\n",
       "      <th>count</th>\n",
       "      <td>23699.000000</td>\n",
       "      <td>2.369900e+04</td>\n",
       "      <td>23699.000000</td>\n",
       "      <td>23699.000000</td>\n",
       "      <td>14504.000000</td>\n",
       "      <td>23613.000000</td>\n",
       "      <td>21796.000000</td>\n",
       "      <td>23699.000000</td>\n",
       "      <td>21421.000000</td>\n",
       "      <td>12180.000000</td>\n",
       "      <td>18157.000000</td>\n",
       "      <td>18180.000000</td>\n",
       "      <td>18181.000000</td>\n",
       "      <td>8079.000000</td>\n",
       "      <td>18181.000000</td>\n",
       "      <td>9110.000000</td>\n",
       "      <td>20518.000000</td>\n",
       "    </tr>\n",
       "    <tr>\n",
       "      <th>mean</th>\n",
       "      <td>9.858475</td>\n",
       "      <td>6.541549e+06</td>\n",
       "      <td>60.348651</td>\n",
       "      <td>2.070636</td>\n",
       "      <td>2.771499</td>\n",
       "      <td>10.673824</td>\n",
       "      <td>34.457852</td>\n",
       "      <td>5.892358</td>\n",
       "      <td>10.569807</td>\n",
       "      <td>1.150082</td>\n",
       "      <td>28793.672193</td>\n",
       "      <td>14191.277833</td>\n",
       "      <td>0.611408</td>\n",
       "      <td>490.804555</td>\n",
       "      <td>0.770255</td>\n",
       "      <td>517.980900</td>\n",
       "      <td>180.888634</td>\n",
       "    </tr>\n",
       "    <tr>\n",
       "      <th>std</th>\n",
       "      <td>5.682529</td>\n",
       "      <td>1.088701e+07</td>\n",
       "      <td>35.654083</td>\n",
       "      <td>1.078405</td>\n",
       "      <td>1.261056</td>\n",
       "      <td>6.597173</td>\n",
       "      <td>22.030445</td>\n",
       "      <td>4.885249</td>\n",
       "      <td>5.905438</td>\n",
       "      <td>1.071300</td>\n",
       "      <td>12630.880622</td>\n",
       "      <td>8608.386210</td>\n",
       "      <td>0.802074</td>\n",
       "      <td>342.317995</td>\n",
       "      <td>0.938346</td>\n",
       "      <td>277.720643</td>\n",
       "      <td>219.727988</td>\n",
       "    </tr>\n",
       "    <tr>\n",
       "      <th>min</th>\n",
       "      <td>0.000000</td>\n",
       "      <td>1.219000e+04</td>\n",
       "      <td>12.000000</td>\n",
       "      <td>0.000000</td>\n",
       "      <td>1.000000</td>\n",
       "      <td>1.000000</td>\n",
       "      <td>2.000000</td>\n",
       "      <td>1.000000</td>\n",
       "      <td>1.300000</td>\n",
       "      <td>0.000000</td>\n",
       "      <td>0.000000</td>\n",
       "      <td>181.000000</td>\n",
       "      <td>0.000000</td>\n",
       "      <td>1.000000</td>\n",
       "      <td>0.000000</td>\n",
       "      <td>13.000000</td>\n",
       "      <td>1.000000</td>\n",
       "    </tr>\n",
       "    <tr>\n",
       "      <th>25%</th>\n",
       "      <td>6.000000</td>\n",
       "      <td>3.400000e+06</td>\n",
       "      <td>40.000000</td>\n",
       "      <td>1.000000</td>\n",
       "      <td>2.520000</td>\n",
       "      <td>5.000000</td>\n",
       "      <td>18.600000</td>\n",
       "      <td>2.000000</td>\n",
       "      <td>7.000000</td>\n",
       "      <td>0.000000</td>\n",
       "      <td>18585.000000</td>\n",
       "      <td>9238.000000</td>\n",
       "      <td>0.000000</td>\n",
       "      <td>288.000000</td>\n",
       "      <td>0.000000</td>\n",
       "      <td>294.000000</td>\n",
       "      <td>45.000000</td>\n",
       "    </tr>\n",
       "    <tr>\n",
       "      <th>50%</th>\n",
       "      <td>9.000000</td>\n",
       "      <td>4.650000e+06</td>\n",
       "      <td>52.000000</td>\n",
       "      <td>2.000000</td>\n",
       "      <td>2.650000</td>\n",
       "      <td>9.000000</td>\n",
       "      <td>30.000000</td>\n",
       "      <td>4.000000</td>\n",
       "      <td>9.100000</td>\n",
       "      <td>1.000000</td>\n",
       "      <td>26726.000000</td>\n",
       "      <td>13098.500000</td>\n",
       "      <td>0.000000</td>\n",
       "      <td>455.000000</td>\n",
       "      <td>1.000000</td>\n",
       "      <td>502.000000</td>\n",
       "      <td>95.000000</td>\n",
       "    </tr>\n",
       "    <tr>\n",
       "      <th>75%</th>\n",
       "      <td>14.000000</td>\n",
       "      <td>6.800000e+06</td>\n",
       "      <td>69.900000</td>\n",
       "      <td>3.000000</td>\n",
       "      <td>2.800000</td>\n",
       "      <td>16.000000</td>\n",
       "      <td>42.300000</td>\n",
       "      <td>8.000000</td>\n",
       "      <td>12.000000</td>\n",
       "      <td>2.000000</td>\n",
       "      <td>37273.000000</td>\n",
       "      <td>16293.000000</td>\n",
       "      <td>1.000000</td>\n",
       "      <td>612.000000</td>\n",
       "      <td>1.000000</td>\n",
       "      <td>729.000000</td>\n",
       "      <td>232.000000</td>\n",
       "    </tr>\n",
       "    <tr>\n",
       "      <th>max</th>\n",
       "      <td>50.000000</td>\n",
       "      <td>7.630000e+08</td>\n",
       "      <td>900.000000</td>\n",
       "      <td>19.000000</td>\n",
       "      <td>100.000000</td>\n",
       "      <td>60.000000</td>\n",
       "      <td>409.700000</td>\n",
       "      <td>33.000000</td>\n",
       "      <td>112.000000</td>\n",
       "      <td>5.000000</td>\n",
       "      <td>84869.000000</td>\n",
       "      <td>65968.000000</td>\n",
       "      <td>3.000000</td>\n",
       "      <td>3190.000000</td>\n",
       "      <td>3.000000</td>\n",
       "      <td>1344.000000</td>\n",
       "      <td>1580.000000</td>\n",
       "    </tr>\n",
       "  </tbody>\n",
       "</table>\n",
       "</div>"
      ],
      "text/plain": [
       "       total_images    last_price    total_area         rooms  ceiling_height  \\\n",
       "count  23699.000000  2.369900e+04  23699.000000  23699.000000    14504.000000   \n",
       "mean       9.858475  6.541549e+06     60.348651      2.070636        2.771499   \n",
       "std        5.682529  1.088701e+07     35.654083      1.078405        1.261056   \n",
       "min        0.000000  1.219000e+04     12.000000      0.000000        1.000000   \n",
       "25%        6.000000  3.400000e+06     40.000000      1.000000        2.520000   \n",
       "50%        9.000000  4.650000e+06     52.000000      2.000000        2.650000   \n",
       "75%       14.000000  6.800000e+06     69.900000      3.000000        2.800000   \n",
       "max       50.000000  7.630000e+08    900.000000     19.000000      100.000000   \n",
       "\n",
       "       floors_total   living_area         floor  kitchen_area       balcony  \\\n",
       "count  23613.000000  21796.000000  23699.000000  21421.000000  12180.000000   \n",
       "mean      10.673824     34.457852      5.892358     10.569807      1.150082   \n",
       "std        6.597173     22.030445      4.885249      5.905438      1.071300   \n",
       "min        1.000000      2.000000      1.000000      1.300000      0.000000   \n",
       "25%        5.000000     18.600000      2.000000      7.000000      0.000000   \n",
       "50%        9.000000     30.000000      4.000000      9.100000      1.000000   \n",
       "75%       16.000000     42.300000      8.000000     12.000000      2.000000   \n",
       "max       60.000000    409.700000     33.000000    112.000000      5.000000   \n",
       "\n",
       "       airports_nearest  cityCenters_nearest  parks_around3000  parks_nearest  \\\n",
       "count      18157.000000         18180.000000      18181.000000    8079.000000   \n",
       "mean       28793.672193         14191.277833          0.611408     490.804555   \n",
       "std        12630.880622          8608.386210          0.802074     342.317995   \n",
       "min            0.000000           181.000000          0.000000       1.000000   \n",
       "25%        18585.000000          9238.000000          0.000000     288.000000   \n",
       "50%        26726.000000         13098.500000          0.000000     455.000000   \n",
       "75%        37273.000000         16293.000000          1.000000     612.000000   \n",
       "max        84869.000000         65968.000000          3.000000    3190.000000   \n",
       "\n",
       "       ponds_around3000  ponds_nearest  days_exposition  \n",
       "count      18181.000000    9110.000000     20518.000000  \n",
       "mean           0.770255     517.980900       180.888634  \n",
       "std            0.938346     277.720643       219.727988  \n",
       "min            0.000000      13.000000         1.000000  \n",
       "25%            0.000000     294.000000        45.000000  \n",
       "50%            1.000000     502.000000        95.000000  \n",
       "75%            1.000000     729.000000       232.000000  \n",
       "max            3.000000    1344.000000      1580.000000  "
      ]
     },
     "execution_count": 4,
     "metadata": {},
     "output_type": "execute_result"
    }
   ],
   "source": [
    "data.describe()"
   ]
  },
  {
   "cell_type": "markdown",
   "metadata": {},
   "source": [
    "Вывод: Для корректного отображения информации в датафрейме необходио добавить разделитель. В дата фрейме есть пропущенные значения, неверный тип данных и аномальные значения."
   ]
  },
  {
   "cell_type": "markdown",
   "metadata": {},
   "source": [
    "### Предобработка данных"
   ]
  },
  {
   "cell_type": "code",
   "execution_count": 5,
   "metadata": {},
   "outputs": [
    {
     "data": {
      "text/html": [
       "<style  type=\"text/css\" >\n",
       "#T_bb17a_row0_col0,#T_bb17a_row1_col0,#T_bb17a_row2_col0,#T_bb17a_row3_col0,#T_bb17a_row4_col0,#T_bb17a_row6_col0,#T_bb17a_row8_col0,#T_bb17a_row10_col0,#T_bb17a_row11_col0,#T_bb17a_row14_col0{\n",
       "            background-color:  #3b4cc0;\n",
       "            color:  #f1f1f1;\n",
       "        }#T_bb17a_row5_col0{\n",
       "            background-color:  #cdd9ec;\n",
       "            color:  #000000;\n",
       "        }#T_bb17a_row7_col0{\n",
       "            background-color:  #5673e0;\n",
       "            color:  #000000;\n",
       "        }#T_bb17a_row9_col0{\n",
       "            background-color:  #b40426;\n",
       "            color:  #f1f1f1;\n",
       "        }#T_bb17a_row12_col0{\n",
       "            background-color:  #5e7de7;\n",
       "            color:  #000000;\n",
       "        }#T_bb17a_row13_col0{\n",
       "            background-color:  #ead4c8;\n",
       "            color:  #000000;\n",
       "        }#T_bb17a_row15_col0,#T_bb17a_row16_col0,#T_bb17a_row17_col0,#T_bb17a_row19_col0{\n",
       "            background-color:  #90b2fe;\n",
       "            color:  #000000;\n",
       "        }#T_bb17a_row18_col0{\n",
       "            background-color:  #f4987a;\n",
       "            color:  #000000;\n",
       "        }#T_bb17a_row20_col0{\n",
       "            background-color:  #f7aa8c;\n",
       "            color:  #000000;\n",
       "        }#T_bb17a_row21_col0{\n",
       "            background-color:  #688aef;\n",
       "            color:  #000000;\n",
       "        }</style><table id=\"T_bb17a_\" ><thead>    <tr>        <th class=\"blank level0\" ></th>        <th class=\"col_heading level0 col0\" >0</th>    </tr></thead><tbody>\n",
       "                <tr>\n",
       "                        <th id=\"T_bb17a_level0_row0\" class=\"row_heading level0 row0\" >total_images</th>\n",
       "                        <td id=\"T_bb17a_row0_col0\" class=\"data row0 col0\" >0.000000</td>\n",
       "            </tr>\n",
       "            <tr>\n",
       "                        <th id=\"T_bb17a_level0_row1\" class=\"row_heading level0 row1\" >last_price</th>\n",
       "                        <td id=\"T_bb17a_row1_col0\" class=\"data row1 col0\" >0.000000</td>\n",
       "            </tr>\n",
       "            <tr>\n",
       "                        <th id=\"T_bb17a_level0_row2\" class=\"row_heading level0 row2\" >total_area</th>\n",
       "                        <td id=\"T_bb17a_row2_col0\" class=\"data row2 col0\" >0.000000</td>\n",
       "            </tr>\n",
       "            <tr>\n",
       "                        <th id=\"T_bb17a_level0_row3\" class=\"row_heading level0 row3\" >first_day_exposition</th>\n",
       "                        <td id=\"T_bb17a_row3_col0\" class=\"data row3 col0\" >0.000000</td>\n",
       "            </tr>\n",
       "            <tr>\n",
       "                        <th id=\"T_bb17a_level0_row4\" class=\"row_heading level0 row4\" >rooms</th>\n",
       "                        <td id=\"T_bb17a_row4_col0\" class=\"data row4 col0\" >0.000000</td>\n",
       "            </tr>\n",
       "            <tr>\n",
       "                        <th id=\"T_bb17a_level0_row5\" class=\"row_heading level0 row5\" >ceiling_height</th>\n",
       "                        <td id=\"T_bb17a_row5_col0\" class=\"data row5 col0\" >39.000000</td>\n",
       "            </tr>\n",
       "            <tr>\n",
       "                        <th id=\"T_bb17a_level0_row6\" class=\"row_heading level0 row6\" >floors_total</th>\n",
       "                        <td id=\"T_bb17a_row6_col0\" class=\"data row6 col0\" >0.000000</td>\n",
       "            </tr>\n",
       "            <tr>\n",
       "                        <th id=\"T_bb17a_level0_row7\" class=\"row_heading level0 row7\" >living_area</th>\n",
       "                        <td id=\"T_bb17a_row7_col0\" class=\"data row7 col0\" >8.000000</td>\n",
       "            </tr>\n",
       "            <tr>\n",
       "                        <th id=\"T_bb17a_level0_row8\" class=\"row_heading level0 row8\" >floor</th>\n",
       "                        <td id=\"T_bb17a_row8_col0\" class=\"data row8 col0\" >0.000000</td>\n",
       "            </tr>\n",
       "            <tr>\n",
       "                        <th id=\"T_bb17a_level0_row9\" class=\"row_heading level0 row9\" >is_apartment</th>\n",
       "                        <td id=\"T_bb17a_row9_col0\" class=\"data row9 col0\" >88.000000</td>\n",
       "            </tr>\n",
       "            <tr>\n",
       "                        <th id=\"T_bb17a_level0_row10\" class=\"row_heading level0 row10\" >studio</th>\n",
       "                        <td id=\"T_bb17a_row10_col0\" class=\"data row10 col0\" >0.000000</td>\n",
       "            </tr>\n",
       "            <tr>\n",
       "                        <th id=\"T_bb17a_level0_row11\" class=\"row_heading level0 row11\" >open_plan</th>\n",
       "                        <td id=\"T_bb17a_row11_col0\" class=\"data row11 col0\" >0.000000</td>\n",
       "            </tr>\n",
       "            <tr>\n",
       "                        <th id=\"T_bb17a_level0_row12\" class=\"row_heading level0 row12\" >kitchen_area</th>\n",
       "                        <td id=\"T_bb17a_row12_col0\" class=\"data row12 col0\" >10.000000</td>\n",
       "            </tr>\n",
       "            <tr>\n",
       "                        <th id=\"T_bb17a_level0_row13\" class=\"row_heading level0 row13\" >balcony</th>\n",
       "                        <td id=\"T_bb17a_row13_col0\" class=\"data row13 col0\" >49.000000</td>\n",
       "            </tr>\n",
       "            <tr>\n",
       "                        <th id=\"T_bb17a_level0_row14\" class=\"row_heading level0 row14\" >locality_name</th>\n",
       "                        <td id=\"T_bb17a_row14_col0\" class=\"data row14 col0\" >0.000000</td>\n",
       "            </tr>\n",
       "            <tr>\n",
       "                        <th id=\"T_bb17a_level0_row15\" class=\"row_heading level0 row15\" >airports_nearest</th>\n",
       "                        <td id=\"T_bb17a_row15_col0\" class=\"data row15 col0\" >23.000000</td>\n",
       "            </tr>\n",
       "            <tr>\n",
       "                        <th id=\"T_bb17a_level0_row16\" class=\"row_heading level0 row16\" >cityCenters_nearest</th>\n",
       "                        <td id=\"T_bb17a_row16_col0\" class=\"data row16 col0\" >23.000000</td>\n",
       "            </tr>\n",
       "            <tr>\n",
       "                        <th id=\"T_bb17a_level0_row17\" class=\"row_heading level0 row17\" >parks_around3000</th>\n",
       "                        <td id=\"T_bb17a_row17_col0\" class=\"data row17 col0\" >23.000000</td>\n",
       "            </tr>\n",
       "            <tr>\n",
       "                        <th id=\"T_bb17a_level0_row18\" class=\"row_heading level0 row18\" >parks_nearest</th>\n",
       "                        <td id=\"T_bb17a_row18_col0\" class=\"data row18 col0\" >66.000000</td>\n",
       "            </tr>\n",
       "            <tr>\n",
       "                        <th id=\"T_bb17a_level0_row19\" class=\"row_heading level0 row19\" >ponds_around3000</th>\n",
       "                        <td id=\"T_bb17a_row19_col0\" class=\"data row19 col0\" >23.000000</td>\n",
       "            </tr>\n",
       "            <tr>\n",
       "                        <th id=\"T_bb17a_level0_row20\" class=\"row_heading level0 row20\" >ponds_nearest</th>\n",
       "                        <td id=\"T_bb17a_row20_col0\" class=\"data row20 col0\" >62.000000</td>\n",
       "            </tr>\n",
       "            <tr>\n",
       "                        <th id=\"T_bb17a_level0_row21\" class=\"row_heading level0 row21\" >days_exposition</th>\n",
       "                        <td id=\"T_bb17a_row21_col0\" class=\"data row21 col0\" >13.000000</td>\n",
       "            </tr>\n",
       "    </tbody></table>"
      ],
      "text/plain": [
       "<pandas.io.formats.style.Styler at 0x7f628fdf6700>"
      ]
     },
     "execution_count": 5,
     "metadata": {},
     "output_type": "execute_result"
    }
   ],
   "source": [
    "pd.DataFrame(round(data.isna().mean()*100,)).style.background_gradient('coolwarm')"
   ]
  },
  {
   "cell_type": "code",
   "execution_count": 6,
   "metadata": {},
   "outputs": [],
   "source": [
    "import warnings\n",
    "warnings.filterwarnings('ignore')\n",
    "\n",
    "for locality_name in data['locality_name'].unique():\n",
    "    median = data.loc[data['locality_name'] == locality_name, 'ceiling_height'].median()\n",
    "    data.loc[(data['ceiling_height'].isna()) & (data['locality_name'] == locality_name), 'ceiling_height'] = median\n",
    "#Остаток заполняем медианой\n",
    "data.loc[data['ceiling_height'].isna(), 'ceiling_height'] = data['ceiling_height'].median()\n"
   ]
  },
  {
   "cell_type": "markdown",
   "metadata": {},
   "source": [
    "Заменили пропуски средней высотой потолка по районам, а оставшиеся медианой."
   ]
  },
  {
   "cell_type": "code",
   "execution_count": 7,
   "metadata": {},
   "outputs": [],
   "source": [
    "data['living_area']=data['living_area'].astype('float')  #меняем тип данных на вещественный для living_area \n"
   ]
  },
  {
   "cell_type": "code",
   "execution_count": 8,
   "metadata": {},
   "outputs": [],
   "source": [
    "data['last_price']=data['last_price'].astype('float') #меняем тип данных на вещественный для last_price"
   ]
  },
  {
   "cell_type": "code",
   "execution_count": 9,
   "metadata": {},
   "outputs": [],
   "source": [
    "living_ratio = data['living_area'].mean() / data['total_area'].mean()\n",
    "data['living_area'].fillna(living_ratio * data['total_area'], inplace=True)"
   ]
  },
  {
   "cell_type": "code",
   "execution_count": 10,
   "metadata": {},
   "outputs": [],
   "source": [
    "data['balcony']=data['balcony'].fillna(0) # заполняем пропуски балкона 0- нет балкона\n",
    "\n",
    "data['balcony']=data['balcony'].astype('int') #меняем тип на целочисленный"
   ]
  },
  {
   "cell_type": "code",
   "execution_count": 11,
   "metadata": {},
   "outputs": [],
   "source": [
    "data['is_apartment']=data['is_apartment'].astype('bool') # переводим в бул\n",
    "data['is_apartment']=data['is_apartment'].fillna(0) #заполняем 0-не аппартамент"
   ]
  },
  {
   "cell_type": "code",
   "execution_count": 12,
   "metadata": {},
   "outputs": [],
   "source": [
    "data['airports_nearest']=data['airports_nearest'].astype('float')\n",
    "grouped_airpots_nearest=data.groupby('locality_name')['airports_nearest'].transform('mean') \n",
    "#data['airports_nearest'].isnull().sum()\n",
    "data['airports_nearest'].fillna(grouped_airpots_nearest,inplace=True)#заполняем пропуски расстояния до аэропорта по среднемму значению расстояния в зависимости от района.\n",
    "#data['airports_nearest'].isnull().sum()\n",
    "data['airports_nearest']=data['airports_nearest'].fillna(data['airports_nearest'].mean()) #где остались пропуски расстояния до аэропорта  заполняем просто по среднемму значению расстояния \n",
    "#data['airports_nearest'].isnull().sum()"
   ]
  },
  {
   "cell_type": "code",
   "execution_count": 13,
   "metadata": {},
   "outputs": [],
   "source": [
    "data['cityCenters_nearest']=data['cityCenters_nearest'].astype('float')\n",
    "for locality_name in data['locality_name'].unique():\n",
    "    median = data.loc[data['locality_name'] == locality_name, 'cityCenters_nearest'].median()\n",
    "    data.loc[(data['cityCenters_nearest'].isna()) & (data['locality_name'] == locality_name), 'cityCenters_nearest'] = median"
   ]
  },
  {
   "cell_type": "code",
   "execution_count": 14,
   "metadata": {},
   "outputs": [],
   "source": [
    "data['parks_around3000']=data['parks_around3000'].astype('float') # Меняем тип\n",
    "data['parks_around3000']=data['parks_around3000'].fillna(data['parks_around3000'].mean())#заполняем средним\n",
    "data['parks_around3000']=data['parks_around3000'].astype('int') # Меняем тип"
   ]
  },
  {
   "cell_type": "code",
   "execution_count": 15,
   "metadata": {},
   "outputs": [],
   "source": [
    "data['parks_nearest']=data['parks_nearest'].astype('float') # Меняем тип\n",
    "data['parks_nearest']=data['parks_nearest'].fillna(data['parks_nearest'].mean())#заполняем средним"
   ]
  },
  {
   "cell_type": "code",
   "execution_count": 16,
   "metadata": {},
   "outputs": [],
   "source": [
    "data['ponds_around3000']=data['ponds_around3000'].astype('float') # Меняем тип\n",
    "data['ponds_around3000']=data['ponds_around3000'].fillna(data['ponds_around3000'].mean())#заполняем средним\n",
    "data['ponds_around3000']=data['ponds_around3000'].astype('int') # Меняем тип"
   ]
  },
  {
   "cell_type": "code",
   "execution_count": 17,
   "metadata": {},
   "outputs": [],
   "source": [
    "data['ponds_nearest']=data['ponds_nearest'].astype('float') # Меняем тип\n",
    "data['ponds_nearest']=data['ponds_nearest'].fillna(data['ponds_nearest'].mean())#заполняем средним"
   ]
  },
  {
   "cell_type": "code",
   "execution_count": 18,
   "metadata": {},
   "outputs": [],
   "source": [
    "data['floors_total']=data.fillna(data['floors_total'].mean())#заполняем средним\n",
    "data['floors_total']=data['floors_total'].astype('int') # Меняем тип"
   ]
  },
  {
   "cell_type": "code",
   "execution_count": 19,
   "metadata": {},
   "outputs": [],
   "source": [
    "data['days_exposition']=data['days_exposition'].astype('float') # Меняем тип\n",
    "data['days_exposition']=data['days_exposition'].fillna(data['days_exposition'].median()) #Заполняем средним\n",
    "data['days_exposition']=data['days_exposition'].astype('int')# Меняем тип"
   ]
  },
  {
   "cell_type": "code",
   "execution_count": 20,
   "metadata": {},
   "outputs": [],
   "source": [
    "data['kitchen_area']=data['kitchen_area'].astype('float') # Меняем тип\n",
    "data['kitchen_area']=data['kitchen_area'].fillna(data['kitchen_area'].median())#заполняем средним"
   ]
  },
  {
   "cell_type": "code",
   "execution_count": 21,
   "metadata": {},
   "outputs": [],
   "source": [
    "data['total_area']=data['total_area'].astype('float')# Меняем тип"
   ]
  },
  {
   "cell_type": "code",
   "execution_count": 22,
   "metadata": {},
   "outputs": [],
   "source": [
    "data['price_for_m2']=data['last_price']/data['living_area'] # Добавляем столбец с ценой за квадратный метр "
   ]
  },
  {
   "cell_type": "code",
   "execution_count": 23,
   "metadata": {},
   "outputs": [
    {
     "data": {
      "text/plain": [
       "locality_name\n",
       "деревня Малая Романовка              14808.362369\n",
       "деревня Старополье                   18523.657980\n",
       "деревня Выскатка                     18856.907895\n",
       "посёлок станции Свирь                18973.070562\n",
       "деревня Вахнова Кара                 20470.626958\n",
       "                                        ...      \n",
       "Кудрово                             206563.773766\n",
       "Санкт-Петербург                     215086.621355\n",
       "Зеленогорск                         218860.191692\n",
       "посёлок Лисий Нос                   220102.839897\n",
       "садовое товарищество Новая Ропша    250000.000000\n",
       "Name: price_for_m2, Length: 364, dtype: float64"
      ]
     },
     "execution_count": 23,
     "metadata": {},
     "output_type": "execute_result"
    }
   ],
   "source": [
    "grouped_price=data.groupby('locality_name')['price_for_m2'].transform('mean') # группируем по району\n",
    "nan=data.groupby('locality_name')['price_for_m2'].mean()\n",
    "nan.sort_values()"
   ]
  },
  {
   "cell_type": "code",
   "execution_count": 24,
   "metadata": {},
   "outputs": [],
   "source": [
    "data['price_for_m2'].fillna(grouped_price,inplace=True)"
   ]
  },
  {
   "cell_type": "code",
   "execution_count": 25,
   "metadata": {},
   "outputs": [],
   "source": [
    "data.dropna(subset=['price_for_m2'],inplace=True) # удаляем если остались  nan"
   ]
  },
  {
   "cell_type": "code",
   "execution_count": 26,
   "metadata": {},
   "outputs": [
    {
     "data": {
      "text/html": [
       "<style  type=\"text/css\" >\n",
       "#T_5c4ad_row0_col0,#T_5c4ad_row1_col0,#T_5c4ad_row2_col0,#T_5c4ad_row3_col0,#T_5c4ad_row4_col0,#T_5c4ad_row5_col0,#T_5c4ad_row6_col0,#T_5c4ad_row7_col0,#T_5c4ad_row8_col0,#T_5c4ad_row9_col0,#T_5c4ad_row10_col0,#T_5c4ad_row11_col0,#T_5c4ad_row12_col0,#T_5c4ad_row13_col0,#T_5c4ad_row14_col0,#T_5c4ad_row15_col0,#T_5c4ad_row17_col0,#T_5c4ad_row18_col0,#T_5c4ad_row19_col0,#T_5c4ad_row20_col0,#T_5c4ad_row21_col0,#T_5c4ad_row22_col0{\n",
       "            background-color:  #3b4cc0;\n",
       "            color:  #f1f1f1;\n",
       "        }#T_5c4ad_row16_col0{\n",
       "            background-color:  #b40426;\n",
       "            color:  #f1f1f1;\n",
       "        }</style><table id=\"T_5c4ad_\" ><thead>    <tr>        <th class=\"blank level0\" ></th>        <th class=\"col_heading level0 col0\" >0</th>    </tr></thead><tbody>\n",
       "                <tr>\n",
       "                        <th id=\"T_5c4ad_level0_row0\" class=\"row_heading level0 row0\" >total_images</th>\n",
       "                        <td id=\"T_5c4ad_row0_col0\" class=\"data row0 col0\" >0.000000</td>\n",
       "            </tr>\n",
       "            <tr>\n",
       "                        <th id=\"T_5c4ad_level0_row1\" class=\"row_heading level0 row1\" >last_price</th>\n",
       "                        <td id=\"T_5c4ad_row1_col0\" class=\"data row1 col0\" >0.000000</td>\n",
       "            </tr>\n",
       "            <tr>\n",
       "                        <th id=\"T_5c4ad_level0_row2\" class=\"row_heading level0 row2\" >total_area</th>\n",
       "                        <td id=\"T_5c4ad_row2_col0\" class=\"data row2 col0\" >0.000000</td>\n",
       "            </tr>\n",
       "            <tr>\n",
       "                        <th id=\"T_5c4ad_level0_row3\" class=\"row_heading level0 row3\" >first_day_exposition</th>\n",
       "                        <td id=\"T_5c4ad_row3_col0\" class=\"data row3 col0\" >0.000000</td>\n",
       "            </tr>\n",
       "            <tr>\n",
       "                        <th id=\"T_5c4ad_level0_row4\" class=\"row_heading level0 row4\" >rooms</th>\n",
       "                        <td id=\"T_5c4ad_row4_col0\" class=\"data row4 col0\" >0.000000</td>\n",
       "            </tr>\n",
       "            <tr>\n",
       "                        <th id=\"T_5c4ad_level0_row5\" class=\"row_heading level0 row5\" >ceiling_height</th>\n",
       "                        <td id=\"T_5c4ad_row5_col0\" class=\"data row5 col0\" >0.000000</td>\n",
       "            </tr>\n",
       "            <tr>\n",
       "                        <th id=\"T_5c4ad_level0_row6\" class=\"row_heading level0 row6\" >floors_total</th>\n",
       "                        <td id=\"T_5c4ad_row6_col0\" class=\"data row6 col0\" >0.000000</td>\n",
       "            </tr>\n",
       "            <tr>\n",
       "                        <th id=\"T_5c4ad_level0_row7\" class=\"row_heading level0 row7\" >living_area</th>\n",
       "                        <td id=\"T_5c4ad_row7_col0\" class=\"data row7 col0\" >0.000000</td>\n",
       "            </tr>\n",
       "            <tr>\n",
       "                        <th id=\"T_5c4ad_level0_row8\" class=\"row_heading level0 row8\" >floor</th>\n",
       "                        <td id=\"T_5c4ad_row8_col0\" class=\"data row8 col0\" >0.000000</td>\n",
       "            </tr>\n",
       "            <tr>\n",
       "                        <th id=\"T_5c4ad_level0_row9\" class=\"row_heading level0 row9\" >is_apartment</th>\n",
       "                        <td id=\"T_5c4ad_row9_col0\" class=\"data row9 col0\" >0.000000</td>\n",
       "            </tr>\n",
       "            <tr>\n",
       "                        <th id=\"T_5c4ad_level0_row10\" class=\"row_heading level0 row10\" >studio</th>\n",
       "                        <td id=\"T_5c4ad_row10_col0\" class=\"data row10 col0\" >0.000000</td>\n",
       "            </tr>\n",
       "            <tr>\n",
       "                        <th id=\"T_5c4ad_level0_row11\" class=\"row_heading level0 row11\" >open_plan</th>\n",
       "                        <td id=\"T_5c4ad_row11_col0\" class=\"data row11 col0\" >0.000000</td>\n",
       "            </tr>\n",
       "            <tr>\n",
       "                        <th id=\"T_5c4ad_level0_row12\" class=\"row_heading level0 row12\" >kitchen_area</th>\n",
       "                        <td id=\"T_5c4ad_row12_col0\" class=\"data row12 col0\" >0.000000</td>\n",
       "            </tr>\n",
       "            <tr>\n",
       "                        <th id=\"T_5c4ad_level0_row13\" class=\"row_heading level0 row13\" >balcony</th>\n",
       "                        <td id=\"T_5c4ad_row13_col0\" class=\"data row13 col0\" >0.000000</td>\n",
       "            </tr>\n",
       "            <tr>\n",
       "                        <th id=\"T_5c4ad_level0_row14\" class=\"row_heading level0 row14\" >locality_name</th>\n",
       "                        <td id=\"T_5c4ad_row14_col0\" class=\"data row14 col0\" >0.000000</td>\n",
       "            </tr>\n",
       "            <tr>\n",
       "                        <th id=\"T_5c4ad_level0_row15\" class=\"row_heading level0 row15\" >airports_nearest</th>\n",
       "                        <td id=\"T_5c4ad_row15_col0\" class=\"data row15 col0\" >0.000000</td>\n",
       "            </tr>\n",
       "            <tr>\n",
       "                        <th id=\"T_5c4ad_level0_row16\" class=\"row_heading level0 row16\" >cityCenters_nearest</th>\n",
       "                        <td id=\"T_5c4ad_row16_col0\" class=\"data row16 col0\" >23.000000</td>\n",
       "            </tr>\n",
       "            <tr>\n",
       "                        <th id=\"T_5c4ad_level0_row17\" class=\"row_heading level0 row17\" >parks_around3000</th>\n",
       "                        <td id=\"T_5c4ad_row17_col0\" class=\"data row17 col0\" >0.000000</td>\n",
       "            </tr>\n",
       "            <tr>\n",
       "                        <th id=\"T_5c4ad_level0_row18\" class=\"row_heading level0 row18\" >parks_nearest</th>\n",
       "                        <td id=\"T_5c4ad_row18_col0\" class=\"data row18 col0\" >0.000000</td>\n",
       "            </tr>\n",
       "            <tr>\n",
       "                        <th id=\"T_5c4ad_level0_row19\" class=\"row_heading level0 row19\" >ponds_around3000</th>\n",
       "                        <td id=\"T_5c4ad_row19_col0\" class=\"data row19 col0\" >0.000000</td>\n",
       "            </tr>\n",
       "            <tr>\n",
       "                        <th id=\"T_5c4ad_level0_row20\" class=\"row_heading level0 row20\" >ponds_nearest</th>\n",
       "                        <td id=\"T_5c4ad_row20_col0\" class=\"data row20 col0\" >0.000000</td>\n",
       "            </tr>\n",
       "            <tr>\n",
       "                        <th id=\"T_5c4ad_level0_row21\" class=\"row_heading level0 row21\" >days_exposition</th>\n",
       "                        <td id=\"T_5c4ad_row21_col0\" class=\"data row21 col0\" >0.000000</td>\n",
       "            </tr>\n",
       "            <tr>\n",
       "                        <th id=\"T_5c4ad_level0_row22\" class=\"row_heading level0 row22\" >price_for_m2</th>\n",
       "                        <td id=\"T_5c4ad_row22_col0\" class=\"data row22 col0\" >0.000000</td>\n",
       "            </tr>\n",
       "    </tbody></table>"
      ],
      "text/plain": [
       "<pandas.io.formats.style.Styler at 0x7f6287512340>"
      ]
     },
     "execution_count": 26,
     "metadata": {},
     "output_type": "execute_result"
    }
   ],
   "source": [
    "pd.DataFrame(round(data.isna().mean()*100,)).style.background_gradient('coolwarm')"
   ]
  },
  {
   "cell_type": "code",
   "execution_count": 27,
   "metadata": {},
   "outputs": [
    {
     "name": "stdout",
     "output_type": "stream",
     "text": [
      "<class 'pandas.core.frame.DataFrame'>\n",
      "Int64Index: 23699 entries, 0 to 23698\n",
      "Data columns (total 23 columns):\n",
      " #   Column                Non-Null Count  Dtype  \n",
      "---  ------                --------------  -----  \n",
      " 0   total_images          23699 non-null  int64  \n",
      " 1   last_price            23699 non-null  float64\n",
      " 2   total_area            23699 non-null  float64\n",
      " 3   first_day_exposition  23699 non-null  object \n",
      " 4   rooms                 23699 non-null  int64  \n",
      " 5   ceiling_height        23699 non-null  float64\n",
      " 6   floors_total          23699 non-null  int64  \n",
      " 7   living_area           23699 non-null  float64\n",
      " 8   floor                 23699 non-null  int64  \n",
      " 9   is_apartment          23699 non-null  bool   \n",
      " 10  studio                23699 non-null  bool   \n",
      " 11  open_plan             23699 non-null  bool   \n",
      " 12  kitchen_area          23699 non-null  float64\n",
      " 13  balcony               23699 non-null  int64  \n",
      " 14  locality_name         23650 non-null  object \n",
      " 15  airports_nearest      23699 non-null  float64\n",
      " 16  cityCenters_nearest   18305 non-null  float64\n",
      " 17  parks_around3000      23699 non-null  int64  \n",
      " 18  parks_nearest         23699 non-null  float64\n",
      " 19  ponds_around3000      23699 non-null  int64  \n",
      " 20  ponds_nearest         23699 non-null  float64\n",
      " 21  days_exposition       23699 non-null  int64  \n",
      " 22  price_for_m2          23699 non-null  float64\n",
      "dtypes: bool(3), float64(10), int64(8), object(2)\n",
      "memory usage: 3.9+ MB\n"
     ]
    }
   ],
   "source": [
    "data.info()"
   ]
  },
  {
   "cell_type": "code",
   "execution_count": 28,
   "metadata": {},
   "outputs": [
    {
     "data": {
      "text/plain": [
       "0"
      ]
     },
     "execution_count": 28,
     "metadata": {},
     "output_type": "execute_result"
    }
   ],
   "source": [
    "data.duplicated().sum()"
   ]
  },
  {
   "cell_type": "markdown",
   "metadata": {},
   "source": [
    "Дубликатов нет"
   ]
  },
  {
   "cell_type": "code",
   "execution_count": 29,
   "metadata": {},
   "outputs": [
    {
     "data": {
      "image/png": "[encoded data removed]",
      "text/plain": [
       "<Figure size 432x288 with 1 Axes>"
      ]
     },
     "metadata": {
      "needs_background": "light"
     },
     "output_type": "display_data"
    }
   ],
   "source": [
    "data.boxplot();"
   ]
  },
  {
   "cell_type": "code",
   "execution_count": 30,
   "metadata": {},
   "outputs": [
    {
     "data": {
      "text/plain": [
       "(0.0, 15000000.0)"
      ]
     },
     "execution_count": 30,
     "metadata": {},
     "output_type": "execute_result"
    },
    {
     "data": {
      "image/png": "[encoded data removed]",
      "text/plain": [
       "<Figure size 432x288 with 1 Axes>"
      ]
     },
     "metadata": {
      "needs_background": "light"
     },
     "output_type": "display_data"
    }
   ],
   "source": [
    "data.boxplot('last_price')\n",
    "plt.ylim(0, 15000000)"
   ]
  },
  {
   "cell_type": "code",
   "execution_count": 31,
   "metadata": {},
   "outputs": [
    {
     "data": {
      "text/html": [
       "<div>\n",
       "<style scoped>\n",
       "    .dataframe tbody tr th:only-of-type {\n",
       "        vertical-align: middle;\n",
       "    }\n",
       "\n",
       "    .dataframe tbody tr th {\n",
       "        vertical-align: top;\n",
       "    }\n",
       "\n",
       "    .dataframe thead th {\n",
       "        text-align: right;\n",
       "    }\n",
       "</style>\n",
       "<table border=\"1\" class=\"dataframe\">\n",
       "  <thead>\n",
       "    <tr style=\"text-align: right;\">\n",
       "      <th></th>\n",
       "      <th>total_images</th>\n",
       "      <th>last_price</th>\n",
       "      <th>total_area</th>\n",
       "      <th>rooms</th>\n",
       "      <th>ceiling_height</th>\n",
       "      <th>floors_total</th>\n",
       "      <th>living_area</th>\n",
       "      <th>floor</th>\n",
       "      <th>kitchen_area</th>\n",
       "      <th>balcony</th>\n",
       "      <th>airports_nearest</th>\n",
       "      <th>cityCenters_nearest</th>\n",
       "      <th>parks_around3000</th>\n",
       "      <th>parks_nearest</th>\n",
       "      <th>ponds_around3000</th>\n",
       "      <th>ponds_nearest</th>\n",
       "      <th>days_exposition</th>\n",
       "      <th>price_for_m2</th>\n",
       "    </tr>\n",
       "  </thead>\n",
       "  <tbody>\n",
       "    <tr>\n",
       "      <th>count</th>\n",
       "      <td>23699.000000</td>\n",
       "      <td>2.369900e+04</td>\n",
       "      <td>23699.000000</td>\n",
       "      <td>23699.000000</td>\n",
       "      <td>23699.000000</td>\n",
       "      <td>23699.000000</td>\n",
       "      <td>23699.000000</td>\n",
       "      <td>23699.000000</td>\n",
       "      <td>23699.000000</td>\n",
       "      <td>23699.000000</td>\n",
       "      <td>23699.000000</td>\n",
       "      <td>18305.000000</td>\n",
       "      <td>23699.000000</td>\n",
       "      <td>23699.000000</td>\n",
       "      <td>23699.000000</td>\n",
       "      <td>23699.000000</td>\n",
       "      <td>23699.000000</td>\n",
       "      <td>2.369900e+04</td>\n",
       "    </tr>\n",
       "    <tr>\n",
       "      <th>mean</th>\n",
       "      <td>9.858475</td>\n",
       "      <td>6.541549e+06</td>\n",
       "      <td>60.348651</td>\n",
       "      <td>2.070636</td>\n",
       "      <td>2.733877</td>\n",
       "      <td>9.858475</td>\n",
       "      <td>34.594076</td>\n",
       "      <td>5.892358</td>\n",
       "      <td>10.428526</td>\n",
       "      <td>0.591080</td>\n",
       "      <td>28869.811212</td>\n",
       "      <td>14231.683201</td>\n",
       "      <td>0.469049</td>\n",
       "      <td>490.804555</td>\n",
       "      <td>0.590911</td>\n",
       "      <td>517.980900</td>\n",
       "      <td>169.360226</td>\n",
       "      <td>1.863024e+05</td>\n",
       "    </tr>\n",
       "    <tr>\n",
       "      <th>std</th>\n",
       "      <td>5.682529</td>\n",
       "      <td>1.088701e+07</td>\n",
       "      <td>35.654083</td>\n",
       "      <td>1.078405</td>\n",
       "      <td>1.009388</td>\n",
       "      <td>5.682529</td>\n",
       "      <td>22.354668</td>\n",
       "      <td>4.885249</td>\n",
       "      <td>5.631126</td>\n",
       "      <td>0.959298</td>\n",
       "      <td>11137.844870</td>\n",
       "      <td>8625.989235</td>\n",
       "      <td>0.748534</td>\n",
       "      <td>199.859965</td>\n",
       "      <td>0.883999</td>\n",
       "      <td>172.181967</td>\n",
       "      <td>206.535633</td>\n",
       "      <td>1.808136e+05</td>\n",
       "    </tr>\n",
       "    <tr>\n",
       "      <th>min</th>\n",
       "      <td>0.000000</td>\n",
       "      <td>1.219000e+04</td>\n",
       "      <td>12.000000</td>\n",
       "      <td>0.000000</td>\n",
       "      <td>1.000000</td>\n",
       "      <td>0.000000</td>\n",
       "      <td>2.000000</td>\n",
       "      <td>1.000000</td>\n",
       "      <td>1.300000</td>\n",
       "      <td>0.000000</td>\n",
       "      <td>0.000000</td>\n",
       "      <td>181.000000</td>\n",
       "      <td>0.000000</td>\n",
       "      <td>1.000000</td>\n",
       "      <td>0.000000</td>\n",
       "      <td>13.000000</td>\n",
       "      <td>1.000000</td>\n",
       "      <td>3.809375e+02</td>\n",
       "    </tr>\n",
       "    <tr>\n",
       "      <th>25%</th>\n",
       "      <td>6.000000</td>\n",
       "      <td>3.400000e+06</td>\n",
       "      <td>40.000000</td>\n",
       "      <td>1.000000</td>\n",
       "      <td>2.550000</td>\n",
       "      <td>6.000000</td>\n",
       "      <td>19.000000</td>\n",
       "      <td>2.000000</td>\n",
       "      <td>7.400000</td>\n",
       "      <td>0.000000</td>\n",
       "      <td>21176.000000</td>\n",
       "      <td>9274.000000</td>\n",
       "      <td>0.000000</td>\n",
       "      <td>490.804555</td>\n",
       "      <td>0.000000</td>\n",
       "      <td>517.980900</td>\n",
       "      <td>45.000000</td>\n",
       "      <td>1.268455e+05</td>\n",
       "    </tr>\n",
       "    <tr>\n",
       "      <th>50%</th>\n",
       "      <td>9.000000</td>\n",
       "      <td>4.650000e+06</td>\n",
       "      <td>52.000000</td>\n",
       "      <td>2.000000</td>\n",
       "      <td>2.700000</td>\n",
       "      <td>9.000000</td>\n",
       "      <td>30.000000</td>\n",
       "      <td>4.000000</td>\n",
       "      <td>9.100000</td>\n",
       "      <td>0.000000</td>\n",
       "      <td>28869.811212</td>\n",
       "      <td>13101.000000</td>\n",
       "      <td>0.000000</td>\n",
       "      <td>490.804555</td>\n",
       "      <td>0.000000</td>\n",
       "      <td>517.980900</td>\n",
       "      <td>95.000000</td>\n",
       "      <td>1.677215e+05</td>\n",
       "    </tr>\n",
       "    <tr>\n",
       "      <th>75%</th>\n",
       "      <td>14.000000</td>\n",
       "      <td>6.800000e+06</td>\n",
       "      <td>69.900000</td>\n",
       "      <td>3.000000</td>\n",
       "      <td>2.700000</td>\n",
       "      <td>14.000000</td>\n",
       "      <td>42.100000</td>\n",
       "      <td>8.000000</td>\n",
       "      <td>11.440000</td>\n",
       "      <td>1.000000</td>\n",
       "      <td>34496.500000</td>\n",
       "      <td>16326.000000</td>\n",
       "      <td>1.000000</td>\n",
       "      <td>490.804555</td>\n",
       "      <td>1.000000</td>\n",
       "      <td>517.980900</td>\n",
       "      <td>199.000000</td>\n",
       "      <td>2.200000e+05</td>\n",
       "    </tr>\n",
       "    <tr>\n",
       "      <th>max</th>\n",
       "      <td>50.000000</td>\n",
       "      <td>7.630000e+08</td>\n",
       "      <td>900.000000</td>\n",
       "      <td>19.000000</td>\n",
       "      <td>100.000000</td>\n",
       "      <td>50.000000</td>\n",
       "      <td>409.700000</td>\n",
       "      <td>33.000000</td>\n",
       "      <td>112.000000</td>\n",
       "      <td>5.000000</td>\n",
       "      <td>84869.000000</td>\n",
       "      <td>65968.000000</td>\n",
       "      <td>3.000000</td>\n",
       "      <td>3190.000000</td>\n",
       "      <td>3.000000</td>\n",
       "      <td>1344.000000</td>\n",
       "      <td>1580.000000</td>\n",
       "      <td>2.166333e+07</td>\n",
       "    </tr>\n",
       "  </tbody>\n",
       "</table>\n",
       "</div>"
      ],
      "text/plain": [
       "       total_images    last_price    total_area         rooms  ceiling_height  \\\n",
       "count  23699.000000  2.369900e+04  23699.000000  23699.000000    23699.000000   \n",
       "mean       9.858475  6.541549e+06     60.348651      2.070636        2.733877   \n",
       "std        5.682529  1.088701e+07     35.654083      1.078405        1.009388   \n",
       "min        0.000000  1.219000e+04     12.000000      0.000000        1.000000   \n",
       "25%        6.000000  3.400000e+06     40.000000      1.000000        2.550000   \n",
       "50%        9.000000  4.650000e+06     52.000000      2.000000        2.700000   \n",
       "75%       14.000000  6.800000e+06     69.900000      3.000000        2.700000   \n",
       "max       50.000000  7.630000e+08    900.000000     19.000000      100.000000   \n",
       "\n",
       "       floors_total   living_area         floor  kitchen_area       balcony  \\\n",
       "count  23699.000000  23699.000000  23699.000000  23699.000000  23699.000000   \n",
       "mean       9.858475     34.594076      5.892358     10.428526      0.591080   \n",
       "std        5.682529     22.354668      4.885249      5.631126      0.959298   \n",
       "min        0.000000      2.000000      1.000000      1.300000      0.000000   \n",
       "25%        6.000000     19.000000      2.000000      7.400000      0.000000   \n",
       "50%        9.000000     30.000000      4.000000      9.100000      0.000000   \n",
       "75%       14.000000     42.100000      8.000000     11.440000      1.000000   \n",
       "max       50.000000    409.700000     33.000000    112.000000      5.000000   \n",
       "\n",
       "       airports_nearest  cityCenters_nearest  parks_around3000  parks_nearest  \\\n",
       "count      23699.000000         18305.000000      23699.000000   23699.000000   \n",
       "mean       28869.811212         14231.683201          0.469049     490.804555   \n",
       "std        11137.844870          8625.989235          0.748534     199.859965   \n",
       "min            0.000000           181.000000          0.000000       1.000000   \n",
       "25%        21176.000000          9274.000000          0.000000     490.804555   \n",
       "50%        28869.811212         13101.000000          0.000000     490.804555   \n",
       "75%        34496.500000         16326.000000          1.000000     490.804555   \n",
       "max        84869.000000         65968.000000          3.000000    3190.000000   \n",
       "\n",
       "       ponds_around3000  ponds_nearest  days_exposition  price_for_m2  \n",
       "count      23699.000000   23699.000000     23699.000000  2.369900e+04  \n",
       "mean           0.590911     517.980900       169.360226  1.863024e+05  \n",
       "std            0.883999     172.181967       206.535633  1.808136e+05  \n",
       "min            0.000000      13.000000         1.000000  3.809375e+02  \n",
       "25%            0.000000     517.980900        45.000000  1.268455e+05  \n",
       "50%            0.000000     517.980900        95.000000  1.677215e+05  \n",
       "75%            1.000000     517.980900       199.000000  2.200000e+05  \n",
       "max            3.000000    1344.000000      1580.000000  2.166333e+07  "
      ]
     },
     "execution_count": 31,
     "metadata": {},
     "output_type": "execute_result"
    }
   ],
   "source": [
    "data.describe()"
   ]
  },
  {
   "cell_type": "markdown",
   "metadata": {},
   "source": [
    "Можно предположить, что все аномалии в рамках нормы(Например, частный дом, в нем много комнат и большая площадь. Большая площадь кухни - это обединенная кухня с гостинной и т.п.). Смущает лишь высота потолков, минимальная 1 метр и максимальная 100 метров. Так не бывает. Надо исправить."
   ]
  },
  {
   "cell_type": "code",
   "execution_count": 32,
   "metadata": {},
   "outputs": [
    {
     "data": {
      "text/html": [
       "<div>\n",
       "<style scoped>\n",
       "    .dataframe tbody tr th:only-of-type {\n",
       "        vertical-align: middle;\n",
       "    }\n",
       "\n",
       "    .dataframe tbody tr th {\n",
       "        vertical-align: top;\n",
       "    }\n",
       "\n",
       "    .dataframe thead th {\n",
       "        text-align: right;\n",
       "    }\n",
       "</style>\n",
       "<table border=\"1\" class=\"dataframe\">\n",
       "  <thead>\n",
       "    <tr style=\"text-align: right;\">\n",
       "      <th></th>\n",
       "      <th>total_images</th>\n",
       "      <th>last_price</th>\n",
       "      <th>total_area</th>\n",
       "      <th>rooms</th>\n",
       "      <th>ceiling_height</th>\n",
       "      <th>floors_total</th>\n",
       "      <th>living_area</th>\n",
       "      <th>floor</th>\n",
       "      <th>kitchen_area</th>\n",
       "      <th>balcony</th>\n",
       "      <th>airports_nearest</th>\n",
       "      <th>cityCenters_nearest</th>\n",
       "      <th>parks_around3000</th>\n",
       "      <th>parks_nearest</th>\n",
       "      <th>ponds_around3000</th>\n",
       "      <th>ponds_nearest</th>\n",
       "      <th>days_exposition</th>\n",
       "      <th>price_for_m2</th>\n",
       "    </tr>\n",
       "  </thead>\n",
       "  <tbody>\n",
       "    <tr>\n",
       "      <th>count</th>\n",
       "      <td>23567.000000</td>\n",
       "      <td>2.356700e+04</td>\n",
       "      <td>23567.000000</td>\n",
       "      <td>23567.000000</td>\n",
       "      <td>23567.000000</td>\n",
       "      <td>23567.000000</td>\n",
       "      <td>23567.000000</td>\n",
       "      <td>23567.000000</td>\n",
       "      <td>23567.000000</td>\n",
       "      <td>23567.000000</td>\n",
       "      <td>23567.000000</td>\n",
       "      <td>18204.000000</td>\n",
       "      <td>23567.000000</td>\n",
       "      <td>23567.000000</td>\n",
       "      <td>23567.000000</td>\n",
       "      <td>23567.000000</td>\n",
       "      <td>23567.000000</td>\n",
       "      <td>2.356700e+04</td>\n",
       "    </tr>\n",
       "    <tr>\n",
       "      <th>mean</th>\n",
       "      <td>9.850766</td>\n",
       "      <td>6.473272e+06</td>\n",
       "      <td>60.100087</td>\n",
       "      <td>2.067085</td>\n",
       "      <td>2.698645</td>\n",
       "      <td>9.850766</td>\n",
       "      <td>34.423606</td>\n",
       "      <td>5.900412</td>\n",
       "      <td>10.405779</td>\n",
       "      <td>0.591293</td>\n",
       "      <td>28879.624229</td>\n",
       "      <td>14264.942705</td>\n",
       "      <td>0.466967</td>\n",
       "      <td>490.909112</td>\n",
       "      <td>0.588365</td>\n",
       "      <td>518.152269</td>\n",
       "      <td>169.092035</td>\n",
       "      <td>1.860198e+05</td>\n",
       "    </tr>\n",
       "    <tr>\n",
       "      <th>std</th>\n",
       "      <td>5.670985</td>\n",
       "      <td>1.068072e+07</td>\n",
       "      <td>34.893588</td>\n",
       "      <td>1.074279</td>\n",
       "      <td>0.202593</td>\n",
       "      <td>5.670985</td>\n",
       "      <td>21.833047</td>\n",
       "      <td>4.889534</td>\n",
       "      <td>5.572361</td>\n",
       "      <td>0.959003</td>\n",
       "      <td>11150.533283</td>\n",
       "      <td>8611.931862</td>\n",
       "      <td>0.746204</td>\n",
       "      <td>200.027931</td>\n",
       "      <td>0.881499</td>\n",
       "      <td>172.072162</td>\n",
       "      <td>206.271016</td>\n",
       "      <td>1.807752e+05</td>\n",
       "    </tr>\n",
       "    <tr>\n",
       "      <th>min</th>\n",
       "      <td>0.000000</td>\n",
       "      <td>1.219000e+04</td>\n",
       "      <td>12.000000</td>\n",
       "      <td>0.000000</td>\n",
       "      <td>2.200000</td>\n",
       "      <td>0.000000</td>\n",
       "      <td>2.000000</td>\n",
       "      <td>1.000000</td>\n",
       "      <td>1.300000</td>\n",
       "      <td>0.000000</td>\n",
       "      <td>0.000000</td>\n",
       "      <td>181.000000</td>\n",
       "      <td>0.000000</td>\n",
       "      <td>1.000000</td>\n",
       "      <td>0.000000</td>\n",
       "      <td>13.000000</td>\n",
       "      <td>1.000000</td>\n",
       "      <td>3.809375e+02</td>\n",
       "    </tr>\n",
       "    <tr>\n",
       "      <th>25%</th>\n",
       "      <td>6.000000</td>\n",
       "      <td>3.400000e+06</td>\n",
       "      <td>40.000000</td>\n",
       "      <td>1.000000</td>\n",
       "      <td>2.550000</td>\n",
       "      <td>6.000000</td>\n",
       "      <td>19.000000</td>\n",
       "      <td>2.000000</td>\n",
       "      <td>7.300000</td>\n",
       "      <td>0.000000</td>\n",
       "      <td>21136.500000</td>\n",
       "      <td>9358.250000</td>\n",
       "      <td>0.000000</td>\n",
       "      <td>490.804555</td>\n",
       "      <td>0.000000</td>\n",
       "      <td>517.980900</td>\n",
       "      <td>45.000000</td>\n",
       "      <td>1.268293e+05</td>\n",
       "    </tr>\n",
       "    <tr>\n",
       "      <th>50%</th>\n",
       "      <td>9.000000</td>\n",
       "      <td>4.630000e+06</td>\n",
       "      <td>52.000000</td>\n",
       "      <td>2.000000</td>\n",
       "      <td>2.700000</td>\n",
       "      <td>9.000000</td>\n",
       "      <td>30.000000</td>\n",
       "      <td>4.000000</td>\n",
       "      <td>9.100000</td>\n",
       "      <td>0.000000</td>\n",
       "      <td>28869.811212</td>\n",
       "      <td>13123.000000</td>\n",
       "      <td>0.000000</td>\n",
       "      <td>490.804555</td>\n",
       "      <td>0.000000</td>\n",
       "      <td>517.980900</td>\n",
       "      <td>95.000000</td>\n",
       "      <td>1.675958e+05</td>\n",
       "    </tr>\n",
       "    <tr>\n",
       "      <th>75%</th>\n",
       "      <td>14.000000</td>\n",
       "      <td>6.750000e+06</td>\n",
       "      <td>69.515000</td>\n",
       "      <td>3.000000</td>\n",
       "      <td>2.700000</td>\n",
       "      <td>14.000000</td>\n",
       "      <td>42.000000</td>\n",
       "      <td>8.000000</td>\n",
       "      <td>11.400000</td>\n",
       "      <td>1.000000</td>\n",
       "      <td>34530.000000</td>\n",
       "      <td>16357.000000</td>\n",
       "      <td>1.000000</td>\n",
       "      <td>490.804555</td>\n",
       "      <td>1.000000</td>\n",
       "      <td>517.980900</td>\n",
       "      <td>198.000000</td>\n",
       "      <td>2.200000e+05</td>\n",
       "    </tr>\n",
       "    <tr>\n",
       "      <th>max</th>\n",
       "      <td>50.000000</td>\n",
       "      <td>7.630000e+08</td>\n",
       "      <td>900.000000</td>\n",
       "      <td>19.000000</td>\n",
       "      <td>3.980000</td>\n",
       "      <td>50.000000</td>\n",
       "      <td>409.700000</td>\n",
       "      <td>33.000000</td>\n",
       "      <td>112.000000</td>\n",
       "      <td>5.000000</td>\n",
       "      <td>84869.000000</td>\n",
       "      <td>65968.000000</td>\n",
       "      <td>3.000000</td>\n",
       "      <td>3190.000000</td>\n",
       "      <td>3.000000</td>\n",
       "      <td>1344.000000</td>\n",
       "      <td>1580.000000</td>\n",
       "      <td>2.166333e+07</td>\n",
       "    </tr>\n",
       "  </tbody>\n",
       "</table>\n",
       "</div>"
      ],
      "text/plain": [
       "       total_images    last_price    total_area         rooms  ceiling_height  \\\n",
       "count  23567.000000  2.356700e+04  23567.000000  23567.000000    23567.000000   \n",
       "mean       9.850766  6.473272e+06     60.100087      2.067085        2.698645   \n",
       "std        5.670985  1.068072e+07     34.893588      1.074279        0.202593   \n",
       "min        0.000000  1.219000e+04     12.000000      0.000000        2.200000   \n",
       "25%        6.000000  3.400000e+06     40.000000      1.000000        2.550000   \n",
       "50%        9.000000  4.630000e+06     52.000000      2.000000        2.700000   \n",
       "75%       14.000000  6.750000e+06     69.515000      3.000000        2.700000   \n",
       "max       50.000000  7.630000e+08    900.000000     19.000000        3.980000   \n",
       "\n",
       "       floors_total   living_area         floor  kitchen_area       balcony  \\\n",
       "count  23567.000000  23567.000000  23567.000000  23567.000000  23567.000000   \n",
       "mean       9.850766     34.423606      5.900412     10.405779      0.591293   \n",
       "std        5.670985     21.833047      4.889534      5.572361      0.959003   \n",
       "min        0.000000      2.000000      1.000000      1.300000      0.000000   \n",
       "25%        6.000000     19.000000      2.000000      7.300000      0.000000   \n",
       "50%        9.000000     30.000000      4.000000      9.100000      0.000000   \n",
       "75%       14.000000     42.000000      8.000000     11.400000      1.000000   \n",
       "max       50.000000    409.700000     33.000000    112.000000      5.000000   \n",
       "\n",
       "       airports_nearest  cityCenters_nearest  parks_around3000  parks_nearest  \\\n",
       "count      23567.000000         18204.000000      23567.000000   23567.000000   \n",
       "mean       28879.624229         14264.942705          0.466967     490.909112   \n",
       "std        11150.533283          8611.931862          0.746204     200.027931   \n",
       "min            0.000000           181.000000          0.000000       1.000000   \n",
       "25%        21136.500000          9358.250000          0.000000     490.804555   \n",
       "50%        28869.811212         13123.000000          0.000000     490.804555   \n",
       "75%        34530.000000         16357.000000          1.000000     490.804555   \n",
       "max        84869.000000         65968.000000          3.000000    3190.000000   \n",
       "\n",
       "       ponds_around3000  ponds_nearest  days_exposition  price_for_m2  \n",
       "count      23567.000000   23567.000000     23567.000000  2.356700e+04  \n",
       "mean           0.588365     518.152269       169.092035  1.860198e+05  \n",
       "std            0.881499     172.072162       206.271016  1.807752e+05  \n",
       "min            0.000000      13.000000         1.000000  3.809375e+02  \n",
       "25%            0.000000     517.980900        45.000000  1.268293e+05  \n",
       "50%            0.000000     517.980900        95.000000  1.675958e+05  \n",
       "75%            1.000000     517.980900       198.000000  2.200000e+05  \n",
       "max            3.000000    1344.000000      1580.000000  2.166333e+07  "
      ]
     },
     "execution_count": 32,
     "metadata": {},
     "output_type": "execute_result"
    }
   ],
   "source": [
    "min_height = 2\n",
    "max_height = 4\n",
    "data = data.query('@min_height < ceiling_height < @max_height')\n",
    "data.describe()"
   ]
  },
  {
   "cell_type": "markdown",
   "metadata": {},
   "source": [
    "Убрали аномально малинькие высоты потолка и аномально большие."
   ]
  },
  {
   "cell_type": "code",
   "execution_count": 33,
   "metadata": {},
   "outputs": [
    {
     "data": {
      "text/plain": [
       "array(['Санкт-Петербург', 'посёлок Шушары', 'городской посёлок Янино-1',\n",
       "       'посёлок Парголово', 'посёлок Мурино', 'Ломоносов', 'Сертолово',\n",
       "       'Петергоф', 'Пушкин', 'деревня Кудрово', 'Коммунар', 'Колпино',\n",
       "       'поселок городского типа Красный Бор', 'Гатчина', 'поселок Мурино',\n",
       "       'деревня Фёдоровское', 'Выборг', 'Кронштадт', 'Кировск',\n",
       "       'деревня Новое Девяткино', 'посёлок Металлострой',\n",
       "       'посёлок городского типа Лебяжье',\n",
       "       'посёлок городского типа Сиверский', 'поселок Молодцово',\n",
       "       'поселок городского типа Кузьмоловский',\n",
       "       'садовое товарищество Новая Ропша', 'Павловск',\n",
       "       'деревня Пикколово', 'Всеволожск', 'Волхов', 'Кингисепп',\n",
       "       'Приозерск', 'Сестрорецк', 'деревня Куттузи', 'посёлок Аннино',\n",
       "       'поселок городского типа Ефимовский', 'посёлок Плодовое',\n",
       "       'деревня Заклинье', 'поселок Торковичи', 'поселок Первомайское',\n",
       "       'Красное Село', 'посёлок Понтонный', 'Сясьстрой', 'деревня Старая',\n",
       "       'деревня Лесколово', 'посёлок Новый Свет', 'Сланцы',\n",
       "       'село Путилово', 'Ивангород', 'Мурино', 'Шлиссельбург',\n",
       "       'Никольское', 'Зеленогорск', 'Сосновый Бор', 'деревня Оржицы',\n",
       "       'деревня Кальтино', 'Кудрово', 'поселок Романовка',\n",
       "       'посёлок Бугры', 'поселок Бугры', 'поселок городского типа Рощино',\n",
       "       'Кириши', 'Луга', 'Волосово', 'Отрадное', 'село Павлово',\n",
       "       'поселок Оредеж', 'село Копорье',\n",
       "       'посёлок городского типа Красный Бор', 'посёлок Молодёжное',\n",
       "       'Тихвин', 'посёлок Победа', 'деревня Нурма',\n",
       "       'поселок городского типа Синявино', 'Тосно',\n",
       "       'посёлок городского типа Кузьмоловский', 'посёлок Стрельна',\n",
       "       'Бокситогорск', 'посёлок Александровская', 'деревня Лопухинка',\n",
       "       'Пикалёво', 'поселок Терволово',\n",
       "       'поселок городского типа Советский', 'Подпорожье',\n",
       "       'посёлок Петровское', 'посёлок городского типа Токсово',\n",
       "       'поселок Новый Свет', 'поселок Сельцо',\n",
       "       'посёлок городского типа Вырица', 'деревня Кипень',\n",
       "       'деревня Келози', 'деревня Вартемяги', 'посёлок Тельмана',\n",
       "       'поселок Севастьяново', 'городской поселок Большая Ижора', nan,\n",
       "       'городской посёлок Павлово', 'деревня Агалатово',\n",
       "       'посёлок Новогорелово', 'городской посёлок Лесогорский',\n",
       "       'деревня Лаголово', 'поселок Цвелодубово',\n",
       "       'поселок городского типа Рахья', 'поселок городского типа Вырица',\n",
       "       'деревня Белогорка', 'поселок Заводской',\n",
       "       'городской посёлок Новоселье', 'деревня Большие Колпаны',\n",
       "       'деревня Горбунки', 'деревня Батово', 'деревня Заневка',\n",
       "       'деревня Иссад', 'Приморск', 'городской посёлок Фёдоровское',\n",
       "       'деревня Мистолово', 'Новая Ладога', 'поселок Зимитицы',\n",
       "       'поселок Барышево', 'деревня Разметелево',\n",
       "       'поселок городского типа имени Свердлова', 'деревня Пеники',\n",
       "       'поселок Рябово', 'деревня Пудомяги', 'поселок станции Корнево',\n",
       "       'деревня Низино', 'деревня Бегуницы', 'посёлок Поляны',\n",
       "       'городской посёлок Мга', 'поселок Елизаветино',\n",
       "       'посёлок городского типа Кузнечное', 'деревня Колтуши',\n",
       "       'поселок Запорожское', 'посёлок городского типа Рощино',\n",
       "       'деревня Гостилицы', 'деревня Малое Карлино',\n",
       "       'посёлок Мичуринское', 'посёлок городского типа имени Морозова',\n",
       "       'посёлок Песочный', 'посёлок Сосново', 'деревня Аро',\n",
       "       'поселок Ильичёво', 'посёлок городского типа Тайцы',\n",
       "       'деревня Малое Верево', 'деревня Извара', 'поселок станции Вещево',\n",
       "       'село Паша', 'деревня Калитино',\n",
       "       'посёлок городского типа Ульяновка', 'деревня Чудской Бор',\n",
       "       'поселок городского типа Дубровка', 'поселок Войсковицы',\n",
       "       'посёлок городского типа имени Свердлова', 'деревня Коркино',\n",
       "       'посёлок Ропша', 'поселок городского типа Приладожский',\n",
       "       'посёлок Щеглово', 'посёлок Гаврилово', 'Лодейное Поле',\n",
       "       'деревня Рабитицы', 'поселок городского типа Никольский',\n",
       "       'деревня Кузьмолово', 'деревня Малые Колпаны', 'поселок Тельмана',\n",
       "       'посёлок Петро-Славянка', 'городской посёлок Назия',\n",
       "       'посёлок Репино', 'посёлок Ильичёво', 'поселок Углово',\n",
       "       'поселок Старая Малукса', 'садовое товарищество Рахья',\n",
       "       'поселок Аннино', 'поселок Победа', 'деревня Меньково',\n",
       "       'деревня Старые Бегуницы', 'посёлок Сапёрный', 'поселок Семрино',\n",
       "       'поселок Гаврилово', 'поселок Глажево', 'поселок Кобринское',\n",
       "       'деревня Гарболово', 'деревня Юкки',\n",
       "       'поселок станции Приветнинское', 'деревня Мануйлово',\n",
       "       'деревня Пчева', 'поселок Поляны', 'поселок Цвылёво',\n",
       "       'поселок Мельниково', 'посёлок Пудость', 'посёлок Усть-Луга',\n",
       "       'Светогорск', 'Любань', 'поселок Селезнёво',\n",
       "       'поселок городского типа Рябово', 'Каменногорск', 'деревня Кривко',\n",
       "       'поселок Глебычево', 'деревня Парицы', 'поселок Жилпосёлок',\n",
       "       'посёлок городского типа Мга', 'городской поселок Янино-1',\n",
       "       'посёлок Войскорово', 'село Никольское', 'посёлок Терволово',\n",
       "       'поселок Стеклянный', 'посёлок городского типа Важины',\n",
       "       'посёлок Мыза-Ивановка', 'село Русско-Высоцкое',\n",
       "       'поселок городского типа Лебяжье',\n",
       "       'поселок городского типа Форносово', 'село Старая Ладога',\n",
       "       'поселок Житково', 'городской посёлок Виллози', 'деревня Лампово',\n",
       "       'деревня Шпаньково', 'деревня Лаврики', 'посёлок Сумино',\n",
       "       'посёлок Возрождение', 'деревня Старосиверская',\n",
       "       'посёлок Кикерино', 'поселок Возрождение',\n",
       "       'деревня Старое Хинколово', 'посёлок Пригородный',\n",
       "       'посёлок Торфяное', 'городской посёлок Будогощь',\n",
       "       'поселок Суходолье', 'поселок Красная Долина', 'деревня Хапо-Ое',\n",
       "       'поселок городского типа Дружная Горка', 'поселок Лисий Нос',\n",
       "       'деревня Яльгелево', 'посёлок Стеклянный', 'село Рождествено',\n",
       "       'деревня Старополье', 'посёлок Левашово', 'деревня Сяськелево',\n",
       "       'деревня Камышовка',\n",
       "       'садоводческое некоммерческое товарищество Лесная Поляна',\n",
       "       'деревня Хязельки', 'поселок Жилгородок',\n",
       "       'посёлок городского типа Павлово', 'деревня Ялгино',\n",
       "       'поселок Новый Учхоз', 'городской посёлок Рощино',\n",
       "       'поселок Гончарово', 'поселок Почап', 'посёлок Сапёрное',\n",
       "       'посёлок Платформа 69-й километр', 'поселок Каложицы',\n",
       "       'деревня Фалилеево', 'деревня Пельгора',\n",
       "       'поселок городского типа Лесогорский', 'деревня Торошковичи',\n",
       "       'посёлок Белоостров', 'посёлок Алексеевка', 'поселок Серебрянский',\n",
       "       'поселок Лукаши', 'поселок Петровское', 'деревня Щеглово',\n",
       "       'поселок Мичуринское', 'деревня Тарасово', 'поселок Кингисеппский',\n",
       "       'посёлок при железнодорожной станции Вещево', 'поселок Ушаки',\n",
       "       'деревня Котлы', 'деревня Сижно', 'деревня Торосово',\n",
       "       'посёлок Форт Красная Горка', 'поселок городского типа Токсово',\n",
       "       'деревня Новолисино', 'посёлок станции Громово', 'деревня Глинка',\n",
       "       'посёлок Мельниково', 'поселок городского типа Назия',\n",
       "       'деревня Старая Пустошь', 'поселок Коммунары', 'поселок Починок',\n",
       "       'посёлок городского типа Вознесенье', 'деревня Разбегаево',\n",
       "       'посёлок городского типа Рябово', 'поселок Гладкое',\n",
       "       'посёлок при железнодорожной станции Приветнинское',\n",
       "       'поселок Тёсово-4', 'посёлок Жилгородок', 'деревня Бор',\n",
       "       'посёлок Коробицыно', 'деревня Большая Вруда', 'деревня Курковицы',\n",
       "       'посёлок Лисий Нос', 'городской посёлок Советский',\n",
       "       'посёлок Кобралово', 'деревня Суоранда', 'поселок Кобралово',\n",
       "       'поселок городского типа Кондратьево',\n",
       "       'коттеджный поселок Счастье', 'поселок Любань', 'деревня Реброво',\n",
       "       'деревня Зимитицы', 'деревня Тойворово', 'поселок Семиозерье',\n",
       "       'поселок Лесное', 'поселок Совхозный', 'поселок Усть-Луга',\n",
       "       'посёлок Ленинское', 'посёлок Суйда',\n",
       "       'посёлок городского типа Форносово', 'деревня Нижние Осельки',\n",
       "       'посёлок станции Свирь', 'поселок Перово', 'Высоцк',\n",
       "       'поселок Гарболово', 'село Шум', 'поселок Котельский',\n",
       "       'поселок станции Лужайка', 'деревня Большая Пустомержа',\n",
       "       'поселок Красносельское', 'деревня Вахнова Кара', 'деревня Пижма',\n",
       "       'коттеджный поселок Кивеннапа Север', 'поселок Коробицыно',\n",
       "       'поселок Ромашки', 'посёлок Перово', 'деревня Каськово',\n",
       "       'деревня Куровицы', 'посёлок Плоское', 'поселок Сумино',\n",
       "       'поселок городского типа Большая Ижора', 'поселок Кирпичное',\n",
       "       'деревня Ям-Тесово', 'деревня Раздолье', 'деревня Терпилицы',\n",
       "       'посёлок Шугозеро', 'деревня Ваганово', 'поселок Пушное',\n",
       "       'садовое товарищество Садко', 'посёлок Усть-Ижора',\n",
       "       'деревня Выскатка', 'городской посёлок Свирьстрой',\n",
       "       'поселок Громово', 'деревня Кисельня', 'посёлок Старая Малукса',\n",
       "       'деревня Трубников Бор', 'поселок Калитино',\n",
       "       'посёлок Высокоключевой', 'садовое товарищество Приладожский',\n",
       "       'посёлок Пансионат Зелёный Бор', 'деревня Ненимяки',\n",
       "       'деревня Снегирёвка', 'деревня Рапполово', 'деревня Пустынка',\n",
       "       'поселок Рабитицы', 'деревня Большой Сабск', 'деревня Русско',\n",
       "       'деревня Лупполово', 'деревня Большое Рейзино',\n",
       "       'деревня Малая Романовка', 'поселок Дружноселье', 'поселок Пчевжа',\n",
       "       'поселок Володарское', 'коттеджный посёлок Лесное',\n",
       "       'деревня Тихковицы', 'деревня Борисова Грива',\n",
       "       'посёлок Дзержинского'], dtype=object)"
      ]
     },
     "execution_count": 33,
     "metadata": {},
     "output_type": "execute_result"
    }
   ],
   "source": [
    "#data['locality_name'].unique()\n",
    "data['locality_name'] = data['locality_name'].replace('поселок Пансионат Зелёный Бор', 'посёлок Пансионат Зелёный Бор')\n",
    "data['locality_name'].unique()\n"
   ]
  },
  {
   "cell_type": "markdown",
   "metadata": {},
   "source": [
    "Вывод: В предобработке данных мы привели значения столбцов к верному. Исправили пропуски. Провели поиск дубликатов и аномалий."
   ]
  },
  {
   "cell_type": "markdown",
   "metadata": {},
   "source": [
    "### Посчитайте и добавьте в таблицу новые столбцы"
   ]
  },
  {
   "cell_type": "code",
   "execution_count": 34,
   "metadata": {},
   "outputs": [],
   "source": [
    "# Функция категоризации этажей\n",
    "def floor_group(row):\n",
    "    what_floor=row['floor']\n",
    "    total_floor=row['floors_total']\n",
    "    if what_floor==1:\n",
    "        return 'Первый этаж'\n",
    "    if what_floor==total_floor:\n",
    "        return 'Последний этаж'\n",
    "    return 'Другой этаж'\n",
    "\n",
    "floor_position=data.apply(floor_group,axis=1) #заливка дата сета через apply и функцию\n",
    "data['Floor_position']=floor_position # новый столбец\n",
    " \n"
   ]
  },
  {
   "cell_type": "code",
   "execution_count": 35,
   "metadata": {},
   "outputs": [],
   "source": [
    "data['first_day_exposition'] = data['first_day_exposition'].astype('datetime64[M]')\n",
    "\n",
    "data['week_day']=data['first_day_exposition'].dt.weekday #создаю столбец с днем недели\n",
    "data['month']=data['first_day_exposition'].dt.month #создаю столбец с месяцем\n",
    "data['year']=data['first_day_exposition'].dt.year #создаю столбец с годом"
   ]
  },
  {
   "cell_type": "code",
   "execution_count": 36,
   "metadata": {},
   "outputs": [],
   "source": [
    "data['living_area/total_area']=data['living_area']/data['total_area'] #  отношение  жилой к общей площади"
   ]
  },
  {
   "cell_type": "code",
   "execution_count": 37,
   "metadata": {},
   "outputs": [
    {
     "data": {
      "text/html": [
       "<div>\n",
       "<style scoped>\n",
       "    .dataframe tbody tr th:only-of-type {\n",
       "        vertical-align: middle;\n",
       "    }\n",
       "\n",
       "    .dataframe tbody tr th {\n",
       "        vertical-align: top;\n",
       "    }\n",
       "\n",
       "    .dataframe thead th {\n",
       "        text-align: right;\n",
       "    }\n",
       "</style>\n",
       "<table border=\"1\" class=\"dataframe\">\n",
       "  <thead>\n",
       "    <tr style=\"text-align: right;\">\n",
       "      <th></th>\n",
       "      <th>total_images</th>\n",
       "      <th>last_price</th>\n",
       "      <th>total_area</th>\n",
       "      <th>first_day_exposition</th>\n",
       "      <th>rooms</th>\n",
       "      <th>ceiling_height</th>\n",
       "      <th>floors_total</th>\n",
       "      <th>living_area</th>\n",
       "      <th>floor</th>\n",
       "      <th>is_apartment</th>\n",
       "      <th>...</th>\n",
       "      <th>ponds_around3000</th>\n",
       "      <th>ponds_nearest</th>\n",
       "      <th>days_exposition</th>\n",
       "      <th>price_for_m2</th>\n",
       "      <th>Floor_position</th>\n",
       "      <th>week_day</th>\n",
       "      <th>month</th>\n",
       "      <th>year</th>\n",
       "      <th>living_area/total_area</th>\n",
       "      <th>kitchen_area/living_area</th>\n",
       "    </tr>\n",
       "  </thead>\n",
       "  <tbody>\n",
       "    <tr>\n",
       "      <th>0</th>\n",
       "      <td>20</td>\n",
       "      <td>13000000.0</td>\n",
       "      <td>108.0</td>\n",
       "      <td>2019-03-01</td>\n",
       "      <td>3</td>\n",
       "      <td>2.70</td>\n",
       "      <td>20</td>\n",
       "      <td>51.000000</td>\n",
       "      <td>8</td>\n",
       "      <td>True</td>\n",
       "      <td>...</td>\n",
       "      <td>2</td>\n",
       "      <td>755.0000</td>\n",
       "      <td>95</td>\n",
       "      <td>254901.960784</td>\n",
       "      <td>Другой этаж</td>\n",
       "      <td>4</td>\n",
       "      <td>3</td>\n",
       "      <td>2019</td>\n",
       "      <td>0.472222</td>\n",
       "      <td>0.490196</td>\n",
       "    </tr>\n",
       "    <tr>\n",
       "      <th>1</th>\n",
       "      <td>7</td>\n",
       "      <td>3350000.0</td>\n",
       "      <td>40.4</td>\n",
       "      <td>2018-12-01</td>\n",
       "      <td>1</td>\n",
       "      <td>2.63</td>\n",
       "      <td>7</td>\n",
       "      <td>18.600000</td>\n",
       "      <td>1</td>\n",
       "      <td>True</td>\n",
       "      <td>...</td>\n",
       "      <td>0</td>\n",
       "      <td>517.9809</td>\n",
       "      <td>81</td>\n",
       "      <td>180107.526882</td>\n",
       "      <td>Первый этаж</td>\n",
       "      <td>5</td>\n",
       "      <td>12</td>\n",
       "      <td>2018</td>\n",
       "      <td>0.460396</td>\n",
       "      <td>0.591398</td>\n",
       "    </tr>\n",
       "    <tr>\n",
       "      <th>2</th>\n",
       "      <td>10</td>\n",
       "      <td>5196000.0</td>\n",
       "      <td>56.0</td>\n",
       "      <td>2015-08-01</td>\n",
       "      <td>2</td>\n",
       "      <td>2.70</td>\n",
       "      <td>10</td>\n",
       "      <td>34.300000</td>\n",
       "      <td>4</td>\n",
       "      <td>True</td>\n",
       "      <td>...</td>\n",
       "      <td>2</td>\n",
       "      <td>574.0000</td>\n",
       "      <td>558</td>\n",
       "      <td>151486.880466</td>\n",
       "      <td>Другой этаж</td>\n",
       "      <td>5</td>\n",
       "      <td>8</td>\n",
       "      <td>2015</td>\n",
       "      <td>0.612500</td>\n",
       "      <td>0.241983</td>\n",
       "    </tr>\n",
       "    <tr>\n",
       "      <th>3</th>\n",
       "      <td>0</td>\n",
       "      <td>64900000.0</td>\n",
       "      <td>159.0</td>\n",
       "      <td>2015-07-01</td>\n",
       "      <td>3</td>\n",
       "      <td>2.70</td>\n",
       "      <td>0</td>\n",
       "      <td>90.785766</td>\n",
       "      <td>9</td>\n",
       "      <td>True</td>\n",
       "      <td>...</td>\n",
       "      <td>3</td>\n",
       "      <td>234.0000</td>\n",
       "      <td>424</td>\n",
       "      <td>714869.770085</td>\n",
       "      <td>Другой этаж</td>\n",
       "      <td>2</td>\n",
       "      <td>7</td>\n",
       "      <td>2015</td>\n",
       "      <td>0.570980</td>\n",
       "      <td>0.100236</td>\n",
       "    </tr>\n",
       "    <tr>\n",
       "      <th>4</th>\n",
       "      <td>2</td>\n",
       "      <td>10000000.0</td>\n",
       "      <td>100.0</td>\n",
       "      <td>2018-06-01</td>\n",
       "      <td>2</td>\n",
       "      <td>3.03</td>\n",
       "      <td>2</td>\n",
       "      <td>32.000000</td>\n",
       "      <td>13</td>\n",
       "      <td>True</td>\n",
       "      <td>...</td>\n",
       "      <td>1</td>\n",
       "      <td>48.0000</td>\n",
       "      <td>121</td>\n",
       "      <td>312500.000000</td>\n",
       "      <td>Другой этаж</td>\n",
       "      <td>4</td>\n",
       "      <td>6</td>\n",
       "      <td>2018</td>\n",
       "      <td>0.320000</td>\n",
       "      <td>1.281250</td>\n",
       "    </tr>\n",
       "  </tbody>\n",
       "</table>\n",
       "<p>5 rows × 29 columns</p>\n",
       "</div>"
      ],
      "text/plain": [
       "   total_images  last_price  total_area first_day_exposition  rooms  \\\n",
       "0            20  13000000.0       108.0           2019-03-01      3   \n",
       "1             7   3350000.0        40.4           2018-12-01      1   \n",
       "2            10   5196000.0        56.0           2015-08-01      2   \n",
       "3             0  64900000.0       159.0           2015-07-01      3   \n",
       "4             2  10000000.0       100.0           2018-06-01      2   \n",
       "\n",
       "   ceiling_height  floors_total  living_area  floor  is_apartment  ...  \\\n",
       "0            2.70            20    51.000000      8          True  ...   \n",
       "1            2.63             7    18.600000      1          True  ...   \n",
       "2            2.70            10    34.300000      4          True  ...   \n",
       "3            2.70             0    90.785766      9          True  ...   \n",
       "4            3.03             2    32.000000     13          True  ...   \n",
       "\n",
       "   ponds_around3000  ponds_nearest  days_exposition   price_for_m2  \\\n",
       "0                 2       755.0000               95  254901.960784   \n",
       "1                 0       517.9809               81  180107.526882   \n",
       "2                 2       574.0000              558  151486.880466   \n",
       "3                 3       234.0000              424  714869.770085   \n",
       "4                 1        48.0000              121  312500.000000   \n",
       "\n",
       "  Floor_position  week_day  month  year  living_area/total_area  \\\n",
       "0    Другой этаж         4      3  2019                0.472222   \n",
       "1    Первый этаж         5     12  2018                0.460396   \n",
       "2    Другой этаж         5      8  2015                0.612500   \n",
       "3    Другой этаж         2      7  2015                0.570980   \n",
       "4    Другой этаж         4      6  2018                0.320000   \n",
       "\n",
       "   kitchen_area/living_area  \n",
       "0                  0.490196  \n",
       "1                  0.591398  \n",
       "2                  0.241983  \n",
       "3                  0.100236  \n",
       "4                  1.281250  \n",
       "\n",
       "[5 rows x 29 columns]"
      ]
     },
     "execution_count": 37,
     "metadata": {},
     "output_type": "execute_result"
    }
   ],
   "source": [
    "data['kitchen_area/living_area']=data['kitchen_area']/data['living_area'] #отношение площади кухни к жилой площади\n",
    "data.head()"
   ]
  },
  {
   "cell_type": "code",
   "execution_count": 38,
   "metadata": {},
   "outputs": [
    {
     "name": "stdout",
     "output_type": "stream",
     "text": [
      "<class 'pandas.core.frame.DataFrame'>\n",
      "Int64Index: 23567 entries, 0 to 23698\n",
      "Data columns (total 30 columns):\n",
      " #   Column                    Non-Null Count  Dtype         \n",
      "---  ------                    --------------  -----         \n",
      " 0   total_images              23567 non-null  int64         \n",
      " 1   last_price                23567 non-null  float64       \n",
      " 2   total_area                23567 non-null  float64       \n",
      " 3   first_day_exposition      23567 non-null  datetime64[ns]\n",
      " 4   rooms                     23567 non-null  int64         \n",
      " 5   ceiling_height            23567 non-null  float64       \n",
      " 6   floors_total              23567 non-null  int64         \n",
      " 7   living_area               23567 non-null  float64       \n",
      " 8   floor                     23567 non-null  int64         \n",
      " 9   is_apartment              23567 non-null  bool          \n",
      " 10  studio                    23567 non-null  bool          \n",
      " 11  open_plan                 23567 non-null  bool          \n",
      " 12  kitchen_area              23567 non-null  float64       \n",
      " 13  balcony                   23567 non-null  int64         \n",
      " 14  locality_name             23519 non-null  object        \n",
      " 15  airports_nearest          23567 non-null  float64       \n",
      " 16  cityCenters_nearest       18204 non-null  float64       \n",
      " 17  parks_around3000          23567 non-null  int64         \n",
      " 18  parks_nearest             23567 non-null  float64       \n",
      " 19  ponds_around3000          23567 non-null  int64         \n",
      " 20  ponds_nearest             23567 non-null  float64       \n",
      " 21  days_exposition           23567 non-null  int64         \n",
      " 22  price_for_m2              23567 non-null  float64       \n",
      " 23  Floor_position            23567 non-null  object        \n",
      " 24  week_day                  23567 non-null  int64         \n",
      " 25  month                     23567 non-null  int64         \n",
      " 26  year                      23567 non-null  int64         \n",
      " 27  living_area/total_area    23567 non-null  float64       \n",
      " 28  kitchen_area/living_area  23567 non-null  float64       \n",
      " 29  cityCenters_nearest_km    23567 non-null  int64         \n",
      "dtypes: bool(3), datetime64[ns](1), float64(12), int64(12), object(2)\n",
      "memory usage: 5.1+ MB\n"
     ]
    }
   ],
   "source": [
    "data['cityCenters_nearest_km'] = data['cityCenters_nearest']/1000\n",
    "\n",
    "data['cityCenters_nearest_km'] = data['cityCenters_nearest_km'].fillna(value=0).astype(int)\n",
    "\n",
    "data.info()\n",
    "\n"
   ]
  },
  {
   "cell_type": "markdown",
   "metadata": {},
   "source": [
    "Добавили необходимые столбцы."
   ]
  },
  {
   "cell_type": "markdown",
   "metadata": {},
   "source": [
    "### Проведите исследовательский анализ данных"
   ]
  },
  {
   "cell_type": "code",
   "execution_count": 39,
   "metadata": {},
   "outputs": [
    {
     "data": {
      "text/plain": [
       "<AxesSubplot:>"
      ]
     },
     "execution_count": 39,
     "metadata": {},
     "output_type": "execute_result"
    },
    {
     "data": {
      "image/png": "[encoded data removed]",
      "text/plain": [
       "<Figure size 432x288 with 1 Axes>"
      ]
     },
     "metadata": {
      "needs_background": "light"
     },
     "output_type": "display_data"
    }
   ],
   "source": [
    "data['total_area'].hist(bins=100,range=(0,200))"
   ]
  },
  {
   "cell_type": "markdown",
   "metadata": {},
   "source": [
    "Оснвнаяя маса продаж приходится на площадь 46-49 кв. м."
   ]
  },
  {
   "cell_type": "code",
   "execution_count": 40,
   "metadata": {},
   "outputs": [
    {
     "data": {
      "text/plain": [
       "<AxesSubplot:>"
      ]
     },
     "execution_count": 40,
     "metadata": {},
     "output_type": "execute_result"
    },
    {
     "data": {
      "image/png": "[encoded data removed]",
      "text/plain": [
       "<Figure size 432x288 with 1 Axes>"
      ]
     },
     "metadata": {
      "needs_background": "light"
     },
     "output_type": "display_data"
    }
   ],
   "source": [
    "data['living_area'].hist(bins=100,range=(0,150))"
   ]
  },
  {
   "cell_type": "markdown",
   "metadata": {},
   "source": [
    "Видим два пика примерно 19 и 30 кв метров (можно предположить, что студия и однокомнатная). А так массово продаются квартиры с жилой площадью 25-48 кв. м."
   ]
  },
  {
   "cell_type": "code",
   "execution_count": 41,
   "metadata": {},
   "outputs": [
    {
     "data": {
      "text/plain": [
       "<AxesSubplot:>"
      ]
     },
     "execution_count": 41,
     "metadata": {},
     "output_type": "execute_result"
    },
    {
     "data": {
      "image/png": "[encoded data removed]",
      "text/plain": [
       "<Figure size 432x288 with 1 Axes>"
      ]
     },
     "metadata": {
      "needs_background": "light"
     },
     "output_type": "display_data"
    }
   ],
   "source": [
    "data['kitchen_area'].hist(bins=100,range=(0,50))"
   ]
  },
  {
   "cell_type": "markdown",
   "metadata": {},
   "source": [
    "Подавляющее большинство квартир продается с площадью 7-8 кв м, так как большинство советских планировок имели именно такие кухни."
   ]
  },
  {
   "cell_type": "code",
   "execution_count": 42,
   "metadata": {},
   "outputs": [
    {
     "data": {
      "text/plain": [
       "<AxesSubplot:>"
      ]
     },
     "execution_count": 42,
     "metadata": {},
     "output_type": "execute_result"
    },
    {
     "data": {
      "image/png": "[encoded data removed]",
      "text/plain": [
       "<Figure size 432x288 with 1 Axes>"
      ]
     },
     "metadata": {
      "needs_background": "light"
     },
     "output_type": "display_data"
    }
   ],
   "source": [
    "data['last_price'].hist(bins=100,range=(0,30000000))"
   ]
  },
  {
   "cell_type": "markdown",
   "metadata": {},
   "source": [
    "Больше всего квартир продается за 3-4 млн. руб"
   ]
  },
  {
   "cell_type": "code",
   "execution_count": 43,
   "metadata": {},
   "outputs": [
    {
     "data": {
      "text/plain": [
       "<AxesSubplot:>"
      ]
     },
     "execution_count": 43,
     "metadata": {},
     "output_type": "execute_result"
    },
    {
     "data": {
      "image/png": "[encoded data removed]",
      "text/plain": [
       "<Figure size 432x288 with 1 Axes>"
      ]
     },
     "metadata": {
      "needs_background": "light"
     },
     "output_type": "display_data"
    }
   ],
   "source": [
    "data['rooms'].hist(bins=50,range=(0,7))"
   ]
  },
  {
   "cell_type": "markdown",
   "metadata": {},
   "source": [
    "Больше всего продаются 1-2 комнатные квартиры, чуть меньше трехкомнатные. Квартиры с большим колмчеством комнат продлаются меньше."
   ]
  },
  {
   "cell_type": "code",
   "execution_count": 44,
   "metadata": {},
   "outputs": [
    {
     "data": {
      "text/plain": [
       "<AxesSubplot:>"
      ]
     },
     "execution_count": 44,
     "metadata": {},
     "output_type": "execute_result"
    },
    {
     "data": {
      "image/png": "[encoded data removed]",
      "text/plain": [
       "<Figure size 432x288 with 1 Axes>"
      ]
     },
     "metadata": {
      "needs_background": "light"
     },
     "output_type": "display_data"
    }
   ],
   "source": [
    "data['ceiling_height'].hist(bins=100,range=(2.3,4))"
   ]
  },
  {
   "cell_type": "markdown",
   "metadata": {},
   "source": [
    "Подавляющее большинство квартир продается с потолком 2,65м."
   ]
  },
  {
   "cell_type": "code",
   "execution_count": 45,
   "metadata": {},
   "outputs": [
    {
     "data": {
      "text/plain": [
       "<AxesSubplot:>"
      ]
     },
     "execution_count": 45,
     "metadata": {},
     "output_type": "execute_result"
    },
    {
     "data": {
      "image/png": "[encoded data removed]",
      "text/plain": [
       "<Figure size 432x288 with 1 Axes>"
      ]
     },
     "metadata": {
      "needs_background": "light"
     },
     "output_type": "display_data"
    }
   ],
   "source": [
    "data['floor'].hist(bins=100,range=(0, 30))"
   ]
  },
  {
   "cell_type": "markdown",
   "metadata": {},
   "source": [
    "Основная масса квартир продается на 2-5 этажах."
   ]
  },
  {
   "cell_type": "code",
   "execution_count": 46,
   "metadata": {},
   "outputs": [
    {
     "data": {
      "text/plain": [
       "<AxesSubplot:>"
      ]
     },
     "execution_count": 46,
     "metadata": {},
     "output_type": "execute_result"
    },
    {
     "data": {
      "image/png": "[encoded data removed]",
      "text/plain": [
       "<Figure size 432x288 with 1 Axes>"
      ]
     },
     "metadata": {
      "needs_background": "light"
     },
     "output_type": "display_data"
    }
   ],
   "source": [
    "data['Floor_position'].hist(bins=100)"
   ]
  },
  {
   "cell_type": "markdown",
   "metadata": {},
   "source": [
    "Меньше всего покупают на последнем этаже, а подавляющее большинство на Другом (не первом и не последнем)."
   ]
  },
  {
   "cell_type": "code",
   "execution_count": 47,
   "metadata": {},
   "outputs": [
    {
     "data": {
      "text/plain": [
       "<AxesSubplot:>"
      ]
     },
     "execution_count": 47,
     "metadata": {},
     "output_type": "execute_result"
    },
    {
     "data": {
      "image/png": "[encoded data removed]",
      "text/plain": [
       "<Figure size 432x288 with 1 Axes>"
      ]
     },
     "metadata": {
      "needs_background": "light"
     },
     "output_type": "display_data"
    }
   ],
   "source": [
    "data['floors_total'].hist(bins=100)"
   ]
  },
  {
   "cell_type": "markdown",
   "metadata": {},
   "source": [
    "Основные продажи идут 5-17 этажные дома (предположительно старый жилой фонд) и 20 этажные (новостройки)."
   ]
  },
  {
   "cell_type": "code",
   "execution_count": 48,
   "metadata": {},
   "outputs": [
    {
     "data": {
      "text/plain": [
       "<AxesSubplot:>"
      ]
     },
     "execution_count": 48,
     "metadata": {},
     "output_type": "execute_result"
    },
    {
     "data": {
      "image/png": "[encoded data removed]",
      "text/plain": [
       "<Figure size 432x288 with 1 Axes>"
      ]
     },
     "metadata": {
      "needs_background": "light"
     },
     "output_type": "display_data"
    }
   ],
   "source": [
    "data['cityCenters_nearest'].hist(bins=100, range=(0,20000))"
   ]
  },
  {
   "cell_type": "markdown",
   "metadata": {},
   "source": [
    "Подавляющее большинство квартир находится на расстоянии 14км от центра."
   ]
  },
  {
   "cell_type": "code",
   "execution_count": 49,
   "metadata": {},
   "outputs": [
    {
     "data": {
      "text/plain": [
       "<AxesSubplot:>"
      ]
     },
     "execution_count": 49,
     "metadata": {},
     "output_type": "execute_result"
    },
    {
     "data": {
      "image/png": "[encoded data removed]",
      "text/plain": [
       "<Figure size 432x288 with 1 Axes>"
      ]
     },
     "metadata": {
      "needs_background": "light"
     },
     "output_type": "display_data"
    }
   ],
   "source": [
    "data['airports_nearest'].hist(bins=100, range=(0,60000))"
   ]
  },
  {
   "cell_type": "markdown",
   "metadata": {},
   "source": [
    "Подавляющее большинство квартир находится на расстоянии 29км от центра."
   ]
  },
  {
   "cell_type": "code",
   "execution_count": 50,
   "metadata": {},
   "outputs": [
    {
     "data": {
      "text/plain": [
       "<AxesSubplot:>"
      ]
     },
     "execution_count": 50,
     "metadata": {},
     "output_type": "execute_result"
    },
    {
     "data": {
      "image/png": "[encoded data removed]",
      "text/plain": [
       "<Figure size 432x288 with 1 Axes>"
      ]
     },
     "metadata": {
      "needs_background": "light"
     },
     "output_type": "display_data"
    }
   ],
   "source": [
    "data['parks_nearest'].hist(bins=100, range=(300,700))"
   ]
  },
  {
   "cell_type": "markdown",
   "metadata": {},
   "source": [
    "Подавляющее большинство квартир находится на расстоянии 490м от парка."
   ]
  },
  {
   "cell_type": "code",
   "execution_count": 51,
   "metadata": {},
   "outputs": [
    {
     "data": {
      "text/plain": [
       "<AxesSubplot:>"
      ]
     },
     "execution_count": 51,
     "metadata": {},
     "output_type": "execute_result"
    },
    {
     "data": {
      "image/png": "[encoded data removed]",
      "text/plain": [
       "<Figure size 432x288 with 1 Axes>"
      ]
     },
     "metadata": {
      "needs_background": "light"
     },
     "output_type": "display_data"
    }
   ],
   "source": [
    "data['week_day'].hist(bins=30,range=(0,6))"
   ]
  },
  {
   "cell_type": "markdown",
   "metadata": {},
   "source": [
    "Основные продажи происходят в будни, в выходные немного меньше."
   ]
  },
  {
   "cell_type": "code",
   "execution_count": 52,
   "metadata": {},
   "outputs": [
    {
     "data": {
      "text/plain": [
       "<AxesSubplot:>"
      ]
     },
     "execution_count": 52,
     "metadata": {},
     "output_type": "execute_result"
    },
    {
     "data": {
      "image/png": "[encoded data removed]",
      "text/plain": [
       "<Figure size 432x288 with 1 Axes>"
      ]
     },
     "metadata": {
      "needs_background": "light"
     },
     "output_type": "display_data"
    }
   ],
   "source": [
    "data['month'].hist(bins=30,range=(1,12))"
   ]
  },
  {
   "cell_type": "markdown",
   "metadata": {},
   "source": [
    "Спады происходят в январе, мае и летом."
   ]
  },
  {
   "cell_type": "code",
   "execution_count": 53,
   "metadata": {},
   "outputs": [
    {
     "data": {
      "text/plain": [
       "<AxesSubplot:>"
      ]
     },
     "execution_count": 53,
     "metadata": {},
     "output_type": "execute_result"
    },
    {
     "data": {
      "image/png": "[encoded data removed]",
      "text/plain": [
       "<Figure size 432x288 with 1 Axes>"
      ]
     },
     "metadata": {
      "needs_background": "light"
     },
     "output_type": "display_data"
    }
   ],
   "source": [
    "data['days_exposition'].hist(bins=30,range=(0,500))"
   ]
  },
  {
   "cell_type": "markdown",
   "metadata": {},
   "source": [
    "ОСновные продажи осуществлялись на 95 день."
   ]
  },
  {
   "cell_type": "code",
   "execution_count": 54,
   "metadata": {},
   "outputs": [
    {
     "data": {
      "text/plain": [
       "count    23567.000000\n",
       "mean       169.092035\n",
       "std        206.271016\n",
       "min          1.000000\n",
       "25%         45.000000\n",
       "50%         95.000000\n",
       "75%        198.000000\n",
       "max       1580.000000\n",
       "Name: days_exposition, dtype: float64"
      ]
     },
     "execution_count": 54,
     "metadata": {},
     "output_type": "execute_result"
    }
   ],
   "source": [
    "data['days_exposition'].describe() #Исследуем data"
   ]
  },
  {
   "cell_type": "code",
   "execution_count": 55,
   "metadata": {},
   "outputs": [],
   "source": [
    "current_days_exposition_date=data.query('days_exposition<420')# Убрали выбросы находящиеся за 1.5 межквартальным интервалом, добавленного к Q3"
   ]
  },
  {
   "cell_type": "code",
   "execution_count": 56,
   "metadata": {},
   "outputs": [
    {
     "data": {
      "text/plain": [
       "count    21161.000000\n",
       "mean       111.757809\n",
       "std         94.761670\n",
       "min          1.000000\n",
       "25%         45.000000\n",
       "50%         95.000000\n",
       "75%        145.000000\n",
       "max        419.000000\n",
       "Name: days_exposition, dtype: float64"
      ]
     },
     "execution_count": 56,
     "metadata": {},
     "output_type": "execute_result"
    }
   ],
   "source": [
    "current_days_exposition_date['days_exposition'].describe()"
   ]
  },
  {
   "cell_type": "markdown",
   "metadata": {},
   "source": [
    "Среднее значение 111.734527, а медианное 95"
   ]
  },
  {
   "cell_type": "markdown",
   "metadata": {},
   "source": [
    "Обычно продажа квартиры занимает 95 дней, но есть объекты которые продаются и за один и за срок более года. Быстрыми продажами можно считать продажи менее 45 дней, а долгими боолее 145 дней."
   ]
  },
  {
   "cell_type": "code",
   "execution_count": 57,
   "metadata": {},
   "outputs": [
    {
     "data": {
      "text/plain": [
       "count    2.116100e+04\n",
       "mean     6.321146e+06\n",
       "std      1.058842e+07\n",
       "min      1.219000e+04\n",
       "25%      3.400000e+06\n",
       "50%      4.600000e+06\n",
       "75%      6.650000e+06\n",
       "max      7.630000e+08\n",
       "Name: last_price, dtype: float64"
      ]
     },
     "execution_count": 57,
     "metadata": {},
     "output_type": "execute_result"
    }
   ],
   "source": [
    "current_days_exposition_date['last_price'].describe()"
   ]
  },
  {
   "cell_type": "code",
   "execution_count": 58,
   "metadata": {},
   "outputs": [
    {
     "data": {
      "image/png": "[encoded data removed]",
      "text/plain": [
       "<Figure size 432x288 with 1 Axes>"
      ]
     },
     "metadata": {
      "needs_background": "light"
     },
     "output_type": "display_data"
    }
   ],
   "source": [
    "plt.ylim(100000,15000000)\n",
    "current_days_exposition_date.boxplot(column='last_price')\n",
    "plt.show()"
   ]
  },
  {
   "cell_type": "markdown",
   "metadata": {},
   "source": [
    "На диаграмме размаха видно, что в выбросы попадают квартиры свыше 11 млн. руб"
   ]
  },
  {
   "cell_type": "code",
   "execution_count": 59,
   "metadata": {},
   "outputs": [],
   "source": [
    "current_days_exposition_date=current_days_exposition_date.query('1000000<last_price<11*10**6') \n",
    "# Убрал выбросы квартир свыше 11 млн. руб и меньше 1 млн."
   ]
  },
  {
   "cell_type": "code",
   "execution_count": 60,
   "metadata": {},
   "outputs": [
    {
     "data": {
      "text/plain": [
       "<AxesSubplot:xlabel='last_price'>"
      ]
     },
     "execution_count": 60,
     "metadata": {},
     "output_type": "execute_result"
    },
    {
     "data": {
      "image/png": "[encoded data removed]",
      "text/plain": [
       "<Figure size 2160x360 with 1 Axes>"
      ]
     },
     "metadata": {
      "needs_background": "light"
     },
     "output_type": "display_data"
    }
   ],
   "source": [
    "(current_days_exposition_date\n",
    "    .sort_values(by='last_price',ascending=True)\n",
    "    .plot(x='last_price',y='total_area',grid=True, style='o',figsize=(30,5))\n",
    ")"
   ]
  },
  {
   "cell_type": "code",
   "execution_count": 61,
   "metadata": {},
   "outputs": [
    {
     "data": {
      "text/plain": [
       "0.6818673678149946"
      ]
     },
     "execution_count": 61,
     "metadata": {},
     "output_type": "execute_result"
    }
   ],
   "source": [
    "current_days_exposition_date['last_price'].corr(current_days_exposition_date['total_area'])"
   ]
  },
  {
   "cell_type": "markdown",
   "metadata": {},
   "source": [
    "При увеличении площади, увеличивается стоимость квартиры. Полседние обекты на графике можно посчитать элитным жильем(самая большая стоимость, при уменьшении площади, но таких обьектов мало). Стоимость квартиры коррелирует с площадью на коэфф Пирсона 0.64. Значит сильно зависят эти величины друг от друга. Положительная корреляция"
   ]
  },
  {
   "cell_type": "code",
   "execution_count": 62,
   "metadata": {},
   "outputs": [
    {
     "data": {
      "text/plain": [
       "<AxesSubplot:xlabel='last_price'>"
      ]
     },
     "execution_count": 62,
     "metadata": {},
     "output_type": "execute_result"
    },
    {
     "data": {
      "image/png": "[encoded data removed]",
      "text/plain": [
       "<Figure size 2160x360 with 1 Axes>"
      ]
     },
     "metadata": {
      "needs_background": "light"
     },
     "output_type": "display_data"
    }
   ],
   "source": [
    "(current_days_exposition_date\n",
    "    .sort_values(by='last_price',ascending=True)\n",
    "    .plot(x='last_price',y='living_area',grid=True, style='o-',figsize=(30,5))\n",
    ")"
   ]
  },
  {
   "cell_type": "code",
   "execution_count": 63,
   "metadata": {},
   "outputs": [
    {
     "data": {
      "text/plain": [
       "0.5677233581772274"
      ]
     },
     "execution_count": 63,
     "metadata": {},
     "output_type": "execute_result"
    }
   ],
   "source": [
    "current_days_exposition_date['last_price'].corr(current_days_exposition_date['living_area'])"
   ]
  },
  {
   "cell_type": "markdown",
   "metadata": {},
   "source": [
    "При увеличении жилой площади, увеличивается стоимость квартиры. Стоимость квартиры коррелирует с жилой \n",
    "площадью на коэфф Пирсона 0.60. Значит сильно зависят эти величины друг от друга. Положительная корреляция"
   ]
  },
  {
   "cell_type": "code",
   "execution_count": 64,
   "metadata": {},
   "outputs": [
    {
     "data": {
      "text/plain": [
       "<AxesSubplot:xlabel='last_price'>"
      ]
     },
     "execution_count": 64,
     "metadata": {},
     "output_type": "execute_result"
    },
    {
     "data": {
      "image/png": "[encoded data removed]",
      "text/plain": [
       "<Figure size 2160x360 with 1 Axes>"
      ]
     },
     "metadata": {
      "needs_background": "light"
     },
     "output_type": "display_data"
    }
   ],
   "source": [
    "(current_days_exposition_date\n",
    "    .sort_values(by='last_price',ascending=True)\n",
    "    .plot(x='last_price',y='kitchen_area',grid=True, style='o-',figsize=(30,5))\n",
    ")"
   ]
  },
  {
   "cell_type": "code",
   "execution_count": 65,
   "metadata": {},
   "outputs": [
    {
     "data": {
      "text/plain": [
       "0.4375075480527326"
      ]
     },
     "execution_count": 65,
     "metadata": {},
     "output_type": "execute_result"
    }
   ],
   "source": [
    "current_days_exposition_date['last_price'].corr(current_days_exposition_date['kitchen_area'])"
   ]
  },
  {
   "cell_type": "markdown",
   "metadata": {},
   "source": [
    "При увеличении площади кухни, увеличивается стоимость квартиры. Стоимость квартиры коррелирует с площадью кухни на \n",
    "коэфф Пирсона 0.43. Не такая сильная зависимость как от общей площади и площади жилой, но все-таки\n",
    "достаточно сильно зависят эти величины друг от друга. Положительная корреляция"
   ]
  },
  {
   "cell_type": "code",
   "execution_count": 66,
   "metadata": {},
   "outputs": [
    {
     "data": {
      "text/plain": [
       "<AxesSubplot:xlabel='rooms'>"
      ]
     },
     "execution_count": 66,
     "metadata": {},
     "output_type": "execute_result"
    },
    {
     "data": {
      "image/png": "[encoded data removed]",
      "text/plain": [
       "<Figure size 1080x576 with 1 Axes>"
      ]
     },
     "metadata": {
      "needs_background": "light"
     },
     "output_type": "display_data"
    }
   ],
   "source": [
    "(current_days_exposition_date\n",
    "     .groupby('rooms')['last_price'].median()\n",
    "         .plot(x='rooms',y='last_price',style='o-',grid=True,figsize=(15,8),alpha=1)\n",
    ")"
   ]
  },
  {
   "cell_type": "markdown",
   "metadata": {},
   "source": [
    "На этом графике видно, что при увеливении кол-ва комнат, увеличивается стоимость. С кол-вом комнат 7, она ниже, так- как мало данных и значение медианной цены вносит свою корректировку."
   ]
  },
  {
   "cell_type": "code",
   "execution_count": 67,
   "metadata": {},
   "outputs": [
    {
     "data": {
      "text/plain": [
       "0.44516472036045757"
      ]
     },
     "execution_count": 67,
     "metadata": {},
     "output_type": "execute_result"
    }
   ],
   "source": [
    "current_days_exposition_date['last_price'].corr(current_days_exposition_date[\"rooms\"])"
   ]
  },
  {
   "cell_type": "markdown",
   "metadata": {},
   "source": [
    "Коэф Пирсона 0.45. Положительная корреляция цены и кол-ва комнат"
   ]
  },
  {
   "cell_type": "code",
   "execution_count": 68,
   "metadata": {},
   "outputs": [
    {
     "data": {
      "text/plain": [
       "<AxesSubplot:xlabel='Floor_position'>"
      ]
     },
     "execution_count": 68,
     "metadata": {},
     "output_type": "execute_result"
    },
    {
     "data": {
      "image/png": "[encoded data removed]",
      "text/plain": [
       "<Figure size 432x288 with 1 Axes>"
      ]
     },
     "metadata": {
      "needs_background": "light"
     },
     "output_type": "display_data"
    }
   ],
   "source": [
    "(current_days_exposition_date\n",
    "    .groupby('Floor_position')['last_price'].median()\n",
    "    .plot(x='Floor_position',y='last_price',kind='bar')\n",
    ")"
   ]
  },
  {
   "cell_type": "code",
   "execution_count": 69,
   "metadata": {},
   "outputs": [
    {
     "data": {
      "text/plain": [
       "0.13135202913611255"
      ]
     },
     "execution_count": 69,
     "metadata": {},
     "output_type": "execute_result"
    }
   ],
   "source": [
    "current_days_exposition_date['floor'].corr(current_days_exposition_date['last_price'])"
   ]
  },
  {
   "cell_type": "markdown",
   "metadata": {},
   "source": [
    "Из гистограммы видно, что цена не сильно зависит от этажа. Видно, что цена за первый этаж немного ниже. \n",
    "Эти выводы подтверждает коэф Пирсона= 0.11 положительный"
   ]
  },
  {
   "cell_type": "code",
   "execution_count": 70,
   "metadata": {},
   "outputs": [
    {
     "data": {
      "text/plain": [
       "<AxesSubplot:xlabel='week_day'>"
      ]
     },
     "execution_count": 70,
     "metadata": {},
     "output_type": "execute_result"
    },
    {
     "data": {
      "image/png": "[encoded data removed]",
      "text/plain": [
       "<Figure size 432x288 with 1 Axes>"
      ]
     },
     "metadata": {
      "needs_background": "light"
     },
     "output_type": "display_data"
    }
   ],
   "source": [
    "(current_days_exposition_date\n",
    "     #.pivot_table(index='week_day',values='last_price',aggfunc=('median'))\n",
    "     .groupby('week_day')['last_price'].count()\n",
    "     .plot(x='week_day',y='last_price',kind='bar')\n",
    ")"
   ]
  },
  {
   "cell_type": "markdown",
   "metadata": {},
   "source": [
    "По гистограмме видно, что чаще всего объявления закрываются во вторник, четверг и пятницу. В выходные меньше всего. "
   ]
  },
  {
   "cell_type": "code",
   "execution_count": 71,
   "metadata": {},
   "outputs": [
    {
     "data": {
      "text/plain": [
       "<AxesSubplot:xlabel='month'>"
      ]
     },
     "execution_count": 71,
     "metadata": {},
     "output_type": "execute_result"
    },
    {
     "data": {
      "image/png": "[encoded data removed]",
      "text/plain": [
       "<Figure size 432x288 with 1 Axes>"
      ]
     },
     "metadata": {
      "needs_background": "light"
     },
     "output_type": "display_data"
    }
   ],
   "source": [
    "(current_days_exposition_date\n",
    "     #.pivot_table(index='week_day',values='last_price',aggfunc=('median'))\n",
    "     .groupby('month')['last_price'].count()\n",
    "     .plot(x='month',y='last_price',kind='bar')\n",
    ")"
   ]
  },
  {
   "cell_type": "markdown",
   "metadata": {},
   "source": [
    "Из гистограммы видно, что объявления меньше всего закрываются в месяцы перед НГ в декабре и после НГ в январе. Много выходных и люди тратят деньги на подарки и отдых. В мае низко тоже из-зи праздников."
   ]
  },
  {
   "cell_type": "code",
   "execution_count": 72,
   "metadata": {},
   "outputs": [
    {
     "data": {
      "text/plain": [
       "<AxesSubplot:xlabel='year'>"
      ]
     },
     "execution_count": 72,
     "metadata": {},
     "output_type": "execute_result"
    },
    {
     "data": {
      "image/png": "[encoded data removed]",
      "text/plain": [
       "<Figure size 432x288 with 1 Axes>"
      ]
     },
     "metadata": {
      "needs_background": "light"
     },
     "output_type": "display_data"
    }
   ],
   "source": [
    "(current_days_exposition_date\n",
    "     #.pivot_table(index='week_day',values='last_price',aggfunc=('median'))\n",
    "     .groupby('year')['last_price'].count()\n",
    "     .plot(x='year',y='last_price',kind='bar')\n",
    ")"
   ]
  },
  {
   "cell_type": "code",
   "execution_count": null,
   "metadata": {},
   "outputs": [],
   "source": []
  },
  {
   "cell_type": "markdown",
   "metadata": {},
   "source": [
    "Больше всего продаж в 2017 и 2018 году."
   ]
  },
  {
   "cell_type": "code",
   "execution_count": 73,
   "metadata": {},
   "outputs": [
    {
     "data": {
      "image/png": "[encoded data removed]",
      "text/plain": [
       "<Figure size 432x288 with 1 Axes>"
      ]
     },
     "metadata": {
      "needs_background": "light"
     },
     "output_type": "display_data"
    }
   ],
   "source": [
    "current_days_exposition_date.groupby('year')['last_price'].mean().plot.bar();"
   ]
  },
  {
   "cell_type": "code",
   "execution_count": 74,
   "metadata": {},
   "outputs": [
    {
     "data": {
      "image/png": "[encoded data removed]",
      "text/plain": [
       "<Figure size 432x288 with 1 Axes>"
      ]
     },
     "metadata": {
      "needs_background": "light"
     },
     "output_type": "display_data"
    }
   ],
   "source": [
    "current_days_exposition_date.groupby('month')['last_price'].mean().plot.bar();"
   ]
  },
  {
   "cell_type": "code",
   "execution_count": 75,
   "metadata": {},
   "outputs": [
    {
     "data": {
      "image/png": "[encoded data removed]",
      "text/plain": [
       "<Figure size 432x288 with 1 Axes>"
      ]
     },
     "metadata": {
      "needs_background": "light"
     },
     "output_type": "display_data"
    }
   ],
   "source": [
    "current_days_exposition_date.groupby('week_day')['last_price'].mean().plot.bar();"
   ]
  },
  {
   "cell_type": "code",
   "execution_count": 76,
   "metadata": {},
   "outputs": [
    {
     "data": {
      "text/html": [
       "<div>\n",
       "<style scoped>\n",
       "    .dataframe tbody tr th:only-of-type {\n",
       "        vertical-align: middle;\n",
       "    }\n",
       "\n",
       "    .dataframe tbody tr th {\n",
       "        vertical-align: top;\n",
       "    }\n",
       "\n",
       "    .dataframe thead th {\n",
       "        text-align: right;\n",
       "    }\n",
       "</style>\n",
       "<table border=\"1\" class=\"dataframe\">\n",
       "  <thead>\n",
       "    <tr style=\"text-align: right;\">\n",
       "      <th></th>\n",
       "      <th>count</th>\n",
       "      <th>median</th>\n",
       "    </tr>\n",
       "    <tr>\n",
       "      <th>locality_name</th>\n",
       "      <th></th>\n",
       "      <th></th>\n",
       "    </tr>\n",
       "  </thead>\n",
       "  <tbody>\n",
       "    <tr>\n",
       "      <th>Санкт-Петербург</th>\n",
       "      <td>12139</td>\n",
       "      <td>182222.222222</td>\n",
       "    </tr>\n",
       "    <tr>\n",
       "      <th>посёлок Мурино</th>\n",
       "      <td>477</td>\n",
       "      <td>168539.325843</td>\n",
       "    </tr>\n",
       "    <tr>\n",
       "      <th>посёлок Шушары</th>\n",
       "      <td>405</td>\n",
       "      <td>144039.735099</td>\n",
       "    </tr>\n",
       "    <tr>\n",
       "      <th>Всеволожск</th>\n",
       "      <td>347</td>\n",
       "      <td>123333.333333</td>\n",
       "    </tr>\n",
       "    <tr>\n",
       "      <th>Колпино</th>\n",
       "      <td>314</td>\n",
       "      <td>125911.775894</td>\n",
       "    </tr>\n",
       "    <tr>\n",
       "      <th>Пушкин</th>\n",
       "      <td>304</td>\n",
       "      <td>175068.793100</td>\n",
       "    </tr>\n",
       "    <tr>\n",
       "      <th>посёлок Парголово</th>\n",
       "      <td>300</td>\n",
       "      <td>191565.656566</td>\n",
       "    </tr>\n",
       "    <tr>\n",
       "      <th>Гатчина</th>\n",
       "      <td>269</td>\n",
       "      <td>116772.823779</td>\n",
       "    </tr>\n",
       "    <tr>\n",
       "      <th>деревня Кудрово</th>\n",
       "      <td>262</td>\n",
       "      <td>181382.238307</td>\n",
       "    </tr>\n",
       "    <tr>\n",
       "      <th>Выборг</th>\n",
       "      <td>205</td>\n",
       "      <td>94117.647059</td>\n",
       "    </tr>\n",
       "  </tbody>\n",
       "</table>\n",
       "</div>"
      ],
      "text/plain": [
       "                   count         median\n",
       "locality_name                          \n",
       "Санкт-Петербург    12139  182222.222222\n",
       "посёлок Мурино       477  168539.325843\n",
       "посёлок Шушары       405  144039.735099\n",
       "Всеволожск           347  123333.333333\n",
       "Колпино              314  125911.775894\n",
       "Пушкин               304  175068.793100\n",
       "посёлок Парголово    300  191565.656566\n",
       "Гатчина              269  116772.823779\n",
       "деревня Кудрово      262  181382.238307\n",
       "Выборг               205   94117.647059"
      ]
     },
     "execution_count": 76,
     "metadata": {},
     "output_type": "execute_result"
    }
   ],
   "source": [
    "\n",
    "raiting_of_location=current_days_exposition_date.pivot_table(index='locality_name',values='price_for_m2',aggfunc=('count','median'))\n",
    "raiting_of_location.sort_values(by='count',ascending=False).head(10)"
   ]
  },
  {
   "cell_type": "markdown",
   "metadata": {},
   "source": [
    "Топ 10 регионов с самым большом количеством объявлений и их средней стоимостью 1 м кв\n",
    "\n",
    "В Санкт-Петербурге больше всего объявлений и самая большая стоимость 1 м кв\n",
    "\n",
    "В Выборге меньше всего объявлений и самая низкая стоимость 1 м кв"
   ]
  },
  {
   "cell_type": "code",
   "execution_count": 77,
   "metadata": {},
   "outputs": [],
   "source": [
    "current_days_exposition_date['cityCenters_nearest_in_km']=current_days_exposition_date['cityCenters_nearest']/1000"
   ]
  },
  {
   "cell_type": "markdown",
   "metadata": {},
   "source": [
    "добавил в основную таблицу столбец с расстоянием до центра в км"
   ]
  },
  {
   "cell_type": "code",
   "execution_count": 78,
   "metadata": {},
   "outputs": [],
   "source": [
    "current_days_exposition_date['cost_of_km']=current_days_exposition_date['last_price']/current_days_exposition_date['cityCenters_nearest_in_km']"
   ]
  },
  {
   "cell_type": "markdown",
   "metadata": {},
   "source": [
    "Посчитал стоимость 1 кв м для всех объектом и записал в таблицу."
   ]
  },
  {
   "cell_type": "code",
   "execution_count": 79,
   "metadata": {},
   "outputs": [
    {
     "data": {
      "text/html": [
       "<div>\n",
       "<style scoped>\n",
       "    .dataframe tbody tr th:only-of-type {\n",
       "        vertical-align: middle;\n",
       "    }\n",
       "\n",
       "    .dataframe tbody tr th {\n",
       "        vertical-align: top;\n",
       "    }\n",
       "\n",
       "    .dataframe thead th {\n",
       "        text-align: right;\n",
       "    }\n",
       "</style>\n",
       "<table border=\"1\" class=\"dataframe\">\n",
       "  <thead>\n",
       "    <tr style=\"text-align: right;\">\n",
       "      <th></th>\n",
       "      <th>total_images</th>\n",
       "      <th>last_price</th>\n",
       "      <th>total_area</th>\n",
       "      <th>first_day_exposition</th>\n",
       "      <th>rooms</th>\n",
       "      <th>ceiling_height</th>\n",
       "      <th>floors_total</th>\n",
       "      <th>living_area</th>\n",
       "      <th>floor</th>\n",
       "      <th>is_apartment</th>\n",
       "      <th>...</th>\n",
       "      <th>price_for_m2</th>\n",
       "      <th>Floor_position</th>\n",
       "      <th>week_day</th>\n",
       "      <th>month</th>\n",
       "      <th>year</th>\n",
       "      <th>living_area/total_area</th>\n",
       "      <th>kitchen_area/living_area</th>\n",
       "      <th>cityCenters_nearest_km</th>\n",
       "      <th>cityCenters_nearest_in_km</th>\n",
       "      <th>cost_of_km</th>\n",
       "    </tr>\n",
       "  </thead>\n",
       "  <tbody>\n",
       "    <tr>\n",
       "      <th>4</th>\n",
       "      <td>2</td>\n",
       "      <td>10000000.0</td>\n",
       "      <td>100.0</td>\n",
       "      <td>2018-06-01</td>\n",
       "      <td>2</td>\n",
       "      <td>3.03</td>\n",
       "      <td>2</td>\n",
       "      <td>32.000000</td>\n",
       "      <td>13</td>\n",
       "      <td>True</td>\n",
       "      <td>...</td>\n",
       "      <td>312500.000000</td>\n",
       "      <td>Другой этаж</td>\n",
       "      <td>4</td>\n",
       "      <td>6</td>\n",
       "      <td>2018</td>\n",
       "      <td>0.320000</td>\n",
       "      <td>1.281250</td>\n",
       "      <td>8</td>\n",
       "      <td>8.098</td>\n",
       "      <td>1.234873e+06</td>\n",
       "    </tr>\n",
       "    <tr>\n",
       "      <th>7</th>\n",
       "      <td>5</td>\n",
       "      <td>7915000.0</td>\n",
       "      <td>71.6</td>\n",
       "      <td>2019-04-01</td>\n",
       "      <td>2</td>\n",
       "      <td>2.70</td>\n",
       "      <td>5</td>\n",
       "      <td>40.882144</td>\n",
       "      <td>22</td>\n",
       "      <td>True</td>\n",
       "      <td>...</td>\n",
       "      <td>193605.306532</td>\n",
       "      <td>Другой этаж</td>\n",
       "      <td>0</td>\n",
       "      <td>4</td>\n",
       "      <td>2019</td>\n",
       "      <td>0.570980</td>\n",
       "      <td>0.462305</td>\n",
       "      <td>11</td>\n",
       "      <td>11.634</td>\n",
       "      <td>6.803335e+05</td>\n",
       "    </tr>\n",
       "    <tr>\n",
       "      <th>9</th>\n",
       "      <td>18</td>\n",
       "      <td>5400000.0</td>\n",
       "      <td>61.0</td>\n",
       "      <td>2017-02-01</td>\n",
       "      <td>3</td>\n",
       "      <td>2.50</td>\n",
       "      <td>18</td>\n",
       "      <td>43.600000</td>\n",
       "      <td>7</td>\n",
       "      <td>True</td>\n",
       "      <td>...</td>\n",
       "      <td>123853.211009</td>\n",
       "      <td>Другой этаж</td>\n",
       "      <td>2</td>\n",
       "      <td>2</td>\n",
       "      <td>2017</td>\n",
       "      <td>0.714754</td>\n",
       "      <td>0.149083</td>\n",
       "      <td>15</td>\n",
       "      <td>15.008</td>\n",
       "      <td>3.598081e+05</td>\n",
       "    </tr>\n",
       "    <tr>\n",
       "      <th>10</th>\n",
       "      <td>5</td>\n",
       "      <td>5050000.0</td>\n",
       "      <td>39.6</td>\n",
       "      <td>2017-11-01</td>\n",
       "      <td>1</td>\n",
       "      <td>2.67</td>\n",
       "      <td>5</td>\n",
       "      <td>20.300000</td>\n",
       "      <td>3</td>\n",
       "      <td>True</td>\n",
       "      <td>...</td>\n",
       "      <td>248768.472906</td>\n",
       "      <td>Другой этаж</td>\n",
       "      <td>2</td>\n",
       "      <td>11</td>\n",
       "      <td>2017</td>\n",
       "      <td>0.512626</td>\n",
       "      <td>0.418719</td>\n",
       "      <td>13</td>\n",
       "      <td>13.878</td>\n",
       "      <td>3.638853e+05</td>\n",
       "    </tr>\n",
       "    <tr>\n",
       "      <th>15</th>\n",
       "      <td>16</td>\n",
       "      <td>4650000.0</td>\n",
       "      <td>39.0</td>\n",
       "      <td>2017-11-01</td>\n",
       "      <td>1</td>\n",
       "      <td>2.70</td>\n",
       "      <td>16</td>\n",
       "      <td>20.500000</td>\n",
       "      <td>5</td>\n",
       "      <td>True</td>\n",
       "      <td>...</td>\n",
       "      <td>226829.268293</td>\n",
       "      <td>Другой этаж</td>\n",
       "      <td>2</td>\n",
       "      <td>11</td>\n",
       "      <td>2017</td>\n",
       "      <td>0.525641</td>\n",
       "      <td>0.370732</td>\n",
       "      <td>14</td>\n",
       "      <td>14.259</td>\n",
       "      <td>3.261098e+05</td>\n",
       "    </tr>\n",
       "  </tbody>\n",
       "</table>\n",
       "<p>5 rows × 32 columns</p>\n",
       "</div>"
      ],
      "text/plain": [
       "    total_images  last_price  total_area first_day_exposition  rooms  \\\n",
       "4              2  10000000.0       100.0           2018-06-01      2   \n",
       "7              5   7915000.0        71.6           2019-04-01      2   \n",
       "9             18   5400000.0        61.0           2017-02-01      3   \n",
       "10             5   5050000.0        39.6           2017-11-01      1   \n",
       "15            16   4650000.0        39.0           2017-11-01      1   \n",
       "\n",
       "    ceiling_height  floors_total  living_area  floor  is_apartment  ...  \\\n",
       "4             3.03             2    32.000000     13          True  ...   \n",
       "7             2.70             5    40.882144     22          True  ...   \n",
       "9             2.50            18    43.600000      7          True  ...   \n",
       "10            2.67             5    20.300000      3          True  ...   \n",
       "15            2.70            16    20.500000      5          True  ...   \n",
       "\n",
       "     price_for_m2  Floor_position  week_day  month  year  \\\n",
       "4   312500.000000     Другой этаж         4      6  2018   \n",
       "7   193605.306532     Другой этаж         0      4  2019   \n",
       "9   123853.211009     Другой этаж         2      2  2017   \n",
       "10  248768.472906     Другой этаж         2     11  2017   \n",
       "15  226829.268293     Другой этаж         2     11  2017   \n",
       "\n",
       "    living_area/total_area  kitchen_area/living_area  cityCenters_nearest_km  \\\n",
       "4                 0.320000                  1.281250                       8   \n",
       "7                 0.570980                  0.462305                      11   \n",
       "9                 0.714754                  0.149083                      15   \n",
       "10                0.512626                  0.418719                      13   \n",
       "15                0.525641                  0.370732                      14   \n",
       "\n",
       "    cityCenters_nearest_in_km    cost_of_km  \n",
       "4                       8.098  1.234873e+06  \n",
       "7                      11.634  6.803335e+05  \n",
       "9                      15.008  3.598081e+05  \n",
       "10                     13.878  3.638853e+05  \n",
       "15                     14.259  3.261098e+05  \n",
       "\n",
       "[5 rows x 32 columns]"
      ]
     },
     "execution_count": 79,
     "metadata": {},
     "output_type": "execute_result"
    }
   ],
   "source": [
    "spb_region=current_days_exposition_date.query('locality_name==\"Санкт-Петербург\"')\n",
    "spb_region.head()"
   ]
  },
  {
   "cell_type": "code",
   "execution_count": 80,
   "metadata": {},
   "outputs": [
    {
     "data": {
      "image/png": "[encoded data removed]",
      "text/plain": [
       "<Figure size 1080x360 with 1 Axes>"
      ]
     },
     "metadata": {
      "needs_background": "light"
     },
     "output_type": "display_data"
    }
   ],
   "source": [
    "(spb_region\n",
    "     .sort_values(by='cityCenters_nearest_in_km',ascending=True)\n",
    "     .plot(x='cityCenters_nearest_in_km',y='cost_of_km', style='-',figsize=(15,5), title = 'Заголовок')\n",
    ");"
   ]
  },
  {
   "cell_type": "markdown",
   "metadata": {},
   "source": [
    "График зависимости цены 1 м кв от расстояния в регионе Спб. По нему видно, что после 5 км от центра цена почти не меняется и идет плотной линией."
   ]
  },
  {
   "cell_type": "markdown",
   "metadata": {},
   "source": [
    "### Общий вывод"
   ]
  },
  {
   "cell_type": "markdown",
   "metadata": {},
   "source": [
    "Проведена большая работа по данному проекту.\n",
    "\n",
    "Были определены аномалии и построена стратегия замены пропусков.\n",
    "Пропуски были заполнены максимально возможными способами, чтобы каждое значение могло влиять на гипотезы.\n",
    "Приведены типы данных для уменьшения используемой памяти и отображаемого вида в таблице.\n",
    "Созданы дополнительные столбцы для улучшения анализа данных.\n",
    "Даны ответы на заданные вопросы.\n",
    "\n",
    "Основным ориентиром для определения стоимости квартиры - это стоимость квадратного метра.\n",
    "Общая площадь, отношения жилой к общей и отношение кухонной к общей площади помогут определить самый предпочитаемый тип квартир.\n",
    "Даты продаж позволят определить, в какой момент лучше продвигать рекламную компанию по продаже домов. В какие месяцы или дни недели. Количество продаж по годам имеет естественную зависимость от количество жителей города.\n",
    "Этаж квартиры. В большинстве случаев люди редко берут квартиры на первм этаже из-за их небезопасности, а квартиры на последним - из-за возможных проблем с крышей. Соотвественно самыми дорогими считаются комфортные квартиры между первым и последним этажом.\n"
   ]
  }
 ],
 "metadata": {
  "ExecuteTimeLog": [
   {
    "duration": 483,
    "start_time": "2022-09-16T06:02:04.072Z"
   },
   {
    "duration": 147,
    "start_time": "2022-09-16T06:02:35.471Z"
   },
   {
    "duration": 101,
    "start_time": "2022-09-16T06:03:04.390Z"
   },
   {
    "duration": 386,
    "start_time": "2022-09-16T06:04:02.286Z"
   },
   {
    "duration": 97,
    "start_time": "2022-09-16T06:15:52.342Z"
   },
   {
    "duration": 93,
    "start_time": "2022-09-16T06:17:09.162Z"
   },
   {
    "duration": 91,
    "start_time": "2022-09-16T06:17:35.984Z"
   },
   {
    "duration": 118,
    "start_time": "2022-09-16T06:22:34.449Z"
   },
   {
    "duration": 36,
    "start_time": "2022-09-16T06:23:13.533Z"
   },
   {
    "duration": 80,
    "start_time": "2022-09-16T06:23:53.445Z"
   },
   {
    "duration": 7,
    "start_time": "2022-09-16T06:23:55.265Z"
   },
   {
    "duration": 114,
    "start_time": "2022-09-16T06:24:21.504Z"
   },
   {
    "duration": 35,
    "start_time": "2022-09-16T06:24:25.985Z"
   },
   {
    "duration": 92,
    "start_time": "2022-09-16T06:24:47.259Z"
   },
   {
    "duration": 8,
    "start_time": "2022-09-16T06:24:48.061Z"
   },
   {
    "duration": 79,
    "start_time": "2022-09-16T06:25:45.531Z"
   },
   {
    "duration": 122,
    "start_time": "2022-09-16T06:26:19.336Z"
   },
   {
    "duration": 140,
    "start_time": "2022-09-16T06:27:07.263Z"
   },
   {
    "duration": 99,
    "start_time": "2022-09-16T06:28:00.204Z"
   },
   {
    "duration": 90,
    "start_time": "2022-09-16T06:28:06.022Z"
   },
   {
    "duration": 121,
    "start_time": "2022-09-16T06:28:22.935Z"
   },
   {
    "duration": 13,
    "start_time": "2022-09-16T06:33:58.075Z"
   },
   {
    "duration": 117,
    "start_time": "2022-09-16T06:35:23.985Z"
   },
   {
    "duration": 13,
    "start_time": "2022-09-16T06:35:24.701Z"
   },
   {
    "duration": 11,
    "start_time": "2022-09-16T06:35:26.093Z"
   },
   {
    "duration": 1793,
    "start_time": "2022-09-16T06:35:42.934Z"
   },
   {
    "duration": 126,
    "start_time": "2022-09-16T06:36:00.552Z"
   },
   {
    "duration": 13,
    "start_time": "2022-09-16T06:36:01.275Z"
   },
   {
    "duration": 1701,
    "start_time": "2022-09-16T06:36:02.340Z"
   },
   {
    "duration": 13,
    "start_time": "2022-09-16T06:46:10.973Z"
   },
   {
    "duration": 8,
    "start_time": "2022-09-16T06:49:34.553Z"
   },
   {
    "duration": 1221,
    "start_time": "2022-09-16T13:14:11.258Z"
   },
   {
    "duration": 14,
    "start_time": "2022-09-16T13:14:12.481Z"
   },
   {
    "duration": 2563,
    "start_time": "2022-09-16T13:14:12.496Z"
   },
   {
    "duration": 16,
    "start_time": "2022-09-16T13:14:15.061Z"
   },
   {
    "duration": 9,
    "start_time": "2022-09-16T13:14:21.991Z"
   },
   {
    "duration": 12,
    "start_time": "2022-09-16T13:14:22.803Z"
   },
   {
    "duration": 12,
    "start_time": "2022-09-16T13:17:32.591Z"
   },
   {
    "duration": 950,
    "start_time": "2022-09-21T13:38:02.965Z"
   },
   {
    "duration": 39,
    "start_time": "2022-09-21T13:38:03.917Z"
   },
   {
    "duration": 3167,
    "start_time": "2022-09-21T13:38:03.964Z"
   },
   {
    "duration": 16,
    "start_time": "2022-09-21T13:38:07.133Z"
   },
   {
    "duration": 49,
    "start_time": "2022-09-21T13:38:07.151Z"
   },
   {
    "duration": 4,
    "start_time": "2022-09-21T13:38:07.202Z"
   },
   {
    "duration": 14,
    "start_time": "2022-09-21T13:41:44.759Z"
   },
   {
    "duration": 13,
    "start_time": "2022-09-21T13:42:20.156Z"
   },
   {
    "duration": 11,
    "start_time": "2022-09-21T13:42:30.950Z"
   },
   {
    "duration": 12,
    "start_time": "2022-09-21T13:44:15.053Z"
   },
   {
    "duration": 25,
    "start_time": "2022-09-21T13:59:21.179Z"
   },
   {
    "duration": 27,
    "start_time": "2022-09-21T13:59:30.214Z"
   },
   {
    "duration": 15,
    "start_time": "2022-09-21T14:01:10.270Z"
   },
   {
    "duration": 11,
    "start_time": "2022-09-21T14:01:22.085Z"
   },
   {
    "duration": 1350,
    "start_time": "2022-09-21T14:07:09.379Z"
   },
   {
    "duration": 44,
    "start_time": "2022-09-21T14:07:10.732Z"
   },
   {
    "duration": 4316,
    "start_time": "2022-09-21T14:07:10.781Z"
   },
   {
    "duration": 19,
    "start_time": "2022-09-21T14:07:15.099Z"
   },
   {
    "duration": 92,
    "start_time": "2022-09-21T14:07:15.126Z"
   },
   {
    "duration": 98,
    "start_time": "2022-09-21T14:07:15.220Z"
   },
   {
    "duration": 143,
    "start_time": "2022-09-21T14:08:55.374Z"
   },
   {
    "duration": 736,
    "start_time": "2022-09-21T14:13:04.210Z"
   },
   {
    "duration": 23,
    "start_time": "2022-09-21T14:13:04.955Z"
   },
   {
    "duration": 3281,
    "start_time": "2022-09-21T14:13:04.980Z"
   },
   {
    "duration": 110,
    "start_time": "2022-09-21T14:13:08.264Z"
   },
   {
    "duration": 15,
    "start_time": "2022-09-21T14:13:08.381Z"
   },
   {
    "duration": 26,
    "start_time": "2022-09-21T14:13:08.398Z"
   },
   {
    "duration": 91,
    "start_time": "2022-09-21T14:13:08.426Z"
   },
   {
    "duration": 33,
    "start_time": "2022-09-21T14:13:08.520Z"
   },
   {
    "duration": 38,
    "start_time": "2022-09-21T14:13:28.454Z"
   },
   {
    "duration": 50,
    "start_time": "2022-09-21T18:51:32.710Z"
   },
   {
    "duration": 1081,
    "start_time": "2022-09-21T18:51:49.991Z"
   },
   {
    "duration": 15,
    "start_time": "2022-09-21T18:51:51.074Z"
   },
   {
    "duration": 2274,
    "start_time": "2022-09-21T18:51:51.090Z"
   },
   {
    "duration": 73,
    "start_time": "2022-09-21T18:51:53.366Z"
   },
   {
    "duration": 11,
    "start_time": "2022-09-21T18:51:53.442Z"
   },
   {
    "duration": 38,
    "start_time": "2022-09-21T18:51:53.455Z"
   },
   {
    "duration": 37,
    "start_time": "2022-09-21T18:51:53.494Z"
   },
   {
    "duration": 43,
    "start_time": "2022-09-21T18:51:53.532Z"
   },
   {
    "duration": 19,
    "start_time": "2022-09-21T18:51:53.576Z"
   },
   {
    "duration": 504,
    "start_time": "2022-09-21T19:03:09.976Z"
   },
   {
    "duration": 14,
    "start_time": "2022-09-21T19:03:10.482Z"
   },
   {
    "duration": 2167,
    "start_time": "2022-09-21T19:03:10.498Z"
   },
   {
    "duration": 70,
    "start_time": "2022-09-21T19:03:12.667Z"
   },
   {
    "duration": 99,
    "start_time": "2022-09-21T19:03:12.739Z"
   },
   {
    "duration": 0,
    "start_time": "2022-09-21T19:03:12.839Z"
   },
   {
    "duration": 0,
    "start_time": "2022-09-21T19:03:12.840Z"
   },
   {
    "duration": 0,
    "start_time": "2022-09-21T19:03:12.841Z"
   },
   {
    "duration": 0,
    "start_time": "2022-09-21T19:03:12.842Z"
   },
   {
    "duration": 0,
    "start_time": "2022-09-21T19:03:12.843Z"
   },
   {
    "duration": 537,
    "start_time": "2022-09-21T19:15:13.022Z"
   },
   {
    "duration": 13,
    "start_time": "2022-09-21T19:15:13.561Z"
   },
   {
    "duration": 2280,
    "start_time": "2022-09-21T19:15:13.576Z"
   },
   {
    "duration": 70,
    "start_time": "2022-09-21T19:15:15.858Z"
   },
   {
    "duration": 102,
    "start_time": "2022-09-21T19:15:15.932Z"
   },
   {
    "duration": 0,
    "start_time": "2022-09-21T19:15:16.037Z"
   },
   {
    "duration": 0,
    "start_time": "2022-09-21T19:15:16.040Z"
   },
   {
    "duration": 0,
    "start_time": "2022-09-21T19:15:16.042Z"
   },
   {
    "duration": 561,
    "start_time": "2022-09-21T19:17:01.237Z"
   },
   {
    "duration": 15,
    "start_time": "2022-09-21T19:17:01.799Z"
   },
   {
    "duration": 2242,
    "start_time": "2022-09-21T19:17:01.815Z"
   },
   {
    "duration": 82,
    "start_time": "2022-09-21T19:17:04.059Z"
   },
   {
    "duration": 114,
    "start_time": "2022-09-21T19:17:04.143Z"
   },
   {
    "duration": 0,
    "start_time": "2022-09-21T19:17:04.259Z"
   },
   {
    "duration": 0,
    "start_time": "2022-09-21T19:17:04.260Z"
   },
   {
    "duration": 0,
    "start_time": "2022-09-21T19:17:04.262Z"
   },
   {
    "duration": 35,
    "start_time": "2022-09-21T19:17:37.299Z"
   },
   {
    "duration": 774,
    "start_time": "2022-09-22T06:01:05.827Z"
   },
   {
    "duration": 14,
    "start_time": "2022-09-22T06:01:06.603Z"
   },
   {
    "duration": 2214,
    "start_time": "2022-09-22T06:01:06.619Z"
   },
   {
    "duration": 72,
    "start_time": "2022-09-22T06:01:08.835Z"
   },
   {
    "duration": 33,
    "start_time": "2022-09-22T06:01:08.909Z"
   },
   {
    "duration": 12,
    "start_time": "2022-09-22T06:01:08.944Z"
   },
   {
    "duration": 22,
    "start_time": "2022-09-22T06:01:08.957Z"
   },
   {
    "duration": 7,
    "start_time": "2022-09-22T06:01:08.980Z"
   },
   {
    "duration": 540,
    "start_time": "2022-09-22T06:11:43.525Z"
   },
   {
    "duration": 15,
    "start_time": "2022-09-22T06:11:44.067Z"
   },
   {
    "duration": 2001,
    "start_time": "2022-09-22T06:11:44.084Z"
   },
   {
    "duration": 73,
    "start_time": "2022-09-22T06:11:46.087Z"
   },
   {
    "duration": 109,
    "start_time": "2022-09-22T06:11:46.161Z"
   },
   {
    "duration": 0,
    "start_time": "2022-09-22T06:11:46.272Z"
   },
   {
    "duration": 0,
    "start_time": "2022-09-22T06:11:46.274Z"
   },
   {
    "duration": 0,
    "start_time": "2022-09-22T06:11:46.275Z"
   },
   {
    "duration": 537,
    "start_time": "2022-09-22T06:13:06.232Z"
   },
   {
    "duration": 15,
    "start_time": "2022-09-22T06:13:06.770Z"
   },
   {
    "duration": 2027,
    "start_time": "2022-09-22T06:13:06.786Z"
   },
   {
    "duration": 68,
    "start_time": "2022-09-22T06:13:08.815Z"
   },
   {
    "duration": 465,
    "start_time": "2022-09-22T06:13:08.885Z"
   },
   {
    "duration": 10,
    "start_time": "2022-09-22T06:13:09.351Z"
   },
   {
    "duration": 17,
    "start_time": "2022-09-22T06:13:09.362Z"
   },
   {
    "duration": 15,
    "start_time": "2022-09-22T06:13:09.381Z"
   },
   {
    "duration": 756,
    "start_time": "2022-09-22T06:14:41.247Z"
   },
   {
    "duration": 14,
    "start_time": "2022-09-22T06:14:42.004Z"
   },
   {
    "duration": 1818,
    "start_time": "2022-09-22T06:14:42.019Z"
   },
   {
    "duration": 68,
    "start_time": "2022-09-22T06:14:43.838Z"
   },
   {
    "duration": 498,
    "start_time": "2022-09-22T06:14:43.908Z"
   },
   {
    "duration": 9,
    "start_time": "2022-09-22T06:14:44.408Z"
   },
   {
    "duration": 31,
    "start_time": "2022-09-22T06:14:44.418Z"
   },
   {
    "duration": 17,
    "start_time": "2022-09-22T06:14:44.450Z"
   },
   {
    "duration": 797,
    "start_time": "2022-09-22T06:17:30.231Z"
   },
   {
    "duration": 15,
    "start_time": "2022-09-22T06:17:31.030Z"
   },
   {
    "duration": 2055,
    "start_time": "2022-09-22T06:17:31.046Z"
   },
   {
    "duration": 82,
    "start_time": "2022-09-22T06:17:33.103Z"
   },
   {
    "duration": 29,
    "start_time": "2022-09-22T06:17:33.187Z"
   },
   {
    "duration": 20,
    "start_time": "2022-09-22T06:17:33.217Z"
   },
   {
    "duration": 17,
    "start_time": "2022-09-22T06:17:33.239Z"
   },
   {
    "duration": 16,
    "start_time": "2022-09-22T06:17:33.257Z"
   },
   {
    "duration": 872,
    "start_time": "2022-09-22T06:26:29.308Z"
   },
   {
    "duration": 17,
    "start_time": "2022-09-22T06:26:30.184Z"
   },
   {
    "duration": 2293,
    "start_time": "2022-09-22T06:26:30.204Z"
   },
   {
    "duration": 76,
    "start_time": "2022-09-22T06:26:32.499Z"
   },
   {
    "duration": 28,
    "start_time": "2022-09-22T06:26:32.576Z"
   },
   {
    "duration": 9,
    "start_time": "2022-09-22T06:26:32.606Z"
   },
   {
    "duration": 38,
    "start_time": "2022-09-22T06:26:32.617Z"
   },
   {
    "duration": 27,
    "start_time": "2022-09-22T06:26:32.657Z"
   },
   {
    "duration": 782,
    "start_time": "2022-09-22T06:32:11.637Z"
   },
   {
    "duration": 15,
    "start_time": "2022-09-22T06:32:12.421Z"
   },
   {
    "duration": 1843,
    "start_time": "2022-09-22T06:32:12.438Z"
   },
   {
    "duration": 71,
    "start_time": "2022-09-22T06:32:14.282Z"
   },
   {
    "duration": 28,
    "start_time": "2022-09-22T06:32:14.355Z"
   },
   {
    "duration": 9,
    "start_time": "2022-09-22T06:32:14.385Z"
   },
   {
    "duration": 24,
    "start_time": "2022-09-22T06:32:14.396Z"
   },
   {
    "duration": 12,
    "start_time": "2022-09-22T06:32:14.422Z"
   },
   {
    "duration": 872,
    "start_time": "2022-09-22T06:35:45.804Z"
   },
   {
    "duration": 15,
    "start_time": "2022-09-22T06:35:46.678Z"
   },
   {
    "duration": 1990,
    "start_time": "2022-09-22T06:35:46.695Z"
   },
   {
    "duration": 79,
    "start_time": "2022-09-22T06:35:48.687Z"
   },
   {
    "duration": 36,
    "start_time": "2022-09-22T06:35:48.768Z"
   },
   {
    "duration": 745,
    "start_time": "2022-09-22T06:37:23.796Z"
   },
   {
    "duration": 14,
    "start_time": "2022-09-22T06:37:24.544Z"
   },
   {
    "duration": 1953,
    "start_time": "2022-09-22T06:37:24.560Z"
   },
   {
    "duration": 79,
    "start_time": "2022-09-22T06:37:26.515Z"
   },
   {
    "duration": 43,
    "start_time": "2022-09-22T06:37:26.596Z"
   },
   {
    "duration": 806,
    "start_time": "2022-09-22T06:40:22.766Z"
   },
   {
    "duration": 15,
    "start_time": "2022-09-22T06:40:23.574Z"
   },
   {
    "duration": 2134,
    "start_time": "2022-09-22T06:40:23.591Z"
   },
   {
    "duration": 74,
    "start_time": "2022-09-22T06:40:25.727Z"
   },
   {
    "duration": 127,
    "start_time": "2022-09-22T06:40:25.803Z"
   },
   {
    "duration": 0,
    "start_time": "2022-09-22T06:40:25.933Z"
   },
   {
    "duration": 842,
    "start_time": "2022-09-22T06:41:13.557Z"
   },
   {
    "duration": 15,
    "start_time": "2022-09-22T06:41:14.401Z"
   },
   {
    "duration": 1907,
    "start_time": "2022-09-22T06:41:14.418Z"
   },
   {
    "duration": 85,
    "start_time": "2022-09-22T06:41:16.327Z"
   },
   {
    "duration": 51,
    "start_time": "2022-09-22T06:41:16.415Z"
   },
   {
    "duration": 18,
    "start_time": "2022-09-22T06:41:16.468Z"
   },
   {
    "duration": 739,
    "start_time": "2022-09-22T06:54:09.151Z"
   },
   {
    "duration": 14,
    "start_time": "2022-09-22T06:54:09.892Z"
   },
   {
    "duration": 1853,
    "start_time": "2022-09-22T06:54:09.908Z"
   },
   {
    "duration": 72,
    "start_time": "2022-09-22T06:54:11.763Z"
   },
   {
    "duration": 38,
    "start_time": "2022-09-22T06:54:11.837Z"
   },
   {
    "duration": 736,
    "start_time": "2022-09-22T06:56:29.678Z"
   },
   {
    "duration": 17,
    "start_time": "2022-09-22T06:56:30.416Z"
   },
   {
    "duration": 1858,
    "start_time": "2022-09-22T06:56:30.435Z"
   },
   {
    "duration": 72,
    "start_time": "2022-09-22T06:56:32.295Z"
   },
   {
    "duration": 38,
    "start_time": "2022-09-22T06:56:32.369Z"
   },
   {
    "duration": 323,
    "start_time": "2022-09-22T06:56:32.410Z"
   },
   {
    "duration": 873,
    "start_time": "2022-09-22T08:44:37.931Z"
   },
   {
    "duration": 18,
    "start_time": "2022-09-22T08:44:38.807Z"
   },
   {
    "duration": 2166,
    "start_time": "2022-09-22T08:44:38.827Z"
   },
   {
    "duration": 80,
    "start_time": "2022-09-22T08:44:40.995Z"
   },
   {
    "duration": 61,
    "start_time": "2022-09-22T08:44:41.078Z"
   },
   {
    "duration": 314,
    "start_time": "2022-09-22T08:44:41.147Z"
   },
   {
    "duration": 318,
    "start_time": "2022-09-22T08:45:02.791Z"
   },
   {
    "duration": 589,
    "start_time": "2022-09-22T08:51:08.540Z"
   },
   {
    "duration": 45,
    "start_time": "2022-09-22T08:51:27.046Z"
   },
   {
    "duration": 14,
    "start_time": "2022-09-22T08:51:55.970Z"
   },
   {
    "duration": 780,
    "start_time": "2022-09-22T08:52:04.258Z"
   },
   {
    "duration": 26,
    "start_time": "2022-09-22T08:52:05.040Z"
   },
   {
    "duration": 2182,
    "start_time": "2022-09-22T08:52:05.067Z"
   },
   {
    "duration": 108,
    "start_time": "2022-09-22T08:52:07.250Z"
   },
   {
    "duration": 57,
    "start_time": "2022-09-22T08:52:07.361Z"
   },
   {
    "duration": 83,
    "start_time": "2022-09-22T08:52:07.419Z"
   },
   {
    "duration": 0,
    "start_time": "2022-09-22T08:52:07.504Z"
   },
   {
    "duration": 61,
    "start_time": "2022-09-22T08:52:30.552Z"
   },
   {
    "duration": 330,
    "start_time": "2022-09-22T08:52:53.326Z"
   },
   {
    "duration": 334,
    "start_time": "2022-09-22T08:53:22.215Z"
   },
   {
    "duration": 821,
    "start_time": "2022-09-22T09:02:47.712Z"
   },
   {
    "duration": 22,
    "start_time": "2022-09-22T09:02:48.534Z"
   },
   {
    "duration": 2031,
    "start_time": "2022-09-22T09:02:48.558Z"
   },
   {
    "duration": 74,
    "start_time": "2022-09-22T09:02:50.592Z"
   },
   {
    "duration": 24,
    "start_time": "2022-09-22T09:02:50.668Z"
   },
   {
    "duration": 313,
    "start_time": "2022-09-22T09:02:50.694Z"
   },
   {
    "duration": 16,
    "start_time": "2022-09-22T09:02:51.008Z"
   },
   {
    "duration": 1075,
    "start_time": "2022-10-01T11:13:27.382Z"
   },
   {
    "duration": 16,
    "start_time": "2022-10-01T11:13:28.459Z"
   },
   {
    "duration": 1800,
    "start_time": "2022-10-01T11:13:28.477Z"
   },
   {
    "duration": 69,
    "start_time": "2022-10-01T11:13:30.278Z"
   },
   {
    "duration": 11,
    "start_time": "2022-10-01T11:13:30.349Z"
   },
   {
    "duration": 94,
    "start_time": "2022-10-01T11:13:30.361Z"
   },
   {
    "duration": 0,
    "start_time": "2022-10-01T11:13:30.456Z"
   },
   {
    "duration": 735,
    "start_time": "2022-10-01T11:16:58.016Z"
   },
   {
    "duration": 14,
    "start_time": "2022-10-01T11:16:58.752Z"
   },
   {
    "duration": 1838,
    "start_time": "2022-10-01T11:16:58.767Z"
   },
   {
    "duration": 69,
    "start_time": "2022-10-01T11:17:00.607Z"
   },
   {
    "duration": 23,
    "start_time": "2022-10-01T11:17:00.677Z"
   },
   {
    "duration": 91,
    "start_time": "2022-10-01T11:17:00.701Z"
   },
   {
    "duration": 0,
    "start_time": "2022-10-01T11:17:00.794Z"
   },
   {
    "duration": 722,
    "start_time": "2022-10-01T11:18:06.846Z"
   },
   {
    "duration": 13,
    "start_time": "2022-10-01T11:18:07.570Z"
   },
   {
    "duration": 1868,
    "start_time": "2022-10-01T11:18:07.585Z"
   },
   {
    "duration": 69,
    "start_time": "2022-10-01T11:18:09.455Z"
   },
   {
    "duration": 23,
    "start_time": "2022-10-01T11:18:09.525Z"
   },
   {
    "duration": 693,
    "start_time": "2022-10-01T11:18:56.465Z"
   },
   {
    "duration": 14,
    "start_time": "2022-10-01T11:18:57.160Z"
   },
   {
    "duration": 1864,
    "start_time": "2022-10-01T11:18:57.176Z"
   },
   {
    "duration": 72,
    "start_time": "2022-10-01T11:18:59.042Z"
   },
   {
    "duration": 24,
    "start_time": "2022-10-01T11:18:59.116Z"
   },
   {
    "duration": 703,
    "start_time": "2022-10-01T11:29:21.448Z"
   },
   {
    "duration": 15,
    "start_time": "2022-10-01T11:29:22.153Z"
   },
   {
    "duration": 1779,
    "start_time": "2022-10-01T11:29:22.170Z"
   },
   {
    "duration": 69,
    "start_time": "2022-10-01T11:29:23.951Z"
   },
   {
    "duration": 84,
    "start_time": "2022-10-01T11:29:24.021Z"
   },
   {
    "duration": 761,
    "start_time": "2022-10-01T11:30:15.747Z"
   },
   {
    "duration": 13,
    "start_time": "2022-10-01T11:30:16.509Z"
   },
   {
    "duration": 1830,
    "start_time": "2022-10-01T11:30:16.523Z"
   },
   {
    "duration": 70,
    "start_time": "2022-10-01T11:30:18.354Z"
   },
   {
    "duration": 95,
    "start_time": "2022-10-01T11:30:18.426Z"
   },
   {
    "duration": 716,
    "start_time": "2022-10-01T11:32:45.062Z"
   },
   {
    "duration": 14,
    "start_time": "2022-10-01T11:32:45.780Z"
   },
   {
    "duration": 1910,
    "start_time": "2022-10-01T11:32:45.795Z"
   },
   {
    "duration": 70,
    "start_time": "2022-10-01T11:32:47.708Z"
   },
   {
    "duration": 100,
    "start_time": "2022-10-01T11:32:47.780Z"
   },
   {
    "duration": 242,
    "start_time": "2022-10-01T11:32:47.882Z"
   },
   {
    "duration": 669,
    "start_time": "2022-10-01T11:36:39.885Z"
   },
   {
    "duration": 13,
    "start_time": "2022-10-01T11:36:40.555Z"
   },
   {
    "duration": 1855,
    "start_time": "2022-10-01T11:36:40.570Z"
   },
   {
    "duration": 69,
    "start_time": "2022-10-01T11:36:42.426Z"
   },
   {
    "duration": 109,
    "start_time": "2022-10-01T11:36:42.497Z"
   },
   {
    "duration": 242,
    "start_time": "2022-10-01T11:36:42.607Z"
   },
   {
    "duration": 1067,
    "start_time": "2022-10-01T13:13:53.233Z"
   },
   {
    "duration": 14,
    "start_time": "2022-10-01T13:13:54.302Z"
   },
   {
    "duration": 1830,
    "start_time": "2022-10-01T13:13:54.317Z"
   },
   {
    "duration": 71,
    "start_time": "2022-10-01T13:13:56.149Z"
   },
   {
    "duration": 99,
    "start_time": "2022-10-01T13:13:56.223Z"
   },
   {
    "duration": 243,
    "start_time": "2022-10-01T13:13:56.324Z"
   },
   {
    "duration": 217,
    "start_time": "2022-10-01T13:13:56.568Z"
   },
   {
    "duration": 215,
    "start_time": "2022-10-01T13:16:37.269Z"
   },
   {
    "duration": 209,
    "start_time": "2022-10-01T13:19:49.562Z"
   },
   {
    "duration": 296,
    "start_time": "2022-10-01T13:23:01.250Z"
   },
   {
    "duration": 192,
    "start_time": "2022-10-01T13:24:09.632Z"
   },
   {
    "duration": 45,
    "start_time": "2022-10-01T13:24:57.549Z"
   },
   {
    "duration": 226,
    "start_time": "2022-10-01T13:25:50.832Z"
   },
   {
    "duration": 230,
    "start_time": "2022-10-01T13:27:29.649Z"
   },
   {
    "duration": 215,
    "start_time": "2022-10-01T13:28:08.970Z"
   },
   {
    "duration": 2504,
    "start_time": "2022-10-01T13:30:01.996Z"
   },
   {
    "duration": 864,
    "start_time": "2022-10-01T13:30:38.033Z"
   },
   {
    "duration": 312,
    "start_time": "2022-10-01T13:31:28.956Z"
   },
   {
    "duration": 218,
    "start_time": "2022-10-01T13:33:33.075Z"
   },
   {
    "duration": 218,
    "start_time": "2022-10-01T13:36:01.647Z"
   },
   {
    "duration": 62,
    "start_time": "2022-10-01T13:37:24.119Z"
   },
   {
    "duration": 221,
    "start_time": "2022-10-01T13:37:56.497Z"
   },
   {
    "duration": 225,
    "start_time": "2022-10-01T13:38:08.844Z"
   },
   {
    "duration": 195,
    "start_time": "2022-10-01T13:40:24.832Z"
   },
   {
    "duration": 317,
    "start_time": "2022-10-01T13:40:33.777Z"
   },
   {
    "duration": 210,
    "start_time": "2022-10-01T13:41:55.521Z"
   },
   {
    "duration": 233,
    "start_time": "2022-10-01T13:42:05.951Z"
   },
   {
    "duration": 215,
    "start_time": "2022-10-01T13:42:30.134Z"
   },
   {
    "duration": 227,
    "start_time": "2022-10-01T13:42:39.768Z"
   },
   {
    "duration": 130,
    "start_time": "2022-10-01T13:43:30.364Z"
   },
   {
    "duration": 212,
    "start_time": "2022-10-01T13:46:27.071Z"
   },
   {
    "duration": 389,
    "start_time": "2022-10-01T13:46:39.041Z"
   },
   {
    "duration": 234,
    "start_time": "2022-10-01T13:47:15.663Z"
   },
   {
    "duration": 153,
    "start_time": "2022-10-01T14:16:24.703Z"
   },
   {
    "duration": 154,
    "start_time": "2022-10-01T14:17:19.782Z"
   },
   {
    "duration": 128,
    "start_time": "2022-10-01T14:23:02.651Z"
   },
   {
    "duration": 143,
    "start_time": "2022-10-01T14:24:04.200Z"
   },
   {
    "duration": 119,
    "start_time": "2022-10-01T14:24:19.499Z"
   },
   {
    "duration": 210,
    "start_time": "2022-10-01T14:24:26.078Z"
   },
   {
    "duration": 147,
    "start_time": "2022-10-01T14:24:39.005Z"
   },
   {
    "duration": 135,
    "start_time": "2022-10-01T14:25:47.849Z"
   },
   {
    "duration": 132,
    "start_time": "2022-10-01T14:38:54.690Z"
   },
   {
    "duration": 126,
    "start_time": "2022-10-01T14:39:30.307Z"
   },
   {
    "duration": 11,
    "start_time": "2022-10-01T14:39:34.552Z"
   },
   {
    "duration": 20,
    "start_time": "2022-10-01T14:40:52.966Z"
   },
   {
    "duration": 251,
    "start_time": "2022-10-01T14:41:21.525Z"
   },
   {
    "duration": 9,
    "start_time": "2022-10-01T14:41:25.294Z"
   },
   {
    "duration": 755,
    "start_time": "2022-10-01T14:43:07.286Z"
   },
   {
    "duration": 14,
    "start_time": "2022-10-01T14:43:08.043Z"
   },
   {
    "duration": 1805,
    "start_time": "2022-10-01T14:43:08.058Z"
   },
   {
    "duration": 66,
    "start_time": "2022-10-01T14:43:09.866Z"
   },
   {
    "duration": 104,
    "start_time": "2022-10-01T14:43:09.934Z"
   },
   {
    "duration": 248,
    "start_time": "2022-10-01T14:43:10.040Z"
   },
   {
    "duration": 256,
    "start_time": "2022-10-01T14:43:10.290Z"
   },
   {
    "duration": 244,
    "start_time": "2022-10-01T14:43:10.549Z"
   },
   {
    "duration": 287,
    "start_time": "2022-10-01T14:43:10.800Z"
   },
   {
    "duration": 220,
    "start_time": "2022-10-01T14:43:11.090Z"
   },
   {
    "duration": 171,
    "start_time": "2022-10-01T14:43:11.312Z"
   },
   {
    "duration": 246,
    "start_time": "2022-10-01T14:43:11.485Z"
   },
   {
    "duration": 222,
    "start_time": "2022-10-01T14:43:11.732Z"
   },
   {
    "duration": 53,
    "start_time": "2022-10-01T14:43:11.956Z"
   },
   {
    "duration": 0,
    "start_time": "2022-10-01T14:43:12.010Z"
   },
   {
    "duration": 0,
    "start_time": "2022-10-01T14:43:12.011Z"
   },
   {
    "duration": 0,
    "start_time": "2022-10-01T14:43:12.013Z"
   },
   {
    "duration": 0,
    "start_time": "2022-10-01T14:43:12.014Z"
   },
   {
    "duration": 0,
    "start_time": "2022-10-01T14:43:12.015Z"
   },
   {
    "duration": 0,
    "start_time": "2022-10-01T14:43:12.016Z"
   },
   {
    "duration": 0,
    "start_time": "2022-10-01T14:43:12.018Z"
   },
   {
    "duration": 0,
    "start_time": "2022-10-01T14:43:12.018Z"
   },
   {
    "duration": 0,
    "start_time": "2022-10-01T14:43:12.020Z"
   },
   {
    "duration": 0,
    "start_time": "2022-10-01T14:43:12.021Z"
   },
   {
    "duration": 1,
    "start_time": "2022-10-01T14:43:12.021Z"
   },
   {
    "duration": 0,
    "start_time": "2022-10-01T14:43:12.023Z"
   },
   {
    "duration": 725,
    "start_time": "2022-10-01T14:43:28.992Z"
   },
   {
    "duration": 14,
    "start_time": "2022-10-01T14:43:29.719Z"
   },
   {
    "duration": 1807,
    "start_time": "2022-10-01T14:43:29.736Z"
   },
   {
    "duration": 64,
    "start_time": "2022-10-01T14:43:31.545Z"
   },
   {
    "duration": 106,
    "start_time": "2022-10-01T14:43:31.611Z"
   },
   {
    "duration": 236,
    "start_time": "2022-10-01T14:43:31.719Z"
   },
   {
    "duration": 229,
    "start_time": "2022-10-01T14:43:31.957Z"
   },
   {
    "duration": 222,
    "start_time": "2022-10-01T14:43:32.188Z"
   },
   {
    "duration": 302,
    "start_time": "2022-10-01T14:43:32.412Z"
   },
   {
    "duration": 239,
    "start_time": "2022-10-01T14:43:32.716Z"
   },
   {
    "duration": 183,
    "start_time": "2022-10-01T14:43:32.957Z"
   },
   {
    "duration": 234,
    "start_time": "2022-10-01T14:43:33.141Z"
   },
   {
    "duration": 230,
    "start_time": "2022-10-01T14:43:33.376Z"
   },
   {
    "duration": 218,
    "start_time": "2022-10-01T14:43:33.607Z"
   },
   {
    "duration": 317,
    "start_time": "2022-10-01T14:43:33.827Z"
   },
   {
    "duration": 231,
    "start_time": "2022-10-01T14:43:34.146Z"
   },
   {
    "duration": 272,
    "start_time": "2022-10-01T14:43:34.379Z"
   },
   {
    "duration": 220,
    "start_time": "2022-10-01T14:43:34.653Z"
   },
   {
    "duration": 49,
    "start_time": "2022-10-01T14:43:34.875Z"
   },
   {
    "duration": 0,
    "start_time": "2022-10-01T14:43:34.925Z"
   },
   {
    "duration": 0,
    "start_time": "2022-10-01T14:43:34.926Z"
   },
   {
    "duration": 0,
    "start_time": "2022-10-01T14:43:34.927Z"
   },
   {
    "duration": 0,
    "start_time": "2022-10-01T14:43:34.928Z"
   },
   {
    "duration": 0,
    "start_time": "2022-10-01T14:43:34.929Z"
   },
   {
    "duration": 0,
    "start_time": "2022-10-01T14:43:34.930Z"
   },
   {
    "duration": 707,
    "start_time": "2022-10-01T14:43:59.069Z"
   },
   {
    "duration": 23,
    "start_time": "2022-10-01T14:43:59.778Z"
   },
   {
    "duration": 1792,
    "start_time": "2022-10-01T14:43:59.803Z"
   },
   {
    "duration": 70,
    "start_time": "2022-10-01T14:44:01.597Z"
   },
   {
    "duration": 113,
    "start_time": "2022-10-01T14:44:01.669Z"
   },
   {
    "duration": 251,
    "start_time": "2022-10-01T14:44:01.784Z"
   },
   {
    "duration": 227,
    "start_time": "2022-10-01T14:44:02.037Z"
   },
   {
    "duration": 224,
    "start_time": "2022-10-01T14:44:02.265Z"
   },
   {
    "duration": 284,
    "start_time": "2022-10-01T14:44:02.491Z"
   },
   {
    "duration": 230,
    "start_time": "2022-10-01T14:44:02.778Z"
   },
   {
    "duration": 168,
    "start_time": "2022-10-01T14:44:03.010Z"
   },
   {
    "duration": 209,
    "start_time": "2022-10-01T14:44:03.179Z"
   },
   {
    "duration": 261,
    "start_time": "2022-10-01T14:44:03.389Z"
   },
   {
    "duration": 222,
    "start_time": "2022-10-01T14:44:03.652Z"
   },
   {
    "duration": 332,
    "start_time": "2022-10-01T14:44:03.876Z"
   },
   {
    "duration": 247,
    "start_time": "2022-10-01T14:44:04.210Z"
   },
   {
    "duration": 274,
    "start_time": "2022-10-01T14:44:04.459Z"
   },
   {
    "duration": 233,
    "start_time": "2022-10-01T14:44:04.734Z"
   },
   {
    "duration": 161,
    "start_time": "2022-10-01T14:44:04.968Z"
   },
   {
    "duration": 138,
    "start_time": "2022-10-01T14:44:05.131Z"
   },
   {
    "duration": 149,
    "start_time": "2022-10-01T14:44:05.271Z"
   },
   {
    "duration": 9,
    "start_time": "2022-10-01T14:44:05.422Z"
   },
   {
    "duration": 18,
    "start_time": "2022-10-01T14:44:05.433Z"
   },
   {
    "duration": 9,
    "start_time": "2022-10-01T14:44:05.453Z"
   },
   {
    "duration": 5,
    "start_time": "2022-10-01T14:51:48.006Z"
   },
   {
    "duration": 5,
    "start_time": "2022-10-01T14:54:11.263Z"
   },
   {
    "duration": 5,
    "start_time": "2022-10-01T14:58:02.254Z"
   },
   {
    "duration": 808,
    "start_time": "2022-10-01T15:02:15.016Z"
   },
   {
    "duration": 13,
    "start_time": "2022-10-01T15:02:15.826Z"
   },
   {
    "duration": 1822,
    "start_time": "2022-10-01T15:02:15.841Z"
   },
   {
    "duration": 66,
    "start_time": "2022-10-01T15:02:17.665Z"
   },
   {
    "duration": 96,
    "start_time": "2022-10-01T15:02:17.732Z"
   },
   {
    "duration": 232,
    "start_time": "2022-10-01T15:02:17.829Z"
   },
   {
    "duration": 224,
    "start_time": "2022-10-01T15:02:18.062Z"
   },
   {
    "duration": 227,
    "start_time": "2022-10-01T15:02:18.288Z"
   },
   {
    "duration": 286,
    "start_time": "2022-10-01T15:02:18.517Z"
   },
   {
    "duration": 228,
    "start_time": "2022-10-01T15:02:18.805Z"
   },
   {
    "duration": 173,
    "start_time": "2022-10-01T15:02:19.035Z"
   },
   {
    "duration": 226,
    "start_time": "2022-10-01T15:02:19.209Z"
   },
   {
    "duration": 220,
    "start_time": "2022-10-01T15:02:19.437Z"
   },
   {
    "duration": 259,
    "start_time": "2022-10-01T15:02:19.659Z"
   },
   {
    "duration": 333,
    "start_time": "2022-10-01T15:02:19.920Z"
   },
   {
    "duration": 233,
    "start_time": "2022-10-01T15:02:20.254Z"
   },
   {
    "duration": 206,
    "start_time": "2022-10-01T15:02:20.488Z"
   },
   {
    "duration": 219,
    "start_time": "2022-10-01T15:02:20.700Z"
   },
   {
    "duration": 148,
    "start_time": "2022-10-01T15:02:20.921Z"
   },
   {
    "duration": 138,
    "start_time": "2022-10-01T15:02:21.071Z"
   },
   {
    "duration": 133,
    "start_time": "2022-10-01T15:02:21.211Z"
   },
   {
    "duration": 6,
    "start_time": "2022-10-01T15:02:21.346Z"
   },
   {
    "duration": 27,
    "start_time": "2022-10-01T15:02:21.354Z"
   },
   {
    "duration": 10,
    "start_time": "2022-10-01T15:02:21.382Z"
   },
   {
    "duration": 347,
    "start_time": "2022-10-01T15:02:21.394Z"
   },
   {
    "duration": 6,
    "start_time": "2022-10-01T15:02:21.744Z"
   },
   {
    "duration": 6,
    "start_time": "2022-10-01T15:02:21.752Z"
   },
   {
    "duration": 8,
    "start_time": "2022-10-01T15:02:21.761Z"
   },
   {
    "duration": 201,
    "start_time": "2022-10-01T15:02:21.770Z"
   },
   {
    "duration": 89,
    "start_time": "2022-10-01T15:03:35.027Z"
   },
   {
    "duration": 37,
    "start_time": "2022-10-01T15:03:42.423Z"
   },
   {
    "duration": 227,
    "start_time": "2022-10-01T15:03:49.907Z"
   },
   {
    "duration": 224,
    "start_time": "2022-10-01T15:06:43.528Z"
   },
   {
    "duration": 242,
    "start_time": "2022-10-01T15:08:51.741Z"
   },
   {
    "duration": 144,
    "start_time": "2022-10-01T15:09:32.105Z"
   },
   {
    "duration": 163,
    "start_time": "2022-10-01T15:09:53.101Z"
   },
   {
    "duration": 676,
    "start_time": "2022-10-01T15:12:17.347Z"
   },
   {
    "duration": 14,
    "start_time": "2022-10-01T15:12:18.024Z"
   },
   {
    "duration": 1764,
    "start_time": "2022-10-01T15:12:18.039Z"
   },
   {
    "duration": 64,
    "start_time": "2022-10-01T15:12:19.805Z"
   },
   {
    "duration": 106,
    "start_time": "2022-10-01T15:12:19.870Z"
   },
   {
    "duration": 236,
    "start_time": "2022-10-01T15:12:19.977Z"
   },
   {
    "duration": 226,
    "start_time": "2022-10-01T15:12:20.214Z"
   },
   {
    "duration": 231,
    "start_time": "2022-10-01T15:12:20.442Z"
   },
   {
    "duration": 292,
    "start_time": "2022-10-01T15:12:20.675Z"
   },
   {
    "duration": 233,
    "start_time": "2022-10-01T15:12:20.970Z"
   },
   {
    "duration": 164,
    "start_time": "2022-10-01T15:12:21.204Z"
   },
   {
    "duration": 217,
    "start_time": "2022-10-01T15:12:21.370Z"
   },
   {
    "duration": 221,
    "start_time": "2022-10-01T15:12:21.588Z"
   },
   {
    "duration": 218,
    "start_time": "2022-10-01T15:12:21.810Z"
   },
   {
    "duration": 349,
    "start_time": "2022-10-01T15:12:22.030Z"
   },
   {
    "duration": 226,
    "start_time": "2022-10-01T15:12:22.381Z"
   },
   {
    "duration": 221,
    "start_time": "2022-10-01T15:12:22.609Z"
   },
   {
    "duration": 242,
    "start_time": "2022-10-01T15:12:22.831Z"
   },
   {
    "duration": 162,
    "start_time": "2022-10-01T15:12:23.074Z"
   },
   {
    "duration": 154,
    "start_time": "2022-10-01T15:12:23.238Z"
   },
   {
    "duration": 153,
    "start_time": "2022-10-01T15:12:23.400Z"
   },
   {
    "duration": 8,
    "start_time": "2022-10-01T15:12:23.554Z"
   },
   {
    "duration": 17,
    "start_time": "2022-10-01T15:12:23.563Z"
   },
   {
    "duration": 19,
    "start_time": "2022-10-01T15:12:23.582Z"
   },
   {
    "duration": 8,
    "start_time": "2022-10-01T15:12:23.602Z"
   },
   {
    "duration": 232,
    "start_time": "2022-10-01T15:12:23.611Z"
   },
   {
    "duration": 236,
    "start_time": "2022-10-01T15:12:23.844Z"
   },
   {
    "duration": 16,
    "start_time": "2022-10-01T15:12:24.085Z"
   },
   {
    "duration": 271,
    "start_time": "2022-10-01T15:12:24.102Z"
   },
   {
    "duration": 5,
    "start_time": "2022-10-01T15:12:24.375Z"
   },
   {
    "duration": 293,
    "start_time": "2022-10-01T15:12:24.381Z"
   },
   {
    "duration": 7,
    "start_time": "2022-10-01T15:12:24.676Z"
   },
   {
    "duration": 162,
    "start_time": "2022-10-01T15:12:24.685Z"
   },
   {
    "duration": 746,
    "start_time": "2022-10-01T15:15:00.223Z"
   },
   {
    "duration": 15,
    "start_time": "2022-10-01T15:15:00.971Z"
   },
   {
    "duration": 1763,
    "start_time": "2022-10-01T15:15:00.988Z"
   },
   {
    "duration": 69,
    "start_time": "2022-10-01T15:15:02.753Z"
   },
   {
    "duration": 103,
    "start_time": "2022-10-01T15:15:02.823Z"
   },
   {
    "duration": 236,
    "start_time": "2022-10-01T15:15:02.927Z"
   },
   {
    "duration": 244,
    "start_time": "2022-10-01T15:15:03.164Z"
   },
   {
    "duration": 248,
    "start_time": "2022-10-01T15:15:03.409Z"
   },
   {
    "duration": 275,
    "start_time": "2022-10-01T15:15:03.658Z"
   },
   {
    "duration": 255,
    "start_time": "2022-10-01T15:15:03.936Z"
   },
   {
    "duration": 188,
    "start_time": "2022-10-01T15:15:04.192Z"
   },
   {
    "duration": 294,
    "start_time": "2022-10-01T15:15:04.382Z"
   },
   {
    "duration": 228,
    "start_time": "2022-10-01T15:15:04.678Z"
   },
   {
    "duration": 214,
    "start_time": "2022-10-01T15:15:04.908Z"
   },
   {
    "duration": 314,
    "start_time": "2022-10-01T15:15:05.124Z"
   },
   {
    "duration": 214,
    "start_time": "2022-10-01T15:15:05.440Z"
   },
   {
    "duration": 212,
    "start_time": "2022-10-01T15:15:05.655Z"
   },
   {
    "duration": 237,
    "start_time": "2022-10-01T15:15:05.869Z"
   },
   {
    "duration": 154,
    "start_time": "2022-10-01T15:15:06.108Z"
   },
   {
    "duration": 142,
    "start_time": "2022-10-01T15:15:06.264Z"
   },
   {
    "duration": 136,
    "start_time": "2022-10-01T15:15:06.407Z"
   },
   {
    "duration": 7,
    "start_time": "2022-10-01T15:15:06.544Z"
   },
   {
    "duration": 16,
    "start_time": "2022-10-01T15:15:06.553Z"
   },
   {
    "duration": 8,
    "start_time": "2022-10-01T15:15:06.570Z"
   },
   {
    "duration": 24,
    "start_time": "2022-10-01T15:15:06.580Z"
   },
   {
    "duration": 220,
    "start_time": "2022-10-01T15:15:06.607Z"
   },
   {
    "duration": 11,
    "start_time": "2022-10-01T15:15:06.828Z"
   },
   {
    "duration": 257,
    "start_time": "2022-10-01T15:15:06.843Z"
   },
   {
    "duration": 6,
    "start_time": "2022-10-01T15:15:07.102Z"
   },
   {
    "duration": 252,
    "start_time": "2022-10-01T15:15:07.110Z"
   },
   {
    "duration": 6,
    "start_time": "2022-10-01T15:15:07.364Z"
   },
   {
    "duration": 247,
    "start_time": "2022-10-01T15:15:07.371Z"
   },
   {
    "duration": 6,
    "start_time": "2022-10-01T15:15:07.620Z"
   },
   {
    "duration": 161,
    "start_time": "2022-10-01T15:15:07.627Z"
   },
   {
    "duration": 6,
    "start_time": "2022-10-01T15:16:20.149Z"
   },
   {
    "duration": 96,
    "start_time": "2022-10-01T15:17:11.706Z"
   },
   {
    "duration": 5,
    "start_time": "2022-10-01T15:17:32.247Z"
   },
   {
    "duration": 112,
    "start_time": "2022-10-01T15:19:53.025Z"
   },
   {
    "duration": 146,
    "start_time": "2022-10-01T15:20:44.331Z"
   },
   {
    "duration": 117,
    "start_time": "2022-10-01T15:21:27.862Z"
   },
   {
    "duration": 21,
    "start_time": "2022-10-01T15:22:58.894Z"
   },
   {
    "duration": 27,
    "start_time": "2022-10-01T15:24:51.114Z"
   },
   {
    "duration": 66,
    "start_time": "2022-10-01T15:25:11.265Z"
   },
   {
    "duration": 747,
    "start_time": "2022-10-01T15:25:18.697Z"
   },
   {
    "duration": 15,
    "start_time": "2022-10-01T15:25:19.446Z"
   },
   {
    "duration": 1745,
    "start_time": "2022-10-01T15:25:19.462Z"
   },
   {
    "duration": 64,
    "start_time": "2022-10-01T15:25:21.209Z"
   },
   {
    "duration": 95,
    "start_time": "2022-10-01T15:25:21.275Z"
   },
   {
    "duration": 231,
    "start_time": "2022-10-01T15:25:21.372Z"
   },
   {
    "duration": 221,
    "start_time": "2022-10-01T15:25:21.605Z"
   },
   {
    "duration": 217,
    "start_time": "2022-10-01T15:25:21.827Z"
   },
   {
    "duration": 302,
    "start_time": "2022-10-01T15:25:22.046Z"
   },
   {
    "duration": 231,
    "start_time": "2022-10-01T15:25:22.351Z"
   },
   {
    "duration": 169,
    "start_time": "2022-10-01T15:25:22.583Z"
   },
   {
    "duration": 221,
    "start_time": "2022-10-01T15:25:22.754Z"
   },
   {
    "duration": 219,
    "start_time": "2022-10-01T15:25:22.977Z"
   },
   {
    "duration": 218,
    "start_time": "2022-10-01T15:25:23.201Z"
   },
   {
    "duration": 324,
    "start_time": "2022-10-01T15:25:23.420Z"
   },
   {
    "duration": 216,
    "start_time": "2022-10-01T15:25:23.745Z"
   },
   {
    "duration": 237,
    "start_time": "2022-10-01T15:25:23.963Z"
   },
   {
    "duration": 246,
    "start_time": "2022-10-01T15:25:24.202Z"
   },
   {
    "duration": 196,
    "start_time": "2022-10-01T15:25:24.450Z"
   },
   {
    "duration": 132,
    "start_time": "2022-10-01T15:25:24.647Z"
   },
   {
    "duration": 136,
    "start_time": "2022-10-01T15:25:24.780Z"
   },
   {
    "duration": 8,
    "start_time": "2022-10-01T15:25:24.917Z"
   },
   {
    "duration": 14,
    "start_time": "2022-10-01T15:25:24.926Z"
   },
   {
    "duration": 7,
    "start_time": "2022-10-01T15:25:24.941Z"
   },
   {
    "duration": 7,
    "start_time": "2022-10-01T15:25:24.949Z"
   },
   {
    "duration": 245,
    "start_time": "2022-10-01T15:25:24.957Z"
   },
   {
    "duration": 10,
    "start_time": "2022-10-01T15:25:25.204Z"
   },
   {
    "duration": 272,
    "start_time": "2022-10-01T15:25:25.217Z"
   },
   {
    "duration": 12,
    "start_time": "2022-10-01T15:25:25.491Z"
   },
   {
    "duration": 256,
    "start_time": "2022-10-01T15:25:25.504Z"
   },
   {
    "duration": 5,
    "start_time": "2022-10-01T15:25:25.762Z"
   },
   {
    "duration": 238,
    "start_time": "2022-10-01T15:25:25.768Z"
   },
   {
    "duration": 5,
    "start_time": "2022-10-01T15:25:26.008Z"
   },
   {
    "duration": 156,
    "start_time": "2022-10-01T15:25:26.014Z"
   },
   {
    "duration": 4,
    "start_time": "2022-10-01T15:25:26.172Z"
   },
   {
    "duration": 104,
    "start_time": "2022-10-01T15:25:26.178Z"
   },
   {
    "duration": 4,
    "start_time": "2022-10-01T15:25:26.284Z"
   },
   {
    "duration": 122,
    "start_time": "2022-10-01T15:25:26.289Z"
   },
   {
    "duration": 134,
    "start_time": "2022-10-01T15:25:26.413Z"
   },
   {
    "duration": 121,
    "start_time": "2022-10-01T15:25:26.549Z"
   },
   {
    "duration": 18,
    "start_time": "2022-10-01T15:25:26.672Z"
   },
   {
    "duration": 51,
    "start_time": "2022-10-01T15:25:26.700Z"
   },
   {
    "duration": 0,
    "start_time": "2022-10-01T15:25:26.752Z"
   },
   {
    "duration": 0,
    "start_time": "2022-10-01T15:25:26.753Z"
   },
   {
    "duration": 0,
    "start_time": "2022-10-01T15:25:26.754Z"
   },
   {
    "duration": 0,
    "start_time": "2022-10-01T15:25:26.755Z"
   },
   {
    "duration": 4,
    "start_time": "2022-10-01T15:27:20.212Z"
   },
   {
    "duration": 4,
    "start_time": "2022-10-01T15:27:21.964Z"
   },
   {
    "duration": 28,
    "start_time": "2022-10-01T15:27:25.481Z"
   },
   {
    "duration": 162,
    "start_time": "2022-10-01T15:27:42.112Z"
   },
   {
    "duration": 741,
    "start_time": "2022-10-01T15:31:25.580Z"
   },
   {
    "duration": 14,
    "start_time": "2022-10-01T15:31:26.323Z"
   },
   {
    "duration": 1748,
    "start_time": "2022-10-01T15:31:26.339Z"
   },
   {
    "duration": 75,
    "start_time": "2022-10-01T15:31:28.089Z"
   },
   {
    "duration": 98,
    "start_time": "2022-10-01T15:31:28.165Z"
   },
   {
    "duration": 263,
    "start_time": "2022-10-01T15:31:28.265Z"
   },
   {
    "duration": 247,
    "start_time": "2022-10-01T15:31:28.530Z"
   },
   {
    "duration": 224,
    "start_time": "2022-10-01T15:31:28.778Z"
   },
   {
    "duration": 296,
    "start_time": "2022-10-01T15:31:29.004Z"
   },
   {
    "duration": 237,
    "start_time": "2022-10-01T15:31:29.303Z"
   },
   {
    "duration": 179,
    "start_time": "2022-10-01T15:31:29.542Z"
   },
   {
    "duration": 230,
    "start_time": "2022-10-01T15:31:29.722Z"
   },
   {
    "duration": 225,
    "start_time": "2022-10-01T15:31:29.953Z"
   },
   {
    "duration": 221,
    "start_time": "2022-10-01T15:31:30.179Z"
   },
   {
    "duration": 318,
    "start_time": "2022-10-01T15:31:30.401Z"
   },
   {
    "duration": 240,
    "start_time": "2022-10-01T15:31:30.721Z"
   },
   {
    "duration": 255,
    "start_time": "2022-10-01T15:31:30.963Z"
   },
   {
    "duration": 253,
    "start_time": "2022-10-01T15:31:31.220Z"
   },
   {
    "duration": 163,
    "start_time": "2022-10-01T15:31:31.474Z"
   },
   {
    "duration": 169,
    "start_time": "2022-10-01T15:31:31.639Z"
   },
   {
    "duration": 177,
    "start_time": "2022-10-01T15:31:31.810Z"
   },
   {
    "duration": 16,
    "start_time": "2022-10-01T15:31:31.988Z"
   },
   {
    "duration": 15,
    "start_time": "2022-10-01T15:31:32.005Z"
   },
   {
    "duration": 8,
    "start_time": "2022-10-01T15:31:32.022Z"
   },
   {
    "duration": 7,
    "start_time": "2022-10-01T15:31:32.031Z"
   },
   {
    "duration": 241,
    "start_time": "2022-10-01T15:31:32.040Z"
   },
   {
    "duration": 11,
    "start_time": "2022-10-01T15:31:32.282Z"
   },
   {
    "duration": 249,
    "start_time": "2022-10-01T15:31:32.300Z"
   },
   {
    "duration": 6,
    "start_time": "2022-10-01T15:31:32.551Z"
   },
   {
    "duration": 253,
    "start_time": "2022-10-01T15:31:32.558Z"
   },
   {
    "duration": 6,
    "start_time": "2022-10-01T15:31:32.813Z"
   },
   {
    "duration": 264,
    "start_time": "2022-10-01T15:31:32.821Z"
   },
   {
    "duration": 6,
    "start_time": "2022-10-01T15:31:33.086Z"
   },
   {
    "duration": 165,
    "start_time": "2022-10-01T15:31:33.100Z"
   },
   {
    "duration": 6,
    "start_time": "2022-10-01T15:31:33.267Z"
   },
   {
    "duration": 102,
    "start_time": "2022-10-01T15:31:33.274Z"
   },
   {
    "duration": 5,
    "start_time": "2022-10-01T15:31:33.378Z"
   },
   {
    "duration": 134,
    "start_time": "2022-10-01T15:31:33.384Z"
   },
   {
    "duration": 127,
    "start_time": "2022-10-01T15:31:33.519Z"
   },
   {
    "duration": 118,
    "start_time": "2022-10-01T15:31:33.648Z"
   },
   {
    "duration": 19,
    "start_time": "2022-10-01T15:31:33.767Z"
   },
   {
    "duration": 4,
    "start_time": "2022-10-01T15:31:33.799Z"
   },
   {
    "duration": 7,
    "start_time": "2022-10-01T15:31:33.804Z"
   },
   {
    "duration": 33,
    "start_time": "2022-10-01T15:31:33.812Z"
   },
   {
    "duration": 164,
    "start_time": "2022-10-01T15:31:33.847Z"
   },
   {
    "duration": 712,
    "start_time": "2022-10-01T15:50:45.150Z"
   },
   {
    "duration": 15,
    "start_time": "2022-10-01T15:50:45.864Z"
   },
   {
    "duration": 1838,
    "start_time": "2022-10-01T15:50:45.881Z"
   },
   {
    "duration": 70,
    "start_time": "2022-10-01T15:50:47.720Z"
   },
   {
    "duration": 117,
    "start_time": "2022-10-01T15:50:47.793Z"
   },
   {
    "duration": 280,
    "start_time": "2022-10-01T15:50:47.912Z"
   },
   {
    "duration": 238,
    "start_time": "2022-10-01T15:50:48.194Z"
   },
   {
    "duration": 255,
    "start_time": "2022-10-01T15:50:48.434Z"
   },
   {
    "duration": 303,
    "start_time": "2022-10-01T15:50:48.691Z"
   },
   {
    "duration": 246,
    "start_time": "2022-10-01T15:50:48.995Z"
   },
   {
    "duration": 187,
    "start_time": "2022-10-01T15:50:49.242Z"
   },
   {
    "duration": 244,
    "start_time": "2022-10-01T15:50:49.431Z"
   },
   {
    "duration": 232,
    "start_time": "2022-10-01T15:50:49.677Z"
   },
   {
    "duration": 235,
    "start_time": "2022-10-01T15:50:49.913Z"
   },
   {
    "duration": 297,
    "start_time": "2022-10-01T15:50:50.150Z"
   },
   {
    "duration": 244,
    "start_time": "2022-10-01T15:50:50.449Z"
   },
   {
    "duration": 231,
    "start_time": "2022-10-01T15:50:50.695Z"
   },
   {
    "duration": 247,
    "start_time": "2022-10-01T15:50:50.928Z"
   },
   {
    "duration": 157,
    "start_time": "2022-10-01T15:50:51.177Z"
   },
   {
    "duration": 155,
    "start_time": "2022-10-01T15:50:51.336Z"
   },
   {
    "duration": 147,
    "start_time": "2022-10-01T15:50:51.493Z"
   },
   {
    "duration": 8,
    "start_time": "2022-10-01T15:50:51.641Z"
   },
   {
    "duration": 12,
    "start_time": "2022-10-01T15:50:51.650Z"
   },
   {
    "duration": 8,
    "start_time": "2022-10-01T15:50:51.664Z"
   },
   {
    "duration": 10,
    "start_time": "2022-10-01T15:50:51.674Z"
   },
   {
    "duration": 195,
    "start_time": "2022-10-01T15:50:51.709Z"
   },
   {
    "duration": 13,
    "start_time": "2022-10-01T15:50:51.905Z"
   },
   {
    "duration": 283,
    "start_time": "2022-10-01T15:50:51.920Z"
   },
   {
    "duration": 7,
    "start_time": "2022-10-01T15:50:52.205Z"
   },
   {
    "duration": 284,
    "start_time": "2022-10-01T15:50:52.213Z"
   },
   {
    "duration": 5,
    "start_time": "2022-10-01T15:50:52.499Z"
   },
   {
    "duration": 345,
    "start_time": "2022-10-01T15:50:52.510Z"
   },
   {
    "duration": 6,
    "start_time": "2022-10-01T15:50:52.858Z"
   },
   {
    "duration": 200,
    "start_time": "2022-10-01T15:50:52.865Z"
   },
   {
    "duration": 5,
    "start_time": "2022-10-01T15:50:53.067Z"
   },
   {
    "duration": 122,
    "start_time": "2022-10-01T15:50:53.074Z"
   },
   {
    "duration": 13,
    "start_time": "2022-10-01T15:50:53.198Z"
   },
   {
    "duration": 131,
    "start_time": "2022-10-01T15:50:53.212Z"
   },
   {
    "duration": 136,
    "start_time": "2022-10-01T15:50:53.345Z"
   },
   {
    "duration": 135,
    "start_time": "2022-10-01T15:50:53.482Z"
   },
   {
    "duration": 20,
    "start_time": "2022-10-01T15:50:53.624Z"
   },
   {
    "duration": 3,
    "start_time": "2022-10-01T15:50:53.645Z"
   },
   {
    "duration": 6,
    "start_time": "2022-10-01T15:50:53.649Z"
   },
   {
    "duration": 28,
    "start_time": "2022-10-01T15:50:53.656Z"
   },
   {
    "duration": 198,
    "start_time": "2022-10-01T15:50:53.686Z"
   },
   {
    "duration": 44,
    "start_time": "2022-10-01T15:55:38.827Z"
   },
   {
    "duration": 6,
    "start_time": "2022-10-01T15:55:49.226Z"
   },
   {
    "duration": 17,
    "start_time": "2022-10-01T15:56:46.147Z"
   },
   {
    "duration": 5,
    "start_time": "2022-10-01T15:57:00.957Z"
   },
   {
    "duration": 256,
    "start_time": "2022-10-01T15:59:48.497Z"
   },
   {
    "duration": 78,
    "start_time": "2022-10-01T16:02:09.421Z"
   },
   {
    "duration": 117,
    "start_time": "2022-10-01T16:02:21.657Z"
   },
   {
    "duration": 165,
    "start_time": "2022-10-01T16:03:55.967Z"
   },
   {
    "duration": 168,
    "start_time": "2022-10-01T16:03:58.404Z"
   },
   {
    "duration": 2733,
    "start_time": "2022-10-01T16:18:03.415Z"
   },
   {
    "duration": 63,
    "start_time": "2022-10-01T16:18:57.771Z"
   },
   {
    "duration": 807,
    "start_time": "2022-10-01T16:19:08.820Z"
   },
   {
    "duration": 18,
    "start_time": "2022-10-01T16:19:09.629Z"
   },
   {
    "duration": 1798,
    "start_time": "2022-10-01T16:19:09.649Z"
   },
   {
    "duration": 71,
    "start_time": "2022-10-01T16:19:11.449Z"
   },
   {
    "duration": 68,
    "start_time": "2022-10-01T16:19:11.522Z"
   },
   {
    "duration": 0,
    "start_time": "2022-10-01T16:19:11.600Z"
   },
   {
    "duration": 0,
    "start_time": "2022-10-01T16:19:11.602Z"
   },
   {
    "duration": 0,
    "start_time": "2022-10-01T16:19:11.603Z"
   },
   {
    "duration": 0,
    "start_time": "2022-10-01T16:19:11.604Z"
   },
   {
    "duration": 0,
    "start_time": "2022-10-01T16:19:11.606Z"
   },
   {
    "duration": 0,
    "start_time": "2022-10-01T16:19:11.606Z"
   },
   {
    "duration": 0,
    "start_time": "2022-10-01T16:19:11.608Z"
   },
   {
    "duration": 0,
    "start_time": "2022-10-01T16:19:11.609Z"
   },
   {
    "duration": 0,
    "start_time": "2022-10-01T16:19:11.610Z"
   },
   {
    "duration": 0,
    "start_time": "2022-10-01T16:19:11.611Z"
   },
   {
    "duration": 0,
    "start_time": "2022-10-01T16:19:11.612Z"
   },
   {
    "duration": 0,
    "start_time": "2022-10-01T16:19:11.613Z"
   },
   {
    "duration": 0,
    "start_time": "2022-10-01T16:19:11.615Z"
   },
   {
    "duration": 0,
    "start_time": "2022-10-01T16:19:11.616Z"
   },
   {
    "duration": 0,
    "start_time": "2022-10-01T16:19:11.617Z"
   },
   {
    "duration": 0,
    "start_time": "2022-10-01T16:19:11.618Z"
   },
   {
    "duration": 0,
    "start_time": "2022-10-01T16:19:11.619Z"
   },
   {
    "duration": 0,
    "start_time": "2022-10-01T16:19:11.620Z"
   },
   {
    "duration": 0,
    "start_time": "2022-10-01T16:19:11.621Z"
   },
   {
    "duration": 0,
    "start_time": "2022-10-01T16:19:11.622Z"
   },
   {
    "duration": 0,
    "start_time": "2022-10-01T16:19:11.623Z"
   },
   {
    "duration": 0,
    "start_time": "2022-10-01T16:19:11.624Z"
   },
   {
    "duration": 0,
    "start_time": "2022-10-01T16:19:11.626Z"
   },
   {
    "duration": 0,
    "start_time": "2022-10-01T16:19:11.627Z"
   },
   {
    "duration": 0,
    "start_time": "2022-10-01T16:19:11.628Z"
   },
   {
    "duration": 0,
    "start_time": "2022-10-01T16:19:11.630Z"
   },
   {
    "duration": 0,
    "start_time": "2022-10-01T16:19:11.631Z"
   },
   {
    "duration": 0,
    "start_time": "2022-10-01T16:19:11.632Z"
   },
   {
    "duration": 0,
    "start_time": "2022-10-01T16:19:11.633Z"
   },
   {
    "duration": 0,
    "start_time": "2022-10-01T16:19:11.635Z"
   },
   {
    "duration": 0,
    "start_time": "2022-10-01T16:19:11.636Z"
   },
   {
    "duration": 0,
    "start_time": "2022-10-01T16:19:11.637Z"
   },
   {
    "duration": 0,
    "start_time": "2022-10-01T16:19:11.701Z"
   },
   {
    "duration": 0,
    "start_time": "2022-10-01T16:19:11.702Z"
   },
   {
    "duration": 0,
    "start_time": "2022-10-01T16:19:11.703Z"
   },
   {
    "duration": 0,
    "start_time": "2022-10-01T16:19:11.704Z"
   },
   {
    "duration": 0,
    "start_time": "2022-10-01T16:19:11.706Z"
   },
   {
    "duration": 0,
    "start_time": "2022-10-01T16:19:11.707Z"
   },
   {
    "duration": 0,
    "start_time": "2022-10-01T16:19:11.708Z"
   },
   {
    "duration": 0,
    "start_time": "2022-10-01T16:19:11.709Z"
   },
   {
    "duration": 0,
    "start_time": "2022-10-01T16:19:11.710Z"
   },
   {
    "duration": 0,
    "start_time": "2022-10-01T16:19:11.711Z"
   },
   {
    "duration": 48,
    "start_time": "2022-10-01T16:19:45.511Z"
   },
   {
    "duration": 763,
    "start_time": "2022-10-01T16:31:38.800Z"
   },
   {
    "duration": 13,
    "start_time": "2022-10-01T16:31:39.565Z"
   },
   {
    "duration": 1772,
    "start_time": "2022-10-01T16:31:39.579Z"
   },
   {
    "duration": 70,
    "start_time": "2022-10-01T16:31:41.353Z"
   },
   {
    "duration": 60,
    "start_time": "2022-10-01T16:31:41.426Z"
   },
   {
    "duration": 16,
    "start_time": "2022-10-01T16:31:41.488Z"
   },
   {
    "duration": 5,
    "start_time": "2022-10-01T16:31:41.506Z"
   },
   {
    "duration": 11,
    "start_time": "2022-10-01T16:31:41.513Z"
   },
   {
    "duration": 11,
    "start_time": "2022-10-01T16:31:41.526Z"
   },
   {
    "duration": 12,
    "start_time": "2022-10-01T16:31:41.539Z"
   },
   {
    "duration": 3,
    "start_time": "2022-10-01T16:31:41.553Z"
   },
   {
    "duration": 6,
    "start_time": "2022-10-01T16:31:41.558Z"
   },
   {
    "duration": 5,
    "start_time": "2022-10-01T16:31:41.566Z"
   },
   {
    "duration": 8,
    "start_time": "2022-10-01T16:31:41.602Z"
   },
   {
    "duration": 8,
    "start_time": "2022-10-01T16:31:41.612Z"
   },
   {
    "duration": 5,
    "start_time": "2022-10-01T16:31:41.621Z"
   },
   {
    "duration": 5,
    "start_time": "2022-10-01T16:31:41.628Z"
   },
   {
    "duration": 11,
    "start_time": "2022-10-01T16:31:41.635Z"
   },
   {
    "duration": 12,
    "start_time": "2022-10-01T16:31:41.648Z"
   },
   {
    "duration": 58,
    "start_time": "2022-10-01T16:31:41.662Z"
   },
   {
    "duration": 7,
    "start_time": "2022-10-01T16:31:41.721Z"
   },
   {
    "duration": 6,
    "start_time": "2022-10-01T16:31:41.730Z"
   },
   {
    "duration": 4,
    "start_time": "2022-10-01T16:31:41.738Z"
   },
   {
    "duration": 16,
    "start_time": "2022-10-01T16:31:41.743Z"
   },
   {
    "duration": 251,
    "start_time": "2022-10-01T16:31:41.761Z"
   },
   {
    "duration": 230,
    "start_time": "2022-10-01T16:31:42.014Z"
   },
   {
    "duration": 244,
    "start_time": "2022-10-01T16:31:42.246Z"
   },
   {
    "duration": 319,
    "start_time": "2022-10-01T16:31:42.491Z"
   },
   {
    "duration": 241,
    "start_time": "2022-10-01T16:31:42.812Z"
   },
   {
    "duration": 186,
    "start_time": "2022-10-01T16:31:43.055Z"
   },
   {
    "duration": 244,
    "start_time": "2022-10-01T16:31:43.242Z"
   },
   {
    "duration": 229,
    "start_time": "2022-10-01T16:31:43.487Z"
   },
   {
    "duration": 214,
    "start_time": "2022-10-01T16:31:43.717Z"
   },
   {
    "duration": 320,
    "start_time": "2022-10-01T16:31:43.932Z"
   },
   {
    "duration": 257,
    "start_time": "2022-10-01T16:31:44.254Z"
   },
   {
    "duration": 233,
    "start_time": "2022-10-01T16:31:44.512Z"
   },
   {
    "duration": 237,
    "start_time": "2022-10-01T16:31:44.746Z"
   },
   {
    "duration": 158,
    "start_time": "2022-10-01T16:31:44.985Z"
   },
   {
    "duration": 149,
    "start_time": "2022-10-01T16:31:45.144Z"
   },
   {
    "duration": 143,
    "start_time": "2022-10-01T16:31:45.294Z"
   },
   {
    "duration": 9,
    "start_time": "2022-10-01T16:31:45.441Z"
   },
   {
    "duration": 12,
    "start_time": "2022-10-01T16:31:45.451Z"
   },
   {
    "duration": 8,
    "start_time": "2022-10-01T16:31:45.464Z"
   },
   {
    "duration": 30,
    "start_time": "2022-10-01T16:31:45.474Z"
   },
   {
    "duration": 207,
    "start_time": "2022-10-01T16:31:45.505Z"
   },
   {
    "duration": 11,
    "start_time": "2022-10-01T16:31:45.714Z"
   },
   {
    "duration": 245,
    "start_time": "2022-10-01T16:31:45.726Z"
   },
   {
    "duration": 5,
    "start_time": "2022-10-01T16:31:45.973Z"
   },
   {
    "duration": 249,
    "start_time": "2022-10-01T16:31:45.980Z"
   },
   {
    "duration": 5,
    "start_time": "2022-10-01T16:31:46.230Z"
   },
   {
    "duration": 244,
    "start_time": "2022-10-01T16:31:46.237Z"
   },
   {
    "duration": 19,
    "start_time": "2022-10-01T16:31:46.482Z"
   },
   {
    "duration": 161,
    "start_time": "2022-10-01T16:31:46.502Z"
   },
   {
    "duration": 4,
    "start_time": "2022-10-01T16:31:46.664Z"
   },
   {
    "duration": 98,
    "start_time": "2022-10-01T16:31:46.670Z"
   },
   {
    "duration": 4,
    "start_time": "2022-10-01T16:31:46.770Z"
   },
   {
    "duration": 130,
    "start_time": "2022-10-01T16:31:46.775Z"
   },
   {
    "duration": 128,
    "start_time": "2022-10-01T16:31:46.906Z"
   },
   {
    "duration": 128,
    "start_time": "2022-10-01T16:31:47.035Z"
   },
   {
    "duration": 110,
    "start_time": "2022-10-01T16:31:47.164Z"
   },
   {
    "duration": 31,
    "start_time": "2022-10-01T16:31:47.275Z"
   },
   {
    "duration": 4,
    "start_time": "2022-10-01T16:31:47.307Z"
   },
   {
    "duration": 8,
    "start_time": "2022-10-01T16:31:47.312Z"
   },
   {
    "duration": 30,
    "start_time": "2022-10-01T16:31:47.321Z"
   },
   {
    "duration": 188,
    "start_time": "2022-10-01T16:31:47.353Z"
   },
   {
    "duration": 709,
    "start_time": "2022-10-01T16:36:30.926Z"
   },
   {
    "duration": 13,
    "start_time": "2022-10-01T16:36:31.637Z"
   },
   {
    "duration": 1896,
    "start_time": "2022-10-01T16:36:31.651Z"
   },
   {
    "duration": 69,
    "start_time": "2022-10-01T16:36:33.549Z"
   },
   {
    "duration": 47,
    "start_time": "2022-10-01T16:36:33.619Z"
   },
   {
    "duration": 5,
    "start_time": "2022-10-01T16:36:33.667Z"
   },
   {
    "duration": 7,
    "start_time": "2022-10-01T16:36:33.673Z"
   },
   {
    "duration": 18,
    "start_time": "2022-10-01T16:36:33.682Z"
   },
   {
    "duration": 12,
    "start_time": "2022-10-01T16:36:33.701Z"
   },
   {
    "duration": 3,
    "start_time": "2022-10-01T16:36:33.715Z"
   },
   {
    "duration": 16,
    "start_time": "2022-10-01T16:36:33.720Z"
   },
   {
    "duration": 10,
    "start_time": "2022-10-01T16:36:33.738Z"
   },
   {
    "duration": 26,
    "start_time": "2022-10-01T16:36:33.749Z"
   },
   {
    "duration": 9,
    "start_time": "2022-10-01T16:36:33.777Z"
   },
   {
    "duration": 4,
    "start_time": "2022-10-01T16:36:33.787Z"
   },
   {
    "duration": 12,
    "start_time": "2022-10-01T16:36:33.792Z"
   },
   {
    "duration": 8,
    "start_time": "2022-10-01T16:36:33.805Z"
   },
   {
    "duration": 7,
    "start_time": "2022-10-01T16:36:33.815Z"
   },
   {
    "duration": 48,
    "start_time": "2022-10-01T16:36:33.823Z"
   },
   {
    "duration": 7,
    "start_time": "2022-10-01T16:36:33.872Z"
   },
   {
    "duration": 9,
    "start_time": "2022-10-01T16:36:33.880Z"
   },
   {
    "duration": 8,
    "start_time": "2022-10-01T16:36:33.892Z"
   },
   {
    "duration": 21,
    "start_time": "2022-10-01T16:36:33.901Z"
   },
   {
    "duration": 271,
    "start_time": "2022-10-01T16:36:33.924Z"
   },
   {
    "duration": 259,
    "start_time": "2022-10-01T16:36:34.197Z"
   },
   {
    "duration": 292,
    "start_time": "2022-10-01T16:36:34.458Z"
   },
   {
    "duration": 302,
    "start_time": "2022-10-01T16:36:34.751Z"
   },
   {
    "duration": 237,
    "start_time": "2022-10-01T16:36:35.056Z"
   },
   {
    "duration": 195,
    "start_time": "2022-10-01T16:36:35.299Z"
   },
   {
    "duration": 222,
    "start_time": "2022-10-01T16:36:35.499Z"
   },
   {
    "duration": 243,
    "start_time": "2022-10-01T16:36:35.723Z"
   },
   {
    "duration": 251,
    "start_time": "2022-10-01T16:36:35.968Z"
   },
   {
    "duration": 314,
    "start_time": "2022-10-01T16:36:36.220Z"
   },
   {
    "duration": 255,
    "start_time": "2022-10-01T16:36:36.535Z"
   },
   {
    "duration": 237,
    "start_time": "2022-10-01T16:36:36.791Z"
   },
   {
    "duration": 250,
    "start_time": "2022-10-01T16:36:37.030Z"
   },
   {
    "duration": 145,
    "start_time": "2022-10-01T16:36:37.281Z"
   },
   {
    "duration": 185,
    "start_time": "2022-10-01T16:36:37.428Z"
   },
   {
    "duration": 152,
    "start_time": "2022-10-01T16:36:37.614Z"
   },
   {
    "duration": 9,
    "start_time": "2022-10-01T16:36:37.767Z"
   },
   {
    "duration": 27,
    "start_time": "2022-10-01T16:36:37.778Z"
   },
   {
    "duration": 9,
    "start_time": "2022-10-01T16:36:37.807Z"
   },
   {
    "duration": 9,
    "start_time": "2022-10-01T16:36:37.818Z"
   },
   {
    "duration": 238,
    "start_time": "2022-10-01T16:36:37.829Z"
   },
   {
    "duration": 11,
    "start_time": "2022-10-01T16:36:38.068Z"
   },
   {
    "duration": 247,
    "start_time": "2022-10-01T16:36:38.081Z"
   },
   {
    "duration": 6,
    "start_time": "2022-10-01T16:36:38.330Z"
   },
   {
    "duration": 263,
    "start_time": "2022-10-01T16:36:38.338Z"
   },
   {
    "duration": 5,
    "start_time": "2022-10-01T16:36:38.603Z"
   },
   {
    "duration": 240,
    "start_time": "2022-10-01T16:36:38.610Z"
   },
   {
    "duration": 6,
    "start_time": "2022-10-01T16:36:38.852Z"
   },
   {
    "duration": 176,
    "start_time": "2022-10-01T16:36:38.859Z"
   },
   {
    "duration": 5,
    "start_time": "2022-10-01T16:36:39.036Z"
   },
   {
    "duration": 120,
    "start_time": "2022-10-01T16:36:39.043Z"
   },
   {
    "duration": 6,
    "start_time": "2022-10-01T16:36:39.164Z"
   },
   {
    "duration": 144,
    "start_time": "2022-10-01T16:36:39.171Z"
   },
   {
    "duration": 134,
    "start_time": "2022-10-01T16:36:39.317Z"
   },
   {
    "duration": 129,
    "start_time": "2022-10-01T16:36:39.453Z"
   },
   {
    "duration": 117,
    "start_time": "2022-10-01T16:36:39.583Z"
   },
   {
    "duration": 27,
    "start_time": "2022-10-01T16:36:39.701Z"
   },
   {
    "duration": 4,
    "start_time": "2022-10-01T16:36:39.730Z"
   },
   {
    "duration": 7,
    "start_time": "2022-10-01T16:36:39.736Z"
   },
   {
    "duration": 57,
    "start_time": "2022-10-01T16:36:39.744Z"
   },
   {
    "duration": 169,
    "start_time": "2022-10-01T16:36:39.803Z"
   },
   {
    "duration": 69,
    "start_time": "2022-10-01T16:56:58.161Z"
   },
   {
    "duration": 1065,
    "start_time": "2022-10-01T16:57:15.916Z"
   },
   {
    "duration": 784,
    "start_time": "2022-10-01T16:57:29.592Z"
   },
   {
    "duration": 24,
    "start_time": "2022-10-01T16:57:30.378Z"
   },
   {
    "duration": 1823,
    "start_time": "2022-10-01T16:57:30.404Z"
   },
   {
    "duration": 66,
    "start_time": "2022-10-01T16:57:32.229Z"
   },
   {
    "duration": 46,
    "start_time": "2022-10-01T16:57:32.296Z"
   },
   {
    "duration": 1112,
    "start_time": "2022-10-01T16:57:32.344Z"
   },
   {
    "duration": 4,
    "start_time": "2022-10-01T16:57:33.457Z"
   },
   {
    "duration": 11,
    "start_time": "2022-10-01T16:57:33.462Z"
   },
   {
    "duration": 26,
    "start_time": "2022-10-01T16:57:33.474Z"
   },
   {
    "duration": 4,
    "start_time": "2022-10-01T16:57:33.503Z"
   },
   {
    "duration": 9,
    "start_time": "2022-10-01T16:57:33.508Z"
   },
   {
    "duration": 4,
    "start_time": "2022-10-01T16:57:33.518Z"
   },
   {
    "duration": 10,
    "start_time": "2022-10-01T16:57:33.524Z"
   },
   {
    "duration": 8,
    "start_time": "2022-10-01T16:57:33.535Z"
   },
   {
    "duration": 5,
    "start_time": "2022-10-01T16:57:33.544Z"
   },
   {
    "duration": 7,
    "start_time": "2022-10-01T16:57:33.550Z"
   },
   {
    "duration": 5,
    "start_time": "2022-10-01T16:57:33.558Z"
   },
   {
    "duration": 7,
    "start_time": "2022-10-01T16:57:33.565Z"
   },
   {
    "duration": 71,
    "start_time": "2022-10-01T16:57:33.573Z"
   },
   {
    "duration": 6,
    "start_time": "2022-10-01T16:57:33.645Z"
   },
   {
    "duration": 7,
    "start_time": "2022-10-01T16:57:33.652Z"
   },
   {
    "duration": 7,
    "start_time": "2022-10-01T16:57:33.660Z"
   },
   {
    "duration": 18,
    "start_time": "2022-10-01T16:57:33.668Z"
   },
   {
    "duration": 247,
    "start_time": "2022-10-01T16:57:33.687Z"
   },
   {
    "duration": 279,
    "start_time": "2022-10-01T16:57:33.936Z"
   },
   {
    "duration": 250,
    "start_time": "2022-10-01T16:57:34.217Z"
   },
   {
    "duration": 338,
    "start_time": "2022-10-01T16:57:34.469Z"
   },
   {
    "duration": 225,
    "start_time": "2022-10-01T16:57:34.811Z"
   },
   {
    "duration": 179,
    "start_time": "2022-10-01T16:57:35.039Z"
   },
   {
    "duration": 255,
    "start_time": "2022-10-01T16:57:35.220Z"
   },
   {
    "duration": 226,
    "start_time": "2022-10-01T16:57:35.478Z"
   },
   {
    "duration": 212,
    "start_time": "2022-10-01T16:57:35.707Z"
   },
   {
    "duration": 283,
    "start_time": "2022-10-01T16:57:35.920Z"
   },
   {
    "duration": 221,
    "start_time": "2022-10-01T16:57:36.204Z"
   },
   {
    "duration": 215,
    "start_time": "2022-10-01T16:57:36.426Z"
   },
   {
    "duration": 244,
    "start_time": "2022-10-01T16:57:36.643Z"
   },
   {
    "duration": 133,
    "start_time": "2022-10-01T16:57:36.889Z"
   },
   {
    "duration": 136,
    "start_time": "2022-10-01T16:57:37.024Z"
   },
   {
    "duration": 127,
    "start_time": "2022-10-01T16:57:37.162Z"
   },
   {
    "duration": 15,
    "start_time": "2022-10-01T16:57:37.290Z"
   },
   {
    "duration": 14,
    "start_time": "2022-10-01T16:57:37.306Z"
   },
   {
    "duration": 7,
    "start_time": "2022-10-01T16:57:37.322Z"
   },
   {
    "duration": 8,
    "start_time": "2022-10-01T16:57:37.331Z"
   },
   {
    "duration": 221,
    "start_time": "2022-10-01T16:57:37.340Z"
   },
   {
    "duration": 9,
    "start_time": "2022-10-01T16:57:37.563Z"
   },
   {
    "duration": 229,
    "start_time": "2022-10-01T16:57:37.574Z"
   },
   {
    "duration": 5,
    "start_time": "2022-10-01T16:57:37.805Z"
   },
   {
    "duration": 246,
    "start_time": "2022-10-01T16:57:37.811Z"
   },
   {
    "duration": 4,
    "start_time": "2022-10-01T16:57:38.059Z"
   },
   {
    "duration": 251,
    "start_time": "2022-10-01T16:57:38.065Z"
   },
   {
    "duration": 5,
    "start_time": "2022-10-01T16:57:38.317Z"
   },
   {
    "duration": 165,
    "start_time": "2022-10-01T16:57:38.323Z"
   },
   {
    "duration": 10,
    "start_time": "2022-10-01T16:57:38.490Z"
   },
   {
    "duration": 104,
    "start_time": "2022-10-01T16:57:38.502Z"
   },
   {
    "duration": 4,
    "start_time": "2022-10-01T16:57:38.608Z"
   },
   {
    "duration": 136,
    "start_time": "2022-10-01T16:57:38.614Z"
   },
   {
    "duration": 143,
    "start_time": "2022-10-01T16:57:38.751Z"
   },
   {
    "duration": 122,
    "start_time": "2022-10-01T16:57:38.895Z"
   },
   {
    "duration": 116,
    "start_time": "2022-10-01T16:57:39.019Z"
   },
   {
    "duration": 20,
    "start_time": "2022-10-01T16:57:39.137Z"
   },
   {
    "duration": 3,
    "start_time": "2022-10-01T16:57:39.159Z"
   },
   {
    "duration": 5,
    "start_time": "2022-10-01T16:57:39.164Z"
   },
   {
    "duration": 50,
    "start_time": "2022-10-01T16:57:39.170Z"
   },
   {
    "duration": 158,
    "start_time": "2022-10-01T16:57:39.222Z"
   },
   {
    "duration": 121,
    "start_time": "2022-10-01T16:59:28.951Z"
   },
   {
    "duration": 788,
    "start_time": "2022-10-01T16:59:41.373Z"
   },
   {
    "duration": 16,
    "start_time": "2022-10-01T16:59:42.162Z"
   },
   {
    "duration": 1812,
    "start_time": "2022-10-01T16:59:42.179Z"
   },
   {
    "duration": 72,
    "start_time": "2022-10-01T16:59:43.993Z"
   },
   {
    "duration": 64,
    "start_time": "2022-10-01T16:59:44.066Z"
   },
   {
    "duration": 1255,
    "start_time": "2022-10-01T16:59:44.132Z"
   },
   {
    "duration": 15,
    "start_time": "2022-10-01T16:59:45.388Z"
   },
   {
    "duration": 10,
    "start_time": "2022-10-01T16:59:45.404Z"
   },
   {
    "duration": 11,
    "start_time": "2022-10-01T16:59:45.416Z"
   },
   {
    "duration": 3,
    "start_time": "2022-10-01T16:59:45.430Z"
   },
   {
    "duration": 8,
    "start_time": "2022-10-01T16:59:45.435Z"
   },
   {
    "duration": 8,
    "start_time": "2022-10-01T16:59:45.445Z"
   },
   {
    "duration": 15,
    "start_time": "2022-10-01T16:59:45.459Z"
   },
   {
    "duration": 11,
    "start_time": "2022-10-01T16:59:45.475Z"
   },
   {
    "duration": 4,
    "start_time": "2022-10-01T16:59:45.500Z"
   },
   {
    "duration": 5,
    "start_time": "2022-10-01T16:59:45.506Z"
   },
   {
    "duration": 9,
    "start_time": "2022-10-01T16:59:45.512Z"
   },
   {
    "duration": 7,
    "start_time": "2022-10-01T16:59:45.522Z"
   },
   {
    "duration": 41,
    "start_time": "2022-10-01T16:59:45.530Z"
   },
   {
    "duration": 5,
    "start_time": "2022-10-01T16:59:45.573Z"
   },
   {
    "duration": 20,
    "start_time": "2022-10-01T16:59:45.580Z"
   },
   {
    "duration": 3,
    "start_time": "2022-10-01T16:59:45.601Z"
   },
   {
    "duration": 16,
    "start_time": "2022-10-01T16:59:45.606Z"
   },
   {
    "duration": 246,
    "start_time": "2022-10-01T16:59:45.624Z"
   },
   {
    "duration": 228,
    "start_time": "2022-10-01T16:59:45.872Z"
   },
   {
    "duration": 228,
    "start_time": "2022-10-01T16:59:46.102Z"
   },
   {
    "duration": 308,
    "start_time": "2022-10-01T16:59:46.332Z"
   },
   {
    "duration": 226,
    "start_time": "2022-10-01T16:59:46.644Z"
   },
   {
    "duration": 176,
    "start_time": "2022-10-01T16:59:46.871Z"
   },
   {
    "duration": 231,
    "start_time": "2022-10-01T16:59:47.049Z"
   },
   {
    "duration": 238,
    "start_time": "2022-10-01T16:59:47.281Z"
   },
   {
    "duration": 208,
    "start_time": "2022-10-01T16:59:47.521Z"
   },
   {
    "duration": 315,
    "start_time": "2022-10-01T16:59:47.731Z"
   },
   {
    "duration": 218,
    "start_time": "2022-10-01T16:59:48.047Z"
   },
   {
    "duration": 219,
    "start_time": "2022-10-01T16:59:48.267Z"
   },
   {
    "duration": 238,
    "start_time": "2022-10-01T16:59:48.487Z"
   },
   {
    "duration": 131,
    "start_time": "2022-10-01T16:59:48.726Z"
   },
   {
    "duration": 132,
    "start_time": "2022-10-01T16:59:48.858Z"
   },
   {
    "duration": 132,
    "start_time": "2022-10-01T16:59:48.992Z"
   },
   {
    "duration": 8,
    "start_time": "2022-10-01T16:59:49.125Z"
   },
   {
    "duration": 13,
    "start_time": "2022-10-01T16:59:49.135Z"
   },
   {
    "duration": 8,
    "start_time": "2022-10-01T16:59:49.149Z"
   },
   {
    "duration": 8,
    "start_time": "2022-10-01T16:59:49.158Z"
   },
   {
    "duration": 220,
    "start_time": "2022-10-01T16:59:49.167Z"
   },
   {
    "duration": 16,
    "start_time": "2022-10-01T16:59:49.388Z"
   },
   {
    "duration": 238,
    "start_time": "2022-10-01T16:59:49.406Z"
   },
   {
    "duration": 5,
    "start_time": "2022-10-01T16:59:49.645Z"
   },
   {
    "duration": 252,
    "start_time": "2022-10-01T16:59:49.651Z"
   },
   {
    "duration": 5,
    "start_time": "2022-10-01T16:59:49.904Z"
   },
   {
    "duration": 241,
    "start_time": "2022-10-01T16:59:49.910Z"
   },
   {
    "duration": 6,
    "start_time": "2022-10-01T16:59:50.152Z"
   },
   {
    "duration": 162,
    "start_time": "2022-10-01T16:59:50.160Z"
   },
   {
    "duration": 5,
    "start_time": "2022-10-01T16:59:50.323Z"
   },
   {
    "duration": 117,
    "start_time": "2022-10-01T16:59:50.329Z"
   },
   {
    "duration": 4,
    "start_time": "2022-10-01T16:59:50.448Z"
   },
   {
    "duration": 125,
    "start_time": "2022-10-01T16:59:50.454Z"
   },
   {
    "duration": 134,
    "start_time": "2022-10-01T16:59:50.581Z"
   },
   {
    "duration": 123,
    "start_time": "2022-10-01T16:59:50.717Z"
   },
   {
    "duration": 121,
    "start_time": "2022-10-01T16:59:50.842Z"
   },
   {
    "duration": 19,
    "start_time": "2022-10-01T16:59:50.965Z"
   },
   {
    "duration": 15,
    "start_time": "2022-10-01T16:59:50.985Z"
   },
   {
    "duration": 4,
    "start_time": "2022-10-01T16:59:51.002Z"
   },
   {
    "duration": 30,
    "start_time": "2022-10-01T16:59:51.007Z"
   },
   {
    "duration": 167,
    "start_time": "2022-10-01T16:59:51.039Z"
   },
   {
    "duration": 47,
    "start_time": "2022-10-01T17:10:18.794Z"
   },
   {
    "duration": 67,
    "start_time": "2022-10-01T17:11:07.663Z"
   },
   {
    "duration": 1087,
    "start_time": "2022-10-01T17:11:19.333Z"
   },
   {
    "duration": 7,
    "start_time": "2022-10-01T17:12:52.162Z"
   },
   {
    "duration": 6,
    "start_time": "2022-10-01T17:13:12.888Z"
   },
   {
    "duration": 12,
    "start_time": "2022-10-01T17:13:52.217Z"
   },
   {
    "duration": 1138,
    "start_time": "2022-10-01T17:17:59.823Z"
   },
   {
    "duration": 750,
    "start_time": "2022-10-01T17:19:11.034Z"
   },
   {
    "duration": 20,
    "start_time": "2022-10-01T17:19:11.787Z"
   },
   {
    "duration": 1751,
    "start_time": "2022-10-01T17:19:11.808Z"
   },
   {
    "duration": 65,
    "start_time": "2022-10-01T17:19:13.561Z"
   },
   {
    "duration": 52,
    "start_time": "2022-10-01T17:19:13.627Z"
   },
   {
    "duration": 1301,
    "start_time": "2022-10-01T17:19:13.680Z"
   },
   {
    "duration": 0,
    "start_time": "2022-10-01T17:19:14.984Z"
   },
   {
    "duration": 0,
    "start_time": "2022-10-01T17:19:14.986Z"
   },
   {
    "duration": 0,
    "start_time": "2022-10-01T17:19:14.986Z"
   },
   {
    "duration": 0,
    "start_time": "2022-10-01T17:19:14.989Z"
   },
   {
    "duration": 0,
    "start_time": "2022-10-01T17:19:14.990Z"
   },
   {
    "duration": 0,
    "start_time": "2022-10-01T17:19:15.000Z"
   },
   {
    "duration": 0,
    "start_time": "2022-10-01T17:19:15.001Z"
   },
   {
    "duration": 0,
    "start_time": "2022-10-01T17:19:15.001Z"
   },
   {
    "duration": 0,
    "start_time": "2022-10-01T17:19:15.002Z"
   },
   {
    "duration": 0,
    "start_time": "2022-10-01T17:19:15.003Z"
   },
   {
    "duration": 0,
    "start_time": "2022-10-01T17:19:15.005Z"
   },
   {
    "duration": 0,
    "start_time": "2022-10-01T17:19:15.005Z"
   },
   {
    "duration": 0,
    "start_time": "2022-10-01T17:19:15.006Z"
   },
   {
    "duration": 0,
    "start_time": "2022-10-01T17:19:15.007Z"
   },
   {
    "duration": 0,
    "start_time": "2022-10-01T17:19:15.008Z"
   },
   {
    "duration": 0,
    "start_time": "2022-10-01T17:19:15.009Z"
   },
   {
    "duration": 0,
    "start_time": "2022-10-01T17:19:15.010Z"
   },
   {
    "duration": 0,
    "start_time": "2022-10-01T17:19:15.011Z"
   },
   {
    "duration": 0,
    "start_time": "2022-10-01T17:19:15.012Z"
   },
   {
    "duration": 0,
    "start_time": "2022-10-01T17:19:15.013Z"
   },
   {
    "duration": 0,
    "start_time": "2022-10-01T17:19:15.014Z"
   },
   {
    "duration": 0,
    "start_time": "2022-10-01T17:19:15.015Z"
   },
   {
    "duration": 0,
    "start_time": "2022-10-01T17:19:15.016Z"
   },
   {
    "duration": 0,
    "start_time": "2022-10-01T17:19:15.017Z"
   },
   {
    "duration": 0,
    "start_time": "2022-10-01T17:19:15.018Z"
   },
   {
    "duration": 0,
    "start_time": "2022-10-01T17:19:15.020Z"
   },
   {
    "duration": 0,
    "start_time": "2022-10-01T17:19:15.021Z"
   },
   {
    "duration": 0,
    "start_time": "2022-10-01T17:19:15.022Z"
   },
   {
    "duration": 0,
    "start_time": "2022-10-01T17:19:15.023Z"
   },
   {
    "duration": 0,
    "start_time": "2022-10-01T17:19:15.024Z"
   },
   {
    "duration": 0,
    "start_time": "2022-10-01T17:19:15.025Z"
   },
   {
    "duration": 0,
    "start_time": "2022-10-01T17:19:15.026Z"
   },
   {
    "duration": 0,
    "start_time": "2022-10-01T17:19:15.027Z"
   },
   {
    "duration": 0,
    "start_time": "2022-10-01T17:19:15.027Z"
   },
   {
    "duration": 0,
    "start_time": "2022-10-01T17:19:15.028Z"
   },
   {
    "duration": 0,
    "start_time": "2022-10-01T17:19:15.029Z"
   },
   {
    "duration": 0,
    "start_time": "2022-10-01T17:19:15.030Z"
   },
   {
    "duration": 0,
    "start_time": "2022-10-01T17:19:15.031Z"
   },
   {
    "duration": 0,
    "start_time": "2022-10-01T17:19:15.032Z"
   },
   {
    "duration": 0,
    "start_time": "2022-10-01T17:19:15.032Z"
   },
   {
    "duration": 0,
    "start_time": "2022-10-01T17:19:15.033Z"
   },
   {
    "duration": 0,
    "start_time": "2022-10-01T17:19:15.034Z"
   },
   {
    "duration": 0,
    "start_time": "2022-10-01T17:19:15.035Z"
   },
   {
    "duration": 0,
    "start_time": "2022-10-01T17:19:15.036Z"
   },
   {
    "duration": 0,
    "start_time": "2022-10-01T17:19:15.037Z"
   },
   {
    "duration": 0,
    "start_time": "2022-10-01T17:19:15.038Z"
   },
   {
    "duration": 0,
    "start_time": "2022-10-01T17:19:15.101Z"
   },
   {
    "duration": 0,
    "start_time": "2022-10-01T17:19:15.101Z"
   },
   {
    "duration": 0,
    "start_time": "2022-10-01T17:19:15.102Z"
   },
   {
    "duration": 0,
    "start_time": "2022-10-01T17:19:15.103Z"
   },
   {
    "duration": 0,
    "start_time": "2022-10-01T17:19:15.104Z"
   },
   {
    "duration": 0,
    "start_time": "2022-10-01T17:19:15.105Z"
   },
   {
    "duration": 0,
    "start_time": "2022-10-01T17:19:15.106Z"
   },
   {
    "duration": 0,
    "start_time": "2022-10-01T17:19:15.107Z"
   },
   {
    "duration": 0,
    "start_time": "2022-10-01T17:19:15.108Z"
   },
   {
    "duration": 0,
    "start_time": "2022-10-01T17:19:15.109Z"
   },
   {
    "duration": 0,
    "start_time": "2022-10-01T17:19:15.110Z"
   },
   {
    "duration": 0,
    "start_time": "2022-10-01T17:19:15.111Z"
   },
   {
    "duration": 0,
    "start_time": "2022-10-01T17:19:15.112Z"
   },
   {
    "duration": 6,
    "start_time": "2022-10-01T17:32:35.685Z"
   },
   {
    "duration": 751,
    "start_time": "2022-10-01T17:32:56.089Z"
   },
   {
    "duration": 14,
    "start_time": "2022-10-01T17:32:56.842Z"
   },
   {
    "duration": 1774,
    "start_time": "2022-10-01T17:32:56.857Z"
   },
   {
    "duration": 66,
    "start_time": "2022-10-01T17:32:58.632Z"
   },
   {
    "duration": 46,
    "start_time": "2022-10-01T17:32:58.700Z"
   },
   {
    "duration": 1118,
    "start_time": "2022-10-01T17:32:58.747Z"
   },
   {
    "duration": 4,
    "start_time": "2022-10-01T17:32:59.867Z"
   },
   {
    "duration": 8,
    "start_time": "2022-10-01T17:32:59.872Z"
   },
   {
    "duration": 18,
    "start_time": "2022-10-01T17:32:59.882Z"
   },
   {
    "duration": 4,
    "start_time": "2022-10-01T17:32:59.902Z"
   },
   {
    "duration": 4,
    "start_time": "2022-10-01T17:32:59.908Z"
   },
   {
    "duration": 8,
    "start_time": "2022-10-01T17:32:59.914Z"
   },
   {
    "duration": 1211,
    "start_time": "2022-10-01T17:32:59.924Z"
   },
   {
    "duration": 7,
    "start_time": "2022-10-01T17:33:01.137Z"
   },
   {
    "duration": 10,
    "start_time": "2022-10-01T17:33:01.145Z"
   },
   {
    "duration": 16,
    "start_time": "2022-10-01T17:33:01.157Z"
   },
   {
    "duration": 16,
    "start_time": "2022-10-01T17:33:01.174Z"
   },
   {
    "duration": 62,
    "start_time": "2022-10-01T17:33:01.192Z"
   },
   {
    "duration": 6,
    "start_time": "2022-10-01T17:33:01.256Z"
   },
   {
    "duration": 39,
    "start_time": "2022-10-01T17:33:01.263Z"
   },
   {
    "duration": 22,
    "start_time": "2022-10-01T17:33:01.303Z"
   },
   {
    "duration": 47,
    "start_time": "2022-10-01T17:33:01.326Z"
   },
   {
    "duration": 11,
    "start_time": "2022-10-01T17:33:01.375Z"
   },
   {
    "duration": 248,
    "start_time": "2022-10-01T17:33:01.388Z"
   },
   {
    "duration": 228,
    "start_time": "2022-10-01T17:33:01.638Z"
   },
   {
    "duration": 240,
    "start_time": "2022-10-01T17:33:01.867Z"
   },
   {
    "duration": 310,
    "start_time": "2022-10-01T17:33:02.108Z"
   },
   {
    "duration": 223,
    "start_time": "2022-10-01T17:33:02.419Z"
   },
   {
    "duration": 178,
    "start_time": "2022-10-01T17:33:02.644Z"
   },
   {
    "duration": 217,
    "start_time": "2022-10-01T17:33:02.824Z"
   },
   {
    "duration": 210,
    "start_time": "2022-10-01T17:33:03.043Z"
   },
   {
    "duration": 223,
    "start_time": "2022-10-01T17:33:03.255Z"
   },
   {
    "duration": 302,
    "start_time": "2022-10-01T17:33:03.480Z"
   },
   {
    "duration": 233,
    "start_time": "2022-10-01T17:33:03.784Z"
   },
   {
    "duration": 241,
    "start_time": "2022-10-01T17:33:04.019Z"
   },
   {
    "duration": 269,
    "start_time": "2022-10-01T17:33:04.261Z"
   },
   {
    "duration": 170,
    "start_time": "2022-10-01T17:33:04.533Z"
   },
   {
    "duration": 125,
    "start_time": "2022-10-01T17:33:04.704Z"
   },
   {
    "duration": 136,
    "start_time": "2022-10-01T17:33:04.831Z"
   },
   {
    "duration": 9,
    "start_time": "2022-10-01T17:33:04.968Z"
   },
   {
    "duration": 27,
    "start_time": "2022-10-01T17:33:04.980Z"
   },
   {
    "duration": 7,
    "start_time": "2022-10-01T17:33:05.008Z"
   },
   {
    "duration": 12,
    "start_time": "2022-10-01T17:33:05.016Z"
   },
   {
    "duration": 212,
    "start_time": "2022-10-01T17:33:05.029Z"
   },
   {
    "duration": 9,
    "start_time": "2022-10-01T17:33:05.242Z"
   },
   {
    "duration": 241,
    "start_time": "2022-10-01T17:33:05.253Z"
   },
   {
    "duration": 7,
    "start_time": "2022-10-01T17:33:05.495Z"
   },
   {
    "duration": 251,
    "start_time": "2022-10-01T17:33:05.504Z"
   },
   {
    "duration": 6,
    "start_time": "2022-10-01T17:33:05.756Z"
   },
   {
    "duration": 229,
    "start_time": "2022-10-01T17:33:05.763Z"
   },
   {
    "duration": 9,
    "start_time": "2022-10-01T17:33:05.993Z"
   },
   {
    "duration": 162,
    "start_time": "2022-10-01T17:33:06.004Z"
   },
   {
    "duration": 5,
    "start_time": "2022-10-01T17:33:06.167Z"
   },
   {
    "duration": 103,
    "start_time": "2022-10-01T17:33:06.173Z"
   },
   {
    "duration": 5,
    "start_time": "2022-10-01T17:33:06.278Z"
   },
   {
    "duration": 121,
    "start_time": "2022-10-01T17:33:06.284Z"
   },
   {
    "duration": 127,
    "start_time": "2022-10-01T17:33:06.407Z"
   },
   {
    "duration": 122,
    "start_time": "2022-10-01T17:33:06.535Z"
   },
   {
    "duration": 111,
    "start_time": "2022-10-01T17:33:06.659Z"
   },
   {
    "duration": 78,
    "start_time": "2022-10-01T17:33:06.771Z"
   },
   {
    "duration": 0,
    "start_time": "2022-10-01T17:33:06.850Z"
   },
   {
    "duration": 0,
    "start_time": "2022-10-01T17:33:06.851Z"
   },
   {
    "duration": 0,
    "start_time": "2022-10-01T17:33:06.852Z"
   },
   {
    "duration": 0,
    "start_time": "2022-10-01T17:33:06.853Z"
   },
   {
    "duration": 751,
    "start_time": "2022-10-01T17:37:59.597Z"
   },
   {
    "duration": 14,
    "start_time": "2022-10-01T17:38:00.350Z"
   },
   {
    "duration": 1766,
    "start_time": "2022-10-01T17:38:00.365Z"
   },
   {
    "duration": 67,
    "start_time": "2022-10-01T17:38:02.133Z"
   },
   {
    "duration": 45,
    "start_time": "2022-10-01T17:38:02.202Z"
   },
   {
    "duration": 1135,
    "start_time": "2022-10-01T17:38:02.248Z"
   },
   {
    "duration": 3,
    "start_time": "2022-10-01T17:38:03.384Z"
   },
   {
    "duration": 12,
    "start_time": "2022-10-01T17:38:03.388Z"
   },
   {
    "duration": 69,
    "start_time": "2022-10-01T17:38:03.402Z"
   },
   {
    "duration": 0,
    "start_time": "2022-10-01T17:38:03.474Z"
   },
   {
    "duration": 0,
    "start_time": "2022-10-01T17:38:03.475Z"
   },
   {
    "duration": 0,
    "start_time": "2022-10-01T17:38:03.476Z"
   },
   {
    "duration": 0,
    "start_time": "2022-10-01T17:38:03.477Z"
   },
   {
    "duration": 0,
    "start_time": "2022-10-01T17:38:03.478Z"
   },
   {
    "duration": 0,
    "start_time": "2022-10-01T17:38:03.478Z"
   },
   {
    "duration": 0,
    "start_time": "2022-10-01T17:38:03.500Z"
   },
   {
    "duration": 0,
    "start_time": "2022-10-01T17:38:03.501Z"
   },
   {
    "duration": 0,
    "start_time": "2022-10-01T17:38:03.502Z"
   },
   {
    "duration": 0,
    "start_time": "2022-10-01T17:38:03.503Z"
   },
   {
    "duration": 0,
    "start_time": "2022-10-01T17:38:03.504Z"
   },
   {
    "duration": 0,
    "start_time": "2022-10-01T17:38:03.505Z"
   },
   {
    "duration": 0,
    "start_time": "2022-10-01T17:38:03.507Z"
   },
   {
    "duration": 0,
    "start_time": "2022-10-01T17:38:03.508Z"
   },
   {
    "duration": 0,
    "start_time": "2022-10-01T17:38:03.508Z"
   },
   {
    "duration": 0,
    "start_time": "2022-10-01T17:38:03.510Z"
   },
   {
    "duration": 0,
    "start_time": "2022-10-01T17:38:03.511Z"
   },
   {
    "duration": 0,
    "start_time": "2022-10-01T17:38:03.512Z"
   },
   {
    "duration": 0,
    "start_time": "2022-10-01T17:38:03.513Z"
   },
   {
    "duration": 0,
    "start_time": "2022-10-01T17:38:03.514Z"
   },
   {
    "duration": 0,
    "start_time": "2022-10-01T17:38:03.515Z"
   },
   {
    "duration": 0,
    "start_time": "2022-10-01T17:38:03.516Z"
   },
   {
    "duration": 0,
    "start_time": "2022-10-01T17:38:03.517Z"
   },
   {
    "duration": 0,
    "start_time": "2022-10-01T17:38:03.518Z"
   },
   {
    "duration": 0,
    "start_time": "2022-10-01T17:38:03.519Z"
   },
   {
    "duration": 0,
    "start_time": "2022-10-01T17:38:03.520Z"
   },
   {
    "duration": 0,
    "start_time": "2022-10-01T17:38:03.521Z"
   },
   {
    "duration": 0,
    "start_time": "2022-10-01T17:38:03.522Z"
   },
   {
    "duration": 0,
    "start_time": "2022-10-01T17:38:03.523Z"
   },
   {
    "duration": 0,
    "start_time": "2022-10-01T17:38:03.524Z"
   },
   {
    "duration": 0,
    "start_time": "2022-10-01T17:38:03.524Z"
   },
   {
    "duration": 0,
    "start_time": "2022-10-01T17:38:03.525Z"
   },
   {
    "duration": 0,
    "start_time": "2022-10-01T17:38:03.526Z"
   },
   {
    "duration": 0,
    "start_time": "2022-10-01T17:38:03.527Z"
   },
   {
    "duration": 0,
    "start_time": "2022-10-01T17:38:03.528Z"
   },
   {
    "duration": 0,
    "start_time": "2022-10-01T17:38:03.529Z"
   },
   {
    "duration": 0,
    "start_time": "2022-10-01T17:38:03.530Z"
   },
   {
    "duration": 0,
    "start_time": "2022-10-01T17:38:03.531Z"
   },
   {
    "duration": 0,
    "start_time": "2022-10-01T17:38:03.532Z"
   },
   {
    "duration": 0,
    "start_time": "2022-10-01T17:38:03.533Z"
   },
   {
    "duration": 1,
    "start_time": "2022-10-01T17:38:03.533Z"
   },
   {
    "duration": 0,
    "start_time": "2022-10-01T17:38:03.534Z"
   },
   {
    "duration": 0,
    "start_time": "2022-10-01T17:38:03.535Z"
   },
   {
    "duration": 0,
    "start_time": "2022-10-01T17:38:03.537Z"
   },
   {
    "duration": 0,
    "start_time": "2022-10-01T17:38:03.537Z"
   },
   {
    "duration": 0,
    "start_time": "2022-10-01T17:38:03.538Z"
   },
   {
    "duration": 0,
    "start_time": "2022-10-01T17:38:03.539Z"
   },
   {
    "duration": 0,
    "start_time": "2022-10-01T17:38:03.601Z"
   },
   {
    "duration": 0,
    "start_time": "2022-10-01T17:38:03.602Z"
   },
   {
    "duration": 0,
    "start_time": "2022-10-01T17:38:03.603Z"
   },
   {
    "duration": 0,
    "start_time": "2022-10-01T17:38:03.604Z"
   },
   {
    "duration": 0,
    "start_time": "2022-10-01T17:38:03.605Z"
   },
   {
    "duration": 0,
    "start_time": "2022-10-01T17:38:03.606Z"
   },
   {
    "duration": 0,
    "start_time": "2022-10-01T17:38:03.607Z"
   },
   {
    "duration": 0,
    "start_time": "2022-10-01T17:38:03.608Z"
   },
   {
    "duration": 43,
    "start_time": "2022-10-01T17:38:42.938Z"
   },
   {
    "duration": 726,
    "start_time": "2022-10-01T17:39:04.508Z"
   },
   {
    "duration": 12,
    "start_time": "2022-10-01T17:39:05.236Z"
   },
   {
    "duration": 1818,
    "start_time": "2022-10-01T17:39:05.249Z"
   },
   {
    "duration": 73,
    "start_time": "2022-10-01T17:39:07.069Z"
   },
   {
    "duration": 57,
    "start_time": "2022-10-01T17:39:07.144Z"
   },
   {
    "duration": 1137,
    "start_time": "2022-10-01T17:39:07.203Z"
   },
   {
    "duration": 3,
    "start_time": "2022-10-01T17:39:08.341Z"
   },
   {
    "duration": 6,
    "start_time": "2022-10-01T17:39:08.345Z"
   },
   {
    "duration": 49,
    "start_time": "2022-10-01T17:39:08.352Z"
   },
   {
    "duration": 6,
    "start_time": "2022-10-01T17:39:08.403Z"
   },
   {
    "duration": 11,
    "start_time": "2022-10-01T17:39:08.410Z"
   },
   {
    "duration": 15,
    "start_time": "2022-10-01T17:39:08.423Z"
   },
   {
    "duration": 1210,
    "start_time": "2022-10-01T17:39:08.440Z"
   },
   {
    "duration": 6,
    "start_time": "2022-10-01T17:39:09.653Z"
   },
   {
    "duration": 6,
    "start_time": "2022-10-01T17:39:09.660Z"
   },
   {
    "duration": 26,
    "start_time": "2022-10-01T17:39:09.667Z"
   },
   {
    "duration": 7,
    "start_time": "2022-10-01T17:39:09.694Z"
   },
   {
    "duration": 38,
    "start_time": "2022-10-01T17:39:09.702Z"
   },
   {
    "duration": 6,
    "start_time": "2022-10-01T17:39:09.742Z"
   },
   {
    "duration": 5,
    "start_time": "2022-10-01T17:39:09.749Z"
   },
   {
    "duration": 13,
    "start_time": "2022-10-01T17:39:09.755Z"
   },
   {
    "duration": 16,
    "start_time": "2022-10-01T17:39:09.770Z"
   },
   {
    "duration": 17,
    "start_time": "2022-10-01T17:39:09.788Z"
   },
   {
    "duration": 236,
    "start_time": "2022-10-01T17:39:09.807Z"
   },
   {
    "duration": 228,
    "start_time": "2022-10-01T17:39:10.044Z"
   },
   {
    "duration": 225,
    "start_time": "2022-10-01T17:39:10.274Z"
   },
   {
    "duration": 301,
    "start_time": "2022-10-01T17:39:10.501Z"
   },
   {
    "duration": 229,
    "start_time": "2022-10-01T17:39:10.804Z"
   },
   {
    "duration": 183,
    "start_time": "2022-10-01T17:39:11.035Z"
   },
   {
    "duration": 244,
    "start_time": "2022-10-01T17:39:11.220Z"
   },
   {
    "duration": 238,
    "start_time": "2022-10-01T17:39:11.466Z"
   },
   {
    "duration": 219,
    "start_time": "2022-10-01T17:39:11.706Z"
   },
   {
    "duration": 277,
    "start_time": "2022-10-01T17:39:11.926Z"
   },
   {
    "duration": 237,
    "start_time": "2022-10-01T17:39:12.204Z"
   },
   {
    "duration": 231,
    "start_time": "2022-10-01T17:39:12.443Z"
   },
   {
    "duration": 243,
    "start_time": "2022-10-01T17:39:12.675Z"
   },
   {
    "duration": 138,
    "start_time": "2022-10-01T17:39:12.920Z"
   },
   {
    "duration": 142,
    "start_time": "2022-10-01T17:39:13.060Z"
   },
   {
    "duration": 144,
    "start_time": "2022-10-01T17:39:13.203Z"
   },
   {
    "duration": 7,
    "start_time": "2022-10-01T17:39:13.349Z"
   },
   {
    "duration": 12,
    "start_time": "2022-10-01T17:39:13.359Z"
   },
   {
    "duration": 7,
    "start_time": "2022-10-01T17:39:13.372Z"
   },
   {
    "duration": 25,
    "start_time": "2022-10-01T17:39:13.381Z"
   },
   {
    "duration": 203,
    "start_time": "2022-10-01T17:39:13.408Z"
   },
   {
    "duration": 9,
    "start_time": "2022-10-01T17:39:13.613Z"
   },
   {
    "duration": 231,
    "start_time": "2022-10-01T17:39:13.623Z"
   },
   {
    "duration": 5,
    "start_time": "2022-10-01T17:39:13.856Z"
   },
   {
    "duration": 252,
    "start_time": "2022-10-01T17:39:13.862Z"
   },
   {
    "duration": 5,
    "start_time": "2022-10-01T17:39:14.116Z"
   },
   {
    "duration": 253,
    "start_time": "2022-10-01T17:39:14.123Z"
   },
   {
    "duration": 11,
    "start_time": "2022-10-01T17:39:14.377Z"
   },
   {
    "duration": 205,
    "start_time": "2022-10-01T17:39:14.400Z"
   },
   {
    "duration": 6,
    "start_time": "2022-10-01T17:39:14.608Z"
   },
   {
    "duration": 115,
    "start_time": "2022-10-01T17:39:14.615Z"
   },
   {
    "duration": 5,
    "start_time": "2022-10-01T17:39:14.731Z"
   },
   {
    "duration": 131,
    "start_time": "2022-10-01T17:39:14.737Z"
   },
   {
    "duration": 133,
    "start_time": "2022-10-01T17:39:14.869Z"
   },
   {
    "duration": 131,
    "start_time": "2022-10-01T17:39:15.003Z"
   },
   {
    "duration": 115,
    "start_time": "2022-10-01T17:39:15.135Z"
   },
   {
    "duration": 75,
    "start_time": "2022-10-01T17:39:15.252Z"
   },
   {
    "duration": 0,
    "start_time": "2022-10-01T17:39:15.330Z"
   },
   {
    "duration": 0,
    "start_time": "2022-10-01T17:39:15.332Z"
   },
   {
    "duration": 0,
    "start_time": "2022-10-01T17:39:15.333Z"
   },
   {
    "duration": 0,
    "start_time": "2022-10-01T17:39:15.334Z"
   },
   {
    "duration": 5,
    "start_time": "2022-10-01T17:43:13.508Z"
   },
   {
    "duration": 733,
    "start_time": "2022-10-01T17:43:20.311Z"
   },
   {
    "duration": 13,
    "start_time": "2022-10-01T17:43:21.045Z"
   },
   {
    "duration": 1836,
    "start_time": "2022-10-01T17:43:21.059Z"
   },
   {
    "duration": 70,
    "start_time": "2022-10-01T17:43:22.898Z"
   },
   {
    "duration": 67,
    "start_time": "2022-10-01T17:43:22.970Z"
   },
   {
    "duration": 1214,
    "start_time": "2022-10-01T17:43:23.039Z"
   },
   {
    "duration": 3,
    "start_time": "2022-10-01T17:43:24.254Z"
   },
   {
    "duration": 11,
    "start_time": "2022-10-01T17:43:24.258Z"
   },
   {
    "duration": 7,
    "start_time": "2022-10-01T17:43:24.270Z"
   },
   {
    "duration": 8,
    "start_time": "2022-10-01T17:43:24.279Z"
   },
   {
    "duration": 12,
    "start_time": "2022-10-01T17:43:24.289Z"
   },
   {
    "duration": 7,
    "start_time": "2022-10-01T17:43:24.302Z"
   },
   {
    "duration": 1320,
    "start_time": "2022-10-01T17:43:24.311Z"
   },
   {
    "duration": 7,
    "start_time": "2022-10-01T17:43:25.633Z"
   },
   {
    "duration": 6,
    "start_time": "2022-10-01T17:43:25.642Z"
   },
   {
    "duration": 7,
    "start_time": "2022-10-01T17:43:25.649Z"
   },
   {
    "duration": 5,
    "start_time": "2022-10-01T17:43:25.657Z"
   },
   {
    "duration": 56,
    "start_time": "2022-10-01T17:43:25.663Z"
   },
   {
    "duration": 5,
    "start_time": "2022-10-01T17:43:25.721Z"
   },
   {
    "duration": 4,
    "start_time": "2022-10-01T17:43:25.728Z"
   },
   {
    "duration": 5,
    "start_time": "2022-10-01T17:43:25.734Z"
   },
   {
    "duration": 14,
    "start_time": "2022-10-01T17:43:25.740Z"
   },
   {
    "duration": 12,
    "start_time": "2022-10-01T17:43:25.755Z"
   },
   {
    "duration": 247,
    "start_time": "2022-10-01T17:43:25.768Z"
   },
   {
    "duration": 232,
    "start_time": "2022-10-01T17:43:26.016Z"
   },
   {
    "duration": 217,
    "start_time": "2022-10-01T17:43:26.249Z"
   },
   {
    "duration": 281,
    "start_time": "2022-10-01T17:43:26.467Z"
   },
   {
    "duration": 227,
    "start_time": "2022-10-01T17:43:26.751Z"
   },
   {
    "duration": 176,
    "start_time": "2022-10-01T17:43:26.980Z"
   },
   {
    "duration": 222,
    "start_time": "2022-10-01T17:43:27.158Z"
   },
   {
    "duration": 218,
    "start_time": "2022-10-01T17:43:27.382Z"
   },
   {
    "duration": 219,
    "start_time": "2022-10-01T17:43:27.602Z"
   },
   {
    "duration": 315,
    "start_time": "2022-10-01T17:43:27.823Z"
   },
   {
    "duration": 226,
    "start_time": "2022-10-01T17:43:28.139Z"
   },
   {
    "duration": 212,
    "start_time": "2022-10-01T17:43:28.367Z"
   },
   {
    "duration": 248,
    "start_time": "2022-10-01T17:43:28.580Z"
   },
   {
    "duration": 144,
    "start_time": "2022-10-01T17:43:28.830Z"
   },
   {
    "duration": 145,
    "start_time": "2022-10-01T17:43:28.976Z"
   },
   {
    "duration": 145,
    "start_time": "2022-10-01T17:43:29.122Z"
   },
   {
    "duration": 8,
    "start_time": "2022-10-01T17:43:29.269Z"
   },
   {
    "duration": 24,
    "start_time": "2022-10-01T17:43:29.278Z"
   },
   {
    "duration": 7,
    "start_time": "2022-10-01T17:43:29.303Z"
   },
   {
    "duration": 9,
    "start_time": "2022-10-01T17:43:29.312Z"
   },
   {
    "duration": 211,
    "start_time": "2022-10-01T17:43:29.322Z"
   },
   {
    "duration": 8,
    "start_time": "2022-10-01T17:43:29.535Z"
   },
   {
    "duration": 237,
    "start_time": "2022-10-01T17:43:29.545Z"
   },
   {
    "duration": 4,
    "start_time": "2022-10-01T17:43:29.784Z"
   },
   {
    "duration": 237,
    "start_time": "2022-10-01T17:43:29.800Z"
   },
   {
    "duration": 5,
    "start_time": "2022-10-01T17:43:30.038Z"
   },
   {
    "duration": 236,
    "start_time": "2022-10-01T17:43:30.044Z"
   },
   {
    "duration": 4,
    "start_time": "2022-10-01T17:43:30.282Z"
   },
   {
    "duration": 155,
    "start_time": "2022-10-01T17:43:30.287Z"
   },
   {
    "duration": 5,
    "start_time": "2022-10-01T17:43:30.443Z"
   },
   {
    "duration": 128,
    "start_time": "2022-10-01T17:43:30.449Z"
   },
   {
    "duration": 5,
    "start_time": "2022-10-01T17:43:30.578Z"
   },
   {
    "duration": 146,
    "start_time": "2022-10-01T17:43:30.585Z"
   },
   {
    "duration": 135,
    "start_time": "2022-10-01T17:43:30.732Z"
   },
   {
    "duration": 123,
    "start_time": "2022-10-01T17:43:30.869Z"
   },
   {
    "duration": 134,
    "start_time": "2022-10-01T17:43:30.994Z"
   },
   {
    "duration": 78,
    "start_time": "2022-10-01T17:43:31.130Z"
   },
   {
    "duration": 0,
    "start_time": "2022-10-01T17:43:31.209Z"
   },
   {
    "duration": 0,
    "start_time": "2022-10-01T17:43:31.211Z"
   },
   {
    "duration": 0,
    "start_time": "2022-10-01T17:43:31.212Z"
   },
   {
    "duration": 0,
    "start_time": "2022-10-01T17:43:31.212Z"
   },
   {
    "duration": 719,
    "start_time": "2022-10-01T17:44:54.337Z"
   },
   {
    "duration": 15,
    "start_time": "2022-10-01T17:44:55.058Z"
   },
   {
    "duration": 1781,
    "start_time": "2022-10-01T17:44:55.074Z"
   },
   {
    "duration": 64,
    "start_time": "2022-10-01T17:44:56.857Z"
   },
   {
    "duration": 45,
    "start_time": "2022-10-01T17:44:56.922Z"
   },
   {
    "duration": 1148,
    "start_time": "2022-10-01T17:44:56.968Z"
   },
   {
    "duration": 3,
    "start_time": "2022-10-01T17:44:58.118Z"
   },
   {
    "duration": 25,
    "start_time": "2022-10-01T17:44:58.122Z"
   },
   {
    "duration": 19,
    "start_time": "2022-10-01T17:44:58.148Z"
   },
   {
    "duration": 10,
    "start_time": "2022-10-01T17:44:58.169Z"
   },
   {
    "duration": 20,
    "start_time": "2022-10-01T17:44:58.180Z"
   },
   {
    "duration": 13,
    "start_time": "2022-10-01T17:44:58.202Z"
   },
   {
    "duration": 611,
    "start_time": "2022-10-01T17:44:58.216Z"
   },
   {
    "duration": 8,
    "start_time": "2022-10-01T17:44:58.829Z"
   },
   {
    "duration": 7,
    "start_time": "2022-10-01T17:44:58.838Z"
   },
   {
    "duration": 5,
    "start_time": "2022-10-01T17:44:58.847Z"
   },
   {
    "duration": 5,
    "start_time": "2022-10-01T17:44:58.853Z"
   },
   {
    "duration": 60,
    "start_time": "2022-10-01T17:44:58.859Z"
   },
   {
    "duration": 7,
    "start_time": "2022-10-01T17:44:58.920Z"
   },
   {
    "duration": 7,
    "start_time": "2022-10-01T17:44:58.928Z"
   },
   {
    "duration": 5,
    "start_time": "2022-10-01T17:44:58.936Z"
   },
   {
    "duration": 15,
    "start_time": "2022-10-01T17:44:58.942Z"
   },
   {
    "duration": 12,
    "start_time": "2022-10-01T17:44:58.959Z"
   },
   {
    "duration": 259,
    "start_time": "2022-10-01T17:44:58.973Z"
   },
   {
    "duration": 226,
    "start_time": "2022-10-01T17:44:59.234Z"
   },
   {
    "duration": 220,
    "start_time": "2022-10-01T17:44:59.462Z"
   },
   {
    "duration": 318,
    "start_time": "2022-10-01T17:44:59.684Z"
   },
   {
    "duration": 224,
    "start_time": "2022-10-01T17:45:00.007Z"
   },
   {
    "duration": 175,
    "start_time": "2022-10-01T17:45:00.233Z"
   },
   {
    "duration": 230,
    "start_time": "2022-10-01T17:45:00.410Z"
   },
   {
    "duration": 220,
    "start_time": "2022-10-01T17:45:00.642Z"
   },
   {
    "duration": 215,
    "start_time": "2022-10-01T17:45:00.864Z"
   },
   {
    "duration": 294,
    "start_time": "2022-10-01T17:45:01.081Z"
   },
   {
    "duration": 256,
    "start_time": "2022-10-01T17:45:01.377Z"
   },
   {
    "duration": 231,
    "start_time": "2022-10-01T17:45:01.635Z"
   },
   {
    "duration": 234,
    "start_time": "2022-10-01T17:45:01.868Z"
   },
   {
    "duration": 136,
    "start_time": "2022-10-01T17:45:02.103Z"
   },
   {
    "duration": 146,
    "start_time": "2022-10-01T17:45:02.241Z"
   },
   {
    "duration": 141,
    "start_time": "2022-10-01T17:45:02.388Z"
   },
   {
    "duration": 8,
    "start_time": "2022-10-01T17:45:02.530Z"
   },
   {
    "duration": 22,
    "start_time": "2022-10-01T17:45:02.539Z"
   },
   {
    "duration": 7,
    "start_time": "2022-10-01T17:45:02.563Z"
   },
   {
    "duration": 8,
    "start_time": "2022-10-01T17:45:02.572Z"
   },
   {
    "duration": 214,
    "start_time": "2022-10-01T17:45:02.581Z"
   },
   {
    "duration": 11,
    "start_time": "2022-10-01T17:45:02.800Z"
   },
   {
    "duration": 239,
    "start_time": "2022-10-01T17:45:02.812Z"
   },
   {
    "duration": 6,
    "start_time": "2022-10-01T17:45:03.052Z"
   },
   {
    "duration": 260,
    "start_time": "2022-10-01T17:45:03.059Z"
   },
   {
    "duration": 5,
    "start_time": "2022-10-01T17:45:03.321Z"
   },
   {
    "duration": 249,
    "start_time": "2022-10-01T17:45:03.327Z"
   },
   {
    "duration": 6,
    "start_time": "2022-10-01T17:45:03.578Z"
   },
   {
    "duration": 164,
    "start_time": "2022-10-01T17:45:03.585Z"
   },
   {
    "duration": 5,
    "start_time": "2022-10-01T17:45:03.751Z"
   },
   {
    "duration": 111,
    "start_time": "2022-10-01T17:45:03.758Z"
   },
   {
    "duration": 5,
    "start_time": "2022-10-01T17:45:03.871Z"
   },
   {
    "duration": 124,
    "start_time": "2022-10-01T17:45:03.878Z"
   },
   {
    "duration": 138,
    "start_time": "2022-10-01T17:45:04.004Z"
   },
   {
    "duration": 136,
    "start_time": "2022-10-01T17:45:04.143Z"
   },
   {
    "duration": 134,
    "start_time": "2022-10-01T17:45:04.281Z"
   },
   {
    "duration": 84,
    "start_time": "2022-10-01T17:45:04.417Z"
   },
   {
    "duration": 0,
    "start_time": "2022-10-01T17:45:04.503Z"
   },
   {
    "duration": 0,
    "start_time": "2022-10-01T17:45:04.505Z"
   },
   {
    "duration": 0,
    "start_time": "2022-10-01T17:45:04.506Z"
   },
   {
    "duration": 0,
    "start_time": "2022-10-01T17:45:04.507Z"
   },
   {
    "duration": 1218,
    "start_time": "2022-10-01T17:48:28.954Z"
   },
   {
    "duration": 716,
    "start_time": "2022-10-01T17:48:36.635Z"
   },
   {
    "duration": 13,
    "start_time": "2022-10-01T17:48:37.353Z"
   },
   {
    "duration": 1863,
    "start_time": "2022-10-01T17:48:37.368Z"
   },
   {
    "duration": 67,
    "start_time": "2022-10-01T17:48:39.233Z"
   },
   {
    "duration": 45,
    "start_time": "2022-10-01T17:48:39.302Z"
   },
   {
    "duration": 1139,
    "start_time": "2022-10-01T17:48:39.349Z"
   },
   {
    "duration": 13,
    "start_time": "2022-10-01T17:48:40.489Z"
   },
   {
    "duration": 9,
    "start_time": "2022-10-01T17:48:40.503Z"
   },
   {
    "duration": 6,
    "start_time": "2022-10-01T17:48:40.514Z"
   },
   {
    "duration": 7,
    "start_time": "2022-10-01T17:48:40.522Z"
   },
   {
    "duration": 11,
    "start_time": "2022-10-01T17:48:40.531Z"
   },
   {
    "duration": 17,
    "start_time": "2022-10-01T17:48:40.543Z"
   },
   {
    "duration": 1248,
    "start_time": "2022-10-01T17:48:40.561Z"
   },
   {
    "duration": 6,
    "start_time": "2022-10-01T17:48:41.812Z"
   },
   {
    "duration": 10,
    "start_time": "2022-10-01T17:48:41.820Z"
   },
   {
    "duration": 10,
    "start_time": "2022-10-01T17:48:41.831Z"
   },
   {
    "duration": 5,
    "start_time": "2022-10-01T17:48:41.843Z"
   },
   {
    "duration": 48,
    "start_time": "2022-10-01T17:48:41.849Z"
   },
   {
    "duration": 6,
    "start_time": "2022-10-01T17:48:41.900Z"
   },
   {
    "duration": 9,
    "start_time": "2022-10-01T17:48:41.908Z"
   },
   {
    "duration": 5,
    "start_time": "2022-10-01T17:48:41.918Z"
   },
   {
    "duration": 21,
    "start_time": "2022-10-01T17:48:41.925Z"
   },
   {
    "duration": 13,
    "start_time": "2022-10-01T17:48:41.947Z"
   },
   {
    "duration": 251,
    "start_time": "2022-10-01T17:48:41.962Z"
   },
   {
    "duration": 246,
    "start_time": "2022-10-01T17:48:42.215Z"
   },
   {
    "duration": 216,
    "start_time": "2022-10-01T17:48:42.462Z"
   },
   {
    "duration": 301,
    "start_time": "2022-10-01T17:48:42.679Z"
   },
   {
    "duration": 224,
    "start_time": "2022-10-01T17:48:42.982Z"
   },
   {
    "duration": 170,
    "start_time": "2022-10-01T17:48:43.208Z"
   },
   {
    "duration": 235,
    "start_time": "2022-10-01T17:48:43.380Z"
   },
   {
    "duration": 233,
    "start_time": "2022-10-01T17:48:43.617Z"
   },
   {
    "duration": 216,
    "start_time": "2022-10-01T17:48:43.851Z"
   },
   {
    "duration": 324,
    "start_time": "2022-10-01T17:48:44.068Z"
   },
   {
    "duration": 286,
    "start_time": "2022-10-01T17:48:44.394Z"
   },
   {
    "duration": 218,
    "start_time": "2022-10-01T17:48:44.682Z"
   },
   {
    "duration": 237,
    "start_time": "2022-10-01T17:48:44.902Z"
   },
   {
    "duration": 134,
    "start_time": "2022-10-01T17:48:45.140Z"
   },
   {
    "duration": 135,
    "start_time": "2022-10-01T17:48:45.275Z"
   },
   {
    "duration": 136,
    "start_time": "2022-10-01T17:48:45.411Z"
   },
   {
    "duration": 7,
    "start_time": "2022-10-01T17:48:45.549Z"
   },
   {
    "duration": 12,
    "start_time": "2022-10-01T17:48:45.560Z"
   },
   {
    "duration": 7,
    "start_time": "2022-10-01T17:48:45.573Z"
   },
   {
    "duration": 7,
    "start_time": "2022-10-01T17:48:45.600Z"
   },
   {
    "duration": 214,
    "start_time": "2022-10-01T17:48:45.609Z"
   },
   {
    "duration": 10,
    "start_time": "2022-10-01T17:48:45.824Z"
   },
   {
    "duration": 226,
    "start_time": "2022-10-01T17:48:45.836Z"
   },
   {
    "duration": 5,
    "start_time": "2022-10-01T17:48:46.063Z"
   },
   {
    "duration": 254,
    "start_time": "2022-10-01T17:48:46.070Z"
   },
   {
    "duration": 6,
    "start_time": "2022-10-01T17:48:46.326Z"
   },
   {
    "duration": 246,
    "start_time": "2022-10-01T17:48:46.333Z"
   },
   {
    "duration": 6,
    "start_time": "2022-10-01T17:48:46.580Z"
   },
   {
    "duration": 171,
    "start_time": "2022-10-01T17:48:46.587Z"
   },
   {
    "duration": 6,
    "start_time": "2022-10-01T17:48:46.761Z"
   },
   {
    "duration": 118,
    "start_time": "2022-10-01T17:48:46.768Z"
   },
   {
    "duration": 5,
    "start_time": "2022-10-01T17:48:46.887Z"
   },
   {
    "duration": 128,
    "start_time": "2022-10-01T17:48:46.900Z"
   },
   {
    "duration": 134,
    "start_time": "2022-10-01T17:48:47.030Z"
   },
   {
    "duration": 117,
    "start_time": "2022-10-01T17:48:47.166Z"
   },
   {
    "duration": 120,
    "start_time": "2022-10-01T17:48:47.285Z"
   },
   {
    "duration": 75,
    "start_time": "2022-10-01T17:48:47.407Z"
   },
   {
    "duration": 1,
    "start_time": "2022-10-01T17:48:47.483Z"
   },
   {
    "duration": 0,
    "start_time": "2022-10-01T17:48:47.501Z"
   },
   {
    "duration": 0,
    "start_time": "2022-10-01T17:48:47.502Z"
   },
   {
    "duration": 0,
    "start_time": "2022-10-01T17:48:47.504Z"
   },
   {
    "duration": 70,
    "start_time": "2022-10-01T17:50:28.252Z"
   },
   {
    "duration": 772,
    "start_time": "2022-10-01T17:50:49.490Z"
   },
   {
    "duration": 14,
    "start_time": "2022-10-01T17:50:50.264Z"
   },
   {
    "duration": 1864,
    "start_time": "2022-10-01T17:50:50.279Z"
   },
   {
    "duration": 73,
    "start_time": "2022-10-01T17:50:52.145Z"
   },
   {
    "duration": 47,
    "start_time": "2022-10-01T17:50:52.220Z"
   },
   {
    "duration": 1153,
    "start_time": "2022-10-01T17:50:52.268Z"
   },
   {
    "duration": 4,
    "start_time": "2022-10-01T17:50:53.423Z"
   },
   {
    "duration": 7,
    "start_time": "2022-10-01T17:50:53.428Z"
   },
   {
    "duration": 7,
    "start_time": "2022-10-01T17:50:53.436Z"
   },
   {
    "duration": 7,
    "start_time": "2022-10-01T17:50:53.445Z"
   },
   {
    "duration": 18,
    "start_time": "2022-10-01T17:50:53.454Z"
   },
   {
    "duration": 11,
    "start_time": "2022-10-01T17:50:53.474Z"
   },
   {
    "duration": 1340,
    "start_time": "2022-10-01T17:50:53.487Z"
   },
   {
    "duration": 7,
    "start_time": "2022-10-01T17:50:54.830Z"
   },
   {
    "duration": 4,
    "start_time": "2022-10-01T17:50:54.839Z"
   },
   {
    "duration": 6,
    "start_time": "2022-10-01T17:50:54.845Z"
   },
   {
    "duration": 4,
    "start_time": "2022-10-01T17:50:54.853Z"
   },
   {
    "duration": 67,
    "start_time": "2022-10-01T17:50:54.859Z"
   },
   {
    "duration": 7,
    "start_time": "2022-10-01T17:50:54.928Z"
   },
   {
    "duration": 5,
    "start_time": "2022-10-01T17:50:54.936Z"
   },
   {
    "duration": 4,
    "start_time": "2022-10-01T17:50:54.943Z"
   },
   {
    "duration": 18,
    "start_time": "2022-10-01T17:50:54.949Z"
   },
   {
    "duration": 12,
    "start_time": "2022-10-01T17:50:54.968Z"
   },
   {
    "duration": 257,
    "start_time": "2022-10-01T17:50:54.981Z"
   },
   {
    "duration": 248,
    "start_time": "2022-10-01T17:50:55.239Z"
   },
   {
    "duration": 218,
    "start_time": "2022-10-01T17:50:55.488Z"
   },
   {
    "duration": 307,
    "start_time": "2022-10-01T17:50:55.708Z"
   },
   {
    "duration": 237,
    "start_time": "2022-10-01T17:50:56.017Z"
   },
   {
    "duration": 176,
    "start_time": "2022-10-01T17:50:56.255Z"
   },
   {
    "duration": 228,
    "start_time": "2022-10-01T17:50:56.433Z"
   },
   {
    "duration": 215,
    "start_time": "2022-10-01T17:50:56.663Z"
   },
   {
    "duration": 224,
    "start_time": "2022-10-01T17:50:56.879Z"
   },
   {
    "duration": 324,
    "start_time": "2022-10-01T17:50:57.105Z"
   },
   {
    "duration": 247,
    "start_time": "2022-10-01T17:50:57.431Z"
   },
   {
    "duration": 208,
    "start_time": "2022-10-01T17:50:57.680Z"
   },
   {
    "duration": 226,
    "start_time": "2022-10-01T17:50:57.890Z"
   },
   {
    "duration": 139,
    "start_time": "2022-10-01T17:50:58.118Z"
   },
   {
    "duration": 143,
    "start_time": "2022-10-01T17:50:58.259Z"
   },
   {
    "duration": 134,
    "start_time": "2022-10-01T17:50:58.404Z"
   },
   {
    "duration": 8,
    "start_time": "2022-10-01T17:50:58.541Z"
   },
   {
    "duration": 14,
    "start_time": "2022-10-01T17:50:58.553Z"
   },
   {
    "duration": 8,
    "start_time": "2022-10-01T17:50:58.569Z"
   },
   {
    "duration": 9,
    "start_time": "2022-10-01T17:50:58.599Z"
   },
   {
    "duration": 213,
    "start_time": "2022-10-01T17:50:58.610Z"
   },
   {
    "duration": 10,
    "start_time": "2022-10-01T17:50:58.825Z"
   },
   {
    "duration": 233,
    "start_time": "2022-10-01T17:50:58.837Z"
   },
   {
    "duration": 5,
    "start_time": "2022-10-01T17:50:59.071Z"
   },
   {
    "duration": 261,
    "start_time": "2022-10-01T17:50:59.078Z"
   },
   {
    "duration": 5,
    "start_time": "2022-10-01T17:50:59.340Z"
   },
   {
    "duration": 248,
    "start_time": "2022-10-01T17:50:59.347Z"
   },
   {
    "duration": 8,
    "start_time": "2022-10-01T17:50:59.596Z"
   },
   {
    "duration": 176,
    "start_time": "2022-10-01T17:50:59.605Z"
   },
   {
    "duration": 4,
    "start_time": "2022-10-01T17:50:59.783Z"
   },
   {
    "duration": 105,
    "start_time": "2022-10-01T17:50:59.789Z"
   },
   {
    "duration": 4,
    "start_time": "2022-10-01T17:50:59.900Z"
   },
   {
    "duration": 118,
    "start_time": "2022-10-01T17:50:59.905Z"
   },
   {
    "duration": 131,
    "start_time": "2022-10-01T17:51:00.024Z"
   },
   {
    "duration": 128,
    "start_time": "2022-10-01T17:51:00.157Z"
   },
   {
    "duration": 116,
    "start_time": "2022-10-01T17:51:00.287Z"
   },
   {
    "duration": 48,
    "start_time": "2022-10-01T17:51:00.404Z"
   },
   {
    "duration": 0,
    "start_time": "2022-10-01T17:51:00.453Z"
   },
   {
    "duration": 0,
    "start_time": "2022-10-01T17:51:00.454Z"
   },
   {
    "duration": 0,
    "start_time": "2022-10-01T17:51:00.455Z"
   },
   {
    "duration": 0,
    "start_time": "2022-10-01T17:51:00.456Z"
   },
   {
    "duration": 0,
    "start_time": "2022-10-01T17:51:00.457Z"
   },
   {
    "duration": 4,
    "start_time": "2022-10-01T17:51:34.202Z"
   },
   {
    "duration": 76,
    "start_time": "2022-10-01T17:51:35.260Z"
   },
   {
    "duration": 14,
    "start_time": "2022-10-01T17:52:19.494Z"
   },
   {
    "duration": 9,
    "start_time": "2022-10-01T17:52:38.481Z"
   },
   {
    "duration": 695,
    "start_time": "2022-10-01T17:53:06.863Z"
   },
   {
    "duration": 12,
    "start_time": "2022-10-01T17:53:07.560Z"
   },
   {
    "duration": 1773,
    "start_time": "2022-10-01T17:53:07.574Z"
   },
   {
    "duration": 72,
    "start_time": "2022-10-01T17:53:09.349Z"
   },
   {
    "duration": 56,
    "start_time": "2022-10-01T17:53:09.423Z"
   },
   {
    "duration": 1156,
    "start_time": "2022-10-01T17:53:09.480Z"
   },
   {
    "duration": 3,
    "start_time": "2022-10-01T17:53:10.637Z"
   },
   {
    "duration": 10,
    "start_time": "2022-10-01T17:53:10.642Z"
   },
   {
    "duration": 7,
    "start_time": "2022-10-01T17:53:10.653Z"
   },
   {
    "duration": 6,
    "start_time": "2022-10-01T17:53:10.661Z"
   },
   {
    "duration": 5,
    "start_time": "2022-10-01T17:53:10.669Z"
   },
   {
    "duration": 10,
    "start_time": "2022-10-01T17:53:10.675Z"
   },
   {
    "duration": 1222,
    "start_time": "2022-10-01T17:53:10.686Z"
   },
   {
    "duration": 6,
    "start_time": "2022-10-01T17:53:11.911Z"
   },
   {
    "duration": 5,
    "start_time": "2022-10-01T17:53:11.919Z"
   },
   {
    "duration": 9,
    "start_time": "2022-10-01T17:53:11.925Z"
   },
   {
    "duration": 5,
    "start_time": "2022-10-01T17:53:11.935Z"
   },
   {
    "duration": 41,
    "start_time": "2022-10-01T17:53:11.941Z"
   },
   {
    "duration": 19,
    "start_time": "2022-10-01T17:53:11.984Z"
   },
   {
    "duration": 10,
    "start_time": "2022-10-01T17:53:12.004Z"
   },
   {
    "duration": 9,
    "start_time": "2022-10-01T17:53:12.015Z"
   },
   {
    "duration": 18,
    "start_time": "2022-10-01T17:53:12.025Z"
   },
   {
    "duration": 13,
    "start_time": "2022-10-01T17:53:12.045Z"
   },
   {
    "duration": 239,
    "start_time": "2022-10-01T17:53:12.060Z"
   },
   {
    "duration": 229,
    "start_time": "2022-10-01T17:53:12.301Z"
   },
   {
    "duration": 253,
    "start_time": "2022-10-01T17:53:12.531Z"
   },
   {
    "duration": 317,
    "start_time": "2022-10-01T17:53:12.785Z"
   },
   {
    "duration": 221,
    "start_time": "2022-10-01T17:53:13.104Z"
   },
   {
    "duration": 193,
    "start_time": "2022-10-01T17:53:13.326Z"
   },
   {
    "duration": 233,
    "start_time": "2022-10-01T17:53:13.521Z"
   },
   {
    "duration": 219,
    "start_time": "2022-10-01T17:53:13.756Z"
   },
   {
    "duration": 235,
    "start_time": "2022-10-01T17:53:13.976Z"
   },
   {
    "duration": 363,
    "start_time": "2022-10-01T17:53:14.213Z"
   },
   {
    "duration": 253,
    "start_time": "2022-10-01T17:53:14.578Z"
   },
   {
    "duration": 215,
    "start_time": "2022-10-01T17:53:14.833Z"
   },
   {
    "duration": 230,
    "start_time": "2022-10-01T17:53:15.049Z"
   },
   {
    "duration": 140,
    "start_time": "2022-10-01T17:53:15.281Z"
   },
   {
    "duration": 153,
    "start_time": "2022-10-01T17:53:15.422Z"
   },
   {
    "duration": 146,
    "start_time": "2022-10-01T17:53:15.577Z"
   },
   {
    "duration": 9,
    "start_time": "2022-10-01T17:53:15.725Z"
   },
   {
    "duration": 14,
    "start_time": "2022-10-01T17:53:15.739Z"
   },
   {
    "duration": 9,
    "start_time": "2022-10-01T17:53:15.754Z"
   },
   {
    "duration": 37,
    "start_time": "2022-10-01T17:53:15.764Z"
   },
   {
    "duration": 200,
    "start_time": "2022-10-01T17:53:15.803Z"
   },
   {
    "duration": 10,
    "start_time": "2022-10-01T17:53:16.004Z"
   },
   {
    "duration": 230,
    "start_time": "2022-10-01T17:53:16.015Z"
   },
   {
    "duration": 5,
    "start_time": "2022-10-01T17:53:16.246Z"
   },
   {
    "duration": 249,
    "start_time": "2022-10-01T17:53:16.252Z"
   },
   {
    "duration": 5,
    "start_time": "2022-10-01T17:53:16.503Z"
   },
   {
    "duration": 245,
    "start_time": "2022-10-01T17:53:16.509Z"
   },
   {
    "duration": 5,
    "start_time": "2022-10-01T17:53:16.755Z"
   },
   {
    "duration": 164,
    "start_time": "2022-10-01T17:53:16.761Z"
   },
   {
    "duration": 5,
    "start_time": "2022-10-01T17:53:16.927Z"
   },
   {
    "duration": 115,
    "start_time": "2022-10-01T17:53:16.933Z"
   },
   {
    "duration": 5,
    "start_time": "2022-10-01T17:53:17.049Z"
   },
   {
    "duration": 124,
    "start_time": "2022-10-01T17:53:17.055Z"
   },
   {
    "duration": 137,
    "start_time": "2022-10-01T17:53:17.181Z"
   },
   {
    "duration": 122,
    "start_time": "2022-10-01T17:53:17.320Z"
   },
   {
    "duration": 118,
    "start_time": "2022-10-01T17:53:17.443Z"
   },
   {
    "duration": 13,
    "start_time": "2022-10-01T17:53:17.563Z"
   },
   {
    "duration": 81,
    "start_time": "2022-10-01T17:53:17.578Z"
   },
   {
    "duration": 0,
    "start_time": "2022-10-01T17:53:17.661Z"
   },
   {
    "duration": 0,
    "start_time": "2022-10-01T17:53:17.662Z"
   },
   {
    "duration": 0,
    "start_time": "2022-10-01T17:53:17.663Z"
   },
   {
    "duration": 0,
    "start_time": "2022-10-01T17:53:17.664Z"
   },
   {
    "duration": 10,
    "start_time": "2022-10-01T17:56:07.381Z"
   },
   {
    "duration": 772,
    "start_time": "2022-10-01T17:56:13.812Z"
   },
   {
    "duration": 21,
    "start_time": "2022-10-01T17:56:14.587Z"
   },
   {
    "duration": 1778,
    "start_time": "2022-10-01T17:56:14.609Z"
   },
   {
    "duration": 68,
    "start_time": "2022-10-01T17:56:16.389Z"
   },
   {
    "duration": 55,
    "start_time": "2022-10-01T17:56:16.459Z"
   },
   {
    "duration": 1147,
    "start_time": "2022-10-01T17:56:16.515Z"
   },
   {
    "duration": 3,
    "start_time": "2022-10-01T17:56:17.664Z"
   },
   {
    "duration": 7,
    "start_time": "2022-10-01T17:56:17.669Z"
   },
   {
    "duration": 11,
    "start_time": "2022-10-01T17:56:17.678Z"
   },
   {
    "duration": 5,
    "start_time": "2022-10-01T17:56:17.700Z"
   },
   {
    "duration": 10,
    "start_time": "2022-10-01T17:56:17.707Z"
   },
   {
    "duration": 12,
    "start_time": "2022-10-01T17:56:17.719Z"
   },
   {
    "duration": 1243,
    "start_time": "2022-10-01T17:56:17.732Z"
   },
   {
    "duration": 6,
    "start_time": "2022-10-01T17:56:18.977Z"
   },
   {
    "duration": 17,
    "start_time": "2022-10-01T17:56:18.984Z"
   },
   {
    "duration": 7,
    "start_time": "2022-10-01T17:56:19.003Z"
   },
   {
    "duration": 9,
    "start_time": "2022-10-01T17:56:19.011Z"
   },
   {
    "duration": 45,
    "start_time": "2022-10-01T17:56:19.022Z"
   },
   {
    "duration": 6,
    "start_time": "2022-10-01T17:56:19.068Z"
   },
   {
    "duration": 6,
    "start_time": "2022-10-01T17:56:19.075Z"
   },
   {
    "duration": 3,
    "start_time": "2022-10-01T17:56:19.083Z"
   },
   {
    "duration": 15,
    "start_time": "2022-10-01T17:56:19.088Z"
   },
   {
    "duration": 14,
    "start_time": "2022-10-01T17:56:19.104Z"
   },
   {
    "duration": 3,
    "start_time": "2022-10-01T17:56:19.119Z"
   },
   {
    "duration": 20,
    "start_time": "2022-10-01T17:56:19.123Z"
   },
   {
    "duration": 15,
    "start_time": "2022-10-01T17:56:19.145Z"
   },
   {
    "duration": 11,
    "start_time": "2022-10-01T17:56:19.161Z"
   },
   {
    "duration": 230,
    "start_time": "2022-10-01T17:56:19.175Z"
   },
   {
    "duration": 225,
    "start_time": "2022-10-01T17:56:19.407Z"
   },
   {
    "duration": 215,
    "start_time": "2022-10-01T17:56:19.633Z"
   },
   {
    "duration": 298,
    "start_time": "2022-10-01T17:56:19.850Z"
   },
   {
    "duration": 238,
    "start_time": "2022-10-01T17:56:20.150Z"
   },
   {
    "duration": 168,
    "start_time": "2022-10-01T17:56:20.389Z"
   },
   {
    "duration": 226,
    "start_time": "2022-10-01T17:56:20.559Z"
   },
   {
    "duration": 217,
    "start_time": "2022-10-01T17:56:20.786Z"
   },
   {
    "duration": 206,
    "start_time": "2022-10-01T17:56:21.005Z"
   },
   {
    "duration": 293,
    "start_time": "2022-10-01T17:56:21.213Z"
   },
   {
    "duration": 250,
    "start_time": "2022-10-01T17:56:21.508Z"
   },
   {
    "duration": 216,
    "start_time": "2022-10-01T17:56:21.760Z"
   },
   {
    "duration": 231,
    "start_time": "2022-10-01T17:56:21.978Z"
   },
   {
    "duration": 142,
    "start_time": "2022-10-01T17:56:22.210Z"
   },
   {
    "duration": 149,
    "start_time": "2022-10-01T17:56:22.354Z"
   },
   {
    "duration": 134,
    "start_time": "2022-10-01T17:56:22.504Z"
   },
   {
    "duration": 8,
    "start_time": "2022-10-01T17:56:22.639Z"
   },
   {
    "duration": 15,
    "start_time": "2022-10-01T17:56:22.648Z"
   },
   {
    "duration": 8,
    "start_time": "2022-10-01T17:56:22.664Z"
   },
   {
    "duration": 26,
    "start_time": "2022-10-01T17:56:22.673Z"
   },
   {
    "duration": 202,
    "start_time": "2022-10-01T17:56:22.700Z"
   },
   {
    "duration": 10,
    "start_time": "2022-10-01T17:56:22.903Z"
   },
   {
    "duration": 249,
    "start_time": "2022-10-01T17:56:22.915Z"
   },
   {
    "duration": 5,
    "start_time": "2022-10-01T17:56:23.166Z"
   },
   {
    "duration": 262,
    "start_time": "2022-10-01T17:56:23.173Z"
   },
   {
    "duration": 5,
    "start_time": "2022-10-01T17:56:23.437Z"
   },
   {
    "duration": 236,
    "start_time": "2022-10-01T17:56:23.447Z"
   },
   {
    "duration": 5,
    "start_time": "2022-10-01T17:56:23.684Z"
   },
   {
    "duration": 146,
    "start_time": "2022-10-01T17:56:23.700Z"
   },
   {
    "duration": 4,
    "start_time": "2022-10-01T17:56:23.848Z"
   },
   {
    "duration": 98,
    "start_time": "2022-10-01T17:56:23.854Z"
   },
   {
    "duration": 4,
    "start_time": "2022-10-01T17:56:23.954Z"
   },
   {
    "duration": 122,
    "start_time": "2022-10-01T17:56:23.960Z"
   },
   {
    "duration": 144,
    "start_time": "2022-10-01T17:56:24.084Z"
   },
   {
    "duration": 120,
    "start_time": "2022-10-01T17:56:24.230Z"
   },
   {
    "duration": 138,
    "start_time": "2022-10-01T17:56:24.351Z"
   },
   {
    "duration": 21,
    "start_time": "2022-10-01T17:56:24.491Z"
   },
   {
    "duration": 24,
    "start_time": "2022-10-01T17:56:24.514Z"
   },
   {
    "duration": 7,
    "start_time": "2022-10-01T17:56:24.540Z"
   },
   {
    "duration": 8,
    "start_time": "2022-10-01T17:56:24.549Z"
   },
   {
    "duration": 48,
    "start_time": "2022-10-01T17:56:24.559Z"
   },
   {
    "duration": 162,
    "start_time": "2022-10-01T17:56:24.610Z"
   },
   {
    "duration": 760,
    "start_time": "2022-10-01T17:56:53.297Z"
   },
   {
    "duration": 15,
    "start_time": "2022-10-01T17:56:54.059Z"
   },
   {
    "duration": 1827,
    "start_time": "2022-10-01T17:56:54.076Z"
   },
   {
    "duration": 69,
    "start_time": "2022-10-01T17:56:55.904Z"
   },
   {
    "duration": 62,
    "start_time": "2022-10-01T17:56:55.975Z"
   },
   {
    "duration": 1130,
    "start_time": "2022-10-01T17:56:56.038Z"
   },
   {
    "duration": 3,
    "start_time": "2022-10-01T17:56:57.170Z"
   },
   {
    "duration": 5,
    "start_time": "2022-10-01T17:56:57.175Z"
   },
   {
    "duration": 20,
    "start_time": "2022-10-01T17:56:57.181Z"
   },
   {
    "duration": 6,
    "start_time": "2022-10-01T17:56:57.202Z"
   },
   {
    "duration": 6,
    "start_time": "2022-10-01T17:56:57.209Z"
   },
   {
    "duration": 9,
    "start_time": "2022-10-01T17:56:57.216Z"
   },
   {
    "duration": 1213,
    "start_time": "2022-10-01T17:56:57.226Z"
   },
   {
    "duration": 7,
    "start_time": "2022-10-01T17:56:58.443Z"
   },
   {
    "duration": 18,
    "start_time": "2022-10-01T17:56:58.451Z"
   },
   {
    "duration": 6,
    "start_time": "2022-10-01T17:56:58.471Z"
   },
   {
    "duration": 4,
    "start_time": "2022-10-01T17:56:58.479Z"
   },
   {
    "duration": 53,
    "start_time": "2022-10-01T17:56:58.484Z"
   },
   {
    "duration": 6,
    "start_time": "2022-10-01T17:56:58.539Z"
   },
   {
    "duration": 7,
    "start_time": "2022-10-01T17:56:58.547Z"
   },
   {
    "duration": 7,
    "start_time": "2022-10-01T17:56:58.555Z"
   },
   {
    "duration": 5,
    "start_time": "2022-10-01T17:56:58.563Z"
   },
   {
    "duration": 16,
    "start_time": "2022-10-01T17:56:58.570Z"
   },
   {
    "duration": 13,
    "start_time": "2022-10-01T17:56:58.588Z"
   },
   {
    "duration": 9,
    "start_time": "2022-10-01T17:56:58.602Z"
   },
   {
    "duration": 19,
    "start_time": "2022-10-01T17:56:58.612Z"
   },
   {
    "duration": 14,
    "start_time": "2022-10-01T17:56:58.633Z"
   },
   {
    "duration": 262,
    "start_time": "2022-10-01T17:56:58.648Z"
   },
   {
    "duration": 255,
    "start_time": "2022-10-01T17:56:58.912Z"
   },
   {
    "duration": 256,
    "start_time": "2022-10-01T17:56:59.169Z"
   },
   {
    "duration": 321,
    "start_time": "2022-10-01T17:56:59.426Z"
   },
   {
    "duration": 238,
    "start_time": "2022-10-01T17:56:59.749Z"
   },
   {
    "duration": 185,
    "start_time": "2022-10-01T17:56:59.990Z"
   },
   {
    "duration": 240,
    "start_time": "2022-10-01T17:57:00.177Z"
   },
   {
    "duration": 242,
    "start_time": "2022-10-01T17:57:00.419Z"
   },
   {
    "duration": 254,
    "start_time": "2022-10-01T17:57:00.663Z"
   },
   {
    "duration": 353,
    "start_time": "2022-10-01T17:57:00.919Z"
   },
   {
    "duration": 292,
    "start_time": "2022-10-01T17:57:01.274Z"
   },
   {
    "duration": 225,
    "start_time": "2022-10-01T17:57:01.568Z"
   },
   {
    "duration": 251,
    "start_time": "2022-10-01T17:57:01.795Z"
   },
   {
    "duration": 137,
    "start_time": "2022-10-01T17:57:02.051Z"
   },
   {
    "duration": 141,
    "start_time": "2022-10-01T17:57:02.190Z"
   },
   {
    "duration": 146,
    "start_time": "2022-10-01T17:57:02.332Z"
   },
   {
    "duration": 7,
    "start_time": "2022-10-01T17:57:02.480Z"
   },
   {
    "duration": 20,
    "start_time": "2022-10-01T17:57:02.488Z"
   },
   {
    "duration": 8,
    "start_time": "2022-10-01T17:57:02.509Z"
   },
   {
    "duration": 8,
    "start_time": "2022-10-01T17:57:02.518Z"
   },
   {
    "duration": 211,
    "start_time": "2022-10-01T17:57:02.527Z"
   },
   {
    "duration": 10,
    "start_time": "2022-10-01T17:57:02.739Z"
   },
   {
    "duration": 237,
    "start_time": "2022-10-01T17:57:02.750Z"
   },
   {
    "duration": 12,
    "start_time": "2022-10-01T17:57:02.988Z"
   },
   {
    "duration": 247,
    "start_time": "2022-10-01T17:57:03.002Z"
   },
   {
    "duration": 5,
    "start_time": "2022-10-01T17:57:03.250Z"
   },
   {
    "duration": 251,
    "start_time": "2022-10-01T17:57:03.256Z"
   },
   {
    "duration": 5,
    "start_time": "2022-10-01T17:57:03.508Z"
   },
   {
    "duration": 167,
    "start_time": "2022-10-01T17:57:03.514Z"
   },
   {
    "duration": 5,
    "start_time": "2022-10-01T17:57:03.682Z"
   },
   {
    "duration": 103,
    "start_time": "2022-10-01T17:57:03.688Z"
   },
   {
    "duration": 5,
    "start_time": "2022-10-01T17:57:03.799Z"
   },
   {
    "duration": 122,
    "start_time": "2022-10-01T17:57:03.806Z"
   },
   {
    "duration": 134,
    "start_time": "2022-10-01T17:57:03.930Z"
   },
   {
    "duration": 156,
    "start_time": "2022-10-01T17:57:04.066Z"
   },
   {
    "duration": 122,
    "start_time": "2022-10-01T17:57:04.224Z"
   },
   {
    "duration": 19,
    "start_time": "2022-10-01T17:57:04.348Z"
   },
   {
    "duration": 3,
    "start_time": "2022-10-01T17:57:04.369Z"
   },
   {
    "duration": 20,
    "start_time": "2022-10-01T17:57:04.374Z"
   },
   {
    "duration": 36,
    "start_time": "2022-10-01T17:57:04.400Z"
   },
   {
    "duration": 213,
    "start_time": "2022-10-01T17:57:04.438Z"
   },
   {
    "duration": 874,
    "start_time": "2022-10-10T17:54:20.746Z"
   },
   {
    "duration": 15,
    "start_time": "2022-10-10T17:54:21.622Z"
   },
   {
    "duration": 2083,
    "start_time": "2022-10-10T17:54:21.639Z"
   },
   {
    "duration": 75,
    "start_time": "2022-10-10T17:54:23.724Z"
   },
   {
    "duration": 55,
    "start_time": "2022-10-10T17:54:23.802Z"
   },
   {
    "duration": 1368,
    "start_time": "2022-10-10T17:54:23.859Z"
   },
   {
    "duration": 5,
    "start_time": "2022-10-10T17:54:25.230Z"
   },
   {
    "duration": 5,
    "start_time": "2022-10-10T17:54:25.237Z"
   },
   {
    "duration": 6,
    "start_time": "2022-10-10T17:54:25.244Z"
   },
   {
    "duration": 9,
    "start_time": "2022-10-10T17:54:25.252Z"
   },
   {
    "duration": 33,
    "start_time": "2022-10-10T17:54:25.263Z"
   },
   {
    "duration": 10,
    "start_time": "2022-10-10T17:54:25.299Z"
   },
   {
    "duration": 1690,
    "start_time": "2022-10-10T17:54:25.311Z"
   },
   {
    "duration": 9,
    "start_time": "2022-10-10T17:54:27.005Z"
   },
   {
    "duration": 8,
    "start_time": "2022-10-10T17:54:27.016Z"
   },
   {
    "duration": 8,
    "start_time": "2022-10-10T17:54:27.026Z"
   },
   {
    "duration": 5,
    "start_time": "2022-10-10T17:54:27.036Z"
   },
   {
    "duration": 63,
    "start_time": "2022-10-10T17:54:27.043Z"
   },
   {
    "duration": 8,
    "start_time": "2022-10-10T17:54:27.108Z"
   },
   {
    "duration": 6,
    "start_time": "2022-10-10T17:54:27.118Z"
   },
   {
    "duration": 5,
    "start_time": "2022-10-10T17:54:27.125Z"
   },
   {
    "duration": 6,
    "start_time": "2022-10-10T17:54:27.132Z"
   },
   {
    "duration": 14,
    "start_time": "2022-10-10T17:54:27.140Z"
   },
   {
    "duration": 4,
    "start_time": "2022-10-10T17:54:27.155Z"
   },
   {
    "duration": 40,
    "start_time": "2022-10-10T17:54:27.161Z"
   },
   {
    "duration": 17,
    "start_time": "2022-10-10T17:54:27.203Z"
   },
   {
    "duration": 19,
    "start_time": "2022-10-10T17:54:27.222Z"
   },
   {
    "duration": 24,
    "start_time": "2022-10-10T17:54:27.243Z"
   },
   {
    "duration": 274,
    "start_time": "2022-10-10T17:54:27.294Z"
   },
   {
    "duration": 270,
    "start_time": "2022-10-10T17:54:27.573Z"
   },
   {
    "duration": 264,
    "start_time": "2022-10-10T17:54:27.844Z"
   },
   {
    "duration": 391,
    "start_time": "2022-10-10T17:54:28.110Z"
   },
   {
    "duration": 292,
    "start_time": "2022-10-10T17:54:28.503Z"
   },
   {
    "duration": 204,
    "start_time": "2022-10-10T17:54:28.797Z"
   },
   {
    "duration": 270,
    "start_time": "2022-10-10T17:54:29.003Z"
   },
   {
    "duration": 259,
    "start_time": "2022-10-10T17:54:29.274Z"
   },
   {
    "duration": 255,
    "start_time": "2022-10-10T17:54:29.536Z"
   },
   {
    "duration": 347,
    "start_time": "2022-10-10T17:54:29.796Z"
   },
   {
    "duration": 292,
    "start_time": "2022-10-10T17:54:30.145Z"
   },
   {
    "duration": 257,
    "start_time": "2022-10-10T17:54:30.439Z"
   },
   {
    "duration": 289,
    "start_time": "2022-10-10T17:54:30.702Z"
   },
   {
    "duration": 165,
    "start_time": "2022-10-10T17:54:30.995Z"
   },
   {
    "duration": 173,
    "start_time": "2022-10-10T17:54:31.162Z"
   },
   {
    "duration": 178,
    "start_time": "2022-10-10T17:54:31.337Z"
   },
   {
    "duration": 9,
    "start_time": "2022-10-10T17:54:31.517Z"
   },
   {
    "duration": 21,
    "start_time": "2022-10-10T17:54:31.528Z"
   },
   {
    "duration": 11,
    "start_time": "2022-10-10T17:54:31.551Z"
   },
   {
    "duration": 43,
    "start_time": "2022-10-10T17:54:31.564Z"
   },
   {
    "duration": 253,
    "start_time": "2022-10-10T17:54:31.609Z"
   },
   {
    "duration": 14,
    "start_time": "2022-10-10T17:54:31.865Z"
   },
   {
    "duration": 293,
    "start_time": "2022-10-10T17:54:31.882Z"
   },
   {
    "duration": 8,
    "start_time": "2022-10-10T17:54:32.176Z"
   },
   {
    "duration": 291,
    "start_time": "2022-10-10T17:54:32.185Z"
   },
   {
    "duration": 16,
    "start_time": "2022-10-10T17:54:32.479Z"
   },
   {
    "duration": 277,
    "start_time": "2022-10-10T17:54:32.498Z"
   },
   {
    "duration": 6,
    "start_time": "2022-10-10T17:54:32.777Z"
   },
   {
    "duration": 198,
    "start_time": "2022-10-10T17:54:32.794Z"
   },
   {
    "duration": 6,
    "start_time": "2022-10-10T17:54:32.995Z"
   },
   {
    "duration": 146,
    "start_time": "2022-10-10T17:54:33.003Z"
   },
   {
    "duration": 5,
    "start_time": "2022-10-10T17:54:33.151Z"
   },
   {
    "duration": 165,
    "start_time": "2022-10-10T17:54:33.158Z"
   },
   {
    "duration": 158,
    "start_time": "2022-10-10T17:54:33.324Z"
   },
   {
    "duration": 145,
    "start_time": "2022-10-10T17:54:33.484Z"
   },
   {
    "duration": 141,
    "start_time": "2022-10-10T17:54:33.630Z"
   },
   {
    "duration": 32,
    "start_time": "2022-10-10T17:54:33.773Z"
   },
   {
    "duration": 4,
    "start_time": "2022-10-10T17:54:33.806Z"
   },
   {
    "duration": 10,
    "start_time": "2022-10-10T17:54:33.811Z"
   },
   {
    "duration": 36,
    "start_time": "2022-10-10T17:54:33.823Z"
   },
   {
    "duration": 207,
    "start_time": "2022-10-10T17:54:33.861Z"
   },
   {
    "duration": 28,
    "start_time": "2022-10-10T17:55:26.549Z"
   },
   {
    "duration": 96,
    "start_time": "2022-10-10T17:59:50.883Z"
   },
   {
    "duration": 10,
    "start_time": "2022-10-10T18:00:09.002Z"
   },
   {
    "duration": 12,
    "start_time": "2022-10-10T18:00:26.506Z"
   },
   {
    "duration": 9,
    "start_time": "2022-10-10T18:02:02.546Z"
   },
   {
    "duration": 899,
    "start_time": "2022-10-10T18:15:47.485Z"
   },
   {
    "duration": 1020,
    "start_time": "2022-10-10T18:15:58.216Z"
   },
   {
    "duration": 1759,
    "start_time": "2022-10-10T18:17:29.418Z"
   },
   {
    "duration": 7,
    "start_time": "2022-10-10T18:17:53.943Z"
   },
   {
    "duration": 808,
    "start_time": "2022-10-10T18:18:01.936Z"
   },
   {
    "duration": 78,
    "start_time": "2022-10-10T18:20:05.244Z"
   },
   {
    "duration": 1278,
    "start_time": "2022-10-10T19:19:05.445Z"
   },
   {
    "duration": 17,
    "start_time": "2022-10-10T19:19:06.725Z"
   },
   {
    "duration": 1825,
    "start_time": "2022-10-10T19:19:06.744Z"
   },
   {
    "duration": 68,
    "start_time": "2022-10-10T19:19:08.570Z"
   },
   {
    "duration": 50,
    "start_time": "2022-10-10T19:19:08.640Z"
   },
   {
    "duration": 1192,
    "start_time": "2022-10-10T19:19:08.692Z"
   },
   {
    "duration": 3,
    "start_time": "2022-10-10T19:19:09.886Z"
   },
   {
    "duration": 5,
    "start_time": "2022-10-10T19:19:09.891Z"
   },
   {
    "duration": 16,
    "start_time": "2022-10-10T19:19:09.897Z"
   },
   {
    "duration": 7,
    "start_time": "2022-10-10T19:19:09.915Z"
   },
   {
    "duration": 4,
    "start_time": "2022-10-10T19:19:09.924Z"
   },
   {
    "duration": 10,
    "start_time": "2022-10-10T19:19:09.930Z"
   },
   {
    "duration": 1282,
    "start_time": "2022-10-10T19:19:09.941Z"
   },
   {
    "duration": 6,
    "start_time": "2022-10-10T19:19:11.226Z"
   },
   {
    "duration": 3,
    "start_time": "2022-10-10T19:19:11.234Z"
   },
   {
    "duration": 9,
    "start_time": "2022-10-10T19:19:11.238Z"
   },
   {
    "duration": 4,
    "start_time": "2022-10-10T19:19:11.248Z"
   },
   {
    "duration": 37,
    "start_time": "2022-10-10T19:19:11.253Z"
   },
   {
    "duration": 20,
    "start_time": "2022-10-10T19:19:11.292Z"
   },
   {
    "duration": 8,
    "start_time": "2022-10-10T19:19:11.313Z"
   },
   {
    "duration": 6,
    "start_time": "2022-10-10T19:19:11.322Z"
   },
   {
    "duration": 7,
    "start_time": "2022-10-10T19:19:11.329Z"
   },
   {
    "duration": 12,
    "start_time": "2022-10-10T19:19:11.338Z"
   },
   {
    "duration": 3,
    "start_time": "2022-10-10T19:19:11.352Z"
   },
   {
    "duration": 8,
    "start_time": "2022-10-10T19:19:11.356Z"
   },
   {
    "duration": 17,
    "start_time": "2022-10-10T19:19:11.366Z"
   },
   {
    "duration": 29,
    "start_time": "2022-10-10T19:19:11.384Z"
   },
   {
    "duration": 18,
    "start_time": "2022-10-10T19:19:11.415Z"
   },
   {
    "duration": 6,
    "start_time": "2022-10-10T19:19:11.435Z"
   },
   {
    "duration": 644,
    "start_time": "2022-10-10T19:19:11.442Z"
   },
   {
    "duration": 65,
    "start_time": "2022-10-10T19:19:12.088Z"
   },
   {
    "duration": 74,
    "start_time": "2022-10-10T19:19:12.154Z"
   },
   {
    "duration": 260,
    "start_time": "2022-10-10T19:19:12.230Z"
   },
   {
    "duration": 268,
    "start_time": "2022-10-10T19:19:12.492Z"
   },
   {
    "duration": 311,
    "start_time": "2022-10-10T19:19:12.761Z"
   },
   {
    "duration": 222,
    "start_time": "2022-10-10T19:19:13.073Z"
   },
   {
    "duration": 223,
    "start_time": "2022-10-10T19:19:13.297Z"
   },
   {
    "duration": 168,
    "start_time": "2022-10-10T19:19:13.522Z"
   },
   {
    "duration": 257,
    "start_time": "2022-10-10T19:19:13.692Z"
   },
   {
    "duration": 295,
    "start_time": "2022-10-10T19:19:13.951Z"
   },
   {
    "duration": 207,
    "start_time": "2022-10-10T19:19:14.250Z"
   },
   {
    "duration": 210,
    "start_time": "2022-10-10T19:19:14.458Z"
   },
   {
    "duration": 228,
    "start_time": "2022-10-10T19:19:14.669Z"
   },
   {
    "duration": 220,
    "start_time": "2022-10-10T19:19:14.899Z"
   },
   {
    "duration": 224,
    "start_time": "2022-10-10T19:19:15.120Z"
   },
   {
    "duration": 234,
    "start_time": "2022-10-10T19:19:15.346Z"
   },
   {
    "duration": 148,
    "start_time": "2022-10-10T19:19:15.581Z"
   },
   {
    "duration": 139,
    "start_time": "2022-10-10T19:19:15.730Z"
   },
   {
    "duration": 8,
    "start_time": "2022-10-10T19:19:15.871Z"
   },
   {
    "duration": 28,
    "start_time": "2022-10-10T19:19:15.881Z"
   },
   {
    "duration": 7,
    "start_time": "2022-10-10T19:19:15.911Z"
   },
   {
    "duration": 8,
    "start_time": "2022-10-10T19:19:15.920Z"
   },
   {
    "duration": 119,
    "start_time": "2022-10-10T19:19:15.930Z"
   },
   {
    "duration": 10,
    "start_time": "2022-10-10T19:19:16.050Z"
   },
   {
    "duration": 252,
    "start_time": "2022-10-10T19:19:16.062Z"
   },
   {
    "duration": 5,
    "start_time": "2022-10-10T19:19:16.315Z"
   },
   {
    "duration": 281,
    "start_time": "2022-10-10T19:19:16.321Z"
   },
   {
    "duration": 8,
    "start_time": "2022-10-10T19:19:16.603Z"
   },
   {
    "duration": 350,
    "start_time": "2022-10-10T19:19:16.613Z"
   },
   {
    "duration": 5,
    "start_time": "2022-10-10T19:19:16.965Z"
   },
   {
    "duration": 177,
    "start_time": "2022-10-10T19:19:16.971Z"
   },
   {
    "duration": 5,
    "start_time": "2022-10-10T19:19:17.150Z"
   },
   {
    "duration": 114,
    "start_time": "2022-10-10T19:19:17.157Z"
   },
   {
    "duration": 5,
    "start_time": "2022-10-10T19:19:17.272Z"
   },
   {
    "duration": 131,
    "start_time": "2022-10-10T19:19:17.279Z"
   },
   {
    "duration": 133,
    "start_time": "2022-10-10T19:19:17.412Z"
   },
   {
    "duration": 123,
    "start_time": "2022-10-10T19:19:17.547Z"
   },
   {
    "duration": 115,
    "start_time": "2022-10-10T19:19:17.672Z"
   },
   {
    "duration": 32,
    "start_time": "2022-10-10T19:19:17.788Z"
   },
   {
    "duration": 3,
    "start_time": "2022-10-10T19:19:17.822Z"
   },
   {
    "duration": 11,
    "start_time": "2022-10-10T19:19:17.827Z"
   },
   {
    "duration": 29,
    "start_time": "2022-10-10T19:19:17.839Z"
   },
   {
    "duration": 179,
    "start_time": "2022-10-10T19:19:17.869Z"
   },
   {
    "duration": 1080,
    "start_time": "2022-10-11T15:49:29.456Z"
   },
   {
    "duration": 14,
    "start_time": "2022-10-11T15:49:30.538Z"
   },
   {
    "duration": 1801,
    "start_time": "2022-10-11T15:49:30.554Z"
   },
   {
    "duration": 64,
    "start_time": "2022-10-11T15:49:32.356Z"
   },
   {
    "duration": 45,
    "start_time": "2022-10-11T15:49:32.422Z"
   },
   {
    "duration": 1132,
    "start_time": "2022-10-11T15:49:32.468Z"
   },
   {
    "duration": 3,
    "start_time": "2022-10-11T15:49:33.602Z"
   },
   {
    "duration": 9,
    "start_time": "2022-10-11T15:49:33.606Z"
   },
   {
    "duration": 8,
    "start_time": "2022-10-11T15:49:33.616Z"
   },
   {
    "duration": 7,
    "start_time": "2022-10-11T15:49:33.625Z"
   },
   {
    "duration": 5,
    "start_time": "2022-10-11T15:49:33.634Z"
   },
   {
    "duration": 11,
    "start_time": "2022-10-11T15:49:33.640Z"
   },
   {
    "duration": 1286,
    "start_time": "2022-10-11T15:49:33.652Z"
   },
   {
    "duration": 6,
    "start_time": "2022-10-11T15:49:34.941Z"
   },
   {
    "duration": 4,
    "start_time": "2022-10-11T15:49:34.949Z"
   },
   {
    "duration": 7,
    "start_time": "2022-10-11T15:49:34.955Z"
   },
   {
    "duration": 5,
    "start_time": "2022-10-11T15:49:34.963Z"
   },
   {
    "duration": 58,
    "start_time": "2022-10-11T15:49:34.970Z"
   },
   {
    "duration": 6,
    "start_time": "2022-10-11T15:49:35.030Z"
   },
   {
    "duration": 6,
    "start_time": "2022-10-11T15:49:35.037Z"
   },
   {
    "duration": 6,
    "start_time": "2022-10-11T15:49:35.044Z"
   },
   {
    "duration": 6,
    "start_time": "2022-10-11T15:49:35.051Z"
   },
   {
    "duration": 14,
    "start_time": "2022-10-11T15:49:35.058Z"
   },
   {
    "duration": 6,
    "start_time": "2022-10-11T15:49:35.073Z"
   },
   {
    "duration": 21,
    "start_time": "2022-10-11T15:49:35.080Z"
   },
   {
    "duration": 13,
    "start_time": "2022-10-11T15:49:35.102Z"
   },
   {
    "duration": 12,
    "start_time": "2022-10-11T15:49:35.117Z"
   },
   {
    "duration": 17,
    "start_time": "2022-10-11T15:49:35.131Z"
   },
   {
    "duration": 6,
    "start_time": "2022-10-11T15:49:35.149Z"
   },
   {
    "duration": 632,
    "start_time": "2022-10-11T15:49:35.156Z"
   },
   {
    "duration": 73,
    "start_time": "2022-10-11T15:49:35.790Z"
   },
   {
    "duration": 71,
    "start_time": "2022-10-11T15:49:35.864Z"
   },
   {
    "duration": 242,
    "start_time": "2022-10-11T15:49:35.936Z"
   },
   {
    "duration": 226,
    "start_time": "2022-10-11T15:49:36.180Z"
   },
   {
    "duration": 316,
    "start_time": "2022-10-11T15:49:36.407Z"
   },
   {
    "duration": 226,
    "start_time": "2022-10-11T15:49:36.724Z"
   },
   {
    "duration": 232,
    "start_time": "2022-10-11T15:49:36.952Z"
   },
   {
    "duration": 181,
    "start_time": "2022-10-11T15:49:37.185Z"
   },
   {
    "duration": 234,
    "start_time": "2022-10-11T15:49:37.367Z"
   },
   {
    "duration": 286,
    "start_time": "2022-10-11T15:49:37.603Z"
   },
   {
    "duration": 233,
    "start_time": "2022-10-11T15:49:37.893Z"
   },
   {
    "duration": 230,
    "start_time": "2022-10-11T15:49:38.127Z"
   },
   {
    "duration": 236,
    "start_time": "2022-10-11T15:49:38.359Z"
   },
   {
    "duration": 222,
    "start_time": "2022-10-11T15:49:38.597Z"
   },
   {
    "duration": 246,
    "start_time": "2022-10-11T15:49:38.821Z"
   },
   {
    "duration": 255,
    "start_time": "2022-10-11T15:49:39.069Z"
   },
   {
    "duration": 151,
    "start_time": "2022-10-11T15:49:39.326Z"
   },
   {
    "duration": 145,
    "start_time": "2022-10-11T15:49:39.478Z"
   },
   {
    "duration": 7,
    "start_time": "2022-10-11T15:49:39.625Z"
   },
   {
    "duration": 25,
    "start_time": "2022-10-11T15:49:39.634Z"
   },
   {
    "duration": 24,
    "start_time": "2022-10-11T15:49:39.660Z"
   },
   {
    "duration": 22,
    "start_time": "2022-10-11T15:49:39.685Z"
   },
   {
    "duration": 117,
    "start_time": "2022-10-11T15:49:39.708Z"
   },
   {
    "duration": 10,
    "start_time": "2022-10-11T15:49:39.826Z"
   },
   {
    "duration": 236,
    "start_time": "2022-10-11T15:49:39.838Z"
   },
   {
    "duration": 5,
    "start_time": "2022-10-11T15:49:40.076Z"
   },
   {
    "duration": 262,
    "start_time": "2022-10-11T15:49:40.083Z"
   },
   {
    "duration": 6,
    "start_time": "2022-10-11T15:49:40.347Z"
   },
   {
    "duration": 249,
    "start_time": "2022-10-11T15:49:40.354Z"
   },
   {
    "duration": 6,
    "start_time": "2022-10-11T15:49:40.605Z"
   },
   {
    "duration": 161,
    "start_time": "2022-10-11T15:49:40.612Z"
   },
   {
    "duration": 5,
    "start_time": "2022-10-11T15:49:40.775Z"
   },
   {
    "duration": 105,
    "start_time": "2022-10-11T15:49:40.782Z"
   },
   {
    "duration": 15,
    "start_time": "2022-10-11T15:49:40.888Z"
   },
   {
    "duration": 119,
    "start_time": "2022-10-11T15:49:40.904Z"
   },
   {
    "duration": 128,
    "start_time": "2022-10-11T15:49:41.025Z"
   },
   {
    "duration": 116,
    "start_time": "2022-10-11T15:49:41.155Z"
   },
   {
    "duration": 143,
    "start_time": "2022-10-11T15:49:41.272Z"
   },
   {
    "duration": 21,
    "start_time": "2022-10-11T15:49:41.417Z"
   },
   {
    "duration": 4,
    "start_time": "2022-10-11T15:49:41.439Z"
   },
   {
    "duration": 9,
    "start_time": "2022-10-11T15:49:41.444Z"
   },
   {
    "duration": 37,
    "start_time": "2022-10-11T15:49:41.455Z"
   },
   {
    "duration": 197,
    "start_time": "2022-10-11T15:49:41.499Z"
   },
   {
    "duration": 710,
    "start_time": "2022-10-11T15:57:52.488Z"
   },
   {
    "duration": 13,
    "start_time": "2022-10-11T15:57:53.200Z"
   },
   {
    "duration": 1932,
    "start_time": "2022-10-11T15:57:53.215Z"
   },
   {
    "duration": 70,
    "start_time": "2022-10-11T15:57:55.149Z"
   },
   {
    "duration": 49,
    "start_time": "2022-10-11T15:57:55.221Z"
   },
   {
    "duration": 1146,
    "start_time": "2022-10-11T15:57:55.272Z"
   },
   {
    "duration": 4,
    "start_time": "2022-10-11T15:57:56.419Z"
   },
   {
    "duration": 6,
    "start_time": "2022-10-11T15:57:56.424Z"
   },
   {
    "duration": 11,
    "start_time": "2022-10-11T15:57:56.432Z"
   },
   {
    "duration": 6,
    "start_time": "2022-10-11T15:57:56.445Z"
   },
   {
    "duration": 6,
    "start_time": "2022-10-11T15:57:56.452Z"
   },
   {
    "duration": 10,
    "start_time": "2022-10-11T15:57:56.460Z"
   },
   {
    "duration": 1241,
    "start_time": "2022-10-11T15:57:56.471Z"
   },
   {
    "duration": 6,
    "start_time": "2022-10-11T15:57:57.713Z"
   },
   {
    "duration": 6,
    "start_time": "2022-10-11T15:57:57.721Z"
   },
   {
    "duration": 9,
    "start_time": "2022-10-11T15:57:57.729Z"
   },
   {
    "duration": 4,
    "start_time": "2022-10-11T15:57:57.740Z"
   },
   {
    "duration": 43,
    "start_time": "2022-10-11T15:57:57.745Z"
   },
   {
    "duration": 15,
    "start_time": "2022-10-11T15:57:57.789Z"
   },
   {
    "duration": 5,
    "start_time": "2022-10-11T15:57:57.805Z"
   },
   {
    "duration": 5,
    "start_time": "2022-10-11T15:57:57.811Z"
   },
   {
    "duration": 7,
    "start_time": "2022-10-11T15:57:57.817Z"
   },
   {
    "duration": 11,
    "start_time": "2022-10-11T15:57:57.826Z"
   },
   {
    "duration": 3,
    "start_time": "2022-10-11T15:57:57.839Z"
   },
   {
    "duration": 10,
    "start_time": "2022-10-11T15:57:57.843Z"
   },
   {
    "duration": 15,
    "start_time": "2022-10-11T15:57:57.854Z"
   },
   {
    "duration": 40,
    "start_time": "2022-10-11T15:57:57.870Z"
   },
   {
    "duration": 17,
    "start_time": "2022-10-11T15:57:57.913Z"
   },
   {
    "duration": 6,
    "start_time": "2022-10-11T15:57:57.931Z"
   },
   {
    "duration": 584,
    "start_time": "2022-10-11T15:57:57.938Z"
   },
   {
    "duration": 61,
    "start_time": "2022-10-11T15:57:58.523Z"
   },
   {
    "duration": 79,
    "start_time": "2022-10-11T15:57:58.586Z"
   },
   {
    "duration": 51,
    "start_time": "2022-10-11T15:57:58.667Z"
   },
   {
    "duration": 0,
    "start_time": "2022-10-11T15:57:58.720Z"
   },
   {
    "duration": 0,
    "start_time": "2022-10-11T15:57:58.721Z"
   },
   {
    "duration": 0,
    "start_time": "2022-10-11T15:57:58.722Z"
   },
   {
    "duration": 0,
    "start_time": "2022-10-11T15:57:58.723Z"
   },
   {
    "duration": 0,
    "start_time": "2022-10-11T15:57:58.724Z"
   },
   {
    "duration": 0,
    "start_time": "2022-10-11T15:57:58.724Z"
   },
   {
    "duration": 0,
    "start_time": "2022-10-11T15:57:58.726Z"
   },
   {
    "duration": 0,
    "start_time": "2022-10-11T15:57:58.727Z"
   },
   {
    "duration": 0,
    "start_time": "2022-10-11T15:57:58.728Z"
   },
   {
    "duration": 0,
    "start_time": "2022-10-11T15:57:58.730Z"
   },
   {
    "duration": 0,
    "start_time": "2022-10-11T15:57:58.730Z"
   },
   {
    "duration": 0,
    "start_time": "2022-10-11T15:57:58.732Z"
   },
   {
    "duration": 0,
    "start_time": "2022-10-11T15:57:58.733Z"
   },
   {
    "duration": 0,
    "start_time": "2022-10-11T15:57:58.734Z"
   },
   {
    "duration": 0,
    "start_time": "2022-10-11T15:57:58.735Z"
   },
   {
    "duration": 0,
    "start_time": "2022-10-11T15:57:58.736Z"
   },
   {
    "duration": 0,
    "start_time": "2022-10-11T15:57:58.738Z"
   },
   {
    "duration": 0,
    "start_time": "2022-10-11T15:57:58.738Z"
   },
   {
    "duration": 0,
    "start_time": "2022-10-11T15:57:58.739Z"
   },
   {
    "duration": 0,
    "start_time": "2022-10-11T15:57:58.740Z"
   },
   {
    "duration": 0,
    "start_time": "2022-10-11T15:57:58.741Z"
   },
   {
    "duration": 0,
    "start_time": "2022-10-11T15:57:58.742Z"
   },
   {
    "duration": 0,
    "start_time": "2022-10-11T15:57:58.743Z"
   },
   {
    "duration": 0,
    "start_time": "2022-10-11T15:57:58.745Z"
   },
   {
    "duration": 0,
    "start_time": "2022-10-11T15:57:58.745Z"
   },
   {
    "duration": 0,
    "start_time": "2022-10-11T15:57:58.746Z"
   },
   {
    "duration": 0,
    "start_time": "2022-10-11T15:57:58.747Z"
   },
   {
    "duration": 0,
    "start_time": "2022-10-11T15:57:58.748Z"
   },
   {
    "duration": 0,
    "start_time": "2022-10-11T15:57:58.749Z"
   },
   {
    "duration": 0,
    "start_time": "2022-10-11T15:57:58.750Z"
   },
   {
    "duration": 0,
    "start_time": "2022-10-11T15:57:58.751Z"
   },
   {
    "duration": 0,
    "start_time": "2022-10-11T15:57:58.752Z"
   },
   {
    "duration": 0,
    "start_time": "2022-10-11T15:57:58.753Z"
   },
   {
    "duration": 0,
    "start_time": "2022-10-11T15:57:58.754Z"
   },
   {
    "duration": 0,
    "start_time": "2022-10-11T15:57:58.755Z"
   },
   {
    "duration": 0,
    "start_time": "2022-10-11T15:57:58.756Z"
   },
   {
    "duration": 0,
    "start_time": "2022-10-11T15:57:58.800Z"
   },
   {
    "duration": 0,
    "start_time": "2022-10-11T15:57:58.801Z"
   },
   {
    "duration": 0,
    "start_time": "2022-10-11T15:57:58.802Z"
   },
   {
    "duration": 0,
    "start_time": "2022-10-11T15:57:58.803Z"
   },
   {
    "duration": 311,
    "start_time": "2022-10-11T15:59:24.310Z"
   },
   {
    "duration": 217,
    "start_time": "2022-10-11T16:02:02.464Z"
   },
   {
    "duration": 204,
    "start_time": "2022-10-11T16:07:28.644Z"
   },
   {
    "duration": 210,
    "start_time": "2022-10-11T16:07:42.384Z"
   },
   {
    "duration": 898,
    "start_time": "2022-10-11T16:07:47.569Z"
   },
   {
    "duration": 14,
    "start_time": "2022-10-11T16:07:48.469Z"
   },
   {
    "duration": 1786,
    "start_time": "2022-10-11T16:07:48.485Z"
   },
   {
    "duration": 68,
    "start_time": "2022-10-11T16:07:50.273Z"
   },
   {
    "duration": 48,
    "start_time": "2022-10-11T16:07:50.343Z"
   },
   {
    "duration": 1198,
    "start_time": "2022-10-11T16:07:50.392Z"
   },
   {
    "duration": 20,
    "start_time": "2022-10-11T16:07:51.592Z"
   },
   {
    "duration": 13,
    "start_time": "2022-10-11T16:07:51.614Z"
   },
   {
    "duration": 8,
    "start_time": "2022-10-11T16:07:51.628Z"
   },
   {
    "duration": 5,
    "start_time": "2022-10-11T16:07:51.638Z"
   },
   {
    "duration": 5,
    "start_time": "2022-10-11T16:07:51.645Z"
   },
   {
    "duration": 9,
    "start_time": "2022-10-11T16:07:51.651Z"
   },
   {
    "duration": 1232,
    "start_time": "2022-10-11T16:07:51.661Z"
   },
   {
    "duration": 7,
    "start_time": "2022-10-11T16:07:52.899Z"
   },
   {
    "duration": 5,
    "start_time": "2022-10-11T16:07:52.907Z"
   },
   {
    "duration": 8,
    "start_time": "2022-10-11T16:07:52.914Z"
   },
   {
    "duration": 6,
    "start_time": "2022-10-11T16:07:52.924Z"
   },
   {
    "duration": 41,
    "start_time": "2022-10-11T16:07:52.932Z"
   },
   {
    "duration": 6,
    "start_time": "2022-10-11T16:07:52.975Z"
   },
   {
    "duration": 19,
    "start_time": "2022-10-11T16:07:52.983Z"
   },
   {
    "duration": 3,
    "start_time": "2022-10-11T16:07:53.004Z"
   },
   {
    "duration": 7,
    "start_time": "2022-10-11T16:07:53.009Z"
   },
   {
    "duration": 12,
    "start_time": "2022-10-11T16:07:53.017Z"
   },
   {
    "duration": 3,
    "start_time": "2022-10-11T16:07:53.031Z"
   },
   {
    "duration": 14,
    "start_time": "2022-10-11T16:07:53.036Z"
   },
   {
    "duration": 14,
    "start_time": "2022-10-11T16:07:53.052Z"
   },
   {
    "duration": 40,
    "start_time": "2022-10-11T16:07:53.067Z"
   },
   {
    "duration": 24,
    "start_time": "2022-10-11T16:07:53.109Z"
   },
   {
    "duration": 5,
    "start_time": "2022-10-11T16:07:53.135Z"
   },
   {
    "duration": 605,
    "start_time": "2022-10-11T16:07:53.142Z"
   },
   {
    "duration": 70,
    "start_time": "2022-10-11T16:07:53.748Z"
   },
   {
    "duration": 64,
    "start_time": "2022-10-11T16:07:53.819Z"
   },
   {
    "duration": 307,
    "start_time": "2022-10-11T16:07:53.885Z"
   },
   {
    "duration": 0,
    "start_time": "2022-10-11T16:07:54.202Z"
   },
   {
    "duration": 0,
    "start_time": "2022-10-11T16:07:54.203Z"
   },
   {
    "duration": 0,
    "start_time": "2022-10-11T16:07:54.204Z"
   },
   {
    "duration": 0,
    "start_time": "2022-10-11T16:07:54.206Z"
   },
   {
    "duration": 0,
    "start_time": "2022-10-11T16:07:54.207Z"
   },
   {
    "duration": 0,
    "start_time": "2022-10-11T16:07:54.209Z"
   },
   {
    "duration": 0,
    "start_time": "2022-10-11T16:07:54.210Z"
   },
   {
    "duration": 0,
    "start_time": "2022-10-11T16:07:54.211Z"
   },
   {
    "duration": 0,
    "start_time": "2022-10-11T16:07:54.212Z"
   },
   {
    "duration": 0,
    "start_time": "2022-10-11T16:07:54.213Z"
   },
   {
    "duration": 0,
    "start_time": "2022-10-11T16:07:54.215Z"
   },
   {
    "duration": 0,
    "start_time": "2022-10-11T16:07:54.217Z"
   },
   {
    "duration": 0,
    "start_time": "2022-10-11T16:07:54.218Z"
   },
   {
    "duration": 0,
    "start_time": "2022-10-11T16:07:54.219Z"
   },
   {
    "duration": 0,
    "start_time": "2022-10-11T16:07:54.220Z"
   },
   {
    "duration": 0,
    "start_time": "2022-10-11T16:07:54.222Z"
   },
   {
    "duration": 0,
    "start_time": "2022-10-11T16:07:54.223Z"
   },
   {
    "duration": 0,
    "start_time": "2022-10-11T16:07:54.225Z"
   },
   {
    "duration": 0,
    "start_time": "2022-10-11T16:07:54.226Z"
   },
   {
    "duration": 0,
    "start_time": "2022-10-11T16:07:54.227Z"
   },
   {
    "duration": 0,
    "start_time": "2022-10-11T16:07:54.228Z"
   },
   {
    "duration": 0,
    "start_time": "2022-10-11T16:07:54.229Z"
   },
   {
    "duration": 0,
    "start_time": "2022-10-11T16:07:54.230Z"
   },
   {
    "duration": 0,
    "start_time": "2022-10-11T16:07:54.231Z"
   },
   {
    "duration": 0,
    "start_time": "2022-10-11T16:07:54.231Z"
   },
   {
    "duration": 0,
    "start_time": "2022-10-11T16:07:54.232Z"
   },
   {
    "duration": 0,
    "start_time": "2022-10-11T16:07:54.234Z"
   },
   {
    "duration": 0,
    "start_time": "2022-10-11T16:07:54.234Z"
   },
   {
    "duration": 0,
    "start_time": "2022-10-11T16:07:54.235Z"
   },
   {
    "duration": 0,
    "start_time": "2022-10-11T16:07:54.236Z"
   },
   {
    "duration": 0,
    "start_time": "2022-10-11T16:07:54.237Z"
   },
   {
    "duration": 0,
    "start_time": "2022-10-11T16:07:54.238Z"
   },
   {
    "duration": 0,
    "start_time": "2022-10-11T16:07:54.239Z"
   },
   {
    "duration": 0,
    "start_time": "2022-10-11T16:07:54.240Z"
   },
   {
    "duration": 0,
    "start_time": "2022-10-11T16:07:54.241Z"
   },
   {
    "duration": 0,
    "start_time": "2022-10-11T16:07:54.242Z"
   },
   {
    "duration": 0,
    "start_time": "2022-10-11T16:07:54.243Z"
   },
   {
    "duration": 1,
    "start_time": "2022-10-11T16:07:54.300Z"
   },
   {
    "duration": 0,
    "start_time": "2022-10-11T16:07:54.301Z"
   },
   {
    "duration": 0,
    "start_time": "2022-10-11T16:07:54.302Z"
   },
   {
    "duration": 204,
    "start_time": "2022-10-11T16:11:40.448Z"
   },
   {
    "duration": 212,
    "start_time": "2022-10-11T16:13:15.403Z"
   },
   {
    "duration": 1088,
    "start_time": "2022-10-11T16:13:29.435Z"
   },
   {
    "duration": 461,
    "start_time": "2022-10-11T16:13:56.431Z"
   },
   {
    "duration": 240,
    "start_time": "2022-10-11T16:14:40.593Z"
   },
   {
    "duration": 711,
    "start_time": "2022-10-11T17:56:26.861Z"
   },
   {
    "duration": 12,
    "start_time": "2022-10-11T17:56:27.574Z"
   },
   {
    "duration": 1864,
    "start_time": "2022-10-11T17:56:27.587Z"
   },
   {
    "duration": 71,
    "start_time": "2022-10-11T17:56:29.454Z"
   },
   {
    "duration": 46,
    "start_time": "2022-10-11T17:56:29.527Z"
   },
   {
    "duration": 1182,
    "start_time": "2022-10-11T17:56:29.575Z"
   },
   {
    "duration": 4,
    "start_time": "2022-10-11T17:56:30.759Z"
   },
   {
    "duration": 54,
    "start_time": "2022-10-11T17:56:30.764Z"
   },
   {
    "duration": 42,
    "start_time": "2022-10-11T17:56:30.820Z"
   },
   {
    "duration": 34,
    "start_time": "2022-10-11T17:56:30.865Z"
   },
   {
    "duration": 12,
    "start_time": "2022-10-11T17:56:30.901Z"
   },
   {
    "duration": 37,
    "start_time": "2022-10-11T17:56:30.914Z"
   },
   {
    "duration": 1271,
    "start_time": "2022-10-11T17:56:30.953Z"
   },
   {
    "duration": 7,
    "start_time": "2022-10-11T17:56:32.226Z"
   },
   {
    "duration": 11,
    "start_time": "2022-10-11T17:56:32.234Z"
   },
   {
    "duration": 7,
    "start_time": "2022-10-11T17:56:32.247Z"
   },
   {
    "duration": 5,
    "start_time": "2022-10-11T17:56:32.255Z"
   },
   {
    "duration": 57,
    "start_time": "2022-10-11T17:56:32.262Z"
   },
   {
    "duration": 6,
    "start_time": "2022-10-11T17:56:32.321Z"
   },
   {
    "duration": 5,
    "start_time": "2022-10-11T17:56:32.328Z"
   },
   {
    "duration": 3,
    "start_time": "2022-10-11T17:56:32.334Z"
   },
   {
    "duration": 5,
    "start_time": "2022-10-11T17:56:32.338Z"
   },
   {
    "duration": 12,
    "start_time": "2022-10-11T17:56:32.345Z"
   },
   {
    "duration": 3,
    "start_time": "2022-10-11T17:56:32.359Z"
   },
   {
    "duration": 37,
    "start_time": "2022-10-11T17:56:32.363Z"
   },
   {
    "duration": 15,
    "start_time": "2022-10-11T17:56:32.402Z"
   },
   {
    "duration": 12,
    "start_time": "2022-10-11T17:56:32.419Z"
   },
   {
    "duration": 18,
    "start_time": "2022-10-11T17:56:32.435Z"
   },
   {
    "duration": 6,
    "start_time": "2022-10-11T17:56:32.455Z"
   },
   {
    "duration": 652,
    "start_time": "2022-10-11T17:56:32.462Z"
   },
   {
    "duration": 64,
    "start_time": "2022-10-11T17:56:33.116Z"
   },
   {
    "duration": 79,
    "start_time": "2022-10-11T17:56:33.182Z"
   },
   {
    "duration": 224,
    "start_time": "2022-10-11T17:56:33.263Z"
   },
   {
    "duration": 20,
    "start_time": "2022-10-11T17:56:33.489Z"
   },
   {
    "duration": 4,
    "start_time": "2022-10-11T17:56:33.510Z"
   },
   {
    "duration": 26,
    "start_time": "2022-10-11T17:56:33.515Z"
   },
   {
    "duration": 256,
    "start_time": "2022-10-11T17:56:33.542Z"
   },
   {
    "duration": 339,
    "start_time": "2022-10-11T17:56:33.800Z"
   },
   {
    "duration": 261,
    "start_time": "2022-10-11T17:56:34.141Z"
   },
   {
    "duration": 299,
    "start_time": "2022-10-11T17:56:34.404Z"
   },
   {
    "duration": 172,
    "start_time": "2022-10-11T17:56:34.704Z"
   },
   {
    "duration": 240,
    "start_time": "2022-10-11T17:56:34.877Z"
   },
   {
    "duration": 323,
    "start_time": "2022-10-11T17:56:35.119Z"
   },
   {
    "duration": 225,
    "start_time": "2022-10-11T17:56:35.443Z"
   },
   {
    "duration": 233,
    "start_time": "2022-10-11T17:56:35.669Z"
   },
   {
    "duration": 249,
    "start_time": "2022-10-11T17:56:35.903Z"
   },
   {
    "duration": 237,
    "start_time": "2022-10-11T17:56:36.154Z"
   },
   {
    "duration": 254,
    "start_time": "2022-10-11T17:56:36.394Z"
   },
   {
    "duration": 233,
    "start_time": "2022-10-11T17:56:36.650Z"
   },
   {
    "duration": 152,
    "start_time": "2022-10-11T17:56:36.885Z"
   },
   {
    "duration": 150,
    "start_time": "2022-10-11T17:56:37.040Z"
   },
   {
    "duration": 15,
    "start_time": "2022-10-11T17:56:37.191Z"
   },
   {
    "duration": 30,
    "start_time": "2022-10-11T17:56:37.208Z"
   },
   {
    "duration": 27,
    "start_time": "2022-10-11T17:56:37.240Z"
   },
   {
    "duration": 11,
    "start_time": "2022-10-11T17:56:37.269Z"
   },
   {
    "duration": 122,
    "start_time": "2022-10-11T17:56:37.282Z"
   },
   {
    "duration": 9,
    "start_time": "2022-10-11T17:56:37.406Z"
   },
   {
    "duration": 271,
    "start_time": "2022-10-11T17:56:37.416Z"
   },
   {
    "duration": 14,
    "start_time": "2022-10-11T17:56:37.689Z"
   },
   {
    "duration": 251,
    "start_time": "2022-10-11T17:56:37.704Z"
   },
   {
    "duration": 6,
    "start_time": "2022-10-11T17:56:37.956Z"
   },
   {
    "duration": 261,
    "start_time": "2022-10-11T17:56:37.963Z"
   },
   {
    "duration": 6,
    "start_time": "2022-10-11T17:56:38.225Z"
   },
   {
    "duration": 170,
    "start_time": "2022-10-11T17:56:38.232Z"
   },
   {
    "duration": 4,
    "start_time": "2022-10-11T17:56:38.404Z"
   },
   {
    "duration": 119,
    "start_time": "2022-10-11T17:56:38.410Z"
   },
   {
    "duration": 5,
    "start_time": "2022-10-11T17:56:38.530Z"
   },
   {
    "duration": 145,
    "start_time": "2022-10-11T17:56:38.537Z"
   },
   {
    "duration": 145,
    "start_time": "2022-10-11T17:56:38.683Z"
   },
   {
    "duration": 127,
    "start_time": "2022-10-11T17:56:38.829Z"
   },
   {
    "duration": 119,
    "start_time": "2022-10-11T17:56:38.958Z"
   },
   {
    "duration": 34,
    "start_time": "2022-10-11T17:56:39.078Z"
   },
   {
    "duration": 4,
    "start_time": "2022-10-11T17:56:39.113Z"
   },
   {
    "duration": 7,
    "start_time": "2022-10-11T17:56:39.118Z"
   },
   {
    "duration": 30,
    "start_time": "2022-10-11T17:56:39.127Z"
   },
   {
    "duration": 182,
    "start_time": "2022-10-11T17:56:39.158Z"
   },
   {
    "duration": 74,
    "start_time": "2022-10-11T18:15:09.922Z"
   },
   {
    "duration": 724,
    "start_time": "2022-10-11T18:15:47.503Z"
   },
   {
    "duration": 13,
    "start_time": "2022-10-11T18:15:48.229Z"
   },
   {
    "duration": 1808,
    "start_time": "2022-10-11T18:15:48.243Z"
   },
   {
    "duration": 70,
    "start_time": "2022-10-11T18:15:50.053Z"
   },
   {
    "duration": 48,
    "start_time": "2022-10-11T18:15:50.124Z"
   },
   {
    "duration": 1136,
    "start_time": "2022-10-11T18:15:50.173Z"
   },
   {
    "duration": 3,
    "start_time": "2022-10-11T18:15:51.311Z"
   },
   {
    "duration": 7,
    "start_time": "2022-10-11T18:15:51.315Z"
   },
   {
    "duration": 10,
    "start_time": "2022-10-11T18:15:51.323Z"
   },
   {
    "duration": 6,
    "start_time": "2022-10-11T18:15:51.334Z"
   },
   {
    "duration": 5,
    "start_time": "2022-10-11T18:15:51.342Z"
   },
   {
    "duration": 14,
    "start_time": "2022-10-11T18:15:51.348Z"
   },
   {
    "duration": 1237,
    "start_time": "2022-10-11T18:15:51.363Z"
   },
   {
    "duration": 7,
    "start_time": "2022-10-11T18:15:52.603Z"
   },
   {
    "duration": 9,
    "start_time": "2022-10-11T18:15:52.611Z"
   },
   {
    "duration": 12,
    "start_time": "2022-10-11T18:15:52.622Z"
   },
   {
    "duration": 13,
    "start_time": "2022-10-11T18:15:52.635Z"
   },
   {
    "duration": 40,
    "start_time": "2022-10-11T18:15:52.649Z"
   },
   {
    "duration": 9,
    "start_time": "2022-10-11T18:15:52.691Z"
   },
   {
    "duration": 5,
    "start_time": "2022-10-11T18:15:52.701Z"
   },
   {
    "duration": 7,
    "start_time": "2022-10-11T18:15:52.707Z"
   },
   {
    "duration": 5,
    "start_time": "2022-10-11T18:15:52.715Z"
   },
   {
    "duration": 14,
    "start_time": "2022-10-11T18:15:52.721Z"
   },
   {
    "duration": 2,
    "start_time": "2022-10-11T18:15:52.736Z"
   },
   {
    "duration": 12,
    "start_time": "2022-10-11T18:15:52.740Z"
   },
   {
    "duration": 13,
    "start_time": "2022-10-11T18:15:52.754Z"
   },
   {
    "duration": 11,
    "start_time": "2022-10-11T18:15:52.768Z"
   },
   {
    "duration": 18,
    "start_time": "2022-10-11T18:15:52.800Z"
   },
   {
    "duration": 5,
    "start_time": "2022-10-11T18:15:52.819Z"
   },
   {
    "duration": 615,
    "start_time": "2022-10-11T18:15:52.826Z"
   },
   {
    "duration": 68,
    "start_time": "2022-10-11T18:15:53.448Z"
   },
   {
    "duration": 67,
    "start_time": "2022-10-11T18:15:53.518Z"
   },
   {
    "duration": 207,
    "start_time": "2022-10-11T18:15:53.600Z"
   },
   {
    "duration": 18,
    "start_time": "2022-10-11T18:15:53.809Z"
   },
   {
    "duration": 5,
    "start_time": "2022-10-11T18:15:53.828Z"
   },
   {
    "duration": 26,
    "start_time": "2022-10-11T18:15:53.834Z"
   },
   {
    "duration": 985,
    "start_time": "2022-10-11T18:15:53.861Z"
   },
   {
    "duration": 0,
    "start_time": "2022-10-11T18:15:54.848Z"
   },
   {
    "duration": 0,
    "start_time": "2022-10-11T18:15:54.850Z"
   },
   {
    "duration": 0,
    "start_time": "2022-10-11T18:15:54.851Z"
   },
   {
    "duration": 0,
    "start_time": "2022-10-11T18:15:54.852Z"
   },
   {
    "duration": 0,
    "start_time": "2022-10-11T18:15:54.853Z"
   },
   {
    "duration": 0,
    "start_time": "2022-10-11T18:15:54.854Z"
   },
   {
    "duration": 0,
    "start_time": "2022-10-11T18:15:54.855Z"
   },
   {
    "duration": 0,
    "start_time": "2022-10-11T18:15:54.856Z"
   },
   {
    "duration": 0,
    "start_time": "2022-10-11T18:15:54.857Z"
   },
   {
    "duration": 0,
    "start_time": "2022-10-11T18:15:54.858Z"
   },
   {
    "duration": 0,
    "start_time": "2022-10-11T18:15:54.859Z"
   },
   {
    "duration": 0,
    "start_time": "2022-10-11T18:15:54.860Z"
   },
   {
    "duration": 0,
    "start_time": "2022-10-11T18:15:54.862Z"
   },
   {
    "duration": 0,
    "start_time": "2022-10-11T18:15:54.863Z"
   },
   {
    "duration": 0,
    "start_time": "2022-10-11T18:15:54.864Z"
   },
   {
    "duration": 0,
    "start_time": "2022-10-11T18:15:54.865Z"
   },
   {
    "duration": 0,
    "start_time": "2022-10-11T18:15:54.866Z"
   },
   {
    "duration": 0,
    "start_time": "2022-10-11T18:15:54.867Z"
   },
   {
    "duration": 0,
    "start_time": "2022-10-11T18:15:54.868Z"
   },
   {
    "duration": 0,
    "start_time": "2022-10-11T18:15:54.869Z"
   },
   {
    "duration": 0,
    "start_time": "2022-10-11T18:15:54.870Z"
   },
   {
    "duration": 0,
    "start_time": "2022-10-11T18:15:54.871Z"
   },
   {
    "duration": 0,
    "start_time": "2022-10-11T18:15:54.872Z"
   },
   {
    "duration": 0,
    "start_time": "2022-10-11T18:15:54.873Z"
   },
   {
    "duration": 0,
    "start_time": "2022-10-11T18:15:54.874Z"
   },
   {
    "duration": 0,
    "start_time": "2022-10-11T18:15:54.876Z"
   },
   {
    "duration": 0,
    "start_time": "2022-10-11T18:15:54.877Z"
   },
   {
    "duration": 0,
    "start_time": "2022-10-11T18:15:54.878Z"
   },
   {
    "duration": 0,
    "start_time": "2022-10-11T18:15:54.879Z"
   },
   {
    "duration": 0,
    "start_time": "2022-10-11T18:15:54.880Z"
   },
   {
    "duration": 0,
    "start_time": "2022-10-11T18:15:54.881Z"
   },
   {
    "duration": 0,
    "start_time": "2022-10-11T18:15:54.882Z"
   },
   {
    "duration": 0,
    "start_time": "2022-10-11T18:15:54.883Z"
   },
   {
    "duration": 0,
    "start_time": "2022-10-11T18:15:54.884Z"
   },
   {
    "duration": 0,
    "start_time": "2022-10-11T18:15:54.886Z"
   },
   {
    "duration": 0,
    "start_time": "2022-10-11T18:15:54.900Z"
   },
   {
    "duration": 0,
    "start_time": "2022-10-11T18:15:54.901Z"
   },
   {
    "duration": 0,
    "start_time": "2022-10-11T18:15:54.902Z"
   },
   {
    "duration": 0,
    "start_time": "2022-10-11T18:15:54.903Z"
   },
   {
    "duration": 0,
    "start_time": "2022-10-11T18:15:54.905Z"
   },
   {
    "duration": 18,
    "start_time": "2022-10-11T18:16:40.280Z"
   },
   {
    "duration": 8,
    "start_time": "2022-10-11T18:18:09.886Z"
   },
   {
    "duration": 16,
    "start_time": "2022-10-11T18:19:34.607Z"
   },
   {
    "duration": 11,
    "start_time": "2022-10-11T18:20:53.233Z"
   },
   {
    "duration": 24,
    "start_time": "2022-10-11T18:22:17.849Z"
   },
   {
    "duration": 746,
    "start_time": "2022-10-11T18:27:46.110Z"
   },
   {
    "duration": 5,
    "start_time": "2022-10-11T18:28:00.026Z"
   },
   {
    "duration": 16,
    "start_time": "2022-10-11T18:28:26.605Z"
   },
   {
    "duration": 754,
    "start_time": "2022-10-11T18:30:05.402Z"
   },
   {
    "duration": 22,
    "start_time": "2022-10-11T18:30:06.158Z"
   },
   {
    "duration": 1909,
    "start_time": "2022-10-11T18:30:06.182Z"
   },
   {
    "duration": 66,
    "start_time": "2022-10-11T18:30:08.093Z"
   },
   {
    "duration": 52,
    "start_time": "2022-10-11T18:30:08.161Z"
   },
   {
    "duration": 1161,
    "start_time": "2022-10-11T18:30:08.215Z"
   },
   {
    "duration": 3,
    "start_time": "2022-10-11T18:30:09.378Z"
   },
   {
    "duration": 10,
    "start_time": "2022-10-11T18:30:09.382Z"
   },
   {
    "duration": 5,
    "start_time": "2022-10-11T18:30:09.399Z"
   },
   {
    "duration": 7,
    "start_time": "2022-10-11T18:30:09.407Z"
   },
   {
    "duration": 6,
    "start_time": "2022-10-11T18:30:09.416Z"
   },
   {
    "duration": 15,
    "start_time": "2022-10-11T18:30:09.423Z"
   },
   {
    "duration": 1300,
    "start_time": "2022-10-11T18:30:09.440Z"
   },
   {
    "duration": 7,
    "start_time": "2022-10-11T18:30:10.741Z"
   },
   {
    "duration": 5,
    "start_time": "2022-10-11T18:30:10.749Z"
   },
   {
    "duration": 6,
    "start_time": "2022-10-11T18:30:10.755Z"
   },
   {
    "duration": 4,
    "start_time": "2022-10-11T18:30:10.762Z"
   },
   {
    "duration": 63,
    "start_time": "2022-10-11T18:30:10.768Z"
   },
   {
    "duration": 7,
    "start_time": "2022-10-11T18:30:10.833Z"
   },
   {
    "duration": 9,
    "start_time": "2022-10-11T18:30:10.842Z"
   },
   {
    "duration": 4,
    "start_time": "2022-10-11T18:30:10.853Z"
   },
   {
    "duration": 5,
    "start_time": "2022-10-11T18:30:10.858Z"
   },
   {
    "duration": 21,
    "start_time": "2022-10-11T18:30:10.865Z"
   },
   {
    "duration": 13,
    "start_time": "2022-10-11T18:30:10.888Z"
   },
   {
    "duration": 9,
    "start_time": "2022-10-11T18:30:10.902Z"
   },
   {
    "duration": 14,
    "start_time": "2022-10-11T18:30:10.913Z"
   },
   {
    "duration": 11,
    "start_time": "2022-10-11T18:30:10.929Z"
   },
   {
    "duration": 17,
    "start_time": "2022-10-11T18:30:10.943Z"
   },
   {
    "duration": 6,
    "start_time": "2022-10-11T18:30:10.961Z"
   },
   {
    "duration": 608,
    "start_time": "2022-10-11T18:30:10.968Z"
   },
   {
    "duration": 73,
    "start_time": "2022-10-11T18:30:11.578Z"
   },
   {
    "duration": 73,
    "start_time": "2022-10-11T18:30:11.653Z"
   },
   {
    "duration": 203,
    "start_time": "2022-10-11T18:30:11.728Z"
   },
   {
    "duration": 17,
    "start_time": "2022-10-11T18:30:11.932Z"
   },
   {
    "duration": 4,
    "start_time": "2022-10-11T18:30:11.951Z"
   },
   {
    "duration": 24,
    "start_time": "2022-10-11T18:30:11.956Z"
   },
   {
    "duration": 34,
    "start_time": "2022-10-11T18:30:11.982Z"
   },
   {
    "duration": 237,
    "start_time": "2022-10-11T18:30:12.017Z"
   },
   {
    "duration": 323,
    "start_time": "2022-10-11T18:30:12.256Z"
   },
   {
    "duration": 219,
    "start_time": "2022-10-11T18:30:12.581Z"
   },
   {
    "duration": 239,
    "start_time": "2022-10-11T18:30:12.802Z"
   },
   {
    "duration": 177,
    "start_time": "2022-10-11T18:30:13.044Z"
   },
   {
    "duration": 235,
    "start_time": "2022-10-11T18:30:13.223Z"
   },
   {
    "duration": 296,
    "start_time": "2022-10-11T18:30:13.460Z"
   },
   {
    "duration": 245,
    "start_time": "2022-10-11T18:30:13.758Z"
   },
   {
    "duration": 264,
    "start_time": "2022-10-11T18:30:14.005Z"
   },
   {
    "duration": 313,
    "start_time": "2022-10-11T18:30:14.271Z"
   },
   {
    "duration": 245,
    "start_time": "2022-10-11T18:30:14.585Z"
   },
   {
    "duration": 248,
    "start_time": "2022-10-11T18:30:14.832Z"
   },
   {
    "duration": 238,
    "start_time": "2022-10-11T18:30:15.081Z"
   },
   {
    "duration": 157,
    "start_time": "2022-10-11T18:30:15.321Z"
   },
   {
    "duration": 129,
    "start_time": "2022-10-11T18:30:15.479Z"
   },
   {
    "duration": 7,
    "start_time": "2022-10-11T18:30:15.609Z"
   },
   {
    "duration": 22,
    "start_time": "2022-10-11T18:30:15.618Z"
   },
   {
    "duration": 9,
    "start_time": "2022-10-11T18:30:15.641Z"
   },
   {
    "duration": 9,
    "start_time": "2022-10-11T18:30:15.651Z"
   },
   {
    "duration": 133,
    "start_time": "2022-10-11T18:30:15.661Z"
   },
   {
    "duration": 12,
    "start_time": "2022-10-11T18:30:15.798Z"
   },
   {
    "duration": 233,
    "start_time": "2022-10-11T18:30:15.812Z"
   },
   {
    "duration": 5,
    "start_time": "2022-10-11T18:30:16.047Z"
   },
   {
    "duration": 252,
    "start_time": "2022-10-11T18:30:16.053Z"
   },
   {
    "duration": 6,
    "start_time": "2022-10-11T18:30:16.307Z"
   },
   {
    "duration": 257,
    "start_time": "2022-10-11T18:30:16.315Z"
   },
   {
    "duration": 5,
    "start_time": "2022-10-11T18:30:16.574Z"
   },
   {
    "duration": 162,
    "start_time": "2022-10-11T18:30:16.580Z"
   },
   {
    "duration": 5,
    "start_time": "2022-10-11T18:30:16.744Z"
   },
   {
    "duration": 109,
    "start_time": "2022-10-11T18:30:16.750Z"
   },
   {
    "duration": 5,
    "start_time": "2022-10-11T18:30:16.861Z"
   },
   {
    "duration": 134,
    "start_time": "2022-10-11T18:30:16.867Z"
   },
   {
    "duration": 133,
    "start_time": "2022-10-11T18:30:17.003Z"
   },
   {
    "duration": 127,
    "start_time": "2022-10-11T18:30:17.137Z"
   },
   {
    "duration": 115,
    "start_time": "2022-10-11T18:30:17.265Z"
   },
   {
    "duration": 33,
    "start_time": "2022-10-11T18:30:17.382Z"
   },
   {
    "duration": 4,
    "start_time": "2022-10-11T18:30:17.416Z"
   },
   {
    "duration": 10,
    "start_time": "2022-10-11T18:30:17.422Z"
   },
   {
    "duration": 36,
    "start_time": "2022-10-11T18:30:17.433Z"
   },
   {
    "duration": 166,
    "start_time": "2022-10-11T18:30:17.470Z"
   },
   {
    "duration": 110,
    "start_time": "2022-10-11T18:40:07.970Z"
   },
   {
    "duration": 728,
    "start_time": "2022-10-11T18:46:26.920Z"
   },
   {
    "duration": 14,
    "start_time": "2022-10-11T18:46:27.650Z"
   },
   {
    "duration": 1898,
    "start_time": "2022-10-11T18:46:27.665Z"
   },
   {
    "duration": 77,
    "start_time": "2022-10-11T18:46:29.566Z"
   },
   {
    "duration": 49,
    "start_time": "2022-10-11T18:46:29.644Z"
   },
   {
    "duration": 1242,
    "start_time": "2022-10-11T18:46:29.694Z"
   },
   {
    "duration": 4,
    "start_time": "2022-10-11T18:46:30.937Z"
   },
   {
    "duration": 20,
    "start_time": "2022-10-11T18:46:30.943Z"
   },
   {
    "duration": 35,
    "start_time": "2022-10-11T18:46:30.965Z"
   },
   {
    "duration": 29,
    "start_time": "2022-10-11T18:46:31.004Z"
   },
   {
    "duration": 13,
    "start_time": "2022-10-11T18:46:31.035Z"
   },
   {
    "duration": 39,
    "start_time": "2022-10-11T18:46:31.050Z"
   },
   {
    "duration": 1379,
    "start_time": "2022-10-11T18:46:31.091Z"
   },
   {
    "duration": 7,
    "start_time": "2022-10-11T18:46:32.471Z"
   },
   {
    "duration": 5,
    "start_time": "2022-10-11T18:46:32.479Z"
   },
   {
    "duration": 20,
    "start_time": "2022-10-11T18:46:32.485Z"
   },
   {
    "duration": 4,
    "start_time": "2022-10-11T18:46:32.506Z"
   },
   {
    "duration": 42,
    "start_time": "2022-10-11T18:46:32.512Z"
   },
   {
    "duration": 7,
    "start_time": "2022-10-11T18:46:32.555Z"
   },
   {
    "duration": 5,
    "start_time": "2022-10-11T18:46:32.564Z"
   },
   {
    "duration": 5,
    "start_time": "2022-10-11T18:46:32.570Z"
   },
   {
    "duration": 4,
    "start_time": "2022-10-11T18:46:32.577Z"
   },
   {
    "duration": 15,
    "start_time": "2022-10-11T18:46:32.599Z"
   },
   {
    "duration": 3,
    "start_time": "2022-10-11T18:46:32.615Z"
   },
   {
    "duration": 11,
    "start_time": "2022-10-11T18:46:32.620Z"
   },
   {
    "duration": 21,
    "start_time": "2022-10-11T18:46:32.632Z"
   },
   {
    "duration": 15,
    "start_time": "2022-10-11T18:46:32.655Z"
   },
   {
    "duration": 47,
    "start_time": "2022-10-11T18:46:32.674Z"
   },
   {
    "duration": 7,
    "start_time": "2022-10-11T18:46:32.723Z"
   },
   {
    "duration": 628,
    "start_time": "2022-10-11T18:46:32.731Z"
   },
   {
    "duration": 74,
    "start_time": "2022-10-11T18:46:33.361Z"
   },
   {
    "duration": 83,
    "start_time": "2022-10-11T18:46:33.437Z"
   },
   {
    "duration": 234,
    "start_time": "2022-10-11T18:46:33.523Z"
   },
   {
    "duration": 24,
    "start_time": "2022-10-11T18:46:33.759Z"
   },
   {
    "duration": 18,
    "start_time": "2022-10-11T18:46:33.785Z"
   },
   {
    "duration": 40,
    "start_time": "2022-10-11T18:46:33.805Z"
   },
   {
    "duration": 15,
    "start_time": "2022-10-11T18:46:33.847Z"
   },
   {
    "duration": 270,
    "start_time": "2022-10-11T18:46:33.863Z"
   },
   {
    "duration": 370,
    "start_time": "2022-10-11T18:46:34.134Z"
   },
   {
    "duration": 268,
    "start_time": "2022-10-11T18:46:34.506Z"
   },
   {
    "duration": 256,
    "start_time": "2022-10-11T18:46:34.776Z"
   },
   {
    "duration": 194,
    "start_time": "2022-10-11T18:46:35.034Z"
   },
   {
    "duration": 260,
    "start_time": "2022-10-11T18:46:35.230Z"
   },
   {
    "duration": 289,
    "start_time": "2022-10-11T18:46:35.493Z"
   },
   {
    "duration": 249,
    "start_time": "2022-10-11T18:46:35.783Z"
   },
   {
    "duration": 242,
    "start_time": "2022-10-11T18:46:36.035Z"
   },
   {
    "duration": 268,
    "start_time": "2022-10-11T18:46:36.278Z"
   },
   {
    "duration": 236,
    "start_time": "2022-10-11T18:46:36.547Z"
   },
   {
    "duration": 234,
    "start_time": "2022-10-11T18:46:36.784Z"
   },
   {
    "duration": 224,
    "start_time": "2022-10-11T18:46:37.019Z"
   },
   {
    "duration": 138,
    "start_time": "2022-10-11T18:46:37.245Z"
   },
   {
    "duration": 152,
    "start_time": "2022-10-11T18:46:37.385Z"
   },
   {
    "duration": 8,
    "start_time": "2022-10-11T18:46:37.539Z"
   },
   {
    "duration": 15,
    "start_time": "2022-10-11T18:46:37.548Z"
   },
   {
    "duration": 8,
    "start_time": "2022-10-11T18:46:37.565Z"
   },
   {
    "duration": 31,
    "start_time": "2022-10-11T18:46:37.575Z"
   },
   {
    "duration": 109,
    "start_time": "2022-10-11T18:46:37.607Z"
   },
   {
    "duration": 9,
    "start_time": "2022-10-11T18:46:37.717Z"
   },
   {
    "duration": 239,
    "start_time": "2022-10-11T18:46:37.728Z"
   },
   {
    "duration": 7,
    "start_time": "2022-10-11T18:46:37.969Z"
   },
   {
    "duration": 262,
    "start_time": "2022-10-11T18:46:37.978Z"
   },
   {
    "duration": 7,
    "start_time": "2022-10-11T18:46:38.242Z"
   },
   {
    "duration": 252,
    "start_time": "2022-10-11T18:46:38.250Z"
   },
   {
    "duration": 5,
    "start_time": "2022-10-11T18:46:38.504Z"
   },
   {
    "duration": 201,
    "start_time": "2022-10-11T18:46:38.511Z"
   },
   {
    "duration": 6,
    "start_time": "2022-10-11T18:46:38.714Z"
   },
   {
    "duration": 112,
    "start_time": "2022-10-11T18:46:38.722Z"
   },
   {
    "duration": 5,
    "start_time": "2022-10-11T18:46:38.836Z"
   },
   {
    "duration": 137,
    "start_time": "2022-10-11T18:46:38.843Z"
   },
   {
    "duration": 135,
    "start_time": "2022-10-11T18:46:38.982Z"
   },
   {
    "duration": 125,
    "start_time": "2022-10-11T18:46:39.119Z"
   },
   {
    "duration": 119,
    "start_time": "2022-10-11T18:46:39.245Z"
   },
   {
    "duration": 33,
    "start_time": "2022-10-11T18:46:39.368Z"
   },
   {
    "duration": 4,
    "start_time": "2022-10-11T18:46:39.403Z"
   },
   {
    "duration": 31,
    "start_time": "2022-10-11T18:46:39.408Z"
   },
   {
    "duration": 46,
    "start_time": "2022-10-11T18:46:39.440Z"
   },
   {
    "duration": 187,
    "start_time": "2022-10-11T18:46:39.487Z"
   },
   {
    "duration": 710,
    "start_time": "2022-10-11T21:15:10.058Z"
   },
   {
    "duration": 13,
    "start_time": "2022-10-11T21:15:10.769Z"
   },
   {
    "duration": 1766,
    "start_time": "2022-10-11T21:15:10.783Z"
   },
   {
    "duration": 79,
    "start_time": "2022-10-11T21:15:12.551Z"
   },
   {
    "duration": 46,
    "start_time": "2022-10-11T21:15:12.631Z"
   },
   {
    "duration": 1175,
    "start_time": "2022-10-11T21:15:12.678Z"
   },
   {
    "duration": 3,
    "start_time": "2022-10-11T21:15:13.855Z"
   },
   {
    "duration": 17,
    "start_time": "2022-10-11T21:15:13.859Z"
   },
   {
    "duration": 21,
    "start_time": "2022-10-11T21:15:13.877Z"
   },
   {
    "duration": 29,
    "start_time": "2022-10-11T21:15:13.900Z"
   },
   {
    "duration": 10,
    "start_time": "2022-10-11T21:15:13.930Z"
   },
   {
    "duration": 20,
    "start_time": "2022-10-11T21:15:13.941Z"
   },
   {
    "duration": 1301,
    "start_time": "2022-10-11T21:15:13.962Z"
   },
   {
    "duration": 7,
    "start_time": "2022-10-11T21:15:15.264Z"
   },
   {
    "duration": 10,
    "start_time": "2022-10-11T21:15:15.272Z"
   },
   {
    "duration": 16,
    "start_time": "2022-10-11T21:15:15.284Z"
   },
   {
    "duration": 11,
    "start_time": "2022-10-11T21:15:15.301Z"
   },
   {
    "duration": 40,
    "start_time": "2022-10-11T21:15:15.314Z"
   },
   {
    "duration": 5,
    "start_time": "2022-10-11T21:15:15.356Z"
   },
   {
    "duration": 6,
    "start_time": "2022-10-11T21:15:15.362Z"
   },
   {
    "duration": 5,
    "start_time": "2022-10-11T21:15:15.369Z"
   },
   {
    "duration": 5,
    "start_time": "2022-10-11T21:15:15.375Z"
   },
   {
    "duration": 26,
    "start_time": "2022-10-11T21:15:15.381Z"
   },
   {
    "duration": 3,
    "start_time": "2022-10-11T21:15:15.408Z"
   },
   {
    "duration": 15,
    "start_time": "2022-10-11T21:15:15.413Z"
   },
   {
    "duration": 20,
    "start_time": "2022-10-11T21:15:15.429Z"
   },
   {
    "duration": 18,
    "start_time": "2022-10-11T21:15:15.450Z"
   },
   {
    "duration": 32,
    "start_time": "2022-10-11T21:15:15.472Z"
   },
   {
    "duration": 12,
    "start_time": "2022-10-11T21:15:15.505Z"
   },
   {
    "duration": 607,
    "start_time": "2022-10-11T21:15:15.519Z"
   },
   {
    "duration": 62,
    "start_time": "2022-10-11T21:15:16.127Z"
   },
   {
    "duration": 69,
    "start_time": "2022-10-11T21:15:16.199Z"
   },
   {
    "duration": 218,
    "start_time": "2022-10-11T21:15:16.270Z"
   },
   {
    "duration": 20,
    "start_time": "2022-10-11T21:15:16.490Z"
   },
   {
    "duration": 4,
    "start_time": "2022-10-11T21:15:16.511Z"
   },
   {
    "duration": 30,
    "start_time": "2022-10-11T21:15:16.517Z"
   },
   {
    "duration": 16,
    "start_time": "2022-10-11T21:15:16.549Z"
   },
   {
    "duration": 277,
    "start_time": "2022-10-11T21:15:16.567Z"
   },
   {
    "duration": 324,
    "start_time": "2022-10-11T21:15:16.845Z"
   },
   {
    "duration": 243,
    "start_time": "2022-10-11T21:15:17.171Z"
   },
   {
    "duration": 246,
    "start_time": "2022-10-11T21:15:17.415Z"
   },
   {
    "duration": 190,
    "start_time": "2022-10-11T21:15:17.663Z"
   },
   {
    "duration": 250,
    "start_time": "2022-10-11T21:15:17.854Z"
   },
   {
    "duration": 304,
    "start_time": "2022-10-11T21:15:18.106Z"
   },
   {
    "duration": 215,
    "start_time": "2022-10-11T21:15:18.411Z"
   },
   {
    "duration": 222,
    "start_time": "2022-10-11T21:15:18.627Z"
   },
   {
    "duration": 220,
    "start_time": "2022-10-11T21:15:18.850Z"
   },
   {
    "duration": 212,
    "start_time": "2022-10-11T21:15:19.072Z"
   },
   {
    "duration": 236,
    "start_time": "2022-10-11T21:15:19.286Z"
   },
   {
    "duration": 239,
    "start_time": "2022-10-11T21:15:19.524Z"
   },
   {
    "duration": 154,
    "start_time": "2022-10-11T21:15:19.764Z"
   },
   {
    "duration": 157,
    "start_time": "2022-10-11T21:15:19.921Z"
   },
   {
    "duration": 9,
    "start_time": "2022-10-11T21:15:20.080Z"
   },
   {
    "duration": 14,
    "start_time": "2022-10-11T21:15:20.101Z"
   },
   {
    "duration": 8,
    "start_time": "2022-10-11T21:15:20.117Z"
   },
   {
    "duration": 9,
    "start_time": "2022-10-11T21:15:20.127Z"
   },
   {
    "duration": 132,
    "start_time": "2022-10-11T21:15:20.137Z"
   },
   {
    "duration": 10,
    "start_time": "2022-10-11T21:15:20.271Z"
   },
   {
    "duration": 229,
    "start_time": "2022-10-11T21:15:20.283Z"
   },
   {
    "duration": 4,
    "start_time": "2022-10-11T21:15:20.514Z"
   },
   {
    "duration": 251,
    "start_time": "2022-10-11T21:15:20.519Z"
   },
   {
    "duration": 5,
    "start_time": "2022-10-11T21:15:20.771Z"
   },
   {
    "duration": 239,
    "start_time": "2022-10-11T21:15:20.778Z"
   },
   {
    "duration": 5,
    "start_time": "2022-10-11T21:15:21.019Z"
   },
   {
    "duration": 174,
    "start_time": "2022-10-11T21:15:21.026Z"
   },
   {
    "duration": 6,
    "start_time": "2022-10-11T21:15:21.202Z"
   },
   {
    "duration": 120,
    "start_time": "2022-10-11T21:15:21.209Z"
   },
   {
    "duration": 5,
    "start_time": "2022-10-11T21:15:21.331Z"
   },
   {
    "duration": 138,
    "start_time": "2022-10-11T21:15:21.337Z"
   },
   {
    "duration": 133,
    "start_time": "2022-10-11T21:15:21.477Z"
   },
   {
    "duration": 117,
    "start_time": "2022-10-11T21:15:21.611Z"
   },
   {
    "duration": 119,
    "start_time": "2022-10-11T21:15:21.730Z"
   },
   {
    "duration": 18,
    "start_time": "2022-10-11T21:15:21.850Z"
   },
   {
    "duration": 3,
    "start_time": "2022-10-11T21:15:21.870Z"
   },
   {
    "duration": 7,
    "start_time": "2022-10-11T21:15:21.874Z"
   },
   {
    "duration": 45,
    "start_time": "2022-10-11T21:15:21.882Z"
   },
   {
    "duration": 168,
    "start_time": "2022-10-11T21:15:21.929Z"
   },
   {
    "duration": 13,
    "start_time": "2022-10-11T21:16:18.104Z"
   },
   {
    "duration": 67,
    "start_time": "2022-10-11T21:17:47.048Z"
   },
   {
    "duration": 115,
    "start_time": "2022-10-11T21:18:08.761Z"
   },
   {
    "duration": 103,
    "start_time": "2022-10-11T21:18:20.189Z"
   },
   {
    "duration": 102,
    "start_time": "2022-10-11T21:18:25.030Z"
   },
   {
    "duration": 220,
    "start_time": "2022-10-11T21:18:28.819Z"
   },
   {
    "duration": 103,
    "start_time": "2022-10-11T21:18:33.015Z"
   },
   {
    "duration": 6,
    "start_time": "2022-10-11T21:18:55.442Z"
   },
   {
    "duration": 1239,
    "start_time": "2022-10-12T04:56:28.997Z"
   },
   {
    "duration": 17,
    "start_time": "2022-10-12T04:56:30.238Z"
   },
   {
    "duration": 2217,
    "start_time": "2022-10-12T04:56:30.256Z"
   },
   {
    "duration": 73,
    "start_time": "2022-10-12T04:56:32.475Z"
   },
   {
    "duration": 52,
    "start_time": "2022-10-12T04:56:32.551Z"
   },
   {
    "duration": 1209,
    "start_time": "2022-10-12T04:56:32.604Z"
   },
   {
    "duration": 4,
    "start_time": "2022-10-12T04:56:33.814Z"
   },
   {
    "duration": 6,
    "start_time": "2022-10-12T04:56:33.820Z"
   },
   {
    "duration": 7,
    "start_time": "2022-10-12T04:56:33.828Z"
   },
   {
    "duration": 19,
    "start_time": "2022-10-12T04:56:33.837Z"
   },
   {
    "duration": 7,
    "start_time": "2022-10-12T04:56:33.857Z"
   },
   {
    "duration": 12,
    "start_time": "2022-10-12T04:56:33.865Z"
   },
   {
    "duration": 1240,
    "start_time": "2022-10-12T04:56:33.879Z"
   },
   {
    "duration": 8,
    "start_time": "2022-10-12T04:56:35.123Z"
   },
   {
    "duration": 22,
    "start_time": "2022-10-12T04:56:35.132Z"
   },
   {
    "duration": 7,
    "start_time": "2022-10-12T04:56:35.156Z"
   },
   {
    "duration": 6,
    "start_time": "2022-10-12T04:56:35.164Z"
   },
   {
    "duration": 44,
    "start_time": "2022-10-12T04:56:35.172Z"
   },
   {
    "duration": 8,
    "start_time": "2022-10-12T04:56:35.218Z"
   },
   {
    "duration": 30,
    "start_time": "2022-10-12T04:56:35.228Z"
   },
   {
    "duration": 5,
    "start_time": "2022-10-12T04:56:35.260Z"
   },
   {
    "duration": 7,
    "start_time": "2022-10-12T04:56:35.267Z"
   },
   {
    "duration": 16,
    "start_time": "2022-10-12T04:56:35.276Z"
   },
   {
    "duration": 3,
    "start_time": "2022-10-12T04:56:35.294Z"
   },
   {
    "duration": 15,
    "start_time": "2022-10-12T04:56:35.299Z"
   },
   {
    "duration": 16,
    "start_time": "2022-10-12T04:56:35.316Z"
   },
   {
    "duration": 33,
    "start_time": "2022-10-12T04:56:35.334Z"
   },
   {
    "duration": 21,
    "start_time": "2022-10-12T04:56:35.369Z"
   },
   {
    "duration": 7,
    "start_time": "2022-10-12T04:56:35.391Z"
   },
   {
    "duration": 695,
    "start_time": "2022-10-12T04:56:35.400Z"
   },
   {
    "duration": 132,
    "start_time": "2022-10-12T04:56:36.096Z"
   },
   {
    "duration": 82,
    "start_time": "2022-10-12T04:56:36.230Z"
   },
   {
    "duration": 86,
    "start_time": "2022-10-12T04:56:36.314Z"
   },
   {
    "duration": 222,
    "start_time": "2022-10-12T04:56:36.402Z"
   },
   {
    "duration": 35,
    "start_time": "2022-10-12T04:56:36.626Z"
   },
   {
    "duration": 6,
    "start_time": "2022-10-12T04:56:36.663Z"
   },
   {
    "duration": 47,
    "start_time": "2022-10-12T04:56:36.671Z"
   },
   {
    "duration": 18,
    "start_time": "2022-10-12T04:56:36.720Z"
   },
   {
    "duration": 378,
    "start_time": "2022-10-12T04:56:36.739Z"
   },
   {
    "duration": 274,
    "start_time": "2022-10-12T04:56:37.119Z"
   },
   {
    "duration": 260,
    "start_time": "2022-10-12T04:56:37.399Z"
   },
   {
    "duration": 261,
    "start_time": "2022-10-12T04:56:37.661Z"
   },
   {
    "duration": 198,
    "start_time": "2022-10-12T04:56:37.924Z"
   },
   {
    "duration": 297,
    "start_time": "2022-10-12T04:56:38.123Z"
   },
   {
    "duration": 354,
    "start_time": "2022-10-12T04:56:38.422Z"
   },
   {
    "duration": 233,
    "start_time": "2022-10-12T04:56:38.778Z"
   },
   {
    "duration": 243,
    "start_time": "2022-10-12T04:56:39.013Z"
   },
   {
    "duration": 263,
    "start_time": "2022-10-12T04:56:39.257Z"
   },
   {
    "duration": 252,
    "start_time": "2022-10-12T04:56:39.522Z"
   },
   {
    "duration": 265,
    "start_time": "2022-10-12T04:56:39.776Z"
   },
   {
    "duration": 275,
    "start_time": "2022-10-12T04:56:40.043Z"
   },
   {
    "duration": 162,
    "start_time": "2022-10-12T04:56:40.320Z"
   },
   {
    "duration": 156,
    "start_time": "2022-10-12T04:56:40.483Z"
   },
   {
    "duration": 19,
    "start_time": "2022-10-12T04:56:40.641Z"
   },
   {
    "duration": 16,
    "start_time": "2022-10-12T04:56:40.662Z"
   },
   {
    "duration": 10,
    "start_time": "2022-10-12T04:56:40.680Z"
   },
   {
    "duration": 28,
    "start_time": "2022-10-12T04:56:40.691Z"
   },
   {
    "duration": 129,
    "start_time": "2022-10-12T04:56:40.721Z"
   },
   {
    "duration": 12,
    "start_time": "2022-10-12T04:56:40.854Z"
   },
   {
    "duration": 261,
    "start_time": "2022-10-12T04:56:40.868Z"
   },
   {
    "duration": 6,
    "start_time": "2022-10-12T04:56:41.131Z"
   },
   {
    "duration": 284,
    "start_time": "2022-10-12T04:56:41.153Z"
   },
   {
    "duration": 18,
    "start_time": "2022-10-12T04:56:41.439Z"
   },
   {
    "duration": 332,
    "start_time": "2022-10-12T04:56:41.459Z"
   },
   {
    "duration": 5,
    "start_time": "2022-10-12T04:56:41.793Z"
   },
   {
    "duration": 182,
    "start_time": "2022-10-12T04:56:41.800Z"
   },
   {
    "duration": 5,
    "start_time": "2022-10-12T04:56:41.984Z"
   },
   {
    "duration": 116,
    "start_time": "2022-10-12T04:56:41.990Z"
   },
   {
    "duration": 5,
    "start_time": "2022-10-12T04:56:42.108Z"
   },
   {
    "duration": 146,
    "start_time": "2022-10-12T04:56:42.114Z"
   },
   {
    "duration": 147,
    "start_time": "2022-10-12T04:56:42.262Z"
   },
   {
    "duration": 135,
    "start_time": "2022-10-12T04:56:42.411Z"
   },
   {
    "duration": 134,
    "start_time": "2022-10-12T04:56:42.554Z"
   },
   {
    "duration": 22,
    "start_time": "2022-10-12T04:56:42.690Z"
   },
   {
    "duration": 4,
    "start_time": "2022-10-12T04:56:42.715Z"
   },
   {
    "duration": 11,
    "start_time": "2022-10-12T04:56:42.721Z"
   },
   {
    "duration": 48,
    "start_time": "2022-10-12T04:56:42.734Z"
   },
   {
    "duration": 182,
    "start_time": "2022-10-12T04:56:42.784Z"
   },
   {
    "duration": 1200,
    "start_time": "2022-10-12T07:28:59.825Z"
   },
   {
    "duration": 16,
    "start_time": "2022-10-12T07:29:01.027Z"
   },
   {
    "duration": 1956,
    "start_time": "2022-10-12T07:29:01.045Z"
   },
   {
    "duration": 75,
    "start_time": "2022-10-12T07:29:03.003Z"
   },
   {
    "duration": 71,
    "start_time": "2022-10-12T07:29:03.080Z"
   },
   {
    "duration": 1331,
    "start_time": "2022-10-12T07:29:03.154Z"
   },
   {
    "duration": 4,
    "start_time": "2022-10-12T07:29:04.487Z"
   },
   {
    "duration": 22,
    "start_time": "2022-10-12T07:29:04.493Z"
   },
   {
    "duration": 47,
    "start_time": "2022-10-12T07:29:04.517Z"
   },
   {
    "duration": 27,
    "start_time": "2022-10-12T07:29:04.567Z"
   },
   {
    "duration": 29,
    "start_time": "2022-10-12T07:29:04.596Z"
   },
   {
    "duration": 25,
    "start_time": "2022-10-12T07:29:04.627Z"
   },
   {
    "duration": 1296,
    "start_time": "2022-10-12T07:29:04.654Z"
   },
   {
    "duration": 8,
    "start_time": "2022-10-12T07:29:05.951Z"
   },
   {
    "duration": 7,
    "start_time": "2022-10-12T07:29:05.960Z"
   },
   {
    "duration": 8,
    "start_time": "2022-10-12T07:29:05.969Z"
   },
   {
    "duration": 16,
    "start_time": "2022-10-12T07:29:05.979Z"
   },
   {
    "duration": 44,
    "start_time": "2022-10-12T07:29:05.997Z"
   },
   {
    "duration": 7,
    "start_time": "2022-10-12T07:29:06.043Z"
   },
   {
    "duration": 6,
    "start_time": "2022-10-12T07:29:06.051Z"
   },
   {
    "duration": 4,
    "start_time": "2022-10-12T07:29:06.059Z"
   },
   {
    "duration": 9,
    "start_time": "2022-10-12T07:29:06.065Z"
   },
   {
    "duration": 15,
    "start_time": "2022-10-12T07:29:06.075Z"
   },
   {
    "duration": 4,
    "start_time": "2022-10-12T07:29:06.092Z"
   },
   {
    "duration": 36,
    "start_time": "2022-10-12T07:29:06.098Z"
   },
   {
    "duration": 17,
    "start_time": "2022-10-12T07:29:06.136Z"
   },
   {
    "duration": 19,
    "start_time": "2022-10-12T07:29:06.156Z"
   },
   {
    "duration": 52,
    "start_time": "2022-10-12T07:29:06.181Z"
   },
   {
    "duration": 23,
    "start_time": "2022-10-12T07:29:06.236Z"
   },
   {
    "duration": 760,
    "start_time": "2022-10-12T07:29:06.261Z"
   },
   {
    "duration": 139,
    "start_time": "2022-10-12T07:29:07.023Z"
   },
   {
    "duration": 87,
    "start_time": "2022-10-12T07:29:07.164Z"
   },
   {
    "duration": 73,
    "start_time": "2022-10-12T07:29:07.253Z"
   },
   {
    "duration": 228,
    "start_time": "2022-10-12T07:29:07.334Z"
   },
   {
    "duration": 19,
    "start_time": "2022-10-12T07:29:07.564Z"
   },
   {
    "duration": 4,
    "start_time": "2022-10-12T07:29:07.585Z"
   },
   {
    "duration": 27,
    "start_time": "2022-10-12T07:29:07.591Z"
   },
   {
    "duration": 28,
    "start_time": "2022-10-12T07:29:07.620Z"
   },
   {
    "duration": 339,
    "start_time": "2022-10-12T07:29:07.650Z"
   },
   {
    "duration": 273,
    "start_time": "2022-10-12T07:29:07.992Z"
   },
   {
    "duration": 254,
    "start_time": "2022-10-12T07:29:08.267Z"
   },
   {
    "duration": 264,
    "start_time": "2022-10-12T07:29:08.523Z"
   },
   {
    "duration": 228,
    "start_time": "2022-10-12T07:29:08.790Z"
   },
   {
    "duration": 263,
    "start_time": "2022-10-12T07:29:09.020Z"
   },
   {
    "duration": 321,
    "start_time": "2022-10-12T07:29:09.284Z"
   },
   {
    "duration": 269,
    "start_time": "2022-10-12T07:29:09.607Z"
   },
   {
    "duration": 251,
    "start_time": "2022-10-12T07:29:09.878Z"
   },
   {
    "duration": 288,
    "start_time": "2022-10-12T07:29:10.134Z"
   },
   {
    "duration": 242,
    "start_time": "2022-10-12T07:29:10.424Z"
   },
   {
    "duration": 275,
    "start_time": "2022-10-12T07:29:10.667Z"
   },
   {
    "duration": 238,
    "start_time": "2022-10-12T07:29:10.944Z"
   },
   {
    "duration": 158,
    "start_time": "2022-10-12T07:29:11.184Z"
   },
   {
    "duration": 173,
    "start_time": "2022-10-12T07:29:11.343Z"
   },
   {
    "duration": 16,
    "start_time": "2022-10-12T07:29:11.518Z"
   },
   {
    "duration": 15,
    "start_time": "2022-10-12T07:29:11.536Z"
   },
   {
    "duration": 9,
    "start_time": "2022-10-12T07:29:11.553Z"
   },
   {
    "duration": 10,
    "start_time": "2022-10-12T07:29:11.564Z"
   },
   {
    "duration": 158,
    "start_time": "2022-10-12T07:29:11.576Z"
   },
   {
    "duration": 14,
    "start_time": "2022-10-12T07:29:11.736Z"
   },
   {
    "duration": 271,
    "start_time": "2022-10-12T07:29:11.752Z"
   },
   {
    "duration": 11,
    "start_time": "2022-10-12T07:29:12.025Z"
   },
   {
    "duration": 288,
    "start_time": "2022-10-12T07:29:12.038Z"
   },
   {
    "duration": 6,
    "start_time": "2022-10-12T07:29:12.333Z"
   },
   {
    "duration": 283,
    "start_time": "2022-10-12T07:29:12.341Z"
   },
   {
    "duration": 10,
    "start_time": "2022-10-12T07:29:12.626Z"
   },
   {
    "duration": 186,
    "start_time": "2022-10-12T07:29:12.638Z"
   },
   {
    "duration": 8,
    "start_time": "2022-10-12T07:29:12.826Z"
   },
   {
    "duration": 123,
    "start_time": "2022-10-12T07:29:12.836Z"
   },
   {
    "duration": 6,
    "start_time": "2022-10-12T07:29:12.961Z"
   },
   {
    "duration": 144,
    "start_time": "2022-10-12T07:29:12.968Z"
   },
   {
    "duration": 146,
    "start_time": "2022-10-12T07:29:13.114Z"
   },
   {
    "duration": 149,
    "start_time": "2022-10-12T07:29:13.262Z"
   },
   {
    "duration": 142,
    "start_time": "2022-10-12T07:29:13.412Z"
   },
   {
    "duration": 157,
    "start_time": "2022-10-12T07:29:13.556Z"
   },
   {
    "duration": 102,
    "start_time": "2022-10-12T07:29:13.715Z"
   },
   {
    "duration": 0,
    "start_time": "2022-10-12T07:29:13.819Z"
   },
   {
    "duration": 0,
    "start_time": "2022-10-12T07:29:13.820Z"
   },
   {
    "duration": 0,
    "start_time": "2022-10-12T07:29:13.822Z"
   },
   {
    "duration": 0,
    "start_time": "2022-10-12T07:29:13.822Z"
   },
   {
    "duration": 0,
    "start_time": "2022-10-12T07:29:13.824Z"
   },
   {
    "duration": 112,
    "start_time": "2022-10-12T07:30:43.989Z"
   },
   {
    "duration": 807,
    "start_time": "2022-10-12T07:31:07.907Z"
   },
   {
    "duration": 26,
    "start_time": "2022-10-12T07:31:08.717Z"
   },
   {
    "duration": 1976,
    "start_time": "2022-10-12T07:31:08.745Z"
   },
   {
    "duration": 75,
    "start_time": "2022-10-12T07:31:10.723Z"
   },
   {
    "duration": 54,
    "start_time": "2022-10-12T07:31:10.800Z"
   },
   {
    "duration": 1305,
    "start_time": "2022-10-12T07:31:10.856Z"
   },
   {
    "duration": 4,
    "start_time": "2022-10-12T07:31:12.163Z"
   },
   {
    "duration": 20,
    "start_time": "2022-10-12T07:31:12.170Z"
   },
   {
    "duration": 18,
    "start_time": "2022-10-12T07:31:12.192Z"
   },
   {
    "duration": 14,
    "start_time": "2022-10-12T07:31:12.213Z"
   },
   {
    "duration": 7,
    "start_time": "2022-10-12T07:31:12.229Z"
   },
   {
    "duration": 17,
    "start_time": "2022-10-12T07:31:12.238Z"
   },
   {
    "duration": 1209,
    "start_time": "2022-10-12T07:31:12.257Z"
   },
   {
    "duration": 7,
    "start_time": "2022-10-12T07:31:13.468Z"
   },
   {
    "duration": 8,
    "start_time": "2022-10-12T07:31:13.476Z"
   },
   {
    "duration": 8,
    "start_time": "2022-10-12T07:31:13.486Z"
   },
   {
    "duration": 9,
    "start_time": "2022-10-12T07:31:13.496Z"
   },
   {
    "duration": 54,
    "start_time": "2022-10-12T07:31:13.507Z"
   },
   {
    "duration": 8,
    "start_time": "2022-10-12T07:31:13.563Z"
   },
   {
    "duration": 8,
    "start_time": "2022-10-12T07:31:13.572Z"
   },
   {
    "duration": 11,
    "start_time": "2022-10-12T07:31:13.581Z"
   },
   {
    "duration": 10,
    "start_time": "2022-10-12T07:31:13.594Z"
   },
   {
    "duration": 28,
    "start_time": "2022-10-12T07:31:13.606Z"
   },
   {
    "duration": 3,
    "start_time": "2022-10-12T07:31:13.636Z"
   },
   {
    "duration": 12,
    "start_time": "2022-10-12T07:31:13.640Z"
   },
   {
    "duration": 14,
    "start_time": "2022-10-12T07:31:13.654Z"
   },
   {
    "duration": 12,
    "start_time": "2022-10-12T07:31:13.670Z"
   },
   {
    "duration": 53,
    "start_time": "2022-10-12T07:31:13.685Z"
   },
   {
    "duration": 6,
    "start_time": "2022-10-12T07:31:13.739Z"
   },
   {
    "duration": 699,
    "start_time": "2022-10-12T07:31:13.746Z"
   },
   {
    "duration": 133,
    "start_time": "2022-10-12T07:31:14.447Z"
   },
   {
    "duration": 75,
    "start_time": "2022-10-12T07:31:14.582Z"
   },
   {
    "duration": 67,
    "start_time": "2022-10-12T07:31:14.659Z"
   },
   {
    "duration": 213,
    "start_time": "2022-10-12T07:31:14.734Z"
   },
   {
    "duration": 19,
    "start_time": "2022-10-12T07:31:14.949Z"
   },
   {
    "duration": 4,
    "start_time": "2022-10-12T07:31:14.969Z"
   },
   {
    "duration": 29,
    "start_time": "2022-10-12T07:31:14.974Z"
   },
   {
    "duration": 33,
    "start_time": "2022-10-12T07:31:15.005Z"
   },
   {
    "duration": 334,
    "start_time": "2022-10-12T07:31:15.040Z"
   },
   {
    "duration": 261,
    "start_time": "2022-10-12T07:31:15.375Z"
   },
   {
    "duration": 242,
    "start_time": "2022-10-12T07:31:15.638Z"
   },
   {
    "duration": 243,
    "start_time": "2022-10-12T07:31:15.882Z"
   },
   {
    "duration": 241,
    "start_time": "2022-10-12T07:31:16.126Z"
   },
   {
    "duration": 304,
    "start_time": "2022-10-12T07:31:16.369Z"
   },
   {
    "duration": 302,
    "start_time": "2022-10-12T07:31:16.675Z"
   },
   {
    "duration": 243,
    "start_time": "2022-10-12T07:31:16.979Z"
   },
   {
    "duration": 246,
    "start_time": "2022-10-12T07:31:17.224Z"
   },
   {
    "duration": 258,
    "start_time": "2022-10-12T07:31:17.472Z"
   },
   {
    "duration": 226,
    "start_time": "2022-10-12T07:31:17.734Z"
   },
   {
    "duration": 283,
    "start_time": "2022-10-12T07:31:17.962Z"
   },
   {
    "duration": 235,
    "start_time": "2022-10-12T07:31:18.247Z"
   },
   {
    "duration": 144,
    "start_time": "2022-10-12T07:31:18.484Z"
   },
   {
    "duration": 167,
    "start_time": "2022-10-12T07:31:18.633Z"
   },
   {
    "duration": 11,
    "start_time": "2022-10-12T07:31:18.803Z"
   },
   {
    "duration": 41,
    "start_time": "2022-10-12T07:31:18.816Z"
   },
   {
    "duration": 16,
    "start_time": "2022-10-12T07:31:18.858Z"
   },
   {
    "duration": 20,
    "start_time": "2022-10-12T07:31:18.877Z"
   },
   {
    "duration": 143,
    "start_time": "2022-10-12T07:31:18.900Z"
   },
   {
    "duration": 11,
    "start_time": "2022-10-12T07:31:19.045Z"
   },
   {
    "duration": 269,
    "start_time": "2022-10-12T07:31:19.058Z"
   },
   {
    "duration": 8,
    "start_time": "2022-10-12T07:31:19.329Z"
   },
   {
    "duration": 271,
    "start_time": "2022-10-12T07:31:19.339Z"
   },
   {
    "duration": 7,
    "start_time": "2022-10-12T07:31:19.612Z"
   },
   {
    "duration": 277,
    "start_time": "2022-10-12T07:31:19.620Z"
   },
   {
    "duration": 5,
    "start_time": "2022-10-12T07:31:19.899Z"
   },
   {
    "duration": 177,
    "start_time": "2022-10-12T07:31:19.906Z"
   },
   {
    "duration": 6,
    "start_time": "2022-10-12T07:31:20.085Z"
   },
   {
    "duration": 129,
    "start_time": "2022-10-12T07:31:20.092Z"
   },
   {
    "duration": 5,
    "start_time": "2022-10-12T07:31:20.223Z"
   },
   {
    "duration": 159,
    "start_time": "2022-10-12T07:31:20.229Z"
   },
   {
    "duration": 143,
    "start_time": "2022-10-12T07:31:20.390Z"
   },
   {
    "duration": 163,
    "start_time": "2022-10-12T07:31:20.535Z"
   },
   {
    "duration": 195,
    "start_time": "2022-10-12T07:31:20.700Z"
   },
   {
    "duration": 169,
    "start_time": "2022-10-12T07:31:20.897Z"
   },
   {
    "duration": 144,
    "start_time": "2022-10-12T07:31:21.068Z"
   },
   {
    "duration": 35,
    "start_time": "2022-10-12T07:31:21.214Z"
   },
   {
    "duration": 5,
    "start_time": "2022-10-12T07:31:21.250Z"
   },
   {
    "duration": 9,
    "start_time": "2022-10-12T07:31:21.257Z"
   },
   {
    "duration": 34,
    "start_time": "2022-10-12T07:31:21.267Z"
   },
   {
    "duration": 223,
    "start_time": "2022-10-12T07:31:21.303Z"
   },
   {
    "duration": 91,
    "start_time": "2022-10-12T07:37:19.121Z"
   },
   {
    "duration": 8,
    "start_time": "2022-10-12T07:38:27.363Z"
   },
   {
    "duration": 6,
    "start_time": "2022-10-12T07:40:26.115Z"
   },
   {
    "duration": 6,
    "start_time": "2022-10-12T07:44:53.297Z"
   },
   {
    "duration": 5,
    "start_time": "2022-10-12T07:45:00.753Z"
   },
   {
    "duration": 11,
    "start_time": "2022-10-12T07:45:30.737Z"
   },
   {
    "duration": 8,
    "start_time": "2022-10-12T07:45:52.862Z"
   },
   {
    "duration": 8,
    "start_time": "2022-10-12T07:46:06.005Z"
   },
   {
    "duration": 8,
    "start_time": "2022-10-12T07:46:13.338Z"
   },
   {
    "duration": 7,
    "start_time": "2022-10-12T07:47:54.638Z"
   },
   {
    "duration": 136,
    "start_time": "2022-10-12T07:49:17.052Z"
   },
   {
    "duration": 881,
    "start_time": "2022-10-12T13:05:52.146Z"
   },
   {
    "duration": 17,
    "start_time": "2022-10-12T13:05:53.029Z"
   },
   {
    "duration": 3015,
    "start_time": "2022-10-12T13:05:53.054Z"
   },
   {
    "duration": 128,
    "start_time": "2022-10-12T13:05:56.071Z"
   },
   {
    "duration": 62,
    "start_time": "2022-10-12T13:05:56.202Z"
   },
   {
    "duration": 1323,
    "start_time": "2022-10-12T13:05:56.270Z"
   },
   {
    "duration": 4,
    "start_time": "2022-10-12T13:05:57.595Z"
   },
   {
    "duration": 9,
    "start_time": "2022-10-12T13:05:57.601Z"
   },
   {
    "duration": 15,
    "start_time": "2022-10-12T13:05:57.612Z"
   },
   {
    "duration": 17,
    "start_time": "2022-10-12T13:05:57.629Z"
   },
   {
    "duration": 21,
    "start_time": "2022-10-12T13:05:57.648Z"
   },
   {
    "duration": 21,
    "start_time": "2022-10-12T13:05:57.671Z"
   },
   {
    "duration": 1257,
    "start_time": "2022-10-12T13:05:57.694Z"
   },
   {
    "duration": 8,
    "start_time": "2022-10-12T13:05:58.954Z"
   },
   {
    "duration": 8,
    "start_time": "2022-10-12T13:05:58.963Z"
   },
   {
    "duration": 22,
    "start_time": "2022-10-12T13:05:58.972Z"
   },
   {
    "duration": 13,
    "start_time": "2022-10-12T13:05:58.996Z"
   },
   {
    "duration": 46,
    "start_time": "2022-10-12T13:05:59.011Z"
   },
   {
    "duration": 7,
    "start_time": "2022-10-12T13:05:59.058Z"
   },
   {
    "duration": 14,
    "start_time": "2022-10-12T13:05:59.066Z"
   },
   {
    "duration": 6,
    "start_time": "2022-10-12T13:05:59.081Z"
   },
   {
    "duration": 9,
    "start_time": "2022-10-12T13:05:59.088Z"
   },
   {
    "duration": 16,
    "start_time": "2022-10-12T13:05:59.099Z"
   },
   {
    "duration": 4,
    "start_time": "2022-10-12T13:05:59.117Z"
   },
   {
    "duration": 12,
    "start_time": "2022-10-12T13:05:59.122Z"
   },
   {
    "duration": 31,
    "start_time": "2022-10-12T13:05:59.136Z"
   },
   {
    "duration": 14,
    "start_time": "2022-10-12T13:05:59.168Z"
   },
   {
    "duration": 21,
    "start_time": "2022-10-12T13:05:59.183Z"
   },
   {
    "duration": 686,
    "start_time": "2022-10-12T13:05:59.206Z"
   },
   {
    "duration": 134,
    "start_time": "2022-10-12T13:05:59.894Z"
   },
   {
    "duration": 83,
    "start_time": "2022-10-12T13:06:00.030Z"
   },
   {
    "duration": 101,
    "start_time": "2022-10-12T13:06:00.115Z"
   },
   {
    "duration": 8,
    "start_time": "2022-10-12T13:06:00.218Z"
   },
   {
    "duration": 242,
    "start_time": "2022-10-12T13:06:00.227Z"
   },
   {
    "duration": 23,
    "start_time": "2022-10-12T13:06:00.471Z"
   },
   {
    "duration": 24,
    "start_time": "2022-10-12T13:06:00.497Z"
   },
   {
    "duration": 50,
    "start_time": "2022-10-12T13:06:00.523Z"
   },
   {
    "duration": 35,
    "start_time": "2022-10-12T13:06:00.574Z"
   },
   {
    "duration": 402,
    "start_time": "2022-10-12T13:06:00.611Z"
   },
   {
    "duration": 275,
    "start_time": "2022-10-12T13:06:01.014Z"
   },
   {
    "duration": 304,
    "start_time": "2022-10-12T13:06:01.293Z"
   },
   {
    "duration": 324,
    "start_time": "2022-10-12T13:06:01.598Z"
   },
   {
    "duration": 211,
    "start_time": "2022-10-12T13:06:01.924Z"
   },
   {
    "duration": 276,
    "start_time": "2022-10-12T13:06:02.136Z"
   },
   {
    "duration": 369,
    "start_time": "2022-10-12T13:06:02.414Z"
   },
   {
    "duration": 256,
    "start_time": "2022-10-12T13:06:02.785Z"
   },
   {
    "duration": 305,
    "start_time": "2022-10-12T13:06:03.042Z"
   },
   {
    "duration": 294,
    "start_time": "2022-10-12T13:06:03.348Z"
   },
   {
    "duration": 269,
    "start_time": "2022-10-12T13:06:03.644Z"
   },
   {
    "duration": 290,
    "start_time": "2022-10-12T13:06:03.915Z"
   },
   {
    "duration": 280,
    "start_time": "2022-10-12T13:06:04.207Z"
   },
   {
    "duration": 172,
    "start_time": "2022-10-12T13:06:04.489Z"
   },
   {
    "duration": 171,
    "start_time": "2022-10-12T13:06:04.663Z"
   },
   {
    "duration": 20,
    "start_time": "2022-10-12T13:06:04.837Z"
   },
   {
    "duration": 17,
    "start_time": "2022-10-12T13:06:04.858Z"
   },
   {
    "duration": 11,
    "start_time": "2022-10-12T13:06:04.877Z"
   },
   {
    "duration": 10,
    "start_time": "2022-10-12T13:06:04.889Z"
   },
   {
    "duration": 144,
    "start_time": "2022-10-12T13:06:04.901Z"
   },
   {
    "duration": 16,
    "start_time": "2022-10-12T13:06:05.047Z"
   },
   {
    "duration": 306,
    "start_time": "2022-10-12T13:06:05.065Z"
   },
   {
    "duration": 6,
    "start_time": "2022-10-12T13:06:05.373Z"
   },
   {
    "duration": 313,
    "start_time": "2022-10-12T13:06:05.380Z"
   },
   {
    "duration": 6,
    "start_time": "2022-10-12T13:06:05.695Z"
   },
   {
    "duration": 291,
    "start_time": "2022-10-12T13:06:05.703Z"
   },
   {
    "duration": 7,
    "start_time": "2022-10-12T13:06:05.996Z"
   },
   {
    "duration": 213,
    "start_time": "2022-10-12T13:06:06.005Z"
   },
   {
    "duration": 6,
    "start_time": "2022-10-12T13:06:06.219Z"
   },
   {
    "duration": 168,
    "start_time": "2022-10-12T13:06:06.226Z"
   },
   {
    "duration": 8,
    "start_time": "2022-10-12T13:06:06.396Z"
   },
   {
    "duration": 201,
    "start_time": "2022-10-12T13:06:06.406Z"
   },
   {
    "duration": 164,
    "start_time": "2022-10-12T13:06:06.609Z"
   },
   {
    "duration": 155,
    "start_time": "2022-10-12T13:06:06.774Z"
   },
   {
    "duration": 136,
    "start_time": "2022-10-12T13:06:06.931Z"
   },
   {
    "duration": 170,
    "start_time": "2022-10-12T13:06:07.069Z"
   },
   {
    "duration": 148,
    "start_time": "2022-10-12T13:06:07.241Z"
   },
   {
    "duration": 24,
    "start_time": "2022-10-12T13:06:07.391Z"
   },
   {
    "duration": 5,
    "start_time": "2022-10-12T13:06:07.417Z"
   },
   {
    "duration": 13,
    "start_time": "2022-10-12T13:06:07.423Z"
   },
   {
    "duration": 67,
    "start_time": "2022-10-12T13:06:07.438Z"
   },
   {
    "duration": 187,
    "start_time": "2022-10-12T13:06:07.507Z"
   }
  ],
  "kernelspec": {
   "display_name": "Python 3 (ipykernel)",
   "language": "python",
   "name": "python3"
  },
  "language_info": {
   "codemirror_mode": {
    "name": "ipython",
    "version": 3
   },
   "file_extension": ".py",
   "mimetype": "text/x-python",
   "name": "python",
   "nbconvert_exporter": "python",
   "pygments_lexer": "ipython3",
   "version": "3.9.12"
  },
  "toc": {
   "base_numbering": 1,
   "nav_menu": {},
   "number_sections": true,
   "sideBar": true,
   "skip_h1_title": true,
   "title_cell": "Table of Contents",
   "title_sidebar": "Contents",
   "toc_cell": false,
   "toc_position": {
    "height": "calc(100% - 180px)",
    "left": "10px",
    "top": "150px",
    "width": "323.556px"
   },
   "toc_section_display": true,
   "toc_window_display": true
  }
 },
 "nbformat": 4,
 "nbformat_minor": 2
}
