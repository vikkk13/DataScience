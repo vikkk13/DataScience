{
 "cells": [
  {
   "cell_type": "markdown",
   "metadata": {
    "toc": true
   },
   "source": [
    "<h1>Содержание<span class=\"tocSkip\"></span></h1>\n",
    "<div class=\"toc\"><ul class=\"toc-item\"><li><span><a href=\"#Подготовка-данных\" data-toc-modified-id=\"Подготовка-данных-1\"><span class=\"toc-item-num\">1&nbsp;&nbsp;</span>Подготовка данных</a></span></li><li><span><a href=\"#Анализ-данных\" data-toc-modified-id=\"Анализ-данных-2\"><span class=\"toc-item-num\">2&nbsp;&nbsp;</span>Анализ данных</a></span></li><li><span><a href=\"#Модель\" data-toc-modified-id=\"Модель-3\"><span class=\"toc-item-num\">3&nbsp;&nbsp;</span>Модель</a></span></li></ul></div>"
   ]
  },
  {
   "cell_type": "markdown",
   "metadata": {},
   "source": [
    "# Восстановление золота из руды"
   ]
  },
  {
   "cell_type": "markdown",
   "metadata": {},
   "source": [
    "Подготовьте прототип модели машинного обучения для «Цифры». Компания разрабатывает решения для эффективной работы промышленных предприятий.\n",
    "\n",
    "Модель должна предсказать коэффициент восстановления золота из золотосодержащей руды. Используйте данные с параметрами добычи и очистки. \n",
    "\n",
    "Модель поможет оптимизировать производство, чтобы не запускать предприятие с убыточными характеристиками.\n",
    "\n",
    "Вам нужно:\n",
    "\n",
    "1. Подготовить данные;\n",
    "2. Провести исследовательский анализ данных;\n",
    "3. Построить и обучить модель.\n",
    "\n",
    "Чтобы выполнить проект, обращайтесь к библиотекам *pandas*, *matplotlib* и *sklearn.* Вам поможет их документация."
   ]
  },
  {
   "cell_type": "markdown",
   "metadata": {},
   "source": [
    "## Подготовка данных"
   ]
  },
  {
   "cell_type": "code",
   "execution_count": 1,
   "metadata": {},
   "outputs": [],
   "source": [
    "import pandas as pd\n",
    "import numpy as np\n",
    "import seaborn as sns\n",
    "import matplotlib.pyplot as plt\n",
    "from sklearn.model_selection import train_test_split, cross_val_score\n",
    "from sklearn.tree import DecisionTreeRegressor\n",
    "from sklearn.ensemble import RandomForestRegressor\n",
    "from sklearn.linear_model import LinearRegression\n",
    "from numpy.random import RandomState\n",
    "from sklearn.metrics import make_scorer, mean_absolute_error\n",
    "from sklearn.dummy import DummyRegressor\n",
    "import os"
   ]
  },
  {
   "cell_type": "markdown",
   "metadata": {},
   "source": [
    "Подгрузили все необходимые библиотеки и инструменты"
   ]
  },
  {
   "cell_type": "code",
   "execution_count": 2,
   "metadata": {},
   "outputs": [],
   "source": [
    "train_df = pd.read_csv('/datasets/gold_recovery_train_new.csv')\n",
    "test_df = pd.read_csv('/datasets/gold_recovery_test_new.csv')\n",
    "full_df = pd.read_csv('/datasets/gold_recovery_full_new.csv')\n"
   ]
  },
  {
   "cell_type": "markdown",
   "metadata": {},
   "source": [
    "Загрузили данные"
   ]
  },
  {
   "cell_type": "code",
   "execution_count": 3,
   "metadata": {},
   "outputs": [
    {
     "data": {
      "text/html": [
       "<div>\n",
       "<style scoped>\n",
       "    .dataframe tbody tr th:only-of-type {\n",
       "        vertical-align: middle;\n",
       "    }\n",
       "\n",
       "    .dataframe tbody tr th {\n",
       "        vertical-align: top;\n",
       "    }\n",
       "\n",
       "    .dataframe thead th {\n",
       "        text-align: right;\n",
       "    }\n",
       "</style>\n",
       "<table border=\"1\" class=\"dataframe\">\n",
       "  <thead>\n",
       "    <tr style=\"text-align: right;\">\n",
       "      <th></th>\n",
       "      <th>date</th>\n",
       "      <th>final.output.concentrate_ag</th>\n",
       "      <th>final.output.concentrate_pb</th>\n",
       "      <th>final.output.concentrate_sol</th>\n",
       "      <th>final.output.concentrate_au</th>\n",
       "      <th>final.output.recovery</th>\n",
       "      <th>final.output.tail_ag</th>\n",
       "      <th>final.output.tail_pb</th>\n",
       "      <th>final.output.tail_sol</th>\n",
       "      <th>final.output.tail_au</th>\n",
       "      <th>...</th>\n",
       "      <th>secondary_cleaner.state.floatbank4_a_air</th>\n",
       "      <th>secondary_cleaner.state.floatbank4_a_level</th>\n",
       "      <th>secondary_cleaner.state.floatbank4_b_air</th>\n",
       "      <th>secondary_cleaner.state.floatbank4_b_level</th>\n",
       "      <th>secondary_cleaner.state.floatbank5_a_air</th>\n",
       "      <th>secondary_cleaner.state.floatbank5_a_level</th>\n",
       "      <th>secondary_cleaner.state.floatbank5_b_air</th>\n",
       "      <th>secondary_cleaner.state.floatbank5_b_level</th>\n",
       "      <th>secondary_cleaner.state.floatbank6_a_air</th>\n",
       "      <th>secondary_cleaner.state.floatbank6_a_level</th>\n",
       "    </tr>\n",
       "  </thead>\n",
       "  <tbody>\n",
       "    <tr>\n",
       "      <th>0</th>\n",
       "      <td>2016-01-15 00:00:00</td>\n",
       "      <td>6.055403</td>\n",
       "      <td>9.889648</td>\n",
       "      <td>5.507324</td>\n",
       "      <td>42.192020</td>\n",
       "      <td>70.541216</td>\n",
       "      <td>10.411962</td>\n",
       "      <td>0.895447</td>\n",
       "      <td>16.904297</td>\n",
       "      <td>2.143149</td>\n",
       "      <td>...</td>\n",
       "      <td>14.016835</td>\n",
       "      <td>-502.488007</td>\n",
       "      <td>12.099931</td>\n",
       "      <td>-504.715942</td>\n",
       "      <td>9.925633</td>\n",
       "      <td>-498.310211</td>\n",
       "      <td>8.079666</td>\n",
       "      <td>-500.470978</td>\n",
       "      <td>14.151341</td>\n",
       "      <td>-605.841980</td>\n",
       "    </tr>\n",
       "    <tr>\n",
       "      <th>1</th>\n",
       "      <td>2016-01-15 01:00:00</td>\n",
       "      <td>6.029369</td>\n",
       "      <td>9.968944</td>\n",
       "      <td>5.257781</td>\n",
       "      <td>42.701629</td>\n",
       "      <td>69.266198</td>\n",
       "      <td>10.462676</td>\n",
       "      <td>0.927452</td>\n",
       "      <td>16.634514</td>\n",
       "      <td>2.224930</td>\n",
       "      <td>...</td>\n",
       "      <td>13.992281</td>\n",
       "      <td>-505.503262</td>\n",
       "      <td>11.950531</td>\n",
       "      <td>-501.331529</td>\n",
       "      <td>10.039245</td>\n",
       "      <td>-500.169983</td>\n",
       "      <td>7.984757</td>\n",
       "      <td>-500.582168</td>\n",
       "      <td>13.998353</td>\n",
       "      <td>-599.787184</td>\n",
       "    </tr>\n",
       "    <tr>\n",
       "      <th>2</th>\n",
       "      <td>2016-01-15 02:00:00</td>\n",
       "      <td>6.055926</td>\n",
       "      <td>10.213995</td>\n",
       "      <td>5.383759</td>\n",
       "      <td>42.657501</td>\n",
       "      <td>68.116445</td>\n",
       "      <td>10.507046</td>\n",
       "      <td>0.953716</td>\n",
       "      <td>16.208849</td>\n",
       "      <td>2.257889</td>\n",
       "      <td>...</td>\n",
       "      <td>14.015015</td>\n",
       "      <td>-502.520901</td>\n",
       "      <td>11.912783</td>\n",
       "      <td>-501.133383</td>\n",
       "      <td>10.070913</td>\n",
       "      <td>-500.129135</td>\n",
       "      <td>8.013877</td>\n",
       "      <td>-500.517572</td>\n",
       "      <td>14.028663</td>\n",
       "      <td>-601.427363</td>\n",
       "    </tr>\n",
       "    <tr>\n",
       "      <th>3</th>\n",
       "      <td>2016-01-15 03:00:00</td>\n",
       "      <td>6.047977</td>\n",
       "      <td>9.977019</td>\n",
       "      <td>4.858634</td>\n",
       "      <td>42.689819</td>\n",
       "      <td>68.347543</td>\n",
       "      <td>10.422762</td>\n",
       "      <td>0.883763</td>\n",
       "      <td>16.532835</td>\n",
       "      <td>2.146849</td>\n",
       "      <td>...</td>\n",
       "      <td>14.036510</td>\n",
       "      <td>-500.857308</td>\n",
       "      <td>11.999550</td>\n",
       "      <td>-501.193686</td>\n",
       "      <td>9.970366</td>\n",
       "      <td>-499.201640</td>\n",
       "      <td>7.977324</td>\n",
       "      <td>-500.255908</td>\n",
       "      <td>14.005551</td>\n",
       "      <td>-599.996129</td>\n",
       "    </tr>\n",
       "    <tr>\n",
       "      <th>4</th>\n",
       "      <td>2016-01-15 04:00:00</td>\n",
       "      <td>6.148599</td>\n",
       "      <td>10.142511</td>\n",
       "      <td>4.939416</td>\n",
       "      <td>42.774141</td>\n",
       "      <td>66.927016</td>\n",
       "      <td>10.360302</td>\n",
       "      <td>0.792826</td>\n",
       "      <td>16.525686</td>\n",
       "      <td>2.055292</td>\n",
       "      <td>...</td>\n",
       "      <td>14.027298</td>\n",
       "      <td>-499.838632</td>\n",
       "      <td>11.953070</td>\n",
       "      <td>-501.053894</td>\n",
       "      <td>9.925709</td>\n",
       "      <td>-501.686727</td>\n",
       "      <td>7.894242</td>\n",
       "      <td>-500.356035</td>\n",
       "      <td>13.996647</td>\n",
       "      <td>-601.496691</td>\n",
       "    </tr>\n",
       "  </tbody>\n",
       "</table>\n",
       "<p>5 rows × 87 columns</p>\n",
       "</div>"
      ],
      "text/plain": [
       "                  date  final.output.concentrate_ag  \\\n",
       "0  2016-01-15 00:00:00                     6.055403   \n",
       "1  2016-01-15 01:00:00                     6.029369   \n",
       "2  2016-01-15 02:00:00                     6.055926   \n",
       "3  2016-01-15 03:00:00                     6.047977   \n",
       "4  2016-01-15 04:00:00                     6.148599   \n",
       "\n",
       "   final.output.concentrate_pb  final.output.concentrate_sol  \\\n",
       "0                     9.889648                      5.507324   \n",
       "1                     9.968944                      5.257781   \n",
       "2                    10.213995                      5.383759   \n",
       "3                     9.977019                      4.858634   \n",
       "4                    10.142511                      4.939416   \n",
       "\n",
       "   final.output.concentrate_au  final.output.recovery  final.output.tail_ag  \\\n",
       "0                    42.192020              70.541216             10.411962   \n",
       "1                    42.701629              69.266198             10.462676   \n",
       "2                    42.657501              68.116445             10.507046   \n",
       "3                    42.689819              68.347543             10.422762   \n",
       "4                    42.774141              66.927016             10.360302   \n",
       "\n",
       "   final.output.tail_pb  final.output.tail_sol  final.output.tail_au  ...  \\\n",
       "0              0.895447              16.904297              2.143149  ...   \n",
       "1              0.927452              16.634514              2.224930  ...   \n",
       "2              0.953716              16.208849              2.257889  ...   \n",
       "3              0.883763              16.532835              2.146849  ...   \n",
       "4              0.792826              16.525686              2.055292  ...   \n",
       "\n",
       "   secondary_cleaner.state.floatbank4_a_air  \\\n",
       "0                                 14.016835   \n",
       "1                                 13.992281   \n",
       "2                                 14.015015   \n",
       "3                                 14.036510   \n",
       "4                                 14.027298   \n",
       "\n",
       "   secondary_cleaner.state.floatbank4_a_level  \\\n",
       "0                                 -502.488007   \n",
       "1                                 -505.503262   \n",
       "2                                 -502.520901   \n",
       "3                                 -500.857308   \n",
       "4                                 -499.838632   \n",
       "\n",
       "   secondary_cleaner.state.floatbank4_b_air  \\\n",
       "0                                 12.099931   \n",
       "1                                 11.950531   \n",
       "2                                 11.912783   \n",
       "3                                 11.999550   \n",
       "4                                 11.953070   \n",
       "\n",
       "   secondary_cleaner.state.floatbank4_b_level  \\\n",
       "0                                 -504.715942   \n",
       "1                                 -501.331529   \n",
       "2                                 -501.133383   \n",
       "3                                 -501.193686   \n",
       "4                                 -501.053894   \n",
       "\n",
       "   secondary_cleaner.state.floatbank5_a_air  \\\n",
       "0                                  9.925633   \n",
       "1                                 10.039245   \n",
       "2                                 10.070913   \n",
       "3                                  9.970366   \n",
       "4                                  9.925709   \n",
       "\n",
       "   secondary_cleaner.state.floatbank5_a_level  \\\n",
       "0                                 -498.310211   \n",
       "1                                 -500.169983   \n",
       "2                                 -500.129135   \n",
       "3                                 -499.201640   \n",
       "4                                 -501.686727   \n",
       "\n",
       "   secondary_cleaner.state.floatbank5_b_air  \\\n",
       "0                                  8.079666   \n",
       "1                                  7.984757   \n",
       "2                                  8.013877   \n",
       "3                                  7.977324   \n",
       "4                                  7.894242   \n",
       "\n",
       "   secondary_cleaner.state.floatbank5_b_level  \\\n",
       "0                                 -500.470978   \n",
       "1                                 -500.582168   \n",
       "2                                 -500.517572   \n",
       "3                                 -500.255908   \n",
       "4                                 -500.356035   \n",
       "\n",
       "   secondary_cleaner.state.floatbank6_a_air  \\\n",
       "0                                 14.151341   \n",
       "1                                 13.998353   \n",
       "2                                 14.028663   \n",
       "3                                 14.005551   \n",
       "4                                 13.996647   \n",
       "\n",
       "   secondary_cleaner.state.floatbank6_a_level  \n",
       "0                                 -605.841980  \n",
       "1                                 -599.787184  \n",
       "2                                 -601.427363  \n",
       "3                                 -599.996129  \n",
       "4                                 -601.496691  \n",
       "\n",
       "[5 rows x 87 columns]"
      ]
     },
     "execution_count": 3,
     "metadata": {},
     "output_type": "execute_result"
    }
   ],
   "source": [
    "train_df.head()"
   ]
  },
  {
   "cell_type": "code",
   "execution_count": 4,
   "metadata": {},
   "outputs": [
    {
     "name": "stdout",
     "output_type": "stream",
     "text": [
      "<class 'pandas.core.frame.DataFrame'>\n",
      "RangeIndex: 14149 entries, 0 to 14148\n",
      "Data columns (total 87 columns):\n",
      " #   Column                                              Non-Null Count  Dtype  \n",
      "---  ------                                              --------------  -----  \n",
      " 0   date                                                14149 non-null  object \n",
      " 1   final.output.concentrate_ag                         14148 non-null  float64\n",
      " 2   final.output.concentrate_pb                         14148 non-null  float64\n",
      " 3   final.output.concentrate_sol                        13938 non-null  float64\n",
      " 4   final.output.concentrate_au                         14149 non-null  float64\n",
      " 5   final.output.recovery                               14149 non-null  float64\n",
      " 6   final.output.tail_ag                                14149 non-null  float64\n",
      " 7   final.output.tail_pb                                14049 non-null  float64\n",
      " 8   final.output.tail_sol                               14144 non-null  float64\n",
      " 9   final.output.tail_au                                14149 non-null  float64\n",
      " 10  primary_cleaner.input.sulfate                       14129 non-null  float64\n",
      " 11  primary_cleaner.input.depressant                    14117 non-null  float64\n",
      " 12  primary_cleaner.input.feed_size                     14149 non-null  float64\n",
      " 13  primary_cleaner.input.xanthate                      14049 non-null  float64\n",
      " 14  primary_cleaner.output.concentrate_ag               14149 non-null  float64\n",
      " 15  primary_cleaner.output.concentrate_pb               14063 non-null  float64\n",
      " 16  primary_cleaner.output.concentrate_sol              13863 non-null  float64\n",
      " 17  primary_cleaner.output.concentrate_au               14149 non-null  float64\n",
      " 18  primary_cleaner.output.tail_ag                      14148 non-null  float64\n",
      " 19  primary_cleaner.output.tail_pb                      14134 non-null  float64\n",
      " 20  primary_cleaner.output.tail_sol                     14103 non-null  float64\n",
      " 21  primary_cleaner.output.tail_au                      14149 non-null  float64\n",
      " 22  primary_cleaner.state.floatbank8_a_air              14145 non-null  float64\n",
      " 23  primary_cleaner.state.floatbank8_a_level            14148 non-null  float64\n",
      " 24  primary_cleaner.state.floatbank8_b_air              14145 non-null  float64\n",
      " 25  primary_cleaner.state.floatbank8_b_level            14148 non-null  float64\n",
      " 26  primary_cleaner.state.floatbank8_c_air              14147 non-null  float64\n",
      " 27  primary_cleaner.state.floatbank8_c_level            14148 non-null  float64\n",
      " 28  primary_cleaner.state.floatbank8_d_air              14146 non-null  float64\n",
      " 29  primary_cleaner.state.floatbank8_d_level            14148 non-null  float64\n",
      " 30  rougher.calculation.sulfate_to_au_concentrate       14148 non-null  float64\n",
      " 31  rougher.calculation.floatbank10_sulfate_to_au_feed  14148 non-null  float64\n",
      " 32  rougher.calculation.floatbank11_sulfate_to_au_feed  14148 non-null  float64\n",
      " 33  rougher.calculation.au_pb_ratio                     14149 non-null  float64\n",
      " 34  rougher.input.feed_ag                               14149 non-null  float64\n",
      " 35  rougher.input.feed_pb                               14049 non-null  float64\n",
      " 36  rougher.input.feed_rate                             14141 non-null  float64\n",
      " 37  rougher.input.feed_size                             14005 non-null  float64\n",
      " 38  rougher.input.feed_sol                              14071 non-null  float64\n",
      " 39  rougher.input.feed_au                               14149 non-null  float64\n",
      " 40  rougher.input.floatbank10_sulfate                   14120 non-null  float64\n",
      " 41  rougher.input.floatbank10_xanthate                  14141 non-null  float64\n",
      " 42  rougher.input.floatbank11_sulfate                   14113 non-null  float64\n",
      " 43  rougher.input.floatbank11_xanthate                  13721 non-null  float64\n",
      " 44  rougher.output.concentrate_ag                       14149 non-null  float64\n",
      " 45  rougher.output.concentrate_pb                       14149 non-null  float64\n",
      " 46  rougher.output.concentrate_sol                      14127 non-null  float64\n",
      " 47  rougher.output.concentrate_au                       14149 non-null  float64\n",
      " 48  rougher.output.recovery                             14149 non-null  float64\n",
      " 49  rougher.output.tail_ag                              14148 non-null  float64\n",
      " 50  rougher.output.tail_pb                              14149 non-null  float64\n",
      " 51  rougher.output.tail_sol                             14149 non-null  float64\n",
      " 52  rougher.output.tail_au                              14149 non-null  float64\n",
      " 53  rougher.state.floatbank10_a_air                     14148 non-null  float64\n",
      " 54  rougher.state.floatbank10_a_level                   14148 non-null  float64\n",
      " 55  rougher.state.floatbank10_b_air                     14148 non-null  float64\n",
      " 56  rougher.state.floatbank10_b_level                   14148 non-null  float64\n",
      " 57  rougher.state.floatbank10_c_air                     14148 non-null  float64\n",
      " 58  rougher.state.floatbank10_c_level                   14148 non-null  float64\n",
      " 59  rougher.state.floatbank10_d_air                     14149 non-null  float64\n",
      " 60  rougher.state.floatbank10_d_level                   14149 non-null  float64\n",
      " 61  rougher.state.floatbank10_e_air                     13713 non-null  float64\n",
      " 62  rougher.state.floatbank10_e_level                   14149 non-null  float64\n",
      " 63  rougher.state.floatbank10_f_air                     14149 non-null  float64\n",
      " 64  rougher.state.floatbank10_f_level                   14149 non-null  float64\n",
      " 65  secondary_cleaner.output.tail_ag                    14147 non-null  float64\n",
      " 66  secondary_cleaner.output.tail_pb                    14139 non-null  float64\n",
      " 67  secondary_cleaner.output.tail_sol                   12544 non-null  float64\n",
      " 68  secondary_cleaner.output.tail_au                    14149 non-null  float64\n",
      " 69  secondary_cleaner.state.floatbank2_a_air            13932 non-null  float64\n",
      " 70  secondary_cleaner.state.floatbank2_a_level          14148 non-null  float64\n",
      " 71  secondary_cleaner.state.floatbank2_b_air            14128 non-null  float64\n",
      " 72  secondary_cleaner.state.floatbank2_b_level          14148 non-null  float64\n",
      " 73  secondary_cleaner.state.floatbank3_a_air            14145 non-null  float64\n",
      " 74  secondary_cleaner.state.floatbank3_a_level          14148 non-null  float64\n",
      " 75  secondary_cleaner.state.floatbank3_b_air            14148 non-null  float64\n",
      " 76  secondary_cleaner.state.floatbank3_b_level          14148 non-null  float64\n",
      " 77  secondary_cleaner.state.floatbank4_a_air            14143 non-null  float64\n",
      " 78  secondary_cleaner.state.floatbank4_a_level          14148 non-null  float64\n",
      " 79  secondary_cleaner.state.floatbank4_b_air            14148 non-null  float64\n",
      " 80  secondary_cleaner.state.floatbank4_b_level          14148 non-null  float64\n",
      " 81  secondary_cleaner.state.floatbank5_a_air            14148 non-null  float64\n",
      " 82  secondary_cleaner.state.floatbank5_a_level          14148 non-null  float64\n",
      " 83  secondary_cleaner.state.floatbank5_b_air            14148 non-null  float64\n",
      " 84  secondary_cleaner.state.floatbank5_b_level          14148 non-null  float64\n",
      " 85  secondary_cleaner.state.floatbank6_a_air            14147 non-null  float64\n",
      " 86  secondary_cleaner.state.floatbank6_a_level          14148 non-null  float64\n",
      "dtypes: float64(86), object(1)\n",
      "memory usage: 9.4+ MB\n"
     ]
    }
   ],
   "source": [
    "train_df.info()"
   ]
  },
  {
   "cell_type": "code",
   "execution_count": 5,
   "metadata": {},
   "outputs": [
    {
     "data": {
      "text/html": [
       "<div>\n",
       "<style scoped>\n",
       "    .dataframe tbody tr th:only-of-type {\n",
       "        vertical-align: middle;\n",
       "    }\n",
       "\n",
       "    .dataframe tbody tr th {\n",
       "        vertical-align: top;\n",
       "    }\n",
       "\n",
       "    .dataframe thead th {\n",
       "        text-align: right;\n",
       "    }\n",
       "</style>\n",
       "<table border=\"1\" class=\"dataframe\">\n",
       "  <thead>\n",
       "    <tr style=\"text-align: right;\">\n",
       "      <th></th>\n",
       "      <th>date</th>\n",
       "      <th>primary_cleaner.input.sulfate</th>\n",
       "      <th>primary_cleaner.input.depressant</th>\n",
       "      <th>primary_cleaner.input.feed_size</th>\n",
       "      <th>primary_cleaner.input.xanthate</th>\n",
       "      <th>primary_cleaner.state.floatbank8_a_air</th>\n",
       "      <th>primary_cleaner.state.floatbank8_a_level</th>\n",
       "      <th>primary_cleaner.state.floatbank8_b_air</th>\n",
       "      <th>primary_cleaner.state.floatbank8_b_level</th>\n",
       "      <th>primary_cleaner.state.floatbank8_c_air</th>\n",
       "      <th>...</th>\n",
       "      <th>secondary_cleaner.state.floatbank4_a_air</th>\n",
       "      <th>secondary_cleaner.state.floatbank4_a_level</th>\n",
       "      <th>secondary_cleaner.state.floatbank4_b_air</th>\n",
       "      <th>secondary_cleaner.state.floatbank4_b_level</th>\n",
       "      <th>secondary_cleaner.state.floatbank5_a_air</th>\n",
       "      <th>secondary_cleaner.state.floatbank5_a_level</th>\n",
       "      <th>secondary_cleaner.state.floatbank5_b_air</th>\n",
       "      <th>secondary_cleaner.state.floatbank5_b_level</th>\n",
       "      <th>secondary_cleaner.state.floatbank6_a_air</th>\n",
       "      <th>secondary_cleaner.state.floatbank6_a_level</th>\n",
       "    </tr>\n",
       "  </thead>\n",
       "  <tbody>\n",
       "    <tr>\n",
       "      <th>0</th>\n",
       "      <td>2016-09-01 00:59:59</td>\n",
       "      <td>210.800909</td>\n",
       "      <td>14.993118</td>\n",
       "      <td>8.080000</td>\n",
       "      <td>1.005021</td>\n",
       "      <td>1398.981301</td>\n",
       "      <td>-500.225577</td>\n",
       "      <td>1399.144926</td>\n",
       "      <td>-499.919735</td>\n",
       "      <td>1400.102998</td>\n",
       "      <td>...</td>\n",
       "      <td>12.023554</td>\n",
       "      <td>-497.795834</td>\n",
       "      <td>8.016656</td>\n",
       "      <td>-501.289139</td>\n",
       "      <td>7.946562</td>\n",
       "      <td>-432.317850</td>\n",
       "      <td>4.872511</td>\n",
       "      <td>-500.037437</td>\n",
       "      <td>26.705889</td>\n",
       "      <td>-499.709414</td>\n",
       "    </tr>\n",
       "    <tr>\n",
       "      <th>1</th>\n",
       "      <td>2016-09-01 01:59:59</td>\n",
       "      <td>215.392455</td>\n",
       "      <td>14.987471</td>\n",
       "      <td>8.080000</td>\n",
       "      <td>0.990469</td>\n",
       "      <td>1398.777912</td>\n",
       "      <td>-500.057435</td>\n",
       "      <td>1398.055362</td>\n",
       "      <td>-499.778182</td>\n",
       "      <td>1396.151033</td>\n",
       "      <td>...</td>\n",
       "      <td>12.058140</td>\n",
       "      <td>-498.695773</td>\n",
       "      <td>8.130979</td>\n",
       "      <td>-499.634209</td>\n",
       "      <td>7.958270</td>\n",
       "      <td>-525.839648</td>\n",
       "      <td>4.878850</td>\n",
       "      <td>-500.162375</td>\n",
       "      <td>25.019940</td>\n",
       "      <td>-499.819438</td>\n",
       "    </tr>\n",
       "    <tr>\n",
       "      <th>2</th>\n",
       "      <td>2016-09-01 02:59:59</td>\n",
       "      <td>215.259946</td>\n",
       "      <td>12.884934</td>\n",
       "      <td>7.786667</td>\n",
       "      <td>0.996043</td>\n",
       "      <td>1398.493666</td>\n",
       "      <td>-500.868360</td>\n",
       "      <td>1398.860436</td>\n",
       "      <td>-499.764529</td>\n",
       "      <td>1398.075709</td>\n",
       "      <td>...</td>\n",
       "      <td>11.962366</td>\n",
       "      <td>-498.767484</td>\n",
       "      <td>8.096893</td>\n",
       "      <td>-500.827423</td>\n",
       "      <td>8.071056</td>\n",
       "      <td>-500.801673</td>\n",
       "      <td>4.905125</td>\n",
       "      <td>-499.828510</td>\n",
       "      <td>24.994862</td>\n",
       "      <td>-500.622559</td>\n",
       "    </tr>\n",
       "    <tr>\n",
       "      <th>3</th>\n",
       "      <td>2016-09-01 03:59:59</td>\n",
       "      <td>215.336236</td>\n",
       "      <td>12.006805</td>\n",
       "      <td>7.640000</td>\n",
       "      <td>0.863514</td>\n",
       "      <td>1399.618111</td>\n",
       "      <td>-498.863574</td>\n",
       "      <td>1397.440120</td>\n",
       "      <td>-499.211024</td>\n",
       "      <td>1400.129303</td>\n",
       "      <td>...</td>\n",
       "      <td>12.033091</td>\n",
       "      <td>-498.350935</td>\n",
       "      <td>8.074946</td>\n",
       "      <td>-499.474407</td>\n",
       "      <td>7.897085</td>\n",
       "      <td>-500.868509</td>\n",
       "      <td>4.931400</td>\n",
       "      <td>-499.963623</td>\n",
       "      <td>24.948919</td>\n",
       "      <td>-498.709987</td>\n",
       "    </tr>\n",
       "    <tr>\n",
       "      <th>4</th>\n",
       "      <td>2016-09-01 04:59:59</td>\n",
       "      <td>199.099327</td>\n",
       "      <td>10.682530</td>\n",
       "      <td>7.530000</td>\n",
       "      <td>0.805575</td>\n",
       "      <td>1401.268123</td>\n",
       "      <td>-500.808305</td>\n",
       "      <td>1398.128818</td>\n",
       "      <td>-499.504543</td>\n",
       "      <td>1402.172226</td>\n",
       "      <td>...</td>\n",
       "      <td>12.025367</td>\n",
       "      <td>-500.786497</td>\n",
       "      <td>8.054678</td>\n",
       "      <td>-500.397500</td>\n",
       "      <td>8.107890</td>\n",
       "      <td>-509.526725</td>\n",
       "      <td>4.957674</td>\n",
       "      <td>-500.360026</td>\n",
       "      <td>25.003331</td>\n",
       "      <td>-500.856333</td>\n",
       "    </tr>\n",
       "  </tbody>\n",
       "</table>\n",
       "<p>5 rows × 53 columns</p>\n",
       "</div>"
      ],
      "text/plain": [
       "                  date  primary_cleaner.input.sulfate  \\\n",
       "0  2016-09-01 00:59:59                     210.800909   \n",
       "1  2016-09-01 01:59:59                     215.392455   \n",
       "2  2016-09-01 02:59:59                     215.259946   \n",
       "3  2016-09-01 03:59:59                     215.336236   \n",
       "4  2016-09-01 04:59:59                     199.099327   \n",
       "\n",
       "   primary_cleaner.input.depressant  primary_cleaner.input.feed_size  \\\n",
       "0                         14.993118                         8.080000   \n",
       "1                         14.987471                         8.080000   \n",
       "2                         12.884934                         7.786667   \n",
       "3                         12.006805                         7.640000   \n",
       "4                         10.682530                         7.530000   \n",
       "\n",
       "   primary_cleaner.input.xanthate  primary_cleaner.state.floatbank8_a_air  \\\n",
       "0                        1.005021                             1398.981301   \n",
       "1                        0.990469                             1398.777912   \n",
       "2                        0.996043                             1398.493666   \n",
       "3                        0.863514                             1399.618111   \n",
       "4                        0.805575                             1401.268123   \n",
       "\n",
       "   primary_cleaner.state.floatbank8_a_level  \\\n",
       "0                               -500.225577   \n",
       "1                               -500.057435   \n",
       "2                               -500.868360   \n",
       "3                               -498.863574   \n",
       "4                               -500.808305   \n",
       "\n",
       "   primary_cleaner.state.floatbank8_b_air  \\\n",
       "0                             1399.144926   \n",
       "1                             1398.055362   \n",
       "2                             1398.860436   \n",
       "3                             1397.440120   \n",
       "4                             1398.128818   \n",
       "\n",
       "   primary_cleaner.state.floatbank8_b_level  \\\n",
       "0                               -499.919735   \n",
       "1                               -499.778182   \n",
       "2                               -499.764529   \n",
       "3                               -499.211024   \n",
       "4                               -499.504543   \n",
       "\n",
       "   primary_cleaner.state.floatbank8_c_air  ...  \\\n",
       "0                             1400.102998  ...   \n",
       "1                             1396.151033  ...   \n",
       "2                             1398.075709  ...   \n",
       "3                             1400.129303  ...   \n",
       "4                             1402.172226  ...   \n",
       "\n",
       "   secondary_cleaner.state.floatbank4_a_air  \\\n",
       "0                                 12.023554   \n",
       "1                                 12.058140   \n",
       "2                                 11.962366   \n",
       "3                                 12.033091   \n",
       "4                                 12.025367   \n",
       "\n",
       "   secondary_cleaner.state.floatbank4_a_level  \\\n",
       "0                                 -497.795834   \n",
       "1                                 -498.695773   \n",
       "2                                 -498.767484   \n",
       "3                                 -498.350935   \n",
       "4                                 -500.786497   \n",
       "\n",
       "   secondary_cleaner.state.floatbank4_b_air  \\\n",
       "0                                  8.016656   \n",
       "1                                  8.130979   \n",
       "2                                  8.096893   \n",
       "3                                  8.074946   \n",
       "4                                  8.054678   \n",
       "\n",
       "   secondary_cleaner.state.floatbank4_b_level  \\\n",
       "0                                 -501.289139   \n",
       "1                                 -499.634209   \n",
       "2                                 -500.827423   \n",
       "3                                 -499.474407   \n",
       "4                                 -500.397500   \n",
       "\n",
       "   secondary_cleaner.state.floatbank5_a_air  \\\n",
       "0                                  7.946562   \n",
       "1                                  7.958270   \n",
       "2                                  8.071056   \n",
       "3                                  7.897085   \n",
       "4                                  8.107890   \n",
       "\n",
       "   secondary_cleaner.state.floatbank5_a_level  \\\n",
       "0                                 -432.317850   \n",
       "1                                 -525.839648   \n",
       "2                                 -500.801673   \n",
       "3                                 -500.868509   \n",
       "4                                 -509.526725   \n",
       "\n",
       "   secondary_cleaner.state.floatbank5_b_air  \\\n",
       "0                                  4.872511   \n",
       "1                                  4.878850   \n",
       "2                                  4.905125   \n",
       "3                                  4.931400   \n",
       "4                                  4.957674   \n",
       "\n",
       "   secondary_cleaner.state.floatbank5_b_level  \\\n",
       "0                                 -500.037437   \n",
       "1                                 -500.162375   \n",
       "2                                 -499.828510   \n",
       "3                                 -499.963623   \n",
       "4                                 -500.360026   \n",
       "\n",
       "   secondary_cleaner.state.floatbank6_a_air  \\\n",
       "0                                 26.705889   \n",
       "1                                 25.019940   \n",
       "2                                 24.994862   \n",
       "3                                 24.948919   \n",
       "4                                 25.003331   \n",
       "\n",
       "   secondary_cleaner.state.floatbank6_a_level  \n",
       "0                                 -499.709414  \n",
       "1                                 -499.819438  \n",
       "2                                 -500.622559  \n",
       "3                                 -498.709987  \n",
       "4                                 -500.856333  \n",
       "\n",
       "[5 rows x 53 columns]"
      ]
     },
     "execution_count": 5,
     "metadata": {},
     "output_type": "execute_result"
    }
   ],
   "source": [
    "test_df.head()"
   ]
  },
  {
   "cell_type": "code",
   "execution_count": 6,
   "metadata": {},
   "outputs": [
    {
     "name": "stdout",
     "output_type": "stream",
     "text": [
      "<class 'pandas.core.frame.DataFrame'>\n",
      "RangeIndex: 5290 entries, 0 to 5289\n",
      "Data columns (total 53 columns):\n",
      " #   Column                                      Non-Null Count  Dtype  \n",
      "---  ------                                      --------------  -----  \n",
      " 0   date                                        5290 non-null   object \n",
      " 1   primary_cleaner.input.sulfate               5286 non-null   float64\n",
      " 2   primary_cleaner.input.depressant            5285 non-null   float64\n",
      " 3   primary_cleaner.input.feed_size             5290 non-null   float64\n",
      " 4   primary_cleaner.input.xanthate              5286 non-null   float64\n",
      " 5   primary_cleaner.state.floatbank8_a_air      5290 non-null   float64\n",
      " 6   primary_cleaner.state.floatbank8_a_level    5290 non-null   float64\n",
      " 7   primary_cleaner.state.floatbank8_b_air      5290 non-null   float64\n",
      " 8   primary_cleaner.state.floatbank8_b_level    5290 non-null   float64\n",
      " 9   primary_cleaner.state.floatbank8_c_air      5290 non-null   float64\n",
      " 10  primary_cleaner.state.floatbank8_c_level    5290 non-null   float64\n",
      " 11  primary_cleaner.state.floatbank8_d_air      5290 non-null   float64\n",
      " 12  primary_cleaner.state.floatbank8_d_level    5290 non-null   float64\n",
      " 13  rougher.input.feed_ag                       5290 non-null   float64\n",
      " 14  rougher.input.feed_pb                       5290 non-null   float64\n",
      " 15  rougher.input.feed_rate                     5287 non-null   float64\n",
      " 16  rougher.input.feed_size                     5289 non-null   float64\n",
      " 17  rougher.input.feed_sol                      5269 non-null   float64\n",
      " 18  rougher.input.feed_au                       5290 non-null   float64\n",
      " 19  rougher.input.floatbank10_sulfate           5285 non-null   float64\n",
      " 20  rougher.input.floatbank10_xanthate          5290 non-null   float64\n",
      " 21  rougher.input.floatbank11_sulfate           5282 non-null   float64\n",
      " 22  rougher.input.floatbank11_xanthate          5265 non-null   float64\n",
      " 23  rougher.state.floatbank10_a_air             5290 non-null   float64\n",
      " 24  rougher.state.floatbank10_a_level           5290 non-null   float64\n",
      " 25  rougher.state.floatbank10_b_air             5290 non-null   float64\n",
      " 26  rougher.state.floatbank10_b_level           5290 non-null   float64\n",
      " 27  rougher.state.floatbank10_c_air             5290 non-null   float64\n",
      " 28  rougher.state.floatbank10_c_level           5290 non-null   float64\n",
      " 29  rougher.state.floatbank10_d_air             5290 non-null   float64\n",
      " 30  rougher.state.floatbank10_d_level           5290 non-null   float64\n",
      " 31  rougher.state.floatbank10_e_air             5290 non-null   float64\n",
      " 32  rougher.state.floatbank10_e_level           5290 non-null   float64\n",
      " 33  rougher.state.floatbank10_f_air             5290 non-null   float64\n",
      " 34  rougher.state.floatbank10_f_level           5290 non-null   float64\n",
      " 35  secondary_cleaner.state.floatbank2_a_air    5287 non-null   float64\n",
      " 36  secondary_cleaner.state.floatbank2_a_level  5290 non-null   float64\n",
      " 37  secondary_cleaner.state.floatbank2_b_air    5288 non-null   float64\n",
      " 38  secondary_cleaner.state.floatbank2_b_level  5290 non-null   float64\n",
      " 39  secondary_cleaner.state.floatbank3_a_air    5281 non-null   float64\n",
      " 40  secondary_cleaner.state.floatbank3_a_level  5290 non-null   float64\n",
      " 41  secondary_cleaner.state.floatbank3_b_air    5290 non-null   float64\n",
      " 42  secondary_cleaner.state.floatbank3_b_level  5290 non-null   float64\n",
      " 43  secondary_cleaner.state.floatbank4_a_air    5290 non-null   float64\n",
      " 44  secondary_cleaner.state.floatbank4_a_level  5290 non-null   float64\n",
      " 45  secondary_cleaner.state.floatbank4_b_air    5290 non-null   float64\n",
      " 46  secondary_cleaner.state.floatbank4_b_level  5290 non-null   float64\n",
      " 47  secondary_cleaner.state.floatbank5_a_air    5290 non-null   float64\n",
      " 48  secondary_cleaner.state.floatbank5_a_level  5290 non-null   float64\n",
      " 49  secondary_cleaner.state.floatbank5_b_air    5290 non-null   float64\n",
      " 50  secondary_cleaner.state.floatbank5_b_level  5290 non-null   float64\n",
      " 51  secondary_cleaner.state.floatbank6_a_air    5290 non-null   float64\n",
      " 52  secondary_cleaner.state.floatbank6_a_level  5290 non-null   float64\n",
      "dtypes: float64(52), object(1)\n",
      "memory usage: 2.1+ MB\n"
     ]
    }
   ],
   "source": [
    "test_df.info()"
   ]
  },
  {
   "cell_type": "code",
   "execution_count": 7,
   "metadata": {},
   "outputs": [
    {
     "data": {
      "text/html": [
       "<div>\n",
       "<style scoped>\n",
       "    .dataframe tbody tr th:only-of-type {\n",
       "        vertical-align: middle;\n",
       "    }\n",
       "\n",
       "    .dataframe tbody tr th {\n",
       "        vertical-align: top;\n",
       "    }\n",
       "\n",
       "    .dataframe thead th {\n",
       "        text-align: right;\n",
       "    }\n",
       "</style>\n",
       "<table border=\"1\" class=\"dataframe\">\n",
       "  <thead>\n",
       "    <tr style=\"text-align: right;\">\n",
       "      <th></th>\n",
       "      <th>date</th>\n",
       "      <th>final.output.concentrate_ag</th>\n",
       "      <th>final.output.concentrate_pb</th>\n",
       "      <th>final.output.concentrate_sol</th>\n",
       "      <th>final.output.concentrate_au</th>\n",
       "      <th>final.output.recovery</th>\n",
       "      <th>final.output.tail_ag</th>\n",
       "      <th>final.output.tail_pb</th>\n",
       "      <th>final.output.tail_sol</th>\n",
       "      <th>final.output.tail_au</th>\n",
       "      <th>...</th>\n",
       "      <th>secondary_cleaner.state.floatbank4_a_air</th>\n",
       "      <th>secondary_cleaner.state.floatbank4_a_level</th>\n",
       "      <th>secondary_cleaner.state.floatbank4_b_air</th>\n",
       "      <th>secondary_cleaner.state.floatbank4_b_level</th>\n",
       "      <th>secondary_cleaner.state.floatbank5_a_air</th>\n",
       "      <th>secondary_cleaner.state.floatbank5_a_level</th>\n",
       "      <th>secondary_cleaner.state.floatbank5_b_air</th>\n",
       "      <th>secondary_cleaner.state.floatbank5_b_level</th>\n",
       "      <th>secondary_cleaner.state.floatbank6_a_air</th>\n",
       "      <th>secondary_cleaner.state.floatbank6_a_level</th>\n",
       "    </tr>\n",
       "  </thead>\n",
       "  <tbody>\n",
       "    <tr>\n",
       "      <th>0</th>\n",
       "      <td>2016-01-15 00:00:00</td>\n",
       "      <td>6.055403</td>\n",
       "      <td>9.889648</td>\n",
       "      <td>5.507324</td>\n",
       "      <td>42.192020</td>\n",
       "      <td>70.541216</td>\n",
       "      <td>10.411962</td>\n",
       "      <td>0.895447</td>\n",
       "      <td>16.904297</td>\n",
       "      <td>2.143149</td>\n",
       "      <td>...</td>\n",
       "      <td>14.016835</td>\n",
       "      <td>-502.488007</td>\n",
       "      <td>12.099931</td>\n",
       "      <td>-504.715942</td>\n",
       "      <td>9.925633</td>\n",
       "      <td>-498.310211</td>\n",
       "      <td>8.079666</td>\n",
       "      <td>-500.470978</td>\n",
       "      <td>14.151341</td>\n",
       "      <td>-605.841980</td>\n",
       "    </tr>\n",
       "    <tr>\n",
       "      <th>1</th>\n",
       "      <td>2016-01-15 01:00:00</td>\n",
       "      <td>6.029369</td>\n",
       "      <td>9.968944</td>\n",
       "      <td>5.257781</td>\n",
       "      <td>42.701629</td>\n",
       "      <td>69.266198</td>\n",
       "      <td>10.462676</td>\n",
       "      <td>0.927452</td>\n",
       "      <td>16.634514</td>\n",
       "      <td>2.224930</td>\n",
       "      <td>...</td>\n",
       "      <td>13.992281</td>\n",
       "      <td>-505.503262</td>\n",
       "      <td>11.950531</td>\n",
       "      <td>-501.331529</td>\n",
       "      <td>10.039245</td>\n",
       "      <td>-500.169983</td>\n",
       "      <td>7.984757</td>\n",
       "      <td>-500.582168</td>\n",
       "      <td>13.998353</td>\n",
       "      <td>-599.787184</td>\n",
       "    </tr>\n",
       "    <tr>\n",
       "      <th>2</th>\n",
       "      <td>2016-01-15 02:00:00</td>\n",
       "      <td>6.055926</td>\n",
       "      <td>10.213995</td>\n",
       "      <td>5.383759</td>\n",
       "      <td>42.657501</td>\n",
       "      <td>68.116445</td>\n",
       "      <td>10.507046</td>\n",
       "      <td>0.953716</td>\n",
       "      <td>16.208849</td>\n",
       "      <td>2.257889</td>\n",
       "      <td>...</td>\n",
       "      <td>14.015015</td>\n",
       "      <td>-502.520901</td>\n",
       "      <td>11.912783</td>\n",
       "      <td>-501.133383</td>\n",
       "      <td>10.070913</td>\n",
       "      <td>-500.129135</td>\n",
       "      <td>8.013877</td>\n",
       "      <td>-500.517572</td>\n",
       "      <td>14.028663</td>\n",
       "      <td>-601.427363</td>\n",
       "    </tr>\n",
       "    <tr>\n",
       "      <th>3</th>\n",
       "      <td>2016-01-15 03:00:00</td>\n",
       "      <td>6.047977</td>\n",
       "      <td>9.977019</td>\n",
       "      <td>4.858634</td>\n",
       "      <td>42.689819</td>\n",
       "      <td>68.347543</td>\n",
       "      <td>10.422762</td>\n",
       "      <td>0.883763</td>\n",
       "      <td>16.532835</td>\n",
       "      <td>2.146849</td>\n",
       "      <td>...</td>\n",
       "      <td>14.036510</td>\n",
       "      <td>-500.857308</td>\n",
       "      <td>11.999550</td>\n",
       "      <td>-501.193686</td>\n",
       "      <td>9.970366</td>\n",
       "      <td>-499.201640</td>\n",
       "      <td>7.977324</td>\n",
       "      <td>-500.255908</td>\n",
       "      <td>14.005551</td>\n",
       "      <td>-599.996129</td>\n",
       "    </tr>\n",
       "    <tr>\n",
       "      <th>4</th>\n",
       "      <td>2016-01-15 04:00:00</td>\n",
       "      <td>6.148599</td>\n",
       "      <td>10.142511</td>\n",
       "      <td>4.939416</td>\n",
       "      <td>42.774141</td>\n",
       "      <td>66.927016</td>\n",
       "      <td>10.360302</td>\n",
       "      <td>0.792826</td>\n",
       "      <td>16.525686</td>\n",
       "      <td>2.055292</td>\n",
       "      <td>...</td>\n",
       "      <td>14.027298</td>\n",
       "      <td>-499.838632</td>\n",
       "      <td>11.953070</td>\n",
       "      <td>-501.053894</td>\n",
       "      <td>9.925709</td>\n",
       "      <td>-501.686727</td>\n",
       "      <td>7.894242</td>\n",
       "      <td>-500.356035</td>\n",
       "      <td>13.996647</td>\n",
       "      <td>-601.496691</td>\n",
       "    </tr>\n",
       "  </tbody>\n",
       "</table>\n",
       "<p>5 rows × 87 columns</p>\n",
       "</div>"
      ],
      "text/plain": [
       "                  date  final.output.concentrate_ag  \\\n",
       "0  2016-01-15 00:00:00                     6.055403   \n",
       "1  2016-01-15 01:00:00                     6.029369   \n",
       "2  2016-01-15 02:00:00                     6.055926   \n",
       "3  2016-01-15 03:00:00                     6.047977   \n",
       "4  2016-01-15 04:00:00                     6.148599   \n",
       "\n",
       "   final.output.concentrate_pb  final.output.concentrate_sol  \\\n",
       "0                     9.889648                      5.507324   \n",
       "1                     9.968944                      5.257781   \n",
       "2                    10.213995                      5.383759   \n",
       "3                     9.977019                      4.858634   \n",
       "4                    10.142511                      4.939416   \n",
       "\n",
       "   final.output.concentrate_au  final.output.recovery  final.output.tail_ag  \\\n",
       "0                    42.192020              70.541216             10.411962   \n",
       "1                    42.701629              69.266198             10.462676   \n",
       "2                    42.657501              68.116445             10.507046   \n",
       "3                    42.689819              68.347543             10.422762   \n",
       "4                    42.774141              66.927016             10.360302   \n",
       "\n",
       "   final.output.tail_pb  final.output.tail_sol  final.output.tail_au  ...  \\\n",
       "0              0.895447              16.904297              2.143149  ...   \n",
       "1              0.927452              16.634514              2.224930  ...   \n",
       "2              0.953716              16.208849              2.257889  ...   \n",
       "3              0.883763              16.532835              2.146849  ...   \n",
       "4              0.792826              16.525686              2.055292  ...   \n",
       "\n",
       "   secondary_cleaner.state.floatbank4_a_air  \\\n",
       "0                                 14.016835   \n",
       "1                                 13.992281   \n",
       "2                                 14.015015   \n",
       "3                                 14.036510   \n",
       "4                                 14.027298   \n",
       "\n",
       "   secondary_cleaner.state.floatbank4_a_level  \\\n",
       "0                                 -502.488007   \n",
       "1                                 -505.503262   \n",
       "2                                 -502.520901   \n",
       "3                                 -500.857308   \n",
       "4                                 -499.838632   \n",
       "\n",
       "   secondary_cleaner.state.floatbank4_b_air  \\\n",
       "0                                 12.099931   \n",
       "1                                 11.950531   \n",
       "2                                 11.912783   \n",
       "3                                 11.999550   \n",
       "4                                 11.953070   \n",
       "\n",
       "   secondary_cleaner.state.floatbank4_b_level  \\\n",
       "0                                 -504.715942   \n",
       "1                                 -501.331529   \n",
       "2                                 -501.133383   \n",
       "3                                 -501.193686   \n",
       "4                                 -501.053894   \n",
       "\n",
       "   secondary_cleaner.state.floatbank5_a_air  \\\n",
       "0                                  9.925633   \n",
       "1                                 10.039245   \n",
       "2                                 10.070913   \n",
       "3                                  9.970366   \n",
       "4                                  9.925709   \n",
       "\n",
       "   secondary_cleaner.state.floatbank5_a_level  \\\n",
       "0                                 -498.310211   \n",
       "1                                 -500.169983   \n",
       "2                                 -500.129135   \n",
       "3                                 -499.201640   \n",
       "4                                 -501.686727   \n",
       "\n",
       "   secondary_cleaner.state.floatbank5_b_air  \\\n",
       "0                                  8.079666   \n",
       "1                                  7.984757   \n",
       "2                                  8.013877   \n",
       "3                                  7.977324   \n",
       "4                                  7.894242   \n",
       "\n",
       "   secondary_cleaner.state.floatbank5_b_level  \\\n",
       "0                                 -500.470978   \n",
       "1                                 -500.582168   \n",
       "2                                 -500.517572   \n",
       "3                                 -500.255908   \n",
       "4                                 -500.356035   \n",
       "\n",
       "   secondary_cleaner.state.floatbank6_a_air  \\\n",
       "0                                 14.151341   \n",
       "1                                 13.998353   \n",
       "2                                 14.028663   \n",
       "3                                 14.005551   \n",
       "4                                 13.996647   \n",
       "\n",
       "   secondary_cleaner.state.floatbank6_a_level  \n",
       "0                                 -605.841980  \n",
       "1                                 -599.787184  \n",
       "2                                 -601.427363  \n",
       "3                                 -599.996129  \n",
       "4                                 -601.496691  \n",
       "\n",
       "[5 rows x 87 columns]"
      ]
     },
     "execution_count": 7,
     "metadata": {},
     "output_type": "execute_result"
    }
   ],
   "source": [
    "full_df.head()"
   ]
  },
  {
   "cell_type": "code",
   "execution_count": 8,
   "metadata": {},
   "outputs": [
    {
     "name": "stdout",
     "output_type": "stream",
     "text": [
      "<class 'pandas.core.frame.DataFrame'>\n",
      "RangeIndex: 19439 entries, 0 to 19438\n",
      "Data columns (total 87 columns):\n",
      " #   Column                                              Non-Null Count  Dtype  \n",
      "---  ------                                              --------------  -----  \n",
      " 0   date                                                19439 non-null  object \n",
      " 1   final.output.concentrate_ag                         19438 non-null  float64\n",
      " 2   final.output.concentrate_pb                         19438 non-null  float64\n",
      " 3   final.output.concentrate_sol                        19228 non-null  float64\n",
      " 4   final.output.concentrate_au                         19439 non-null  float64\n",
      " 5   final.output.recovery                               19439 non-null  float64\n",
      " 6   final.output.tail_ag                                19438 non-null  float64\n",
      " 7   final.output.tail_pb                                19338 non-null  float64\n",
      " 8   final.output.tail_sol                               19433 non-null  float64\n",
      " 9   final.output.tail_au                                19439 non-null  float64\n",
      " 10  primary_cleaner.input.sulfate                       19415 non-null  float64\n",
      " 11  primary_cleaner.input.depressant                    19402 non-null  float64\n",
      " 12  primary_cleaner.input.feed_size                     19439 non-null  float64\n",
      " 13  primary_cleaner.input.xanthate                      19335 non-null  float64\n",
      " 14  primary_cleaner.output.concentrate_ag               19439 non-null  float64\n",
      " 15  primary_cleaner.output.concentrate_pb               19323 non-null  float64\n",
      " 16  primary_cleaner.output.concentrate_sol              19069 non-null  float64\n",
      " 17  primary_cleaner.output.concentrate_au               19439 non-null  float64\n",
      " 18  primary_cleaner.output.tail_ag                      19435 non-null  float64\n",
      " 19  primary_cleaner.output.tail_pb                      19418 non-null  float64\n",
      " 20  primary_cleaner.output.tail_sol                     19377 non-null  float64\n",
      " 21  primary_cleaner.output.tail_au                      19439 non-null  float64\n",
      " 22  primary_cleaner.state.floatbank8_a_air              19435 non-null  float64\n",
      " 23  primary_cleaner.state.floatbank8_a_level            19438 non-null  float64\n",
      " 24  primary_cleaner.state.floatbank8_b_air              19435 non-null  float64\n",
      " 25  primary_cleaner.state.floatbank8_b_level            19438 non-null  float64\n",
      " 26  primary_cleaner.state.floatbank8_c_air              19437 non-null  float64\n",
      " 27  primary_cleaner.state.floatbank8_c_level            19438 non-null  float64\n",
      " 28  primary_cleaner.state.floatbank8_d_air              19436 non-null  float64\n",
      " 29  primary_cleaner.state.floatbank8_d_level            19438 non-null  float64\n",
      " 30  rougher.calculation.sulfate_to_au_concentrate       19437 non-null  float64\n",
      " 31  rougher.calculation.floatbank10_sulfate_to_au_feed  19437 non-null  float64\n",
      " 32  rougher.calculation.floatbank11_sulfate_to_au_feed  19437 non-null  float64\n",
      " 33  rougher.calculation.au_pb_ratio                     19439 non-null  float64\n",
      " 34  rougher.input.feed_ag                               19439 non-null  float64\n",
      " 35  rougher.input.feed_pb                               19339 non-null  float64\n",
      " 36  rougher.input.feed_rate                             19428 non-null  float64\n",
      " 37  rougher.input.feed_size                             19294 non-null  float64\n",
      " 38  rougher.input.feed_sol                              19340 non-null  float64\n",
      " 39  rougher.input.feed_au                               19439 non-null  float64\n",
      " 40  rougher.input.floatbank10_sulfate                   19405 non-null  float64\n",
      " 41  rougher.input.floatbank10_xanthate                  19431 non-null  float64\n",
      " 42  rougher.input.floatbank11_sulfate                   19395 non-null  float64\n",
      " 43  rougher.input.floatbank11_xanthate                  18986 non-null  float64\n",
      " 44  rougher.output.concentrate_ag                       19439 non-null  float64\n",
      " 45  rougher.output.concentrate_pb                       19439 non-null  float64\n",
      " 46  rougher.output.concentrate_sol                      19416 non-null  float64\n",
      " 47  rougher.output.concentrate_au                       19439 non-null  float64\n",
      " 48  rougher.output.recovery                             19439 non-null  float64\n",
      " 49  rougher.output.tail_ag                              19438 non-null  float64\n",
      " 50  rougher.output.tail_pb                              19439 non-null  float64\n",
      " 51  rougher.output.tail_sol                             19439 non-null  float64\n",
      " 52  rougher.output.tail_au                              19439 non-null  float64\n",
      " 53  rougher.state.floatbank10_a_air                     19438 non-null  float64\n",
      " 54  rougher.state.floatbank10_a_level                   19438 non-null  float64\n",
      " 55  rougher.state.floatbank10_b_air                     19438 non-null  float64\n",
      " 56  rougher.state.floatbank10_b_level                   19438 non-null  float64\n",
      " 57  rougher.state.floatbank10_c_air                     19438 non-null  float64\n",
      " 58  rougher.state.floatbank10_c_level                   19438 non-null  float64\n",
      " 59  rougher.state.floatbank10_d_air                     19439 non-null  float64\n",
      " 60  rougher.state.floatbank10_d_level                   19439 non-null  float64\n",
      " 61  rougher.state.floatbank10_e_air                     19003 non-null  float64\n",
      " 62  rougher.state.floatbank10_e_level                   19439 non-null  float64\n",
      " 63  rougher.state.floatbank10_f_air                     19439 non-null  float64\n",
      " 64  rougher.state.floatbank10_f_level                   19439 non-null  float64\n",
      " 65  secondary_cleaner.output.tail_ag                    19437 non-null  float64\n",
      " 66  secondary_cleaner.output.tail_pb                    19427 non-null  float64\n",
      " 67  secondary_cleaner.output.tail_sol                   17691 non-null  float64\n",
      " 68  secondary_cleaner.output.tail_au                    19439 non-null  float64\n",
      " 69  secondary_cleaner.state.floatbank2_a_air            19219 non-null  float64\n",
      " 70  secondary_cleaner.state.floatbank2_a_level          19438 non-null  float64\n",
      " 71  secondary_cleaner.state.floatbank2_b_air            19416 non-null  float64\n",
      " 72  secondary_cleaner.state.floatbank2_b_level          19438 non-null  float64\n",
      " 73  secondary_cleaner.state.floatbank3_a_air            19426 non-null  float64\n",
      " 74  secondary_cleaner.state.floatbank3_a_level          19438 non-null  float64\n",
      " 75  secondary_cleaner.state.floatbank3_b_air            19438 non-null  float64\n",
      " 76  secondary_cleaner.state.floatbank3_b_level          19438 non-null  float64\n",
      " 77  secondary_cleaner.state.floatbank4_a_air            19433 non-null  float64\n",
      " 78  secondary_cleaner.state.floatbank4_a_level          19438 non-null  float64\n",
      " 79  secondary_cleaner.state.floatbank4_b_air            19438 non-null  float64\n",
      " 80  secondary_cleaner.state.floatbank4_b_level          19438 non-null  float64\n",
      " 81  secondary_cleaner.state.floatbank5_a_air            19438 non-null  float64\n",
      " 82  secondary_cleaner.state.floatbank5_a_level          19438 non-null  float64\n",
      " 83  secondary_cleaner.state.floatbank5_b_air            19438 non-null  float64\n",
      " 84  secondary_cleaner.state.floatbank5_b_level          19438 non-null  float64\n",
      " 85  secondary_cleaner.state.floatbank6_a_air            19437 non-null  float64\n",
      " 86  secondary_cleaner.state.floatbank6_a_level          19438 non-null  float64\n",
      "dtypes: float64(86), object(1)\n",
      "memory usage: 12.9+ MB\n"
     ]
    }
   ],
   "source": [
    "full_df.info()"
   ]
  },
  {
   "cell_type": "markdown",
   "metadata": {},
   "source": [
    "Изучили данные. Имеем пропуски и неверный формат столбца \"date\"."
   ]
  },
  {
   "cell_type": "code",
   "execution_count": 9,
   "metadata": {},
   "outputs": [
    {
     "data": {
      "text/plain": [
       "date                                          datetime64[ns]\n",
       "final.output.concentrate_ag                          float64\n",
       "final.output.concentrate_pb                          float64\n",
       "final.output.concentrate_sol                         float64\n",
       "final.output.concentrate_au                          float64\n",
       "                                                   ...      \n",
       "secondary_cleaner.state.floatbank5_a_level           float64\n",
       "secondary_cleaner.state.floatbank5_b_air             float64\n",
       "secondary_cleaner.state.floatbank5_b_level           float64\n",
       "secondary_cleaner.state.floatbank6_a_air             float64\n",
       "secondary_cleaner.state.floatbank6_a_level           float64\n",
       "Length: 87, dtype: object"
      ]
     },
     "execution_count": 9,
     "metadata": {},
     "output_type": "execute_result"
    }
   ],
   "source": [
    "train_df['date'] = pd.to_datetime(train_df['date'], format='%Y-%m-%d %H:%M:%S')\n",
    "train_df.dtypes"
   ]
  },
  {
   "cell_type": "code",
   "execution_count": 10,
   "metadata": {},
   "outputs": [
    {
     "data": {
      "text/plain": [
       "date                                          datetime64[ns]\n",
       "primary_cleaner.input.sulfate                        float64\n",
       "primary_cleaner.input.depressant                     float64\n",
       "primary_cleaner.input.feed_size                      float64\n",
       "primary_cleaner.input.xanthate                       float64\n",
       "primary_cleaner.state.floatbank8_a_air               float64\n",
       "primary_cleaner.state.floatbank8_a_level             float64\n",
       "primary_cleaner.state.floatbank8_b_air               float64\n",
       "primary_cleaner.state.floatbank8_b_level             float64\n",
       "primary_cleaner.state.floatbank8_c_air               float64\n",
       "primary_cleaner.state.floatbank8_c_level             float64\n",
       "primary_cleaner.state.floatbank8_d_air               float64\n",
       "primary_cleaner.state.floatbank8_d_level             float64\n",
       "rougher.input.feed_ag                                float64\n",
       "rougher.input.feed_pb                                float64\n",
       "rougher.input.feed_rate                              float64\n",
       "rougher.input.feed_size                              float64\n",
       "rougher.input.feed_sol                               float64\n",
       "rougher.input.feed_au                                float64\n",
       "rougher.input.floatbank10_sulfate                    float64\n",
       "rougher.input.floatbank10_xanthate                   float64\n",
       "rougher.input.floatbank11_sulfate                    float64\n",
       "rougher.input.floatbank11_xanthate                   float64\n",
       "rougher.state.floatbank10_a_air                      float64\n",
       "rougher.state.floatbank10_a_level                    float64\n",
       "rougher.state.floatbank10_b_air                      float64\n",
       "rougher.state.floatbank10_b_level                    float64\n",
       "rougher.state.floatbank10_c_air                      float64\n",
       "rougher.state.floatbank10_c_level                    float64\n",
       "rougher.state.floatbank10_d_air                      float64\n",
       "rougher.state.floatbank10_d_level                    float64\n",
       "rougher.state.floatbank10_e_air                      float64\n",
       "rougher.state.floatbank10_e_level                    float64\n",
       "rougher.state.floatbank10_f_air                      float64\n",
       "rougher.state.floatbank10_f_level                    float64\n",
       "secondary_cleaner.state.floatbank2_a_air             float64\n",
       "secondary_cleaner.state.floatbank2_a_level           float64\n",
       "secondary_cleaner.state.floatbank2_b_air             float64\n",
       "secondary_cleaner.state.floatbank2_b_level           float64\n",
       "secondary_cleaner.state.floatbank3_a_air             float64\n",
       "secondary_cleaner.state.floatbank3_a_level           float64\n",
       "secondary_cleaner.state.floatbank3_b_air             float64\n",
       "secondary_cleaner.state.floatbank3_b_level           float64\n",
       "secondary_cleaner.state.floatbank4_a_air             float64\n",
       "secondary_cleaner.state.floatbank4_a_level           float64\n",
       "secondary_cleaner.state.floatbank4_b_air             float64\n",
       "secondary_cleaner.state.floatbank4_b_level           float64\n",
       "secondary_cleaner.state.floatbank5_a_air             float64\n",
       "secondary_cleaner.state.floatbank5_a_level           float64\n",
       "secondary_cleaner.state.floatbank5_b_air             float64\n",
       "secondary_cleaner.state.floatbank5_b_level           float64\n",
       "secondary_cleaner.state.floatbank6_a_air             float64\n",
       "secondary_cleaner.state.floatbank6_a_level           float64\n",
       "dtype: object"
      ]
     },
     "execution_count": 10,
     "metadata": {},
     "output_type": "execute_result"
    }
   ],
   "source": [
    "test_df['date'] = pd.to_datetime(test_df['date'], format='%Y-%m-%d %H:%M:%S')\n",
    "test_df.dtypes"
   ]
  },
  {
   "cell_type": "code",
   "execution_count": 11,
   "metadata": {},
   "outputs": [
    {
     "data": {
      "text/plain": [
       "date                                          datetime64[ns]\n",
       "final.output.concentrate_ag                          float64\n",
       "final.output.concentrate_pb                          float64\n",
       "final.output.concentrate_sol                         float64\n",
       "final.output.concentrate_au                          float64\n",
       "                                                   ...      \n",
       "secondary_cleaner.state.floatbank5_a_level           float64\n",
       "secondary_cleaner.state.floatbank5_b_air             float64\n",
       "secondary_cleaner.state.floatbank5_b_level           float64\n",
       "secondary_cleaner.state.floatbank6_a_air             float64\n",
       "secondary_cleaner.state.floatbank6_a_level           float64\n",
       "Length: 87, dtype: object"
      ]
     },
     "execution_count": 11,
     "metadata": {},
     "output_type": "execute_result"
    }
   ],
   "source": [
    "full_df['date'] = pd.to_datetime(full_df['date'], format='%Y-%m-%d %H:%M:%S')\n",
    "full_df.dtypes"
   ]
  },
  {
   "cell_type": "markdown",
   "metadata": {},
   "source": [
    "Изменили формат данных с \"object\" на \"datetime\""
   ]
  },
  {
   "cell_type": "code",
   "execution_count": 12,
   "metadata": {},
   "outputs": [
    {
     "name": "stdout",
     "output_type": "stream",
     "text": [
      "Количество дубликатов в обучающей выборке= 0\n",
      "Количество дубликатов в тестовой выборке= 0\n",
      "Количество дубликатов в исходных данных= 0\n"
     ]
    }
   ],
   "source": [
    "print('Количество дубликатов в обучающей выборке=', train_df.duplicated().sum())\n",
    "print('Количество дубликатов в тестовой выборке=',test_df.duplicated().sum())\n",
    "print('Количество дубликатов в исходных данных=',full_df.duplicated().sum())"
   ]
  },
  {
   "cell_type": "markdown",
   "metadata": {},
   "source": [
    "Дубликатов нет"
   ]
  },
  {
   "cell_type": "code",
   "execution_count": 13,
   "metadata": {},
   "outputs": [
    {
     "name": "stdout",
     "output_type": "stream",
     "text": [
      "\n",
      "Размер тренировочной выборки - (14149, 87) и количество строк без пропусков - 14149\n",
      "\n",
      "Размер тестовой выборки - (5290, 53) и количество строк без пропусков - 5290\n",
      "\n",
      "Размер исходной выборки - (19439, 87) и количество строк без пропусков - 19439\n"
     ]
    }
   ],
   "source": [
    "size_of_train_df_before = train_df.shape\n",
    "size_of_test_df_before = test_df.shape\n",
    "size_of_full_df_before = full_df.shape\n",
    "train_df = train_df.ffill(axis=0)\n",
    "test_df = test_df.ffill(axis=0)\n",
    "full_df = full_df.ffill(axis=0)\n",
    "print(f'\\nРазмер тренировочной выборки - {size_of_train_df_before} и количество строк без пропусков - {len(train_df.notna())}')\n",
    "print(f'\\nРазмер тестовой выборки - {size_of_test_df_before} и количество строк без пропусков - {len(test_df.notna())}')\n",
    "print(f'\\nРазмер исходной выборки - {size_of_full_df_before} и количество строк без пропусков - {len(full_df.notna())}')"
   ]
  },
  {
   "cell_type": "markdown",
   "metadata": {},
   "source": [
    "Учитывая, что данные индексируются датой и временем получения информации, а соседние по времени параметры часто похожи, избавились от пропусков."
   ]
  },
  {
   "cell_type": "code",
   "execution_count": 14,
   "metadata": {},
   "outputs": [
    {
     "name": "stdout",
     "output_type": "stream",
     "text": [
      "MAE - 9.73512347450521e-15\n"
     ]
    }
   ],
   "source": [
    "c = train_df['rougher.output.concentrate_au']\n",
    "f = train_df['rougher.input.feed_au']\n",
    "t = train_df['rougher.output.tail_au']\n",
    "recovery = ((c*(f-t))/(f*(c-t))) * 100\n",
    "print('MAE -', mean_absolute_error(train_df['rougher.output.recovery'], recovery))"
   ]
  },
  {
   "cell_type": "markdown",
   "metadata": {},
   "source": [
    "Проверили формулу эффективности обогащения.Найшли MAE между полученными значениями и значением признака. Значение небольшое. Значит расчеты правильные."
   ]
  },
  {
   "cell_type": "code",
   "execution_count": 15,
   "metadata": {},
   "outputs": [
    {
     "data": {
      "text/plain": [
       "{'final.output.concentrate_ag',\n",
       " 'final.output.concentrate_au',\n",
       " 'final.output.concentrate_pb',\n",
       " 'final.output.concentrate_sol',\n",
       " 'final.output.recovery',\n",
       " 'final.output.tail_ag',\n",
       " 'final.output.tail_au',\n",
       " 'final.output.tail_pb',\n",
       " 'final.output.tail_sol',\n",
       " 'primary_cleaner.output.concentrate_ag',\n",
       " 'primary_cleaner.output.concentrate_au',\n",
       " 'primary_cleaner.output.concentrate_pb',\n",
       " 'primary_cleaner.output.concentrate_sol',\n",
       " 'primary_cleaner.output.tail_ag',\n",
       " 'primary_cleaner.output.tail_au',\n",
       " 'primary_cleaner.output.tail_pb',\n",
       " 'primary_cleaner.output.tail_sol',\n",
       " 'rougher.calculation.au_pb_ratio',\n",
       " 'rougher.calculation.floatbank10_sulfate_to_au_feed',\n",
       " 'rougher.calculation.floatbank11_sulfate_to_au_feed',\n",
       " 'rougher.calculation.sulfate_to_au_concentrate',\n",
       " 'rougher.output.concentrate_ag',\n",
       " 'rougher.output.concentrate_au',\n",
       " 'rougher.output.concentrate_pb',\n",
       " 'rougher.output.concentrate_sol',\n",
       " 'rougher.output.recovery',\n",
       " 'rougher.output.tail_ag',\n",
       " 'rougher.output.tail_au',\n",
       " 'rougher.output.tail_pb',\n",
       " 'rougher.output.tail_sol',\n",
       " 'secondary_cleaner.output.tail_ag',\n",
       " 'secondary_cleaner.output.tail_au',\n",
       " 'secondary_cleaner.output.tail_pb',\n",
       " 'secondary_cleaner.output.tail_sol'}"
      ]
     },
     "execution_count": 15,
     "metadata": {},
     "output_type": "execute_result"
    }
   ],
   "source": [
    "missed_signs = set(train_df.columns) - set(test_df.columns)\n",
    "missed_signs"
   ]
  },
  {
   "cell_type": "code",
   "execution_count": 16,
   "metadata": {},
   "outputs": [
    {
     "name": "stdout",
     "output_type": "stream",
     "text": [
      "Количество отсутствующих признаков - 34\n"
     ]
    }
   ],
   "source": [
    "print('Количество отсутствующих признаков -', len(missed_signs))"
   ]
  },
  {
   "cell_type": "code",
   "execution_count": 17,
   "metadata": {},
   "outputs": [],
   "source": [
    "dict_with_name_of_values = {'final': 'финальные характеристики',\n",
    "                           'primary_cleaner': 'первичная очистка',\n",
    "                           'secondary_cleaner': 'вторичная очистка',\n",
    "                           'input': 'параметры сырья',\n",
    "                           'output': 'параметры продукта',\n",
    "                           'rougher': 'флотация',\n",
    "                           'state': 'параметры, характеризующие текущее состояние этапа',\n",
    "                           'calculation': 'расчётные характеристики'}"
   ]
  },
  {
   "cell_type": "code",
   "execution_count": 18,
   "metadata": {},
   "outputs": [
    {
     "name": "stdout",
     "output_type": "stream",
     "text": [
      "ДЛЯ ЭТАПА \"ПЕРВИЧНАЯ ОЧИСТКА\" С ОПЦИЕЙ \"ПАРАМЕТРЫ ПРОДУКТА\" ОТСУТСТВУЮТ ЗНАЧЕНИЯ:\n",
      " - concentrate_pb\n",
      " - tail_ag\n",
      " - concentrate_sol\n",
      " - concentrate_au\n",
      " - tail_pb\n",
      " - concentrate_ag\n",
      " - tail_au\n",
      " - tail_sol\n",
      "ДЛЯ ЭТАПА \"ФИНАЛЬНЫЕ ХАРАКТЕРИСТИКИ\" С ОПЦИЕЙ \"ПАРАМЕТРЫ ПРОДУКТА\" ОТСУТСТВУЮТ ЗНАЧЕНИЯ:\n",
      " - tail_sol\n",
      " - concentrate_sol\n",
      " - recovery\n",
      " - tail_au\n",
      " - tail_ag\n",
      " - concentrate_au\n",
      " - tail_pb\n",
      " - concentrate_pb\n",
      " - concentrate_ag\n",
      "ДЛЯ ЭТАПА \"ФЛОТАЦИЯ\" С ОПЦИЕЙ \"ПАРАМЕТРЫ ПРОДУКТА\" ОТСУТСТВУЮТ ЗНАЧЕНИЯ:\n",
      " - tail_pb\n",
      " - recovery\n",
      " - tail_ag\n",
      " - tail_au\n",
      " - tail_sol\n",
      " - concentrate_ag\n",
      " - concentrate_pb\n",
      " - concentrate_au\n",
      " - concentrate_sol\n",
      "ДЛЯ ЭТАПА \"ВТОРИЧНАЯ ОЧИСТКА\" С ОПЦИЕЙ \"ПАРАМЕТРЫ ПРОДУКТА\" ОТСУТСТВУЮТ ЗНАЧЕНИЯ:\n",
      " - tail_sol\n",
      " - tail_ag\n",
      " - tail_pb\n",
      " - tail_au\n",
      "ДЛЯ ЭТАПА \"ФЛОТАЦИЯ\" С ОПЦИЕЙ \"РАСЧЁТНЫЕ ХАРАКТЕРИСТИКИ\" ОТСУТСТВУЮТ ЗНАЧЕНИЯ:\n",
      " - au_pb_ratio\n",
      " - sulfate_to_au_concentrate\n",
      " - floatbank11_sulfate_to_au_feed\n",
      " - floatbank10_sulfate_to_au_feed\n"
     ]
    }
   ],
   "source": [
    "dict_for_missed_signs = {}\n",
    "for sign in missed_signs:\n",
    "    list_with_words = sign.split('.')\n",
    "    stage = list_with_words[0]+'-'+list_with_words[1]\n",
    "    if stage in dict_for_missed_signs:\n",
    "        dict_for_missed_signs[stage].append(list_with_words[2])\n",
    "    elif stage not in dict_for_missed_signs:\n",
    "        dict_for_missed_signs[stage] = [list_with_words[2]]\n",
    "for key in dict_for_missed_signs.keys():\n",
    "    split_key = key.split('-')\n",
    "    \n",
    "    print( f'ДЛЯ ЭТАПА \"{(dict_with_name_of_values[split_key[0]]).upper()}\" С ОПЦИЕЙ \"{(dict_with_name_of_values[split_key[1]]).upper()}\" ОТСУТСТВУЮТ ЗНАЧЕНИЯ:')\n",
    "     \n",
    "    for elem in dict_for_missed_signs[key]:\n",
    "        print(f' - {elem}')"
   ]
  },
  {
   "cell_type": "markdown",
   "metadata": {},
   "source": [
    "Проанализировали признаки, недоступные в тестовой выборке.В основном в тестовой выборке отсутствуют значения типа \"параметры продукта\", и в меньшем количестве (4 штуки) значения типа \"расчетные характеристики\". Отсутствие признаков можно обьяснить тем, что они замеряются и/или рассчитываются значительно позже (по условию задачи).\n",
    "В тестовой выборки в том числе отсутствуют целевые признаки rougher.output.recovery и final.output.recovery, которые будут нужны для расчета метрики качества. "
   ]
  },
  {
   "cell_type": "code",
   "execution_count": 19,
   "metadata": {},
   "outputs": [],
   "source": [
    "test_df = test_df.merge(full_df.loc[:, ['date','rougher.output.recovery','final.output.recovery']], on='date')"
   ]
  },
  {
   "cell_type": "markdown",
   "metadata": {},
   "source": [
    "Добавили целевые признаки rougher.output.recovery и final.output.recovery, которые будут нужны для расчета метрики качества в тестовую выборку (данные индексируются датой и временем получения информации)"
   ]
  },
  {
   "cell_type": "code",
   "execution_count": 20,
   "metadata": {},
   "outputs": [],
   "source": [
    "train_df = train_df.drop('date', axis=1)\n",
    "test_df = test_df.drop('date', axis=1)"
   ]
  },
  {
   "cell_type": "markdown",
   "metadata": {},
   "source": [
    "Удалили колонку date. Она не требуется для дальнейшего обучения модели."
   ]
  },
  {
   "cell_type": "code",
   "execution_count": 21,
   "metadata": {},
   "outputs": [
    {
     "name": "stdout",
     "output_type": "stream",
     "text": [
      "Размер тестовой выборки - (5290, 54) \n",
      "Размер тренировочной выборки - (14149, 86)\n"
     ]
    }
   ],
   "source": [
    "print('Размер тестовой выборки - {} \\nРазмер тренировочной выборки - {}'.format(test_df.shape, train_df.shape))\n"
   ]
  },
  {
   "cell_type": "markdown",
   "metadata": {},
   "source": [
    "<b>В подготовке данных:</b>\n",
    "\n",
    "-Загрузили и изучили данные\n",
    "\n",
    "-Был изменен тип данных для колонки date с object на datetime. \n",
    "\n",
    "-Пропуски в датасетах (тренировочная выборки и тестовая) были заполнены значениями предшествующими по времени (Так как в условии задачи сказано, что : \"Соседние по времени параметры часто похожи\").\n",
    "\n",
    "-Проверена правильность расчета эффективности обогащения. МАЕ равно предельно малому значению (отличие предсказаний от истинных значений).\n",
    "\n",
    "-В сравнение с тренировчной выборкой в тестовой отсутствуют 34 значения, это может быть связано с тем, что они замеряются и/или рассчитываются значительно позже.\n",
    "\n",
    "-В тестовую выборку были добавлены целевые признаки (rougher.output.recovery, final.output.recovery), которые будут необходимы в дальнейшем для рассчета итоговой метрики качества.\n",
    "\n",
    "-Колонка date была удалена как не информативна для дальнейшего обучения модели."
   ]
  },
  {
   "cell_type": "markdown",
   "metadata": {},
   "source": [
    "## Анализ данных"
   ]
  },
  {
   "cell_type": "code",
   "execution_count": 22,
   "metadata": {},
   "outputs": [
    {
     "data": {
      "image/png": "[encoded data removed]",
      "text/plain": [
       "<Figure size 1080x1224 with 3 Axes>"
      ]
     },
     "metadata": {
      "needs_background": "light"
     },
     "output_type": "display_data"
    }
   ],
   "source": [
    "position = 0\n",
    "plt.figure(figsize=[15, 17])\n",
    "plt.subplots_adjust(top=0.94, wspace=0.2, hspace=0.3)\n",
    "plt.suptitle('ГРАФИК КОНЦЕНТРАЦИИ МЕТАЛЛОВ НА РАЗЛИЧНЫХ ЭТАПАХ ОЧИТСКИ.', fontsize=15)\n",
    "for metal in ['au', 'ag', 'pb']:\n",
    "    position += 1\n",
    "    plt.subplot(3, 1, position)\n",
    "    plt.title(f'ГРАФИК РАСПРЕДЕЛЕНИЯ МЕТАЛЛА {str(metal).upper()} НА РАЗЛИЧНЫХ ЭТАПАХ ОЧИТСКИ', fontsize=13)\n",
    "    sns.set_style('darkgrid')\n",
    "    sns.histplot(train_df[f'rougher.input.feed_{metal}'], color='y', label='Сырье', kde=False)\n",
    "    sns.histplot(train_df[f'rougher.output.concentrate_{metal}'], color='b', label='Концентрация после флотации', kde=False)\n",
    "    sns.histplot(train_df[f'primary_cleaner.output.concentrate_{metal}'], color='g', label='Концентрация после первичной очистки', kde=False)\n",
    "    sns.histplot(train_df[f'final.output.concentrate_{metal}'], color='r', label='Финальная концетрация металла',kde=False)\n",
    "    plt.xlabel('Концентрация металла')\n",
    "    plt.ylabel('Количество наблюдений')\n",
    "    plt.legend()\n",
    "plt.show();"
   ]
  },
  {
   "cell_type": "markdown",
   "metadata": {},
   "source": [
    "<b>Изучили изменения концентрации металлов на различных этапах очистки:</b>\n",
    "\n",
    "- Доля золота на после каждого этапа очитски постепенно увеличивается\n",
    "- Доля серебра увеличивается на этапе флотации, а затем постепенно уменьшается\n",
    "- Доля свинца сначала увеличивается на этапе флотации и после первичной очитски, затем остатется примерно на одном уровне\n",
    "\n",
    "Везде присутствуют аномалии"
   ]
  },
  {
   "cell_type": "code",
   "execution_count": 23,
   "metadata": {},
   "outputs": [
    {
     "data": {
      "image/png": "[encoded data removed]",
      "text/plain": [
       "<Figure size 1080x1224 with 2 Axes>"
      ]
     },
     "metadata": {},
     "output_type": "display_data"
    }
   ],
   "source": [
    "position = 0\n",
    "plt.figure(figsize=[15, 17])\n",
    "plt.subplots_adjust(top=0.90, wspace=0.2, hspace=0.2)\n",
    "plt.suptitle('ГРАФИК РАСПРЕДЕЛЕНИЯ ГРАНУЛ СЫРЬЯ НА ОБУЧАЮЩЕЙ И ТЕСТОВОЙ ВЫБОРКАХ.', fontsize=15)\n",
    "for stage in ['rougher', 'primary_cleaner']:\n",
    "    position += 1\n",
    "    plt.subplot(2, 1, position)\n",
    "    plt.title(f'ГРАФИК РАСПРЕДЕЛЕНИЯ ГРАНУЛ ДЛЯ ЭТАПА {str(stage).upper()} НА ОБУЧАЮЩЕЙ и ТЕСТОВОЙ ВЫБОРКАХ', fontsize=13)\n",
    "    sns.set_style('darkgrid')\n",
    "    plt.hist(train_df[f'{stage}.input.feed_size'], color='r', label='Обучающая выборка', density=True)\n",
    "    plt.hist(test_df[f'{stage}.input.feed_size'], color='b', label='Тестовая выборка', density=True)\n",
    "    plt.xlabel('Размер гранул')\n",
    "    plt.ylabel('Количество наблюдений')\n",
    "    plt.legend()\n",
    "plt.show();"
   ]
  },
  {
   "cell_type": "markdown",
   "metadata": {},
   "source": [
    "<b>Сравнили распределения размеров гранул сырья на обучающей и тестовой выборках:</b>\n",
    "    \n",
    "-Для этапа флотации распределение гранул находится примерно в одинаковом диапазоне, но для тренировочной выборки преобладают гранулы с размером ~ 50 , а для тестовой наоборот, ниже порога 50\n",
    "\n",
    "-Для этапа первичной очитски разспределение гранул для выборок находится в одном диапазоне, однако есть различия в количестве наблюдений. Так для тренировочной выборки количество наблюдений размера гранул больше, чем для тестовой\n",
    "\n",
    "Значимых различий между распределениями для выборок не наблюдаем."
   ]
  },
  {
   "cell_type": "code",
   "execution_count": 24,
   "metadata": {},
   "outputs": [],
   "source": [
    "sum_concentrate_of_rougher_input = 0\n",
    "sum_concentrate_of_rougher_output = 0\n",
    "sum_concentrate_of_primary_cleaner_output = 0\n",
    "sum_concentrate_of_final_output = 0\n",
    "for metal in ['au', 'ag', 'pb', 'sol']:\n",
    "    sum_concentrate_of_rougher_input += train_df[f'rougher.input.feed_{metal}']\n",
    "    sum_concentrate_of_rougher_output += train_df[f'rougher.output.concentrate_{metal}']\n",
    "#     sum_concentrate_of_primary_cleaner_output += full_df[f'primary_cleaner.output.concentrate_{metal}']\n",
    "    sum_concentrate_of_final_output += train_df[f'final.output.concentrate_{metal}']\n"
   ]
  },
  {
   "cell_type": "code",
   "execution_count": 25,
   "metadata": {},
   "outputs": [
    {
     "data": {
      "image/png": "[encoded data removed]",
      "text/plain": [
       "<Figure size 1080x648 with 1 Axes>"
      ]
     },
     "metadata": {},
     "output_type": "display_data"
    }
   ],
   "source": [
    "plt.figure(figsize=[15, 9])\n",
    "plt.suptitle('ГРАФИК СУММАРНОЙ КОНЦЕНТРАЦИИ ВЕЩЕСТВ НА РАЗНЫХ СТАДИЯХ.', fontsize=15)\n",
    "sns.set_style('darkgrid')\n",
    "sns.histplot(sum_concentrate_of_rougher_input, color='y', label='Сырье', kde=False)\n",
    "sns.histplot(sum_concentrate_of_rougher_output, color='b', label='Концентрация после флотации', kde=False)\n",
    "# sns.histplot(sum_concentrate_of_primary_cleaner_output, color='g', label='Концентрация после первичной очистки', kde=False)\n",
    "sns.histplot(sum_concentrate_of_final_output, color='r', label='Финальная концетрация',kde=False)\n",
    "plt.xlabel('Концентрация веществ')\n",
    "plt.ylabel('Количество наблюдений')\n",
    "plt.legend()\n",
    "plt.show();"
   ]
  },
  {
   "cell_type": "markdown",
   "metadata": {},
   "source": [
    "Изучили суммарную концентрацию всех веществ на разных стадиях. Суммарная концентрация веществ увеличивается к финальному этапу, а диапазон распределения суммарной концентрации веществ уменьшается.\n",
    "    "
   ]
  },
  {
   "cell_type": "code",
   "execution_count": 26,
   "metadata": {},
   "outputs": [],
   "source": [
    "train_df = train_df[(train_df['rougher.output.concentrate_au'] != 0) & (train_df['rougher.output.concentrate_ag'] != 0) & (train_df['rougher.output.concentrate_pb'] != 0) & (train_df['rougher.output.concentrate_sol'] != 0)]\n",
    "train_df = train_df[(train_df['final.output.concentrate_au'] != 0) & (train_df['final.output.concentrate_ag'] != 0) & (train_df['final.output.concentrate_pb'] != 0) & (train_df['final.output.concentrate_sol'] != 0)]\n",
    "\n",
    "full_df = full_df[(full_df['rougher.output.concentrate_au'] != 0) & (full_df['rougher.output.concentrate_ag'] != 0) & (full_df['rougher.output.concentrate_pb'] != 0) & (full_df['rougher.output.concentrate_sol'] != 0)]\n",
    "full_df = full_df[(full_df['final.output.concentrate_au'] != 0) & (full_df['final.output.concentrate_ag'] != 0) & (full_df['final.output.concentrate_pb'] != 0) & (full_df['final.output.concentrate_sol'] != 0)]"
   ]
  },
  {
   "cell_type": "markdown",
   "metadata": {},
   "source": [
    "Удалили аномалии для финального и этапа флотации для суммарной концентрации веществ. Они могут повлиять на качество обучения модели."
   ]
  },
  {
   "cell_type": "markdown",
   "metadata": {},
   "source": [
    "Вывод:\n",
    "\n",
    "-Распределения гранул сырья на обучающей и тестовой выборках значительных различий не имеют\n",
    "\n",
    "-Доля золота увеличивается по мере прохождения этапов очистки\n",
    "\n",
    "-В анализа суммарной концентрации веществ на разных стадиях были выявлены аномалии, которые были удалены для улучшения качества будущих моделей прогнозирования."
   ]
  },
  {
   "cell_type": "markdown",
   "metadata": {},
   "source": [
    "## Модель"
   ]
  },
  {
   "cell_type": "code",
   "execution_count": 27,
   "metadata": {},
   "outputs": [
    {
     "name": "stdout",
     "output_type": "stream",
     "text": [
      "Количество признаков для удаления из тренировочной выборки - 32\n"
     ]
    }
   ],
   "source": [
    "signs_for_delete_without_target_signs = missed_signs - set(['rougher.output.recovery','final.output.recovery'])\n",
    "print('Количество признаков для удаления из тренировочной выборки -', len(signs_for_delete_without_target_signs))"
   ]
  },
  {
   "cell_type": "markdown",
   "metadata": {},
   "source": [
    "Во избежание утечки целевого признака, необходимо удалить отсутствующие в тестовой выборке признаки (за исключением целевых признаков) из тренировочной выборке."
   ]
  },
  {
   "cell_type": "code",
   "execution_count": 28,
   "metadata": {},
   "outputs": [],
   "source": [
    "train_df = train_df.drop(columns=signs_for_delete_without_target_signs, axis=1)"
   ]
  },
  {
   "cell_type": "markdown",
   "metadata": {},
   "source": [
    "Удалили."
   ]
  },
  {
   "cell_type": "markdown",
   "metadata": {},
   "source": [
    "Функция sMAPE"
   ]
  },
  {
   "cell_type": "code",
   "execution_count": 29,
   "metadata": {},
   "outputs": [],
   "source": [
    "def get_smape(target, predict):\n",
    "    smape = (1/len(target))*np.sum((np.abs(target - predict))/( (np.abs(target)+np.abs(predict))/2))*100\n",
    "    return smape"
   ]
  },
  {
   "cell_type": "markdown",
   "metadata": {},
   "source": [
    "Пользовательский скорринг для кросс-валидации."
   ]
  },
  {
   "cell_type": "code",
   "execution_count": 30,
   "metadata": {},
   "outputs": [],
   "source": [
    "smape_scorer = make_scorer(get_smape, greater_is_better = False)"
   ]
  },
  {
   "cell_type": "markdown",
   "metadata": {},
   "source": [
    "Функция итоговой sMAPE"
   ]
  },
  {
   "cell_type": "code",
   "execution_count": 31,
   "metadata": {},
   "outputs": [],
   "source": [
    "def get_final_smape(rougher, final):\n",
    "    final = 0.25*rougher+0.75*final\n",
    "    return final"
   ]
  },
  {
   "cell_type": "code",
   "execution_count": 32,
   "metadata": {},
   "outputs": [],
   "source": [
    "features_for_train_df = train_df.drop(['rougher.output.recovery','final.output.recovery'], axis=1)\n",
    "target_for_rougher_on_train_df = train_df['rougher.output.recovery']\n",
    "target_for_final_on_train_df = train_df['final.output.recovery']"
   ]
  },
  {
   "cell_type": "markdown",
   "metadata": {},
   "source": [
    "Подготовили данные для обучения."
   ]
  },
  {
   "cell_type": "code",
   "execution_count": 33,
   "metadata": {},
   "outputs": [],
   "source": [
    "dct_with_scores = {}"
   ]
  },
  {
   "cell_type": "code",
   "execution_count": 34,
   "metadata": {},
   "outputs": [
    {
     "name": "stdout",
     "output_type": "stream",
     "text": [
      "CPU times: user 886 ms, sys: 1.75 s, total: 2.64 s\n",
      "Wall time: 2.58 s\n"
     ]
    }
   ],
   "source": [
    "%%time\n",
    "model_lr_rougher = LinearRegression()\n",
    "smape_rougher = cross_val_score(model_lr_rougher,\n",
    "                          features_for_train_df,\n",
    "                          target_for_rougher_on_train_df,\n",
    "                          scoring=smape_scorer,\n",
    "                          cv=5)\n",
    "final_smape_rougher = smape_rougher.mean()\n",
    "model_lr_final = LinearRegression()\n",
    "smape_final = cross_val_score(model_lr_final,\n",
    "                        features_for_train_df,\n",
    "                        target_for_final_on_train_df,\n",
    "                        scoring=smape_scorer,\n",
    "                        cv=5)\n",
    "final_smape_final = smape_final.mean()\n",
    "result_smape = get_final_smape(final_smape_rougher, final_smape_final)*(-1)\n",
    "dct_with_scores['LR'] = [result_smape]"
   ]
  },
  {
   "cell_type": "markdown",
   "metadata": {},
   "source": [
    "Обучили Модель LinearRegression"
   ]
  },
  {
   "cell_type": "code",
   "execution_count": 43,
   "metadata": {},
   "outputs": [],
   "source": [
    "state = RandomState(12345)"
   ]
  },
  {
   "cell_type": "code",
   "execution_count": 36,
   "metadata": {},
   "outputs": [
    {
     "name": "stdout",
     "output_type": "stream",
     "text": [
      "[CV] START .....................................................................\n"
     ]
    },
    {
     "name": "stderr",
     "output_type": "stream",
     "text": [
      "[Parallel(n_jobs=-1)]: Using backend SequentialBackend with 1 concurrent workers.\n",
      "[Parallel(n_jobs=-1)]: Done   1 out of   1 | elapsed:    0.1s remaining:    0.0s\n",
      "[Parallel(n_jobs=-1)]: Done   2 out of   2 | elapsed:    0.2s remaining:    0.0s\n"
     ]
    },
    {
     "name": "stdout",
     "output_type": "stream",
     "text": [
      "[CV] END ............................... score: (test=-9.787) total time=   0.1s\n",
      "[CV] START .....................................................................\n",
      "[CV] END ............................... score: (test=-7.781) total time=   0.1s\n",
      "[CV] START .....................................................................\n",
      "[CV] END ............................... score: (test=-9.914) total time=   0.1s\n",
      "[CV] START .....................................................................\n",
      "[CV] END ............................... score: (test=-9.391) total time=   0.1s\n",
      "[CV] START .....................................................................\n",
      "[CV] END .............................. score: (test=-10.092) total time=   0.1s\n",
      "[CV] START .....................................................................\n",
      "[CV] END .............................. score: (test=-11.489) total time=   0.1s\n",
      "[CV] START .....................................................................\n"
     ]
    },
    {
     "name": "stderr",
     "output_type": "stream",
     "text": [
      "[Parallel(n_jobs=-1)]: Done   3 out of   3 | elapsed:    0.2s remaining:    0.0s\n",
      "[Parallel(n_jobs=-1)]: Done   3 out of   3 | elapsed:    0.2s finished\n",
      "[Parallel(n_jobs=-1)]: Using backend SequentialBackend with 1 concurrent workers.\n",
      "[Parallel(n_jobs=-1)]: Done   1 out of   1 | elapsed:    0.1s remaining:    0.0s\n",
      "[Parallel(n_jobs=-1)]: Done   2 out of   2 | elapsed:    0.1s remaining:    0.0s\n",
      "[Parallel(n_jobs=-1)]: Done   3 out of   3 | elapsed:    0.2s remaining:    0.0s\n",
      "[Parallel(n_jobs=-1)]: Done   3 out of   3 | elapsed:    0.2s finished\n",
      "[Parallel(n_jobs=-1)]: Using backend SequentialBackend with 1 concurrent workers.\n"
     ]
    },
    {
     "name": "stdout",
     "output_type": "stream",
     "text": [
      "[CV] END .............................. score: (test=-10.098) total time=   0.1s\n",
      "[CV] START .....................................................................\n",
      "[CV] END ............................... score: (test=-6.004) total time=   0.1s\n",
      "[CV] START .....................................................................\n"
     ]
    },
    {
     "name": "stderr",
     "output_type": "stream",
     "text": [
      "[Parallel(n_jobs=-1)]: Done   1 out of   1 | elapsed:    0.1s remaining:    0.0s\n",
      "[Parallel(n_jobs=-1)]: Done   2 out of   2 | elapsed:    0.2s remaining:    0.0s\n"
     ]
    },
    {
     "name": "stdout",
     "output_type": "stream",
     "text": [
      "[CV] END ............................... score: (test=-8.346) total time=   0.1s\n",
      "[CV] START .....................................................................\n",
      "[CV] END ............................... score: (test=-9.937) total time=   0.1s\n",
      "[CV] START .....................................................................\n"
     ]
    },
    {
     "name": "stderr",
     "output_type": "stream",
     "text": [
      "[Parallel(n_jobs=-1)]: Done   3 out of   3 | elapsed:    0.3s remaining:    0.0s\n",
      "[Parallel(n_jobs=-1)]: Done   3 out of   3 | elapsed:    0.3s finished\n",
      "[Parallel(n_jobs=-1)]: Using backend SequentialBackend with 1 concurrent workers.\n",
      "[Parallel(n_jobs=-1)]: Done   1 out of   1 | elapsed:    0.1s remaining:    0.0s\n"
     ]
    },
    {
     "name": "stdout",
     "output_type": "stream",
     "text": [
      "[CV] END ............................... score: (test=-9.411) total time=   0.1s\n",
      "[CV] START .....................................................................\n",
      "[CV] END .............................. score: (test=-13.278) total time=   0.1s\n",
      "[CV] START .....................................................................\n"
     ]
    },
    {
     "name": "stderr",
     "output_type": "stream",
     "text": [
      "[Parallel(n_jobs=-1)]: Done   2 out of   2 | elapsed:    0.2s remaining:    0.0s\n",
      "[Parallel(n_jobs=-1)]: Done   3 out of   3 | elapsed:    0.3s remaining:    0.0s\n",
      "[Parallel(n_jobs=-1)]: Done   3 out of   3 | elapsed:    0.3s finished\n",
      "[Parallel(n_jobs=-1)]: Using backend SequentialBackend with 1 concurrent workers.\n"
     ]
    },
    {
     "name": "stdout",
     "output_type": "stream",
     "text": [
      "[CV] END ............................... score: (test=-9.592) total time=   0.2s\n",
      "[CV] START .....................................................................\n",
      "[CV] END ............................... score: (test=-6.990) total time=   0.2s\n",
      "[CV] START .....................................................................\n"
     ]
    },
    {
     "name": "stderr",
     "output_type": "stream",
     "text": [
      "[Parallel(n_jobs=-1)]: Done   1 out of   1 | elapsed:    0.2s remaining:    0.0s\n",
      "[Parallel(n_jobs=-1)]: Done   2 out of   2 | elapsed:    0.3s remaining:    0.0s\n"
     ]
    },
    {
     "name": "stdout",
     "output_type": "stream",
     "text": [
      "[CV] END ............................... score: (test=-8.056) total time=   0.1s\n",
      "[CV] START .....................................................................\n",
      "[CV] END ............................... score: (test=-9.389) total time=   0.2s\n",
      "[CV] START .....................................................................\n"
     ]
    },
    {
     "name": "stderr",
     "output_type": "stream",
     "text": [
      "[Parallel(n_jobs=-1)]: Done   3 out of   3 | elapsed:    0.5s remaining:    0.0s\n",
      "[Parallel(n_jobs=-1)]: Done   3 out of   3 | elapsed:    0.5s finished\n",
      "[Parallel(n_jobs=-1)]: Using backend SequentialBackend with 1 concurrent workers.\n",
      "[Parallel(n_jobs=-1)]: Done   1 out of   1 | elapsed:    0.2s remaining:    0.0s\n"
     ]
    },
    {
     "name": "stdout",
     "output_type": "stream",
     "text": [
      "[CV] END .............................. score: (test=-10.551) total time=   0.2s\n",
      "[CV] START .....................................................................\n",
      "[CV] END .............................. score: (test=-14.640) total time=   0.2s\n",
      "[CV] START .....................................................................\n"
     ]
    },
    {
     "name": "stderr",
     "output_type": "stream",
     "text": [
      "[Parallel(n_jobs=-1)]: Done   2 out of   2 | elapsed:    0.3s remaining:    0.0s\n",
      "[Parallel(n_jobs=-1)]: Done   3 out of   3 | elapsed:    0.5s remaining:    0.0s\n",
      "[Parallel(n_jobs=-1)]: Done   3 out of   3 | elapsed:    0.5s finished\n",
      "[Parallel(n_jobs=-1)]: Using backend SequentialBackend with 1 concurrent workers.\n"
     ]
    },
    {
     "name": "stdout",
     "output_type": "stream",
     "text": [
      "[CV] END ............................... score: (test=-9.489) total time=   0.2s\n",
      "[CV] START .....................................................................\n",
      "[CV] END ............................... score: (test=-7.429) total time=   0.2s\n",
      "[CV] START .....................................................................\n"
     ]
    },
    {
     "name": "stderr",
     "output_type": "stream",
     "text": [
      "[Parallel(n_jobs=-1)]: Done   1 out of   1 | elapsed:    0.2s remaining:    0.0s\n",
      "[Parallel(n_jobs=-1)]: Done   2 out of   2 | elapsed:    0.4s remaining:    0.0s\n"
     ]
    },
    {
     "name": "stdout",
     "output_type": "stream",
     "text": [
      "[CV] END ............................... score: (test=-8.435) total time=   0.2s\n",
      "[CV] START .....................................................................\n",
      "[CV] END .............................. score: (test=-10.839) total time=   0.2s\n",
      "[CV] START .....................................................................\n"
     ]
    },
    {
     "name": "stderr",
     "output_type": "stream",
     "text": [
      "[Parallel(n_jobs=-1)]: Done   3 out of   3 | elapsed:    0.6s remaining:    0.0s\n",
      "[Parallel(n_jobs=-1)]: Done   3 out of   3 | elapsed:    0.6s finished\n",
      "[Parallel(n_jobs=-1)]: Using backend SequentialBackend with 1 concurrent workers.\n",
      "[Parallel(n_jobs=-1)]: Done   1 out of   1 | elapsed:    0.2s remaining:    0.0s\n"
     ]
    },
    {
     "name": "stdout",
     "output_type": "stream",
     "text": [
      "[CV] END ............................... score: (test=-9.903) total time=   0.2s\n",
      "[CV] START .....................................................................\n",
      "[CV] END .............................. score: (test=-13.542) total time=   0.2s\n",
      "[CV] START .....................................................................\n"
     ]
    },
    {
     "name": "stderr",
     "output_type": "stream",
     "text": [
      "[Parallel(n_jobs=-1)]: Done   2 out of   2 | elapsed:    0.4s remaining:    0.0s\n",
      "[Parallel(n_jobs=-1)]: Done   3 out of   3 | elapsed:    0.6s remaining:    0.0s\n",
      "[Parallel(n_jobs=-1)]: Done   3 out of   3 | elapsed:    0.6s finished\n",
      "[Parallel(n_jobs=-1)]: Using backend SequentialBackend with 1 concurrent workers.\n"
     ]
    },
    {
     "name": "stdout",
     "output_type": "stream",
     "text": [
      "[CV] END ............................... score: (test=-9.573) total time=   0.2s\n",
      "[CV] START .....................................................................\n"
     ]
    },
    {
     "name": "stderr",
     "output_type": "stream",
     "text": [
      "[Parallel(n_jobs=-1)]: Done   1 out of   1 | elapsed:    0.2s remaining:    0.0s\n"
     ]
    },
    {
     "name": "stdout",
     "output_type": "stream",
     "text": [
      "[CV] END ............................... score: (test=-7.192) total time=   0.2s\n",
      "[CV] START .....................................................................\n"
     ]
    },
    {
     "name": "stderr",
     "output_type": "stream",
     "text": [
      "[Parallel(n_jobs=-1)]: Done   2 out of   2 | elapsed:    0.5s remaining:    0.0s\n"
     ]
    },
    {
     "name": "stdout",
     "output_type": "stream",
     "text": [
      "[CV] END ............................... score: (test=-8.054) total time=   0.2s\n",
      "[CV] START .....................................................................\n"
     ]
    },
    {
     "name": "stderr",
     "output_type": "stream",
     "text": [
      "[Parallel(n_jobs=-1)]: Done   3 out of   3 | elapsed:    0.7s remaining:    0.0s\n",
      "[Parallel(n_jobs=-1)]: Done   3 out of   3 | elapsed:    0.7s finished\n",
      "[Parallel(n_jobs=-1)]: Using backend SequentialBackend with 1 concurrent workers.\n"
     ]
    },
    {
     "name": "stdout",
     "output_type": "stream",
     "text": [
      "[CV] END .............................. score: (test=-12.753) total time=   0.2s\n",
      "[CV] START .....................................................................\n"
     ]
    },
    {
     "name": "stderr",
     "output_type": "stream",
     "text": [
      "[Parallel(n_jobs=-1)]: Done   1 out of   1 | elapsed:    0.2s remaining:    0.0s\n"
     ]
    },
    {
     "name": "stdout",
     "output_type": "stream",
     "text": [
      "[CV] END ............................... score: (test=-9.946) total time=   0.2s\n",
      "[CV] START .....................................................................\n"
     ]
    },
    {
     "name": "stderr",
     "output_type": "stream",
     "text": [
      "[Parallel(n_jobs=-1)]: Done   2 out of   2 | elapsed:    0.5s remaining:    0.0s\n"
     ]
    },
    {
     "name": "stdout",
     "output_type": "stream",
     "text": [
      "[CV] END .............................. score: (test=-14.760) total time=   0.2s\n",
      "[CV] START .....................................................................\n"
     ]
    },
    {
     "name": "stderr",
     "output_type": "stream",
     "text": [
      "[Parallel(n_jobs=-1)]: Done   3 out of   3 | elapsed:    0.7s remaining:    0.0s\n",
      "[Parallel(n_jobs=-1)]: Done   3 out of   3 | elapsed:    0.7s finished\n",
      "[Parallel(n_jobs=-1)]: Using backend SequentialBackend with 1 concurrent workers.\n"
     ]
    },
    {
     "name": "stdout",
     "output_type": "stream",
     "text": [
      "[CV] END ............................... score: (test=-9.422) total time=   0.3s\n",
      "[CV] START .....................................................................\n"
     ]
    },
    {
     "name": "stderr",
     "output_type": "stream",
     "text": [
      "[Parallel(n_jobs=-1)]: Done   1 out of   1 | elapsed:    0.3s remaining:    0.0s\n"
     ]
    },
    {
     "name": "stdout",
     "output_type": "stream",
     "text": [
      "[CV] END ............................... score: (test=-8.314) total time=   0.3s\n",
      "[CV] START .....................................................................\n"
     ]
    },
    {
     "name": "stderr",
     "output_type": "stream",
     "text": [
      "[Parallel(n_jobs=-1)]: Done   2 out of   2 | elapsed:    0.6s remaining:    0.0s\n"
     ]
    },
    {
     "name": "stdout",
     "output_type": "stream",
     "text": [
      "[CV] END ............................... score: (test=-7.877) total time=   0.3s\n",
      "[CV] START .....................................................................\n"
     ]
    },
    {
     "name": "stderr",
     "output_type": "stream",
     "text": [
      "[Parallel(n_jobs=-1)]: Done   3 out of   3 | elapsed:    0.8s remaining:    0.0s\n",
      "[Parallel(n_jobs=-1)]: Done   3 out of   3 | elapsed:    0.8s finished\n",
      "[Parallel(n_jobs=-1)]: Using backend SequentialBackend with 1 concurrent workers.\n"
     ]
    },
    {
     "name": "stdout",
     "output_type": "stream",
     "text": [
      "[CV] END .............................. score: (test=-11.874) total time=   0.3s\n",
      "[CV] START .....................................................................\n"
     ]
    },
    {
     "name": "stderr",
     "output_type": "stream",
     "text": [
      "[Parallel(n_jobs=-1)]: Done   1 out of   1 | elapsed:    0.3s remaining:    0.0s\n"
     ]
    },
    {
     "name": "stdout",
     "output_type": "stream",
     "text": [
      "[CV] END .............................. score: (test=-10.383) total time=   0.3s\n",
      "[CV] START .....................................................................\n"
     ]
    },
    {
     "name": "stderr",
     "output_type": "stream",
     "text": [
      "[Parallel(n_jobs=-1)]: Done   2 out of   2 | elapsed:    0.6s remaining:    0.0s\n"
     ]
    },
    {
     "name": "stdout",
     "output_type": "stream",
     "text": [
      "[CV] END .............................. score: (test=-12.569) total time=   0.3s\n",
      "[CV] START .....................................................................\n"
     ]
    },
    {
     "name": "stderr",
     "output_type": "stream",
     "text": [
      "[Parallel(n_jobs=-1)]: Done   3 out of   3 | elapsed:    0.8s remaining:    0.0s\n",
      "[Parallel(n_jobs=-1)]: Done   3 out of   3 | elapsed:    0.8s finished\n",
      "[Parallel(n_jobs=-1)]: Using backend SequentialBackend with 1 concurrent workers.\n"
     ]
    },
    {
     "name": "stdout",
     "output_type": "stream",
     "text": [
      "[CV] END .............................. score: (test=-10.143) total time=   0.3s\n",
      "[CV] START .....................................................................\n"
     ]
    },
    {
     "name": "stderr",
     "output_type": "stream",
     "text": [
      "[Parallel(n_jobs=-1)]: Done   1 out of   1 | elapsed:    0.3s remaining:    0.0s\n"
     ]
    },
    {
     "name": "stdout",
     "output_type": "stream",
     "text": [
      "[CV] END ............................... score: (test=-8.036) total time=   0.3s\n",
      "[CV] START .....................................................................\n"
     ]
    },
    {
     "name": "stderr",
     "output_type": "stream",
     "text": [
      "[Parallel(n_jobs=-1)]: Done   2 out of   2 | elapsed:    0.6s remaining:    0.0s\n"
     ]
    },
    {
     "name": "stdout",
     "output_type": "stream",
     "text": [
      "[CV] END ............................... score: (test=-7.593) total time=   0.3s\n",
      "[CV] START .....................................................................\n"
     ]
    },
    {
     "name": "stderr",
     "output_type": "stream",
     "text": [
      "[Parallel(n_jobs=-1)]: Done   3 out of   3 | elapsed:    0.9s remaining:    0.0s\n",
      "[Parallel(n_jobs=-1)]: Done   3 out of   3 | elapsed:    0.9s finished\n",
      "[Parallel(n_jobs=-1)]: Using backend SequentialBackend with 1 concurrent workers.\n"
     ]
    },
    {
     "name": "stdout",
     "output_type": "stream",
     "text": [
      "[CV] END .............................. score: (test=-12.439) total time=   0.3s\n",
      "[CV] START .....................................................................\n"
     ]
    },
    {
     "name": "stderr",
     "output_type": "stream",
     "text": [
      "[Parallel(n_jobs=-1)]: Done   1 out of   1 | elapsed:    0.3s remaining:    0.0s\n"
     ]
    },
    {
     "name": "stdout",
     "output_type": "stream",
     "text": [
      "[CV] END .............................. score: (test=-10.329) total time=   0.3s\n",
      "[CV] START .....................................................................\n"
     ]
    },
    {
     "name": "stderr",
     "output_type": "stream",
     "text": [
      "[Parallel(n_jobs=-1)]: Done   2 out of   2 | elapsed:    0.7s remaining:    0.0s\n"
     ]
    },
    {
     "name": "stdout",
     "output_type": "stream",
     "text": [
      "[CV] END .............................. score: (test=-13.272) total time=   0.3s\n",
      "[CV] START .....................................................................\n"
     ]
    },
    {
     "name": "stderr",
     "output_type": "stream",
     "text": [
      "[Parallel(n_jobs=-1)]: Done   3 out of   3 | elapsed:    1.0s remaining:    0.0s\n",
      "[Parallel(n_jobs=-1)]: Done   3 out of   3 | elapsed:    1.0s finished\n",
      "[Parallel(n_jobs=-1)]: Using backend SequentialBackend with 1 concurrent workers.\n"
     ]
    },
    {
     "name": "stdout",
     "output_type": "stream",
     "text": [
      "[CV] END .............................. score: (test=-10.146) total time=   0.4s\n",
      "[CV] START .....................................................................\n"
     ]
    },
    {
     "name": "stderr",
     "output_type": "stream",
     "text": [
      "[Parallel(n_jobs=-1)]: Done   1 out of   1 | elapsed:    0.4s remaining:    0.0s\n"
     ]
    },
    {
     "name": "stdout",
     "output_type": "stream",
     "text": [
      "[CV] END ............................... score: (test=-8.619) total time=   0.4s\n",
      "[CV] START .....................................................................\n"
     ]
    },
    {
     "name": "stderr",
     "output_type": "stream",
     "text": [
      "[Parallel(n_jobs=-1)]: Done   2 out of   2 | elapsed:    0.7s remaining:    0.0s\n"
     ]
    },
    {
     "name": "stdout",
     "output_type": "stream",
     "text": [
      "[CV] END ............................... score: (test=-8.830) total time=   0.3s\n",
      "[CV] START .....................................................................\n"
     ]
    },
    {
     "name": "stderr",
     "output_type": "stream",
     "text": [
      "[Parallel(n_jobs=-1)]: Done   3 out of   3 | elapsed:    1.1s remaining:    0.0s\n",
      "[Parallel(n_jobs=-1)]: Done   3 out of   3 | elapsed:    1.1s finished\n",
      "[Parallel(n_jobs=-1)]: Using backend SequentialBackend with 1 concurrent workers.\n"
     ]
    },
    {
     "name": "stdout",
     "output_type": "stream",
     "text": [
      "[CV] END .............................. score: (test=-13.611) total time=   0.4s\n",
      "[CV] START .....................................................................\n"
     ]
    },
    {
     "name": "stderr",
     "output_type": "stream",
     "text": [
      "[Parallel(n_jobs=-1)]: Done   1 out of   1 | elapsed:    0.4s remaining:    0.0s\n"
     ]
    },
    {
     "name": "stdout",
     "output_type": "stream",
     "text": [
      "[CV] END .............................. score: (test=-11.542) total time=   0.4s\n",
      "[CV] START .....................................................................\n"
     ]
    },
    {
     "name": "stderr",
     "output_type": "stream",
     "text": [
      "[Parallel(n_jobs=-1)]: Done   2 out of   2 | elapsed:    0.8s remaining:    0.0s\n"
     ]
    },
    {
     "name": "stdout",
     "output_type": "stream",
     "text": [
      "[CV] END .............................. score: (test=-14.024) total time=   0.3s\n",
      "[CV] START .....................................................................\n"
     ]
    },
    {
     "name": "stderr",
     "output_type": "stream",
     "text": [
      "[Parallel(n_jobs=-1)]: Done   3 out of   3 | elapsed:    1.1s remaining:    0.0s\n",
      "[Parallel(n_jobs=-1)]: Done   3 out of   3 | elapsed:    1.1s finished\n",
      "[Parallel(n_jobs=-1)]: Using backend SequentialBackend with 1 concurrent workers.\n"
     ]
    },
    {
     "name": "stdout",
     "output_type": "stream",
     "text": [
      "[CV] END ............................... score: (test=-9.336) total time=   0.4s\n",
      "[CV] START .....................................................................\n"
     ]
    },
    {
     "name": "stderr",
     "output_type": "stream",
     "text": [
      "[Parallel(n_jobs=-1)]: Done   1 out of   1 | elapsed:    0.4s remaining:    0.0s\n"
     ]
    },
    {
     "name": "stdout",
     "output_type": "stream",
     "text": [
      "[CV] END ............................... score: (test=-8.677) total time=   0.4s\n",
      "[CV] START .....................................................................\n"
     ]
    },
    {
     "name": "stderr",
     "output_type": "stream",
     "text": [
      "[Parallel(n_jobs=-1)]: Done   2 out of   2 | elapsed:    0.8s remaining:    0.0s\n"
     ]
    },
    {
     "name": "stdout",
     "output_type": "stream",
     "text": [
      "[CV] END ............................... score: (test=-8.530) total time=   0.4s\n",
      "[CV] START .....................................................................\n"
     ]
    },
    {
     "name": "stderr",
     "output_type": "stream",
     "text": [
      "[Parallel(n_jobs=-1)]: Done   3 out of   3 | elapsed:    1.1s remaining:    0.0s\n",
      "[Parallel(n_jobs=-1)]: Done   3 out of   3 | elapsed:    1.1s finished\n",
      "[Parallel(n_jobs=-1)]: Using backend SequentialBackend with 1 concurrent workers.\n"
     ]
    },
    {
     "name": "stdout",
     "output_type": "stream",
     "text": [
      "[CV] END .............................. score: (test=-14.465) total time=   0.4s\n",
      "[CV] START .....................................................................\n"
     ]
    },
    {
     "name": "stderr",
     "output_type": "stream",
     "text": [
      "[Parallel(n_jobs=-1)]: Done   1 out of   1 | elapsed:    0.4s remaining:    0.0s\n"
     ]
    },
    {
     "name": "stdout",
     "output_type": "stream",
     "text": [
      "[CV] END .............................. score: (test=-11.775) total time=   0.4s\n",
      "[CV] START .....................................................................\n"
     ]
    },
    {
     "name": "stderr",
     "output_type": "stream",
     "text": [
      "[Parallel(n_jobs=-1)]: Done   2 out of   2 | elapsed:    0.8s remaining:    0.0s\n"
     ]
    },
    {
     "name": "stdout",
     "output_type": "stream",
     "text": [
      "[CV] END .............................. score: (test=-13.911) total time=   0.4s\n",
      "CPU times: user 12.3 s, sys: 75 ms, total: 12.4 s\n",
      "Wall time: 12.6 s\n"
     ]
    },
    {
     "name": "stderr",
     "output_type": "stream",
     "text": [
      "[Parallel(n_jobs=-1)]: Done   3 out of   3 | elapsed:    1.1s remaining:    0.0s\n",
      "[Parallel(n_jobs=-1)]: Done   3 out of   3 | elapsed:    1.1s finished\n"
     ]
    }
   ],
   "source": [
    "%%time\n",
    "best_result_for_dt = 100\n",
    "best_param_for_dt = 0\n",
    "for n in range(1, 10, 1):\n",
    "    model_dt_rougher = DecisionTreeRegressor(max_depth=n, random_state=state)\n",
    "    smape_rougher = cross_val_score(model_dt_rougher,\n",
    "                              features_for_train_df,\n",
    "                              target_for_rougher_on_train_df,\n",
    "                              scoring=smape_scorer,\n",
    "                              cv=3, verbose=10, n_jobs=-1)\n",
    "    final_smape_rougher = smape_rougher.mean()\n",
    "\n",
    "    model_dt_final = DecisionTreeRegressor(max_depth=n, random_state=state)\n",
    "    smape_final = cross_val_score(model_dt_final, \n",
    "                                  features_for_train_df,\n",
    "                                  target_for_final_on_train_df,\n",
    "                                  scoring=smape_scorer,\n",
    "                                  cv=3, verbose=10, n_jobs=-1)\n",
    "    final_smape_final = smape_final.mean()\n",
    "    result_smape = get_final_smape(final_smape_rougher, final_smape_final)*(-1)\n",
    "    if result_smape < best_result_for_dt:\n",
    "        best_result_for_dt = result_smape\n",
    "        best_param_for_dt = n\n",
    "              \n",
    "dct_with_scores['DT'] = [best_result_for_dt, best_param_for_dt]"
   ]
  },
  {
   "cell_type": "markdown",
   "metadata": {},
   "source": [
    "Обучили Модель DecisionTreeRegressor"
   ]
  },
  {
   "cell_type": "code",
   "execution_count": 37,
   "metadata": {},
   "outputs": [
    {
     "name": "stdout",
     "output_type": "stream",
     "text": [
      "[CV] START .....................................................................\n"
     ]
    },
    {
     "name": "stderr",
     "output_type": "stream",
     "text": [
      "[Parallel(n_jobs=-1)]: Using backend SequentialBackend with 1 concurrent workers.\n"
     ]
    },
    {
     "name": "stdout",
     "output_type": "stream",
     "text": [
      "[CV] END ............................... score: (test=-9.563) total time=   0.6s\n",
      "[CV] START .....................................................................\n"
     ]
    },
    {
     "name": "stderr",
     "output_type": "stream",
     "text": [
      "[Parallel(n_jobs=-1)]: Done   1 out of   1 | elapsed:    0.6s remaining:    0.0s\n"
     ]
    },
    {
     "name": "stdout",
     "output_type": "stream",
     "text": [
      "[CV] END ............................... score: (test=-5.812) total time=   0.6s\n",
      "[CV] START .....................................................................\n"
     ]
    },
    {
     "name": "stderr",
     "output_type": "stream",
     "text": [
      "[Parallel(n_jobs=-1)]: Done   2 out of   2 | elapsed:    1.2s remaining:    0.0s\n"
     ]
    },
    {
     "name": "stdout",
     "output_type": "stream",
     "text": [
      "[CV] END ............................... score: (test=-8.576) total time=   0.6s\n",
      "[CV] START .....................................................................\n"
     ]
    },
    {
     "name": "stderr",
     "output_type": "stream",
     "text": [
      "[Parallel(n_jobs=-1)]: Done   3 out of   3 | elapsed:    1.9s remaining:    0.0s\n",
      "[Parallel(n_jobs=-1)]: Done   3 out of   3 | elapsed:    1.9s finished\n",
      "[Parallel(n_jobs=-1)]: Using backend SequentialBackend with 1 concurrent workers.\n"
     ]
    },
    {
     "name": "stdout",
     "output_type": "stream",
     "text": [
      "[CV] END ............................... score: (test=-9.375) total time=   0.6s\n",
      "[CV] START .....................................................................\n"
     ]
    },
    {
     "name": "stderr",
     "output_type": "stream",
     "text": [
      "[Parallel(n_jobs=-1)]: Done   1 out of   1 | elapsed:    0.6s remaining:    0.0s\n"
     ]
    },
    {
     "name": "stdout",
     "output_type": "stream",
     "text": [
      "[CV] END .............................. score: (test=-10.200) total time=   0.6s\n",
      "[CV] START .....................................................................\n"
     ]
    },
    {
     "name": "stderr",
     "output_type": "stream",
     "text": [
      "[Parallel(n_jobs=-1)]: Done   2 out of   2 | elapsed:    1.2s remaining:    0.0s\n"
     ]
    },
    {
     "name": "stdout",
     "output_type": "stream",
     "text": [
      "[CV] END .............................. score: (test=-11.417) total time=   0.6s\n",
      "[CV] START .....................................................................\n"
     ]
    },
    {
     "name": "stderr",
     "output_type": "stream",
     "text": [
      "[Parallel(n_jobs=-1)]: Done   3 out of   3 | elapsed:    1.8s remaining:    0.0s\n",
      "[Parallel(n_jobs=-1)]: Done   3 out of   3 | elapsed:    1.8s finished\n",
      "[Parallel(n_jobs=-1)]: Using backend SequentialBackend with 1 concurrent workers.\n"
     ]
    },
    {
     "name": "stdout",
     "output_type": "stream",
     "text": [
      "[CV] END ............................... score: (test=-8.850) total time=   1.1s\n",
      "[CV] START .....................................................................\n"
     ]
    },
    {
     "name": "stderr",
     "output_type": "stream",
     "text": [
      "[Parallel(n_jobs=-1)]: Done   1 out of   1 | elapsed:    1.1s remaining:    0.0s\n"
     ]
    },
    {
     "name": "stdout",
     "output_type": "stream",
     "text": [
      "[CV] END ............................... score: (test=-7.121) total time=   1.1s\n",
      "[CV] START .....................................................................\n"
     ]
    },
    {
     "name": "stderr",
     "output_type": "stream",
     "text": [
      "[Parallel(n_jobs=-1)]: Done   2 out of   2 | elapsed:    2.2s remaining:    0.0s\n"
     ]
    },
    {
     "name": "stdout",
     "output_type": "stream",
     "text": [
      "[CV] END ............................... score: (test=-8.531) total time=   1.1s\n",
      "[CV] START .....................................................................\n"
     ]
    },
    {
     "name": "stderr",
     "output_type": "stream",
     "text": [
      "[Parallel(n_jobs=-1)]: Done   3 out of   3 | elapsed:    3.4s remaining:    0.0s\n",
      "[Parallel(n_jobs=-1)]: Done   3 out of   3 | elapsed:    3.4s finished\n",
      "[Parallel(n_jobs=-1)]: Using backend SequentialBackend with 1 concurrent workers.\n"
     ]
    },
    {
     "name": "stdout",
     "output_type": "stream",
     "text": [
      "[CV] END ............................... score: (test=-9.314) total time=   1.2s\n",
      "[CV] START .....................................................................\n"
     ]
    },
    {
     "name": "stderr",
     "output_type": "stream",
     "text": [
      "[Parallel(n_jobs=-1)]: Done   1 out of   1 | elapsed:    1.2s remaining:    0.0s\n"
     ]
    },
    {
     "name": "stdout",
     "output_type": "stream",
     "text": [
      "[CV] END ............................... score: (test=-9.769) total time=   1.1s\n",
      "[CV] START .....................................................................\n"
     ]
    },
    {
     "name": "stderr",
     "output_type": "stream",
     "text": [
      "[Parallel(n_jobs=-1)]: Done   2 out of   2 | elapsed:    2.3s remaining:    0.0s\n"
     ]
    },
    {
     "name": "stdout",
     "output_type": "stream",
     "text": [
      "[CV] END .............................. score: (test=-13.839) total time=   1.1s\n",
      "[CV] START .....................................................................\n"
     ]
    },
    {
     "name": "stderr",
     "output_type": "stream",
     "text": [
      "[Parallel(n_jobs=-1)]: Done   3 out of   3 | elapsed:    3.4s remaining:    0.0s\n",
      "[Parallel(n_jobs=-1)]: Done   3 out of   3 | elapsed:    3.4s finished\n",
      "[Parallel(n_jobs=-1)]: Using backend SequentialBackend with 1 concurrent workers.\n"
     ]
    },
    {
     "name": "stdout",
     "output_type": "stream",
     "text": [
      "[CV] END ............................... score: (test=-8.998) total time=   1.6s\n",
      "[CV] START .....................................................................\n"
     ]
    },
    {
     "name": "stderr",
     "output_type": "stream",
     "text": [
      "[Parallel(n_jobs=-1)]: Done   1 out of   1 | elapsed:    1.6s remaining:    0.0s\n"
     ]
    },
    {
     "name": "stdout",
     "output_type": "stream",
     "text": [
      "[CV] END ............................... score: (test=-6.948) total time=   1.6s\n",
      "[CV] START .....................................................................\n"
     ]
    },
    {
     "name": "stderr",
     "output_type": "stream",
     "text": [
      "[Parallel(n_jobs=-1)]: Done   2 out of   2 | elapsed:    3.1s remaining:    0.0s\n"
     ]
    },
    {
     "name": "stdout",
     "output_type": "stream",
     "text": [
      "[CV] END ............................... score: (test=-8.419) total time=   1.5s\n",
      "[CV] START .....................................................................\n"
     ]
    },
    {
     "name": "stderr",
     "output_type": "stream",
     "text": [
      "[Parallel(n_jobs=-1)]: Done   3 out of   3 | elapsed:    4.7s remaining:    0.0s\n",
      "[Parallel(n_jobs=-1)]: Done   3 out of   3 | elapsed:    4.7s finished\n",
      "[Parallel(n_jobs=-1)]: Using backend SequentialBackend with 1 concurrent workers.\n"
     ]
    },
    {
     "name": "stdout",
     "output_type": "stream",
     "text": [
      "[CV] END ............................... score: (test=-9.447) total time=   1.5s\n",
      "[CV] START .....................................................................\n"
     ]
    },
    {
     "name": "stderr",
     "output_type": "stream",
     "text": [
      "[Parallel(n_jobs=-1)]: Done   1 out of   1 | elapsed:    1.6s remaining:    0.0s\n"
     ]
    },
    {
     "name": "stdout",
     "output_type": "stream",
     "text": [
      "[CV] END ............................... score: (test=-9.965) total time=   1.6s\n",
      "[CV] START .....................................................................\n"
     ]
    },
    {
     "name": "stderr",
     "output_type": "stream",
     "text": [
      "[Parallel(n_jobs=-1)]: Done   2 out of   2 | elapsed:    3.1s remaining:    0.0s\n"
     ]
    },
    {
     "name": "stdout",
     "output_type": "stream",
     "text": [
      "[CV] END .............................. score: (test=-12.179) total time=   1.6s\n",
      "[CV] START .....................................................................\n"
     ]
    },
    {
     "name": "stderr",
     "output_type": "stream",
     "text": [
      "[Parallel(n_jobs=-1)]: Done   3 out of   3 | elapsed:    4.8s remaining:    0.0s\n",
      "[Parallel(n_jobs=-1)]: Done   3 out of   3 | elapsed:    4.8s finished\n",
      "[Parallel(n_jobs=-1)]: Using backend SequentialBackend with 1 concurrent workers.\n"
     ]
    },
    {
     "name": "stdout",
     "output_type": "stream",
     "text": [
      "[CV] END ............................... score: (test=-8.921) total time=   2.0s\n",
      "[CV] START .....................................................................\n"
     ]
    },
    {
     "name": "stderr",
     "output_type": "stream",
     "text": [
      "[Parallel(n_jobs=-1)]: Done   1 out of   1 | elapsed:    2.0s remaining:    0.0s\n"
     ]
    },
    {
     "name": "stdout",
     "output_type": "stream",
     "text": [
      "[CV] END ............................... score: (test=-6.669) total time=   2.0s\n",
      "[CV] START .....................................................................\n"
     ]
    },
    {
     "name": "stderr",
     "output_type": "stream",
     "text": [
      "[Parallel(n_jobs=-1)]: Done   2 out of   2 | elapsed:    4.0s remaining:    0.0s\n"
     ]
    },
    {
     "name": "stdout",
     "output_type": "stream",
     "text": [
      "[CV] END ............................... score: (test=-8.866) total time=   2.0s\n",
      "[CV] START .....................................................................\n"
     ]
    },
    {
     "name": "stderr",
     "output_type": "stream",
     "text": [
      "[Parallel(n_jobs=-1)]: Done   3 out of   3 | elapsed:    6.0s remaining:    0.0s\n",
      "[Parallel(n_jobs=-1)]: Done   3 out of   3 | elapsed:    6.0s finished\n",
      "[Parallel(n_jobs=-1)]: Using backend SequentialBackend with 1 concurrent workers.\n"
     ]
    },
    {
     "name": "stdout",
     "output_type": "stream",
     "text": [
      "[CV] END ............................... score: (test=-9.579) total time=   2.1s\n",
      "[CV] START .....................................................................\n"
     ]
    },
    {
     "name": "stderr",
     "output_type": "stream",
     "text": [
      "[Parallel(n_jobs=-1)]: Done   1 out of   1 | elapsed:    2.1s remaining:    0.0s\n"
     ]
    },
    {
     "name": "stdout",
     "output_type": "stream",
     "text": [
      "[CV] END .............................. score: (test=-11.088) total time=   2.0s\n",
      "[CV] START .....................................................................\n"
     ]
    },
    {
     "name": "stderr",
     "output_type": "stream",
     "text": [
      "[Parallel(n_jobs=-1)]: Done   2 out of   2 | elapsed:    4.1s remaining:    0.0s\n"
     ]
    },
    {
     "name": "stdout",
     "output_type": "stream",
     "text": [
      "[CV] END .............................. score: (test=-12.492) total time=   2.0s\n",
      "[CV] START .....................................................................\n"
     ]
    },
    {
     "name": "stderr",
     "output_type": "stream",
     "text": [
      "[Parallel(n_jobs=-1)]: Done   3 out of   3 | elapsed:    6.2s remaining:    0.0s\n",
      "[Parallel(n_jobs=-1)]: Done   3 out of   3 | elapsed:    6.2s finished\n",
      "[Parallel(n_jobs=-1)]: Using backend SequentialBackend with 1 concurrent workers.\n"
     ]
    },
    {
     "name": "stdout",
     "output_type": "stream",
     "text": [
      "[CV] END ............................... score: (test=-9.543) total time=   2.4s\n",
      "[CV] START .....................................................................\n"
     ]
    },
    {
     "name": "stderr",
     "output_type": "stream",
     "text": [
      "[Parallel(n_jobs=-1)]: Done   1 out of   1 | elapsed:    2.4s remaining:    0.0s\n"
     ]
    },
    {
     "name": "stdout",
     "output_type": "stream",
     "text": [
      "[CV] END ............................... score: (test=-5.849) total time=   2.4s\n",
      "[CV] START .....................................................................\n"
     ]
    },
    {
     "name": "stderr",
     "output_type": "stream",
     "text": [
      "[Parallel(n_jobs=-1)]: Done   2 out of   2 | elapsed:    4.7s remaining:    0.0s\n"
     ]
    },
    {
     "name": "stdout",
     "output_type": "stream",
     "text": [
      "[CV] END ............................... score: (test=-8.486) total time=   2.4s\n",
      "[CV] START .....................................................................\n"
     ]
    },
    {
     "name": "stderr",
     "output_type": "stream",
     "text": [
      "[Parallel(n_jobs=-1)]: Done   3 out of   3 | elapsed:    7.1s remaining:    0.0s\n",
      "[Parallel(n_jobs=-1)]: Done   3 out of   3 | elapsed:    7.1s finished\n",
      "[Parallel(n_jobs=-1)]: Using backend SequentialBackend with 1 concurrent workers.\n"
     ]
    },
    {
     "name": "stdout",
     "output_type": "stream",
     "text": [
      "[CV] END ............................... score: (test=-9.303) total time=   2.4s\n",
      "[CV] START .....................................................................\n"
     ]
    },
    {
     "name": "stderr",
     "output_type": "stream",
     "text": [
      "[Parallel(n_jobs=-1)]: Done   1 out of   1 | elapsed:    2.4s remaining:    0.0s\n"
     ]
    },
    {
     "name": "stdout",
     "output_type": "stream",
     "text": [
      "[CV] END ............................... score: (test=-9.891) total time=   2.4s\n",
      "[CV] START .....................................................................\n"
     ]
    },
    {
     "name": "stderr",
     "output_type": "stream",
     "text": [
      "[Parallel(n_jobs=-1)]: Done   2 out of   2 | elapsed:    4.8s remaining:    0.0s\n"
     ]
    },
    {
     "name": "stdout",
     "output_type": "stream",
     "text": [
      "[CV] END .............................. score: (test=-11.434) total time=   2.4s\n",
      "[CV] START .....................................................................\n"
     ]
    },
    {
     "name": "stderr",
     "output_type": "stream",
     "text": [
      "[Parallel(n_jobs=-1)]: Done   3 out of   3 | elapsed:    7.2s remaining:    0.0s\n",
      "[Parallel(n_jobs=-1)]: Done   3 out of   3 | elapsed:    7.2s finished\n",
      "[Parallel(n_jobs=-1)]: Using backend SequentialBackend with 1 concurrent workers.\n"
     ]
    },
    {
     "name": "stdout",
     "output_type": "stream",
     "text": [
      "[CV] END ............................... score: (test=-8.941) total time=   4.5s\n",
      "[CV] START .....................................................................\n"
     ]
    },
    {
     "name": "stderr",
     "output_type": "stream",
     "text": [
      "[Parallel(n_jobs=-1)]: Done   1 out of   1 | elapsed:    4.5s remaining:    0.0s\n"
     ]
    },
    {
     "name": "stdout",
     "output_type": "stream",
     "text": [
      "[CV] END ............................... score: (test=-6.860) total time=   4.4s\n",
      "[CV] START .....................................................................\n"
     ]
    },
    {
     "name": "stderr",
     "output_type": "stream",
     "text": [
      "[Parallel(n_jobs=-1)]: Done   2 out of   2 | elapsed:    8.8s remaining:    0.0s\n"
     ]
    },
    {
     "name": "stdout",
     "output_type": "stream",
     "text": [
      "[CV] END ............................... score: (test=-8.548) total time=   4.4s\n",
      "[CV] START .....................................................................\n"
     ]
    },
    {
     "name": "stderr",
     "output_type": "stream",
     "text": [
      "[Parallel(n_jobs=-1)]: Done   3 out of   3 | elapsed:   13.2s remaining:    0.0s\n",
      "[Parallel(n_jobs=-1)]: Done   3 out of   3 | elapsed:   13.2s finished\n",
      "[Parallel(n_jobs=-1)]: Using backend SequentialBackend with 1 concurrent workers.\n"
     ]
    },
    {
     "name": "stdout",
     "output_type": "stream",
     "text": [
      "[CV] END ............................... score: (test=-9.175) total time=   4.4s\n",
      "[CV] START .....................................................................\n"
     ]
    },
    {
     "name": "stderr",
     "output_type": "stream",
     "text": [
      "[Parallel(n_jobs=-1)]: Done   1 out of   1 | elapsed:    4.4s remaining:    0.0s\n"
     ]
    },
    {
     "name": "stdout",
     "output_type": "stream",
     "text": [
      "[CV] END ............................... score: (test=-9.642) total time=   4.4s\n",
      "[CV] START .....................................................................\n"
     ]
    },
    {
     "name": "stderr",
     "output_type": "stream",
     "text": [
      "[Parallel(n_jobs=-1)]: Done   2 out of   2 | elapsed:    8.8s remaining:    0.0s\n"
     ]
    },
    {
     "name": "stdout",
     "output_type": "stream",
     "text": [
      "[CV] END .............................. score: (test=-13.688) total time=   4.4s\n",
      "[CV] START .....................................................................\n"
     ]
    },
    {
     "name": "stderr",
     "output_type": "stream",
     "text": [
      "[Parallel(n_jobs=-1)]: Done   3 out of   3 | elapsed:   13.1s remaining:    0.0s\n",
      "[Parallel(n_jobs=-1)]: Done   3 out of   3 | elapsed:   13.1s finished\n",
      "[Parallel(n_jobs=-1)]: Using backend SequentialBackend with 1 concurrent workers.\n"
     ]
    },
    {
     "name": "stdout",
     "output_type": "stream",
     "text": [
      "[CV] END ............................... score: (test=-8.877) total time=   6.4s\n",
      "[CV] START .....................................................................\n"
     ]
    },
    {
     "name": "stderr",
     "output_type": "stream",
     "text": [
      "[Parallel(n_jobs=-1)]: Done   1 out of   1 | elapsed:    6.4s remaining:    0.0s\n"
     ]
    },
    {
     "name": "stdout",
     "output_type": "stream",
     "text": [
      "[CV] END ............................... score: (test=-6.893) total time=   6.3s\n",
      "[CV] START .....................................................................\n"
     ]
    },
    {
     "name": "stderr",
     "output_type": "stream",
     "text": [
      "[Parallel(n_jobs=-1)]: Done   2 out of   2 | elapsed:   12.7s remaining:    0.0s\n"
     ]
    },
    {
     "name": "stdout",
     "output_type": "stream",
     "text": [
      "[CV] END ............................... score: (test=-8.214) total time=   6.4s\n",
      "[CV] START .....................................................................\n"
     ]
    },
    {
     "name": "stderr",
     "output_type": "stream",
     "text": [
      "[Parallel(n_jobs=-1)]: Done   3 out of   3 | elapsed:   19.1s remaining:    0.0s\n",
      "[Parallel(n_jobs=-1)]: Done   3 out of   3 | elapsed:   19.1s finished\n",
      "[Parallel(n_jobs=-1)]: Using backend SequentialBackend with 1 concurrent workers.\n"
     ]
    },
    {
     "name": "stdout",
     "output_type": "stream",
     "text": [
      "[CV] END ............................... score: (test=-9.187) total time=   6.4s\n",
      "[CV] START .....................................................................\n"
     ]
    },
    {
     "name": "stderr",
     "output_type": "stream",
     "text": [
      "[Parallel(n_jobs=-1)]: Done   1 out of   1 | elapsed:    6.4s remaining:    0.0s\n"
     ]
    },
    {
     "name": "stdout",
     "output_type": "stream",
     "text": [
      "[CV] END ............................... score: (test=-9.483) total time=   6.5s\n",
      "[CV] START .....................................................................\n"
     ]
    },
    {
     "name": "stderr",
     "output_type": "stream",
     "text": [
      "[Parallel(n_jobs=-1)]: Done   2 out of   2 | elapsed:   12.9s remaining:    0.0s\n"
     ]
    },
    {
     "name": "stdout",
     "output_type": "stream",
     "text": [
      "[CV] END .............................. score: (test=-12.315) total time=   6.4s\n",
      "[CV] START .....................................................................\n"
     ]
    },
    {
     "name": "stderr",
     "output_type": "stream",
     "text": [
      "[Parallel(n_jobs=-1)]: Done   3 out of   3 | elapsed:   19.3s remaining:    0.0s\n",
      "[Parallel(n_jobs=-1)]: Done   3 out of   3 | elapsed:   19.3s finished\n",
      "[Parallel(n_jobs=-1)]: Using backend SequentialBackend with 1 concurrent workers.\n"
     ]
    },
    {
     "name": "stdout",
     "output_type": "stream",
     "text": [
      "[CV] END ............................... score: (test=-8.921) total time=   8.0s\n",
      "[CV] START .....................................................................\n"
     ]
    },
    {
     "name": "stderr",
     "output_type": "stream",
     "text": [
      "[Parallel(n_jobs=-1)]: Done   1 out of   1 | elapsed:    8.0s remaining:    0.0s\n"
     ]
    },
    {
     "name": "stdout",
     "output_type": "stream",
     "text": [
      "[CV] END ............................... score: (test=-6.657) total time=   7.8s\n",
      "[CV] START .....................................................................\n"
     ]
    },
    {
     "name": "stderr",
     "output_type": "stream",
     "text": [
      "[Parallel(n_jobs=-1)]: Done   2 out of   2 | elapsed:   15.8s remaining:    0.0s\n"
     ]
    },
    {
     "name": "stdout",
     "output_type": "stream",
     "text": [
      "[CV] END ............................... score: (test=-8.618) total time=   8.1s\n",
      "[CV] START .....................................................................\n"
     ]
    },
    {
     "name": "stderr",
     "output_type": "stream",
     "text": [
      "[Parallel(n_jobs=-1)]: Done   3 out of   3 | elapsed:   23.9s remaining:    0.0s\n",
      "[Parallel(n_jobs=-1)]: Done   3 out of   3 | elapsed:   23.9s finished\n",
      "[Parallel(n_jobs=-1)]: Using backend SequentialBackend with 1 concurrent workers.\n"
     ]
    },
    {
     "name": "stdout",
     "output_type": "stream",
     "text": [
      "[CV] END ............................... score: (test=-9.541) total time=   8.1s\n",
      "[CV] START .....................................................................\n"
     ]
    },
    {
     "name": "stderr",
     "output_type": "stream",
     "text": [
      "[Parallel(n_jobs=-1)]: Done   1 out of   1 | elapsed:    8.1s remaining:    0.0s\n"
     ]
    },
    {
     "name": "stdout",
     "output_type": "stream",
     "text": [
      "[CV] END ............................... score: (test=-9.756) total time=   8.1s\n",
      "[CV] START .....................................................................\n"
     ]
    },
    {
     "name": "stderr",
     "output_type": "stream",
     "text": [
      "[Parallel(n_jobs=-1)]: Done   2 out of   2 | elapsed:   16.2s remaining:    0.0s\n"
     ]
    },
    {
     "name": "stdout",
     "output_type": "stream",
     "text": [
      "[CV] END .............................. score: (test=-12.175) total time=   8.1s\n",
      "[CV] START .....................................................................\n"
     ]
    },
    {
     "name": "stderr",
     "output_type": "stream",
     "text": [
      "[Parallel(n_jobs=-1)]: Done   3 out of   3 | elapsed:   24.3s remaining:    0.0s\n",
      "[Parallel(n_jobs=-1)]: Done   3 out of   3 | elapsed:   24.3s finished\n",
      "[Parallel(n_jobs=-1)]: Using backend SequentialBackend with 1 concurrent workers.\n"
     ]
    },
    {
     "name": "stdout",
     "output_type": "stream",
     "text": [
      "[CV] END ............................... score: (test=-9.542) total time=   4.1s\n",
      "[CV] START .....................................................................\n"
     ]
    },
    {
     "name": "stderr",
     "output_type": "stream",
     "text": [
      "[Parallel(n_jobs=-1)]: Done   1 out of   1 | elapsed:    4.1s remaining:    0.0s\n"
     ]
    },
    {
     "name": "stdout",
     "output_type": "stream",
     "text": [
      "[CV] END ............................... score: (test=-5.843) total time=   4.1s\n",
      "[CV] START .....................................................................\n"
     ]
    },
    {
     "name": "stderr",
     "output_type": "stream",
     "text": [
      "[Parallel(n_jobs=-1)]: Done   2 out of   2 | elapsed:    8.2s remaining:    0.0s\n"
     ]
    },
    {
     "name": "stdout",
     "output_type": "stream",
     "text": [
      "[CV] END ............................... score: (test=-8.341) total time=   4.0s\n",
      "[CV] START .....................................................................\n"
     ]
    },
    {
     "name": "stderr",
     "output_type": "stream",
     "text": [
      "[Parallel(n_jobs=-1)]: Done   3 out of   3 | elapsed:   12.3s remaining:    0.0s\n",
      "[Parallel(n_jobs=-1)]: Done   3 out of   3 | elapsed:   12.3s finished\n",
      "[Parallel(n_jobs=-1)]: Using backend SequentialBackend with 1 concurrent workers.\n"
     ]
    },
    {
     "name": "stdout",
     "output_type": "stream",
     "text": [
      "[CV] END ............................... score: (test=-9.249) total time=   4.0s\n",
      "[CV] START .....................................................................\n"
     ]
    },
    {
     "name": "stderr",
     "output_type": "stream",
     "text": [
      "[Parallel(n_jobs=-1)]: Done   1 out of   1 | elapsed:    4.0s remaining:    0.0s\n"
     ]
    },
    {
     "name": "stdout",
     "output_type": "stream",
     "text": [
      "[CV] END ............................... score: (test=-9.837) total time=   4.1s\n",
      "[CV] START .....................................................................\n"
     ]
    },
    {
     "name": "stderr",
     "output_type": "stream",
     "text": [
      "[Parallel(n_jobs=-1)]: Done   2 out of   2 | elapsed:    8.1s remaining:    0.0s\n"
     ]
    },
    {
     "name": "stdout",
     "output_type": "stream",
     "text": [
      "[CV] END .............................. score: (test=-11.508) total time=   4.1s\n",
      "[CV] START .....................................................................\n"
     ]
    },
    {
     "name": "stderr",
     "output_type": "stream",
     "text": [
      "[Parallel(n_jobs=-1)]: Done   3 out of   3 | elapsed:   12.2s remaining:    0.0s\n",
      "[Parallel(n_jobs=-1)]: Done   3 out of   3 | elapsed:   12.2s finished\n",
      "[Parallel(n_jobs=-1)]: Using backend SequentialBackend with 1 concurrent workers.\n"
     ]
    },
    {
     "name": "stdout",
     "output_type": "stream",
     "text": [
      "[CV] END ............................... score: (test=-8.959) total time=   7.7s\n",
      "[CV] START .....................................................................\n"
     ]
    },
    {
     "name": "stderr",
     "output_type": "stream",
     "text": [
      "[Parallel(n_jobs=-1)]: Done   1 out of   1 | elapsed:    7.7s remaining:    0.0s\n"
     ]
    },
    {
     "name": "stdout",
     "output_type": "stream",
     "text": [
      "[CV] END ............................... score: (test=-6.804) total time=   7.6s\n",
      "[CV] START .....................................................................\n"
     ]
    },
    {
     "name": "stderr",
     "output_type": "stream",
     "text": [
      "[Parallel(n_jobs=-1)]: Done   2 out of   2 | elapsed:   15.2s remaining:    0.0s\n"
     ]
    },
    {
     "name": "stdout",
     "output_type": "stream",
     "text": [
      "[CV] END ............................... score: (test=-8.510) total time=   7.6s\n",
      "[CV] START .....................................................................\n"
     ]
    },
    {
     "name": "stderr",
     "output_type": "stream",
     "text": [
      "[Parallel(n_jobs=-1)]: Done   3 out of   3 | elapsed:   22.9s remaining:    0.0s\n",
      "[Parallel(n_jobs=-1)]: Done   3 out of   3 | elapsed:   22.9s finished\n",
      "[Parallel(n_jobs=-1)]: Using backend SequentialBackend with 1 concurrent workers.\n"
     ]
    },
    {
     "name": "stdout",
     "output_type": "stream",
     "text": [
      "[CV] END ............................... score: (test=-9.131) total time=   7.6s\n",
      "[CV] START .....................................................................\n"
     ]
    },
    {
     "name": "stderr",
     "output_type": "stream",
     "text": [
      "[Parallel(n_jobs=-1)]: Done   1 out of   1 | elapsed:    7.7s remaining:    0.0s\n"
     ]
    },
    {
     "name": "stdout",
     "output_type": "stream",
     "text": [
      "[CV] END ............................... score: (test=-9.666) total time=   7.9s\n",
      "[CV] START .....................................................................\n"
     ]
    },
    {
     "name": "stderr",
     "output_type": "stream",
     "text": [
      "[Parallel(n_jobs=-1)]: Done   2 out of   2 | elapsed:   15.6s remaining:    0.0s\n"
     ]
    },
    {
     "name": "stdout",
     "output_type": "stream",
     "text": [
      "[CV] END .............................. score: (test=-13.850) total time=   7.9s\n",
      "[CV] START .....................................................................\n"
     ]
    },
    {
     "name": "stderr",
     "output_type": "stream",
     "text": [
      "[Parallel(n_jobs=-1)]: Done   3 out of   3 | elapsed:   23.5s remaining:    0.0s\n",
      "[Parallel(n_jobs=-1)]: Done   3 out of   3 | elapsed:   23.5s finished\n",
      "[Parallel(n_jobs=-1)]: Using backend SequentialBackend with 1 concurrent workers.\n"
     ]
    },
    {
     "name": "stdout",
     "output_type": "stream",
     "text": [
      "[CV] END ............................... score: (test=-8.866) total time=  11.1s\n",
      "[CV] START .....................................................................\n"
     ]
    },
    {
     "name": "stderr",
     "output_type": "stream",
     "text": [
      "[Parallel(n_jobs=-1)]: Done   1 out of   1 | elapsed:   11.1s remaining:    0.0s\n"
     ]
    },
    {
     "name": "stdout",
     "output_type": "stream",
     "text": [
      "[CV] END ............................... score: (test=-7.101) total time=  10.9s\n",
      "[CV] START .....................................................................\n"
     ]
    },
    {
     "name": "stderr",
     "output_type": "stream",
     "text": [
      "[Parallel(n_jobs=-1)]: Done   2 out of   2 | elapsed:   22.0s remaining:    0.0s\n"
     ]
    },
    {
     "name": "stdout",
     "output_type": "stream",
     "text": [
      "[CV] END ............................... score: (test=-8.339) total time=  10.9s\n",
      "[CV] START .....................................................................\n"
     ]
    },
    {
     "name": "stderr",
     "output_type": "stream",
     "text": [
      "[Parallel(n_jobs=-1)]: Done   3 out of   3 | elapsed:   33.0s remaining:    0.0s\n",
      "[Parallel(n_jobs=-1)]: Done   3 out of   3 | elapsed:   33.0s finished\n",
      "[Parallel(n_jobs=-1)]: Using backend SequentialBackend with 1 concurrent workers.\n"
     ]
    },
    {
     "name": "stdout",
     "output_type": "stream",
     "text": [
      "[CV] END ............................... score: (test=-9.105) total time=  10.8s\n",
      "[CV] START .....................................................................\n"
     ]
    },
    {
     "name": "stderr",
     "output_type": "stream",
     "text": [
      "[Parallel(n_jobs=-1)]: Done   1 out of   1 | elapsed:   10.8s remaining:    0.0s\n"
     ]
    },
    {
     "name": "stdout",
     "output_type": "stream",
     "text": [
      "[CV] END ............................... score: (test=-9.513) total time=  10.7s\n",
      "[CV] START .....................................................................\n"
     ]
    },
    {
     "name": "stderr",
     "output_type": "stream",
     "text": [
      "[Parallel(n_jobs=-1)]: Done   2 out of   2 | elapsed:   21.5s remaining:    0.0s\n"
     ]
    },
    {
     "name": "stdout",
     "output_type": "stream",
     "text": [
      "[CV] END .............................. score: (test=-12.260) total time=  11.0s\n",
      "[CV] START .....................................................................\n"
     ]
    },
    {
     "name": "stderr",
     "output_type": "stream",
     "text": [
      "[Parallel(n_jobs=-1)]: Done   3 out of   3 | elapsed:   32.5s remaining:    0.0s\n",
      "[Parallel(n_jobs=-1)]: Done   3 out of   3 | elapsed:   32.5s finished\n",
      "[Parallel(n_jobs=-1)]: Using backend SequentialBackend with 1 concurrent workers.\n"
     ]
    },
    {
     "name": "stdout",
     "output_type": "stream",
     "text": [
      "[CV] END ............................... score: (test=-8.801) total time=  13.9s\n",
      "[CV] START .....................................................................\n"
     ]
    },
    {
     "name": "stderr",
     "output_type": "stream",
     "text": [
      "[Parallel(n_jobs=-1)]: Done   1 out of   1 | elapsed:   13.9s remaining:    0.0s\n"
     ]
    },
    {
     "name": "stdout",
     "output_type": "stream",
     "text": [
      "[CV] END ............................... score: (test=-6.872) total time=  13.8s\n",
      "[CV] START .....................................................................\n"
     ]
    },
    {
     "name": "stderr",
     "output_type": "stream",
     "text": [
      "[Parallel(n_jobs=-1)]: Done   2 out of   2 | elapsed:   27.6s remaining:    0.0s\n"
     ]
    },
    {
     "name": "stdout",
     "output_type": "stream",
     "text": [
      "[CV] END ............................... score: (test=-8.808) total time=  13.9s\n",
      "[CV] START .....................................................................\n"
     ]
    },
    {
     "name": "stderr",
     "output_type": "stream",
     "text": [
      "[Parallel(n_jobs=-1)]: Done   3 out of   3 | elapsed:   41.5s remaining:    0.0s\n",
      "[Parallel(n_jobs=-1)]: Done   3 out of   3 | elapsed:   41.5s finished\n",
      "[Parallel(n_jobs=-1)]: Using backend SequentialBackend with 1 concurrent workers.\n"
     ]
    },
    {
     "name": "stdout",
     "output_type": "stream",
     "text": [
      "[CV] END ............................... score: (test=-9.306) total time=  14.1s\n",
      "[CV] START .....................................................................\n"
     ]
    },
    {
     "name": "stderr",
     "output_type": "stream",
     "text": [
      "[Parallel(n_jobs=-1)]: Done   1 out of   1 | elapsed:   14.1s remaining:    0.0s\n"
     ]
    },
    {
     "name": "stdout",
     "output_type": "stream",
     "text": [
      "[CV] END ............................... score: (test=-9.759) total time=  13.8s\n",
      "[CV] START .....................................................................\n"
     ]
    },
    {
     "name": "stderr",
     "output_type": "stream",
     "text": [
      "[Parallel(n_jobs=-1)]: Done   2 out of   2 | elapsed:   27.9s remaining:    0.0s\n"
     ]
    },
    {
     "name": "stdout",
     "output_type": "stream",
     "text": [
      "[CV] END .............................. score: (test=-12.258) total time=  14.2s\n",
      "CPU times: user 6min 16s, sys: 1.41 s, total: 6min 18s\n",
      "Wall time: 6min 19s\n"
     ]
    },
    {
     "name": "stderr",
     "output_type": "stream",
     "text": [
      "[Parallel(n_jobs=-1)]: Done   3 out of   3 | elapsed:   42.1s remaining:    0.0s\n",
      "[Parallel(n_jobs=-1)]: Done   3 out of   3 | elapsed:   42.1s finished\n"
     ]
    }
   ],
   "source": [
    "%%time\n",
    "best_model_for_rf = 100\n",
    "best_param_for_rf = 0\n",
    "\n",
    "for n in range(10, 100, 30):\n",
    "    for d in range(2,10,2):\n",
    "        model_rf_rougher = RandomForestRegressor(n_estimators=n, max_depth=d, random_state=state)\n",
    "        smape_rougher = cross_val_score(model_rf_rougher,\n",
    "                                  features_for_train_df,\n",
    "                                  target_for_rougher_on_train_df,\n",
    "                                  scoring=smape_scorer,\n",
    "                                  cv=3, verbose=10, n_jobs=-1)\n",
    "\n",
    "        final_smape_rougher = smape_rougher.mean()\n",
    "\n",
    "        model_rf_final = RandomForestRegressor(n_estimators=n, max_depth=d, random_state=state)\n",
    "        smape_final = cross_val_score(model_rf_final,\n",
    "                                features_for_train_df,\n",
    "                                target_for_final_on_train_df,\n",
    "                                scoring=smape_scorer,\n",
    "                                cv=3, verbose=10, n_jobs=-1)\n",
    "        final_smape_final = smape_final.mean()\n",
    "        result_smape = get_final_smape(final_smape_rougher, final_smape_final)*(-1)\n",
    "        if result_smape < best_model_for_rf:\n",
    "            best_model_for_rf = result_smape\n",
    "            best_param_for_rf = [n,d]\n",
    "            \n",
    "dct_with_scores['RF'] = [best_model_for_rf, best_param_for_rf]"
   ]
  },
  {
   "cell_type": "markdown",
   "metadata": {},
   "source": [
    "Обучили Модель RandomForestRegressor"
   ]
  },
  {
   "cell_type": "code",
   "execution_count": 38,
   "metadata": {},
   "outputs": [
    {
     "name": "stdout",
     "output_type": "stream",
     "text": [
      "\n",
      "МОДЕЛЬ LR С РЕЗУЛЬТАТОМ - 10.059261443482796\n",
      "\n",
      "МОДЕЛЬ DT С РЕЗУЛЬТАТОМ - 10.033081836886833\n",
      "\n",
      "МОДЕЛЬ RF С РЕЗУЛЬТАТОМ - 9.62572958515532\n"
     ]
    }
   ],
   "source": [
    "for key in dct_with_scores.keys():\n",
    "    print(f'\\nМОДЕЛЬ {str(key).upper()} С РЕЗУЛЬТАТОМ - {dct_with_scores[key][0]}')"
   ]
  },
  {
   "cell_type": "markdown",
   "metadata": {},
   "source": [
    "Лучшая модель - RandomForestRegressor"
   ]
  },
  {
   "cell_type": "code",
   "execution_count": 39,
   "metadata": {},
   "outputs": [
    {
     "name": "stdout",
     "output_type": "stream",
     "text": [
      "\n",
      "ЛУЧШИЕ ПАРАМЕТРЫ ДЛЯ МОДЕЛИ RF: N_ESTIMATORS - 70, MAX_DEPTH - 2\n"
     ]
    }
   ],
   "source": [
    "print('\\nЛУЧШИЕ ПАРАМЕТРЫ ДЛЯ МОДЕЛИ RF: N_ESTIMATORS - {}, MAX_DEPTH - {}'.format(dct_with_scores['RF'][1][0], dct_with_scores['RF'][1][1]))\n"
   ]
  },
  {
   "cell_type": "code",
   "execution_count": 40,
   "metadata": {},
   "outputs": [
    {
     "name": "stdout",
     "output_type": "stream",
     "text": [
      "SMAPE ДЛЯ ТЕСТОВОЙ ВЫБОРКИ СОСТОВЛЯЕТ - 9.504033186609172\n"
     ]
    }
   ],
   "source": [
    "features_for_test_df = test_df.drop(['rougher.output.recovery','final.output.recovery'], axis=1)\n",
    "target_for_rougher_on_test_df = test_df['rougher.output.recovery']\n",
    "target_for_final_on_test_df = test_df['final.output.recovery']\n",
    "   \n",
    "\n",
    "model_for_test_rougher = RandomForestRegressor(n_estimators=10, max_depth=4, random_state=state)\n",
    "model_for_test_rougher.fit(features_for_train_df, target_for_rougher_on_train_df)\n",
    "predicted_rougher = model_for_test_rougher.predict(features_for_test_df)\n",
    "\n",
    "model_for_test_final = RandomForestRegressor(n_estimators=10, max_depth=4, random_state=state)\n",
    "model_for_test_final.fit(features_for_train_df, target_for_final_on_train_df)\n",
    "predicted_final = model_for_test_final.predict(features_for_test_df)\n",
    "\n",
    "smape_for_test_rougher = get_smape(target_for_rougher_on_test_df, predicted_rougher)\n",
    "smape_for_test_final = get_smape(target_for_final_on_test_df, predicted_final)\n",
    "final_smape_for_test = get_final_smape(smape_for_test_rougher, smape_for_test_final)\n",
    "    \n",
    "\n",
    "print(f'SMAPE ДЛЯ ТЕСТОВОЙ ВЫБОРКИ СОСТОВЛЯЕТ - {final_smape_for_test}')"
   ]
  },
  {
   "cell_type": "code",
   "execution_count": 41,
   "metadata": {},
   "outputs": [],
   "source": [
    "dummy_regr_for_rougher = DummyRegressor(strategy=\"mean\")\n",
    "dummy_regr_for_final = DummyRegressor(strategy=\"mean\")\n",
    "\n",
    "dummy_regr_for_rougher.fit(features_for_train_df, target_for_rougher_on_train_df)\n",
    "dummy_regr_for_final.fit(features_for_train_df, target_for_final_on_train_df)\n",
    "\n",
    "dummy_predicted_rougher = dummy_regr_for_rougher.predict(features_for_test_df)\n",
    "dummy_predicted_final = dummy_regr_for_final.predict(features_for_test_df)\n",
    "\n",
    "smape_for_const_rougher = get_smape(target_for_rougher_on_test_df, dummy_predicted_rougher)\n",
    "smape_for_const_final = get_smape(target_for_final_on_test_df, dummy_predicted_final)\n",
    "\n",
    "final_smape_for_const = get_final_smape(smape_for_const_rougher, smape_for_const_final)\n"
   ]
  },
  {
   "cell_type": "code",
   "execution_count": 42,
   "metadata": {},
   "outputs": [
    {
     "name": "stdout",
     "output_type": "stream",
     "text": [
      "ПОКАЗАТЕЛЬ SMAPE ДЛЯ КОНСТАНТНОЙ МОДЕЛИ - 9.82146839182027\n"
     ]
    }
   ],
   "source": [
    "print(f'ПОКАЗАТЕЛЬ SMAPE ДЛЯ КОНСТАНТНОЙ МОДЕЛИ - {final_smape_for_const}')"
   ]
  },
  {
   "cell_type": "markdown",
   "metadata": {},
   "source": [
    "Показатель модели RandomForestRegressor намного меньше показателя константной, что означает хорошее качество полученной модели.\n",
    "\n",
    "Признаки, отсутствующие в тестовой выборке, были удалены из тренировочной выборки в избежание утечки целевого признака, что могло навредить качеству обучения моделей.\n",
    "\n",
    "Лучшая модель - RandomForestRegressor\n",
    "\n",
    "Модель проверена на адекватность, ее показатель SMAPE намного меньше показателя константной модели.\n",
    "\n",
    "\n",
    "Моделью с лучшими результатами прогноза является - RandomForestRegressor\n",
    "\n",
    "Модель проверена на адекватность.\n",
    "\n",
    "В процессе обработки данных были удалены аномальные значения и проверено распределение веществ для обучающей и тестовой выборки.\n",
    "\n",
    "Установленно, что мере прохождения стадий технологического процесса доля золота и свинца увеличичвается, а серебра уменьшается. Общее суммарное количество веществ снижается по мере прохождения этапов обработки."
   ]
  }
 ],
 "metadata": {
  "ExecuteTimeLog": [
   {
    "duration": 1746,
    "start_time": "2022-12-05T15:05:49.692Z"
   },
   {
    "duration": 2660,
    "start_time": "2022-12-05T15:06:47.022Z"
   },
   {
    "duration": 27,
    "start_time": "2022-12-05T16:04:00.260Z"
   },
   {
    "duration": 20,
    "start_time": "2022-12-05T16:04:08.309Z"
   },
   {
    "duration": 22,
    "start_time": "2022-12-05T16:05:15.111Z"
   },
   {
    "duration": 14,
    "start_time": "2022-12-05T16:05:15.961Z"
   },
   {
    "duration": 23,
    "start_time": "2022-12-05T16:05:16.659Z"
   },
   {
    "duration": 19,
    "start_time": "2022-12-05T16:05:17.590Z"
   },
   {
    "duration": 14,
    "start_time": "2022-12-05T16:30:10.700Z"
   },
   {
    "duration": 9,
    "start_time": "2022-12-05T16:30:13.583Z"
   },
   {
    "duration": 17,
    "start_time": "2022-12-05T16:30:17.711Z"
   },
   {
    "duration": 285,
    "start_time": "2022-12-05T16:32:58.503Z"
   },
   {
    "duration": 263,
    "start_time": "2022-12-05T16:34:45.527Z"
   },
   {
    "duration": 258,
    "start_time": "2022-12-05T16:36:24.541Z"
   },
   {
    "duration": 31,
    "start_time": "2022-12-05T16:38:59.534Z"
   },
   {
    "duration": 1570,
    "start_time": "2022-12-07T06:12:37.201Z"
   },
   {
    "duration": 2069,
    "start_time": "2022-12-07T06:12:38.773Z"
   },
   {
    "duration": 23,
    "start_time": "2022-12-07T06:12:40.844Z"
   },
   {
    "duration": 17,
    "start_time": "2022-12-07T06:12:40.868Z"
   },
   {
    "duration": 19,
    "start_time": "2022-12-07T06:12:40.887Z"
   },
   {
    "duration": 12,
    "start_time": "2022-12-07T06:12:40.908Z"
   },
   {
    "duration": 20,
    "start_time": "2022-12-07T06:12:40.921Z"
   },
   {
    "duration": 17,
    "start_time": "2022-12-07T06:12:40.942Z"
   },
   {
    "duration": 10,
    "start_time": "2022-12-07T06:12:40.960Z"
   },
   {
    "duration": 36,
    "start_time": "2022-12-07T06:12:40.972Z"
   },
   {
    "duration": 14,
    "start_time": "2022-12-07T06:12:41.009Z"
   },
   {
    "duration": 246,
    "start_time": "2022-12-07T06:12:41.024Z"
   },
   {
    "duration": 36,
    "start_time": "2022-12-07T06:12:41.272Z"
   },
   {
    "duration": 7,
    "start_time": "2022-12-07T06:12:41.311Z"
   },
   {
    "duration": 5,
    "start_time": "2022-12-07T06:19:40.915Z"
   },
   {
    "duration": 3,
    "start_time": "2022-12-07T06:20:19.507Z"
   },
   {
    "duration": 3,
    "start_time": "2022-12-07T06:22:22.694Z"
   },
   {
    "duration": 10,
    "start_time": "2022-12-07T06:22:37.350Z"
   },
   {
    "duration": 6,
    "start_time": "2022-12-07T06:23:14.022Z"
   },
   {
    "duration": 10,
    "start_time": "2022-12-07T06:23:31.919Z"
   },
   {
    "duration": 9,
    "start_time": "2022-12-07T06:23:58.658Z"
   },
   {
    "duration": 3,
    "start_time": "2022-12-07T06:33:30.035Z"
   },
   {
    "duration": 11,
    "start_time": "2022-12-07T06:33:38.455Z"
   },
   {
    "duration": 3,
    "start_time": "2022-12-07T06:33:39.715Z"
   },
   {
    "duration": 3143,
    "start_time": "2022-12-07T06:37:57.810Z"
   },
   {
    "duration": 550,
    "start_time": "2022-12-07T06:42:56.136Z"
   },
   {
    "duration": 7,
    "start_time": "2022-12-07T06:47:55.746Z"
   },
   {
    "duration": 1197,
    "start_time": "2022-12-07T06:48:25.761Z"
   },
   {
    "duration": 77,
    "start_time": "2022-12-07T06:57:40.187Z"
   },
   {
    "duration": 73,
    "start_time": "2022-12-07T06:58:27.168Z"
   },
   {
    "duration": 31,
    "start_time": "2022-12-07T07:00:41.182Z"
   },
   {
    "duration": 3,
    "start_time": "2022-12-07T09:06:52.551Z"
   },
   {
    "duration": 68,
    "start_time": "2022-12-07T09:09:19.873Z"
   },
   {
    "duration": 7,
    "start_time": "2022-12-07T09:09:27.015Z"
   },
   {
    "duration": 4,
    "start_time": "2022-12-07T09:10:14.164Z"
   },
   {
    "duration": 3,
    "start_time": "2022-12-07T09:25:55.441Z"
   },
   {
    "duration": 4,
    "start_time": "2022-12-07T09:25:56.243Z"
   },
   {
    "duration": 6,
    "start_time": "2022-12-07T09:25:57.282Z"
   },
   {
    "duration": 3113,
    "start_time": "2022-12-07T09:26:49.864Z"
   },
   {
    "duration": 2,
    "start_time": "2022-12-07T09:26:58.082Z"
   },
   {
    "duration": 3184,
    "start_time": "2022-12-07T09:26:58.825Z"
   },
   {
    "duration": 3,
    "start_time": "2022-12-07T09:36:39.735Z"
   },
   {
    "duration": 25022,
    "start_time": "2022-12-07T09:36:40.508Z"
   },
   {
    "duration": 3,
    "start_time": "2022-12-07T09:42:50.918Z"
   },
   {
    "duration": 98,
    "start_time": "2022-12-07T09:42:52.082Z"
   },
   {
    "duration": 11,
    "start_time": "2022-12-07T09:43:03.350Z"
   },
   {
    "duration": 10,
    "start_time": "2022-12-07T09:49:04.826Z"
   },
   {
    "duration": 12,
    "start_time": "2022-12-07T09:49:24.917Z"
   },
   {
    "duration": 11,
    "start_time": "2022-12-07T09:50:25.961Z"
   },
   {
    "duration": 11,
    "start_time": "2022-12-07T09:51:52.996Z"
   },
   {
    "duration": 26,
    "start_time": "2022-12-07T11:07:59.871Z"
   },
   {
    "duration": 10,
    "start_time": "2022-12-07T11:08:13.161Z"
   },
   {
    "duration": 1505,
    "start_time": "2022-12-07T11:08:26.222Z"
   },
   {
    "duration": 0,
    "start_time": "2022-12-07T11:08:27.730Z"
   },
   {
    "duration": 0,
    "start_time": "2022-12-07T11:08:27.731Z"
   },
   {
    "duration": 0,
    "start_time": "2022-12-07T11:08:27.732Z"
   },
   {
    "duration": 0,
    "start_time": "2022-12-07T11:08:27.733Z"
   },
   {
    "duration": 0,
    "start_time": "2022-12-07T11:08:27.734Z"
   },
   {
    "duration": 0,
    "start_time": "2022-12-07T11:08:27.735Z"
   },
   {
    "duration": 0,
    "start_time": "2022-12-07T11:08:27.736Z"
   },
   {
    "duration": 0,
    "start_time": "2022-12-07T11:08:27.737Z"
   },
   {
    "duration": 0,
    "start_time": "2022-12-07T11:08:27.738Z"
   },
   {
    "duration": 0,
    "start_time": "2022-12-07T11:08:27.739Z"
   },
   {
    "duration": 0,
    "start_time": "2022-12-07T11:08:27.740Z"
   },
   {
    "duration": 0,
    "start_time": "2022-12-07T11:08:27.741Z"
   },
   {
    "duration": 0,
    "start_time": "2022-12-07T11:08:27.742Z"
   },
   {
    "duration": 0,
    "start_time": "2022-12-07T11:08:27.743Z"
   },
   {
    "duration": 0,
    "start_time": "2022-12-07T11:08:27.744Z"
   },
   {
    "duration": 0,
    "start_time": "2022-12-07T11:08:27.745Z"
   },
   {
    "duration": 0,
    "start_time": "2022-12-07T11:08:27.746Z"
   },
   {
    "duration": 0,
    "start_time": "2022-12-07T11:08:27.747Z"
   },
   {
    "duration": 0,
    "start_time": "2022-12-07T11:08:27.748Z"
   },
   {
    "duration": 0,
    "start_time": "2022-12-07T11:08:27.748Z"
   },
   {
    "duration": 0,
    "start_time": "2022-12-07T11:08:27.750Z"
   },
   {
    "duration": 0,
    "start_time": "2022-12-07T11:08:27.751Z"
   },
   {
    "duration": 0,
    "start_time": "2022-12-07T11:08:27.752Z"
   },
   {
    "duration": 0,
    "start_time": "2022-12-07T11:08:27.752Z"
   },
   {
    "duration": 0,
    "start_time": "2022-12-07T11:08:27.753Z"
   },
   {
    "duration": 0,
    "start_time": "2022-12-07T11:08:27.754Z"
   },
   {
    "duration": 0,
    "start_time": "2022-12-07T11:08:27.755Z"
   },
   {
    "duration": 0,
    "start_time": "2022-12-07T11:08:27.756Z"
   },
   {
    "duration": 0,
    "start_time": "2022-12-07T11:08:27.757Z"
   },
   {
    "duration": 0,
    "start_time": "2022-12-07T11:08:27.758Z"
   },
   {
    "duration": 0,
    "start_time": "2022-12-07T11:08:27.758Z"
   },
   {
    "duration": 0,
    "start_time": "2022-12-07T11:08:27.759Z"
   },
   {
    "duration": 0,
    "start_time": "2022-12-07T11:08:27.759Z"
   },
   {
    "duration": 0,
    "start_time": "2022-12-07T11:08:27.805Z"
   },
   {
    "duration": 3323,
    "start_time": "2022-12-10T11:52:10.921Z"
   },
   {
    "duration": 1641,
    "start_time": "2022-12-10T11:52:16.178Z"
   },
   {
    "duration": 3024,
    "start_time": "2022-12-10T11:52:30.776Z"
   },
   {
    "duration": 7,
    "start_time": "2022-12-10T11:52:36.744Z"
   },
   {
    "duration": 3,
    "start_time": "2022-12-10T11:52:41.240Z"
   },
   {
    "duration": 1892,
    "start_time": "2022-12-10T11:52:50.861Z"
   },
   {
    "duration": 1464,
    "start_time": "2022-12-10T11:52:52.756Z"
   },
   {
    "duration": 1998,
    "start_time": "2022-12-10T11:52:54.222Z"
   },
   {
    "duration": 34,
    "start_time": "2022-12-10T11:52:56.221Z"
   },
   {
    "duration": 17,
    "start_time": "2022-12-10T11:52:56.258Z"
   },
   {
    "duration": 20,
    "start_time": "2022-12-10T11:52:56.276Z"
   },
   {
    "duration": 12,
    "start_time": "2022-12-10T11:52:56.298Z"
   },
   {
    "duration": 20,
    "start_time": "2022-12-10T11:52:56.312Z"
   },
   {
    "duration": 18,
    "start_time": "2022-12-10T11:52:56.334Z"
   },
   {
    "duration": 10,
    "start_time": "2022-12-10T11:52:56.378Z"
   },
   {
    "duration": 9,
    "start_time": "2022-12-10T11:52:56.390Z"
   },
   {
    "duration": 12,
    "start_time": "2022-12-10T11:52:56.401Z"
   },
   {
    "duration": 256,
    "start_time": "2022-12-10T11:52:56.415Z"
   },
   {
    "duration": 31,
    "start_time": "2022-12-10T11:52:56.677Z"
   },
   {
    "duration": 8,
    "start_time": "2022-12-10T11:52:56.709Z"
   },
   {
    "duration": 8,
    "start_time": "2022-12-10T11:52:56.719Z"
   },
   {
    "duration": 8,
    "start_time": "2022-12-10T11:52:56.728Z"
   },
   {
    "duration": 5,
    "start_time": "2022-12-10T11:52:56.737Z"
   },
   {
    "duration": 12,
    "start_time": "2022-12-10T11:52:56.744Z"
   },
   {
    "duration": 29,
    "start_time": "2022-12-10T11:52:56.757Z"
   },
   {
    "duration": 11,
    "start_time": "2022-12-10T11:52:56.788Z"
   },
   {
    "duration": 8,
    "start_time": "2022-12-10T11:52:56.801Z"
   },
   {
    "duration": 3341,
    "start_time": "2022-12-10T11:52:56.811Z"
   },
   {
    "duration": 513,
    "start_time": "2022-12-10T11:53:00.154Z"
   },
   {
    "duration": 14,
    "start_time": "2022-12-10T11:53:00.668Z"
   },
   {
    "duration": 1407,
    "start_time": "2022-12-10T11:53:00.684Z"
   },
   {
    "duration": 45,
    "start_time": "2022-12-10T11:53:02.093Z"
   },
   {
    "duration": 3,
    "start_time": "2022-12-10T11:53:02.140Z"
   },
   {
    "duration": 32,
    "start_time": "2022-12-10T11:53:02.145Z"
   },
   {
    "duration": 53,
    "start_time": "2022-12-10T11:53:02.179Z"
   },
   {
    "duration": 45,
    "start_time": "2022-12-10T11:53:02.234Z"
   },
   {
    "duration": 39,
    "start_time": "2022-12-10T11:53:02.281Z"
   },
   {
    "duration": 23,
    "start_time": "2022-12-10T11:53:02.322Z"
   },
   {
    "duration": 2835,
    "start_time": "2022-12-10T11:53:02.347Z"
   },
   {
    "duration": 4,
    "start_time": "2022-12-10T11:53:05.184Z"
   },
   {
    "duration": 22040,
    "start_time": "2022-12-10T11:53:05.190Z"
   },
   {
    "duration": 1898,
    "start_time": "2022-12-10T11:56:33.859Z"
   },
   {
    "duration": 1443,
    "start_time": "2022-12-10T11:56:35.760Z"
   },
   {
    "duration": 704,
    "start_time": "2022-12-10T11:56:37.205Z"
   },
   {
    "duration": 26,
    "start_time": "2022-12-10T11:56:37.911Z"
   },
   {
    "duration": 50,
    "start_time": "2022-12-10T11:56:37.939Z"
   },
   {
    "duration": 53,
    "start_time": "2022-12-10T11:56:37.991Z"
   },
   {
    "duration": 14,
    "start_time": "2022-12-10T11:56:38.046Z"
   },
   {
    "duration": 57,
    "start_time": "2022-12-10T11:56:38.061Z"
   },
   {
    "duration": 76,
    "start_time": "2022-12-10T11:56:38.120Z"
   },
   {
    "duration": 27,
    "start_time": "2022-12-10T11:56:38.198Z"
   },
   {
    "duration": 28,
    "start_time": "2022-12-10T11:56:38.227Z"
   },
   {
    "duration": 42,
    "start_time": "2022-12-10T11:56:38.257Z"
   },
   {
    "duration": 277,
    "start_time": "2022-12-10T11:56:38.301Z"
   },
   {
    "duration": 30,
    "start_time": "2022-12-10T11:56:38.580Z"
   },
   {
    "duration": 7,
    "start_time": "2022-12-10T11:56:38.612Z"
   },
   {
    "duration": 6,
    "start_time": "2022-12-10T11:56:38.621Z"
   },
   {
    "duration": 5,
    "start_time": "2022-12-10T11:56:38.629Z"
   },
   {
    "duration": 5,
    "start_time": "2022-12-10T11:56:38.635Z"
   },
   {
    "duration": 38,
    "start_time": "2022-12-10T11:56:38.642Z"
   },
   {
    "duration": 14,
    "start_time": "2022-12-10T11:56:38.682Z"
   },
   {
    "duration": 13,
    "start_time": "2022-12-10T11:56:38.698Z"
   },
   {
    "duration": 5,
    "start_time": "2022-12-10T11:56:38.712Z"
   },
   {
    "duration": 3297,
    "start_time": "2022-12-10T11:56:38.719Z"
   },
   {
    "duration": 454,
    "start_time": "2022-12-10T11:56:42.018Z"
   },
   {
    "duration": 7,
    "start_time": "2022-12-10T11:56:42.474Z"
   },
   {
    "duration": 1242,
    "start_time": "2022-12-10T11:56:42.483Z"
   },
   {
    "duration": 35,
    "start_time": "2022-12-10T11:56:43.727Z"
   },
   {
    "duration": 15,
    "start_time": "2022-12-10T11:56:43.765Z"
   },
   {
    "duration": 14,
    "start_time": "2022-12-10T11:56:43.781Z"
   },
   {
    "duration": 8,
    "start_time": "2022-12-10T11:56:43.797Z"
   },
   {
    "duration": 6,
    "start_time": "2022-12-10T11:56:43.807Z"
   },
   {
    "duration": 8,
    "start_time": "2022-12-10T11:56:43.815Z"
   },
   {
    "duration": 6,
    "start_time": "2022-12-10T11:56:43.825Z"
   },
   {
    "duration": 2746,
    "start_time": "2022-12-10T11:56:43.833Z"
   },
   {
    "duration": 3,
    "start_time": "2022-12-10T11:56:46.581Z"
   },
   {
    "duration": 21556,
    "start_time": "2022-12-10T11:56:46.586Z"
   },
   {
    "duration": 1875,
    "start_time": "2022-12-10T12:00:41.726Z"
   },
   {
    "duration": 1570,
    "start_time": "2022-12-10T12:00:43.604Z"
   },
   {
    "duration": 753,
    "start_time": "2022-12-10T12:00:45.178Z"
   },
   {
    "duration": 25,
    "start_time": "2022-12-10T12:00:45.933Z"
   },
   {
    "duration": 28,
    "start_time": "2022-12-10T12:00:45.960Z"
   },
   {
    "duration": 25,
    "start_time": "2022-12-10T12:00:45.990Z"
   },
   {
    "duration": 36,
    "start_time": "2022-12-10T12:00:46.016Z"
   },
   {
    "duration": 80,
    "start_time": "2022-12-10T12:00:46.054Z"
   },
   {
    "duration": 104,
    "start_time": "2022-12-10T12:00:46.136Z"
   },
   {
    "duration": 10,
    "start_time": "2022-12-10T12:00:46.241Z"
   },
   {
    "duration": 13,
    "start_time": "2022-12-10T12:00:46.253Z"
   },
   {
    "duration": 13,
    "start_time": "2022-12-10T12:00:46.267Z"
   },
   {
    "duration": 255,
    "start_time": "2022-12-10T12:00:46.283Z"
   },
   {
    "duration": 41,
    "start_time": "2022-12-10T12:00:46.540Z"
   },
   {
    "duration": 9,
    "start_time": "2022-12-10T12:00:46.583Z"
   },
   {
    "duration": 5,
    "start_time": "2022-12-10T12:00:46.594Z"
   },
   {
    "duration": 5,
    "start_time": "2022-12-10T12:00:46.601Z"
   },
   {
    "duration": 6,
    "start_time": "2022-12-10T12:00:46.608Z"
   },
   {
    "duration": 13,
    "start_time": "2022-12-10T12:00:46.616Z"
   },
   {
    "duration": 12,
    "start_time": "2022-12-10T12:00:46.631Z"
   },
   {
    "duration": 43,
    "start_time": "2022-12-10T12:00:46.644Z"
   },
   {
    "duration": 3,
    "start_time": "2022-12-10T12:00:46.689Z"
   },
   {
    "duration": 3174,
    "start_time": "2022-12-10T12:00:46.694Z"
   },
   {
    "duration": 505,
    "start_time": "2022-12-10T12:00:49.870Z"
   },
   {
    "duration": 7,
    "start_time": "2022-12-10T12:00:50.377Z"
   },
   {
    "duration": 1339,
    "start_time": "2022-12-10T12:00:50.386Z"
   },
   {
    "duration": 34,
    "start_time": "2022-12-10T12:00:51.726Z"
   },
   {
    "duration": 17,
    "start_time": "2022-12-10T12:00:51.762Z"
   },
   {
    "duration": 23,
    "start_time": "2022-12-10T12:00:51.781Z"
   },
   {
    "duration": 15,
    "start_time": "2022-12-10T12:00:51.805Z"
   },
   {
    "duration": 11,
    "start_time": "2022-12-10T12:00:51.822Z"
   },
   {
    "duration": 13,
    "start_time": "2022-12-10T12:00:51.835Z"
   },
   {
    "duration": 13,
    "start_time": "2022-12-10T12:00:51.849Z"
   },
   {
    "duration": 3314,
    "start_time": "2022-12-10T12:00:51.864Z"
   },
   {
    "duration": 5,
    "start_time": "2022-12-10T12:00:55.181Z"
   },
   {
    "duration": 21960,
    "start_time": "2022-12-10T12:00:55.188Z"
   },
   {
    "duration": 3,
    "start_time": "2022-12-10T12:12:53.524Z"
   },
   {
    "duration": 7,
    "start_time": "2022-12-10T12:12:53.528Z"
   },
   {
    "duration": 3091,
    "start_time": "2022-12-10T12:12:53.539Z"
   },
   {
    "duration": 7,
    "start_time": "2022-12-10T12:12:56.632Z"
   },
   {
    "duration": 3,
    "start_time": "2022-12-10T12:12:56.641Z"
   },
   {
    "duration": 1,
    "start_time": "2022-12-10T12:12:56.656Z"
   },
   {
    "duration": 3802,
    "start_time": "2022-12-11T11:47:12.040Z"
   },
   {
    "duration": 1749,
    "start_time": "2022-12-11T11:47:15.845Z"
   },
   {
    "duration": 3195,
    "start_time": "2022-12-11T11:47:17.595Z"
   },
   {
    "duration": 28,
    "start_time": "2022-12-11T11:47:20.791Z"
   },
   {
    "duration": 23,
    "start_time": "2022-12-11T11:47:20.822Z"
   },
   {
    "duration": 29,
    "start_time": "2022-12-11T11:47:20.848Z"
   },
   {
    "duration": 22,
    "start_time": "2022-12-11T11:47:20.880Z"
   },
   {
    "duration": 47,
    "start_time": "2022-12-11T11:47:20.904Z"
   },
   {
    "duration": 33,
    "start_time": "2022-12-11T11:47:20.953Z"
   },
   {
    "duration": 12,
    "start_time": "2022-12-11T11:47:20.988Z"
   },
   {
    "duration": 21,
    "start_time": "2022-12-11T11:47:21.002Z"
   },
   {
    "duration": 26,
    "start_time": "2022-12-11T11:47:21.026Z"
   },
   {
    "duration": 292,
    "start_time": "2022-12-11T11:47:21.055Z"
   },
   {
    "duration": 31,
    "start_time": "2022-12-11T11:47:21.351Z"
   },
   {
    "duration": 9,
    "start_time": "2022-12-11T11:47:21.384Z"
   },
   {
    "duration": 25,
    "start_time": "2022-12-11T11:47:21.395Z"
   },
   {
    "duration": 20,
    "start_time": "2022-12-11T11:47:21.422Z"
   },
   {
    "duration": 46,
    "start_time": "2022-12-11T11:47:21.444Z"
   },
   {
    "duration": 42,
    "start_time": "2022-12-11T11:47:21.493Z"
   },
   {
    "duration": 37,
    "start_time": "2022-12-11T11:47:21.537Z"
   },
   {
    "duration": 25,
    "start_time": "2022-12-11T11:47:21.575Z"
   },
   {
    "duration": 12,
    "start_time": "2022-12-11T11:47:21.602Z"
   },
   {
    "duration": 3980,
    "start_time": "2022-12-11T11:47:21.615Z"
   },
   {
    "duration": 585,
    "start_time": "2022-12-11T11:47:25.597Z"
   },
   {
    "duration": 8,
    "start_time": "2022-12-11T11:47:26.183Z"
   },
   {
    "duration": 1386,
    "start_time": "2022-12-11T11:47:26.193Z"
   },
   {
    "duration": 30,
    "start_time": "2022-12-11T11:47:27.581Z"
   },
   {
    "duration": 4,
    "start_time": "2022-12-11T11:47:27.613Z"
   },
   {
    "duration": 26,
    "start_time": "2022-12-11T11:47:27.618Z"
   },
   {
    "duration": 9,
    "start_time": "2022-12-11T11:47:27.646Z"
   },
   {
    "duration": 15,
    "start_time": "2022-12-11T11:47:27.657Z"
   },
   {
    "duration": 10,
    "start_time": "2022-12-11T11:47:27.674Z"
   },
   {
    "duration": 13,
    "start_time": "2022-12-11T11:47:27.685Z"
   },
   {
    "duration": 2643,
    "start_time": "2022-12-11T11:47:27.699Z"
   },
   {
    "duration": 4,
    "start_time": "2022-12-11T11:47:30.434Z"
   },
   {
    "duration": 26605,
    "start_time": "2022-12-11T11:47:30.440Z"
   },
   {
    "duration": 67,
    "start_time": "2022-12-11T11:47:57.047Z"
   },
   {
    "duration": 0,
    "start_time": "2022-12-11T11:47:57.116Z"
   },
   {
    "duration": 0,
    "start_time": "2022-12-11T11:47:57.118Z"
   },
   {
    "duration": 0,
    "start_time": "2022-12-11T11:47:57.119Z"
   },
   {
    "duration": 0,
    "start_time": "2022-12-11T11:47:57.121Z"
   },
   {
    "duration": 0,
    "start_time": "2022-12-11T11:47:57.122Z"
   },
   {
    "duration": 58,
    "start_time": "2022-12-11T11:48:46.600Z"
   },
   {
    "duration": 9,
    "start_time": "2022-12-11T11:48:57.011Z"
   },
   {
    "duration": 11367,
    "start_time": "2022-12-11T11:49:27.612Z"
   },
   {
    "duration": 2299,
    "start_time": "2022-12-11T11:50:21.781Z"
   },
   {
    "duration": 1667,
    "start_time": "2022-12-11T11:50:24.082Z"
   },
   {
    "duration": 757,
    "start_time": "2022-12-11T11:50:25.751Z"
   },
   {
    "duration": 31,
    "start_time": "2022-12-11T11:50:26.510Z"
   },
   {
    "duration": 19,
    "start_time": "2022-12-11T11:50:26.543Z"
   },
   {
    "duration": 27,
    "start_time": "2022-12-11T11:50:26.564Z"
   },
   {
    "duration": 22,
    "start_time": "2022-12-11T11:50:26.594Z"
   },
   {
    "duration": 26,
    "start_time": "2022-12-11T11:50:26.636Z"
   },
   {
    "duration": 27,
    "start_time": "2022-12-11T11:50:26.664Z"
   },
   {
    "duration": 20,
    "start_time": "2022-12-11T11:50:26.694Z"
   },
   {
    "duration": 37,
    "start_time": "2022-12-11T11:50:26.715Z"
   },
   {
    "duration": 26,
    "start_time": "2022-12-11T11:50:26.754Z"
   },
   {
    "duration": 308,
    "start_time": "2022-12-11T11:50:26.782Z"
   },
   {
    "duration": 30,
    "start_time": "2022-12-11T11:50:27.092Z"
   },
   {
    "duration": 28,
    "start_time": "2022-12-11T11:50:27.123Z"
   },
   {
    "duration": 9,
    "start_time": "2022-12-11T11:50:27.153Z"
   },
   {
    "duration": 11,
    "start_time": "2022-12-11T11:50:27.164Z"
   },
   {
    "duration": 18,
    "start_time": "2022-12-11T11:50:27.177Z"
   },
   {
    "duration": 26,
    "start_time": "2022-12-11T11:50:27.197Z"
   },
   {
    "duration": 24,
    "start_time": "2022-12-11T11:50:27.225Z"
   },
   {
    "duration": 18,
    "start_time": "2022-12-11T11:50:27.251Z"
   },
   {
    "duration": 31,
    "start_time": "2022-12-11T11:50:27.271Z"
   },
   {
    "duration": 3539,
    "start_time": "2022-12-11T11:50:27.303Z"
   },
   {
    "duration": 561,
    "start_time": "2022-12-11T11:50:30.844Z"
   },
   {
    "duration": 9,
    "start_time": "2022-12-11T11:50:31.406Z"
   },
   {
    "duration": 1452,
    "start_time": "2022-12-11T11:50:31.417Z"
   },
   {
    "duration": 37,
    "start_time": "2022-12-11T11:50:32.871Z"
   },
   {
    "duration": 4,
    "start_time": "2022-12-11T11:50:32.911Z"
   },
   {
    "duration": 25,
    "start_time": "2022-12-11T11:50:32.916Z"
   },
   {
    "duration": 24,
    "start_time": "2022-12-11T11:50:32.943Z"
   },
   {
    "duration": 19,
    "start_time": "2022-12-11T11:50:32.969Z"
   },
   {
    "duration": 17,
    "start_time": "2022-12-11T11:50:32.990Z"
   },
   {
    "duration": 15,
    "start_time": "2022-12-11T11:50:33.009Z"
   },
   {
    "duration": 3011,
    "start_time": "2022-12-11T11:50:33.026Z"
   },
   {
    "duration": 8,
    "start_time": "2022-12-11T11:50:36.040Z"
   },
   {
    "duration": 26405,
    "start_time": "2022-12-11T11:50:36.053Z"
   },
   {
    "duration": 7691,
    "start_time": "2022-12-11T11:51:02.460Z"
   },
   {
    "duration": 4,
    "start_time": "2022-12-11T11:51:10.153Z"
   },
   {
    "duration": 20,
    "start_time": "2022-12-11T11:51:10.159Z"
   },
   {
    "duration": 0,
    "start_time": "2022-12-11T11:51:10.181Z"
   },
   {
    "duration": 0,
    "start_time": "2022-12-11T11:51:10.182Z"
   },
   {
    "duration": 0,
    "start_time": "2022-12-11T11:51:10.183Z"
   },
   {
    "duration": 5633,
    "start_time": "2022-12-11T11:51:37.856Z"
   },
   {
    "duration": 18267,
    "start_time": "2022-12-11T11:51:45.223Z"
   },
   {
    "duration": 2342,
    "start_time": "2022-12-11T11:52:35.972Z"
   },
   {
    "duration": 1803,
    "start_time": "2022-12-11T11:52:38.317Z"
   },
   {
    "duration": 726,
    "start_time": "2022-12-11T11:52:40.122Z"
   },
   {
    "duration": 27,
    "start_time": "2022-12-11T11:52:40.850Z"
   },
   {
    "duration": 19,
    "start_time": "2022-12-11T11:52:40.879Z"
   },
   {
    "duration": 44,
    "start_time": "2022-12-11T11:52:40.900Z"
   },
   {
    "duration": 21,
    "start_time": "2022-12-11T11:52:40.946Z"
   },
   {
    "duration": 23,
    "start_time": "2022-12-11T11:52:40.969Z"
   },
   {
    "duration": 23,
    "start_time": "2022-12-11T11:52:40.994Z"
   },
   {
    "duration": 10,
    "start_time": "2022-12-11T11:52:41.037Z"
   },
   {
    "duration": 21,
    "start_time": "2022-12-11T11:52:41.049Z"
   },
   {
    "duration": 15,
    "start_time": "2022-12-11T11:52:41.072Z"
   },
   {
    "duration": 266,
    "start_time": "2022-12-11T11:52:41.089Z"
   },
   {
    "duration": 32,
    "start_time": "2022-12-11T11:52:41.356Z"
   },
   {
    "duration": 8,
    "start_time": "2022-12-11T11:52:41.389Z"
   },
   {
    "duration": 9,
    "start_time": "2022-12-11T11:52:41.398Z"
   },
   {
    "duration": 34,
    "start_time": "2022-12-11T11:52:41.408Z"
   },
   {
    "duration": 9,
    "start_time": "2022-12-11T11:52:41.445Z"
   },
   {
    "duration": 17,
    "start_time": "2022-12-11T11:52:41.456Z"
   },
   {
    "duration": 24,
    "start_time": "2022-12-11T11:52:41.475Z"
   },
   {
    "duration": 20,
    "start_time": "2022-12-11T11:52:41.500Z"
   },
   {
    "duration": 14,
    "start_time": "2022-12-11T11:52:41.522Z"
   },
   {
    "duration": 3642,
    "start_time": "2022-12-11T11:52:41.537Z"
   },
   {
    "duration": 550,
    "start_time": "2022-12-11T11:52:45.181Z"
   },
   {
    "duration": 9,
    "start_time": "2022-12-11T11:52:45.732Z"
   },
   {
    "duration": 1418,
    "start_time": "2022-12-11T11:52:45.743Z"
   },
   {
    "duration": 34,
    "start_time": "2022-12-11T11:52:47.163Z"
   },
   {
    "duration": 3,
    "start_time": "2022-12-11T11:52:47.200Z"
   },
   {
    "duration": 30,
    "start_time": "2022-12-11T11:52:47.205Z"
   },
   {
    "duration": 11,
    "start_time": "2022-12-11T11:52:47.237Z"
   },
   {
    "duration": 11,
    "start_time": "2022-12-11T11:52:47.250Z"
   },
   {
    "duration": 12,
    "start_time": "2022-12-11T11:52:47.263Z"
   },
   {
    "duration": 10,
    "start_time": "2022-12-11T11:52:47.276Z"
   },
   {
    "duration": 2852,
    "start_time": "2022-12-11T11:52:47.287Z"
   },
   {
    "duration": 4,
    "start_time": "2022-12-11T11:52:50.142Z"
   },
   {
    "duration": 25896,
    "start_time": "2022-12-11T11:52:50.148Z"
   },
   {
    "duration": 854204,
    "start_time": "2022-12-11T11:53:16.046Z"
   },
   {
    "duration": 4,
    "start_time": "2022-12-11T12:07:30.252Z"
   },
   {
    "duration": 31,
    "start_time": "2022-12-11T12:07:30.257Z"
   },
   {
    "duration": 3873,
    "start_time": "2022-12-11T12:07:30.290Z"
   },
   {
    "duration": 9,
    "start_time": "2022-12-11T12:07:34.165Z"
   },
   {
    "duration": 14,
    "start_time": "2022-12-11T12:07:34.176Z"
   },
   {
    "duration": 50,
    "start_time": "2022-12-11T12:30:23.571Z"
   },
   {
    "duration": 1763,
    "start_time": "2022-12-11T12:30:29.488Z"
   },
   {
    "duration": 12,
    "start_time": "2022-12-11T12:30:31.560Z"
   },
   {
    "duration": 3536,
    "start_time": "2022-12-11T12:30:41.558Z"
   },
   {
    "duration": 7,
    "start_time": "2022-12-11T12:30:49.588Z"
   },
   {
    "duration": 419,
    "start_time": "2022-12-11T12:30:53.095Z"
   },
   {
    "duration": 1393,
    "start_time": "2022-12-11T12:31:18.783Z"
   },
   {
    "duration": 256,
    "start_time": "2022-12-11T12:31:20.178Z"
   },
   {
    "duration": 26,
    "start_time": "2022-12-11T12:31:20.435Z"
   },
   {
    "duration": 28,
    "start_time": "2022-12-11T12:31:20.463Z"
   },
   {
    "duration": 125,
    "start_time": "2022-12-11T12:31:20.493Z"
   },
   {
    "duration": 0,
    "start_time": "2022-12-11T12:31:20.620Z"
   },
   {
    "duration": 0,
    "start_time": "2022-12-11T12:31:20.621Z"
   },
   {
    "duration": 0,
    "start_time": "2022-12-11T12:31:20.622Z"
   },
   {
    "duration": 0,
    "start_time": "2022-12-11T12:31:20.623Z"
   },
   {
    "duration": 0,
    "start_time": "2022-12-11T12:31:20.625Z"
   },
   {
    "duration": 0,
    "start_time": "2022-12-11T12:31:20.626Z"
   },
   {
    "duration": 0,
    "start_time": "2022-12-11T12:31:20.626Z"
   },
   {
    "duration": 0,
    "start_time": "2022-12-11T12:31:20.628Z"
   },
   {
    "duration": 0,
    "start_time": "2022-12-11T12:31:20.629Z"
   },
   {
    "duration": 0,
    "start_time": "2022-12-11T12:31:20.630Z"
   },
   {
    "duration": 0,
    "start_time": "2022-12-11T12:31:20.631Z"
   },
   {
    "duration": 0,
    "start_time": "2022-12-11T12:31:20.632Z"
   },
   {
    "duration": 0,
    "start_time": "2022-12-11T12:31:20.633Z"
   },
   {
    "duration": 0,
    "start_time": "2022-12-11T12:31:20.634Z"
   },
   {
    "duration": 0,
    "start_time": "2022-12-11T12:31:20.635Z"
   },
   {
    "duration": 0,
    "start_time": "2022-12-11T12:31:20.636Z"
   },
   {
    "duration": 0,
    "start_time": "2022-12-11T12:31:20.637Z"
   },
   {
    "duration": 0,
    "start_time": "2022-12-11T12:31:20.638Z"
   },
   {
    "duration": 0,
    "start_time": "2022-12-11T12:31:20.639Z"
   },
   {
    "duration": 0,
    "start_time": "2022-12-11T12:31:20.640Z"
   },
   {
    "duration": 0,
    "start_time": "2022-12-11T12:31:20.678Z"
   },
   {
    "duration": 0,
    "start_time": "2022-12-11T12:31:20.679Z"
   },
   {
    "duration": 0,
    "start_time": "2022-12-11T12:31:20.680Z"
   },
   {
    "duration": 0,
    "start_time": "2022-12-11T12:31:20.681Z"
   },
   {
    "duration": 0,
    "start_time": "2022-12-11T12:31:20.683Z"
   },
   {
    "duration": 0,
    "start_time": "2022-12-11T12:31:20.684Z"
   },
   {
    "duration": 0,
    "start_time": "2022-12-11T12:31:20.686Z"
   },
   {
    "duration": 0,
    "start_time": "2022-12-11T12:31:20.687Z"
   },
   {
    "duration": 0,
    "start_time": "2022-12-11T12:31:20.689Z"
   },
   {
    "duration": 0,
    "start_time": "2022-12-11T12:31:20.690Z"
   },
   {
    "duration": 0,
    "start_time": "2022-12-11T12:31:20.691Z"
   },
   {
    "duration": 0,
    "start_time": "2022-12-11T12:31:20.693Z"
   },
   {
    "duration": 0,
    "start_time": "2022-12-11T12:31:20.694Z"
   },
   {
    "duration": 0,
    "start_time": "2022-12-11T12:31:20.695Z"
   },
   {
    "duration": 0,
    "start_time": "2022-12-11T12:31:20.697Z"
   },
   {
    "duration": 0,
    "start_time": "2022-12-11T12:31:20.697Z"
   },
   {
    "duration": 0,
    "start_time": "2022-12-11T12:31:20.698Z"
   },
   {
    "duration": 67,
    "start_time": "2022-12-11T13:14:17.958Z"
   },
   {
    "duration": 1519,
    "start_time": "2022-12-11T13:14:30.781Z"
   },
   {
    "duration": 2581,
    "start_time": "2022-12-11T13:14:32.303Z"
   },
   {
    "duration": 31,
    "start_time": "2022-12-11T13:14:34.886Z"
   },
   {
    "duration": 40,
    "start_time": "2022-12-11T13:14:34.919Z"
   },
   {
    "duration": 23,
    "start_time": "2022-12-11T13:14:34.962Z"
   },
   {
    "duration": 13,
    "start_time": "2022-12-11T13:14:34.987Z"
   },
   {
    "duration": 25,
    "start_time": "2022-12-11T13:14:35.002Z"
   },
   {
    "duration": 25,
    "start_time": "2022-12-11T13:14:35.028Z"
   },
   {
    "duration": 34,
    "start_time": "2022-12-11T13:14:35.054Z"
   },
   {
    "duration": 34,
    "start_time": "2022-12-11T13:14:35.090Z"
   },
   {
    "duration": 26,
    "start_time": "2022-12-11T13:14:35.126Z"
   },
   {
    "duration": 311,
    "start_time": "2022-12-11T13:14:35.154Z"
   },
   {
    "duration": 36,
    "start_time": "2022-12-11T13:14:35.467Z"
   },
   {
    "duration": 9,
    "start_time": "2022-12-11T13:14:35.508Z"
   },
   {
    "duration": 5,
    "start_time": "2022-12-11T13:14:35.520Z"
   },
   {
    "duration": 6,
    "start_time": "2022-12-11T13:14:35.527Z"
   },
   {
    "duration": 6,
    "start_time": "2022-12-11T13:14:35.535Z"
   },
   {
    "duration": 12,
    "start_time": "2022-12-11T13:14:35.577Z"
   },
   {
    "duration": 19,
    "start_time": "2022-12-11T13:14:35.592Z"
   },
   {
    "duration": 17,
    "start_time": "2022-12-11T13:14:35.613Z"
   },
   {
    "duration": 4,
    "start_time": "2022-12-11T13:14:35.632Z"
   },
   {
    "duration": 3754,
    "start_time": "2022-12-11T13:14:35.638Z"
   },
   {
    "duration": 573,
    "start_time": "2022-12-11T13:14:39.394Z"
   },
   {
    "duration": 16,
    "start_time": "2022-12-11T13:14:39.969Z"
   },
   {
    "duration": 1432,
    "start_time": "2022-12-11T13:14:39.987Z"
   },
   {
    "duration": 39,
    "start_time": "2022-12-11T13:14:41.421Z"
   },
   {
    "duration": 18,
    "start_time": "2022-12-11T13:14:41.462Z"
   },
   {
    "duration": 9,
    "start_time": "2022-12-11T13:14:41.482Z"
   },
   {
    "duration": 15,
    "start_time": "2022-12-11T13:14:41.492Z"
   },
   {
    "duration": 11,
    "start_time": "2022-12-11T13:14:41.509Z"
   },
   {
    "duration": 6,
    "start_time": "2022-12-11T13:14:41.522Z"
   },
   {
    "duration": 10,
    "start_time": "2022-12-11T13:14:41.530Z"
   },
   {
    "duration": 6,
    "start_time": "2022-12-11T13:14:41.542Z"
   },
   {
    "duration": 2433,
    "start_time": "2022-12-11T13:14:41.550Z"
   },
   {
    "duration": 6,
    "start_time": "2022-12-11T13:14:43.985Z"
   },
   {
    "duration": 18214,
    "start_time": "2022-12-11T13:14:44.077Z"
   },
   {
    "duration": 1525,
    "start_time": "2022-12-11T13:17:19.256Z"
   },
   {
    "duration": 746,
    "start_time": "2022-12-11T13:17:20.784Z"
   },
   {
    "duration": 27,
    "start_time": "2022-12-11T13:17:21.532Z"
   },
   {
    "duration": 33,
    "start_time": "2022-12-11T13:17:21.561Z"
   },
   {
    "duration": 22,
    "start_time": "2022-12-11T13:17:21.595Z"
   },
   {
    "duration": 25,
    "start_time": "2022-12-11T13:17:21.619Z"
   },
   {
    "duration": 32,
    "start_time": "2022-12-11T13:17:21.646Z"
   },
   {
    "duration": 20,
    "start_time": "2022-12-11T13:17:21.680Z"
   },
   {
    "duration": 10,
    "start_time": "2022-12-11T13:17:21.701Z"
   },
   {
    "duration": 16,
    "start_time": "2022-12-11T13:17:21.714Z"
   },
   {
    "duration": 25,
    "start_time": "2022-12-11T13:17:21.732Z"
   },
   {
    "duration": 301,
    "start_time": "2022-12-11T13:17:21.759Z"
   },
   {
    "duration": 39,
    "start_time": "2022-12-11T13:17:22.062Z"
   },
   {
    "duration": 8,
    "start_time": "2022-12-11T13:17:22.103Z"
   },
   {
    "duration": 8,
    "start_time": "2022-12-11T13:17:22.113Z"
   },
   {
    "duration": 6,
    "start_time": "2022-12-11T13:17:22.123Z"
   },
   {
    "duration": 5,
    "start_time": "2022-12-11T13:17:22.131Z"
   },
   {
    "duration": 14,
    "start_time": "2022-12-11T13:17:22.138Z"
   },
   {
    "duration": 13,
    "start_time": "2022-12-11T13:17:22.179Z"
   },
   {
    "duration": 15,
    "start_time": "2022-12-11T13:17:22.194Z"
   },
   {
    "duration": 9,
    "start_time": "2022-12-11T13:17:22.211Z"
   },
   {
    "duration": 3542,
    "start_time": "2022-12-11T13:17:22.222Z"
   },
   {
    "duration": 553,
    "start_time": "2022-12-11T13:17:25.767Z"
   },
   {
    "duration": 8,
    "start_time": "2022-12-11T13:17:26.322Z"
   },
   {
    "duration": 1420,
    "start_time": "2022-12-11T13:17:26.331Z"
   },
   {
    "duration": 43,
    "start_time": "2022-12-11T13:17:27.753Z"
   },
   {
    "duration": 4,
    "start_time": "2022-12-11T13:17:27.797Z"
   },
   {
    "duration": 12,
    "start_time": "2022-12-11T13:17:27.805Z"
   },
   {
    "duration": 10,
    "start_time": "2022-12-11T13:17:27.818Z"
   },
   {
    "duration": 6,
    "start_time": "2022-12-11T13:17:27.830Z"
   },
   {
    "duration": 7,
    "start_time": "2022-12-11T13:17:27.837Z"
   },
   {
    "duration": 14,
    "start_time": "2022-12-11T13:17:27.845Z"
   },
   {
    "duration": 20,
    "start_time": "2022-12-11T13:17:27.861Z"
   },
   {
    "duration": 2899,
    "start_time": "2022-12-11T13:17:27.883Z"
   },
   {
    "duration": 4,
    "start_time": "2022-12-11T13:17:30.784Z"
   },
   {
    "duration": 18644,
    "start_time": "2022-12-11T13:17:30.790Z"
   },
   {
    "duration": 1454,
    "start_time": "2022-12-11T13:19:27.534Z"
   },
   {
    "duration": 699,
    "start_time": "2022-12-11T13:19:28.990Z"
   },
   {
    "duration": 28,
    "start_time": "2022-12-11T13:19:29.691Z"
   },
   {
    "duration": 20,
    "start_time": "2022-12-11T13:19:29.721Z"
   },
   {
    "duration": 41,
    "start_time": "2022-12-11T13:19:29.742Z"
   },
   {
    "duration": 15,
    "start_time": "2022-12-11T13:19:29.785Z"
   },
   {
    "duration": 24,
    "start_time": "2022-12-11T13:19:29.808Z"
   },
   {
    "duration": 18,
    "start_time": "2022-12-11T13:19:29.834Z"
   },
   {
    "duration": 33,
    "start_time": "2022-12-11T13:19:29.853Z"
   },
   {
    "duration": 21,
    "start_time": "2022-12-11T13:19:29.889Z"
   },
   {
    "duration": 15,
    "start_time": "2022-12-11T13:19:29.911Z"
   },
   {
    "duration": 271,
    "start_time": "2022-12-11T13:19:29.927Z"
   },
   {
    "duration": 34,
    "start_time": "2022-12-11T13:19:30.200Z"
   },
   {
    "duration": 8,
    "start_time": "2022-12-11T13:19:30.236Z"
   },
   {
    "duration": 59,
    "start_time": "2022-12-11T13:19:30.247Z"
   },
   {
    "duration": 16,
    "start_time": "2022-12-11T13:19:30.308Z"
   },
   {
    "duration": 9,
    "start_time": "2022-12-11T13:19:30.325Z"
   },
   {
    "duration": 25,
    "start_time": "2022-12-11T13:19:30.335Z"
   },
   {
    "duration": 65,
    "start_time": "2022-12-11T13:19:30.362Z"
   },
   {
    "duration": 27,
    "start_time": "2022-12-11T13:19:30.429Z"
   },
   {
    "duration": 12,
    "start_time": "2022-12-11T13:19:30.458Z"
   },
   {
    "duration": 3645,
    "start_time": "2022-12-11T13:19:30.471Z"
   },
   {
    "duration": 537,
    "start_time": "2022-12-11T13:19:34.118Z"
   },
   {
    "duration": 7,
    "start_time": "2022-12-11T13:19:34.657Z"
   },
   {
    "duration": 1440,
    "start_time": "2022-12-11T13:19:34.666Z"
   },
   {
    "duration": 35,
    "start_time": "2022-12-11T13:19:36.108Z"
   },
   {
    "duration": 4,
    "start_time": "2022-12-11T13:19:36.145Z"
   },
   {
    "duration": 27,
    "start_time": "2022-12-11T13:19:36.152Z"
   },
   {
    "duration": 11,
    "start_time": "2022-12-11T13:19:36.181Z"
   },
   {
    "duration": 6,
    "start_time": "2022-12-11T13:19:36.194Z"
   },
   {
    "duration": 12,
    "start_time": "2022-12-11T13:19:36.201Z"
   },
   {
    "duration": 8,
    "start_time": "2022-12-11T13:19:36.215Z"
   },
   {
    "duration": 6,
    "start_time": "2022-12-11T13:19:36.225Z"
   },
   {
    "duration": 3049,
    "start_time": "2022-12-11T13:19:36.233Z"
   },
   {
    "duration": 3,
    "start_time": "2022-12-11T13:19:39.284Z"
   },
   {
    "duration": 18370,
    "start_time": "2022-12-11T13:19:39.289Z"
   },
   {
    "duration": 1430,
    "start_time": "2022-12-11T13:24:57.210Z"
   },
   {
    "duration": 720,
    "start_time": "2022-12-11T13:24:58.642Z"
   },
   {
    "duration": 31,
    "start_time": "2022-12-11T13:24:59.364Z"
   },
   {
    "duration": 19,
    "start_time": "2022-12-11T13:24:59.397Z"
   },
   {
    "duration": 21,
    "start_time": "2022-12-11T13:24:59.418Z"
   },
   {
    "duration": 16,
    "start_time": "2022-12-11T13:24:59.441Z"
   },
   {
    "duration": 20,
    "start_time": "2022-12-11T13:24:59.478Z"
   },
   {
    "duration": 24,
    "start_time": "2022-12-11T13:24:59.500Z"
   },
   {
    "duration": 10,
    "start_time": "2022-12-11T13:24:59.525Z"
   },
   {
    "duration": 13,
    "start_time": "2022-12-11T13:24:59.537Z"
   },
   {
    "duration": 31,
    "start_time": "2022-12-11T13:24:59.551Z"
   },
   {
    "duration": 258,
    "start_time": "2022-12-11T13:24:59.584Z"
   },
   {
    "duration": 45,
    "start_time": "2022-12-11T13:24:59.844Z"
   },
   {
    "duration": 9,
    "start_time": "2022-12-11T13:24:59.891Z"
   },
   {
    "duration": 6,
    "start_time": "2022-12-11T13:24:59.901Z"
   },
   {
    "duration": 5,
    "start_time": "2022-12-11T13:24:59.909Z"
   },
   {
    "duration": 5,
    "start_time": "2022-12-11T13:24:59.915Z"
   },
   {
    "duration": 10,
    "start_time": "2022-12-11T13:24:59.921Z"
   },
   {
    "duration": 50,
    "start_time": "2022-12-11T13:24:59.933Z"
   },
   {
    "duration": 13,
    "start_time": "2022-12-11T13:24:59.985Z"
   },
   {
    "duration": 8,
    "start_time": "2022-12-11T13:25:00.000Z"
   },
   {
    "duration": 3759,
    "start_time": "2022-12-11T13:25:00.010Z"
   },
   {
    "duration": 575,
    "start_time": "2022-12-11T13:25:03.771Z"
   },
   {
    "duration": 10,
    "start_time": "2022-12-11T13:25:04.348Z"
   },
   {
    "duration": 1384,
    "start_time": "2022-12-11T13:25:04.359Z"
   },
   {
    "duration": 47,
    "start_time": "2022-12-11T13:25:05.746Z"
   },
   {
    "duration": 4,
    "start_time": "2022-12-11T13:25:05.795Z"
   },
   {
    "duration": 7,
    "start_time": "2022-12-11T13:25:05.804Z"
   },
   {
    "duration": 15,
    "start_time": "2022-12-11T13:25:05.813Z"
   },
   {
    "duration": 18,
    "start_time": "2022-12-11T13:25:05.830Z"
   },
   {
    "duration": 10,
    "start_time": "2022-12-11T13:25:05.850Z"
   },
   {
    "duration": 13,
    "start_time": "2022-12-11T13:25:05.862Z"
   },
   {
    "duration": 16,
    "start_time": "2022-12-11T13:25:05.878Z"
   },
   {
    "duration": 2682,
    "start_time": "2022-12-11T13:25:05.896Z"
   },
   {
    "duration": 3,
    "start_time": "2022-12-11T13:25:08.582Z"
   },
   {
    "duration": 12601,
    "start_time": "2022-12-11T13:25:08.587Z"
   },
   {
    "duration": 379206,
    "start_time": "2022-12-11T13:25:21.190Z"
   },
   {
    "duration": 4,
    "start_time": "2022-12-11T13:31:40.398Z"
   },
   {
    "duration": 9,
    "start_time": "2022-12-11T13:31:40.404Z"
   },
   {
    "duration": 3512,
    "start_time": "2022-12-11T13:31:40.415Z"
   },
   {
    "duration": 10,
    "start_time": "2022-12-11T13:31:43.930Z"
   },
   {
    "duration": 6,
    "start_time": "2022-12-11T13:31:43.942Z"
   },
   {
    "duration": 4,
    "start_time": "2022-12-11T13:35:46.057Z"
   }
  ],
  "kernelspec": {
   "display_name": "Python 3 (ipykernel)",
   "language": "python",
   "name": "python3"
  },
  "language_info": {
   "codemirror_mode": {
    "name": "ipython",
    "version": 3
   },
   "file_extension": ".py",
   "mimetype": "text/x-python",
   "name": "python",
   "nbconvert_exporter": "python",
   "pygments_lexer": "ipython3",
   "version": "3.9.12"
  },
  "toc": {
   "base_numbering": 1,
   "nav_menu": {},
   "number_sections": true,
   "sideBar": true,
   "skip_h1_title": true,
   "title_cell": "Содержание",
   "title_sidebar": "Contents",
   "toc_cell": true,
   "toc_position": {},
   "toc_section_display": true,
   "toc_window_display": true
  }
 },
 "nbformat": 4,
 "nbformat_minor": 2
}
